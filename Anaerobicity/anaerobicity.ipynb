{
 "cells": [
  {
   "cell_type": "markdown",
   "id": "prime-satellite",
   "metadata": {},
   "source": [
    "# Test for anaerobicity using different films in 96 Well plates #\n",
    "### Notebook can be used to generate Fig. 4a and Supplementary Fig. S2 ###"
   ]
  },
  {
   "cell_type": "markdown",
   "id": "surprised-graph",
   "metadata": {},
   "source": [
    "### Import necessary modules ###"
   ]
  },
  {
   "cell_type": "code",
   "execution_count": 2,
   "id": "preceding-nature",
   "metadata": {},
   "outputs": [
    {
     "data": {
      "text/html": [
       "        <script type=\"text/javascript\">\n",
       "        window.PlotlyConfig = {MathJaxConfig: 'local'};\n",
       "        if (window.MathJax) {MathJax.Hub.Config({SVG: {font: \"STIX-Web\"}});}\n",
       "        if (typeof require !== 'undefined') {\n",
       "        require.undef(\"plotly\");\n",
       "        requirejs.config({\n",
       "            paths: {\n",
       "                'plotly': ['https://cdn.plot.ly/plotly-latest.min']\n",
       "            }\n",
       "        });\n",
       "        require(['plotly'], function(Plotly) {\n",
       "            window._Plotly = Plotly;\n",
       "        });\n",
       "        }\n",
       "        </script>\n",
       "        "
      ]
     },
     "metadata": {},
     "output_type": "display_data"
    }
   ],
   "source": [
    "import pandas as pd\n",
    "from scipy.stats import linregress, ttest_ind\n",
    "import numpy as np\n",
    "import sys\n",
    "from plotly import tools, subplots, colors\n",
    "import plotly.graph_objs as go\n",
    "import pickle\n",
    "import plotly.io as pio\n",
    "pio.templates.default = \"none\"\n",
    "\n",
    "if 'ipykernel' in sys.modules:\n",
    "    from plotly.offline import init_notebook_mode\n",
    "    from plotly.offline import iplot as plot\n",
    "    from IPython.display import HTML\n",
    "    HTML(\"\"\"\n",
    "         <script>\n",
    "          var waitForPlotly = setInterval( function() {\n",
    "          if( typeof(window.Plotly) !== \"undefined\" ){\n",
    "          MathJax.Hub.Config({ SVG: { font: \"STIX-Web\" }, displayAlign: \"center\" });\n",
    "          MathJax.Hub.Queue([\"setRenderer\", MathJax.Hub, \"SVG\"]);\n",
    "          clearInterval(waitForPlotly);}}, 250 );\n",
    "        </script>\n",
    "        \"\"\"\n",
    "    )\n",
    "    init_notebook_mode(connected=True)\n"
   ]
  },
  {
   "cell_type": "markdown",
   "id": "greenhouse-talent",
   "metadata": {},
   "source": [
    "### Load file with processed biomass yield (ratio of final to initial biomass) data ###"
   ]
  },
  {
   "cell_type": "code",
   "execution_count": 3,
   "id": "european-replica",
   "metadata": {},
   "outputs": [],
   "source": [
    "file = pd.ExcelFile('film_test_processed_data.xlsx')\n",
    "df_dict = {}\n",
    "\n",
    "for sheet in file.sheet_names:\n",
    "    df_dict[sheet] = file.parse(sheet, index_col=0)\n",
    "    \n",
    "colorscale = [[0, '#2164AF'],[0.5, '#EAEAEA'], [1, '#D9482A']]"
   ]
  },
  {
   "cell_type": "markdown",
   "id": "similar-monaco",
   "metadata": {},
   "source": [
    "### Make violin plots with cell yield data for each well ###"
   ]
  },
  {
   "cell_type": "code",
   "execution_count": 6,
   "id": "institutional-knife",
   "metadata": {},
   "outputs": [
    {
     "data": {
      "application/vnd.plotly.v1+json": {
       "config": {
        "linkText": "Export to plot.ly",
        "plotlyServerURL": "https://plot.ly",
        "showLink": false
       },
       "data": [
        {
         "box": {
          "visible": true
         },
         "fillcolor": "#B4DCB4",
         "line": {
          "color": "black",
          "width": 0.45
         },
         "marker": {
          "color": "black",
          "size": 5
         },
         "meanline": {
          "visible": false
         },
         "name": "Mineral Oil",
         "opacity": 1,
         "showlegend": false,
         "type": "violin",
         "x": [
          18.5,
          18.7,
          18.4,
          19,
          19,
          18.7,
          19.1,
          17.7,
          18.5,
          18.9,
          18.5,
          18.7,
          18.3,
          18.5,
          18.5,
          18.7,
          18.8,
          18.6,
          18.3,
          18.8,
          18.4,
          18.5,
          18.7,
          18.6,
          18,
          18.2,
          18.8,
          18.6,
          19,
          18.6,
          18.6,
          18.5,
          18.5,
          18.4,
          18.4,
          18.4,
          18.2,
          18.2,
          18.6,
          18.6,
          19.1,
          18.7,
          19,
          18.4,
          18.5,
          18.4,
          18.6,
          18.4,
          18.4,
          18.5,
          18.5,
          18.9,
          19,
          18.9,
          19.1,
          19.2,
          18.5,
          18.5,
          18.4,
          18.4,
          18.5,
          18.5,
          18.8,
          18.9,
          18.7,
          19,
          18.4,
          18.7,
          18.7,
          18.5,
          18.6,
          18.3,
          18.5,
          18.8,
          18.7,
          18.9,
          19.1,
          18.5,
          19.1,
          19.1,
          18.4,
          18.4,
          19,
          18.4,
          18.5,
          18,
          18.3,
          18.3,
          18.6,
          19.1,
          18.9,
          18.5,
          18.5,
          null,
          null,
          null
         ]
        },
        {
         "box": {
          "visible": true
         },
         "fillcolor": "#B4DCB4",
         "line": {
          "color": "black",
          "width": 0.45
         },
         "marker": {
          "color": "black",
          "size": 5
         },
         "meanline": {
          "visible": false
         },
         "name": "Plastic Pcr Film",
         "opacity": 1,
         "showlegend": false,
         "type": "violin",
         "x": [
          17.5,
          17.5,
          17.5,
          17.5,
          17.3,
          17.4,
          17.2,
          17.3,
          17.3,
          17.3,
          17.3,
          17.4,
          18,
          18,
          18,
          18,
          17.9,
          17.8,
          17.8,
          17.6,
          17.7,
          17.8,
          17.7,
          17.5,
          18.4,
          18.3,
          17.9,
          18.2,
          18.3,
          18.1,
          18.2,
          18.2,
          18.2,
          18,
          17.9,
          17.7,
          18,
          18.3,
          18.3,
          18.5,
          18.4,
          18.3,
          18.4,
          18.3,
          18.2,
          18.3,
          18.1,
          17.9,
          18.7,
          18.8,
          18.7,
          18.7,
          18.7,
          18.8,
          18.9,
          18.7,
          19.1,
          18.7,
          18.3,
          18.5,
          19.1,
          19.1,
          19.1,
          18.7,
          19.1,
          19.5,
          19.6,
          19.1,
          18.9,
          18.7,
          18.7,
          18.9,
          19.9,
          19.5,
          19.5,
          19.4,
          19.6,
          19.8,
          19,
          19.6,
          18.6,
          18.7,
          18.6,
          18.9,
          19.5,
          19.6,
          19.4,
          19.5,
          19.1,
          19.8,
          19.4,
          19.6,
          19.1,
          null,
          null,
          null
         ]
        },
        {
         "box": {
          "visible": true
         },
         "fillcolor": "#B4DCB4",
         "line": {
          "color": "black",
          "width": 0.45
         },
         "marker": {
          "color": "black",
          "size": 5
         },
         "meanline": {
          "visible": false
         },
         "name": "Aluminium Pcr Film",
         "opacity": 1,
         "showlegend": false,
         "type": "violin",
         "x": [
          17.2,
          17.3,
          17.2,
          17.4,
          17.2,
          17.2,
          17.1,
          17,
          17.1,
          17,
          17.2,
          16.7,
          17.8,
          17.6,
          17.5,
          17.6,
          17.6,
          17.5,
          17.4,
          17.3,
          17.3,
          17.3,
          17.4,
          17.3,
          18.4,
          17.9,
          17.6,
          17.7,
          17.8,
          17.7,
          17.7,
          17.7,
          17.8,
          17.7,
          18,
          18.2,
          18.4,
          17.9,
          17.8,
          17.8,
          17.7,
          17.8,
          17.9,
          17.8,
          17.9,
          18,
          19.2,
          17.8,
          18.9,
          18.4,
          18.4,
          18.4,
          18.3,
          18.2,
          18.3,
          18.4,
          19.1,
          18.5,
          20.1,
          18.8,
          21.8,
          18.5,
          19.1,
          19.4,
          18.9,
          18.7,
          20.6,
          20.8,
          20.6,
          18.5,
          18.6,
          17.9,
          19.1,
          19.3,
          22.1,
          21.4,
          22.4,
          21.2,
          21.4,
          21.8,
          19.3,
          18.3,
          21.3,
          18,
          22,
          19.6,
          19.9,
          18.8,
          20.2,
          18.8,
          18.6,
          18.8,
          18.5,
          null,
          null,
          null
         ]
        },
        {
         "box": {
          "visible": true
         },
         "fillcolor": "#B4DCB4",
         "line": {
          "color": "black",
          "width": 0.45
         },
         "marker": {
          "color": "black",
          "size": 5
         },
         "meanline": {
          "visible": false
         },
         "name": "Anaerobic Tape",
         "opacity": 1,
         "showlegend": false,
         "type": "violin",
         "x": [
          19.8,
          19.1,
          18.7,
          18.5,
          18.4,
          18.3,
          18.3,
          18.2,
          18.3,
          18.2,
          18.3,
          18.4,
          20.2,
          19.7,
          19.1,
          18.5,
          18.4,
          18.3,
          18.1,
          18.1,
          18.2,
          18.5,
          19,
          18.4,
          20.9,
          19.9,
          19,
          18.9,
          18.8,
          18.5,
          18.4,
          18.4,
          18.4,
          18.5,
          18.6,
          18.3,
          20.3,
          20.4,
          19.6,
          19.4,
          19.1,
          18.8,
          18.8,
          18.5,
          18.4,
          18.5,
          18.6,
          18.5,
          21.3,
          21,
          20.3,
          20,
          19.5,
          19.2,
          19.1,
          19.2,
          18.9,
          19.6,
          18.7,
          18.2,
          21.6,
          21.3,
          20.9,
          19.9,
          19.7,
          19.4,
          19.3,
          19.1,
          18.9,
          18.9,
          19,
          19.2,
          23.8,
          22.3,
          22,
          21.7,
          20.8,
          20.9,
          20.8,
          20.2,
          19.8,
          19.7,
          19.9,
          21.8,
          22.8,
          21.8,
          22,
          21.9,
          21.4,
          21.9,
          21.2,
          21.2,
          21,
          null,
          null,
          null
         ]
        },
        {
         "box": {
          "visible": true
         },
         "fillcolor": "#B4DCB4",
         "line": {
          "color": "black",
          "width": 0.45
         },
         "marker": {
          "color": "black",
          "size": 5
         },
         "meanline": {
          "visible": false
         },
         "name": "Gas Permeable Film",
         "opacity": 1,
         "showlegend": false,
         "type": "violin",
         "x": [
          18.1,
          18.3,
          18.2,
          18.2,
          18.2,
          18,
          18,
          18,
          18.1,
          18.3,
          18.4,
          18.1,
          19,
          19.2,
          18.8,
          19.2,
          19.2,
          18.7,
          18.3,
          18.5,
          18.8,
          19,
          18.8,
          18.2,
          19.5,
          19.2,
          20.2,
          19.9,
          19.7,
          21.9,
          19.3,
          18.9,
          19.2,
          19.6,
          18.9,
          18.4,
          19.5,
          19.6,
          20.7,
          20.7,
          20.6,
          20.5,
          20.2,
          20.2,
          19.1,
          19.5,
          19.2,
          18.6,
          20,
          20,
          21.4,
          21.5,
          21.7,
          21.4,
          21.1,
          21.1,
          19.3,
          20,
          19.6,
          19,
          20.4,
          20.5,
          22.2,
          22.3,
          22,
          21.9,
          21.5,
          20.2,
          19.5,
          19.9,
          19.8,
          19.3,
          21.5,
          21.2,
          23,
          23.3,
          22.9,
          22.6,
          23,
          20,
          20.3,
          20.5,
          20.4,
          19.5,
          20.8,
          21.1,
          25.5,
          20.2,
          20.5,
          20.3,
          20.3,
          20.6,
          20.4,
          null,
          null,
          null
         ]
        }
       ],
       "layout": {
        "height": 450,
        "showlegend": false,
        "template": {
         "data": {
          "scatter": [
           {
            "type": "scatter"
           }
          ]
         }
        },
        "width": 425,
        "xaxis": {
         "linecolor": "black",
         "linewidth": 1,
         "mirror": true,
         "nticks": 10,
         "range": [
          16,
          28
         ],
         "showgrid": true,
         "showline": true,
         "side": "bottom",
         "tickangle": 0,
         "tickcolor": "black",
         "tickfont": {
          "color": "black",
          "family": "Arial",
          "size": 13
         },
         "ticklen": 4,
         "ticks": "outside",
         "title": {
          "text": "Biomass Yield (Ratio of Final Biomass to Initial Biomass)"
         }
        },
        "yaxis": {
         "linecolor": "black",
         "linewidth": 1,
         "mirror": false,
         "showgrid": true,
         "showline": true,
         "tickangle": 0,
         "tickcolor": "black",
         "tickfont": {
          "color": "black",
          "family": "Arial",
          "size": 13
         },
         "ticklen": 4,
         "ticks": "outside",
         "title": {
          "font": {
           "color": "black",
           "family": "Arial",
           "size": 16
          },
          "standoff": 0
         }
        }
       }
      },
      "text/html": [
       "<div>                            <div id=\"a002cb72-e65a-4398-a478-5355c11d472a\" class=\"plotly-graph-div\" style=\"height:450px; width:425px;\"></div>            <script type=\"text/javascript\">                require([\"plotly\"], function(Plotly) {                    window.PLOTLYENV=window.PLOTLYENV || {};                                    if (document.getElementById(\"a002cb72-e65a-4398-a478-5355c11d472a\")) {                    Plotly.newPlot(                        \"a002cb72-e65a-4398-a478-5355c11d472a\",                        [{\"box\": {\"visible\": true}, \"fillcolor\": \"#B4DCB4\", \"line\": {\"color\": \"black\", \"width\": 0.45}, \"marker\": {\"color\": \"black\", \"size\": 5}, \"meanline\": {\"visible\": false}, \"name\": \"Mineral Oil\", \"opacity\": 1, \"showlegend\": false, \"type\": \"violin\", \"x\": [18.5, 18.7, 18.4, 19.0, 19.0, 18.7, 19.1, 17.7, 18.5, 18.9, 18.5, 18.7, 18.3, 18.5, 18.5, 18.7, 18.8, 18.6, 18.3, 18.8, 18.4, 18.5, 18.7, 18.6, 18.0, 18.2, 18.8, 18.6, 19.0, 18.6, 18.6, 18.5, 18.5, 18.4, 18.4, 18.4, 18.2, 18.2, 18.6, 18.6, 19.1, 18.7, 19.0, 18.4, 18.5, 18.4, 18.6, 18.4, 18.4, 18.5, 18.5, 18.9, 19.0, 18.9, 19.1, 19.2, 18.5, 18.5, 18.4, 18.4, 18.5, 18.5, 18.8, 18.9, 18.7, 19.0, 18.4, 18.7, 18.7, 18.5, 18.6, 18.3, 18.5, 18.8, 18.7, 18.9, 19.1, 18.5, 19.1, 19.1, 18.4, 18.4, 19.0, 18.4, 18.5, 18.0, 18.3, 18.3, 18.6, 19.1, 18.9, 18.5, 18.5, null, null, null]}, {\"box\": {\"visible\": true}, \"fillcolor\": \"#B4DCB4\", \"line\": {\"color\": \"black\", \"width\": 0.45}, \"marker\": {\"color\": \"black\", \"size\": 5}, \"meanline\": {\"visible\": false}, \"name\": \"Plastic Pcr Film\", \"opacity\": 1, \"showlegend\": false, \"type\": \"violin\", \"x\": [17.5, 17.5, 17.5, 17.5, 17.3, 17.4, 17.2, 17.3, 17.3, 17.3, 17.3, 17.4, 18.0, 18.0, 18.0, 18.0, 17.9, 17.8, 17.8, 17.6, 17.7, 17.8, 17.7, 17.5, 18.4, 18.3, 17.9, 18.2, 18.3, 18.1, 18.2, 18.2, 18.2, 18.0, 17.9, 17.7, 18.0, 18.3, 18.3, 18.5, 18.4, 18.3, 18.4, 18.3, 18.2, 18.3, 18.1, 17.9, 18.7, 18.8, 18.7, 18.7, 18.7, 18.8, 18.9, 18.7, 19.1, 18.7, 18.3, 18.5, 19.1, 19.1, 19.1, 18.7, 19.1, 19.5, 19.6, 19.1, 18.9, 18.7, 18.7, 18.9, 19.9, 19.5, 19.5, 19.4, 19.6, 19.8, 19.0, 19.6, 18.6, 18.7, 18.6, 18.9, 19.5, 19.6, 19.4, 19.5, 19.1, 19.8, 19.4, 19.6, 19.1, null, null, null]}, {\"box\": {\"visible\": true}, \"fillcolor\": \"#B4DCB4\", \"line\": {\"color\": \"black\", \"width\": 0.45}, \"marker\": {\"color\": \"black\", \"size\": 5}, \"meanline\": {\"visible\": false}, \"name\": \"Aluminium Pcr Film\", \"opacity\": 1, \"showlegend\": false, \"type\": \"violin\", \"x\": [17.2, 17.3, 17.2, 17.4, 17.2, 17.2, 17.1, 17.0, 17.1, 17.0, 17.2, 16.7, 17.8, 17.6, 17.5, 17.6, 17.6, 17.5, 17.4, 17.3, 17.3, 17.3, 17.4, 17.3, 18.4, 17.9, 17.6, 17.7, 17.8, 17.7, 17.7, 17.7, 17.8, 17.7, 18.0, 18.2, 18.4, 17.9, 17.8, 17.8, 17.7, 17.8, 17.9, 17.8, 17.9, 18.0, 19.2, 17.8, 18.9, 18.4, 18.4, 18.4, 18.3, 18.2, 18.3, 18.4, 19.1, 18.5, 20.1, 18.8, 21.8, 18.5, 19.1, 19.4, 18.9, 18.7, 20.6, 20.8, 20.6, 18.5, 18.6, 17.9, 19.1, 19.3, 22.1, 21.4, 22.4, 21.2, 21.4, 21.8, 19.3, 18.3, 21.3, 18.0, 22.0, 19.6, 19.9, 18.8, 20.2, 18.8, 18.6, 18.8, 18.5, null, null, null]}, {\"box\": {\"visible\": true}, \"fillcolor\": \"#B4DCB4\", \"line\": {\"color\": \"black\", \"width\": 0.45}, \"marker\": {\"color\": \"black\", \"size\": 5}, \"meanline\": {\"visible\": false}, \"name\": \"Anaerobic Tape\", \"opacity\": 1, \"showlegend\": false, \"type\": \"violin\", \"x\": [19.8, 19.1, 18.7, 18.5, 18.4, 18.3, 18.3, 18.2, 18.3, 18.2, 18.3, 18.4, 20.2, 19.7, 19.1, 18.5, 18.4, 18.3, 18.1, 18.1, 18.2, 18.5, 19.0, 18.4, 20.9, 19.9, 19.0, 18.9, 18.8, 18.5, 18.4, 18.4, 18.4, 18.5, 18.6, 18.3, 20.3, 20.4, 19.6, 19.4, 19.1, 18.8, 18.8, 18.5, 18.4, 18.5, 18.6, 18.5, 21.3, 21.0, 20.3, 20.0, 19.5, 19.2, 19.1, 19.2, 18.9, 19.6, 18.7, 18.2, 21.6, 21.3, 20.9, 19.9, 19.7, 19.4, 19.3, 19.1, 18.9, 18.9, 19.0, 19.2, 23.8, 22.3, 22.0, 21.7, 20.8, 20.9, 20.8, 20.2, 19.8, 19.7, 19.9, 21.8, 22.8, 21.8, 22.0, 21.9, 21.4, 21.9, 21.2, 21.2, 21.0, null, null, null]}, {\"box\": {\"visible\": true}, \"fillcolor\": \"#B4DCB4\", \"line\": {\"color\": \"black\", \"width\": 0.45}, \"marker\": {\"color\": \"black\", \"size\": 5}, \"meanline\": {\"visible\": false}, \"name\": \"Gas Permeable Film\", \"opacity\": 1, \"showlegend\": false, \"type\": \"violin\", \"x\": [18.1, 18.3, 18.2, 18.2, 18.2, 18.0, 18.0, 18.0, 18.1, 18.3, 18.4, 18.1, 19.0, 19.2, 18.8, 19.2, 19.2, 18.7, 18.3, 18.5, 18.8, 19.0, 18.8, 18.2, 19.5, 19.2, 20.2, 19.9, 19.7, 21.9, 19.3, 18.9, 19.2, 19.6, 18.9, 18.4, 19.5, 19.6, 20.7, 20.7, 20.6, 20.5, 20.2, 20.2, 19.1, 19.5, 19.2, 18.6, 20.0, 20.0, 21.4, 21.5, 21.7, 21.4, 21.1, 21.1, 19.3, 20.0, 19.6, 19.0, 20.4, 20.5, 22.2, 22.3, 22.0, 21.9, 21.5, 20.2, 19.5, 19.9, 19.8, 19.3, 21.5, 21.2, 23.0, 23.3, 22.9, 22.6, 23.0, 20.0, 20.3, 20.5, 20.4, 19.5, 20.8, 21.1, 25.5, 20.2, 20.5, 20.3, 20.3, 20.6, 20.4, null, null, null]}],                        {\"height\": 450, \"showlegend\": false, \"template\": {\"data\": {\"scatter\": [{\"type\": \"scatter\"}]}}, \"width\": 425, \"xaxis\": {\"linecolor\": \"black\", \"linewidth\": 1, \"mirror\": true, \"nticks\": 10, \"range\": [16, 28], \"showgrid\": true, \"showline\": true, \"side\": \"bottom\", \"tickangle\": 0, \"tickcolor\": \"black\", \"tickfont\": {\"color\": \"black\", \"family\": \"Arial\", \"size\": 13}, \"ticklen\": 4, \"ticks\": \"outside\", \"title\": {\"text\": \"Biomass Yield (Ratio of Final Biomass to Initial Biomass)\"}}, \"yaxis\": {\"linecolor\": \"black\", \"linewidth\": 1, \"mirror\": false, \"showgrid\": true, \"showline\": true, \"tickangle\": 0, \"tickcolor\": \"black\", \"tickfont\": {\"color\": \"black\", \"family\": \"Arial\", \"size\": 13}, \"ticklen\": 4, \"ticks\": \"outside\", \"title\": {\"font\": {\"color\": \"black\", \"family\": \"Arial\", \"size\": 16}, \"standoff\": 0}}},                        {\"responsive\": true}                    ).then(function(){\n",
       "                            \n",
       "var gd = document.getElementById('a002cb72-e65a-4398-a478-5355c11d472a');\n",
       "var x = new MutationObserver(function (mutations, observer) {{\n",
       "        var display = window.getComputedStyle(gd).display;\n",
       "        if (!display || display === 'none') {{\n",
       "            console.log([gd, 'removed!']);\n",
       "            Plotly.purge(gd);\n",
       "            observer.disconnect();\n",
       "        }}\n",
       "}});\n",
       "\n",
       "// Listen for the removal of the full notebook cells\n",
       "var notebookContainer = gd.closest('#notebook-container');\n",
       "if (notebookContainer) {{\n",
       "    x.observe(notebookContainer, {childList: true});\n",
       "}}\n",
       "\n",
       "// Listen for the clearing of the current output cell\n",
       "var outputEl = gd.closest('.output');\n",
       "if (outputEl) {{\n",
       "    x.observe(outputEl, {childList: true});\n",
       "}}\n",
       "\n",
       "                        })                };                });            </script>        </div>"
      ]
     },
     "metadata": {},
     "output_type": "display_data"
    }
   ],
   "source": [
    "fig = go.Figure()\n",
    "trace_list = []\n",
    "\n",
    "for film in list(reversed(list(df_dict.keys()))):\n",
    "    if film not in ['breathe_easy_aerobic']:\n",
    "        trace_list.append(go.Violin(x=df_dict[film].values.flatten(),box_visible=True,\n",
    "                                meanline_visible=False, name=film.title(), opacity=1,\n",
    "                                line_color='black', fillcolor='#B4DCB4',\n",
    "                                marker_color='black', marker_size=5,line_width=0.45, \n",
    "                                showlegend=False))\n",
    "\n",
    "    \n",
    "    \n",
    "layout = go.Layout(height=450, width=425, showlegend=False,\n",
    "                   \n",
    "                   xaxis=dict(title='Biomass Yield (Ratio of Final Biomass to Initial Biomass)',showline=True, linewidth=1, linecolor='black', mirror=True, \n",
    "                              ticks='outside', ticklen=4, tickangle=0, tickcolor='black',\n",
    "                              tickfont=dict(size=13, family='Arial', color='black'),\n",
    "                              side='bottom', showgrid=True,nticks=10,range=(16,28)),\n",
    "                           \n",
    "                   yaxis=dict(\n",
    "                              title_standoff=0, titlefont=dict(family='Arial', size=16, color='black'),\n",
    "                              showline=True, linewidth=1, linecolor='black',mirror=False,\n",
    "                              ticks='outside', ticklen=4, tickangle=0, tickcolor='black', \n",
    "                              tickfont=dict(family='Arial',size=13, color='black'),\n",
    "                              showgrid=True))\n",
    "\n",
    "\n",
    "fig = go.Figure(data=trace_list,layout=layout)\n",
    "plot(fig)\n",
    "#pio.write_image(fig,\"Figures/fig_3_film_violin.svg\",format='svg')\n"
   ]
  },
  {
   "cell_type": "markdown",
   "id": "global-farmer",
   "metadata": {},
   "source": [
    "### Make heatmaps cell yield data for each well ###"
   ]
  },
  {
   "cell_type": "code",
   "execution_count": 7,
   "id": "little-interest",
   "metadata": {
    "scrolled": false
   },
   "outputs": [
    {
     "data": {
      "application/vnd.plotly.v1+json": {
       "config": {
        "plotlyServerURL": "https://plot.ly"
       },
       "data": [
        {
         "colorbar": {
          "dtick": 0.5,
          "len": 1.5,
          "outlinecolor": "black",
          "outlinewidth": 0.25,
          "thickness": 15,
          "tickcolor": "black",
          "ticks": "outside"
         },
         "colorscale": [
          [
           0,
           "#2164AF"
          ],
          [
           0.5,
           "#EAEAEA"
          ],
          [
           1,
           "#D9482A"
          ]
         ],
         "hoverongaps": false,
         "showscale": true,
         "type": "heatmap",
         "x": [
          1,
          2,
          3,
          4,
          5,
          6,
          7,
          8,
          9,
          10,
          11,
          12
         ],
         "y": [
          "H",
          "G",
          "F",
          "E",
          "D",
          "C",
          "B",
          "A"
         ],
         "z": [
          [
           0.9000000000000021,
           1.2000000000000028,
           5.600000000000001,
           0.3000000000000007,
           0.6000000000000014,
           0.40000000000000213,
           0.40000000000000213,
           0.7000000000000028,
           0.5,
           null,
           null,
           null
          ],
          [
           1.6000000000000014,
           1.3000000000000007,
           3.1000000000000014,
           3.400000000000002,
           3,
           2.700000000000003,
           3.1000000000000014,
           0.10000000000000142,
           0.40000000000000213,
           0.6000000000000014,
           0.5,
           -0.3999999999999986
          ],
          [
           0.5,
           0.6000000000000014,
           2.3000000000000007,
           2.400000000000002,
           2.1000000000000014,
           2,
           1.6000000000000014,
           0.3000000000000007,
           -0.3999999999999986,
           0,
           -0.09999999999999787,
           -0.5999999999999979
          ],
          [
           0.10000000000000142,
           0.10000000000000142,
           1.5,
           1.6000000000000014,
           1.8000000000000007,
           1.5,
           1.2000000000000028,
           1.2000000000000028,
           -0.5999999999999979,
           0.10000000000000142,
           -0.29999999999999716,
           -0.8999999999999986
          ],
          [
           -0.3999999999999986,
           -0.29999999999999716,
           0.8000000000000007,
           0.8000000000000007,
           0.7000000000000028,
           0.6000000000000014,
           0.3000000000000007,
           0.3000000000000007,
           -0.7999999999999972,
           -0.3999999999999986,
           -0.6999999999999993,
           -1.2999999999999972
          ],
          [
           -0.3999999999999986,
           -0.6999999999999993,
           0.3000000000000007,
           0,
           -0.1999999999999993,
           2,
           -0.5999999999999979,
           -1,
           -0.6999999999999993,
           -0.29999999999999716,
           -1,
           -1.5
          ],
          [
           -0.8999999999999986,
           -0.6999999999999993,
           -1.0999999999999979,
           -0.6999999999999993,
           -0.6999999999999993,
           -1.1999999999999993,
           -1.5999999999999979,
           -1.3999999999999986,
           -1.0999999999999979,
           -0.8999999999999986,
           -1.0999999999999979,
           -1.6999999999999993
          ],
          [
           -1.7999999999999972,
           -1.5999999999999979,
           -1.6999999999999993,
           -1.6999999999999993,
           -1.6999999999999993,
           -1.8999999999999986,
           -1.8999999999999986,
           -1.8999999999999986,
           -1.7999999999999972,
           -1.5999999999999979,
           -1.5,
           -1.7999999999999972
          ]
         ],
         "zmax": 1.5,
         "zmin": -1.5
        }
       ],
       "layout": {
        "height": 310,
        "showlegend": false,
        "template": {
         "data": {
          "scatter": [
           {
            "type": "scatter"
           }
          ]
         }
        },
        "title": {
         "text": "Gas Permeable Film"
        },
        "width": 355,
        "xaxis": {
         "linecolor": "black",
         "linewidth": 1,
         "mirror": true,
         "showgrid": false,
         "showline": true,
         "side": "bottom",
         "tickangle": 0,
         "tickcolor": "black",
         "tickfont": {
          "color": "black",
          "family": "Arial",
          "size": 13
         },
         "ticklen": 4,
         "ticks": ""
        },
        "yaxis": {
         "linecolor": "black",
         "linewidth": 1,
         "mirror": true,
         "nticks": 0,
         "showgrid": false,
         "showline": true,
         "tickangle": 0,
         "tickcolor": "black",
         "tickfont": {
          "color": "black",
          "family": "Arial",
          "size": 13
         },
         "ticklen": 4,
         "ticks": "",
         "title": {
          "font": {
           "color": "black",
           "family": "Arial",
           "size": 16
          },
          "standoff": 0
         }
        }
       }
      },
      "text/html": [
       "<div>                            <div id=\"035615eb-3eba-4073-b64b-f981ba249d09\" class=\"plotly-graph-div\" style=\"height:310px; width:355px;\"></div>            <script type=\"text/javascript\">                require([\"plotly\"], function(Plotly) {                    window.PLOTLYENV=window.PLOTLYENV || {};                                    if (document.getElementById(\"035615eb-3eba-4073-b64b-f981ba249d09\")) {                    Plotly.newPlot(                        \"035615eb-3eba-4073-b64b-f981ba249d09\",                        [{\"colorbar\": {\"dtick\": 0.5, \"len\": 1.5, \"outlinecolor\": \"black\", \"outlinewidth\": 0.25, \"thickness\": 15, \"tickcolor\": \"black\", \"ticks\": \"outside\"}, \"colorscale\": [[0, \"#2164AF\"], [0.5, \"#EAEAEA\"], [1, \"#D9482A\"]], \"hoverongaps\": false, \"showscale\": true, \"type\": \"heatmap\", \"x\": [1, 2, 3, 4, 5, 6, 7, 8, 9, 10, 11, 12], \"y\": [\"H\", \"G\", \"F\", \"E\", \"D\", \"C\", \"B\", \"A\"], \"z\": [[0.9000000000000021, 1.2000000000000028, 5.600000000000001, 0.3000000000000007, 0.6000000000000014, 0.40000000000000213, 0.40000000000000213, 0.7000000000000028, 0.5, null, null, null], [1.6000000000000014, 1.3000000000000007, 3.1000000000000014, 3.400000000000002, 3.0, 2.700000000000003, 3.1000000000000014, 0.10000000000000142, 0.40000000000000213, 0.6000000000000014, 0.5, -0.3999999999999986], [0.5, 0.6000000000000014, 2.3000000000000007, 2.400000000000002, 2.1000000000000014, 2.0, 1.6000000000000014, 0.3000000000000007, -0.3999999999999986, 0.0, -0.09999999999999787, -0.5999999999999979], [0.10000000000000142, 0.10000000000000142, 1.5, 1.6000000000000014, 1.8000000000000007, 1.5, 1.2000000000000028, 1.2000000000000028, -0.5999999999999979, 0.10000000000000142, -0.29999999999999716, -0.8999999999999986], [-0.3999999999999986, -0.29999999999999716, 0.8000000000000007, 0.8000000000000007, 0.7000000000000028, 0.6000000000000014, 0.3000000000000007, 0.3000000000000007, -0.7999999999999972, -0.3999999999999986, -0.6999999999999993, -1.2999999999999972], [-0.3999999999999986, -0.6999999999999993, 0.3000000000000007, 0.0, -0.1999999999999993, 2.0, -0.5999999999999979, -1.0, -0.6999999999999993, -0.29999999999999716, -1.0, -1.5], [-0.8999999999999986, -0.6999999999999993, -1.0999999999999979, -0.6999999999999993, -0.6999999999999993, -1.1999999999999993, -1.5999999999999979, -1.3999999999999986, -1.0999999999999979, -0.8999999999999986, -1.0999999999999979, -1.6999999999999993], [-1.7999999999999972, -1.5999999999999979, -1.6999999999999993, -1.6999999999999993, -1.6999999999999993, -1.8999999999999986, -1.8999999999999986, -1.8999999999999986, -1.7999999999999972, -1.5999999999999979, -1.5, -1.7999999999999972]], \"zmax\": 1.5, \"zmin\": -1.5}],                        {\"height\": 310, \"showlegend\": false, \"template\": {\"data\": {\"scatter\": [{\"type\": \"scatter\"}]}}, \"title\": {\"text\": \"Gas Permeable Film\"}, \"width\": 355, \"xaxis\": {\"linecolor\": \"black\", \"linewidth\": 1, \"mirror\": true, \"showgrid\": false, \"showline\": true, \"side\": \"bottom\", \"tickangle\": 0, \"tickcolor\": \"black\", \"tickfont\": {\"color\": \"black\", \"family\": \"Arial\", \"size\": 13}, \"ticklen\": 4, \"ticks\": \"\"}, \"yaxis\": {\"linecolor\": \"black\", \"linewidth\": 1, \"mirror\": true, \"nticks\": 0, \"showgrid\": false, \"showline\": true, \"tickangle\": 0, \"tickcolor\": \"black\", \"tickfont\": {\"color\": \"black\", \"family\": \"Arial\", \"size\": 13}, \"ticklen\": 4, \"ticks\": \"\", \"title\": {\"font\": {\"color\": \"black\", \"family\": \"Arial\", \"size\": 16}, \"standoff\": 0}}},                        {\"responsive\": true}                    ).then(function(){\n",
       "                            \n",
       "var gd = document.getElementById('035615eb-3eba-4073-b64b-f981ba249d09');\n",
       "var x = new MutationObserver(function (mutations, observer) {{\n",
       "        var display = window.getComputedStyle(gd).display;\n",
       "        if (!display || display === 'none') {{\n",
       "            console.log([gd, 'removed!']);\n",
       "            Plotly.purge(gd);\n",
       "            observer.disconnect();\n",
       "        }}\n",
       "}});\n",
       "\n",
       "// Listen for the removal of the full notebook cells\n",
       "var notebookContainer = gd.closest('#notebook-container');\n",
       "if (notebookContainer) {{\n",
       "    x.observe(notebookContainer, {childList: true});\n",
       "}}\n",
       "\n",
       "// Listen for the clearing of the current output cell\n",
       "var outputEl = gd.closest('.output');\n",
       "if (outputEl) {{\n",
       "    x.observe(outputEl, {childList: true});\n",
       "}}\n",
       "\n",
       "                        })                };                });            </script>        </div>"
      ]
     },
     "metadata": {},
     "output_type": "display_data"
    },
    {
     "data": {
      "application/vnd.plotly.v1+json": {
       "config": {
        "plotlyServerURL": "https://plot.ly"
       },
       "data": [
        {
         "colorbar": {
          "dtick": 0.5,
          "len": 1.5,
          "outlinecolor": "black",
          "outlinewidth": 0.25,
          "thickness": 15,
          "tickcolor": "black",
          "ticks": "outside"
         },
         "colorscale": [
          [
           0,
           "#2164AF"
          ],
          [
           0.5,
           "#EAEAEA"
          ],
          [
           1,
           "#D9482A"
          ]
         ],
         "hoverongaps": false,
         "showscale": true,
         "type": "heatmap",
         "x": [
          1,
          2,
          3,
          4,
          5,
          6,
          7,
          8,
          9,
          10,
          11,
          12
         ],
         "y": [
          "H",
          "G",
          "F",
          "E",
          "D",
          "C",
          "B",
          "A"
         ],
         "z": [
          [
           3.6999999999999993,
           2.6999999999999993,
           2.8999999999999986,
           2.799999999999997,
           2.299999999999997,
           2.799999999999997,
           2.099999999999998,
           2.099999999999998,
           1.8999999999999986,
           null,
           null,
           null
          ],
          [
           4.699999999999999,
           3.1999999999999993,
           2.8999999999999986,
           2.599999999999998,
           1.6999999999999993,
           1.7999999999999972,
           1.6999999999999993,
           1.0999999999999979,
           0.6999999999999993,
           0.5999999999999979,
           0.7999999999999972,
           2.6999999999999993
          ],
          [
           2.5,
           2.1999999999999993,
           1.7999999999999972,
           0.7999999999999972,
           0.5999999999999979,
           0.29999999999999716,
           0.1999999999999993,
           0,
           -0.20000000000000284,
           -0.20000000000000284,
           -0.10000000000000142,
           0.09999999999999787
          ],
          [
           2.1999999999999993,
           1.8999999999999986,
           1.1999999999999993,
           0.8999999999999986,
           0.3999999999999986,
           0.09999999999999787,
           0,
           0.09999999999999787,
           -0.20000000000000284,
           0.5,
           -0.40000000000000213,
           -0.9000000000000021
          ],
          [
           1.1999999999999993,
           1.2999999999999972,
           0.5,
           0.29999999999999716,
           0,
           -0.3000000000000007,
           -0.3000000000000007,
           -0.6000000000000014,
           -0.7000000000000028,
           -0.6000000000000014,
           -0.5,
           -0.6000000000000014
          ],
          [
           1.7999999999999972,
           0.7999999999999972,
           -0.10000000000000142,
           -0.20000000000000284,
           -0.3000000000000007,
           -0.6000000000000014,
           -0.7000000000000028,
           -0.7000000000000028,
           -0.7000000000000028,
           -0.6000000000000014,
           -0.5,
           -0.8000000000000007
          ],
          [
           1.0999999999999979,
           0.5999999999999979,
           0,
           -0.6000000000000014,
           -0.7000000000000028,
           -0.8000000000000007,
           -1,
           -1,
           -0.9000000000000021,
           -0.6000000000000014,
           -0.10000000000000142,
           -0.7000000000000028
          ],
          [
           0.6999999999999993,
           0,
           -0.40000000000000213,
           -0.6000000000000014,
           -0.7000000000000028,
           -0.8000000000000007,
           -0.8000000000000007,
           -0.9000000000000021,
           -0.8000000000000007,
           -0.9000000000000021,
           -0.8000000000000007,
           -0.7000000000000028
          ]
         ],
         "zmax": 1.5,
         "zmin": -1.5
        }
       ],
       "layout": {
        "height": 310,
        "showlegend": false,
        "template": {
         "data": {
          "scatter": [
           {
            "type": "scatter"
           }
          ]
         }
        },
        "title": {
         "text": "Anaerobic Tape"
        },
        "width": 355,
        "xaxis": {
         "linecolor": "black",
         "linewidth": 1,
         "mirror": true,
         "showgrid": false,
         "showline": true,
         "side": "bottom",
         "tickangle": 0,
         "tickcolor": "black",
         "tickfont": {
          "color": "black",
          "family": "Arial",
          "size": 13
         },
         "ticklen": 4,
         "ticks": ""
        },
        "yaxis": {
         "linecolor": "black",
         "linewidth": 1,
         "mirror": true,
         "nticks": 0,
         "showgrid": false,
         "showline": true,
         "tickangle": 0,
         "tickcolor": "black",
         "tickfont": {
          "color": "black",
          "family": "Arial",
          "size": 13
         },
         "ticklen": 4,
         "ticks": "",
         "title": {
          "font": {
           "color": "black",
           "family": "Arial",
           "size": 16
          },
          "standoff": 0
         }
        }
       }
      },
      "text/html": [
       "<div>                            <div id=\"519d1823-a54a-4da2-ae58-22b196bb95f1\" class=\"plotly-graph-div\" style=\"height:310px; width:355px;\"></div>            <script type=\"text/javascript\">                require([\"plotly\"], function(Plotly) {                    window.PLOTLYENV=window.PLOTLYENV || {};                                    if (document.getElementById(\"519d1823-a54a-4da2-ae58-22b196bb95f1\")) {                    Plotly.newPlot(                        \"519d1823-a54a-4da2-ae58-22b196bb95f1\",                        [{\"colorbar\": {\"dtick\": 0.5, \"len\": 1.5, \"outlinecolor\": \"black\", \"outlinewidth\": 0.25, \"thickness\": 15, \"tickcolor\": \"black\", \"ticks\": \"outside\"}, \"colorscale\": [[0, \"#2164AF\"], [0.5, \"#EAEAEA\"], [1, \"#D9482A\"]], \"hoverongaps\": false, \"showscale\": true, \"type\": \"heatmap\", \"x\": [1, 2, 3, 4, 5, 6, 7, 8, 9, 10, 11, 12], \"y\": [\"H\", \"G\", \"F\", \"E\", \"D\", \"C\", \"B\", \"A\"], \"z\": [[3.6999999999999993, 2.6999999999999993, 2.8999999999999986, 2.799999999999997, 2.299999999999997, 2.799999999999997, 2.099999999999998, 2.099999999999998, 1.8999999999999986, null, null, null], [4.699999999999999, 3.1999999999999993, 2.8999999999999986, 2.599999999999998, 1.6999999999999993, 1.7999999999999972, 1.6999999999999993, 1.0999999999999979, 0.6999999999999993, 0.5999999999999979, 0.7999999999999972, 2.6999999999999993], [2.5, 2.1999999999999993, 1.7999999999999972, 0.7999999999999972, 0.5999999999999979, 0.29999999999999716, 0.1999999999999993, 0.0, -0.20000000000000284, -0.20000000000000284, -0.10000000000000142, 0.09999999999999787], [2.1999999999999993, 1.8999999999999986, 1.1999999999999993, 0.8999999999999986, 0.3999999999999986, 0.09999999999999787, 0.0, 0.09999999999999787, -0.20000000000000284, 0.5, -0.40000000000000213, -0.9000000000000021], [1.1999999999999993, 1.2999999999999972, 0.5, 0.29999999999999716, 0.0, -0.3000000000000007, -0.3000000000000007, -0.6000000000000014, -0.7000000000000028, -0.6000000000000014, -0.5, -0.6000000000000014], [1.7999999999999972, 0.7999999999999972, -0.10000000000000142, -0.20000000000000284, -0.3000000000000007, -0.6000000000000014, -0.7000000000000028, -0.7000000000000028, -0.7000000000000028, -0.6000000000000014, -0.5, -0.8000000000000007], [1.0999999999999979, 0.5999999999999979, 0.0, -0.6000000000000014, -0.7000000000000028, -0.8000000000000007, -1.0, -1.0, -0.9000000000000021, -0.6000000000000014, -0.10000000000000142, -0.7000000000000028], [0.6999999999999993, 0.0, -0.40000000000000213, -0.6000000000000014, -0.7000000000000028, -0.8000000000000007, -0.8000000000000007, -0.9000000000000021, -0.8000000000000007, -0.9000000000000021, -0.8000000000000007, -0.7000000000000028]], \"zmax\": 1.5, \"zmin\": -1.5}],                        {\"height\": 310, \"showlegend\": false, \"template\": {\"data\": {\"scatter\": [{\"type\": \"scatter\"}]}}, \"title\": {\"text\": \"Anaerobic Tape\"}, \"width\": 355, \"xaxis\": {\"linecolor\": \"black\", \"linewidth\": 1, \"mirror\": true, \"showgrid\": false, \"showline\": true, \"side\": \"bottom\", \"tickangle\": 0, \"tickcolor\": \"black\", \"tickfont\": {\"color\": \"black\", \"family\": \"Arial\", \"size\": 13}, \"ticklen\": 4, \"ticks\": \"\"}, \"yaxis\": {\"linecolor\": \"black\", \"linewidth\": 1, \"mirror\": true, \"nticks\": 0, \"showgrid\": false, \"showline\": true, \"tickangle\": 0, \"tickcolor\": \"black\", \"tickfont\": {\"color\": \"black\", \"family\": \"Arial\", \"size\": 13}, \"ticklen\": 4, \"ticks\": \"\", \"title\": {\"font\": {\"color\": \"black\", \"family\": \"Arial\", \"size\": 16}, \"standoff\": 0}}},                        {\"responsive\": true}                    ).then(function(){\n",
       "                            \n",
       "var gd = document.getElementById('519d1823-a54a-4da2-ae58-22b196bb95f1');\n",
       "var x = new MutationObserver(function (mutations, observer) {{\n",
       "        var display = window.getComputedStyle(gd).display;\n",
       "        if (!display || display === 'none') {{\n",
       "            console.log([gd, 'removed!']);\n",
       "            Plotly.purge(gd);\n",
       "            observer.disconnect();\n",
       "        }}\n",
       "}});\n",
       "\n",
       "// Listen for the removal of the full notebook cells\n",
       "var notebookContainer = gd.closest('#notebook-container');\n",
       "if (notebookContainer) {{\n",
       "    x.observe(notebookContainer, {childList: true});\n",
       "}}\n",
       "\n",
       "// Listen for the clearing of the current output cell\n",
       "var outputEl = gd.closest('.output');\n",
       "if (outputEl) {{\n",
       "    x.observe(outputEl, {childList: true});\n",
       "}}\n",
       "\n",
       "                        })                };                });            </script>        </div>"
      ]
     },
     "metadata": {},
     "output_type": "display_data"
    },
    {
     "data": {
      "application/vnd.plotly.v1+json": {
       "config": {
        "plotlyServerURL": "https://plot.ly"
       },
       "data": [
        {
         "colorbar": {
          "dtick": 0.5,
          "len": 1.5,
          "outlinecolor": "black",
          "outlinewidth": 0.25,
          "thickness": 15,
          "tickcolor": "black",
          "ticks": "outside"
         },
         "colorscale": [
          [
           0,
           "#2164AF"
          ],
          [
           0.5,
           "#EAEAEA"
          ],
          [
           1,
           "#D9482A"
          ]
         ],
         "hoverongaps": false,
         "showscale": true,
         "type": "heatmap",
         "x": [
          1,
          2,
          3,
          4,
          5,
          6,
          7,
          8,
          9,
          10,
          11,
          12
         ],
         "y": [
          "H",
          "G",
          "F",
          "E",
          "D",
          "C",
          "B",
          "A"
         ],
         "z": [
          [
           3.8000000000000007,
           1.4000000000000021,
           1.6999999999999993,
           0.6000000000000014,
           2,
           0.6000000000000014,
           0.40000000000000213,
           0.6000000000000014,
           0.3000000000000007,
           null,
           null,
           null
          ],
          [
           0.9000000000000021,
           1.1000000000000014,
           3.900000000000002,
           3.1999999999999993,
           4.199999999999999,
           3,
           3.1999999999999993,
           3.6000000000000014,
           1.1000000000000014,
           0.10000000000000142,
           3.1000000000000014,
           -0.1999999999999993
          ],
          [
           3.6000000000000014,
           0.3000000000000007,
           0.9000000000000021,
           1.1999999999999993,
           0.6999999999999993,
           0.5,
           2.400000000000002,
           2.6000000000000014,
           2.400000000000002,
           0.3000000000000007,
           0.40000000000000213,
           -0.3000000000000007
          ],
          [
           0.6999999999999993,
           0.1999999999999993,
           0.1999999999999993,
           0.1999999999999993,
           0.10000000000000142,
           0,
           0.10000000000000142,
           0.1999999999999993,
           0.9000000000000021,
           0.3000000000000007,
           1.9000000000000021,
           0.6000000000000014
          ],
          [
           0.1999999999999993,
           -0.3000000000000007,
           -0.3999999999999986,
           -0.3999999999999986,
           -0.5,
           -0.3999999999999986,
           -0.3000000000000007,
           -0.3999999999999986,
           -0.3000000000000007,
           -0.1999999999999993,
           1,
           -0.3999999999999986
          ],
          [
           0.1999999999999993,
           -0.3000000000000007,
           -0.5999999999999979,
           -0.5,
           -0.3999999999999986,
           -0.5,
           -0.5,
           -0.5,
           -0.3999999999999986,
           -0.5,
           -0.1999999999999993,
           0
          ],
          [
           -0.3999999999999986,
           -0.5999999999999979,
           -0.6999999999999993,
           -0.5999999999999979,
           -0.5999999999999979,
           -0.6999999999999993,
           -0.8000000000000007,
           -0.8999999999999986,
           -0.8999999999999986,
           -0.8999999999999986,
           -0.8000000000000007,
           -0.8999999999999986
          ],
          [
           -1,
           -0.8999999999999986,
           -1,
           -0.8000000000000007,
           -1,
           -1,
           -1.0999999999999979,
           -1.1999999999999993,
           -1.0999999999999979,
           -1.1999999999999993,
           -1,
           -1.5
          ]
         ],
         "zmax": 1.5,
         "zmin": -1.5
        }
       ],
       "layout": {
        "height": 310,
        "showlegend": false,
        "template": {
         "data": {
          "scatter": [
           {
            "type": "scatter"
           }
          ]
         }
        },
        "title": {
         "text": "Aluminium PCR Film"
        },
        "width": 355,
        "xaxis": {
         "linecolor": "black",
         "linewidth": 1,
         "mirror": true,
         "showgrid": false,
         "showline": true,
         "side": "bottom",
         "tickangle": 0,
         "tickcolor": "black",
         "tickfont": {
          "color": "black",
          "family": "Arial",
          "size": 13
         },
         "ticklen": 4,
         "ticks": ""
        },
        "yaxis": {
         "linecolor": "black",
         "linewidth": 1,
         "mirror": true,
         "nticks": 0,
         "showgrid": false,
         "showline": true,
         "tickangle": 0,
         "tickcolor": "black",
         "tickfont": {
          "color": "black",
          "family": "Arial",
          "size": 13
         },
         "ticklen": 4,
         "ticks": "",
         "title": {
          "font": {
           "color": "black",
           "family": "Arial",
           "size": 16
          },
          "standoff": 0
         }
        }
       }
      },
      "text/html": [
       "<div>                            <div id=\"9ee02d97-0eaa-4cd7-bca4-9fac91bfa300\" class=\"plotly-graph-div\" style=\"height:310px; width:355px;\"></div>            <script type=\"text/javascript\">                require([\"plotly\"], function(Plotly) {                    window.PLOTLYENV=window.PLOTLYENV || {};                                    if (document.getElementById(\"9ee02d97-0eaa-4cd7-bca4-9fac91bfa300\")) {                    Plotly.newPlot(                        \"9ee02d97-0eaa-4cd7-bca4-9fac91bfa300\",                        [{\"colorbar\": {\"dtick\": 0.5, \"len\": 1.5, \"outlinecolor\": \"black\", \"outlinewidth\": 0.25, \"thickness\": 15, \"tickcolor\": \"black\", \"ticks\": \"outside\"}, \"colorscale\": [[0, \"#2164AF\"], [0.5, \"#EAEAEA\"], [1, \"#D9482A\"]], \"hoverongaps\": false, \"showscale\": true, \"type\": \"heatmap\", \"x\": [1, 2, 3, 4, 5, 6, 7, 8, 9, 10, 11, 12], \"y\": [\"H\", \"G\", \"F\", \"E\", \"D\", \"C\", \"B\", \"A\"], \"z\": [[3.8000000000000007, 1.4000000000000021, 1.6999999999999993, 0.6000000000000014, 2.0, 0.6000000000000014, 0.40000000000000213, 0.6000000000000014, 0.3000000000000007, null, null, null], [0.9000000000000021, 1.1000000000000014, 3.900000000000002, 3.1999999999999993, 4.199999999999999, 3.0, 3.1999999999999993, 3.6000000000000014, 1.1000000000000014, 0.10000000000000142, 3.1000000000000014, -0.1999999999999993], [3.6000000000000014, 0.3000000000000007, 0.9000000000000021, 1.1999999999999993, 0.6999999999999993, 0.5, 2.400000000000002, 2.6000000000000014, 2.400000000000002, 0.3000000000000007, 0.40000000000000213, -0.3000000000000007], [0.6999999999999993, 0.1999999999999993, 0.1999999999999993, 0.1999999999999993, 0.10000000000000142, 0.0, 0.10000000000000142, 0.1999999999999993, 0.9000000000000021, 0.3000000000000007, 1.9000000000000021, 0.6000000000000014], [0.1999999999999993, -0.3000000000000007, -0.3999999999999986, -0.3999999999999986, -0.5, -0.3999999999999986, -0.3000000000000007, -0.3999999999999986, -0.3000000000000007, -0.1999999999999993, 1.0, -0.3999999999999986], [0.1999999999999993, -0.3000000000000007, -0.5999999999999979, -0.5, -0.3999999999999986, -0.5, -0.5, -0.5, -0.3999999999999986, -0.5, -0.1999999999999993, 0.0], [-0.3999999999999986, -0.5999999999999979, -0.6999999999999993, -0.5999999999999979, -0.5999999999999979, -0.6999999999999993, -0.8000000000000007, -0.8999999999999986, -0.8999999999999986, -0.8999999999999986, -0.8000000000000007, -0.8999999999999986], [-1.0, -0.8999999999999986, -1.0, -0.8000000000000007, -1.0, -1.0, -1.0999999999999979, -1.1999999999999993, -1.0999999999999979, -1.1999999999999993, -1.0, -1.5]], \"zmax\": 1.5, \"zmin\": -1.5}],                        {\"height\": 310, \"showlegend\": false, \"template\": {\"data\": {\"scatter\": [{\"type\": \"scatter\"}]}}, \"title\": {\"text\": \"Aluminium PCR Film\"}, \"width\": 355, \"xaxis\": {\"linecolor\": \"black\", \"linewidth\": 1, \"mirror\": true, \"showgrid\": false, \"showline\": true, \"side\": \"bottom\", \"tickangle\": 0, \"tickcolor\": \"black\", \"tickfont\": {\"color\": \"black\", \"family\": \"Arial\", \"size\": 13}, \"ticklen\": 4, \"ticks\": \"\"}, \"yaxis\": {\"linecolor\": \"black\", \"linewidth\": 1, \"mirror\": true, \"nticks\": 0, \"showgrid\": false, \"showline\": true, \"tickangle\": 0, \"tickcolor\": \"black\", \"tickfont\": {\"color\": \"black\", \"family\": \"Arial\", \"size\": 13}, \"ticklen\": 4, \"ticks\": \"\", \"title\": {\"font\": {\"color\": \"black\", \"family\": \"Arial\", \"size\": 16}, \"standoff\": 0}}},                        {\"responsive\": true}                    ).then(function(){\n",
       "                            \n",
       "var gd = document.getElementById('9ee02d97-0eaa-4cd7-bca4-9fac91bfa300');\n",
       "var x = new MutationObserver(function (mutations, observer) {{\n",
       "        var display = window.getComputedStyle(gd).display;\n",
       "        if (!display || display === 'none') {{\n",
       "            console.log([gd, 'removed!']);\n",
       "            Plotly.purge(gd);\n",
       "            observer.disconnect();\n",
       "        }}\n",
       "}});\n",
       "\n",
       "// Listen for the removal of the full notebook cells\n",
       "var notebookContainer = gd.closest('#notebook-container');\n",
       "if (notebookContainer) {{\n",
       "    x.observe(notebookContainer, {childList: true});\n",
       "}}\n",
       "\n",
       "// Listen for the clearing of the current output cell\n",
       "var outputEl = gd.closest('.output');\n",
       "if (outputEl) {{\n",
       "    x.observe(outputEl, {childList: true});\n",
       "}}\n",
       "\n",
       "                        })                };                });            </script>        </div>"
      ]
     },
     "metadata": {},
     "output_type": "display_data"
    },
    {
     "data": {
      "application/vnd.plotly.v1+json": {
       "config": {
        "plotlyServerURL": "https://plot.ly"
       },
       "data": [
        {
         "colorbar": {
          "dtick": 0.5,
          "len": 1.5,
          "outlinecolor": "black",
          "outlinewidth": 0.25,
          "thickness": 15,
          "tickcolor": "black",
          "ticks": "outside"
         },
         "colorscale": [
          [
           0,
           "#2164AF"
          ],
          [
           0.5,
           "#EAEAEA"
          ],
          [
           1,
           "#D9482A"
          ]
         ],
         "hoverongaps": false,
         "showscale": true,
         "type": "heatmap",
         "x": [
          1,
          2,
          3,
          4,
          5,
          6,
          7,
          8,
          9,
          10,
          11,
          12
         ],
         "y": [
          "H",
          "G",
          "F",
          "E",
          "D",
          "C",
          "B",
          "A"
         ],
         "z": [
          [
           1.1000000000000014,
           1.2000000000000028,
           1,
           1.1000000000000014,
           0.7000000000000028,
           1.4000000000000021,
           1,
           1.2000000000000028,
           0.7000000000000028,
           null,
           null,
           null
          ],
          [
           1.5,
           1.1000000000000014,
           1.1000000000000014,
           1,
           1.2000000000000028,
           1.4000000000000021,
           0.6000000000000014,
           1.2000000000000028,
           0.20000000000000284,
           0.3000000000000007,
           0.20000000000000284,
           0.5
          ],
          [
           0.7000000000000028,
           0.7000000000000028,
           0.7000000000000028,
           0.3000000000000007,
           0.7000000000000028,
           1.1000000000000014,
           1.2000000000000028,
           0.7000000000000028,
           0.5,
           0.3000000000000007,
           0.3000000000000007,
           0.5
          ],
          [
           0.3000000000000007,
           0.40000000000000213,
           0.3000000000000007,
           0.3000000000000007,
           0.3000000000000007,
           0.40000000000000213,
           0.5,
           0.3000000000000007,
           0.7000000000000028,
           0.3000000000000007,
           -0.09999999999999787,
           0.10000000000000142
          ],
          [
           -0.3999999999999986,
           -0.09999999999999787,
           -0.09999999999999787,
           0.10000000000000142,
           0,
           -0.09999999999999787,
           0,
           -0.09999999999999787,
           -0.1999999999999993,
           -0.09999999999999787,
           -0.29999999999999716,
           -0.5
          ],
          [
           0,
           -0.09999999999999787,
           -0.5,
           -0.1999999999999993,
           -0.09999999999999787,
           -0.29999999999999716,
           -0.1999999999999993,
           -0.1999999999999993,
           -0.1999999999999993,
           -0.3999999999999986,
           -0.5,
           -0.6999999999999993
          ],
          [
           -0.3999999999999986,
           -0.3999999999999986,
           -0.3999999999999986,
           -0.3999999999999986,
           -0.5,
           -0.5999999999999979,
           -0.5999999999999979,
           -0.7999999999999972,
           -0.6999999999999993,
           -0.5999999999999979,
           -0.6999999999999993,
           -0.8999999999999986
          ],
          [
           -0.8999999999999986,
           -0.8999999999999986,
           -0.8999999999999986,
           -0.8999999999999986,
           -1.0999999999999979,
           -1,
           -1.1999999999999993,
           -1.0999999999999979,
           -1.0999999999999979,
           -1.0999999999999979,
           -1.0999999999999979,
           -1
          ]
         ],
         "zmax": 1.5,
         "zmin": -1.5
        }
       ],
       "layout": {
        "height": 310,
        "showlegend": false,
        "template": {
         "data": {
          "scatter": [
           {
            "type": "scatter"
           }
          ]
         }
        },
        "title": {
         "text": "Plastic PCR Film"
        },
        "width": 355,
        "xaxis": {
         "linecolor": "black",
         "linewidth": 1,
         "mirror": true,
         "showgrid": false,
         "showline": true,
         "side": "bottom",
         "tickangle": 0,
         "tickcolor": "black",
         "tickfont": {
          "color": "black",
          "family": "Arial",
          "size": 13
         },
         "ticklen": 4,
         "ticks": ""
        },
        "yaxis": {
         "linecolor": "black",
         "linewidth": 1,
         "mirror": true,
         "nticks": 0,
         "showgrid": false,
         "showline": true,
         "tickangle": 0,
         "tickcolor": "black",
         "tickfont": {
          "color": "black",
          "family": "Arial",
          "size": 13
         },
         "ticklen": 4,
         "ticks": "",
         "title": {
          "font": {
           "color": "black",
           "family": "Arial",
           "size": 16
          },
          "standoff": 0
         }
        }
       }
      },
      "text/html": [
       "<div>                            <div id=\"cb43a84f-c33e-4978-b26a-b6a0719dc3cf\" class=\"plotly-graph-div\" style=\"height:310px; width:355px;\"></div>            <script type=\"text/javascript\">                require([\"plotly\"], function(Plotly) {                    window.PLOTLYENV=window.PLOTLYENV || {};                                    if (document.getElementById(\"cb43a84f-c33e-4978-b26a-b6a0719dc3cf\")) {                    Plotly.newPlot(                        \"cb43a84f-c33e-4978-b26a-b6a0719dc3cf\",                        [{\"colorbar\": {\"dtick\": 0.5, \"len\": 1.5, \"outlinecolor\": \"black\", \"outlinewidth\": 0.25, \"thickness\": 15, \"tickcolor\": \"black\", \"ticks\": \"outside\"}, \"colorscale\": [[0, \"#2164AF\"], [0.5, \"#EAEAEA\"], [1, \"#D9482A\"]], \"hoverongaps\": false, \"showscale\": true, \"type\": \"heatmap\", \"x\": [1, 2, 3, 4, 5, 6, 7, 8, 9, 10, 11, 12], \"y\": [\"H\", \"G\", \"F\", \"E\", \"D\", \"C\", \"B\", \"A\"], \"z\": [[1.1000000000000014, 1.2000000000000028, 1.0, 1.1000000000000014, 0.7000000000000028, 1.4000000000000021, 1.0, 1.2000000000000028, 0.7000000000000028, null, null, null], [1.5, 1.1000000000000014, 1.1000000000000014, 1.0, 1.2000000000000028, 1.4000000000000021, 0.6000000000000014, 1.2000000000000028, 0.20000000000000284, 0.3000000000000007, 0.20000000000000284, 0.5], [0.7000000000000028, 0.7000000000000028, 0.7000000000000028, 0.3000000000000007, 0.7000000000000028, 1.1000000000000014, 1.2000000000000028, 0.7000000000000028, 0.5, 0.3000000000000007, 0.3000000000000007, 0.5], [0.3000000000000007, 0.40000000000000213, 0.3000000000000007, 0.3000000000000007, 0.3000000000000007, 0.40000000000000213, 0.5, 0.3000000000000007, 0.7000000000000028, 0.3000000000000007, -0.09999999999999787, 0.10000000000000142], [-0.3999999999999986, -0.09999999999999787, -0.09999999999999787, 0.10000000000000142, 0.0, -0.09999999999999787, 0.0, -0.09999999999999787, -0.1999999999999993, -0.09999999999999787, -0.29999999999999716, -0.5], [0.0, -0.09999999999999787, -0.5, -0.1999999999999993, -0.09999999999999787, -0.29999999999999716, -0.1999999999999993, -0.1999999999999993, -0.1999999999999993, -0.3999999999999986, -0.5, -0.6999999999999993], [-0.3999999999999986, -0.3999999999999986, -0.3999999999999986, -0.3999999999999986, -0.5, -0.5999999999999979, -0.5999999999999979, -0.7999999999999972, -0.6999999999999993, -0.5999999999999979, -0.6999999999999993, -0.8999999999999986], [-0.8999999999999986, -0.8999999999999986, -0.8999999999999986, -0.8999999999999986, -1.0999999999999979, -1.0, -1.1999999999999993, -1.0999999999999979, -1.0999999999999979, -1.0999999999999979, -1.0999999999999979, -1.0]], \"zmax\": 1.5, \"zmin\": -1.5}],                        {\"height\": 310, \"showlegend\": false, \"template\": {\"data\": {\"scatter\": [{\"type\": \"scatter\"}]}}, \"title\": {\"text\": \"Plastic PCR Film\"}, \"width\": 355, \"xaxis\": {\"linecolor\": \"black\", \"linewidth\": 1, \"mirror\": true, \"showgrid\": false, \"showline\": true, \"side\": \"bottom\", \"tickangle\": 0, \"tickcolor\": \"black\", \"tickfont\": {\"color\": \"black\", \"family\": \"Arial\", \"size\": 13}, \"ticklen\": 4, \"ticks\": \"\"}, \"yaxis\": {\"linecolor\": \"black\", \"linewidth\": 1, \"mirror\": true, \"nticks\": 0, \"showgrid\": false, \"showline\": true, \"tickangle\": 0, \"tickcolor\": \"black\", \"tickfont\": {\"color\": \"black\", \"family\": \"Arial\", \"size\": 13}, \"ticklen\": 4, \"ticks\": \"\", \"title\": {\"font\": {\"color\": \"black\", \"family\": \"Arial\", \"size\": 16}, \"standoff\": 0}}},                        {\"responsive\": true}                    ).then(function(){\n",
       "                            \n",
       "var gd = document.getElementById('cb43a84f-c33e-4978-b26a-b6a0719dc3cf');\n",
       "var x = new MutationObserver(function (mutations, observer) {{\n",
       "        var display = window.getComputedStyle(gd).display;\n",
       "        if (!display || display === 'none') {{\n",
       "            console.log([gd, 'removed!']);\n",
       "            Plotly.purge(gd);\n",
       "            observer.disconnect();\n",
       "        }}\n",
       "}});\n",
       "\n",
       "// Listen for the removal of the full notebook cells\n",
       "var notebookContainer = gd.closest('#notebook-container');\n",
       "if (notebookContainer) {{\n",
       "    x.observe(notebookContainer, {childList: true});\n",
       "}}\n",
       "\n",
       "// Listen for the clearing of the current output cell\n",
       "var outputEl = gd.closest('.output');\n",
       "if (outputEl) {{\n",
       "    x.observe(outputEl, {childList: true});\n",
       "}}\n",
       "\n",
       "                        })                };                });            </script>        </div>"
      ]
     },
     "metadata": {},
     "output_type": "display_data"
    },
    {
     "data": {
      "application/vnd.plotly.v1+json": {
       "config": {
        "plotlyServerURL": "https://plot.ly"
       },
       "data": [
        {
         "colorbar": {
          "dtick": 0.5,
          "len": 1.5,
          "outlinecolor": "black",
          "outlinewidth": 0.25,
          "thickness": 15,
          "tickcolor": "black",
          "ticks": "outside"
         },
         "colorscale": [
          [
           0,
           "#2164AF"
          ],
          [
           0.5,
           "#EAEAEA"
          ],
          [
           1,
           "#D9482A"
          ]
         ],
         "hoverongaps": false,
         "showscale": true,
         "type": "heatmap",
         "x": [
          1,
          2,
          3,
          4,
          5,
          6,
          7,
          8,
          9,
          10,
          11,
          12
         ],
         "y": [
          "H",
          "G",
          "F",
          "E",
          "D",
          "C",
          "B",
          "A"
         ],
         "z": [
          [
           0,
           -0.5,
           -0.1999999999999993,
           -0.1999999999999993,
           0.10000000000000142,
           0.6000000000000014,
           0.3999999999999986,
           0,
           0,
           null,
           null,
           null
          ],
          [
           0,
           0.3000000000000007,
           0.1999999999999993,
           0.3999999999999986,
           0.6000000000000014,
           0,
           0.6000000000000014,
           0.6000000000000014,
           -0.10000000000000142,
           -0.10000000000000142,
           0.5,
           -0.10000000000000142
          ],
          [
           0,
           0,
           0.3000000000000007,
           0.3999999999999986,
           0.1999999999999993,
           0.5,
           -0.10000000000000142,
           0.1999999999999993,
           0.1999999999999993,
           0,
           0.10000000000000142,
           -0.1999999999999993
          ],
          [
           -0.10000000000000142,
           0,
           0,
           0.3999999999999986,
           0.5,
           0.3999999999999986,
           0.6000000000000014,
           0.6999999999999993,
           0,
           0,
           -0.10000000000000142,
           -0.10000000000000142
          ],
          [
           -0.3000000000000007,
           -0.3000000000000007,
           0.10000000000000142,
           0.10000000000000142,
           0.6000000000000014,
           0.1999999999999993,
           0.5,
           -0.10000000000000142,
           0,
           -0.10000000000000142,
           0.10000000000000142,
           -0.10000000000000142
          ],
          [
           -0.5,
           -0.3000000000000007,
           0.3000000000000007,
           0.10000000000000142,
           0.5,
           0.10000000000000142,
           0.10000000000000142,
           0,
           0,
           -0.10000000000000142,
           -0.10000000000000142,
           -0.10000000000000142
          ],
          [
           -0.1999999999999993,
           0,
           0,
           0.1999999999999993,
           0.3000000000000007,
           0.10000000000000142,
           -0.1999999999999993,
           0.3000000000000007,
           -0.10000000000000142,
           0,
           0.1999999999999993,
           0.10000000000000142
          ],
          [
           0,
           0.1999999999999993,
           -0.10000000000000142,
           0.5,
           0.5,
           0.1999999999999993,
           0.6000000000000014,
           -0.8000000000000007,
           0,
           0.3999999999999986,
           0,
           0.1999999999999993
          ]
         ],
         "zmax": 1.5,
         "zmin": -1.5
        }
       ],
       "layout": {
        "height": 310,
        "showlegend": false,
        "template": {
         "data": {
          "scatter": [
           {
            "type": "scatter"
           }
          ]
         }
        },
        "title": {
         "text": "Mineral Oil"
        },
        "width": 355,
        "xaxis": {
         "linecolor": "black",
         "linewidth": 1,
         "mirror": true,
         "showgrid": false,
         "showline": true,
         "side": "bottom",
         "tickangle": 0,
         "tickcolor": "black",
         "tickfont": {
          "color": "black",
          "family": "Arial",
          "size": 13
         },
         "ticklen": 4,
         "ticks": ""
        },
        "yaxis": {
         "linecolor": "black",
         "linewidth": 1,
         "mirror": true,
         "nticks": 0,
         "showgrid": false,
         "showline": true,
         "tickangle": 0,
         "tickcolor": "black",
         "tickfont": {
          "color": "black",
          "family": "Arial",
          "size": 13
         },
         "ticklen": 4,
         "ticks": "",
         "title": {
          "font": {
           "color": "black",
           "family": "Arial",
           "size": 16
          },
          "standoff": 0
         }
        }
       }
      },
      "text/html": [
       "<div>                            <div id=\"be66c271-8419-43d4-9de2-bdb7eba02682\" class=\"plotly-graph-div\" style=\"height:310px; width:355px;\"></div>            <script type=\"text/javascript\">                require([\"plotly\"], function(Plotly) {                    window.PLOTLYENV=window.PLOTLYENV || {};                                    if (document.getElementById(\"be66c271-8419-43d4-9de2-bdb7eba02682\")) {                    Plotly.newPlot(                        \"be66c271-8419-43d4-9de2-bdb7eba02682\",                        [{\"colorbar\": {\"dtick\": 0.5, \"len\": 1.5, \"outlinecolor\": \"black\", \"outlinewidth\": 0.25, \"thickness\": 15, \"tickcolor\": \"black\", \"ticks\": \"outside\"}, \"colorscale\": [[0, \"#2164AF\"], [0.5, \"#EAEAEA\"], [1, \"#D9482A\"]], \"hoverongaps\": false, \"showscale\": true, \"type\": \"heatmap\", \"x\": [1, 2, 3, 4, 5, 6, 7, 8, 9, 10, 11, 12], \"y\": [\"H\", \"G\", \"F\", \"E\", \"D\", \"C\", \"B\", \"A\"], \"z\": [[0.0, -0.5, -0.1999999999999993, -0.1999999999999993, 0.10000000000000142, 0.6000000000000014, 0.3999999999999986, 0.0, 0.0, null, null, null], [0.0, 0.3000000000000007, 0.1999999999999993, 0.3999999999999986, 0.6000000000000014, 0.0, 0.6000000000000014, 0.6000000000000014, -0.10000000000000142, -0.10000000000000142, 0.5, -0.10000000000000142], [0.0, 0.0, 0.3000000000000007, 0.3999999999999986, 0.1999999999999993, 0.5, -0.10000000000000142, 0.1999999999999993, 0.1999999999999993, 0.0, 0.10000000000000142, -0.1999999999999993], [-0.10000000000000142, 0.0, 0.0, 0.3999999999999986, 0.5, 0.3999999999999986, 0.6000000000000014, 0.6999999999999993, 0.0, 0.0, -0.10000000000000142, -0.10000000000000142], [-0.3000000000000007, -0.3000000000000007, 0.10000000000000142, 0.10000000000000142, 0.6000000000000014, 0.1999999999999993, 0.5, -0.10000000000000142, 0.0, -0.10000000000000142, 0.10000000000000142, -0.10000000000000142], [-0.5, -0.3000000000000007, 0.3000000000000007, 0.10000000000000142, 0.5, 0.10000000000000142, 0.10000000000000142, 0.0, 0.0, -0.10000000000000142, -0.10000000000000142, -0.10000000000000142], [-0.1999999999999993, 0.0, 0.0, 0.1999999999999993, 0.3000000000000007, 0.10000000000000142, -0.1999999999999993, 0.3000000000000007, -0.10000000000000142, 0.0, 0.1999999999999993, 0.10000000000000142], [0.0, 0.1999999999999993, -0.10000000000000142, 0.5, 0.5, 0.1999999999999993, 0.6000000000000014, -0.8000000000000007, 0.0, 0.3999999999999986, 0.0, 0.1999999999999993]], \"zmax\": 1.5, \"zmin\": -1.5}],                        {\"height\": 310, \"showlegend\": false, \"template\": {\"data\": {\"scatter\": [{\"type\": \"scatter\"}]}}, \"title\": {\"text\": \"Mineral Oil\"}, \"width\": 355, \"xaxis\": {\"linecolor\": \"black\", \"linewidth\": 1, \"mirror\": true, \"showgrid\": false, \"showline\": true, \"side\": \"bottom\", \"tickangle\": 0, \"tickcolor\": \"black\", \"tickfont\": {\"color\": \"black\", \"family\": \"Arial\", \"size\": 13}, \"ticklen\": 4, \"ticks\": \"\"}, \"yaxis\": {\"linecolor\": \"black\", \"linewidth\": 1, \"mirror\": true, \"nticks\": 0, \"showgrid\": false, \"showline\": true, \"tickangle\": 0, \"tickcolor\": \"black\", \"tickfont\": {\"color\": \"black\", \"family\": \"Arial\", \"size\": 13}, \"ticklen\": 4, \"ticks\": \"\", \"title\": {\"font\": {\"color\": \"black\", \"family\": \"Arial\", \"size\": 16}, \"standoff\": 0}}},                        {\"responsive\": true}                    ).then(function(){\n",
       "                            \n",
       "var gd = document.getElementById('be66c271-8419-43d4-9de2-bdb7eba02682');\n",
       "var x = new MutationObserver(function (mutations, observer) {{\n",
       "        var display = window.getComputedStyle(gd).display;\n",
       "        if (!display || display === 'none') {{\n",
       "            console.log([gd, 'removed!']);\n",
       "            Plotly.purge(gd);\n",
       "            observer.disconnect();\n",
       "        }}\n",
       "}});\n",
       "\n",
       "// Listen for the removal of the full notebook cells\n",
       "var notebookContainer = gd.closest('#notebook-container');\n",
       "if (notebookContainer) {{\n",
       "    x.observe(notebookContainer, {childList: true});\n",
       "}}\n",
       "\n",
       "// Listen for the clearing of the current output cell\n",
       "var outputEl = gd.closest('.output');\n",
       "if (outputEl) {{\n",
       "    x.observe(outputEl, {childList: true});\n",
       "}}\n",
       "\n",
       "                        })                };                });            </script>        </div>"
      ]
     },
     "metadata": {},
     "output_type": "display_data"
    }
   ],
   "source": [
    "for film in df_dict:\n",
    "    if film not in ['breathe_easy_aerobic']:\n",
    "        trace_list = []\n",
    "        trace_list.append(go.Heatmap(\n",
    "                           z=list(reversed(df_dict[film].values - np.nanmedian(df_dict[film].values.flatten()))),\n",
    "                           x=df_dict[film].columns,\n",
    "                           y=list(reversed(df_dict[film].index)),\n",
    "                           hoverongaps = False, zmin=-1.5, zmax=1.5,colorscale=colorscale,\n",
    "                            showscale=True,\n",
    "                           colorbar=dict(dtick=0.5,ticks='outside',tickcolor='black',outlinecolor='black',\n",
    "                                         outlinewidth=0.25,thickness=15,len=1.5)))\n",
    "        \n",
    "        layout = go.Layout(height=310, width=355, showlegend=False, title_text=film,\n",
    "                   \n",
    "                   xaxis=dict(showline=True, linewidth=1, linecolor='black', mirror=True, \n",
    "                              ticks='', ticklen=4, tickangle=0, tickcolor='black',\n",
    "                              tickfont=dict(size=13, family='Arial', color='black'),\n",
    "                              side='bottom', showgrid=False),\n",
    "                           \n",
    "                   yaxis=dict(\n",
    "                              title_standoff=0, titlefont=dict(family='Arial', size=16, color='black'),\n",
    "                              showline=True, linewidth=1, linecolor='black',mirror=True,\n",
    "                              ticks='', ticklen=4, tickangle=0, tickcolor='black', nticks=0,\n",
    "                              tickfont=dict(family='Arial',size=13, color='black'),\n",
    "                              showgrid=False))\n",
    "        \n",
    "        fig = go.Figure(data=trace_list, layout=layout)\n",
    "        fig.show()\n",
    "        #pio.write_image(fig,\"Figures/fig_3_variation_\"+film+\".svg\",format='svg')\n"
   ]
  },
  {
   "cell_type": "code",
   "execution_count": 8,
   "id": "guilty-dodge",
   "metadata": {
    "scrolled": false
   },
   "outputs": [
    {
     "name": "stderr",
     "output_type": "stream",
     "text": [
      "C:\\Users\\User\\anaconda3\\envs\\default\\lib\\site-packages\\plotly\\graph_objs\\_deprecations.py:68: DeprecationWarning:\n",
      "\n",
      "plotly.graph_objs.Annotations is deprecated.\n",
      "Please replace it with a list or tuple of instances of the following types\n",
      "  - plotly.graph_objs.layout.Annotation\n",
      "  - plotly.graph_objs.layout.scene.Annotation\n",
      "\n",
      "\n"
     ]
    },
    {
     "data": {
      "application/vnd.plotly.v1+json": {
       "config": {
        "plotlyServerURL": "https://plot.ly"
       },
       "data": [
        {
         "colorbar": {
          "dtick": 0.5,
          "len": 1,
          "outlinecolor": "black",
          "outlinewidth": 0.25,
          "thickness": 15,
          "tickcolor": "black",
          "ticks": "outside"
         },
         "colorscale": [
          [
           0,
           "#2164AF"
          ],
          [
           0.5,
           "#EAEAEA"
          ],
          [
           1,
           "#D9482A"
          ]
         ],
         "hoverongaps": false,
         "showscale": true,
         "type": "heatmap",
         "x": [
          1,
          2,
          3,
          4,
          5,
          6,
          7,
          8,
          9,
          10,
          11,
          12
         ],
         "y": [
          "H",
          "G",
          "F",
          "E",
          "D",
          "C",
          "B",
          "A"
         ],
         "z": [
          [
           0.9000000000000021,
           1.2000000000000028,
           5.600000000000001,
           0.3000000000000007,
           0.6000000000000014,
           0.40000000000000213,
           0.40000000000000213,
           0.7000000000000028,
           0.5,
           null,
           null,
           null
          ],
          [
           1.6000000000000014,
           1.3000000000000007,
           3.1000000000000014,
           3.400000000000002,
           3,
           2.700000000000003,
           3.1000000000000014,
           0.10000000000000142,
           0.40000000000000213,
           0.6000000000000014,
           0.5,
           -0.3999999999999986
          ],
          [
           0.5,
           0.6000000000000014,
           2.3000000000000007,
           2.400000000000002,
           2.1000000000000014,
           2,
           1.6000000000000014,
           0.3000000000000007,
           -0.3999999999999986,
           0,
           -0.09999999999999787,
           -0.5999999999999979
          ],
          [
           0.10000000000000142,
           0.10000000000000142,
           1.5,
           1.6000000000000014,
           1.8000000000000007,
           1.5,
           1.2000000000000028,
           1.2000000000000028,
           -0.5999999999999979,
           0.10000000000000142,
           -0.29999999999999716,
           -0.8999999999999986
          ],
          [
           -0.3999999999999986,
           -0.29999999999999716,
           0.8000000000000007,
           0.8000000000000007,
           0.7000000000000028,
           0.6000000000000014,
           0.3000000000000007,
           0.3000000000000007,
           -0.7999999999999972,
           -0.3999999999999986,
           -0.6999999999999993,
           -1.2999999999999972
          ],
          [
           -0.3999999999999986,
           -0.6999999999999993,
           0.3000000000000007,
           0,
           -0.1999999999999993,
           2,
           -0.5999999999999979,
           -1,
           -0.6999999999999993,
           -0.29999999999999716,
           -1,
           -1.5
          ],
          [
           -0.8999999999999986,
           -0.6999999999999993,
           -1.0999999999999979,
           -0.6999999999999993,
           -0.6999999999999993,
           -1.1999999999999993,
           -1.5999999999999979,
           -1.3999999999999986,
           -1.0999999999999979,
           -0.8999999999999986,
           -1.0999999999999979,
           -1.6999999999999993
          ],
          [
           -1.7999999999999972,
           -1.5999999999999979,
           -1.6999999999999993,
           -1.6999999999999993,
           -1.6999999999999993,
           -1.8999999999999986,
           -1.8999999999999986,
           -1.8999999999999986,
           -1.7999999999999972,
           -1.5999999999999979,
           -1.5,
           -1.7999999999999972
          ]
         ],
         "zmax": 1.5,
         "zmin": -1.5
        }
       ],
       "layout": {
        "annotations": [
         {
          "showarrow": false,
          "text": "18.1",
          "x": 1,
          "xref": "x",
          "y": "A",
          "yref": "y"
         },
         {
          "showarrow": false,
          "text": "18.3",
          "x": 2,
          "xref": "x",
          "y": "A",
          "yref": "y"
         },
         {
          "showarrow": false,
          "text": "18.2",
          "x": 3,
          "xref": "x",
          "y": "A",
          "yref": "y"
         },
         {
          "showarrow": false,
          "text": "18.2",
          "x": 4,
          "xref": "x",
          "y": "A",
          "yref": "y"
         },
         {
          "showarrow": false,
          "text": "18.2",
          "x": 5,
          "xref": "x",
          "y": "A",
          "yref": "y"
         },
         {
          "showarrow": false,
          "text": "18.0",
          "x": 6,
          "xref": "x",
          "y": "A",
          "yref": "y"
         },
         {
          "showarrow": false,
          "text": "18.0",
          "x": 7,
          "xref": "x",
          "y": "A",
          "yref": "y"
         },
         {
          "showarrow": false,
          "text": "18.0",
          "x": 8,
          "xref": "x",
          "y": "A",
          "yref": "y"
         },
         {
          "showarrow": false,
          "text": "18.1",
          "x": 9,
          "xref": "x",
          "y": "A",
          "yref": "y"
         },
         {
          "showarrow": false,
          "text": "18.3",
          "x": 10,
          "xref": "x",
          "y": "A",
          "yref": "y"
         },
         {
          "showarrow": false,
          "text": "18.4",
          "x": 11,
          "xref": "x",
          "y": "A",
          "yref": "y"
         },
         {
          "showarrow": false,
          "text": "18.1",
          "x": 12,
          "xref": "x",
          "y": "A",
          "yref": "y"
         },
         {
          "showarrow": false,
          "text": "19.0",
          "x": 1,
          "xref": "x",
          "y": "B",
          "yref": "y"
         },
         {
          "showarrow": false,
          "text": "19.2",
          "x": 2,
          "xref": "x",
          "y": "B",
          "yref": "y"
         },
         {
          "showarrow": false,
          "text": "18.8",
          "x": 3,
          "xref": "x",
          "y": "B",
          "yref": "y"
         },
         {
          "showarrow": false,
          "text": "19.2",
          "x": 4,
          "xref": "x",
          "y": "B",
          "yref": "y"
         },
         {
          "showarrow": false,
          "text": "19.2",
          "x": 5,
          "xref": "x",
          "y": "B",
          "yref": "y"
         },
         {
          "showarrow": false,
          "text": "18.7",
          "x": 6,
          "xref": "x",
          "y": "B",
          "yref": "y"
         },
         {
          "showarrow": false,
          "text": "18.3",
          "x": 7,
          "xref": "x",
          "y": "B",
          "yref": "y"
         },
         {
          "showarrow": false,
          "text": "18.5",
          "x": 8,
          "xref": "x",
          "y": "B",
          "yref": "y"
         },
         {
          "showarrow": false,
          "text": "18.8",
          "x": 9,
          "xref": "x",
          "y": "B",
          "yref": "y"
         },
         {
          "showarrow": false,
          "text": "19.0",
          "x": 10,
          "xref": "x",
          "y": "B",
          "yref": "y"
         },
         {
          "showarrow": false,
          "text": "18.8",
          "x": 11,
          "xref": "x",
          "y": "B",
          "yref": "y"
         },
         {
          "showarrow": false,
          "text": "18.2",
          "x": 12,
          "xref": "x",
          "y": "B",
          "yref": "y"
         },
         {
          "showarrow": false,
          "text": "19.5",
          "x": 1,
          "xref": "x",
          "y": "C",
          "yref": "y"
         },
         {
          "showarrow": false,
          "text": "19.2",
          "x": 2,
          "xref": "x",
          "y": "C",
          "yref": "y"
         },
         {
          "showarrow": false,
          "text": "20.2",
          "x": 3,
          "xref": "x",
          "y": "C",
          "yref": "y"
         },
         {
          "showarrow": false,
          "text": "19.9",
          "x": 4,
          "xref": "x",
          "y": "C",
          "yref": "y"
         },
         {
          "showarrow": false,
          "text": "19.7",
          "x": 5,
          "xref": "x",
          "y": "C",
          "yref": "y"
         },
         {
          "showarrow": false,
          "text": "21.9",
          "x": 6,
          "xref": "x",
          "y": "C",
          "yref": "y"
         },
         {
          "showarrow": false,
          "text": "19.3",
          "x": 7,
          "xref": "x",
          "y": "C",
          "yref": "y"
         },
         {
          "showarrow": false,
          "text": "18.9",
          "x": 8,
          "xref": "x",
          "y": "C",
          "yref": "y"
         },
         {
          "showarrow": false,
          "text": "19.2",
          "x": 9,
          "xref": "x",
          "y": "C",
          "yref": "y"
         },
         {
          "showarrow": false,
          "text": "19.6",
          "x": 10,
          "xref": "x",
          "y": "C",
          "yref": "y"
         },
         {
          "showarrow": false,
          "text": "18.9",
          "x": 11,
          "xref": "x",
          "y": "C",
          "yref": "y"
         },
         {
          "showarrow": false,
          "text": "18.4",
          "x": 12,
          "xref": "x",
          "y": "C",
          "yref": "y"
         },
         {
          "showarrow": false,
          "text": "19.5",
          "x": 1,
          "xref": "x",
          "y": "D",
          "yref": "y"
         },
         {
          "showarrow": false,
          "text": "19.6",
          "x": 2,
          "xref": "x",
          "y": "D",
          "yref": "y"
         },
         {
          "showarrow": false,
          "text": "20.7",
          "x": 3,
          "xref": "x",
          "y": "D",
          "yref": "y"
         },
         {
          "showarrow": false,
          "text": "20.7",
          "x": 4,
          "xref": "x",
          "y": "D",
          "yref": "y"
         },
         {
          "showarrow": false,
          "text": "20.6",
          "x": 5,
          "xref": "x",
          "y": "D",
          "yref": "y"
         },
         {
          "showarrow": false,
          "text": "20.5",
          "x": 6,
          "xref": "x",
          "y": "D",
          "yref": "y"
         },
         {
          "showarrow": false,
          "text": "20.2",
          "x": 7,
          "xref": "x",
          "y": "D",
          "yref": "y"
         },
         {
          "showarrow": false,
          "text": "20.2",
          "x": 8,
          "xref": "x",
          "y": "D",
          "yref": "y"
         },
         {
          "showarrow": false,
          "text": "19.1",
          "x": 9,
          "xref": "x",
          "y": "D",
          "yref": "y"
         },
         {
          "showarrow": false,
          "text": "19.5",
          "x": 10,
          "xref": "x",
          "y": "D",
          "yref": "y"
         },
         {
          "showarrow": false,
          "text": "19.2",
          "x": 11,
          "xref": "x",
          "y": "D",
          "yref": "y"
         },
         {
          "showarrow": false,
          "text": "18.6",
          "x": 12,
          "xref": "x",
          "y": "D",
          "yref": "y"
         },
         {
          "showarrow": false,
          "text": "20.0",
          "x": 1,
          "xref": "x",
          "y": "E",
          "yref": "y"
         },
         {
          "showarrow": false,
          "text": "20.0",
          "x": 2,
          "xref": "x",
          "y": "E",
          "yref": "y"
         },
         {
          "showarrow": false,
          "text": "21.4",
          "x": 3,
          "xref": "x",
          "y": "E",
          "yref": "y"
         },
         {
          "showarrow": false,
          "text": "21.5",
          "x": 4,
          "xref": "x",
          "y": "E",
          "yref": "y"
         },
         {
          "showarrow": false,
          "text": "21.7",
          "x": 5,
          "xref": "x",
          "y": "E",
          "yref": "y"
         },
         {
          "showarrow": false,
          "text": "21.4",
          "x": 6,
          "xref": "x",
          "y": "E",
          "yref": "y"
         },
         {
          "showarrow": false,
          "text": "21.1",
          "x": 7,
          "xref": "x",
          "y": "E",
          "yref": "y"
         },
         {
          "showarrow": false,
          "text": "21.1",
          "x": 8,
          "xref": "x",
          "y": "E",
          "yref": "y"
         },
         {
          "showarrow": false,
          "text": "19.3",
          "x": 9,
          "xref": "x",
          "y": "E",
          "yref": "y"
         },
         {
          "showarrow": false,
          "text": "20.0",
          "x": 10,
          "xref": "x",
          "y": "E",
          "yref": "y"
         },
         {
          "showarrow": false,
          "text": "19.6",
          "x": 11,
          "xref": "x",
          "y": "E",
          "yref": "y"
         },
         {
          "showarrow": false,
          "text": "19.0",
          "x": 12,
          "xref": "x",
          "y": "E",
          "yref": "y"
         },
         {
          "showarrow": false,
          "text": "20.4",
          "x": 1,
          "xref": "x",
          "y": "F",
          "yref": "y"
         },
         {
          "showarrow": false,
          "text": "20.5",
          "x": 2,
          "xref": "x",
          "y": "F",
          "yref": "y"
         },
         {
          "showarrow": false,
          "text": "22.2",
          "x": 3,
          "xref": "x",
          "y": "F",
          "yref": "y"
         },
         {
          "showarrow": false,
          "text": "22.3",
          "x": 4,
          "xref": "x",
          "y": "F",
          "yref": "y"
         },
         {
          "showarrow": false,
          "text": "22.0",
          "x": 5,
          "xref": "x",
          "y": "F",
          "yref": "y"
         },
         {
          "showarrow": false,
          "text": "21.9",
          "x": 6,
          "xref": "x",
          "y": "F",
          "yref": "y"
         },
         {
          "showarrow": false,
          "text": "21.5",
          "x": 7,
          "xref": "x",
          "y": "F",
          "yref": "y"
         },
         {
          "showarrow": false,
          "text": "20.2",
          "x": 8,
          "xref": "x",
          "y": "F",
          "yref": "y"
         },
         {
          "showarrow": false,
          "text": "19.5",
          "x": 9,
          "xref": "x",
          "y": "F",
          "yref": "y"
         },
         {
          "showarrow": false,
          "text": "19.9",
          "x": 10,
          "xref": "x",
          "y": "F",
          "yref": "y"
         },
         {
          "showarrow": false,
          "text": "19.8",
          "x": 11,
          "xref": "x",
          "y": "F",
          "yref": "y"
         },
         {
          "showarrow": false,
          "text": "19.3",
          "x": 12,
          "xref": "x",
          "y": "F",
          "yref": "y"
         },
         {
          "showarrow": false,
          "text": "21.5",
          "x": 1,
          "xref": "x",
          "y": "G",
          "yref": "y"
         },
         {
          "showarrow": false,
          "text": "21.2",
          "x": 2,
          "xref": "x",
          "y": "G",
          "yref": "y"
         },
         {
          "showarrow": false,
          "text": "23.0",
          "x": 3,
          "xref": "x",
          "y": "G",
          "yref": "y"
         },
         {
          "showarrow": false,
          "text": "23.3",
          "x": 4,
          "xref": "x",
          "y": "G",
          "yref": "y"
         },
         {
          "showarrow": false,
          "text": "22.9",
          "x": 5,
          "xref": "x",
          "y": "G",
          "yref": "y"
         },
         {
          "showarrow": false,
          "text": "22.6",
          "x": 6,
          "xref": "x",
          "y": "G",
          "yref": "y"
         },
         {
          "showarrow": false,
          "text": "23.0",
          "x": 7,
          "xref": "x",
          "y": "G",
          "yref": "y"
         },
         {
          "showarrow": false,
          "text": "20.0",
          "x": 8,
          "xref": "x",
          "y": "G",
          "yref": "y"
         },
         {
          "showarrow": false,
          "text": "20.3",
          "x": 9,
          "xref": "x",
          "y": "G",
          "yref": "y"
         },
         {
          "showarrow": false,
          "text": "20.5",
          "x": 10,
          "xref": "x",
          "y": "G",
          "yref": "y"
         },
         {
          "showarrow": false,
          "text": "20.4",
          "x": 11,
          "xref": "x",
          "y": "G",
          "yref": "y"
         },
         {
          "showarrow": false,
          "text": "19.5",
          "x": 12,
          "xref": "x",
          "y": "G",
          "yref": "y"
         },
         {
          "showarrow": false,
          "text": "20.8",
          "x": 1,
          "xref": "x",
          "y": "H",
          "yref": "y"
         },
         {
          "showarrow": false,
          "text": "21.1",
          "x": 2,
          "xref": "x",
          "y": "H",
          "yref": "y"
         },
         {
          "showarrow": false,
          "text": "25.5",
          "x": 3,
          "xref": "x",
          "y": "H",
          "yref": "y"
         },
         {
          "showarrow": false,
          "text": "20.2",
          "x": 4,
          "xref": "x",
          "y": "H",
          "yref": "y"
         },
         {
          "showarrow": false,
          "text": "20.5",
          "x": 5,
          "xref": "x",
          "y": "H",
          "yref": "y"
         },
         {
          "showarrow": false,
          "text": "20.3",
          "x": 6,
          "xref": "x",
          "y": "H",
          "yref": "y"
         },
         {
          "showarrow": false,
          "text": "20.3",
          "x": 7,
          "xref": "x",
          "y": "H",
          "yref": "y"
         },
         {
          "showarrow": false,
          "text": "20.6",
          "x": 8,
          "xref": "x",
          "y": "H",
          "yref": "y"
         },
         {
          "showarrow": false,
          "text": "20.4",
          "x": 9,
          "xref": "x",
          "y": "H",
          "yref": "y"
         },
         {
          "showarrow": false,
          "text": "nan",
          "x": 10,
          "xref": "x",
          "y": "H",
          "yref": "y"
         },
         {
          "showarrow": false,
          "text": "nan",
          "x": 11,
          "xref": "x",
          "y": "H",
          "yref": "y"
         },
         {
          "showarrow": false,
          "text": "nan",
          "x": 12,
          "xref": "x",
          "y": "H",
          "yref": "y"
         }
        ],
        "height": 450,
        "showlegend": false,
        "template": {
         "data": {
          "scatter": [
           {
            "type": "scatter"
           }
          ]
         }
        },
        "title": {
         "text": "Gas Permeable Film"
        },
        "width": 575,
        "xaxis": {
         "linecolor": "black",
         "linewidth": 1,
         "mirror": true,
         "nticks": 20,
         "showgrid": false,
         "showline": true,
         "side": "top",
         "tickangle": 0,
         "tickcolor": "black",
         "tickfont": {
          "color": "black",
          "family": "Arial",
          "size": 13
         },
         "ticklen": 4,
         "ticks": ""
        },
        "yaxis": {
         "linecolor": "black",
         "linewidth": 1,
         "mirror": true,
         "nticks": 0,
         "showgrid": false,
         "showline": true,
         "tickangle": 0,
         "tickcolor": "black",
         "tickfont": {
          "color": "black",
          "family": "Arial",
          "size": 13
         },
         "ticklen": 4,
         "ticks": "",
         "title": {
          "font": {
           "color": "black",
           "family": "Arial",
           "size": 16
          },
          "standoff": 0
         }
        }
       }
      },
      "text/html": [
       "<div>                            <div id=\"cfaec4b5-6395-460e-a2d7-27590e02bcc9\" class=\"plotly-graph-div\" style=\"height:450px; width:575px;\"></div>            <script type=\"text/javascript\">                require([\"plotly\"], function(Plotly) {                    window.PLOTLYENV=window.PLOTLYENV || {};                                    if (document.getElementById(\"cfaec4b5-6395-460e-a2d7-27590e02bcc9\")) {                    Plotly.newPlot(                        \"cfaec4b5-6395-460e-a2d7-27590e02bcc9\",                        [{\"colorbar\": {\"dtick\": 0.5, \"len\": 1, \"outlinecolor\": \"black\", \"outlinewidth\": 0.25, \"thickness\": 15, \"tickcolor\": \"black\", \"ticks\": \"outside\"}, \"colorscale\": [[0, \"#2164AF\"], [0.5, \"#EAEAEA\"], [1, \"#D9482A\"]], \"hoverongaps\": false, \"showscale\": true, \"type\": \"heatmap\", \"x\": [1, 2, 3, 4, 5, 6, 7, 8, 9, 10, 11, 12], \"y\": [\"H\", \"G\", \"F\", \"E\", \"D\", \"C\", \"B\", \"A\"], \"z\": [[0.9000000000000021, 1.2000000000000028, 5.600000000000001, 0.3000000000000007, 0.6000000000000014, 0.40000000000000213, 0.40000000000000213, 0.7000000000000028, 0.5, null, null, null], [1.6000000000000014, 1.3000000000000007, 3.1000000000000014, 3.400000000000002, 3.0, 2.700000000000003, 3.1000000000000014, 0.10000000000000142, 0.40000000000000213, 0.6000000000000014, 0.5, -0.3999999999999986], [0.5, 0.6000000000000014, 2.3000000000000007, 2.400000000000002, 2.1000000000000014, 2.0, 1.6000000000000014, 0.3000000000000007, -0.3999999999999986, 0.0, -0.09999999999999787, -0.5999999999999979], [0.10000000000000142, 0.10000000000000142, 1.5, 1.6000000000000014, 1.8000000000000007, 1.5, 1.2000000000000028, 1.2000000000000028, -0.5999999999999979, 0.10000000000000142, -0.29999999999999716, -0.8999999999999986], [-0.3999999999999986, -0.29999999999999716, 0.8000000000000007, 0.8000000000000007, 0.7000000000000028, 0.6000000000000014, 0.3000000000000007, 0.3000000000000007, -0.7999999999999972, -0.3999999999999986, -0.6999999999999993, -1.2999999999999972], [-0.3999999999999986, -0.6999999999999993, 0.3000000000000007, 0.0, -0.1999999999999993, 2.0, -0.5999999999999979, -1.0, -0.6999999999999993, -0.29999999999999716, -1.0, -1.5], [-0.8999999999999986, -0.6999999999999993, -1.0999999999999979, -0.6999999999999993, -0.6999999999999993, -1.1999999999999993, -1.5999999999999979, -1.3999999999999986, -1.0999999999999979, -0.8999999999999986, -1.0999999999999979, -1.6999999999999993], [-1.7999999999999972, -1.5999999999999979, -1.6999999999999993, -1.6999999999999993, -1.6999999999999993, -1.8999999999999986, -1.8999999999999986, -1.8999999999999986, -1.7999999999999972, -1.5999999999999979, -1.5, -1.7999999999999972]], \"zmax\": 1.5, \"zmin\": -1.5}],                        {\"annotations\": [{\"showarrow\": false, \"text\": \"18.1\", \"x\": 1, \"xref\": \"x\", \"y\": \"A\", \"yref\": \"y\"}, {\"showarrow\": false, \"text\": \"18.3\", \"x\": 2, \"xref\": \"x\", \"y\": \"A\", \"yref\": \"y\"}, {\"showarrow\": false, \"text\": \"18.2\", \"x\": 3, \"xref\": \"x\", \"y\": \"A\", \"yref\": \"y\"}, {\"showarrow\": false, \"text\": \"18.2\", \"x\": 4, \"xref\": \"x\", \"y\": \"A\", \"yref\": \"y\"}, {\"showarrow\": false, \"text\": \"18.2\", \"x\": 5, \"xref\": \"x\", \"y\": \"A\", \"yref\": \"y\"}, {\"showarrow\": false, \"text\": \"18.0\", \"x\": 6, \"xref\": \"x\", \"y\": \"A\", \"yref\": \"y\"}, {\"showarrow\": false, \"text\": \"18.0\", \"x\": 7, \"xref\": \"x\", \"y\": \"A\", \"yref\": \"y\"}, {\"showarrow\": false, \"text\": \"18.0\", \"x\": 8, \"xref\": \"x\", \"y\": \"A\", \"yref\": \"y\"}, {\"showarrow\": false, \"text\": \"18.1\", \"x\": 9, \"xref\": \"x\", \"y\": \"A\", \"yref\": \"y\"}, {\"showarrow\": false, \"text\": \"18.3\", \"x\": 10, \"xref\": \"x\", \"y\": \"A\", \"yref\": \"y\"}, {\"showarrow\": false, \"text\": \"18.4\", \"x\": 11, \"xref\": \"x\", \"y\": \"A\", \"yref\": \"y\"}, {\"showarrow\": false, \"text\": \"18.1\", \"x\": 12, \"xref\": \"x\", \"y\": \"A\", \"yref\": \"y\"}, {\"showarrow\": false, \"text\": \"19.0\", \"x\": 1, \"xref\": \"x\", \"y\": \"B\", \"yref\": \"y\"}, {\"showarrow\": false, \"text\": \"19.2\", \"x\": 2, \"xref\": \"x\", \"y\": \"B\", \"yref\": \"y\"}, {\"showarrow\": false, \"text\": \"18.8\", \"x\": 3, \"xref\": \"x\", \"y\": \"B\", \"yref\": \"y\"}, {\"showarrow\": false, \"text\": \"19.2\", \"x\": 4, \"xref\": \"x\", \"y\": \"B\", \"yref\": \"y\"}, {\"showarrow\": false, \"text\": \"19.2\", \"x\": 5, \"xref\": \"x\", \"y\": \"B\", \"yref\": \"y\"}, {\"showarrow\": false, \"text\": \"18.7\", \"x\": 6, \"xref\": \"x\", \"y\": \"B\", \"yref\": \"y\"}, {\"showarrow\": false, \"text\": \"18.3\", \"x\": 7, \"xref\": \"x\", \"y\": \"B\", \"yref\": \"y\"}, {\"showarrow\": false, \"text\": \"18.5\", \"x\": 8, \"xref\": \"x\", \"y\": \"B\", \"yref\": \"y\"}, {\"showarrow\": false, \"text\": \"18.8\", \"x\": 9, \"xref\": \"x\", \"y\": \"B\", \"yref\": \"y\"}, {\"showarrow\": false, \"text\": \"19.0\", \"x\": 10, \"xref\": \"x\", \"y\": \"B\", \"yref\": \"y\"}, {\"showarrow\": false, \"text\": \"18.8\", \"x\": 11, \"xref\": \"x\", \"y\": \"B\", \"yref\": \"y\"}, {\"showarrow\": false, \"text\": \"18.2\", \"x\": 12, \"xref\": \"x\", \"y\": \"B\", \"yref\": \"y\"}, {\"showarrow\": false, \"text\": \"19.5\", \"x\": 1, \"xref\": \"x\", \"y\": \"C\", \"yref\": \"y\"}, {\"showarrow\": false, \"text\": \"19.2\", \"x\": 2, \"xref\": \"x\", \"y\": \"C\", \"yref\": \"y\"}, {\"showarrow\": false, \"text\": \"20.2\", \"x\": 3, \"xref\": \"x\", \"y\": \"C\", \"yref\": \"y\"}, {\"showarrow\": false, \"text\": \"19.9\", \"x\": 4, \"xref\": \"x\", \"y\": \"C\", \"yref\": \"y\"}, {\"showarrow\": false, \"text\": \"19.7\", \"x\": 5, \"xref\": \"x\", \"y\": \"C\", \"yref\": \"y\"}, {\"showarrow\": false, \"text\": \"21.9\", \"x\": 6, \"xref\": \"x\", \"y\": \"C\", \"yref\": \"y\"}, {\"showarrow\": false, \"text\": \"19.3\", \"x\": 7, \"xref\": \"x\", \"y\": \"C\", \"yref\": \"y\"}, {\"showarrow\": false, \"text\": \"18.9\", \"x\": 8, \"xref\": \"x\", \"y\": \"C\", \"yref\": \"y\"}, {\"showarrow\": false, \"text\": \"19.2\", \"x\": 9, \"xref\": \"x\", \"y\": \"C\", \"yref\": \"y\"}, {\"showarrow\": false, \"text\": \"19.6\", \"x\": 10, \"xref\": \"x\", \"y\": \"C\", \"yref\": \"y\"}, {\"showarrow\": false, \"text\": \"18.9\", \"x\": 11, \"xref\": \"x\", \"y\": \"C\", \"yref\": \"y\"}, {\"showarrow\": false, \"text\": \"18.4\", \"x\": 12, \"xref\": \"x\", \"y\": \"C\", \"yref\": \"y\"}, {\"showarrow\": false, \"text\": \"19.5\", \"x\": 1, \"xref\": \"x\", \"y\": \"D\", \"yref\": \"y\"}, {\"showarrow\": false, \"text\": \"19.6\", \"x\": 2, \"xref\": \"x\", \"y\": \"D\", \"yref\": \"y\"}, {\"showarrow\": false, \"text\": \"20.7\", \"x\": 3, \"xref\": \"x\", \"y\": \"D\", \"yref\": \"y\"}, {\"showarrow\": false, \"text\": \"20.7\", \"x\": 4, \"xref\": \"x\", \"y\": \"D\", \"yref\": \"y\"}, {\"showarrow\": false, \"text\": \"20.6\", \"x\": 5, \"xref\": \"x\", \"y\": \"D\", \"yref\": \"y\"}, {\"showarrow\": false, \"text\": \"20.5\", \"x\": 6, \"xref\": \"x\", \"y\": \"D\", \"yref\": \"y\"}, {\"showarrow\": false, \"text\": \"20.2\", \"x\": 7, \"xref\": \"x\", \"y\": \"D\", \"yref\": \"y\"}, {\"showarrow\": false, \"text\": \"20.2\", \"x\": 8, \"xref\": \"x\", \"y\": \"D\", \"yref\": \"y\"}, {\"showarrow\": false, \"text\": \"19.1\", \"x\": 9, \"xref\": \"x\", \"y\": \"D\", \"yref\": \"y\"}, {\"showarrow\": false, \"text\": \"19.5\", \"x\": 10, \"xref\": \"x\", \"y\": \"D\", \"yref\": \"y\"}, {\"showarrow\": false, \"text\": \"19.2\", \"x\": 11, \"xref\": \"x\", \"y\": \"D\", \"yref\": \"y\"}, {\"showarrow\": false, \"text\": \"18.6\", \"x\": 12, \"xref\": \"x\", \"y\": \"D\", \"yref\": \"y\"}, {\"showarrow\": false, \"text\": \"20.0\", \"x\": 1, \"xref\": \"x\", \"y\": \"E\", \"yref\": \"y\"}, {\"showarrow\": false, \"text\": \"20.0\", \"x\": 2, \"xref\": \"x\", \"y\": \"E\", \"yref\": \"y\"}, {\"showarrow\": false, \"text\": \"21.4\", \"x\": 3, \"xref\": \"x\", \"y\": \"E\", \"yref\": \"y\"}, {\"showarrow\": false, \"text\": \"21.5\", \"x\": 4, \"xref\": \"x\", \"y\": \"E\", \"yref\": \"y\"}, {\"showarrow\": false, \"text\": \"21.7\", \"x\": 5, \"xref\": \"x\", \"y\": \"E\", \"yref\": \"y\"}, {\"showarrow\": false, \"text\": \"21.4\", \"x\": 6, \"xref\": \"x\", \"y\": \"E\", \"yref\": \"y\"}, {\"showarrow\": false, \"text\": \"21.1\", \"x\": 7, \"xref\": \"x\", \"y\": \"E\", \"yref\": \"y\"}, {\"showarrow\": false, \"text\": \"21.1\", \"x\": 8, \"xref\": \"x\", \"y\": \"E\", \"yref\": \"y\"}, {\"showarrow\": false, \"text\": \"19.3\", \"x\": 9, \"xref\": \"x\", \"y\": \"E\", \"yref\": \"y\"}, {\"showarrow\": false, \"text\": \"20.0\", \"x\": 10, \"xref\": \"x\", \"y\": \"E\", \"yref\": \"y\"}, {\"showarrow\": false, \"text\": \"19.6\", \"x\": 11, \"xref\": \"x\", \"y\": \"E\", \"yref\": \"y\"}, {\"showarrow\": false, \"text\": \"19.0\", \"x\": 12, \"xref\": \"x\", \"y\": \"E\", \"yref\": \"y\"}, {\"showarrow\": false, \"text\": \"20.4\", \"x\": 1, \"xref\": \"x\", \"y\": \"F\", \"yref\": \"y\"}, {\"showarrow\": false, \"text\": \"20.5\", \"x\": 2, \"xref\": \"x\", \"y\": \"F\", \"yref\": \"y\"}, {\"showarrow\": false, \"text\": \"22.2\", \"x\": 3, \"xref\": \"x\", \"y\": \"F\", \"yref\": \"y\"}, {\"showarrow\": false, \"text\": \"22.3\", \"x\": 4, \"xref\": \"x\", \"y\": \"F\", \"yref\": \"y\"}, {\"showarrow\": false, \"text\": \"22.0\", \"x\": 5, \"xref\": \"x\", \"y\": \"F\", \"yref\": \"y\"}, {\"showarrow\": false, \"text\": \"21.9\", \"x\": 6, \"xref\": \"x\", \"y\": \"F\", \"yref\": \"y\"}, {\"showarrow\": false, \"text\": \"21.5\", \"x\": 7, \"xref\": \"x\", \"y\": \"F\", \"yref\": \"y\"}, {\"showarrow\": false, \"text\": \"20.2\", \"x\": 8, \"xref\": \"x\", \"y\": \"F\", \"yref\": \"y\"}, {\"showarrow\": false, \"text\": \"19.5\", \"x\": 9, \"xref\": \"x\", \"y\": \"F\", \"yref\": \"y\"}, {\"showarrow\": false, \"text\": \"19.9\", \"x\": 10, \"xref\": \"x\", \"y\": \"F\", \"yref\": \"y\"}, {\"showarrow\": false, \"text\": \"19.8\", \"x\": 11, \"xref\": \"x\", \"y\": \"F\", \"yref\": \"y\"}, {\"showarrow\": false, \"text\": \"19.3\", \"x\": 12, \"xref\": \"x\", \"y\": \"F\", \"yref\": \"y\"}, {\"showarrow\": false, \"text\": \"21.5\", \"x\": 1, \"xref\": \"x\", \"y\": \"G\", \"yref\": \"y\"}, {\"showarrow\": false, \"text\": \"21.2\", \"x\": 2, \"xref\": \"x\", \"y\": \"G\", \"yref\": \"y\"}, {\"showarrow\": false, \"text\": \"23.0\", \"x\": 3, \"xref\": \"x\", \"y\": \"G\", \"yref\": \"y\"}, {\"showarrow\": false, \"text\": \"23.3\", \"x\": 4, \"xref\": \"x\", \"y\": \"G\", \"yref\": \"y\"}, {\"showarrow\": false, \"text\": \"22.9\", \"x\": 5, \"xref\": \"x\", \"y\": \"G\", \"yref\": \"y\"}, {\"showarrow\": false, \"text\": \"22.6\", \"x\": 6, \"xref\": \"x\", \"y\": \"G\", \"yref\": \"y\"}, {\"showarrow\": false, \"text\": \"23.0\", \"x\": 7, \"xref\": \"x\", \"y\": \"G\", \"yref\": \"y\"}, {\"showarrow\": false, \"text\": \"20.0\", \"x\": 8, \"xref\": \"x\", \"y\": \"G\", \"yref\": \"y\"}, {\"showarrow\": false, \"text\": \"20.3\", \"x\": 9, \"xref\": \"x\", \"y\": \"G\", \"yref\": \"y\"}, {\"showarrow\": false, \"text\": \"20.5\", \"x\": 10, \"xref\": \"x\", \"y\": \"G\", \"yref\": \"y\"}, {\"showarrow\": false, \"text\": \"20.4\", \"x\": 11, \"xref\": \"x\", \"y\": \"G\", \"yref\": \"y\"}, {\"showarrow\": false, \"text\": \"19.5\", \"x\": 12, \"xref\": \"x\", \"y\": \"G\", \"yref\": \"y\"}, {\"showarrow\": false, \"text\": \"20.8\", \"x\": 1, \"xref\": \"x\", \"y\": \"H\", \"yref\": \"y\"}, {\"showarrow\": false, \"text\": \"21.1\", \"x\": 2, \"xref\": \"x\", \"y\": \"H\", \"yref\": \"y\"}, {\"showarrow\": false, \"text\": \"25.5\", \"x\": 3, \"xref\": \"x\", \"y\": \"H\", \"yref\": \"y\"}, {\"showarrow\": false, \"text\": \"20.2\", \"x\": 4, \"xref\": \"x\", \"y\": \"H\", \"yref\": \"y\"}, {\"showarrow\": false, \"text\": \"20.5\", \"x\": 5, \"xref\": \"x\", \"y\": \"H\", \"yref\": \"y\"}, {\"showarrow\": false, \"text\": \"20.3\", \"x\": 6, \"xref\": \"x\", \"y\": \"H\", \"yref\": \"y\"}, {\"showarrow\": false, \"text\": \"20.3\", \"x\": 7, \"xref\": \"x\", \"y\": \"H\", \"yref\": \"y\"}, {\"showarrow\": false, \"text\": \"20.6\", \"x\": 8, \"xref\": \"x\", \"y\": \"H\", \"yref\": \"y\"}, {\"showarrow\": false, \"text\": \"20.4\", \"x\": 9, \"xref\": \"x\", \"y\": \"H\", \"yref\": \"y\"}, {\"showarrow\": false, \"text\": \"nan\", \"x\": 10, \"xref\": \"x\", \"y\": \"H\", \"yref\": \"y\"}, {\"showarrow\": false, \"text\": \"nan\", \"x\": 11, \"xref\": \"x\", \"y\": \"H\", \"yref\": \"y\"}, {\"showarrow\": false, \"text\": \"nan\", \"x\": 12, \"xref\": \"x\", \"y\": \"H\", \"yref\": \"y\"}], \"height\": 450, \"showlegend\": false, \"template\": {\"data\": {\"scatter\": [{\"type\": \"scatter\"}]}}, \"title\": {\"text\": \"Gas Permeable Film\"}, \"width\": 575, \"xaxis\": {\"linecolor\": \"black\", \"linewidth\": 1, \"mirror\": true, \"nticks\": 20, \"showgrid\": false, \"showline\": true, \"side\": \"top\", \"tickangle\": 0, \"tickcolor\": \"black\", \"tickfont\": {\"color\": \"black\", \"family\": \"Arial\", \"size\": 13}, \"ticklen\": 4, \"ticks\": \"\"}, \"yaxis\": {\"linecolor\": \"black\", \"linewidth\": 1, \"mirror\": true, \"nticks\": 0, \"showgrid\": false, \"showline\": true, \"tickangle\": 0, \"tickcolor\": \"black\", \"tickfont\": {\"color\": \"black\", \"family\": \"Arial\", \"size\": 13}, \"ticklen\": 4, \"ticks\": \"\", \"title\": {\"font\": {\"color\": \"black\", \"family\": \"Arial\", \"size\": 16}, \"standoff\": 0}}},                        {\"responsive\": true}                    ).then(function(){\n",
       "                            \n",
       "var gd = document.getElementById('cfaec4b5-6395-460e-a2d7-27590e02bcc9');\n",
       "var x = new MutationObserver(function (mutations, observer) {{\n",
       "        var display = window.getComputedStyle(gd).display;\n",
       "        if (!display || display === 'none') {{\n",
       "            console.log([gd, 'removed!']);\n",
       "            Plotly.purge(gd);\n",
       "            observer.disconnect();\n",
       "        }}\n",
       "}});\n",
       "\n",
       "// Listen for the removal of the full notebook cells\n",
       "var notebookContainer = gd.closest('#notebook-container');\n",
       "if (notebookContainer) {{\n",
       "    x.observe(notebookContainer, {childList: true});\n",
       "}}\n",
       "\n",
       "// Listen for the clearing of the current output cell\n",
       "var outputEl = gd.closest('.output');\n",
       "if (outputEl) {{\n",
       "    x.observe(outputEl, {childList: true});\n",
       "}}\n",
       "\n",
       "                        })                };                });            </script>        </div>"
      ]
     },
     "metadata": {},
     "output_type": "display_data"
    },
    {
     "data": {
      "application/vnd.plotly.v1+json": {
       "config": {
        "plotlyServerURL": "https://plot.ly"
       },
       "data": [
        {
         "colorbar": {
          "dtick": 0.5,
          "len": 1,
          "outlinecolor": "black",
          "outlinewidth": 0.25,
          "thickness": 15,
          "tickcolor": "black",
          "ticks": "outside"
         },
         "colorscale": [
          [
           0,
           "#2164AF"
          ],
          [
           0.5,
           "#EAEAEA"
          ],
          [
           1,
           "#D9482A"
          ]
         ],
         "hoverongaps": false,
         "showscale": true,
         "type": "heatmap",
         "x": [
          1,
          2,
          3,
          4,
          5,
          6,
          7,
          8,
          9,
          10,
          11,
          12
         ],
         "y": [
          "H",
          "G",
          "F",
          "E",
          "D",
          "C",
          "B",
          "A"
         ],
         "z": [
          [
           3.6999999999999993,
           2.6999999999999993,
           2.8999999999999986,
           2.799999999999997,
           2.299999999999997,
           2.799999999999997,
           2.099999999999998,
           2.099999999999998,
           1.8999999999999986,
           null,
           null,
           null
          ],
          [
           4.699999999999999,
           3.1999999999999993,
           2.8999999999999986,
           2.599999999999998,
           1.6999999999999993,
           1.7999999999999972,
           1.6999999999999993,
           1.0999999999999979,
           0.6999999999999993,
           0.5999999999999979,
           0.7999999999999972,
           2.6999999999999993
          ],
          [
           2.5,
           2.1999999999999993,
           1.7999999999999972,
           0.7999999999999972,
           0.5999999999999979,
           0.29999999999999716,
           0.1999999999999993,
           0,
           -0.20000000000000284,
           -0.20000000000000284,
           -0.10000000000000142,
           0.09999999999999787
          ],
          [
           2.1999999999999993,
           1.8999999999999986,
           1.1999999999999993,
           0.8999999999999986,
           0.3999999999999986,
           0.09999999999999787,
           0,
           0.09999999999999787,
           -0.20000000000000284,
           0.5,
           -0.40000000000000213,
           -0.9000000000000021
          ],
          [
           1.1999999999999993,
           1.2999999999999972,
           0.5,
           0.29999999999999716,
           0,
           -0.3000000000000007,
           -0.3000000000000007,
           -0.6000000000000014,
           -0.7000000000000028,
           -0.6000000000000014,
           -0.5,
           -0.6000000000000014
          ],
          [
           1.7999999999999972,
           0.7999999999999972,
           -0.10000000000000142,
           -0.20000000000000284,
           -0.3000000000000007,
           -0.6000000000000014,
           -0.7000000000000028,
           -0.7000000000000028,
           -0.7000000000000028,
           -0.6000000000000014,
           -0.5,
           -0.8000000000000007
          ],
          [
           1.0999999999999979,
           0.5999999999999979,
           0,
           -0.6000000000000014,
           -0.7000000000000028,
           -0.8000000000000007,
           -1,
           -1,
           -0.9000000000000021,
           -0.6000000000000014,
           -0.10000000000000142,
           -0.7000000000000028
          ],
          [
           0.6999999999999993,
           0,
           -0.40000000000000213,
           -0.6000000000000014,
           -0.7000000000000028,
           -0.8000000000000007,
           -0.8000000000000007,
           -0.9000000000000021,
           -0.8000000000000007,
           -0.9000000000000021,
           -0.8000000000000007,
           -0.7000000000000028
          ]
         ],
         "zmax": 1.5,
         "zmin": -1.5
        }
       ],
       "layout": {
        "annotations": [
         {
          "showarrow": false,
          "text": "19.8",
          "x": 1,
          "xref": "x",
          "y": "A",
          "yref": "y"
         },
         {
          "showarrow": false,
          "text": "19.1",
          "x": 2,
          "xref": "x",
          "y": "A",
          "yref": "y"
         },
         {
          "showarrow": false,
          "text": "18.7",
          "x": 3,
          "xref": "x",
          "y": "A",
          "yref": "y"
         },
         {
          "showarrow": false,
          "text": "18.5",
          "x": 4,
          "xref": "x",
          "y": "A",
          "yref": "y"
         },
         {
          "showarrow": false,
          "text": "18.4",
          "x": 5,
          "xref": "x",
          "y": "A",
          "yref": "y"
         },
         {
          "showarrow": false,
          "text": "18.3",
          "x": 6,
          "xref": "x",
          "y": "A",
          "yref": "y"
         },
         {
          "showarrow": false,
          "text": "18.3",
          "x": 7,
          "xref": "x",
          "y": "A",
          "yref": "y"
         },
         {
          "showarrow": false,
          "text": "18.2",
          "x": 8,
          "xref": "x",
          "y": "A",
          "yref": "y"
         },
         {
          "showarrow": false,
          "text": "18.3",
          "x": 9,
          "xref": "x",
          "y": "A",
          "yref": "y"
         },
         {
          "showarrow": false,
          "text": "18.2",
          "x": 10,
          "xref": "x",
          "y": "A",
          "yref": "y"
         },
         {
          "showarrow": false,
          "text": "18.3",
          "x": 11,
          "xref": "x",
          "y": "A",
          "yref": "y"
         },
         {
          "showarrow": false,
          "text": "18.4",
          "x": 12,
          "xref": "x",
          "y": "A",
          "yref": "y"
         },
         {
          "showarrow": false,
          "text": "20.2",
          "x": 1,
          "xref": "x",
          "y": "B",
          "yref": "y"
         },
         {
          "showarrow": false,
          "text": "19.7",
          "x": 2,
          "xref": "x",
          "y": "B",
          "yref": "y"
         },
         {
          "showarrow": false,
          "text": "19.1",
          "x": 3,
          "xref": "x",
          "y": "B",
          "yref": "y"
         },
         {
          "showarrow": false,
          "text": "18.5",
          "x": 4,
          "xref": "x",
          "y": "B",
          "yref": "y"
         },
         {
          "showarrow": false,
          "text": "18.4",
          "x": 5,
          "xref": "x",
          "y": "B",
          "yref": "y"
         },
         {
          "showarrow": false,
          "text": "18.3",
          "x": 6,
          "xref": "x",
          "y": "B",
          "yref": "y"
         },
         {
          "showarrow": false,
          "text": "18.1",
          "x": 7,
          "xref": "x",
          "y": "B",
          "yref": "y"
         },
         {
          "showarrow": false,
          "text": "18.1",
          "x": 8,
          "xref": "x",
          "y": "B",
          "yref": "y"
         },
         {
          "showarrow": false,
          "text": "18.2",
          "x": 9,
          "xref": "x",
          "y": "B",
          "yref": "y"
         },
         {
          "showarrow": false,
          "text": "18.5",
          "x": 10,
          "xref": "x",
          "y": "B",
          "yref": "y"
         },
         {
          "showarrow": false,
          "text": "19.0",
          "x": 11,
          "xref": "x",
          "y": "B",
          "yref": "y"
         },
         {
          "showarrow": false,
          "text": "18.4",
          "x": 12,
          "xref": "x",
          "y": "B",
          "yref": "y"
         },
         {
          "showarrow": false,
          "text": "20.9",
          "x": 1,
          "xref": "x",
          "y": "C",
          "yref": "y"
         },
         {
          "showarrow": false,
          "text": "19.9",
          "x": 2,
          "xref": "x",
          "y": "C",
          "yref": "y"
         },
         {
          "showarrow": false,
          "text": "19.0",
          "x": 3,
          "xref": "x",
          "y": "C",
          "yref": "y"
         },
         {
          "showarrow": false,
          "text": "18.9",
          "x": 4,
          "xref": "x",
          "y": "C",
          "yref": "y"
         },
         {
          "showarrow": false,
          "text": "18.8",
          "x": 5,
          "xref": "x",
          "y": "C",
          "yref": "y"
         },
         {
          "showarrow": false,
          "text": "18.5",
          "x": 6,
          "xref": "x",
          "y": "C",
          "yref": "y"
         },
         {
          "showarrow": false,
          "text": "18.4",
          "x": 7,
          "xref": "x",
          "y": "C",
          "yref": "y"
         },
         {
          "showarrow": false,
          "text": "18.4",
          "x": 8,
          "xref": "x",
          "y": "C",
          "yref": "y"
         },
         {
          "showarrow": false,
          "text": "18.4",
          "x": 9,
          "xref": "x",
          "y": "C",
          "yref": "y"
         },
         {
          "showarrow": false,
          "text": "18.5",
          "x": 10,
          "xref": "x",
          "y": "C",
          "yref": "y"
         },
         {
          "showarrow": false,
          "text": "18.6",
          "x": 11,
          "xref": "x",
          "y": "C",
          "yref": "y"
         },
         {
          "showarrow": false,
          "text": "18.3",
          "x": 12,
          "xref": "x",
          "y": "C",
          "yref": "y"
         },
         {
          "showarrow": false,
          "text": "20.3",
          "x": 1,
          "xref": "x",
          "y": "D",
          "yref": "y"
         },
         {
          "showarrow": false,
          "text": "20.4",
          "x": 2,
          "xref": "x",
          "y": "D",
          "yref": "y"
         },
         {
          "showarrow": false,
          "text": "19.6",
          "x": 3,
          "xref": "x",
          "y": "D",
          "yref": "y"
         },
         {
          "showarrow": false,
          "text": "19.4",
          "x": 4,
          "xref": "x",
          "y": "D",
          "yref": "y"
         },
         {
          "showarrow": false,
          "text": "19.1",
          "x": 5,
          "xref": "x",
          "y": "D",
          "yref": "y"
         },
         {
          "showarrow": false,
          "text": "18.8",
          "x": 6,
          "xref": "x",
          "y": "D",
          "yref": "y"
         },
         {
          "showarrow": false,
          "text": "18.8",
          "x": 7,
          "xref": "x",
          "y": "D",
          "yref": "y"
         },
         {
          "showarrow": false,
          "text": "18.5",
          "x": 8,
          "xref": "x",
          "y": "D",
          "yref": "y"
         },
         {
          "showarrow": false,
          "text": "18.4",
          "x": 9,
          "xref": "x",
          "y": "D",
          "yref": "y"
         },
         {
          "showarrow": false,
          "text": "18.5",
          "x": 10,
          "xref": "x",
          "y": "D",
          "yref": "y"
         },
         {
          "showarrow": false,
          "text": "18.6",
          "x": 11,
          "xref": "x",
          "y": "D",
          "yref": "y"
         },
         {
          "showarrow": false,
          "text": "18.5",
          "x": 12,
          "xref": "x",
          "y": "D",
          "yref": "y"
         },
         {
          "showarrow": false,
          "text": "21.3",
          "x": 1,
          "xref": "x",
          "y": "E",
          "yref": "y"
         },
         {
          "showarrow": false,
          "text": "21.0",
          "x": 2,
          "xref": "x",
          "y": "E",
          "yref": "y"
         },
         {
          "showarrow": false,
          "text": "20.3",
          "x": 3,
          "xref": "x",
          "y": "E",
          "yref": "y"
         },
         {
          "showarrow": false,
          "text": "20.0",
          "x": 4,
          "xref": "x",
          "y": "E",
          "yref": "y"
         },
         {
          "showarrow": false,
          "text": "19.5",
          "x": 5,
          "xref": "x",
          "y": "E",
          "yref": "y"
         },
         {
          "showarrow": false,
          "text": "19.2",
          "x": 6,
          "xref": "x",
          "y": "E",
          "yref": "y"
         },
         {
          "showarrow": false,
          "text": "19.1",
          "x": 7,
          "xref": "x",
          "y": "E",
          "yref": "y"
         },
         {
          "showarrow": false,
          "text": "19.2",
          "x": 8,
          "xref": "x",
          "y": "E",
          "yref": "y"
         },
         {
          "showarrow": false,
          "text": "18.9",
          "x": 9,
          "xref": "x",
          "y": "E",
          "yref": "y"
         },
         {
          "showarrow": false,
          "text": "19.6",
          "x": 10,
          "xref": "x",
          "y": "E",
          "yref": "y"
         },
         {
          "showarrow": false,
          "text": "18.7",
          "x": 11,
          "xref": "x",
          "y": "E",
          "yref": "y"
         },
         {
          "showarrow": false,
          "text": "18.2",
          "x": 12,
          "xref": "x",
          "y": "E",
          "yref": "y"
         },
         {
          "showarrow": false,
          "text": "21.6",
          "x": 1,
          "xref": "x",
          "y": "F",
          "yref": "y"
         },
         {
          "showarrow": false,
          "text": "21.3",
          "x": 2,
          "xref": "x",
          "y": "F",
          "yref": "y"
         },
         {
          "showarrow": false,
          "text": "20.9",
          "x": 3,
          "xref": "x",
          "y": "F",
          "yref": "y"
         },
         {
          "showarrow": false,
          "text": "19.9",
          "x": 4,
          "xref": "x",
          "y": "F",
          "yref": "y"
         },
         {
          "showarrow": false,
          "text": "19.7",
          "x": 5,
          "xref": "x",
          "y": "F",
          "yref": "y"
         },
         {
          "showarrow": false,
          "text": "19.4",
          "x": 6,
          "xref": "x",
          "y": "F",
          "yref": "y"
         },
         {
          "showarrow": false,
          "text": "19.3",
          "x": 7,
          "xref": "x",
          "y": "F",
          "yref": "y"
         },
         {
          "showarrow": false,
          "text": "19.1",
          "x": 8,
          "xref": "x",
          "y": "F",
          "yref": "y"
         },
         {
          "showarrow": false,
          "text": "18.9",
          "x": 9,
          "xref": "x",
          "y": "F",
          "yref": "y"
         },
         {
          "showarrow": false,
          "text": "18.9",
          "x": 10,
          "xref": "x",
          "y": "F",
          "yref": "y"
         },
         {
          "showarrow": false,
          "text": "19.0",
          "x": 11,
          "xref": "x",
          "y": "F",
          "yref": "y"
         },
         {
          "showarrow": false,
          "text": "19.2",
          "x": 12,
          "xref": "x",
          "y": "F",
          "yref": "y"
         },
         {
          "showarrow": false,
          "text": "23.8",
          "x": 1,
          "xref": "x",
          "y": "G",
          "yref": "y"
         },
         {
          "showarrow": false,
          "text": "22.3",
          "x": 2,
          "xref": "x",
          "y": "G",
          "yref": "y"
         },
         {
          "showarrow": false,
          "text": "22.0",
          "x": 3,
          "xref": "x",
          "y": "G",
          "yref": "y"
         },
         {
          "showarrow": false,
          "text": "21.7",
          "x": 4,
          "xref": "x",
          "y": "G",
          "yref": "y"
         },
         {
          "showarrow": false,
          "text": "20.8",
          "x": 5,
          "xref": "x",
          "y": "G",
          "yref": "y"
         },
         {
          "showarrow": false,
          "text": "20.9",
          "x": 6,
          "xref": "x",
          "y": "G",
          "yref": "y"
         },
         {
          "showarrow": false,
          "text": "20.8",
          "x": 7,
          "xref": "x",
          "y": "G",
          "yref": "y"
         },
         {
          "showarrow": false,
          "text": "20.2",
          "x": 8,
          "xref": "x",
          "y": "G",
          "yref": "y"
         },
         {
          "showarrow": false,
          "text": "19.8",
          "x": 9,
          "xref": "x",
          "y": "G",
          "yref": "y"
         },
         {
          "showarrow": false,
          "text": "19.7",
          "x": 10,
          "xref": "x",
          "y": "G",
          "yref": "y"
         },
         {
          "showarrow": false,
          "text": "19.9",
          "x": 11,
          "xref": "x",
          "y": "G",
          "yref": "y"
         },
         {
          "showarrow": false,
          "text": "21.8",
          "x": 12,
          "xref": "x",
          "y": "G",
          "yref": "y"
         },
         {
          "showarrow": false,
          "text": "22.8",
          "x": 1,
          "xref": "x",
          "y": "H",
          "yref": "y"
         },
         {
          "showarrow": false,
          "text": "21.8",
          "x": 2,
          "xref": "x",
          "y": "H",
          "yref": "y"
         },
         {
          "showarrow": false,
          "text": "22.0",
          "x": 3,
          "xref": "x",
          "y": "H",
          "yref": "y"
         },
         {
          "showarrow": false,
          "text": "21.9",
          "x": 4,
          "xref": "x",
          "y": "H",
          "yref": "y"
         },
         {
          "showarrow": false,
          "text": "21.4",
          "x": 5,
          "xref": "x",
          "y": "H",
          "yref": "y"
         },
         {
          "showarrow": false,
          "text": "21.9",
          "x": 6,
          "xref": "x",
          "y": "H",
          "yref": "y"
         },
         {
          "showarrow": false,
          "text": "21.2",
          "x": 7,
          "xref": "x",
          "y": "H",
          "yref": "y"
         },
         {
          "showarrow": false,
          "text": "21.2",
          "x": 8,
          "xref": "x",
          "y": "H",
          "yref": "y"
         },
         {
          "showarrow": false,
          "text": "21.0",
          "x": 9,
          "xref": "x",
          "y": "H",
          "yref": "y"
         },
         {
          "showarrow": false,
          "text": "nan",
          "x": 10,
          "xref": "x",
          "y": "H",
          "yref": "y"
         },
         {
          "showarrow": false,
          "text": "nan",
          "x": 11,
          "xref": "x",
          "y": "H",
          "yref": "y"
         },
         {
          "showarrow": false,
          "text": "nan",
          "x": 12,
          "xref": "x",
          "y": "H",
          "yref": "y"
         }
        ],
        "height": 450,
        "showlegend": false,
        "template": {
         "data": {
          "scatter": [
           {
            "type": "scatter"
           }
          ]
         }
        },
        "title": {
         "text": "Anaerobic Tape"
        },
        "width": 575,
        "xaxis": {
         "linecolor": "black",
         "linewidth": 1,
         "mirror": true,
         "nticks": 20,
         "showgrid": false,
         "showline": true,
         "side": "top",
         "tickangle": 0,
         "tickcolor": "black",
         "tickfont": {
          "color": "black",
          "family": "Arial",
          "size": 13
         },
         "ticklen": 4,
         "ticks": ""
        },
        "yaxis": {
         "linecolor": "black",
         "linewidth": 1,
         "mirror": true,
         "nticks": 0,
         "showgrid": false,
         "showline": true,
         "tickangle": 0,
         "tickcolor": "black",
         "tickfont": {
          "color": "black",
          "family": "Arial",
          "size": 13
         },
         "ticklen": 4,
         "ticks": "",
         "title": {
          "font": {
           "color": "black",
           "family": "Arial",
           "size": 16
          },
          "standoff": 0
         }
        }
       }
      },
      "text/html": [
       "<div>                            <div id=\"4aca7410-a80a-49bc-95f3-d717ad9046f0\" class=\"plotly-graph-div\" style=\"height:450px; width:575px;\"></div>            <script type=\"text/javascript\">                require([\"plotly\"], function(Plotly) {                    window.PLOTLYENV=window.PLOTLYENV || {};                                    if (document.getElementById(\"4aca7410-a80a-49bc-95f3-d717ad9046f0\")) {                    Plotly.newPlot(                        \"4aca7410-a80a-49bc-95f3-d717ad9046f0\",                        [{\"colorbar\": {\"dtick\": 0.5, \"len\": 1, \"outlinecolor\": \"black\", \"outlinewidth\": 0.25, \"thickness\": 15, \"tickcolor\": \"black\", \"ticks\": \"outside\"}, \"colorscale\": [[0, \"#2164AF\"], [0.5, \"#EAEAEA\"], [1, \"#D9482A\"]], \"hoverongaps\": false, \"showscale\": true, \"type\": \"heatmap\", \"x\": [1, 2, 3, 4, 5, 6, 7, 8, 9, 10, 11, 12], \"y\": [\"H\", \"G\", \"F\", \"E\", \"D\", \"C\", \"B\", \"A\"], \"z\": [[3.6999999999999993, 2.6999999999999993, 2.8999999999999986, 2.799999999999997, 2.299999999999997, 2.799999999999997, 2.099999999999998, 2.099999999999998, 1.8999999999999986, null, null, null], [4.699999999999999, 3.1999999999999993, 2.8999999999999986, 2.599999999999998, 1.6999999999999993, 1.7999999999999972, 1.6999999999999993, 1.0999999999999979, 0.6999999999999993, 0.5999999999999979, 0.7999999999999972, 2.6999999999999993], [2.5, 2.1999999999999993, 1.7999999999999972, 0.7999999999999972, 0.5999999999999979, 0.29999999999999716, 0.1999999999999993, 0.0, -0.20000000000000284, -0.20000000000000284, -0.10000000000000142, 0.09999999999999787], [2.1999999999999993, 1.8999999999999986, 1.1999999999999993, 0.8999999999999986, 0.3999999999999986, 0.09999999999999787, 0.0, 0.09999999999999787, -0.20000000000000284, 0.5, -0.40000000000000213, -0.9000000000000021], [1.1999999999999993, 1.2999999999999972, 0.5, 0.29999999999999716, 0.0, -0.3000000000000007, -0.3000000000000007, -0.6000000000000014, -0.7000000000000028, -0.6000000000000014, -0.5, -0.6000000000000014], [1.7999999999999972, 0.7999999999999972, -0.10000000000000142, -0.20000000000000284, -0.3000000000000007, -0.6000000000000014, -0.7000000000000028, -0.7000000000000028, -0.7000000000000028, -0.6000000000000014, -0.5, -0.8000000000000007], [1.0999999999999979, 0.5999999999999979, 0.0, -0.6000000000000014, -0.7000000000000028, -0.8000000000000007, -1.0, -1.0, -0.9000000000000021, -0.6000000000000014, -0.10000000000000142, -0.7000000000000028], [0.6999999999999993, 0.0, -0.40000000000000213, -0.6000000000000014, -0.7000000000000028, -0.8000000000000007, -0.8000000000000007, -0.9000000000000021, -0.8000000000000007, -0.9000000000000021, -0.8000000000000007, -0.7000000000000028]], \"zmax\": 1.5, \"zmin\": -1.5}],                        {\"annotations\": [{\"showarrow\": false, \"text\": \"19.8\", \"x\": 1, \"xref\": \"x\", \"y\": \"A\", \"yref\": \"y\"}, {\"showarrow\": false, \"text\": \"19.1\", \"x\": 2, \"xref\": \"x\", \"y\": \"A\", \"yref\": \"y\"}, {\"showarrow\": false, \"text\": \"18.7\", \"x\": 3, \"xref\": \"x\", \"y\": \"A\", \"yref\": \"y\"}, {\"showarrow\": false, \"text\": \"18.5\", \"x\": 4, \"xref\": \"x\", \"y\": \"A\", \"yref\": \"y\"}, {\"showarrow\": false, \"text\": \"18.4\", \"x\": 5, \"xref\": \"x\", \"y\": \"A\", \"yref\": \"y\"}, {\"showarrow\": false, \"text\": \"18.3\", \"x\": 6, \"xref\": \"x\", \"y\": \"A\", \"yref\": \"y\"}, {\"showarrow\": false, \"text\": \"18.3\", \"x\": 7, \"xref\": \"x\", \"y\": \"A\", \"yref\": \"y\"}, {\"showarrow\": false, \"text\": \"18.2\", \"x\": 8, \"xref\": \"x\", \"y\": \"A\", \"yref\": \"y\"}, {\"showarrow\": false, \"text\": \"18.3\", \"x\": 9, \"xref\": \"x\", \"y\": \"A\", \"yref\": \"y\"}, {\"showarrow\": false, \"text\": \"18.2\", \"x\": 10, \"xref\": \"x\", \"y\": \"A\", \"yref\": \"y\"}, {\"showarrow\": false, \"text\": \"18.3\", \"x\": 11, \"xref\": \"x\", \"y\": \"A\", \"yref\": \"y\"}, {\"showarrow\": false, \"text\": \"18.4\", \"x\": 12, \"xref\": \"x\", \"y\": \"A\", \"yref\": \"y\"}, {\"showarrow\": false, \"text\": \"20.2\", \"x\": 1, \"xref\": \"x\", \"y\": \"B\", \"yref\": \"y\"}, {\"showarrow\": false, \"text\": \"19.7\", \"x\": 2, \"xref\": \"x\", \"y\": \"B\", \"yref\": \"y\"}, {\"showarrow\": false, \"text\": \"19.1\", \"x\": 3, \"xref\": \"x\", \"y\": \"B\", \"yref\": \"y\"}, {\"showarrow\": false, \"text\": \"18.5\", \"x\": 4, \"xref\": \"x\", \"y\": \"B\", \"yref\": \"y\"}, {\"showarrow\": false, \"text\": \"18.4\", \"x\": 5, \"xref\": \"x\", \"y\": \"B\", \"yref\": \"y\"}, {\"showarrow\": false, \"text\": \"18.3\", \"x\": 6, \"xref\": \"x\", \"y\": \"B\", \"yref\": \"y\"}, {\"showarrow\": false, \"text\": \"18.1\", \"x\": 7, \"xref\": \"x\", \"y\": \"B\", \"yref\": \"y\"}, {\"showarrow\": false, \"text\": \"18.1\", \"x\": 8, \"xref\": \"x\", \"y\": \"B\", \"yref\": \"y\"}, {\"showarrow\": false, \"text\": \"18.2\", \"x\": 9, \"xref\": \"x\", \"y\": \"B\", \"yref\": \"y\"}, {\"showarrow\": false, \"text\": \"18.5\", \"x\": 10, \"xref\": \"x\", \"y\": \"B\", \"yref\": \"y\"}, {\"showarrow\": false, \"text\": \"19.0\", \"x\": 11, \"xref\": \"x\", \"y\": \"B\", \"yref\": \"y\"}, {\"showarrow\": false, \"text\": \"18.4\", \"x\": 12, \"xref\": \"x\", \"y\": \"B\", \"yref\": \"y\"}, {\"showarrow\": false, \"text\": \"20.9\", \"x\": 1, \"xref\": \"x\", \"y\": \"C\", \"yref\": \"y\"}, {\"showarrow\": false, \"text\": \"19.9\", \"x\": 2, \"xref\": \"x\", \"y\": \"C\", \"yref\": \"y\"}, {\"showarrow\": false, \"text\": \"19.0\", \"x\": 3, \"xref\": \"x\", \"y\": \"C\", \"yref\": \"y\"}, {\"showarrow\": false, \"text\": \"18.9\", \"x\": 4, \"xref\": \"x\", \"y\": \"C\", \"yref\": \"y\"}, {\"showarrow\": false, \"text\": \"18.8\", \"x\": 5, \"xref\": \"x\", \"y\": \"C\", \"yref\": \"y\"}, {\"showarrow\": false, \"text\": \"18.5\", \"x\": 6, \"xref\": \"x\", \"y\": \"C\", \"yref\": \"y\"}, {\"showarrow\": false, \"text\": \"18.4\", \"x\": 7, \"xref\": \"x\", \"y\": \"C\", \"yref\": \"y\"}, {\"showarrow\": false, \"text\": \"18.4\", \"x\": 8, \"xref\": \"x\", \"y\": \"C\", \"yref\": \"y\"}, {\"showarrow\": false, \"text\": \"18.4\", \"x\": 9, \"xref\": \"x\", \"y\": \"C\", \"yref\": \"y\"}, {\"showarrow\": false, \"text\": \"18.5\", \"x\": 10, \"xref\": \"x\", \"y\": \"C\", \"yref\": \"y\"}, {\"showarrow\": false, \"text\": \"18.6\", \"x\": 11, \"xref\": \"x\", \"y\": \"C\", \"yref\": \"y\"}, {\"showarrow\": false, \"text\": \"18.3\", \"x\": 12, \"xref\": \"x\", \"y\": \"C\", \"yref\": \"y\"}, {\"showarrow\": false, \"text\": \"20.3\", \"x\": 1, \"xref\": \"x\", \"y\": \"D\", \"yref\": \"y\"}, {\"showarrow\": false, \"text\": \"20.4\", \"x\": 2, \"xref\": \"x\", \"y\": \"D\", \"yref\": \"y\"}, {\"showarrow\": false, \"text\": \"19.6\", \"x\": 3, \"xref\": \"x\", \"y\": \"D\", \"yref\": \"y\"}, {\"showarrow\": false, \"text\": \"19.4\", \"x\": 4, \"xref\": \"x\", \"y\": \"D\", \"yref\": \"y\"}, {\"showarrow\": false, \"text\": \"19.1\", \"x\": 5, \"xref\": \"x\", \"y\": \"D\", \"yref\": \"y\"}, {\"showarrow\": false, \"text\": \"18.8\", \"x\": 6, \"xref\": \"x\", \"y\": \"D\", \"yref\": \"y\"}, {\"showarrow\": false, \"text\": \"18.8\", \"x\": 7, \"xref\": \"x\", \"y\": \"D\", \"yref\": \"y\"}, {\"showarrow\": false, \"text\": \"18.5\", \"x\": 8, \"xref\": \"x\", \"y\": \"D\", \"yref\": \"y\"}, {\"showarrow\": false, \"text\": \"18.4\", \"x\": 9, \"xref\": \"x\", \"y\": \"D\", \"yref\": \"y\"}, {\"showarrow\": false, \"text\": \"18.5\", \"x\": 10, \"xref\": \"x\", \"y\": \"D\", \"yref\": \"y\"}, {\"showarrow\": false, \"text\": \"18.6\", \"x\": 11, \"xref\": \"x\", \"y\": \"D\", \"yref\": \"y\"}, {\"showarrow\": false, \"text\": \"18.5\", \"x\": 12, \"xref\": \"x\", \"y\": \"D\", \"yref\": \"y\"}, {\"showarrow\": false, \"text\": \"21.3\", \"x\": 1, \"xref\": \"x\", \"y\": \"E\", \"yref\": \"y\"}, {\"showarrow\": false, \"text\": \"21.0\", \"x\": 2, \"xref\": \"x\", \"y\": \"E\", \"yref\": \"y\"}, {\"showarrow\": false, \"text\": \"20.3\", \"x\": 3, \"xref\": \"x\", \"y\": \"E\", \"yref\": \"y\"}, {\"showarrow\": false, \"text\": \"20.0\", \"x\": 4, \"xref\": \"x\", \"y\": \"E\", \"yref\": \"y\"}, {\"showarrow\": false, \"text\": \"19.5\", \"x\": 5, \"xref\": \"x\", \"y\": \"E\", \"yref\": \"y\"}, {\"showarrow\": false, \"text\": \"19.2\", \"x\": 6, \"xref\": \"x\", \"y\": \"E\", \"yref\": \"y\"}, {\"showarrow\": false, \"text\": \"19.1\", \"x\": 7, \"xref\": \"x\", \"y\": \"E\", \"yref\": \"y\"}, {\"showarrow\": false, \"text\": \"19.2\", \"x\": 8, \"xref\": \"x\", \"y\": \"E\", \"yref\": \"y\"}, {\"showarrow\": false, \"text\": \"18.9\", \"x\": 9, \"xref\": \"x\", \"y\": \"E\", \"yref\": \"y\"}, {\"showarrow\": false, \"text\": \"19.6\", \"x\": 10, \"xref\": \"x\", \"y\": \"E\", \"yref\": \"y\"}, {\"showarrow\": false, \"text\": \"18.7\", \"x\": 11, \"xref\": \"x\", \"y\": \"E\", \"yref\": \"y\"}, {\"showarrow\": false, \"text\": \"18.2\", \"x\": 12, \"xref\": \"x\", \"y\": \"E\", \"yref\": \"y\"}, {\"showarrow\": false, \"text\": \"21.6\", \"x\": 1, \"xref\": \"x\", \"y\": \"F\", \"yref\": \"y\"}, {\"showarrow\": false, \"text\": \"21.3\", \"x\": 2, \"xref\": \"x\", \"y\": \"F\", \"yref\": \"y\"}, {\"showarrow\": false, \"text\": \"20.9\", \"x\": 3, \"xref\": \"x\", \"y\": \"F\", \"yref\": \"y\"}, {\"showarrow\": false, \"text\": \"19.9\", \"x\": 4, \"xref\": \"x\", \"y\": \"F\", \"yref\": \"y\"}, {\"showarrow\": false, \"text\": \"19.7\", \"x\": 5, \"xref\": \"x\", \"y\": \"F\", \"yref\": \"y\"}, {\"showarrow\": false, \"text\": \"19.4\", \"x\": 6, \"xref\": \"x\", \"y\": \"F\", \"yref\": \"y\"}, {\"showarrow\": false, \"text\": \"19.3\", \"x\": 7, \"xref\": \"x\", \"y\": \"F\", \"yref\": \"y\"}, {\"showarrow\": false, \"text\": \"19.1\", \"x\": 8, \"xref\": \"x\", \"y\": \"F\", \"yref\": \"y\"}, {\"showarrow\": false, \"text\": \"18.9\", \"x\": 9, \"xref\": \"x\", \"y\": \"F\", \"yref\": \"y\"}, {\"showarrow\": false, \"text\": \"18.9\", \"x\": 10, \"xref\": \"x\", \"y\": \"F\", \"yref\": \"y\"}, {\"showarrow\": false, \"text\": \"19.0\", \"x\": 11, \"xref\": \"x\", \"y\": \"F\", \"yref\": \"y\"}, {\"showarrow\": false, \"text\": \"19.2\", \"x\": 12, \"xref\": \"x\", \"y\": \"F\", \"yref\": \"y\"}, {\"showarrow\": false, \"text\": \"23.8\", \"x\": 1, \"xref\": \"x\", \"y\": \"G\", \"yref\": \"y\"}, {\"showarrow\": false, \"text\": \"22.3\", \"x\": 2, \"xref\": \"x\", \"y\": \"G\", \"yref\": \"y\"}, {\"showarrow\": false, \"text\": \"22.0\", \"x\": 3, \"xref\": \"x\", \"y\": \"G\", \"yref\": \"y\"}, {\"showarrow\": false, \"text\": \"21.7\", \"x\": 4, \"xref\": \"x\", \"y\": \"G\", \"yref\": \"y\"}, {\"showarrow\": false, \"text\": \"20.8\", \"x\": 5, \"xref\": \"x\", \"y\": \"G\", \"yref\": \"y\"}, {\"showarrow\": false, \"text\": \"20.9\", \"x\": 6, \"xref\": \"x\", \"y\": \"G\", \"yref\": \"y\"}, {\"showarrow\": false, \"text\": \"20.8\", \"x\": 7, \"xref\": \"x\", \"y\": \"G\", \"yref\": \"y\"}, {\"showarrow\": false, \"text\": \"20.2\", \"x\": 8, \"xref\": \"x\", \"y\": \"G\", \"yref\": \"y\"}, {\"showarrow\": false, \"text\": \"19.8\", \"x\": 9, \"xref\": \"x\", \"y\": \"G\", \"yref\": \"y\"}, {\"showarrow\": false, \"text\": \"19.7\", \"x\": 10, \"xref\": \"x\", \"y\": \"G\", \"yref\": \"y\"}, {\"showarrow\": false, \"text\": \"19.9\", \"x\": 11, \"xref\": \"x\", \"y\": \"G\", \"yref\": \"y\"}, {\"showarrow\": false, \"text\": \"21.8\", \"x\": 12, \"xref\": \"x\", \"y\": \"G\", \"yref\": \"y\"}, {\"showarrow\": false, \"text\": \"22.8\", \"x\": 1, \"xref\": \"x\", \"y\": \"H\", \"yref\": \"y\"}, {\"showarrow\": false, \"text\": \"21.8\", \"x\": 2, \"xref\": \"x\", \"y\": \"H\", \"yref\": \"y\"}, {\"showarrow\": false, \"text\": \"22.0\", \"x\": 3, \"xref\": \"x\", \"y\": \"H\", \"yref\": \"y\"}, {\"showarrow\": false, \"text\": \"21.9\", \"x\": 4, \"xref\": \"x\", \"y\": \"H\", \"yref\": \"y\"}, {\"showarrow\": false, \"text\": \"21.4\", \"x\": 5, \"xref\": \"x\", \"y\": \"H\", \"yref\": \"y\"}, {\"showarrow\": false, \"text\": \"21.9\", \"x\": 6, \"xref\": \"x\", \"y\": \"H\", \"yref\": \"y\"}, {\"showarrow\": false, \"text\": \"21.2\", \"x\": 7, \"xref\": \"x\", \"y\": \"H\", \"yref\": \"y\"}, {\"showarrow\": false, \"text\": \"21.2\", \"x\": 8, \"xref\": \"x\", \"y\": \"H\", \"yref\": \"y\"}, {\"showarrow\": false, \"text\": \"21.0\", \"x\": 9, \"xref\": \"x\", \"y\": \"H\", \"yref\": \"y\"}, {\"showarrow\": false, \"text\": \"nan\", \"x\": 10, \"xref\": \"x\", \"y\": \"H\", \"yref\": \"y\"}, {\"showarrow\": false, \"text\": \"nan\", \"x\": 11, \"xref\": \"x\", \"y\": \"H\", \"yref\": \"y\"}, {\"showarrow\": false, \"text\": \"nan\", \"x\": 12, \"xref\": \"x\", \"y\": \"H\", \"yref\": \"y\"}], \"height\": 450, \"showlegend\": false, \"template\": {\"data\": {\"scatter\": [{\"type\": \"scatter\"}]}}, \"title\": {\"text\": \"Anaerobic Tape\"}, \"width\": 575, \"xaxis\": {\"linecolor\": \"black\", \"linewidth\": 1, \"mirror\": true, \"nticks\": 20, \"showgrid\": false, \"showline\": true, \"side\": \"top\", \"tickangle\": 0, \"tickcolor\": \"black\", \"tickfont\": {\"color\": \"black\", \"family\": \"Arial\", \"size\": 13}, \"ticklen\": 4, \"ticks\": \"\"}, \"yaxis\": {\"linecolor\": \"black\", \"linewidth\": 1, \"mirror\": true, \"nticks\": 0, \"showgrid\": false, \"showline\": true, \"tickangle\": 0, \"tickcolor\": \"black\", \"tickfont\": {\"color\": \"black\", \"family\": \"Arial\", \"size\": 13}, \"ticklen\": 4, \"ticks\": \"\", \"title\": {\"font\": {\"color\": \"black\", \"family\": \"Arial\", \"size\": 16}, \"standoff\": 0}}},                        {\"responsive\": true}                    ).then(function(){\n",
       "                            \n",
       "var gd = document.getElementById('4aca7410-a80a-49bc-95f3-d717ad9046f0');\n",
       "var x = new MutationObserver(function (mutations, observer) {{\n",
       "        var display = window.getComputedStyle(gd).display;\n",
       "        if (!display || display === 'none') {{\n",
       "            console.log([gd, 'removed!']);\n",
       "            Plotly.purge(gd);\n",
       "            observer.disconnect();\n",
       "        }}\n",
       "}});\n",
       "\n",
       "// Listen for the removal of the full notebook cells\n",
       "var notebookContainer = gd.closest('#notebook-container');\n",
       "if (notebookContainer) {{\n",
       "    x.observe(notebookContainer, {childList: true});\n",
       "}}\n",
       "\n",
       "// Listen for the clearing of the current output cell\n",
       "var outputEl = gd.closest('.output');\n",
       "if (outputEl) {{\n",
       "    x.observe(outputEl, {childList: true});\n",
       "}}\n",
       "\n",
       "                        })                };                });            </script>        </div>"
      ]
     },
     "metadata": {},
     "output_type": "display_data"
    },
    {
     "data": {
      "application/vnd.plotly.v1+json": {
       "config": {
        "plotlyServerURL": "https://plot.ly"
       },
       "data": [
        {
         "colorbar": {
          "dtick": 0.5,
          "len": 1,
          "outlinecolor": "black",
          "outlinewidth": 0.25,
          "thickness": 15,
          "tickcolor": "black",
          "ticks": "outside"
         },
         "colorscale": [
          [
           0,
           "#2164AF"
          ],
          [
           0.5,
           "#EAEAEA"
          ],
          [
           1,
           "#D9482A"
          ]
         ],
         "hoverongaps": false,
         "showscale": true,
         "type": "heatmap",
         "x": [
          1,
          2,
          3,
          4,
          5,
          6,
          7,
          8,
          9,
          10,
          11,
          12
         ],
         "y": [
          "H",
          "G",
          "F",
          "E",
          "D",
          "C",
          "B",
          "A"
         ],
         "z": [
          [
           3.8000000000000007,
           1.4000000000000021,
           1.6999999999999993,
           0.6000000000000014,
           2,
           0.6000000000000014,
           0.40000000000000213,
           0.6000000000000014,
           0.3000000000000007,
           null,
           null,
           null
          ],
          [
           0.9000000000000021,
           1.1000000000000014,
           3.900000000000002,
           3.1999999999999993,
           4.199999999999999,
           3,
           3.1999999999999993,
           3.6000000000000014,
           1.1000000000000014,
           0.10000000000000142,
           3.1000000000000014,
           -0.1999999999999993
          ],
          [
           3.6000000000000014,
           0.3000000000000007,
           0.9000000000000021,
           1.1999999999999993,
           0.6999999999999993,
           0.5,
           2.400000000000002,
           2.6000000000000014,
           2.400000000000002,
           0.3000000000000007,
           0.40000000000000213,
           -0.3000000000000007
          ],
          [
           0.6999999999999993,
           0.1999999999999993,
           0.1999999999999993,
           0.1999999999999993,
           0.10000000000000142,
           0,
           0.10000000000000142,
           0.1999999999999993,
           0.9000000000000021,
           0.3000000000000007,
           1.9000000000000021,
           0.6000000000000014
          ],
          [
           0.1999999999999993,
           -0.3000000000000007,
           -0.3999999999999986,
           -0.3999999999999986,
           -0.5,
           -0.3999999999999986,
           -0.3000000000000007,
           -0.3999999999999986,
           -0.3000000000000007,
           -0.1999999999999993,
           1,
           -0.3999999999999986
          ],
          [
           0.1999999999999993,
           -0.3000000000000007,
           -0.5999999999999979,
           -0.5,
           -0.3999999999999986,
           -0.5,
           -0.5,
           -0.5,
           -0.3999999999999986,
           -0.5,
           -0.1999999999999993,
           0
          ],
          [
           -0.3999999999999986,
           -0.5999999999999979,
           -0.6999999999999993,
           -0.5999999999999979,
           -0.5999999999999979,
           -0.6999999999999993,
           -0.8000000000000007,
           -0.8999999999999986,
           -0.8999999999999986,
           -0.8999999999999986,
           -0.8000000000000007,
           -0.8999999999999986
          ],
          [
           -1,
           -0.8999999999999986,
           -1,
           -0.8000000000000007,
           -1,
           -1,
           -1.0999999999999979,
           -1.1999999999999993,
           -1.0999999999999979,
           -1.1999999999999993,
           -1,
           -1.5
          ]
         ],
         "zmax": 1.5,
         "zmin": -1.5
        }
       ],
       "layout": {
        "annotations": [
         {
          "showarrow": false,
          "text": "17.2",
          "x": 1,
          "xref": "x",
          "y": "A",
          "yref": "y"
         },
         {
          "showarrow": false,
          "text": "17.3",
          "x": 2,
          "xref": "x",
          "y": "A",
          "yref": "y"
         },
         {
          "showarrow": false,
          "text": "17.2",
          "x": 3,
          "xref": "x",
          "y": "A",
          "yref": "y"
         },
         {
          "showarrow": false,
          "text": "17.4",
          "x": 4,
          "xref": "x",
          "y": "A",
          "yref": "y"
         },
         {
          "showarrow": false,
          "text": "17.2",
          "x": 5,
          "xref": "x",
          "y": "A",
          "yref": "y"
         },
         {
          "showarrow": false,
          "text": "17.2",
          "x": 6,
          "xref": "x",
          "y": "A",
          "yref": "y"
         },
         {
          "showarrow": false,
          "text": "17.1",
          "x": 7,
          "xref": "x",
          "y": "A",
          "yref": "y"
         },
         {
          "showarrow": false,
          "text": "17.0",
          "x": 8,
          "xref": "x",
          "y": "A",
          "yref": "y"
         },
         {
          "showarrow": false,
          "text": "17.1",
          "x": 9,
          "xref": "x",
          "y": "A",
          "yref": "y"
         },
         {
          "showarrow": false,
          "text": "17.0",
          "x": 10,
          "xref": "x",
          "y": "A",
          "yref": "y"
         },
         {
          "showarrow": false,
          "text": "17.2",
          "x": 11,
          "xref": "x",
          "y": "A",
          "yref": "y"
         },
         {
          "showarrow": false,
          "text": "16.7",
          "x": 12,
          "xref": "x",
          "y": "A",
          "yref": "y"
         },
         {
          "showarrow": false,
          "text": "17.8",
          "x": 1,
          "xref": "x",
          "y": "B",
          "yref": "y"
         },
         {
          "showarrow": false,
          "text": "17.6",
          "x": 2,
          "xref": "x",
          "y": "B",
          "yref": "y"
         },
         {
          "showarrow": false,
          "text": "17.5",
          "x": 3,
          "xref": "x",
          "y": "B",
          "yref": "y"
         },
         {
          "showarrow": false,
          "text": "17.6",
          "x": 4,
          "xref": "x",
          "y": "B",
          "yref": "y"
         },
         {
          "showarrow": false,
          "text": "17.6",
          "x": 5,
          "xref": "x",
          "y": "B",
          "yref": "y"
         },
         {
          "showarrow": false,
          "text": "17.5",
          "x": 6,
          "xref": "x",
          "y": "B",
          "yref": "y"
         },
         {
          "showarrow": false,
          "text": "17.4",
          "x": 7,
          "xref": "x",
          "y": "B",
          "yref": "y"
         },
         {
          "showarrow": false,
          "text": "17.3",
          "x": 8,
          "xref": "x",
          "y": "B",
          "yref": "y"
         },
         {
          "showarrow": false,
          "text": "17.3",
          "x": 9,
          "xref": "x",
          "y": "B",
          "yref": "y"
         },
         {
          "showarrow": false,
          "text": "17.3",
          "x": 10,
          "xref": "x",
          "y": "B",
          "yref": "y"
         },
         {
          "showarrow": false,
          "text": "17.4",
          "x": 11,
          "xref": "x",
          "y": "B",
          "yref": "y"
         },
         {
          "showarrow": false,
          "text": "17.3",
          "x": 12,
          "xref": "x",
          "y": "B",
          "yref": "y"
         },
         {
          "showarrow": false,
          "text": "18.4",
          "x": 1,
          "xref": "x",
          "y": "C",
          "yref": "y"
         },
         {
          "showarrow": false,
          "text": "17.9",
          "x": 2,
          "xref": "x",
          "y": "C",
          "yref": "y"
         },
         {
          "showarrow": false,
          "text": "17.6",
          "x": 3,
          "xref": "x",
          "y": "C",
          "yref": "y"
         },
         {
          "showarrow": false,
          "text": "17.7",
          "x": 4,
          "xref": "x",
          "y": "C",
          "yref": "y"
         },
         {
          "showarrow": false,
          "text": "17.8",
          "x": 5,
          "xref": "x",
          "y": "C",
          "yref": "y"
         },
         {
          "showarrow": false,
          "text": "17.7",
          "x": 6,
          "xref": "x",
          "y": "C",
          "yref": "y"
         },
         {
          "showarrow": false,
          "text": "17.7",
          "x": 7,
          "xref": "x",
          "y": "C",
          "yref": "y"
         },
         {
          "showarrow": false,
          "text": "17.7",
          "x": 8,
          "xref": "x",
          "y": "C",
          "yref": "y"
         },
         {
          "showarrow": false,
          "text": "17.8",
          "x": 9,
          "xref": "x",
          "y": "C",
          "yref": "y"
         },
         {
          "showarrow": false,
          "text": "17.7",
          "x": 10,
          "xref": "x",
          "y": "C",
          "yref": "y"
         },
         {
          "showarrow": false,
          "text": "18.0",
          "x": 11,
          "xref": "x",
          "y": "C",
          "yref": "y"
         },
         {
          "showarrow": false,
          "text": "18.2",
          "x": 12,
          "xref": "x",
          "y": "C",
          "yref": "y"
         },
         {
          "showarrow": false,
          "text": "18.4",
          "x": 1,
          "xref": "x",
          "y": "D",
          "yref": "y"
         },
         {
          "showarrow": false,
          "text": "17.9",
          "x": 2,
          "xref": "x",
          "y": "D",
          "yref": "y"
         },
         {
          "showarrow": false,
          "text": "17.8",
          "x": 3,
          "xref": "x",
          "y": "D",
          "yref": "y"
         },
         {
          "showarrow": false,
          "text": "17.8",
          "x": 4,
          "xref": "x",
          "y": "D",
          "yref": "y"
         },
         {
          "showarrow": false,
          "text": "17.7",
          "x": 5,
          "xref": "x",
          "y": "D",
          "yref": "y"
         },
         {
          "showarrow": false,
          "text": "17.8",
          "x": 6,
          "xref": "x",
          "y": "D",
          "yref": "y"
         },
         {
          "showarrow": false,
          "text": "17.9",
          "x": 7,
          "xref": "x",
          "y": "D",
          "yref": "y"
         },
         {
          "showarrow": false,
          "text": "17.8",
          "x": 8,
          "xref": "x",
          "y": "D",
          "yref": "y"
         },
         {
          "showarrow": false,
          "text": "17.9",
          "x": 9,
          "xref": "x",
          "y": "D",
          "yref": "y"
         },
         {
          "showarrow": false,
          "text": "18.0",
          "x": 10,
          "xref": "x",
          "y": "D",
          "yref": "y"
         },
         {
          "showarrow": false,
          "text": "19.2",
          "x": 11,
          "xref": "x",
          "y": "D",
          "yref": "y"
         },
         {
          "showarrow": false,
          "text": "17.8",
          "x": 12,
          "xref": "x",
          "y": "D",
          "yref": "y"
         },
         {
          "showarrow": false,
          "text": "18.9",
          "x": 1,
          "xref": "x",
          "y": "E",
          "yref": "y"
         },
         {
          "showarrow": false,
          "text": "18.4",
          "x": 2,
          "xref": "x",
          "y": "E",
          "yref": "y"
         },
         {
          "showarrow": false,
          "text": "18.4",
          "x": 3,
          "xref": "x",
          "y": "E",
          "yref": "y"
         },
         {
          "showarrow": false,
          "text": "18.4",
          "x": 4,
          "xref": "x",
          "y": "E",
          "yref": "y"
         },
         {
          "showarrow": false,
          "text": "18.3",
          "x": 5,
          "xref": "x",
          "y": "E",
          "yref": "y"
         },
         {
          "showarrow": false,
          "text": "18.2",
          "x": 6,
          "xref": "x",
          "y": "E",
          "yref": "y"
         },
         {
          "showarrow": false,
          "text": "18.3",
          "x": 7,
          "xref": "x",
          "y": "E",
          "yref": "y"
         },
         {
          "showarrow": false,
          "text": "18.4",
          "x": 8,
          "xref": "x",
          "y": "E",
          "yref": "y"
         },
         {
          "showarrow": false,
          "text": "19.1",
          "x": 9,
          "xref": "x",
          "y": "E",
          "yref": "y"
         },
         {
          "showarrow": false,
          "text": "18.5",
          "x": 10,
          "xref": "x",
          "y": "E",
          "yref": "y"
         },
         {
          "showarrow": false,
          "text": "20.1",
          "x": 11,
          "xref": "x",
          "y": "E",
          "yref": "y"
         },
         {
          "showarrow": false,
          "text": "18.8",
          "x": 12,
          "xref": "x",
          "y": "E",
          "yref": "y"
         },
         {
          "showarrow": false,
          "text": "21.8",
          "x": 1,
          "xref": "x",
          "y": "F",
          "yref": "y"
         },
         {
          "showarrow": false,
          "text": "18.5",
          "x": 2,
          "xref": "x",
          "y": "F",
          "yref": "y"
         },
         {
          "showarrow": false,
          "text": "19.1",
          "x": 3,
          "xref": "x",
          "y": "F",
          "yref": "y"
         },
         {
          "showarrow": false,
          "text": "19.4",
          "x": 4,
          "xref": "x",
          "y": "F",
          "yref": "y"
         },
         {
          "showarrow": false,
          "text": "18.9",
          "x": 5,
          "xref": "x",
          "y": "F",
          "yref": "y"
         },
         {
          "showarrow": false,
          "text": "18.7",
          "x": 6,
          "xref": "x",
          "y": "F",
          "yref": "y"
         },
         {
          "showarrow": false,
          "text": "20.6",
          "x": 7,
          "xref": "x",
          "y": "F",
          "yref": "y"
         },
         {
          "showarrow": false,
          "text": "20.8",
          "x": 8,
          "xref": "x",
          "y": "F",
          "yref": "y"
         },
         {
          "showarrow": false,
          "text": "20.6",
          "x": 9,
          "xref": "x",
          "y": "F",
          "yref": "y"
         },
         {
          "showarrow": false,
          "text": "18.5",
          "x": 10,
          "xref": "x",
          "y": "F",
          "yref": "y"
         },
         {
          "showarrow": false,
          "text": "18.6",
          "x": 11,
          "xref": "x",
          "y": "F",
          "yref": "y"
         },
         {
          "showarrow": false,
          "text": "17.9",
          "x": 12,
          "xref": "x",
          "y": "F",
          "yref": "y"
         },
         {
          "showarrow": false,
          "text": "19.1",
          "x": 1,
          "xref": "x",
          "y": "G",
          "yref": "y"
         },
         {
          "showarrow": false,
          "text": "19.3",
          "x": 2,
          "xref": "x",
          "y": "G",
          "yref": "y"
         },
         {
          "showarrow": false,
          "text": "22.1",
          "x": 3,
          "xref": "x",
          "y": "G",
          "yref": "y"
         },
         {
          "showarrow": false,
          "text": "21.4",
          "x": 4,
          "xref": "x",
          "y": "G",
          "yref": "y"
         },
         {
          "showarrow": false,
          "text": "22.4",
          "x": 5,
          "xref": "x",
          "y": "G",
          "yref": "y"
         },
         {
          "showarrow": false,
          "text": "21.2",
          "x": 6,
          "xref": "x",
          "y": "G",
          "yref": "y"
         },
         {
          "showarrow": false,
          "text": "21.4",
          "x": 7,
          "xref": "x",
          "y": "G",
          "yref": "y"
         },
         {
          "showarrow": false,
          "text": "21.8",
          "x": 8,
          "xref": "x",
          "y": "G",
          "yref": "y"
         },
         {
          "showarrow": false,
          "text": "19.3",
          "x": 9,
          "xref": "x",
          "y": "G",
          "yref": "y"
         },
         {
          "showarrow": false,
          "text": "18.3",
          "x": 10,
          "xref": "x",
          "y": "G",
          "yref": "y"
         },
         {
          "showarrow": false,
          "text": "21.3",
          "x": 11,
          "xref": "x",
          "y": "G",
          "yref": "y"
         },
         {
          "showarrow": false,
          "text": "18.0",
          "x": 12,
          "xref": "x",
          "y": "G",
          "yref": "y"
         },
         {
          "showarrow": false,
          "text": "22.0",
          "x": 1,
          "xref": "x",
          "y": "H",
          "yref": "y"
         },
         {
          "showarrow": false,
          "text": "19.6",
          "x": 2,
          "xref": "x",
          "y": "H",
          "yref": "y"
         },
         {
          "showarrow": false,
          "text": "19.9",
          "x": 3,
          "xref": "x",
          "y": "H",
          "yref": "y"
         },
         {
          "showarrow": false,
          "text": "18.8",
          "x": 4,
          "xref": "x",
          "y": "H",
          "yref": "y"
         },
         {
          "showarrow": false,
          "text": "20.2",
          "x": 5,
          "xref": "x",
          "y": "H",
          "yref": "y"
         },
         {
          "showarrow": false,
          "text": "18.8",
          "x": 6,
          "xref": "x",
          "y": "H",
          "yref": "y"
         },
         {
          "showarrow": false,
          "text": "18.6",
          "x": 7,
          "xref": "x",
          "y": "H",
          "yref": "y"
         },
         {
          "showarrow": false,
          "text": "18.8",
          "x": 8,
          "xref": "x",
          "y": "H",
          "yref": "y"
         },
         {
          "showarrow": false,
          "text": "18.5",
          "x": 9,
          "xref": "x",
          "y": "H",
          "yref": "y"
         },
         {
          "showarrow": false,
          "text": "nan",
          "x": 10,
          "xref": "x",
          "y": "H",
          "yref": "y"
         },
         {
          "showarrow": false,
          "text": "nan",
          "x": 11,
          "xref": "x",
          "y": "H",
          "yref": "y"
         },
         {
          "showarrow": false,
          "text": "nan",
          "x": 12,
          "xref": "x",
          "y": "H",
          "yref": "y"
         }
        ],
        "height": 450,
        "showlegend": false,
        "template": {
         "data": {
          "scatter": [
           {
            "type": "scatter"
           }
          ]
         }
        },
        "title": {
         "text": "Aluminium PCR Film"
        },
        "width": 575,
        "xaxis": {
         "linecolor": "black",
         "linewidth": 1,
         "mirror": true,
         "nticks": 20,
         "showgrid": false,
         "showline": true,
         "side": "top",
         "tickangle": 0,
         "tickcolor": "black",
         "tickfont": {
          "color": "black",
          "family": "Arial",
          "size": 13
         },
         "ticklen": 4,
         "ticks": ""
        },
        "yaxis": {
         "linecolor": "black",
         "linewidth": 1,
         "mirror": true,
         "nticks": 0,
         "showgrid": false,
         "showline": true,
         "tickangle": 0,
         "tickcolor": "black",
         "tickfont": {
          "color": "black",
          "family": "Arial",
          "size": 13
         },
         "ticklen": 4,
         "ticks": "",
         "title": {
          "font": {
           "color": "black",
           "family": "Arial",
           "size": 16
          },
          "standoff": 0
         }
        }
       }
      },
      "text/html": [
       "<div>                            <div id=\"46500726-a350-492e-a64d-79d04c8efa84\" class=\"plotly-graph-div\" style=\"height:450px; width:575px;\"></div>            <script type=\"text/javascript\">                require([\"plotly\"], function(Plotly) {                    window.PLOTLYENV=window.PLOTLYENV || {};                                    if (document.getElementById(\"46500726-a350-492e-a64d-79d04c8efa84\")) {                    Plotly.newPlot(                        \"46500726-a350-492e-a64d-79d04c8efa84\",                        [{\"colorbar\": {\"dtick\": 0.5, \"len\": 1, \"outlinecolor\": \"black\", \"outlinewidth\": 0.25, \"thickness\": 15, \"tickcolor\": \"black\", \"ticks\": \"outside\"}, \"colorscale\": [[0, \"#2164AF\"], [0.5, \"#EAEAEA\"], [1, \"#D9482A\"]], \"hoverongaps\": false, \"showscale\": true, \"type\": \"heatmap\", \"x\": [1, 2, 3, 4, 5, 6, 7, 8, 9, 10, 11, 12], \"y\": [\"H\", \"G\", \"F\", \"E\", \"D\", \"C\", \"B\", \"A\"], \"z\": [[3.8000000000000007, 1.4000000000000021, 1.6999999999999993, 0.6000000000000014, 2.0, 0.6000000000000014, 0.40000000000000213, 0.6000000000000014, 0.3000000000000007, null, null, null], [0.9000000000000021, 1.1000000000000014, 3.900000000000002, 3.1999999999999993, 4.199999999999999, 3.0, 3.1999999999999993, 3.6000000000000014, 1.1000000000000014, 0.10000000000000142, 3.1000000000000014, -0.1999999999999993], [3.6000000000000014, 0.3000000000000007, 0.9000000000000021, 1.1999999999999993, 0.6999999999999993, 0.5, 2.400000000000002, 2.6000000000000014, 2.400000000000002, 0.3000000000000007, 0.40000000000000213, -0.3000000000000007], [0.6999999999999993, 0.1999999999999993, 0.1999999999999993, 0.1999999999999993, 0.10000000000000142, 0.0, 0.10000000000000142, 0.1999999999999993, 0.9000000000000021, 0.3000000000000007, 1.9000000000000021, 0.6000000000000014], [0.1999999999999993, -0.3000000000000007, -0.3999999999999986, -0.3999999999999986, -0.5, -0.3999999999999986, -0.3000000000000007, -0.3999999999999986, -0.3000000000000007, -0.1999999999999993, 1.0, -0.3999999999999986], [0.1999999999999993, -0.3000000000000007, -0.5999999999999979, -0.5, -0.3999999999999986, -0.5, -0.5, -0.5, -0.3999999999999986, -0.5, -0.1999999999999993, 0.0], [-0.3999999999999986, -0.5999999999999979, -0.6999999999999993, -0.5999999999999979, -0.5999999999999979, -0.6999999999999993, -0.8000000000000007, -0.8999999999999986, -0.8999999999999986, -0.8999999999999986, -0.8000000000000007, -0.8999999999999986], [-1.0, -0.8999999999999986, -1.0, -0.8000000000000007, -1.0, -1.0, -1.0999999999999979, -1.1999999999999993, -1.0999999999999979, -1.1999999999999993, -1.0, -1.5]], \"zmax\": 1.5, \"zmin\": -1.5}],                        {\"annotations\": [{\"showarrow\": false, \"text\": \"17.2\", \"x\": 1, \"xref\": \"x\", \"y\": \"A\", \"yref\": \"y\"}, {\"showarrow\": false, \"text\": \"17.3\", \"x\": 2, \"xref\": \"x\", \"y\": \"A\", \"yref\": \"y\"}, {\"showarrow\": false, \"text\": \"17.2\", \"x\": 3, \"xref\": \"x\", \"y\": \"A\", \"yref\": \"y\"}, {\"showarrow\": false, \"text\": \"17.4\", \"x\": 4, \"xref\": \"x\", \"y\": \"A\", \"yref\": \"y\"}, {\"showarrow\": false, \"text\": \"17.2\", \"x\": 5, \"xref\": \"x\", \"y\": \"A\", \"yref\": \"y\"}, {\"showarrow\": false, \"text\": \"17.2\", \"x\": 6, \"xref\": \"x\", \"y\": \"A\", \"yref\": \"y\"}, {\"showarrow\": false, \"text\": \"17.1\", \"x\": 7, \"xref\": \"x\", \"y\": \"A\", \"yref\": \"y\"}, {\"showarrow\": false, \"text\": \"17.0\", \"x\": 8, \"xref\": \"x\", \"y\": \"A\", \"yref\": \"y\"}, {\"showarrow\": false, \"text\": \"17.1\", \"x\": 9, \"xref\": \"x\", \"y\": \"A\", \"yref\": \"y\"}, {\"showarrow\": false, \"text\": \"17.0\", \"x\": 10, \"xref\": \"x\", \"y\": \"A\", \"yref\": \"y\"}, {\"showarrow\": false, \"text\": \"17.2\", \"x\": 11, \"xref\": \"x\", \"y\": \"A\", \"yref\": \"y\"}, {\"showarrow\": false, \"text\": \"16.7\", \"x\": 12, \"xref\": \"x\", \"y\": \"A\", \"yref\": \"y\"}, {\"showarrow\": false, \"text\": \"17.8\", \"x\": 1, \"xref\": \"x\", \"y\": \"B\", \"yref\": \"y\"}, {\"showarrow\": false, \"text\": \"17.6\", \"x\": 2, \"xref\": \"x\", \"y\": \"B\", \"yref\": \"y\"}, {\"showarrow\": false, \"text\": \"17.5\", \"x\": 3, \"xref\": \"x\", \"y\": \"B\", \"yref\": \"y\"}, {\"showarrow\": false, \"text\": \"17.6\", \"x\": 4, \"xref\": \"x\", \"y\": \"B\", \"yref\": \"y\"}, {\"showarrow\": false, \"text\": \"17.6\", \"x\": 5, \"xref\": \"x\", \"y\": \"B\", \"yref\": \"y\"}, {\"showarrow\": false, \"text\": \"17.5\", \"x\": 6, \"xref\": \"x\", \"y\": \"B\", \"yref\": \"y\"}, {\"showarrow\": false, \"text\": \"17.4\", \"x\": 7, \"xref\": \"x\", \"y\": \"B\", \"yref\": \"y\"}, {\"showarrow\": false, \"text\": \"17.3\", \"x\": 8, \"xref\": \"x\", \"y\": \"B\", \"yref\": \"y\"}, {\"showarrow\": false, \"text\": \"17.3\", \"x\": 9, \"xref\": \"x\", \"y\": \"B\", \"yref\": \"y\"}, {\"showarrow\": false, \"text\": \"17.3\", \"x\": 10, \"xref\": \"x\", \"y\": \"B\", \"yref\": \"y\"}, {\"showarrow\": false, \"text\": \"17.4\", \"x\": 11, \"xref\": \"x\", \"y\": \"B\", \"yref\": \"y\"}, {\"showarrow\": false, \"text\": \"17.3\", \"x\": 12, \"xref\": \"x\", \"y\": \"B\", \"yref\": \"y\"}, {\"showarrow\": false, \"text\": \"18.4\", \"x\": 1, \"xref\": \"x\", \"y\": \"C\", \"yref\": \"y\"}, {\"showarrow\": false, \"text\": \"17.9\", \"x\": 2, \"xref\": \"x\", \"y\": \"C\", \"yref\": \"y\"}, {\"showarrow\": false, \"text\": \"17.6\", \"x\": 3, \"xref\": \"x\", \"y\": \"C\", \"yref\": \"y\"}, {\"showarrow\": false, \"text\": \"17.7\", \"x\": 4, \"xref\": \"x\", \"y\": \"C\", \"yref\": \"y\"}, {\"showarrow\": false, \"text\": \"17.8\", \"x\": 5, \"xref\": \"x\", \"y\": \"C\", \"yref\": \"y\"}, {\"showarrow\": false, \"text\": \"17.7\", \"x\": 6, \"xref\": \"x\", \"y\": \"C\", \"yref\": \"y\"}, {\"showarrow\": false, \"text\": \"17.7\", \"x\": 7, \"xref\": \"x\", \"y\": \"C\", \"yref\": \"y\"}, {\"showarrow\": false, \"text\": \"17.7\", \"x\": 8, \"xref\": \"x\", \"y\": \"C\", \"yref\": \"y\"}, {\"showarrow\": false, \"text\": \"17.8\", \"x\": 9, \"xref\": \"x\", \"y\": \"C\", \"yref\": \"y\"}, {\"showarrow\": false, \"text\": \"17.7\", \"x\": 10, \"xref\": \"x\", \"y\": \"C\", \"yref\": \"y\"}, {\"showarrow\": false, \"text\": \"18.0\", \"x\": 11, \"xref\": \"x\", \"y\": \"C\", \"yref\": \"y\"}, {\"showarrow\": false, \"text\": \"18.2\", \"x\": 12, \"xref\": \"x\", \"y\": \"C\", \"yref\": \"y\"}, {\"showarrow\": false, \"text\": \"18.4\", \"x\": 1, \"xref\": \"x\", \"y\": \"D\", \"yref\": \"y\"}, {\"showarrow\": false, \"text\": \"17.9\", \"x\": 2, \"xref\": \"x\", \"y\": \"D\", \"yref\": \"y\"}, {\"showarrow\": false, \"text\": \"17.8\", \"x\": 3, \"xref\": \"x\", \"y\": \"D\", \"yref\": \"y\"}, {\"showarrow\": false, \"text\": \"17.8\", \"x\": 4, \"xref\": \"x\", \"y\": \"D\", \"yref\": \"y\"}, {\"showarrow\": false, \"text\": \"17.7\", \"x\": 5, \"xref\": \"x\", \"y\": \"D\", \"yref\": \"y\"}, {\"showarrow\": false, \"text\": \"17.8\", \"x\": 6, \"xref\": \"x\", \"y\": \"D\", \"yref\": \"y\"}, {\"showarrow\": false, \"text\": \"17.9\", \"x\": 7, \"xref\": \"x\", \"y\": \"D\", \"yref\": \"y\"}, {\"showarrow\": false, \"text\": \"17.8\", \"x\": 8, \"xref\": \"x\", \"y\": \"D\", \"yref\": \"y\"}, {\"showarrow\": false, \"text\": \"17.9\", \"x\": 9, \"xref\": \"x\", \"y\": \"D\", \"yref\": \"y\"}, {\"showarrow\": false, \"text\": \"18.0\", \"x\": 10, \"xref\": \"x\", \"y\": \"D\", \"yref\": \"y\"}, {\"showarrow\": false, \"text\": \"19.2\", \"x\": 11, \"xref\": \"x\", \"y\": \"D\", \"yref\": \"y\"}, {\"showarrow\": false, \"text\": \"17.8\", \"x\": 12, \"xref\": \"x\", \"y\": \"D\", \"yref\": \"y\"}, {\"showarrow\": false, \"text\": \"18.9\", \"x\": 1, \"xref\": \"x\", \"y\": \"E\", \"yref\": \"y\"}, {\"showarrow\": false, \"text\": \"18.4\", \"x\": 2, \"xref\": \"x\", \"y\": \"E\", \"yref\": \"y\"}, {\"showarrow\": false, \"text\": \"18.4\", \"x\": 3, \"xref\": \"x\", \"y\": \"E\", \"yref\": \"y\"}, {\"showarrow\": false, \"text\": \"18.4\", \"x\": 4, \"xref\": \"x\", \"y\": \"E\", \"yref\": \"y\"}, {\"showarrow\": false, \"text\": \"18.3\", \"x\": 5, \"xref\": \"x\", \"y\": \"E\", \"yref\": \"y\"}, {\"showarrow\": false, \"text\": \"18.2\", \"x\": 6, \"xref\": \"x\", \"y\": \"E\", \"yref\": \"y\"}, {\"showarrow\": false, \"text\": \"18.3\", \"x\": 7, \"xref\": \"x\", \"y\": \"E\", \"yref\": \"y\"}, {\"showarrow\": false, \"text\": \"18.4\", \"x\": 8, \"xref\": \"x\", \"y\": \"E\", \"yref\": \"y\"}, {\"showarrow\": false, \"text\": \"19.1\", \"x\": 9, \"xref\": \"x\", \"y\": \"E\", \"yref\": \"y\"}, {\"showarrow\": false, \"text\": \"18.5\", \"x\": 10, \"xref\": \"x\", \"y\": \"E\", \"yref\": \"y\"}, {\"showarrow\": false, \"text\": \"20.1\", \"x\": 11, \"xref\": \"x\", \"y\": \"E\", \"yref\": \"y\"}, {\"showarrow\": false, \"text\": \"18.8\", \"x\": 12, \"xref\": \"x\", \"y\": \"E\", \"yref\": \"y\"}, {\"showarrow\": false, \"text\": \"21.8\", \"x\": 1, \"xref\": \"x\", \"y\": \"F\", \"yref\": \"y\"}, {\"showarrow\": false, \"text\": \"18.5\", \"x\": 2, \"xref\": \"x\", \"y\": \"F\", \"yref\": \"y\"}, {\"showarrow\": false, \"text\": \"19.1\", \"x\": 3, \"xref\": \"x\", \"y\": \"F\", \"yref\": \"y\"}, {\"showarrow\": false, \"text\": \"19.4\", \"x\": 4, \"xref\": \"x\", \"y\": \"F\", \"yref\": \"y\"}, {\"showarrow\": false, \"text\": \"18.9\", \"x\": 5, \"xref\": \"x\", \"y\": \"F\", \"yref\": \"y\"}, {\"showarrow\": false, \"text\": \"18.7\", \"x\": 6, \"xref\": \"x\", \"y\": \"F\", \"yref\": \"y\"}, {\"showarrow\": false, \"text\": \"20.6\", \"x\": 7, \"xref\": \"x\", \"y\": \"F\", \"yref\": \"y\"}, {\"showarrow\": false, \"text\": \"20.8\", \"x\": 8, \"xref\": \"x\", \"y\": \"F\", \"yref\": \"y\"}, {\"showarrow\": false, \"text\": \"20.6\", \"x\": 9, \"xref\": \"x\", \"y\": \"F\", \"yref\": \"y\"}, {\"showarrow\": false, \"text\": \"18.5\", \"x\": 10, \"xref\": \"x\", \"y\": \"F\", \"yref\": \"y\"}, {\"showarrow\": false, \"text\": \"18.6\", \"x\": 11, \"xref\": \"x\", \"y\": \"F\", \"yref\": \"y\"}, {\"showarrow\": false, \"text\": \"17.9\", \"x\": 12, \"xref\": \"x\", \"y\": \"F\", \"yref\": \"y\"}, {\"showarrow\": false, \"text\": \"19.1\", \"x\": 1, \"xref\": \"x\", \"y\": \"G\", \"yref\": \"y\"}, {\"showarrow\": false, \"text\": \"19.3\", \"x\": 2, \"xref\": \"x\", \"y\": \"G\", \"yref\": \"y\"}, {\"showarrow\": false, \"text\": \"22.1\", \"x\": 3, \"xref\": \"x\", \"y\": \"G\", \"yref\": \"y\"}, {\"showarrow\": false, \"text\": \"21.4\", \"x\": 4, \"xref\": \"x\", \"y\": \"G\", \"yref\": \"y\"}, {\"showarrow\": false, \"text\": \"22.4\", \"x\": 5, \"xref\": \"x\", \"y\": \"G\", \"yref\": \"y\"}, {\"showarrow\": false, \"text\": \"21.2\", \"x\": 6, \"xref\": \"x\", \"y\": \"G\", \"yref\": \"y\"}, {\"showarrow\": false, \"text\": \"21.4\", \"x\": 7, \"xref\": \"x\", \"y\": \"G\", \"yref\": \"y\"}, {\"showarrow\": false, \"text\": \"21.8\", \"x\": 8, \"xref\": \"x\", \"y\": \"G\", \"yref\": \"y\"}, {\"showarrow\": false, \"text\": \"19.3\", \"x\": 9, \"xref\": \"x\", \"y\": \"G\", \"yref\": \"y\"}, {\"showarrow\": false, \"text\": \"18.3\", \"x\": 10, \"xref\": \"x\", \"y\": \"G\", \"yref\": \"y\"}, {\"showarrow\": false, \"text\": \"21.3\", \"x\": 11, \"xref\": \"x\", \"y\": \"G\", \"yref\": \"y\"}, {\"showarrow\": false, \"text\": \"18.0\", \"x\": 12, \"xref\": \"x\", \"y\": \"G\", \"yref\": \"y\"}, {\"showarrow\": false, \"text\": \"22.0\", \"x\": 1, \"xref\": \"x\", \"y\": \"H\", \"yref\": \"y\"}, {\"showarrow\": false, \"text\": \"19.6\", \"x\": 2, \"xref\": \"x\", \"y\": \"H\", \"yref\": \"y\"}, {\"showarrow\": false, \"text\": \"19.9\", \"x\": 3, \"xref\": \"x\", \"y\": \"H\", \"yref\": \"y\"}, {\"showarrow\": false, \"text\": \"18.8\", \"x\": 4, \"xref\": \"x\", \"y\": \"H\", \"yref\": \"y\"}, {\"showarrow\": false, \"text\": \"20.2\", \"x\": 5, \"xref\": \"x\", \"y\": \"H\", \"yref\": \"y\"}, {\"showarrow\": false, \"text\": \"18.8\", \"x\": 6, \"xref\": \"x\", \"y\": \"H\", \"yref\": \"y\"}, {\"showarrow\": false, \"text\": \"18.6\", \"x\": 7, \"xref\": \"x\", \"y\": \"H\", \"yref\": \"y\"}, {\"showarrow\": false, \"text\": \"18.8\", \"x\": 8, \"xref\": \"x\", \"y\": \"H\", \"yref\": \"y\"}, {\"showarrow\": false, \"text\": \"18.5\", \"x\": 9, \"xref\": \"x\", \"y\": \"H\", \"yref\": \"y\"}, {\"showarrow\": false, \"text\": \"nan\", \"x\": 10, \"xref\": \"x\", \"y\": \"H\", \"yref\": \"y\"}, {\"showarrow\": false, \"text\": \"nan\", \"x\": 11, \"xref\": \"x\", \"y\": \"H\", \"yref\": \"y\"}, {\"showarrow\": false, \"text\": \"nan\", \"x\": 12, \"xref\": \"x\", \"y\": \"H\", \"yref\": \"y\"}], \"height\": 450, \"showlegend\": false, \"template\": {\"data\": {\"scatter\": [{\"type\": \"scatter\"}]}}, \"title\": {\"text\": \"Aluminium PCR Film\"}, \"width\": 575, \"xaxis\": {\"linecolor\": \"black\", \"linewidth\": 1, \"mirror\": true, \"nticks\": 20, \"showgrid\": false, \"showline\": true, \"side\": \"top\", \"tickangle\": 0, \"tickcolor\": \"black\", \"tickfont\": {\"color\": \"black\", \"family\": \"Arial\", \"size\": 13}, \"ticklen\": 4, \"ticks\": \"\"}, \"yaxis\": {\"linecolor\": \"black\", \"linewidth\": 1, \"mirror\": true, \"nticks\": 0, \"showgrid\": false, \"showline\": true, \"tickangle\": 0, \"tickcolor\": \"black\", \"tickfont\": {\"color\": \"black\", \"family\": \"Arial\", \"size\": 13}, \"ticklen\": 4, \"ticks\": \"\", \"title\": {\"font\": {\"color\": \"black\", \"family\": \"Arial\", \"size\": 16}, \"standoff\": 0}}},                        {\"responsive\": true}                    ).then(function(){\n",
       "                            \n",
       "var gd = document.getElementById('46500726-a350-492e-a64d-79d04c8efa84');\n",
       "var x = new MutationObserver(function (mutations, observer) {{\n",
       "        var display = window.getComputedStyle(gd).display;\n",
       "        if (!display || display === 'none') {{\n",
       "            console.log([gd, 'removed!']);\n",
       "            Plotly.purge(gd);\n",
       "            observer.disconnect();\n",
       "        }}\n",
       "}});\n",
       "\n",
       "// Listen for the removal of the full notebook cells\n",
       "var notebookContainer = gd.closest('#notebook-container');\n",
       "if (notebookContainer) {{\n",
       "    x.observe(notebookContainer, {childList: true});\n",
       "}}\n",
       "\n",
       "// Listen for the clearing of the current output cell\n",
       "var outputEl = gd.closest('.output');\n",
       "if (outputEl) {{\n",
       "    x.observe(outputEl, {childList: true});\n",
       "}}\n",
       "\n",
       "                        })                };                });            </script>        </div>"
      ]
     },
     "metadata": {},
     "output_type": "display_data"
    },
    {
     "data": {
      "application/vnd.plotly.v1+json": {
       "config": {
        "plotlyServerURL": "https://plot.ly"
       },
       "data": [
        {
         "colorbar": {
          "dtick": 0.5,
          "len": 1,
          "outlinecolor": "black",
          "outlinewidth": 0.25,
          "thickness": 15,
          "tickcolor": "black",
          "ticks": "outside"
         },
         "colorscale": [
          [
           0,
           "#2164AF"
          ],
          [
           0.5,
           "#EAEAEA"
          ],
          [
           1,
           "#D9482A"
          ]
         ],
         "hoverongaps": false,
         "showscale": true,
         "type": "heatmap",
         "x": [
          1,
          2,
          3,
          4,
          5,
          6,
          7,
          8,
          9,
          10,
          11,
          12
         ],
         "y": [
          "H",
          "G",
          "F",
          "E",
          "D",
          "C",
          "B",
          "A"
         ],
         "z": [
          [
           1.1000000000000014,
           1.2000000000000028,
           1,
           1.1000000000000014,
           0.7000000000000028,
           1.4000000000000021,
           1,
           1.2000000000000028,
           0.7000000000000028,
           null,
           null,
           null
          ],
          [
           1.5,
           1.1000000000000014,
           1.1000000000000014,
           1,
           1.2000000000000028,
           1.4000000000000021,
           0.6000000000000014,
           1.2000000000000028,
           0.20000000000000284,
           0.3000000000000007,
           0.20000000000000284,
           0.5
          ],
          [
           0.7000000000000028,
           0.7000000000000028,
           0.7000000000000028,
           0.3000000000000007,
           0.7000000000000028,
           1.1000000000000014,
           1.2000000000000028,
           0.7000000000000028,
           0.5,
           0.3000000000000007,
           0.3000000000000007,
           0.5
          ],
          [
           0.3000000000000007,
           0.40000000000000213,
           0.3000000000000007,
           0.3000000000000007,
           0.3000000000000007,
           0.40000000000000213,
           0.5,
           0.3000000000000007,
           0.7000000000000028,
           0.3000000000000007,
           -0.09999999999999787,
           0.10000000000000142
          ],
          [
           -0.3999999999999986,
           -0.09999999999999787,
           -0.09999999999999787,
           0.10000000000000142,
           0,
           -0.09999999999999787,
           0,
           -0.09999999999999787,
           -0.1999999999999993,
           -0.09999999999999787,
           -0.29999999999999716,
           -0.5
          ],
          [
           0,
           -0.09999999999999787,
           -0.5,
           -0.1999999999999993,
           -0.09999999999999787,
           -0.29999999999999716,
           -0.1999999999999993,
           -0.1999999999999993,
           -0.1999999999999993,
           -0.3999999999999986,
           -0.5,
           -0.6999999999999993
          ],
          [
           -0.3999999999999986,
           -0.3999999999999986,
           -0.3999999999999986,
           -0.3999999999999986,
           -0.5,
           -0.5999999999999979,
           -0.5999999999999979,
           -0.7999999999999972,
           -0.6999999999999993,
           -0.5999999999999979,
           -0.6999999999999993,
           -0.8999999999999986
          ],
          [
           -0.8999999999999986,
           -0.8999999999999986,
           -0.8999999999999986,
           -0.8999999999999986,
           -1.0999999999999979,
           -1,
           -1.1999999999999993,
           -1.0999999999999979,
           -1.0999999999999979,
           -1.0999999999999979,
           -1.0999999999999979,
           -1
          ]
         ],
         "zmax": 1.5,
         "zmin": -1.5
        }
       ],
       "layout": {
        "annotations": [
         {
          "showarrow": false,
          "text": "17.5",
          "x": 1,
          "xref": "x",
          "y": "A",
          "yref": "y"
         },
         {
          "showarrow": false,
          "text": "17.5",
          "x": 2,
          "xref": "x",
          "y": "A",
          "yref": "y"
         },
         {
          "showarrow": false,
          "text": "17.5",
          "x": 3,
          "xref": "x",
          "y": "A",
          "yref": "y"
         },
         {
          "showarrow": false,
          "text": "17.5",
          "x": 4,
          "xref": "x",
          "y": "A",
          "yref": "y"
         },
         {
          "showarrow": false,
          "text": "17.3",
          "x": 5,
          "xref": "x",
          "y": "A",
          "yref": "y"
         },
         {
          "showarrow": false,
          "text": "17.4",
          "x": 6,
          "xref": "x",
          "y": "A",
          "yref": "y"
         },
         {
          "showarrow": false,
          "text": "17.2",
          "x": 7,
          "xref": "x",
          "y": "A",
          "yref": "y"
         },
         {
          "showarrow": false,
          "text": "17.3",
          "x": 8,
          "xref": "x",
          "y": "A",
          "yref": "y"
         },
         {
          "showarrow": false,
          "text": "17.3",
          "x": 9,
          "xref": "x",
          "y": "A",
          "yref": "y"
         },
         {
          "showarrow": false,
          "text": "17.3",
          "x": 10,
          "xref": "x",
          "y": "A",
          "yref": "y"
         },
         {
          "showarrow": false,
          "text": "17.3",
          "x": 11,
          "xref": "x",
          "y": "A",
          "yref": "y"
         },
         {
          "showarrow": false,
          "text": "17.4",
          "x": 12,
          "xref": "x",
          "y": "A",
          "yref": "y"
         },
         {
          "showarrow": false,
          "text": "18.0",
          "x": 1,
          "xref": "x",
          "y": "B",
          "yref": "y"
         },
         {
          "showarrow": false,
          "text": "18.0",
          "x": 2,
          "xref": "x",
          "y": "B",
          "yref": "y"
         },
         {
          "showarrow": false,
          "text": "18.0",
          "x": 3,
          "xref": "x",
          "y": "B",
          "yref": "y"
         },
         {
          "showarrow": false,
          "text": "18.0",
          "x": 4,
          "xref": "x",
          "y": "B",
          "yref": "y"
         },
         {
          "showarrow": false,
          "text": "17.9",
          "x": 5,
          "xref": "x",
          "y": "B",
          "yref": "y"
         },
         {
          "showarrow": false,
          "text": "17.8",
          "x": 6,
          "xref": "x",
          "y": "B",
          "yref": "y"
         },
         {
          "showarrow": false,
          "text": "17.8",
          "x": 7,
          "xref": "x",
          "y": "B",
          "yref": "y"
         },
         {
          "showarrow": false,
          "text": "17.6",
          "x": 8,
          "xref": "x",
          "y": "B",
          "yref": "y"
         },
         {
          "showarrow": false,
          "text": "17.7",
          "x": 9,
          "xref": "x",
          "y": "B",
          "yref": "y"
         },
         {
          "showarrow": false,
          "text": "17.8",
          "x": 10,
          "xref": "x",
          "y": "B",
          "yref": "y"
         },
         {
          "showarrow": false,
          "text": "17.7",
          "x": 11,
          "xref": "x",
          "y": "B",
          "yref": "y"
         },
         {
          "showarrow": false,
          "text": "17.5",
          "x": 12,
          "xref": "x",
          "y": "B",
          "yref": "y"
         },
         {
          "showarrow": false,
          "text": "18.4",
          "x": 1,
          "xref": "x",
          "y": "C",
          "yref": "y"
         },
         {
          "showarrow": false,
          "text": "18.3",
          "x": 2,
          "xref": "x",
          "y": "C",
          "yref": "y"
         },
         {
          "showarrow": false,
          "text": "17.9",
          "x": 3,
          "xref": "x",
          "y": "C",
          "yref": "y"
         },
         {
          "showarrow": false,
          "text": "18.2",
          "x": 4,
          "xref": "x",
          "y": "C",
          "yref": "y"
         },
         {
          "showarrow": false,
          "text": "18.3",
          "x": 5,
          "xref": "x",
          "y": "C",
          "yref": "y"
         },
         {
          "showarrow": false,
          "text": "18.1",
          "x": 6,
          "xref": "x",
          "y": "C",
          "yref": "y"
         },
         {
          "showarrow": false,
          "text": "18.2",
          "x": 7,
          "xref": "x",
          "y": "C",
          "yref": "y"
         },
         {
          "showarrow": false,
          "text": "18.2",
          "x": 8,
          "xref": "x",
          "y": "C",
          "yref": "y"
         },
         {
          "showarrow": false,
          "text": "18.2",
          "x": 9,
          "xref": "x",
          "y": "C",
          "yref": "y"
         },
         {
          "showarrow": false,
          "text": "18.0",
          "x": 10,
          "xref": "x",
          "y": "C",
          "yref": "y"
         },
         {
          "showarrow": false,
          "text": "17.9",
          "x": 11,
          "xref": "x",
          "y": "C",
          "yref": "y"
         },
         {
          "showarrow": false,
          "text": "17.7",
          "x": 12,
          "xref": "x",
          "y": "C",
          "yref": "y"
         },
         {
          "showarrow": false,
          "text": "18.0",
          "x": 1,
          "xref": "x",
          "y": "D",
          "yref": "y"
         },
         {
          "showarrow": false,
          "text": "18.3",
          "x": 2,
          "xref": "x",
          "y": "D",
          "yref": "y"
         },
         {
          "showarrow": false,
          "text": "18.3",
          "x": 3,
          "xref": "x",
          "y": "D",
          "yref": "y"
         },
         {
          "showarrow": false,
          "text": "18.5",
          "x": 4,
          "xref": "x",
          "y": "D",
          "yref": "y"
         },
         {
          "showarrow": false,
          "text": "18.4",
          "x": 5,
          "xref": "x",
          "y": "D",
          "yref": "y"
         },
         {
          "showarrow": false,
          "text": "18.3",
          "x": 6,
          "xref": "x",
          "y": "D",
          "yref": "y"
         },
         {
          "showarrow": false,
          "text": "18.4",
          "x": 7,
          "xref": "x",
          "y": "D",
          "yref": "y"
         },
         {
          "showarrow": false,
          "text": "18.3",
          "x": 8,
          "xref": "x",
          "y": "D",
          "yref": "y"
         },
         {
          "showarrow": false,
          "text": "18.2",
          "x": 9,
          "xref": "x",
          "y": "D",
          "yref": "y"
         },
         {
          "showarrow": false,
          "text": "18.3",
          "x": 10,
          "xref": "x",
          "y": "D",
          "yref": "y"
         },
         {
          "showarrow": false,
          "text": "18.1",
          "x": 11,
          "xref": "x",
          "y": "D",
          "yref": "y"
         },
         {
          "showarrow": false,
          "text": "17.9",
          "x": 12,
          "xref": "x",
          "y": "D",
          "yref": "y"
         },
         {
          "showarrow": false,
          "text": "18.7",
          "x": 1,
          "xref": "x",
          "y": "E",
          "yref": "y"
         },
         {
          "showarrow": false,
          "text": "18.8",
          "x": 2,
          "xref": "x",
          "y": "E",
          "yref": "y"
         },
         {
          "showarrow": false,
          "text": "18.7",
          "x": 3,
          "xref": "x",
          "y": "E",
          "yref": "y"
         },
         {
          "showarrow": false,
          "text": "18.7",
          "x": 4,
          "xref": "x",
          "y": "E",
          "yref": "y"
         },
         {
          "showarrow": false,
          "text": "18.7",
          "x": 5,
          "xref": "x",
          "y": "E",
          "yref": "y"
         },
         {
          "showarrow": false,
          "text": "18.8",
          "x": 6,
          "xref": "x",
          "y": "E",
          "yref": "y"
         },
         {
          "showarrow": false,
          "text": "18.9",
          "x": 7,
          "xref": "x",
          "y": "E",
          "yref": "y"
         },
         {
          "showarrow": false,
          "text": "18.7",
          "x": 8,
          "xref": "x",
          "y": "E",
          "yref": "y"
         },
         {
          "showarrow": false,
          "text": "19.1",
          "x": 9,
          "xref": "x",
          "y": "E",
          "yref": "y"
         },
         {
          "showarrow": false,
          "text": "18.7",
          "x": 10,
          "xref": "x",
          "y": "E",
          "yref": "y"
         },
         {
          "showarrow": false,
          "text": "18.3",
          "x": 11,
          "xref": "x",
          "y": "E",
          "yref": "y"
         },
         {
          "showarrow": false,
          "text": "18.5",
          "x": 12,
          "xref": "x",
          "y": "E",
          "yref": "y"
         },
         {
          "showarrow": false,
          "text": "19.1",
          "x": 1,
          "xref": "x",
          "y": "F",
          "yref": "y"
         },
         {
          "showarrow": false,
          "text": "19.1",
          "x": 2,
          "xref": "x",
          "y": "F",
          "yref": "y"
         },
         {
          "showarrow": false,
          "text": "19.1",
          "x": 3,
          "xref": "x",
          "y": "F",
          "yref": "y"
         },
         {
          "showarrow": false,
          "text": "18.7",
          "x": 4,
          "xref": "x",
          "y": "F",
          "yref": "y"
         },
         {
          "showarrow": false,
          "text": "19.1",
          "x": 5,
          "xref": "x",
          "y": "F",
          "yref": "y"
         },
         {
          "showarrow": false,
          "text": "19.5",
          "x": 6,
          "xref": "x",
          "y": "F",
          "yref": "y"
         },
         {
          "showarrow": false,
          "text": "19.6",
          "x": 7,
          "xref": "x",
          "y": "F",
          "yref": "y"
         },
         {
          "showarrow": false,
          "text": "19.1",
          "x": 8,
          "xref": "x",
          "y": "F",
          "yref": "y"
         },
         {
          "showarrow": false,
          "text": "18.9",
          "x": 9,
          "xref": "x",
          "y": "F",
          "yref": "y"
         },
         {
          "showarrow": false,
          "text": "18.7",
          "x": 10,
          "xref": "x",
          "y": "F",
          "yref": "y"
         },
         {
          "showarrow": false,
          "text": "18.7",
          "x": 11,
          "xref": "x",
          "y": "F",
          "yref": "y"
         },
         {
          "showarrow": false,
          "text": "18.9",
          "x": 12,
          "xref": "x",
          "y": "F",
          "yref": "y"
         },
         {
          "showarrow": false,
          "text": "19.9",
          "x": 1,
          "xref": "x",
          "y": "G",
          "yref": "y"
         },
         {
          "showarrow": false,
          "text": "19.5",
          "x": 2,
          "xref": "x",
          "y": "G",
          "yref": "y"
         },
         {
          "showarrow": false,
          "text": "19.5",
          "x": 3,
          "xref": "x",
          "y": "G",
          "yref": "y"
         },
         {
          "showarrow": false,
          "text": "19.4",
          "x": 4,
          "xref": "x",
          "y": "G",
          "yref": "y"
         },
         {
          "showarrow": false,
          "text": "19.6",
          "x": 5,
          "xref": "x",
          "y": "G",
          "yref": "y"
         },
         {
          "showarrow": false,
          "text": "19.8",
          "x": 6,
          "xref": "x",
          "y": "G",
          "yref": "y"
         },
         {
          "showarrow": false,
          "text": "19.0",
          "x": 7,
          "xref": "x",
          "y": "G",
          "yref": "y"
         },
         {
          "showarrow": false,
          "text": "19.6",
          "x": 8,
          "xref": "x",
          "y": "G",
          "yref": "y"
         },
         {
          "showarrow": false,
          "text": "18.6",
          "x": 9,
          "xref": "x",
          "y": "G",
          "yref": "y"
         },
         {
          "showarrow": false,
          "text": "18.7",
          "x": 10,
          "xref": "x",
          "y": "G",
          "yref": "y"
         },
         {
          "showarrow": false,
          "text": "18.6",
          "x": 11,
          "xref": "x",
          "y": "G",
          "yref": "y"
         },
         {
          "showarrow": false,
          "text": "18.9",
          "x": 12,
          "xref": "x",
          "y": "G",
          "yref": "y"
         },
         {
          "showarrow": false,
          "text": "19.5",
          "x": 1,
          "xref": "x",
          "y": "H",
          "yref": "y"
         },
         {
          "showarrow": false,
          "text": "19.6",
          "x": 2,
          "xref": "x",
          "y": "H",
          "yref": "y"
         },
         {
          "showarrow": false,
          "text": "19.4",
          "x": 3,
          "xref": "x",
          "y": "H",
          "yref": "y"
         },
         {
          "showarrow": false,
          "text": "19.5",
          "x": 4,
          "xref": "x",
          "y": "H",
          "yref": "y"
         },
         {
          "showarrow": false,
          "text": "19.1",
          "x": 5,
          "xref": "x",
          "y": "H",
          "yref": "y"
         },
         {
          "showarrow": false,
          "text": "19.8",
          "x": 6,
          "xref": "x",
          "y": "H",
          "yref": "y"
         },
         {
          "showarrow": false,
          "text": "19.4",
          "x": 7,
          "xref": "x",
          "y": "H",
          "yref": "y"
         },
         {
          "showarrow": false,
          "text": "19.6",
          "x": 8,
          "xref": "x",
          "y": "H",
          "yref": "y"
         },
         {
          "showarrow": false,
          "text": "19.1",
          "x": 9,
          "xref": "x",
          "y": "H",
          "yref": "y"
         },
         {
          "showarrow": false,
          "text": "nan",
          "x": 10,
          "xref": "x",
          "y": "H",
          "yref": "y"
         },
         {
          "showarrow": false,
          "text": "nan",
          "x": 11,
          "xref": "x",
          "y": "H",
          "yref": "y"
         },
         {
          "showarrow": false,
          "text": "nan",
          "x": 12,
          "xref": "x",
          "y": "H",
          "yref": "y"
         }
        ],
        "height": 450,
        "showlegend": false,
        "template": {
         "data": {
          "scatter": [
           {
            "type": "scatter"
           }
          ]
         }
        },
        "title": {
         "text": "Plastic PCR Film"
        },
        "width": 575,
        "xaxis": {
         "linecolor": "black",
         "linewidth": 1,
         "mirror": true,
         "nticks": 20,
         "showgrid": false,
         "showline": true,
         "side": "top",
         "tickangle": 0,
         "tickcolor": "black",
         "tickfont": {
          "color": "black",
          "family": "Arial",
          "size": 13
         },
         "ticklen": 4,
         "ticks": ""
        },
        "yaxis": {
         "linecolor": "black",
         "linewidth": 1,
         "mirror": true,
         "nticks": 0,
         "showgrid": false,
         "showline": true,
         "tickangle": 0,
         "tickcolor": "black",
         "tickfont": {
          "color": "black",
          "family": "Arial",
          "size": 13
         },
         "ticklen": 4,
         "ticks": "",
         "title": {
          "font": {
           "color": "black",
           "family": "Arial",
           "size": 16
          },
          "standoff": 0
         }
        }
       }
      },
      "text/html": [
       "<div>                            <div id=\"59e47dfb-954f-44d2-bd9b-1160de412946\" class=\"plotly-graph-div\" style=\"height:450px; width:575px;\"></div>            <script type=\"text/javascript\">                require([\"plotly\"], function(Plotly) {                    window.PLOTLYENV=window.PLOTLYENV || {};                                    if (document.getElementById(\"59e47dfb-954f-44d2-bd9b-1160de412946\")) {                    Plotly.newPlot(                        \"59e47dfb-954f-44d2-bd9b-1160de412946\",                        [{\"colorbar\": {\"dtick\": 0.5, \"len\": 1, \"outlinecolor\": \"black\", \"outlinewidth\": 0.25, \"thickness\": 15, \"tickcolor\": \"black\", \"ticks\": \"outside\"}, \"colorscale\": [[0, \"#2164AF\"], [0.5, \"#EAEAEA\"], [1, \"#D9482A\"]], \"hoverongaps\": false, \"showscale\": true, \"type\": \"heatmap\", \"x\": [1, 2, 3, 4, 5, 6, 7, 8, 9, 10, 11, 12], \"y\": [\"H\", \"G\", \"F\", \"E\", \"D\", \"C\", \"B\", \"A\"], \"z\": [[1.1000000000000014, 1.2000000000000028, 1.0, 1.1000000000000014, 0.7000000000000028, 1.4000000000000021, 1.0, 1.2000000000000028, 0.7000000000000028, null, null, null], [1.5, 1.1000000000000014, 1.1000000000000014, 1.0, 1.2000000000000028, 1.4000000000000021, 0.6000000000000014, 1.2000000000000028, 0.20000000000000284, 0.3000000000000007, 0.20000000000000284, 0.5], [0.7000000000000028, 0.7000000000000028, 0.7000000000000028, 0.3000000000000007, 0.7000000000000028, 1.1000000000000014, 1.2000000000000028, 0.7000000000000028, 0.5, 0.3000000000000007, 0.3000000000000007, 0.5], [0.3000000000000007, 0.40000000000000213, 0.3000000000000007, 0.3000000000000007, 0.3000000000000007, 0.40000000000000213, 0.5, 0.3000000000000007, 0.7000000000000028, 0.3000000000000007, -0.09999999999999787, 0.10000000000000142], [-0.3999999999999986, -0.09999999999999787, -0.09999999999999787, 0.10000000000000142, 0.0, -0.09999999999999787, 0.0, -0.09999999999999787, -0.1999999999999993, -0.09999999999999787, -0.29999999999999716, -0.5], [0.0, -0.09999999999999787, -0.5, -0.1999999999999993, -0.09999999999999787, -0.29999999999999716, -0.1999999999999993, -0.1999999999999993, -0.1999999999999993, -0.3999999999999986, -0.5, -0.6999999999999993], [-0.3999999999999986, -0.3999999999999986, -0.3999999999999986, -0.3999999999999986, -0.5, -0.5999999999999979, -0.5999999999999979, -0.7999999999999972, -0.6999999999999993, -0.5999999999999979, -0.6999999999999993, -0.8999999999999986], [-0.8999999999999986, -0.8999999999999986, -0.8999999999999986, -0.8999999999999986, -1.0999999999999979, -1.0, -1.1999999999999993, -1.0999999999999979, -1.0999999999999979, -1.0999999999999979, -1.0999999999999979, -1.0]], \"zmax\": 1.5, \"zmin\": -1.5}],                        {\"annotations\": [{\"showarrow\": false, \"text\": \"17.5\", \"x\": 1, \"xref\": \"x\", \"y\": \"A\", \"yref\": \"y\"}, {\"showarrow\": false, \"text\": \"17.5\", \"x\": 2, \"xref\": \"x\", \"y\": \"A\", \"yref\": \"y\"}, {\"showarrow\": false, \"text\": \"17.5\", \"x\": 3, \"xref\": \"x\", \"y\": \"A\", \"yref\": \"y\"}, {\"showarrow\": false, \"text\": \"17.5\", \"x\": 4, \"xref\": \"x\", \"y\": \"A\", \"yref\": \"y\"}, {\"showarrow\": false, \"text\": \"17.3\", \"x\": 5, \"xref\": \"x\", \"y\": \"A\", \"yref\": \"y\"}, {\"showarrow\": false, \"text\": \"17.4\", \"x\": 6, \"xref\": \"x\", \"y\": \"A\", \"yref\": \"y\"}, {\"showarrow\": false, \"text\": \"17.2\", \"x\": 7, \"xref\": \"x\", \"y\": \"A\", \"yref\": \"y\"}, {\"showarrow\": false, \"text\": \"17.3\", \"x\": 8, \"xref\": \"x\", \"y\": \"A\", \"yref\": \"y\"}, {\"showarrow\": false, \"text\": \"17.3\", \"x\": 9, \"xref\": \"x\", \"y\": \"A\", \"yref\": \"y\"}, {\"showarrow\": false, \"text\": \"17.3\", \"x\": 10, \"xref\": \"x\", \"y\": \"A\", \"yref\": \"y\"}, {\"showarrow\": false, \"text\": \"17.3\", \"x\": 11, \"xref\": \"x\", \"y\": \"A\", \"yref\": \"y\"}, {\"showarrow\": false, \"text\": \"17.4\", \"x\": 12, \"xref\": \"x\", \"y\": \"A\", \"yref\": \"y\"}, {\"showarrow\": false, \"text\": \"18.0\", \"x\": 1, \"xref\": \"x\", \"y\": \"B\", \"yref\": \"y\"}, {\"showarrow\": false, \"text\": \"18.0\", \"x\": 2, \"xref\": \"x\", \"y\": \"B\", \"yref\": \"y\"}, {\"showarrow\": false, \"text\": \"18.0\", \"x\": 3, \"xref\": \"x\", \"y\": \"B\", \"yref\": \"y\"}, {\"showarrow\": false, \"text\": \"18.0\", \"x\": 4, \"xref\": \"x\", \"y\": \"B\", \"yref\": \"y\"}, {\"showarrow\": false, \"text\": \"17.9\", \"x\": 5, \"xref\": \"x\", \"y\": \"B\", \"yref\": \"y\"}, {\"showarrow\": false, \"text\": \"17.8\", \"x\": 6, \"xref\": \"x\", \"y\": \"B\", \"yref\": \"y\"}, {\"showarrow\": false, \"text\": \"17.8\", \"x\": 7, \"xref\": \"x\", \"y\": \"B\", \"yref\": \"y\"}, {\"showarrow\": false, \"text\": \"17.6\", \"x\": 8, \"xref\": \"x\", \"y\": \"B\", \"yref\": \"y\"}, {\"showarrow\": false, \"text\": \"17.7\", \"x\": 9, \"xref\": \"x\", \"y\": \"B\", \"yref\": \"y\"}, {\"showarrow\": false, \"text\": \"17.8\", \"x\": 10, \"xref\": \"x\", \"y\": \"B\", \"yref\": \"y\"}, {\"showarrow\": false, \"text\": \"17.7\", \"x\": 11, \"xref\": \"x\", \"y\": \"B\", \"yref\": \"y\"}, {\"showarrow\": false, \"text\": \"17.5\", \"x\": 12, \"xref\": \"x\", \"y\": \"B\", \"yref\": \"y\"}, {\"showarrow\": false, \"text\": \"18.4\", \"x\": 1, \"xref\": \"x\", \"y\": \"C\", \"yref\": \"y\"}, {\"showarrow\": false, \"text\": \"18.3\", \"x\": 2, \"xref\": \"x\", \"y\": \"C\", \"yref\": \"y\"}, {\"showarrow\": false, \"text\": \"17.9\", \"x\": 3, \"xref\": \"x\", \"y\": \"C\", \"yref\": \"y\"}, {\"showarrow\": false, \"text\": \"18.2\", \"x\": 4, \"xref\": \"x\", \"y\": \"C\", \"yref\": \"y\"}, {\"showarrow\": false, \"text\": \"18.3\", \"x\": 5, \"xref\": \"x\", \"y\": \"C\", \"yref\": \"y\"}, {\"showarrow\": false, \"text\": \"18.1\", \"x\": 6, \"xref\": \"x\", \"y\": \"C\", \"yref\": \"y\"}, {\"showarrow\": false, \"text\": \"18.2\", \"x\": 7, \"xref\": \"x\", \"y\": \"C\", \"yref\": \"y\"}, {\"showarrow\": false, \"text\": \"18.2\", \"x\": 8, \"xref\": \"x\", \"y\": \"C\", \"yref\": \"y\"}, {\"showarrow\": false, \"text\": \"18.2\", \"x\": 9, \"xref\": \"x\", \"y\": \"C\", \"yref\": \"y\"}, {\"showarrow\": false, \"text\": \"18.0\", \"x\": 10, \"xref\": \"x\", \"y\": \"C\", \"yref\": \"y\"}, {\"showarrow\": false, \"text\": \"17.9\", \"x\": 11, \"xref\": \"x\", \"y\": \"C\", \"yref\": \"y\"}, {\"showarrow\": false, \"text\": \"17.7\", \"x\": 12, \"xref\": \"x\", \"y\": \"C\", \"yref\": \"y\"}, {\"showarrow\": false, \"text\": \"18.0\", \"x\": 1, \"xref\": \"x\", \"y\": \"D\", \"yref\": \"y\"}, {\"showarrow\": false, \"text\": \"18.3\", \"x\": 2, \"xref\": \"x\", \"y\": \"D\", \"yref\": \"y\"}, {\"showarrow\": false, \"text\": \"18.3\", \"x\": 3, \"xref\": \"x\", \"y\": \"D\", \"yref\": \"y\"}, {\"showarrow\": false, \"text\": \"18.5\", \"x\": 4, \"xref\": \"x\", \"y\": \"D\", \"yref\": \"y\"}, {\"showarrow\": false, \"text\": \"18.4\", \"x\": 5, \"xref\": \"x\", \"y\": \"D\", \"yref\": \"y\"}, {\"showarrow\": false, \"text\": \"18.3\", \"x\": 6, \"xref\": \"x\", \"y\": \"D\", \"yref\": \"y\"}, {\"showarrow\": false, \"text\": \"18.4\", \"x\": 7, \"xref\": \"x\", \"y\": \"D\", \"yref\": \"y\"}, {\"showarrow\": false, \"text\": \"18.3\", \"x\": 8, \"xref\": \"x\", \"y\": \"D\", \"yref\": \"y\"}, {\"showarrow\": false, \"text\": \"18.2\", \"x\": 9, \"xref\": \"x\", \"y\": \"D\", \"yref\": \"y\"}, {\"showarrow\": false, \"text\": \"18.3\", \"x\": 10, \"xref\": \"x\", \"y\": \"D\", \"yref\": \"y\"}, {\"showarrow\": false, \"text\": \"18.1\", \"x\": 11, \"xref\": \"x\", \"y\": \"D\", \"yref\": \"y\"}, {\"showarrow\": false, \"text\": \"17.9\", \"x\": 12, \"xref\": \"x\", \"y\": \"D\", \"yref\": \"y\"}, {\"showarrow\": false, \"text\": \"18.7\", \"x\": 1, \"xref\": \"x\", \"y\": \"E\", \"yref\": \"y\"}, {\"showarrow\": false, \"text\": \"18.8\", \"x\": 2, \"xref\": \"x\", \"y\": \"E\", \"yref\": \"y\"}, {\"showarrow\": false, \"text\": \"18.7\", \"x\": 3, \"xref\": \"x\", \"y\": \"E\", \"yref\": \"y\"}, {\"showarrow\": false, \"text\": \"18.7\", \"x\": 4, \"xref\": \"x\", \"y\": \"E\", \"yref\": \"y\"}, {\"showarrow\": false, \"text\": \"18.7\", \"x\": 5, \"xref\": \"x\", \"y\": \"E\", \"yref\": \"y\"}, {\"showarrow\": false, \"text\": \"18.8\", \"x\": 6, \"xref\": \"x\", \"y\": \"E\", \"yref\": \"y\"}, {\"showarrow\": false, \"text\": \"18.9\", \"x\": 7, \"xref\": \"x\", \"y\": \"E\", \"yref\": \"y\"}, {\"showarrow\": false, \"text\": \"18.7\", \"x\": 8, \"xref\": \"x\", \"y\": \"E\", \"yref\": \"y\"}, {\"showarrow\": false, \"text\": \"19.1\", \"x\": 9, \"xref\": \"x\", \"y\": \"E\", \"yref\": \"y\"}, {\"showarrow\": false, \"text\": \"18.7\", \"x\": 10, \"xref\": \"x\", \"y\": \"E\", \"yref\": \"y\"}, {\"showarrow\": false, \"text\": \"18.3\", \"x\": 11, \"xref\": \"x\", \"y\": \"E\", \"yref\": \"y\"}, {\"showarrow\": false, \"text\": \"18.5\", \"x\": 12, \"xref\": \"x\", \"y\": \"E\", \"yref\": \"y\"}, {\"showarrow\": false, \"text\": \"19.1\", \"x\": 1, \"xref\": \"x\", \"y\": \"F\", \"yref\": \"y\"}, {\"showarrow\": false, \"text\": \"19.1\", \"x\": 2, \"xref\": \"x\", \"y\": \"F\", \"yref\": \"y\"}, {\"showarrow\": false, \"text\": \"19.1\", \"x\": 3, \"xref\": \"x\", \"y\": \"F\", \"yref\": \"y\"}, {\"showarrow\": false, \"text\": \"18.7\", \"x\": 4, \"xref\": \"x\", \"y\": \"F\", \"yref\": \"y\"}, {\"showarrow\": false, \"text\": \"19.1\", \"x\": 5, \"xref\": \"x\", \"y\": \"F\", \"yref\": \"y\"}, {\"showarrow\": false, \"text\": \"19.5\", \"x\": 6, \"xref\": \"x\", \"y\": \"F\", \"yref\": \"y\"}, {\"showarrow\": false, \"text\": \"19.6\", \"x\": 7, \"xref\": \"x\", \"y\": \"F\", \"yref\": \"y\"}, {\"showarrow\": false, \"text\": \"19.1\", \"x\": 8, \"xref\": \"x\", \"y\": \"F\", \"yref\": \"y\"}, {\"showarrow\": false, \"text\": \"18.9\", \"x\": 9, \"xref\": \"x\", \"y\": \"F\", \"yref\": \"y\"}, {\"showarrow\": false, \"text\": \"18.7\", \"x\": 10, \"xref\": \"x\", \"y\": \"F\", \"yref\": \"y\"}, {\"showarrow\": false, \"text\": \"18.7\", \"x\": 11, \"xref\": \"x\", \"y\": \"F\", \"yref\": \"y\"}, {\"showarrow\": false, \"text\": \"18.9\", \"x\": 12, \"xref\": \"x\", \"y\": \"F\", \"yref\": \"y\"}, {\"showarrow\": false, \"text\": \"19.9\", \"x\": 1, \"xref\": \"x\", \"y\": \"G\", \"yref\": \"y\"}, {\"showarrow\": false, \"text\": \"19.5\", \"x\": 2, \"xref\": \"x\", \"y\": \"G\", \"yref\": \"y\"}, {\"showarrow\": false, \"text\": \"19.5\", \"x\": 3, \"xref\": \"x\", \"y\": \"G\", \"yref\": \"y\"}, {\"showarrow\": false, \"text\": \"19.4\", \"x\": 4, \"xref\": \"x\", \"y\": \"G\", \"yref\": \"y\"}, {\"showarrow\": false, \"text\": \"19.6\", \"x\": 5, \"xref\": \"x\", \"y\": \"G\", \"yref\": \"y\"}, {\"showarrow\": false, \"text\": \"19.8\", \"x\": 6, \"xref\": \"x\", \"y\": \"G\", \"yref\": \"y\"}, {\"showarrow\": false, \"text\": \"19.0\", \"x\": 7, \"xref\": \"x\", \"y\": \"G\", \"yref\": \"y\"}, {\"showarrow\": false, \"text\": \"19.6\", \"x\": 8, \"xref\": \"x\", \"y\": \"G\", \"yref\": \"y\"}, {\"showarrow\": false, \"text\": \"18.6\", \"x\": 9, \"xref\": \"x\", \"y\": \"G\", \"yref\": \"y\"}, {\"showarrow\": false, \"text\": \"18.7\", \"x\": 10, \"xref\": \"x\", \"y\": \"G\", \"yref\": \"y\"}, {\"showarrow\": false, \"text\": \"18.6\", \"x\": 11, \"xref\": \"x\", \"y\": \"G\", \"yref\": \"y\"}, {\"showarrow\": false, \"text\": \"18.9\", \"x\": 12, \"xref\": \"x\", \"y\": \"G\", \"yref\": \"y\"}, {\"showarrow\": false, \"text\": \"19.5\", \"x\": 1, \"xref\": \"x\", \"y\": \"H\", \"yref\": \"y\"}, {\"showarrow\": false, \"text\": \"19.6\", \"x\": 2, \"xref\": \"x\", \"y\": \"H\", \"yref\": \"y\"}, {\"showarrow\": false, \"text\": \"19.4\", \"x\": 3, \"xref\": \"x\", \"y\": \"H\", \"yref\": \"y\"}, {\"showarrow\": false, \"text\": \"19.5\", \"x\": 4, \"xref\": \"x\", \"y\": \"H\", \"yref\": \"y\"}, {\"showarrow\": false, \"text\": \"19.1\", \"x\": 5, \"xref\": \"x\", \"y\": \"H\", \"yref\": \"y\"}, {\"showarrow\": false, \"text\": \"19.8\", \"x\": 6, \"xref\": \"x\", \"y\": \"H\", \"yref\": \"y\"}, {\"showarrow\": false, \"text\": \"19.4\", \"x\": 7, \"xref\": \"x\", \"y\": \"H\", \"yref\": \"y\"}, {\"showarrow\": false, \"text\": \"19.6\", \"x\": 8, \"xref\": \"x\", \"y\": \"H\", \"yref\": \"y\"}, {\"showarrow\": false, \"text\": \"19.1\", \"x\": 9, \"xref\": \"x\", \"y\": \"H\", \"yref\": \"y\"}, {\"showarrow\": false, \"text\": \"nan\", \"x\": 10, \"xref\": \"x\", \"y\": \"H\", \"yref\": \"y\"}, {\"showarrow\": false, \"text\": \"nan\", \"x\": 11, \"xref\": \"x\", \"y\": \"H\", \"yref\": \"y\"}, {\"showarrow\": false, \"text\": \"nan\", \"x\": 12, \"xref\": \"x\", \"y\": \"H\", \"yref\": \"y\"}], \"height\": 450, \"showlegend\": false, \"template\": {\"data\": {\"scatter\": [{\"type\": \"scatter\"}]}}, \"title\": {\"text\": \"Plastic PCR Film\"}, \"width\": 575, \"xaxis\": {\"linecolor\": \"black\", \"linewidth\": 1, \"mirror\": true, \"nticks\": 20, \"showgrid\": false, \"showline\": true, \"side\": \"top\", \"tickangle\": 0, \"tickcolor\": \"black\", \"tickfont\": {\"color\": \"black\", \"family\": \"Arial\", \"size\": 13}, \"ticklen\": 4, \"ticks\": \"\"}, \"yaxis\": {\"linecolor\": \"black\", \"linewidth\": 1, \"mirror\": true, \"nticks\": 0, \"showgrid\": false, \"showline\": true, \"tickangle\": 0, \"tickcolor\": \"black\", \"tickfont\": {\"color\": \"black\", \"family\": \"Arial\", \"size\": 13}, \"ticklen\": 4, \"ticks\": \"\", \"title\": {\"font\": {\"color\": \"black\", \"family\": \"Arial\", \"size\": 16}, \"standoff\": 0}}},                        {\"responsive\": true}                    ).then(function(){\n",
       "                            \n",
       "var gd = document.getElementById('59e47dfb-954f-44d2-bd9b-1160de412946');\n",
       "var x = new MutationObserver(function (mutations, observer) {{\n",
       "        var display = window.getComputedStyle(gd).display;\n",
       "        if (!display || display === 'none') {{\n",
       "            console.log([gd, 'removed!']);\n",
       "            Plotly.purge(gd);\n",
       "            observer.disconnect();\n",
       "        }}\n",
       "}});\n",
       "\n",
       "// Listen for the removal of the full notebook cells\n",
       "var notebookContainer = gd.closest('#notebook-container');\n",
       "if (notebookContainer) {{\n",
       "    x.observe(notebookContainer, {childList: true});\n",
       "}}\n",
       "\n",
       "// Listen for the clearing of the current output cell\n",
       "var outputEl = gd.closest('.output');\n",
       "if (outputEl) {{\n",
       "    x.observe(outputEl, {childList: true});\n",
       "}}\n",
       "\n",
       "                        })                };                });            </script>        </div>"
      ]
     },
     "metadata": {},
     "output_type": "display_data"
    },
    {
     "data": {
      "application/vnd.plotly.v1+json": {
       "config": {
        "plotlyServerURL": "https://plot.ly"
       },
       "data": [
        {
         "colorbar": {
          "dtick": 0.5,
          "len": 1,
          "outlinecolor": "black",
          "outlinewidth": 0.25,
          "thickness": 15,
          "tickcolor": "black",
          "ticks": "outside"
         },
         "colorscale": [
          [
           0,
           "#2164AF"
          ],
          [
           0.5,
           "#EAEAEA"
          ],
          [
           1,
           "#D9482A"
          ]
         ],
         "hoverongaps": false,
         "showscale": true,
         "type": "heatmap",
         "x": [
          1,
          2,
          3,
          4,
          5,
          6,
          7,
          8,
          9,
          10,
          11,
          12
         ],
         "y": [
          "H",
          "G",
          "F",
          "E",
          "D",
          "C",
          "B",
          "A"
         ],
         "z": [
          [
           0,
           -0.5,
           -0.1999999999999993,
           -0.1999999999999993,
           0.10000000000000142,
           0.6000000000000014,
           0.3999999999999986,
           0,
           0,
           null,
           null,
           null
          ],
          [
           0,
           0.3000000000000007,
           0.1999999999999993,
           0.3999999999999986,
           0.6000000000000014,
           0,
           0.6000000000000014,
           0.6000000000000014,
           -0.10000000000000142,
           -0.10000000000000142,
           0.5,
           -0.10000000000000142
          ],
          [
           0,
           0,
           0.3000000000000007,
           0.3999999999999986,
           0.1999999999999993,
           0.5,
           -0.10000000000000142,
           0.1999999999999993,
           0.1999999999999993,
           0,
           0.10000000000000142,
           -0.1999999999999993
          ],
          [
           -0.10000000000000142,
           0,
           0,
           0.3999999999999986,
           0.5,
           0.3999999999999986,
           0.6000000000000014,
           0.6999999999999993,
           0,
           0,
           -0.10000000000000142,
           -0.10000000000000142
          ],
          [
           -0.3000000000000007,
           -0.3000000000000007,
           0.10000000000000142,
           0.10000000000000142,
           0.6000000000000014,
           0.1999999999999993,
           0.5,
           -0.10000000000000142,
           0,
           -0.10000000000000142,
           0.10000000000000142,
           -0.10000000000000142
          ],
          [
           -0.5,
           -0.3000000000000007,
           0.3000000000000007,
           0.10000000000000142,
           0.5,
           0.10000000000000142,
           0.10000000000000142,
           0,
           0,
           -0.10000000000000142,
           -0.10000000000000142,
           -0.10000000000000142
          ],
          [
           -0.1999999999999993,
           0,
           0,
           0.1999999999999993,
           0.3000000000000007,
           0.10000000000000142,
           -0.1999999999999993,
           0.3000000000000007,
           -0.10000000000000142,
           0,
           0.1999999999999993,
           0.10000000000000142
          ],
          [
           0,
           0.1999999999999993,
           -0.10000000000000142,
           0.5,
           0.5,
           0.1999999999999993,
           0.6000000000000014,
           -0.8000000000000007,
           0,
           0.3999999999999986,
           0,
           0.1999999999999993
          ]
         ],
         "zmax": 1.5,
         "zmin": -1.5
        }
       ],
       "layout": {
        "annotations": [
         {
          "showarrow": false,
          "text": "18.5",
          "x": 1,
          "xref": "x",
          "y": "A",
          "yref": "y"
         },
         {
          "showarrow": false,
          "text": "18.7",
          "x": 2,
          "xref": "x",
          "y": "A",
          "yref": "y"
         },
         {
          "showarrow": false,
          "text": "18.4",
          "x": 3,
          "xref": "x",
          "y": "A",
          "yref": "y"
         },
         {
          "showarrow": false,
          "text": "19.0",
          "x": 4,
          "xref": "x",
          "y": "A",
          "yref": "y"
         },
         {
          "showarrow": false,
          "text": "19.0",
          "x": 5,
          "xref": "x",
          "y": "A",
          "yref": "y"
         },
         {
          "showarrow": false,
          "text": "18.7",
          "x": 6,
          "xref": "x",
          "y": "A",
          "yref": "y"
         },
         {
          "showarrow": false,
          "text": "19.1",
          "x": 7,
          "xref": "x",
          "y": "A",
          "yref": "y"
         },
         {
          "showarrow": false,
          "text": "17.7",
          "x": 8,
          "xref": "x",
          "y": "A",
          "yref": "y"
         },
         {
          "showarrow": false,
          "text": "18.5",
          "x": 9,
          "xref": "x",
          "y": "A",
          "yref": "y"
         },
         {
          "showarrow": false,
          "text": "18.9",
          "x": 10,
          "xref": "x",
          "y": "A",
          "yref": "y"
         },
         {
          "showarrow": false,
          "text": "18.5",
          "x": 11,
          "xref": "x",
          "y": "A",
          "yref": "y"
         },
         {
          "showarrow": false,
          "text": "18.7",
          "x": 12,
          "xref": "x",
          "y": "A",
          "yref": "y"
         },
         {
          "showarrow": false,
          "text": "18.3",
          "x": 1,
          "xref": "x",
          "y": "B",
          "yref": "y"
         },
         {
          "showarrow": false,
          "text": "18.5",
          "x": 2,
          "xref": "x",
          "y": "B",
          "yref": "y"
         },
         {
          "showarrow": false,
          "text": "18.5",
          "x": 3,
          "xref": "x",
          "y": "B",
          "yref": "y"
         },
         {
          "showarrow": false,
          "text": "18.7",
          "x": 4,
          "xref": "x",
          "y": "B",
          "yref": "y"
         },
         {
          "showarrow": false,
          "text": "18.8",
          "x": 5,
          "xref": "x",
          "y": "B",
          "yref": "y"
         },
         {
          "showarrow": false,
          "text": "18.6",
          "x": 6,
          "xref": "x",
          "y": "B",
          "yref": "y"
         },
         {
          "showarrow": false,
          "text": "18.3",
          "x": 7,
          "xref": "x",
          "y": "B",
          "yref": "y"
         },
         {
          "showarrow": false,
          "text": "18.8",
          "x": 8,
          "xref": "x",
          "y": "B",
          "yref": "y"
         },
         {
          "showarrow": false,
          "text": "18.4",
          "x": 9,
          "xref": "x",
          "y": "B",
          "yref": "y"
         },
         {
          "showarrow": false,
          "text": "18.5",
          "x": 10,
          "xref": "x",
          "y": "B",
          "yref": "y"
         },
         {
          "showarrow": false,
          "text": "18.7",
          "x": 11,
          "xref": "x",
          "y": "B",
          "yref": "y"
         },
         {
          "showarrow": false,
          "text": "18.6",
          "x": 12,
          "xref": "x",
          "y": "B",
          "yref": "y"
         },
         {
          "showarrow": false,
          "text": "18.0",
          "x": 1,
          "xref": "x",
          "y": "C",
          "yref": "y"
         },
         {
          "showarrow": false,
          "text": "18.2",
          "x": 2,
          "xref": "x",
          "y": "C",
          "yref": "y"
         },
         {
          "showarrow": false,
          "text": "18.8",
          "x": 3,
          "xref": "x",
          "y": "C",
          "yref": "y"
         },
         {
          "showarrow": false,
          "text": "18.6",
          "x": 4,
          "xref": "x",
          "y": "C",
          "yref": "y"
         },
         {
          "showarrow": false,
          "text": "19.0",
          "x": 5,
          "xref": "x",
          "y": "C",
          "yref": "y"
         },
         {
          "showarrow": false,
          "text": "18.6",
          "x": 6,
          "xref": "x",
          "y": "C",
          "yref": "y"
         },
         {
          "showarrow": false,
          "text": "18.6",
          "x": 7,
          "xref": "x",
          "y": "C",
          "yref": "y"
         },
         {
          "showarrow": false,
          "text": "18.5",
          "x": 8,
          "xref": "x",
          "y": "C",
          "yref": "y"
         },
         {
          "showarrow": false,
          "text": "18.5",
          "x": 9,
          "xref": "x",
          "y": "C",
          "yref": "y"
         },
         {
          "showarrow": false,
          "text": "18.4",
          "x": 10,
          "xref": "x",
          "y": "C",
          "yref": "y"
         },
         {
          "showarrow": false,
          "text": "18.4",
          "x": 11,
          "xref": "x",
          "y": "C",
          "yref": "y"
         },
         {
          "showarrow": false,
          "text": "18.4",
          "x": 12,
          "xref": "x",
          "y": "C",
          "yref": "y"
         },
         {
          "showarrow": false,
          "text": "18.2",
          "x": 1,
          "xref": "x",
          "y": "D",
          "yref": "y"
         },
         {
          "showarrow": false,
          "text": "18.2",
          "x": 2,
          "xref": "x",
          "y": "D",
          "yref": "y"
         },
         {
          "showarrow": false,
          "text": "18.6",
          "x": 3,
          "xref": "x",
          "y": "D",
          "yref": "y"
         },
         {
          "showarrow": false,
          "text": "18.6",
          "x": 4,
          "xref": "x",
          "y": "D",
          "yref": "y"
         },
         {
          "showarrow": false,
          "text": "19.1",
          "x": 5,
          "xref": "x",
          "y": "D",
          "yref": "y"
         },
         {
          "showarrow": false,
          "text": "18.7",
          "x": 6,
          "xref": "x",
          "y": "D",
          "yref": "y"
         },
         {
          "showarrow": false,
          "text": "19.0",
          "x": 7,
          "xref": "x",
          "y": "D",
          "yref": "y"
         },
         {
          "showarrow": false,
          "text": "18.4",
          "x": 8,
          "xref": "x",
          "y": "D",
          "yref": "y"
         },
         {
          "showarrow": false,
          "text": "18.5",
          "x": 9,
          "xref": "x",
          "y": "D",
          "yref": "y"
         },
         {
          "showarrow": false,
          "text": "18.4",
          "x": 10,
          "xref": "x",
          "y": "D",
          "yref": "y"
         },
         {
          "showarrow": false,
          "text": "18.6",
          "x": 11,
          "xref": "x",
          "y": "D",
          "yref": "y"
         },
         {
          "showarrow": false,
          "text": "18.4",
          "x": 12,
          "xref": "x",
          "y": "D",
          "yref": "y"
         },
         {
          "showarrow": false,
          "text": "18.4",
          "x": 1,
          "xref": "x",
          "y": "E",
          "yref": "y"
         },
         {
          "showarrow": false,
          "text": "18.5",
          "x": 2,
          "xref": "x",
          "y": "E",
          "yref": "y"
         },
         {
          "showarrow": false,
          "text": "18.5",
          "x": 3,
          "xref": "x",
          "y": "E",
          "yref": "y"
         },
         {
          "showarrow": false,
          "text": "18.9",
          "x": 4,
          "xref": "x",
          "y": "E",
          "yref": "y"
         },
         {
          "showarrow": false,
          "text": "19.0",
          "x": 5,
          "xref": "x",
          "y": "E",
          "yref": "y"
         },
         {
          "showarrow": false,
          "text": "18.9",
          "x": 6,
          "xref": "x",
          "y": "E",
          "yref": "y"
         },
         {
          "showarrow": false,
          "text": "19.1",
          "x": 7,
          "xref": "x",
          "y": "E",
          "yref": "y"
         },
         {
          "showarrow": false,
          "text": "19.2",
          "x": 8,
          "xref": "x",
          "y": "E",
          "yref": "y"
         },
         {
          "showarrow": false,
          "text": "18.5",
          "x": 9,
          "xref": "x",
          "y": "E",
          "yref": "y"
         },
         {
          "showarrow": false,
          "text": "18.5",
          "x": 10,
          "xref": "x",
          "y": "E",
          "yref": "y"
         },
         {
          "showarrow": false,
          "text": "18.4",
          "x": 11,
          "xref": "x",
          "y": "E",
          "yref": "y"
         },
         {
          "showarrow": false,
          "text": "18.4",
          "x": 12,
          "xref": "x",
          "y": "E",
          "yref": "y"
         },
         {
          "showarrow": false,
          "text": "18.5",
          "x": 1,
          "xref": "x",
          "y": "F",
          "yref": "y"
         },
         {
          "showarrow": false,
          "text": "18.5",
          "x": 2,
          "xref": "x",
          "y": "F",
          "yref": "y"
         },
         {
          "showarrow": false,
          "text": "18.8",
          "x": 3,
          "xref": "x",
          "y": "F",
          "yref": "y"
         },
         {
          "showarrow": false,
          "text": "18.9",
          "x": 4,
          "xref": "x",
          "y": "F",
          "yref": "y"
         },
         {
          "showarrow": false,
          "text": "18.7",
          "x": 5,
          "xref": "x",
          "y": "F",
          "yref": "y"
         },
         {
          "showarrow": false,
          "text": "19.0",
          "x": 6,
          "xref": "x",
          "y": "F",
          "yref": "y"
         },
         {
          "showarrow": false,
          "text": "18.4",
          "x": 7,
          "xref": "x",
          "y": "F",
          "yref": "y"
         },
         {
          "showarrow": false,
          "text": "18.7",
          "x": 8,
          "xref": "x",
          "y": "F",
          "yref": "y"
         },
         {
          "showarrow": false,
          "text": "18.7",
          "x": 9,
          "xref": "x",
          "y": "F",
          "yref": "y"
         },
         {
          "showarrow": false,
          "text": "18.5",
          "x": 10,
          "xref": "x",
          "y": "F",
          "yref": "y"
         },
         {
          "showarrow": false,
          "text": "18.6",
          "x": 11,
          "xref": "x",
          "y": "F",
          "yref": "y"
         },
         {
          "showarrow": false,
          "text": "18.3",
          "x": 12,
          "xref": "x",
          "y": "F",
          "yref": "y"
         },
         {
          "showarrow": false,
          "text": "18.5",
          "x": 1,
          "xref": "x",
          "y": "G",
          "yref": "y"
         },
         {
          "showarrow": false,
          "text": "18.8",
          "x": 2,
          "xref": "x",
          "y": "G",
          "yref": "y"
         },
         {
          "showarrow": false,
          "text": "18.7",
          "x": 3,
          "xref": "x",
          "y": "G",
          "yref": "y"
         },
         {
          "showarrow": false,
          "text": "18.9",
          "x": 4,
          "xref": "x",
          "y": "G",
          "yref": "y"
         },
         {
          "showarrow": false,
          "text": "19.1",
          "x": 5,
          "xref": "x",
          "y": "G",
          "yref": "y"
         },
         {
          "showarrow": false,
          "text": "18.5",
          "x": 6,
          "xref": "x",
          "y": "G",
          "yref": "y"
         },
         {
          "showarrow": false,
          "text": "19.1",
          "x": 7,
          "xref": "x",
          "y": "G",
          "yref": "y"
         },
         {
          "showarrow": false,
          "text": "19.1",
          "x": 8,
          "xref": "x",
          "y": "G",
          "yref": "y"
         },
         {
          "showarrow": false,
          "text": "18.4",
          "x": 9,
          "xref": "x",
          "y": "G",
          "yref": "y"
         },
         {
          "showarrow": false,
          "text": "18.4",
          "x": 10,
          "xref": "x",
          "y": "G",
          "yref": "y"
         },
         {
          "showarrow": false,
          "text": "19.0",
          "x": 11,
          "xref": "x",
          "y": "G",
          "yref": "y"
         },
         {
          "showarrow": false,
          "text": "18.4",
          "x": 12,
          "xref": "x",
          "y": "G",
          "yref": "y"
         },
         {
          "showarrow": false,
          "text": "18.5",
          "x": 1,
          "xref": "x",
          "y": "H",
          "yref": "y"
         },
         {
          "showarrow": false,
          "text": "18.0",
          "x": 2,
          "xref": "x",
          "y": "H",
          "yref": "y"
         },
         {
          "showarrow": false,
          "text": "18.3",
          "x": 3,
          "xref": "x",
          "y": "H",
          "yref": "y"
         },
         {
          "showarrow": false,
          "text": "18.3",
          "x": 4,
          "xref": "x",
          "y": "H",
          "yref": "y"
         },
         {
          "showarrow": false,
          "text": "18.6",
          "x": 5,
          "xref": "x",
          "y": "H",
          "yref": "y"
         },
         {
          "showarrow": false,
          "text": "19.1",
          "x": 6,
          "xref": "x",
          "y": "H",
          "yref": "y"
         },
         {
          "showarrow": false,
          "text": "18.9",
          "x": 7,
          "xref": "x",
          "y": "H",
          "yref": "y"
         },
         {
          "showarrow": false,
          "text": "18.5",
          "x": 8,
          "xref": "x",
          "y": "H",
          "yref": "y"
         },
         {
          "showarrow": false,
          "text": "18.5",
          "x": 9,
          "xref": "x",
          "y": "H",
          "yref": "y"
         },
         {
          "showarrow": false,
          "text": "nan",
          "x": 10,
          "xref": "x",
          "y": "H",
          "yref": "y"
         },
         {
          "showarrow": false,
          "text": "nan",
          "x": 11,
          "xref": "x",
          "y": "H",
          "yref": "y"
         },
         {
          "showarrow": false,
          "text": "nan",
          "x": 12,
          "xref": "x",
          "y": "H",
          "yref": "y"
         }
        ],
        "height": 450,
        "showlegend": false,
        "template": {
         "data": {
          "scatter": [
           {
            "type": "scatter"
           }
          ]
         }
        },
        "title": {
         "text": "Mineral Oil"
        },
        "width": 575,
        "xaxis": {
         "linecolor": "black",
         "linewidth": 1,
         "mirror": true,
         "nticks": 20,
         "showgrid": false,
         "showline": true,
         "side": "top",
         "tickangle": 0,
         "tickcolor": "black",
         "tickfont": {
          "color": "black",
          "family": "Arial",
          "size": 13
         },
         "ticklen": 4,
         "ticks": ""
        },
        "yaxis": {
         "linecolor": "black",
         "linewidth": 1,
         "mirror": true,
         "nticks": 0,
         "showgrid": false,
         "showline": true,
         "tickangle": 0,
         "tickcolor": "black",
         "tickfont": {
          "color": "black",
          "family": "Arial",
          "size": 13
         },
         "ticklen": 4,
         "ticks": "",
         "title": {
          "font": {
           "color": "black",
           "family": "Arial",
           "size": 16
          },
          "standoff": 0
         }
        }
       }
      },
      "text/html": [
       "<div>                            <div id=\"a9d91c42-0b63-435d-b0bf-f0f4672d28ae\" class=\"plotly-graph-div\" style=\"height:450px; width:575px;\"></div>            <script type=\"text/javascript\">                require([\"plotly\"], function(Plotly) {                    window.PLOTLYENV=window.PLOTLYENV || {};                                    if (document.getElementById(\"a9d91c42-0b63-435d-b0bf-f0f4672d28ae\")) {                    Plotly.newPlot(                        \"a9d91c42-0b63-435d-b0bf-f0f4672d28ae\",                        [{\"colorbar\": {\"dtick\": 0.5, \"len\": 1, \"outlinecolor\": \"black\", \"outlinewidth\": 0.25, \"thickness\": 15, \"tickcolor\": \"black\", \"ticks\": \"outside\"}, \"colorscale\": [[0, \"#2164AF\"], [0.5, \"#EAEAEA\"], [1, \"#D9482A\"]], \"hoverongaps\": false, \"showscale\": true, \"type\": \"heatmap\", \"x\": [1, 2, 3, 4, 5, 6, 7, 8, 9, 10, 11, 12], \"y\": [\"H\", \"G\", \"F\", \"E\", \"D\", \"C\", \"B\", \"A\"], \"z\": [[0.0, -0.5, -0.1999999999999993, -0.1999999999999993, 0.10000000000000142, 0.6000000000000014, 0.3999999999999986, 0.0, 0.0, null, null, null], [0.0, 0.3000000000000007, 0.1999999999999993, 0.3999999999999986, 0.6000000000000014, 0.0, 0.6000000000000014, 0.6000000000000014, -0.10000000000000142, -0.10000000000000142, 0.5, -0.10000000000000142], [0.0, 0.0, 0.3000000000000007, 0.3999999999999986, 0.1999999999999993, 0.5, -0.10000000000000142, 0.1999999999999993, 0.1999999999999993, 0.0, 0.10000000000000142, -0.1999999999999993], [-0.10000000000000142, 0.0, 0.0, 0.3999999999999986, 0.5, 0.3999999999999986, 0.6000000000000014, 0.6999999999999993, 0.0, 0.0, -0.10000000000000142, -0.10000000000000142], [-0.3000000000000007, -0.3000000000000007, 0.10000000000000142, 0.10000000000000142, 0.6000000000000014, 0.1999999999999993, 0.5, -0.10000000000000142, 0.0, -0.10000000000000142, 0.10000000000000142, -0.10000000000000142], [-0.5, -0.3000000000000007, 0.3000000000000007, 0.10000000000000142, 0.5, 0.10000000000000142, 0.10000000000000142, 0.0, 0.0, -0.10000000000000142, -0.10000000000000142, -0.10000000000000142], [-0.1999999999999993, 0.0, 0.0, 0.1999999999999993, 0.3000000000000007, 0.10000000000000142, -0.1999999999999993, 0.3000000000000007, -0.10000000000000142, 0.0, 0.1999999999999993, 0.10000000000000142], [0.0, 0.1999999999999993, -0.10000000000000142, 0.5, 0.5, 0.1999999999999993, 0.6000000000000014, -0.8000000000000007, 0.0, 0.3999999999999986, 0.0, 0.1999999999999993]], \"zmax\": 1.5, \"zmin\": -1.5}],                        {\"annotations\": [{\"showarrow\": false, \"text\": \"18.5\", \"x\": 1, \"xref\": \"x\", \"y\": \"A\", \"yref\": \"y\"}, {\"showarrow\": false, \"text\": \"18.7\", \"x\": 2, \"xref\": \"x\", \"y\": \"A\", \"yref\": \"y\"}, {\"showarrow\": false, \"text\": \"18.4\", \"x\": 3, \"xref\": \"x\", \"y\": \"A\", \"yref\": \"y\"}, {\"showarrow\": false, \"text\": \"19.0\", \"x\": 4, \"xref\": \"x\", \"y\": \"A\", \"yref\": \"y\"}, {\"showarrow\": false, \"text\": \"19.0\", \"x\": 5, \"xref\": \"x\", \"y\": \"A\", \"yref\": \"y\"}, {\"showarrow\": false, \"text\": \"18.7\", \"x\": 6, \"xref\": \"x\", \"y\": \"A\", \"yref\": \"y\"}, {\"showarrow\": false, \"text\": \"19.1\", \"x\": 7, \"xref\": \"x\", \"y\": \"A\", \"yref\": \"y\"}, {\"showarrow\": false, \"text\": \"17.7\", \"x\": 8, \"xref\": \"x\", \"y\": \"A\", \"yref\": \"y\"}, {\"showarrow\": false, \"text\": \"18.5\", \"x\": 9, \"xref\": \"x\", \"y\": \"A\", \"yref\": \"y\"}, {\"showarrow\": false, \"text\": \"18.9\", \"x\": 10, \"xref\": \"x\", \"y\": \"A\", \"yref\": \"y\"}, {\"showarrow\": false, \"text\": \"18.5\", \"x\": 11, \"xref\": \"x\", \"y\": \"A\", \"yref\": \"y\"}, {\"showarrow\": false, \"text\": \"18.7\", \"x\": 12, \"xref\": \"x\", \"y\": \"A\", \"yref\": \"y\"}, {\"showarrow\": false, \"text\": \"18.3\", \"x\": 1, \"xref\": \"x\", \"y\": \"B\", \"yref\": \"y\"}, {\"showarrow\": false, \"text\": \"18.5\", \"x\": 2, \"xref\": \"x\", \"y\": \"B\", \"yref\": \"y\"}, {\"showarrow\": false, \"text\": \"18.5\", \"x\": 3, \"xref\": \"x\", \"y\": \"B\", \"yref\": \"y\"}, {\"showarrow\": false, \"text\": \"18.7\", \"x\": 4, \"xref\": \"x\", \"y\": \"B\", \"yref\": \"y\"}, {\"showarrow\": false, \"text\": \"18.8\", \"x\": 5, \"xref\": \"x\", \"y\": \"B\", \"yref\": \"y\"}, {\"showarrow\": false, \"text\": \"18.6\", \"x\": 6, \"xref\": \"x\", \"y\": \"B\", \"yref\": \"y\"}, {\"showarrow\": false, \"text\": \"18.3\", \"x\": 7, \"xref\": \"x\", \"y\": \"B\", \"yref\": \"y\"}, {\"showarrow\": false, \"text\": \"18.8\", \"x\": 8, \"xref\": \"x\", \"y\": \"B\", \"yref\": \"y\"}, {\"showarrow\": false, \"text\": \"18.4\", \"x\": 9, \"xref\": \"x\", \"y\": \"B\", \"yref\": \"y\"}, {\"showarrow\": false, \"text\": \"18.5\", \"x\": 10, \"xref\": \"x\", \"y\": \"B\", \"yref\": \"y\"}, {\"showarrow\": false, \"text\": \"18.7\", \"x\": 11, \"xref\": \"x\", \"y\": \"B\", \"yref\": \"y\"}, {\"showarrow\": false, \"text\": \"18.6\", \"x\": 12, \"xref\": \"x\", \"y\": \"B\", \"yref\": \"y\"}, {\"showarrow\": false, \"text\": \"18.0\", \"x\": 1, \"xref\": \"x\", \"y\": \"C\", \"yref\": \"y\"}, {\"showarrow\": false, \"text\": \"18.2\", \"x\": 2, \"xref\": \"x\", \"y\": \"C\", \"yref\": \"y\"}, {\"showarrow\": false, \"text\": \"18.8\", \"x\": 3, \"xref\": \"x\", \"y\": \"C\", \"yref\": \"y\"}, {\"showarrow\": false, \"text\": \"18.6\", \"x\": 4, \"xref\": \"x\", \"y\": \"C\", \"yref\": \"y\"}, {\"showarrow\": false, \"text\": \"19.0\", \"x\": 5, \"xref\": \"x\", \"y\": \"C\", \"yref\": \"y\"}, {\"showarrow\": false, \"text\": \"18.6\", \"x\": 6, \"xref\": \"x\", \"y\": \"C\", \"yref\": \"y\"}, {\"showarrow\": false, \"text\": \"18.6\", \"x\": 7, \"xref\": \"x\", \"y\": \"C\", \"yref\": \"y\"}, {\"showarrow\": false, \"text\": \"18.5\", \"x\": 8, \"xref\": \"x\", \"y\": \"C\", \"yref\": \"y\"}, {\"showarrow\": false, \"text\": \"18.5\", \"x\": 9, \"xref\": \"x\", \"y\": \"C\", \"yref\": \"y\"}, {\"showarrow\": false, \"text\": \"18.4\", \"x\": 10, \"xref\": \"x\", \"y\": \"C\", \"yref\": \"y\"}, {\"showarrow\": false, \"text\": \"18.4\", \"x\": 11, \"xref\": \"x\", \"y\": \"C\", \"yref\": \"y\"}, {\"showarrow\": false, \"text\": \"18.4\", \"x\": 12, \"xref\": \"x\", \"y\": \"C\", \"yref\": \"y\"}, {\"showarrow\": false, \"text\": \"18.2\", \"x\": 1, \"xref\": \"x\", \"y\": \"D\", \"yref\": \"y\"}, {\"showarrow\": false, \"text\": \"18.2\", \"x\": 2, \"xref\": \"x\", \"y\": \"D\", \"yref\": \"y\"}, {\"showarrow\": false, \"text\": \"18.6\", \"x\": 3, \"xref\": \"x\", \"y\": \"D\", \"yref\": \"y\"}, {\"showarrow\": false, \"text\": \"18.6\", \"x\": 4, \"xref\": \"x\", \"y\": \"D\", \"yref\": \"y\"}, {\"showarrow\": false, \"text\": \"19.1\", \"x\": 5, \"xref\": \"x\", \"y\": \"D\", \"yref\": \"y\"}, {\"showarrow\": false, \"text\": \"18.7\", \"x\": 6, \"xref\": \"x\", \"y\": \"D\", \"yref\": \"y\"}, {\"showarrow\": false, \"text\": \"19.0\", \"x\": 7, \"xref\": \"x\", \"y\": \"D\", \"yref\": \"y\"}, {\"showarrow\": false, \"text\": \"18.4\", \"x\": 8, \"xref\": \"x\", \"y\": \"D\", \"yref\": \"y\"}, {\"showarrow\": false, \"text\": \"18.5\", \"x\": 9, \"xref\": \"x\", \"y\": \"D\", \"yref\": \"y\"}, {\"showarrow\": false, \"text\": \"18.4\", \"x\": 10, \"xref\": \"x\", \"y\": \"D\", \"yref\": \"y\"}, {\"showarrow\": false, \"text\": \"18.6\", \"x\": 11, \"xref\": \"x\", \"y\": \"D\", \"yref\": \"y\"}, {\"showarrow\": false, \"text\": \"18.4\", \"x\": 12, \"xref\": \"x\", \"y\": \"D\", \"yref\": \"y\"}, {\"showarrow\": false, \"text\": \"18.4\", \"x\": 1, \"xref\": \"x\", \"y\": \"E\", \"yref\": \"y\"}, {\"showarrow\": false, \"text\": \"18.5\", \"x\": 2, \"xref\": \"x\", \"y\": \"E\", \"yref\": \"y\"}, {\"showarrow\": false, \"text\": \"18.5\", \"x\": 3, \"xref\": \"x\", \"y\": \"E\", \"yref\": \"y\"}, {\"showarrow\": false, \"text\": \"18.9\", \"x\": 4, \"xref\": \"x\", \"y\": \"E\", \"yref\": \"y\"}, {\"showarrow\": false, \"text\": \"19.0\", \"x\": 5, \"xref\": \"x\", \"y\": \"E\", \"yref\": \"y\"}, {\"showarrow\": false, \"text\": \"18.9\", \"x\": 6, \"xref\": \"x\", \"y\": \"E\", \"yref\": \"y\"}, {\"showarrow\": false, \"text\": \"19.1\", \"x\": 7, \"xref\": \"x\", \"y\": \"E\", \"yref\": \"y\"}, {\"showarrow\": false, \"text\": \"19.2\", \"x\": 8, \"xref\": \"x\", \"y\": \"E\", \"yref\": \"y\"}, {\"showarrow\": false, \"text\": \"18.5\", \"x\": 9, \"xref\": \"x\", \"y\": \"E\", \"yref\": \"y\"}, {\"showarrow\": false, \"text\": \"18.5\", \"x\": 10, \"xref\": \"x\", \"y\": \"E\", \"yref\": \"y\"}, {\"showarrow\": false, \"text\": \"18.4\", \"x\": 11, \"xref\": \"x\", \"y\": \"E\", \"yref\": \"y\"}, {\"showarrow\": false, \"text\": \"18.4\", \"x\": 12, \"xref\": \"x\", \"y\": \"E\", \"yref\": \"y\"}, {\"showarrow\": false, \"text\": \"18.5\", \"x\": 1, \"xref\": \"x\", \"y\": \"F\", \"yref\": \"y\"}, {\"showarrow\": false, \"text\": \"18.5\", \"x\": 2, \"xref\": \"x\", \"y\": \"F\", \"yref\": \"y\"}, {\"showarrow\": false, \"text\": \"18.8\", \"x\": 3, \"xref\": \"x\", \"y\": \"F\", \"yref\": \"y\"}, {\"showarrow\": false, \"text\": \"18.9\", \"x\": 4, \"xref\": \"x\", \"y\": \"F\", \"yref\": \"y\"}, {\"showarrow\": false, \"text\": \"18.7\", \"x\": 5, \"xref\": \"x\", \"y\": \"F\", \"yref\": \"y\"}, {\"showarrow\": false, \"text\": \"19.0\", \"x\": 6, \"xref\": \"x\", \"y\": \"F\", \"yref\": \"y\"}, {\"showarrow\": false, \"text\": \"18.4\", \"x\": 7, \"xref\": \"x\", \"y\": \"F\", \"yref\": \"y\"}, {\"showarrow\": false, \"text\": \"18.7\", \"x\": 8, \"xref\": \"x\", \"y\": \"F\", \"yref\": \"y\"}, {\"showarrow\": false, \"text\": \"18.7\", \"x\": 9, \"xref\": \"x\", \"y\": \"F\", \"yref\": \"y\"}, {\"showarrow\": false, \"text\": \"18.5\", \"x\": 10, \"xref\": \"x\", \"y\": \"F\", \"yref\": \"y\"}, {\"showarrow\": false, \"text\": \"18.6\", \"x\": 11, \"xref\": \"x\", \"y\": \"F\", \"yref\": \"y\"}, {\"showarrow\": false, \"text\": \"18.3\", \"x\": 12, \"xref\": \"x\", \"y\": \"F\", \"yref\": \"y\"}, {\"showarrow\": false, \"text\": \"18.5\", \"x\": 1, \"xref\": \"x\", \"y\": \"G\", \"yref\": \"y\"}, {\"showarrow\": false, \"text\": \"18.8\", \"x\": 2, \"xref\": \"x\", \"y\": \"G\", \"yref\": \"y\"}, {\"showarrow\": false, \"text\": \"18.7\", \"x\": 3, \"xref\": \"x\", \"y\": \"G\", \"yref\": \"y\"}, {\"showarrow\": false, \"text\": \"18.9\", \"x\": 4, \"xref\": \"x\", \"y\": \"G\", \"yref\": \"y\"}, {\"showarrow\": false, \"text\": \"19.1\", \"x\": 5, \"xref\": \"x\", \"y\": \"G\", \"yref\": \"y\"}, {\"showarrow\": false, \"text\": \"18.5\", \"x\": 6, \"xref\": \"x\", \"y\": \"G\", \"yref\": \"y\"}, {\"showarrow\": false, \"text\": \"19.1\", \"x\": 7, \"xref\": \"x\", \"y\": \"G\", \"yref\": \"y\"}, {\"showarrow\": false, \"text\": \"19.1\", \"x\": 8, \"xref\": \"x\", \"y\": \"G\", \"yref\": \"y\"}, {\"showarrow\": false, \"text\": \"18.4\", \"x\": 9, \"xref\": \"x\", \"y\": \"G\", \"yref\": \"y\"}, {\"showarrow\": false, \"text\": \"18.4\", \"x\": 10, \"xref\": \"x\", \"y\": \"G\", \"yref\": \"y\"}, {\"showarrow\": false, \"text\": \"19.0\", \"x\": 11, \"xref\": \"x\", \"y\": \"G\", \"yref\": \"y\"}, {\"showarrow\": false, \"text\": \"18.4\", \"x\": 12, \"xref\": \"x\", \"y\": \"G\", \"yref\": \"y\"}, {\"showarrow\": false, \"text\": \"18.5\", \"x\": 1, \"xref\": \"x\", \"y\": \"H\", \"yref\": \"y\"}, {\"showarrow\": false, \"text\": \"18.0\", \"x\": 2, \"xref\": \"x\", \"y\": \"H\", \"yref\": \"y\"}, {\"showarrow\": false, \"text\": \"18.3\", \"x\": 3, \"xref\": \"x\", \"y\": \"H\", \"yref\": \"y\"}, {\"showarrow\": false, \"text\": \"18.3\", \"x\": 4, \"xref\": \"x\", \"y\": \"H\", \"yref\": \"y\"}, {\"showarrow\": false, \"text\": \"18.6\", \"x\": 5, \"xref\": \"x\", \"y\": \"H\", \"yref\": \"y\"}, {\"showarrow\": false, \"text\": \"19.1\", \"x\": 6, \"xref\": \"x\", \"y\": \"H\", \"yref\": \"y\"}, {\"showarrow\": false, \"text\": \"18.9\", \"x\": 7, \"xref\": \"x\", \"y\": \"H\", \"yref\": \"y\"}, {\"showarrow\": false, \"text\": \"18.5\", \"x\": 8, \"xref\": \"x\", \"y\": \"H\", \"yref\": \"y\"}, {\"showarrow\": false, \"text\": \"18.5\", \"x\": 9, \"xref\": \"x\", \"y\": \"H\", \"yref\": \"y\"}, {\"showarrow\": false, \"text\": \"nan\", \"x\": 10, \"xref\": \"x\", \"y\": \"H\", \"yref\": \"y\"}, {\"showarrow\": false, \"text\": \"nan\", \"x\": 11, \"xref\": \"x\", \"y\": \"H\", \"yref\": \"y\"}, {\"showarrow\": false, \"text\": \"nan\", \"x\": 12, \"xref\": \"x\", \"y\": \"H\", \"yref\": \"y\"}], \"height\": 450, \"showlegend\": false, \"template\": {\"data\": {\"scatter\": [{\"type\": \"scatter\"}]}}, \"title\": {\"text\": \"Mineral Oil\"}, \"width\": 575, \"xaxis\": {\"linecolor\": \"black\", \"linewidth\": 1, \"mirror\": true, \"nticks\": 20, \"showgrid\": false, \"showline\": true, \"side\": \"top\", \"tickangle\": 0, \"tickcolor\": \"black\", \"tickfont\": {\"color\": \"black\", \"family\": \"Arial\", \"size\": 13}, \"ticklen\": 4, \"ticks\": \"\"}, \"yaxis\": {\"linecolor\": \"black\", \"linewidth\": 1, \"mirror\": true, \"nticks\": 0, \"showgrid\": false, \"showline\": true, \"tickangle\": 0, \"tickcolor\": \"black\", \"tickfont\": {\"color\": \"black\", \"family\": \"Arial\", \"size\": 13}, \"ticklen\": 4, \"ticks\": \"\", \"title\": {\"font\": {\"color\": \"black\", \"family\": \"Arial\", \"size\": 16}, \"standoff\": 0}}},                        {\"responsive\": true}                    ).then(function(){\n",
       "                            \n",
       "var gd = document.getElementById('a9d91c42-0b63-435d-b0bf-f0f4672d28ae');\n",
       "var x = new MutationObserver(function (mutations, observer) {{\n",
       "        var display = window.getComputedStyle(gd).display;\n",
       "        if (!display || display === 'none') {{\n",
       "            console.log([gd, 'removed!']);\n",
       "            Plotly.purge(gd);\n",
       "            observer.disconnect();\n",
       "        }}\n",
       "}});\n",
       "\n",
       "// Listen for the removal of the full notebook cells\n",
       "var notebookContainer = gd.closest('#notebook-container');\n",
       "if (notebookContainer) {{\n",
       "    x.observe(notebookContainer, {childList: true});\n",
       "}}\n",
       "\n",
       "// Listen for the clearing of the current output cell\n",
       "var outputEl = gd.closest('.output');\n",
       "if (outputEl) {{\n",
       "    x.observe(outputEl, {childList: true});\n",
       "}}\n",
       "\n",
       "                        })                };                });            </script>        </div>"
      ]
     },
     "metadata": {},
     "output_type": "display_data"
    }
   ],
   "source": [
    "for film in df_dict:\n",
    "    if film not in ['breathe_easy_aerobic']:\n",
    "        trace_list = []\n",
    "        annotations = go.Annotations()\n",
    "        \n",
    "        trace_list.append(go.Heatmap(\n",
    "                           z=list(reversed(df_dict[film].values - np.nanmedian(df_dict[film].values.flatten()))),\n",
    "                           x=df_dict[film].columns,\n",
    "                           y=list(reversed(df_dict[film].index)), \n",
    "                           hoverongaps = False, zmin=-1.5, zmax=1.5,colorscale=colorscale,\n",
    "                            showscale=True,\n",
    "                           colorbar=dict(dtick=0.5,ticks='outside',tickcolor='black',outlinecolor='black',\n",
    "                                         outlinewidth=0.25,thickness=15,len=1)))\n",
    "        for n, row in enumerate(df_dict[film].values):\n",
    "            for m,val in enumerate(row):\n",
    "                annotations.append(go.layout.Annotation(text=str(df_dict[film].values[n][m]),\n",
    "                                                 x=df_dict[film].columns[m],\n",
    "                                                 y=list((df_dict[film].index))[n],\n",
    "                                                 xref='x1',yref='y1',showarrow=False))\n",
    "        layout = go.Layout(height=450, width=575, showlegend=False, title_text=film,annotations=annotations,\n",
    "                   \n",
    "                   xaxis=dict(showline=True, linewidth=1, linecolor='black', mirror=True, \n",
    "                              ticks='', ticklen=4, tickangle=0, tickcolor='black', nticks=20,\n",
    "                              tickfont=dict(size=13, family='Arial', color='black'),\n",
    "                              side='top', showgrid=False),\n",
    "                           \n",
    "                   yaxis=dict(\n",
    "                              title_standoff=0, titlefont=dict(family='Arial', size=16, color='black'),\n",
    "                              showline=True, linewidth=1, linecolor='black',mirror=True,\n",
    "                              ticks='', ticklen=4, tickangle=0, tickcolor='black', nticks=0,\n",
    "                              tickfont=dict(family='Arial',size=13, color='black'),\n",
    "                              showgrid=False))\n",
    "        \n",
    "        fig = go.Figure(data=trace_list, layout=layout)\n",
    "        fig.show()\n",
    "        #pio.write_image(fig,\"Figures/si_fig_3_variation_\"+film+\".svg\",format='svg')\n"
   ]
  }
 ],
 "metadata": {
  "kernelspec": {
   "display_name": "Python [conda env:default]",
   "language": "python",
   "name": "conda-env-default-py"
  },
  "language_info": {
   "codemirror_mode": {
    "name": "ipython",
    "version": 3
   },
   "file_extension": ".py",
   "mimetype": "text/x-python",
   "name": "python",
   "nbconvert_exporter": "python",
   "pygments_lexer": "ipython3",
   "version": "3.7.6"
  }
 },
 "nbformat": 4,
 "nbformat_minor": 5
}
