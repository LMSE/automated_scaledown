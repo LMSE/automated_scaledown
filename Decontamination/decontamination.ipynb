{
 "cells": [
  {
   "cell_type": "markdown",
   "id": "nominated-seventh",
   "metadata": {},
   "source": [
    "# This notebook contains an analysis of the efficacy of various decontamination procedures #\n",
    "\n",
    "## Figure 2 ans Supplementary Figure 1c can be generated using this notebook##"
   ]
  },
  {
   "cell_type": "markdown",
   "id": "perceived-tanzania",
   "metadata": {},
   "source": [
    "### Import necessary modules ###"
   ]
  },
  {
   "cell_type": "code",
   "execution_count": 1,
   "id": "preceding-nature",
   "metadata": {},
   "outputs": [
    {
     "data": {
      "text/html": [
       "        <script type=\"text/javascript\">\n",
       "        window.PlotlyConfig = {MathJaxConfig: 'local'};\n",
       "        if (window.MathJax) {MathJax.Hub.Config({SVG: {font: \"STIX-Web\"}});}\n",
       "        if (typeof require !== 'undefined') {\n",
       "        require.undef(\"plotly\");\n",
       "        requirejs.config({\n",
       "            paths: {\n",
       "                'plotly': ['https://cdn.plot.ly/plotly-latest.min']\n",
       "            }\n",
       "        });\n",
       "        require(['plotly'], function(Plotly) {\n",
       "            window._Plotly = Plotly;\n",
       "        });\n",
       "        }\n",
       "        </script>\n",
       "        "
      ]
     },
     "metadata": {},
     "output_type": "display_data"
    }
   ],
   "source": [
    "import pandas as pd\n",
    "from scipy.stats import linregress, ttest_ind\n",
    "import numpy as np\n",
    "import sys\n",
    "from plotly import tools, subplots\n",
    "import plotly.graph_objs as go\n",
    "import pickle\n",
    "import plotly.io as pio\n",
    "pio.templates.default = \"none\"\n",
    "\n",
    "if 'ipykernel' in sys.modules:\n",
    "    from plotly.offline import init_notebook_mode\n",
    "    from plotly.offline import iplot as plot\n",
    "    from IPython.display import HTML\n",
    "    HTML(\"\"\"\n",
    "         <script>\n",
    "          var waitForPlotly = setInterval( function() {\n",
    "          if( typeof(window.Plotly) !== \"undefined\" ){\n",
    "          MathJax.Hub.Config({ SVG: { font: \"STIX-Web\" }, displayAlign: \"center\" });\n",
    "          MathJax.Hub.Queue([\"setRenderer\", MathJax.Hub, \"SVG\"]);\n",
    "          clearInterval(waitForPlotly);}}, 250 );\n",
    "        </script>\n",
    "        \"\"\"\n",
    "    )\n",
    "    init_notebook_mode(connected=True)"
   ]
  },
  {
   "cell_type": "markdown",
   "id": "mediterranean-application",
   "metadata": {},
   "source": [
    "### Load contamination rate data from several experiments ###"
   ]
  },
  {
   "cell_type": "code",
   "execution_count": 2,
   "id": "european-replica",
   "metadata": {},
   "outputs": [],
   "source": [
    "contam_data = pd.read_excel(\"Consolidated_Contamination_Data.xlsx\")\n",
    "contam_data['sterility'] = 100 - contam_data['contamination_rate']"
   ]
  },
  {
   "cell_type": "markdown",
   "id": "architectural-cooler",
   "metadata": {},
   "source": [
    "### Plot initial test data - Decontamination with 0 hold time and 4 washes with default (10$\\mu$L) air gap (Fig. 2B) ###"
   ]
  },
  {
   "cell_type": "code",
   "execution_count": 3,
   "id": "little-interest",
   "metadata": {
    "scrolled": false
   },
   "outputs": [
    {
     "data": {
      "application/vnd.plotly.v1+json": {
       "config": {
        "linkText": "Export to plot.ly",
        "plotlyServerURL": "https://plot.ly",
        "showLink": false
       },
       "data": [
        {
         "marker": {
          "color": [
           "#927fbf",
           "#a8d5ff",
           "#2797ff",
           "#0062bd"
          ],
          "line": {
           "color": "black",
           "width": 0
          }
         },
         "name": "Contamination Rate<br>(% contaminated wells)",
         "orientation": "h",
         "showlegend": false,
         "type": "bar",
         "x": [
          0,
          29.166666666666657,
          25,
          50
         ],
         "y": [
          "Water",
          "3% Sodium<br>hypochlorite",
          "6% Sodium<br>hypochlorite",
          "12% Sodium<br>hypochlorite"
         ]
        },
        {
         "line": {
          "color": "#9b5151",
          "dash": "dot",
          "width": 1
         },
         "mode": "lines",
         "showlegend": false,
         "type": "scatter",
         "visible": true,
         "x": [
          100,
          100,
          100,
          100,
          100,
          100,
          100,
          100,
          100,
          100
         ],
         "y": [
          0,
          1.1111111111111112,
          2.2222222222222223,
          3.3333333333333335,
          4.444444444444445,
          5.555555555555555,
          6.666666666666667,
          7.777777777777779,
          8.88888888888889,
          10
         ],
         "yaxis": "y2"
        }
       ],
       "layout": {
        "bargap": 0.5,
        "height": 350,
        "legend": {
         "orientation": "h"
        },
        "showlegend": true,
        "template": {
         "data": {
          "scatter": [
           {
            "type": "scatter"
           }
          ]
         }
        },
        "width": 350,
        "xaxis": {
         "linecolor": "black",
         "linewidth": 1,
         "mirror": true,
         "nticks": 10,
         "range": [
          0,
          105
         ],
         "showgrid": false,
         "showline": true,
         "tickangle": 0,
         "tickcolor": "black",
         "tickfont": {
          "color": "black",
          "family": "Arial",
          "size": 14
         },
         "ticklen": 4,
         "ticks": "outside",
         "title": {
          "font": {
           "color": "black",
           "family": "Arial",
           "size": 16
          },
          "standoff": 0,
          "text": "Sterility<br>(% sterile wells)"
         }
        },
        "yaxis": {
         "automargin": true,
         "linecolor": "black",
         "linewidth": 1,
         "mirror": true,
         "showgrid": false,
         "showline": true,
         "tickangle": 0,
         "tickcolor": "black",
         "tickfont": {
          "color": "black",
          "family": "Arial",
          "size": 14
         },
         "ticklen": 4,
         "ticks": "outside",
         "tickvals": [
          "12% Sodium<br>hypochlorite",
          "6% Sodium<br>hypochlorite",
          "3% Sodium<br>hypochlorite",
          "Water"
         ],
         "title": {
          "font": {
           "color": "black",
           "family": "Arial",
           "size": 16
          },
          "standoff": 0,
          "text": "Disinfectant"
         }
        },
        "yaxis2": {
         "anchor": "x",
         "overlaying": "y",
         "range": [
          0,
          10
         ],
         "visible": false
        }
       }
      },
      "text/html": [
       "<div>                            <div id=\"91b649f3-9298-4f09-a1b4-13b4172b0807\" class=\"plotly-graph-div\" style=\"height:350px; width:350px;\"></div>            <script type=\"text/javascript\">                require([\"plotly\"], function(Plotly) {                    window.PLOTLYENV=window.PLOTLYENV || {};                                    if (document.getElementById(\"91b649f3-9298-4f09-a1b4-13b4172b0807\")) {                    Plotly.newPlot(                        \"91b649f3-9298-4f09-a1b4-13b4172b0807\",                        [{\"marker\": {\"color\": [\"#927fbf\", \"#a8d5ff\", \"#2797ff\", \"#0062bd\"], \"line\": {\"color\": \"black\", \"width\": 0}}, \"name\": \"Contamination Rate<br>(% contaminated wells)\", \"orientation\": \"h\", \"showlegend\": false, \"type\": \"bar\", \"x\": [0.0, 29.166666666666657, 25.0, 50.0], \"y\": [\"Water\", \"3% Sodium<br>hypochlorite\", \"6% Sodium<br>hypochlorite\", \"12% Sodium<br>hypochlorite\"]}, {\"line\": {\"color\": \"#9b5151\", \"dash\": \"dot\", \"width\": 1}, \"mode\": \"lines\", \"showlegend\": false, \"type\": \"scatter\", \"visible\": true, \"x\": [100, 100, 100, 100, 100, 100, 100, 100, 100, 100], \"y\": [0.0, 1.1111111111111112, 2.2222222222222223, 3.3333333333333335, 4.444444444444445, 5.555555555555555, 6.666666666666667, 7.777777777777779, 8.88888888888889, 10.0], \"yaxis\": \"y2\"}],                        {\"bargap\": 0.5, \"height\": 350, \"legend\": {\"orientation\": \"h\"}, \"showlegend\": true, \"template\": {\"data\": {\"scatter\": [{\"type\": \"scatter\"}]}}, \"width\": 350, \"xaxis\": {\"linecolor\": \"black\", \"linewidth\": 1, \"mirror\": true, \"nticks\": 10, \"range\": [0, 105], \"showgrid\": false, \"showline\": true, \"tickangle\": 0, \"tickcolor\": \"black\", \"tickfont\": {\"color\": \"black\", \"family\": \"Arial\", \"size\": 14}, \"ticklen\": 4, \"ticks\": \"outside\", \"title\": {\"font\": {\"color\": \"black\", \"family\": \"Arial\", \"size\": 16}, \"standoff\": 0, \"text\": \"Sterility<br>(% sterile wells)\"}}, \"yaxis\": {\"automargin\": true, \"linecolor\": \"black\", \"linewidth\": 1, \"mirror\": true, \"showgrid\": false, \"showline\": true, \"tickangle\": 0, \"tickcolor\": \"black\", \"tickfont\": {\"color\": \"black\", \"family\": \"Arial\", \"size\": 14}, \"ticklen\": 4, \"ticks\": \"outside\", \"tickvals\": [\"12% Sodium<br>hypochlorite\", \"6% Sodium<br>hypochlorite\", \"3% Sodium<br>hypochlorite\", \"Water\"], \"title\": {\"font\": {\"color\": \"black\", \"family\": \"Arial\", \"size\": 16}, \"standoff\": 0, \"text\": \"Disinfectant\"}}, \"yaxis2\": {\"anchor\": \"x\", \"overlaying\": \"y\", \"range\": [0, 10], \"visible\": false}},                        {\"responsive\": true}                    ).then(function(){\n",
       "                            \n",
       "var gd = document.getElementById('91b649f3-9298-4f09-a1b4-13b4172b0807');\n",
       "var x = new MutationObserver(function (mutations, observer) {{\n",
       "        var display = window.getComputedStyle(gd).display;\n",
       "        if (!display || display === 'none') {{\n",
       "            console.log([gd, 'removed!']);\n",
       "            Plotly.purge(gd);\n",
       "            observer.disconnect();\n",
       "        }}\n",
       "}});\n",
       "\n",
       "// Listen for the removal of the full notebook cells\n",
       "var notebookContainer = gd.closest('#notebook-container');\n",
       "if (notebookContainer) {{\n",
       "    x.observe(notebookContainer, {childList: true});\n",
       "}}\n",
       "\n",
       "// Listen for the clearing of the current output cell\n",
       "var outputEl = gd.closest('.output');\n",
       "if (outputEl) {{\n",
       "    x.observe(outputEl, {childList: true});\n",
       "}}\n",
       "\n",
       "                        })                };                });            </script>        </div>"
      ]
     },
     "metadata": {},
     "output_type": "display_data"
    }
   ],
   "source": [
    "colors = ['#927fbf','#a8d5ff','#2797ff','#0062bd']\n",
    "vary_disinfectant_0STAG = contam_data[contam_data['stag']==10]\n",
    "disinfectants = ['12% Sodium<br>hypochlorite',  '6% Sodium<br>hypochlorite',\n",
    "                 '3% Sodium<br>hypochlorite', 'Water']\n",
    "\n",
    "trace_list = []\n",
    "\n",
    "trace_list.append(go.Bar(y=list(reversed(disinfectants)), x=list(reversed(vary_disinfectant_0STAG['sterility'])),\n",
    "                         marker=dict(color=colors, line=dict(width=0, color='black')),\n",
    "                         name='Contamination Rate<br>(% contaminated wells)', showlegend=False,\n",
    "                         orientation='h'))\n",
    "\n",
    "trace_list.append(go.Scatter(x=[100]*10, y=np.linspace(0,10,10),\n",
    "                             mode='lines', line=dict(dash='dot',color='#9b5151',width=1),\n",
    "                             yaxis='y2',showlegend=False, visible=True))\n",
    "\n",
    "layout = go.Layout(height=350, width=350, showlegend=True, bargap=0.5, \n",
    "                   legend_orientation='h',\n",
    "\n",
    "                    yaxis=dict(title_text='Disinfectant', \n",
    "                               title_font=dict(family='Arial',size=16,color='black'), title_standoff=0, automargin=True,\n",
    "                               showline=True, linewidth=1, linecolor='black', mirror=True, showgrid=False,\n",
    "                               ticks='outside', ticklen=4, tickfont=dict(size=14, family='Arial', color='black'),\n",
    "                               tickangle=-0, tickcolor='black', tickvals=disinfectants),\n",
    "                   yaxis2=dict(visible=False, anchor='x', overlaying='y', range=(0,10)),\n",
    "\n",
    "                   xaxis=dict(title='Sterility<br>(% sterile wells)',\n",
    "                              titlefont=dict(family='Arial', size=16, color='black'), title_standoff=0,\n",
    "                              showline=True, linewidth=1, linecolor='black', mirror=True, showgrid=False,\n",
    "                              ticks='outside', ticklen=4, tickfont=dict(family='Arial',size=14, color='black'),\n",
    "                              nticks=10, tickangle=0, tickcolor='black',range=(0,105)))\n",
    "\n",
    "fig = go.Figure(data=trace_list,layout=layout)\n",
    "plot(fig)\n",
    "#pio.write_image(fig,\"Figures/fig1.svg\",format='svg')\n"
   ]
  },
  {
   "cell_type": "code",
   "execution_count": null,
   "id": "infectious-savannah",
   "metadata": {},
   "outputs": [],
   "source": []
  },
  {
   "cell_type": "markdown",
   "id": "several-florence",
   "metadata": {},
   "source": [
    "### Plot air gap variation data - Decontamination with different hold times, washes and air gaps (Fig. 2D)"
   ]
  },
  {
   "cell_type": "code",
   "execution_count": 4,
   "id": "digital-cylinder",
   "metadata": {},
   "outputs": [],
   "source": [
    "stag0data = contam_data[(contam_data['stag']==0)&(contam_data['wash_number']!=0)]\n",
    "stag50data = contam_data[(contam_data['stag']==50)&(contam_data['wash_number']!=0)]\n",
    "stag100data = contam_data[(contam_data['stag']==100)&(contam_data['wash_number']!=0)]\n",
    "stag250data = contam_data[(contam_data['stag']==250)&(contam_data['wash_number']!=0)][6:]\n",
    "stag_data = pd.concat([stag0data, stag50data, stag100data, stag250data]).sort_values(by=['stag','hold_time','wash_number'])"
   ]
  },
  {
   "cell_type": "code",
   "execution_count": 5,
   "id": "naughty-encounter",
   "metadata": {
    "scrolled": false
   },
   "outputs": [
    {
     "data": {
      "application/vnd.plotly.v1+json": {
       "config": {
        "linkText": "Export to plot.ly",
        "plotlyServerURL": "https://plot.ly",
        "showLink": false
       },
       "data": [
        {
         "line": {
          "color": "#9b5151",
          "dash": "dot",
          "width": 1
         },
         "mode": "lines",
         "name": "Required Sterility<br>(100%)",
         "showlegend": true,
         "type": "scatter",
         "visible": true,
         "x": [
          0,
          1.1111111111111112,
          2.2222222222222223,
          3.3333333333333335,
          4.444444444444445,
          5.555555555555555,
          6.666666666666667,
          7.777777777777779,
          8.88888888888889,
          10
         ],
         "xaxis": "x2",
         "y": [
          100,
          100,
          100,
          100,
          100,
          100,
          100,
          100,
          100,
          100
         ]
        },
        {
         "marker": {
          "color": "#b3e2b5",
          "line": {
           "color": "black",
           "width": 0
          }
         },
         "name": "Hold Time:0",
         "showlegend": true,
         "type": "bar",
         "x": [
          2,
          4,
          6
         ],
         "y": [
          25,
          25,
          37.5
         ]
        },
        {
         "marker": {
          "color": "#73ca76",
          "line": {
           "color": "black",
           "width": 0
          }
         },
         "name": "Hold Time:2",
         "showlegend": true,
         "type": "bar",
         "x": [
          2,
          4,
          6
         ],
         "y": [
          12.5,
          12.5,
          25
         ]
        },
        {
         "marker": {
          "color": "#37923b",
          "line": {
           "color": "black",
           "width": 0
          }
         },
         "name": "Hold Time:4",
         "showlegend": true,
         "type": "bar",
         "x": [
          2,
          4,
          6
         ],
         "y": [
          50,
          50,
          87.5
         ]
        }
       ],
       "layout": {
        "bargap": 0.3,
        "bargroupgap": 0.1,
        "height": 400,
        "legend": {
         "font": {
          "color": "black",
          "family": "Arial",
          "size": 14
         },
         "orientation": "v",
         "y": 0
        },
        "showlegend": true,
        "template": {
         "data": {
          "scatter": [
           {
            "type": "scatter"
           }
          ]
         }
        },
        "width": 475,
        "xaxis": {
         "linecolor": "black",
         "linewidth": 1,
         "mirror": true,
         "showgrid": false,
         "showline": true,
         "tickangle": 0,
         "tickcolor": "black",
         "tickfont": {
          "color": "black",
          "family": "Arial",
          "size": 16
         },
         "ticklen": 4,
         "ticks": "outside",
         "title": {
          "font": {
           "color": "black",
           "family": "Arial",
           "size": 16
          },
          "standoff": 0,
          "text": "Number of Washes"
         }
        },
        "xaxis2": {
         "anchor": "y",
         "overlaying": "x",
         "range": [
          0,
          4
         ],
         "visible": false
        },
        "yaxis": {
         "linecolor": "black",
         "linewidth": 1,
         "mirror": true,
         "nticks": 10,
         "range": [
          0,
          105
         ],
         "showgrid": false,
         "showline": true,
         "tickangle": 0,
         "tickcolor": "black",
         "tickfont": {
          "color": "black",
          "family": "Arial",
          "size": 16
         },
         "ticklen": 4,
         "ticks": "outside",
         "title": {
          "font": {
           "color": "black",
           "family": "Arial",
           "size": 16
          },
          "standoff": 0,
          "text": "Sterility<br>(% sterile wells)"
         }
        }
       }
      },
      "text/html": [
       "<div>                            <div id=\"2e5d0a4a-1a14-4e75-b847-12bb484ee76f\" class=\"plotly-graph-div\" style=\"height:400px; width:475px;\"></div>            <script type=\"text/javascript\">                require([\"plotly\"], function(Plotly) {                    window.PLOTLYENV=window.PLOTLYENV || {};                                    if (document.getElementById(\"2e5d0a4a-1a14-4e75-b847-12bb484ee76f\")) {                    Plotly.newPlot(                        \"2e5d0a4a-1a14-4e75-b847-12bb484ee76f\",                        [{\"line\": {\"color\": \"#9b5151\", \"dash\": \"dot\", \"width\": 1}, \"mode\": \"lines\", \"name\": \"Required Sterility<br>(100%)\", \"showlegend\": true, \"type\": \"scatter\", \"visible\": true, \"x\": [0.0, 1.1111111111111112, 2.2222222222222223, 3.3333333333333335, 4.444444444444445, 5.555555555555555, 6.666666666666667, 7.777777777777779, 8.88888888888889, 10.0], \"xaxis\": \"x2\", \"y\": [100, 100, 100, 100, 100, 100, 100, 100, 100, 100]}, {\"marker\": {\"color\": \"#b3e2b5\", \"line\": {\"color\": \"black\", \"width\": 0}}, \"name\": \"Hold Time:0\", \"showlegend\": true, \"type\": \"bar\", \"x\": [2, 4, 6], \"y\": [25.0, 25.0, 37.5]}, {\"marker\": {\"color\": \"#73ca76\", \"line\": {\"color\": \"black\", \"width\": 0}}, \"name\": \"Hold Time:2\", \"showlegend\": true, \"type\": \"bar\", \"x\": [2, 4, 6], \"y\": [12.5, 12.5, 25.0]}, {\"marker\": {\"color\": \"#37923b\", \"line\": {\"color\": \"black\", \"width\": 0}}, \"name\": \"Hold Time:4\", \"showlegend\": true, \"type\": \"bar\", \"x\": [2, 4, 6], \"y\": [50.0, 50.0, 87.5]}],                        {\"bargap\": 0.3, \"bargroupgap\": 0.1, \"height\": 400, \"legend\": {\"font\": {\"color\": \"black\", \"family\": \"Arial\", \"size\": 14}, \"orientation\": \"v\", \"y\": 0}, \"showlegend\": true, \"template\": {\"data\": {\"scatter\": [{\"type\": \"scatter\"}]}}, \"width\": 475, \"xaxis\": {\"linecolor\": \"black\", \"linewidth\": 1, \"mirror\": true, \"showgrid\": false, \"showline\": true, \"tickangle\": 0, \"tickcolor\": \"black\", \"tickfont\": {\"color\": \"black\", \"family\": \"Arial\", \"size\": 16}, \"ticklen\": 4, \"ticks\": \"outside\", \"title\": {\"font\": {\"color\": \"black\", \"family\": \"Arial\", \"size\": 16}, \"standoff\": 0, \"text\": \"Number of Washes\"}}, \"xaxis2\": {\"anchor\": \"y\", \"overlaying\": \"x\", \"range\": [0, 4], \"visible\": false}, \"yaxis\": {\"linecolor\": \"black\", \"linewidth\": 1, \"mirror\": true, \"nticks\": 10, \"range\": [0, 105], \"showgrid\": false, \"showline\": true, \"tickangle\": 0, \"tickcolor\": \"black\", \"tickfont\": {\"color\": \"black\", \"family\": \"Arial\", \"size\": 16}, \"ticklen\": 4, \"ticks\": \"outside\", \"title\": {\"font\": {\"color\": \"black\", \"family\": \"Arial\", \"size\": 16}, \"standoff\": 0, \"text\": \"Sterility<br>(% sterile wells)\"}}},                        {\"responsive\": true}                    ).then(function(){\n",
       "                            \n",
       "var gd = document.getElementById('2e5d0a4a-1a14-4e75-b847-12bb484ee76f');\n",
       "var x = new MutationObserver(function (mutations, observer) {{\n",
       "        var display = window.getComputedStyle(gd).display;\n",
       "        if (!display || display === 'none') {{\n",
       "            console.log([gd, 'removed!']);\n",
       "            Plotly.purge(gd);\n",
       "            observer.disconnect();\n",
       "        }}\n",
       "}});\n",
       "\n",
       "// Listen for the removal of the full notebook cells\n",
       "var notebookContainer = gd.closest('#notebook-container');\n",
       "if (notebookContainer) {{\n",
       "    x.observe(notebookContainer, {childList: true});\n",
       "}}\n",
       "\n",
       "// Listen for the clearing of the current output cell\n",
       "var outputEl = gd.closest('.output');\n",
       "if (outputEl) {{\n",
       "    x.observe(outputEl, {childList: true});\n",
       "}}\n",
       "\n",
       "                        })                };                });            </script>        </div>"
      ]
     },
     "metadata": {},
     "output_type": "display_data"
    },
    {
     "data": {
      "application/vnd.plotly.v1+json": {
       "config": {
        "linkText": "Export to plot.ly",
        "plotlyServerURL": "https://plot.ly",
        "showLink": false
       },
       "data": [
        {
         "line": {
          "color": "#9b5151",
          "dash": "dot",
          "width": 1
         },
         "mode": "lines",
         "name": "Required Sterility<br>(100%)",
         "showlegend": true,
         "type": "scatter",
         "visible": true,
         "x": [
          0,
          1.1111111111111112,
          2.2222222222222223,
          3.3333333333333335,
          4.444444444444445,
          5.555555555555555,
          6.666666666666667,
          7.777777777777779,
          8.88888888888889,
          10
         ],
         "xaxis": "x2",
         "y": [
          100,
          100,
          100,
          100,
          100,
          100,
          100,
          100,
          100,
          100
         ]
        },
        {
         "marker": {
          "color": "#b3e2b5",
          "line": {
           "color": "black",
           "width": 0
          }
         },
         "name": "Hold Time:0",
         "showlegend": true,
         "type": "bar",
         "x": [
          2,
          4,
          6
         ],
         "y": [
          62.5,
          87.5,
          87.5
         ]
        },
        {
         "marker": {
          "color": "#73ca76",
          "line": {
           "color": "black",
           "width": 0
          }
         },
         "name": "Hold Time:2",
         "showlegend": true,
         "type": "bar",
         "x": [
          2,
          4,
          6
         ],
         "y": [
          75,
          100,
          100
         ]
        },
        {
         "marker": {
          "color": "#37923b",
          "line": {
           "color": "black",
           "width": 0
          }
         },
         "name": "Hold Time:4",
         "showlegend": true,
         "type": "bar",
         "x": [
          2,
          4,
          6
         ],
         "y": [
          62.5,
          100,
          100
         ]
        }
       ],
       "layout": {
        "bargap": 0.3,
        "bargroupgap": 0.1,
        "height": 400,
        "legend": {
         "font": {
          "color": "black",
          "family": "Arial",
          "size": 14
         },
         "orientation": "v",
         "y": 0
        },
        "showlegend": true,
        "template": {
         "data": {
          "scatter": [
           {
            "type": "scatter"
           }
          ]
         }
        },
        "width": 475,
        "xaxis": {
         "linecolor": "black",
         "linewidth": 1,
         "mirror": true,
         "showgrid": false,
         "showline": true,
         "tickangle": 0,
         "tickcolor": "black",
         "tickfont": {
          "color": "black",
          "family": "Arial",
          "size": 16
         },
         "ticklen": 4,
         "ticks": "outside",
         "title": {
          "font": {
           "color": "black",
           "family": "Arial",
           "size": 16
          },
          "standoff": 0,
          "text": "Number of Washes"
         }
        },
        "xaxis2": {
         "anchor": "y",
         "overlaying": "x",
         "range": [
          0,
          4
         ],
         "visible": false
        },
        "yaxis": {
         "linecolor": "black",
         "linewidth": 1,
         "mirror": true,
         "nticks": 10,
         "range": [
          0,
          105
         ],
         "showgrid": false,
         "showline": true,
         "tickangle": 0,
         "tickcolor": "black",
         "tickfont": {
          "color": "black",
          "family": "Arial",
          "size": 16
         },
         "ticklen": 4,
         "ticks": "outside",
         "title": {
          "font": {
           "color": "black",
           "family": "Arial",
           "size": 16
          },
          "standoff": 0,
          "text": "Sterility<br>(% sterile wells)"
         }
        }
       }
      },
      "text/html": [
       "<div>                            <div id=\"ff5401a4-e083-4d61-8521-7b1fd514c7e0\" class=\"plotly-graph-div\" style=\"height:400px; width:475px;\"></div>            <script type=\"text/javascript\">                require([\"plotly\"], function(Plotly) {                    window.PLOTLYENV=window.PLOTLYENV || {};                                    if (document.getElementById(\"ff5401a4-e083-4d61-8521-7b1fd514c7e0\")) {                    Plotly.newPlot(                        \"ff5401a4-e083-4d61-8521-7b1fd514c7e0\",                        [{\"line\": {\"color\": \"#9b5151\", \"dash\": \"dot\", \"width\": 1}, \"mode\": \"lines\", \"name\": \"Required Sterility<br>(100%)\", \"showlegend\": true, \"type\": \"scatter\", \"visible\": true, \"x\": [0.0, 1.1111111111111112, 2.2222222222222223, 3.3333333333333335, 4.444444444444445, 5.555555555555555, 6.666666666666667, 7.777777777777779, 8.88888888888889, 10.0], \"xaxis\": \"x2\", \"y\": [100, 100, 100, 100, 100, 100, 100, 100, 100, 100]}, {\"marker\": {\"color\": \"#b3e2b5\", \"line\": {\"color\": \"black\", \"width\": 0}}, \"name\": \"Hold Time:0\", \"showlegend\": true, \"type\": \"bar\", \"x\": [2, 4, 6], \"y\": [62.5, 87.5, 87.5]}, {\"marker\": {\"color\": \"#73ca76\", \"line\": {\"color\": \"black\", \"width\": 0}}, \"name\": \"Hold Time:2\", \"showlegend\": true, \"type\": \"bar\", \"x\": [2, 4, 6], \"y\": [75.0, 100.0, 100.0]}, {\"marker\": {\"color\": \"#37923b\", \"line\": {\"color\": \"black\", \"width\": 0}}, \"name\": \"Hold Time:4\", \"showlegend\": true, \"type\": \"bar\", \"x\": [2, 4, 6], \"y\": [62.5, 100.0, 100.0]}],                        {\"bargap\": 0.3, \"bargroupgap\": 0.1, \"height\": 400, \"legend\": {\"font\": {\"color\": \"black\", \"family\": \"Arial\", \"size\": 14}, \"orientation\": \"v\", \"y\": 0}, \"showlegend\": true, \"template\": {\"data\": {\"scatter\": [{\"type\": \"scatter\"}]}}, \"width\": 475, \"xaxis\": {\"linecolor\": \"black\", \"linewidth\": 1, \"mirror\": true, \"showgrid\": false, \"showline\": true, \"tickangle\": 0, \"tickcolor\": \"black\", \"tickfont\": {\"color\": \"black\", \"family\": \"Arial\", \"size\": 16}, \"ticklen\": 4, \"ticks\": \"outside\", \"title\": {\"font\": {\"color\": \"black\", \"family\": \"Arial\", \"size\": 16}, \"standoff\": 0, \"text\": \"Number of Washes\"}}, \"xaxis2\": {\"anchor\": \"y\", \"overlaying\": \"x\", \"range\": [0, 4], \"visible\": false}, \"yaxis\": {\"linecolor\": \"black\", \"linewidth\": 1, \"mirror\": true, \"nticks\": 10, \"range\": [0, 105], \"showgrid\": false, \"showline\": true, \"tickangle\": 0, \"tickcolor\": \"black\", \"tickfont\": {\"color\": \"black\", \"family\": \"Arial\", \"size\": 16}, \"ticklen\": 4, \"ticks\": \"outside\", \"title\": {\"font\": {\"color\": \"black\", \"family\": \"Arial\", \"size\": 16}, \"standoff\": 0, \"text\": \"Sterility<br>(% sterile wells)\"}}},                        {\"responsive\": true}                    ).then(function(){\n",
       "                            \n",
       "var gd = document.getElementById('ff5401a4-e083-4d61-8521-7b1fd514c7e0');\n",
       "var x = new MutationObserver(function (mutations, observer) {{\n",
       "        var display = window.getComputedStyle(gd).display;\n",
       "        if (!display || display === 'none') {{\n",
       "            console.log([gd, 'removed!']);\n",
       "            Plotly.purge(gd);\n",
       "            observer.disconnect();\n",
       "        }}\n",
       "}});\n",
       "\n",
       "// Listen for the removal of the full notebook cells\n",
       "var notebookContainer = gd.closest('#notebook-container');\n",
       "if (notebookContainer) {{\n",
       "    x.observe(notebookContainer, {childList: true});\n",
       "}}\n",
       "\n",
       "// Listen for the clearing of the current output cell\n",
       "var outputEl = gd.closest('.output');\n",
       "if (outputEl) {{\n",
       "    x.observe(outputEl, {childList: true});\n",
       "}}\n",
       "\n",
       "                        })                };                });            </script>        </div>"
      ]
     },
     "metadata": {},
     "output_type": "display_data"
    },
    {
     "data": {
      "application/vnd.plotly.v1+json": {
       "config": {
        "linkText": "Export to plot.ly",
        "plotlyServerURL": "https://plot.ly",
        "showLink": false
       },
       "data": [
        {
         "line": {
          "color": "#9b5151",
          "dash": "dot",
          "width": 1
         },
         "mode": "lines",
         "name": "Required Sterility<br>(100%)",
         "showlegend": true,
         "type": "scatter",
         "visible": true,
         "x": [
          0,
          1.1111111111111112,
          2.2222222222222223,
          3.3333333333333335,
          4.444444444444445,
          5.555555555555555,
          6.666666666666667,
          7.777777777777779,
          8.88888888888889,
          10
         ],
         "xaxis": "x2",
         "y": [
          100,
          100,
          100,
          100,
          100,
          100,
          100,
          100,
          100,
          100
         ]
        },
        {
         "marker": {
          "color": "#b3e2b5",
          "line": {
           "color": "black",
           "width": 0
          }
         },
         "name": "Hold Time:0",
         "showlegend": true,
         "type": "bar",
         "x": [
          2,
          4,
          6
         ],
         "y": [
          100,
          87.5,
          100
         ]
        },
        {
         "marker": {
          "color": "#73ca76",
          "line": {
           "color": "black",
           "width": 0
          }
         },
         "name": "Hold Time:2",
         "showlegend": true,
         "type": "bar",
         "x": [
          2,
          4,
          6
         ],
         "y": [
          100,
          87.5,
          75
         ]
        },
        {
         "marker": {
          "color": "#37923b",
          "line": {
           "color": "black",
           "width": 0
          }
         },
         "name": "Hold Time:4",
         "showlegend": true,
         "type": "bar",
         "x": [
          2,
          4,
          6
         ],
         "y": [
          87.5,
          100,
          100
         ]
        }
       ],
       "layout": {
        "bargap": 0.3,
        "bargroupgap": 0.1,
        "height": 400,
        "legend": {
         "font": {
          "color": "black",
          "family": "Arial",
          "size": 14
         },
         "orientation": "v",
         "y": 0
        },
        "showlegend": true,
        "template": {
         "data": {
          "scatter": [
           {
            "type": "scatter"
           }
          ]
         }
        },
        "width": 475,
        "xaxis": {
         "linecolor": "black",
         "linewidth": 1,
         "mirror": true,
         "showgrid": false,
         "showline": true,
         "tickangle": 0,
         "tickcolor": "black",
         "tickfont": {
          "color": "black",
          "family": "Arial",
          "size": 16
         },
         "ticklen": 4,
         "ticks": "outside",
         "title": {
          "font": {
           "color": "black",
           "family": "Arial",
           "size": 16
          },
          "standoff": 0,
          "text": "Number of Washes"
         }
        },
        "xaxis2": {
         "anchor": "y",
         "overlaying": "x",
         "range": [
          0,
          4
         ],
         "visible": false
        },
        "yaxis": {
         "linecolor": "black",
         "linewidth": 1,
         "mirror": true,
         "nticks": 10,
         "range": [
          0,
          105
         ],
         "showgrid": false,
         "showline": true,
         "tickangle": 0,
         "tickcolor": "black",
         "tickfont": {
          "color": "black",
          "family": "Arial",
          "size": 16
         },
         "ticklen": 4,
         "ticks": "outside",
         "title": {
          "font": {
           "color": "black",
           "family": "Arial",
           "size": 16
          },
          "standoff": 0,
          "text": "Sterility<br>(% sterile wells)"
         }
        }
       }
      },
      "text/html": [
       "<div>                            <div id=\"e611117a-9c11-44a7-88f2-9bc72b9380cb\" class=\"plotly-graph-div\" style=\"height:400px; width:475px;\"></div>            <script type=\"text/javascript\">                require([\"plotly\"], function(Plotly) {                    window.PLOTLYENV=window.PLOTLYENV || {};                                    if (document.getElementById(\"e611117a-9c11-44a7-88f2-9bc72b9380cb\")) {                    Plotly.newPlot(                        \"e611117a-9c11-44a7-88f2-9bc72b9380cb\",                        [{\"line\": {\"color\": \"#9b5151\", \"dash\": \"dot\", \"width\": 1}, \"mode\": \"lines\", \"name\": \"Required Sterility<br>(100%)\", \"showlegend\": true, \"type\": \"scatter\", \"visible\": true, \"x\": [0.0, 1.1111111111111112, 2.2222222222222223, 3.3333333333333335, 4.444444444444445, 5.555555555555555, 6.666666666666667, 7.777777777777779, 8.88888888888889, 10.0], \"xaxis\": \"x2\", \"y\": [100, 100, 100, 100, 100, 100, 100, 100, 100, 100]}, {\"marker\": {\"color\": \"#b3e2b5\", \"line\": {\"color\": \"black\", \"width\": 0}}, \"name\": \"Hold Time:0\", \"showlegend\": true, \"type\": \"bar\", \"x\": [2, 4, 6], \"y\": [100.0, 87.5, 100.0]}, {\"marker\": {\"color\": \"#73ca76\", \"line\": {\"color\": \"black\", \"width\": 0}}, \"name\": \"Hold Time:2\", \"showlegend\": true, \"type\": \"bar\", \"x\": [2, 4, 6], \"y\": [100.0, 87.5, 75.0]}, {\"marker\": {\"color\": \"#37923b\", \"line\": {\"color\": \"black\", \"width\": 0}}, \"name\": \"Hold Time:4\", \"showlegend\": true, \"type\": \"bar\", \"x\": [2, 4, 6], \"y\": [87.5, 100.0, 100.0]}],                        {\"bargap\": 0.3, \"bargroupgap\": 0.1, \"height\": 400, \"legend\": {\"font\": {\"color\": \"black\", \"family\": \"Arial\", \"size\": 14}, \"orientation\": \"v\", \"y\": 0}, \"showlegend\": true, \"template\": {\"data\": {\"scatter\": [{\"type\": \"scatter\"}]}}, \"width\": 475, \"xaxis\": {\"linecolor\": \"black\", \"linewidth\": 1, \"mirror\": true, \"showgrid\": false, \"showline\": true, \"tickangle\": 0, \"tickcolor\": \"black\", \"tickfont\": {\"color\": \"black\", \"family\": \"Arial\", \"size\": 16}, \"ticklen\": 4, \"ticks\": \"outside\", \"title\": {\"font\": {\"color\": \"black\", \"family\": \"Arial\", \"size\": 16}, \"standoff\": 0, \"text\": \"Number of Washes\"}}, \"xaxis2\": {\"anchor\": \"y\", \"overlaying\": \"x\", \"range\": [0, 4], \"visible\": false}, \"yaxis\": {\"linecolor\": \"black\", \"linewidth\": 1, \"mirror\": true, \"nticks\": 10, \"range\": [0, 105], \"showgrid\": false, \"showline\": true, \"tickangle\": 0, \"tickcolor\": \"black\", \"tickfont\": {\"color\": \"black\", \"family\": \"Arial\", \"size\": 16}, \"ticklen\": 4, \"ticks\": \"outside\", \"title\": {\"font\": {\"color\": \"black\", \"family\": \"Arial\", \"size\": 16}, \"standoff\": 0, \"text\": \"Sterility<br>(% sterile wells)\"}}},                        {\"responsive\": true}                    ).then(function(){\n",
       "                            \n",
       "var gd = document.getElementById('e611117a-9c11-44a7-88f2-9bc72b9380cb');\n",
       "var x = new MutationObserver(function (mutations, observer) {{\n",
       "        var display = window.getComputedStyle(gd).display;\n",
       "        if (!display || display === 'none') {{\n",
       "            console.log([gd, 'removed!']);\n",
       "            Plotly.purge(gd);\n",
       "            observer.disconnect();\n",
       "        }}\n",
       "}});\n",
       "\n",
       "// Listen for the removal of the full notebook cells\n",
       "var notebookContainer = gd.closest('#notebook-container');\n",
       "if (notebookContainer) {{\n",
       "    x.observe(notebookContainer, {childList: true});\n",
       "}}\n",
       "\n",
       "// Listen for the clearing of the current output cell\n",
       "var outputEl = gd.closest('.output');\n",
       "if (outputEl) {{\n",
       "    x.observe(outputEl, {childList: true});\n",
       "}}\n",
       "\n",
       "                        })                };                });            </script>        </div>"
      ]
     },
     "metadata": {},
     "output_type": "display_data"
    },
    {
     "data": {
      "application/vnd.plotly.v1+json": {
       "config": {
        "linkText": "Export to plot.ly",
        "plotlyServerURL": "https://plot.ly",
        "showLink": false
       },
       "data": [
        {
         "line": {
          "color": "#9b5151",
          "dash": "dot",
          "width": 1
         },
         "mode": "lines",
         "name": "Required Sterility<br>(100%)",
         "showlegend": true,
         "type": "scatter",
         "visible": true,
         "x": [
          0,
          1.1111111111111112,
          2.2222222222222223,
          3.3333333333333335,
          4.444444444444445,
          5.555555555555555,
          6.666666666666667,
          7.777777777777779,
          8.88888888888889,
          10
         ],
         "xaxis": "x2",
         "y": [
          100,
          100,
          100,
          100,
          100,
          100,
          100,
          100,
          100,
          100
         ]
        },
        {
         "marker": {
          "color": "#b3e2b5",
          "line": {
           "color": "black",
           "width": 0
          }
         },
         "name": "Hold Time:0",
         "showlegend": true,
         "type": "bar",
         "x": [
          2,
          4,
          6
         ],
         "y": [
          100,
          100,
          100
         ]
        },
        {
         "marker": {
          "color": "#73ca76",
          "line": {
           "color": "black",
           "width": 0
          }
         },
         "name": "Hold Time:2",
         "showlegend": true,
         "type": "bar",
         "x": [
          2,
          4,
          6
         ],
         "y": [
          100,
          100,
          100
         ]
        },
        {
         "marker": {
          "color": "#37923b",
          "line": {
           "color": "black",
           "width": 0
          }
         },
         "name": "Hold Time:4",
         "showlegend": true,
         "type": "bar",
         "x": [
          2,
          4,
          6
         ],
         "y": [
          100,
          100,
          100
         ]
        }
       ],
       "layout": {
        "bargap": 0.3,
        "bargroupgap": 0.1,
        "height": 400,
        "legend": {
         "font": {
          "color": "black",
          "family": "Arial",
          "size": 14
         },
         "orientation": "v",
         "y": 0
        },
        "showlegend": true,
        "template": {
         "data": {
          "scatter": [
           {
            "type": "scatter"
           }
          ]
         }
        },
        "width": 475,
        "xaxis": {
         "linecolor": "black",
         "linewidth": 1,
         "mirror": true,
         "showgrid": false,
         "showline": true,
         "tickangle": 0,
         "tickcolor": "black",
         "tickfont": {
          "color": "black",
          "family": "Arial",
          "size": 16
         },
         "ticklen": 4,
         "ticks": "outside",
         "title": {
          "font": {
           "color": "black",
           "family": "Arial",
           "size": 16
          },
          "standoff": 0,
          "text": "Number of Washes"
         }
        },
        "xaxis2": {
         "anchor": "y",
         "overlaying": "x",
         "range": [
          0,
          4
         ],
         "visible": false
        },
        "yaxis": {
         "linecolor": "black",
         "linewidth": 1,
         "mirror": true,
         "nticks": 10,
         "range": [
          0,
          105
         ],
         "showgrid": false,
         "showline": true,
         "tickangle": 0,
         "tickcolor": "black",
         "tickfont": {
          "color": "black",
          "family": "Arial",
          "size": 16
         },
         "ticklen": 4,
         "ticks": "outside",
         "title": {
          "font": {
           "color": "black",
           "family": "Arial",
           "size": 16
          },
          "standoff": 0,
          "text": "Sterility<br>(% sterile wells)"
         }
        }
       }
      },
      "text/html": [
       "<div>                            <div id=\"9fc3221d-cb97-4490-a79d-9555e70e5945\" class=\"plotly-graph-div\" style=\"height:400px; width:475px;\"></div>            <script type=\"text/javascript\">                require([\"plotly\"], function(Plotly) {                    window.PLOTLYENV=window.PLOTLYENV || {};                                    if (document.getElementById(\"9fc3221d-cb97-4490-a79d-9555e70e5945\")) {                    Plotly.newPlot(                        \"9fc3221d-cb97-4490-a79d-9555e70e5945\",                        [{\"line\": {\"color\": \"#9b5151\", \"dash\": \"dot\", \"width\": 1}, \"mode\": \"lines\", \"name\": \"Required Sterility<br>(100%)\", \"showlegend\": true, \"type\": \"scatter\", \"visible\": true, \"x\": [0.0, 1.1111111111111112, 2.2222222222222223, 3.3333333333333335, 4.444444444444445, 5.555555555555555, 6.666666666666667, 7.777777777777779, 8.88888888888889, 10.0], \"xaxis\": \"x2\", \"y\": [100, 100, 100, 100, 100, 100, 100, 100, 100, 100]}, {\"marker\": {\"color\": \"#b3e2b5\", \"line\": {\"color\": \"black\", \"width\": 0}}, \"name\": \"Hold Time:0\", \"showlegend\": true, \"type\": \"bar\", \"x\": [2, 4, 6], \"y\": [100.0, 100.0, 100.0]}, {\"marker\": {\"color\": \"#73ca76\", \"line\": {\"color\": \"black\", \"width\": 0}}, \"name\": \"Hold Time:2\", \"showlegend\": true, \"type\": \"bar\", \"x\": [2, 4, 6], \"y\": [100.0, 100.0, 100.0]}, {\"marker\": {\"color\": \"#37923b\", \"line\": {\"color\": \"black\", \"width\": 0}}, \"name\": \"Hold Time:4\", \"showlegend\": true, \"type\": \"bar\", \"x\": [2, 4, 6], \"y\": [100.0, 100.0, 100.0]}],                        {\"bargap\": 0.3, \"bargroupgap\": 0.1, \"height\": 400, \"legend\": {\"font\": {\"color\": \"black\", \"family\": \"Arial\", \"size\": 14}, \"orientation\": \"v\", \"y\": 0}, \"showlegend\": true, \"template\": {\"data\": {\"scatter\": [{\"type\": \"scatter\"}]}}, \"width\": 475, \"xaxis\": {\"linecolor\": \"black\", \"linewidth\": 1, \"mirror\": true, \"showgrid\": false, \"showline\": true, \"tickangle\": 0, \"tickcolor\": \"black\", \"tickfont\": {\"color\": \"black\", \"family\": \"Arial\", \"size\": 16}, \"ticklen\": 4, \"ticks\": \"outside\", \"title\": {\"font\": {\"color\": \"black\", \"family\": \"Arial\", \"size\": 16}, \"standoff\": 0, \"text\": \"Number of Washes\"}}, \"xaxis2\": {\"anchor\": \"y\", \"overlaying\": \"x\", \"range\": [0, 4], \"visible\": false}, \"yaxis\": {\"linecolor\": \"black\", \"linewidth\": 1, \"mirror\": true, \"nticks\": 10, \"range\": [0, 105], \"showgrid\": false, \"showline\": true, \"tickangle\": 0, \"tickcolor\": \"black\", \"tickfont\": {\"color\": \"black\", \"family\": \"Arial\", \"size\": 16}, \"ticklen\": 4, \"ticks\": \"outside\", \"title\": {\"font\": {\"color\": \"black\", \"family\": \"Arial\", \"size\": 16}, \"standoff\": 0, \"text\": \"Sterility<br>(% sterile wells)\"}}},                        {\"responsive\": true}                    ).then(function(){\n",
       "                            \n",
       "var gd = document.getElementById('9fc3221d-cb97-4490-a79d-9555e70e5945');\n",
       "var x = new MutationObserver(function (mutations, observer) {{\n",
       "        var display = window.getComputedStyle(gd).display;\n",
       "        if (!display || display === 'none') {{\n",
       "            console.log([gd, 'removed!']);\n",
       "            Plotly.purge(gd);\n",
       "            observer.disconnect();\n",
       "        }}\n",
       "}});\n",
       "\n",
       "// Listen for the removal of the full notebook cells\n",
       "var notebookContainer = gd.closest('#notebook-container');\n",
       "if (notebookContainer) {{\n",
       "    x.observe(notebookContainer, {childList: true});\n",
       "}}\n",
       "\n",
       "// Listen for the clearing of the current output cell\n",
       "var outputEl = gd.closest('.output');\n",
       "if (outputEl) {{\n",
       "    x.observe(outputEl, {childList: true});\n",
       "}}\n",
       "\n",
       "                        })                };                });            </script>        </div>"
      ]
     },
     "metadata": {},
     "output_type": "display_data"
    }
   ],
   "source": [
    "colors = [['#ffb6ad', '#ff7362', '#c13223'],\n",
    "          ['#ffdd91', '#f5be46', '#eda911'],\n",
    "          ['#a8d5ff', '#2797ff', '#0062bd'],\n",
    "          ['#b3e2b5', '#73ca76', '#37923b']]\n",
    "\n",
    "colors = ['#b3e2b5', '#73ca76', '#37923b']\n",
    "\n",
    "for j,air_gap in enumerate(stag_data['stag'].unique()):\n",
    "\n",
    "    trace_list = []\n",
    "    trace_list.append(go.Scatter(y=[100]*10, x=np.linspace(0,10,10),\n",
    "                             name='Required Sterility<br>(100%)',\n",
    "                             mode='lines', line=dict(dash='dot',color='#9b5151',width=1),\n",
    "                             xaxis='x2',showlegend=True, visible=True))\n",
    "    for i,hold_time in enumerate(list(stag_data['hold_time'].unique())):\n",
    "\n",
    "        trace_list.append(go.Bar(x=stag_data[(stag_data['stag']==air_gap) & (stag_data['hold_time']==hold_time)].wash_number.to_list(),\n",
    "                                 y=stag_data[(stag_data['stag']==air_gap) & (stag_data['hold_time']==hold_time)].sterility.to_list(),\n",
    "                                 marker=dict(color=colors[i], line=dict(width=0, color='black')),\n",
    "                                 name='Hold Time:'+str(hold_time), showlegend=True))\n",
    "\n",
    "    layout = go.Layout(height=400, width=475, showlegend=True, bargroupgap=0.1, bargap=0.3,\n",
    "                       legend_orientation='v',legend_y=-0, legend_font=dict(family='Arial', color='black', size=14),\n",
    "                       xaxis2=dict(visible=False, anchor='y', overlaying='x', range=(0,4)),\n",
    "\n",
    "                        xaxis=dict(title_text='Number of Washes', \n",
    "                                   title_font=dict(family='Arial',size=16,color='black'), title_standoff=0,\n",
    "                                   showline=True, linewidth=1, linecolor='black', mirror=True, showgrid=False,\n",
    "                                   ticks='outside', ticklen=4, tickfont=dict(size=16, family='Arial', color='black'),\n",
    "                                   tickangle=-0, tickcolor='black'),\n",
    "\n",
    "                       yaxis=dict(title='Sterility<br>(% sterile wells)',\n",
    "                                  titlefont=dict(family='Arial', size=16, color='black'), title_standoff=0,\n",
    "                                  showline=True, linewidth=1, linecolor='black', mirror=True, showgrid=False,\n",
    "                                  ticks='outside', ticklen=4, tickfont=dict(family='Arial',size=16, color='black'),\n",
    "                                  tickangle=0, nticks=10, tickcolor='black',range=(0,105)))\n",
    "\n",
    "    fig = go.Figure(data=trace_list,layout=layout)\n",
    "    plot(fig)\n",
    "    #pio.write_image(fig,\"Figures/fig1_d_\"+str(air_gap)+\".svg\",format='svg')\n"
   ]
  },
  {
   "cell_type": "markdown",
   "id": "legal-coaching",
   "metadata": {},
   "source": [
    "### Plot air gap variation data - Decontamination with different air gaps (Supplementary Fig. S1C)"
   ]
  },
  {
   "cell_type": "code",
   "execution_count": 6,
   "id": "bottom-glucose",
   "metadata": {},
   "outputs": [
    {
     "data": {
      "application/vnd.plotly.v1+json": {
       "config": {
        "linkText": "Export to plot.ly",
        "plotlyServerURL": "https://plot.ly",
        "showLink": false
       },
       "data": [
        {
         "line": {
          "color": "#9b5151",
          "dash": "dot",
          "width": 1
         },
         "mode": "lines",
         "name": "Required Sterility<br>(100%)",
         "showlegend": true,
         "type": "scatter",
         "visible": true,
         "x": [
          0,
          1.1111111111111112,
          2.2222222222222223,
          3.3333333333333335,
          4.444444444444445,
          5.555555555555555,
          6.666666666666667,
          7.777777777777779,
          8.88888888888889,
          10
         ],
         "xaxis": "x2",
         "y": [
          100,
          100,
          100,
          100,
          100,
          100,
          100,
          100,
          100,
          100
         ]
        },
        {
         "marker": {
          "color": [
           "#a8d5ff",
           "#71baff",
           "#2797ff",
           "#0062bd"
          ],
          "line": {
           "color": "black",
           "width": 0
          }
         },
         "name": "Contamination Rate<br>(% contaminated wells)",
         "orientation": "v",
         "showlegend": false,
         "type": "bar",
         "x": [
          0,
          50,
          100,
          250
         ],
         "y": [
          36.11111111111111,
          86.11111111111111,
          93.05555555555556,
          100
         ]
        }
       ],
       "layout": {
        "bargap": 0.6,
        "height": 400,
        "legend": {
         "font": {
          "color": "black",
          "family": "Arial",
          "size": 14
         },
         "orientation": "v"
        },
        "showlegend": true,
        "template": {
         "data": {
          "scatter": [
           {
            "type": "scatter"
           }
          ]
         }
        },
        "width": 475,
        "xaxis": {
         "automargin": true,
         "linecolor": "black",
         "linewidth": 1,
         "mirror": true,
         "showgrid": false,
         "showline": true,
         "tickangle": 0,
         "tickcolor": "black",
         "tickfont": {
          "color": "black",
          "family": "Arial",
          "size": 16
         },
         "ticklen": 4,
         "ticks": "outside",
         "title": {
          "font": {
           "color": "black",
           "family": "Arial",
           "size": 16
          },
          "standoff": 0,
          "text": "AirGap (μL)"
         },
         "type": "category"
        },
        "xaxis2": {
         "anchor": "y",
         "overlaying": "x",
         "range": [
          0,
          4
         ],
         "visible": false
        },
        "yaxis": {
         "linecolor": "black",
         "linewidth": 1,
         "mirror": true,
         "nticks": 10,
         "range": [
          0,
          105
         ],
         "showgrid": false,
         "showline": true,
         "tickangle": 0,
         "tickcolor": "black",
         "tickfont": {
          "color": "black",
          "family": "Arial",
          "size": 16
         },
         "ticklen": 4,
         "ticks": "outside",
         "title": {
          "font": {
           "color": "black",
           "family": "Arial",
           "size": 16
          },
          "standoff": 0,
          "text": "Sterility<br>(% sterile wells)"
         }
        }
       }
      },
      "text/html": [
       "<div>                            <div id=\"dfe58a6d-e91f-440e-afe9-db800065f4ae\" class=\"plotly-graph-div\" style=\"height:400px; width:475px;\"></div>            <script type=\"text/javascript\">                require([\"plotly\"], function(Plotly) {                    window.PLOTLYENV=window.PLOTLYENV || {};                                    if (document.getElementById(\"dfe58a6d-e91f-440e-afe9-db800065f4ae\")) {                    Plotly.newPlot(                        \"dfe58a6d-e91f-440e-afe9-db800065f4ae\",                        [{\"line\": {\"color\": \"#9b5151\", \"dash\": \"dot\", \"width\": 1}, \"mode\": \"lines\", \"name\": \"Required Sterility<br>(100%)\", \"showlegend\": true, \"type\": \"scatter\", \"visible\": true, \"x\": [0.0, 1.1111111111111112, 2.2222222222222223, 3.3333333333333335, 4.444444444444445, 5.555555555555555, 6.666666666666667, 7.777777777777779, 8.88888888888889, 10.0], \"xaxis\": \"x2\", \"y\": [100, 100, 100, 100, 100, 100, 100, 100, 100, 100]}, {\"marker\": {\"color\": [\"#a8d5ff\", \"#71baff\", \"#2797ff\", \"#0062bd\"], \"line\": {\"color\": \"black\", \"width\": 0}}, \"name\": \"Contamination Rate<br>(% contaminated wells)\", \"orientation\": \"v\", \"showlegend\": false, \"type\": \"bar\", \"x\": [0, 50, 100, 250], \"y\": [36.11111111111111, 86.11111111111111, 93.05555555555556, 100.0]}],                        {\"bargap\": 0.6, \"height\": 400, \"legend\": {\"font\": {\"color\": \"black\", \"family\": \"Arial\", \"size\": 14}, \"orientation\": \"v\"}, \"showlegend\": true, \"template\": {\"data\": {\"scatter\": [{\"type\": \"scatter\"}]}}, \"width\": 475, \"xaxis\": {\"automargin\": true, \"linecolor\": \"black\", \"linewidth\": 1, \"mirror\": true, \"showgrid\": false, \"showline\": true, \"tickangle\": 0, \"tickcolor\": \"black\", \"tickfont\": {\"color\": \"black\", \"family\": \"Arial\", \"size\": 16}, \"ticklen\": 4, \"ticks\": \"outside\", \"title\": {\"font\": {\"color\": \"black\", \"family\": \"Arial\", \"size\": 16}, \"standoff\": 0, \"text\": \"AirGap (\\u03bcL)\"}, \"type\": \"category\"}, \"xaxis2\": {\"anchor\": \"y\", \"overlaying\": \"x\", \"range\": [0, 4], \"visible\": false}, \"yaxis\": {\"linecolor\": \"black\", \"linewidth\": 1, \"mirror\": true, \"nticks\": 10, \"range\": [0, 105], \"showgrid\": false, \"showline\": true, \"tickangle\": 0, \"tickcolor\": \"black\", \"tickfont\": {\"color\": \"black\", \"family\": \"Arial\", \"size\": 16}, \"ticklen\": 4, \"ticks\": \"outside\", \"title\": {\"font\": {\"color\": \"black\", \"family\": \"Arial\", \"size\": 16}, \"standoff\": 0, \"text\": \"Sterility<br>(% sterile wells)\"}}},                        {\"responsive\": true}                    ).then(function(){\n",
       "                            \n",
       "var gd = document.getElementById('dfe58a6d-e91f-440e-afe9-db800065f4ae');\n",
       "var x = new MutationObserver(function (mutations, observer) {{\n",
       "        var display = window.getComputedStyle(gd).display;\n",
       "        if (!display || display === 'none') {{\n",
       "            console.log([gd, 'removed!']);\n",
       "            Plotly.purge(gd);\n",
       "            observer.disconnect();\n",
       "        }}\n",
       "}});\n",
       "\n",
       "// Listen for the removal of the full notebook cells\n",
       "var notebookContainer = gd.closest('#notebook-container');\n",
       "if (notebookContainer) {{\n",
       "    x.observe(notebookContainer, {childList: true});\n",
       "}}\n",
       "\n",
       "// Listen for the clearing of the current output cell\n",
       "var outputEl = gd.closest('.output');\n",
       "if (outputEl) {{\n",
       "    x.observe(outputEl, {childList: true});\n",
       "}}\n",
       "\n",
       "                        })                };                });            </script>        </div>"
      ]
     },
     "metadata": {},
     "output_type": "display_data"
    }
   ],
   "source": [
    "colors = ['#ffb6ad','#ffdd91','#a8d5ff','#b3e2b5']\n",
    "colors = ['#ff7362', '#f5be46', '#2797ff', '#73ca76']\n",
    "colors = ['#a8d5ff','#71baff', '#2797ff','#0062bd']\n",
    "\n",
    "stag_group=stag_data.groupby('stag').agg('sum')[['total_wells','wells_contaminated']]\n",
    "disinfectants = ['12% Sodium<br>hypochlorite',  '6% Sodium<br>hypochlorite',\n",
    "                 '3% Sodium<br>hypochlorite', 'Water']\n",
    "\n",
    "trace_list = []\n",
    "trace_list.append(go.Scatter(y=[100]*10, x=np.linspace(0,10,10),\n",
    "                         name='Required Sterility<br>(100%)',\n",
    "                         mode='lines', line=dict(dash='dot',color='#9b5151',width=1),\n",
    "                         xaxis='x2',showlegend=True, visible=True))\n",
    "trace_list.append(go.Bar(x=stag_group.index,\n",
    "                         y=(stag_group.total_wells - stag_group.wells_contaminated)/stag_group.total_wells*100,\n",
    "                         marker=dict(color=colors, line=dict(width=0, color='black')),\n",
    "                         name='Contamination Rate<br>(% contaminated wells)', showlegend=False,\n",
    "                         orientation='v'))\n",
    "\n",
    "layout = go.Layout(height=400, width=475, showlegend=True, bargap=0.6, \n",
    "                   legend_orientation='v', legend_font=dict(family='Arial', color='black', size=14),\n",
    "                    xaxis2=dict(visible=False, anchor='y', overlaying='x', range=(0,4)),\n",
    "\n",
    "                    xaxis=dict(title_text='AirGap (\\u03BCL)', \n",
    "                               title_font=dict(family='Arial',size=16,color='black'), title_standoff=0, automargin=True,\n",
    "                               showline=True, linewidth=1, linecolor='black', mirror=True, showgrid=False,\n",
    "                               ticks='outside', ticklen=4, tickfont=dict(size=16, family='Arial', color='black'),\n",
    "                               tickangle=-0, tickcolor='black',type='category'),\n",
    "\n",
    "                   yaxis=dict(title='Sterility<br>(% sterile wells)',\n",
    "                              titlefont=dict(family='Arial', size=16, color='black'), title_standoff=0,\n",
    "                              showline=True, linewidth=1, linecolor='black', mirror=True, showgrid=False,\n",
    "                              ticks='outside', ticklen=4, tickfont=dict(family='Arial',size=16, color='black'),\n",
    "                              nticks=10, tickangle=0, tickcolor='black',range=(0,105)))\n",
    "\n",
    "fig = go.Figure(data=trace_list,layout=layout)\n",
    "plot(fig)\n",
    "#pio.write_image(fig,\"Figures/fig_airgapeffect.svg\",format='svg')\n",
    "\n"
   ]
  },
  {
   "cell_type": "markdown",
   "id": "cross-payday",
   "metadata": {},
   "source": [
    "### Final decontamination test with 250 $\\mu$L air gap and 2 washes, 0 hold time. Figure 2E.###"
   ]
  },
  {
   "cell_type": "code",
   "execution_count": 7,
   "id": "mature-queen",
   "metadata": {},
   "outputs": [
    {
     "data": {
      "application/vnd.plotly.v1+json": {
       "config": {
        "linkText": "Export to plot.ly",
        "plotlyServerURL": "https://plot.ly",
        "showLink": false
       },
       "data": [
        {
         "line": {
          "color": "#9b5151",
          "dash": "dot",
          "width": 1
         },
         "mode": "lines",
         "showlegend": false,
         "type": "scatter",
         "visible": true,
         "x": [
          100,
          100,
          100,
          100,
          100,
          100,
          100,
          100,
          100,
          100
         ],
         "y": [
          0,
          1.1111111111111112,
          2.2222222222222223,
          3.3333333333333335,
          4.444444444444445,
          5.555555555555555,
          6.666666666666667,
          7.777777777777779,
          8.88888888888889,
          10
         ],
         "yaxis": "y2"
        },
        {
         "marker": {
          "color": [
           "#a8d5ff",
           "#0062bd",
           "#a8d5ff",
           "#71baff",
           "#2797ff",
           "#0062bd"
          ],
          "line": {
           "color": "black",
           "width": 0
          }
         },
         "name": "Contamination Rate<br>(% contaminated wells)",
         "orientation": "h",
         "showlegend": false,
         "type": "bar",
         "x": [
          0,
          100,
          98.61111111111111,
          100,
          100,
          100
         ],
         "y": [
          "Water",
          "70% Ethanol",
          "3% Sodium<br>hypochlorite",
          "6% Sodium<br>hypochlorite",
          "9% Sodium<br>hypochlorite",
          "12% Sodium<br>hypochlorite"
         ]
        }
       ],
       "layout": {
        "bargap": 0.5,
        "height": 400,
        "legend": {
         "orientation": "h"
        },
        "showlegend": true,
        "template": {
         "data": {
          "scatter": [
           {
            "type": "scatter"
           }
          ]
         }
        },
        "width": 375,
        "xaxis": {
         "linecolor": "black",
         "linewidth": 1,
         "mirror": true,
         "nticks": 10,
         "range": [
          0,
          105
         ],
         "showgrid": false,
         "showline": true,
         "tickangle": 0,
         "tickcolor": "black",
         "tickfont": {
          "color": "black",
          "family": "Arial",
          "size": 14
         },
         "ticklen": 4,
         "ticks": "outside",
         "title": {
          "font": {
           "color": "black",
           "family": "Arial",
           "size": 16
          },
          "standoff": 0,
          "text": "Sterility<br>(% sterile wells)"
         }
        },
        "yaxis": {
         "automargin": true,
         "linecolor": "black",
         "linewidth": 1,
         "mirror": true,
         "showgrid": false,
         "showline": true,
         "tickangle": 0,
         "tickcolor": "black",
         "tickfont": {
          "color": "black",
          "family": "Arial",
          "size": 12
         },
         "ticklen": 4,
         "ticks": "outside",
         "tickvals": [
          "12% Sodium<br>hypochlorite",
          "9% Sodium<br>hypochlorite",
          "6% Sodium<br>hypochlorite",
          "3% Sodium<br>hypochlorite",
          "70% Ethanol",
          "Water"
         ],
         "title": {
          "font": {
           "color": "black",
           "family": "Arial",
           "size": 16
          },
          "standoff": 0,
          "text": "Disinfectant"
         }
        },
        "yaxis2": {
         "anchor": "x",
         "overlaying": "y",
         "range": [
          0,
          10
         ],
         "visible": false
        }
       }
      },
      "text/html": [
       "<div>                            <div id=\"cbd5b95a-355d-4bc9-b3f8-31cee82514e6\" class=\"plotly-graph-div\" style=\"height:400px; width:375px;\"></div>            <script type=\"text/javascript\">                require([\"plotly\"], function(Plotly) {                    window.PLOTLYENV=window.PLOTLYENV || {};                                    if (document.getElementById(\"cbd5b95a-355d-4bc9-b3f8-31cee82514e6\")) {                    Plotly.newPlot(                        \"cbd5b95a-355d-4bc9-b3f8-31cee82514e6\",                        [{\"line\": {\"color\": \"#9b5151\", \"dash\": \"dot\", \"width\": 1}, \"mode\": \"lines\", \"showlegend\": false, \"type\": \"scatter\", \"visible\": true, \"x\": [100, 100, 100, 100, 100, 100, 100, 100, 100, 100], \"y\": [0.0, 1.1111111111111112, 2.2222222222222223, 3.3333333333333335, 4.444444444444445, 5.555555555555555, 6.666666666666667, 7.777777777777779, 8.88888888888889, 10.0], \"yaxis\": \"y2\"}, {\"marker\": {\"color\": [\"#a8d5ff\", \"#0062bd\", \"#a8d5ff\", \"#71baff\", \"#2797ff\", \"#0062bd\"], \"line\": {\"color\": \"black\", \"width\": 0}}, \"name\": \"Contamination Rate<br>(% contaminated wells)\", \"orientation\": \"h\", \"showlegend\": false, \"type\": \"bar\", \"x\": [0.0, 100.0, 98.61111111111111, 100.0, 100.0, 100.0], \"y\": [\"Water\", \"70% Ethanol\", \"3% Sodium<br>hypochlorite\", \"6% Sodium<br>hypochlorite\", \"9% Sodium<br>hypochlorite\", \"12% Sodium<br>hypochlorite\"]}],                        {\"bargap\": 0.5, \"height\": 400, \"legend\": {\"orientation\": \"h\"}, \"showlegend\": true, \"template\": {\"data\": {\"scatter\": [{\"type\": \"scatter\"}]}}, \"width\": 375, \"xaxis\": {\"linecolor\": \"black\", \"linewidth\": 1, \"mirror\": true, \"nticks\": 10, \"range\": [0, 105], \"showgrid\": false, \"showline\": true, \"tickangle\": 0, \"tickcolor\": \"black\", \"tickfont\": {\"color\": \"black\", \"family\": \"Arial\", \"size\": 14}, \"ticklen\": 4, \"ticks\": \"outside\", \"title\": {\"font\": {\"color\": \"black\", \"family\": \"Arial\", \"size\": 16}, \"standoff\": 0, \"text\": \"Sterility<br>(% sterile wells)\"}}, \"yaxis\": {\"automargin\": true, \"linecolor\": \"black\", \"linewidth\": 1, \"mirror\": true, \"showgrid\": false, \"showline\": true, \"tickangle\": 0, \"tickcolor\": \"black\", \"tickfont\": {\"color\": \"black\", \"family\": \"Arial\", \"size\": 12}, \"ticklen\": 4, \"ticks\": \"outside\", \"tickvals\": [\"12% Sodium<br>hypochlorite\", \"9% Sodium<br>hypochlorite\", \"6% Sodium<br>hypochlorite\", \"3% Sodium<br>hypochlorite\", \"70% Ethanol\", \"Water\"], \"title\": {\"font\": {\"color\": \"black\", \"family\": \"Arial\", \"size\": 16}, \"standoff\": 0, \"text\": \"Disinfectant\"}}, \"yaxis2\": {\"anchor\": \"x\", \"overlaying\": \"y\", \"range\": [0, 10], \"visible\": false}},                        {\"responsive\": true}                    ).then(function(){\n",
       "                            \n",
       "var gd = document.getElementById('cbd5b95a-355d-4bc9-b3f8-31cee82514e6');\n",
       "var x = new MutationObserver(function (mutations, observer) {{\n",
       "        var display = window.getComputedStyle(gd).display;\n",
       "        if (!display || display === 'none') {{\n",
       "            console.log([gd, 'removed!']);\n",
       "            Plotly.purge(gd);\n",
       "            observer.disconnect();\n",
       "        }}\n",
       "}});\n",
       "\n",
       "// Listen for the removal of the full notebook cells\n",
       "var notebookContainer = gd.closest('#notebook-container');\n",
       "if (notebookContainer) {{\n",
       "    x.observe(notebookContainer, {childList: true});\n",
       "}}\n",
       "\n",
       "// Listen for the clearing of the current output cell\n",
       "var outputEl = gd.closest('.output');\n",
       "if (outputEl) {{\n",
       "    x.observe(outputEl, {childList: true});\n",
       "}}\n",
       "\n",
       "                        })                };                });            </script>        </div>"
      ]
     },
     "metadata": {},
     "output_type": "display_data"
    }
   ],
   "source": [
    "vary_disinf_stag250 = contam_data[contam_data['stag']==250][:6]\n",
    "\n",
    "colors = list(reversed(['#0062bd','#2797ff','#71baff', '#a8d5ff','#0062bd','#a8d5ff']))\n",
    "\n",
    "disinfectants = ['12% Sodium<br>hypochlorite',  '9% Sodium<br>hypochlorite', '6% Sodium<br>hypochlorite',\n",
    "                 '3% Sodium<br>hypochlorite', '70% Ethanol', 'Water']\n",
    "\n",
    "trace_list = []\n",
    "trace_list.append(go.Scatter(x=[100]*10, y=np.linspace(0,10,10),\n",
    "                             mode='lines', line=dict(dash='dot',color='#9b5151',width=1),\n",
    "                             yaxis='y2',showlegend=False, visible=True))\n",
    "\n",
    "trace_list.append(go.Bar(y=list(reversed(disinfectants)), x=list(reversed(list(vary_disinf_stag250['sterility']))),\n",
    "                         marker=dict(color=colors, line=dict(width=0, color='black')),\n",
    "                         name='Contamination Rate<br>(% contaminated wells)', showlegend=False,\n",
    "                         orientation='h'))\n",
    "\n",
    "layout = go.Layout(height=400, width=375, showlegend=True, bargap=0.5, \n",
    "                   legend_orientation='h',\n",
    "                   yaxis2=dict(visible=False, anchor='x', overlaying='y', range=(0,10)),\n",
    "\n",
    "                    yaxis=dict(title_text='Disinfectant', \n",
    "                               title_font=dict(family='Arial',size=16,color='black'), title_standoff=0, automargin=True,\n",
    "                               showline=True, linewidth=1, linecolor='black', mirror=True, showgrid=False,\n",
    "                               ticks='outside', ticklen=4, tickfont=dict(size=12, family='Arial', color='black'),\n",
    "                               tickangle=-0, tickcolor='black', tickvals=disinfectants),\n",
    "\n",
    "                   xaxis=dict(title='Sterility<br>(% sterile wells)',\n",
    "                              titlefont=dict(family='Arial', size=16, color='black'), title_standoff=0,\n",
    "                              showline=True, linewidth=1, linecolor='black', mirror=True, showgrid=False,\n",
    "                              ticks='outside', ticklen=4, tickfont=dict(family='Arial',size=14, color='black'),\n",
    "                              nticks=10, tickangle=0, tickcolor='black',range=(0,105)))\n",
    "\n",
    "fig = go.Figure(data=trace_list,layout=layout)\n",
    "plot(fig)\n",
    "\n",
    "\n",
    "#pio.write_image(fig,\"Figures/fig1_last.svg\",format='svg')\n"
   ]
  }
 ],
 "metadata": {
  "kernelspec": {
   "display_name": "Python [conda env:default]",
   "language": "python",
   "name": "conda-env-default-py"
  },
  "language_info": {
   "codemirror_mode": {
    "name": "ipython",
    "version": 3
   },
   "file_extension": ".py",
   "mimetype": "text/x-python",
   "name": "python",
   "nbconvert_exporter": "python",
   "pygments_lexer": "ipython3",
   "version": "3.7.6"
  }
 },
 "nbformat": 4,
 "nbformat_minor": 5
}
