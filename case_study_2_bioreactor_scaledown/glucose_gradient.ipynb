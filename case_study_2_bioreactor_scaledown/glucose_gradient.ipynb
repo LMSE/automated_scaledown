{
 "cells": [
  {
   "cell_type": "markdown",
   "id": "graphic-opinion",
   "metadata": {},
   "source": [
    "# Comparison of glucose gradient microplate tests with bioreactor test #\n",
    "\n",
    "### Notebook to generate Figs 6b, 6c, Supplementary Figs.S8, S9 ###"
   ]
  },
  {
   "cell_type": "code",
   "execution_count": 970,
   "id": "under-hierarchy",
   "metadata": {},
   "outputs": [
    {
     "data": {
      "text/html": [
       "        <script type=\"text/javascript\">\n",
       "        window.PlotlyConfig = {MathJaxConfig: 'local'};\n",
       "        if (window.MathJax) {MathJax.Hub.Config({SVG: {font: \"STIX-Web\"}});}\n",
       "        if (typeof require !== 'undefined') {\n",
       "        require.undef(\"plotly\");\n",
       "        requirejs.config({\n",
       "            paths: {\n",
       "                'plotly': ['https://cdn.plot.ly/plotly-latest.min']\n",
       "            }\n",
       "        });\n",
       "        require(['plotly'], function(Plotly) {\n",
       "            window._Plotly = Plotly;\n",
       "        });\n",
       "        }\n",
       "        </script>\n",
       "        "
      ]
     },
     "metadata": {},
     "output_type": "display_data"
    }
   ],
   "source": [
    "#Import necessary modules\n",
    "\n",
    "import impact as                             impt\n",
    "import impact.plotting as                    implot\n",
    "from impact.parsers import Parser as parser\n",
    "from sklearn.manifold import TSNE\n",
    "import pandas as pd\n",
    "from scipy.stats import linregress, ttest_ind\n",
    "import numpy as np\n",
    "import sys\n",
    "from plotly import tools, subplots\n",
    "import plotly.graph_objs as go\n",
    "import pickle\n",
    "import plotly.io as pio\n",
    "from plotly.subplots import make_subplots\n",
    "from sklearn.decomposition import PCA\n",
    "from sklearn.preprocessing import StandardScaler\n",
    "pio.templates.default = \"none\"\n",
    "import plotly\n",
    "if 'ipykernel' in sys.modules:\n",
    "    from plotly.offline import init_notebook_mode\n",
    "    from plotly.offline import iplot as plot\n",
    "    from IPython.display import HTML\n",
    "    HTML(\"\"\"\n",
    "         <script>\n",
    "          var waitForPlotly = setInterval( function() {\n",
    "          if( typeof(window.Plotly) !== \"undefined\" ){\n",
    "          MathJax.Hub.Config({ SVG: { font: \"STIX-Web\" }, displayAlign: \"center\" });\n",
    "          MathJax.Hub.Queue([\"setRenderer\", MathJax.Hub, \"SVG\"]);\n",
    "          clearInterval(waitForPlotly);}}, 250 );\n",
    "        </script>\n",
    "        \"\"\"\n",
    "    )\n",
    "    init_notebook_mode(connected=True)"
   ]
  },
  {
   "cell_type": "code",
   "execution_count": 971,
   "id": "behavioral-mozambique",
   "metadata": {},
   "outputs": [],
   "source": [
    "impt.settings.perform_curve_fit = False\n",
    "impt.settings.fit_type = 'gompertz'\n",
    "impt.settings.outlier_cleaning_flag = True\n",
    "impt.settings.max_fraction_replicates_to_remove = 0.5\n",
    "impt.settings.std_deviation_cutoff=0.1\n",
    "impt.settings.verbose = False\n",
    "impt.settings.live_calculations = False\n",
    "impt.settings.use_filtered_data = True\n",
    "\n",
    "impt.settings.death_phase_hyperparameter = 4\n",
    "impt.settings.savgolFilterWindowSize = 9"
   ]
  },
  {
   "cell_type": "markdown",
   "id": "final-delight",
   "metadata": {},
   "source": [
    "### Load raw data ###"
   ]
  },
  {
   "cell_type": "code",
   "execution_count": 972,
   "id": "extreme-property",
   "metadata": {},
   "outputs": [
    {
     "name": "stdout",
     "output_type": "stream",
     "text": [
      "\n",
      "Importing data from GlucoseGradient_02022021.xlsx...0.1s\n",
      "Parsing time point list...Parsed 4896 time points in 0.5s\n",
      "Parsing analyte list...Parsed 96 single trials in 324.1ms\n",
      "Parsing single trial list...Parsed 30 replicates in 0.1s\n",
      "Analyzing data...Ran analysis in 1.7s\n",
      "\n",
      "\n",
      "Importing data from GlucoseGradient_Titers_02022021.xlsx...0.0s\n",
      "Parsed 546 timeCourseObjects in 0.668s...Number of lines skipped:  4\n",
      "Parsing time point list...Parsed 546 time points in 0.2s\n",
      "Parsing analyte list...Parsed 91 single trials in 1538.1ms\n",
      "Parsing single trial list...Parsed 30 replicates in 0.1s\n",
      "Analyzing data..."
     ]
    },
    {
     "name": "stderr",
     "output_type": "stream",
     "text": [
      "c:\\users\\user\\onedrive - university of toronto\\research\\phd_uoft\\python\\impact\\impact\\core\\features\\ProductYield.py:22: RuntimeWarning:\n",
      "\n",
      "invalid value encountered in true_divide\n",
      "\n"
     ]
    },
    {
     "name": "stdout",
     "output_type": "stream",
     "text": [
      "Ran analysis in 2.9s\n",
      "\n",
      "\n",
      "Importing data from Bioreactor_Data.xlsx...0.0s\n",
      "Parsed 189 timeCourseObjects in 0.068s...Number of lines skipped:  0\n",
      "Parsing time point list...Parsed 189 time points in 0.0s\n",
      "Parsing analyte list...Parsed 4 single trials in 42.6ms\n",
      "Parsing single trial list...Parsed 4 replicates in 0.0s\n",
      "Analyzing data...No blanks were indicated. Blank subtraction will not be done.Ran analysis in 0.1s\n",
      "\n"
     ]
    }
   ],
   "source": [
    "data_format='spectromax_OD'\n",
    "plate_type = '96 Wells'\n",
    "file_name = 'GlucoseGradient_02022021.xlsx'\n",
    "glc_od = parser.parse_raw_data(data_format=data_format,file_name=file_name,plate_type=plate_type)\n",
    "glc_od.calculate()\n",
    "\n",
    "\n",
    "data_format='default_titers'\n",
    "plate_type = '96 Wells'\n",
    "file_name = 'GlucoseGradient_Titers_02022021.xlsx'\n",
    "glc_titers = parser.parse_raw_data(data_format=data_format,file_name=file_name,plate_type=plate_type,id_type='traverse')\n",
    "glc_titers.calculate()\n",
    "\n",
    "\n",
    "data_format='default_titers'\n",
    "plate_type = None\n",
    "file_name = 'Bioreactor_Data.xlsx'\n",
    "reactor = parser.parse_raw_data(data_format=data_format,file_name=file_name,id_type='traverse')\n",
    "reactor.calculate()"
   ]
  },
  {
   "cell_type": "markdown",
   "id": "fresh-expert",
   "metadata": {},
   "source": [
    "### Write functions to extract required analytes (yields of acetate, formate, lactate, pyruvate, succinate, growth rate and biomass yield) ###"
   ]
  },
  {
   "cell_type": "code",
   "execution_count": 973,
   "id": "decimal-xerox",
   "metadata": {},
   "outputs": [],
   "source": [
    "def average_exponential_specific_productivity(replicate_trial):\n",
    "    growth_rates = []\n",
    "    for single_trial in replicate_trial.single_trials:\n",
    "        OD600 = single_trial.analyte_dict['OD600'].pd_series\n",
    "        growth_second_gradient = np.gradient(single_trial.analyte_dict['OD600'].specific_productivity.data)\n",
    "        end_index = 18+np.argmax(growth_second_gradient[18:]>=-0.005)\n",
    "        if single_trial.analyte_dict['OD600'].specific_productivity.data[end_index]<=0.05 or single_trial.analyte_dict['OD600'].specific_productivity.data[end_index]>=0.2:\n",
    "            end_index = 18+np.argmax(single_trial.analyte_dict['OD600'].specific_productivity.data[18:]<=0.05)\n",
    "        start_index = 3+np.argmax(single_trial.analyte_dict['OD600'].specific_productivity.data[3:])\n",
    "        growth_rates.append(np.average(single_trial.analyte_dict['OD600'].specific_productivity.data[start_index:end_index]))\n",
    "    return growth_rates\n",
    "\n",
    "\n",
    "def average_exponential_specific_productivity_singletrial(replicate_trial):\n",
    "    growth_rates = {}\n",
    "    for single_trial in replicate_trial.single_trials:\n",
    "        OD600 = single_trial.analyte_dict['OD600'].pd_series\n",
    "        growth_second_gradient = np.gradient(single_trial.analyte_dict['OD600'].specific_productivity.data)\n",
    "        end_index = 18+np.argmax(growth_second_gradient[18:]>=-0.005)\n",
    "        if single_trial.analyte_dict['OD600'].specific_productivity.data[end_index]<=0.05 or single_trial.analyte_dict['OD600'].specific_productivity.data[end_index]>=0.2:\n",
    "            end_index = 18+np.argmax(single_trial.analyte_dict['OD600'].specific_productivity.data[18:]<=0.05)\n",
    "        start_index = 3+np.argmax(single_trial.analyte_dict['OD600'].specific_productivity.data[3:])\n",
    "        growth_rate = np.average(single_trial.analyte_dict['OD600'].specific_productivity.data[start_index:end_index])\n",
    "        growth_rates[str(single_trial.trial_identifier.replicate_id)] = growth_rate\n",
    "    return growth_rates\n",
    "\n",
    "\n",
    "\n",
    "def end_point_biomass(replicate_trial):\n",
    "    end_point_od = []\n",
    "    for single_trial in replicate_trial.single_trials:\n",
    "        OD600 = single_trial.analyte_dict['OD600'].pd_series\n",
    "        growth_second_gradient = np.gradient(single_trial.analyte_dict['OD600'].specific_productivity.data)\n",
    "        end_index = 18+np.argmax(growth_second_gradient[18:]>=-0.005)\n",
    "        if single_trial.analyte_dict['OD600'].specific_productivity.data[end_index]<=0.05 or single_trial.analyte_dict['OD600'].specific_productivity.data[end_index]>=0.2:\n",
    "            end_index = 18+np.argmax(single_trial.analyte_dict['OD600'].specific_productivity.data[18:]<=0.05)\n",
    "        end_point_od.append(single_trial.analyte_dict['OD600'].pd_series.iloc[end_index] - \n",
    "                            single_trial.analyte_dict['OD600'].pd_series.iloc[0])\n",
    "    return end_point_od\n",
    "\n",
    "\n",
    "\n",
    "def end_point_biomass_singletrial(replicate_trial):\n",
    "    end_point_od = {}\n",
    "    for single_trial in replicate_trial.single_trials:\n",
    "        OD600 = single_trial.analyte_dict['OD600'].pd_series\n",
    "        growth_second_gradient = np.gradient(single_trial.analyte_dict['OD600'].specific_productivity.data)\n",
    "        end_index = 18+np.argmax(growth_second_gradient[18:]>=-0.005)\n",
    "        if single_trial.analyte_dict['OD600'].specific_productivity.data[end_index]<=0.05 or single_trial.analyte_dict['OD600'].specific_productivity.data[end_index]>=0.2:\n",
    "            end_index = 18+np.argmax(single_trial.analyte_dict['OD600'].specific_productivity.data[18:]<=0.05)\n",
    "        end_point_od[str(single_trial.trial_identifier.replicate_id)] = single_trial.analyte_dict['OD600'].pd_series.iloc[end_index] - single_trial.analyte_dict['OD600'].pd_series.iloc[0]\n",
    "    return end_point_od\n",
    "\n",
    "\n",
    "\n",
    "\n",
    "def yield_calculator(reps, hplc_timepoint=-1, od_timepoint=-1):\n",
    "    od_rep, hplc_rep = reps\n",
    "    y_vals = []\n",
    "    y_errs = []\n",
    "    mass_dict = {'Lactate':89.078,\n",
    "             'Acetate':59.052,\n",
    "             'Formate':45.025,\n",
    "             'Succinate':116.088,\n",
    "             'Pyruvate':87.06,\n",
    "             'Glucose':180.156}\n",
    "\n",
    "    for analyte in analyte_list:\n",
    "        \n",
    "        #For analytes\n",
    "        if analyte not in ['Growth Rate', 'Biomass']:\n",
    "            #For plate expt\n",
    "            if hplc_rep.blank:\n",
    "                y = -hplc_rep.avg.analyte_dict[analyte].pd_series.iloc[hplc_timepoint]/hplc_rep.avg.analyte_dict['Glucose'].pd_series.iloc[hplc_timepoint] * (mass_dict['Glucose']/mass_dict[analyte])\n",
    "                y_err =  y*np.sqrt((hplc_rep.std.analyte_dict[analyte].pd_series.iloc[hplc_timepoint]/hplc_rep.avg.analyte_dict[analyte].pd_series.iloc[hplc_timepoint])**2 + (hplc_rep.std.analyte_dict['Glucose'].pd_series.iloc[hplc_timepoint]/hplc_rep.avg.analyte_dict['Glucose'].pd_series.iloc[hplc_timepoint])**2)            #For bioreactor expt\n",
    "            else:\n",
    "                y = hplc_rep.avg.analyte_dict[analyte].pd_series[:hplc_timepoint].iloc[-1]/(hplc_rep.avg.analyte_dict['Glucose'].pd_series[0] - hplc_rep.avg.analyte_dict['Glucose'].pd_series[:hplc_timepoint].iloc[-1]) * (mass_dict['Glucose']/mass_dict[analyte])\n",
    "                y_err = 0\n",
    "        \n",
    "        #For growth rate\n",
    "        elif analyte=='Growth Rate':\n",
    "            #For plate expt\n",
    "            if od_rep.blank:\n",
    "                specific_prod = average_exponential_specific_productivity(od_rep) \n",
    "                y = np.average(specific_prod)\n",
    "                y_err = np.std(specific_prod)\n",
    "\n",
    "            #For bioreactor expt\n",
    "            else:\n",
    "                y = np.average(np.gradient(od_rep.avg.analyte_dict['OD600'].pd_series[:od_timepoint].values)/np.gradient(od_rep.avg.analyte_dict['OD600'].pd_series[:od_timepoint].index.values)/od_rep.avg.analyte_dict['OD600'].pd_series[:od_timepoint].values)\n",
    "                y_err = 0\n",
    "        \n",
    "                \n",
    "        #For biomass yield\n",
    "        elif analyte=='Biomass':\n",
    "            #For plate expt\n",
    "            if od_rep.blank:\n",
    "                end_point_ods = end_point_biomass(od_rep)\n",
    "                y = -np.average(end_point_ods)/hplc_rep.avg.analyte_dict['Glucose'].pd_series.iloc[od_timepoint] * (0.3) #0.3 g/L dry weight of cells in 1 unit of OD600\n",
    "                y_err = np.std(end_point_ods)\n",
    "                y_err = y*np.sqrt((y_err/np.average(end_point_ods))**2 + \n",
    "                                  (hplc_rep.std.analyte_dict['Glucose'].pd_series.iloc[od_timepoint]/hplc_rep.avg.analyte_dict['Glucose'].pd_series.iloc[od_timepoint])**2)\n",
    "            #For bioreactor expt\n",
    "            else:\n",
    "                y = (od_rep.avg.analyte_dict['OD600'].pd_series[:od_timepoint].iloc[-1] - od_rep.avg.analyte_dict['OD600'].pd_series.iloc[0])/(hplc_rep.avg.analyte_dict['Glucose'].pd_series[0] - hplc_rep.avg.analyte_dict['Glucose'].pd_series[:od_timepoint].iloc[-1]) * (0.3) #0.3 g/L dry weight of cells in 1 unit of OD600\n",
    "                y_err = 0\n",
    "        y_vals.append(y)\n",
    "        y_errs.append(y_err)        \n",
    "    return y_vals, y_errs\n"
   ]
  },
  {
   "cell_type": "markdown",
   "id": "legendary-california",
   "metadata": {},
   "source": [
    "## Loading individual replicate data for all experimental conditions to perform PCA ##"
   ]
  },
  {
   "cell_type": "code",
   "execution_count": 974,
   "id": "going-burke",
   "metadata": {
    "scrolled": false
   },
   "outputs": [],
   "source": [
    "strain_list = ['WT', 'Δ(adh,pta)-D1', 'Δ(adh,pta)-D28', 'Δ(adh,pta)-D59']\n",
    "condition_list = ['RDM + 1.5 g/L glc', 'RDM + 3.0 g/L glc', 'RDM + 6.0 g/L glc', 'RDM + 9.0 g/L glc', 'RDM + 12.0 g/L glc', 'RDM + 18.0 g/L glc']\n",
    "analyte_list = ['Acetate', 'Formate', 'Lactate', 'Pyruvate', 'Succinate', 'Biomass', 'Growth Rate', 'OD0', 'OD2', 'OD4', 'OD6', 'OD8']\n",
    "mass_dict = {'Lactate':89.078,\n",
    "         'Acetate':59.052,\n",
    "         'Formate':45.025,\n",
    "         'Succinate':116.088,\n",
    "         'Pyruvate':87.06,\n",
    "         'Glucose':180.156}\n",
    "st_df = pd.DataFrame()\n",
    "for strain in strain_list:\n",
    "    if strain.lower() != 'blank':\n",
    "        for condition in condition_list:\n",
    "            temp_df = pd.DataFrame()\n",
    "            od_rep = [rep for rep in glc_od.replicate_trials if rep.trial_identifier.strain.name==strain and str(rep.trial_identifier.media)==condition][0]\n",
    "            hplc_rep = [rep for rep in glc_titers.replicate_trials if rep.trial_identifier.strain.name==strain and str(rep.trial_identifier.media)==condition][0] \n",
    "            for analyte in ['Glucose']+analyte_list:\n",
    "                if analyte not in ['Biomass', 'Growth Rate', 'OD0', 'OD2', 'OD4', 'OD6', 'OD8']:\n",
    "                    temp_df = pd.concat([temp_df,hplc_rep.replicate_df[analyte].transpose().rename(columns={-1:analyte.lower()})], axis=1)\n",
    "\n",
    "                elif analyte=='Growth Rate':\n",
    "                    temp_df = pd.concat([temp_df, pd.Series(average_exponential_specific_productivity_singletrial(od_rep))],axis=1).rename(columns={0:'growth_rate'})\n",
    "                    \n",
    "                elif analyte=='Biomass':\n",
    "                    temp_df = pd.concat([temp_df, pd.Series(end_point_biomass_singletrial(od_rep))*0.3],axis=1).rename(columns={0:'biomass'})\n",
    "                elif 'OD' in analyte:\n",
    "                    temp_df = pd.concat([temp_df, pd.DataFrame(od_rep.replicate_df['OD600'].transpose()[int(analyte.lstrip('OD'))]).rename(columns={int(analyte.lstrip('OD')):analyte.lower()})], axis=1)\n",
    "            temp_df.reset_index(level=0, inplace=True)\n",
    "            temp_df = temp_df.rename(columns={'index':'replicate'})\n",
    "            temp_df = temp_df.fillna(temp_df.mean())\n",
    "            temp_df['biomass_yield'] = -temp_df['biomass']/temp_df['glucose']\n",
    "            temp_df['acetate_yield'] = -temp_df['acetate']/temp_df['glucose']*mass_dict['Glucose']/mass_dict['Acetate']\n",
    "            temp_df['formate_yield'] = -temp_df['formate']/temp_df['glucose']*mass_dict['Glucose']/mass_dict['Formate']\n",
    "            temp_df['lactate_yield'] = -temp_df['lactate']/temp_df['glucose']*mass_dict['Glucose']/mass_dict['Lactate']\n",
    "            temp_df['pyruvate_yield'] = -temp_df['pyruvate']/temp_df['glucose']*mass_dict['Glucose']/mass_dict['Pyruvate']\n",
    "            temp_df['succinate_yield'] = -temp_df['succinate']/temp_df['glucose']*mass_dict['Glucose']/mass_dict['Succinate']\n",
    "            temp_df['strain'] = strain\n",
    "            temp_df['condition'] = condition\n",
    "            temp_df['starting_glucose'] = hplc_rep.blank.avg.analyte_dict['Glucose'].pd_series[-1]\n",
    "            temp_df = temp_df.drop(columns=['biomass'])\n",
    "            temp_df = temp_df.sort_values(by=['strain', 'condition', 'replicate'])\n",
    "            st_df = pd.concat([st_df,temp_df], axis=0)\n",
    "\n",
    "analyte_list = ['Acetate', 'Formate', 'Lactate', 'Pyruvate', 'Succinate', 'Biomass', 'Growth Rate']\n",
    "for strain in strain_list:\n",
    "    temp_df = pd.DataFrame()\n",
    "    rep = [rep for rep in reactor.replicate_trials if rep.trial_identifier.strain.name==strain][0]\n",
    "    y,temp = yield_calculator([rep,rep],od_timepoint=8, hplc_timepoint=8)\n",
    "    entry = {analyte.lower()+'_yield': y[i] for i,analyte in enumerate(analyte_list)}\n",
    "    entry['growth_rate'] = entry.pop('growth rate_yield')\n",
    "    temp_df = temp_df.append(entry,ignore_index=True)\n",
    "    temp_df = temp_df.rename(columns={'biomass': 'biomass_yield'})\n",
    "    temp_df['strain'] = strain\n",
    "    temp_df['condition'] = 'reactor'\n",
    "    temp_df['replicate'] = '1'\n",
    "    for analyte in ['OD0', 'OD2', 'OD4', 'OD6', 'OD8']:\n",
    "        temp_df[analyte.lower()] = rep.replicate_df['OD600'].loc[int(analyte.lstrip('OD'))].values[0]\n",
    "        \n",
    "    temp_df['glucose'] = rep.avg.analyte_dict['Glucose'].pd_series.loc[8] - rep.avg.analyte_dict['Glucose'].pd_series.loc[0]\n",
    "    for analyte in ['acetate', 'lactate',  'formate', 'pyruvate', 'succinate']:\n",
    "            temp_df[analyte] = -temp_df[analyte+'_yield']*mass_dict[analyte.title()]/mass_dict['Glucose']*temp_df['glucose']\n",
    "    temp_df['starting_glucose'] = rep.avg.analyte_dict['Glucose'].pd_series.loc[0]\n",
    "\n",
    "    st_df = pd.concat([st_df,temp_df], axis=0)\n",
    "\n",
    "\n",
    "st_df = st_df.reset_index(level=0, drop=True)\n"
   ]
  },
  {
   "cell_type": "markdown",
   "id": "lesser-minority",
   "metadata": {},
   "source": [
    "### Write plotting functions for tsne and pca ###\n",
    "\n",
    "#### Use Standard Scaler to scale data before tsne and pca ####\n",
    "#### tsne allowed to be performed with perplexity and learning rate parameters as inputs ####"
   ]
  },
  {
   "cell_type": "code",
   "execution_count": 975,
   "id": "beneficial-miracle",
   "metadata": {},
   "outputs": [],
   "source": [
    "layout = go.Layout(height=475, width=430, legend_x= 0.1, legend_y=-0.15, legend_font=dict(family='Myriad Pro', size=12, color='black'), legend_orientation='h',\n",
    "                   xaxis=dict(title='Component 1',\n",
    "                              title_standoff=0.5,\n",
    "                              titlefont=dict(family='Myriad Pro', size=16, color='black'),\n",
    "                              showline=True, linewidth=1, linecolor='black', mirror=True, side='bottom',\n",
    "                              ticks='outside', ticklen=4, tickangle=0, nticks=8,\n",
    "                              tickfont=dict(size=16, family='Myriad Pro', color='black'), tickcolor='black',\n",
    "                              showgrid=True,zeroline=True),\n",
    "                  \n",
    "                  yaxis=dict(title='Component 2',\n",
    "                            titlefont=dict(family='Myriad Pro', size=16, color='black'),\n",
    "\n",
    "                              anchor='x', side='left', showgrid=True, zeroline=True,\n",
    "                            tickfont=dict(family='Myriad Pro',size=16, color='black'), tickcolor='black', \n",
    "\n",
    "                              showline=True, linewidth=1, linecolor='black', mirror=True,\n",
    "                              ticks='outside', ticklen=4, tickangle=0))\n",
    "\n",
    "\n",
    "colors = ['rgb'+str(color) for color in plotly.colors.n_colors((33,100,175), (234,234,234), 4)][:-1]\n",
    "colors = colors + ['rgb'+str(color) for color in plotly.colors.n_colors((234,234,234), (217,72,42), 4)][1:]\n",
    "\n",
    "symbols = ['circle', 'x', 'diamond', 'square']\n",
    "def pca_plot(features):\n",
    "    x = st_df[features].values\n",
    "    y = st_df[['strain','condition']].values\n",
    "\n",
    "    x = StandardScaler().fit_transform(x)\n",
    "\n",
    "    pcs = pca.fit_transform(x)\n",
    "    principal_df = pd.DataFrame(data=pcs[:,:4], columns = ['PC1', 'PC2','PC3','PC4'])\n",
    "\n",
    "    pca_df = st_df.copy(deep=True)\n",
    "    pca_df = pd.concat([pca_df,principal_df], axis=1)\n",
    "    trace_list = []\n",
    "    for i, strain in enumerate(strain_list):\n",
    "        for j,condition in enumerate(['reactor'] + condition_list):\n",
    "            if condition!='reactor':\n",
    "                trace_list.append(go.Scatter(x=pca_df[(pca_df['strain']==strain) & (pca_df['condition']==condition)]['PC1'],\n",
    "                                             y=pca_df[(pca_df['strain']==strain) & (pca_df['condition']==condition)]['PC2'],\n",
    "                                             mode='markers', showlegend=False,\n",
    "                                             marker=dict(symbol=symbols[i], size=8, color=colors[j-1],\n",
    "                                                         line=dict(color='black', width=0.5))))\n",
    "            else:\n",
    "                trace_list.append(go.Scatter(x=pca_df[(pca_df['strain']==strain) & (pca_df['condition']==condition)]['PC1'],\n",
    "                                 y=pca_df[(pca_df['strain']==strain) & (pca_df['condition']==condition)]['PC2'],\n",
    "                                 mode='markers', name=strain,\n",
    "                                 marker=dict(symbol=symbols[i], size=12, color='rgb(54, 146, 68)',\n",
    "                                line=dict(color='black', width=0.5))))\n",
    "    print(\"PCA\")      \n",
    "    fig = go.Figure(data=trace_list, layout=layout)     \n",
    "    plot(fig)\n",
    "    return fig\n",
    "\n",
    "def tsne_plot(features,perplexity=10,learning_rate=250):\n",
    "    perplexity = perplexity\n",
    "    learning_rate = learning_rate\n",
    "    \n",
    "    x = st_df[features].values\n",
    "    y = st_df[['strain','condition']].values\n",
    "    \n",
    "    x = StandardScaler().fit_transform(x)\n",
    "    \n",
    "    tsn = TSNE(perplexity=perplexity, learning_rate = learning_rate, init='pca', n_iter=20000, n_iter_without_progress=2500, verbose=0).fit_transform(x)\n",
    "    tsn_df = pd.DataFrame(data=tsn, columns = ['tsn1', 'tsn2'])\n",
    "    tsne_df = st_df.copy(deep=True)\n",
    "    tsne_df = pd.concat([tsne_df,tsn_df], axis=1)\n",
    "    print(\"TSNE\")\n",
    "    print(\"Learning Rate: \", learning_rate)\n",
    "    print(\"Perplexity: \",perplexity)\n",
    "    trace_list = []\n",
    "\n",
    "    for i, strain in enumerate(strain_list):\n",
    "        for j,condition in enumerate(['reactor'] + condition_list):\n",
    "            if condition!='reactor':\n",
    "                trace_list.append(go.Scatter(x=tsne_df[(tsne_df['strain']==strain) & (tsne_df['condition']==condition)]['tsn1'],\n",
    "                                             y=tsne_df[(tsne_df['strain']==strain) & (tsne_df['condition']==condition)]['tsn2'],\n",
    "                                             mode='markers', showlegend=False,\n",
    "                                             marker=dict(symbol=symbols[i], size=8, color=colors[j-1],\n",
    "                                                         line=dict(color='black', width=0.5))))\n",
    "            else:\n",
    "                trace_list.append(go.Scatter(x=tsne_df[(final_df['strain']==strain) & (tsne_df['condition']==condition)]['tsn1'],\n",
    "                                 y=tsne_df[(tsne_df['strain']==strain) & (tsne_df['condition']==condition)]['tsn2'],\n",
    "                                 mode='markers', name=strain,\n",
    "                                 marker=dict(symbol=symbols[i], size=12, color='rgb(54, 146, 68)',\n",
    "                                line=dict(color='black', width=0.5))))\n",
    "    fig = go.Figure(data=trace_list, layout=layout)     \n",
    "    plot(fig)\n",
    "    return fig\n"
   ]
  },
  {
   "cell_type": "markdown",
   "id": "broke-prescription",
   "metadata": {},
   "source": [
    "### Determine effect of changing learning rate with perplexity fixed ###\n",
    "\n",
    "### Perplexity was changed previously. 15 was chosen to be a value that gave robust convergence. Too small perplexity resulted in very small clusters. 15 is a reasonable choice here since we have about 76 trials and expect between 3-5 clusters ###"
   ]
  },
  {
   "cell_type": "code",
   "execution_count": 964,
   "id": "dense-warrant",
   "metadata": {
    "scrolled": false
   },
   "outputs": [
    {
     "name": "stdout",
     "output_type": "stream",
     "text": [
      "The KL Divergence for a learning rate of  1  is  0.05194332078099251\n",
      "The KL Divergence for a learning rate of  2  is  0.05256853997707367\n",
      "The KL Divergence for a learning rate of  3  is  0.05318477749824524\n",
      "The KL Divergence for a learning rate of  4  is  0.05202179029583931\n",
      "The KL Divergence for a learning rate of  5  is  0.052479542791843414\n",
      "The KL Divergence for a learning rate of  6  is  0.052035413682460785\n",
      "The KL Divergence for a learning rate of  7  is  0.05231994390487671\n",
      "The KL Divergence for a learning rate of  8  is  0.05220714956521988\n",
      "The KL Divergence for a learning rate of  9  is  0.05684839189052582\n",
      "The KL Divergence for a learning rate of  10  is  0.0528097003698349\n",
      "The KL Divergence for a learning rate of  15  is  0.05403079092502594\n",
      "The KL Divergence for a learning rate of  20  is  0.05633304640650749\n",
      "The KL Divergence for a learning rate of  25  is  0.054994020611047745\n",
      "The KL Divergence for a learning rate of  30  is  0.05260952189564705\n",
      "The KL Divergence for a learning rate of  35  is  0.05256255343556404\n",
      "The KL Divergence for a learning rate of  40  is  0.05367264896631241\n",
      "The KL Divergence for a learning rate of  45  is  0.054458584636449814\n",
      "The KL Divergence for a learning rate of  50  is  0.05687884986400604\n",
      "The KL Divergence for a learning rate of  60  is  0.05230863764882088\n",
      "The KL Divergence for a learning rate of  75  is  0.05691836029291153\n",
      "The KL Divergence for a learning rate of  80  is  0.053615786135196686\n",
      "The KL Divergence for a learning rate of  90  is  0.05449281632900238\n",
      "The KL Divergence for a learning rate of  100  is  0.05435216426849365\n",
      "The KL Divergence for a learning rate of  125  is  0.05328119546175003\n",
      "The KL Divergence for a learning rate of  150  is  0.05229499936103821\n",
      "The KL Divergence for a learning rate of  175  is  0.06032390892505646\n",
      "The KL Divergence for a learning rate of  200  is  0.06739350408315659\n"
     ]
    }
   ],
   "source": [
    "features = [ 'acetate_yield', \n",
    "             'formate_yield',\n",
    "             'lactate_yield',\n",
    "             'pyruvate_yield',\n",
    "             'succinate_yield',\n",
    "            'growth_rate']\n",
    "x = st_df[features].values\n",
    "y = st_df[['strain','condition']].values\n",
    "kl_dict={}\n",
    "x = StandardScaler().fit_transform(x)\n",
    "for learning_rate in [1,2,3,4,5,6,7,8,9,10,15,20,25,30,35,40,45,50,60,75,80,90,100,125,150,175,200]:\n",
    "    tsn = TSNE(perplexity=15, learning_rate = learning_rate, init='pca', n_iter=20000, n_iter_without_progress=2500, verbose=0).fit(x)\n",
    "    kl_dict[learning_rate]=tsn.kl_divergence_\n",
    "    print(\"The KL Divergence for a learning rate of \", learning_rate,\" is \", tsn.kl_divergence_)"
   ]
  },
  {
   "cell_type": "markdown",
   "id": "guilty-testament",
   "metadata": {},
   "source": [
    "### Final TSNE - Fig6c in article ###"
   ]
  },
  {
   "cell_type": "code",
   "execution_count": 976,
   "id": "careful-permission",
   "metadata": {
    "scrolled": false
   },
   "outputs": [
    {
     "name": "stdout",
     "output_type": "stream",
     "text": [
      "TSNE\n",
      "Learning Rate:  10\n",
      "Perplexity:  15\n"
     ]
    },
    {
     "data": {
      "application/vnd.plotly.v1+json": {
       "config": {
        "linkText": "Export to plot.ly",
        "plotlyServerURL": "https://plot.ly",
        "showLink": false
       },
       "data": [
        {
         "marker": {
          "color": "rgb(54, 146, 68)",
          "line": {
           "color": "black",
           "width": 0.5
          },
          "size": 12,
          "symbol": "circle"
         },
         "mode": "markers",
         "name": "WT",
         "type": "scatter",
         "x": [
          21.764766693115234
         ],
         "y": [
          -1.61836838722229
         ]
        },
        {
         "marker": {
          "color": "rgb(33.0, 100.0, 175.0)",
          "line": {
           "color": "black",
           "width": 0.5
          },
          "size": 8,
          "symbol": "circle"
         },
         "mode": "markers",
         "showlegend": false,
         "type": "scatter",
         "x": [
          23.86202049255371,
          23.87689971923828,
          23.68919563293457
         ],
         "y": [
          -2.7389724254608154,
          -2.5557467937469482,
          -2.889939546585083
         ]
        },
        {
         "marker": {
          "color": "rgb(100.0, 144.66666666666666, 194.66666666666666)",
          "line": {
           "color": "black",
           "width": 0.5
          },
          "size": 8,
          "symbol": "circle"
         },
         "mode": "markers",
         "showlegend": false,
         "type": "scatter",
         "x": [
          23.0927791595459,
          23.210630416870117,
          23.035280227661133
         ],
         "y": [
          -2.213461399078369,
          -2.1665894985198975,
          -2.438459873199463
         ]
        },
        {
         "marker": {
          "color": "rgb(167.0, 189.33333333333331, 214.33333333333334)",
          "line": {
           "color": "black",
           "width": 0.5
          },
          "size": 8,
          "symbol": "circle"
         },
         "mode": "markers",
         "showlegend": false,
         "type": "scatter",
         "x": [
          21.04644203186035,
          20.94095802307129,
          20.98720359802246
         ],
         "y": [
          -2.050297737121582,
          -2.2053043842315674,
          -1.5100773572921753
         ]
        },
        {
         "marker": {
          "color": "rgb(228.33333333333334, 180.0, 170.0)",
          "line": {
           "color": "black",
           "width": 0.5
          },
          "size": 8,
          "symbol": "circle"
         },
         "mode": "markers",
         "showlegend": false,
         "type": "scatter",
         "x": [
          20.328277587890625,
          20.228221893310547,
          20.213695526123047
         ],
         "y": [
          -1.171746850013733,
          -1.1367583274841309,
          -1.7679736614227295
         ]
        },
        {
         "marker": {
          "color": "rgb(222.66666666666666, 126.0, 106.0)",
          "line": {
           "color": "black",
           "width": 0.5
          },
          "size": 8,
          "symbol": "circle"
         },
         "mode": "markers",
         "showlegend": false,
         "type": "scatter",
         "x": [
          20.15445327758789,
          19.4220027923584,
          19.875965118408203
         ],
         "y": [
          -2.433185338973999,
          -2.123893976211548,
          -1.9821078777313232
         ]
        },
        {
         "marker": {
          "color": "rgb(217.0, 72.0, 42.0)",
          "line": {
           "color": "black",
           "width": 0.5
          },
          "size": 8,
          "symbol": "circle"
         },
         "mode": "markers",
         "showlegend": false,
         "type": "scatter",
         "x": [
          19.753427505493164,
          19.3831787109375,
          19.6776180267334
         ],
         "y": [
          -2.3937487602233887,
          -1.5399941205978394,
          -1.4311732053756714
         ]
        },
        {
         "marker": {
          "color": "rgb(54, 146, 68)",
          "line": {
           "color": "black",
           "width": 0.5
          },
          "size": 12,
          "symbol": "x"
         },
         "mode": "markers",
         "name": "Δ(adh,pta)-D1",
         "type": "scatter",
         "x": [
          -8.836362838745117
         ],
         "y": [
          1.5326030254364014
         ]
        },
        {
         "marker": {
          "color": "rgb(33.0, 100.0, 175.0)",
          "line": {
           "color": "black",
           "width": 0.5
          },
          "size": 8,
          "symbol": "x"
         },
         "mode": "markers",
         "showlegend": false,
         "type": "scatter",
         "x": [
          3.6887216567993164,
          3.828784465789795,
          3.714294672012329
         ],
         "y": [
          3.010283946990967,
          2.8848538398742676,
          2.7498185634613037
         ]
        },
        {
         "marker": {
          "color": "rgb(100.0, 144.66666666666666, 194.66666666666666)",
          "line": {
           "color": "black",
           "width": 0.5
          },
          "size": 8,
          "symbol": "x"
         },
         "mode": "markers",
         "showlegend": false,
         "type": "scatter",
         "x": [
          1.9207412004470825,
          1.8322027921676636,
          1.8931968212127686
         ],
         "y": [
          2.518357992172241,
          2.5006494522094727,
          2.545542001724243
         ]
        },
        {
         "marker": {
          "color": "rgb(167.0, 189.33333333333331, 214.33333333333334)",
          "line": {
           "color": "black",
           "width": 0.5
          },
          "size": 8,
          "symbol": "x"
         },
         "mode": "markers",
         "showlegend": false,
         "type": "scatter",
         "x": [
          -3.33010196685791,
          -3.127497673034668,
          -3.500460386276245
         ],
         "y": [
          1.6959809064865112,
          1.8031445741653442,
          1.6030960083007812
         ]
        },
        {
         "marker": {
          "color": "rgb(228.33333333333334, 180.0, 170.0)",
          "line": {
           "color": "black",
           "width": 0.5
          },
          "size": 8,
          "symbol": "x"
         },
         "mode": "markers",
         "showlegend": false,
         "type": "scatter",
         "x": [
          -6.242983818054199,
          -6.89544677734375,
          -6.1557793617248535
         ],
         "y": [
          2.076669216156006,
          2.080883502960205,
          1.049618124961853
         ]
        },
        {
         "marker": {
          "color": "rgb(222.66666666666666, 126.0, 106.0)",
          "line": {
           "color": "black",
           "width": 0.5
          },
          "size": 8,
          "symbol": "x"
         },
         "mode": "markers",
         "showlegend": false,
         "type": "scatter",
         "x": [
          -5.566854000091553,
          -6.102964401245117,
          -4.673496723175049
         ],
         "y": [
          -0.24795548617839813,
          0.21377341449260712,
          0.09582490473985672
         ]
        },
        {
         "marker": {
          "color": "rgb(217.0, 72.0, 42.0)",
          "line": {
           "color": "black",
           "width": 0.5
          },
          "size": 8,
          "symbol": "x"
         },
         "mode": "markers",
         "showlegend": false,
         "type": "scatter",
         "x": [
          -6.102653503417969,
          -4.2988200187683105,
          -4.077375888824463
         ],
         "y": [
          -0.6012060642242432,
          0.6826525330543518,
          0.5277390480041504
         ]
        },
        {
         "marker": {
          "color": "rgb(54, 146, 68)",
          "line": {
           "color": "black",
           "width": 0.5
          },
          "size": 12,
          "symbol": "diamond"
         },
         "mode": "markers",
         "name": "Δ(adh,pta)-D28",
         "type": "scatter",
         "x": [
          -8.802472114562988
         ],
         "y": [
          1.4999574422836304
         ]
        },
        {
         "marker": {
          "color": "rgb(33.0, 100.0, 175.0)",
          "line": {
           "color": "black",
           "width": 0.5
          },
          "size": 8,
          "symbol": "diamond"
         },
         "mode": "markers",
         "showlegend": false,
         "type": "scatter",
         "x": [
          4.452732563018799,
          4.2504377365112305,
          4.16881799697876
         ],
         "y": [
          2.6635420322418213,
          2.2814104557037354,
          2.2815144062042236
         ]
        },
        {
         "marker": {
          "color": "rgb(100.0, 144.66666666666666, 194.66666666666666)",
          "line": {
           "color": "black",
           "width": 0.5
          },
          "size": 8,
          "symbol": "diamond"
         },
         "mode": "markers",
         "showlegend": false,
         "type": "scatter",
         "x": [
          2.2076635360717773,
          2.239920139312744,
          2.1824843883514404
         ],
         "y": [
          1.7311931848526,
          2.1070475578308105,
          1.8708291053771973
         ]
        },
        {
         "marker": {
          "color": "rgb(167.0, 189.33333333333331, 214.33333333333334)",
          "line": {
           "color": "black",
           "width": 0.5
          },
          "size": 8,
          "symbol": "diamond"
         },
         "mode": "markers",
         "showlegend": false,
         "type": "scatter",
         "x": [
          -1.9443752765655518,
          -1.9294408559799194,
          -2.1556012630462646
         ],
         "y": [
          1.1036087274551392,
          1.123638391494751,
          1.7256181240081787
         ]
        },
        {
         "marker": {
          "color": "rgb(228.33333333333334, 180.0, 170.0)",
          "line": {
           "color": "black",
           "width": 0.5
          },
          "size": 8,
          "symbol": "diamond"
         },
         "mode": "markers",
         "showlegend": false,
         "type": "scatter",
         "x": [
          -7.470055103302002,
          -6.627044200897217,
          -6.576355457305908
         ],
         "y": [
          0.6710980534553528,
          1.2982709407806396,
          1.8178694248199463
         ]
        },
        {
         "marker": {
          "color": "rgb(222.66666666666666, 126.0, 106.0)",
          "line": {
           "color": "black",
           "width": 0.5
          },
          "size": 8,
          "symbol": "diamond"
         },
         "mode": "markers",
         "showlegend": false,
         "type": "scatter",
         "x": [
          -5.558792591094971,
          -5.231508255004883,
          -5.859497547149658
         ],
         "y": [
          2.911642074584961,
          2.167588710784912,
          1.3477367162704468
         ]
        },
        {
         "marker": {
          "color": "rgb(217.0, 72.0, 42.0)",
          "line": {
           "color": "black",
           "width": 0.5
          },
          "size": 8,
          "symbol": "diamond"
         },
         "mode": "markers",
         "showlegend": false,
         "type": "scatter",
         "x": [
          -4.220136642456055,
          -5.380411624908447,
          -4.855929374694824
         ],
         "y": [
          1.6138159036636353,
          1.2062475681304932,
          1.682581901550293
         ]
        },
        {
         "marker": {
          "color": "rgb(54, 146, 68)",
          "line": {
           "color": "black",
           "width": 0.5
          },
          "size": 12,
          "symbol": "square"
         },
         "mode": "markers",
         "name": "Δ(adh,pta)-D59",
         "type": "scatter",
         "x": [
          -11.094805717468262
         ],
         "y": [
          -4.97719669342041
         ]
        },
        {
         "marker": {
          "color": "rgb(33.0, 100.0, 175.0)",
          "line": {
           "color": "black",
           "width": 0.5
          },
          "size": 8,
          "symbol": "square"
         },
         "mode": "markers",
         "showlegend": false,
         "type": "scatter",
         "x": [
          -8.912129402160645,
          -8.866515159606934,
          -8.88899040222168
         ],
         "y": [
          -3.236478567123413,
          -3.201808452606201,
          -3.220433473587036
         ]
        },
        {
         "marker": {
          "color": "rgb(100.0, 144.66666666666666, 194.66666666666666)",
          "line": {
           "color": "black",
           "width": 0.5
          },
          "size": 8,
          "symbol": "square"
         },
         "mode": "markers",
         "showlegend": false,
         "type": "scatter",
         "x": [
          -12.342792510986328,
          -12.481194496154785,
          -11.929304122924805
         ],
         "y": [
          -5.725988388061523,
          -5.925880432128906,
          -5.841998100280762
         ]
        },
        {
         "marker": {
          "color": "rgb(167.0, 189.33333333333331, 214.33333333333334)",
          "line": {
           "color": "black",
           "width": 0.5
          },
          "size": 8,
          "symbol": "square"
         },
         "mode": "markers",
         "showlegend": false,
         "type": "scatter",
         "x": [
          -13.364054679870605,
          -13.023592948913574,
          -12.73489761352539
         ],
         "y": [
          -7.461968898773193,
          -7.256887912750244,
          -6.967397689819336
         ]
        },
        {
         "marker": {
          "color": "rgb(228.33333333333334, 180.0, 170.0)",
          "line": {
           "color": "black",
           "width": 0.5
          },
          "size": 8,
          "symbol": "square"
         },
         "mode": "markers",
         "showlegend": false,
         "type": "scatter",
         "x": [
          -13.815773963928223,
          -13.62968921661377,
          -13.677589416503906
         ],
         "y": [
          -6.235055446624756,
          -5.658037185668945,
          -6.599642276763916
         ]
        },
        {
         "marker": {
          "color": "rgb(222.66666666666666, 126.0, 106.0)",
          "line": {
           "color": "black",
           "width": 0.5
          },
          "size": 8,
          "symbol": "square"
         },
         "mode": "markers",
         "showlegend": false,
         "type": "scatter",
         "x": [
          -14.285094261169434,
          -14.688331604003906,
          -14.313298225402832
         ],
         "y": [
          -7.100682735443115,
          -7.384761333465576,
          -6.462991237640381
         ]
        },
        {
         "marker": {
          "color": "rgb(217.0, 72.0, 42.0)",
          "line": {
           "color": "black",
           "width": 0.5
          },
          "size": 8,
          "symbol": "square"
         },
         "mode": "markers",
         "showlegend": false,
         "type": "scatter",
         "x": [
          -14.59126091003418,
          -13.358914375305176,
          -13.11269474029541
         ],
         "y": [
          -6.766462326049805,
          -5.4314069747924805,
          -5.300729274749756
         ]
        }
       ],
       "layout": {
        "height": 475,
        "legend": {
         "font": {
          "color": "black",
          "family": "Myriad Pro",
          "size": 12
         },
         "orientation": "h",
         "x": 0.1,
         "y": -0.15
        },
        "template": {
         "data": {
          "scatter": [
           {
            "type": "scatter"
           }
          ]
         }
        },
        "width": 430,
        "xaxis": {
         "linecolor": "black",
         "linewidth": 1,
         "mirror": true,
         "nticks": 8,
         "showgrid": true,
         "showline": true,
         "side": "bottom",
         "tickangle": 0,
         "tickcolor": "black",
         "tickfont": {
          "color": "black",
          "family": "Myriad Pro",
          "size": 16
         },
         "ticklen": 4,
         "ticks": "outside",
         "title": {
          "font": {
           "color": "black",
           "family": "Myriad Pro",
           "size": 16
          },
          "standoff": 0.5,
          "text": "Component 1"
         },
         "zeroline": true
        },
        "yaxis": {
         "anchor": "x",
         "linecolor": "black",
         "linewidth": 1,
         "mirror": true,
         "showgrid": true,
         "showline": true,
         "side": "left",
         "tickangle": 0,
         "tickcolor": "black",
         "tickfont": {
          "color": "black",
          "family": "Myriad Pro",
          "size": 16
         },
         "ticklen": 4,
         "ticks": "outside",
         "title": {
          "font": {
           "color": "black",
           "family": "Myriad Pro",
           "size": 16
          },
          "text": "Component 2"
         },
         "zeroline": true
        }
       }
      },
      "text/html": [
       "<div>                            <div id=\"520db6b2-a03c-467c-a32f-b8c136c136a7\" class=\"plotly-graph-div\" style=\"height:475px; width:430px;\"></div>            <script type=\"text/javascript\">                require([\"plotly\"], function(Plotly) {                    window.PLOTLYENV=window.PLOTLYENV || {};                                    if (document.getElementById(\"520db6b2-a03c-467c-a32f-b8c136c136a7\")) {                    Plotly.newPlot(                        \"520db6b2-a03c-467c-a32f-b8c136c136a7\",                        [{\"marker\": {\"color\": \"rgb(54, 146, 68)\", \"line\": {\"color\": \"black\", \"width\": 0.5}, \"size\": 12, \"symbol\": \"circle\"}, \"mode\": \"markers\", \"name\": \"WT\", \"type\": \"scatter\", \"x\": [21.764766693115234], \"y\": [-1.61836838722229]}, {\"marker\": {\"color\": \"rgb(33.0, 100.0, 175.0)\", \"line\": {\"color\": \"black\", \"width\": 0.5}, \"size\": 8, \"symbol\": \"circle\"}, \"mode\": \"markers\", \"showlegend\": false, \"type\": \"scatter\", \"x\": [23.86202049255371, 23.87689971923828, 23.68919563293457], \"y\": [-2.7389724254608154, -2.5557467937469482, -2.889939546585083]}, {\"marker\": {\"color\": \"rgb(100.0, 144.66666666666666, 194.66666666666666)\", \"line\": {\"color\": \"black\", \"width\": 0.5}, \"size\": 8, \"symbol\": \"circle\"}, \"mode\": \"markers\", \"showlegend\": false, \"type\": \"scatter\", \"x\": [23.0927791595459, 23.210630416870117, 23.035280227661133], \"y\": [-2.213461399078369, -2.1665894985198975, -2.438459873199463]}, {\"marker\": {\"color\": \"rgb(167.0, 189.33333333333331, 214.33333333333334)\", \"line\": {\"color\": \"black\", \"width\": 0.5}, \"size\": 8, \"symbol\": \"circle\"}, \"mode\": \"markers\", \"showlegend\": false, \"type\": \"scatter\", \"x\": [21.04644203186035, 20.94095802307129, 20.98720359802246], \"y\": [-2.050297737121582, -2.2053043842315674, -1.5100773572921753]}, {\"marker\": {\"color\": \"rgb(228.33333333333334, 180.0, 170.0)\", \"line\": {\"color\": \"black\", \"width\": 0.5}, \"size\": 8, \"symbol\": \"circle\"}, \"mode\": \"markers\", \"showlegend\": false, \"type\": \"scatter\", \"x\": [20.328277587890625, 20.228221893310547, 20.213695526123047], \"y\": [-1.171746850013733, -1.1367583274841309, -1.7679736614227295]}, {\"marker\": {\"color\": \"rgb(222.66666666666666, 126.0, 106.0)\", \"line\": {\"color\": \"black\", \"width\": 0.5}, \"size\": 8, \"symbol\": \"circle\"}, \"mode\": \"markers\", \"showlegend\": false, \"type\": \"scatter\", \"x\": [20.15445327758789, 19.4220027923584, 19.875965118408203], \"y\": [-2.433185338973999, -2.123893976211548, -1.9821078777313232]}, {\"marker\": {\"color\": \"rgb(217.0, 72.0, 42.0)\", \"line\": {\"color\": \"black\", \"width\": 0.5}, \"size\": 8, \"symbol\": \"circle\"}, \"mode\": \"markers\", \"showlegend\": false, \"type\": \"scatter\", \"x\": [19.753427505493164, 19.3831787109375, 19.6776180267334], \"y\": [-2.3937487602233887, -1.5399941205978394, -1.4311732053756714]}, {\"marker\": {\"color\": \"rgb(54, 146, 68)\", \"line\": {\"color\": \"black\", \"width\": 0.5}, \"size\": 12, \"symbol\": \"x\"}, \"mode\": \"markers\", \"name\": \"\\u0394(adh,pta)-D1\", \"type\": \"scatter\", \"x\": [-8.836362838745117], \"y\": [1.5326030254364014]}, {\"marker\": {\"color\": \"rgb(33.0, 100.0, 175.0)\", \"line\": {\"color\": \"black\", \"width\": 0.5}, \"size\": 8, \"symbol\": \"x\"}, \"mode\": \"markers\", \"showlegend\": false, \"type\": \"scatter\", \"x\": [3.6887216567993164, 3.828784465789795, 3.714294672012329], \"y\": [3.010283946990967, 2.8848538398742676, 2.7498185634613037]}, {\"marker\": {\"color\": \"rgb(100.0, 144.66666666666666, 194.66666666666666)\", \"line\": {\"color\": \"black\", \"width\": 0.5}, \"size\": 8, \"symbol\": \"x\"}, \"mode\": \"markers\", \"showlegend\": false, \"type\": \"scatter\", \"x\": [1.9207412004470825, 1.8322027921676636, 1.8931968212127686], \"y\": [2.518357992172241, 2.5006494522094727, 2.545542001724243]}, {\"marker\": {\"color\": \"rgb(167.0, 189.33333333333331, 214.33333333333334)\", \"line\": {\"color\": \"black\", \"width\": 0.5}, \"size\": 8, \"symbol\": \"x\"}, \"mode\": \"markers\", \"showlegend\": false, \"type\": \"scatter\", \"x\": [-3.33010196685791, -3.127497673034668, -3.500460386276245], \"y\": [1.6959809064865112, 1.8031445741653442, 1.6030960083007812]}, {\"marker\": {\"color\": \"rgb(228.33333333333334, 180.0, 170.0)\", \"line\": {\"color\": \"black\", \"width\": 0.5}, \"size\": 8, \"symbol\": \"x\"}, \"mode\": \"markers\", \"showlegend\": false, \"type\": \"scatter\", \"x\": [-6.242983818054199, -6.89544677734375, -6.1557793617248535], \"y\": [2.076669216156006, 2.080883502960205, 1.049618124961853]}, {\"marker\": {\"color\": \"rgb(222.66666666666666, 126.0, 106.0)\", \"line\": {\"color\": \"black\", \"width\": 0.5}, \"size\": 8, \"symbol\": \"x\"}, \"mode\": \"markers\", \"showlegend\": false, \"type\": \"scatter\", \"x\": [-5.566854000091553, -6.102964401245117, -4.673496723175049], \"y\": [-0.24795548617839813, 0.21377341449260712, 0.09582490473985672]}, {\"marker\": {\"color\": \"rgb(217.0, 72.0, 42.0)\", \"line\": {\"color\": \"black\", \"width\": 0.5}, \"size\": 8, \"symbol\": \"x\"}, \"mode\": \"markers\", \"showlegend\": false, \"type\": \"scatter\", \"x\": [-6.102653503417969, -4.2988200187683105, -4.077375888824463], \"y\": [-0.6012060642242432, 0.6826525330543518, 0.5277390480041504]}, {\"marker\": {\"color\": \"rgb(54, 146, 68)\", \"line\": {\"color\": \"black\", \"width\": 0.5}, \"size\": 12, \"symbol\": \"diamond\"}, \"mode\": \"markers\", \"name\": \"\\u0394(adh,pta)-D28\", \"type\": \"scatter\", \"x\": [-8.802472114562988], \"y\": [1.4999574422836304]}, {\"marker\": {\"color\": \"rgb(33.0, 100.0, 175.0)\", \"line\": {\"color\": \"black\", \"width\": 0.5}, \"size\": 8, \"symbol\": \"diamond\"}, \"mode\": \"markers\", \"showlegend\": false, \"type\": \"scatter\", \"x\": [4.452732563018799, 4.2504377365112305, 4.16881799697876], \"y\": [2.6635420322418213, 2.2814104557037354, 2.2815144062042236]}, {\"marker\": {\"color\": \"rgb(100.0, 144.66666666666666, 194.66666666666666)\", \"line\": {\"color\": \"black\", \"width\": 0.5}, \"size\": 8, \"symbol\": \"diamond\"}, \"mode\": \"markers\", \"showlegend\": false, \"type\": \"scatter\", \"x\": [2.2076635360717773, 2.239920139312744, 2.1824843883514404], \"y\": [1.7311931848526, 2.1070475578308105, 1.8708291053771973]}, {\"marker\": {\"color\": \"rgb(167.0, 189.33333333333331, 214.33333333333334)\", \"line\": {\"color\": \"black\", \"width\": 0.5}, \"size\": 8, \"symbol\": \"diamond\"}, \"mode\": \"markers\", \"showlegend\": false, \"type\": \"scatter\", \"x\": [-1.9443752765655518, -1.9294408559799194, -2.1556012630462646], \"y\": [1.1036087274551392, 1.123638391494751, 1.7256181240081787]}, {\"marker\": {\"color\": \"rgb(228.33333333333334, 180.0, 170.0)\", \"line\": {\"color\": \"black\", \"width\": 0.5}, \"size\": 8, \"symbol\": \"diamond\"}, \"mode\": \"markers\", \"showlegend\": false, \"type\": \"scatter\", \"x\": [-7.470055103302002, -6.627044200897217, -6.576355457305908], \"y\": [0.6710980534553528, 1.2982709407806396, 1.8178694248199463]}, {\"marker\": {\"color\": \"rgb(222.66666666666666, 126.0, 106.0)\", \"line\": {\"color\": \"black\", \"width\": 0.5}, \"size\": 8, \"symbol\": \"diamond\"}, \"mode\": \"markers\", \"showlegend\": false, \"type\": \"scatter\", \"x\": [-5.558792591094971, -5.231508255004883, -5.859497547149658], \"y\": [2.911642074584961, 2.167588710784912, 1.3477367162704468]}, {\"marker\": {\"color\": \"rgb(217.0, 72.0, 42.0)\", \"line\": {\"color\": \"black\", \"width\": 0.5}, \"size\": 8, \"symbol\": \"diamond\"}, \"mode\": \"markers\", \"showlegend\": false, \"type\": \"scatter\", \"x\": [-4.220136642456055, -5.380411624908447, -4.855929374694824], \"y\": [1.6138159036636353, 1.2062475681304932, 1.682581901550293]}, {\"marker\": {\"color\": \"rgb(54, 146, 68)\", \"line\": {\"color\": \"black\", \"width\": 0.5}, \"size\": 12, \"symbol\": \"square\"}, \"mode\": \"markers\", \"name\": \"\\u0394(adh,pta)-D59\", \"type\": \"scatter\", \"x\": [-11.094805717468262], \"y\": [-4.97719669342041]}, {\"marker\": {\"color\": \"rgb(33.0, 100.0, 175.0)\", \"line\": {\"color\": \"black\", \"width\": 0.5}, \"size\": 8, \"symbol\": \"square\"}, \"mode\": \"markers\", \"showlegend\": false, \"type\": \"scatter\", \"x\": [-8.912129402160645, -8.866515159606934, -8.88899040222168], \"y\": [-3.236478567123413, -3.201808452606201, -3.220433473587036]}, {\"marker\": {\"color\": \"rgb(100.0, 144.66666666666666, 194.66666666666666)\", \"line\": {\"color\": \"black\", \"width\": 0.5}, \"size\": 8, \"symbol\": \"square\"}, \"mode\": \"markers\", \"showlegend\": false, \"type\": \"scatter\", \"x\": [-12.342792510986328, -12.481194496154785, -11.929304122924805], \"y\": [-5.725988388061523, -5.925880432128906, -5.841998100280762]}, {\"marker\": {\"color\": \"rgb(167.0, 189.33333333333331, 214.33333333333334)\", \"line\": {\"color\": \"black\", \"width\": 0.5}, \"size\": 8, \"symbol\": \"square\"}, \"mode\": \"markers\", \"showlegend\": false, \"type\": \"scatter\", \"x\": [-13.364054679870605, -13.023592948913574, -12.73489761352539], \"y\": [-7.461968898773193, -7.256887912750244, -6.967397689819336]}, {\"marker\": {\"color\": \"rgb(228.33333333333334, 180.0, 170.0)\", \"line\": {\"color\": \"black\", \"width\": 0.5}, \"size\": 8, \"symbol\": \"square\"}, \"mode\": \"markers\", \"showlegend\": false, \"type\": \"scatter\", \"x\": [-13.815773963928223, -13.62968921661377, -13.677589416503906], \"y\": [-6.235055446624756, -5.658037185668945, -6.599642276763916]}, {\"marker\": {\"color\": \"rgb(222.66666666666666, 126.0, 106.0)\", \"line\": {\"color\": \"black\", \"width\": 0.5}, \"size\": 8, \"symbol\": \"square\"}, \"mode\": \"markers\", \"showlegend\": false, \"type\": \"scatter\", \"x\": [-14.285094261169434, -14.688331604003906, -14.313298225402832], \"y\": [-7.100682735443115, -7.384761333465576, -6.462991237640381]}, {\"marker\": {\"color\": \"rgb(217.0, 72.0, 42.0)\", \"line\": {\"color\": \"black\", \"width\": 0.5}, \"size\": 8, \"symbol\": \"square\"}, \"mode\": \"markers\", \"showlegend\": false, \"type\": \"scatter\", \"x\": [-14.59126091003418, -13.358914375305176, -13.11269474029541], \"y\": [-6.766462326049805, -5.4314069747924805, -5.300729274749756]}],                        {\"height\": 475, \"legend\": {\"font\": {\"color\": \"black\", \"family\": \"Myriad Pro\", \"size\": 12}, \"orientation\": \"h\", \"x\": 0.1, \"y\": -0.15}, \"template\": {\"data\": {\"scatter\": [{\"type\": \"scatter\"}]}}, \"width\": 430, \"xaxis\": {\"linecolor\": \"black\", \"linewidth\": 1, \"mirror\": true, \"nticks\": 8, \"showgrid\": true, \"showline\": true, \"side\": \"bottom\", \"tickangle\": 0, \"tickcolor\": \"black\", \"tickfont\": {\"color\": \"black\", \"family\": \"Myriad Pro\", \"size\": 16}, \"ticklen\": 4, \"ticks\": \"outside\", \"title\": {\"font\": {\"color\": \"black\", \"family\": \"Myriad Pro\", \"size\": 16}, \"standoff\": 0.5, \"text\": \"Component 1\"}, \"zeroline\": true}, \"yaxis\": {\"anchor\": \"x\", \"linecolor\": \"black\", \"linewidth\": 1, \"mirror\": true, \"showgrid\": true, \"showline\": true, \"side\": \"left\", \"tickangle\": 0, \"tickcolor\": \"black\", \"tickfont\": {\"color\": \"black\", \"family\": \"Myriad Pro\", \"size\": 16}, \"ticklen\": 4, \"ticks\": \"outside\", \"title\": {\"font\": {\"color\": \"black\", \"family\": \"Myriad Pro\", \"size\": 16}, \"text\": \"Component 2\"}, \"zeroline\": true}},                        {\"responsive\": true}                    ).then(function(){\n",
       "                            \n",
       "var gd = document.getElementById('520db6b2-a03c-467c-a32f-b8c136c136a7');\n",
       "var x = new MutationObserver(function (mutations, observer) {{\n",
       "        var display = window.getComputedStyle(gd).display;\n",
       "        if (!display || display === 'none') {{\n",
       "            console.log([gd, 'removed!']);\n",
       "            Plotly.purge(gd);\n",
       "            observer.disconnect();\n",
       "        }}\n",
       "}});\n",
       "\n",
       "// Listen for the removal of the full notebook cells\n",
       "var notebookContainer = gd.closest('#notebook-container');\n",
       "if (notebookContainer) {{\n",
       "    x.observe(notebookContainer, {childList: true});\n",
       "}}\n",
       "\n",
       "// Listen for the clearing of the current output cell\n",
       "var outputEl = gd.closest('.output');\n",
       "if (outputEl) {{\n",
       "    x.observe(outputEl, {childList: true});\n",
       "}}\n",
       "\n",
       "                        })                };                });            </script>        </div>"
      ]
     },
     "metadata": {},
     "output_type": "display_data"
    }
   ],
   "source": [
    "features = [ 'acetate_yield', \n",
    "             'formate_yield',\n",
    "             'lactate_yield',\n",
    "             'pyruvate_yield',\n",
    "             'succinate_yield',\n",
    "            'growth_rate']\n",
    "fig = tsne_plot(features,15,10)\n",
    "\n",
    "#pio.write_image(fig,\"Figures/si_fig_glc_pca_loadings.svg\",format='svg')\n"
   ]
  },
  {
   "cell_type": "markdown",
   "id": "enclosed-rings",
   "metadata": {},
   "source": [
    "### Effect of adding other features to tsne - only hindered calculation. It is reasonable to only use features in which we want the algorithm to learn the differences ###\n",
    "\n",
    "In the following cells, the metabolite names alone indicate their respective titers and the metabolites followed by \"\\_yield\" indicates their respective yields.\n",
    "In some cases, the cell density, measured as OD600 is used as a feature, followed by the time (in h) of being recorded i.e. OD2 represents OD600 recorded at 2 hrs after start of fermentation, OD4 represents OD600 recorded 4 hrs after start of fermentation and so on."
   ]
  },
  {
   "cell_type": "code",
   "execution_count": 914,
   "id": "southeast-magnitude",
   "metadata": {},
   "outputs": [
    {
     "name": "stdout",
     "output_type": "stream",
     "text": [
      "TSNE\n",
      "Learning Rate:  10\n",
      "Perplexity:  15\n"
     ]
    },
    {
     "data": {
      "application/vnd.plotly.v1+json": {
       "config": {
        "linkText": "Export to plot.ly",
        "plotlyServerURL": "https://plot.ly",
        "showLink": false
       },
       "data": [
        {
         "marker": {
          "color": "rgb(54, 146, 68)",
          "line": {
           "color": "black",
           "width": 0.5
          },
          "size": 12,
          "symbol": "circle"
         },
         "mode": "markers",
         "name": "WT",
         "type": "scatter",
         "x": [
          11.650897026062012
         ],
         "y": [
          -4.056203365325928
         ]
        },
        {
         "marker": {
          "color": "rgb(33.0, 100.0, 175.0)",
          "line": {
           "color": "black",
           "width": 0.5
          },
          "size": 8,
          "symbol": "circle"
         },
         "mode": "markers",
         "showlegend": false,
         "type": "scatter",
         "x": [
          12.179220199584961,
          12.155652046203613,
          12.1603364944458
         ],
         "y": [
          -5.667276382446289,
          -5.613637447357178,
          -5.628945350646973
         ]
        },
        {
         "marker": {
          "color": "rgb(100.0, 144.66666666666666, 194.66666666666666)",
          "line": {
           "color": "black",
           "width": 0.5
          },
          "size": 8,
          "symbol": "circle"
         },
         "mode": "markers",
         "showlegend": false,
         "type": "scatter",
         "x": [
          11.594283103942871,
          11.599287986755371,
          11.580452919006348
         ],
         "y": [
          -4.677555561065674,
          -4.742151260375977,
          -4.731118202209473
         ]
        },
        {
         "marker": {
          "color": "rgb(167.0, 189.33333333333331, 214.33333333333334)",
          "line": {
           "color": "black",
           "width": 0.5
          },
          "size": 8,
          "symbol": "circle"
         },
         "mode": "markers",
         "showlegend": false,
         "type": "scatter",
         "x": [
          9.688984870910645,
          9.839272499084473,
          10.056123733520508
         ],
         "y": [
          -3.373462438583374,
          -3.1632771492004395,
          -2.8169243335723877
         ]
        },
        {
         "marker": {
          "color": "rgb(228.33333333333334, 180.0, 170.0)",
          "line": {
           "color": "black",
           "width": 0.5
          },
          "size": 8,
          "symbol": "circle"
         },
         "mode": "markers",
         "showlegend": false,
         "type": "scatter",
         "x": [
          9.675504684448242,
          9.580373764038086,
          9.268929481506348
         ],
         "y": [
          -2.1917715072631836,
          -2.0544631481170654,
          -2.574361801147461
         ]
        },
        {
         "marker": {
          "color": "rgb(222.66666666666666, 126.0, 106.0)",
          "line": {
           "color": "black",
           "width": 0.5
          },
          "size": 8,
          "symbol": "circle"
         },
         "mode": "markers",
         "showlegend": false,
         "type": "scatter",
         "x": [
          8.844399452209473,
          8.474772453308105,
          8.898015975952148
         ],
         "y": [
          -3.127462387084961,
          -2.3939504623413086,
          -2.808367967605591
         ]
        },
        {
         "marker": {
          "color": "rgb(217.0, 72.0, 42.0)",
          "line": {
           "color": "black",
           "width": 0.5
          },
          "size": 8,
          "symbol": "circle"
         },
         "mode": "markers",
         "showlegend": false,
         "type": "scatter",
         "x": [
          8.529332160949707,
          8.794493675231934,
          8.995184898376465
         ],
         "y": [
          -2.753253936767578,
          -1.9349641799926758,
          -2.10007905960083
         ]
        },
        {
         "marker": {
          "color": "rgb(54, 146, 68)",
          "line": {
           "color": "black",
           "width": 0.5
          },
          "size": 12,
          "symbol": "x"
         },
         "mode": "markers",
         "name": "Δ(adh,pta)-D1",
         "type": "scatter",
         "x": [
          -10.3710355758667
         ],
         "y": [
          5.399264335632324
         ]
        },
        {
         "marker": {
          "color": "rgb(33.0, 100.0, 175.0)",
          "line": {
           "color": "black",
           "width": 0.5
          },
          "size": 8,
          "symbol": "x"
         },
         "mode": "markers",
         "showlegend": false,
         "type": "scatter",
         "x": [
          1.7699799537658691,
          1.8278065919876099,
          1.8192120790481567
         ],
         "y": [
          6.127849102020264,
          5.831161975860596,
          5.885341167449951
         ]
        },
        {
         "marker": {
          "color": "rgb(100.0, 144.66666666666666, 194.66666666666666)",
          "line": {
           "color": "black",
           "width": 0.5
          },
          "size": 8,
          "symbol": "x"
         },
         "mode": "markers",
         "showlegend": false,
         "type": "scatter",
         "x": [
          0.20741941034793854,
          0.11890508234500885,
          0.192001074552536
         ],
         "y": [
          5.031670093536377,
          4.959167003631592,
          5.066396236419678
         ]
        },
        {
         "marker": {
          "color": "rgb(167.0, 189.33333333333331, 214.33333333333334)",
          "line": {
           "color": "black",
           "width": 0.5
          },
          "size": 8,
          "symbol": "x"
         },
         "mode": "markers",
         "showlegend": false,
         "type": "scatter",
         "x": [
          -4.53257417678833,
          -4.324536323547363,
          -4.434983253479004
         ],
         "y": [
          4.133668899536133,
          4.166580677032471,
          4.131869792938232
         ]
        },
        {
         "marker": {
          "color": "rgb(228.33333333333334, 180.0, 170.0)",
          "line": {
           "color": "black",
           "width": 0.5
          },
          "size": 8,
          "symbol": "x"
         },
         "mode": "markers",
         "showlegend": false,
         "type": "scatter",
         "x": [
          -7.768320560455322,
          -8.424054145812988,
          -8.010464668273926
         ],
         "y": [
          5.1703782081604,
          5.277397155761719,
          4.127094268798828
         ]
        },
        {
         "marker": {
          "color": "rgb(222.66666666666666, 126.0, 106.0)",
          "line": {
           "color": "black",
           "width": 0.5
          },
          "size": 8,
          "symbol": "x"
         },
         "mode": "markers",
         "showlegend": false,
         "type": "scatter",
         "x": [
          -7.636258602142334,
          -8.155803680419922,
          -6.782793045043945
         ],
         "y": [
          2.8547980785369873,
          3.3607630729675293,
          3.0527124404907227
         ]
        },
        {
         "marker": {
          "color": "rgb(217.0, 72.0, 42.0)",
          "line": {
           "color": "black",
           "width": 0.5
          },
          "size": 8,
          "symbol": "x"
         },
         "mode": "markers",
         "showlegend": false,
         "type": "scatter",
         "x": [
          -8.330963134765625,
          -6.360645294189453,
          -6.225610256195068
         ],
         "y": [
          2.5978291034698486,
          3.5679540634155273,
          3.3545987606048584
         ]
        },
        {
         "marker": {
          "color": "rgb(54, 146, 68)",
          "line": {
           "color": "black",
           "width": 0.5
          },
          "size": 12,
          "symbol": "diamond"
         },
         "mode": "markers",
         "name": "Δ(adh,pta)-D28",
         "type": "scatter",
         "x": [
          -10.328577041625977
         ],
         "y": [
          5.365006446838379
         ]
        },
        {
         "marker": {
          "color": "rgb(33.0, 100.0, 175.0)",
          "line": {
           "color": "black",
           "width": 0.5
          },
          "size": 8,
          "symbol": "diamond"
         },
         "mode": "markers",
         "showlegend": false,
         "type": "scatter",
         "x": [
          2.5121710300445557,
          2.434448480606079,
          2.3640635013580322
         ],
         "y": [
          5.977750301361084,
          5.520664691925049,
          5.493119239807129
         ]
        },
        {
         "marker": {
          "color": "rgb(100.0, 144.66666666666666, 194.66666666666666)",
          "line": {
           "color": "black",
           "width": 0.5
          },
          "size": 8,
          "symbol": "diamond"
         },
         "mode": "markers",
         "showlegend": false,
         "type": "scatter",
         "x": [
          0.7564177513122559,
          0.7086533308029175,
          0.7457736134529114
         ],
         "y": [
          4.471380233764648,
          4.859442234039307,
          4.614646911621094
         ]
        },
        {
         "marker": {
          "color": "rgb(167.0, 189.33333333333331, 214.33333333333334)",
          "line": {
           "color": "black",
           "width": 0.5
          },
          "size": 8,
          "symbol": "diamond"
         },
         "mode": "markers",
         "showlegend": false,
         "type": "scatter",
         "x": [
          -3.517911434173584,
          -3.5070931911468506,
          -3.572749137878418
         ],
         "y": [
          3.3797664642333984,
          3.3852627277374268,
          3.9169464111328125
         ]
        },
        {
         "marker": {
          "color": "rgb(228.33333333333334, 180.0, 170.0)",
          "line": {
           "color": "black",
           "width": 0.5
          },
          "size": 8,
          "symbol": "diamond"
         },
         "mode": "markers",
         "showlegend": false,
         "type": "scatter",
         "x": [
          -9.35295581817627,
          -8.410951614379883,
          -8.184345245361328
         ],
         "y": [
          4.1245222091674805,
          4.501652240753174,
          4.973473072052002
         ]
        },
        {
         "marker": {
          "color": "rgb(222.66666666666666, 126.0, 106.0)",
          "line": {
           "color": "black",
           "width": 0.5
          },
          "size": 8,
          "symbol": "diamond"
         },
         "mode": "markers",
         "showlegend": false,
         "type": "scatter",
         "x": [
          -6.887624740600586,
          -6.9096293449401855,
          -7.716507911682129
         ],
         "y": [
          5.67697286605835,
          4.925470352172852,
          4.325018882751465
         ]
        },
        {
         "marker": {
          "color": "rgb(217.0, 72.0, 42.0)",
          "line": {
           "color": "black",
           "width": 0.5
          },
          "size": 8,
          "symbol": "diamond"
         },
         "mode": "markers",
         "showlegend": false,
         "type": "scatter",
         "x": [
          -6.4278788566589355,
          -7.391412258148193,
          -6.778248310089111
         ],
         "y": [
          4.207065105438232,
          4.037021636962891,
          4.418828964233398
         ]
        },
        {
         "marker": {
          "color": "rgb(54, 146, 68)",
          "line": {
           "color": "black",
           "width": 0.5
          },
          "size": 12,
          "symbol": "square"
         },
         "mode": "markers",
         "name": "Δ(adh,pta)-D59",
         "type": "scatter",
         "x": [
          -12.486363410949707
         ],
         "y": [
          -0.5371821522712708
         ]
        },
        {
         "marker": {
          "color": "rgb(33.0, 100.0, 175.0)",
          "line": {
           "color": "black",
           "width": 0.5
          },
          "size": 8,
          "symbol": "square"
         },
         "mode": "markers",
         "showlegend": false,
         "type": "scatter",
         "x": [
          -7.295931339263916,
          -7.27557897567749,
          -7.2858381271362305
         ],
         "y": [
          -1.93685781955719,
          -1.9247421026229858,
          -1.9298189878463745
         ]
        },
        {
         "marker": {
          "color": "rgb(100.0, 144.66666666666666, 194.66666666666666)",
          "line": {
           "color": "black",
           "width": 0.5
          },
          "size": 8,
          "symbol": "square"
         },
         "mode": "markers",
         "showlegend": false,
         "type": "scatter",
         "x": [
          -11.03966236114502,
          -10.997370719909668,
          -10.932256698608398
         ],
         "y": [
          -3.4744038581848145,
          -3.4864346981048584,
          -3.492290735244751
         ]
        },
        {
         "marker": {
          "color": "rgb(167.0, 189.33333333333331, 214.33333333333334)",
          "line": {
           "color": "black",
           "width": 0.5
          },
          "size": 8,
          "symbol": "square"
         },
         "mode": "markers",
         "showlegend": false,
         "type": "scatter",
         "x": [
          -12.947754859924316,
          -12.649967193603516,
          -12.428951263427734
         ],
         "y": [
          -3.5451457500457764,
          -3.453301429748535,
          -3.3077006340026855
         ]
        },
        {
         "marker": {
          "color": "rgb(228.33333333333334, 180.0, 170.0)",
          "line": {
           "color": "black",
           "width": 0.5
          },
          "size": 8,
          "symbol": "square"
         },
         "mode": "markers",
         "showlegend": false,
         "type": "scatter",
         "x": [
          -13.378500938415527,
          -13.205536842346191,
          -13.296874046325684
         ],
         "y": [
          -2.2615582942962646,
          -1.6894596815109253,
          -2.5424726009368896
         ]
        },
        {
         "marker": {
          "color": "rgb(222.66666666666666, 126.0, 106.0)",
          "line": {
           "color": "black",
           "width": 0.5
          },
          "size": 8,
          "symbol": "square"
         },
         "mode": "markers",
         "showlegend": false,
         "type": "scatter",
         "x": [
          -13.860641479492188,
          -14.252030372619629,
          -13.859477043151855
         ],
         "y": [
          -2.9889519214630127,
          -3.251288652420044,
          -2.409313440322876
         ]
        },
        {
         "marker": {
          "color": "rgb(217.0, 72.0, 42.0)",
          "line": {
           "color": "black",
           "width": 0.5
          },
          "size": 8,
          "symbol": "square"
         },
         "mode": "markers",
         "showlegend": false,
         "type": "scatter",
         "x": [
          -14.134089469909668,
          -13.220561981201172,
          -13.11922836303711
         ],
         "y": [
          -2.6636712551116943,
          -1.4106967449188232,
          -1.2152297496795654
         ]
        }
       ],
       "layout": {
        "height": 475,
        "legend": {
         "font": {
          "color": "black",
          "family": "Myriad Pro",
          "size": 12
         },
         "orientation": "h",
         "x": 0.1,
         "y": -0.15
        },
        "template": {
         "data": {
          "scatter": [
           {
            "type": "scatter"
           }
          ]
         }
        },
        "width": 430,
        "xaxis": {
         "linecolor": "black",
         "linewidth": 1,
         "mirror": true,
         "nticks": 8,
         "showgrid": true,
         "showline": true,
         "side": "bottom",
         "tickangle": 0,
         "tickcolor": "black",
         "tickfont": {
          "color": "black",
          "family": "Myriad Pro",
          "size": 16
         },
         "ticklen": 4,
         "ticks": "outside",
         "title": {
          "font": {
           "color": "black",
           "family": "Myriad Pro",
           "size": 16
          },
          "standoff": 0.5,
          "text": "Principal Component 1"
         },
         "zeroline": true
        },
        "yaxis": {
         "anchor": "x",
         "linecolor": "black",
         "linewidth": 1,
         "mirror": true,
         "showgrid": true,
         "showline": true,
         "side": "left",
         "tickangle": 0,
         "tickcolor": "black",
         "tickfont": {
          "color": "black",
          "family": "Myriad Pro",
          "size": 16
         },
         "ticklen": 4,
         "ticks": "outside",
         "title": {
          "font": {
           "color": "black",
           "family": "Myriad Pro",
           "size": 16
          },
          "text": "Principal Component 2"
         },
         "zeroline": true
        }
       }
      },
      "text/html": [
       "<div>                            <div id=\"735769e6-faf5-462e-ad12-3161a89b7384\" class=\"plotly-graph-div\" style=\"height:475px; width:430px;\"></div>            <script type=\"text/javascript\">                require([\"plotly\"], function(Plotly) {                    window.PLOTLYENV=window.PLOTLYENV || {};                                    if (document.getElementById(\"735769e6-faf5-462e-ad12-3161a89b7384\")) {                    Plotly.newPlot(                        \"735769e6-faf5-462e-ad12-3161a89b7384\",                        [{\"marker\": {\"color\": \"rgb(54, 146, 68)\", \"line\": {\"color\": \"black\", \"width\": 0.5}, \"size\": 12, \"symbol\": \"circle\"}, \"mode\": \"markers\", \"name\": \"WT\", \"type\": \"scatter\", \"x\": [11.650897026062012], \"y\": [-4.056203365325928]}, {\"marker\": {\"color\": \"rgb(33.0, 100.0, 175.0)\", \"line\": {\"color\": \"black\", \"width\": 0.5}, \"size\": 8, \"symbol\": \"circle\"}, \"mode\": \"markers\", \"showlegend\": false, \"type\": \"scatter\", \"x\": [12.179220199584961, 12.155652046203613, 12.1603364944458], \"y\": [-5.667276382446289, -5.613637447357178, -5.628945350646973]}, {\"marker\": {\"color\": \"rgb(100.0, 144.66666666666666, 194.66666666666666)\", \"line\": {\"color\": \"black\", \"width\": 0.5}, \"size\": 8, \"symbol\": \"circle\"}, \"mode\": \"markers\", \"showlegend\": false, \"type\": \"scatter\", \"x\": [11.594283103942871, 11.599287986755371, 11.580452919006348], \"y\": [-4.677555561065674, -4.742151260375977, -4.731118202209473]}, {\"marker\": {\"color\": \"rgb(167.0, 189.33333333333331, 214.33333333333334)\", \"line\": {\"color\": \"black\", \"width\": 0.5}, \"size\": 8, \"symbol\": \"circle\"}, \"mode\": \"markers\", \"showlegend\": false, \"type\": \"scatter\", \"x\": [9.688984870910645, 9.839272499084473, 10.056123733520508], \"y\": [-3.373462438583374, -3.1632771492004395, -2.8169243335723877]}, {\"marker\": {\"color\": \"rgb(228.33333333333334, 180.0, 170.0)\", \"line\": {\"color\": \"black\", \"width\": 0.5}, \"size\": 8, \"symbol\": \"circle\"}, \"mode\": \"markers\", \"showlegend\": false, \"type\": \"scatter\", \"x\": [9.675504684448242, 9.580373764038086, 9.268929481506348], \"y\": [-2.1917715072631836, -2.0544631481170654, -2.574361801147461]}, {\"marker\": {\"color\": \"rgb(222.66666666666666, 126.0, 106.0)\", \"line\": {\"color\": \"black\", \"width\": 0.5}, \"size\": 8, \"symbol\": \"circle\"}, \"mode\": \"markers\", \"showlegend\": false, \"type\": \"scatter\", \"x\": [8.844399452209473, 8.474772453308105, 8.898015975952148], \"y\": [-3.127462387084961, -2.3939504623413086, -2.808367967605591]}, {\"marker\": {\"color\": \"rgb(217.0, 72.0, 42.0)\", \"line\": {\"color\": \"black\", \"width\": 0.5}, \"size\": 8, \"symbol\": \"circle\"}, \"mode\": \"markers\", \"showlegend\": false, \"type\": \"scatter\", \"x\": [8.529332160949707, 8.794493675231934, 8.995184898376465], \"y\": [-2.753253936767578, -1.9349641799926758, -2.10007905960083]}, {\"marker\": {\"color\": \"rgb(54, 146, 68)\", \"line\": {\"color\": \"black\", \"width\": 0.5}, \"size\": 12, \"symbol\": \"x\"}, \"mode\": \"markers\", \"name\": \"\\u0394(adh,pta)-D1\", \"type\": \"scatter\", \"x\": [-10.3710355758667], \"y\": [5.399264335632324]}, {\"marker\": {\"color\": \"rgb(33.0, 100.0, 175.0)\", \"line\": {\"color\": \"black\", \"width\": 0.5}, \"size\": 8, \"symbol\": \"x\"}, \"mode\": \"markers\", \"showlegend\": false, \"type\": \"scatter\", \"x\": [1.7699799537658691, 1.8278065919876099, 1.8192120790481567], \"y\": [6.127849102020264, 5.831161975860596, 5.885341167449951]}, {\"marker\": {\"color\": \"rgb(100.0, 144.66666666666666, 194.66666666666666)\", \"line\": {\"color\": \"black\", \"width\": 0.5}, \"size\": 8, \"symbol\": \"x\"}, \"mode\": \"markers\", \"showlegend\": false, \"type\": \"scatter\", \"x\": [0.20741941034793854, 0.11890508234500885, 0.192001074552536], \"y\": [5.031670093536377, 4.959167003631592, 5.066396236419678]}, {\"marker\": {\"color\": \"rgb(167.0, 189.33333333333331, 214.33333333333334)\", \"line\": {\"color\": \"black\", \"width\": 0.5}, \"size\": 8, \"symbol\": \"x\"}, \"mode\": \"markers\", \"showlegend\": false, \"type\": \"scatter\", \"x\": [-4.53257417678833, -4.324536323547363, -4.434983253479004], \"y\": [4.133668899536133, 4.166580677032471, 4.131869792938232]}, {\"marker\": {\"color\": \"rgb(228.33333333333334, 180.0, 170.0)\", \"line\": {\"color\": \"black\", \"width\": 0.5}, \"size\": 8, \"symbol\": \"x\"}, \"mode\": \"markers\", \"showlegend\": false, \"type\": \"scatter\", \"x\": [-7.768320560455322, -8.424054145812988, -8.010464668273926], \"y\": [5.1703782081604, 5.277397155761719, 4.127094268798828]}, {\"marker\": {\"color\": \"rgb(222.66666666666666, 126.0, 106.0)\", \"line\": {\"color\": \"black\", \"width\": 0.5}, \"size\": 8, \"symbol\": \"x\"}, \"mode\": \"markers\", \"showlegend\": false, \"type\": \"scatter\", \"x\": [-7.636258602142334, -8.155803680419922, -6.782793045043945], \"y\": [2.8547980785369873, 3.3607630729675293, 3.0527124404907227]}, {\"marker\": {\"color\": \"rgb(217.0, 72.0, 42.0)\", \"line\": {\"color\": \"black\", \"width\": 0.5}, \"size\": 8, \"symbol\": \"x\"}, \"mode\": \"markers\", \"showlegend\": false, \"type\": \"scatter\", \"x\": [-8.330963134765625, -6.360645294189453, -6.225610256195068], \"y\": [2.5978291034698486, 3.5679540634155273, 3.3545987606048584]}, {\"marker\": {\"color\": \"rgb(54, 146, 68)\", \"line\": {\"color\": \"black\", \"width\": 0.5}, \"size\": 12, \"symbol\": \"diamond\"}, \"mode\": \"markers\", \"name\": \"\\u0394(adh,pta)-D28\", \"type\": \"scatter\", \"x\": [-10.328577041625977], \"y\": [5.365006446838379]}, {\"marker\": {\"color\": \"rgb(33.0, 100.0, 175.0)\", \"line\": {\"color\": \"black\", \"width\": 0.5}, \"size\": 8, \"symbol\": \"diamond\"}, \"mode\": \"markers\", \"showlegend\": false, \"type\": \"scatter\", \"x\": [2.5121710300445557, 2.434448480606079, 2.3640635013580322], \"y\": [5.977750301361084, 5.520664691925049, 5.493119239807129]}, {\"marker\": {\"color\": \"rgb(100.0, 144.66666666666666, 194.66666666666666)\", \"line\": {\"color\": \"black\", \"width\": 0.5}, \"size\": 8, \"symbol\": \"diamond\"}, \"mode\": \"markers\", \"showlegend\": false, \"type\": \"scatter\", \"x\": [0.7564177513122559, 0.7086533308029175, 0.7457736134529114], \"y\": [4.471380233764648, 4.859442234039307, 4.614646911621094]}, {\"marker\": {\"color\": \"rgb(167.0, 189.33333333333331, 214.33333333333334)\", \"line\": {\"color\": \"black\", \"width\": 0.5}, \"size\": 8, \"symbol\": \"diamond\"}, \"mode\": \"markers\", \"showlegend\": false, \"type\": \"scatter\", \"x\": [-3.517911434173584, -3.5070931911468506, -3.572749137878418], \"y\": [3.3797664642333984, 3.3852627277374268, 3.9169464111328125]}, {\"marker\": {\"color\": \"rgb(228.33333333333334, 180.0, 170.0)\", \"line\": {\"color\": \"black\", \"width\": 0.5}, \"size\": 8, \"symbol\": \"diamond\"}, \"mode\": \"markers\", \"showlegend\": false, \"type\": \"scatter\", \"x\": [-9.35295581817627, -8.410951614379883, -8.184345245361328], \"y\": [4.1245222091674805, 4.501652240753174, 4.973473072052002]}, {\"marker\": {\"color\": \"rgb(222.66666666666666, 126.0, 106.0)\", \"line\": {\"color\": \"black\", \"width\": 0.5}, \"size\": 8, \"symbol\": \"diamond\"}, \"mode\": \"markers\", \"showlegend\": false, \"type\": \"scatter\", \"x\": [-6.887624740600586, -6.9096293449401855, -7.716507911682129], \"y\": [5.67697286605835, 4.925470352172852, 4.325018882751465]}, {\"marker\": {\"color\": \"rgb(217.0, 72.0, 42.0)\", \"line\": {\"color\": \"black\", \"width\": 0.5}, \"size\": 8, \"symbol\": \"diamond\"}, \"mode\": \"markers\", \"showlegend\": false, \"type\": \"scatter\", \"x\": [-6.4278788566589355, -7.391412258148193, -6.778248310089111], \"y\": [4.207065105438232, 4.037021636962891, 4.418828964233398]}, {\"marker\": {\"color\": \"rgb(54, 146, 68)\", \"line\": {\"color\": \"black\", \"width\": 0.5}, \"size\": 12, \"symbol\": \"square\"}, \"mode\": \"markers\", \"name\": \"\\u0394(adh,pta)-D59\", \"type\": \"scatter\", \"x\": [-12.486363410949707], \"y\": [-0.5371821522712708]}, {\"marker\": {\"color\": \"rgb(33.0, 100.0, 175.0)\", \"line\": {\"color\": \"black\", \"width\": 0.5}, \"size\": 8, \"symbol\": \"square\"}, \"mode\": \"markers\", \"showlegend\": false, \"type\": \"scatter\", \"x\": [-7.295931339263916, -7.27557897567749, -7.2858381271362305], \"y\": [-1.93685781955719, -1.9247421026229858, -1.9298189878463745]}, {\"marker\": {\"color\": \"rgb(100.0, 144.66666666666666, 194.66666666666666)\", \"line\": {\"color\": \"black\", \"width\": 0.5}, \"size\": 8, \"symbol\": \"square\"}, \"mode\": \"markers\", \"showlegend\": false, \"type\": \"scatter\", \"x\": [-11.03966236114502, -10.997370719909668, -10.932256698608398], \"y\": [-3.4744038581848145, -3.4864346981048584, -3.492290735244751]}, {\"marker\": {\"color\": \"rgb(167.0, 189.33333333333331, 214.33333333333334)\", \"line\": {\"color\": \"black\", \"width\": 0.5}, \"size\": 8, \"symbol\": \"square\"}, \"mode\": \"markers\", \"showlegend\": false, \"type\": \"scatter\", \"x\": [-12.947754859924316, -12.649967193603516, -12.428951263427734], \"y\": [-3.5451457500457764, -3.453301429748535, -3.3077006340026855]}, {\"marker\": {\"color\": \"rgb(228.33333333333334, 180.0, 170.0)\", \"line\": {\"color\": \"black\", \"width\": 0.5}, \"size\": 8, \"symbol\": \"square\"}, \"mode\": \"markers\", \"showlegend\": false, \"type\": \"scatter\", \"x\": [-13.378500938415527, -13.205536842346191, -13.296874046325684], \"y\": [-2.2615582942962646, -1.6894596815109253, -2.5424726009368896]}, {\"marker\": {\"color\": \"rgb(222.66666666666666, 126.0, 106.0)\", \"line\": {\"color\": \"black\", \"width\": 0.5}, \"size\": 8, \"symbol\": \"square\"}, \"mode\": \"markers\", \"showlegend\": false, \"type\": \"scatter\", \"x\": [-13.860641479492188, -14.252030372619629, -13.859477043151855], \"y\": [-2.9889519214630127, -3.251288652420044, -2.409313440322876]}, {\"marker\": {\"color\": \"rgb(217.0, 72.0, 42.0)\", \"line\": {\"color\": \"black\", \"width\": 0.5}, \"size\": 8, \"symbol\": \"square\"}, \"mode\": \"markers\", \"showlegend\": false, \"type\": \"scatter\", \"x\": [-14.134089469909668, -13.220561981201172, -13.11922836303711], \"y\": [-2.6636712551116943, -1.4106967449188232, -1.2152297496795654]}],                        {\"height\": 475, \"legend\": {\"font\": {\"color\": \"black\", \"family\": \"Myriad Pro\", \"size\": 12}, \"orientation\": \"h\", \"x\": 0.1, \"y\": -0.15}, \"template\": {\"data\": {\"scatter\": [{\"type\": \"scatter\"}]}}, \"width\": 430, \"xaxis\": {\"linecolor\": \"black\", \"linewidth\": 1, \"mirror\": true, \"nticks\": 8, \"showgrid\": true, \"showline\": true, \"side\": \"bottom\", \"tickangle\": 0, \"tickcolor\": \"black\", \"tickfont\": {\"color\": \"black\", \"family\": \"Myriad Pro\", \"size\": 16}, \"ticklen\": 4, \"ticks\": \"outside\", \"title\": {\"font\": {\"color\": \"black\", \"family\": \"Myriad Pro\", \"size\": 16}, \"standoff\": 0.5, \"text\": \"Principal Component 1\"}, \"zeroline\": true}, \"yaxis\": {\"anchor\": \"x\", \"linecolor\": \"black\", \"linewidth\": 1, \"mirror\": true, \"showgrid\": true, \"showline\": true, \"side\": \"left\", \"tickangle\": 0, \"tickcolor\": \"black\", \"tickfont\": {\"color\": \"black\", \"family\": \"Myriad Pro\", \"size\": 16}, \"ticklen\": 4, \"ticks\": \"outside\", \"title\": {\"font\": {\"color\": \"black\", \"family\": \"Myriad Pro\", \"size\": 16}, \"text\": \"Principal Component 2\"}, \"zeroline\": true}},                        {\"responsive\": true}                    ).then(function(){\n",
       "                            \n",
       "var gd = document.getElementById('735769e6-faf5-462e-ad12-3161a89b7384');\n",
       "var x = new MutationObserver(function (mutations, observer) {{\n",
       "        var display = window.getComputedStyle(gd).display;\n",
       "        if (!display || display === 'none') {{\n",
       "            console.log([gd, 'removed!']);\n",
       "            Plotly.purge(gd);\n",
       "            observer.disconnect();\n",
       "        }}\n",
       "}});\n",
       "\n",
       "// Listen for the removal of the full notebook cells\n",
       "var notebookContainer = gd.closest('#notebook-container');\n",
       "if (notebookContainer) {{\n",
       "    x.observe(notebookContainer, {childList: true});\n",
       "}}\n",
       "\n",
       "// Listen for the clearing of the current output cell\n",
       "var outputEl = gd.closest('.output');\n",
       "if (outputEl) {{\n",
       "    x.observe(outputEl, {childList: true});\n",
       "}}\n",
       "\n",
       "                        })                };                });            </script>        </div>"
      ]
     },
     "metadata": {},
     "output_type": "display_data"
    }
   ],
   "source": [
    "features = [ 'acetate_yield',\n",
    "             'formate_yield',\n",
    "             'lactate_yield', 'biomass_yield',\n",
    "             'growth_rate', 'pyruvate_yield', 'succinate_yield']\n",
    "tsne_plot(features,15,10)\n"
   ]
  },
  {
   "cell_type": "code",
   "execution_count": 977,
   "id": "future-silver",
   "metadata": {},
   "outputs": [
    {
     "name": "stdout",
     "output_type": "stream",
     "text": [
      "TSNE\n",
      "Learning Rate:  300\n",
      "Perplexity:  10\n"
     ]
    },
    {
     "data": {
      "application/vnd.plotly.v1+json": {
       "config": {
        "linkText": "Export to plot.ly",
        "plotlyServerURL": "https://plot.ly",
        "showLink": false
       },
       "data": [
        {
         "marker": {
          "color": "rgb(54, 146, 68)",
          "line": {
           "color": "black",
           "width": 0.5
          },
          "size": 12,
          "symbol": "circle"
         },
         "mode": "markers",
         "name": "WT",
         "type": "scatter",
         "x": [
          786.6646118164062
         ],
         "y": [
          170.12808227539062
         ]
        },
        {
         "marker": {
          "color": "rgb(33.0, 100.0, 175.0)",
          "line": {
           "color": "black",
           "width": 0.5
          },
          "size": 8,
          "symbol": "circle"
         },
         "mode": "markers",
         "showlegend": false,
         "type": "scatter",
         "x": [
          624.2056274414062,
          621.1511840820312,
          595.2238159179688
         ],
         "y": [
          164.50189208984375,
          197.3946075439453,
          178.43569946289062
         ]
        },
        {
         "marker": {
          "color": "rgb(100.0, 144.66666666666666, 194.66666666666666)",
          "line": {
           "color": "black",
           "width": 0.5
          },
          "size": 8,
          "symbol": "circle"
         },
         "mode": "markers",
         "showlegend": false,
         "type": "scatter",
         "x": [
          679.2933959960938,
          707.2481689453125,
          682.406494140625
         ],
         "y": [
          206.4298095703125,
          193.12921142578125,
          174.54795837402344
         ]
        },
        {
         "marker": {
          "color": "rgb(167.0, 189.33333333333331, 214.33333333333334)",
          "line": {
           "color": "black",
           "width": 0.5
          },
          "size": 8,
          "symbol": "circle"
         },
         "mode": "markers",
         "showlegend": false,
         "type": "scatter",
         "x": [
          833.0330810546875,
          832.4346923828125,
          803.911376953125
         ],
         "y": [
          234.08511352539062,
          196.9493408203125,
          217.4343719482422
         ]
        },
        {
         "marker": {
          "color": "rgb(228.33333333333334, 180.0, 170.0)",
          "line": {
           "color": "black",
           "width": 0.5
          },
          "size": 8,
          "symbol": "circle"
         },
         "mode": "markers",
         "showlegend": false,
         "type": "scatter",
         "x": [
          879.9852905273438,
          911.7518920898438,
          883.1297607421875
         ],
         "y": [
          193.09686279296875,
          178.0034942626953,
          230.7451934814453
         ]
        },
        {
         "marker": {
          "color": "rgb(222.66666666666666, 126.0, 106.0)",
          "line": {
           "color": "black",
           "width": 0.5
          },
          "size": 8,
          "symbol": "circle"
         },
         "mode": "markers",
         "showlegend": false,
         "type": "scatter",
         "x": [
          922.9323120117188,
          884.5477294921875,
          918.3182983398438
         ],
         "y": [
          282.7378845214844,
          270.9763488769531,
          215.1137237548828
         ]
        },
        {
         "marker": {
          "color": "rgb(217.0, 72.0, 42.0)",
          "line": {
           "color": "black",
           "width": 0.5
          },
          "size": 8,
          "symbol": "circle"
         },
         "mode": "markers",
         "showlegend": false,
         "type": "scatter",
         "x": [
          953.3981323242188,
          953.1425170898438,
          916.0035400390625
         ],
         "y": [
          213.71051025390625,
          252.5371856689453,
          247.63150024414062
         ]
        },
        {
         "marker": {
          "color": "rgb(54, 146, 68)",
          "line": {
           "color": "black",
           "width": 0.5
          },
          "size": 12,
          "symbol": "x"
         },
         "mode": "markers",
         "name": "Δ(adh,pta)-D1",
         "type": "scatter",
         "x": [
          -647.3493041992188
         ],
         "y": [
          -221.10011291503906
         ]
        },
        {
         "marker": {
          "color": "rgb(33.0, 100.0, 175.0)",
          "line": {
           "color": "black",
           "width": 0.5
          },
          "size": 8,
          "symbol": "x"
         },
         "mode": "markers",
         "showlegend": false,
         "type": "scatter",
         "x": [
          314.3634338378906,
          281.8303527832031,
          312.42742919921875
         ],
         "y": [
          71.91590118408203,
          84.46041107177734,
          104.6133041381836
         ]
        },
        {
         "marker": {
          "color": "rgb(100.0, 144.66666666666666, 194.66666666666666)",
          "line": {
           "color": "black",
           "width": 0.5
          },
          "size": 8,
          "symbol": "x"
         },
         "mode": "markers",
         "showlegend": false,
         "type": "scatter",
         "x": [
          143.9356689453125,
          141.7810516357422,
          173.3916473388672
         ],
         "y": [
          116.63594818115234,
          81.1380386352539,
          67.25748443603516
         ]
        },
        {
         "marker": {
          "color": "rgb(167.0, 189.33333333333331, 214.33333333333334)",
          "line": {
           "color": "black",
           "width": 0.5
          },
          "size": 8,
          "symbol": "x"
         },
         "mode": "markers",
         "showlegend": false,
         "type": "scatter",
         "x": [
          -422.20452880859375,
          -443.9769287109375,
          -416.28680419921875
         ],
         "y": [
          48.57027816772461,
          25.324928283691406,
          80.0555648803711
         ]
        },
        {
         "marker": {
          "color": "rgb(228.33333333333334, 180.0, 170.0)",
          "line": {
           "color": "black",
           "width": 0.5
          },
          "size": 8,
          "symbol": "x"
         },
         "mode": "markers",
         "showlegend": false,
         "type": "scatter",
         "x": [
          -659.6563110351562,
          -649.5352172851562,
          -636.3987426757812
         ],
         "y": [
          -46.724185943603516,
          -79.50914764404297,
          -19.51868438720703
         ]
        },
        {
         "marker": {
          "color": "rgb(222.66666666666666, 126.0, 106.0)",
          "line": {
           "color": "black",
           "width": 0.5
          },
          "size": 8,
          "symbol": "x"
         },
         "mode": "markers",
         "showlegend": false,
         "type": "scatter",
         "x": [
          -628.396240234375,
          -662.0631713867188,
          -700.9653930664062
         ],
         "y": [
          26.631940841674805,
          11.3936128616333,
          46.14521408081055
         ]
        },
        {
         "marker": {
          "color": "rgb(217.0, 72.0, 42.0)",
          "line": {
           "color": "black",
           "width": 0.5
          },
          "size": 8,
          "symbol": "x"
         },
         "mode": "markers",
         "showlegend": false,
         "type": "scatter",
         "x": [
          -669.3820190429688,
          -739.6442260742188,
          -745.0894165039062
         ],
         "y": [
          65.19210052490234,
          37.467037200927734,
          68.49999237060547
         ]
        },
        {
         "marker": {
          "color": "rgb(54, 146, 68)",
          "line": {
           "color": "black",
           "width": 0.5
          },
          "size": 12,
          "symbol": "diamond"
         },
         "mode": "markers",
         "name": "Δ(adh,pta)-D28",
         "type": "scatter",
         "x": [
          -641.2330932617188
         ],
         "y": [
          -244.69004821777344
         ]
        },
        {
         "marker": {
          "color": "rgb(33.0, 100.0, 175.0)",
          "line": {
           "color": "black",
           "width": 0.5
          },
          "size": 8,
          "symbol": "diamond"
         },
         "mode": "markers",
         "showlegend": false,
         "type": "scatter",
         "x": [
          273.7097473144531,
          277.9396057128906,
          306.57550048828125
         ],
         "y": [
          119.1997299194336,
          154.72048950195312,
          139.7821044921875
         ]
        },
        {
         "marker": {
          "color": "rgb(100.0, 144.66666666666666, 194.66666666666666)",
          "line": {
           "color": "black",
           "width": 0.5
          },
          "size": 8,
          "symbol": "diamond"
         },
         "mode": "markers",
         "showlegend": false,
         "type": "scatter",
         "x": [
          195.17564392089844,
          175.19393920898438,
          206.9488525390625
         ],
         "y": [
          131.71446228027344,
          104.0066146850586,
          94.26123809814453
         ]
        },
        {
         "marker": {
          "color": "rgb(167.0, 189.33333333333331, 214.33333333333334)",
          "line": {
           "color": "black",
           "width": 0.5
          },
          "size": 8,
          "symbol": "diamond"
         },
         "mode": "markers",
         "showlegend": false,
         "type": "scatter",
         "x": [
          -386.3638610839844,
          -401.2627868652344,
          -453.91778564453125
         ],
         "y": [
          52.35506057739258,
          19.437347412109375,
          63.499412536621094
         ]
        },
        {
         "marker": {
          "color": "rgb(228.33333333333334, 180.0, 170.0)",
          "line": {
           "color": "black",
           "width": 0.5
          },
          "size": 8,
          "symbol": "diamond"
         },
         "mode": "markers",
         "showlegend": false,
         "type": "scatter",
         "x": [
          -574.0458984375,
          -615.6209716796875,
          -611.1845703125
         ],
         "y": [
          -58.51726531982422,
          -51.46738815307617,
          -84.78107452392578
         ]
        },
        {
         "marker": {
          "color": "rgb(222.66666666666666, 126.0, 106.0)",
          "line": {
           "color": "black",
           "width": 0.5
          },
          "size": 8,
          "symbol": "diamond"
         },
         "mode": "markers",
         "showlegend": false,
         "type": "scatter",
         "x": [
          -711.9315185546875,
          -743.16455078125,
          -714.385498046875
         ],
         "y": [
          -70.25247192382812,
          -49.16828155517578,
          -29.101192474365234
         ]
        },
        {
         "marker": {
          "color": "rgb(217.0, 72.0, 42.0)",
          "line": {
           "color": "black",
           "width": 0.5
          },
          "size": 8,
          "symbol": "diamond"
         },
         "mode": "markers",
         "showlegend": false,
         "type": "scatter",
         "x": [
          -775.3126831054688,
          -742.3822021484375,
          -773.896484375
         ],
         "y": [
          17.256052017211914,
          -8.224862098693848,
          -20.83952522277832
         ]
        },
        {
         "marker": {
          "color": "rgb(54, 146, 68)",
          "line": {
           "color": "black",
           "width": 0.5
          },
          "size": 12,
          "symbol": "square"
         },
         "mode": "markers",
         "name": "Δ(adh,pta)-D59",
         "type": "scatter",
         "x": [
          -624.6949462890625
         ],
         "y": [
          -297.444091796875
         ]
        },
        {
         "marker": {
          "color": "rgb(33.0, 100.0, 175.0)",
          "line": {
           "color": "black",
           "width": 0.5
          },
          "size": 8,
          "symbol": "square"
         },
         "mode": "markers",
         "showlegend": false,
         "type": "scatter",
         "x": [
          359.7445983886719,
          394.14178466796875,
          374.7610778808594
         ],
         "y": [
          153.8074188232422,
          151.1477508544922,
          122.59991455078125
         ]
        },
        {
         "marker": {
          "color": "rgb(100.0, 144.66666666666666, 194.66666666666666)",
          "line": {
           "color": "black",
           "width": 0.5
          },
          "size": 8,
          "symbol": "square"
         },
         "mode": "markers",
         "showlegend": false,
         "type": "scatter",
         "x": [
          382.91046142578125,
          350.5867004394531,
          364.1036071777344
         ],
         "y": [
          210.5905303955078,
          207.59129333496094,
          235.9245147705078
         ]
        },
        {
         "marker": {
          "color": "rgb(167.0, 189.33333333333331, 214.33333333333334)",
          "line": {
           "color": "black",
           "width": 0.5
          },
          "size": 8,
          "symbol": "square"
         },
         "mode": "markers",
         "showlegend": false,
         "type": "scatter",
         "x": [
          -413.81365966796875,
          -415.83905029296875,
          -387.9180908203125
         ],
         "y": [
          -354.8519592285156,
          -323.222412109375,
          -336.56158447265625
         ]
        },
        {
         "marker": {
          "color": "rgb(228.33333333333334, 180.0, 170.0)",
          "line": {
           "color": "black",
           "width": 0.5
          },
          "size": 8,
          "symbol": "square"
         },
         "mode": "markers",
         "showlegend": false,
         "type": "scatter",
         "x": [
          -505.02032470703125,
          -484.0400085449219,
          -510.02252197265625
         ],
         "y": [
          -400.85107421875,
          -372.1848449707031,
          -346.65185546875
         ]
        },
        {
         "marker": {
          "color": "rgb(222.66666666666666, 126.0, 106.0)",
          "line": {
           "color": "black",
           "width": 0.5
          },
          "size": 8,
          "symbol": "square"
         },
         "mode": "markers",
         "showlegend": false,
         "type": "scatter",
         "x": [
          -530.9996337890625,
          -549.0053100585938,
          -546.3016967773438
         ],
         "y": [
          -379.0990295410156,
          -411.7745361328125,
          -349.0533142089844
         ]
        },
        {
         "marker": {
          "color": "rgb(217.0, 72.0, 42.0)",
          "line": {
           "color": "black",
           "width": 0.5
          },
          "size": 8,
          "symbol": "square"
         },
         "mode": "markers",
         "showlegend": false,
         "type": "scatter",
         "x": [
          -570.4364013671875,
          -581.4860229492188,
          -608.1786499023438
         ],
         "y": [
          -383.5970153808594,
          -345.9842224121094,
          -367.4614562988281
         ]
        }
       ],
       "layout": {
        "height": 475,
        "legend": {
         "font": {
          "color": "black",
          "family": "Myriad Pro",
          "size": 12
         },
         "orientation": "h",
         "x": 0.1,
         "y": -0.15
        },
        "template": {
         "data": {
          "scatter": [
           {
            "type": "scatter"
           }
          ]
         }
        },
        "width": 430,
        "xaxis": {
         "linecolor": "black",
         "linewidth": 1,
         "mirror": true,
         "nticks": 8,
         "showgrid": true,
         "showline": true,
         "side": "bottom",
         "tickangle": 0,
         "tickcolor": "black",
         "tickfont": {
          "color": "black",
          "family": "Myriad Pro",
          "size": 16
         },
         "ticklen": 4,
         "ticks": "outside",
         "title": {
          "font": {
           "color": "black",
           "family": "Myriad Pro",
           "size": 16
          },
          "standoff": 0.5,
          "text": "Component 1"
         },
         "zeroline": true
        },
        "yaxis": {
         "anchor": "x",
         "linecolor": "black",
         "linewidth": 1,
         "mirror": true,
         "showgrid": true,
         "showline": true,
         "side": "left",
         "tickangle": 0,
         "tickcolor": "black",
         "tickfont": {
          "color": "black",
          "family": "Myriad Pro",
          "size": 16
         },
         "ticklen": 4,
         "ticks": "outside",
         "title": {
          "font": {
           "color": "black",
           "family": "Myriad Pro",
           "size": 16
          },
          "text": "Component 2"
         },
         "zeroline": true
        }
       }
      },
      "text/html": [
       "<div>                            <div id=\"971dff45-56e8-41de-b95f-8b4f3a550cec\" class=\"plotly-graph-div\" style=\"height:475px; width:430px;\"></div>            <script type=\"text/javascript\">                require([\"plotly\"], function(Plotly) {                    window.PLOTLYENV=window.PLOTLYENV || {};                                    if (document.getElementById(\"971dff45-56e8-41de-b95f-8b4f3a550cec\")) {                    Plotly.newPlot(                        \"971dff45-56e8-41de-b95f-8b4f3a550cec\",                        [{\"marker\": {\"color\": \"rgb(54, 146, 68)\", \"line\": {\"color\": \"black\", \"width\": 0.5}, \"size\": 12, \"symbol\": \"circle\"}, \"mode\": \"markers\", \"name\": \"WT\", \"type\": \"scatter\", \"x\": [786.6646118164062], \"y\": [170.12808227539062]}, {\"marker\": {\"color\": \"rgb(33.0, 100.0, 175.0)\", \"line\": {\"color\": \"black\", \"width\": 0.5}, \"size\": 8, \"symbol\": \"circle\"}, \"mode\": \"markers\", \"showlegend\": false, \"type\": \"scatter\", \"x\": [624.2056274414062, 621.1511840820312, 595.2238159179688], \"y\": [164.50189208984375, 197.3946075439453, 178.43569946289062]}, {\"marker\": {\"color\": \"rgb(100.0, 144.66666666666666, 194.66666666666666)\", \"line\": {\"color\": \"black\", \"width\": 0.5}, \"size\": 8, \"symbol\": \"circle\"}, \"mode\": \"markers\", \"showlegend\": false, \"type\": \"scatter\", \"x\": [679.2933959960938, 707.2481689453125, 682.406494140625], \"y\": [206.4298095703125, 193.12921142578125, 174.54795837402344]}, {\"marker\": {\"color\": \"rgb(167.0, 189.33333333333331, 214.33333333333334)\", \"line\": {\"color\": \"black\", \"width\": 0.5}, \"size\": 8, \"symbol\": \"circle\"}, \"mode\": \"markers\", \"showlegend\": false, \"type\": \"scatter\", \"x\": [833.0330810546875, 832.4346923828125, 803.911376953125], \"y\": [234.08511352539062, 196.9493408203125, 217.4343719482422]}, {\"marker\": {\"color\": \"rgb(228.33333333333334, 180.0, 170.0)\", \"line\": {\"color\": \"black\", \"width\": 0.5}, \"size\": 8, \"symbol\": \"circle\"}, \"mode\": \"markers\", \"showlegend\": false, \"type\": \"scatter\", \"x\": [879.9852905273438, 911.7518920898438, 883.1297607421875], \"y\": [193.09686279296875, 178.0034942626953, 230.7451934814453]}, {\"marker\": {\"color\": \"rgb(222.66666666666666, 126.0, 106.0)\", \"line\": {\"color\": \"black\", \"width\": 0.5}, \"size\": 8, \"symbol\": \"circle\"}, \"mode\": \"markers\", \"showlegend\": false, \"type\": \"scatter\", \"x\": [922.9323120117188, 884.5477294921875, 918.3182983398438], \"y\": [282.7378845214844, 270.9763488769531, 215.1137237548828]}, {\"marker\": {\"color\": \"rgb(217.0, 72.0, 42.0)\", \"line\": {\"color\": \"black\", \"width\": 0.5}, \"size\": 8, \"symbol\": \"circle\"}, \"mode\": \"markers\", \"showlegend\": false, \"type\": \"scatter\", \"x\": [953.3981323242188, 953.1425170898438, 916.0035400390625], \"y\": [213.71051025390625, 252.5371856689453, 247.63150024414062]}, {\"marker\": {\"color\": \"rgb(54, 146, 68)\", \"line\": {\"color\": \"black\", \"width\": 0.5}, \"size\": 12, \"symbol\": \"x\"}, \"mode\": \"markers\", \"name\": \"\\u0394(adh,pta)-D1\", \"type\": \"scatter\", \"x\": [-647.3493041992188], \"y\": [-221.10011291503906]}, {\"marker\": {\"color\": \"rgb(33.0, 100.0, 175.0)\", \"line\": {\"color\": \"black\", \"width\": 0.5}, \"size\": 8, \"symbol\": \"x\"}, \"mode\": \"markers\", \"showlegend\": false, \"type\": \"scatter\", \"x\": [314.3634338378906, 281.8303527832031, 312.42742919921875], \"y\": [71.91590118408203, 84.46041107177734, 104.6133041381836]}, {\"marker\": {\"color\": \"rgb(100.0, 144.66666666666666, 194.66666666666666)\", \"line\": {\"color\": \"black\", \"width\": 0.5}, \"size\": 8, \"symbol\": \"x\"}, \"mode\": \"markers\", \"showlegend\": false, \"type\": \"scatter\", \"x\": [143.9356689453125, 141.7810516357422, 173.3916473388672], \"y\": [116.63594818115234, 81.1380386352539, 67.25748443603516]}, {\"marker\": {\"color\": \"rgb(167.0, 189.33333333333331, 214.33333333333334)\", \"line\": {\"color\": \"black\", \"width\": 0.5}, \"size\": 8, \"symbol\": \"x\"}, \"mode\": \"markers\", \"showlegend\": false, \"type\": \"scatter\", \"x\": [-422.20452880859375, -443.9769287109375, -416.28680419921875], \"y\": [48.57027816772461, 25.324928283691406, 80.0555648803711]}, {\"marker\": {\"color\": \"rgb(228.33333333333334, 180.0, 170.0)\", \"line\": {\"color\": \"black\", \"width\": 0.5}, \"size\": 8, \"symbol\": \"x\"}, \"mode\": \"markers\", \"showlegend\": false, \"type\": \"scatter\", \"x\": [-659.6563110351562, -649.5352172851562, -636.3987426757812], \"y\": [-46.724185943603516, -79.50914764404297, -19.51868438720703]}, {\"marker\": {\"color\": \"rgb(222.66666666666666, 126.0, 106.0)\", \"line\": {\"color\": \"black\", \"width\": 0.5}, \"size\": 8, \"symbol\": \"x\"}, \"mode\": \"markers\", \"showlegend\": false, \"type\": \"scatter\", \"x\": [-628.396240234375, -662.0631713867188, -700.9653930664062], \"y\": [26.631940841674805, 11.3936128616333, 46.14521408081055]}, {\"marker\": {\"color\": \"rgb(217.0, 72.0, 42.0)\", \"line\": {\"color\": \"black\", \"width\": 0.5}, \"size\": 8, \"symbol\": \"x\"}, \"mode\": \"markers\", \"showlegend\": false, \"type\": \"scatter\", \"x\": [-669.3820190429688, -739.6442260742188, -745.0894165039062], \"y\": [65.19210052490234, 37.467037200927734, 68.49999237060547]}, {\"marker\": {\"color\": \"rgb(54, 146, 68)\", \"line\": {\"color\": \"black\", \"width\": 0.5}, \"size\": 12, \"symbol\": \"diamond\"}, \"mode\": \"markers\", \"name\": \"\\u0394(adh,pta)-D28\", \"type\": \"scatter\", \"x\": [-641.2330932617188], \"y\": [-244.69004821777344]}, {\"marker\": {\"color\": \"rgb(33.0, 100.0, 175.0)\", \"line\": {\"color\": \"black\", \"width\": 0.5}, \"size\": 8, \"symbol\": \"diamond\"}, \"mode\": \"markers\", \"showlegend\": false, \"type\": \"scatter\", \"x\": [273.7097473144531, 277.9396057128906, 306.57550048828125], \"y\": [119.1997299194336, 154.72048950195312, 139.7821044921875]}, {\"marker\": {\"color\": \"rgb(100.0, 144.66666666666666, 194.66666666666666)\", \"line\": {\"color\": \"black\", \"width\": 0.5}, \"size\": 8, \"symbol\": \"diamond\"}, \"mode\": \"markers\", \"showlegend\": false, \"type\": \"scatter\", \"x\": [195.17564392089844, 175.19393920898438, 206.9488525390625], \"y\": [131.71446228027344, 104.0066146850586, 94.26123809814453]}, {\"marker\": {\"color\": \"rgb(167.0, 189.33333333333331, 214.33333333333334)\", \"line\": {\"color\": \"black\", \"width\": 0.5}, \"size\": 8, \"symbol\": \"diamond\"}, \"mode\": \"markers\", \"showlegend\": false, \"type\": \"scatter\", \"x\": [-386.3638610839844, -401.2627868652344, -453.91778564453125], \"y\": [52.35506057739258, 19.437347412109375, 63.499412536621094]}, {\"marker\": {\"color\": \"rgb(228.33333333333334, 180.0, 170.0)\", \"line\": {\"color\": \"black\", \"width\": 0.5}, \"size\": 8, \"symbol\": \"diamond\"}, \"mode\": \"markers\", \"showlegend\": false, \"type\": \"scatter\", \"x\": [-574.0458984375, -615.6209716796875, -611.1845703125], \"y\": [-58.51726531982422, -51.46738815307617, -84.78107452392578]}, {\"marker\": {\"color\": \"rgb(222.66666666666666, 126.0, 106.0)\", \"line\": {\"color\": \"black\", \"width\": 0.5}, \"size\": 8, \"symbol\": \"diamond\"}, \"mode\": \"markers\", \"showlegend\": false, \"type\": \"scatter\", \"x\": [-711.9315185546875, -743.16455078125, -714.385498046875], \"y\": [-70.25247192382812, -49.16828155517578, -29.101192474365234]}, {\"marker\": {\"color\": \"rgb(217.0, 72.0, 42.0)\", \"line\": {\"color\": \"black\", \"width\": 0.5}, \"size\": 8, \"symbol\": \"diamond\"}, \"mode\": \"markers\", \"showlegend\": false, \"type\": \"scatter\", \"x\": [-775.3126831054688, -742.3822021484375, -773.896484375], \"y\": [17.256052017211914, -8.224862098693848, -20.83952522277832]}, {\"marker\": {\"color\": \"rgb(54, 146, 68)\", \"line\": {\"color\": \"black\", \"width\": 0.5}, \"size\": 12, \"symbol\": \"square\"}, \"mode\": \"markers\", \"name\": \"\\u0394(adh,pta)-D59\", \"type\": \"scatter\", \"x\": [-624.6949462890625], \"y\": [-297.444091796875]}, {\"marker\": {\"color\": \"rgb(33.0, 100.0, 175.0)\", \"line\": {\"color\": \"black\", \"width\": 0.5}, \"size\": 8, \"symbol\": \"square\"}, \"mode\": \"markers\", \"showlegend\": false, \"type\": \"scatter\", \"x\": [359.7445983886719, 394.14178466796875, 374.7610778808594], \"y\": [153.8074188232422, 151.1477508544922, 122.59991455078125]}, {\"marker\": {\"color\": \"rgb(100.0, 144.66666666666666, 194.66666666666666)\", \"line\": {\"color\": \"black\", \"width\": 0.5}, \"size\": 8, \"symbol\": \"square\"}, \"mode\": \"markers\", \"showlegend\": false, \"type\": \"scatter\", \"x\": [382.91046142578125, 350.5867004394531, 364.1036071777344], \"y\": [210.5905303955078, 207.59129333496094, 235.9245147705078]}, {\"marker\": {\"color\": \"rgb(167.0, 189.33333333333331, 214.33333333333334)\", \"line\": {\"color\": \"black\", \"width\": 0.5}, \"size\": 8, \"symbol\": \"square\"}, \"mode\": \"markers\", \"showlegend\": false, \"type\": \"scatter\", \"x\": [-413.81365966796875, -415.83905029296875, -387.9180908203125], \"y\": [-354.8519592285156, -323.222412109375, -336.56158447265625]}, {\"marker\": {\"color\": \"rgb(228.33333333333334, 180.0, 170.0)\", \"line\": {\"color\": \"black\", \"width\": 0.5}, \"size\": 8, \"symbol\": \"square\"}, \"mode\": \"markers\", \"showlegend\": false, \"type\": \"scatter\", \"x\": [-505.02032470703125, -484.0400085449219, -510.02252197265625], \"y\": [-400.85107421875, -372.1848449707031, -346.65185546875]}, {\"marker\": {\"color\": \"rgb(222.66666666666666, 126.0, 106.0)\", \"line\": {\"color\": \"black\", \"width\": 0.5}, \"size\": 8, \"symbol\": \"square\"}, \"mode\": \"markers\", \"showlegend\": false, \"type\": \"scatter\", \"x\": [-530.9996337890625, -549.0053100585938, -546.3016967773438], \"y\": [-379.0990295410156, -411.7745361328125, -349.0533142089844]}, {\"marker\": {\"color\": \"rgb(217.0, 72.0, 42.0)\", \"line\": {\"color\": \"black\", \"width\": 0.5}, \"size\": 8, \"symbol\": \"square\"}, \"mode\": \"markers\", \"showlegend\": false, \"type\": \"scatter\", \"x\": [-570.4364013671875, -581.4860229492188, -608.1786499023438], \"y\": [-383.5970153808594, -345.9842224121094, -367.4614562988281]}],                        {\"height\": 475, \"legend\": {\"font\": {\"color\": \"black\", \"family\": \"Myriad Pro\", \"size\": 12}, \"orientation\": \"h\", \"x\": 0.1, \"y\": -0.15}, \"template\": {\"data\": {\"scatter\": [{\"type\": \"scatter\"}]}}, \"width\": 430, \"xaxis\": {\"linecolor\": \"black\", \"linewidth\": 1, \"mirror\": true, \"nticks\": 8, \"showgrid\": true, \"showline\": true, \"side\": \"bottom\", \"tickangle\": 0, \"tickcolor\": \"black\", \"tickfont\": {\"color\": \"black\", \"family\": \"Myriad Pro\", \"size\": 16}, \"ticklen\": 4, \"ticks\": \"outside\", \"title\": {\"font\": {\"color\": \"black\", \"family\": \"Myriad Pro\", \"size\": 16}, \"standoff\": 0.5, \"text\": \"Component 1\"}, \"zeroline\": true}, \"yaxis\": {\"anchor\": \"x\", \"linecolor\": \"black\", \"linewidth\": 1, \"mirror\": true, \"showgrid\": true, \"showline\": true, \"side\": \"left\", \"tickangle\": 0, \"tickcolor\": \"black\", \"tickfont\": {\"color\": \"black\", \"family\": \"Myriad Pro\", \"size\": 16}, \"ticklen\": 4, \"ticks\": \"outside\", \"title\": {\"font\": {\"color\": \"black\", \"family\": \"Myriad Pro\", \"size\": 16}, \"text\": \"Component 2\"}, \"zeroline\": true}},                        {\"responsive\": true}                    ).then(function(){\n",
       "                            \n",
       "var gd = document.getElementById('971dff45-56e8-41de-b95f-8b4f3a550cec');\n",
       "var x = new MutationObserver(function (mutations, observer) {{\n",
       "        var display = window.getComputedStyle(gd).display;\n",
       "        if (!display || display === 'none') {{\n",
       "            console.log([gd, 'removed!']);\n",
       "            Plotly.purge(gd);\n",
       "            observer.disconnect();\n",
       "        }}\n",
       "}});\n",
       "\n",
       "// Listen for the removal of the full notebook cells\n",
       "var notebookContainer = gd.closest('#notebook-container');\n",
       "if (notebookContainer) {{\n",
       "    x.observe(notebookContainer, {childList: true});\n",
       "}}\n",
       "\n",
       "// Listen for the clearing of the current output cell\n",
       "var outputEl = gd.closest('.output');\n",
       "if (outputEl) {{\n",
       "    x.observe(outputEl, {childList: true});\n",
       "}}\n",
       "\n",
       "                        })                };                });            </script>        </div>"
      ]
     },
     "metadata": {},
     "output_type": "display_data"
    },
    {
     "data": {
      "application/vnd.plotly.v1+json": {
       "config": {
        "plotlyServerURL": "https://plot.ly"
       },
       "data": [
        {
         "marker": {
          "color": "rgb(54, 146, 68)",
          "line": {
           "color": "black",
           "width": 0.5
          },
          "size": 12,
          "symbol": "circle"
         },
         "mode": "markers",
         "name": "WT",
         "type": "scatter",
         "x": [
          786.6646118164062
         ],
         "y": [
          170.12808227539062
         ]
        },
        {
         "marker": {
          "color": "rgb(33.0, 100.0, 175.0)",
          "line": {
           "color": "black",
           "width": 0.5
          },
          "size": 8,
          "symbol": "circle"
         },
         "mode": "markers",
         "showlegend": false,
         "type": "scatter",
         "x": [
          624.2056274414062,
          621.1511840820312,
          595.2238159179688
         ],
         "y": [
          164.50189208984375,
          197.3946075439453,
          178.43569946289062
         ]
        },
        {
         "marker": {
          "color": "rgb(100.0, 144.66666666666666, 194.66666666666666)",
          "line": {
           "color": "black",
           "width": 0.5
          },
          "size": 8,
          "symbol": "circle"
         },
         "mode": "markers",
         "showlegend": false,
         "type": "scatter",
         "x": [
          679.2933959960938,
          707.2481689453125,
          682.406494140625
         ],
         "y": [
          206.4298095703125,
          193.12921142578125,
          174.54795837402344
         ]
        },
        {
         "marker": {
          "color": "rgb(167.0, 189.33333333333331, 214.33333333333334)",
          "line": {
           "color": "black",
           "width": 0.5
          },
          "size": 8,
          "symbol": "circle"
         },
         "mode": "markers",
         "showlegend": false,
         "type": "scatter",
         "x": [
          833.0330810546875,
          832.4346923828125,
          803.911376953125
         ],
         "y": [
          234.08511352539062,
          196.9493408203125,
          217.4343719482422
         ]
        },
        {
         "marker": {
          "color": "rgb(228.33333333333334, 180.0, 170.0)",
          "line": {
           "color": "black",
           "width": 0.5
          },
          "size": 8,
          "symbol": "circle"
         },
         "mode": "markers",
         "showlegend": false,
         "type": "scatter",
         "x": [
          879.9852905273438,
          911.7518920898438,
          883.1297607421875
         ],
         "y": [
          193.09686279296875,
          178.0034942626953,
          230.7451934814453
         ]
        },
        {
         "marker": {
          "color": "rgb(222.66666666666666, 126.0, 106.0)",
          "line": {
           "color": "black",
           "width": 0.5
          },
          "size": 8,
          "symbol": "circle"
         },
         "mode": "markers",
         "showlegend": false,
         "type": "scatter",
         "x": [
          922.9323120117188,
          884.5477294921875,
          918.3182983398438
         ],
         "y": [
          282.7378845214844,
          270.9763488769531,
          215.1137237548828
         ]
        },
        {
         "marker": {
          "color": "rgb(217.0, 72.0, 42.0)",
          "line": {
           "color": "black",
           "width": 0.5
          },
          "size": 8,
          "symbol": "circle"
         },
         "mode": "markers",
         "showlegend": false,
         "type": "scatter",
         "x": [
          953.3981323242188,
          953.1425170898438,
          916.0035400390625
         ],
         "y": [
          213.71051025390625,
          252.5371856689453,
          247.63150024414062
         ]
        },
        {
         "marker": {
          "color": "rgb(54, 146, 68)",
          "line": {
           "color": "black",
           "width": 0.5
          },
          "size": 12,
          "symbol": "x"
         },
         "mode": "markers",
         "name": "Δ(adh,pta)-D1",
         "type": "scatter",
         "x": [
          -647.3493041992188
         ],
         "y": [
          -221.10011291503906
         ]
        },
        {
         "marker": {
          "color": "rgb(33.0, 100.0, 175.0)",
          "line": {
           "color": "black",
           "width": 0.5
          },
          "size": 8,
          "symbol": "x"
         },
         "mode": "markers",
         "showlegend": false,
         "type": "scatter",
         "x": [
          314.3634338378906,
          281.8303527832031,
          312.42742919921875
         ],
         "y": [
          71.91590118408203,
          84.46041107177734,
          104.6133041381836
         ]
        },
        {
         "marker": {
          "color": "rgb(100.0, 144.66666666666666, 194.66666666666666)",
          "line": {
           "color": "black",
           "width": 0.5
          },
          "size": 8,
          "symbol": "x"
         },
         "mode": "markers",
         "showlegend": false,
         "type": "scatter",
         "x": [
          143.9356689453125,
          141.7810516357422,
          173.3916473388672
         ],
         "y": [
          116.63594818115234,
          81.1380386352539,
          67.25748443603516
         ]
        },
        {
         "marker": {
          "color": "rgb(167.0, 189.33333333333331, 214.33333333333334)",
          "line": {
           "color": "black",
           "width": 0.5
          },
          "size": 8,
          "symbol": "x"
         },
         "mode": "markers",
         "showlegend": false,
         "type": "scatter",
         "x": [
          -422.20452880859375,
          -443.9769287109375,
          -416.28680419921875
         ],
         "y": [
          48.57027816772461,
          25.324928283691406,
          80.0555648803711
         ]
        },
        {
         "marker": {
          "color": "rgb(228.33333333333334, 180.0, 170.0)",
          "line": {
           "color": "black",
           "width": 0.5
          },
          "size": 8,
          "symbol": "x"
         },
         "mode": "markers",
         "showlegend": false,
         "type": "scatter",
         "x": [
          -659.6563110351562,
          -649.5352172851562,
          -636.3987426757812
         ],
         "y": [
          -46.724185943603516,
          -79.50914764404297,
          -19.51868438720703
         ]
        },
        {
         "marker": {
          "color": "rgb(222.66666666666666, 126.0, 106.0)",
          "line": {
           "color": "black",
           "width": 0.5
          },
          "size": 8,
          "symbol": "x"
         },
         "mode": "markers",
         "showlegend": false,
         "type": "scatter",
         "x": [
          -628.396240234375,
          -662.0631713867188,
          -700.9653930664062
         ],
         "y": [
          26.631940841674805,
          11.3936128616333,
          46.14521408081055
         ]
        },
        {
         "marker": {
          "color": "rgb(217.0, 72.0, 42.0)",
          "line": {
           "color": "black",
           "width": 0.5
          },
          "size": 8,
          "symbol": "x"
         },
         "mode": "markers",
         "showlegend": false,
         "type": "scatter",
         "x": [
          -669.3820190429688,
          -739.6442260742188,
          -745.0894165039062
         ],
         "y": [
          65.19210052490234,
          37.467037200927734,
          68.49999237060547
         ]
        },
        {
         "marker": {
          "color": "rgb(54, 146, 68)",
          "line": {
           "color": "black",
           "width": 0.5
          },
          "size": 12,
          "symbol": "diamond"
         },
         "mode": "markers",
         "name": "Δ(adh,pta)-D28",
         "type": "scatter",
         "x": [
          -641.2330932617188
         ],
         "y": [
          -244.69004821777344
         ]
        },
        {
         "marker": {
          "color": "rgb(33.0, 100.0, 175.0)",
          "line": {
           "color": "black",
           "width": 0.5
          },
          "size": 8,
          "symbol": "diamond"
         },
         "mode": "markers",
         "showlegend": false,
         "type": "scatter",
         "x": [
          273.7097473144531,
          277.9396057128906,
          306.57550048828125
         ],
         "y": [
          119.1997299194336,
          154.72048950195312,
          139.7821044921875
         ]
        },
        {
         "marker": {
          "color": "rgb(100.0, 144.66666666666666, 194.66666666666666)",
          "line": {
           "color": "black",
           "width": 0.5
          },
          "size": 8,
          "symbol": "diamond"
         },
         "mode": "markers",
         "showlegend": false,
         "type": "scatter",
         "x": [
          195.17564392089844,
          175.19393920898438,
          206.9488525390625
         ],
         "y": [
          131.71446228027344,
          104.0066146850586,
          94.26123809814453
         ]
        },
        {
         "marker": {
          "color": "rgb(167.0, 189.33333333333331, 214.33333333333334)",
          "line": {
           "color": "black",
           "width": 0.5
          },
          "size": 8,
          "symbol": "diamond"
         },
         "mode": "markers",
         "showlegend": false,
         "type": "scatter",
         "x": [
          -386.3638610839844,
          -401.2627868652344,
          -453.91778564453125
         ],
         "y": [
          52.35506057739258,
          19.437347412109375,
          63.499412536621094
         ]
        },
        {
         "marker": {
          "color": "rgb(228.33333333333334, 180.0, 170.0)",
          "line": {
           "color": "black",
           "width": 0.5
          },
          "size": 8,
          "symbol": "diamond"
         },
         "mode": "markers",
         "showlegend": false,
         "type": "scatter",
         "x": [
          -574.0458984375,
          -615.6209716796875,
          -611.1845703125
         ],
         "y": [
          -58.51726531982422,
          -51.46738815307617,
          -84.78107452392578
         ]
        },
        {
         "marker": {
          "color": "rgb(222.66666666666666, 126.0, 106.0)",
          "line": {
           "color": "black",
           "width": 0.5
          },
          "size": 8,
          "symbol": "diamond"
         },
         "mode": "markers",
         "showlegend": false,
         "type": "scatter",
         "x": [
          -711.9315185546875,
          -743.16455078125,
          -714.385498046875
         ],
         "y": [
          -70.25247192382812,
          -49.16828155517578,
          -29.101192474365234
         ]
        },
        {
         "marker": {
          "color": "rgb(217.0, 72.0, 42.0)",
          "line": {
           "color": "black",
           "width": 0.5
          },
          "size": 8,
          "symbol": "diamond"
         },
         "mode": "markers",
         "showlegend": false,
         "type": "scatter",
         "x": [
          -775.3126831054688,
          -742.3822021484375,
          -773.896484375
         ],
         "y": [
          17.256052017211914,
          -8.224862098693848,
          -20.83952522277832
         ]
        },
        {
         "marker": {
          "color": "rgb(54, 146, 68)",
          "line": {
           "color": "black",
           "width": 0.5
          },
          "size": 12,
          "symbol": "square"
         },
         "mode": "markers",
         "name": "Δ(adh,pta)-D59",
         "type": "scatter",
         "x": [
          -624.6949462890625
         ],
         "y": [
          -297.444091796875
         ]
        },
        {
         "marker": {
          "color": "rgb(33.0, 100.0, 175.0)",
          "line": {
           "color": "black",
           "width": 0.5
          },
          "size": 8,
          "symbol": "square"
         },
         "mode": "markers",
         "showlegend": false,
         "type": "scatter",
         "x": [
          359.7445983886719,
          394.14178466796875,
          374.7610778808594
         ],
         "y": [
          153.8074188232422,
          151.1477508544922,
          122.59991455078125
         ]
        },
        {
         "marker": {
          "color": "rgb(100.0, 144.66666666666666, 194.66666666666666)",
          "line": {
           "color": "black",
           "width": 0.5
          },
          "size": 8,
          "symbol": "square"
         },
         "mode": "markers",
         "showlegend": false,
         "type": "scatter",
         "x": [
          382.91046142578125,
          350.5867004394531,
          364.1036071777344
         ],
         "y": [
          210.5905303955078,
          207.59129333496094,
          235.9245147705078
         ]
        },
        {
         "marker": {
          "color": "rgb(167.0, 189.33333333333331, 214.33333333333334)",
          "line": {
           "color": "black",
           "width": 0.5
          },
          "size": 8,
          "symbol": "square"
         },
         "mode": "markers",
         "showlegend": false,
         "type": "scatter",
         "x": [
          -413.81365966796875,
          -415.83905029296875,
          -387.9180908203125
         ],
         "y": [
          -354.8519592285156,
          -323.222412109375,
          -336.56158447265625
         ]
        },
        {
         "marker": {
          "color": "rgb(228.33333333333334, 180.0, 170.0)",
          "line": {
           "color": "black",
           "width": 0.5
          },
          "size": 8,
          "symbol": "square"
         },
         "mode": "markers",
         "showlegend": false,
         "type": "scatter",
         "x": [
          -505.02032470703125,
          -484.0400085449219,
          -510.02252197265625
         ],
         "y": [
          -400.85107421875,
          -372.1848449707031,
          -346.65185546875
         ]
        },
        {
         "marker": {
          "color": "rgb(222.66666666666666, 126.0, 106.0)",
          "line": {
           "color": "black",
           "width": 0.5
          },
          "size": 8,
          "symbol": "square"
         },
         "mode": "markers",
         "showlegend": false,
         "type": "scatter",
         "x": [
          -530.9996337890625,
          -549.0053100585938,
          -546.3016967773438
         ],
         "y": [
          -379.0990295410156,
          -411.7745361328125,
          -349.0533142089844
         ]
        },
        {
         "marker": {
          "color": "rgb(217.0, 72.0, 42.0)",
          "line": {
           "color": "black",
           "width": 0.5
          },
          "size": 8,
          "symbol": "square"
         },
         "mode": "markers",
         "showlegend": false,
         "type": "scatter",
         "x": [
          -570.4364013671875,
          -581.4860229492188,
          -608.1786499023438
         ],
         "y": [
          -383.5970153808594,
          -345.9842224121094,
          -367.4614562988281
         ]
        }
       ],
       "layout": {
        "height": 475,
        "legend": {
         "font": {
          "color": "black",
          "family": "Myriad Pro",
          "size": 12
         },
         "orientation": "h",
         "x": 0.1,
         "y": -0.15
        },
        "template": {
         "data": {
          "scatter": [
           {
            "type": "scatter"
           }
          ]
         }
        },
        "width": 430,
        "xaxis": {
         "linecolor": "black",
         "linewidth": 1,
         "mirror": true,
         "nticks": 8,
         "showgrid": true,
         "showline": true,
         "side": "bottom",
         "tickangle": 0,
         "tickcolor": "black",
         "tickfont": {
          "color": "black",
          "family": "Myriad Pro",
          "size": 16
         },
         "ticklen": 4,
         "ticks": "outside",
         "title": {
          "font": {
           "color": "black",
           "family": "Myriad Pro",
           "size": 16
          },
          "standoff": 0.5,
          "text": "Component 1"
         },
         "zeroline": true
        },
        "yaxis": {
         "anchor": "x",
         "linecolor": "black",
         "linewidth": 1,
         "mirror": true,
         "showgrid": true,
         "showline": true,
         "side": "left",
         "tickangle": 0,
         "tickcolor": "black",
         "tickfont": {
          "color": "black",
          "family": "Myriad Pro",
          "size": 16
         },
         "ticklen": 4,
         "ticks": "outside",
         "title": {
          "font": {
           "color": "black",
           "family": "Myriad Pro",
           "size": 16
          },
          "text": "Component 2"
         },
         "zeroline": true
        }
       }
      },
      "text/html": [
       "<div>                            <div id=\"7727be65-4540-4409-9150-25d447638f45\" class=\"plotly-graph-div\" style=\"height:475px; width:430px;\"></div>            <script type=\"text/javascript\">                require([\"plotly\"], function(Plotly) {                    window.PLOTLYENV=window.PLOTLYENV || {};                                    if (document.getElementById(\"7727be65-4540-4409-9150-25d447638f45\")) {                    Plotly.newPlot(                        \"7727be65-4540-4409-9150-25d447638f45\",                        [{\"marker\": {\"color\": \"rgb(54, 146, 68)\", \"line\": {\"color\": \"black\", \"width\": 0.5}, \"size\": 12, \"symbol\": \"circle\"}, \"mode\": \"markers\", \"name\": \"WT\", \"type\": \"scatter\", \"x\": [786.6646118164062], \"y\": [170.12808227539062]}, {\"marker\": {\"color\": \"rgb(33.0, 100.0, 175.0)\", \"line\": {\"color\": \"black\", \"width\": 0.5}, \"size\": 8, \"symbol\": \"circle\"}, \"mode\": \"markers\", \"showlegend\": false, \"type\": \"scatter\", \"x\": [624.2056274414062, 621.1511840820312, 595.2238159179688], \"y\": [164.50189208984375, 197.3946075439453, 178.43569946289062]}, {\"marker\": {\"color\": \"rgb(100.0, 144.66666666666666, 194.66666666666666)\", \"line\": {\"color\": \"black\", \"width\": 0.5}, \"size\": 8, \"symbol\": \"circle\"}, \"mode\": \"markers\", \"showlegend\": false, \"type\": \"scatter\", \"x\": [679.2933959960938, 707.2481689453125, 682.406494140625], \"y\": [206.4298095703125, 193.12921142578125, 174.54795837402344]}, {\"marker\": {\"color\": \"rgb(167.0, 189.33333333333331, 214.33333333333334)\", \"line\": {\"color\": \"black\", \"width\": 0.5}, \"size\": 8, \"symbol\": \"circle\"}, \"mode\": \"markers\", \"showlegend\": false, \"type\": \"scatter\", \"x\": [833.0330810546875, 832.4346923828125, 803.911376953125], \"y\": [234.08511352539062, 196.9493408203125, 217.4343719482422]}, {\"marker\": {\"color\": \"rgb(228.33333333333334, 180.0, 170.0)\", \"line\": {\"color\": \"black\", \"width\": 0.5}, \"size\": 8, \"symbol\": \"circle\"}, \"mode\": \"markers\", \"showlegend\": false, \"type\": \"scatter\", \"x\": [879.9852905273438, 911.7518920898438, 883.1297607421875], \"y\": [193.09686279296875, 178.0034942626953, 230.7451934814453]}, {\"marker\": {\"color\": \"rgb(222.66666666666666, 126.0, 106.0)\", \"line\": {\"color\": \"black\", \"width\": 0.5}, \"size\": 8, \"symbol\": \"circle\"}, \"mode\": \"markers\", \"showlegend\": false, \"type\": \"scatter\", \"x\": [922.9323120117188, 884.5477294921875, 918.3182983398438], \"y\": [282.7378845214844, 270.9763488769531, 215.1137237548828]}, {\"marker\": {\"color\": \"rgb(217.0, 72.0, 42.0)\", \"line\": {\"color\": \"black\", \"width\": 0.5}, \"size\": 8, \"symbol\": \"circle\"}, \"mode\": \"markers\", \"showlegend\": false, \"type\": \"scatter\", \"x\": [953.3981323242188, 953.1425170898438, 916.0035400390625], \"y\": [213.71051025390625, 252.5371856689453, 247.63150024414062]}, {\"marker\": {\"color\": \"rgb(54, 146, 68)\", \"line\": {\"color\": \"black\", \"width\": 0.5}, \"size\": 12, \"symbol\": \"x\"}, \"mode\": \"markers\", \"name\": \"\\u0394(adh,pta)-D1\", \"type\": \"scatter\", \"x\": [-647.3493041992188], \"y\": [-221.10011291503906]}, {\"marker\": {\"color\": \"rgb(33.0, 100.0, 175.0)\", \"line\": {\"color\": \"black\", \"width\": 0.5}, \"size\": 8, \"symbol\": \"x\"}, \"mode\": \"markers\", \"showlegend\": false, \"type\": \"scatter\", \"x\": [314.3634338378906, 281.8303527832031, 312.42742919921875], \"y\": [71.91590118408203, 84.46041107177734, 104.6133041381836]}, {\"marker\": {\"color\": \"rgb(100.0, 144.66666666666666, 194.66666666666666)\", \"line\": {\"color\": \"black\", \"width\": 0.5}, \"size\": 8, \"symbol\": \"x\"}, \"mode\": \"markers\", \"showlegend\": false, \"type\": \"scatter\", \"x\": [143.9356689453125, 141.7810516357422, 173.3916473388672], \"y\": [116.63594818115234, 81.1380386352539, 67.25748443603516]}, {\"marker\": {\"color\": \"rgb(167.0, 189.33333333333331, 214.33333333333334)\", \"line\": {\"color\": \"black\", \"width\": 0.5}, \"size\": 8, \"symbol\": \"x\"}, \"mode\": \"markers\", \"showlegend\": false, \"type\": \"scatter\", \"x\": [-422.20452880859375, -443.9769287109375, -416.28680419921875], \"y\": [48.57027816772461, 25.324928283691406, 80.0555648803711]}, {\"marker\": {\"color\": \"rgb(228.33333333333334, 180.0, 170.0)\", \"line\": {\"color\": \"black\", \"width\": 0.5}, \"size\": 8, \"symbol\": \"x\"}, \"mode\": \"markers\", \"showlegend\": false, \"type\": \"scatter\", \"x\": [-659.6563110351562, -649.5352172851562, -636.3987426757812], \"y\": [-46.724185943603516, -79.50914764404297, -19.51868438720703]}, {\"marker\": {\"color\": \"rgb(222.66666666666666, 126.0, 106.0)\", \"line\": {\"color\": \"black\", \"width\": 0.5}, \"size\": 8, \"symbol\": \"x\"}, \"mode\": \"markers\", \"showlegend\": false, \"type\": \"scatter\", \"x\": [-628.396240234375, -662.0631713867188, -700.9653930664062], \"y\": [26.631940841674805, 11.3936128616333, 46.14521408081055]}, {\"marker\": {\"color\": \"rgb(217.0, 72.0, 42.0)\", \"line\": {\"color\": \"black\", \"width\": 0.5}, \"size\": 8, \"symbol\": \"x\"}, \"mode\": \"markers\", \"showlegend\": false, \"type\": \"scatter\", \"x\": [-669.3820190429688, -739.6442260742188, -745.0894165039062], \"y\": [65.19210052490234, 37.467037200927734, 68.49999237060547]}, {\"marker\": {\"color\": \"rgb(54, 146, 68)\", \"line\": {\"color\": \"black\", \"width\": 0.5}, \"size\": 12, \"symbol\": \"diamond\"}, \"mode\": \"markers\", \"name\": \"\\u0394(adh,pta)-D28\", \"type\": \"scatter\", \"x\": [-641.2330932617188], \"y\": [-244.69004821777344]}, {\"marker\": {\"color\": \"rgb(33.0, 100.0, 175.0)\", \"line\": {\"color\": \"black\", \"width\": 0.5}, \"size\": 8, \"symbol\": \"diamond\"}, \"mode\": \"markers\", \"showlegend\": false, \"type\": \"scatter\", \"x\": [273.7097473144531, 277.9396057128906, 306.57550048828125], \"y\": [119.1997299194336, 154.72048950195312, 139.7821044921875]}, {\"marker\": {\"color\": \"rgb(100.0, 144.66666666666666, 194.66666666666666)\", \"line\": {\"color\": \"black\", \"width\": 0.5}, \"size\": 8, \"symbol\": \"diamond\"}, \"mode\": \"markers\", \"showlegend\": false, \"type\": \"scatter\", \"x\": [195.17564392089844, 175.19393920898438, 206.9488525390625], \"y\": [131.71446228027344, 104.0066146850586, 94.26123809814453]}, {\"marker\": {\"color\": \"rgb(167.0, 189.33333333333331, 214.33333333333334)\", \"line\": {\"color\": \"black\", \"width\": 0.5}, \"size\": 8, \"symbol\": \"diamond\"}, \"mode\": \"markers\", \"showlegend\": false, \"type\": \"scatter\", \"x\": [-386.3638610839844, -401.2627868652344, -453.91778564453125], \"y\": [52.35506057739258, 19.437347412109375, 63.499412536621094]}, {\"marker\": {\"color\": \"rgb(228.33333333333334, 180.0, 170.0)\", \"line\": {\"color\": \"black\", \"width\": 0.5}, \"size\": 8, \"symbol\": \"diamond\"}, \"mode\": \"markers\", \"showlegend\": false, \"type\": \"scatter\", \"x\": [-574.0458984375, -615.6209716796875, -611.1845703125], \"y\": [-58.51726531982422, -51.46738815307617, -84.78107452392578]}, {\"marker\": {\"color\": \"rgb(222.66666666666666, 126.0, 106.0)\", \"line\": {\"color\": \"black\", \"width\": 0.5}, \"size\": 8, \"symbol\": \"diamond\"}, \"mode\": \"markers\", \"showlegend\": false, \"type\": \"scatter\", \"x\": [-711.9315185546875, -743.16455078125, -714.385498046875], \"y\": [-70.25247192382812, -49.16828155517578, -29.101192474365234]}, {\"marker\": {\"color\": \"rgb(217.0, 72.0, 42.0)\", \"line\": {\"color\": \"black\", \"width\": 0.5}, \"size\": 8, \"symbol\": \"diamond\"}, \"mode\": \"markers\", \"showlegend\": false, \"type\": \"scatter\", \"x\": [-775.3126831054688, -742.3822021484375, -773.896484375], \"y\": [17.256052017211914, -8.224862098693848, -20.83952522277832]}, {\"marker\": {\"color\": \"rgb(54, 146, 68)\", \"line\": {\"color\": \"black\", \"width\": 0.5}, \"size\": 12, \"symbol\": \"square\"}, \"mode\": \"markers\", \"name\": \"\\u0394(adh,pta)-D59\", \"type\": \"scatter\", \"x\": [-624.6949462890625], \"y\": [-297.444091796875]}, {\"marker\": {\"color\": \"rgb(33.0, 100.0, 175.0)\", \"line\": {\"color\": \"black\", \"width\": 0.5}, \"size\": 8, \"symbol\": \"square\"}, \"mode\": \"markers\", \"showlegend\": false, \"type\": \"scatter\", \"x\": [359.7445983886719, 394.14178466796875, 374.7610778808594], \"y\": [153.8074188232422, 151.1477508544922, 122.59991455078125]}, {\"marker\": {\"color\": \"rgb(100.0, 144.66666666666666, 194.66666666666666)\", \"line\": {\"color\": \"black\", \"width\": 0.5}, \"size\": 8, \"symbol\": \"square\"}, \"mode\": \"markers\", \"showlegend\": false, \"type\": \"scatter\", \"x\": [382.91046142578125, 350.5867004394531, 364.1036071777344], \"y\": [210.5905303955078, 207.59129333496094, 235.9245147705078]}, {\"marker\": {\"color\": \"rgb(167.0, 189.33333333333331, 214.33333333333334)\", \"line\": {\"color\": \"black\", \"width\": 0.5}, \"size\": 8, \"symbol\": \"square\"}, \"mode\": \"markers\", \"showlegend\": false, \"type\": \"scatter\", \"x\": [-413.81365966796875, -415.83905029296875, -387.9180908203125], \"y\": [-354.8519592285156, -323.222412109375, -336.56158447265625]}, {\"marker\": {\"color\": \"rgb(228.33333333333334, 180.0, 170.0)\", \"line\": {\"color\": \"black\", \"width\": 0.5}, \"size\": 8, \"symbol\": \"square\"}, \"mode\": \"markers\", \"showlegend\": false, \"type\": \"scatter\", \"x\": [-505.02032470703125, -484.0400085449219, -510.02252197265625], \"y\": [-400.85107421875, -372.1848449707031, -346.65185546875]}, {\"marker\": {\"color\": \"rgb(222.66666666666666, 126.0, 106.0)\", \"line\": {\"color\": \"black\", \"width\": 0.5}, \"size\": 8, \"symbol\": \"square\"}, \"mode\": \"markers\", \"showlegend\": false, \"type\": \"scatter\", \"x\": [-530.9996337890625, -549.0053100585938, -546.3016967773438], \"y\": [-379.0990295410156, -411.7745361328125, -349.0533142089844]}, {\"marker\": {\"color\": \"rgb(217.0, 72.0, 42.0)\", \"line\": {\"color\": \"black\", \"width\": 0.5}, \"size\": 8, \"symbol\": \"square\"}, \"mode\": \"markers\", \"showlegend\": false, \"type\": \"scatter\", \"x\": [-570.4364013671875, -581.4860229492188, -608.1786499023438], \"y\": [-383.5970153808594, -345.9842224121094, -367.4614562988281]}],                        {\"height\": 475, \"legend\": {\"font\": {\"color\": \"black\", \"family\": \"Myriad Pro\", \"size\": 12}, \"orientation\": \"h\", \"x\": 0.1, \"y\": -0.15}, \"template\": {\"data\": {\"scatter\": [{\"type\": \"scatter\"}]}}, \"width\": 430, \"xaxis\": {\"linecolor\": \"black\", \"linewidth\": 1, \"mirror\": true, \"nticks\": 8, \"showgrid\": true, \"showline\": true, \"side\": \"bottom\", \"tickangle\": 0, \"tickcolor\": \"black\", \"tickfont\": {\"color\": \"black\", \"family\": \"Myriad Pro\", \"size\": 16}, \"ticklen\": 4, \"ticks\": \"outside\", \"title\": {\"font\": {\"color\": \"black\", \"family\": \"Myriad Pro\", \"size\": 16}, \"standoff\": 0.5, \"text\": \"Component 1\"}, \"zeroline\": true}, \"yaxis\": {\"anchor\": \"x\", \"linecolor\": \"black\", \"linewidth\": 1, \"mirror\": true, \"showgrid\": true, \"showline\": true, \"side\": \"left\", \"tickangle\": 0, \"tickcolor\": \"black\", \"tickfont\": {\"color\": \"black\", \"family\": \"Myriad Pro\", \"size\": 16}, \"ticklen\": 4, \"ticks\": \"outside\", \"title\": {\"font\": {\"color\": \"black\", \"family\": \"Myriad Pro\", \"size\": 16}, \"text\": \"Component 2\"}, \"zeroline\": true}},                        {\"responsive\": true}                    ).then(function(){\n",
       "                            \n",
       "var gd = document.getElementById('7727be65-4540-4409-9150-25d447638f45');\n",
       "var x = new MutationObserver(function (mutations, observer) {{\n",
       "        var display = window.getComputedStyle(gd).display;\n",
       "        if (!display || display === 'none') {{\n",
       "            console.log([gd, 'removed!']);\n",
       "            Plotly.purge(gd);\n",
       "            observer.disconnect();\n",
       "        }}\n",
       "}});\n",
       "\n",
       "// Listen for the removal of the full notebook cells\n",
       "var notebookContainer = gd.closest('#notebook-container');\n",
       "if (notebookContainer) {{\n",
       "    x.observe(notebookContainer, {childList: true});\n",
       "}}\n",
       "\n",
       "// Listen for the clearing of the current output cell\n",
       "var outputEl = gd.closest('.output');\n",
       "if (outputEl) {{\n",
       "    x.observe(outputEl, {childList: true});\n",
       "}}\n",
       "\n",
       "                        })                };                });            </script>        </div>"
      ]
     },
     "metadata": {},
     "output_type": "display_data"
    }
   ],
   "source": [
    "features = [ 'acetate', \n",
    "             'formate',\n",
    "             'lactate',\n",
    "             'pyruvate',\n",
    "             'succinate','glucose',\n",
    "            'biomass_yield',\n",
    "            'growth_rate']\n",
    "tsne_plot(features, 10, 300)"
   ]
  },
  {
   "cell_type": "code",
   "execution_count": 905,
   "id": "christian-colorado",
   "metadata": {},
   "outputs": [
    {
     "name": "stdout",
     "output_type": "stream",
     "text": [
      "TSNE\n",
      "Learning Rate:  10\n",
      "Perplexity:  15\n"
     ]
    },
    {
     "data": {
      "application/vnd.plotly.v1+json": {
       "config": {
        "linkText": "Export to plot.ly",
        "plotlyServerURL": "https://plot.ly",
        "showLink": false
       },
       "data": [
        {
         "marker": {
          "color": "rgb(54, 146, 68)",
          "line": {
           "color": "black",
           "width": 0.5
          },
          "size": 12,
          "symbol": "circle"
         },
         "mode": "markers",
         "name": "WT",
         "type": "scatter",
         "x": [
          21.896169662475586
         ],
         "y": [
          -2.9279634952545166
         ]
        },
        {
         "marker": {
          "color": "rgb(33.0, 100.0, 175.0)",
          "line": {
           "color": "black",
           "width": 0.5
          },
          "size": 8,
          "symbol": "circle"
         },
         "mode": "markers",
         "showlegend": false,
         "type": "scatter",
         "x": [
          19.06068992614746,
          19.0339412689209,
          18.986186981201172
         ],
         "y": [
          -4.840925693511963,
          -4.844940662384033,
          -4.854434967041016
         ]
        },
        {
         "marker": {
          "color": "rgb(100.0, 144.66666666666666, 194.66666666666666)",
          "line": {
           "color": "black",
           "width": 0.5
          },
          "size": 8,
          "symbol": "circle"
         },
         "mode": "markers",
         "showlegend": false,
         "type": "scatter",
         "x": [
          19.83135414123535,
          19.863569259643555,
          19.829906463623047
         ],
         "y": [
          -4.703525543212891,
          -4.696749210357666,
          -4.7057061195373535
         ]
        },
        {
         "marker": {
          "color": "rgb(167.0, 189.33333333333331, 214.33333333333334)",
          "line": {
           "color": "black",
           "width": 0.5
          },
          "size": 8,
          "symbol": "circle"
         },
         "mode": "markers",
         "showlegend": false,
         "type": "scatter",
         "x": [
          21.68956756591797,
          21.70570945739746,
          21.792705535888672
         ],
         "y": [
          -4.511470317840576,
          -4.511626720428467,
          -4.261999607086182
         ]
        },
        {
         "marker": {
          "color": "rgb(228.33333333333334, 180.0, 170.0)",
          "line": {
           "color": "black",
           "width": 0.5
          },
          "size": 8,
          "symbol": "circle"
         },
         "mode": "markers",
         "showlegend": false,
         "type": "scatter",
         "x": [
          22.657438278198242,
          22.703760147094727,
          22.640703201293945
         ],
         "y": [
          -4.045292377471924,
          -4.05690860748291,
          -4.535699367523193
         ]
        },
        {
         "marker": {
          "color": "rgb(222.66666666666666, 126.0, 106.0)",
          "line": {
           "color": "black",
           "width": 0.5
          },
          "size": 8,
          "symbol": "circle"
         },
         "mode": "markers",
         "showlegend": false,
         "type": "scatter",
         "x": [
          22.632577896118164,
          23.150999069213867,
          22.829952239990234
         ],
         "y": [
          -4.967822551727295,
          -5.018277645111084,
          -5.0116095542907715
         ]
        },
        {
         "marker": {
          "color": "rgb(217.0, 72.0, 42.0)",
          "line": {
           "color": "black",
           "width": 0.5
          },
          "size": 8,
          "symbol": "circle"
         },
         "mode": "markers",
         "showlegend": false,
         "type": "scatter",
         "x": [
          23.26116371154785,
          23.4093017578125,
          23.187753677368164
         ],
         "y": [
          -4.772889614105225,
          -4.439833641052246,
          -4.297882556915283
         ]
        },
        {
         "marker": {
          "color": "rgb(54, 146, 68)",
          "line": {
           "color": "black",
           "width": 0.5
          },
          "size": 12,
          "symbol": "x"
         },
         "mode": "markers",
         "name": "Δ(adh,pta)-D1",
         "type": "scatter",
         "x": [
          -3.597014904022217
         ],
         "y": [
          -8.876608848571777
         ]
        },
        {
         "marker": {
          "color": "rgb(33.0, 100.0, 175.0)",
          "line": {
           "color": "black",
           "width": 0.5
          },
          "size": 8,
          "symbol": "x"
         },
         "mode": "markers",
         "showlegend": false,
         "type": "scatter",
         "x": [
          10.640275001525879,
          10.621766090393066,
          10.73494815826416
         ],
         "y": [
          -6.829026699066162,
          -6.64447546005249,
          -6.590388298034668
         ]
        },
        {
         "marker": {
          "color": "rgb(100.0, 144.66666666666666, 194.66666666666666)",
          "line": {
           "color": "black",
           "width": 0.5
          },
          "size": 8,
          "symbol": "x"
         },
         "mode": "markers",
         "showlegend": false,
         "type": "scatter",
         "x": [
          8.917314529418945,
          9.054891586303711,
          8.764036178588867
         ],
         "y": [
          -6.99167537689209,
          -7.077419757843018,
          -6.973975658416748
         ]
        },
        {
         "marker": {
          "color": "rgb(167.0, 189.33333333333331, 214.33333333333334)",
          "line": {
           "color": "black",
           "width": 0.5
          },
          "size": 8,
          "symbol": "x"
         },
         "mode": "markers",
         "showlegend": false,
         "type": "scatter",
         "x": [
          2.619631052017212,
          2.640740156173706,
          2.6208767890930176
         ],
         "y": [
          -9.308746337890625,
          -9.390835762023926,
          -9.238747596740723
         ]
        },
        {
         "marker": {
          "color": "rgb(228.33333333333334, 180.0, 170.0)",
          "line": {
           "color": "black",
           "width": 0.5
          },
          "size": 8,
          "symbol": "x"
         },
         "mode": "markers",
         "showlegend": false,
         "type": "scatter",
         "x": [
          -1.0278757810592651,
          -1.2904655933380127,
          -0.5949139595031738
         ],
         "y": [
          -10.887396812438965,
          -10.550493240356445,
          -10.77203369140625
         ]
        },
        {
         "marker": {
          "color": "rgb(222.66666666666666, 126.0, 106.0)",
          "line": {
           "color": "black",
           "width": 0.5
          },
          "size": 8,
          "symbol": "x"
         },
         "mode": "markers",
         "showlegend": false,
         "type": "scatter",
         "x": [
          0.10501578450202942,
          -0.2792395055294037,
          -0.11030110716819763
         ],
         "y": [
          -11.149336814880371,
          -11.295769691467285,
          -12.117819786071777
         ]
        },
        {
         "marker": {
          "color": "rgb(217.0, 72.0, 42.0)",
          "line": {
           "color": "black",
           "width": 0.5
          },
          "size": 8,
          "symbol": "x"
         },
         "mode": "markers",
         "showlegend": false,
         "type": "scatter",
         "x": [
          0.26064956188201904,
          -0.5212607979774475,
          -0.3134312331676483
         ],
         "y": [
          -12.053759574890137,
          -12.842575073242188,
          -12.93136215209961
         ]
        },
        {
         "marker": {
          "color": "rgb(54, 146, 68)",
          "line": {
           "color": "black",
           "width": 0.5
          },
          "size": 12,
          "symbol": "diamond"
         },
         "mode": "markers",
         "name": "Δ(adh,pta)-D28",
         "type": "scatter",
         "x": [
          -3.7271249294281006
         ],
         "y": [
          -8.856654167175293
         ]
        },
        {
         "marker": {
          "color": "rgb(33.0, 100.0, 175.0)",
          "line": {
           "color": "black",
           "width": 0.5
          },
          "size": 8,
          "symbol": "diamond"
         },
         "mode": "markers",
         "showlegend": false,
         "type": "scatter",
         "x": [
          10.32006549835205,
          10.73078441619873,
          10.7083101272583
         ],
         "y": [
          -6.176328659057617,
          -5.862687587738037,
          -5.939040184020996
         ]
        },
        {
         "marker": {
          "color": "rgb(100.0, 144.66666666666666, 194.66666666666666)",
          "line": {
           "color": "black",
           "width": 0.5
          },
          "size": 8,
          "symbol": "diamond"
         },
         "mode": "markers",
         "showlegend": false,
         "type": "scatter",
         "x": [
          9.162178039550781,
          8.84947681427002,
          9.245238304138184
         ],
         "y": [
          -6.273745059967041,
          -6.5474653244018555,
          -6.545620918273926
         ]
        },
        {
         "marker": {
          "color": "rgb(167.0, 189.33333333333331, 214.33333333333334)",
          "line": {
           "color": "black",
           "width": 0.5
          },
          "size": 8,
          "symbol": "diamond"
         },
         "mode": "markers",
         "showlegend": false,
         "type": "scatter",
         "x": [
          3.114426851272583,
          3.143249750137329,
          2.983255386352539
         ],
         "y": [
          -9.114622116088867,
          -9.129247665405273,
          -9.522866249084473
         ]
        },
        {
         "marker": {
          "color": "rgb(228.33333333333334, 180.0, 170.0)",
          "line": {
           "color": "black",
           "width": 0.5
          },
          "size": 8,
          "symbol": "diamond"
         },
         "mode": "markers",
         "showlegend": false,
         "type": "scatter",
         "x": [
          -0.724388837814331,
          -0.8959372639656067,
          -1.2809902429580688
         ],
         "y": [
          -9.613496780395508,
          -10.284905433654785,
          -10.215264320373535
         ]
        },
        {
         "marker": {
          "color": "rgb(222.66666666666666, 126.0, 106.0)",
          "line": {
           "color": "black",
           "width": 0.5
          },
          "size": 8,
          "symbol": "diamond"
         },
         "mode": "markers",
         "showlegend": false,
         "type": "scatter",
         "x": [
          -1.6262894868850708,
          -1.445119857788086,
          -1.3795682191848755
         ],
         "y": [
          -11.455721855163574,
          -11.90511703491211,
          -11.750322341918945
         ]
        },
        {
         "marker": {
          "color": "rgb(217.0, 72.0, 42.0)",
          "line": {
           "color": "black",
           "width": 0.5
          },
          "size": 8,
          "symbol": "diamond"
         },
         "mode": "markers",
         "showlegend": false,
         "type": "scatter",
         "x": [
          -0.806391716003418,
          -1.3216818571090698,
          -1.2863904237747192
         ],
         "y": [
          -12.404708862304688,
          -12.345351219177246,
          -12.626667022705078
         ]
        },
        {
         "marker": {
          "color": "rgb(54, 146, 68)",
          "line": {
           "color": "black",
           "width": 0.5
          },
          "size": 12,
          "symbol": "square"
         },
         "mode": "markers",
         "name": "Δ(adh,pta)-D59",
         "type": "scatter",
         "x": [
          -5.185405254364014
         ],
         "y": [
          -8.69844913482666
         ]
        },
        {
         "marker": {
          "color": "rgb(33.0, 100.0, 175.0)",
          "line": {
           "color": "black",
           "width": 0.5
          },
          "size": 8,
          "symbol": "square"
         },
         "mode": "markers",
         "showlegend": false,
         "type": "scatter",
         "x": [
          11.974989891052246,
          11.926277160644531,
          11.975234031677246
         ],
         "y": [
          -6.078973770141602,
          -6.037037372589111,
          -6.022188663482666
         ]
        },
        {
         "marker": {
          "color": "rgb(100.0, 144.66666666666666, 194.66666666666666)",
          "line": {
           "color": "black",
           "width": 0.5
          },
          "size": 8,
          "symbol": "square"
         },
         "mode": "markers",
         "showlegend": false,
         "type": "scatter",
         "x": [
          12.39721965789795,
          12.432665824890137,
          12.468235969543457
         ],
         "y": [
          -6.924635410308838,
          -6.931209564208984,
          -6.8499274253845215
         ]
        },
        {
         "marker": {
          "color": "rgb(167.0, 189.33333333333331, 214.33333333333334)",
          "line": {
           "color": "black",
           "width": 0.5
          },
          "size": 8,
          "symbol": "square"
         },
         "mode": "markers",
         "showlegend": false,
         "type": "scatter",
         "x": [
          -7.562679290771484,
          -7.577962875366211,
          -7.585893630981445
         ],
         "y": [
          -11.798318862915039,
          -11.850723266601562,
          -11.887609481811523
         ]
        },
        {
         "marker": {
          "color": "rgb(228.33333333333334, 180.0, 170.0)",
          "line": {
           "color": "black",
           "width": 0.5
          },
          "size": 8,
          "symbol": "square"
         },
         "mode": "markers",
         "showlegend": false,
         "type": "scatter",
         "x": [
          -6.833987712860107,
          -6.7576751708984375,
          -7.123673439025879
         ],
         "y": [
          -10.099787712097168,
          -10.33482837677002,
          -10.047652244567871
         ]
        },
        {
         "marker": {
          "color": "rgb(222.66666666666666, 126.0, 106.0)",
          "line": {
           "color": "black",
           "width": 0.5
          },
          "size": 8,
          "symbol": "square"
         },
         "mode": "markers",
         "showlegend": false,
         "type": "scatter",
         "x": [
          -7.128651142120361,
          -7.166572570800781,
          -6.695043563842773
         ],
         "y": [
          -9.741445541381836,
          -9.36429214477539,
          -9.659977912902832
         ]
        },
        {
         "marker": {
          "color": "rgb(217.0, 72.0, 42.0)",
          "line": {
           "color": "black",
           "width": 0.5
          },
          "size": 8,
          "symbol": "square"
         },
         "mode": "markers",
         "showlegend": false,
         "type": "scatter",
         "x": [
          -6.902618408203125,
          -6.455502986907959,
          -6.349177837371826
         ],
         "y": [
          -9.212276458740234,
          -9.298811912536621,
          -9.029369354248047
         ]
        }
       ],
       "layout": {
        "height": 475,
        "legend": {
         "font": {
          "color": "black",
          "family": "Myriad Pro",
          "size": 12
         },
         "orientation": "h",
         "x": 0.1,
         "y": -0.15
        },
        "template": {
         "data": {
          "scatter": [
           {
            "type": "scatter"
           }
          ]
         }
        },
        "width": 430,
        "xaxis": {
         "linecolor": "black",
         "linewidth": 1,
         "mirror": true,
         "nticks": 8,
         "showgrid": true,
         "showline": true,
         "side": "bottom",
         "tickangle": 0,
         "tickcolor": "black",
         "tickfont": {
          "color": "black",
          "family": "Myriad Pro",
          "size": 16
         },
         "ticklen": 4,
         "ticks": "outside",
         "title": {
          "font": {
           "color": "black",
           "family": "Myriad Pro",
           "size": 16
          },
          "standoff": 0.5,
          "text": "Principal Component 1"
         },
         "zeroline": true
        },
        "yaxis": {
         "anchor": "x",
         "linecolor": "black",
         "linewidth": 1,
         "mirror": true,
         "showgrid": true,
         "showline": true,
         "side": "left",
         "tickangle": 0,
         "tickcolor": "black",
         "tickfont": {
          "color": "black",
          "family": "Myriad Pro",
          "size": 16
         },
         "ticklen": 4,
         "ticks": "outside",
         "title": {
          "font": {
           "color": "black",
           "family": "Myriad Pro",
           "size": 16
          },
          "text": "Principal Component 2"
         },
         "zeroline": true
        }
       }
      },
      "text/html": [
       "<div>                            <div id=\"5622df76-55c9-4c85-941e-b1100d13c21f\" class=\"plotly-graph-div\" style=\"height:475px; width:430px;\"></div>            <script type=\"text/javascript\">                require([\"plotly\"], function(Plotly) {                    window.PLOTLYENV=window.PLOTLYENV || {};                                    if (document.getElementById(\"5622df76-55c9-4c85-941e-b1100d13c21f\")) {                    Plotly.newPlot(                        \"5622df76-55c9-4c85-941e-b1100d13c21f\",                        [{\"marker\": {\"color\": \"rgb(54, 146, 68)\", \"line\": {\"color\": \"black\", \"width\": 0.5}, \"size\": 12, \"symbol\": \"circle\"}, \"mode\": \"markers\", \"name\": \"WT\", \"type\": \"scatter\", \"x\": [21.896169662475586], \"y\": [-2.9279634952545166]}, {\"marker\": {\"color\": \"rgb(33.0, 100.0, 175.0)\", \"line\": {\"color\": \"black\", \"width\": 0.5}, \"size\": 8, \"symbol\": \"circle\"}, \"mode\": \"markers\", \"showlegend\": false, \"type\": \"scatter\", \"x\": [19.06068992614746, 19.0339412689209, 18.986186981201172], \"y\": [-4.840925693511963, -4.844940662384033, -4.854434967041016]}, {\"marker\": {\"color\": \"rgb(100.0, 144.66666666666666, 194.66666666666666)\", \"line\": {\"color\": \"black\", \"width\": 0.5}, \"size\": 8, \"symbol\": \"circle\"}, \"mode\": \"markers\", \"showlegend\": false, \"type\": \"scatter\", \"x\": [19.83135414123535, 19.863569259643555, 19.829906463623047], \"y\": [-4.703525543212891, -4.696749210357666, -4.7057061195373535]}, {\"marker\": {\"color\": \"rgb(167.0, 189.33333333333331, 214.33333333333334)\", \"line\": {\"color\": \"black\", \"width\": 0.5}, \"size\": 8, \"symbol\": \"circle\"}, \"mode\": \"markers\", \"showlegend\": false, \"type\": \"scatter\", \"x\": [21.68956756591797, 21.70570945739746, 21.792705535888672], \"y\": [-4.511470317840576, -4.511626720428467, -4.261999607086182]}, {\"marker\": {\"color\": \"rgb(228.33333333333334, 180.0, 170.0)\", \"line\": {\"color\": \"black\", \"width\": 0.5}, \"size\": 8, \"symbol\": \"circle\"}, \"mode\": \"markers\", \"showlegend\": false, \"type\": \"scatter\", \"x\": [22.657438278198242, 22.703760147094727, 22.640703201293945], \"y\": [-4.045292377471924, -4.05690860748291, -4.535699367523193]}, {\"marker\": {\"color\": \"rgb(222.66666666666666, 126.0, 106.0)\", \"line\": {\"color\": \"black\", \"width\": 0.5}, \"size\": 8, \"symbol\": \"circle\"}, \"mode\": \"markers\", \"showlegend\": false, \"type\": \"scatter\", \"x\": [22.632577896118164, 23.150999069213867, 22.829952239990234], \"y\": [-4.967822551727295, -5.018277645111084, -5.0116095542907715]}, {\"marker\": {\"color\": \"rgb(217.0, 72.0, 42.0)\", \"line\": {\"color\": \"black\", \"width\": 0.5}, \"size\": 8, \"symbol\": \"circle\"}, \"mode\": \"markers\", \"showlegend\": false, \"type\": \"scatter\", \"x\": [23.26116371154785, 23.4093017578125, 23.187753677368164], \"y\": [-4.772889614105225, -4.439833641052246, -4.297882556915283]}, {\"marker\": {\"color\": \"rgb(54, 146, 68)\", \"line\": {\"color\": \"black\", \"width\": 0.5}, \"size\": 12, \"symbol\": \"x\"}, \"mode\": \"markers\", \"name\": \"\\u0394(adh,pta)-D1\", \"type\": \"scatter\", \"x\": [-3.597014904022217], \"y\": [-8.876608848571777]}, {\"marker\": {\"color\": \"rgb(33.0, 100.0, 175.0)\", \"line\": {\"color\": \"black\", \"width\": 0.5}, \"size\": 8, \"symbol\": \"x\"}, \"mode\": \"markers\", \"showlegend\": false, \"type\": \"scatter\", \"x\": [10.640275001525879, 10.621766090393066, 10.73494815826416], \"y\": [-6.829026699066162, -6.64447546005249, -6.590388298034668]}, {\"marker\": {\"color\": \"rgb(100.0, 144.66666666666666, 194.66666666666666)\", \"line\": {\"color\": \"black\", \"width\": 0.5}, \"size\": 8, \"symbol\": \"x\"}, \"mode\": \"markers\", \"showlegend\": false, \"type\": \"scatter\", \"x\": [8.917314529418945, 9.054891586303711, 8.764036178588867], \"y\": [-6.99167537689209, -7.077419757843018, -6.973975658416748]}, {\"marker\": {\"color\": \"rgb(167.0, 189.33333333333331, 214.33333333333334)\", \"line\": {\"color\": \"black\", \"width\": 0.5}, \"size\": 8, \"symbol\": \"x\"}, \"mode\": \"markers\", \"showlegend\": false, \"type\": \"scatter\", \"x\": [2.619631052017212, 2.640740156173706, 2.6208767890930176], \"y\": [-9.308746337890625, -9.390835762023926, -9.238747596740723]}, {\"marker\": {\"color\": \"rgb(228.33333333333334, 180.0, 170.0)\", \"line\": {\"color\": \"black\", \"width\": 0.5}, \"size\": 8, \"symbol\": \"x\"}, \"mode\": \"markers\", \"showlegend\": false, \"type\": \"scatter\", \"x\": [-1.0278757810592651, -1.2904655933380127, -0.5949139595031738], \"y\": [-10.887396812438965, -10.550493240356445, -10.77203369140625]}, {\"marker\": {\"color\": \"rgb(222.66666666666666, 126.0, 106.0)\", \"line\": {\"color\": \"black\", \"width\": 0.5}, \"size\": 8, \"symbol\": \"x\"}, \"mode\": \"markers\", \"showlegend\": false, \"type\": \"scatter\", \"x\": [0.10501578450202942, -0.2792395055294037, -0.11030110716819763], \"y\": [-11.149336814880371, -11.295769691467285, -12.117819786071777]}, {\"marker\": {\"color\": \"rgb(217.0, 72.0, 42.0)\", \"line\": {\"color\": \"black\", \"width\": 0.5}, \"size\": 8, \"symbol\": \"x\"}, \"mode\": \"markers\", \"showlegend\": false, \"type\": \"scatter\", \"x\": [0.26064956188201904, -0.5212607979774475, -0.3134312331676483], \"y\": [-12.053759574890137, -12.842575073242188, -12.93136215209961]}, {\"marker\": {\"color\": \"rgb(54, 146, 68)\", \"line\": {\"color\": \"black\", \"width\": 0.5}, \"size\": 12, \"symbol\": \"diamond\"}, \"mode\": \"markers\", \"name\": \"\\u0394(adh,pta)-D28\", \"type\": \"scatter\", \"x\": [-3.7271249294281006], \"y\": [-8.856654167175293]}, {\"marker\": {\"color\": \"rgb(33.0, 100.0, 175.0)\", \"line\": {\"color\": \"black\", \"width\": 0.5}, \"size\": 8, \"symbol\": \"diamond\"}, \"mode\": \"markers\", \"showlegend\": false, \"type\": \"scatter\", \"x\": [10.32006549835205, 10.73078441619873, 10.7083101272583], \"y\": [-6.176328659057617, -5.862687587738037, -5.939040184020996]}, {\"marker\": {\"color\": \"rgb(100.0, 144.66666666666666, 194.66666666666666)\", \"line\": {\"color\": \"black\", \"width\": 0.5}, \"size\": 8, \"symbol\": \"diamond\"}, \"mode\": \"markers\", \"showlegend\": false, \"type\": \"scatter\", \"x\": [9.162178039550781, 8.84947681427002, 9.245238304138184], \"y\": [-6.273745059967041, -6.5474653244018555, -6.545620918273926]}, {\"marker\": {\"color\": \"rgb(167.0, 189.33333333333331, 214.33333333333334)\", \"line\": {\"color\": \"black\", \"width\": 0.5}, \"size\": 8, \"symbol\": \"diamond\"}, \"mode\": \"markers\", \"showlegend\": false, \"type\": \"scatter\", \"x\": [3.114426851272583, 3.143249750137329, 2.983255386352539], \"y\": [-9.114622116088867, -9.129247665405273, -9.522866249084473]}, {\"marker\": {\"color\": \"rgb(228.33333333333334, 180.0, 170.0)\", \"line\": {\"color\": \"black\", \"width\": 0.5}, \"size\": 8, \"symbol\": \"diamond\"}, \"mode\": \"markers\", \"showlegend\": false, \"type\": \"scatter\", \"x\": [-0.724388837814331, -0.8959372639656067, -1.2809902429580688], \"y\": [-9.613496780395508, -10.284905433654785, -10.215264320373535]}, {\"marker\": {\"color\": \"rgb(222.66666666666666, 126.0, 106.0)\", \"line\": {\"color\": \"black\", \"width\": 0.5}, \"size\": 8, \"symbol\": \"diamond\"}, \"mode\": \"markers\", \"showlegend\": false, \"type\": \"scatter\", \"x\": [-1.6262894868850708, -1.445119857788086, -1.3795682191848755], \"y\": [-11.455721855163574, -11.90511703491211, -11.750322341918945]}, {\"marker\": {\"color\": \"rgb(217.0, 72.0, 42.0)\", \"line\": {\"color\": \"black\", \"width\": 0.5}, \"size\": 8, \"symbol\": \"diamond\"}, \"mode\": \"markers\", \"showlegend\": false, \"type\": \"scatter\", \"x\": [-0.806391716003418, -1.3216818571090698, -1.2863904237747192], \"y\": [-12.404708862304688, -12.345351219177246, -12.626667022705078]}, {\"marker\": {\"color\": \"rgb(54, 146, 68)\", \"line\": {\"color\": \"black\", \"width\": 0.5}, \"size\": 12, \"symbol\": \"square\"}, \"mode\": \"markers\", \"name\": \"\\u0394(adh,pta)-D59\", \"type\": \"scatter\", \"x\": [-5.185405254364014], \"y\": [-8.69844913482666]}, {\"marker\": {\"color\": \"rgb(33.0, 100.0, 175.0)\", \"line\": {\"color\": \"black\", \"width\": 0.5}, \"size\": 8, \"symbol\": \"square\"}, \"mode\": \"markers\", \"showlegend\": false, \"type\": \"scatter\", \"x\": [11.974989891052246, 11.926277160644531, 11.975234031677246], \"y\": [-6.078973770141602, -6.037037372589111, -6.022188663482666]}, {\"marker\": {\"color\": \"rgb(100.0, 144.66666666666666, 194.66666666666666)\", \"line\": {\"color\": \"black\", \"width\": 0.5}, \"size\": 8, \"symbol\": \"square\"}, \"mode\": \"markers\", \"showlegend\": false, \"type\": \"scatter\", \"x\": [12.39721965789795, 12.432665824890137, 12.468235969543457], \"y\": [-6.924635410308838, -6.931209564208984, -6.8499274253845215]}, {\"marker\": {\"color\": \"rgb(167.0, 189.33333333333331, 214.33333333333334)\", \"line\": {\"color\": \"black\", \"width\": 0.5}, \"size\": 8, \"symbol\": \"square\"}, \"mode\": \"markers\", \"showlegend\": false, \"type\": \"scatter\", \"x\": [-7.562679290771484, -7.577962875366211, -7.585893630981445], \"y\": [-11.798318862915039, -11.850723266601562, -11.887609481811523]}, {\"marker\": {\"color\": \"rgb(228.33333333333334, 180.0, 170.0)\", \"line\": {\"color\": \"black\", \"width\": 0.5}, \"size\": 8, \"symbol\": \"square\"}, \"mode\": \"markers\", \"showlegend\": false, \"type\": \"scatter\", \"x\": [-6.833987712860107, -6.7576751708984375, -7.123673439025879], \"y\": [-10.099787712097168, -10.33482837677002, -10.047652244567871]}, {\"marker\": {\"color\": \"rgb(222.66666666666666, 126.0, 106.0)\", \"line\": {\"color\": \"black\", \"width\": 0.5}, \"size\": 8, \"symbol\": \"square\"}, \"mode\": \"markers\", \"showlegend\": false, \"type\": \"scatter\", \"x\": [-7.128651142120361, -7.166572570800781, -6.695043563842773], \"y\": [-9.741445541381836, -9.36429214477539, -9.659977912902832]}, {\"marker\": {\"color\": \"rgb(217.0, 72.0, 42.0)\", \"line\": {\"color\": \"black\", \"width\": 0.5}, \"size\": 8, \"symbol\": \"square\"}, \"mode\": \"markers\", \"showlegend\": false, \"type\": \"scatter\", \"x\": [-6.902618408203125, -6.455502986907959, -6.349177837371826], \"y\": [-9.212276458740234, -9.298811912536621, -9.029369354248047]}],                        {\"height\": 475, \"legend\": {\"font\": {\"color\": \"black\", \"family\": \"Myriad Pro\", \"size\": 12}, \"orientation\": \"h\", \"x\": 0.1, \"y\": -0.15}, \"template\": {\"data\": {\"scatter\": [{\"type\": \"scatter\"}]}}, \"width\": 430, \"xaxis\": {\"linecolor\": \"black\", \"linewidth\": 1, \"mirror\": true, \"nticks\": 8, \"showgrid\": true, \"showline\": true, \"side\": \"bottom\", \"tickangle\": 0, \"tickcolor\": \"black\", \"tickfont\": {\"color\": \"black\", \"family\": \"Myriad Pro\", \"size\": 16}, \"ticklen\": 4, \"ticks\": \"outside\", \"title\": {\"font\": {\"color\": \"black\", \"family\": \"Myriad Pro\", \"size\": 16}, \"standoff\": 0.5, \"text\": \"Principal Component 1\"}, \"zeroline\": true}, \"yaxis\": {\"anchor\": \"x\", \"linecolor\": \"black\", \"linewidth\": 1, \"mirror\": true, \"showgrid\": true, \"showline\": true, \"side\": \"left\", \"tickangle\": 0, \"tickcolor\": \"black\", \"tickfont\": {\"color\": \"black\", \"family\": \"Myriad Pro\", \"size\": 16}, \"ticklen\": 4, \"ticks\": \"outside\", \"title\": {\"font\": {\"color\": \"black\", \"family\": \"Myriad Pro\", \"size\": 16}, \"text\": \"Principal Component 2\"}, \"zeroline\": true}},                        {\"responsive\": true}                    ).then(function(){\n",
       "                            \n",
       "var gd = document.getElementById('5622df76-55c9-4c85-941e-b1100d13c21f');\n",
       "var x = new MutationObserver(function (mutations, observer) {{\n",
       "        var display = window.getComputedStyle(gd).display;\n",
       "        if (!display || display === 'none') {{\n",
       "            console.log([gd, 'removed!']);\n",
       "            Plotly.purge(gd);\n",
       "            observer.disconnect();\n",
       "        }}\n",
       "}});\n",
       "\n",
       "// Listen for the removal of the full notebook cells\n",
       "var notebookContainer = gd.closest('#notebook-container');\n",
       "if (notebookContainer) {{\n",
       "    x.observe(notebookContainer, {childList: true});\n",
       "}}\n",
       "\n",
       "// Listen for the clearing of the current output cell\n",
       "var outputEl = gd.closest('.output');\n",
       "if (outputEl) {{\n",
       "    x.observe(outputEl, {childList: true});\n",
       "}}\n",
       "\n",
       "                        })                };                });            </script>        </div>"
      ]
     },
     "metadata": {},
     "output_type": "display_data"
    }
   ],
   "source": [
    "features = ['acetate', \n",
    "            'formate', \n",
    "            'lactate', \n",
    "            'pyruvate', 'growth_rate',\n",
    "            'succinate', 'glucose']\n",
    "tsne_plot(features,15,10)"
   ]
  },
  {
   "cell_type": "code",
   "execution_count": 907,
   "id": "acknowledged-water",
   "metadata": {},
   "outputs": [
    {
     "name": "stdout",
     "output_type": "stream",
     "text": [
      "TSNE\n",
      "Learning Rate:  10\n",
      "Perplexity:  15\n"
     ]
    },
    {
     "data": {
      "application/vnd.plotly.v1+json": {
       "config": {
        "linkText": "Export to plot.ly",
        "plotlyServerURL": "https://plot.ly",
        "showLink": false
       },
       "data": [
        {
         "marker": {
          "color": "rgb(54, 146, 68)",
          "line": {
           "color": "black",
           "width": 0.5
          },
          "size": 12,
          "symbol": "circle"
         },
         "mode": "markers",
         "name": "WT",
         "type": "scatter",
         "x": [
          24.14919662475586
         ],
         "y": [
          3.820958137512207
         ]
        },
        {
         "marker": {
          "color": "rgb(33.0, 100.0, 175.0)",
          "line": {
           "color": "black",
           "width": 0.5
          },
          "size": 8,
          "symbol": "circle"
         },
         "mode": "markers",
         "showlegend": false,
         "type": "scatter",
         "x": [
          21.729278564453125,
          21.69391632080078,
          21.662460327148438
         ],
         "y": [
          1.5169587135314941,
          1.5065535306930542,
          1.5000348091125488
         ]
        },
        {
         "marker": {
          "color": "rgb(100.0, 144.66666666666666, 194.66666666666666)",
          "line": {
           "color": "black",
           "width": 0.5
          },
          "size": 8,
          "symbol": "circle"
         },
         "mode": "markers",
         "showlegend": false,
         "type": "scatter",
         "x": [
          22.594375610351562,
          22.84052276611328,
          22.843935012817383
         ],
         "y": [
          1.9479882717132568,
          1.7521380186080933,
          1.729445457458496
         ]
        },
        {
         "marker": {
          "color": "rgb(167.0, 189.33333333333331, 214.33333333333334)",
          "line": {
           "color": "black",
           "width": 0.5
          },
          "size": 8,
          "symbol": "circle"
         },
         "mode": "markers",
         "showlegend": false,
         "type": "scatter",
         "x": [
          24.342172622680664,
          24.28984832763672,
          24.33241081237793
         ],
         "y": [
          1.784367561340332,
          2.4630911350250244,
          2.2784199714660645
         ]
        },
        {
         "marker": {
          "color": "rgb(228.33333333333334, 180.0, 170.0)",
          "line": {
           "color": "black",
           "width": 0.5
          },
          "size": 8,
          "symbol": "circle"
         },
         "mode": "markers",
         "showlegend": false,
         "type": "scatter",
         "x": [
          25.170528411865234,
          25.23891830444336,
          25.194332122802734
         ],
         "y": [
          2.511972427368164,
          2.8083014488220215,
          2.0047860145568848
         ]
        },
        {
         "marker": {
          "color": "rgb(222.66666666666666, 126.0, 106.0)",
          "line": {
           "color": "black",
           "width": 0.5
          },
          "size": 8,
          "symbol": "circle"
         },
         "mode": "markers",
         "showlegend": false,
         "type": "scatter",
         "x": [
          25.764057159423828,
          25.571430206298828,
          25.91961669921875
         ],
         "y": [
          2.5487759113311768,
          1.5524483919143677,
          2.1877377033233643
         ]
        },
        {
         "marker": {
          "color": "rgb(217.0, 72.0, 42.0)",
          "line": {
           "color": "black",
           "width": 0.5
          },
          "size": 8,
          "symbol": "circle"
         },
         "mode": "markers",
         "showlegend": false,
         "type": "scatter",
         "x": [
          25.937976837158203,
          26.205474853515625,
          25.399648666381836
         ],
         "y": [
          1.5468679666519165,
          1.9260690212249756,
          1.3997366428375244
         ]
        },
        {
         "marker": {
          "color": "rgb(54, 146, 68)",
          "line": {
           "color": "black",
           "width": 0.5
          },
          "size": 12,
          "symbol": "x"
         },
         "mode": "markers",
         "name": "Δ(adh,pta)-D1",
         "type": "scatter",
         "x": [
          -7.706455230712891
         ],
         "y": [
          4.781149864196777
         ]
        },
        {
         "marker": {
          "color": "rgb(33.0, 100.0, 175.0)",
          "line": {
           "color": "black",
           "width": 0.5
          },
          "size": 8,
          "symbol": "x"
         },
         "mode": "markers",
         "showlegend": false,
         "type": "scatter",
         "x": [
          8.66409969329834,
          8.925091743469238,
          8.634743690490723
         ],
         "y": [
          -2.625073194503784,
          -3.2214081287384033,
          -3.0720937252044678
         ]
        },
        {
         "marker": {
          "color": "rgb(100.0, 144.66666666666666, 194.66666666666666)",
          "line": {
           "color": "black",
           "width": 0.5
          },
          "size": 8,
          "symbol": "x"
         },
         "mode": "markers",
         "showlegend": false,
         "type": "scatter",
         "x": [
          6.970214366912842,
          7.075033187866211,
          6.916108131408691
         ],
         "y": [
          -2.861445665359497,
          -3.1857919692993164,
          -3.2531843185424805
         ]
        },
        {
         "marker": {
          "color": "rgb(167.0, 189.33333333333331, 214.33333333333334)",
          "line": {
           "color": "black",
           "width": 0.5
          },
          "size": 8,
          "symbol": "x"
         },
         "mode": "markers",
         "showlegend": false,
         "type": "scatter",
         "x": [
          -2.2979400157928467,
          -2.3350510597229004,
          -2.305969476699829
         ],
         "y": [
          -2.2770626544952393,
          -2.241614818572998,
          -2.2659199237823486
         ]
        },
        {
         "marker": {
          "color": "rgb(228.33333333333334, 180.0, 170.0)",
          "line": {
           "color": "black",
           "width": 0.5
          },
          "size": 8,
          "symbol": "x"
         },
         "mode": "markers",
         "showlegend": false,
         "type": "scatter",
         "x": [
          -4.462364196777344,
          -4.181915760040283,
          -4.24280309677124
         ],
         "y": [
          -0.2946133613586426,
          -1.1018630266189575,
          -0.9643718600273132
         ]
        },
        {
         "marker": {
          "color": "rgb(222.66666666666666, 126.0, 106.0)",
          "line": {
           "color": "black",
           "width": 0.5
          },
          "size": 8,
          "symbol": "x"
         },
         "mode": "markers",
         "showlegend": false,
         "type": "scatter",
         "x": [
          -4.559936046600342,
          -4.6162190437316895,
          -5.07490348815918
         ],
         "y": [
          -0.906335175037384,
          -1.595943808555603,
          -1.6797479391098022
         ]
        },
        {
         "marker": {
          "color": "rgb(217.0, 72.0, 42.0)",
          "line": {
           "color": "black",
           "width": 0.5
          },
          "size": 8,
          "symbol": "x"
         },
         "mode": "markers",
         "showlegend": false,
         "type": "scatter",
         "x": [
          -4.867674827575684,
          -5.483526229858398,
          -5.720652103424072
         ],
         "y": [
          -2.266465187072754,
          -2.1891157627105713,
          -1.7352962493896484
         ]
        },
        {
         "marker": {
          "color": "rgb(54, 146, 68)",
          "line": {
           "color": "black",
           "width": 0.5
          },
          "size": 12,
          "symbol": "diamond"
         },
         "mode": "markers",
         "name": "Δ(adh,pta)-D28",
         "type": "scatter",
         "x": [
          -7.5759406089782715
         ],
         "y": [
          4.858656406402588
         ]
        },
        {
         "marker": {
          "color": "rgb(33.0, 100.0, 175.0)",
          "line": {
           "color": "black",
           "width": 0.5
          },
          "size": 8,
          "symbol": "diamond"
         },
         "mode": "markers",
         "showlegend": false,
         "type": "scatter",
         "x": [
          8.536833763122559,
          9.269189834594727,
          9.253594398498535
         ],
         "y": [
          -2.4941470623016357,
          -2.7336575984954834,
          -2.620403289794922
         ]
        },
        {
         "marker": {
          "color": "rgb(100.0, 144.66666666666666, 194.66666666666666)",
          "line": {
           "color": "black",
           "width": 0.5
          },
          "size": 8,
          "symbol": "diamond"
         },
         "mode": "markers",
         "showlegend": false,
         "type": "scatter",
         "x": [
          6.7092084884643555,
          6.594046115875244,
          6.7198872566223145
         ],
         "y": [
          -1.8361711502075195,
          -2.055583953857422,
          -2.0317065715789795
         ]
        },
        {
         "marker": {
          "color": "rgb(167.0, 189.33333333333331, 214.33333333333334)",
          "line": {
           "color": "black",
           "width": 0.5
          },
          "size": 8,
          "symbol": "diamond"
         },
         "mode": "markers",
         "showlegend": false,
         "type": "scatter",
         "x": [
          -1.5219569206237793,
          -1.5162955522537231,
          -1.62436842918396
         ],
         "y": [
          -0.3334551453590393,
          -0.33798927068710327,
          -0.33008185029029846
         ]
        },
        {
         "marker": {
          "color": "rgb(228.33333333333334, 180.0, 170.0)",
          "line": {
           "color": "black",
           "width": 0.5
          },
          "size": 8,
          "symbol": "diamond"
         },
         "mode": "markers",
         "showlegend": false,
         "type": "scatter",
         "x": [
          -3.98940372467041,
          -4.3926191329956055,
          -4.495001316070557
         ],
         "y": [
          1.8732874393463135,
          1.560360312461853,
          1.723567247390747
         ]
        },
        {
         "marker": {
          "color": "rgb(222.66666666666666, 126.0, 106.0)",
          "line": {
           "color": "black",
           "width": 0.5
          },
          "size": 8,
          "symbol": "diamond"
         },
         "mode": "markers",
         "showlegend": false,
         "type": "scatter",
         "x": [
          -4.99850606918335,
          -5.154852390289307,
          -5.506918907165527
         ],
         "y": [
          1.0525474548339844,
          0.4772115647792816,
          0.8142861127853394
         ]
        },
        {
         "marker": {
          "color": "rgb(217.0, 72.0, 42.0)",
          "line": {
           "color": "black",
           "width": 0.5
          },
          "size": 8,
          "symbol": "diamond"
         },
         "mode": "markers",
         "showlegend": false,
         "type": "scatter",
         "x": [
          -5.575252532958984,
          -5.729404926300049,
          -5.985283851623535
         ],
         "y": [
          -0.029349694028496742,
          0.3264569044113159,
          0.2428290694952011
         ]
        },
        {
         "marker": {
          "color": "rgb(54, 146, 68)",
          "line": {
           "color": "black",
           "width": 0.5
          },
          "size": 12,
          "symbol": "square"
         },
         "mode": "markers",
         "name": "Δ(adh,pta)-D59",
         "type": "scatter",
         "x": [
          -6.6259541511535645
         ],
         "y": [
          5.418082237243652
         ]
        },
        {
         "marker": {
          "color": "rgb(33.0, 100.0, 175.0)",
          "line": {
           "color": "black",
           "width": 0.5
          },
          "size": 8,
          "symbol": "square"
         },
         "mode": "markers",
         "showlegend": false,
         "type": "scatter",
         "x": [
          9.11210823059082,
          9.332571983337402,
          9.382667541503906
         ],
         "y": [
          -1.3279647827148438,
          -1.5149507522583008,
          -1.570875644683838
         ]
        },
        {
         "marker": {
          "color": "rgb(100.0, 144.66666666666666, 194.66666666666666)",
          "line": {
           "color": "black",
           "width": 0.5
          },
          "size": 8,
          "symbol": "square"
         },
         "mode": "markers",
         "showlegend": false,
         "type": "scatter",
         "x": [
          8.133383750915527,
          8.121051788330078,
          8.119415283203125
         ],
         "y": [
          -0.2565401494503021,
          -0.21940304338932037,
          -0.1759657859802246
         ]
        },
        {
         "marker": {
          "color": "rgb(167.0, 189.33333333333331, 214.33333333333334)",
          "line": {
           "color": "black",
           "width": 0.5
          },
          "size": 8,
          "symbol": "square"
         },
         "mode": "markers",
         "showlegend": false,
         "type": "scatter",
         "x": [
          -2.07265305519104,
          -2.044735908508301,
          -1.9773001670837402
         ],
         "y": [
          5.608645439147949,
          5.608475208282471,
          5.587230682373047
         ]
        },
        {
         "marker": {
          "color": "rgb(228.33333333333334, 180.0, 170.0)",
          "line": {
           "color": "black",
           "width": 0.5
          },
          "size": 8,
          "symbol": "square"
         },
         "mode": "markers",
         "showlegend": false,
         "type": "scatter",
         "x": [
          -3.896477460861206,
          -3.78560471534729,
          -3.842092752456665
         ],
         "y": [
          5.816832542419434,
          5.510278224945068,
          6.213174343109131
         ]
        },
        {
         "marker": {
          "color": "rgb(222.66666666666666, 126.0, 106.0)",
          "line": {
           "color": "black",
           "width": 0.5
          },
          "size": 8,
          "symbol": "square"
         },
         "mode": "markers",
         "showlegend": false,
         "type": "scatter",
         "x": [
          -4.18858003616333,
          -4.643463611602783,
          -4.491763591766357
         ],
         "y": [
          6.338985919952393,
          6.466064929962158,
          5.778968811035156
         ]
        },
        {
         "marker": {
          "color": "rgb(217.0, 72.0, 42.0)",
          "line": {
           "color": "black",
           "width": 0.5
          },
          "size": 8,
          "symbol": "square"
         },
         "mode": "markers",
         "showlegend": false,
         "type": "scatter",
         "x": [
          -4.899514198303223,
          -4.874411582946777,
          -5.237095832824707
         ],
         "y": [
          6.195467948913574,
          5.537605285644531,
          5.723231792449951
         ]
        }
       ],
       "layout": {
        "height": 475,
        "legend": {
         "font": {
          "color": "black",
          "family": "Myriad Pro",
          "size": 12
         },
         "orientation": "h",
         "x": 0.1,
         "y": -0.15
        },
        "template": {
         "data": {
          "scatter": [
           {
            "type": "scatter"
           }
          ]
         }
        },
        "width": 430,
        "xaxis": {
         "linecolor": "black",
         "linewidth": 1,
         "mirror": true,
         "nticks": 8,
         "showgrid": true,
         "showline": true,
         "side": "bottom",
         "tickangle": 0,
         "tickcolor": "black",
         "tickfont": {
          "color": "black",
          "family": "Myriad Pro",
          "size": 16
         },
         "ticklen": 4,
         "ticks": "outside",
         "title": {
          "font": {
           "color": "black",
           "family": "Myriad Pro",
           "size": 16
          },
          "standoff": 0.5,
          "text": "Principal Component 1"
         },
         "zeroline": true
        },
        "yaxis": {
         "anchor": "x",
         "linecolor": "black",
         "linewidth": 1,
         "mirror": true,
         "showgrid": true,
         "showline": true,
         "side": "left",
         "tickangle": 0,
         "tickcolor": "black",
         "tickfont": {
          "color": "black",
          "family": "Myriad Pro",
          "size": 16
         },
         "ticklen": 4,
         "ticks": "outside",
         "title": {
          "font": {
           "color": "black",
           "family": "Myriad Pro",
           "size": 16
          },
          "text": "Principal Component 2"
         },
         "zeroline": true
        }
       }
      },
      "text/html": [
       "<div>                            <div id=\"f3a45fa4-2db2-4639-9d89-12e2d220ead1\" class=\"plotly-graph-div\" style=\"height:475px; width:430px;\"></div>            <script type=\"text/javascript\">                require([\"plotly\"], function(Plotly) {                    window.PLOTLYENV=window.PLOTLYENV || {};                                    if (document.getElementById(\"f3a45fa4-2db2-4639-9d89-12e2d220ead1\")) {                    Plotly.newPlot(                        \"f3a45fa4-2db2-4639-9d89-12e2d220ead1\",                        [{\"marker\": {\"color\": \"rgb(54, 146, 68)\", \"line\": {\"color\": \"black\", \"width\": 0.5}, \"size\": 12, \"symbol\": \"circle\"}, \"mode\": \"markers\", \"name\": \"WT\", \"type\": \"scatter\", \"x\": [24.14919662475586], \"y\": [3.820958137512207]}, {\"marker\": {\"color\": \"rgb(33.0, 100.0, 175.0)\", \"line\": {\"color\": \"black\", \"width\": 0.5}, \"size\": 8, \"symbol\": \"circle\"}, \"mode\": \"markers\", \"showlegend\": false, \"type\": \"scatter\", \"x\": [21.729278564453125, 21.69391632080078, 21.662460327148438], \"y\": [1.5169587135314941, 1.5065535306930542, 1.5000348091125488]}, {\"marker\": {\"color\": \"rgb(100.0, 144.66666666666666, 194.66666666666666)\", \"line\": {\"color\": \"black\", \"width\": 0.5}, \"size\": 8, \"symbol\": \"circle\"}, \"mode\": \"markers\", \"showlegend\": false, \"type\": \"scatter\", \"x\": [22.594375610351562, 22.84052276611328, 22.843935012817383], \"y\": [1.9479882717132568, 1.7521380186080933, 1.729445457458496]}, {\"marker\": {\"color\": \"rgb(167.0, 189.33333333333331, 214.33333333333334)\", \"line\": {\"color\": \"black\", \"width\": 0.5}, \"size\": 8, \"symbol\": \"circle\"}, \"mode\": \"markers\", \"showlegend\": false, \"type\": \"scatter\", \"x\": [24.342172622680664, 24.28984832763672, 24.33241081237793], \"y\": [1.784367561340332, 2.4630911350250244, 2.2784199714660645]}, {\"marker\": {\"color\": \"rgb(228.33333333333334, 180.0, 170.0)\", \"line\": {\"color\": \"black\", \"width\": 0.5}, \"size\": 8, \"symbol\": \"circle\"}, \"mode\": \"markers\", \"showlegend\": false, \"type\": \"scatter\", \"x\": [25.170528411865234, 25.23891830444336, 25.194332122802734], \"y\": [2.511972427368164, 2.8083014488220215, 2.0047860145568848]}, {\"marker\": {\"color\": \"rgb(222.66666666666666, 126.0, 106.0)\", \"line\": {\"color\": \"black\", \"width\": 0.5}, \"size\": 8, \"symbol\": \"circle\"}, \"mode\": \"markers\", \"showlegend\": false, \"type\": \"scatter\", \"x\": [25.764057159423828, 25.571430206298828, 25.91961669921875], \"y\": [2.5487759113311768, 1.5524483919143677, 2.1877377033233643]}, {\"marker\": {\"color\": \"rgb(217.0, 72.0, 42.0)\", \"line\": {\"color\": \"black\", \"width\": 0.5}, \"size\": 8, \"symbol\": \"circle\"}, \"mode\": \"markers\", \"showlegend\": false, \"type\": \"scatter\", \"x\": [25.937976837158203, 26.205474853515625, 25.399648666381836], \"y\": [1.5468679666519165, 1.9260690212249756, 1.3997366428375244]}, {\"marker\": {\"color\": \"rgb(54, 146, 68)\", \"line\": {\"color\": \"black\", \"width\": 0.5}, \"size\": 12, \"symbol\": \"x\"}, \"mode\": \"markers\", \"name\": \"\\u0394(adh,pta)-D1\", \"type\": \"scatter\", \"x\": [-7.706455230712891], \"y\": [4.781149864196777]}, {\"marker\": {\"color\": \"rgb(33.0, 100.0, 175.0)\", \"line\": {\"color\": \"black\", \"width\": 0.5}, \"size\": 8, \"symbol\": \"x\"}, \"mode\": \"markers\", \"showlegend\": false, \"type\": \"scatter\", \"x\": [8.66409969329834, 8.925091743469238, 8.634743690490723], \"y\": [-2.625073194503784, -3.2214081287384033, -3.0720937252044678]}, {\"marker\": {\"color\": \"rgb(100.0, 144.66666666666666, 194.66666666666666)\", \"line\": {\"color\": \"black\", \"width\": 0.5}, \"size\": 8, \"symbol\": \"x\"}, \"mode\": \"markers\", \"showlegend\": false, \"type\": \"scatter\", \"x\": [6.970214366912842, 7.075033187866211, 6.916108131408691], \"y\": [-2.861445665359497, -3.1857919692993164, -3.2531843185424805]}, {\"marker\": {\"color\": \"rgb(167.0, 189.33333333333331, 214.33333333333334)\", \"line\": {\"color\": \"black\", \"width\": 0.5}, \"size\": 8, \"symbol\": \"x\"}, \"mode\": \"markers\", \"showlegend\": false, \"type\": \"scatter\", \"x\": [-2.2979400157928467, -2.3350510597229004, -2.305969476699829], \"y\": [-2.2770626544952393, -2.241614818572998, -2.2659199237823486]}, {\"marker\": {\"color\": \"rgb(228.33333333333334, 180.0, 170.0)\", \"line\": {\"color\": \"black\", \"width\": 0.5}, \"size\": 8, \"symbol\": \"x\"}, \"mode\": \"markers\", \"showlegend\": false, \"type\": \"scatter\", \"x\": [-4.462364196777344, -4.181915760040283, -4.24280309677124], \"y\": [-0.2946133613586426, -1.1018630266189575, -0.9643718600273132]}, {\"marker\": {\"color\": \"rgb(222.66666666666666, 126.0, 106.0)\", \"line\": {\"color\": \"black\", \"width\": 0.5}, \"size\": 8, \"symbol\": \"x\"}, \"mode\": \"markers\", \"showlegend\": false, \"type\": \"scatter\", \"x\": [-4.559936046600342, -4.6162190437316895, -5.07490348815918], \"y\": [-0.906335175037384, -1.595943808555603, -1.6797479391098022]}, {\"marker\": {\"color\": \"rgb(217.0, 72.0, 42.0)\", \"line\": {\"color\": \"black\", \"width\": 0.5}, \"size\": 8, \"symbol\": \"x\"}, \"mode\": \"markers\", \"showlegend\": false, \"type\": \"scatter\", \"x\": [-4.867674827575684, -5.483526229858398, -5.720652103424072], \"y\": [-2.266465187072754, -2.1891157627105713, -1.7352962493896484]}, {\"marker\": {\"color\": \"rgb(54, 146, 68)\", \"line\": {\"color\": \"black\", \"width\": 0.5}, \"size\": 12, \"symbol\": \"diamond\"}, \"mode\": \"markers\", \"name\": \"\\u0394(adh,pta)-D28\", \"type\": \"scatter\", \"x\": [-7.5759406089782715], \"y\": [4.858656406402588]}, {\"marker\": {\"color\": \"rgb(33.0, 100.0, 175.0)\", \"line\": {\"color\": \"black\", \"width\": 0.5}, \"size\": 8, \"symbol\": \"diamond\"}, \"mode\": \"markers\", \"showlegend\": false, \"type\": \"scatter\", \"x\": [8.536833763122559, 9.269189834594727, 9.253594398498535], \"y\": [-2.4941470623016357, -2.7336575984954834, -2.620403289794922]}, {\"marker\": {\"color\": \"rgb(100.0, 144.66666666666666, 194.66666666666666)\", \"line\": {\"color\": \"black\", \"width\": 0.5}, \"size\": 8, \"symbol\": \"diamond\"}, \"mode\": \"markers\", \"showlegend\": false, \"type\": \"scatter\", \"x\": [6.7092084884643555, 6.594046115875244, 6.7198872566223145], \"y\": [-1.8361711502075195, -2.055583953857422, -2.0317065715789795]}, {\"marker\": {\"color\": \"rgb(167.0, 189.33333333333331, 214.33333333333334)\", \"line\": {\"color\": \"black\", \"width\": 0.5}, \"size\": 8, \"symbol\": \"diamond\"}, \"mode\": \"markers\", \"showlegend\": false, \"type\": \"scatter\", \"x\": [-1.5219569206237793, -1.5162955522537231, -1.62436842918396], \"y\": [-0.3334551453590393, -0.33798927068710327, -0.33008185029029846]}, {\"marker\": {\"color\": \"rgb(228.33333333333334, 180.0, 170.0)\", \"line\": {\"color\": \"black\", \"width\": 0.5}, \"size\": 8, \"symbol\": \"diamond\"}, \"mode\": \"markers\", \"showlegend\": false, \"type\": \"scatter\", \"x\": [-3.98940372467041, -4.3926191329956055, -4.495001316070557], \"y\": [1.8732874393463135, 1.560360312461853, 1.723567247390747]}, {\"marker\": {\"color\": \"rgb(222.66666666666666, 126.0, 106.0)\", \"line\": {\"color\": \"black\", \"width\": 0.5}, \"size\": 8, \"symbol\": \"diamond\"}, \"mode\": \"markers\", \"showlegend\": false, \"type\": \"scatter\", \"x\": [-4.99850606918335, -5.154852390289307, -5.506918907165527], \"y\": [1.0525474548339844, 0.4772115647792816, 0.8142861127853394]}, {\"marker\": {\"color\": \"rgb(217.0, 72.0, 42.0)\", \"line\": {\"color\": \"black\", \"width\": 0.5}, \"size\": 8, \"symbol\": \"diamond\"}, \"mode\": \"markers\", \"showlegend\": false, \"type\": \"scatter\", \"x\": [-5.575252532958984, -5.729404926300049, -5.985283851623535], \"y\": [-0.029349694028496742, 0.3264569044113159, 0.2428290694952011]}, {\"marker\": {\"color\": \"rgb(54, 146, 68)\", \"line\": {\"color\": \"black\", \"width\": 0.5}, \"size\": 12, \"symbol\": \"square\"}, \"mode\": \"markers\", \"name\": \"\\u0394(adh,pta)-D59\", \"type\": \"scatter\", \"x\": [-6.6259541511535645], \"y\": [5.418082237243652]}, {\"marker\": {\"color\": \"rgb(33.0, 100.0, 175.0)\", \"line\": {\"color\": \"black\", \"width\": 0.5}, \"size\": 8, \"symbol\": \"square\"}, \"mode\": \"markers\", \"showlegend\": false, \"type\": \"scatter\", \"x\": [9.11210823059082, 9.332571983337402, 9.382667541503906], \"y\": [-1.3279647827148438, -1.5149507522583008, -1.570875644683838]}, {\"marker\": {\"color\": \"rgb(100.0, 144.66666666666666, 194.66666666666666)\", \"line\": {\"color\": \"black\", \"width\": 0.5}, \"size\": 8, \"symbol\": \"square\"}, \"mode\": \"markers\", \"showlegend\": false, \"type\": \"scatter\", \"x\": [8.133383750915527, 8.121051788330078, 8.119415283203125], \"y\": [-0.2565401494503021, -0.21940304338932037, -0.1759657859802246]}, {\"marker\": {\"color\": \"rgb(167.0, 189.33333333333331, 214.33333333333334)\", \"line\": {\"color\": \"black\", \"width\": 0.5}, \"size\": 8, \"symbol\": \"square\"}, \"mode\": \"markers\", \"showlegend\": false, \"type\": \"scatter\", \"x\": [-2.07265305519104, -2.044735908508301, -1.9773001670837402], \"y\": [5.608645439147949, 5.608475208282471, 5.587230682373047]}, {\"marker\": {\"color\": \"rgb(228.33333333333334, 180.0, 170.0)\", \"line\": {\"color\": \"black\", \"width\": 0.5}, \"size\": 8, \"symbol\": \"square\"}, \"mode\": \"markers\", \"showlegend\": false, \"type\": \"scatter\", \"x\": [-3.896477460861206, -3.78560471534729, -3.842092752456665], \"y\": [5.816832542419434, 5.510278224945068, 6.213174343109131]}, {\"marker\": {\"color\": \"rgb(222.66666666666666, 126.0, 106.0)\", \"line\": {\"color\": \"black\", \"width\": 0.5}, \"size\": 8, \"symbol\": \"square\"}, \"mode\": \"markers\", \"showlegend\": false, \"type\": \"scatter\", \"x\": [-4.18858003616333, -4.643463611602783, -4.491763591766357], \"y\": [6.338985919952393, 6.466064929962158, 5.778968811035156]}, {\"marker\": {\"color\": \"rgb(217.0, 72.0, 42.0)\", \"line\": {\"color\": \"black\", \"width\": 0.5}, \"size\": 8, \"symbol\": \"square\"}, \"mode\": \"markers\", \"showlegend\": false, \"type\": \"scatter\", \"x\": [-4.899514198303223, -4.874411582946777, -5.237095832824707], \"y\": [6.195467948913574, 5.537605285644531, 5.723231792449951]}],                        {\"height\": 475, \"legend\": {\"font\": {\"color\": \"black\", \"family\": \"Myriad Pro\", \"size\": 12}, \"orientation\": \"h\", \"x\": 0.1, \"y\": -0.15}, \"template\": {\"data\": {\"scatter\": [{\"type\": \"scatter\"}]}}, \"width\": 430, \"xaxis\": {\"linecolor\": \"black\", \"linewidth\": 1, \"mirror\": true, \"nticks\": 8, \"showgrid\": true, \"showline\": true, \"side\": \"bottom\", \"tickangle\": 0, \"tickcolor\": \"black\", \"tickfont\": {\"color\": \"black\", \"family\": \"Myriad Pro\", \"size\": 16}, \"ticklen\": 4, \"ticks\": \"outside\", \"title\": {\"font\": {\"color\": \"black\", \"family\": \"Myriad Pro\", \"size\": 16}, \"standoff\": 0.5, \"text\": \"Principal Component 1\"}, \"zeroline\": true}, \"yaxis\": {\"anchor\": \"x\", \"linecolor\": \"black\", \"linewidth\": 1, \"mirror\": true, \"showgrid\": true, \"showline\": true, \"side\": \"left\", \"tickangle\": 0, \"tickcolor\": \"black\", \"tickfont\": {\"color\": \"black\", \"family\": \"Myriad Pro\", \"size\": 16}, \"ticklen\": 4, \"ticks\": \"outside\", \"title\": {\"font\": {\"color\": \"black\", \"family\": \"Myriad Pro\", \"size\": 16}, \"text\": \"Principal Component 2\"}, \"zeroline\": true}},                        {\"responsive\": true}                    ).then(function(){\n",
       "                            \n",
       "var gd = document.getElementById('f3a45fa4-2db2-4639-9d89-12e2d220ead1');\n",
       "var x = new MutationObserver(function (mutations, observer) {{\n",
       "        var display = window.getComputedStyle(gd).display;\n",
       "        if (!display || display === 'none') {{\n",
       "            console.log([gd, 'removed!']);\n",
       "            Plotly.purge(gd);\n",
       "            observer.disconnect();\n",
       "        }}\n",
       "}});\n",
       "\n",
       "// Listen for the removal of the full notebook cells\n",
       "var notebookContainer = gd.closest('#notebook-container');\n",
       "if (notebookContainer) {{\n",
       "    x.observe(notebookContainer, {childList: true});\n",
       "}}\n",
       "\n",
       "// Listen for the clearing of the current output cell\n",
       "var outputEl = gd.closest('.output');\n",
       "if (outputEl) {{\n",
       "    x.observe(outputEl, {childList: true});\n",
       "}}\n",
       "\n",
       "                        })                };                });            </script>        </div>"
      ]
     },
     "metadata": {},
     "output_type": "display_data"
    }
   ],
   "source": [
    "features = ['acetate', \n",
    "            'formate', \n",
    "            'lactate', \n",
    "            'pyruvate',\n",
    "            'succinate', 'glucose','od0','od2','od4','od6','od8']\n",
    "tsne_plot(features,15,10)"
   ]
  },
  {
   "cell_type": "code",
   "execution_count": 909,
   "id": "dimensional-simple",
   "metadata": {},
   "outputs": [
    {
     "name": "stdout",
     "output_type": "stream",
     "text": [
      "TSNE\n",
      "Learning Rate:  10\n",
      "Perplexity:  15\n"
     ]
    },
    {
     "data": {
      "application/vnd.plotly.v1+json": {
       "config": {
        "linkText": "Export to plot.ly",
        "plotlyServerURL": "https://plot.ly",
        "showLink": false
       },
       "data": [
        {
         "marker": {
          "color": "rgb(54, 146, 68)",
          "line": {
           "color": "black",
           "width": 0.5
          },
          "size": 12,
          "symbol": "circle"
         },
         "mode": "markers",
         "name": "WT",
         "type": "scatter",
         "x": [
          17.96930503845215
         ],
         "y": [
          5.276426792144775
         ]
        },
        {
         "marker": {
          "color": "rgb(33.0, 100.0, 175.0)",
          "line": {
           "color": "black",
           "width": 0.5
          },
          "size": 8,
          "symbol": "circle"
         },
         "mode": "markers",
         "showlegend": false,
         "type": "scatter",
         "x": [
          15.245469093322754,
          15.273743629455566,
          15.284917831420898
         ],
         "y": [
          3.2464420795440674,
          3.2369513511657715,
          3.1230907440185547
         ]
        },
        {
         "marker": {
          "color": "rgb(100.0, 144.66666666666666, 194.66666666666666)",
          "line": {
           "color": "black",
           "width": 0.5
          },
          "size": 8,
          "symbol": "circle"
         },
         "mode": "markers",
         "showlegend": false,
         "type": "scatter",
         "x": [
          16.156749725341797,
          16.122814178466797,
          16.147212982177734
         ],
         "y": [
          3.2499818801879883,
          3.568148136138916,
          3.5690970420837402
         ]
        },
        {
         "marker": {
          "color": "rgb(167.0, 189.33333333333331, 214.33333333333334)",
          "line": {
           "color": "black",
           "width": 0.5
          },
          "size": 8,
          "symbol": "circle"
         },
         "mode": "markers",
         "showlegend": false,
         "type": "scatter",
         "x": [
          17.817928314208984,
          17.89128303527832,
          18.012676239013672
         ],
         "y": [
          3.267897844314575,
          3.751495599746704,
          3.9206032752990723
         ]
        },
        {
         "marker": {
          "color": "rgb(228.33333333333334, 180.0, 170.0)",
          "line": {
           "color": "black",
           "width": 0.5
          },
          "size": 8,
          "symbol": "circle"
         },
         "mode": "markers",
         "showlegend": false,
         "type": "scatter",
         "x": [
          18.803133010864258,
          18.881654739379883,
          18.635419845581055
         ],
         "y": [
          3.8965160846710205,
          4.0177903175354,
          3.299250364303589
         ]
        },
        {
         "marker": {
          "color": "rgb(222.66666666666666, 126.0, 106.0)",
          "line": {
           "color": "black",
           "width": 0.5
          },
          "size": 8,
          "symbol": "circle"
         },
         "mode": "markers",
         "showlegend": false,
         "type": "scatter",
         "x": [
          18.532651901245117,
          18.879730224609375,
          19.16596794128418
         ],
         "y": [
          2.8548598289489746,
          2.6288552284240723,
          3.290792942047119
         ]
        },
        {
         "marker": {
          "color": "rgb(217.0, 72.0, 42.0)",
          "line": {
           "color": "black",
           "width": 0.5
          },
          "size": 8,
          "symbol": "circle"
         },
         "mode": "markers",
         "showlegend": false,
         "type": "scatter",
         "x": [
          19.216611862182617,
          19.57819366455078,
          19.447906494140625
         ],
         "y": [
          2.7488558292388916,
          3.0878586769104004,
          3.5618417263031006
         ]
        },
        {
         "marker": {
          "color": "rgb(54, 146, 68)",
          "line": {
           "color": "black",
           "width": 0.5
          },
          "size": 12,
          "symbol": "x"
         },
         "mode": "markers",
         "name": "Δ(adh,pta)-D1",
         "type": "scatter",
         "x": [
          -14.24327564239502
         ],
         "y": [
          -1.9818061590194702
         ]
        },
        {
         "marker": {
          "color": "rgb(33.0, 100.0, 175.0)",
          "line": {
           "color": "black",
           "width": 0.5
          },
          "size": 8,
          "symbol": "x"
         },
         "mode": "markers",
         "showlegend": false,
         "type": "scatter",
         "x": [
          -2.0866987705230713,
          -1.9327349662780762,
          -1.9097353219985962
         ],
         "y": [
          -2.804152011871338,
          -2.674605131149292,
          -3.0401835441589355
         ]
        },
        {
         "marker": {
          "color": "rgb(100.0, 144.66666666666666, 194.66666666666666)",
          "line": {
           "color": "black",
           "width": 0.5
          },
          "size": 8,
          "symbol": "x"
         },
         "mode": "markers",
         "showlegend": false,
         "type": "scatter",
         "x": [
          -2.4172098636627197,
          -2.22536039352417,
          -2.220407009124756
         ],
         "y": [
          -4.355615615844727,
          -4.440165042877197,
          -4.553774356842041
         ]
        },
        {
         "marker": {
          "color": "rgb(167.0, 189.33333333333331, 214.33333333333334)",
          "line": {
           "color": "black",
           "width": 0.5
          },
          "size": 8,
          "symbol": "x"
         },
         "mode": "markers",
         "showlegend": false,
         "type": "scatter",
         "x": [
          -8.145298957824707,
          -8.161502838134766,
          -8.168755531311035
         ],
         "y": [
          -7.439764976501465,
          -7.413564682006836,
          -7.4427809715271
         ]
        },
        {
         "marker": {
          "color": "rgb(228.33333333333334, 180.0, 170.0)",
          "line": {
           "color": "black",
           "width": 0.5
          },
          "size": 8,
          "symbol": "x"
         },
         "mode": "markers",
         "showlegend": false,
         "type": "scatter",
         "x": [
          -11.774975776672363,
          -11.717930793762207,
          -11.355015754699707
         ],
         "y": [
          -6.594247817993164,
          -7.16428804397583,
          -7.062057018280029
         ]
        },
        {
         "marker": {
          "color": "rgb(222.66666666666666, 126.0, 106.0)",
          "line": {
           "color": "black",
           "width": 0.5
          },
          "size": 8,
          "symbol": "x"
         },
         "mode": "markers",
         "showlegend": false,
         "type": "scatter",
         "x": [
          -10.687417030334473,
          -10.628225326538086,
          -10.853483200073242
         ],
         "y": [
          -7.025267124176025,
          -7.367664813995361,
          -7.852170944213867
         ]
        },
        {
         "marker": {
          "color": "rgb(217.0, 72.0, 42.0)",
          "line": {
           "color": "black",
           "width": 0.5
          },
          "size": 8,
          "symbol": "x"
         },
         "mode": "markers",
         "showlegend": false,
         "type": "scatter",
         "x": [
          -10.190387725830078,
          -10.7933988571167,
          -10.969380378723145
         ],
         "y": [
          -7.961799621582031,
          -8.433123588562012,
          -8.342028617858887
         ]
        },
        {
         "marker": {
          "color": "rgb(54, 146, 68)",
          "line": {
           "color": "black",
           "width": 0.5
          },
          "size": 12,
          "symbol": "diamond"
         },
         "mode": "markers",
         "name": "Δ(adh,pta)-D28",
         "type": "scatter",
         "x": [
          -14.20528507232666
         ],
         "y": [
          -1.9264582395553589
         ]
        },
        {
         "marker": {
          "color": "rgb(33.0, 100.0, 175.0)",
          "line": {
           "color": "black",
           "width": 0.5
          },
          "size": 8,
          "symbol": "diamond"
         },
         "mode": "markers",
         "showlegend": false,
         "type": "scatter",
         "x": [
          -1.2903996706008911,
          -1.3984503746032715,
          -1.3225939273834229
         ],
         "y": [
          -3.218647003173828,
          -2.628049373626709,
          -2.9242703914642334
         ]
        },
        {
         "marker": {
          "color": "rgb(100.0, 144.66666666666666, 194.66666666666666)",
          "line": {
           "color": "black",
           "width": 0.5
          },
          "size": 8,
          "symbol": "diamond"
         },
         "mode": "markers",
         "showlegend": false,
         "type": "scatter",
         "x": [
          -3.241701364517212,
          -3.0773167610168457,
          -3.0922701358795166
         ],
         "y": [
          -4.142573833465576,
          -4.296809196472168,
          -4.185898303985596
         ]
        },
        {
         "marker": {
          "color": "rgb(167.0, 189.33333333333331, 214.33333333333334)",
          "line": {
           "color": "black",
           "width": 0.5
          },
          "size": 8,
          "symbol": "diamond"
         },
         "mode": "markers",
         "showlegend": false,
         "type": "scatter",
         "x": [
          -7.8127264976501465,
          -7.798079013824463,
          -7.875797271728516
         ],
         "y": [
          -5.681262016296387,
          -5.683202266693115,
          -5.772604465484619
         ]
        },
        {
         "marker": {
          "color": "rgb(228.33333333333334, 180.0, 170.0)",
          "line": {
           "color": "black",
           "width": 0.5
          },
          "size": 8,
          "symbol": "diamond"
         },
         "mode": "markers",
         "showlegend": false,
         "type": "scatter",
         "x": [
          -11.338187217712402,
          -11.589006423950195,
          -11.793675422668457
         ],
         "y": [
          -3.99479341506958,
          -4.5203118324279785,
          -4.525183200836182
         ]
        },
        {
         "marker": {
          "color": "rgb(222.66666666666666, 126.0, 106.0)",
          "line": {
           "color": "black",
           "width": 0.5
          },
          "size": 8,
          "symbol": "diamond"
         },
         "mode": "markers",
         "showlegend": false,
         "type": "scatter",
         "x": [
          -12.092304229736328,
          -11.608683586120605,
          -11.317039489746094
         ],
         "y": [
          -5.360978126525879,
          -5.720250129699707,
          -5.389847755432129
         ]
        },
        {
         "marker": {
          "color": "rgb(217.0, 72.0, 42.0)",
          "line": {
           "color": "black",
           "width": 0.5
          },
          "size": 8,
          "symbol": "diamond"
         },
         "mode": "markers",
         "showlegend": false,
         "type": "scatter",
         "x": [
          -10.602941513061523,
          -10.913525581359863,
          -10.949621200561523
         ],
         "y": [
          -5.861941814422607,
          -5.633474826812744,
          -5.725852966308594
         ]
        },
        {
         "marker": {
          "color": "rgb(54, 146, 68)",
          "line": {
           "color": "black",
           "width": 0.5
          },
          "size": 12,
          "symbol": "square"
         },
         "mode": "markers",
         "name": "Δ(adh,pta)-D59",
         "type": "scatter",
         "x": [
          -13.2609281539917
         ],
         "y": [
          -0.374458372592926
         ]
        },
        {
         "marker": {
          "color": "rgb(33.0, 100.0, 175.0)",
          "line": {
           "color": "black",
           "width": 0.5
          },
          "size": 8,
          "symbol": "square"
         },
         "mode": "markers",
         "showlegend": false,
         "type": "scatter",
         "x": [
          -4.776901721954346,
          -4.680418014526367,
          -4.708685398101807
         ],
         "y": [
          -0.6711530685424805,
          -0.7173648476600647,
          -0.7029677629470825
         ]
        },
        {
         "marker": {
          "color": "rgb(100.0, 144.66666666666666, 194.66666666666666)",
          "line": {
           "color": "black",
           "width": 0.5
          },
          "size": 8,
          "symbol": "square"
         },
         "mode": "markers",
         "showlegend": false,
         "type": "scatter",
         "x": [
          -6.391269683837891,
          -6.416715621948242,
          -6.416890621185303
         ],
         "y": [
          -0.029179280623793602,
          -0.016365254297852516,
          -0.013924358412623405
         ]
        },
        {
         "marker": {
          "color": "rgb(167.0, 189.33333333333331, 214.33333333333334)",
          "line": {
           "color": "black",
           "width": 0.5
          },
          "size": 8,
          "symbol": "square"
         },
         "mode": "markers",
         "showlegend": false,
         "type": "scatter",
         "x": [
          -9.796294212341309,
          -9.706343650817871,
          -9.579652786254883
         ],
         "y": [
          1.067442536354065,
          1.0282659530639648,
          0.9947476983070374
         ]
        },
        {
         "marker": {
          "color": "rgb(228.33333333333334, 180.0, 170.0)",
          "line": {
           "color": "black",
           "width": 0.5
          },
          "size": 8,
          "symbol": "square"
         },
         "mode": "markers",
         "showlegend": false,
         "type": "scatter",
         "x": [
          -11.453057289123535,
          -11.51523494720459,
          -11.271870613098145
         ],
         "y": [
          0.766041100025177,
          0.42159485816955566,
          0.9944126605987549
         ]
        },
        {
         "marker": {
          "color": "rgb(222.66666666666666, 126.0, 106.0)",
          "line": {
           "color": "black",
           "width": 0.5
          },
          "size": 8,
          "symbol": "square"
         },
         "mode": "markers",
         "showlegend": false,
         "type": "scatter",
         "x": [
          -11.425849914550781,
          -11.693493843078613,
          -11.903046607971191
         ],
         "y": [
          1.4324063062667847,
          1.8414273262023926,
          1.2034271955490112
         ]
        },
        {
         "marker": {
          "color": "rgb(217.0, 72.0, 42.0)",
          "line": {
           "color": "black",
           "width": 0.5
          },
          "size": 8,
          "symbol": "square"
         },
         "mode": "markers",
         "showlegend": false,
         "type": "scatter",
         "x": [
          -12.124838829040527,
          -12.331732749938965,
          -12.5521879196167
         ],
         "y": [
          1.5062212944030762,
          0.6805989146232605,
          0.6186354160308838
         ]
        }
       ],
       "layout": {
        "height": 475,
        "legend": {
         "font": {
          "color": "black",
          "family": "Myriad Pro",
          "size": 12
         },
         "orientation": "h",
         "x": 0.1,
         "y": -0.15
        },
        "template": {
         "data": {
          "scatter": [
           {
            "type": "scatter"
           }
          ]
         }
        },
        "width": 430,
        "xaxis": {
         "linecolor": "black",
         "linewidth": 1,
         "mirror": true,
         "nticks": 8,
         "showgrid": true,
         "showline": true,
         "side": "bottom",
         "tickangle": 0,
         "tickcolor": "black",
         "tickfont": {
          "color": "black",
          "family": "Myriad Pro",
          "size": 16
         },
         "ticklen": 4,
         "ticks": "outside",
         "title": {
          "font": {
           "color": "black",
           "family": "Myriad Pro",
           "size": 16
          },
          "standoff": 0.5,
          "text": "Principal Component 1"
         },
         "zeroline": true
        },
        "yaxis": {
         "anchor": "x",
         "linecolor": "black",
         "linewidth": 1,
         "mirror": true,
         "showgrid": true,
         "showline": true,
         "side": "left",
         "tickangle": 0,
         "tickcolor": "black",
         "tickfont": {
          "color": "black",
          "family": "Myriad Pro",
          "size": 16
         },
         "ticklen": 4,
         "ticks": "outside",
         "title": {
          "font": {
           "color": "black",
           "family": "Myriad Pro",
           "size": 16
          },
          "text": "Principal Component 2"
         },
         "zeroline": true
        }
       }
      },
      "text/html": [
       "<div>                            <div id=\"80940c2c-36bb-4acd-87a3-bde145490046\" class=\"plotly-graph-div\" style=\"height:475px; width:430px;\"></div>            <script type=\"text/javascript\">                require([\"plotly\"], function(Plotly) {                    window.PLOTLYENV=window.PLOTLYENV || {};                                    if (document.getElementById(\"80940c2c-36bb-4acd-87a3-bde145490046\")) {                    Plotly.newPlot(                        \"80940c2c-36bb-4acd-87a3-bde145490046\",                        [{\"marker\": {\"color\": \"rgb(54, 146, 68)\", \"line\": {\"color\": \"black\", \"width\": 0.5}, \"size\": 12, \"symbol\": \"circle\"}, \"mode\": \"markers\", \"name\": \"WT\", \"type\": \"scatter\", \"x\": [17.96930503845215], \"y\": [5.276426792144775]}, {\"marker\": {\"color\": \"rgb(33.0, 100.0, 175.0)\", \"line\": {\"color\": \"black\", \"width\": 0.5}, \"size\": 8, \"symbol\": \"circle\"}, \"mode\": \"markers\", \"showlegend\": false, \"type\": \"scatter\", \"x\": [15.245469093322754, 15.273743629455566, 15.284917831420898], \"y\": [3.2464420795440674, 3.2369513511657715, 3.1230907440185547]}, {\"marker\": {\"color\": \"rgb(100.0, 144.66666666666666, 194.66666666666666)\", \"line\": {\"color\": \"black\", \"width\": 0.5}, \"size\": 8, \"symbol\": \"circle\"}, \"mode\": \"markers\", \"showlegend\": false, \"type\": \"scatter\", \"x\": [16.156749725341797, 16.122814178466797, 16.147212982177734], \"y\": [3.2499818801879883, 3.568148136138916, 3.5690970420837402]}, {\"marker\": {\"color\": \"rgb(167.0, 189.33333333333331, 214.33333333333334)\", \"line\": {\"color\": \"black\", \"width\": 0.5}, \"size\": 8, \"symbol\": \"circle\"}, \"mode\": \"markers\", \"showlegend\": false, \"type\": \"scatter\", \"x\": [17.817928314208984, 17.89128303527832, 18.012676239013672], \"y\": [3.267897844314575, 3.751495599746704, 3.9206032752990723]}, {\"marker\": {\"color\": \"rgb(228.33333333333334, 180.0, 170.0)\", \"line\": {\"color\": \"black\", \"width\": 0.5}, \"size\": 8, \"symbol\": \"circle\"}, \"mode\": \"markers\", \"showlegend\": false, \"type\": \"scatter\", \"x\": [18.803133010864258, 18.881654739379883, 18.635419845581055], \"y\": [3.8965160846710205, 4.0177903175354, 3.299250364303589]}, {\"marker\": {\"color\": \"rgb(222.66666666666666, 126.0, 106.0)\", \"line\": {\"color\": \"black\", \"width\": 0.5}, \"size\": 8, \"symbol\": \"circle\"}, \"mode\": \"markers\", \"showlegend\": false, \"type\": \"scatter\", \"x\": [18.532651901245117, 18.879730224609375, 19.16596794128418], \"y\": [2.8548598289489746, 2.6288552284240723, 3.290792942047119]}, {\"marker\": {\"color\": \"rgb(217.0, 72.0, 42.0)\", \"line\": {\"color\": \"black\", \"width\": 0.5}, \"size\": 8, \"symbol\": \"circle\"}, \"mode\": \"markers\", \"showlegend\": false, \"type\": \"scatter\", \"x\": [19.216611862182617, 19.57819366455078, 19.447906494140625], \"y\": [2.7488558292388916, 3.0878586769104004, 3.5618417263031006]}, {\"marker\": {\"color\": \"rgb(54, 146, 68)\", \"line\": {\"color\": \"black\", \"width\": 0.5}, \"size\": 12, \"symbol\": \"x\"}, \"mode\": \"markers\", \"name\": \"\\u0394(adh,pta)-D1\", \"type\": \"scatter\", \"x\": [-14.24327564239502], \"y\": [-1.9818061590194702]}, {\"marker\": {\"color\": \"rgb(33.0, 100.0, 175.0)\", \"line\": {\"color\": \"black\", \"width\": 0.5}, \"size\": 8, \"symbol\": \"x\"}, \"mode\": \"markers\", \"showlegend\": false, \"type\": \"scatter\", \"x\": [-2.0866987705230713, -1.9327349662780762, -1.9097353219985962], \"y\": [-2.804152011871338, -2.674605131149292, -3.0401835441589355]}, {\"marker\": {\"color\": \"rgb(100.0, 144.66666666666666, 194.66666666666666)\", \"line\": {\"color\": \"black\", \"width\": 0.5}, \"size\": 8, \"symbol\": \"x\"}, \"mode\": \"markers\", \"showlegend\": false, \"type\": \"scatter\", \"x\": [-2.4172098636627197, -2.22536039352417, -2.220407009124756], \"y\": [-4.355615615844727, -4.440165042877197, -4.553774356842041]}, {\"marker\": {\"color\": \"rgb(167.0, 189.33333333333331, 214.33333333333334)\", \"line\": {\"color\": \"black\", \"width\": 0.5}, \"size\": 8, \"symbol\": \"x\"}, \"mode\": \"markers\", \"showlegend\": false, \"type\": \"scatter\", \"x\": [-8.145298957824707, -8.161502838134766, -8.168755531311035], \"y\": [-7.439764976501465, -7.413564682006836, -7.4427809715271]}, {\"marker\": {\"color\": \"rgb(228.33333333333334, 180.0, 170.0)\", \"line\": {\"color\": \"black\", \"width\": 0.5}, \"size\": 8, \"symbol\": \"x\"}, \"mode\": \"markers\", \"showlegend\": false, \"type\": \"scatter\", \"x\": [-11.774975776672363, -11.717930793762207, -11.355015754699707], \"y\": [-6.594247817993164, -7.16428804397583, -7.062057018280029]}, {\"marker\": {\"color\": \"rgb(222.66666666666666, 126.0, 106.0)\", \"line\": {\"color\": \"black\", \"width\": 0.5}, \"size\": 8, \"symbol\": \"x\"}, \"mode\": \"markers\", \"showlegend\": false, \"type\": \"scatter\", \"x\": [-10.687417030334473, -10.628225326538086, -10.853483200073242], \"y\": [-7.025267124176025, -7.367664813995361, -7.852170944213867]}, {\"marker\": {\"color\": \"rgb(217.0, 72.0, 42.0)\", \"line\": {\"color\": \"black\", \"width\": 0.5}, \"size\": 8, \"symbol\": \"x\"}, \"mode\": \"markers\", \"showlegend\": false, \"type\": \"scatter\", \"x\": [-10.190387725830078, -10.7933988571167, -10.969380378723145], \"y\": [-7.961799621582031, -8.433123588562012, -8.342028617858887]}, {\"marker\": {\"color\": \"rgb(54, 146, 68)\", \"line\": {\"color\": \"black\", \"width\": 0.5}, \"size\": 12, \"symbol\": \"diamond\"}, \"mode\": \"markers\", \"name\": \"\\u0394(adh,pta)-D28\", \"type\": \"scatter\", \"x\": [-14.20528507232666], \"y\": [-1.9264582395553589]}, {\"marker\": {\"color\": \"rgb(33.0, 100.0, 175.0)\", \"line\": {\"color\": \"black\", \"width\": 0.5}, \"size\": 8, \"symbol\": \"diamond\"}, \"mode\": \"markers\", \"showlegend\": false, \"type\": \"scatter\", \"x\": [-1.2903996706008911, -1.3984503746032715, -1.3225939273834229], \"y\": [-3.218647003173828, -2.628049373626709, -2.9242703914642334]}, {\"marker\": {\"color\": \"rgb(100.0, 144.66666666666666, 194.66666666666666)\", \"line\": {\"color\": \"black\", \"width\": 0.5}, \"size\": 8, \"symbol\": \"diamond\"}, \"mode\": \"markers\", \"showlegend\": false, \"type\": \"scatter\", \"x\": [-3.241701364517212, -3.0773167610168457, -3.0922701358795166], \"y\": [-4.142573833465576, -4.296809196472168, -4.185898303985596]}, {\"marker\": {\"color\": \"rgb(167.0, 189.33333333333331, 214.33333333333334)\", \"line\": {\"color\": \"black\", \"width\": 0.5}, \"size\": 8, \"symbol\": \"diamond\"}, \"mode\": \"markers\", \"showlegend\": false, \"type\": \"scatter\", \"x\": [-7.8127264976501465, -7.798079013824463, -7.875797271728516], \"y\": [-5.681262016296387, -5.683202266693115, -5.772604465484619]}, {\"marker\": {\"color\": \"rgb(228.33333333333334, 180.0, 170.0)\", \"line\": {\"color\": \"black\", \"width\": 0.5}, \"size\": 8, \"symbol\": \"diamond\"}, \"mode\": \"markers\", \"showlegend\": false, \"type\": \"scatter\", \"x\": [-11.338187217712402, -11.589006423950195, -11.793675422668457], \"y\": [-3.99479341506958, -4.5203118324279785, -4.525183200836182]}, {\"marker\": {\"color\": \"rgb(222.66666666666666, 126.0, 106.0)\", \"line\": {\"color\": \"black\", \"width\": 0.5}, \"size\": 8, \"symbol\": \"diamond\"}, \"mode\": \"markers\", \"showlegend\": false, \"type\": \"scatter\", \"x\": [-12.092304229736328, -11.608683586120605, -11.317039489746094], \"y\": [-5.360978126525879, -5.720250129699707, -5.389847755432129]}, {\"marker\": {\"color\": \"rgb(217.0, 72.0, 42.0)\", \"line\": {\"color\": \"black\", \"width\": 0.5}, \"size\": 8, \"symbol\": \"diamond\"}, \"mode\": \"markers\", \"showlegend\": false, \"type\": \"scatter\", \"x\": [-10.602941513061523, -10.913525581359863, -10.949621200561523], \"y\": [-5.861941814422607, -5.633474826812744, -5.725852966308594]}, {\"marker\": {\"color\": \"rgb(54, 146, 68)\", \"line\": {\"color\": \"black\", \"width\": 0.5}, \"size\": 12, \"symbol\": \"square\"}, \"mode\": \"markers\", \"name\": \"\\u0394(adh,pta)-D59\", \"type\": \"scatter\", \"x\": [-13.2609281539917], \"y\": [-0.374458372592926]}, {\"marker\": {\"color\": \"rgb(33.0, 100.0, 175.0)\", \"line\": {\"color\": \"black\", \"width\": 0.5}, \"size\": 8, \"symbol\": \"square\"}, \"mode\": \"markers\", \"showlegend\": false, \"type\": \"scatter\", \"x\": [-4.776901721954346, -4.680418014526367, -4.708685398101807], \"y\": [-0.6711530685424805, -0.7173648476600647, -0.7029677629470825]}, {\"marker\": {\"color\": \"rgb(100.0, 144.66666666666666, 194.66666666666666)\", \"line\": {\"color\": \"black\", \"width\": 0.5}, \"size\": 8, \"symbol\": \"square\"}, \"mode\": \"markers\", \"showlegend\": false, \"type\": \"scatter\", \"x\": [-6.391269683837891, -6.416715621948242, -6.416890621185303], \"y\": [-0.029179280623793602, -0.016365254297852516, -0.013924358412623405]}, {\"marker\": {\"color\": \"rgb(167.0, 189.33333333333331, 214.33333333333334)\", \"line\": {\"color\": \"black\", \"width\": 0.5}, \"size\": 8, \"symbol\": \"square\"}, \"mode\": \"markers\", \"showlegend\": false, \"type\": \"scatter\", \"x\": [-9.796294212341309, -9.706343650817871, -9.579652786254883], \"y\": [1.067442536354065, 1.0282659530639648, 0.9947476983070374]}, {\"marker\": {\"color\": \"rgb(228.33333333333334, 180.0, 170.0)\", \"line\": {\"color\": \"black\", \"width\": 0.5}, \"size\": 8, \"symbol\": \"square\"}, \"mode\": \"markers\", \"showlegend\": false, \"type\": \"scatter\", \"x\": [-11.453057289123535, -11.51523494720459, -11.271870613098145], \"y\": [0.766041100025177, 0.42159485816955566, 0.9944126605987549]}, {\"marker\": {\"color\": \"rgb(222.66666666666666, 126.0, 106.0)\", \"line\": {\"color\": \"black\", \"width\": 0.5}, \"size\": 8, \"symbol\": \"square\"}, \"mode\": \"markers\", \"showlegend\": false, \"type\": \"scatter\", \"x\": [-11.425849914550781, -11.693493843078613, -11.903046607971191], \"y\": [1.4324063062667847, 1.8414273262023926, 1.2034271955490112]}, {\"marker\": {\"color\": \"rgb(217.0, 72.0, 42.0)\", \"line\": {\"color\": \"black\", \"width\": 0.5}, \"size\": 8, \"symbol\": \"square\"}, \"mode\": \"markers\", \"showlegend\": false, \"type\": \"scatter\", \"x\": [-12.124838829040527, -12.331732749938965, -12.5521879196167], \"y\": [1.5062212944030762, 0.6805989146232605, 0.6186354160308838]}],                        {\"height\": 475, \"legend\": {\"font\": {\"color\": \"black\", \"family\": \"Myriad Pro\", \"size\": 12}, \"orientation\": \"h\", \"x\": 0.1, \"y\": -0.15}, \"template\": {\"data\": {\"scatter\": [{\"type\": \"scatter\"}]}}, \"width\": 430, \"xaxis\": {\"linecolor\": \"black\", \"linewidth\": 1, \"mirror\": true, \"nticks\": 8, \"showgrid\": true, \"showline\": true, \"side\": \"bottom\", \"tickangle\": 0, \"tickcolor\": \"black\", \"tickfont\": {\"color\": \"black\", \"family\": \"Myriad Pro\", \"size\": 16}, \"ticklen\": 4, \"ticks\": \"outside\", \"title\": {\"font\": {\"color\": \"black\", \"family\": \"Myriad Pro\", \"size\": 16}, \"standoff\": 0.5, \"text\": \"Principal Component 1\"}, \"zeroline\": true}, \"yaxis\": {\"anchor\": \"x\", \"linecolor\": \"black\", \"linewidth\": 1, \"mirror\": true, \"showgrid\": true, \"showline\": true, \"side\": \"left\", \"tickangle\": 0, \"tickcolor\": \"black\", \"tickfont\": {\"color\": \"black\", \"family\": \"Myriad Pro\", \"size\": 16}, \"ticklen\": 4, \"ticks\": \"outside\", \"title\": {\"font\": {\"color\": \"black\", \"family\": \"Myriad Pro\", \"size\": 16}, \"text\": \"Principal Component 2\"}, \"zeroline\": true}},                        {\"responsive\": true}                    ).then(function(){\n",
       "                            \n",
       "var gd = document.getElementById('80940c2c-36bb-4acd-87a3-bde145490046');\n",
       "var x = new MutationObserver(function (mutations, observer) {{\n",
       "        var display = window.getComputedStyle(gd).display;\n",
       "        if (!display || display === 'none') {{\n",
       "            console.log([gd, 'removed!']);\n",
       "            Plotly.purge(gd);\n",
       "            observer.disconnect();\n",
       "        }}\n",
       "}});\n",
       "\n",
       "// Listen for the removal of the full notebook cells\n",
       "var notebookContainer = gd.closest('#notebook-container');\n",
       "if (notebookContainer) {{\n",
       "    x.observe(notebookContainer, {childList: true});\n",
       "}}\n",
       "\n",
       "// Listen for the clearing of the current output cell\n",
       "var outputEl = gd.closest('.output');\n",
       "if (outputEl) {{\n",
       "    x.observe(outputEl, {childList: true});\n",
       "}}\n",
       "\n",
       "                        })                };                });            </script>        </div>"
      ]
     },
     "metadata": {},
     "output_type": "display_data"
    }
   ],
   "source": [
    "features = ['acetate', 'acetate_yield',\n",
    "            'formate', 'formate_yield',\n",
    "            'lactate', 'lactate_yield',\n",
    "            'pyruvate', 'growth_rate', 'pyruvate_yield', 'succinate_yield',\n",
    "            'succinate', 'glucose','od0','od2','od4','od6','od8']\n",
    "tsne_plot(features,15,10)"
   ]
  },
  {
   "cell_type": "code",
   "execution_count": 913,
   "id": "mexican-cornwall",
   "metadata": {},
   "outputs": [
    {
     "name": "stdout",
     "output_type": "stream",
     "text": [
      "TSNE\n",
      "Learning Rate:  10\n",
      "Perplexity:  15\n"
     ]
    },
    {
     "data": {
      "application/vnd.plotly.v1+json": {
       "config": {
        "linkText": "Export to plot.ly",
        "plotlyServerURL": "https://plot.ly",
        "showLink": false
       },
       "data": [
        {
         "marker": {
          "color": "rgb(54, 146, 68)",
          "line": {
           "color": "black",
           "width": 0.5
          },
          "size": 12,
          "symbol": "circle"
         },
         "mode": "markers",
         "name": "WT",
         "type": "scatter",
         "x": [
          11.650897026062012
         ],
         "y": [
          -4.056203365325928
         ]
        },
        {
         "marker": {
          "color": "rgb(33.0, 100.0, 175.0)",
          "line": {
           "color": "black",
           "width": 0.5
          },
          "size": 8,
          "symbol": "circle"
         },
         "mode": "markers",
         "showlegend": false,
         "type": "scatter",
         "x": [
          12.179220199584961,
          12.155652046203613,
          12.1603364944458
         ],
         "y": [
          -5.667276382446289,
          -5.613637447357178,
          -5.628945350646973
         ]
        },
        {
         "marker": {
          "color": "rgb(100.0, 144.66666666666666, 194.66666666666666)",
          "line": {
           "color": "black",
           "width": 0.5
          },
          "size": 8,
          "symbol": "circle"
         },
         "mode": "markers",
         "showlegend": false,
         "type": "scatter",
         "x": [
          11.594283103942871,
          11.599287986755371,
          11.580452919006348
         ],
         "y": [
          -4.677555561065674,
          -4.742151260375977,
          -4.731118202209473
         ]
        },
        {
         "marker": {
          "color": "rgb(167.0, 189.33333333333331, 214.33333333333334)",
          "line": {
           "color": "black",
           "width": 0.5
          },
          "size": 8,
          "symbol": "circle"
         },
         "mode": "markers",
         "showlegend": false,
         "type": "scatter",
         "x": [
          9.688984870910645,
          9.839272499084473,
          10.056123733520508
         ],
         "y": [
          -3.373462438583374,
          -3.1632771492004395,
          -2.8169243335723877
         ]
        },
        {
         "marker": {
          "color": "rgb(228.33333333333334, 180.0, 170.0)",
          "line": {
           "color": "black",
           "width": 0.5
          },
          "size": 8,
          "symbol": "circle"
         },
         "mode": "markers",
         "showlegend": false,
         "type": "scatter",
         "x": [
          9.675504684448242,
          9.580373764038086,
          9.268929481506348
         ],
         "y": [
          -2.1917715072631836,
          -2.0544631481170654,
          -2.574361801147461
         ]
        },
        {
         "marker": {
          "color": "rgb(222.66666666666666, 126.0, 106.0)",
          "line": {
           "color": "black",
           "width": 0.5
          },
          "size": 8,
          "symbol": "circle"
         },
         "mode": "markers",
         "showlegend": false,
         "type": "scatter",
         "x": [
          8.844399452209473,
          8.474772453308105,
          8.898015975952148
         ],
         "y": [
          -3.127462387084961,
          -2.3939504623413086,
          -2.808367967605591
         ]
        },
        {
         "marker": {
          "color": "rgb(217.0, 72.0, 42.0)",
          "line": {
           "color": "black",
           "width": 0.5
          },
          "size": 8,
          "symbol": "circle"
         },
         "mode": "markers",
         "showlegend": false,
         "type": "scatter",
         "x": [
          8.529332160949707,
          8.794493675231934,
          8.995184898376465
         ],
         "y": [
          -2.753253936767578,
          -1.9349641799926758,
          -2.10007905960083
         ]
        },
        {
         "marker": {
          "color": "rgb(54, 146, 68)",
          "line": {
           "color": "black",
           "width": 0.5
          },
          "size": 12,
          "symbol": "x"
         },
         "mode": "markers",
         "name": "Δ(adh,pta)-D1",
         "type": "scatter",
         "x": [
          -10.3710355758667
         ],
         "y": [
          5.399264335632324
         ]
        },
        {
         "marker": {
          "color": "rgb(33.0, 100.0, 175.0)",
          "line": {
           "color": "black",
           "width": 0.5
          },
          "size": 8,
          "symbol": "x"
         },
         "mode": "markers",
         "showlegend": false,
         "type": "scatter",
         "x": [
          1.7699799537658691,
          1.8278065919876099,
          1.8192120790481567
         ],
         "y": [
          6.127849102020264,
          5.831161975860596,
          5.885341167449951
         ]
        },
        {
         "marker": {
          "color": "rgb(100.0, 144.66666666666666, 194.66666666666666)",
          "line": {
           "color": "black",
           "width": 0.5
          },
          "size": 8,
          "symbol": "x"
         },
         "mode": "markers",
         "showlegend": false,
         "type": "scatter",
         "x": [
          0.20741941034793854,
          0.11890508234500885,
          0.192001074552536
         ],
         "y": [
          5.031670093536377,
          4.959167003631592,
          5.066396236419678
         ]
        },
        {
         "marker": {
          "color": "rgb(167.0, 189.33333333333331, 214.33333333333334)",
          "line": {
           "color": "black",
           "width": 0.5
          },
          "size": 8,
          "symbol": "x"
         },
         "mode": "markers",
         "showlegend": false,
         "type": "scatter",
         "x": [
          -4.53257417678833,
          -4.324536323547363,
          -4.434983253479004
         ],
         "y": [
          4.133668899536133,
          4.166580677032471,
          4.131869792938232
         ]
        },
        {
         "marker": {
          "color": "rgb(228.33333333333334, 180.0, 170.0)",
          "line": {
           "color": "black",
           "width": 0.5
          },
          "size": 8,
          "symbol": "x"
         },
         "mode": "markers",
         "showlegend": false,
         "type": "scatter",
         "x": [
          -7.768320560455322,
          -8.424054145812988,
          -8.010464668273926
         ],
         "y": [
          5.1703782081604,
          5.277397155761719,
          4.127094268798828
         ]
        },
        {
         "marker": {
          "color": "rgb(222.66666666666666, 126.0, 106.0)",
          "line": {
           "color": "black",
           "width": 0.5
          },
          "size": 8,
          "symbol": "x"
         },
         "mode": "markers",
         "showlegend": false,
         "type": "scatter",
         "x": [
          -7.636258602142334,
          -8.155803680419922,
          -6.782793045043945
         ],
         "y": [
          2.8547980785369873,
          3.3607630729675293,
          3.0527124404907227
         ]
        },
        {
         "marker": {
          "color": "rgb(217.0, 72.0, 42.0)",
          "line": {
           "color": "black",
           "width": 0.5
          },
          "size": 8,
          "symbol": "x"
         },
         "mode": "markers",
         "showlegend": false,
         "type": "scatter",
         "x": [
          -8.330963134765625,
          -6.360645294189453,
          -6.225610256195068
         ],
         "y": [
          2.5978291034698486,
          3.5679540634155273,
          3.3545987606048584
         ]
        },
        {
         "marker": {
          "color": "rgb(54, 146, 68)",
          "line": {
           "color": "black",
           "width": 0.5
          },
          "size": 12,
          "symbol": "diamond"
         },
         "mode": "markers",
         "name": "Δ(adh,pta)-D28",
         "type": "scatter",
         "x": [
          -10.328577041625977
         ],
         "y": [
          5.365006446838379
         ]
        },
        {
         "marker": {
          "color": "rgb(33.0, 100.0, 175.0)",
          "line": {
           "color": "black",
           "width": 0.5
          },
          "size": 8,
          "symbol": "diamond"
         },
         "mode": "markers",
         "showlegend": false,
         "type": "scatter",
         "x": [
          2.5121710300445557,
          2.434448480606079,
          2.3640635013580322
         ],
         "y": [
          5.977750301361084,
          5.520664691925049,
          5.493119239807129
         ]
        },
        {
         "marker": {
          "color": "rgb(100.0, 144.66666666666666, 194.66666666666666)",
          "line": {
           "color": "black",
           "width": 0.5
          },
          "size": 8,
          "symbol": "diamond"
         },
         "mode": "markers",
         "showlegend": false,
         "type": "scatter",
         "x": [
          0.7564177513122559,
          0.7086533308029175,
          0.7457736134529114
         ],
         "y": [
          4.471380233764648,
          4.859442234039307,
          4.614646911621094
         ]
        },
        {
         "marker": {
          "color": "rgb(167.0, 189.33333333333331, 214.33333333333334)",
          "line": {
           "color": "black",
           "width": 0.5
          },
          "size": 8,
          "symbol": "diamond"
         },
         "mode": "markers",
         "showlegend": false,
         "type": "scatter",
         "x": [
          -3.517911434173584,
          -3.5070931911468506,
          -3.572749137878418
         ],
         "y": [
          3.3797664642333984,
          3.3852627277374268,
          3.9169464111328125
         ]
        },
        {
         "marker": {
          "color": "rgb(228.33333333333334, 180.0, 170.0)",
          "line": {
           "color": "black",
           "width": 0.5
          },
          "size": 8,
          "symbol": "diamond"
         },
         "mode": "markers",
         "showlegend": false,
         "type": "scatter",
         "x": [
          -9.35295581817627,
          -8.410951614379883,
          -8.184345245361328
         ],
         "y": [
          4.1245222091674805,
          4.501652240753174,
          4.973473072052002
         ]
        },
        {
         "marker": {
          "color": "rgb(222.66666666666666, 126.0, 106.0)",
          "line": {
           "color": "black",
           "width": 0.5
          },
          "size": 8,
          "symbol": "diamond"
         },
         "mode": "markers",
         "showlegend": false,
         "type": "scatter",
         "x": [
          -6.887624740600586,
          -6.9096293449401855,
          -7.716507911682129
         ],
         "y": [
          5.67697286605835,
          4.925470352172852,
          4.325018882751465
         ]
        },
        {
         "marker": {
          "color": "rgb(217.0, 72.0, 42.0)",
          "line": {
           "color": "black",
           "width": 0.5
          },
          "size": 8,
          "symbol": "diamond"
         },
         "mode": "markers",
         "showlegend": false,
         "type": "scatter",
         "x": [
          -6.4278788566589355,
          -7.391412258148193,
          -6.778248310089111
         ],
         "y": [
          4.207065105438232,
          4.037021636962891,
          4.418828964233398
         ]
        },
        {
         "marker": {
          "color": "rgb(54, 146, 68)",
          "line": {
           "color": "black",
           "width": 0.5
          },
          "size": 12,
          "symbol": "square"
         },
         "mode": "markers",
         "name": "Δ(adh,pta)-D59",
         "type": "scatter",
         "x": [
          -12.486363410949707
         ],
         "y": [
          -0.5371821522712708
         ]
        },
        {
         "marker": {
          "color": "rgb(33.0, 100.0, 175.0)",
          "line": {
           "color": "black",
           "width": 0.5
          },
          "size": 8,
          "symbol": "square"
         },
         "mode": "markers",
         "showlegend": false,
         "type": "scatter",
         "x": [
          -7.295931339263916,
          -7.27557897567749,
          -7.2858381271362305
         ],
         "y": [
          -1.93685781955719,
          -1.9247421026229858,
          -1.9298189878463745
         ]
        },
        {
         "marker": {
          "color": "rgb(100.0, 144.66666666666666, 194.66666666666666)",
          "line": {
           "color": "black",
           "width": 0.5
          },
          "size": 8,
          "symbol": "square"
         },
         "mode": "markers",
         "showlegend": false,
         "type": "scatter",
         "x": [
          -11.03966236114502,
          -10.997370719909668,
          -10.932256698608398
         ],
         "y": [
          -3.4744038581848145,
          -3.4864346981048584,
          -3.492290735244751
         ]
        },
        {
         "marker": {
          "color": "rgb(167.0, 189.33333333333331, 214.33333333333334)",
          "line": {
           "color": "black",
           "width": 0.5
          },
          "size": 8,
          "symbol": "square"
         },
         "mode": "markers",
         "showlegend": false,
         "type": "scatter",
         "x": [
          -12.947754859924316,
          -12.649967193603516,
          -12.428951263427734
         ],
         "y": [
          -3.5451457500457764,
          -3.453301429748535,
          -3.3077006340026855
         ]
        },
        {
         "marker": {
          "color": "rgb(228.33333333333334, 180.0, 170.0)",
          "line": {
           "color": "black",
           "width": 0.5
          },
          "size": 8,
          "symbol": "square"
         },
         "mode": "markers",
         "showlegend": false,
         "type": "scatter",
         "x": [
          -13.378500938415527,
          -13.205536842346191,
          -13.296874046325684
         ],
         "y": [
          -2.2615582942962646,
          -1.6894596815109253,
          -2.5424726009368896
         ]
        },
        {
         "marker": {
          "color": "rgb(222.66666666666666, 126.0, 106.0)",
          "line": {
           "color": "black",
           "width": 0.5
          },
          "size": 8,
          "symbol": "square"
         },
         "mode": "markers",
         "showlegend": false,
         "type": "scatter",
         "x": [
          -13.860641479492188,
          -14.252030372619629,
          -13.859477043151855
         ],
         "y": [
          -2.9889519214630127,
          -3.251288652420044,
          -2.409313440322876
         ]
        },
        {
         "marker": {
          "color": "rgb(217.0, 72.0, 42.0)",
          "line": {
           "color": "black",
           "width": 0.5
          },
          "size": 8,
          "symbol": "square"
         },
         "mode": "markers",
         "showlegend": false,
         "type": "scatter",
         "x": [
          -14.134089469909668,
          -13.220561981201172,
          -13.11922836303711
         ],
         "y": [
          -2.6636712551116943,
          -1.4106967449188232,
          -1.2152297496795654
         ]
        }
       ],
       "layout": {
        "height": 475,
        "legend": {
         "font": {
          "color": "black",
          "family": "Myriad Pro",
          "size": 12
         },
         "orientation": "h",
         "x": 0.1,
         "y": -0.15
        },
        "template": {
         "data": {
          "scatter": [
           {
            "type": "scatter"
           }
          ]
         }
        },
        "width": 430,
        "xaxis": {
         "linecolor": "black",
         "linewidth": 1,
         "mirror": true,
         "nticks": 8,
         "showgrid": true,
         "showline": true,
         "side": "bottom",
         "tickangle": 0,
         "tickcolor": "black",
         "tickfont": {
          "color": "black",
          "family": "Myriad Pro",
          "size": 16
         },
         "ticklen": 4,
         "ticks": "outside",
         "title": {
          "font": {
           "color": "black",
           "family": "Myriad Pro",
           "size": 16
          },
          "standoff": 0.5,
          "text": "Principal Component 1"
         },
         "zeroline": true
        },
        "yaxis": {
         "anchor": "x",
         "linecolor": "black",
         "linewidth": 1,
         "mirror": true,
         "showgrid": true,
         "showline": true,
         "side": "left",
         "tickangle": 0,
         "tickcolor": "black",
         "tickfont": {
          "color": "black",
          "family": "Myriad Pro",
          "size": 16
         },
         "ticklen": 4,
         "ticks": "outside",
         "title": {
          "font": {
           "color": "black",
           "family": "Myriad Pro",
           "size": 16
          },
          "text": "Principal Component 2"
         },
         "zeroline": true
        }
       }
      },
      "text/html": [
       "<div>                            <div id=\"b29b7f6b-4d1b-41b2-b950-feda6174be75\" class=\"plotly-graph-div\" style=\"height:475px; width:430px;\"></div>            <script type=\"text/javascript\">                require([\"plotly\"], function(Plotly) {                    window.PLOTLYENV=window.PLOTLYENV || {};                                    if (document.getElementById(\"b29b7f6b-4d1b-41b2-b950-feda6174be75\")) {                    Plotly.newPlot(                        \"b29b7f6b-4d1b-41b2-b950-feda6174be75\",                        [{\"marker\": {\"color\": \"rgb(54, 146, 68)\", \"line\": {\"color\": \"black\", \"width\": 0.5}, \"size\": 12, \"symbol\": \"circle\"}, \"mode\": \"markers\", \"name\": \"WT\", \"type\": \"scatter\", \"x\": [11.650897026062012], \"y\": [-4.056203365325928]}, {\"marker\": {\"color\": \"rgb(33.0, 100.0, 175.0)\", \"line\": {\"color\": \"black\", \"width\": 0.5}, \"size\": 8, \"symbol\": \"circle\"}, \"mode\": \"markers\", \"showlegend\": false, \"type\": \"scatter\", \"x\": [12.179220199584961, 12.155652046203613, 12.1603364944458], \"y\": [-5.667276382446289, -5.613637447357178, -5.628945350646973]}, {\"marker\": {\"color\": \"rgb(100.0, 144.66666666666666, 194.66666666666666)\", \"line\": {\"color\": \"black\", \"width\": 0.5}, \"size\": 8, \"symbol\": \"circle\"}, \"mode\": \"markers\", \"showlegend\": false, \"type\": \"scatter\", \"x\": [11.594283103942871, 11.599287986755371, 11.580452919006348], \"y\": [-4.677555561065674, -4.742151260375977, -4.731118202209473]}, {\"marker\": {\"color\": \"rgb(167.0, 189.33333333333331, 214.33333333333334)\", \"line\": {\"color\": \"black\", \"width\": 0.5}, \"size\": 8, \"symbol\": \"circle\"}, \"mode\": \"markers\", \"showlegend\": false, \"type\": \"scatter\", \"x\": [9.688984870910645, 9.839272499084473, 10.056123733520508], \"y\": [-3.373462438583374, -3.1632771492004395, -2.8169243335723877]}, {\"marker\": {\"color\": \"rgb(228.33333333333334, 180.0, 170.0)\", \"line\": {\"color\": \"black\", \"width\": 0.5}, \"size\": 8, \"symbol\": \"circle\"}, \"mode\": \"markers\", \"showlegend\": false, \"type\": \"scatter\", \"x\": [9.675504684448242, 9.580373764038086, 9.268929481506348], \"y\": [-2.1917715072631836, -2.0544631481170654, -2.574361801147461]}, {\"marker\": {\"color\": \"rgb(222.66666666666666, 126.0, 106.0)\", \"line\": {\"color\": \"black\", \"width\": 0.5}, \"size\": 8, \"symbol\": \"circle\"}, \"mode\": \"markers\", \"showlegend\": false, \"type\": \"scatter\", \"x\": [8.844399452209473, 8.474772453308105, 8.898015975952148], \"y\": [-3.127462387084961, -2.3939504623413086, -2.808367967605591]}, {\"marker\": {\"color\": \"rgb(217.0, 72.0, 42.0)\", \"line\": {\"color\": \"black\", \"width\": 0.5}, \"size\": 8, \"symbol\": \"circle\"}, \"mode\": \"markers\", \"showlegend\": false, \"type\": \"scatter\", \"x\": [8.529332160949707, 8.794493675231934, 8.995184898376465], \"y\": [-2.753253936767578, -1.9349641799926758, -2.10007905960083]}, {\"marker\": {\"color\": \"rgb(54, 146, 68)\", \"line\": {\"color\": \"black\", \"width\": 0.5}, \"size\": 12, \"symbol\": \"x\"}, \"mode\": \"markers\", \"name\": \"\\u0394(adh,pta)-D1\", \"type\": \"scatter\", \"x\": [-10.3710355758667], \"y\": [5.399264335632324]}, {\"marker\": {\"color\": \"rgb(33.0, 100.0, 175.0)\", \"line\": {\"color\": \"black\", \"width\": 0.5}, \"size\": 8, \"symbol\": \"x\"}, \"mode\": \"markers\", \"showlegend\": false, \"type\": \"scatter\", \"x\": [1.7699799537658691, 1.8278065919876099, 1.8192120790481567], \"y\": [6.127849102020264, 5.831161975860596, 5.885341167449951]}, {\"marker\": {\"color\": \"rgb(100.0, 144.66666666666666, 194.66666666666666)\", \"line\": {\"color\": \"black\", \"width\": 0.5}, \"size\": 8, \"symbol\": \"x\"}, \"mode\": \"markers\", \"showlegend\": false, \"type\": \"scatter\", \"x\": [0.20741941034793854, 0.11890508234500885, 0.192001074552536], \"y\": [5.031670093536377, 4.959167003631592, 5.066396236419678]}, {\"marker\": {\"color\": \"rgb(167.0, 189.33333333333331, 214.33333333333334)\", \"line\": {\"color\": \"black\", \"width\": 0.5}, \"size\": 8, \"symbol\": \"x\"}, \"mode\": \"markers\", \"showlegend\": false, \"type\": \"scatter\", \"x\": [-4.53257417678833, -4.324536323547363, -4.434983253479004], \"y\": [4.133668899536133, 4.166580677032471, 4.131869792938232]}, {\"marker\": {\"color\": \"rgb(228.33333333333334, 180.0, 170.0)\", \"line\": {\"color\": \"black\", \"width\": 0.5}, \"size\": 8, \"symbol\": \"x\"}, \"mode\": \"markers\", \"showlegend\": false, \"type\": \"scatter\", \"x\": [-7.768320560455322, -8.424054145812988, -8.010464668273926], \"y\": [5.1703782081604, 5.277397155761719, 4.127094268798828]}, {\"marker\": {\"color\": \"rgb(222.66666666666666, 126.0, 106.0)\", \"line\": {\"color\": \"black\", \"width\": 0.5}, \"size\": 8, \"symbol\": \"x\"}, \"mode\": \"markers\", \"showlegend\": false, \"type\": \"scatter\", \"x\": [-7.636258602142334, -8.155803680419922, -6.782793045043945], \"y\": [2.8547980785369873, 3.3607630729675293, 3.0527124404907227]}, {\"marker\": {\"color\": \"rgb(217.0, 72.0, 42.0)\", \"line\": {\"color\": \"black\", \"width\": 0.5}, \"size\": 8, \"symbol\": \"x\"}, \"mode\": \"markers\", \"showlegend\": false, \"type\": \"scatter\", \"x\": [-8.330963134765625, -6.360645294189453, -6.225610256195068], \"y\": [2.5978291034698486, 3.5679540634155273, 3.3545987606048584]}, {\"marker\": {\"color\": \"rgb(54, 146, 68)\", \"line\": {\"color\": \"black\", \"width\": 0.5}, \"size\": 12, \"symbol\": \"diamond\"}, \"mode\": \"markers\", \"name\": \"\\u0394(adh,pta)-D28\", \"type\": \"scatter\", \"x\": [-10.328577041625977], \"y\": [5.365006446838379]}, {\"marker\": {\"color\": \"rgb(33.0, 100.0, 175.0)\", \"line\": {\"color\": \"black\", \"width\": 0.5}, \"size\": 8, \"symbol\": \"diamond\"}, \"mode\": \"markers\", \"showlegend\": false, \"type\": \"scatter\", \"x\": [2.5121710300445557, 2.434448480606079, 2.3640635013580322], \"y\": [5.977750301361084, 5.520664691925049, 5.493119239807129]}, {\"marker\": {\"color\": \"rgb(100.0, 144.66666666666666, 194.66666666666666)\", \"line\": {\"color\": \"black\", \"width\": 0.5}, \"size\": 8, \"symbol\": \"diamond\"}, \"mode\": \"markers\", \"showlegend\": false, \"type\": \"scatter\", \"x\": [0.7564177513122559, 0.7086533308029175, 0.7457736134529114], \"y\": [4.471380233764648, 4.859442234039307, 4.614646911621094]}, {\"marker\": {\"color\": \"rgb(167.0, 189.33333333333331, 214.33333333333334)\", \"line\": {\"color\": \"black\", \"width\": 0.5}, \"size\": 8, \"symbol\": \"diamond\"}, \"mode\": \"markers\", \"showlegend\": false, \"type\": \"scatter\", \"x\": [-3.517911434173584, -3.5070931911468506, -3.572749137878418], \"y\": [3.3797664642333984, 3.3852627277374268, 3.9169464111328125]}, {\"marker\": {\"color\": \"rgb(228.33333333333334, 180.0, 170.0)\", \"line\": {\"color\": \"black\", \"width\": 0.5}, \"size\": 8, \"symbol\": \"diamond\"}, \"mode\": \"markers\", \"showlegend\": false, \"type\": \"scatter\", \"x\": [-9.35295581817627, -8.410951614379883, -8.184345245361328], \"y\": [4.1245222091674805, 4.501652240753174, 4.973473072052002]}, {\"marker\": {\"color\": \"rgb(222.66666666666666, 126.0, 106.0)\", \"line\": {\"color\": \"black\", \"width\": 0.5}, \"size\": 8, \"symbol\": \"diamond\"}, \"mode\": \"markers\", \"showlegend\": false, \"type\": \"scatter\", \"x\": [-6.887624740600586, -6.9096293449401855, -7.716507911682129], \"y\": [5.67697286605835, 4.925470352172852, 4.325018882751465]}, {\"marker\": {\"color\": \"rgb(217.0, 72.0, 42.0)\", \"line\": {\"color\": \"black\", \"width\": 0.5}, \"size\": 8, \"symbol\": \"diamond\"}, \"mode\": \"markers\", \"showlegend\": false, \"type\": \"scatter\", \"x\": [-6.4278788566589355, -7.391412258148193, -6.778248310089111], \"y\": [4.207065105438232, 4.037021636962891, 4.418828964233398]}, {\"marker\": {\"color\": \"rgb(54, 146, 68)\", \"line\": {\"color\": \"black\", \"width\": 0.5}, \"size\": 12, \"symbol\": \"square\"}, \"mode\": \"markers\", \"name\": \"\\u0394(adh,pta)-D59\", \"type\": \"scatter\", \"x\": [-12.486363410949707], \"y\": [-0.5371821522712708]}, {\"marker\": {\"color\": \"rgb(33.0, 100.0, 175.0)\", \"line\": {\"color\": \"black\", \"width\": 0.5}, \"size\": 8, \"symbol\": \"square\"}, \"mode\": \"markers\", \"showlegend\": false, \"type\": \"scatter\", \"x\": [-7.295931339263916, -7.27557897567749, -7.2858381271362305], \"y\": [-1.93685781955719, -1.9247421026229858, -1.9298189878463745]}, {\"marker\": {\"color\": \"rgb(100.0, 144.66666666666666, 194.66666666666666)\", \"line\": {\"color\": \"black\", \"width\": 0.5}, \"size\": 8, \"symbol\": \"square\"}, \"mode\": \"markers\", \"showlegend\": false, \"type\": \"scatter\", \"x\": [-11.03966236114502, -10.997370719909668, -10.932256698608398], \"y\": [-3.4744038581848145, -3.4864346981048584, -3.492290735244751]}, {\"marker\": {\"color\": \"rgb(167.0, 189.33333333333331, 214.33333333333334)\", \"line\": {\"color\": \"black\", \"width\": 0.5}, \"size\": 8, \"symbol\": \"square\"}, \"mode\": \"markers\", \"showlegend\": false, \"type\": \"scatter\", \"x\": [-12.947754859924316, -12.649967193603516, -12.428951263427734], \"y\": [-3.5451457500457764, -3.453301429748535, -3.3077006340026855]}, {\"marker\": {\"color\": \"rgb(228.33333333333334, 180.0, 170.0)\", \"line\": {\"color\": \"black\", \"width\": 0.5}, \"size\": 8, \"symbol\": \"square\"}, \"mode\": \"markers\", \"showlegend\": false, \"type\": \"scatter\", \"x\": [-13.378500938415527, -13.205536842346191, -13.296874046325684], \"y\": [-2.2615582942962646, -1.6894596815109253, -2.5424726009368896]}, {\"marker\": {\"color\": \"rgb(222.66666666666666, 126.0, 106.0)\", \"line\": {\"color\": \"black\", \"width\": 0.5}, \"size\": 8, \"symbol\": \"square\"}, \"mode\": \"markers\", \"showlegend\": false, \"type\": \"scatter\", \"x\": [-13.860641479492188, -14.252030372619629, -13.859477043151855], \"y\": [-2.9889519214630127, -3.251288652420044, -2.409313440322876]}, {\"marker\": {\"color\": \"rgb(217.0, 72.0, 42.0)\", \"line\": {\"color\": \"black\", \"width\": 0.5}, \"size\": 8, \"symbol\": \"square\"}, \"mode\": \"markers\", \"showlegend\": false, \"type\": \"scatter\", \"x\": [-14.134089469909668, -13.220561981201172, -13.11922836303711], \"y\": [-2.6636712551116943, -1.4106967449188232, -1.2152297496795654]}],                        {\"height\": 475, \"legend\": {\"font\": {\"color\": \"black\", \"family\": \"Myriad Pro\", \"size\": 12}, \"orientation\": \"h\", \"x\": 0.1, \"y\": -0.15}, \"template\": {\"data\": {\"scatter\": [{\"type\": \"scatter\"}]}}, \"width\": 430, \"xaxis\": {\"linecolor\": \"black\", \"linewidth\": 1, \"mirror\": true, \"nticks\": 8, \"showgrid\": true, \"showline\": true, \"side\": \"bottom\", \"tickangle\": 0, \"tickcolor\": \"black\", \"tickfont\": {\"color\": \"black\", \"family\": \"Myriad Pro\", \"size\": 16}, \"ticklen\": 4, \"ticks\": \"outside\", \"title\": {\"font\": {\"color\": \"black\", \"family\": \"Myriad Pro\", \"size\": 16}, \"standoff\": 0.5, \"text\": \"Principal Component 1\"}, \"zeroline\": true}, \"yaxis\": {\"anchor\": \"x\", \"linecolor\": \"black\", \"linewidth\": 1, \"mirror\": true, \"showgrid\": true, \"showline\": true, \"side\": \"left\", \"tickangle\": 0, \"tickcolor\": \"black\", \"tickfont\": {\"color\": \"black\", \"family\": \"Myriad Pro\", \"size\": 16}, \"ticklen\": 4, \"ticks\": \"outside\", \"title\": {\"font\": {\"color\": \"black\", \"family\": \"Myriad Pro\", \"size\": 16}, \"text\": \"Principal Component 2\"}, \"zeroline\": true}},                        {\"responsive\": true}                    ).then(function(){\n",
       "                            \n",
       "var gd = document.getElementById('b29b7f6b-4d1b-41b2-b950-feda6174be75');\n",
       "var x = new MutationObserver(function (mutations, observer) {{\n",
       "        var display = window.getComputedStyle(gd).display;\n",
       "        if (!display || display === 'none') {{\n",
       "            console.log([gd, 'removed!']);\n",
       "            Plotly.purge(gd);\n",
       "            observer.disconnect();\n",
       "        }}\n",
       "}});\n",
       "\n",
       "// Listen for the removal of the full notebook cells\n",
       "var notebookContainer = gd.closest('#notebook-container');\n",
       "if (notebookContainer) {{\n",
       "    x.observe(notebookContainer, {childList: true});\n",
       "}}\n",
       "\n",
       "// Listen for the clearing of the current output cell\n",
       "var outputEl = gd.closest('.output');\n",
       "if (outputEl) {{\n",
       "    x.observe(outputEl, {childList: true});\n",
       "}}\n",
       "\n",
       "                        })                };                });            </script>        </div>"
      ]
     },
     "metadata": {},
     "output_type": "display_data"
    }
   ],
   "source": [
    "features = [ 'acetate_yield',\n",
    "             'formate_yield',\n",
    "             'lactate_yield', 'biomass_yield',\n",
    "             'growth_rate', 'pyruvate_yield', 'succinate_yield']\n",
    "tsne_plot(features,15,10)"
   ]
  },
  {
   "cell_type": "code",
   "execution_count": 911,
   "id": "pursuant-forestry",
   "metadata": {},
   "outputs": [
    {
     "name": "stdout",
     "output_type": "stream",
     "text": [
      "TSNE\n",
      "Learning Rate:  10\n",
      "Perplexity:  15\n"
     ]
    },
    {
     "data": {
      "application/vnd.plotly.v1+json": {
       "config": {
        "linkText": "Export to plot.ly",
        "plotlyServerURL": "https://plot.ly",
        "showLink": false
       },
       "data": [
        {
         "marker": {
          "color": "rgb(54, 146, 68)",
          "line": {
           "color": "black",
           "width": 0.5
          },
          "size": 12,
          "symbol": "circle"
         },
         "mode": "markers",
         "name": "WT",
         "type": "scatter",
         "x": [
          17.25150489807129
         ],
         "y": [
          -4.611040115356445
         ]
        },
        {
         "marker": {
          "color": "rgb(33.0, 100.0, 175.0)",
          "line": {
           "color": "black",
           "width": 0.5
          },
          "size": 8,
          "symbol": "circle"
         },
         "mode": "markers",
         "showlegend": false,
         "type": "scatter",
         "x": [
          14.684187889099121,
          14.702812194824219,
          14.687934875488281
         ],
         "y": [
          -6.3328752517700195,
          -6.321497440338135,
          -6.327064037322998
         ]
        },
        {
         "marker": {
          "color": "rgb(100.0, 144.66666666666666, 194.66666666666666)",
          "line": {
           "color": "black",
           "width": 0.5
          },
          "size": 8,
          "symbol": "circle"
         },
         "mode": "markers",
         "showlegend": false,
         "type": "scatter",
         "x": [
          15.752840042114258,
          15.767735481262207,
          15.785489082336426
         ],
         "y": [
          -6.115673065185547,
          -6.139545917510986,
          -6.144027233123779
         ]
        },
        {
         "marker": {
          "color": "rgb(167.0, 189.33333333333331, 214.33333333333334)",
          "line": {
           "color": "black",
           "width": 0.5
          },
          "size": 8,
          "symbol": "circle"
         },
         "mode": "markers",
         "showlegend": false,
         "type": "scatter",
         "x": [
          17.617334365844727,
          17.660064697265625,
          17.787431716918945
         ],
         "y": [
          -6.540315628051758,
          -6.083067417144775,
          -5.844215393066406
         ]
        },
        {
         "marker": {
          "color": "rgb(228.33333333333334, 180.0, 170.0)",
          "line": {
           "color": "black",
           "width": 0.5
          },
          "size": 8,
          "symbol": "circle"
         },
         "mode": "markers",
         "showlegend": false,
         "type": "scatter",
         "x": [
          18.5986385345459,
          18.72503089904785,
          18.594751358032227
         ],
         "y": [
          -5.796873569488525,
          -5.703632354736328,
          -6.270810127258301
         ]
        },
        {
         "marker": {
          "color": "rgb(222.66666666666666, 126.0, 106.0)",
          "line": {
           "color": "black",
           "width": 0.5
          },
          "size": 8,
          "symbol": "circle"
         },
         "mode": "markers",
         "showlegend": false,
         "type": "scatter",
         "x": [
          18.438678741455078,
          19.305044174194336,
          18.485126495361328
         ],
         "y": [
          -6.671746730804443,
          -6.217507839202881,
          -7.0516438484191895
         ]
        },
        {
         "marker": {
          "color": "rgb(217.0, 72.0, 42.0)",
          "line": {
           "color": "black",
           "width": 0.5
          },
          "size": 8,
          "symbol": "circle"
         },
         "mode": "markers",
         "showlegend": false,
         "type": "scatter",
         "x": [
          19.241796493530273,
          19.251893997192383,
          18.79729652404785
         ],
         "y": [
          -6.5197319984436035,
          -6.903215408325195,
          -7.056650161743164
         ]
        },
        {
         "marker": {
          "color": "rgb(54, 146, 68)",
          "line": {
           "color": "black",
           "width": 0.5
          },
          "size": 12,
          "symbol": "x"
         },
         "mode": "markers",
         "name": "Δ(adh,pta)-D1",
         "type": "scatter",
         "x": [
          -12.313776969909668
         ],
         "y": [
          -7.915165901184082
         ]
        },
        {
         "marker": {
          "color": "rgb(33.0, 100.0, 175.0)",
          "line": {
           "color": "black",
           "width": 0.5
          },
          "size": 8,
          "symbol": "x"
         },
         "mode": "markers",
         "showlegend": false,
         "type": "scatter",
         "x": [
          -0.2828975319862366,
          0.19833524525165558,
          -0.19809219241142273
         ],
         "y": [
          -4.083678245544434,
          -4.3497161865234375,
          -4.1851983070373535
         ]
        },
        {
         "marker": {
          "color": "rgb(100.0, 144.66666666666666, 194.66666666666666)",
          "line": {
           "color": "black",
           "width": 0.5
          },
          "size": 8,
          "symbol": "x"
         },
         "mode": "markers",
         "showlegend": false,
         "type": "scatter",
         "x": [
          0.028635550290346146,
          0.23833489418029785,
          0.27794694900512695
         ],
         "y": [
          -5.7767791748046875,
          -5.79542875289917,
          -5.896812438964844
         ]
        },
        {
         "marker": {
          "color": "rgb(167.0, 189.33333333333331, 214.33333333333334)",
          "line": {
           "color": "black",
           "width": 0.5
          },
          "size": 8,
          "symbol": "x"
         },
         "mode": "markers",
         "showlegend": false,
         "type": "scatter",
         "x": [
          -4.361083507537842,
          -4.372832775115967,
          -4.354822158813477
         ],
         "y": [
          -10.660897254943848,
          -10.624500274658203,
          -10.651005744934082
         ]
        },
        {
         "marker": {
          "color": "rgb(228.33333333333334, 180.0, 170.0)",
          "line": {
           "color": "black",
           "width": 0.5
          },
          "size": 8,
          "symbol": "x"
         },
         "mode": "markers",
         "showlegend": false,
         "type": "scatter",
         "x": [
          -8.402100563049316,
          -8.305376052856445,
          -8.013043403625488
         ],
         "y": [
          -11.03916072845459,
          -11.69117259979248,
          -11.5360746383667
         ]
        },
        {
         "marker": {
          "color": "rgb(222.66666666666666, 126.0, 106.0)",
          "line": {
           "color": "black",
           "width": 0.5
          },
          "size": 8,
          "symbol": "x"
         },
         "mode": "markers",
         "showlegend": false,
         "type": "scatter",
         "x": [
          -7.52932596206665,
          -7.410226345062256,
          -6.857473373413086
         ],
         "y": [
          -11.447552680969238,
          -11.908355712890625,
          -11.766871452331543
         ]
        },
        {
         "marker": {
          "color": "rgb(217.0, 72.0, 42.0)",
          "line": {
           "color": "black",
           "width": 0.5
          },
          "size": 8,
          "symbol": "x"
         },
         "mode": "markers",
         "showlegend": false,
         "type": "scatter",
         "x": [
          -7.044348239898682,
          -6.325243949890137,
          -6.384054660797119
         ],
         "y": [
          -12.536177635192871,
          -11.92322826385498,
          -11.515958786010742
         ]
        },
        {
         "marker": {
          "color": "rgb(54, 146, 68)",
          "line": {
           "color": "black",
           "width": 0.5
          },
          "size": 12,
          "symbol": "diamond"
         },
         "mode": "markers",
         "name": "Δ(adh,pta)-D28",
         "type": "scatter",
         "x": [
          -12.29350471496582
         ],
         "y": [
          -7.848208427429199
         ]
        },
        {
         "marker": {
          "color": "rgb(33.0, 100.0, 175.0)",
          "line": {
           "color": "black",
           "width": 0.5
          },
          "size": 8,
          "symbol": "diamond"
         },
         "mode": "markers",
         "showlegend": false,
         "type": "scatter",
         "x": [
          0.6656165719032288,
          0.18496710062026978,
          0.42830461263656616
         ],
         "y": [
          -4.1801276206970215,
          -3.6886184215545654,
          -3.855163812637329
         ]
        },
        {
         "marker": {
          "color": "rgb(100.0, 144.66666666666666, 194.66666666666666)",
          "line": {
           "color": "black",
           "width": 0.5
          },
          "size": 8,
          "symbol": "diamond"
         },
         "mode": "markers",
         "showlegend": false,
         "type": "scatter",
         "x": [
          -0.8216071128845215,
          -0.6122689247131348,
          -0.6654457449913025
         ],
         "y": [
          -5.827281951904297,
          -5.910435676574707,
          -5.797776222229004
         ]
        },
        {
         "marker": {
          "color": "rgb(167.0, 189.33333333333331, 214.33333333333334)",
          "line": {
           "color": "black",
           "width": 0.5
          },
          "size": 8,
          "symbol": "diamond"
         },
         "mode": "markers",
         "showlegend": false,
         "type": "scatter",
         "x": [
          -4.464031219482422,
          -4.454171657562256,
          -4.509003162384033
         ],
         "y": [
          -8.997278213500977,
          -8.993324279785156,
          -9.087821960449219
         ]
        },
        {
         "marker": {
          "color": "rgb(228.33333333333334, 180.0, 170.0)",
          "line": {
           "color": "black",
           "width": 0.5
          },
          "size": 8,
          "symbol": "diamond"
         },
         "mode": "markers",
         "showlegend": false,
         "type": "scatter",
         "x": [
          -9.673975944519043,
          -9.147582054138184,
          -9.102980613708496
         ],
         "y": [
          -9.645627975463867,
          -9.767767906188965,
          -9.52039909362793
         ]
        },
        {
         "marker": {
          "color": "rgb(222.66666666666666, 126.0, 106.0)",
          "line": {
           "color": "black",
           "width": 0.5
          },
          "size": 8,
          "symbol": "diamond"
         },
         "mode": "markers",
         "showlegend": false,
         "type": "scatter",
         "x": [
          -8.276204109191895,
          -8.010868072509766,
          -8.239359855651855
         ],
         "y": [
          -9.284178733825684,
          -9.897940635681152,
          -10.064435958862305
         ]
        },
        {
         "marker": {
          "color": "rgb(217.0, 72.0, 42.0)",
          "line": {
           "color": "black",
           "width": 0.5
          },
          "size": 8,
          "symbol": "diamond"
         },
         "mode": "markers",
         "showlegend": false,
         "type": "scatter",
         "x": [
          -7.240413665771484,
          -7.655340194702148,
          -7.429956436157227
         ],
         "y": [
          -10.160249710083008,
          -10.1353120803833,
          -9.792738914489746
         ]
        },
        {
         "marker": {
          "color": "rgb(54, 146, 68)",
          "line": {
           "color": "black",
           "width": 0.5
          },
          "size": 12,
          "symbol": "square"
         },
         "mode": "markers",
         "name": "Δ(adh,pta)-D59",
         "type": "scatter",
         "x": [
          -11.875738143920898
         ],
         "y": [
          -6.103729248046875
         ]
        },
        {
         "marker": {
          "color": "rgb(33.0, 100.0, 175.0)",
          "line": {
           "color": "black",
           "width": 0.5
          },
          "size": 8,
          "symbol": "square"
         },
         "mode": "markers",
         "showlegend": false,
         "type": "scatter",
         "x": [
          -3.174847364425659,
          -3.066660165786743,
          -3.1036629676818848
         ],
         "y": [
          -3.1777212619781494,
          -3.1854915618896484,
          -3.1823720932006836
         ]
        },
        {
         "marker": {
          "color": "rgb(100.0, 144.66666666666666, 194.66666666666666)",
          "line": {
           "color": "black",
           "width": 0.5
          },
          "size": 8,
          "symbol": "square"
         },
         "mode": "markers",
         "showlegend": false,
         "type": "scatter",
         "x": [
          -4.927231311798096,
          -4.934248924255371,
          -4.9292731285095215
         ],
         "y": [
          -3.2364423274993896,
          -3.2314066886901855,
          -3.2291104793548584
         ]
        },
        {
         "marker": {
          "color": "rgb(167.0, 189.33333333333331, 214.33333333333334)",
          "line": {
           "color": "black",
           "width": 0.5
          },
          "size": 8,
          "symbol": "square"
         },
         "mode": "markers",
         "showlegend": false,
         "type": "scatter",
         "x": [
          -8.98461627960205,
          -8.883733749389648,
          -8.77612018585205
         ],
         "y": [
          -3.5795724391937256,
          -3.5820939540863037,
          -3.5778379440307617
         ]
        },
        {
         "marker": {
          "color": "rgb(228.33333333333334, 180.0, 170.0)",
          "line": {
           "color": "black",
           "width": 0.5
          },
          "size": 8,
          "symbol": "square"
         },
         "mode": "markers",
         "showlegend": false,
         "type": "scatter",
         "x": [
          -10.49025821685791,
          -10.45705795288086,
          -10.392318725585938
         ],
         "y": [
          -4.4171061515808105,
          -4.775935649871826,
          -4.146842956542969
         ]
        },
        {
         "marker": {
          "color": "rgb(222.66666666666666, 126.0, 106.0)",
          "line": {
           "color": "black",
           "width": 0.5
          },
          "size": 8,
          "symbol": "square"
         },
         "mode": "markers",
         "showlegend": false,
         "type": "scatter",
         "x": [
          -10.672150611877441,
          -11.051535606384277,
          -11.065815925598145
         ],
         "y": [
          -3.766570806503296,
          -3.4553675651550293,
          -4.144237995147705
         ]
        },
        {
         "marker": {
          "color": "rgb(217.0, 72.0, 42.0)",
          "line": {
           "color": "black",
           "width": 0.5
          },
          "size": 8,
          "symbol": "square"
         },
         "mode": "markers",
         "showlegend": false,
         "type": "scatter",
         "x": [
          -11.36893367767334,
          -11.322765350341797,
          -11.515745162963867
         ],
         "y": [
          -3.916804790496826,
          -4.789794445037842,
          -4.925323486328125
         ]
        }
       ],
       "layout": {
        "height": 475,
        "legend": {
         "font": {
          "color": "black",
          "family": "Myriad Pro",
          "size": 12
         },
         "orientation": "h",
         "x": 0.1,
         "y": -0.15
        },
        "template": {
         "data": {
          "scatter": [
           {
            "type": "scatter"
           }
          ]
         }
        },
        "width": 430,
        "xaxis": {
         "linecolor": "black",
         "linewidth": 1,
         "mirror": true,
         "nticks": 8,
         "showgrid": true,
         "showline": true,
         "side": "bottom",
         "tickangle": 0,
         "tickcolor": "black",
         "tickfont": {
          "color": "black",
          "family": "Myriad Pro",
          "size": 16
         },
         "ticklen": 4,
         "ticks": "outside",
         "title": {
          "font": {
           "color": "black",
           "family": "Myriad Pro",
           "size": 16
          },
          "standoff": 0.5,
          "text": "Principal Component 1"
         },
         "zeroline": true
        },
        "yaxis": {
         "anchor": "x",
         "linecolor": "black",
         "linewidth": 1,
         "mirror": true,
         "showgrid": true,
         "showline": true,
         "side": "left",
         "tickangle": 0,
         "tickcolor": "black",
         "tickfont": {
          "color": "black",
          "family": "Myriad Pro",
          "size": 16
         },
         "ticklen": 4,
         "ticks": "outside",
         "title": {
          "font": {
           "color": "black",
           "family": "Myriad Pro",
           "size": 16
          },
          "text": "Principal Component 2"
         },
         "zeroline": true
        }
       }
      },
      "text/html": [
       "<div>                            <div id=\"8c90cbce-9745-4d76-80f0-a58983b86f17\" class=\"plotly-graph-div\" style=\"height:475px; width:430px;\"></div>            <script type=\"text/javascript\">                require([\"plotly\"], function(Plotly) {                    window.PLOTLYENV=window.PLOTLYENV || {};                                    if (document.getElementById(\"8c90cbce-9745-4d76-80f0-a58983b86f17\")) {                    Plotly.newPlot(                        \"8c90cbce-9745-4d76-80f0-a58983b86f17\",                        [{\"marker\": {\"color\": \"rgb(54, 146, 68)\", \"line\": {\"color\": \"black\", \"width\": 0.5}, \"size\": 12, \"symbol\": \"circle\"}, \"mode\": \"markers\", \"name\": \"WT\", \"type\": \"scatter\", \"x\": [17.25150489807129], \"y\": [-4.611040115356445]}, {\"marker\": {\"color\": \"rgb(33.0, 100.0, 175.0)\", \"line\": {\"color\": \"black\", \"width\": 0.5}, \"size\": 8, \"symbol\": \"circle\"}, \"mode\": \"markers\", \"showlegend\": false, \"type\": \"scatter\", \"x\": [14.684187889099121, 14.702812194824219, 14.687934875488281], \"y\": [-6.3328752517700195, -6.321497440338135, -6.327064037322998]}, {\"marker\": {\"color\": \"rgb(100.0, 144.66666666666666, 194.66666666666666)\", \"line\": {\"color\": \"black\", \"width\": 0.5}, \"size\": 8, \"symbol\": \"circle\"}, \"mode\": \"markers\", \"showlegend\": false, \"type\": \"scatter\", \"x\": [15.752840042114258, 15.767735481262207, 15.785489082336426], \"y\": [-6.115673065185547, -6.139545917510986, -6.144027233123779]}, {\"marker\": {\"color\": \"rgb(167.0, 189.33333333333331, 214.33333333333334)\", \"line\": {\"color\": \"black\", \"width\": 0.5}, \"size\": 8, \"symbol\": \"circle\"}, \"mode\": \"markers\", \"showlegend\": false, \"type\": \"scatter\", \"x\": [17.617334365844727, 17.660064697265625, 17.787431716918945], \"y\": [-6.540315628051758, -6.083067417144775, -5.844215393066406]}, {\"marker\": {\"color\": \"rgb(228.33333333333334, 180.0, 170.0)\", \"line\": {\"color\": \"black\", \"width\": 0.5}, \"size\": 8, \"symbol\": \"circle\"}, \"mode\": \"markers\", \"showlegend\": false, \"type\": \"scatter\", \"x\": [18.5986385345459, 18.72503089904785, 18.594751358032227], \"y\": [-5.796873569488525, -5.703632354736328, -6.270810127258301]}, {\"marker\": {\"color\": \"rgb(222.66666666666666, 126.0, 106.0)\", \"line\": {\"color\": \"black\", \"width\": 0.5}, \"size\": 8, \"symbol\": \"circle\"}, \"mode\": \"markers\", \"showlegend\": false, \"type\": \"scatter\", \"x\": [18.438678741455078, 19.305044174194336, 18.485126495361328], \"y\": [-6.671746730804443, -6.217507839202881, -7.0516438484191895]}, {\"marker\": {\"color\": \"rgb(217.0, 72.0, 42.0)\", \"line\": {\"color\": \"black\", \"width\": 0.5}, \"size\": 8, \"symbol\": \"circle\"}, \"mode\": \"markers\", \"showlegend\": false, \"type\": \"scatter\", \"x\": [19.241796493530273, 19.251893997192383, 18.79729652404785], \"y\": [-6.5197319984436035, -6.903215408325195, -7.056650161743164]}, {\"marker\": {\"color\": \"rgb(54, 146, 68)\", \"line\": {\"color\": \"black\", \"width\": 0.5}, \"size\": 12, \"symbol\": \"x\"}, \"mode\": \"markers\", \"name\": \"\\u0394(adh,pta)-D1\", \"type\": \"scatter\", \"x\": [-12.313776969909668], \"y\": [-7.915165901184082]}, {\"marker\": {\"color\": \"rgb(33.0, 100.0, 175.0)\", \"line\": {\"color\": \"black\", \"width\": 0.5}, \"size\": 8, \"symbol\": \"x\"}, \"mode\": \"markers\", \"showlegend\": false, \"type\": \"scatter\", \"x\": [-0.2828975319862366, 0.19833524525165558, -0.19809219241142273], \"y\": [-4.083678245544434, -4.3497161865234375, -4.1851983070373535]}, {\"marker\": {\"color\": \"rgb(100.0, 144.66666666666666, 194.66666666666666)\", \"line\": {\"color\": \"black\", \"width\": 0.5}, \"size\": 8, \"symbol\": \"x\"}, \"mode\": \"markers\", \"showlegend\": false, \"type\": \"scatter\", \"x\": [0.028635550290346146, 0.23833489418029785, 0.27794694900512695], \"y\": [-5.7767791748046875, -5.79542875289917, -5.896812438964844]}, {\"marker\": {\"color\": \"rgb(167.0, 189.33333333333331, 214.33333333333334)\", \"line\": {\"color\": \"black\", \"width\": 0.5}, \"size\": 8, \"symbol\": \"x\"}, \"mode\": \"markers\", \"showlegend\": false, \"type\": \"scatter\", \"x\": [-4.361083507537842, -4.372832775115967, -4.354822158813477], \"y\": [-10.660897254943848, -10.624500274658203, -10.651005744934082]}, {\"marker\": {\"color\": \"rgb(228.33333333333334, 180.0, 170.0)\", \"line\": {\"color\": \"black\", \"width\": 0.5}, \"size\": 8, \"symbol\": \"x\"}, \"mode\": \"markers\", \"showlegend\": false, \"type\": \"scatter\", \"x\": [-8.402100563049316, -8.305376052856445, -8.013043403625488], \"y\": [-11.03916072845459, -11.69117259979248, -11.5360746383667]}, {\"marker\": {\"color\": \"rgb(222.66666666666666, 126.0, 106.0)\", \"line\": {\"color\": \"black\", \"width\": 0.5}, \"size\": 8, \"symbol\": \"x\"}, \"mode\": \"markers\", \"showlegend\": false, \"type\": \"scatter\", \"x\": [-7.52932596206665, -7.410226345062256, -6.857473373413086], \"y\": [-11.447552680969238, -11.908355712890625, -11.766871452331543]}, {\"marker\": {\"color\": \"rgb(217.0, 72.0, 42.0)\", \"line\": {\"color\": \"black\", \"width\": 0.5}, \"size\": 8, \"symbol\": \"x\"}, \"mode\": \"markers\", \"showlegend\": false, \"type\": \"scatter\", \"x\": [-7.044348239898682, -6.325243949890137, -6.384054660797119], \"y\": [-12.536177635192871, -11.92322826385498, -11.515958786010742]}, {\"marker\": {\"color\": \"rgb(54, 146, 68)\", \"line\": {\"color\": \"black\", \"width\": 0.5}, \"size\": 12, \"symbol\": \"diamond\"}, \"mode\": \"markers\", \"name\": \"\\u0394(adh,pta)-D28\", \"type\": \"scatter\", \"x\": [-12.29350471496582], \"y\": [-7.848208427429199]}, {\"marker\": {\"color\": \"rgb(33.0, 100.0, 175.0)\", \"line\": {\"color\": \"black\", \"width\": 0.5}, \"size\": 8, \"symbol\": \"diamond\"}, \"mode\": \"markers\", \"showlegend\": false, \"type\": \"scatter\", \"x\": [0.6656165719032288, 0.18496710062026978, 0.42830461263656616], \"y\": [-4.1801276206970215, -3.6886184215545654, -3.855163812637329]}, {\"marker\": {\"color\": \"rgb(100.0, 144.66666666666666, 194.66666666666666)\", \"line\": {\"color\": \"black\", \"width\": 0.5}, \"size\": 8, \"symbol\": \"diamond\"}, \"mode\": \"markers\", \"showlegend\": false, \"type\": \"scatter\", \"x\": [-0.8216071128845215, -0.6122689247131348, -0.6654457449913025], \"y\": [-5.827281951904297, -5.910435676574707, -5.797776222229004]}, {\"marker\": {\"color\": \"rgb(167.0, 189.33333333333331, 214.33333333333334)\", \"line\": {\"color\": \"black\", \"width\": 0.5}, \"size\": 8, \"symbol\": \"diamond\"}, \"mode\": \"markers\", \"showlegend\": false, \"type\": \"scatter\", \"x\": [-4.464031219482422, -4.454171657562256, -4.509003162384033], \"y\": [-8.997278213500977, -8.993324279785156, -9.087821960449219]}, {\"marker\": {\"color\": \"rgb(228.33333333333334, 180.0, 170.0)\", \"line\": {\"color\": \"black\", \"width\": 0.5}, \"size\": 8, \"symbol\": \"diamond\"}, \"mode\": \"markers\", \"showlegend\": false, \"type\": \"scatter\", \"x\": [-9.673975944519043, -9.147582054138184, -9.102980613708496], \"y\": [-9.645627975463867, -9.767767906188965, -9.52039909362793]}, {\"marker\": {\"color\": \"rgb(222.66666666666666, 126.0, 106.0)\", \"line\": {\"color\": \"black\", \"width\": 0.5}, \"size\": 8, \"symbol\": \"diamond\"}, \"mode\": \"markers\", \"showlegend\": false, \"type\": \"scatter\", \"x\": [-8.276204109191895, -8.010868072509766, -8.239359855651855], \"y\": [-9.284178733825684, -9.897940635681152, -10.064435958862305]}, {\"marker\": {\"color\": \"rgb(217.0, 72.0, 42.0)\", \"line\": {\"color\": \"black\", \"width\": 0.5}, \"size\": 8, \"symbol\": \"diamond\"}, \"mode\": \"markers\", \"showlegend\": false, \"type\": \"scatter\", \"x\": [-7.240413665771484, -7.655340194702148, -7.429956436157227], \"y\": [-10.160249710083008, -10.1353120803833, -9.792738914489746]}, {\"marker\": {\"color\": \"rgb(54, 146, 68)\", \"line\": {\"color\": \"black\", \"width\": 0.5}, \"size\": 12, \"symbol\": \"square\"}, \"mode\": \"markers\", \"name\": \"\\u0394(adh,pta)-D59\", \"type\": \"scatter\", \"x\": [-11.875738143920898], \"y\": [-6.103729248046875]}, {\"marker\": {\"color\": \"rgb(33.0, 100.0, 175.0)\", \"line\": {\"color\": \"black\", \"width\": 0.5}, \"size\": 8, \"symbol\": \"square\"}, \"mode\": \"markers\", \"showlegend\": false, \"type\": \"scatter\", \"x\": [-3.174847364425659, -3.066660165786743, -3.1036629676818848], \"y\": [-3.1777212619781494, -3.1854915618896484, -3.1823720932006836]}, {\"marker\": {\"color\": \"rgb(100.0, 144.66666666666666, 194.66666666666666)\", \"line\": {\"color\": \"black\", \"width\": 0.5}, \"size\": 8, \"symbol\": \"square\"}, \"mode\": \"markers\", \"showlegend\": false, \"type\": \"scatter\", \"x\": [-4.927231311798096, -4.934248924255371, -4.9292731285095215], \"y\": [-3.2364423274993896, -3.2314066886901855, -3.2291104793548584]}, {\"marker\": {\"color\": \"rgb(167.0, 189.33333333333331, 214.33333333333334)\", \"line\": {\"color\": \"black\", \"width\": 0.5}, \"size\": 8, \"symbol\": \"square\"}, \"mode\": \"markers\", \"showlegend\": false, \"type\": \"scatter\", \"x\": [-8.98461627960205, -8.883733749389648, -8.77612018585205], \"y\": [-3.5795724391937256, -3.5820939540863037, -3.5778379440307617]}, {\"marker\": {\"color\": \"rgb(228.33333333333334, 180.0, 170.0)\", \"line\": {\"color\": \"black\", \"width\": 0.5}, \"size\": 8, \"symbol\": \"square\"}, \"mode\": \"markers\", \"showlegend\": false, \"type\": \"scatter\", \"x\": [-10.49025821685791, -10.45705795288086, -10.392318725585938], \"y\": [-4.4171061515808105, -4.775935649871826, -4.146842956542969]}, {\"marker\": {\"color\": \"rgb(222.66666666666666, 126.0, 106.0)\", \"line\": {\"color\": \"black\", \"width\": 0.5}, \"size\": 8, \"symbol\": \"square\"}, \"mode\": \"markers\", \"showlegend\": false, \"type\": \"scatter\", \"x\": [-10.672150611877441, -11.051535606384277, -11.065815925598145], \"y\": [-3.766570806503296, -3.4553675651550293, -4.144237995147705]}, {\"marker\": {\"color\": \"rgb(217.0, 72.0, 42.0)\", \"line\": {\"color\": \"black\", \"width\": 0.5}, \"size\": 8, \"symbol\": \"square\"}, \"mode\": \"markers\", \"showlegend\": false, \"type\": \"scatter\", \"x\": [-11.36893367767334, -11.322765350341797, -11.515745162963867], \"y\": [-3.916804790496826, -4.789794445037842, -4.925323486328125]}],                        {\"height\": 475, \"legend\": {\"font\": {\"color\": \"black\", \"family\": \"Myriad Pro\", \"size\": 12}, \"orientation\": \"h\", \"x\": 0.1, \"y\": -0.15}, \"template\": {\"data\": {\"scatter\": [{\"type\": \"scatter\"}]}}, \"width\": 430, \"xaxis\": {\"linecolor\": \"black\", \"linewidth\": 1, \"mirror\": true, \"nticks\": 8, \"showgrid\": true, \"showline\": true, \"side\": \"bottom\", \"tickangle\": 0, \"tickcolor\": \"black\", \"tickfont\": {\"color\": \"black\", \"family\": \"Myriad Pro\", \"size\": 16}, \"ticklen\": 4, \"ticks\": \"outside\", \"title\": {\"font\": {\"color\": \"black\", \"family\": \"Myriad Pro\", \"size\": 16}, \"standoff\": 0.5, \"text\": \"Principal Component 1\"}, \"zeroline\": true}, \"yaxis\": {\"anchor\": \"x\", \"linecolor\": \"black\", \"linewidth\": 1, \"mirror\": true, \"showgrid\": true, \"showline\": true, \"side\": \"left\", \"tickangle\": 0, \"tickcolor\": \"black\", \"tickfont\": {\"color\": \"black\", \"family\": \"Myriad Pro\", \"size\": 16}, \"ticklen\": 4, \"ticks\": \"outside\", \"title\": {\"font\": {\"color\": \"black\", \"family\": \"Myriad Pro\", \"size\": 16}, \"text\": \"Principal Component 2\"}, \"zeroline\": true}},                        {\"responsive\": true}                    ).then(function(){\n",
       "                            \n",
       "var gd = document.getElementById('8c90cbce-9745-4d76-80f0-a58983b86f17');\n",
       "var x = new MutationObserver(function (mutations, observer) {{\n",
       "        var display = window.getComputedStyle(gd).display;\n",
       "        if (!display || display === 'none') {{\n",
       "            console.log([gd, 'removed!']);\n",
       "            Plotly.purge(gd);\n",
       "            observer.disconnect();\n",
       "        }}\n",
       "}});\n",
       "\n",
       "// Listen for the removal of the full notebook cells\n",
       "var notebookContainer = gd.closest('#notebook-container');\n",
       "if (notebookContainer) {{\n",
       "    x.observe(notebookContainer, {childList: true});\n",
       "}}\n",
       "\n",
       "// Listen for the clearing of the current output cell\n",
       "var outputEl = gd.closest('.output');\n",
       "if (outputEl) {{\n",
       "    x.observe(outputEl, {childList: true});\n",
       "}}\n",
       "\n",
       "                        })                };                });            </script>        </div>"
      ]
     },
     "metadata": {},
     "output_type": "display_data"
    }
   ],
   "source": [
    "features = ['acetate', 'acetate_yield',\n",
    "            'formate', 'formate_yield',\n",
    "            'lactate', 'lactate_yield', 'biomass_yield', 'od0', 'od2','od4','od6','od8',\n",
    "            'pyruvate', 'growth_rate', 'pyruvate_yield', 'succinate_yield',\n",
    "            'succinate', 'glucose']\n",
    "tsne_plot(features,15,10)"
   ]
  },
  {
   "cell_type": "markdown",
   "id": "atomic-purchase",
   "metadata": {},
   "source": [
    "### PCA Scores for first two PCs ###"
   ]
  },
  {
   "cell_type": "code",
   "execution_count": 934,
   "id": "italian-dispatch",
   "metadata": {},
   "outputs": [
    {
     "name": "stdout",
     "output_type": "stream",
     "text": [
      "PCA\n"
     ]
    },
    {
     "data": {
      "application/vnd.plotly.v1+json": {
       "config": {
        "linkText": "Export to plot.ly",
        "plotlyServerURL": "https://plot.ly",
        "showLink": false
       },
       "data": [
        {
         "marker": {
          "color": "rgb(54, 146, 68)",
          "line": {
           "color": "black",
           "width": 0.5
          },
          "size": 12,
          "symbol": "circle"
         },
         "mode": "markers",
         "name": "WT",
         "type": "scatter",
         "x": [
          2.9134776128328066
         ],
         "y": [
          -0.5316394072426558
         ]
        },
        {
         "marker": {
          "color": "rgb(33.0, 100.0, 175.0)",
          "line": {
           "color": "black",
           "width": 0.5
          },
          "size": 8,
          "symbol": "circle"
         },
         "mode": "markers",
         "showlegend": false,
         "type": "scatter",
         "x": [
          6.253008657145456,
          6.110582715854615,
          6.170139879266255
         ],
         "y": [
          -0.6418526396154126,
          -0.6210480782860426,
          -0.6334229252553609
         ]
        },
        {
         "marker": {
          "color": "rgb(100.0, 144.66666666666666, 194.66666666666666)",
          "line": {
           "color": "black",
           "width": 0.5
          },
          "size": 8,
          "symbol": "circle"
         },
         "mode": "markers",
         "showlegend": false,
         "type": "scatter",
         "x": [
          4.549868710697575,
          4.628807356634659,
          4.595645335841579
         ],
         "y": [
          -0.9426830547722009,
          -1.0177794283141819,
          -1.0981454523058438
         ]
        },
        {
         "marker": {
          "color": "rgb(167.0, 189.33333333333331, 214.33333333333334)",
          "line": {
           "color": "black",
           "width": 0.5
          },
          "size": 8,
          "symbol": "circle"
         },
         "mode": "markers",
         "showlegend": false,
         "type": "scatter",
         "x": [
          2.650258431687995,
          2.590263209878955,
          2.454838214612729
         ],
         "y": [
          -0.15199380401135706,
          -0.1760239086475317,
          -0.13431756255097022
         ]
        },
        {
         "marker": {
          "color": "rgb(228.33333333333334, 180.0, 170.0)",
          "line": {
           "color": "black",
           "width": 0.5
          },
          "size": 8,
          "symbol": "circle"
         },
         "mode": "markers",
         "showlegend": false,
         "type": "scatter",
         "x": [
          1.8900838864650986,
          1.8890520009689735,
          2.018024352942822
         ],
         "y": [
          0.2821289007179605,
          0.32868665362984045,
          0.39098544927334417
         ]
        },
        {
         "marker": {
          "color": "rgb(222.66666666666666, 126.0, 106.0)",
          "line": {
           "color": "black",
           "width": 0.5
          },
          "size": 8,
          "symbol": "circle"
         },
         "mode": "markers",
         "showlegend": false,
         "type": "scatter",
         "x": [
          2.118793625636262,
          2.085993033490152,
          1.97617560649889
         ],
         "y": [
          0.37897574042576254,
          0.5027905860356551,
          0.42834537873060907
         ]
        },
        {
         "marker": {
          "color": "rgb(217.0, 72.0, 42.0)",
          "line": {
           "color": "black",
           "width": 0.5
          },
          "size": 8,
          "symbol": "circle"
         },
         "mode": "markers",
         "showlegend": false,
         "type": "scatter",
         "x": [
          2.0260341400845268,
          1.904053380479722,
          1.9720815729304408
         ],
         "y": [
          0.49807799143918075,
          0.6410918356506197,
          0.5105953953861276
         ]
        },
        {
         "marker": {
          "color": "rgb(54, 146, 68)",
          "line": {
           "color": "black",
           "width": 0.5
          },
          "size": 12,
          "symbol": "x"
         },
         "mode": "markers",
         "name": "Δ(adh,pta)-D1",
         "type": "scatter",
         "x": [
          -1.5650189015231446
         ],
         "y": [
          -0.42839961052172815
         ]
        },
        {
         "marker": {
          "color": "rgb(33.0, 100.0, 175.0)",
          "line": {
           "color": "black",
           "width": 0.5
          },
          "size": 8,
          "symbol": "x"
         },
         "mode": "markers",
         "showlegend": false,
         "type": "scatter",
         "x": [
          -0.4437269823005934,
          -0.3843112343980978,
          -0.3286596883926072
         ],
         "y": [
          2.5185893353975404,
          2.612682956278539,
          2.5207553430612375
         ]
        },
        {
         "marker": {
          "color": "rgb(100.0, 144.66666666666666, 194.66666666666666)",
          "line": {
           "color": "black",
           "width": 0.5
          },
          "size": 8,
          "symbol": "x"
         },
         "mode": "markers",
         "showlegend": false,
         "type": "scatter",
         "x": [
          -0.9372120563881023,
          -0.9140447939616588,
          -0.9904048815541079
         ],
         "y": [
          1.585637592009985,
          1.5204946770791121,
          1.625953131868804
         ]
        },
        {
         "marker": {
          "color": "rgb(167.0, 189.33333333333331, 214.33333333333334)",
          "line": {
           "color": "black",
           "width": 0.5
          },
          "size": 8,
          "symbol": "x"
         },
         "mode": "markers",
         "showlegend": false,
         "type": "scatter",
         "x": [
          -1.330532030105452,
          -1.3290456770156076,
          -1.3225693693589065
         ],
         "y": [
          0.20893156134830765,
          0.22772001547843965,
          0.18863845945604257
         ]
        },
        {
         "marker": {
          "color": "rgb(228.33333333333334, 180.0, 170.0)",
          "line": {
           "color": "black",
           "width": 0.5
          },
          "size": 8,
          "symbol": "x"
         },
         "mode": "markers",
         "showlegend": false,
         "type": "scatter",
         "x": [
          -1.4847926463170649,
          -1.5222726684274612,
          -1.3522516886339264
         ],
         "y": [
          -0.13634166142296764,
          -0.12717955615614684,
          -0.10102312647793671
         ]
        },
        {
         "marker": {
          "color": "rgb(222.66666666666666, 126.0, 106.0)",
          "line": {
           "color": "black",
           "width": 0.5
          },
          "size": 8,
          "symbol": "x"
         },
         "mode": "markers",
         "showlegend": false,
         "type": "scatter",
         "x": [
          -1.1083097873723833,
          -1.2354244789744269,
          -1.349514552443614
         ],
         "y": [
          0.022822863100628244,
          0.0911786727164269,
          0.14780785467912239
         ]
        },
        {
         "marker": {
          "color": "rgb(217.0, 72.0, 42.0)",
          "line": {
           "color": "black",
           "width": 0.5
          },
          "size": 8,
          "symbol": "x"
         },
         "mode": "markers",
         "showlegend": false,
         "type": "scatter",
         "x": [
          -1.0542170400068374,
          -1.4502335477789572,
          -1.4187998888230058
         ],
         "y": [
          0.23393656736185556,
          0.1724555443195375,
          0.24370420426705877
         ]
        },
        {
         "marker": {
          "color": "rgb(54, 146, 68)",
          "line": {
           "color": "black",
           "width": 0.5
          },
          "size": 12,
          "symbol": "diamond"
         },
         "mode": "markers",
         "name": "Δ(adh,pta)-D28",
         "type": "scatter",
         "x": [
          -1.2856892962066773
         ],
         "y": [
          -0.5135514086821146
         ]
        },
        {
         "marker": {
          "color": "rgb(33.0, 100.0, 175.0)",
          "line": {
           "color": "black",
           "width": 0.5
          },
          "size": 8,
          "symbol": "diamond"
         },
         "mode": "markers",
         "showlegend": false,
         "type": "scatter",
         "x": [
          -0.18567465417704276,
          0.017419646593152614,
          0.047344476735552685
         ],
         "y": [
          3.147476040238701,
          2.7471172928604277,
          2.781149578874064
         ]
        },
        {
         "marker": {
          "color": "rgb(100.0, 144.66666666666666, 194.66666666666666)",
          "line": {
           "color": "black",
           "width": 0.5
          },
          "size": 8,
          "symbol": "diamond"
         },
         "mode": "markers",
         "showlegend": false,
         "type": "scatter",
         "x": [
          -0.35982408572504937,
          -0.5959389255608692,
          -0.40728951589321805
         ],
         "y": [
          1.4199135859665704,
          1.6464092386725027,
          1.4740973401908597
         ]
        },
        {
         "marker": {
          "color": "rgb(167.0, 189.33333333333331, 214.33333333333334)",
          "line": {
           "color": "black",
           "width": 0.5
          },
          "size": 8,
          "symbol": "diamond"
         },
         "mode": "markers",
         "showlegend": false,
         "type": "scatter",
         "x": [
          -0.9066580128888501,
          -0.8803130534802719,
          -1.055995064660463
         ],
         "y": [
          0.1918646711276152,
          0.20120766580888555,
          0.33928605910529175
         ]
        },
        {
         "marker": {
          "color": "rgb(228.33333333333334, 180.0, 170.0)",
          "line": {
           "color": "black",
           "width": 0.5
          },
          "size": 8,
          "symbol": "diamond"
         },
         "mode": "markers",
         "showlegend": false,
         "type": "scatter",
         "x": [
          -1.136273020775676,
          -1.314126361314123,
          -1.378220081718992
         ],
         "y": [
          -0.1977560618938919,
          -0.18097533047870823,
          -0.28538864233748096
         ]
        },
        {
         "marker": {
          "color": "rgb(222.66666666666666, 126.0, 106.0)",
          "line": {
           "color": "black",
           "width": 0.5
          },
          "size": 8,
          "symbol": "diamond"
         },
         "mode": "markers",
         "showlegend": false,
         "type": "scatter",
         "x": [
          -1.6177291486958147,
          -1.4189256468689713,
          -1.309564261891767
         ],
         "y": [
          -0.18082675619445476,
          -0.14664534424155454,
          -0.10961171719683689
         ]
        },
        {
         "marker": {
          "color": "rgb(217.0, 72.0, 42.0)",
          "line": {
           "color": "black",
           "width": 0.5
          },
          "size": 8,
          "symbol": "diamond"
         },
         "mode": "markers",
         "showlegend": false,
         "type": "scatter",
         "x": [
          -1.2279111035793673,
          -1.2588429134555248,
          -1.3579801647419287
         ],
         "y": [
          0.04344189259860888,
          -0.018708144277780125,
          -0.005871284963934158
         ]
        },
        {
         "marker": {
          "color": "rgb(54, 146, 68)",
          "line": {
           "color": "black",
           "width": 0.5
          },
          "size": 12,
          "symbol": "square"
         },
         "mode": "markers",
         "name": "Δ(adh,pta)-D59",
         "type": "scatter",
         "x": [
          -0.6526910472448714
         ],
         "y": [
          -1.1935882293904694
         ]
        },
        {
         "marker": {
          "color": "rgb(33.0, 100.0, 175.0)",
          "line": {
           "color": "black",
           "width": 0.5
          },
          "size": 8,
          "symbol": "square"
         },
         "mode": "markers",
         "showlegend": false,
         "type": "scatter",
         "x": [
          -0.15309595866149353,
          -0.09276594553232709,
          -0.1049857066324918
         ],
         "y": [
          -0.5329670254614878,
          -0.33225620787556126,
          -0.4354691924850584
         ]
        },
        {
         "marker": {
          "color": "rgb(100.0, 144.66666666666666, 194.66666666666666)",
          "line": {
           "color": "black",
           "width": 0.5
          },
          "size": 8,
          "symbol": "square"
         },
         "mode": "markers",
         "showlegend": false,
         "type": "scatter",
         "x": [
          -0.9398814398146251,
          -1.0833779678611468,
          -0.8089699781022881
         ],
         "y": [
          -1.308856062124114,
          -1.4493534658092189,
          -1.4951647195018378
         ]
        },
        {
         "marker": {
          "color": "rgb(167.0, 189.33333333333331, 214.33333333333334)",
          "line": {
           "color": "black",
           "width": 0.5
          },
          "size": 8,
          "symbol": "square"
         },
         "mode": "markers",
         "showlegend": false,
         "type": "scatter",
         "x": [
          -1.4358228519741392,
          -1.3635816914482481,
          -1.2522988444239675
         ],
         "y": [
          -1.752045320835101,
          -1.7941237313187106,
          -1.7264939412718305
         ]
        },
        {
         "marker": {
          "color": "rgb(228.33333333333334, 180.0, 170.0)",
          "line": {
           "color": "black",
           "width": 0.5
          },
          "size": 8,
          "symbol": "square"
         },
         "mode": "markers",
         "showlegend": false,
         "type": "scatter",
         "x": [
          -1.4980172228389348,
          -1.3910444636209436,
          -1.5009388313577086
         ],
         "y": [
          -1.358061747805175,
          -1.1515265090301017,
          -1.462426630350417
         ]
        },
        {
         "marker": {
          "color": "rgb(222.66666666666666, 126.0, 106.0)",
          "line": {
           "color": "black",
           "width": 0.5
          },
          "size": 8,
          "symbol": "square"
         },
         "mode": "markers",
         "showlegend": false,
         "type": "scatter",
         "x": [
          -1.7240405136644645,
          -1.932137377172827,
          -1.617823865588214
         ],
         "y": [
          -1.4904866450194487,
          -1.5110545993813547,
          -1.2829364834920136
         ]
        },
        {
         "marker": {
          "color": "rgb(217.0, 72.0, 42.0)",
          "line": {
           "color": "black",
           "width": 0.5
          },
          "size": 8,
          "symbol": "square"
         },
         "mode": "markers",
         "showlegend": false,
         "type": "scatter",
         "x": [
          -1.6732329235583356,
          -1.2710097781047534,
          -1.1479322142658752
         ],
         "y": [
          -1.2383497480422492,
          -1.0059317655606517,
          -0.9726731445533694
         ]
        }
       ],
       "layout": {
        "height": 475,
        "legend": {
         "font": {
          "color": "black",
          "family": "Myriad Pro",
          "size": 12
         },
         "orientation": "h",
         "x": 0.1,
         "y": -0.15
        },
        "template": {
         "data": {
          "scatter": [
           {
            "type": "scatter"
           }
          ]
         }
        },
        "width": 430,
        "xaxis": {
         "linecolor": "black",
         "linewidth": 1,
         "mirror": true,
         "nticks": 8,
         "showgrid": true,
         "showline": true,
         "side": "bottom",
         "tickangle": 0,
         "tickcolor": "black",
         "tickfont": {
          "color": "black",
          "family": "Myriad Pro",
          "size": 16
         },
         "ticklen": 4,
         "ticks": "outside",
         "title": {
          "font": {
           "color": "black",
           "family": "Myriad Pro",
           "size": 16
          },
          "standoff": 0.5,
          "text": "Component 1"
         },
         "zeroline": true
        },
        "yaxis": {
         "anchor": "x",
         "linecolor": "black",
         "linewidth": 1,
         "mirror": true,
         "showgrid": true,
         "showline": true,
         "side": "left",
         "tickangle": 0,
         "tickcolor": "black",
         "tickfont": {
          "color": "black",
          "family": "Myriad Pro",
          "size": 16
         },
         "ticklen": 4,
         "ticks": "outside",
         "title": {
          "font": {
           "color": "black",
           "family": "Myriad Pro",
           "size": 16
          },
          "text": "Component 2"
         },
         "zeroline": true
        }
       }
      },
      "text/html": [
       "<div>                            <div id=\"7ffa1a07-8cc9-47c1-bcff-5c87908eefdf\" class=\"plotly-graph-div\" style=\"height:475px; width:430px;\"></div>            <script type=\"text/javascript\">                require([\"plotly\"], function(Plotly) {                    window.PLOTLYENV=window.PLOTLYENV || {};                                    if (document.getElementById(\"7ffa1a07-8cc9-47c1-bcff-5c87908eefdf\")) {                    Plotly.newPlot(                        \"7ffa1a07-8cc9-47c1-bcff-5c87908eefdf\",                        [{\"marker\": {\"color\": \"rgb(54, 146, 68)\", \"line\": {\"color\": \"black\", \"width\": 0.5}, \"size\": 12, \"symbol\": \"circle\"}, \"mode\": \"markers\", \"name\": \"WT\", \"type\": \"scatter\", \"x\": [2.9134776128328066], \"y\": [-0.5316394072426558]}, {\"marker\": {\"color\": \"rgb(33.0, 100.0, 175.0)\", \"line\": {\"color\": \"black\", \"width\": 0.5}, \"size\": 8, \"symbol\": \"circle\"}, \"mode\": \"markers\", \"showlegend\": false, \"type\": \"scatter\", \"x\": [6.253008657145456, 6.110582715854615, 6.170139879266255], \"y\": [-0.6418526396154126, -0.6210480782860426, -0.6334229252553609]}, {\"marker\": {\"color\": \"rgb(100.0, 144.66666666666666, 194.66666666666666)\", \"line\": {\"color\": \"black\", \"width\": 0.5}, \"size\": 8, \"symbol\": \"circle\"}, \"mode\": \"markers\", \"showlegend\": false, \"type\": \"scatter\", \"x\": [4.549868710697575, 4.628807356634659, 4.595645335841579], \"y\": [-0.9426830547722009, -1.0177794283141819, -1.0981454523058438]}, {\"marker\": {\"color\": \"rgb(167.0, 189.33333333333331, 214.33333333333334)\", \"line\": {\"color\": \"black\", \"width\": 0.5}, \"size\": 8, \"symbol\": \"circle\"}, \"mode\": \"markers\", \"showlegend\": false, \"type\": \"scatter\", \"x\": [2.650258431687995, 2.590263209878955, 2.454838214612729], \"y\": [-0.15199380401135706, -0.1760239086475317, -0.13431756255097022]}, {\"marker\": {\"color\": \"rgb(228.33333333333334, 180.0, 170.0)\", \"line\": {\"color\": \"black\", \"width\": 0.5}, \"size\": 8, \"symbol\": \"circle\"}, \"mode\": \"markers\", \"showlegend\": false, \"type\": \"scatter\", \"x\": [1.8900838864650986, 1.8890520009689735, 2.018024352942822], \"y\": [0.2821289007179605, 0.32868665362984045, 0.39098544927334417]}, {\"marker\": {\"color\": \"rgb(222.66666666666666, 126.0, 106.0)\", \"line\": {\"color\": \"black\", \"width\": 0.5}, \"size\": 8, \"symbol\": \"circle\"}, \"mode\": \"markers\", \"showlegend\": false, \"type\": \"scatter\", \"x\": [2.118793625636262, 2.085993033490152, 1.97617560649889], \"y\": [0.37897574042576254, 0.5027905860356551, 0.42834537873060907]}, {\"marker\": {\"color\": \"rgb(217.0, 72.0, 42.0)\", \"line\": {\"color\": \"black\", \"width\": 0.5}, \"size\": 8, \"symbol\": \"circle\"}, \"mode\": \"markers\", \"showlegend\": false, \"type\": \"scatter\", \"x\": [2.0260341400845268, 1.904053380479722, 1.9720815729304408], \"y\": [0.49807799143918075, 0.6410918356506197, 0.5105953953861276]}, {\"marker\": {\"color\": \"rgb(54, 146, 68)\", \"line\": {\"color\": \"black\", \"width\": 0.5}, \"size\": 12, \"symbol\": \"x\"}, \"mode\": \"markers\", \"name\": \"\\u0394(adh,pta)-D1\", \"type\": \"scatter\", \"x\": [-1.5650189015231446], \"y\": [-0.42839961052172815]}, {\"marker\": {\"color\": \"rgb(33.0, 100.0, 175.0)\", \"line\": {\"color\": \"black\", \"width\": 0.5}, \"size\": 8, \"symbol\": \"x\"}, \"mode\": \"markers\", \"showlegend\": false, \"type\": \"scatter\", \"x\": [-0.4437269823005934, -0.3843112343980978, -0.3286596883926072], \"y\": [2.5185893353975404, 2.612682956278539, 2.5207553430612375]}, {\"marker\": {\"color\": \"rgb(100.0, 144.66666666666666, 194.66666666666666)\", \"line\": {\"color\": \"black\", \"width\": 0.5}, \"size\": 8, \"symbol\": \"x\"}, \"mode\": \"markers\", \"showlegend\": false, \"type\": \"scatter\", \"x\": [-0.9372120563881023, -0.9140447939616588, -0.9904048815541079], \"y\": [1.585637592009985, 1.5204946770791121, 1.625953131868804]}, {\"marker\": {\"color\": \"rgb(167.0, 189.33333333333331, 214.33333333333334)\", \"line\": {\"color\": \"black\", \"width\": 0.5}, \"size\": 8, \"symbol\": \"x\"}, \"mode\": \"markers\", \"showlegend\": false, \"type\": \"scatter\", \"x\": [-1.330532030105452, -1.3290456770156076, -1.3225693693589065], \"y\": [0.20893156134830765, 0.22772001547843965, 0.18863845945604257]}, {\"marker\": {\"color\": \"rgb(228.33333333333334, 180.0, 170.0)\", \"line\": {\"color\": \"black\", \"width\": 0.5}, \"size\": 8, \"symbol\": \"x\"}, \"mode\": \"markers\", \"showlegend\": false, \"type\": \"scatter\", \"x\": [-1.4847926463170649, -1.5222726684274612, -1.3522516886339264], \"y\": [-0.13634166142296764, -0.12717955615614684, -0.10102312647793671]}, {\"marker\": {\"color\": \"rgb(222.66666666666666, 126.0, 106.0)\", \"line\": {\"color\": \"black\", \"width\": 0.5}, \"size\": 8, \"symbol\": \"x\"}, \"mode\": \"markers\", \"showlegend\": false, \"type\": \"scatter\", \"x\": [-1.1083097873723833, -1.2354244789744269, -1.349514552443614], \"y\": [0.022822863100628244, 0.0911786727164269, 0.14780785467912239]}, {\"marker\": {\"color\": \"rgb(217.0, 72.0, 42.0)\", \"line\": {\"color\": \"black\", \"width\": 0.5}, \"size\": 8, \"symbol\": \"x\"}, \"mode\": \"markers\", \"showlegend\": false, \"type\": \"scatter\", \"x\": [-1.0542170400068374, -1.4502335477789572, -1.4187998888230058], \"y\": [0.23393656736185556, 0.1724555443195375, 0.24370420426705877]}, {\"marker\": {\"color\": \"rgb(54, 146, 68)\", \"line\": {\"color\": \"black\", \"width\": 0.5}, \"size\": 12, \"symbol\": \"diamond\"}, \"mode\": \"markers\", \"name\": \"\\u0394(adh,pta)-D28\", \"type\": \"scatter\", \"x\": [-1.2856892962066773], \"y\": [-0.5135514086821146]}, {\"marker\": {\"color\": \"rgb(33.0, 100.0, 175.0)\", \"line\": {\"color\": \"black\", \"width\": 0.5}, \"size\": 8, \"symbol\": \"diamond\"}, \"mode\": \"markers\", \"showlegend\": false, \"type\": \"scatter\", \"x\": [-0.18567465417704276, 0.017419646593152614, 0.047344476735552685], \"y\": [3.147476040238701, 2.7471172928604277, 2.781149578874064]}, {\"marker\": {\"color\": \"rgb(100.0, 144.66666666666666, 194.66666666666666)\", \"line\": {\"color\": \"black\", \"width\": 0.5}, \"size\": 8, \"symbol\": \"diamond\"}, \"mode\": \"markers\", \"showlegend\": false, \"type\": \"scatter\", \"x\": [-0.35982408572504937, -0.5959389255608692, -0.40728951589321805], \"y\": [1.4199135859665704, 1.6464092386725027, 1.4740973401908597]}, {\"marker\": {\"color\": \"rgb(167.0, 189.33333333333331, 214.33333333333334)\", \"line\": {\"color\": \"black\", \"width\": 0.5}, \"size\": 8, \"symbol\": \"diamond\"}, \"mode\": \"markers\", \"showlegend\": false, \"type\": \"scatter\", \"x\": [-0.9066580128888501, -0.8803130534802719, -1.055995064660463], \"y\": [0.1918646711276152, 0.20120766580888555, 0.33928605910529175]}, {\"marker\": {\"color\": \"rgb(228.33333333333334, 180.0, 170.0)\", \"line\": {\"color\": \"black\", \"width\": 0.5}, \"size\": 8, \"symbol\": \"diamond\"}, \"mode\": \"markers\", \"showlegend\": false, \"type\": \"scatter\", \"x\": [-1.136273020775676, -1.314126361314123, -1.378220081718992], \"y\": [-0.1977560618938919, -0.18097533047870823, -0.28538864233748096]}, {\"marker\": {\"color\": \"rgb(222.66666666666666, 126.0, 106.0)\", \"line\": {\"color\": \"black\", \"width\": 0.5}, \"size\": 8, \"symbol\": \"diamond\"}, \"mode\": \"markers\", \"showlegend\": false, \"type\": \"scatter\", \"x\": [-1.6177291486958147, -1.4189256468689713, -1.309564261891767], \"y\": [-0.18082675619445476, -0.14664534424155454, -0.10961171719683689]}, {\"marker\": {\"color\": \"rgb(217.0, 72.0, 42.0)\", \"line\": {\"color\": \"black\", \"width\": 0.5}, \"size\": 8, \"symbol\": \"diamond\"}, \"mode\": \"markers\", \"showlegend\": false, \"type\": \"scatter\", \"x\": [-1.2279111035793673, -1.2588429134555248, -1.3579801647419287], \"y\": [0.04344189259860888, -0.018708144277780125, -0.005871284963934158]}, {\"marker\": {\"color\": \"rgb(54, 146, 68)\", \"line\": {\"color\": \"black\", \"width\": 0.5}, \"size\": 12, \"symbol\": \"square\"}, \"mode\": \"markers\", \"name\": \"\\u0394(adh,pta)-D59\", \"type\": \"scatter\", \"x\": [-0.6526910472448714], \"y\": [-1.1935882293904694]}, {\"marker\": {\"color\": \"rgb(33.0, 100.0, 175.0)\", \"line\": {\"color\": \"black\", \"width\": 0.5}, \"size\": 8, \"symbol\": \"square\"}, \"mode\": \"markers\", \"showlegend\": false, \"type\": \"scatter\", \"x\": [-0.15309595866149353, -0.09276594553232709, -0.1049857066324918], \"y\": [-0.5329670254614878, -0.33225620787556126, -0.4354691924850584]}, {\"marker\": {\"color\": \"rgb(100.0, 144.66666666666666, 194.66666666666666)\", \"line\": {\"color\": \"black\", \"width\": 0.5}, \"size\": 8, \"symbol\": \"square\"}, \"mode\": \"markers\", \"showlegend\": false, \"type\": \"scatter\", \"x\": [-0.9398814398146251, -1.0833779678611468, -0.8089699781022881], \"y\": [-1.308856062124114, -1.4493534658092189, -1.4951647195018378]}, {\"marker\": {\"color\": \"rgb(167.0, 189.33333333333331, 214.33333333333334)\", \"line\": {\"color\": \"black\", \"width\": 0.5}, \"size\": 8, \"symbol\": \"square\"}, \"mode\": \"markers\", \"showlegend\": false, \"type\": \"scatter\", \"x\": [-1.4358228519741392, -1.3635816914482481, -1.2522988444239675], \"y\": [-1.752045320835101, -1.7941237313187106, -1.7264939412718305]}, {\"marker\": {\"color\": \"rgb(228.33333333333334, 180.0, 170.0)\", \"line\": {\"color\": \"black\", \"width\": 0.5}, \"size\": 8, \"symbol\": \"square\"}, \"mode\": \"markers\", \"showlegend\": false, \"type\": \"scatter\", \"x\": [-1.4980172228389348, -1.3910444636209436, -1.5009388313577086], \"y\": [-1.358061747805175, -1.1515265090301017, -1.462426630350417]}, {\"marker\": {\"color\": \"rgb(222.66666666666666, 126.0, 106.0)\", \"line\": {\"color\": \"black\", \"width\": 0.5}, \"size\": 8, \"symbol\": \"square\"}, \"mode\": \"markers\", \"showlegend\": false, \"type\": \"scatter\", \"x\": [-1.7240405136644645, -1.932137377172827, -1.617823865588214], \"y\": [-1.4904866450194487, -1.5110545993813547, -1.2829364834920136]}, {\"marker\": {\"color\": \"rgb(217.0, 72.0, 42.0)\", \"line\": {\"color\": \"black\", \"width\": 0.5}, \"size\": 8, \"symbol\": \"square\"}, \"mode\": \"markers\", \"showlegend\": false, \"type\": \"scatter\", \"x\": [-1.6732329235583356, -1.2710097781047534, -1.1479322142658752], \"y\": [-1.2383497480422492, -1.0059317655606517, -0.9726731445533694]}],                        {\"height\": 475, \"legend\": {\"font\": {\"color\": \"black\", \"family\": \"Myriad Pro\", \"size\": 12}, \"orientation\": \"h\", \"x\": 0.1, \"y\": -0.15}, \"template\": {\"data\": {\"scatter\": [{\"type\": \"scatter\"}]}}, \"width\": 430, \"xaxis\": {\"linecolor\": \"black\", \"linewidth\": 1, \"mirror\": true, \"nticks\": 8, \"showgrid\": true, \"showline\": true, \"side\": \"bottom\", \"tickangle\": 0, \"tickcolor\": \"black\", \"tickfont\": {\"color\": \"black\", \"family\": \"Myriad Pro\", \"size\": 16}, \"ticklen\": 4, \"ticks\": \"outside\", \"title\": {\"font\": {\"color\": \"black\", \"family\": \"Myriad Pro\", \"size\": 16}, \"standoff\": 0.5, \"text\": \"Component 1\"}, \"zeroline\": true}, \"yaxis\": {\"anchor\": \"x\", \"linecolor\": \"black\", \"linewidth\": 1, \"mirror\": true, \"showgrid\": true, \"showline\": true, \"side\": \"left\", \"tickangle\": 0, \"tickcolor\": \"black\", \"tickfont\": {\"color\": \"black\", \"family\": \"Myriad Pro\", \"size\": 16}, \"ticklen\": 4, \"ticks\": \"outside\", \"title\": {\"font\": {\"color\": \"black\", \"family\": \"Myriad Pro\", \"size\": 16}, \"text\": \"Component 2\"}, \"zeroline\": true}},                        {\"responsive\": true}                    ).then(function(){\n",
       "                            \n",
       "var gd = document.getElementById('7ffa1a07-8cc9-47c1-bcff-5c87908eefdf');\n",
       "var x = new MutationObserver(function (mutations, observer) {{\n",
       "        var display = window.getComputedStyle(gd).display;\n",
       "        if (!display || display === 'none') {{\n",
       "            console.log([gd, 'removed!']);\n",
       "            Plotly.purge(gd);\n",
       "            observer.disconnect();\n",
       "        }}\n",
       "}});\n",
       "\n",
       "// Listen for the removal of the full notebook cells\n",
       "var notebookContainer = gd.closest('#notebook-container');\n",
       "if (notebookContainer) {{\n",
       "    x.observe(notebookContainer, {childList: true});\n",
       "}}\n",
       "\n",
       "// Listen for the clearing of the current output cell\n",
       "var outputEl = gd.closest('.output');\n",
       "if (outputEl) {{\n",
       "    x.observe(outputEl, {childList: true});\n",
       "}}\n",
       "\n",
       "                        })                };                });            </script>        </div>"
      ]
     },
     "metadata": {},
     "output_type": "display_data"
    }
   ],
   "source": [
    "features = [ 'acetate_yield', \n",
    "             'formate_yield',\n",
    "             'lactate_yield',\n",
    "             'pyruvate_yield',\n",
    "             'succinate_yield',\n",
    "            'growth_rate']\n",
    "\n",
    "fig = pca_plot(features)\n",
    "x = st_df[features].values\n",
    "y = st_df[['strain','condition']].values\n",
    "\n",
    "x = StandardScaler().fit_transform(x)\n",
    "pca=PCA(n_components=5)\n",
    "pcs = pca.fit_transform(x)\n",
    "principal_df = pd.DataFrame(data=pcs[:,:4], columns = ['PC1', 'PC2','PC3','PC4'])\n",
    "\n",
    "pca_df = st_df.copy(deep=True)\n",
    "pca_df = pd.concat([pca_df,principal_df], axis=1)\n",
    "#pio.write_image(fig,\"Figures/si_fig_glc_pca_scores.svg\",format='svg')\n"
   ]
  },
  {
   "cell_type": "markdown",
   "id": "verbal-endorsement",
   "metadata": {},
   "source": [
    "### Plot cumulative variance represented by each component ###"
   ]
  },
  {
   "cell_type": "code",
   "execution_count": 936,
   "id": "chinese-graduate",
   "metadata": {},
   "outputs": [
    {
     "data": {
      "application/vnd.plotly.v1+json": {
       "config": {
        "linkText": "Export to plot.ly",
        "plotlyServerURL": "https://plot.ly",
        "showLink": false
       },
       "data": [
        {
         "line": {
          "color": "rgb(33,100,175)",
          "width": 1.5
         },
         "mode": "lines+markers",
         "name": "growth_rate",
         "type": "scatter",
         "x": [
          1,
          2,
          3,
          4,
          5,
          6
         ],
         "y": [
          0.7018190196758611,
          0.9191354792583187,
          0.9624680442588036,
          0.9892149179071038,
          0.997600792172705
         ]
        }
       ],
       "layout": {
        "height": 425,
        "legend": {
         "font": {
          "color": "black",
          "family": "Myriad Pro",
          "size": 12
         },
         "orientation": "h",
         "x": 0.1,
         "y": -0.15
        },
        "template": {
         "data": {
          "scatter": [
           {
            "type": "scatter"
           }
          ]
         }
        },
        "width": 405,
        "xaxis": {
         "linecolor": "black",
         "linewidth": 1,
         "mirror": true,
         "nticks": 8,
         "showgrid": true,
         "showline": true,
         "side": "bottom",
         "tickangle": 0,
         "tickcolor": "black",
         "tickfont": {
          "color": "black",
          "family": "Myriad Pro",
          "size": 16
         },
         "ticklen": 4,
         "ticks": "outside",
         "title": {
          "font": {
           "color": "black",
           "family": "Myriad Pro",
           "size": 16
          },
          "standoff": 0.5,
          "text": "Number of Components"
         },
         "zeroline": true
        },
        "yaxis": {
         "anchor": "x",
         "linecolor": "black",
         "linewidth": 1,
         "mirror": true,
         "showgrid": true,
         "showline": true,
         "side": "left",
         "tickangle": 0,
         "tickcolor": "black",
         "tickfont": {
          "color": "black",
          "family": "Myriad Pro",
          "size": 16
         },
         "ticklen": 4,
         "ticks": "outside",
         "title": {
          "font": {
           "color": "black",
           "family": "Myriad Pro",
           "size": 16
          },
          "text": "Cumulative Variance Explained"
         },
         "zeroline": true
        }
       }
      },
      "text/html": [
       "<div>                            <div id=\"2c532cb7-d453-41d4-a6d5-4e242923ddde\" class=\"plotly-graph-div\" style=\"height:425px; width:405px;\"></div>            <script type=\"text/javascript\">                require([\"plotly\"], function(Plotly) {                    window.PLOTLYENV=window.PLOTLYENV || {};                                    if (document.getElementById(\"2c532cb7-d453-41d4-a6d5-4e242923ddde\")) {                    Plotly.newPlot(                        \"2c532cb7-d453-41d4-a6d5-4e242923ddde\",                        [{\"line\": {\"color\": \"rgb(33,100,175)\", \"width\": 1.5}, \"mode\": \"lines+markers\", \"name\": \"growth_rate\", \"type\": \"scatter\", \"x\": [1, 2, 3, 4, 5, 6], \"y\": [0.7018190196758611, 0.9191354792583187, 0.9624680442588036, 0.9892149179071038, 0.997600792172705]}],                        {\"height\": 425, \"legend\": {\"font\": {\"color\": \"black\", \"family\": \"Myriad Pro\", \"size\": 12}, \"orientation\": \"h\", \"x\": 0.1, \"y\": -0.15}, \"template\": {\"data\": {\"scatter\": [{\"type\": \"scatter\"}]}}, \"width\": 405, \"xaxis\": {\"linecolor\": \"black\", \"linewidth\": 1, \"mirror\": true, \"nticks\": 8, \"showgrid\": true, \"showline\": true, \"side\": \"bottom\", \"tickangle\": 0, \"tickcolor\": \"black\", \"tickfont\": {\"color\": \"black\", \"family\": \"Myriad Pro\", \"size\": 16}, \"ticklen\": 4, \"ticks\": \"outside\", \"title\": {\"font\": {\"color\": \"black\", \"family\": \"Myriad Pro\", \"size\": 16}, \"standoff\": 0.5, \"text\": \"Number of Components\"}, \"zeroline\": true}, \"yaxis\": {\"anchor\": \"x\", \"linecolor\": \"black\", \"linewidth\": 1, \"mirror\": true, \"showgrid\": true, \"showline\": true, \"side\": \"left\", \"tickangle\": 0, \"tickcolor\": \"black\", \"tickfont\": {\"color\": \"black\", \"family\": \"Myriad Pro\", \"size\": 16}, \"ticklen\": 4, \"ticks\": \"outside\", \"title\": {\"font\": {\"color\": \"black\", \"family\": \"Myriad Pro\", \"size\": 16}, \"text\": \"Cumulative Variance Explained\"}, \"zeroline\": true}},                        {\"responsive\": true}                    ).then(function(){\n",
       "                            \n",
       "var gd = document.getElementById('2c532cb7-d453-41d4-a6d5-4e242923ddde');\n",
       "var x = new MutationObserver(function (mutations, observer) {{\n",
       "        var display = window.getComputedStyle(gd).display;\n",
       "        if (!display || display === 'none') {{\n",
       "            console.log([gd, 'removed!']);\n",
       "            Plotly.purge(gd);\n",
       "            observer.disconnect();\n",
       "        }}\n",
       "}});\n",
       "\n",
       "// Listen for the removal of the full notebook cells\n",
       "var notebookContainer = gd.closest('#notebook-container');\n",
       "if (notebookContainer) {{\n",
       "    x.observe(notebookContainer, {childList: true});\n",
       "}}\n",
       "\n",
       "// Listen for the clearing of the current output cell\n",
       "var outputEl = gd.closest('.output');\n",
       "if (outputEl) {{\n",
       "    x.observe(outputEl, {childList: true});\n",
       "}}\n",
       "\n",
       "                        })                };                });            </script>        </div>"
      ]
     },
     "metadata": {},
     "output_type": "display_data"
    }
   ],
   "source": [
    "trace_list = []\n",
    "trace_list.append(go.Scatter(x=np.arange(1,7),\n",
    "                             y=np.cumsum(pca.explained_variance_ratio_),\n",
    "                             mode='lines+markers',\n",
    "                             line=dict(width=1.5, color='rgb(33,100,175)'),\n",
    "                             name=analyte))\n",
    "\n",
    "\n",
    "layout = go.Layout(height=425, width=405, legend_x= 0.1, legend_y=-0.15, legend_font=dict(family='Myriad Pro', size=12, color='black'), legend_orientation='h',\n",
    "                   xaxis=dict(title='Number of Components',\n",
    "                              title_standoff=0.5,\n",
    "                              titlefont=dict(family='Myriad Pro', size=16, color='black'),\n",
    "                              showline=True, linewidth=1, linecolor='black', mirror=True, side='bottom',\n",
    "                              ticks='outside', ticklen=4, tickangle=0, nticks=8,\n",
    "                              tickfont=dict(size=16, family='Myriad Pro', color='black'), tickcolor='black',\n",
    "                              showgrid=True,zeroline=True),\n",
    "                  \n",
    "                  yaxis=dict(title='Cumulative Variance Explained',\n",
    "                            titlefont=dict(family='Myriad Pro', size=16, color='black'),\n",
    "\n",
    "                              anchor='x', side='left', showgrid=True, zeroline=True,\n",
    "                            tickfont=dict(family='Myriad Pro',size=16, color='black'), tickcolor='black', \n",
    "\n",
    "                              showline=True, linewidth=1, linecolor='black', mirror=True,\n",
    "                              ticks='outside', ticklen=4, tickangle=0))\n",
    "\n",
    "\n",
    "fig = go.Figure(data = trace_list, layout=layout)\n",
    "plot(fig)\n",
    "#pio.write_image(fig,\"Figures/si_fig_glc_pca_exp_var.svg\",format='svg')\n"
   ]
  },
  {
   "cell_type": "markdown",
   "id": "downtown-secretary",
   "metadata": {},
   "source": [
    "### Plot loadings of first two PCs ###"
   ]
  },
  {
   "cell_type": "code",
   "execution_count": 937,
   "id": "separated-happening",
   "metadata": {
    "scrolled": false
   },
   "outputs": [
    {
     "data": {
      "application/vnd.plotly.v1+json": {
       "config": {
        "linkText": "Export to plot.ly",
        "plotlyServerURL": "https://plot.ly",
        "showLink": false
       },
       "data": [
        {
         "line": {
          "color": "rgb(54, 146, 68)",
          "width": 1.5
         },
         "mode": "lines",
         "name": "acetate_yield",
         "showlegend": false,
         "type": "scatter",
         "x": [
          0,
          0.47545744435462883
         ],
         "y": [
          0,
          -0.03650528882410534
         ]
        },
        {
         "line": {
          "color": "rgb(54, 146, 68)",
          "width": 1.5
         },
         "mode": "lines",
         "name": "formate_yield",
         "showlegend": false,
         "type": "scatter",
         "x": [
          0,
          0.47518144338875457
         ],
         "y": [
          0,
          -0.13781584837380337
         ]
        },
        {
         "line": {
          "color": "rgb(54, 146, 68)",
          "width": 1.5
         },
         "mode": "lines",
         "name": "lactate_yield",
         "showlegend": false,
         "type": "scatter",
         "x": [
          0,
          -0.46894447364316744
         ],
         "y": [
          0,
          -0.13878133842955226
         ]
        },
        {
         "line": {
          "color": "rgb(54, 146, 68)",
          "width": 1.5
         },
         "mode": "lines",
         "name": "pyruvate_yield",
         "showlegend": false,
         "type": "scatter",
         "x": [
          0,
          -0.1746768511984799
         ],
         "y": [
          0,
          0.7798836226636839
         ]
        },
        {
         "line": {
          "color": "rgb(54, 146, 68)",
          "width": 1.5
         },
         "mode": "lines",
         "name": "succinate_yield",
         "showlegend": false,
         "type": "scatter",
         "x": [
          0,
          -0.31500001667573024
         ],
         "y": [
          0,
          -0.5892046834114232
         ]
        },
        {
         "line": {
          "color": "rgb(54, 146, 68)",
          "width": 1.5
         },
         "mode": "lines",
         "name": "growth_rate",
         "showlegend": false,
         "type": "scatter",
         "x": [
          0,
          0.44552988929582593
         ],
         "y": [
          0,
          -0.07094555712370544
         ]
        }
       ],
       "layout": {
        "height": 425,
        "legend": {
         "font": {
          "color": "black",
          "family": "Myriad Pro",
          "size": 12
         },
         "orientation": "h",
         "x": 0.1,
         "y": -0.15
        },
        "template": {
         "data": {
          "scatter": [
           {
            "type": "scatter"
           }
          ]
         }
        },
        "width": 405,
        "xaxis": {
         "linecolor": "black",
         "linewidth": 1,
         "mirror": true,
         "nticks": 8,
         "showgrid": true,
         "showline": true,
         "side": "bottom",
         "tickangle": 0,
         "tickcolor": "black",
         "tickfont": {
          "color": "black",
          "family": "Myriad Pro",
          "size": 16
         },
         "ticklen": 4,
         "ticks": "outside",
         "title": {
          "font": {
           "color": "black",
           "family": "Myriad Pro",
           "size": 16
          },
          "standoff": 0.5,
          "text": "Principal Component 1"
         },
         "zeroline": true
        },
        "yaxis": {
         "anchor": "x",
         "linecolor": "black",
         "linewidth": 1,
         "mirror": true,
         "showgrid": true,
         "showline": true,
         "side": "left",
         "tickangle": 0,
         "tickcolor": "black",
         "tickfont": {
          "color": "black",
          "family": "Myriad Pro",
          "size": 16
         },
         "ticklen": 4,
         "ticks": "outside",
         "title": {
          "font": {
           "color": "black",
           "family": "Myriad Pro",
           "size": 16
          },
          "text": "Principal Component 2"
         },
         "zeroline": true
        }
       }
      },
      "text/html": [
       "<div>                            <div id=\"b57aadd0-3735-4bbe-91f9-014a931cea2d\" class=\"plotly-graph-div\" style=\"height:425px; width:405px;\"></div>            <script type=\"text/javascript\">                require([\"plotly\"], function(Plotly) {                    window.PLOTLYENV=window.PLOTLYENV || {};                                    if (document.getElementById(\"b57aadd0-3735-4bbe-91f9-014a931cea2d\")) {                    Plotly.newPlot(                        \"b57aadd0-3735-4bbe-91f9-014a931cea2d\",                        [{\"line\": {\"color\": \"rgb(54, 146, 68)\", \"width\": 1.5}, \"mode\": \"lines\", \"name\": \"acetate_yield\", \"showlegend\": false, \"type\": \"scatter\", \"x\": [0, 0.47545744435462883], \"y\": [0, -0.03650528882410534]}, {\"line\": {\"color\": \"rgb(54, 146, 68)\", \"width\": 1.5}, \"mode\": \"lines\", \"name\": \"formate_yield\", \"showlegend\": false, \"type\": \"scatter\", \"x\": [0, 0.47518144338875457], \"y\": [0, -0.13781584837380337]}, {\"line\": {\"color\": \"rgb(54, 146, 68)\", \"width\": 1.5}, \"mode\": \"lines\", \"name\": \"lactate_yield\", \"showlegend\": false, \"type\": \"scatter\", \"x\": [0, -0.46894447364316744], \"y\": [0, -0.13878133842955226]}, {\"line\": {\"color\": \"rgb(54, 146, 68)\", \"width\": 1.5}, \"mode\": \"lines\", \"name\": \"pyruvate_yield\", \"showlegend\": false, \"type\": \"scatter\", \"x\": [0, -0.1746768511984799], \"y\": [0, 0.7798836226636839]}, {\"line\": {\"color\": \"rgb(54, 146, 68)\", \"width\": 1.5}, \"mode\": \"lines\", \"name\": \"succinate_yield\", \"showlegend\": false, \"type\": \"scatter\", \"x\": [0, -0.31500001667573024], \"y\": [0, -0.5892046834114232]}, {\"line\": {\"color\": \"rgb(54, 146, 68)\", \"width\": 1.5}, \"mode\": \"lines\", \"name\": \"growth_rate\", \"showlegend\": false, \"type\": \"scatter\", \"x\": [0, 0.44552988929582593], \"y\": [0, -0.07094555712370544]}],                        {\"height\": 425, \"legend\": {\"font\": {\"color\": \"black\", \"family\": \"Myriad Pro\", \"size\": 12}, \"orientation\": \"h\", \"x\": 0.1, \"y\": -0.15}, \"template\": {\"data\": {\"scatter\": [{\"type\": \"scatter\"}]}}, \"width\": 405, \"xaxis\": {\"linecolor\": \"black\", \"linewidth\": 1, \"mirror\": true, \"nticks\": 8, \"showgrid\": true, \"showline\": true, \"side\": \"bottom\", \"tickangle\": 0, \"tickcolor\": \"black\", \"tickfont\": {\"color\": \"black\", \"family\": \"Myriad Pro\", \"size\": 16}, \"ticklen\": 4, \"ticks\": \"outside\", \"title\": {\"font\": {\"color\": \"black\", \"family\": \"Myriad Pro\", \"size\": 16}, \"standoff\": 0.5, \"text\": \"Principal Component 1\"}, \"zeroline\": true}, \"yaxis\": {\"anchor\": \"x\", \"linecolor\": \"black\", \"linewidth\": 1, \"mirror\": true, \"showgrid\": true, \"showline\": true, \"side\": \"left\", \"tickangle\": 0, \"tickcolor\": \"black\", \"tickfont\": {\"color\": \"black\", \"family\": \"Myriad Pro\", \"size\": 16}, \"ticklen\": 4, \"ticks\": \"outside\", \"title\": {\"font\": {\"color\": \"black\", \"family\": \"Myriad Pro\", \"size\": 16}, \"text\": \"Principal Component 2\"}, \"zeroline\": true}},                        {\"responsive\": true}                    ).then(function(){\n",
       "                            \n",
       "var gd = document.getElementById('b57aadd0-3735-4bbe-91f9-014a931cea2d');\n",
       "var x = new MutationObserver(function (mutations, observer) {{\n",
       "        var display = window.getComputedStyle(gd).display;\n",
       "        if (!display || display === 'none') {{\n",
       "            console.log([gd, 'removed!']);\n",
       "            Plotly.purge(gd);\n",
       "            observer.disconnect();\n",
       "        }}\n",
       "}});\n",
       "\n",
       "// Listen for the removal of the full notebook cells\n",
       "var notebookContainer = gd.closest('#notebook-container');\n",
       "if (notebookContainer) {{\n",
       "    x.observe(notebookContainer, {childList: true});\n",
       "}}\n",
       "\n",
       "// Listen for the clearing of the current output cell\n",
       "var outputEl = gd.closest('.output');\n",
       "if (outputEl) {{\n",
       "    x.observe(outputEl, {childList: true});\n",
       "}}\n",
       "\n",
       "                        })                };                });            </script>        </div>"
      ]
     },
     "metadata": {},
     "output_type": "display_data"
    }
   ],
   "source": [
    "trace_list=[]\n",
    "\n",
    "for i, analyte in enumerate(features):\n",
    "    trace_list.append(go.Scatter(x=[0]+[pca.components_[0,i]],\n",
    "                                 y=[0]+[pca.components_[1,i]],\n",
    "                                 mode='lines', showlegend=False,\n",
    "                                 line=dict(width=1.5, color='rgb(54, 146, 68)'),\n",
    "                                 name=analyte))\n",
    "\n",
    "\n",
    "layout = go.Layout(height=425, width=405, legend_x= 0.1, legend_y=-0.15, legend_font=dict(family='Myriad Pro', size=12, color='black'), legend_orientation='h',\n",
    "                   xaxis=dict(title='Principal Component 1',\n",
    "                              title_standoff=0.5,\n",
    "                              titlefont=dict(family='Myriad Pro', size=16, color='black'),\n",
    "                              showline=True, linewidth=1, linecolor='black', mirror=True, side='bottom',\n",
    "                              ticks='outside', ticklen=4, tickangle=0, nticks=8,\n",
    "                              tickfont=dict(size=16, family='Myriad Pro', color='black'), tickcolor='black',\n",
    "                              showgrid=True,zeroline=True),\n",
    "                  \n",
    "                  yaxis=dict(title='Principal Component 2',\n",
    "                            titlefont=dict(family='Myriad Pro', size=16, color='black'),\n",
    "\n",
    "                              anchor='x', side='left', showgrid=True, zeroline=True,\n",
    "                            tickfont=dict(family='Myriad Pro',size=16, color='black'), tickcolor='black', \n",
    "\n",
    "                              showline=True, linewidth=1, linecolor='black', mirror=True,\n",
    "                              ticks='outside', ticklen=4, tickangle=0))\n",
    "fig = go.Figure(data=trace_list, layout=layout)\n",
    "plot(fig)\n",
    "#pio.write_image(fig,\"Figures/si_fig_glc_pca_loadings.svg\",format='svg')\n"
   ]
  },
  {
   "cell_type": "markdown",
   "id": "strange-norfolk",
   "metadata": {},
   "source": [
    "### Plot analyte data for all strains ###"
   ]
  },
  {
   "cell_type": "code",
   "execution_count": 963,
   "id": "composed-albania",
   "metadata": {
    "scrolled": false
   },
   "outputs": [
    {
     "name": "stdout",
     "output_type": "stream",
     "text": [
      "WT\n"
     ]
    },
    {
     "name": "stderr",
     "output_type": "stream",
     "text": [
      "C:\\Users\\User\\anaconda3\\envs\\impact\\lib\\site-packages\\ipykernel_launcher.py:75: RuntimeWarning:\n",
      "\n",
      "invalid value encountered in double_scalars\n",
      "\n"
     ]
    },
    {
     "data": {
      "application/vnd.plotly.v1+json": {
       "config": {
        "linkText": "Export to plot.ly",
        "plotlyServerURL": "https://plot.ly",
        "showLink": false
       },
       "data": [
        {
         "marker": {
          "color": "rgb(54, 146, 68)",
          "line": {
           "color": "rgb(54, 146, 68)",
           "width": 0
          }
         },
         "name": "Bioreactor",
         "type": "bar",
         "x": [
          "Acetate",
          "Formate",
          "Lactate"
         ],
         "y": [
          0.8060154879177284,
          1.3925461071228267,
          0.4919119156905717
         ]
        },
        {
         "marker": {
          "color": "rgb(54, 146, 68)",
          "line": {
           "color": "black",
           "width": 0
          }
         },
         "name": "Bioreactor",
         "showlegend": false,
         "type": "bar",
         "x": [
          "Growth Rate"
         ],
         "y": [
          0.7109732389464621
         ],
         "yaxis": "y2"
        },
        {
         "error_y": {
          "array": [
           0.07936855840668683,
           0.04267357656923216,
           0.001780659240257601,
           0.017678861809377916
          ],
          "color": "black",
          "thickness": 1.5,
          "type": "data",
          "width": 3
         },
         "marker": {
          "color": "rgb(33.0, 100.0, 175.0)",
          "line": {
           "color": "rgb(54, 146, 68)",
           "width": 0
          }
         },
         "name": "1.5",
         "type": "bar",
         "x": [
          "Acetate",
          "Formate",
          "Lactate"
         ],
         "y": [
          2.062377419415308,
          2.223839201644462,
          0.04235263626600631
         ]
        },
        {
         "error_y": {
          "array": [
           0.017678861809377916
          ],
          "color": "black",
          "thickness": 1.5,
          "type": "data",
          "width": 3
         },
         "marker": {
          "color": "rgb(33.0, 100.0, 175.0)",
          "line": {
           "color": "black",
           "width": 0
          }
         },
         "name": "1.5",
         "showlegend": false,
         "type": "bar",
         "x": [
          "Growth Rate"
         ],
         "y": [
          0.9273765718545629
         ],
         "yaxis": "y2"
        },
        {
         "error_y": {
          "array": [
           0.07939089585125395,
           0.08299021521618477,
           0.006802416317321578,
           0.009281759601437291
          ],
          "color": "black",
          "thickness": 1.5,
          "type": "data",
          "width": 3
         },
         "marker": {
          "color": "rgb(100.0, 144.66666666666666, 194.66666666666666)",
          "line": {
           "color": "rgb(54, 146, 68)",
           "width": 0
          }
         },
         "name": "3",
         "type": "bar",
         "x": [
          "Acetate",
          "Formate",
          "Lactate"
         ],
         "y": [
          1.5848502309235928,
          1.662614927149691,
          0.11505935877409029
         ]
        },
        {
         "error_y": {
          "array": [
           0.009281759601437291
          ],
          "color": "black",
          "thickness": 1.5,
          "type": "data",
          "width": 3
         },
         "marker": {
          "color": "rgb(100.0, 144.66666666666666, 194.66666666666666)",
          "line": {
           "color": "black",
           "width": 0
          }
         },
         "name": "3",
         "showlegend": false,
         "type": "bar",
         "x": [
          "Growth Rate"
         ],
         "y": [
          0.8371678022477403
         ],
         "yaxis": "y2"
        },
        {
         "error_y": {
          "array": [
           0.03920629020905885,
           0.04799684284723735,
           0.06339106000512007,
           0.014825783060944045
          ],
          "color": "black",
          "thickness": 1.5,
          "type": "data",
          "width": 3
         },
         "marker": {
          "color": "rgb(167.0, 189.33333333333331, 214.33333333333334)",
          "line": {
           "color": "rgb(54, 146, 68)",
           "width": 0
          }
         },
         "name": "6",
         "type": "bar",
         "x": [
          "Acetate",
          "Formate",
          "Lactate"
         ],
         "y": [
          0.8543244360112493,
          1.0592595069538004,
          0.6468388905028115
         ]
        },
        {
         "error_y": {
          "array": [
           0.014825783060944045
          ],
          "color": "black",
          "thickness": 1.5,
          "type": "data",
          "width": 3
         },
         "marker": {
          "color": "rgb(167.0, 189.33333333333331, 214.33333333333334)",
          "line": {
           "color": "black",
           "width": 0
          }
         },
         "name": "6",
         "showlegend": false,
         "type": "bar",
         "x": [
          "Growth Rate"
         ],
         "y": [
          0.7877538899598036
         ],
         "yaxis": "y2"
        },
        {
         "error_y": {
          "array": [
           0.0432707363796022,
           0.02535094192959471,
           0.029605669438819704,
           0.022126814848360203
          ],
          "color": "black",
          "thickness": 1.5,
          "type": "data",
          "width": 3
         },
         "marker": {
          "color": "rgb(228.33333333333334, 180.0, 170.0)",
          "line": {
           "color": "rgb(54, 146, 68)",
           "width": 0
          }
         },
         "name": "9",
         "type": "bar",
         "x": [
          "Acetate",
          "Formate",
          "Lactate"
         ],
         "y": [
          0.6857645959211721,
          0.8207157968466301,
          0.7855231463598403
         ]
        },
        {
         "error_y": {
          "array": [
           0.022126814848360203
          ],
          "color": "black",
          "thickness": 1.5,
          "type": "data",
          "width": 3
         },
         "marker": {
          "color": "rgb(228.33333333333334, 180.0, 170.0)",
          "line": {
           "color": "black",
           "width": 0
          }
         },
         "name": "9",
         "showlegend": false,
         "type": "bar",
         "x": [
          "Growth Rate"
         ],
         "y": [
          0.7452009187845562
         ],
         "yaxis": "y2"
        },
        {
         "error_y": {
          "array": [
           0.0603280498392568,
           0.06310269468569016,
           0.06477507466913478,
           0.01108739303805999
          ],
          "color": "black",
          "thickness": 1.5,
          "type": "data",
          "width": 3
         },
         "marker": {
          "color": "rgb(222.66666666666666, 126.0, 106.0)",
          "line": {
           "color": "rgb(54, 146, 68)",
           "width": 0
          }
         },
         "name": "12",
         "type": "bar",
         "x": [
          "Acetate",
          "Formate",
          "Lactate"
         ],
         "y": [
          0.6566528338723254,
          0.7815522072804569,
          0.7888748154298689
         ]
        },
        {
         "error_y": {
          "array": [
           0.01108739303805999
          ],
          "color": "black",
          "thickness": 1.5,
          "type": "data",
          "width": 3
         },
         "marker": {
          "color": "rgb(222.66666666666666, 126.0, 106.0)",
          "line": {
           "color": "black",
           "width": 0
          }
         },
         "name": "12",
         "showlegend": false,
         "type": "bar",
         "x": [
          "Growth Rate"
         ],
         "y": [
          0.8169789246628222
         ],
         "yaxis": "y2"
        },
        {
         "error_y": {
          "array": [
           0.05888148500001109,
           0.0692787203509763,
           0.07314291578345568,
           0.013184701223092421
          ],
          "color": "black",
          "thickness": 1.5,
          "type": "data",
          "width": 3
         },
         "marker": {
          "color": "rgb(217.0, 72.0, 42.0)",
          "line": {
           "color": "rgb(54, 146, 68)",
           "width": 0
          }
         },
         "name": "18",
         "type": "bar",
         "x": [
          "Acetate",
          "Formate",
          "Lactate"
         ],
         "y": [
          0.6677341140828211,
          0.7783448679557268,
          0.8175716802460359
         ]
        },
        {
         "error_y": {
          "array": [
           0.013184701223092421
          ],
          "color": "black",
          "thickness": 1.5,
          "type": "data",
          "width": 3
         },
         "marker": {
          "color": "rgb(217.0, 72.0, 42.0)",
          "line": {
           "color": "black",
           "width": 0
          }
         },
         "name": "18",
         "showlegend": false,
         "type": "bar",
         "x": [
          "Growth Rate"
         ],
         "y": [
          0.7987362152342907
         ],
         "yaxis": "y2"
        }
       ],
       "layout": {
        "bargap": 0.4,
        "bargroupgap": 0.1,
        "height": 450,
        "legend": {
         "font": {
          "color": "black",
          "family": "Myriad Pro",
          "size": 14
         },
         "orientation": "v",
         "x": 1.15,
         "y": 0
        },
        "template": {
         "data": {
          "scatter": [
           {
            "type": "scatter"
           }
          ]
         }
        },
        "width": 1000,
        "xaxis": {
         "linecolor": "black",
         "linewidth": 1,
         "mirror": true,
         "nticks": 8,
         "showgrid": false,
         "showline": true,
         "side": "bottom",
         "tickangle": 0,
         "tickcolor": "black",
         "tickfont": {
          "color": "black",
          "family": "Myriad Pro",
          "size": 16
         },
         "ticklen": 4,
         "ticks": "",
         "title": {
          "font": {
           "color": "black",
           "family": "Myriad Pro",
           "size": 18
          },
          "text": "Product"
         },
         "type": "category",
         "zeroline": false
        },
        "yaxis": {
         "linecolor": "black",
         "linewidth": 1,
         "mirror": true,
         "range": [
          0,
          3
         ],
         "showgrid": true,
         "showline": true,
         "side": "left",
         "tickangle": 0,
         "tickcolor": "black",
         "tickfont": {
          "color": "black",
          "family": "Myriad Pro",
          "size": 16
         },
         "ticklen": 4,
         "ticks": "outside",
         "title": {
          "font": {
           "color": "black",
           "family": "Myriad Pro",
           "size": 18
          },
          "text": "Product Yield<br>(mmol Product/mmol Glucose)"
         },
         "zeroline": false
        },
        "yaxis2": {
         "anchor": "x",
         "linecolor": "black",
         "linewidth": 1,
         "mirror": true,
         "nticks": 6,
         "overlaying": "y",
         "range": [
          0,
          1.5
         ],
         "showgrid": true,
         "showline": true,
         "side": "right",
         "tickangle": 0,
         "tickcolor": "black",
         "tickfont": {
          "color": "black",
          "family": "Myriad Pro",
          "size": 16
         },
         "ticklen": 4,
         "ticks": "outside",
         "title": {
          "font": {
           "color": "black",
           "family": "Myriad Pro",
           "size": 18
          },
          "text": "Biomass Yield<br>(g Biomass/g Glucose)"
         },
         "zeroline": false
        }
       }
      },
      "text/html": [
       "<div>                            <div id=\"a5fe253b-476f-4f18-9f92-43c1a5c16f37\" class=\"plotly-graph-div\" style=\"height:450px; width:1000px;\"></div>            <script type=\"text/javascript\">                require([\"plotly\"], function(Plotly) {                    window.PLOTLYENV=window.PLOTLYENV || {};                                    if (document.getElementById(\"a5fe253b-476f-4f18-9f92-43c1a5c16f37\")) {                    Plotly.newPlot(                        \"a5fe253b-476f-4f18-9f92-43c1a5c16f37\",                        [{\"marker\": {\"color\": \"rgb(54, 146, 68)\", \"line\": {\"color\": \"rgb(54, 146, 68)\", \"width\": 0}}, \"name\": \"Bioreactor\", \"type\": \"bar\", \"x\": [\"Acetate\", \"Formate\", \"Lactate\"], \"y\": [0.8060154879177284, 1.3925461071228267, 0.4919119156905717]}, {\"marker\": {\"color\": \"rgb(54, 146, 68)\", \"line\": {\"color\": \"black\", \"width\": 0}}, \"name\": \"Bioreactor\", \"showlegend\": false, \"type\": \"bar\", \"x\": [\"Growth Rate\"], \"y\": [0.7109732389464621], \"yaxis\": \"y2\"}, {\"error_y\": {\"array\": [0.07936855840668683, 0.04267357656923216, 0.001780659240257601, 0.017678861809377916], \"color\": \"black\", \"thickness\": 1.5, \"type\": \"data\", \"width\": 3}, \"marker\": {\"color\": \"rgb(33.0, 100.0, 175.0)\", \"line\": {\"color\": \"rgb(54, 146, 68)\", \"width\": 0}}, \"name\": \"1.5\", \"type\": \"bar\", \"x\": [\"Acetate\", \"Formate\", \"Lactate\"], \"y\": [2.062377419415308, 2.223839201644462, 0.04235263626600631]}, {\"error_y\": {\"array\": [0.017678861809377916], \"color\": \"black\", \"thickness\": 1.5, \"type\": \"data\", \"width\": 3}, \"marker\": {\"color\": \"rgb(33.0, 100.0, 175.0)\", \"line\": {\"color\": \"black\", \"width\": 0}}, \"name\": \"1.5\", \"showlegend\": false, \"type\": \"bar\", \"x\": [\"Growth Rate\"], \"y\": [0.9273765718545629], \"yaxis\": \"y2\"}, {\"error_y\": {\"array\": [0.07939089585125395, 0.08299021521618477, 0.006802416317321578, 0.009281759601437291], \"color\": \"black\", \"thickness\": 1.5, \"type\": \"data\", \"width\": 3}, \"marker\": {\"color\": \"rgb(100.0, 144.66666666666666, 194.66666666666666)\", \"line\": {\"color\": \"rgb(54, 146, 68)\", \"width\": 0}}, \"name\": \"3\", \"type\": \"bar\", \"x\": [\"Acetate\", \"Formate\", \"Lactate\"], \"y\": [1.5848502309235928, 1.662614927149691, 0.11505935877409029]}, {\"error_y\": {\"array\": [0.009281759601437291], \"color\": \"black\", \"thickness\": 1.5, \"type\": \"data\", \"width\": 3}, \"marker\": {\"color\": \"rgb(100.0, 144.66666666666666, 194.66666666666666)\", \"line\": {\"color\": \"black\", \"width\": 0}}, \"name\": \"3\", \"showlegend\": false, \"type\": \"bar\", \"x\": [\"Growth Rate\"], \"y\": [0.8371678022477403], \"yaxis\": \"y2\"}, {\"error_y\": {\"array\": [0.03920629020905885, 0.04799684284723735, 0.06339106000512007, 0.014825783060944045], \"color\": \"black\", \"thickness\": 1.5, \"type\": \"data\", \"width\": 3}, \"marker\": {\"color\": \"rgb(167.0, 189.33333333333331, 214.33333333333334)\", \"line\": {\"color\": \"rgb(54, 146, 68)\", \"width\": 0}}, \"name\": \"6\", \"type\": \"bar\", \"x\": [\"Acetate\", \"Formate\", \"Lactate\"], \"y\": [0.8543244360112493, 1.0592595069538004, 0.6468388905028115]}, {\"error_y\": {\"array\": [0.014825783060944045], \"color\": \"black\", \"thickness\": 1.5, \"type\": \"data\", \"width\": 3}, \"marker\": {\"color\": \"rgb(167.0, 189.33333333333331, 214.33333333333334)\", \"line\": {\"color\": \"black\", \"width\": 0}}, \"name\": \"6\", \"showlegend\": false, \"type\": \"bar\", \"x\": [\"Growth Rate\"], \"y\": [0.7877538899598036], \"yaxis\": \"y2\"}, {\"error_y\": {\"array\": [0.0432707363796022, 0.02535094192959471, 0.029605669438819704, 0.022126814848360203], \"color\": \"black\", \"thickness\": 1.5, \"type\": \"data\", \"width\": 3}, \"marker\": {\"color\": \"rgb(228.33333333333334, 180.0, 170.0)\", \"line\": {\"color\": \"rgb(54, 146, 68)\", \"width\": 0}}, \"name\": \"9\", \"type\": \"bar\", \"x\": [\"Acetate\", \"Formate\", \"Lactate\"], \"y\": [0.6857645959211721, 0.8207157968466301, 0.7855231463598403]}, {\"error_y\": {\"array\": [0.022126814848360203], \"color\": \"black\", \"thickness\": 1.5, \"type\": \"data\", \"width\": 3}, \"marker\": {\"color\": \"rgb(228.33333333333334, 180.0, 170.0)\", \"line\": {\"color\": \"black\", \"width\": 0}}, \"name\": \"9\", \"showlegend\": false, \"type\": \"bar\", \"x\": [\"Growth Rate\"], \"y\": [0.7452009187845562], \"yaxis\": \"y2\"}, {\"error_y\": {\"array\": [0.0603280498392568, 0.06310269468569016, 0.06477507466913478, 0.01108739303805999], \"color\": \"black\", \"thickness\": 1.5, \"type\": \"data\", \"width\": 3}, \"marker\": {\"color\": \"rgb(222.66666666666666, 126.0, 106.0)\", \"line\": {\"color\": \"rgb(54, 146, 68)\", \"width\": 0}}, \"name\": \"12\", \"type\": \"bar\", \"x\": [\"Acetate\", \"Formate\", \"Lactate\"], \"y\": [0.6566528338723254, 0.7815522072804569, 0.7888748154298689]}, {\"error_y\": {\"array\": [0.01108739303805999], \"color\": \"black\", \"thickness\": 1.5, \"type\": \"data\", \"width\": 3}, \"marker\": {\"color\": \"rgb(222.66666666666666, 126.0, 106.0)\", \"line\": {\"color\": \"black\", \"width\": 0}}, \"name\": \"12\", \"showlegend\": false, \"type\": \"bar\", \"x\": [\"Growth Rate\"], \"y\": [0.8169789246628222], \"yaxis\": \"y2\"}, {\"error_y\": {\"array\": [0.05888148500001109, 0.0692787203509763, 0.07314291578345568, 0.013184701223092421], \"color\": \"black\", \"thickness\": 1.5, \"type\": \"data\", \"width\": 3}, \"marker\": {\"color\": \"rgb(217.0, 72.0, 42.0)\", \"line\": {\"color\": \"rgb(54, 146, 68)\", \"width\": 0}}, \"name\": \"18\", \"type\": \"bar\", \"x\": [\"Acetate\", \"Formate\", \"Lactate\"], \"y\": [0.6677341140828211, 0.7783448679557268, 0.8175716802460359]}, {\"error_y\": {\"array\": [0.013184701223092421], \"color\": \"black\", \"thickness\": 1.5, \"type\": \"data\", \"width\": 3}, \"marker\": {\"color\": \"rgb(217.0, 72.0, 42.0)\", \"line\": {\"color\": \"black\", \"width\": 0}}, \"name\": \"18\", \"showlegend\": false, \"type\": \"bar\", \"x\": [\"Growth Rate\"], \"y\": [0.7987362152342907], \"yaxis\": \"y2\"}],                        {\"bargap\": 0.4, \"bargroupgap\": 0.1, \"height\": 450, \"legend\": {\"font\": {\"color\": \"black\", \"family\": \"Myriad Pro\", \"size\": 14}, \"orientation\": \"v\", \"x\": 1.15, \"y\": 0}, \"template\": {\"data\": {\"scatter\": [{\"type\": \"scatter\"}]}}, \"width\": 1000, \"xaxis\": {\"linecolor\": \"black\", \"linewidth\": 1, \"mirror\": true, \"nticks\": 8, \"showgrid\": false, \"showline\": true, \"side\": \"bottom\", \"tickangle\": 0, \"tickcolor\": \"black\", \"tickfont\": {\"color\": \"black\", \"family\": \"Myriad Pro\", \"size\": 16}, \"ticklen\": 4, \"ticks\": \"\", \"title\": {\"font\": {\"color\": \"black\", \"family\": \"Myriad Pro\", \"size\": 18}, \"text\": \"Product\"}, \"type\": \"category\", \"zeroline\": false}, \"yaxis\": {\"linecolor\": \"black\", \"linewidth\": 1, \"mirror\": true, \"range\": [0, 3], \"showgrid\": true, \"showline\": true, \"side\": \"left\", \"tickangle\": 0, \"tickcolor\": \"black\", \"tickfont\": {\"color\": \"black\", \"family\": \"Myriad Pro\", \"size\": 16}, \"ticklen\": 4, \"ticks\": \"outside\", \"title\": {\"font\": {\"color\": \"black\", \"family\": \"Myriad Pro\", \"size\": 18}, \"text\": \"Product Yield<br>(mmol Product/mmol Glucose)\"}, \"zeroline\": false}, \"yaxis2\": {\"anchor\": \"x\", \"linecolor\": \"black\", \"linewidth\": 1, \"mirror\": true, \"nticks\": 6, \"overlaying\": \"y\", \"range\": [0, 1.5], \"showgrid\": true, \"showline\": true, \"side\": \"right\", \"tickangle\": 0, \"tickcolor\": \"black\", \"tickfont\": {\"color\": \"black\", \"family\": \"Myriad Pro\", \"size\": 16}, \"ticklen\": 4, \"ticks\": \"outside\", \"title\": {\"font\": {\"color\": \"black\", \"family\": \"Myriad Pro\", \"size\": 18}, \"text\": \"Biomass Yield<br>(g Biomass/g Glucose)\"}, \"zeroline\": false}},                        {\"responsive\": true}                    ).then(function(){\n",
       "                            \n",
       "var gd = document.getElementById('a5fe253b-476f-4f18-9f92-43c1a5c16f37');\n",
       "var x = new MutationObserver(function (mutations, observer) {{\n",
       "        var display = window.getComputedStyle(gd).display;\n",
       "        if (!display || display === 'none') {{\n",
       "            console.log([gd, 'removed!']);\n",
       "            Plotly.purge(gd);\n",
       "            observer.disconnect();\n",
       "        }}\n",
       "}});\n",
       "\n",
       "// Listen for the removal of the full notebook cells\n",
       "var notebookContainer = gd.closest('#notebook-container');\n",
       "if (notebookContainer) {{\n",
       "    x.observe(notebookContainer, {childList: true});\n",
       "}}\n",
       "\n",
       "// Listen for the clearing of the current output cell\n",
       "var outputEl = gd.closest('.output');\n",
       "if (outputEl) {{\n",
       "    x.observe(outputEl, {childList: true});\n",
       "}}\n",
       "\n",
       "                        })                };                });            </script>        </div>"
      ]
     },
     "metadata": {},
     "output_type": "display_data"
    },
    {
     "data": {
      "application/vnd.plotly.v1+json": {
       "config": {
        "linkText": "Export to plot.ly",
        "plotlyServerURL": "https://plot.ly",
        "showLink": false
       },
       "data": [
        {
         "marker": {
          "color": "rgb(54, 146, 68)",
          "line": {
           "color": "black",
           "width": 0
          }
         },
         "name": "Bioreactor",
         "showlegend": true,
         "type": "bar",
         "x": [
          "Pyruvate",
          "Succinate"
         ],
         "y": [
          0.041742328954125996,
          0.030297716512120546
         ]
        },
        {
         "error_y": {
          "array": [
           null,
           null
          ],
          "color": "black",
          "thickness": 1.5,
          "type": "data",
          "width": 3
         },
         "marker": {
          "color": "rgb(33.0, 100.0, 175.0)",
          "line": {
           "color": "black",
           "width": 0
          }
         },
         "name": "1.5",
         "showlegend": true,
         "type": "bar",
         "x": [
          "Pyruvate",
          "Succinate"
         ],
         "y": [
          0,
          0
         ]
        },
        {
         "error_y": {
          "array": [
           null,
           0.005681167834441147
          ],
          "color": "black",
          "thickness": 1.5,
          "type": "data",
          "width": 3
         },
         "marker": {
          "color": "rgb(100.0, 144.66666666666666, 194.66666666666666)",
          "line": {
           "color": "black",
           "width": 0
          }
         },
         "name": "3",
         "showlegend": true,
         "type": "bar",
         "x": [
          "Pyruvate",
          "Succinate"
         ],
         "y": [
          0,
          0.0466769763962513
         ]
        },
        {
         "error_y": {
          "array": [
           0.0074560237801328645,
           0.0023043276222728306
          ],
          "color": "black",
          "thickness": 1.5,
          "type": "data",
          "width": 3
         },
         "marker": {
          "color": "rgb(167.0, 189.33333333333331, 214.33333333333334)",
          "line": {
           "color": "black",
           "width": 0
          }
         },
         "name": "6",
         "showlegend": true,
         "type": "bar",
         "x": [
          "Pyruvate",
          "Succinate"
         ],
         "y": [
          0.15750132598420888,
          0.04499949981859183
         ]
        },
        {
         "error_y": {
          "array": [
           0.008386602473921827,
           0.0030637840434295763
          ],
          "color": "black",
          "thickness": 1.5,
          "type": "data",
          "width": 3
         },
         "marker": {
          "color": "rgb(228.33333333333334, 180.0, 170.0)",
          "line": {
           "color": "black",
           "width": 0
          }
         },
         "name": "9",
         "showlegend": true,
         "type": "bar",
         "x": [
          "Pyruvate",
          "Succinate"
         ],
         "y": [
          0.22212387196174513,
          0.03533760886222123
         ]
        },
        {
         "error_y": {
          "array": [
           0.0235371643127629,
           0.0033952085144009245
          ],
          "color": "black",
          "thickness": 1.5,
          "type": "data",
          "width": 3
         },
         "marker": {
          "color": "rgb(222.66666666666666, 126.0, 106.0)",
          "line": {
           "color": "black",
           "width": 0
          }
         },
         "name": "12",
         "showlegend": true,
         "type": "bar",
         "x": [
          "Pyruvate",
          "Succinate"
         ],
         "y": [
          0.2507470314281738,
          0.0364515518700103
         ]
        },
        {
         "error_y": {
          "array": [
           0.027298242151850706,
           0.003260097463979206
          ],
          "color": "black",
          "thickness": 1.5,
          "type": "data",
          "width": 3
         },
         "marker": {
          "color": "rgb(217.0, 72.0, 42.0)",
          "line": {
           "color": "black",
           "width": 0
          }
         },
         "name": "18",
         "showlegend": true,
         "type": "bar",
         "x": [
          "Pyruvate",
          "Succinate"
         ],
         "y": [
          0.2710016168286836,
          0.03543458442676866
         ]
        }
       ],
       "layout": {
        "bargap": 0.4,
        "bargroupgap": 0.1,
        "height": 400,
        "legend": {
         "font": {
          "color": "black",
          "family": "Myriad Pro",
          "size": 14
         },
         "orientation": "v",
         "x": 1.05,
         "y": 0
        },
        "showlegend": false,
        "template": {
         "data": {
          "scatter": [
           {
            "type": "scatter"
           }
          ]
         }
        },
        "width": 475,
        "xaxis": {
         "linecolor": "black",
         "linewidth": 1,
         "mirror": true,
         "nticks": 8,
         "showgrid": false,
         "showline": true,
         "side": "bottom",
         "tickangle": 0,
         "tickcolor": "black",
         "tickfont": {
          "color": "black",
          "family": "Myriad Pro",
          "size": 16
         },
         "ticklen": 4,
         "ticks": "",
         "title": {
          "font": {
           "color": "black",
           "family": "Myriad Pro",
           "size": 18
          },
          "text": "Product"
         },
         "type": "category",
         "zeroline": false
        },
        "yaxis": {
         "linecolor": "black",
         "linewidth": 1,
         "mirror": true,
         "range": [
          0,
          0.5
         ],
         "showgrid": true,
         "showline": true,
         "side": "left",
         "tickangle": 0,
         "tickcolor": "black",
         "tickfont": {
          "color": "black",
          "family": "Myriad Pro",
          "size": 16
         },
         "ticklen": 4,
         "ticks": "outside",
         "title": {
          "font": {
           "color": "black",
           "family": "Myriad Pro",
           "size": 18
          },
          "text": "Product Yield<br>(mmol Product/mmol Glucose)"
         },
         "zeroline": false
        }
       }
      },
      "text/html": [
       "<div>                            <div id=\"565cacd7-53e3-40b2-a036-401ac191e174\" class=\"plotly-graph-div\" style=\"height:400px; width:475px;\"></div>            <script type=\"text/javascript\">                require([\"plotly\"], function(Plotly) {                    window.PLOTLYENV=window.PLOTLYENV || {};                                    if (document.getElementById(\"565cacd7-53e3-40b2-a036-401ac191e174\")) {                    Plotly.newPlot(                        \"565cacd7-53e3-40b2-a036-401ac191e174\",                        [{\"marker\": {\"color\": \"rgb(54, 146, 68)\", \"line\": {\"color\": \"black\", \"width\": 0}}, \"name\": \"Bioreactor\", \"showlegend\": true, \"type\": \"bar\", \"x\": [\"Pyruvate\", \"Succinate\"], \"y\": [0.041742328954125996, 0.030297716512120546]}, {\"error_y\": {\"array\": [null, null], \"color\": \"black\", \"thickness\": 1.5, \"type\": \"data\", \"width\": 3}, \"marker\": {\"color\": \"rgb(33.0, 100.0, 175.0)\", \"line\": {\"color\": \"black\", \"width\": 0}}, \"name\": \"1.5\", \"showlegend\": true, \"type\": \"bar\", \"x\": [\"Pyruvate\", \"Succinate\"], \"y\": [0.0, 0.0]}, {\"error_y\": {\"array\": [null, 0.005681167834441147], \"color\": \"black\", \"thickness\": 1.5, \"type\": \"data\", \"width\": 3}, \"marker\": {\"color\": \"rgb(100.0, 144.66666666666666, 194.66666666666666)\", \"line\": {\"color\": \"black\", \"width\": 0}}, \"name\": \"3\", \"showlegend\": true, \"type\": \"bar\", \"x\": [\"Pyruvate\", \"Succinate\"], \"y\": [0.0, 0.0466769763962513]}, {\"error_y\": {\"array\": [0.0074560237801328645, 0.0023043276222728306], \"color\": \"black\", \"thickness\": 1.5, \"type\": \"data\", \"width\": 3}, \"marker\": {\"color\": \"rgb(167.0, 189.33333333333331, 214.33333333333334)\", \"line\": {\"color\": \"black\", \"width\": 0}}, \"name\": \"6\", \"showlegend\": true, \"type\": \"bar\", \"x\": [\"Pyruvate\", \"Succinate\"], \"y\": [0.15750132598420888, 0.04499949981859183]}, {\"error_y\": {\"array\": [0.008386602473921827, 0.0030637840434295763], \"color\": \"black\", \"thickness\": 1.5, \"type\": \"data\", \"width\": 3}, \"marker\": {\"color\": \"rgb(228.33333333333334, 180.0, 170.0)\", \"line\": {\"color\": \"black\", \"width\": 0}}, \"name\": \"9\", \"showlegend\": true, \"type\": \"bar\", \"x\": [\"Pyruvate\", \"Succinate\"], \"y\": [0.22212387196174513, 0.03533760886222123]}, {\"error_y\": {\"array\": [0.0235371643127629, 0.0033952085144009245], \"color\": \"black\", \"thickness\": 1.5, \"type\": \"data\", \"width\": 3}, \"marker\": {\"color\": \"rgb(222.66666666666666, 126.0, 106.0)\", \"line\": {\"color\": \"black\", \"width\": 0}}, \"name\": \"12\", \"showlegend\": true, \"type\": \"bar\", \"x\": [\"Pyruvate\", \"Succinate\"], \"y\": [0.2507470314281738, 0.0364515518700103]}, {\"error_y\": {\"array\": [0.027298242151850706, 0.003260097463979206], \"color\": \"black\", \"thickness\": 1.5, \"type\": \"data\", \"width\": 3}, \"marker\": {\"color\": \"rgb(217.0, 72.0, 42.0)\", \"line\": {\"color\": \"black\", \"width\": 0}}, \"name\": \"18\", \"showlegend\": true, \"type\": \"bar\", \"x\": [\"Pyruvate\", \"Succinate\"], \"y\": [0.2710016168286836, 0.03543458442676866]}],                        {\"bargap\": 0.4, \"bargroupgap\": 0.1, \"height\": 400, \"legend\": {\"font\": {\"color\": \"black\", \"family\": \"Myriad Pro\", \"size\": 14}, \"orientation\": \"v\", \"x\": 1.05, \"y\": 0}, \"showlegend\": false, \"template\": {\"data\": {\"scatter\": [{\"type\": \"scatter\"}]}}, \"width\": 475, \"xaxis\": {\"linecolor\": \"black\", \"linewidth\": 1, \"mirror\": true, \"nticks\": 8, \"showgrid\": false, \"showline\": true, \"side\": \"bottom\", \"tickangle\": 0, \"tickcolor\": \"black\", \"tickfont\": {\"color\": \"black\", \"family\": \"Myriad Pro\", \"size\": 16}, \"ticklen\": 4, \"ticks\": \"\", \"title\": {\"font\": {\"color\": \"black\", \"family\": \"Myriad Pro\", \"size\": 18}, \"text\": \"Product\"}, \"type\": \"category\", \"zeroline\": false}, \"yaxis\": {\"linecolor\": \"black\", \"linewidth\": 1, \"mirror\": true, \"range\": [0, 0.5], \"showgrid\": true, \"showline\": true, \"side\": \"left\", \"tickangle\": 0, \"tickcolor\": \"black\", \"tickfont\": {\"color\": \"black\", \"family\": \"Myriad Pro\", \"size\": 16}, \"ticklen\": 4, \"ticks\": \"outside\", \"title\": {\"font\": {\"color\": \"black\", \"family\": \"Myriad Pro\", \"size\": 18}, \"text\": \"Product Yield<br>(mmol Product/mmol Glucose)\"}, \"zeroline\": false}},                        {\"responsive\": true}                    ).then(function(){\n",
       "                            \n",
       "var gd = document.getElementById('565cacd7-53e3-40b2-a036-401ac191e174');\n",
       "var x = new MutationObserver(function (mutations, observer) {{\n",
       "        var display = window.getComputedStyle(gd).display;\n",
       "        if (!display || display === 'none') {{\n",
       "            console.log([gd, 'removed!']);\n",
       "            Plotly.purge(gd);\n",
       "            observer.disconnect();\n",
       "        }}\n",
       "}});\n",
       "\n",
       "// Listen for the removal of the full notebook cells\n",
       "var notebookContainer = gd.closest('#notebook-container');\n",
       "if (notebookContainer) {{\n",
       "    x.observe(notebookContainer, {childList: true});\n",
       "}}\n",
       "\n",
       "// Listen for the clearing of the current output cell\n",
       "var outputEl = gd.closest('.output');\n",
       "if (outputEl) {{\n",
       "    x.observe(outputEl, {childList: true});\n",
       "}}\n",
       "\n",
       "                        })                };                });            </script>        </div>"
      ]
     },
     "metadata": {},
     "output_type": "display_data"
    }
   ],
   "source": [
    "strain_list = ['WT']\n",
    "analyte_list = ['Acetate', 'Formate', 'Lactate', 'Growth Rate', 'Pyruvate', 'Succinate', 'Growth Rate']\n",
    "condition_list = ['RDM + 1.5 g/L glc', 'RDM + 3.0 g/L glc', 'RDM + 6.0 g/L glc', 'RDM + 9.0 g/L glc', 'RDM + 12.0 g/L glc', 'RDM + 18.0 g/L glc']\n",
    "condition_titles = ['1.5', '3', '6', '9', '12', '18']\n",
    "\n",
    "colors = ['rgb'+str(color) for color in plotly.colors.n_colors((33,100,175), (234,234,234), 4)][:-1]\n",
    "colors = colors + ['rgb'+str(color) for color in plotly.colors.n_colors((234,234,234), (217,72,42), 4)][1:]\n",
    "\n",
    "od_timepoint = 8\n",
    "hplc_timepoint = 8\n",
    "pts_per_hour = 6\n",
    "ranges= [[(0,3), (0,0.35), (0,1.5)]]\n",
    "\n",
    "for j,strain in enumerate(strain_list):\n",
    "    if strain=='WT':\n",
    "        \n",
    "        print(strain)\n",
    "        trace_list = []\n",
    "        rep = [rep for rep in reactor.replicate_trials if rep.trial_identifier.strain.name == strain][0]\n",
    "        x = [analyte for analyte in analyte_list]\n",
    "        y, yerrs = yield_calculator((rep,rep), od_timepoint=od_timepoint, hplc_timepoint=hplc_timepoint)\n",
    "        \n",
    "        trace_list.append(go.Bar(x=x[:-4],\n",
    "                         y=y[:-4],\n",
    "                         marker=dict(color='rgb(54, 146, 68)', line=dict(width=0, color='rgb(54, 146, 68)')),\n",
    "                         name='Bioreactor'))\n",
    "\n",
    "        trace_list.append(go.Bar(x=x[-4:-3],\n",
    "                         y=y[-4:-3],\n",
    "                         marker=dict(color='rgb(54, 146, 68)', line=dict(width=0, color='black')),showlegend=False,\n",
    "                         name='Bioreactor', yaxis='y2'))\n",
    "        \n",
    "        for i, condition in enumerate(condition_list):\n",
    "            od_rep = [rep for rep in glc_od.replicate_trials if str(rep.trial_identifier.media)==condition_list[i] and rep.trial_identifier.strain.name==strain][0]\n",
    "            hplc_rep = [rep for rep in glc_titers.replicate_trials if str(rep.trial_identifier.media)==condition_list[i] and rep.trial_identifier.strain.name==strain][0]\n",
    "            y, y_errs = yield_calculator((od_rep,hplc_rep), od_timepoint=-1, hplc_timepoint=-1)\n",
    "\n",
    "            trace_list.append(go.Bar(x=x[:-4],\n",
    "                                     y=y[:-4],\n",
    "                                     error_y=dict(type='data', array=y_errs[:-3], thickness=1.5, width=3, color='black'),\n",
    "                                     marker=dict(color=colors[i], line=dict(width=0, color='rgb(54, 146, 68)')),\n",
    "                                     name=condition_titles[i]))\n",
    "            trace_list.append(go.Bar(x=x[-4:-3],\n",
    "                 y=y[-4:-3],\n",
    "                 error_y=dict(type='data', array=y_errs[-4:-3], thickness=1.5, width=3, color='black'),\n",
    "                 marker=dict(color=colors[i], line=dict(width=0, color='black')),showlegend=False,\n",
    "                 yaxis='y2',\n",
    "                 name=condition_titles[i]))\n",
    "\n",
    "        layout = go.Layout(height=450, width=1000, legend_x= 1.15, bargroupgap=0.1, bargap=0.4,\n",
    "                           legend_orientation='v',legend_y=-0, legend_font=dict(family='Myriad Pro', color='black', size=14),\n",
    "\n",
    "                           xaxis=dict(title='Product', type='category',\n",
    "                                      titlefont=dict(family='Myriad Pro', size=18, color='black'),\n",
    "                                      showline=True, linewidth=1, linecolor='black', mirror=True, side='bottom',\n",
    "                                      ticks='', ticklen=4, tickangle=0, nticks=8,\n",
    "                                      tickfont=dict(size=16, family='Myriad Pro', color='black'), tickcolor='black',\n",
    "                                      showgrid=False,zeroline=False),\n",
    "\n",
    "                           yaxis=dict(title='Product Yield<br>(mmol Product/mmol Glucose)',\n",
    "                                      titlefont=dict(family='Myriad Pro', size=18, color='black'),\n",
    "                                      showline=True, linewidth=1, linecolor='black', mirror=True, range=ranges[j][0],\n",
    "                                      ticks='outside', ticklen=4, tickangle=0, side='left',\n",
    "                                      tickfont=dict(family='Myriad Pro',size=16, color='black'), tickcolor='black', \n",
    "                                      showgrid=True,zeroline=False),\n",
    "                          \n",
    "                          yaxis2=dict(title='Biomass Yield<br>(g Biomass/g Glucose)',\n",
    "                                      titlefont=dict(family='Myriad Pro', size=18, color='black'),\n",
    "                                      showline=True, linewidth=1, linecolor='black', mirror=True, range=ranges[j][2],\n",
    "                                      ticks='outside', ticklen=4, tickangle=0, side='right', anchor='x', overlaying='y', nticks=6,\n",
    "                                      tickfont=dict(family='Myriad Pro',size=16, color='black'), tickcolor='black', \n",
    "                                      showgrid=True,zeroline=False))\n",
    "\n",
    "        if trace_list:\n",
    "            fig = go.Figure(data=trace_list, layout=layout)\n",
    "            plot(fig)#, image='svg')\n",
    "            #pio.write_image(fig,\"Figures/si_fig_6_\"+strain+\".svg\",format='svg')\n",
    "            \n",
    "        trace_list = []\n",
    "        rep = [rep for rep in reactor.replicate_trials if rep.trial_identifier.strain.name == strain][0]\n",
    "        y, yerrs = yield_calculator((rep,rep), od_timepoint=od_timepoint, hplc_timepoint=hplc_timepoint)\n",
    "        \n",
    "        trace_list.append(go.Bar(x=x[-3:-1],\n",
    "                                 y=y[-3:-1],\n",
    "                                 marker=dict(color='rgb(54, 146, 68)', line=dict(width=0, color='black')),showlegend=True,\n",
    "                                 name='Bioreactor'))\n",
    "\n",
    "\n",
    "        for i, condition in enumerate(condition_list):\n",
    "            od_rep = [rep for rep in glc_od.replicate_trials if str(rep.trial_identifier.media)==condition_list[i] and rep.trial_identifier.strain.name==strain][0]\n",
    "            hplc_rep = [rep for rep in glc_titers.replicate_trials if str(rep.trial_identifier.media)==condition_list[i] and rep.trial_identifier.strain.name==strain][0]\n",
    "            y, y_errs = yield_calculator((od_rep,hplc_rep), od_timepoint=-1, hplc_timepoint=-1)\n",
    "\n",
    "            trace_list.append(go.Bar(x=x[-3:-1],\n",
    "                             y=y[-3:-1],\n",
    "                             error_y=dict(type='data', array=y_errs[-3:-1], thickness=1.5, width=3, color='black'),\n",
    "                             marker=dict(color=colors[i], line=dict(width=0, color='black')),showlegend=True,\n",
    "                             name=condition_titles[i]))\n",
    "            \n",
    "\n",
    "\n",
    "        layout = go.Layout(height=400, width=475, legend_x= 1.05, bargroupgap=0.1, bargap=0.4, showlegend=False,\n",
    "                           legend_orientation='v',legend_y=-0, legend_font=dict(family='Myriad Pro', color='black', size=14),\n",
    "\n",
    "                           xaxis=dict(title='Product', type='category',\n",
    "                                      titlefont=dict(family='Myriad Pro', size=18, color='black'),\n",
    "                                      showline=True, linewidth=1, linecolor='black', mirror=True, side='bottom',\n",
    "                                      ticks='', ticklen=4, tickangle=0, nticks=8,\n",
    "                                      tickfont=dict(size=16, family='Myriad Pro', color='black'), tickcolor='black',\n",
    "                                      showgrid=False,zeroline=False),\n",
    "\n",
    "                           yaxis=dict(title='Product Yield<br>(mmol Product/mmol Glucose)',\n",
    "                                      titlefont=dict(family='Myriad Pro', size=18, color='black'),\n",
    "                                      showline=True, linewidth=1, linecolor='black', mirror=True, range=(0,0.5),\n",
    "                                      ticks='outside', ticklen=4, tickangle=0, side='left',\n",
    "                                      tickfont=dict(family='Myriad Pro',size=16, color='black'), tickcolor='black', \n",
    "                                      showgrid=True,zeroline=False))\n",
    "\n",
    "\n",
    "        if trace_list:\n",
    "            fig = go.Figure(data=trace_list, layout=layout)\n",
    "            plot(fig)\n",
    "            #pio.write_image(fig,\"Figures/si_fig_6_\"+strain+\".svg\",format='svg')\n",
    "\n"
   ]
  },
  {
   "cell_type": "code",
   "execution_count": 949,
   "id": "collected-southwest",
   "metadata": {
    "scrolled": false
   },
   "outputs": [
    {
     "name": "stdout",
     "output_type": "stream",
     "text": [
      "Δ(adh,pta)-D1\n"
     ]
    },
    {
     "name": "stderr",
     "output_type": "stream",
     "text": [
      "C:\\Users\\User\\anaconda3\\envs\\impact\\lib\\site-packages\\ipykernel_launcher.py:75: RuntimeWarning:\n",
      "\n",
      "invalid value encountered in double_scalars\n",
      "\n"
     ]
    },
    {
     "data": {
      "application/vnd.plotly.v1+json": {
       "config": {
        "linkText": "Export to plot.ly",
        "plotlyServerURL": "https://plot.ly",
        "showLink": false
       },
       "data": [
        {
         "marker": {
          "color": "rgb(54, 146, 68)",
          "line": {
           "color": "rgb(54, 146, 68)",
           "width": 0
          }
         },
         "name": "Bioreactor",
         "type": "bar",
         "x": [
          "Acetate",
          "Formate",
          "Lactate",
          "Pyruvate",
          "Succinate"
         ],
         "y": [
          0.023084363146880827,
          0.05622689478272353,
          1.4697791812637304,
          0.09466701597908432,
          0.06834418713319285
         ]
        },
        {
         "marker": {
          "color": "rgb(54, 146, 68)",
          "line": {
           "color": "black",
           "width": 0
          }
         },
         "name": "Bioreactor",
         "showlegend": false,
         "type": "bar",
         "x": [
          "Growth Rate"
         ],
         "y": [
          0.2784112302710221
         ],
         "yaxis": "y2"
        },
        {
         "error_y": {
          "array": [
           0.0058072786084611685,
           null,
           0.024084700290501047,
           0.013512580206084104,
           null
          ],
          "color": "black",
          "thickness": 1.5,
          "type": "data",
          "width": 3
         },
         "marker": {
          "color": "rgb(33.0, 100.0, 175.0)",
          "line": {
           "color": "rgb(54, 146, 68)",
           "width": 0
          }
         },
         "name": "1.5",
         "type": "bar",
         "x": [
          "Acetate",
          "Formate",
          "Lactate",
          "Pyruvate",
          "Succinate"
         ],
         "y": [
          0.2502835196159365,
          0,
          1.2221164387761658,
          0.5404367588878625,
          0
         ]
        },
        {
         "error_y": {
          "array": [
           0.011453666041759184
          ],
          "color": "black",
          "thickness": 1.5,
          "type": "data",
          "width": 3
         },
         "marker": {
          "color": "rgb(33.0, 100.0, 175.0)",
          "line": {
           "color": "black",
           "width": 0
          }
         },
         "name": "1.5",
         "showlegend": false,
         "type": "bar",
         "x": [
          "Growth Rate"
         ],
         "y": [
          0.5280964644496767
         ],
         "yaxis": "y2"
        },
        {
         "error_y": {
          "array": [
           0.011952163907975223,
           null,
           0.06558603946840307,
           0.029131984712208913,
           0.003529156564829563
          ],
          "color": "black",
          "thickness": 1.5,
          "type": "data",
          "width": 3
         },
         "marker": {
          "color": "rgb(100.0, 144.66666666666666, 194.66666666666666)",
          "line": {
           "color": "rgb(54, 146, 68)",
           "width": 0
          }
         },
         "name": "3",
         "type": "bar",
         "x": [
          "Acetate",
          "Formate",
          "Lactate",
          "Pyruvate",
          "Succinate"
         ],
         "y": [
          0.2008019223743304,
          0,
          1.2643096918261694,
          0.5009849891568987,
          0.06328632320223598
         ]
        },
        {
         "error_y": {
          "array": [
           0.004349251388912311
          ],
          "color": "black",
          "thickness": 1.5,
          "type": "data",
          "width": 3
         },
         "marker": {
          "color": "rgb(100.0, 144.66666666666666, 194.66666666666666)",
          "line": {
           "color": "black",
           "width": 0
          }
         },
         "name": "3",
         "showlegend": false,
         "type": "bar",
         "x": [
          "Growth Rate"
         ],
         "y": [
          0.4982078488507306
         ],
         "yaxis": "y2"
        },
        {
         "error_y": {
          "array": [
           0.004645582039934923,
           null,
           0.0705880656879895,
           0.01809293802343186,
           0.00470891733379205
          ],
          "color": "black",
          "thickness": 1.5,
          "type": "data",
          "width": 3
         },
         "marker": {
          "color": "rgb(167.0, 189.33333333333331, 214.33333333333334)",
          "line": {
           "color": "rgb(54, 146, 68)",
           "width": 0
          }
         },
         "name": "6",
         "type": "bar",
         "x": [
          "Acetate",
          "Formate",
          "Lactate",
          "Pyruvate",
          "Succinate"
         ],
         "y": [
          0.10207768884049367,
          0,
          1.5605106058825757,
          0.32856721061120586,
          0.09851903974282959
         ]
        },
        {
         "error_y": {
          "array": [
           0.00375039584103249
          ],
          "color": "black",
          "thickness": 1.5,
          "type": "data",
          "width": 3
         },
         "marker": {
          "color": "rgb(167.0, 189.33333333333331, 214.33333333333334)",
          "line": {
           "color": "black",
           "width": 0
          }
         },
         "name": "6",
         "showlegend": false,
         "type": "bar",
         "x": [
          "Growth Rate"
         ],
         "y": [
          0.5117039886348054
         ],
         "yaxis": "y2"
        },
        {
         "error_y": {
          "array": [
           0.0028197504790158476,
           null,
           0.04962830601130664,
           0.006235846740357794,
           0.0027423394015779964
          ],
          "color": "black",
          "thickness": 1.5,
          "type": "data",
          "width": 3
         },
         "marker": {
          "color": "rgb(228.33333333333334, 180.0, 170.0)",
          "line": {
           "color": "rgb(54, 146, 68)",
           "width": 0
          }
         },
         "name": "9",
         "type": "bar",
         "x": [
          "Acetate",
          "Formate",
          "Lactate",
          "Pyruvate",
          "Succinate"
         ],
         "y": [
          0.08521910008466804,
          0,
          1.6575806297892053,
          0.24405258272219427,
          0.09152200360249767
         ]
        },
        {
         "error_y": {
          "array": [
           0.015927656683473786
          ],
          "color": "black",
          "thickness": 1.5,
          "type": "data",
          "width": 3
         },
         "marker": {
          "color": "rgb(228.33333333333334, 180.0, 170.0)",
          "line": {
           "color": "black",
           "width": 0
          }
         },
         "name": "9",
         "showlegend": false,
         "type": "bar",
         "x": [
          "Growth Rate"
         ],
         "y": [
          0.4632731001381387
         ],
         "yaxis": "y2"
        },
        {
         "error_y": {
          "array": [
           0.008476553299886284,
           null,
           0.11988818650181371,
           0.021967308486268634,
           0.004849614419526432
          ],
          "color": "black",
          "thickness": 1.5,
          "type": "data",
          "width": 3
         },
         "marker": {
          "color": "rgb(222.66666666666666, 126.0, 106.0)",
          "line": {
           "color": "rgb(54, 146, 68)",
           "width": 0
          }
         },
         "name": "12",
         "type": "bar",
         "x": [
          "Acetate",
          "Formate",
          "Lactate",
          "Pyruvate",
          "Succinate"
         ],
         "y": [
          0.07113739363331321,
          0,
          1.597788125033129,
          0.26132962683309185,
          0.08134171294694689
         ]
        },
        {
         "error_y": {
          "array": [
           0.017845085445150777
          ],
          "color": "black",
          "thickness": 1.5,
          "type": "data",
          "width": 3
         },
         "marker": {
          "color": "rgb(222.66666666666666, 126.0, 106.0)",
          "line": {
           "color": "black",
           "width": 0
          }
         },
         "name": "12",
         "showlegend": false,
         "type": "bar",
         "x": [
          "Growth Rate"
         ],
         "y": [
          0.5037734675533058
         ],
         "yaxis": "y2"
        },
        {
         "error_y": {
          "array": [
           0.00638196367332496,
           null,
           0.14967273033534076,
           0.031743541620861175,
           0.011047949907164754
          ],
          "color": "black",
          "thickness": 1.5,
          "type": "data",
          "width": 3
         },
         "marker": {
          "color": "rgb(217.0, 72.0, 42.0)",
          "line": {
           "color": "rgb(54, 146, 68)",
           "width": 0
          }
         },
         "name": "18",
         "type": "bar",
         "x": [
          "Acetate",
          "Formate",
          "Lactate",
          "Pyruvate",
          "Succinate"
         ],
         "y": [
          0.06826431812346644,
          0,
          1.6229511203731442,
          0.2861911565583585,
          0.08041498605937678
         ]
        },
        {
         "error_y": {
          "array": [
           0.0035508839727366455
          ],
          "color": "black",
          "thickness": 1.5,
          "type": "data",
          "width": 3
         },
         "marker": {
          "color": "rgb(217.0, 72.0, 42.0)",
          "line": {
           "color": "black",
           "width": 0
          }
         },
         "name": "18",
         "showlegend": false,
         "type": "bar",
         "x": [
          "Growth Rate"
         ],
         "y": [
          0.4974292973176158
         ],
         "yaxis": "y2"
        }
       ],
       "layout": {
        "bargap": 0.4,
        "bargroupgap": 0.1,
        "height": 425,
        "legend": {
         "font": {
          "color": "black",
          "family": "Myriad Pro",
          "size": 14
         },
         "orientation": "h",
         "x": 0.2,
         "y": -0.2
        },
        "template": {
         "data": {
          "scatter": [
           {
            "type": "scatter"
           }
          ]
         }
        },
        "width": 1000,
        "xaxis": {
         "linecolor": "black",
         "linewidth": 1,
         "mirror": true,
         "nticks": 8,
         "showgrid": false,
         "showline": true,
         "side": "bottom",
         "tickangle": 0,
         "tickcolor": "black",
         "tickfont": {
          "color": "black",
          "family": "Myriad Pro",
          "size": 16
         },
         "ticklen": 4,
         "ticks": "outside",
         "title": {
          "font": {
           "color": "black",
           "family": "Myriad Pro",
           "size": 18
          },
          "standoff": 5,
          "text": "Product"
         },
         "zeroline": false
        },
        "yaxis": {
         "linecolor": "black",
         "linewidth": 1,
         "mirror": true,
         "range": [
          0,
          2.5
         ],
         "showgrid": true,
         "showline": true,
         "side": "left",
         "tickangle": 0,
         "tickcolor": "black",
         "tickfont": {
          "color": "black",
          "family": "Myriad Pro",
          "size": 16
         },
         "ticklen": 4,
         "ticks": "outside",
         "title": {
          "font": {
           "color": "black",
           "family": "Myriad Pro",
           "size": 18
          },
          "text": "Product Yield<br>(mmol Product/mmol Glucose)"
         },
         "zeroline": false
        },
        "yaxis2": {
         "anchor": "x",
         "linecolor": "black",
         "linewidth": 1,
         "mirror": true,
         "overlaying": "y",
         "range": [
          0,
          1
         ],
         "showgrid": true,
         "showline": true,
         "side": "right",
         "tickangle": 0,
         "tickcolor": "black",
         "tickfont": {
          "color": "black",
          "family": "Myriad Pro",
          "size": 16
         },
         "ticklen": 4,
         "ticks": "outside",
         "title": {
          "font": {
           "color": "black",
           "family": "Myriad Pro",
           "size": 18
          },
          "text": "Biomass Yield<br>(g Biomass/g Glucose)"
         },
         "zeroline": false
        }
       }
      },
      "text/html": [
       "<div>                            <div id=\"c8f9d8f7-8bbb-4e69-a643-9b1a828097a2\" class=\"plotly-graph-div\" style=\"height:425px; width:1000px;\"></div>            <script type=\"text/javascript\">                require([\"plotly\"], function(Plotly) {                    window.PLOTLYENV=window.PLOTLYENV || {};                                    if (document.getElementById(\"c8f9d8f7-8bbb-4e69-a643-9b1a828097a2\")) {                    Plotly.newPlot(                        \"c8f9d8f7-8bbb-4e69-a643-9b1a828097a2\",                        [{\"marker\": {\"color\": \"rgb(54, 146, 68)\", \"line\": {\"color\": \"rgb(54, 146, 68)\", \"width\": 0}}, \"name\": \"Bioreactor\", \"type\": \"bar\", \"x\": [\"Acetate\", \"Formate\", \"Lactate\", \"Pyruvate\", \"Succinate\"], \"y\": [0.023084363146880827, 0.05622689478272353, 1.4697791812637304, 0.09466701597908432, 0.06834418713319285]}, {\"marker\": {\"color\": \"rgb(54, 146, 68)\", \"line\": {\"color\": \"black\", \"width\": 0}}, \"name\": \"Bioreactor\", \"showlegend\": false, \"type\": \"bar\", \"x\": [\"Growth Rate\"], \"y\": [0.2784112302710221], \"yaxis\": \"y2\"}, {\"error_y\": {\"array\": [0.0058072786084611685, null, 0.024084700290501047, 0.013512580206084104, null], \"color\": \"black\", \"thickness\": 1.5, \"type\": \"data\", \"width\": 3}, \"marker\": {\"color\": \"rgb(33.0, 100.0, 175.0)\", \"line\": {\"color\": \"rgb(54, 146, 68)\", \"width\": 0}}, \"name\": \"1.5\", \"type\": \"bar\", \"x\": [\"Acetate\", \"Formate\", \"Lactate\", \"Pyruvate\", \"Succinate\"], \"y\": [0.2502835196159365, 0.0, 1.2221164387761658, 0.5404367588878625, 0.0]}, {\"error_y\": {\"array\": [0.011453666041759184], \"color\": \"black\", \"thickness\": 1.5, \"type\": \"data\", \"width\": 3}, \"marker\": {\"color\": \"rgb(33.0, 100.0, 175.0)\", \"line\": {\"color\": \"black\", \"width\": 0}}, \"name\": \"1.5\", \"showlegend\": false, \"type\": \"bar\", \"x\": [\"Growth Rate\"], \"y\": [0.5280964644496767], \"yaxis\": \"y2\"}, {\"error_y\": {\"array\": [0.011952163907975223, null, 0.06558603946840307, 0.029131984712208913, 0.003529156564829563], \"color\": \"black\", \"thickness\": 1.5, \"type\": \"data\", \"width\": 3}, \"marker\": {\"color\": \"rgb(100.0, 144.66666666666666, 194.66666666666666)\", \"line\": {\"color\": \"rgb(54, 146, 68)\", \"width\": 0}}, \"name\": \"3\", \"type\": \"bar\", \"x\": [\"Acetate\", \"Formate\", \"Lactate\", \"Pyruvate\", \"Succinate\"], \"y\": [0.2008019223743304, 0.0, 1.2643096918261694, 0.5009849891568987, 0.06328632320223598]}, {\"error_y\": {\"array\": [0.004349251388912311], \"color\": \"black\", \"thickness\": 1.5, \"type\": \"data\", \"width\": 3}, \"marker\": {\"color\": \"rgb(100.0, 144.66666666666666, 194.66666666666666)\", \"line\": {\"color\": \"black\", \"width\": 0}}, \"name\": \"3\", \"showlegend\": false, \"type\": \"bar\", \"x\": [\"Growth Rate\"], \"y\": [0.4982078488507306], \"yaxis\": \"y2\"}, {\"error_y\": {\"array\": [0.004645582039934923, null, 0.0705880656879895, 0.01809293802343186, 0.00470891733379205], \"color\": \"black\", \"thickness\": 1.5, \"type\": \"data\", \"width\": 3}, \"marker\": {\"color\": \"rgb(167.0, 189.33333333333331, 214.33333333333334)\", \"line\": {\"color\": \"rgb(54, 146, 68)\", \"width\": 0}}, \"name\": \"6\", \"type\": \"bar\", \"x\": [\"Acetate\", \"Formate\", \"Lactate\", \"Pyruvate\", \"Succinate\"], \"y\": [0.10207768884049367, 0.0, 1.5605106058825757, 0.32856721061120586, 0.09851903974282959]}, {\"error_y\": {\"array\": [0.00375039584103249], \"color\": \"black\", \"thickness\": 1.5, \"type\": \"data\", \"width\": 3}, \"marker\": {\"color\": \"rgb(167.0, 189.33333333333331, 214.33333333333334)\", \"line\": {\"color\": \"black\", \"width\": 0}}, \"name\": \"6\", \"showlegend\": false, \"type\": \"bar\", \"x\": [\"Growth Rate\"], \"y\": [0.5117039886348054], \"yaxis\": \"y2\"}, {\"error_y\": {\"array\": [0.0028197504790158476, null, 0.04962830601130664, 0.006235846740357794, 0.0027423394015779964], \"color\": \"black\", \"thickness\": 1.5, \"type\": \"data\", \"width\": 3}, \"marker\": {\"color\": \"rgb(228.33333333333334, 180.0, 170.0)\", \"line\": {\"color\": \"rgb(54, 146, 68)\", \"width\": 0}}, \"name\": \"9\", \"type\": \"bar\", \"x\": [\"Acetate\", \"Formate\", \"Lactate\", \"Pyruvate\", \"Succinate\"], \"y\": [0.08521910008466804, 0.0, 1.6575806297892053, 0.24405258272219427, 0.09152200360249767]}, {\"error_y\": {\"array\": [0.015927656683473786], \"color\": \"black\", \"thickness\": 1.5, \"type\": \"data\", \"width\": 3}, \"marker\": {\"color\": \"rgb(228.33333333333334, 180.0, 170.0)\", \"line\": {\"color\": \"black\", \"width\": 0}}, \"name\": \"9\", \"showlegend\": false, \"type\": \"bar\", \"x\": [\"Growth Rate\"], \"y\": [0.4632731001381387], \"yaxis\": \"y2\"}, {\"error_y\": {\"array\": [0.008476553299886284, null, 0.11988818650181371, 0.021967308486268634, 0.004849614419526432], \"color\": \"black\", \"thickness\": 1.5, \"type\": \"data\", \"width\": 3}, \"marker\": {\"color\": \"rgb(222.66666666666666, 126.0, 106.0)\", \"line\": {\"color\": \"rgb(54, 146, 68)\", \"width\": 0}}, \"name\": \"12\", \"type\": \"bar\", \"x\": [\"Acetate\", \"Formate\", \"Lactate\", \"Pyruvate\", \"Succinate\"], \"y\": [0.07113739363331321, 0.0, 1.597788125033129, 0.26132962683309185, 0.08134171294694689]}, {\"error_y\": {\"array\": [0.017845085445150777], \"color\": \"black\", \"thickness\": 1.5, \"type\": \"data\", \"width\": 3}, \"marker\": {\"color\": \"rgb(222.66666666666666, 126.0, 106.0)\", \"line\": {\"color\": \"black\", \"width\": 0}}, \"name\": \"12\", \"showlegend\": false, \"type\": \"bar\", \"x\": [\"Growth Rate\"], \"y\": [0.5037734675533058], \"yaxis\": \"y2\"}, {\"error_y\": {\"array\": [0.00638196367332496, null, 0.14967273033534076, 0.031743541620861175, 0.011047949907164754], \"color\": \"black\", \"thickness\": 1.5, \"type\": \"data\", \"width\": 3}, \"marker\": {\"color\": \"rgb(217.0, 72.0, 42.0)\", \"line\": {\"color\": \"rgb(54, 146, 68)\", \"width\": 0}}, \"name\": \"18\", \"type\": \"bar\", \"x\": [\"Acetate\", \"Formate\", \"Lactate\", \"Pyruvate\", \"Succinate\"], \"y\": [0.06826431812346644, 0.0, 1.6229511203731442, 0.2861911565583585, 0.08041498605937678]}, {\"error_y\": {\"array\": [0.0035508839727366455], \"color\": \"black\", \"thickness\": 1.5, \"type\": \"data\", \"width\": 3}, \"marker\": {\"color\": \"rgb(217.0, 72.0, 42.0)\", \"line\": {\"color\": \"black\", \"width\": 0}}, \"name\": \"18\", \"showlegend\": false, \"type\": \"bar\", \"x\": [\"Growth Rate\"], \"y\": [0.4974292973176158], \"yaxis\": \"y2\"}],                        {\"bargap\": 0.4, \"bargroupgap\": 0.1, \"height\": 425, \"legend\": {\"font\": {\"color\": \"black\", \"family\": \"Myriad Pro\", \"size\": 14}, \"orientation\": \"h\", \"x\": 0.2, \"y\": -0.2}, \"template\": {\"data\": {\"scatter\": [{\"type\": \"scatter\"}]}}, \"width\": 1000, \"xaxis\": {\"linecolor\": \"black\", \"linewidth\": 1, \"mirror\": true, \"nticks\": 8, \"showgrid\": false, \"showline\": true, \"side\": \"bottom\", \"tickangle\": 0, \"tickcolor\": \"black\", \"tickfont\": {\"color\": \"black\", \"family\": \"Myriad Pro\", \"size\": 16}, \"ticklen\": 4, \"ticks\": \"outside\", \"title\": {\"font\": {\"color\": \"black\", \"family\": \"Myriad Pro\", \"size\": 18}, \"standoff\": 5, \"text\": \"Product\"}, \"zeroline\": false}, \"yaxis\": {\"linecolor\": \"black\", \"linewidth\": 1, \"mirror\": true, \"range\": [0, 2.5], \"showgrid\": true, \"showline\": true, \"side\": \"left\", \"tickangle\": 0, \"tickcolor\": \"black\", \"tickfont\": {\"color\": \"black\", \"family\": \"Myriad Pro\", \"size\": 16}, \"ticklen\": 4, \"ticks\": \"outside\", \"title\": {\"font\": {\"color\": \"black\", \"family\": \"Myriad Pro\", \"size\": 18}, \"text\": \"Product Yield<br>(mmol Product/mmol Glucose)\"}, \"zeroline\": false}, \"yaxis2\": {\"anchor\": \"x\", \"linecolor\": \"black\", \"linewidth\": 1, \"mirror\": true, \"overlaying\": \"y\", \"range\": [0, 1], \"showgrid\": true, \"showline\": true, \"side\": \"right\", \"tickangle\": 0, \"tickcolor\": \"black\", \"tickfont\": {\"color\": \"black\", \"family\": \"Myriad Pro\", \"size\": 16}, \"ticklen\": 4, \"ticks\": \"outside\", \"title\": {\"font\": {\"color\": \"black\", \"family\": \"Myriad Pro\", \"size\": 18}, \"text\": \"Biomass Yield<br>(g Biomass/g Glucose)\"}, \"zeroline\": false}},                        {\"responsive\": true}                    ).then(function(){\n",
       "                            \n",
       "var gd = document.getElementById('c8f9d8f7-8bbb-4e69-a643-9b1a828097a2');\n",
       "var x = new MutationObserver(function (mutations, observer) {{\n",
       "        var display = window.getComputedStyle(gd).display;\n",
       "        if (!display || display === 'none') {{\n",
       "            console.log([gd, 'removed!']);\n",
       "            Plotly.purge(gd);\n",
       "            observer.disconnect();\n",
       "        }}\n",
       "}});\n",
       "\n",
       "// Listen for the removal of the full notebook cells\n",
       "var notebookContainer = gd.closest('#notebook-container');\n",
       "if (notebookContainer) {{\n",
       "    x.observe(notebookContainer, {childList: true});\n",
       "}}\n",
       "\n",
       "// Listen for the clearing of the current output cell\n",
       "var outputEl = gd.closest('.output');\n",
       "if (outputEl) {{\n",
       "    x.observe(outputEl, {childList: true});\n",
       "}}\n",
       "\n",
       "                        })                };                });            </script>        </div>"
      ]
     },
     "metadata": {},
     "output_type": "display_data"
    },
    {
     "name": "stdout",
     "output_type": "stream",
     "text": [
      "Δ(adh,pta)-D28\n"
     ]
    },
    {
     "data": {
      "application/vnd.plotly.v1+json": {
       "config": {
        "linkText": "Export to plot.ly",
        "plotlyServerURL": "https://plot.ly",
        "showLink": false
       },
       "data": [
        {
         "marker": {
          "color": "rgb(54, 146, 68)",
          "line": {
           "color": "rgb(54, 146, 68)",
           "width": 0
          }
         },
         "name": "Bioreactor",
         "type": "bar",
         "x": [
          "Acetate",
          "Formate",
          "Lactate",
          "Pyruvate",
          "Succinate"
         ],
         "y": [
          0.04076278880994951,
          0.06546136816937519,
          1.5859815062058398,
          0.08388433316203511,
          0.06384610484559348
         ]
        },
        {
         "marker": {
          "color": "rgb(54, 146, 68)",
          "line": {
           "color": "black",
           "width": 0
          }
         },
         "name": "Bioreactor",
         "showlegend": false,
         "type": "bar",
         "x": [
          "Growth Rate"
         ],
         "y": [
          0.3790976624510501
         ],
         "yaxis": "y2"
        },
        {
         "error_y": {
          "array": [
           0.01739181685665094,
           null,
           0.055085593816136945,
           0.043172665060814554,
           null
          ],
          "color": "black",
          "thickness": 1.5,
          "type": "data",
          "width": 3
         },
         "marker": {
          "color": "rgb(33.0, 100.0, 175.0)",
          "line": {
           "color": "rgb(54, 146, 68)",
           "width": 0
          }
         },
         "name": "1.5",
         "type": "bar",
         "x": [
          "Acetate",
          "Formate",
          "Lactate",
          "Pyruvate",
          "Succinate"
         ],
         "y": [
          0.35979687117707243,
          0,
          1.1694033457891742,
          0.6173202753843394,
          0
         ]
        },
        {
         "error_y": {
          "array": [
           0.020867433420583083
          ],
          "color": "black",
          "thickness": 1.5,
          "type": "data",
          "width": 3
         },
         "marker": {
          "color": "rgb(33.0, 100.0, 175.0)",
          "line": {
           "color": "black",
           "width": 0
          }
         },
         "name": "1.5",
         "showlegend": false,
         "type": "bar",
         "x": [
          "Growth Rate"
         ],
         "y": [
          0.6129325366129091
         ],
         "yaxis": "y2"
        },
        {
         "error_y": {
          "array": [
           0.028521414192890216,
           null,
           0.07481142172138379,
           0.03592038795369897,
           0.0038645557597954253
          ],
          "color": "black",
          "thickness": 1.5,
          "type": "data",
          "width": 3
         },
         "marker": {
          "color": "rgb(100.0, 144.66666666666666, 194.66666666666666)",
          "line": {
           "color": "rgb(54, 146, 68)",
           "width": 0
          }
         },
         "name": "3",
         "type": "bar",
         "x": [
          "Acetate",
          "Formate",
          "Lactate",
          "Pyruvate",
          "Succinate"
         ],
         "y": [
          0.30547249341448873,
          0,
          1.111581633706926,
          0.4905592551373693,
          0.06409617610501006
         ]
        },
        {
         "error_y": {
          "array": [
           0.020333325808242812
          ],
          "color": "black",
          "thickness": 1.5,
          "type": "data",
          "width": 3
         },
         "marker": {
          "color": "rgb(100.0, 144.66666666666666, 194.66666666666666)",
          "line": {
           "color": "black",
           "width": 0
          }
         },
         "name": "3",
         "showlegend": false,
         "type": "bar",
         "x": [
          "Growth Rate"
         ],
         "y": [
          0.5724183678736388
         ],
         "yaxis": "y2"
        },
        {
         "error_y": {
          "array": [
           0.006894612685798895,
           null,
           0.08404005482699717,
           0.0331315165388413,
           0.005643200234181881
          ],
          "color": "black",
          "thickness": 1.5,
          "type": "data",
          "width": 3
         },
         "marker": {
          "color": "rgb(167.0, 189.33333333333331, 214.33333333333334)",
          "line": {
           "color": "rgb(54, 146, 68)",
           "width": 0
          }
         },
         "name": "6",
         "type": "bar",
         "x": [
          "Acetate",
          "Formate",
          "Lactate",
          "Pyruvate",
          "Succinate"
         ],
         "y": [
          0.1417605528239433,
          0,
          1.3672515365668179,
          0.31812415972948754,
          0.09419874555872525
         ]
        },
        {
         "error_y": {
          "array": [
           0.005598010552350256
          ],
          "color": "black",
          "thickness": 1.5,
          "type": "data",
          "width": 3
         },
         "marker": {
          "color": "rgb(167.0, 189.33333333333331, 214.33333333333334)",
          "line": {
           "color": "black",
           "width": 0
          }
         },
         "name": "6",
         "showlegend": false,
         "type": "bar",
         "x": [
          "Growth Rate"
         ],
         "y": [
          0.5477177356545259
         ],
         "yaxis": "y2"
        },
        {
         "error_y": {
          "array": [
           0.010362654341650656,
           0.001451658812876294,
           0.13650978069313874,
           0.014752120201841619,
           0.004701358220680108
          ],
          "color": "black",
          "thickness": 1.5,
          "type": "data",
          "width": 3
         },
         "marker": {
          "color": "rgb(228.33333333333334, 180.0, 170.0)",
          "line": {
           "color": "rgb(54, 146, 68)",
           "width": 0
          }
         },
         "name": "9",
         "type": "bar",
         "x": [
          "Acetate",
          "Formate",
          "Lactate",
          "Pyruvate",
          "Succinate"
         ],
         "y": [
          0.11611778013650854,
          0.021946007301337552,
          1.530208220236068,
          0.22298736120472137,
          0.09356117203925378
         ]
        },
        {
         "error_y": {
          "array": [
           0.007700701221275943
          ],
          "color": "black",
          "thickness": 1.5,
          "type": "data",
          "width": 3
         },
         "marker": {
          "color": "rgb(228.33333333333334, 180.0, 170.0)",
          "line": {
           "color": "black",
           "width": 0
          }
         },
         "name": "9",
         "showlegend": false,
         "type": "bar",
         "x": [
          "Growth Rate"
         ],
         "y": [
          0.4625270104532111
         ],
         "yaxis": "y2"
        },
        {
         "error_y": {
          "array": [
           0.008287925249578292,
           0.0027729812895189226,
           0.13068908369219182,
           0.02115373596831419,
           0.008035664207970918
          ],
          "color": "black",
          "thickness": 1.5,
          "type": "data",
          "width": 3
         },
         "marker": {
          "color": "rgb(222.66666666666666, 126.0, 106.0)",
          "line": {
           "color": "rgb(54, 146, 68)",
           "width": 0
          }
         },
         "name": "12",
         "type": "bar",
         "x": [
          "Acetate",
          "Formate",
          "Lactate",
          "Pyruvate",
          "Succinate"
         ],
         "y": [
          0.1049477362758952,
          0.02979674319954508,
          1.6567987526255408,
          0.26607106784303997,
          0.1007553635883177
         ]
        },
        {
         "error_y": {
          "array": [
           0.008322379586987925
          ],
          "color": "black",
          "thickness": 1.5,
          "type": "data",
          "width": 3
         },
         "marker": {
          "color": "rgb(222.66666666666666, 126.0, 106.0)",
          "line": {
           "color": "black",
           "width": 0
          }
         },
         "name": "12",
         "showlegend": false,
         "type": "bar",
         "x": [
          "Growth Rate"
         ],
         "y": [
          0.47909104169392597
         ],
         "yaxis": "y2"
        },
        {
         "error_y": {
          "array": [
           0.008213893469700848,
           0.002647940336054223,
           0.13070859490934347,
           0.021349258307937664,
           0.007648850584123952
          ],
          "color": "black",
          "thickness": 1.5,
          "type": "data",
          "width": 3
         },
         "marker": {
          "color": "rgb(217.0, 72.0, 42.0)",
          "line": {
           "color": "rgb(54, 146, 68)",
           "width": 0
          }
         },
         "name": "18",
         "type": "bar",
         "x": [
          "Acetate",
          "Formate",
          "Lactate",
          "Pyruvate",
          "Succinate"
         ],
         "y": [
          0.0993358434223854,
          0.03076474281312717,
          1.5525305820874937,
          0.2789860490386946,
          0.0955947556246284
         ]
        },
        {
         "error_y": {
          "array": [
           0.010940580400702888
          ],
          "color": "black",
          "thickness": 1.5,
          "type": "data",
          "width": 3
         },
         "marker": {
          "color": "rgb(217.0, 72.0, 42.0)",
          "line": {
           "color": "black",
           "width": 0
          }
         },
         "name": "18",
         "showlegend": false,
         "type": "bar",
         "x": [
          "Growth Rate"
         ],
         "y": [
          0.49382391813933585
         ],
         "yaxis": "y2"
        }
       ],
       "layout": {
        "bargap": 0.4,
        "bargroupgap": 0.1,
        "height": 425,
        "legend": {
         "font": {
          "color": "black",
          "family": "Myriad Pro",
          "size": 14
         },
         "orientation": "h",
         "x": 0.2,
         "y": -0.2
        },
        "template": {
         "data": {
          "scatter": [
           {
            "type": "scatter"
           }
          ]
         }
        },
        "width": 1000,
        "xaxis": {
         "linecolor": "black",
         "linewidth": 1,
         "mirror": true,
         "nticks": 8,
         "showgrid": false,
         "showline": true,
         "side": "bottom",
         "tickangle": 0,
         "tickcolor": "black",
         "tickfont": {
          "color": "black",
          "family": "Myriad Pro",
          "size": 16
         },
         "ticklen": 4,
         "ticks": "outside",
         "title": {
          "font": {
           "color": "black",
           "family": "Myriad Pro",
           "size": 18
          },
          "standoff": 5,
          "text": "Product"
         },
         "zeroline": false
        },
        "yaxis": {
         "linecolor": "black",
         "linewidth": 1,
         "mirror": true,
         "range": [
          0,
          2.5
         ],
         "showgrid": true,
         "showline": true,
         "side": "left",
         "tickangle": 0,
         "tickcolor": "black",
         "tickfont": {
          "color": "black",
          "family": "Myriad Pro",
          "size": 16
         },
         "ticklen": 4,
         "ticks": "outside",
         "title": {
          "font": {
           "color": "black",
           "family": "Myriad Pro",
           "size": 18
          },
          "text": "Product Yield<br>(mmol Product/mmol Glucose)"
         },
         "zeroline": false
        },
        "yaxis2": {
         "anchor": "x",
         "linecolor": "black",
         "linewidth": 1,
         "mirror": true,
         "overlaying": "y",
         "range": [
          0,
          1
         ],
         "showgrid": true,
         "showline": true,
         "side": "right",
         "tickangle": 0,
         "tickcolor": "black",
         "tickfont": {
          "color": "black",
          "family": "Myriad Pro",
          "size": 16
         },
         "ticklen": 4,
         "ticks": "outside",
         "title": {
          "font": {
           "color": "black",
           "family": "Myriad Pro",
           "size": 18
          },
          "text": "Biomass Yield<br>(g Biomass/g Glucose)"
         },
         "zeroline": false
        }
       }
      },
      "text/html": [
       "<div>                            <div id=\"e17ec159-9696-4507-9c63-f06663ab9cf4\" class=\"plotly-graph-div\" style=\"height:425px; width:1000px;\"></div>            <script type=\"text/javascript\">                require([\"plotly\"], function(Plotly) {                    window.PLOTLYENV=window.PLOTLYENV || {};                                    if (document.getElementById(\"e17ec159-9696-4507-9c63-f06663ab9cf4\")) {                    Plotly.newPlot(                        \"e17ec159-9696-4507-9c63-f06663ab9cf4\",                        [{\"marker\": {\"color\": \"rgb(54, 146, 68)\", \"line\": {\"color\": \"rgb(54, 146, 68)\", \"width\": 0}}, \"name\": \"Bioreactor\", \"type\": \"bar\", \"x\": [\"Acetate\", \"Formate\", \"Lactate\", \"Pyruvate\", \"Succinate\"], \"y\": [0.04076278880994951, 0.06546136816937519, 1.5859815062058398, 0.08388433316203511, 0.06384610484559348]}, {\"marker\": {\"color\": \"rgb(54, 146, 68)\", \"line\": {\"color\": \"black\", \"width\": 0}}, \"name\": \"Bioreactor\", \"showlegend\": false, \"type\": \"bar\", \"x\": [\"Growth Rate\"], \"y\": [0.3790976624510501], \"yaxis\": \"y2\"}, {\"error_y\": {\"array\": [0.01739181685665094, null, 0.055085593816136945, 0.043172665060814554, null], \"color\": \"black\", \"thickness\": 1.5, \"type\": \"data\", \"width\": 3}, \"marker\": {\"color\": \"rgb(33.0, 100.0, 175.0)\", \"line\": {\"color\": \"rgb(54, 146, 68)\", \"width\": 0}}, \"name\": \"1.5\", \"type\": \"bar\", \"x\": [\"Acetate\", \"Formate\", \"Lactate\", \"Pyruvate\", \"Succinate\"], \"y\": [0.35979687117707243, 0.0, 1.1694033457891742, 0.6173202753843394, 0.0]}, {\"error_y\": {\"array\": [0.020867433420583083], \"color\": \"black\", \"thickness\": 1.5, \"type\": \"data\", \"width\": 3}, \"marker\": {\"color\": \"rgb(33.0, 100.0, 175.0)\", \"line\": {\"color\": \"black\", \"width\": 0}}, \"name\": \"1.5\", \"showlegend\": false, \"type\": \"bar\", \"x\": [\"Growth Rate\"], \"y\": [0.6129325366129091], \"yaxis\": \"y2\"}, {\"error_y\": {\"array\": [0.028521414192890216, null, 0.07481142172138379, 0.03592038795369897, 0.0038645557597954253], \"color\": \"black\", \"thickness\": 1.5, \"type\": \"data\", \"width\": 3}, \"marker\": {\"color\": \"rgb(100.0, 144.66666666666666, 194.66666666666666)\", \"line\": {\"color\": \"rgb(54, 146, 68)\", \"width\": 0}}, \"name\": \"3\", \"type\": \"bar\", \"x\": [\"Acetate\", \"Formate\", \"Lactate\", \"Pyruvate\", \"Succinate\"], \"y\": [0.30547249341448873, 0.0, 1.111581633706926, 0.4905592551373693, 0.06409617610501006]}, {\"error_y\": {\"array\": [0.020333325808242812], \"color\": \"black\", \"thickness\": 1.5, \"type\": \"data\", \"width\": 3}, \"marker\": {\"color\": \"rgb(100.0, 144.66666666666666, 194.66666666666666)\", \"line\": {\"color\": \"black\", \"width\": 0}}, \"name\": \"3\", \"showlegend\": false, \"type\": \"bar\", \"x\": [\"Growth Rate\"], \"y\": [0.5724183678736388], \"yaxis\": \"y2\"}, {\"error_y\": {\"array\": [0.006894612685798895, null, 0.08404005482699717, 0.0331315165388413, 0.005643200234181881], \"color\": \"black\", \"thickness\": 1.5, \"type\": \"data\", \"width\": 3}, \"marker\": {\"color\": \"rgb(167.0, 189.33333333333331, 214.33333333333334)\", \"line\": {\"color\": \"rgb(54, 146, 68)\", \"width\": 0}}, \"name\": \"6\", \"type\": \"bar\", \"x\": [\"Acetate\", \"Formate\", \"Lactate\", \"Pyruvate\", \"Succinate\"], \"y\": [0.1417605528239433, 0.0, 1.3672515365668179, 0.31812415972948754, 0.09419874555872525]}, {\"error_y\": {\"array\": [0.005598010552350256], \"color\": \"black\", \"thickness\": 1.5, \"type\": \"data\", \"width\": 3}, \"marker\": {\"color\": \"rgb(167.0, 189.33333333333331, 214.33333333333334)\", \"line\": {\"color\": \"black\", \"width\": 0}}, \"name\": \"6\", \"showlegend\": false, \"type\": \"bar\", \"x\": [\"Growth Rate\"], \"y\": [0.5477177356545259], \"yaxis\": \"y2\"}, {\"error_y\": {\"array\": [0.010362654341650656, 0.001451658812876294, 0.13650978069313874, 0.014752120201841619, 0.004701358220680108], \"color\": \"black\", \"thickness\": 1.5, \"type\": \"data\", \"width\": 3}, \"marker\": {\"color\": \"rgb(228.33333333333334, 180.0, 170.0)\", \"line\": {\"color\": \"rgb(54, 146, 68)\", \"width\": 0}}, \"name\": \"9\", \"type\": \"bar\", \"x\": [\"Acetate\", \"Formate\", \"Lactate\", \"Pyruvate\", \"Succinate\"], \"y\": [0.11611778013650854, 0.021946007301337552, 1.530208220236068, 0.22298736120472137, 0.09356117203925378]}, {\"error_y\": {\"array\": [0.007700701221275943], \"color\": \"black\", \"thickness\": 1.5, \"type\": \"data\", \"width\": 3}, \"marker\": {\"color\": \"rgb(228.33333333333334, 180.0, 170.0)\", \"line\": {\"color\": \"black\", \"width\": 0}}, \"name\": \"9\", \"showlegend\": false, \"type\": \"bar\", \"x\": [\"Growth Rate\"], \"y\": [0.4625270104532111], \"yaxis\": \"y2\"}, {\"error_y\": {\"array\": [0.008287925249578292, 0.0027729812895189226, 0.13068908369219182, 0.02115373596831419, 0.008035664207970918], \"color\": \"black\", \"thickness\": 1.5, \"type\": \"data\", \"width\": 3}, \"marker\": {\"color\": \"rgb(222.66666666666666, 126.0, 106.0)\", \"line\": {\"color\": \"rgb(54, 146, 68)\", \"width\": 0}}, \"name\": \"12\", \"type\": \"bar\", \"x\": [\"Acetate\", \"Formate\", \"Lactate\", \"Pyruvate\", \"Succinate\"], \"y\": [0.1049477362758952, 0.02979674319954508, 1.6567987526255408, 0.26607106784303997, 0.1007553635883177]}, {\"error_y\": {\"array\": [0.008322379586987925], \"color\": \"black\", \"thickness\": 1.5, \"type\": \"data\", \"width\": 3}, \"marker\": {\"color\": \"rgb(222.66666666666666, 126.0, 106.0)\", \"line\": {\"color\": \"black\", \"width\": 0}}, \"name\": \"12\", \"showlegend\": false, \"type\": \"bar\", \"x\": [\"Growth Rate\"], \"y\": [0.47909104169392597], \"yaxis\": \"y2\"}, {\"error_y\": {\"array\": [0.008213893469700848, 0.002647940336054223, 0.13070859490934347, 0.021349258307937664, 0.007648850584123952], \"color\": \"black\", \"thickness\": 1.5, \"type\": \"data\", \"width\": 3}, \"marker\": {\"color\": \"rgb(217.0, 72.0, 42.0)\", \"line\": {\"color\": \"rgb(54, 146, 68)\", \"width\": 0}}, \"name\": \"18\", \"type\": \"bar\", \"x\": [\"Acetate\", \"Formate\", \"Lactate\", \"Pyruvate\", \"Succinate\"], \"y\": [0.0993358434223854, 0.03076474281312717, 1.5525305820874937, 0.2789860490386946, 0.0955947556246284]}, {\"error_y\": {\"array\": [0.010940580400702888], \"color\": \"black\", \"thickness\": 1.5, \"type\": \"data\", \"width\": 3}, \"marker\": {\"color\": \"rgb(217.0, 72.0, 42.0)\", \"line\": {\"color\": \"black\", \"width\": 0}}, \"name\": \"18\", \"showlegend\": false, \"type\": \"bar\", \"x\": [\"Growth Rate\"], \"y\": [0.49382391813933585], \"yaxis\": \"y2\"}],                        {\"bargap\": 0.4, \"bargroupgap\": 0.1, \"height\": 425, \"legend\": {\"font\": {\"color\": \"black\", \"family\": \"Myriad Pro\", \"size\": 14}, \"orientation\": \"h\", \"x\": 0.2, \"y\": -0.2}, \"template\": {\"data\": {\"scatter\": [{\"type\": \"scatter\"}]}}, \"width\": 1000, \"xaxis\": {\"linecolor\": \"black\", \"linewidth\": 1, \"mirror\": true, \"nticks\": 8, \"showgrid\": false, \"showline\": true, \"side\": \"bottom\", \"tickangle\": 0, \"tickcolor\": \"black\", \"tickfont\": {\"color\": \"black\", \"family\": \"Myriad Pro\", \"size\": 16}, \"ticklen\": 4, \"ticks\": \"outside\", \"title\": {\"font\": {\"color\": \"black\", \"family\": \"Myriad Pro\", \"size\": 18}, \"standoff\": 5, \"text\": \"Product\"}, \"zeroline\": false}, \"yaxis\": {\"linecolor\": \"black\", \"linewidth\": 1, \"mirror\": true, \"range\": [0, 2.5], \"showgrid\": true, \"showline\": true, \"side\": \"left\", \"tickangle\": 0, \"tickcolor\": \"black\", \"tickfont\": {\"color\": \"black\", \"family\": \"Myriad Pro\", \"size\": 16}, \"ticklen\": 4, \"ticks\": \"outside\", \"title\": {\"font\": {\"color\": \"black\", \"family\": \"Myriad Pro\", \"size\": 18}, \"text\": \"Product Yield<br>(mmol Product/mmol Glucose)\"}, \"zeroline\": false}, \"yaxis2\": {\"anchor\": \"x\", \"linecolor\": \"black\", \"linewidth\": 1, \"mirror\": true, \"overlaying\": \"y\", \"range\": [0, 1], \"showgrid\": true, \"showline\": true, \"side\": \"right\", \"tickangle\": 0, \"tickcolor\": \"black\", \"tickfont\": {\"color\": \"black\", \"family\": \"Myriad Pro\", \"size\": 16}, \"ticklen\": 4, \"ticks\": \"outside\", \"title\": {\"font\": {\"color\": \"black\", \"family\": \"Myriad Pro\", \"size\": 18}, \"text\": \"Biomass Yield<br>(g Biomass/g Glucose)\"}, \"zeroline\": false}},                        {\"responsive\": true}                    ).then(function(){\n",
       "                            \n",
       "var gd = document.getElementById('e17ec159-9696-4507-9c63-f06663ab9cf4');\n",
       "var x = new MutationObserver(function (mutations, observer) {{\n",
       "        var display = window.getComputedStyle(gd).display;\n",
       "        if (!display || display === 'none') {{\n",
       "            console.log([gd, 'removed!']);\n",
       "            Plotly.purge(gd);\n",
       "            observer.disconnect();\n",
       "        }}\n",
       "}});\n",
       "\n",
       "// Listen for the removal of the full notebook cells\n",
       "var notebookContainer = gd.closest('#notebook-container');\n",
       "if (notebookContainer) {{\n",
       "    x.observe(notebookContainer, {childList: true});\n",
       "}}\n",
       "\n",
       "// Listen for the clearing of the current output cell\n",
       "var outputEl = gd.closest('.output');\n",
       "if (outputEl) {{\n",
       "    x.observe(outputEl, {childList: true});\n",
       "}}\n",
       "\n",
       "                        })                };                });            </script>        </div>"
      ]
     },
     "metadata": {},
     "output_type": "display_data"
    },
    {
     "name": "stdout",
     "output_type": "stream",
     "text": [
      "Δ(adh,pta)-D59\n"
     ]
    },
    {
     "data": {
      "application/vnd.plotly.v1+json": {
       "config": {
        "linkText": "Export to plot.ly",
        "plotlyServerURL": "https://plot.ly",
        "showLink": false
       },
       "data": [
        {
         "marker": {
          "color": "rgb(54, 146, 68)",
          "line": {
           "color": "rgb(54, 146, 68)",
           "width": 0
          }
         },
         "name": "Bioreactor",
         "type": "bar",
         "x": [
          "Acetate",
          "Formate",
          "Lactate",
          "Pyruvate",
          "Succinate"
         ],
         "y": [
          0.037518394104790194,
          0.06117061103732149,
          1.6465656989667692,
          0.05467648476575785,
          0.09459001292832869
         ]
        },
        {
         "marker": {
          "color": "rgb(54, 146, 68)",
          "line": {
           "color": "black",
           "width": 0
          }
         },
         "name": "Bioreactor",
         "showlegend": false,
         "type": "bar",
         "x": [
          "Growth Rate"
         ],
         "y": [
          0.6491690894069742
         ],
         "yaxis": "y2"
        },
        {
         "error_y": {
          "array": [
           0.006638296060648617,
           0.003632619851863573,
           0.019173980898910904,
           0.010899891959967177,
           0.007241031228199023
          ],
          "color": "black",
          "thickness": 1.5,
          "type": "data",
          "width": 3
         },
         "marker": {
          "color": "rgb(33.0, 100.0, 175.0)",
          "line": {
           "color": "rgb(54, 146, 68)",
           "width": 0
          }
         },
         "name": "1.5",
         "type": "bar",
         "x": [
          "Acetate",
          "Formate",
          "Lactate",
          "Pyruvate",
          "Succinate"
         ],
         "y": [
          0.20067906633432417,
          0.11904173180077972,
          1.6067816011348042,
          0.06430257743341718,
          0.037085004122457875
         ]
        },
        {
         "error_y": {
          "array": [
           0.003054371930945806
          ],
          "color": "black",
          "thickness": 1.5,
          "type": "data",
          "width": 3
         },
         "marker": {
          "color": "rgb(33.0, 100.0, 175.0)",
          "line": {
           "color": "black",
           "width": 0
          }
         },
         "name": "1.5",
         "showlegend": false,
         "type": "bar",
         "x": [
          "Growth Rate"
         ],
         "y": [
          0.6247033719423031
         ],
         "yaxis": "y2"
        },
        {
         "error_y": {
          "array": [
           0.006046942108899447,
           null,
           0.10868938717103224,
           0.01965960749617315,
           0.006246645401590023
          ],
          "color": "black",
          "thickness": 1.5,
          "type": "data",
          "width": 3
         },
         "marker": {
          "color": "rgb(100.0, 144.66666666666666, 194.66666666666666)",
          "line": {
           "color": "rgb(54, 146, 68)",
           "width": 0
          }
         },
         "name": "3",
         "type": "bar",
         "x": [
          "Acetate",
          "Formate",
          "Lactate",
          "Pyruvate",
          "Succinate"
         ],
         "y": [
          0.1203885246006689,
          0,
          1.5177434729017885,
          0.08968880037892747,
          0.1321017330406841
         ]
        },
        {
         "error_y": {
          "array": [
           0.014044501220739417
          ],
          "color": "black",
          "thickness": 1.5,
          "type": "data",
          "width": 3
         },
         "marker": {
          "color": "rgb(100.0, 144.66666666666666, 194.66666666666666)",
          "line": {
           "color": "black",
           "width": 0
          }
         },
         "name": "3",
         "showlegend": false,
         "type": "bar",
         "x": [
          "Growth Rate"
         ],
         "y": [
          0.6001028138652936
         ],
         "yaxis": "y2"
        },
        {
         "error_y": {
          "array": [
           0.003836357887265095,
           null,
           0.09085490888501103,
           0.014162731907256657,
           0.008854773992864651
          ],
          "color": "black",
          "thickness": 1.5,
          "type": "data",
          "width": 3
         },
         "marker": {
          "color": "rgb(167.0, 189.33333333333331, 214.33333333333334)",
          "line": {
           "color": "rgb(54, 146, 68)",
           "width": 0
          }
         },
         "name": "6",
         "type": "bar",
         "x": [
          "Acetate",
          "Formate",
          "Lactate",
          "Pyruvate",
          "Succinate"
         ],
         "y": [
          0.07881532029847148,
          0,
          1.5998414997323098,
          0.11341132516630838,
          0.16753875304046062
         ]
        },
        {
         "error_y": {
          "array": [
           0.001989601485675476
          ],
          "color": "black",
          "thickness": 1.5,
          "type": "data",
          "width": 3
         },
         "marker": {
          "color": "rgb(167.0, 189.33333333333331, 214.33333333333334)",
          "line": {
           "color": "black",
           "width": 0
          }
         },
         "name": "6",
         "showlegend": false,
         "type": "bar",
         "x": [
          "Growth Rate"
         ],
         "y": [
          0.5920281196203474
         ],
         "yaxis": "y2"
        },
        {
         "error_y": {
          "array": [
           0.012163221935603435,
           0.001971318221480522,
           0.045780802223337094,
           0.0041223164722794005,
           0.012892243414059402
          ],
          "color": "black",
          "thickness": 1.5,
          "type": "data",
          "width": 3
         },
         "marker": {
          "color": "rgb(228.33333333333334, 180.0, 170.0)",
          "line": {
           "color": "rgb(54, 146, 68)",
           "width": 0
          }
         },
         "name": "9",
         "type": "bar",
         "x": [
          "Acetate",
          "Formate",
          "Lactate",
          "Pyruvate",
          "Succinate"
         ],
         "y": [
          0.08885622605286939,
          0.025224616736665234,
          1.7138505250720717,
          0.14301513426538126,
          0.14330313469315853
         ]
        },
        {
         "error_y": {
          "array": [
           0.001250912271687197
          ],
          "color": "black",
          "thickness": 1.5,
          "type": "data",
          "width": 3
         },
         "marker": {
          "color": "rgb(228.33333333333334, 180.0, 170.0)",
          "line": {
           "color": "black",
           "width": 0
          }
         },
         "name": "9",
         "showlegend": false,
         "type": "bar",
         "x": [
          "Growth Rate"
         ],
         "y": [
          0.541688005454806
         ],
         "yaxis": "y2"
        },
        {
         "error_y": {
          "array": [
           0.009269431529823608,
           0.0039750075177459425,
           0.14102603289666246,
           0.017897184040294965,
           0.0131509389092137
          ],
          "color": "black",
          "thickness": 1.5,
          "type": "data",
          "width": 3
         },
         "marker": {
          "color": "rgb(222.66666666666666, 126.0, 106.0)",
          "line": {
           "color": "rgb(54, 146, 68)",
           "width": 0
          }
         },
         "name": "12",
         "type": "bar",
         "x": [
          "Acetate",
          "Formate",
          "Lactate",
          "Pyruvate",
          "Succinate"
         ],
         "y": [
          0.09331248264441551,
          0.03080509470714537,
          1.8822281699567676,
          0.17605014959101176,
          0.16046587786502664
         ]
        },
        {
         "error_y": {
          "array": [
           0.001828080941553928
          ],
          "color": "black",
          "thickness": 1.5,
          "type": "data",
          "width": 3
         },
         "marker": {
          "color": "rgb(222.66666666666666, 126.0, 106.0)",
          "line": {
           "color": "black",
           "width": 0
          }
         },
         "name": "12",
         "showlegend": false,
         "type": "bar",
         "x": [
          "Growth Rate"
         ],
         "y": [
          0.5451069655763184
         ],
         "yaxis": "y2"
        },
        {
         "error_y": {
          "array": [
           0.010130560205632558,
           0.0036488056260803236,
           0.19687746730507577,
           0.022020525740445763,
           0.016892922739017102
          ],
          "color": "black",
          "thickness": 1.5,
          "type": "data",
          "width": 3
         },
         "marker": {
          "color": "rgb(217.0, 72.0, 42.0)",
          "line": {
           "color": "rgb(54, 146, 68)",
           "width": 0
          }
         },
         "name": "18",
         "type": "bar",
         "x": [
          "Acetate",
          "Formate",
          "Lactate",
          "Pyruvate",
          "Succinate"
         ],
         "y": [
          0.08172666140623476,
          0.030010397087699973,
          1.6195840380706472,
          0.1806698545040976,
          0.13877349292094324
         ]
        },
        {
         "error_y": {
          "array": [
           0.004596455258606998
          ],
          "color": "black",
          "thickness": 1.5,
          "type": "data",
          "width": 3
         },
         "marker": {
          "color": "rgb(217.0, 72.0, 42.0)",
          "line": {
           "color": "black",
           "width": 0
          }
         },
         "name": "18",
         "showlegend": false,
         "type": "bar",
         "x": [
          "Growth Rate"
         ],
         "y": [
          0.5544941823592051
         ],
         "yaxis": "y2"
        }
       ],
       "layout": {
        "bargap": 0.4,
        "bargroupgap": 0.1,
        "height": 425,
        "legend": {
         "font": {
          "color": "black",
          "family": "Myriad Pro",
          "size": 14
         },
         "orientation": "h",
         "x": 0.2,
         "y": -0.2
        },
        "template": {
         "data": {
          "scatter": [
           {
            "type": "scatter"
           }
          ]
         }
        },
        "width": 1000,
        "xaxis": {
         "linecolor": "black",
         "linewidth": 1,
         "mirror": true,
         "nticks": 8,
         "showgrid": false,
         "showline": true,
         "side": "bottom",
         "tickangle": 0,
         "tickcolor": "black",
         "tickfont": {
          "color": "black",
          "family": "Myriad Pro",
          "size": 16
         },
         "ticklen": 4,
         "ticks": "outside",
         "title": {
          "font": {
           "color": "black",
           "family": "Myriad Pro",
           "size": 18
          },
          "standoff": 5,
          "text": "Product"
         },
         "zeroline": false
        },
        "yaxis": {
         "linecolor": "black",
         "linewidth": 1,
         "mirror": true,
         "range": [
          0,
          2.5
         ],
         "showgrid": true,
         "showline": true,
         "side": "left",
         "tickangle": 0,
         "tickcolor": "black",
         "tickfont": {
          "color": "black",
          "family": "Myriad Pro",
          "size": 16
         },
         "ticklen": 4,
         "ticks": "outside",
         "title": {
          "font": {
           "color": "black",
           "family": "Myriad Pro",
           "size": 18
          },
          "text": "Product Yield<br>(mmol Product/mmol Glucose)"
         },
         "zeroline": false
        },
        "yaxis2": {
         "anchor": "x",
         "linecolor": "black",
         "linewidth": 1,
         "mirror": true,
         "overlaying": "y",
         "range": [
          0,
          1
         ],
         "showgrid": true,
         "showline": true,
         "side": "right",
         "tickangle": 0,
         "tickcolor": "black",
         "tickfont": {
          "color": "black",
          "family": "Myriad Pro",
          "size": 16
         },
         "ticklen": 4,
         "ticks": "outside",
         "title": {
          "font": {
           "color": "black",
           "family": "Myriad Pro",
           "size": 18
          },
          "text": "Biomass Yield<br>(g Biomass/g Glucose)"
         },
         "zeroline": false
        }
       }
      },
      "text/html": [
       "<div>                            <div id=\"b71f3bdb-5c23-4615-80df-2f562fe382f4\" class=\"plotly-graph-div\" style=\"height:425px; width:1000px;\"></div>            <script type=\"text/javascript\">                require([\"plotly\"], function(Plotly) {                    window.PLOTLYENV=window.PLOTLYENV || {};                                    if (document.getElementById(\"b71f3bdb-5c23-4615-80df-2f562fe382f4\")) {                    Plotly.newPlot(                        \"b71f3bdb-5c23-4615-80df-2f562fe382f4\",                        [{\"marker\": {\"color\": \"rgb(54, 146, 68)\", \"line\": {\"color\": \"rgb(54, 146, 68)\", \"width\": 0}}, \"name\": \"Bioreactor\", \"type\": \"bar\", \"x\": [\"Acetate\", \"Formate\", \"Lactate\", \"Pyruvate\", \"Succinate\"], \"y\": [0.037518394104790194, 0.06117061103732149, 1.6465656989667692, 0.05467648476575785, 0.09459001292832869]}, {\"marker\": {\"color\": \"rgb(54, 146, 68)\", \"line\": {\"color\": \"black\", \"width\": 0}}, \"name\": \"Bioreactor\", \"showlegend\": false, \"type\": \"bar\", \"x\": [\"Growth Rate\"], \"y\": [0.6491690894069742], \"yaxis\": \"y2\"}, {\"error_y\": {\"array\": [0.006638296060648617, 0.003632619851863573, 0.019173980898910904, 0.010899891959967177, 0.007241031228199023], \"color\": \"black\", \"thickness\": 1.5, \"type\": \"data\", \"width\": 3}, \"marker\": {\"color\": \"rgb(33.0, 100.0, 175.0)\", \"line\": {\"color\": \"rgb(54, 146, 68)\", \"width\": 0}}, \"name\": \"1.5\", \"type\": \"bar\", \"x\": [\"Acetate\", \"Formate\", \"Lactate\", \"Pyruvate\", \"Succinate\"], \"y\": [0.20067906633432417, 0.11904173180077972, 1.6067816011348042, 0.06430257743341718, 0.037085004122457875]}, {\"error_y\": {\"array\": [0.003054371930945806], \"color\": \"black\", \"thickness\": 1.5, \"type\": \"data\", \"width\": 3}, \"marker\": {\"color\": \"rgb(33.0, 100.0, 175.0)\", \"line\": {\"color\": \"black\", \"width\": 0}}, \"name\": \"1.5\", \"showlegend\": false, \"type\": \"bar\", \"x\": [\"Growth Rate\"], \"y\": [0.6247033719423031], \"yaxis\": \"y2\"}, {\"error_y\": {\"array\": [0.006046942108899447, null, 0.10868938717103224, 0.01965960749617315, 0.006246645401590023], \"color\": \"black\", \"thickness\": 1.5, \"type\": \"data\", \"width\": 3}, \"marker\": {\"color\": \"rgb(100.0, 144.66666666666666, 194.66666666666666)\", \"line\": {\"color\": \"rgb(54, 146, 68)\", \"width\": 0}}, \"name\": \"3\", \"type\": \"bar\", \"x\": [\"Acetate\", \"Formate\", \"Lactate\", \"Pyruvate\", \"Succinate\"], \"y\": [0.1203885246006689, 0.0, 1.5177434729017885, 0.08968880037892747, 0.1321017330406841]}, {\"error_y\": {\"array\": [0.014044501220739417], \"color\": \"black\", \"thickness\": 1.5, \"type\": \"data\", \"width\": 3}, \"marker\": {\"color\": \"rgb(100.0, 144.66666666666666, 194.66666666666666)\", \"line\": {\"color\": \"black\", \"width\": 0}}, \"name\": \"3\", \"showlegend\": false, \"type\": \"bar\", \"x\": [\"Growth Rate\"], \"y\": [0.6001028138652936], \"yaxis\": \"y2\"}, {\"error_y\": {\"array\": [0.003836357887265095, null, 0.09085490888501103, 0.014162731907256657, 0.008854773992864651], \"color\": \"black\", \"thickness\": 1.5, \"type\": \"data\", \"width\": 3}, \"marker\": {\"color\": \"rgb(167.0, 189.33333333333331, 214.33333333333334)\", \"line\": {\"color\": \"rgb(54, 146, 68)\", \"width\": 0}}, \"name\": \"6\", \"type\": \"bar\", \"x\": [\"Acetate\", \"Formate\", \"Lactate\", \"Pyruvate\", \"Succinate\"], \"y\": [0.07881532029847148, 0.0, 1.5998414997323098, 0.11341132516630838, 0.16753875304046062]}, {\"error_y\": {\"array\": [0.001989601485675476], \"color\": \"black\", \"thickness\": 1.5, \"type\": \"data\", \"width\": 3}, \"marker\": {\"color\": \"rgb(167.0, 189.33333333333331, 214.33333333333334)\", \"line\": {\"color\": \"black\", \"width\": 0}}, \"name\": \"6\", \"showlegend\": false, \"type\": \"bar\", \"x\": [\"Growth Rate\"], \"y\": [0.5920281196203474], \"yaxis\": \"y2\"}, {\"error_y\": {\"array\": [0.012163221935603435, 0.001971318221480522, 0.045780802223337094, 0.0041223164722794005, 0.012892243414059402], \"color\": \"black\", \"thickness\": 1.5, \"type\": \"data\", \"width\": 3}, \"marker\": {\"color\": \"rgb(228.33333333333334, 180.0, 170.0)\", \"line\": {\"color\": \"rgb(54, 146, 68)\", \"width\": 0}}, \"name\": \"9\", \"type\": \"bar\", \"x\": [\"Acetate\", \"Formate\", \"Lactate\", \"Pyruvate\", \"Succinate\"], \"y\": [0.08885622605286939, 0.025224616736665234, 1.7138505250720717, 0.14301513426538126, 0.14330313469315853]}, {\"error_y\": {\"array\": [0.001250912271687197], \"color\": \"black\", \"thickness\": 1.5, \"type\": \"data\", \"width\": 3}, \"marker\": {\"color\": \"rgb(228.33333333333334, 180.0, 170.0)\", \"line\": {\"color\": \"black\", \"width\": 0}}, \"name\": \"9\", \"showlegend\": false, \"type\": \"bar\", \"x\": [\"Growth Rate\"], \"y\": [0.541688005454806], \"yaxis\": \"y2\"}, {\"error_y\": {\"array\": [0.009269431529823608, 0.0039750075177459425, 0.14102603289666246, 0.017897184040294965, 0.0131509389092137], \"color\": \"black\", \"thickness\": 1.5, \"type\": \"data\", \"width\": 3}, \"marker\": {\"color\": \"rgb(222.66666666666666, 126.0, 106.0)\", \"line\": {\"color\": \"rgb(54, 146, 68)\", \"width\": 0}}, \"name\": \"12\", \"type\": \"bar\", \"x\": [\"Acetate\", \"Formate\", \"Lactate\", \"Pyruvate\", \"Succinate\"], \"y\": [0.09331248264441551, 0.03080509470714537, 1.8822281699567676, 0.17605014959101176, 0.16046587786502664]}, {\"error_y\": {\"array\": [0.001828080941553928], \"color\": \"black\", \"thickness\": 1.5, \"type\": \"data\", \"width\": 3}, \"marker\": {\"color\": \"rgb(222.66666666666666, 126.0, 106.0)\", \"line\": {\"color\": \"black\", \"width\": 0}}, \"name\": \"12\", \"showlegend\": false, \"type\": \"bar\", \"x\": [\"Growth Rate\"], \"y\": [0.5451069655763184], \"yaxis\": \"y2\"}, {\"error_y\": {\"array\": [0.010130560205632558, 0.0036488056260803236, 0.19687746730507577, 0.022020525740445763, 0.016892922739017102], \"color\": \"black\", \"thickness\": 1.5, \"type\": \"data\", \"width\": 3}, \"marker\": {\"color\": \"rgb(217.0, 72.0, 42.0)\", \"line\": {\"color\": \"rgb(54, 146, 68)\", \"width\": 0}}, \"name\": \"18\", \"type\": \"bar\", \"x\": [\"Acetate\", \"Formate\", \"Lactate\", \"Pyruvate\", \"Succinate\"], \"y\": [0.08172666140623476, 0.030010397087699973, 1.6195840380706472, 0.1806698545040976, 0.13877349292094324]}, {\"error_y\": {\"array\": [0.004596455258606998], \"color\": \"black\", \"thickness\": 1.5, \"type\": \"data\", \"width\": 3}, \"marker\": {\"color\": \"rgb(217.0, 72.0, 42.0)\", \"line\": {\"color\": \"black\", \"width\": 0}}, \"name\": \"18\", \"showlegend\": false, \"type\": \"bar\", \"x\": [\"Growth Rate\"], \"y\": [0.5544941823592051], \"yaxis\": \"y2\"}],                        {\"bargap\": 0.4, \"bargroupgap\": 0.1, \"height\": 425, \"legend\": {\"font\": {\"color\": \"black\", \"family\": \"Myriad Pro\", \"size\": 14}, \"orientation\": \"h\", \"x\": 0.2, \"y\": -0.2}, \"template\": {\"data\": {\"scatter\": [{\"type\": \"scatter\"}]}}, \"width\": 1000, \"xaxis\": {\"linecolor\": \"black\", \"linewidth\": 1, \"mirror\": true, \"nticks\": 8, \"showgrid\": false, \"showline\": true, \"side\": \"bottom\", \"tickangle\": 0, \"tickcolor\": \"black\", \"tickfont\": {\"color\": \"black\", \"family\": \"Myriad Pro\", \"size\": 16}, \"ticklen\": 4, \"ticks\": \"outside\", \"title\": {\"font\": {\"color\": \"black\", \"family\": \"Myriad Pro\", \"size\": 18}, \"standoff\": 5, \"text\": \"Product\"}, \"zeroline\": false}, \"yaxis\": {\"linecolor\": \"black\", \"linewidth\": 1, \"mirror\": true, \"range\": [0, 2.5], \"showgrid\": true, \"showline\": true, \"side\": \"left\", \"tickangle\": 0, \"tickcolor\": \"black\", \"tickfont\": {\"color\": \"black\", \"family\": \"Myriad Pro\", \"size\": 16}, \"ticklen\": 4, \"ticks\": \"outside\", \"title\": {\"font\": {\"color\": \"black\", \"family\": \"Myriad Pro\", \"size\": 18}, \"text\": \"Product Yield<br>(mmol Product/mmol Glucose)\"}, \"zeroline\": false}, \"yaxis2\": {\"anchor\": \"x\", \"linecolor\": \"black\", \"linewidth\": 1, \"mirror\": true, \"overlaying\": \"y\", \"range\": [0, 1], \"showgrid\": true, \"showline\": true, \"side\": \"right\", \"tickangle\": 0, \"tickcolor\": \"black\", \"tickfont\": {\"color\": \"black\", \"family\": \"Myriad Pro\", \"size\": 16}, \"ticklen\": 4, \"ticks\": \"outside\", \"title\": {\"font\": {\"color\": \"black\", \"family\": \"Myriad Pro\", \"size\": 18}, \"text\": \"Biomass Yield<br>(g Biomass/g Glucose)\"}, \"zeroline\": false}},                        {\"responsive\": true}                    ).then(function(){\n",
       "                            \n",
       "var gd = document.getElementById('b71f3bdb-5c23-4615-80df-2f562fe382f4');\n",
       "var x = new MutationObserver(function (mutations, observer) {{\n",
       "        var display = window.getComputedStyle(gd).display;\n",
       "        if (!display || display === 'none') {{\n",
       "            console.log([gd, 'removed!']);\n",
       "            Plotly.purge(gd);\n",
       "            observer.disconnect();\n",
       "        }}\n",
       "}});\n",
       "\n",
       "// Listen for the removal of the full notebook cells\n",
       "var notebookContainer = gd.closest('#notebook-container');\n",
       "if (notebookContainer) {{\n",
       "    x.observe(notebookContainer, {childList: true});\n",
       "}}\n",
       "\n",
       "// Listen for the clearing of the current output cell\n",
       "var outputEl = gd.closest('.output');\n",
       "if (outputEl) {{\n",
       "    x.observe(outputEl, {childList: true});\n",
       "}}\n",
       "\n",
       "                        })                };                });            </script>        </div>"
      ]
     },
     "metadata": {},
     "output_type": "display_data"
    }
   ],
   "source": [
    "strain_list = ['Δ(adh,pta)-D1', 'Δ(adh,pta)-D28', 'Δ(adh,pta)-D59']\n",
    "analyte_list = ['Acetate', 'Formate', 'Lactate', 'Pyruvate', 'Succinate', 'Growth Rate']\n",
    "condition_list = ['RDM + 1.5 g/L glc', 'RDM + 3.0 g/L glc', 'RDM + 6.0 g/L glc', 'RDM + 9.0 g/L glc', 'RDM + 12.0 g/L glc', 'RDM + 18.0 g/L glc']\n",
    "condition_titles = ['1.5', '3', '6', '9', '12', '18']\n",
    "\n",
    "colors = ['rgb'+str(color) for color in plotly.colors.n_colors((33,100,175), (234,234,234), 4)][:-1]\n",
    "colors = colors + ['rgb'+str(color) for color in plotly.colors.n_colors((234,234,234), (217,72,42), 4)][1:]\n",
    "\n",
    "od_timepoint = 8\n",
    "hplc_timepoint = 8\n",
    "pts_per_hour = 6\n",
    "ranges= [(0,2.5), (0,1)]\n",
    "\n",
    "for strain in strain_list:\n",
    "    print(strain)\n",
    "    trace_list = []\n",
    "    rep = [rep for rep in reactor.replicate_trials if rep.trial_identifier.strain.name == strain][0]\n",
    "    x = [analyte for analyte in analyte_list]\n",
    "    y, yerrs = yield_calculator((rep,rep), od_timepoint=od_timepoint, hplc_timepoint=hplc_timepoint)\n",
    "    \n",
    "    trace_list.append(go.Bar(x=x[:-1],\n",
    "                     y=y[:-1],\n",
    "                     marker=dict(color='rgb(54, 146, 68)', line=dict(width=0, color='rgb(54, 146, 68)')),\n",
    "                     name='Bioreactor'))\n",
    "    \n",
    "    trace_list.append(go.Bar(x=x[-1:],\n",
    "                             y=y[-1:],\n",
    "                             marker=dict(color='rgb(54, 146, 68)', line=dict(width=0, color='black')),showlegend=False,\n",
    "                             name='Bioreactor', yaxis='y2'))\n",
    "\n",
    "    for i, condition in enumerate(condition_list):\n",
    "        od_rep = [rep for rep in glc_od.replicate_trials if str(rep.trial_identifier.media)==condition_list[i] and rep.trial_identifier.strain.name==strain][0]\n",
    "        hplc_rep = [rep for rep in glc_titers.replicate_trials if str(rep.trial_identifier.media)==condition_list[i] and rep.trial_identifier.strain.name==strain][0]\n",
    "        y, y_errs = yield_calculator((od_rep,hplc_rep), od_timepoint=-1, hplc_timepoint=-1)\n",
    "\n",
    "        trace_list.append(go.Bar(x=x[:-1],\n",
    "                                 y=y[:-1],\n",
    "                                 error_y=dict(type='data', array=y_errs[:-1], thickness=1.5, width=3, color='black'),\n",
    "                                 marker=dict(color=colors[i], line=dict(width=0, color='rgb(54, 146, 68)')),\n",
    "                                 name=condition_titles[i]))\n",
    "\n",
    "        trace_list.append(go.Bar(x=x[-1:],\n",
    "                         y=y[-1:],\n",
    "                         error_y=dict(type='data', array=y_errs[-1:], thickness=1.5, width=3, color='black'),\n",
    "                         marker=dict(color=colors[i], line=dict(width=0, color='black')),showlegend=False,\n",
    "                         yaxis='y2',\n",
    "                         name=condition_titles[i]))\n",
    "\n",
    "\n",
    "\n",
    "    layout = go.Layout(height=425, width=1000, legend_x= 0.2, bargroupgap=0.1, bargap=0.4,\n",
    "                       legend_orientation='h',legend_y=-0.2, legend_font=dict(family='Myriad Pro', color='black', size=14),\n",
    "\n",
    "                       xaxis=dict(title='Product', title_standoff=5,\n",
    "                                  titlefont=dict(family='Myriad Pro', size=18, color='black'),\n",
    "                                  showline=True, linewidth=1, linecolor='black', mirror=True, side='bottom',\n",
    "                                  ticks='outside', ticklen=4, tickangle=0, nticks=8,\n",
    "                                  tickfont=dict(size=16, family='Myriad Pro', color='black'), tickcolor='black',\n",
    "                                  showgrid=False,zeroline=False),\n",
    "\n",
    "                       yaxis=dict(title='Product Yield<br>(mmol Product/mmol Glucose)',\n",
    "                                  titlefont=dict(family='Myriad Pro', size=18, color='black'),\n",
    "                                  showline=True, linewidth=1, linecolor='black', mirror=True, range=ranges[0],\n",
    "                                  ticks='outside', ticklen=4, tickangle=0, side='left',\n",
    "                                  tickfont=dict(family='Myriad Pro',size=16, color='black'), tickcolor='black', \n",
    "                                  showgrid=True,zeroline=False),\n",
    "                       \n",
    "                      yaxis2=dict(title='Biomass Yield<br>(g Biomass/g Glucose)',\n",
    "                                  titlefont=dict(family='Myriad Pro', size=18, color='black'),\n",
    "                                  showline=True, linewidth=1, linecolor='black', mirror=True, range=ranges[1],\n",
    "                                  ticks='outside', ticklen=4, tickangle=0, side='right', anchor='x', overlaying='y', \n",
    "                                  tickfont=dict(family='Myriad Pro',size=16, color='black'), tickcolor='black', \n",
    "                                  showgrid=True,zeroline=False))\n",
    "\n",
    "    if trace_list:\n",
    "        fig = go.Figure(data=trace_list, layout=layout)\n",
    "        plot(fig)\n",
    "        #pio.write_image(fig,\"Figures/si_fig_6_\"+strain+\".svg\",format='svg')"
   ]
  }
 ],
 "metadata": {
  "kernelspec": {
   "display_name": "Python [conda env:impact] *",
   "language": "python",
   "name": "conda-env-impact-py"
  },
  "language_info": {
   "codemirror_mode": {
    "name": "ipython",
    "version": 3
   },
   "file_extension": ".py",
   "mimetype": "text/x-python",
   "name": "python",
   "nbconvert_exporter": "python",
   "pygments_lexer": "ipython3",
   "version": "3.7.6"
  }
 },
 "nbformat": 4,
 "nbformat_minor": 5
}
