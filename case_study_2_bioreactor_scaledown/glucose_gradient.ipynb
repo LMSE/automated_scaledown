{
 "cells": [
  {
   "cell_type": "markdown",
   "id": "graphic-opinion",
   "metadata": {},
   "source": [
    "# Comparison of glucose gradient microplate tests with bioreactor test #\n",
    "\n",
    "### Notebook to generate Figs 6b, 6c, Supplementary Figs. S7, S8, S9, S10 ###"
   ]
  },
  {
   "cell_type": "code",
   "execution_count": 9,
   "id": "under-hierarchy",
   "metadata": {},
   "outputs": [
    {
     "data": {
      "text/html": [
       "        <script type=\"text/javascript\">\n",
       "        window.PlotlyConfig = {MathJaxConfig: 'local'};\n",
       "        if (window.MathJax) {MathJax.Hub.Config({SVG: {font: \"STIX-Web\"}});}\n",
       "        if (typeof require !== 'undefined') {\n",
       "        require.undef(\"plotly\");\n",
       "        requirejs.config({\n",
       "            paths: {\n",
       "                'plotly': ['https://cdn.plot.ly/plotly-latest.min']\n",
       "            }\n",
       "        });\n",
       "        require(['plotly'], function(Plotly) {\n",
       "            window._Plotly = Plotly;\n",
       "        });\n",
       "        }\n",
       "        </script>\n",
       "        "
      ]
     },
     "metadata": {},
     "output_type": "display_data"
    }
   ],
   "source": [
    "#Import necessary modules\n",
    "\n",
    "import impact as                             impt\n",
    "import impact.plotting as                    implot\n",
    "from impact.parsers import Parser as parser\n",
    "\n",
    "import pandas as pd\n",
    "from scipy.stats import linregress, ttest_ind\n",
    "import numpy as np\n",
    "import sys\n",
    "from plotly import tools, subplots\n",
    "import plotly.graph_objs as go\n",
    "import pickle\n",
    "import plotly.io as pio\n",
    "from plotly.subplots import make_subplots\n",
    "from sklearn.decomposition import PCA\n",
    "from sklearn.preprocessing import StandardScaler\n",
    "pio.templates.default = \"none\"\n",
    "import plotly\n",
    "if 'ipykernel' in sys.modules:\n",
    "    from plotly.offline import init_notebook_mode\n",
    "    from plotly.offline import iplot as plot\n",
    "    from IPython.display import HTML\n",
    "    HTML(\"\"\"\n",
    "         <script>\n",
    "          var waitForPlotly = setInterval( function() {\n",
    "          if( typeof(window.Plotly) !== \"undefined\" ){\n",
    "          MathJax.Hub.Config({ SVG: { font: \"STIX-Web\" }, displayAlign: \"center\" });\n",
    "          MathJax.Hub.Queue([\"setRenderer\", MathJax.Hub, \"SVG\"]);\n",
    "          clearInterval(waitForPlotly);}}, 250 );\n",
    "        </script>\n",
    "        \"\"\"\n",
    "    )\n",
    "    init_notebook_mode(connected=True)"
   ]
  },
  {
   "cell_type": "code",
   "execution_count": 10,
   "id": "behavioral-mozambique",
   "metadata": {},
   "outputs": [],
   "source": [
    "impt.settings.perform_curve_fit = False\n",
    "impt.settings.fit_type = 'gompertz'\n",
    "impt.settings.outlier_cleaning_flag = True\n",
    "impt.settings.max_fraction_replicates_to_remove = 0.5\n",
    "impt.settings.std_deviation_cutoff=0.1\n",
    "impt.settings.verbose = False\n",
    "impt.settings.live_calculations = False\n",
    "impt.settings.use_filtered_data = True\n",
    "\n",
    "impt.settings.death_phase_hyperparameter = 4\n",
    "impt.settings.savgolFilterWindowSize = 9"
   ]
  },
  {
   "cell_type": "markdown",
   "id": "final-delight",
   "metadata": {},
   "source": [
    "### Load raw data ###"
   ]
  },
  {
   "cell_type": "code",
   "execution_count": null,
   "id": "extreme-property",
   "metadata": {},
   "outputs": [],
   "source": [
    "data_format='spectromax_OD'\n",
    "plate_type = '96 Wells'\n",
    "file_name = 'GlucoseGradient_02022021.xlsx'\n",
    "glc_od = parser.parse_raw_data(data_format=data_format,file_name=file_name,plate_type=plate_type)\n",
    "glc_od.calculate()\n",
    "\n",
    "\n",
    "data_format='default_titers'\n",
    "plate_type = '96 Wells'\n",
    "file_name = 'GlucoseGradient_Titers_02022021.xlsx'\n",
    "glc_titers = parser.parse_raw_data(data_format=data_format,file_name=file_name,plate_type=plate_type,id_type='traverse')\n",
    "glc_titers.calculate()\n",
    "\n",
    "\n",
    "data_format='default_titers'\n",
    "plate_type = None\n",
    "file_name = 'Bioreactor_Data.xlsx'\n",
    "reactor = parser.parse_raw_data(data_format=data_format,file_name=file_name,id_type='traverse')\n",
    "reactor.calculate()"
   ]
  },
  {
   "cell_type": "markdown",
   "id": "fresh-expert",
   "metadata": {},
   "source": [
    "### Write functions to extract required analytes (yields of acetate, formate, lactate, pyruvate, succinate, growth rate and biomass yield) ###"
   ]
  },
  {
   "cell_type": "code",
   "execution_count": 11,
   "id": "decimal-xerox",
   "metadata": {},
   "outputs": [],
   "source": [
    "def average_exponential_specific_productivity(replicate_trial):\n",
    "    growth_rates = []\n",
    "    for single_trial in replicate_trial.single_trials:\n",
    "        OD600 = single_trial.analyte_dict['OD600'].pd_series\n",
    "        growth_second_gradient = np.gradient(single_trial.analyte_dict['OD600'].specific_productivity.data)\n",
    "        end_index = 18+np.argmax(growth_second_gradient[18:]>=-0.005)\n",
    "        if single_trial.analyte_dict['OD600'].specific_productivity.data[end_index]<=0.05 or single_trial.analyte_dict['OD600'].specific_productivity.data[end_index]>=0.2:\n",
    "            end_index = 18+np.argmax(single_trial.analyte_dict['OD600'].specific_productivity.data[18:]<=0.05)\n",
    "        start_index = 3+np.argmax(single_trial.analyte_dict['OD600'].specific_productivity.data[3:])\n",
    "        growth_rates.append(np.average(single_trial.analyte_dict['OD600'].specific_productivity.data[start_index:end_index]))\n",
    "    return growth_rates\n",
    "\n",
    "\n",
    "def average_exponential_specific_productivity_singletrial(replicate_trial):\n",
    "    growth_rates = {}\n",
    "    for single_trial in replicate_trial.single_trials:\n",
    "        OD600 = single_trial.analyte_dict['OD600'].pd_series\n",
    "        growth_second_gradient = np.gradient(single_trial.analyte_dict['OD600'].specific_productivity.data)\n",
    "        end_index = 18+np.argmax(growth_second_gradient[18:]>=-0.005)\n",
    "        if single_trial.analyte_dict['OD600'].specific_productivity.data[end_index]<=0.05 or single_trial.analyte_dict['OD600'].specific_productivity.data[end_index]>=0.2:\n",
    "            end_index = 18+np.argmax(single_trial.analyte_dict['OD600'].specific_productivity.data[18:]<=0.05)\n",
    "        start_index = 3+np.argmax(single_trial.analyte_dict['OD600'].specific_productivity.data[3:])\n",
    "        growth_rate = np.average(single_trial.analyte_dict['OD600'].specific_productivity.data[start_index:end_index])\n",
    "        growth_rates[str(single_trial.trial_identifier.replicate_id)] = growth_rate\n",
    "    return growth_rates\n",
    "\n",
    "\n",
    "\n",
    "def end_point_biomass(replicate_trial):\n",
    "    end_point_od = []\n",
    "    for single_trial in replicate_trial.single_trials:\n",
    "        OD600 = single_trial.analyte_dict['OD600'].pd_series\n",
    "        growth_second_gradient = np.gradient(single_trial.analyte_dict['OD600'].specific_productivity.data)\n",
    "        end_index = 18+np.argmax(growth_second_gradient[18:]>=-0.005)\n",
    "        if single_trial.analyte_dict['OD600'].specific_productivity.data[end_index]<=0.05 or single_trial.analyte_dict['OD600'].specific_productivity.data[end_index]>=0.2:\n",
    "            end_index = 18+np.argmax(single_trial.analyte_dict['OD600'].specific_productivity.data[18:]<=0.05)\n",
    "        end_point_od.append(single_trial.analyte_dict['OD600'].pd_series.iloc[end_index] - \n",
    "                            single_trial.analyte_dict['OD600'].pd_series.iloc[0])\n",
    "    return end_point_od\n",
    "\n",
    "\n",
    "\n",
    "def end_point_biomass_singletrial(replicate_trial):\n",
    "    end_point_od = {}\n",
    "    for single_trial in replicate_trial.single_trials:\n",
    "        OD600 = single_trial.analyte_dict['OD600'].pd_series\n",
    "        growth_second_gradient = np.gradient(single_trial.analyte_dict['OD600'].specific_productivity.data)\n",
    "        end_index = 18+np.argmax(growth_second_gradient[18:]>=-0.005)\n",
    "        if single_trial.analyte_dict['OD600'].specific_productivity.data[end_index]<=0.05 or single_trial.analyte_dict['OD600'].specific_productivity.data[end_index]>=0.2:\n",
    "            end_index = 18+np.argmax(single_trial.analyte_dict['OD600'].specific_productivity.data[18:]<=0.05)\n",
    "        end_point_od[str(single_trial.trial_identifier.replicate_id)] = single_trial.analyte_dict['OD600'].pd_series.iloc[end_index] - single_trial.analyte_dict['OD600'].pd_series.iloc[0]\n",
    "    return end_point_od\n",
    "\n",
    "\n",
    "\n",
    "\n",
    "def yield_calculator(reps, hplc_timepoint=-1, od_timepoint=-1):\n",
    "    od_rep, hplc_rep = reps\n",
    "    y_vals = []\n",
    "    y_errs = []\n",
    "    mass_dict = {'Lactate':89.078,\n",
    "             'Acetate':59.052,\n",
    "             'Formate':45.025,\n",
    "             'Succinate':116.088,\n",
    "             'Pyruvate':87.06,\n",
    "             'Glucose':180.156}\n",
    "\n",
    "    for analyte in analyte_list:\n",
    "        \n",
    "        #For analytes\n",
    "        if analyte not in ['Growth Rate', 'Biomass']:\n",
    "            #For plate expt\n",
    "            if hplc_rep.blank:\n",
    "                y = -hplc_rep.avg.analyte_dict[analyte].pd_series.iloc[hplc_timepoint]/hplc_rep.avg.analyte_dict['Glucose'].pd_series.iloc[hplc_timepoint] * (mass_dict['Glucose']/mass_dict[analyte])\n",
    "                y_err =  y*np.sqrt((hplc_rep.std.analyte_dict[analyte].pd_series.iloc[hplc_timepoint]/hplc_rep.avg.analyte_dict[analyte].pd_series.iloc[hplc_timepoint])**2 + (hplc_rep.std.analyte_dict['Glucose'].pd_series.iloc[hplc_timepoint]/hplc_rep.avg.analyte_dict['Glucose'].pd_series.iloc[hplc_timepoint])**2)            #For bioreactor expt\n",
    "            else:\n",
    "                y = hplc_rep.avg.analyte_dict[analyte].pd_series[:hplc_timepoint].iloc[-1]/(hplc_rep.avg.analyte_dict['Glucose'].pd_series[0] - hplc_rep.avg.analyte_dict['Glucose'].pd_series[:hplc_timepoint].iloc[-1]) * (mass_dict['Glucose']/mass_dict[analyte])\n",
    "                y_err = 0\n",
    "        \n",
    "        #For growth rate\n",
    "        elif analyte=='Growth Rate':\n",
    "            #For plate expt\n",
    "            if od_rep.blank:\n",
    "                specific_prod = average_exponential_specific_productivity(od_rep) \n",
    "                y = np.average(specific_prod)\n",
    "                y_err = np.std(specific_prod)\n",
    "\n",
    "            #For bioreactor expt\n",
    "            else:\n",
    "                y = np.average(np.gradient(od_rep.avg.analyte_dict['OD600'].pd_series[:od_timepoint].values)/np.gradient(od_rep.avg.analyte_dict['OD600'].pd_series[:od_timepoint].index.values)/od_rep.avg.analyte_dict['OD600'].pd_series[:od_timepoint].values)\n",
    "                y_err = 0\n",
    "        \n",
    "                \n",
    "        #For biomass yield\n",
    "        elif analyte=='Biomass':\n",
    "            #For plate expt\n",
    "            if od_rep.blank:\n",
    "                end_point_ods = end_point_biomass(od_rep)\n",
    "                y = -np.average(end_point_ods)/hplc_rep.avg.analyte_dict['Glucose'].pd_series.iloc[od_timepoint] * (0.3) #0.3 g/L dry weight of cells in 1 unit of OD600\n",
    "                y_err = np.std(end_point_ods)\n",
    "                y_err = y*np.sqrt((y_err/np.average(end_point_ods))**2 + \n",
    "                                  (hplc_rep.std.analyte_dict['Glucose'].pd_series.iloc[od_timepoint]/hplc_rep.avg.analyte_dict['Glucose'].pd_series.iloc[od_timepoint])**2)\n",
    "            #For bioreactor expt\n",
    "            else:\n",
    "                y = (od_rep.avg.analyte_dict['OD600'].pd_series[:od_timepoint].iloc[-1] - od_rep.avg.analyte_dict['OD600'].pd_series.iloc[0])/(hplc_rep.avg.analyte_dict['Glucose'].pd_series[0] - hplc_rep.avg.analyte_dict['Glucose'].pd_series[:od_timepoint].iloc[-1]) * (0.3) #0.3 g/L dry weight of cells in 1 unit of OD600\n",
    "                y_err = 0\n",
    "        y_vals.append(y)\n",
    "        y_errs.append(y_err)        \n",
    "    return y_vals, y_errs\n"
   ]
  },
  {
   "cell_type": "markdown",
   "id": "legendary-california",
   "metadata": {},
   "source": [
    "## Loading individual replicate data for all experimental conditions to perform PCA ##"
   ]
  },
  {
   "cell_type": "code",
   "execution_count": 12,
   "id": "going-burke",
   "metadata": {
    "scrolled": false
   },
   "outputs": [],
   "source": [
    "strain_list = ['WT', 'Δ(adh,pta)-D1', 'Δ(adh,pta)-D28', 'Δ(adh,pta)-D59']\n",
    "condition_list = ['RDM + 1.5 g/L glc', 'RDM + 3.0 g/L glc', 'RDM + 6.0 g/L glc', 'RDM + 9.0 g/L glc', 'RDM + 12.0 g/L glc', 'RDM + 18.0 g/L glc']\n",
    "analyte_list = ['Acetate', 'Formate', 'Lactate', 'Pyruvate', 'Succinate', 'Biomass', 'Growth Rate']\n",
    "\n",
    "st_df = pd.DataFrame()\n",
    "for strain in strain_list:\n",
    "    if strain.lower() != 'blank':\n",
    "        for condition in condition_list:\n",
    "            temp_df = pd.DataFrame()\n",
    "            od_rep = [rep for rep in glc_od.replicate_trials if rep.trial_identifier.strain.name==strain and str(rep.trial_identifier.media)==condition][0]\n",
    "            hplc_rep = [rep for rep in glc_titers.replicate_trials if rep.trial_identifier.strain.name==strain and str(rep.trial_identifier.media)==condition][0] \n",
    "            for analyte in ['Glucose']+analyte_list:\n",
    "                if analyte not in ['Biomass', 'Growth Rate']:\n",
    "                    temp_df = pd.concat([temp_df,hplc_rep.replicate_df[analyte].transpose().rename(columns={-1:analyte.lower()})], axis=1)\n",
    "\n",
    "                elif analyte=='Growth Rate':\n",
    "                    temp_df = pd.concat([temp_df, pd.Series(average_exponential_specific_productivity_singletrial(od_rep))],axis=1).rename(columns={0:'growth_rate'})\n",
    "                    \n",
    "                elif analyte=='Biomass':\n",
    "                    temp_df = pd.concat([temp_df, pd.Series(end_point_biomass_singletrial(od_rep))*0.3],axis=1).rename(columns={0:'biomass'})\n",
    "            temp_df.reset_index(level=0, inplace=True)\n",
    "            temp_df = temp_df.rename(columns={'index':'replicate'})\n",
    "            temp_df = temp_df.fillna(temp_df.mean())\n",
    "            temp_df['biomass_yield'] = -temp_df['biomass']/temp_df['glucose']\n",
    "            temp_df['strain'] = strain\n",
    "            temp_df['condition'] = condition\n",
    "            temp_df['starting_glucose'] = hplc_rep.blank.avg.analyte_dict['Glucose'].pd_series[-1]\n",
    "            temp_df = temp_df.drop(columns=['biomass'])\n",
    "            temp_df = temp_df.sort_values(by=['strain', 'condition', 'replicate'])\n",
    "            st_df = pd.concat([st_df,temp_df], axis=0)\n",
    "            \n",
    "for strain in strain_list:\n",
    "    temp_df = pd.DataFrame()\n",
    "    rep = [rep for rep in reactor.replicate_trials if rep.trial_identifier.strain.name==strain][0]\n",
    "    y,temp = yield_calculator([rep,rep],od_timepoint=8, hplc_timepoint=8)\n",
    "    entry = {analyte.lower(): y[i] for i,analyte in enumerate(analyte_list)}\n",
    "    temp_df = temp_df.append(entry,ignore_index=True)\n",
    "    temp_df = temp_df.rename(columns={'growth rate':'growth_rate', 'biomass': 'biomass_yield'})\n",
    "    temp_df['strain'] = strain\n",
    "    temp_df['condition'] = 'reactor'\n",
    "    temp_df['replicate'] = '1'\n",
    "    temp_df['glucose'] = rep.avg.analyte_dict['Glucose'].pd_series.loc[8] - rep.avg.analyte_dict['Glucose'].pd_series.loc[0]\n",
    "    temp_df['starting_glucose'] = rep.avg.analyte_dict['Glucose'].pd_series.loc[0]\n",
    "\n",
    "    st_df = pd.concat([st_df,temp_df], axis=0)\n",
    "\n",
    "\n",
    "st_df = st_df.reset_index(level=0, drop=True)\n"
   ]
  },
  {
   "cell_type": "markdown",
   "id": "lesser-minority",
   "metadata": {},
   "source": [
    "### PCA with 6 components on standard scaled phenotype data ###"
   ]
  },
  {
   "cell_type": "code",
   "execution_count": 13,
   "id": "initial-straight",
   "metadata": {},
   "outputs": [],
   "source": [
    "features = ['acetate', 'formate', 'lactate', 'pyruvate', 'succinate', 'growth_rate', 'biomass_yield']\n",
    "\n",
    "pca = PCA(n_components=6)\n",
    "x = st_df[features].values\n",
    "y = st_df[['strain','condition']].values\n",
    "x = StandardScaler().fit_transform(x)\n",
    "pcs = pca.fit_transform(x)\n",
    "principal_df = pd.DataFrame(data=pcs[:,:4], columns = ['PC1', 'PC2','PC3','PC4'])\n",
    "\n",
    "final_df = st_df.copy(deep=True)\n",
    "final_df = final_df.drop(columns=features+['replicate','glucose','starting_glucose'])\n",
    "final_df = pd.concat([final_df,principal_df], axis=1)"
   ]
  },
  {
   "cell_type": "markdown",
   "id": "verbal-endorsement",
   "metadata": {},
   "source": [
    "### Plot cumulative variance represented by each component ###"
   ]
  },
  {
   "cell_type": "code",
   "execution_count": 15,
   "id": "chinese-graduate",
   "metadata": {},
   "outputs": [
    {
     "data": {
      "application/vnd.plotly.v1+json": {
       "config": {
        "linkText": "Export to plot.ly",
        "plotlyServerURL": "https://plot.ly",
        "showLink": false
       },
       "data": [
        {
         "line": {
          "color": "rgb(33,100,175)",
          "width": 1.5
         },
         "mode": "lines+markers",
         "name": "Growth Rate",
         "type": "scatter",
         "x": [
          1,
          2,
          3,
          4,
          5,
          6
         ],
         "y": [
          0.5934722544513393,
          0.8476176342095405,
          0.933822286072989,
          0.9830288330196738,
          0.9938720277092472,
          0.9981634168392748
         ]
        }
       ],
       "layout": {
        "height": 425,
        "legend": {
         "font": {
          "color": "black",
          "family": "Myriad Pro",
          "size": 12
         },
         "orientation": "h",
         "x": 0.1,
         "y": -0.15
        },
        "template": {
         "data": {
          "scatter": [
           {
            "type": "scatter"
           }
          ]
         }
        },
        "width": 405,
        "xaxis": {
         "linecolor": "black",
         "linewidth": 1,
         "mirror": true,
         "nticks": 8,
         "showgrid": true,
         "showline": true,
         "side": "bottom",
         "tickangle": 0,
         "tickcolor": "black",
         "tickfont": {
          "color": "black",
          "family": "Myriad Pro",
          "size": 16
         },
         "ticklen": 4,
         "ticks": "outside",
         "title": {
          "font": {
           "color": "black",
           "family": "Myriad Pro",
           "size": 16
          },
          "standoff": 0.5,
          "text": "Number of Components"
         },
         "zeroline": true
        },
        "yaxis": {
         "anchor": "x",
         "linecolor": "black",
         "linewidth": 1,
         "mirror": true,
         "showgrid": true,
         "showline": true,
         "side": "left",
         "tickangle": 0,
         "tickcolor": "black",
         "tickfont": {
          "color": "black",
          "family": "Myriad Pro",
          "size": 16
         },
         "ticklen": 4,
         "ticks": "outside",
         "title": {
          "font": {
           "color": "black",
           "family": "Myriad Pro",
           "size": 16
          },
          "text": "Cumulative Variance Explained"
         },
         "zeroline": true
        }
       }
      },
      "text/html": [
       "<div>                            <div id=\"b1edcc87-ec7b-42e0-b514-86606565e6af\" class=\"plotly-graph-div\" style=\"height:425px; width:405px;\"></div>            <script type=\"text/javascript\">                require([\"plotly\"], function(Plotly) {                    window.PLOTLYENV=window.PLOTLYENV || {};                                    if (document.getElementById(\"b1edcc87-ec7b-42e0-b514-86606565e6af\")) {                    Plotly.newPlot(                        \"b1edcc87-ec7b-42e0-b514-86606565e6af\",                        [{\"line\": {\"color\": \"rgb(33,100,175)\", \"width\": 1.5}, \"mode\": \"lines+markers\", \"name\": \"Growth Rate\", \"type\": \"scatter\", \"x\": [1, 2, 3, 4, 5, 6], \"y\": [0.5934722544513393, 0.8476176342095405, 0.933822286072989, 0.9830288330196738, 0.9938720277092472, 0.9981634168392748]}],                        {\"height\": 425, \"legend\": {\"font\": {\"color\": \"black\", \"family\": \"Myriad Pro\", \"size\": 12}, \"orientation\": \"h\", \"x\": 0.1, \"y\": -0.15}, \"template\": {\"data\": {\"scatter\": [{\"type\": \"scatter\"}]}}, \"width\": 405, \"xaxis\": {\"linecolor\": \"black\", \"linewidth\": 1, \"mirror\": true, \"nticks\": 8, \"showgrid\": true, \"showline\": true, \"side\": \"bottom\", \"tickangle\": 0, \"tickcolor\": \"black\", \"tickfont\": {\"color\": \"black\", \"family\": \"Myriad Pro\", \"size\": 16}, \"ticklen\": 4, \"ticks\": \"outside\", \"title\": {\"font\": {\"color\": \"black\", \"family\": \"Myriad Pro\", \"size\": 16}, \"standoff\": 0.5, \"text\": \"Number of Components\"}, \"zeroline\": true}, \"yaxis\": {\"anchor\": \"x\", \"linecolor\": \"black\", \"linewidth\": 1, \"mirror\": true, \"showgrid\": true, \"showline\": true, \"side\": \"left\", \"tickangle\": 0, \"tickcolor\": \"black\", \"tickfont\": {\"color\": \"black\", \"family\": \"Myriad Pro\", \"size\": 16}, \"ticklen\": 4, \"ticks\": \"outside\", \"title\": {\"font\": {\"color\": \"black\", \"family\": \"Myriad Pro\", \"size\": 16}, \"text\": \"Cumulative Variance Explained\"}, \"zeroline\": true}},                        {\"responsive\": true}                    ).then(function(){\n",
       "                            \n",
       "var gd = document.getElementById('b1edcc87-ec7b-42e0-b514-86606565e6af');\n",
       "var x = new MutationObserver(function (mutations, observer) {{\n",
       "        var display = window.getComputedStyle(gd).display;\n",
       "        if (!display || display === 'none') {{\n",
       "            console.log([gd, 'removed!']);\n",
       "            Plotly.purge(gd);\n",
       "            observer.disconnect();\n",
       "        }}\n",
       "}});\n",
       "\n",
       "// Listen for the removal of the full notebook cells\n",
       "var notebookContainer = gd.closest('#notebook-container');\n",
       "if (notebookContainer) {{\n",
       "    x.observe(notebookContainer, {childList: true});\n",
       "}}\n",
       "\n",
       "// Listen for the clearing of the current output cell\n",
       "var outputEl = gd.closest('.output');\n",
       "if (outputEl) {{\n",
       "    x.observe(outputEl, {childList: true});\n",
       "}}\n",
       "\n",
       "                        })                };                });            </script>        </div>"
      ]
     },
     "metadata": {},
     "output_type": "display_data"
    }
   ],
   "source": [
    "trace_list = []\n",
    "trace_list.append(go.Scatter(x=np.arange(1,7),\n",
    "                             y=np.cumsum(pca.explained_variance_ratio_),\n",
    "                             mode='lines+markers',\n",
    "                             line=dict(width=1.5, color='rgb(33,100,175)'),\n",
    "                             name=analyte))\n",
    "\n",
    "\n",
    "layout = go.Layout(height=425, width=405, legend_x= 0.1, legend_y=-0.15, legend_font=dict(family='Myriad Pro', size=12, color='black'), legend_orientation='h',\n",
    "                   xaxis=dict(title='Number of Components',\n",
    "                              title_standoff=0.5,\n",
    "                              titlefont=dict(family='Myriad Pro', size=16, color='black'),\n",
    "                              showline=True, linewidth=1, linecolor='black', mirror=True, side='bottom',\n",
    "                              ticks='outside', ticklen=4, tickangle=0, nticks=8,\n",
    "                              tickfont=dict(size=16, family='Myriad Pro', color='black'), tickcolor='black',\n",
    "                              showgrid=True,zeroline=True),\n",
    "                  \n",
    "                  yaxis=dict(title='Cumulative Variance Explained',\n",
    "                            titlefont=dict(family='Myriad Pro', size=16, color='black'),\n",
    "\n",
    "                              anchor='x', side='left', showgrid=True, zeroline=True,\n",
    "                            tickfont=dict(family='Myriad Pro',size=16, color='black'), tickcolor='black', \n",
    "\n",
    "                              showline=True, linewidth=1, linecolor='black', mirror=True,\n",
    "                              ticks='outside', ticklen=4, tickangle=0))\n",
    "\n",
    "\n",
    "plot(go.Figure(data = trace_list, layout=layout))"
   ]
  },
  {
   "cell_type": "markdown",
   "id": "sudden-mainland",
   "metadata": {},
   "source": [
    "### Plot scores of first 3 PCs ###"
   ]
  },
  {
   "cell_type": "code",
   "execution_count": 16,
   "id": "expired-colleague",
   "metadata": {
    "scrolled": false
   },
   "outputs": [
    {
     "data": {
      "application/vnd.plotly.v1+json": {
       "config": {
        "linkText": "Export to plot.ly",
        "plotlyServerURL": "https://plot.ly",
        "showLink": false
       },
       "data": [
        {
         "marker": {
          "color": "rgb(54, 146, 68)",
          "line": {
           "color": "black",
           "width": 0.5
          },
          "size": 12,
          "symbol": "circle"
         },
         "mode": "markers",
         "showlegend": false,
         "type": "scatter",
         "x": [
          -1.0392109922137942
         ],
         "xaxis": "x2",
         "y": [
          3.3925583848439
         ],
         "yaxis": "y2"
        },
        {
         "marker": {
          "color": "rgb(33.0, 100.0, 175.0)",
          "line": {
           "color": "black",
           "width": 0.5
          },
          "size": 8,
          "symbol": "circle"
         },
         "mode": "markers",
         "showlegend": false,
         "type": "scatter",
         "x": [
          -1.1080757272009907,
          -1.1312595285137415,
          -1.1052294571951582
         ],
         "xaxis": "x2",
         "y": [
          4.5671471122856335,
          4.47133928493017,
          4.583003686180552
         ],
         "yaxis": "y2"
        },
        {
         "marker": {
          "color": "rgb(100.0, 144.66666666666666, 194.66666666666666)",
          "line": {
           "color": "black",
           "width": 0.5
          },
          "size": 8,
          "symbol": "circle"
         },
         "mode": "markers",
         "showlegend": false,
         "type": "scatter",
         "x": [
          0.44432218847968624,
          0.5398936448329693,
          0.5410306492346849
         ],
         "xaxis": "x2",
         "y": [
          3.924470459126368,
          3.999985986266941,
          3.9967787859194313
         ],
         "yaxis": "y2"
        },
        {
         "marker": {
          "color": "rgb(167.0, 189.33333333333331, 214.33333333333334)",
          "line": {
           "color": "black",
           "width": 0.5
          },
          "size": 8,
          "symbol": "circle"
         },
         "mode": "markers",
         "showlegend": false,
         "type": "scatter",
         "x": [
          2.003460439233315,
          2.0228989710051875,
          1.9593885950689833
         ],
         "xaxis": "x2",
         "y": [
          2.7409735496493948,
          2.7218943607619397,
          2.5994517775334147
         ],
         "yaxis": "y2"
        },
        {
         "marker": {
          "color": "rgb(228.33333333333334, 180.0, 170.0)",
          "line": {
           "color": "black",
           "width": 0.5
          },
          "size": 8,
          "symbol": "circle"
         },
         "mode": "markers",
         "showlegend": false,
         "type": "scatter",
         "x": [
          2.3541879784205264,
          2.3244202539409566,
          2.3069448289154004
         ],
         "xaxis": "x2",
         "y": [
          1.931148588557489,
          1.8927902374572678,
          1.948967737957641
         ],
         "yaxis": "y2"
        },
        {
         "marker": {
          "color": "rgb(222.66666666666666, 126.0, 106.0)",
          "line": {
           "color": "black",
           "width": 0.5
          },
          "size": 8,
          "symbol": "circle"
         },
         "mode": "markers",
         "showlegend": false,
         "type": "scatter",
         "x": [
          2.516493115533592,
          2.552952700184765,
          2.3350359945123964
         ],
         "xaxis": "x2",
         "y": [
          2.0213350300460493,
          1.9814706897092529,
          1.8430678480976368
         ],
         "yaxis": "y2"
        },
        {
         "marker": {
          "color": "rgb(217.0, 72.0, 42.0)",
          "line": {
           "color": "black",
           "width": 0.5
          },
          "size": 8,
          "symbol": "circle"
         },
         "mode": "markers",
         "showlegend": false,
         "type": "scatter",
         "x": [
          2.3956866823194334,
          2.402509760070554,
          2.3261412316597063
         ],
         "xaxis": "x2",
         "y": [
          1.88886530881932,
          1.789647227288464,
          1.8637790429213574
         ],
         "yaxis": "y2"
        },
        {
         "marker": {
          "color": "rgb(54, 146, 68)",
          "line": {
           "color": "black",
           "width": 0.5
          },
          "size": 12,
          "symbol": "x"
         },
         "mode": "markers",
         "showlegend": false,
         "type": "scatter",
         "x": [
          -1.9613351855984575
         ],
         "xaxis": "x2",
         "y": [
          -0.5920944367702766
         ],
         "yaxis": "y2"
        },
        {
         "marker": {
          "color": "rgb(33.0, 100.0, 175.0)",
          "line": {
           "color": "black",
           "width": 0.5
          },
          "size": 8,
          "symbol": "x"
         },
         "mode": "markers",
         "showlegend": false,
         "type": "scatter",
         "x": [
          -2.0386133550523167,
          -1.9016941698414784,
          -1.9610636843240443
         ],
         "xaxis": "x2",
         "y": [
          0.7729686671084145,
          0.7605568558245743,
          0.8289080469654122
         ],
         "yaxis": "y2"
        },
        {
         "marker": {
          "color": "rgb(100.0, 144.66666666666666, 194.66666666666666)",
          "line": {
           "color": "black",
           "width": 0.5
          },
          "size": 8,
          "symbol": "x"
         },
         "mode": "markers",
         "showlegend": false,
         "type": "scatter",
         "x": [
          -1.0980992430279846,
          -1.1507262722132285,
          -1.0766314107665407
         ],
         "xaxis": "x2",
         "y": [
          -0.1318974278371037,
          -0.145634149194224,
          -0.17172105012810418
         ],
         "yaxis": "y2"
        },
        {
         "marker": {
          "color": "rgb(167.0, 189.33333333333331, 214.33333333333334)",
          "line": {
           "color": "black",
           "width": 0.5
          },
          "size": 8,
          "symbol": "x"
         },
         "mode": "markers",
         "showlegend": false,
         "type": "scatter",
         "x": [
          -0.14413268714479283,
          -0.1291075287128541,
          -0.21061144561274273
         ],
         "xaxis": "x2",
         "y": [
          -1.3262820156776036,
          -1.314059483300048,
          -1.2787962103533224
         ],
         "yaxis": "y2"
        },
        {
         "marker": {
          "color": "rgb(228.33333333333334, 180.0, 170.0)",
          "line": {
           "color": "black",
           "width": 0.5
          },
          "size": 8,
          "symbol": "x"
         },
         "mode": "markers",
         "showlegend": false,
         "type": "scatter",
         "x": [
          0.2667628329875186,
          0.22570796893311765,
          0.26911879558556717
         ],
         "xaxis": "x2",
         "y": [
          -2.100605878554829,
          -2.167148388165432,
          -2.014804296026953
         ],
         "yaxis": "y2"
        },
        {
         "marker": {
          "color": "rgb(222.66666666666666, 126.0, 106.0)",
          "line": {
           "color": "black",
           "width": 0.5
          },
          "size": 8,
          "symbol": "x"
         },
         "mode": "markers",
         "showlegend": false,
         "type": "scatter",
         "x": [
          0.30273324246383476,
          0.2806994626347979,
          0.4231395023953555
         ],
         "xaxis": "x2",
         "y": [
          -1.8048239152408272,
          -2.0227772660358085,
          -2.086190628040889
         ],
         "yaxis": "y2"
        },
        {
         "marker": {
          "color": "rgb(217.0, 72.0, 42.0)",
          "line": {
           "color": "black",
           "width": 0.5
          },
          "size": 8,
          "symbol": "x"
         },
         "mode": "markers",
         "showlegend": false,
         "type": "scatter",
         "x": [
          0.42760304043774006,
          0.5527955373305947,
          0.5680317482625383
         ],
         "xaxis": "x2",
         "y": [
          -2.0545110267092417,
          -2.265942992753503,
          -2.224849969540069
         ],
         "yaxis": "y2"
        },
        {
         "marker": {
          "color": "rgb(54, 146, 68)",
          "line": {
           "color": "black",
           "width": 0.5
          },
          "size": 12,
          "symbol": "diamond"
         },
         "mode": "markers",
         "showlegend": false,
         "type": "scatter",
         "x": [
          -1.8505564040596898
         ],
         "xaxis": "x2",
         "y": [
          -0.18352920483225368
         ],
         "yaxis": "y2"
        },
        {
         "marker": {
          "color": "rgb(33.0, 100.0, 175.0)",
          "line": {
           "color": "black",
           "width": 0.5
          },
          "size": 8,
          "symbol": "diamond"
         },
         "mode": "markers",
         "showlegend": false,
         "type": "scatter",
         "x": [
          -1.7520953251698022,
          -1.6743401500267714,
          -1.7295443395046028
         ],
         "xaxis": "x2",
         "y": [
          0.9583659150006976,
          1.1254557418478268,
          1.0956548497477976
         ],
         "yaxis": "y2"
        },
        {
         "marker": {
          "color": "rgb(100.0, 144.66666666666666, 194.66666666666666)",
          "line": {
           "color": "black",
           "width": 0.5
          },
          "size": 8,
          "symbol": "diamond"
         },
         "mode": "markers",
         "showlegend": false,
         "type": "scatter",
         "x": [
          -0.8967817007106362,
          -0.9723147426474467,
          -1.080940963588972
         ],
         "xaxis": "x2",
         "y": [
          0.3494883360635157,
          0.15615747738832736,
          0.2802429719534489
         ],
         "yaxis": "y2"
        },
        {
         "marker": {
          "color": "rgb(167.0, 189.33333333333331, 214.33333333333334)",
          "line": {
           "color": "black",
           "width": 0.5
          },
          "size": 8,
          "symbol": "diamond"
         },
         "mode": "markers",
         "showlegend": false,
         "type": "scatter",
         "x": [
          -0.25796737417225346,
          -0.22201417360211126,
          -0.007625374742388254
         ],
         "xaxis": "x2",
         "y": [
          -0.9203705123237378,
          -0.8965892365785282,
          -1.0934011862488378
         ],
         "yaxis": "y2"
        },
        {
         "marker": {
          "color": "rgb(228.33333333333334, 180.0, 170.0)",
          "line": {
           "color": "black",
           "width": 0.5
          },
          "size": 8,
          "symbol": "diamond"
         },
         "mode": "markers",
         "showlegend": false,
         "type": "scatter",
         "x": [
          0.0012166751574885382,
          0.3024853658431663,
          0.3292074365583328
         ],
         "xaxis": "x2",
         "y": [
          -1.7135859998603737,
          -1.908798233819545,
          -1.9479506823615123
         ],
         "yaxis": "y2"
        },
        {
         "marker": {
          "color": "rgb(222.66666666666666, 126.0, 106.0)",
          "line": {
           "color": "black",
           "width": 0.5
          },
          "size": 8,
          "symbol": "diamond"
         },
         "mode": "markers",
         "showlegend": false,
         "type": "scatter",
         "x": [
          0.5093779588570261,
          0.5930648762985972,
          0.5645175421841404
         ],
         "xaxis": "x2",
         "y": [
          -2.166995493886043,
          -2.152557368859361,
          -2.1670282843198536
         ],
         "yaxis": "y2"
        },
        {
         "marker": {
          "color": "rgb(217.0, 72.0, 42.0)",
          "line": {
           "color": "black",
           "width": 0.5
          },
          "size": 8,
          "symbol": "diamond"
         },
         "mode": "markers",
         "showlegend": false,
         "type": "scatter",
         "x": [
          0.613399155662397,
          0.6194668596841832,
          0.6815701808474504
         ],
         "xaxis": "x2",
         "y": [
          -2.0164822945941427,
          -2.1798129029352618,
          -2.208707614755592
         ],
         "yaxis": "y2"
        },
        {
         "marker": {
          "color": "rgb(54, 146, 68)",
          "line": {
           "color": "black",
           "width": 0.5
          },
          "size": 12,
          "symbol": "square"
         },
         "mode": "markers",
         "showlegend": false,
         "type": "scatter",
         "x": [
          -1.3493581699652417
         ],
         "xaxis": "x2",
         "y": [
          0.6190700074729046
         ],
         "yaxis": "y2"
        },
        {
         "marker": {
          "color": "rgb(33.0, 100.0, 175.0)",
          "line": {
           "color": "black",
           "width": 0.5
          },
          "size": 8,
          "symbol": "square"
         },
         "mode": "markers",
         "showlegend": false,
         "type": "scatter",
         "x": [
          -2.280210422139354,
          -2.240263358571105,
          -2.2201475009976237
         ],
         "xaxis": "x2",
         "y": [
          1.4517787782426228,
          1.4392236637840092,
          1.4363492450482989
         ],
         "yaxis": "y2"
        },
        {
         "marker": {
          "color": "rgb(100.0, 144.66666666666666, 194.66666666666666)",
          "line": {
           "color": "black",
           "width": 0.5
          },
          "size": 8,
          "symbol": "square"
         },
         "mode": "markers",
         "showlegend": false,
         "type": "scatter",
         "x": [
          -1.5439890474980789,
          -1.6455755495673299,
          -1.6494219615766585
         ],
         "xaxis": "x2",
         "y": [
          0.4218432897802351,
          0.4189823505549946,
          0.5995441438254117
         ],
         "yaxis": "y2"
        },
        {
         "marker": {
          "color": "rgb(167.0, 189.33333333333331, 214.33333333333334)",
          "line": {
           "color": "black",
           "width": 0.5
          },
          "size": 8,
          "symbol": "square"
         },
         "mode": "markers",
         "showlegend": false,
         "type": "scatter",
         "x": [
          -0.39952105611229216,
          -0.5155726464727439,
          -0.5560534258064268
         ],
         "xaxis": "x2",
         "y": [
          -1.0362954612303057,
          -0.9482194708495253,
          -0.8690133016496151
         ],
         "yaxis": "y2"
        },
        {
         "marker": {
          "color": "rgb(228.33333333333334, 180.0, 170.0)",
          "line": {
           "color": "black",
           "width": 0.5
          },
          "size": 8,
          "symbol": "square"
         },
         "mode": "markers",
         "showlegend": false,
         "type": "scatter",
         "x": [
          0.29052077237215806,
          0.17409427707572114,
          0.33988943968997776
         ],
         "xaxis": "x2",
         "y": [
          -1.9282597787801627,
          -1.8201774486438254,
          -1.942780149210833
         ],
         "yaxis": "y2"
        },
        {
         "marker": {
          "color": "rgb(222.66666666666666, 126.0, 106.0)",
          "line": {
           "color": "black",
           "width": 0.5
          },
          "size": 8,
          "symbol": "square"
         },
         "mode": "markers",
         "showlegend": false,
         "type": "scatter",
         "x": [
          0.4488710481106819,
          0.5679025559996315,
          0.4779248681267955
         ],
         "xaxis": "x2",
         "y": [
          -2.0762406335366608,
          -2.230753019262207,
          -2.106890596178071
         ],
         "yaxis": "y2"
        },
        {
         "marker": {
          "color": "rgb(217.0, 72.0, 42.0)",
          "line": {
           "color": "black",
           "width": 0.5
          },
          "size": 8,
          "symbol": "square"
         },
         "mode": "markers",
         "showlegend": false,
         "type": "scatter",
         "x": [
          0.6433323861730657,
          0.6122244511821106,
          0.789059360083508
         ],
         "xaxis": "x2",
         "y": [
          -2.179550833870897,
          -2.174072747144571,
          -2.3030638489007687
         ],
         "yaxis": "y2"
        },
        {
         "marker": {
          "color": "rgb(54, 146, 68)",
          "line": {
           "color": "black",
           "width": 0.5
          },
          "size": 12,
          "symbol": "circle"
         },
         "mode": "markers",
         "showlegend": false,
         "type": "scatter",
         "x": [
          0.5827955539655392
         ],
         "xaxis": "x3",
         "y": [
          3.3925583848439
         ],
         "yaxis": "y3"
        },
        {
         "marker": {
          "color": "rgb(33.0, 100.0, 175.0)",
          "line": {
           "color": "black",
           "width": 0.5
          },
          "size": 8,
          "symbol": "circle"
         },
         "mode": "markers",
         "showlegend": false,
         "type": "scatter",
         "x": [
          1.3137273701667571,
          1.2685632398193596,
          1.3731568563746621
         ],
         "xaxis": "x3",
         "y": [
          4.5671471122856335,
          4.47133928493017,
          4.583003686180552
         ],
         "yaxis": "y3"
        },
        {
         "marker": {
          "color": "rgb(100.0, 144.66666666666666, 194.66666666666666)",
          "line": {
           "color": "black",
           "width": 0.5
          },
          "size": 8,
          "symbol": "circle"
         },
         "mode": "markers",
         "showlegend": false,
         "type": "scatter",
         "x": [
          0.6573465027885126,
          0.7117447032871379,
          0.7728143727179353
         ],
         "xaxis": "x3",
         "y": [
          3.924470459126368,
          3.999985986266941,
          3.9967787859194313
         ],
         "yaxis": "y3"
        },
        {
         "marker": {
          "color": "rgb(167.0, 189.33333333333331, 214.33333333333334)",
          "line": {
           "color": "black",
           "width": 0.5
          },
          "size": 8,
          "symbol": "circle"
         },
         "mode": "markers",
         "showlegend": false,
         "type": "scatter",
         "x": [
          -0.03853833557086538,
          0.0009107691615076038,
          -0.08913801927138913
         ],
         "xaxis": "x3",
         "y": [
          2.7409735496493948,
          2.7218943607619397,
          2.5994517775334147
         ],
         "yaxis": "y3"
        },
        {
         "marker": {
          "color": "rgb(228.33333333333334, 180.0, 170.0)",
          "line": {
           "color": "black",
           "width": 0.5
          },
          "size": 8,
          "symbol": "circle"
         },
         "mode": "markers",
         "showlegend": false,
         "type": "scatter",
         "x": [
          -0.5449142696361674,
          -0.6046909982758699,
          -0.5955433239255441
         ],
         "xaxis": "x3",
         "y": [
          1.931148588557489,
          1.8927902374572678,
          1.948967737957641
         ],
         "yaxis": "y3"
        },
        {
         "marker": {
          "color": "rgb(222.66666666666666, 126.0, 106.0)",
          "line": {
           "color": "black",
           "width": 0.5
          },
          "size": 8,
          "symbol": "circle"
         },
         "mode": "markers",
         "showlegend": false,
         "type": "scatter",
         "x": [
          -0.5255970031260905,
          -0.5502479590203517,
          -0.5503040547477626
         ],
         "xaxis": "x3",
         "y": [
          2.0213350300460493,
          1.9814706897092529,
          1.8430678480976368
         ],
         "yaxis": "y3"
        },
        {
         "marker": {
          "color": "rgb(217.0, 72.0, 42.0)",
          "line": {
           "color": "black",
           "width": 0.5
          },
          "size": 8,
          "symbol": "circle"
         },
         "mode": "markers",
         "showlegend": false,
         "type": "scatter",
         "x": [
          -0.582419847667496,
          -0.7144342498200071,
          -0.6293713320353531
         ],
         "xaxis": "x3",
         "y": [
          1.88886530881932,
          1.789647227288464,
          1.8637790429213574
         ],
         "yaxis": "y3"
        },
        {
         "marker": {
          "color": "rgb(54, 146, 68)",
          "line": {
           "color": "black",
           "width": 0.5
          },
          "size": 12,
          "symbol": "x"
         },
         "mode": "markers",
         "showlegend": false,
         "type": "scatter",
         "x": [
          -1.329488729818281
         ],
         "xaxis": "x3",
         "y": [
          -0.5920944367702766
         ],
         "yaxis": "y3"
        },
        {
         "marker": {
          "color": "rgb(33.0, 100.0, 175.0)",
          "line": {
           "color": "black",
           "width": 0.5
          },
          "size": 8,
          "symbol": "x"
         },
         "mode": "markers",
         "showlegend": false,
         "type": "scatter",
         "x": [
          -0.7800991223465219,
          -0.8119624856790125,
          -0.7480544077688025
         ],
         "xaxis": "x3",
         "y": [
          0.7729686671084145,
          0.7605568558245743,
          0.8289080469654122
         ],
         "yaxis": "y3"
        },
        {
         "marker": {
          "color": "rgb(100.0, 144.66666666666666, 194.66666666666666)",
          "line": {
           "color": "black",
           "width": 0.5
          },
          "size": 8,
          "symbol": "x"
         },
         "mode": "markers",
         "showlegend": false,
         "type": "scatter",
         "x": [
          -1.034286858957992,
          -1.0444308392418173,
          -1.0583445687751263
         ],
         "xaxis": "x3",
         "y": [
          -0.1318974278371037,
          -0.145634149194224,
          -0.17172105012810418
         ],
         "yaxis": "y3"
        },
        {
         "marker": {
          "color": "rgb(167.0, 189.33333333333331, 214.33333333333334)",
          "line": {
           "color": "black",
           "width": 0.5
          },
          "size": 8,
          "symbol": "x"
         },
         "mode": "markers",
         "showlegend": false,
         "type": "scatter",
         "x": [
          -0.4530175480366294,
          -0.4379228468079163,
          -0.4166757942169375
         ],
         "xaxis": "x3",
         "y": [
          -1.3262820156776036,
          -1.314059483300048,
          -1.2787962103533224
         ],
         "yaxis": "y3"
        },
        {
         "marker": {
          "color": "rgb(228.33333333333334, 180.0, 170.0)",
          "line": {
           "color": "black",
           "width": 0.5
          },
          "size": 8,
          "symbol": "x"
         },
         "mode": "markers",
         "showlegend": false,
         "type": "scatter",
         "x": [
          -0.11453412292227837,
          -0.2080226974940316,
          -0.17473427779067813
         ],
         "xaxis": "x3",
         "y": [
          -2.100605878554829,
          -2.167148388165432,
          -2.014804296026953
         ],
         "yaxis": "y3"
        },
        {
         "marker": {
          "color": "rgb(222.66666666666666, 126.0, 106.0)",
          "line": {
           "color": "black",
           "width": 0.5
          },
          "size": 8,
          "symbol": "x"
         },
         "mode": "markers",
         "showlegend": false,
         "type": "scatter",
         "x": [
          -0.22779694141822,
          -0.3940907768280189,
          -0.370328598568993
         ],
         "xaxis": "x3",
         "y": [
          -1.8048239152408272,
          -2.0227772660358085,
          -2.086190628040889
         ],
         "yaxis": "y3"
        },
        {
         "marker": {
          "color": "rgb(217.0, 72.0, 42.0)",
          "line": {
           "color": "black",
           "width": 0.5
          },
          "size": 8,
          "symbol": "x"
         },
         "mode": "markers",
         "showlegend": false,
         "type": "scatter",
         "x": [
          -0.524520867322948,
          -0.4202503473445575,
          -0.4956267144506031
         ],
         "xaxis": "x3",
         "y": [
          -2.0545110267092417,
          -2.265942992753503,
          -2.224849969540069
         ],
         "yaxis": "y3"
        },
        {
         "marker": {
          "color": "rgb(54, 146, 68)",
          "line": {
           "color": "black",
           "width": 0.5
          },
          "size": 12,
          "symbol": "diamond"
         },
         "mode": "markers",
         "showlegend": false,
         "type": "scatter",
         "x": [
          -1.0020278329649326
         ],
         "xaxis": "x3",
         "y": [
          -0.18352920483225368
         ],
         "yaxis": "y3"
        },
        {
         "marker": {
          "color": "rgb(33.0, 100.0, 175.0)",
          "line": {
           "color": "black",
           "width": 0.5
          },
          "size": 8,
          "symbol": "diamond"
         },
         "mode": "markers",
         "showlegend": false,
         "type": "scatter",
         "x": [
          -0.7517243555575597,
          -0.5824405329159488,
          -0.6171369784888349
         ],
         "xaxis": "x3",
         "y": [
          0.9583659150006976,
          1.1254557418478268,
          1.0956548497477976
         ],
         "yaxis": "y3"
        },
        {
         "marker": {
          "color": "rgb(100.0, 144.66666666666666, 194.66666666666666)",
          "line": {
           "color": "black",
           "width": 0.5
          },
          "size": 8,
          "symbol": "diamond"
         },
         "mode": "markers",
         "showlegend": false,
         "type": "scatter",
         "x": [
          -0.7402788561704936,
          -0.9074214997150207,
          -0.8207648358688954
         ],
         "xaxis": "x3",
         "y": [
          0.3494883360635157,
          0.15615747738832736,
          0.2802429719534489
         ],
         "yaxis": "y3"
        },
        {
         "marker": {
          "color": "rgb(167.0, 189.33333333333331, 214.33333333333334)",
          "line": {
           "color": "black",
           "width": 0.5
          },
          "size": 8,
          "symbol": "diamond"
         },
         "mode": "markers",
         "showlegend": false,
         "type": "scatter",
         "x": [
          -0.3831385276845208,
          -0.3758664168722782,
          -0.45766076559898017
         ],
         "xaxis": "x3",
         "y": [
          -0.9203705123237378,
          -0.8965892365785282,
          -1.0934011862488378
         ],
         "yaxis": "y3"
        },
        {
         "marker": {
          "color": "rgb(228.33333333333334, 180.0, 170.0)",
          "line": {
           "color": "black",
           "width": 0.5
          },
          "size": 8,
          "symbol": "diamond"
         },
         "mode": "markers",
         "showlegend": false,
         "type": "scatter",
         "x": [
          -0.14836274347460496,
          -0.11168879951940447,
          0.01875844994606958
         ],
         "xaxis": "x3",
         "y": [
          -1.7135859998603737,
          -1.908798233819545,
          -1.9479506823615123
         ],
         "yaxis": "y3"
        },
        {
         "marker": {
          "color": "rgb(222.66666666666666, 126.0, 106.0)",
          "line": {
           "color": "black",
           "width": 0.5
          },
          "size": 8,
          "symbol": "diamond"
         },
         "mode": "markers",
         "showlegend": false,
         "type": "scatter",
         "x": [
          -0.08415245455887825,
          -0.08313201846782911,
          -0.13510556865022239
         ],
         "xaxis": "x3",
         "y": [
          -2.166995493886043,
          -2.152557368859361,
          -2.1670282843198536
         ],
         "yaxis": "y3"
        },
        {
         "marker": {
          "color": "rgb(217.0, 72.0, 42.0)",
          "line": {
           "color": "black",
           "width": 0.5
          },
          "size": 8,
          "symbol": "diamond"
         },
         "mode": "markers",
         "showlegend": false,
         "type": "scatter",
         "x": [
          -0.29831853138147624,
          -0.24218085871625888,
          -0.23614139661586092
         ],
         "xaxis": "x3",
         "y": [
          -2.0164822945941427,
          -2.1798129029352618,
          -2.208707614755592
         ],
         "yaxis": "y3"
        },
        {
         "marker": {
          "color": "rgb(54, 146, 68)",
          "line": {
           "color": "black",
           "width": 0.5
          },
          "size": 12,
          "symbol": "square"
         },
         "mode": "markers",
         "showlegend": false,
         "type": "scatter",
         "x": [
          -0.25081609705692054
         ],
         "xaxis": "x3",
         "y": [
          0.6190700074729046
         ],
         "yaxis": "y3"
        },
        {
         "marker": {
          "color": "rgb(33.0, 100.0, 175.0)",
          "line": {
           "color": "black",
           "width": 0.5
          },
          "size": 8,
          "symbol": "square"
         },
         "mode": "markers",
         "showlegend": false,
         "type": "scatter",
         "x": [
          0.2337527034345187,
          0.17360788215801445,
          0.19358577851057718
         ],
         "xaxis": "x3",
         "y": [
          1.4517787782426228,
          1.4392236637840092,
          1.4363492450482989
         ],
         "yaxis": "y3"
        },
        {
         "marker": {
          "color": "rgb(100.0, 144.66666666666666, 194.66666666666666)",
          "line": {
           "color": "black",
           "width": 0.5
          },
          "size": 8,
          "symbol": "square"
         },
         "mode": "markers",
         "showlegend": false,
         "type": "scatter",
         "x": [
          0.47236290280626564,
          0.5483301908335012,
          0.6405294928124228
         ],
         "xaxis": "x3",
         "y": [
          0.4218432897802351,
          0.4189823505549946,
          0.5995441438254117
         ],
         "yaxis": "y3"
        },
        {
         "marker": {
          "color": "rgb(167.0, 189.33333333333331, 214.33333333333334)",
          "line": {
           "color": "black",
           "width": 0.5
          },
          "size": 8,
          "symbol": "square"
         },
         "mode": "markers",
         "showlegend": false,
         "type": "scatter",
         "x": [
          1.3328123302858883,
          1.3572417246795423,
          1.2941940865604407
         ],
         "xaxis": "x3",
         "y": [
          -1.0362954612303057,
          -0.9482194708495253,
          -0.8690133016496151
         ],
         "yaxis": "y3"
        },
        {
         "marker": {
          "color": "rgb(228.33333333333334, 180.0, 170.0)",
          "line": {
           "color": "black",
           "width": 0.5
          },
          "size": 8,
          "symbol": "square"
         },
         "mode": "markers",
         "showlegend": false,
         "type": "scatter",
         "x": [
          1.3678727453984274,
          1.1210111210607898,
          1.4649476454954868
         ],
         "xaxis": "x3",
         "y": [
          -1.9282597787801627,
          -1.8201774486438254,
          -1.942780149210833
         ],
         "yaxis": "y3"
        },
        {
         "marker": {
          "color": "rgb(222.66666666666666, 126.0, 106.0)",
          "line": {
           "color": "black",
           "width": 0.5
          },
          "size": 8,
          "symbol": "square"
         },
         "mode": "markers",
         "showlegend": false,
         "type": "scatter",
         "x": [
          1.4749587280156728,
          1.4717148395773851,
          1.2989233323733562
         ],
         "xaxis": "x3",
         "y": [
          -2.0762406335366608,
          -2.230753019262207,
          -2.106890596178071
         ],
         "yaxis": "y3"
        },
        {
         "marker": {
          "color": "rgb(217.0, 72.0, 42.0)",
          "line": {
           "color": "black",
           "width": 0.5
          },
          "size": 8,
          "symbol": "square"
         },
         "mode": "markers",
         "showlegend": false,
         "type": "scatter",
         "x": [
          1.2575541809243258,
          1.1021622377559042,
          1.1923672682551807
         ],
         "xaxis": "x3",
         "y": [
          -2.179550833870897,
          -2.174072747144571,
          -2.3030638489007687
         ],
         "yaxis": "y3"
        },
        {
         "marker": {
          "color": "rgb(54, 146, 68)",
          "line": {
           "color": "black",
           "width": 0.5
          },
          "size": 12,
          "symbol": "circle"
         },
         "mode": "markers",
         "showlegend": false,
         "type": "scatter",
         "x": [
          3.3925583848439
         ],
         "xaxis": "x4",
         "y": [
          -1.0392109922137942
         ],
         "yaxis": "y4"
        },
        {
         "marker": {
          "color": "rgb(33.0, 100.0, 175.0)",
          "line": {
           "color": "black",
           "width": 0.5
          },
          "size": 8,
          "symbol": "circle"
         },
         "mode": "markers",
         "showlegend": false,
         "type": "scatter",
         "x": [
          4.5671471122856335,
          4.47133928493017,
          4.583003686180552
         ],
         "xaxis": "x4",
         "y": [
          -1.1080757272009907,
          -1.1312595285137415,
          -1.1052294571951582
         ],
         "yaxis": "y4"
        },
        {
         "marker": {
          "color": "rgb(100.0, 144.66666666666666, 194.66666666666666)",
          "line": {
           "color": "black",
           "width": 0.5
          },
          "size": 8,
          "symbol": "circle"
         },
         "mode": "markers",
         "showlegend": false,
         "type": "scatter",
         "x": [
          3.924470459126368,
          3.999985986266941,
          3.9967787859194313
         ],
         "xaxis": "x4",
         "y": [
          0.44432218847968624,
          0.5398936448329693,
          0.5410306492346849
         ],
         "yaxis": "y4"
        },
        {
         "marker": {
          "color": "rgb(167.0, 189.33333333333331, 214.33333333333334)",
          "line": {
           "color": "black",
           "width": 0.5
          },
          "size": 8,
          "symbol": "circle"
         },
         "mode": "markers",
         "showlegend": false,
         "type": "scatter",
         "x": [
          2.7409735496493948,
          2.7218943607619397,
          2.5994517775334147
         ],
         "xaxis": "x4",
         "y": [
          2.003460439233315,
          2.0228989710051875,
          1.9593885950689833
         ],
         "yaxis": "y4"
        },
        {
         "marker": {
          "color": "rgb(228.33333333333334, 180.0, 170.0)",
          "line": {
           "color": "black",
           "width": 0.5
          },
          "size": 8,
          "symbol": "circle"
         },
         "mode": "markers",
         "showlegend": false,
         "type": "scatter",
         "x": [
          1.931148588557489,
          1.8927902374572678,
          1.948967737957641
         ],
         "xaxis": "x4",
         "y": [
          2.3541879784205264,
          2.3244202539409566,
          2.3069448289154004
         ],
         "yaxis": "y4"
        },
        {
         "marker": {
          "color": "rgb(222.66666666666666, 126.0, 106.0)",
          "line": {
           "color": "black",
           "width": 0.5
          },
          "size": 8,
          "symbol": "circle"
         },
         "mode": "markers",
         "showlegend": false,
         "type": "scatter",
         "x": [
          2.0213350300460493,
          1.9814706897092529,
          1.8430678480976368
         ],
         "xaxis": "x4",
         "y": [
          2.516493115533592,
          2.552952700184765,
          2.3350359945123964
         ],
         "yaxis": "y4"
        },
        {
         "marker": {
          "color": "rgb(217.0, 72.0, 42.0)",
          "line": {
           "color": "black",
           "width": 0.5
          },
          "size": 8,
          "symbol": "circle"
         },
         "mode": "markers",
         "showlegend": false,
         "type": "scatter",
         "x": [
          1.88886530881932,
          1.789647227288464,
          1.8637790429213574
         ],
         "xaxis": "x4",
         "y": [
          2.3956866823194334,
          2.402509760070554,
          2.3261412316597063
         ],
         "yaxis": "y4"
        },
        {
         "marker": {
          "color": "rgb(54, 146, 68)",
          "line": {
           "color": "black",
           "width": 0.5
          },
          "size": 12,
          "symbol": "x"
         },
         "mode": "markers",
         "showlegend": false,
         "type": "scatter",
         "x": [
          -0.5920944367702766
         ],
         "xaxis": "x4",
         "y": [
          -1.9613351855984575
         ],
         "yaxis": "y4"
        },
        {
         "marker": {
          "color": "rgb(33.0, 100.0, 175.0)",
          "line": {
           "color": "black",
           "width": 0.5
          },
          "size": 8,
          "symbol": "x"
         },
         "mode": "markers",
         "showlegend": false,
         "type": "scatter",
         "x": [
          0.7729686671084145,
          0.7605568558245743,
          0.8289080469654122
         ],
         "xaxis": "x4",
         "y": [
          -2.0386133550523167,
          -1.9016941698414784,
          -1.9610636843240443
         ],
         "yaxis": "y4"
        },
        {
         "marker": {
          "color": "rgb(100.0, 144.66666666666666, 194.66666666666666)",
          "line": {
           "color": "black",
           "width": 0.5
          },
          "size": 8,
          "symbol": "x"
         },
         "mode": "markers",
         "showlegend": false,
         "type": "scatter",
         "x": [
          -0.1318974278371037,
          -0.145634149194224,
          -0.17172105012810418
         ],
         "xaxis": "x4",
         "y": [
          -1.0980992430279846,
          -1.1507262722132285,
          -1.0766314107665407
         ],
         "yaxis": "y4"
        },
        {
         "marker": {
          "color": "rgb(167.0, 189.33333333333331, 214.33333333333334)",
          "line": {
           "color": "black",
           "width": 0.5
          },
          "size": 8,
          "symbol": "x"
         },
         "mode": "markers",
         "showlegend": false,
         "type": "scatter",
         "x": [
          -1.3262820156776036,
          -1.314059483300048,
          -1.2787962103533224
         ],
         "xaxis": "x4",
         "y": [
          -0.14413268714479283,
          -0.1291075287128541,
          -0.21061144561274273
         ],
         "yaxis": "y4"
        },
        {
         "marker": {
          "color": "rgb(228.33333333333334, 180.0, 170.0)",
          "line": {
           "color": "black",
           "width": 0.5
          },
          "size": 8,
          "symbol": "x"
         },
         "mode": "markers",
         "showlegend": false,
         "type": "scatter",
         "x": [
          -2.100605878554829,
          -2.167148388165432,
          -2.014804296026953
         ],
         "xaxis": "x4",
         "y": [
          0.2667628329875186,
          0.22570796893311765,
          0.26911879558556717
         ],
         "yaxis": "y4"
        },
        {
         "marker": {
          "color": "rgb(222.66666666666666, 126.0, 106.0)",
          "line": {
           "color": "black",
           "width": 0.5
          },
          "size": 8,
          "symbol": "x"
         },
         "mode": "markers",
         "showlegend": false,
         "type": "scatter",
         "x": [
          -1.8048239152408272,
          -2.0227772660358085,
          -2.086190628040889
         ],
         "xaxis": "x4",
         "y": [
          0.30273324246383476,
          0.2806994626347979,
          0.4231395023953555
         ],
         "yaxis": "y4"
        },
        {
         "marker": {
          "color": "rgb(217.0, 72.0, 42.0)",
          "line": {
           "color": "black",
           "width": 0.5
          },
          "size": 8,
          "symbol": "x"
         },
         "mode": "markers",
         "showlegend": false,
         "type": "scatter",
         "x": [
          -2.0545110267092417,
          -2.265942992753503,
          -2.224849969540069
         ],
         "xaxis": "x4",
         "y": [
          0.42760304043774006,
          0.5527955373305947,
          0.5680317482625383
         ],
         "yaxis": "y4"
        },
        {
         "marker": {
          "color": "rgb(54, 146, 68)",
          "line": {
           "color": "black",
           "width": 0.5
          },
          "size": 12,
          "symbol": "diamond"
         },
         "mode": "markers",
         "showlegend": false,
         "type": "scatter",
         "x": [
          -0.18352920483225368
         ],
         "xaxis": "x4",
         "y": [
          -1.8505564040596898
         ],
         "yaxis": "y4"
        },
        {
         "marker": {
          "color": "rgb(33.0, 100.0, 175.0)",
          "line": {
           "color": "black",
           "width": 0.5
          },
          "size": 8,
          "symbol": "diamond"
         },
         "mode": "markers",
         "showlegend": false,
         "type": "scatter",
         "x": [
          0.9583659150006976,
          1.1254557418478268,
          1.0956548497477976
         ],
         "xaxis": "x4",
         "y": [
          -1.7520953251698022,
          -1.6743401500267714,
          -1.7295443395046028
         ],
         "yaxis": "y4"
        },
        {
         "marker": {
          "color": "rgb(100.0, 144.66666666666666, 194.66666666666666)",
          "line": {
           "color": "black",
           "width": 0.5
          },
          "size": 8,
          "symbol": "diamond"
         },
         "mode": "markers",
         "showlegend": false,
         "type": "scatter",
         "x": [
          0.3494883360635157,
          0.15615747738832736,
          0.2802429719534489
         ],
         "xaxis": "x4",
         "y": [
          -0.8967817007106362,
          -0.9723147426474467,
          -1.080940963588972
         ],
         "yaxis": "y4"
        },
        {
         "marker": {
          "color": "rgb(167.0, 189.33333333333331, 214.33333333333334)",
          "line": {
           "color": "black",
           "width": 0.5
          },
          "size": 8,
          "symbol": "diamond"
         },
         "mode": "markers",
         "showlegend": false,
         "type": "scatter",
         "x": [
          -0.9203705123237378,
          -0.8965892365785282,
          -1.0934011862488378
         ],
         "xaxis": "x4",
         "y": [
          -0.25796737417225346,
          -0.22201417360211126,
          -0.007625374742388254
         ],
         "yaxis": "y4"
        },
        {
         "marker": {
          "color": "rgb(228.33333333333334, 180.0, 170.0)",
          "line": {
           "color": "black",
           "width": 0.5
          },
          "size": 8,
          "symbol": "diamond"
         },
         "mode": "markers",
         "showlegend": false,
         "type": "scatter",
         "x": [
          -1.7135859998603737,
          -1.908798233819545,
          -1.9479506823615123
         ],
         "xaxis": "x4",
         "y": [
          0.0012166751574885382,
          0.3024853658431663,
          0.3292074365583328
         ],
         "yaxis": "y4"
        },
        {
         "marker": {
          "color": "rgb(222.66666666666666, 126.0, 106.0)",
          "line": {
           "color": "black",
           "width": 0.5
          },
          "size": 8,
          "symbol": "diamond"
         },
         "mode": "markers",
         "showlegend": false,
         "type": "scatter",
         "x": [
          -2.166995493886043,
          -2.152557368859361,
          -2.1670282843198536
         ],
         "xaxis": "x4",
         "y": [
          0.5093779588570261,
          0.5930648762985972,
          0.5645175421841404
         ],
         "yaxis": "y4"
        },
        {
         "marker": {
          "color": "rgb(217.0, 72.0, 42.0)",
          "line": {
           "color": "black",
           "width": 0.5
          },
          "size": 8,
          "symbol": "diamond"
         },
         "mode": "markers",
         "showlegend": false,
         "type": "scatter",
         "x": [
          -2.0164822945941427,
          -2.1798129029352618,
          -2.208707614755592
         ],
         "xaxis": "x4",
         "y": [
          0.613399155662397,
          0.6194668596841832,
          0.6815701808474504
         ],
         "yaxis": "y4"
        },
        {
         "marker": {
          "color": "rgb(54, 146, 68)",
          "line": {
           "color": "black",
           "width": 0.5
          },
          "size": 12,
          "symbol": "square"
         },
         "mode": "markers",
         "showlegend": false,
         "type": "scatter",
         "x": [
          0.6190700074729046
         ],
         "xaxis": "x4",
         "y": [
          -1.3493581699652417
         ],
         "yaxis": "y4"
        },
        {
         "marker": {
          "color": "rgb(33.0, 100.0, 175.0)",
          "line": {
           "color": "black",
           "width": 0.5
          },
          "size": 8,
          "symbol": "square"
         },
         "mode": "markers",
         "showlegend": false,
         "type": "scatter",
         "x": [
          1.4517787782426228,
          1.4392236637840092,
          1.4363492450482989
         ],
         "xaxis": "x4",
         "y": [
          -2.280210422139354,
          -2.240263358571105,
          -2.2201475009976237
         ],
         "yaxis": "y4"
        },
        {
         "marker": {
          "color": "rgb(100.0, 144.66666666666666, 194.66666666666666)",
          "line": {
           "color": "black",
           "width": 0.5
          },
          "size": 8,
          "symbol": "square"
         },
         "mode": "markers",
         "showlegend": false,
         "type": "scatter",
         "x": [
          0.4218432897802351,
          0.4189823505549946,
          0.5995441438254117
         ],
         "xaxis": "x4",
         "y": [
          -1.5439890474980789,
          -1.6455755495673299,
          -1.6494219615766585
         ],
         "yaxis": "y4"
        },
        {
         "marker": {
          "color": "rgb(167.0, 189.33333333333331, 214.33333333333334)",
          "line": {
           "color": "black",
           "width": 0.5
          },
          "size": 8,
          "symbol": "square"
         },
         "mode": "markers",
         "showlegend": false,
         "type": "scatter",
         "x": [
          -1.0362954612303057,
          -0.9482194708495253,
          -0.8690133016496151
         ],
         "xaxis": "x4",
         "y": [
          -0.39952105611229216,
          -0.5155726464727439,
          -0.5560534258064268
         ],
         "yaxis": "y4"
        },
        {
         "marker": {
          "color": "rgb(228.33333333333334, 180.0, 170.0)",
          "line": {
           "color": "black",
           "width": 0.5
          },
          "size": 8,
          "symbol": "square"
         },
         "mode": "markers",
         "showlegend": false,
         "type": "scatter",
         "x": [
          -1.9282597787801627,
          -1.8201774486438254,
          -1.942780149210833
         ],
         "xaxis": "x4",
         "y": [
          0.29052077237215806,
          0.17409427707572114,
          0.33988943968997776
         ],
         "yaxis": "y4"
        },
        {
         "marker": {
          "color": "rgb(222.66666666666666, 126.0, 106.0)",
          "line": {
           "color": "black",
           "width": 0.5
          },
          "size": 8,
          "symbol": "square"
         },
         "mode": "markers",
         "showlegend": false,
         "type": "scatter",
         "x": [
          -2.0762406335366608,
          -2.230753019262207,
          -2.106890596178071
         ],
         "xaxis": "x4",
         "y": [
          0.4488710481106819,
          0.5679025559996315,
          0.4779248681267955
         ],
         "yaxis": "y4"
        },
        {
         "marker": {
          "color": "rgb(217.0, 72.0, 42.0)",
          "line": {
           "color": "black",
           "width": 0.5
          },
          "size": 8,
          "symbol": "square"
         },
         "mode": "markers",
         "showlegend": false,
         "type": "scatter",
         "x": [
          -2.179550833870897,
          -2.174072747144571,
          -2.3030638489007687
         ],
         "xaxis": "x4",
         "y": [
          0.6433323861730657,
          0.6122244511821106,
          0.789059360083508
         ],
         "yaxis": "y4"
        },
        {
         "marker": {
          "color": "rgb(54, 146, 68)",
          "line": {
           "color": "black",
           "width": 0.5
          },
          "size": 12,
          "symbol": "circle"
         },
         "mode": "markers",
         "showlegend": false,
         "type": "scatter",
         "x": [
          0.5827955539655392
         ],
         "xaxis": "x6",
         "y": [
          -1.0392109922137942
         ],
         "yaxis": "y6"
        },
        {
         "marker": {
          "color": "rgb(33.0, 100.0, 175.0)",
          "line": {
           "color": "black",
           "width": 0.5
          },
          "size": 8,
          "symbol": "circle"
         },
         "mode": "markers",
         "showlegend": false,
         "type": "scatter",
         "x": [
          1.3137273701667571,
          1.2685632398193596,
          1.3731568563746621
         ],
         "xaxis": "x6",
         "y": [
          -1.1080757272009907,
          -1.1312595285137415,
          -1.1052294571951582
         ],
         "yaxis": "y6"
        },
        {
         "marker": {
          "color": "rgb(100.0, 144.66666666666666, 194.66666666666666)",
          "line": {
           "color": "black",
           "width": 0.5
          },
          "size": 8,
          "symbol": "circle"
         },
         "mode": "markers",
         "showlegend": false,
         "type": "scatter",
         "x": [
          0.6573465027885126,
          0.7117447032871379,
          0.7728143727179353
         ],
         "xaxis": "x6",
         "y": [
          0.44432218847968624,
          0.5398936448329693,
          0.5410306492346849
         ],
         "yaxis": "y6"
        },
        {
         "marker": {
          "color": "rgb(167.0, 189.33333333333331, 214.33333333333334)",
          "line": {
           "color": "black",
           "width": 0.5
          },
          "size": 8,
          "symbol": "circle"
         },
         "mode": "markers",
         "showlegend": false,
         "type": "scatter",
         "x": [
          -0.03853833557086538,
          0.0009107691615076038,
          -0.08913801927138913
         ],
         "xaxis": "x6",
         "y": [
          2.003460439233315,
          2.0228989710051875,
          1.9593885950689833
         ],
         "yaxis": "y6"
        },
        {
         "marker": {
          "color": "rgb(228.33333333333334, 180.0, 170.0)",
          "line": {
           "color": "black",
           "width": 0.5
          },
          "size": 8,
          "symbol": "circle"
         },
         "mode": "markers",
         "showlegend": false,
         "type": "scatter",
         "x": [
          -0.5449142696361674,
          -0.6046909982758699,
          -0.5955433239255441
         ],
         "xaxis": "x6",
         "y": [
          2.3541879784205264,
          2.3244202539409566,
          2.3069448289154004
         ],
         "yaxis": "y6"
        },
        {
         "marker": {
          "color": "rgb(222.66666666666666, 126.0, 106.0)",
          "line": {
           "color": "black",
           "width": 0.5
          },
          "size": 8,
          "symbol": "circle"
         },
         "mode": "markers",
         "showlegend": false,
         "type": "scatter",
         "x": [
          -0.5255970031260905,
          -0.5502479590203517,
          -0.5503040547477626
         ],
         "xaxis": "x6",
         "y": [
          2.516493115533592,
          2.552952700184765,
          2.3350359945123964
         ],
         "yaxis": "y6"
        },
        {
         "marker": {
          "color": "rgb(217.0, 72.0, 42.0)",
          "line": {
           "color": "black",
           "width": 0.5
          },
          "size": 8,
          "symbol": "circle"
         },
         "mode": "markers",
         "showlegend": false,
         "type": "scatter",
         "x": [
          -0.582419847667496,
          -0.7144342498200071,
          -0.6293713320353531
         ],
         "xaxis": "x6",
         "y": [
          2.3956866823194334,
          2.402509760070554,
          2.3261412316597063
         ],
         "yaxis": "y6"
        },
        {
         "marker": {
          "color": "rgb(54, 146, 68)",
          "line": {
           "color": "black",
           "width": 0.5
          },
          "size": 12,
          "symbol": "x"
         },
         "mode": "markers",
         "showlegend": false,
         "type": "scatter",
         "x": [
          -1.329488729818281
         ],
         "xaxis": "x6",
         "y": [
          -1.9613351855984575
         ],
         "yaxis": "y6"
        },
        {
         "marker": {
          "color": "rgb(33.0, 100.0, 175.0)",
          "line": {
           "color": "black",
           "width": 0.5
          },
          "size": 8,
          "symbol": "x"
         },
         "mode": "markers",
         "showlegend": false,
         "type": "scatter",
         "x": [
          -0.7800991223465219,
          -0.8119624856790125,
          -0.7480544077688025
         ],
         "xaxis": "x6",
         "y": [
          -2.0386133550523167,
          -1.9016941698414784,
          -1.9610636843240443
         ],
         "yaxis": "y6"
        },
        {
         "marker": {
          "color": "rgb(100.0, 144.66666666666666, 194.66666666666666)",
          "line": {
           "color": "black",
           "width": 0.5
          },
          "size": 8,
          "symbol": "x"
         },
         "mode": "markers",
         "showlegend": false,
         "type": "scatter",
         "x": [
          -1.034286858957992,
          -1.0444308392418173,
          -1.0583445687751263
         ],
         "xaxis": "x6",
         "y": [
          -1.0980992430279846,
          -1.1507262722132285,
          -1.0766314107665407
         ],
         "yaxis": "y6"
        },
        {
         "marker": {
          "color": "rgb(167.0, 189.33333333333331, 214.33333333333334)",
          "line": {
           "color": "black",
           "width": 0.5
          },
          "size": 8,
          "symbol": "x"
         },
         "mode": "markers",
         "showlegend": false,
         "type": "scatter",
         "x": [
          -0.4530175480366294,
          -0.4379228468079163,
          -0.4166757942169375
         ],
         "xaxis": "x6",
         "y": [
          -0.14413268714479283,
          -0.1291075287128541,
          -0.21061144561274273
         ],
         "yaxis": "y6"
        },
        {
         "marker": {
          "color": "rgb(228.33333333333334, 180.0, 170.0)",
          "line": {
           "color": "black",
           "width": 0.5
          },
          "size": 8,
          "symbol": "x"
         },
         "mode": "markers",
         "showlegend": false,
         "type": "scatter",
         "x": [
          -0.11453412292227837,
          -0.2080226974940316,
          -0.17473427779067813
         ],
         "xaxis": "x6",
         "y": [
          0.2667628329875186,
          0.22570796893311765,
          0.26911879558556717
         ],
         "yaxis": "y6"
        },
        {
         "marker": {
          "color": "rgb(222.66666666666666, 126.0, 106.0)",
          "line": {
           "color": "black",
           "width": 0.5
          },
          "size": 8,
          "symbol": "x"
         },
         "mode": "markers",
         "showlegend": false,
         "type": "scatter",
         "x": [
          -0.22779694141822,
          -0.3940907768280189,
          -0.370328598568993
         ],
         "xaxis": "x6",
         "y": [
          0.30273324246383476,
          0.2806994626347979,
          0.4231395023953555
         ],
         "yaxis": "y6"
        },
        {
         "marker": {
          "color": "rgb(217.0, 72.0, 42.0)",
          "line": {
           "color": "black",
           "width": 0.5
          },
          "size": 8,
          "symbol": "x"
         },
         "mode": "markers",
         "showlegend": false,
         "type": "scatter",
         "x": [
          -0.524520867322948,
          -0.4202503473445575,
          -0.4956267144506031
         ],
         "xaxis": "x6",
         "y": [
          0.42760304043774006,
          0.5527955373305947,
          0.5680317482625383
         ],
         "yaxis": "y6"
        },
        {
         "marker": {
          "color": "rgb(54, 146, 68)",
          "line": {
           "color": "black",
           "width": 0.5
          },
          "size": 12,
          "symbol": "diamond"
         },
         "mode": "markers",
         "showlegend": false,
         "type": "scatter",
         "x": [
          -1.0020278329649326
         ],
         "xaxis": "x6",
         "y": [
          -1.8505564040596898
         ],
         "yaxis": "y6"
        },
        {
         "marker": {
          "color": "rgb(33.0, 100.0, 175.0)",
          "line": {
           "color": "black",
           "width": 0.5
          },
          "size": 8,
          "symbol": "diamond"
         },
         "mode": "markers",
         "showlegend": false,
         "type": "scatter",
         "x": [
          -0.7517243555575597,
          -0.5824405329159488,
          -0.6171369784888349
         ],
         "xaxis": "x6",
         "y": [
          -1.7520953251698022,
          -1.6743401500267714,
          -1.7295443395046028
         ],
         "yaxis": "y6"
        },
        {
         "marker": {
          "color": "rgb(100.0, 144.66666666666666, 194.66666666666666)",
          "line": {
           "color": "black",
           "width": 0.5
          },
          "size": 8,
          "symbol": "diamond"
         },
         "mode": "markers",
         "showlegend": false,
         "type": "scatter",
         "x": [
          -0.7402788561704936,
          -0.9074214997150207,
          -0.8207648358688954
         ],
         "xaxis": "x6",
         "y": [
          -0.8967817007106362,
          -0.9723147426474467,
          -1.080940963588972
         ],
         "yaxis": "y6"
        },
        {
         "marker": {
          "color": "rgb(167.0, 189.33333333333331, 214.33333333333334)",
          "line": {
           "color": "black",
           "width": 0.5
          },
          "size": 8,
          "symbol": "diamond"
         },
         "mode": "markers",
         "showlegend": false,
         "type": "scatter",
         "x": [
          -0.3831385276845208,
          -0.3758664168722782,
          -0.45766076559898017
         ],
         "xaxis": "x6",
         "y": [
          -0.25796737417225346,
          -0.22201417360211126,
          -0.007625374742388254
         ],
         "yaxis": "y6"
        },
        {
         "marker": {
          "color": "rgb(228.33333333333334, 180.0, 170.0)",
          "line": {
           "color": "black",
           "width": 0.5
          },
          "size": 8,
          "symbol": "diamond"
         },
         "mode": "markers",
         "showlegend": false,
         "type": "scatter",
         "x": [
          -0.14836274347460496,
          -0.11168879951940447,
          0.01875844994606958
         ],
         "xaxis": "x6",
         "y": [
          0.0012166751574885382,
          0.3024853658431663,
          0.3292074365583328
         ],
         "yaxis": "y6"
        },
        {
         "marker": {
          "color": "rgb(222.66666666666666, 126.0, 106.0)",
          "line": {
           "color": "black",
           "width": 0.5
          },
          "size": 8,
          "symbol": "diamond"
         },
         "mode": "markers",
         "showlegend": false,
         "type": "scatter",
         "x": [
          -0.08415245455887825,
          -0.08313201846782911,
          -0.13510556865022239
         ],
         "xaxis": "x6",
         "y": [
          0.5093779588570261,
          0.5930648762985972,
          0.5645175421841404
         ],
         "yaxis": "y6"
        },
        {
         "marker": {
          "color": "rgb(217.0, 72.0, 42.0)",
          "line": {
           "color": "black",
           "width": 0.5
          },
          "size": 8,
          "symbol": "diamond"
         },
         "mode": "markers",
         "showlegend": false,
         "type": "scatter",
         "x": [
          -0.29831853138147624,
          -0.24218085871625888,
          -0.23614139661586092
         ],
         "xaxis": "x6",
         "y": [
          0.613399155662397,
          0.6194668596841832,
          0.6815701808474504
         ],
         "yaxis": "y6"
        },
        {
         "marker": {
          "color": "rgb(54, 146, 68)",
          "line": {
           "color": "black",
           "width": 0.5
          },
          "size": 12,
          "symbol": "square"
         },
         "mode": "markers",
         "showlegend": false,
         "type": "scatter",
         "x": [
          -0.25081609705692054
         ],
         "xaxis": "x6",
         "y": [
          -1.3493581699652417
         ],
         "yaxis": "y6"
        },
        {
         "marker": {
          "color": "rgb(33.0, 100.0, 175.0)",
          "line": {
           "color": "black",
           "width": 0.5
          },
          "size": 8,
          "symbol": "square"
         },
         "mode": "markers",
         "showlegend": false,
         "type": "scatter",
         "x": [
          0.2337527034345187,
          0.17360788215801445,
          0.19358577851057718
         ],
         "xaxis": "x6",
         "y": [
          -2.280210422139354,
          -2.240263358571105,
          -2.2201475009976237
         ],
         "yaxis": "y6"
        },
        {
         "marker": {
          "color": "rgb(100.0, 144.66666666666666, 194.66666666666666)",
          "line": {
           "color": "black",
           "width": 0.5
          },
          "size": 8,
          "symbol": "square"
         },
         "mode": "markers",
         "showlegend": false,
         "type": "scatter",
         "x": [
          0.47236290280626564,
          0.5483301908335012,
          0.6405294928124228
         ],
         "xaxis": "x6",
         "y": [
          -1.5439890474980789,
          -1.6455755495673299,
          -1.6494219615766585
         ],
         "yaxis": "y6"
        },
        {
         "marker": {
          "color": "rgb(167.0, 189.33333333333331, 214.33333333333334)",
          "line": {
           "color": "black",
           "width": 0.5
          },
          "size": 8,
          "symbol": "square"
         },
         "mode": "markers",
         "showlegend": false,
         "type": "scatter",
         "x": [
          1.3328123302858883,
          1.3572417246795423,
          1.2941940865604407
         ],
         "xaxis": "x6",
         "y": [
          -0.39952105611229216,
          -0.5155726464727439,
          -0.5560534258064268
         ],
         "yaxis": "y6"
        },
        {
         "marker": {
          "color": "rgb(228.33333333333334, 180.0, 170.0)",
          "line": {
           "color": "black",
           "width": 0.5
          },
          "size": 8,
          "symbol": "square"
         },
         "mode": "markers",
         "showlegend": false,
         "type": "scatter",
         "x": [
          1.3678727453984274,
          1.1210111210607898,
          1.4649476454954868
         ],
         "xaxis": "x6",
         "y": [
          0.29052077237215806,
          0.17409427707572114,
          0.33988943968997776
         ],
         "yaxis": "y6"
        },
        {
         "marker": {
          "color": "rgb(222.66666666666666, 126.0, 106.0)",
          "line": {
           "color": "black",
           "width": 0.5
          },
          "size": 8,
          "symbol": "square"
         },
         "mode": "markers",
         "showlegend": false,
         "type": "scatter",
         "x": [
          1.4749587280156728,
          1.4717148395773851,
          1.2989233323733562
         ],
         "xaxis": "x6",
         "y": [
          0.4488710481106819,
          0.5679025559996315,
          0.4779248681267955
         ],
         "yaxis": "y6"
        },
        {
         "marker": {
          "color": "rgb(217.0, 72.0, 42.0)",
          "line": {
           "color": "black",
           "width": 0.5
          },
          "size": 8,
          "symbol": "square"
         },
         "mode": "markers",
         "showlegend": false,
         "type": "scatter",
         "x": [
          1.2575541809243258,
          1.1021622377559042,
          1.1923672682551807
         ],
         "xaxis": "x6",
         "y": [
          0.6433323861730657,
          0.6122244511821106,
          0.789059360083508
         ],
         "yaxis": "y6"
        },
        {
         "marker": {
          "color": "rgb(54, 146, 68)",
          "line": {
           "color": "black",
           "width": 0.5
          },
          "size": 12,
          "symbol": "circle"
         },
         "mode": "markers",
         "showlegend": false,
         "type": "scatter",
         "x": [
          3.3925583848439
         ],
         "xaxis": "x7",
         "y": [
          0.5827955539655392
         ],
         "yaxis": "y7"
        },
        {
         "marker": {
          "color": "rgb(33.0, 100.0, 175.0)",
          "line": {
           "color": "black",
           "width": 0.5
          },
          "size": 8,
          "symbol": "circle"
         },
         "mode": "markers",
         "showlegend": false,
         "type": "scatter",
         "x": [
          4.5671471122856335,
          4.47133928493017,
          4.583003686180552
         ],
         "xaxis": "x7",
         "y": [
          1.3137273701667571,
          1.2685632398193596,
          1.3731568563746621
         ],
         "yaxis": "y7"
        },
        {
         "marker": {
          "color": "rgb(100.0, 144.66666666666666, 194.66666666666666)",
          "line": {
           "color": "black",
           "width": 0.5
          },
          "size": 8,
          "symbol": "circle"
         },
         "mode": "markers",
         "showlegend": false,
         "type": "scatter",
         "x": [
          3.924470459126368,
          3.999985986266941,
          3.9967787859194313
         ],
         "xaxis": "x7",
         "y": [
          0.6573465027885126,
          0.7117447032871379,
          0.7728143727179353
         ],
         "yaxis": "y7"
        },
        {
         "marker": {
          "color": "rgb(167.0, 189.33333333333331, 214.33333333333334)",
          "line": {
           "color": "black",
           "width": 0.5
          },
          "size": 8,
          "symbol": "circle"
         },
         "mode": "markers",
         "showlegend": false,
         "type": "scatter",
         "x": [
          2.7409735496493948,
          2.7218943607619397,
          2.5994517775334147
         ],
         "xaxis": "x7",
         "y": [
          -0.03853833557086538,
          0.0009107691615076038,
          -0.08913801927138913
         ],
         "yaxis": "y7"
        },
        {
         "marker": {
          "color": "rgb(228.33333333333334, 180.0, 170.0)",
          "line": {
           "color": "black",
           "width": 0.5
          },
          "size": 8,
          "symbol": "circle"
         },
         "mode": "markers",
         "showlegend": false,
         "type": "scatter",
         "x": [
          1.931148588557489,
          1.8927902374572678,
          1.948967737957641
         ],
         "xaxis": "x7",
         "y": [
          -0.5449142696361674,
          -0.6046909982758699,
          -0.5955433239255441
         ],
         "yaxis": "y7"
        },
        {
         "marker": {
          "color": "rgb(222.66666666666666, 126.0, 106.0)",
          "line": {
           "color": "black",
           "width": 0.5
          },
          "size": 8,
          "symbol": "circle"
         },
         "mode": "markers",
         "showlegend": false,
         "type": "scatter",
         "x": [
          2.0213350300460493,
          1.9814706897092529,
          1.8430678480976368
         ],
         "xaxis": "x7",
         "y": [
          -0.5255970031260905,
          -0.5502479590203517,
          -0.5503040547477626
         ],
         "yaxis": "y7"
        },
        {
         "marker": {
          "color": "rgb(217.0, 72.0, 42.0)",
          "line": {
           "color": "black",
           "width": 0.5
          },
          "size": 8,
          "symbol": "circle"
         },
         "mode": "markers",
         "showlegend": false,
         "type": "scatter",
         "x": [
          1.88886530881932,
          1.789647227288464,
          1.8637790429213574
         ],
         "xaxis": "x7",
         "y": [
          -0.582419847667496,
          -0.7144342498200071,
          -0.6293713320353531
         ],
         "yaxis": "y7"
        },
        {
         "marker": {
          "color": "rgb(54, 146, 68)",
          "line": {
           "color": "black",
           "width": 0.5
          },
          "size": 12,
          "symbol": "x"
         },
         "mode": "markers",
         "showlegend": false,
         "type": "scatter",
         "x": [
          -0.5920944367702766
         ],
         "xaxis": "x7",
         "y": [
          -1.329488729818281
         ],
         "yaxis": "y7"
        },
        {
         "marker": {
          "color": "rgb(33.0, 100.0, 175.0)",
          "line": {
           "color": "black",
           "width": 0.5
          },
          "size": 8,
          "symbol": "x"
         },
         "mode": "markers",
         "showlegend": false,
         "type": "scatter",
         "x": [
          0.7729686671084145,
          0.7605568558245743,
          0.8289080469654122
         ],
         "xaxis": "x7",
         "y": [
          -0.7800991223465219,
          -0.8119624856790125,
          -0.7480544077688025
         ],
         "yaxis": "y7"
        },
        {
         "marker": {
          "color": "rgb(100.0, 144.66666666666666, 194.66666666666666)",
          "line": {
           "color": "black",
           "width": 0.5
          },
          "size": 8,
          "symbol": "x"
         },
         "mode": "markers",
         "showlegend": false,
         "type": "scatter",
         "x": [
          -0.1318974278371037,
          -0.145634149194224,
          -0.17172105012810418
         ],
         "xaxis": "x7",
         "y": [
          -1.034286858957992,
          -1.0444308392418173,
          -1.0583445687751263
         ],
         "yaxis": "y7"
        },
        {
         "marker": {
          "color": "rgb(167.0, 189.33333333333331, 214.33333333333334)",
          "line": {
           "color": "black",
           "width": 0.5
          },
          "size": 8,
          "symbol": "x"
         },
         "mode": "markers",
         "showlegend": false,
         "type": "scatter",
         "x": [
          -1.3262820156776036,
          -1.314059483300048,
          -1.2787962103533224
         ],
         "xaxis": "x7",
         "y": [
          -0.4530175480366294,
          -0.4379228468079163,
          -0.4166757942169375
         ],
         "yaxis": "y7"
        },
        {
         "marker": {
          "color": "rgb(228.33333333333334, 180.0, 170.0)",
          "line": {
           "color": "black",
           "width": 0.5
          },
          "size": 8,
          "symbol": "x"
         },
         "mode": "markers",
         "showlegend": false,
         "type": "scatter",
         "x": [
          -2.100605878554829,
          -2.167148388165432,
          -2.014804296026953
         ],
         "xaxis": "x7",
         "y": [
          -0.11453412292227837,
          -0.2080226974940316,
          -0.17473427779067813
         ],
         "yaxis": "y7"
        },
        {
         "marker": {
          "color": "rgb(222.66666666666666, 126.0, 106.0)",
          "line": {
           "color": "black",
           "width": 0.5
          },
          "size": 8,
          "symbol": "x"
         },
         "mode": "markers",
         "showlegend": false,
         "type": "scatter",
         "x": [
          -1.8048239152408272,
          -2.0227772660358085,
          -2.086190628040889
         ],
         "xaxis": "x7",
         "y": [
          -0.22779694141822,
          -0.3940907768280189,
          -0.370328598568993
         ],
         "yaxis": "y7"
        },
        {
         "marker": {
          "color": "rgb(217.0, 72.0, 42.0)",
          "line": {
           "color": "black",
           "width": 0.5
          },
          "size": 8,
          "symbol": "x"
         },
         "mode": "markers",
         "showlegend": false,
         "type": "scatter",
         "x": [
          -2.0545110267092417,
          -2.265942992753503,
          -2.224849969540069
         ],
         "xaxis": "x7",
         "y": [
          -0.524520867322948,
          -0.4202503473445575,
          -0.4956267144506031
         ],
         "yaxis": "y7"
        },
        {
         "marker": {
          "color": "rgb(54, 146, 68)",
          "line": {
           "color": "black",
           "width": 0.5
          },
          "size": 12,
          "symbol": "diamond"
         },
         "mode": "markers",
         "showlegend": false,
         "type": "scatter",
         "x": [
          -0.18352920483225368
         ],
         "xaxis": "x7",
         "y": [
          -1.0020278329649326
         ],
         "yaxis": "y7"
        },
        {
         "marker": {
          "color": "rgb(33.0, 100.0, 175.0)",
          "line": {
           "color": "black",
           "width": 0.5
          },
          "size": 8,
          "symbol": "diamond"
         },
         "mode": "markers",
         "showlegend": false,
         "type": "scatter",
         "x": [
          0.9583659150006976,
          1.1254557418478268,
          1.0956548497477976
         ],
         "xaxis": "x7",
         "y": [
          -0.7517243555575597,
          -0.5824405329159488,
          -0.6171369784888349
         ],
         "yaxis": "y7"
        },
        {
         "marker": {
          "color": "rgb(100.0, 144.66666666666666, 194.66666666666666)",
          "line": {
           "color": "black",
           "width": 0.5
          },
          "size": 8,
          "symbol": "diamond"
         },
         "mode": "markers",
         "showlegend": false,
         "type": "scatter",
         "x": [
          0.3494883360635157,
          0.15615747738832736,
          0.2802429719534489
         ],
         "xaxis": "x7",
         "y": [
          -0.7402788561704936,
          -0.9074214997150207,
          -0.8207648358688954
         ],
         "yaxis": "y7"
        },
        {
         "marker": {
          "color": "rgb(167.0, 189.33333333333331, 214.33333333333334)",
          "line": {
           "color": "black",
           "width": 0.5
          },
          "size": 8,
          "symbol": "diamond"
         },
         "mode": "markers",
         "showlegend": false,
         "type": "scatter",
         "x": [
          -0.9203705123237378,
          -0.8965892365785282,
          -1.0934011862488378
         ],
         "xaxis": "x7",
         "y": [
          -0.3831385276845208,
          -0.3758664168722782,
          -0.45766076559898017
         ],
         "yaxis": "y7"
        },
        {
         "marker": {
          "color": "rgb(228.33333333333334, 180.0, 170.0)",
          "line": {
           "color": "black",
           "width": 0.5
          },
          "size": 8,
          "symbol": "diamond"
         },
         "mode": "markers",
         "showlegend": false,
         "type": "scatter",
         "x": [
          -1.7135859998603737,
          -1.908798233819545,
          -1.9479506823615123
         ],
         "xaxis": "x7",
         "y": [
          -0.14836274347460496,
          -0.11168879951940447,
          0.01875844994606958
         ],
         "yaxis": "y7"
        },
        {
         "marker": {
          "color": "rgb(222.66666666666666, 126.0, 106.0)",
          "line": {
           "color": "black",
           "width": 0.5
          },
          "size": 8,
          "symbol": "diamond"
         },
         "mode": "markers",
         "showlegend": false,
         "type": "scatter",
         "x": [
          -2.166995493886043,
          -2.152557368859361,
          -2.1670282843198536
         ],
         "xaxis": "x7",
         "y": [
          -0.08415245455887825,
          -0.08313201846782911,
          -0.13510556865022239
         ],
         "yaxis": "y7"
        },
        {
         "marker": {
          "color": "rgb(217.0, 72.0, 42.0)",
          "line": {
           "color": "black",
           "width": 0.5
          },
          "size": 8,
          "symbol": "diamond"
         },
         "mode": "markers",
         "showlegend": false,
         "type": "scatter",
         "x": [
          -2.0164822945941427,
          -2.1798129029352618,
          -2.208707614755592
         ],
         "xaxis": "x7",
         "y": [
          -0.29831853138147624,
          -0.24218085871625888,
          -0.23614139661586092
         ],
         "yaxis": "y7"
        },
        {
         "marker": {
          "color": "rgb(54, 146, 68)",
          "line": {
           "color": "black",
           "width": 0.5
          },
          "size": 12,
          "symbol": "square"
         },
         "mode": "markers",
         "showlegend": false,
         "type": "scatter",
         "x": [
          0.6190700074729046
         ],
         "xaxis": "x7",
         "y": [
          -0.25081609705692054
         ],
         "yaxis": "y7"
        },
        {
         "marker": {
          "color": "rgb(33.0, 100.0, 175.0)",
          "line": {
           "color": "black",
           "width": 0.5
          },
          "size": 8,
          "symbol": "square"
         },
         "mode": "markers",
         "showlegend": false,
         "type": "scatter",
         "x": [
          1.4517787782426228,
          1.4392236637840092,
          1.4363492450482989
         ],
         "xaxis": "x7",
         "y": [
          0.2337527034345187,
          0.17360788215801445,
          0.19358577851057718
         ],
         "yaxis": "y7"
        },
        {
         "marker": {
          "color": "rgb(100.0, 144.66666666666666, 194.66666666666666)",
          "line": {
           "color": "black",
           "width": 0.5
          },
          "size": 8,
          "symbol": "square"
         },
         "mode": "markers",
         "showlegend": false,
         "type": "scatter",
         "x": [
          0.4218432897802351,
          0.4189823505549946,
          0.5995441438254117
         ],
         "xaxis": "x7",
         "y": [
          0.47236290280626564,
          0.5483301908335012,
          0.6405294928124228
         ],
         "yaxis": "y7"
        },
        {
         "marker": {
          "color": "rgb(167.0, 189.33333333333331, 214.33333333333334)",
          "line": {
           "color": "black",
           "width": 0.5
          },
          "size": 8,
          "symbol": "square"
         },
         "mode": "markers",
         "showlegend": false,
         "type": "scatter",
         "x": [
          -1.0362954612303057,
          -0.9482194708495253,
          -0.8690133016496151
         ],
         "xaxis": "x7",
         "y": [
          1.3328123302858883,
          1.3572417246795423,
          1.2941940865604407
         ],
         "yaxis": "y7"
        },
        {
         "marker": {
          "color": "rgb(228.33333333333334, 180.0, 170.0)",
          "line": {
           "color": "black",
           "width": 0.5
          },
          "size": 8,
          "symbol": "square"
         },
         "mode": "markers",
         "showlegend": false,
         "type": "scatter",
         "x": [
          -1.9282597787801627,
          -1.8201774486438254,
          -1.942780149210833
         ],
         "xaxis": "x7",
         "y": [
          1.3678727453984274,
          1.1210111210607898,
          1.4649476454954868
         ],
         "yaxis": "y7"
        },
        {
         "marker": {
          "color": "rgb(222.66666666666666, 126.0, 106.0)",
          "line": {
           "color": "black",
           "width": 0.5
          },
          "size": 8,
          "symbol": "square"
         },
         "mode": "markers",
         "showlegend": false,
         "type": "scatter",
         "x": [
          -2.0762406335366608,
          -2.230753019262207,
          -2.106890596178071
         ],
         "xaxis": "x7",
         "y": [
          1.4749587280156728,
          1.4717148395773851,
          1.2989233323733562
         ],
         "yaxis": "y7"
        },
        {
         "marker": {
          "color": "rgb(217.0, 72.0, 42.0)",
          "line": {
           "color": "black",
           "width": 0.5
          },
          "size": 8,
          "symbol": "square"
         },
         "mode": "markers",
         "showlegend": false,
         "type": "scatter",
         "x": [
          -2.179550833870897,
          -2.174072747144571,
          -2.3030638489007687
         ],
         "xaxis": "x7",
         "y": [
          1.2575541809243258,
          1.1021622377559042,
          1.1923672682551807
         ],
         "yaxis": "y7"
        },
        {
         "marker": {
          "color": "rgb(54, 146, 68)",
          "line": {
           "color": "black",
           "width": 0.5
          },
          "size": 12,
          "symbol": "circle"
         },
         "mode": "markers",
         "showlegend": false,
         "type": "scatter",
         "x": [
          -1.0392109922137942
         ],
         "xaxis": "x8",
         "y": [
          0.5827955539655392
         ],
         "yaxis": "y8"
        },
        {
         "marker": {
          "color": "rgb(33.0, 100.0, 175.0)",
          "line": {
           "color": "black",
           "width": 0.5
          },
          "size": 8,
          "symbol": "circle"
         },
         "mode": "markers",
         "showlegend": false,
         "type": "scatter",
         "x": [
          -1.1080757272009907,
          -1.1312595285137415,
          -1.1052294571951582
         ],
         "xaxis": "x8",
         "y": [
          1.3137273701667571,
          1.2685632398193596,
          1.3731568563746621
         ],
         "yaxis": "y8"
        },
        {
         "marker": {
          "color": "rgb(100.0, 144.66666666666666, 194.66666666666666)",
          "line": {
           "color": "black",
           "width": 0.5
          },
          "size": 8,
          "symbol": "circle"
         },
         "mode": "markers",
         "showlegend": false,
         "type": "scatter",
         "x": [
          0.44432218847968624,
          0.5398936448329693,
          0.5410306492346849
         ],
         "xaxis": "x8",
         "y": [
          0.6573465027885126,
          0.7117447032871379,
          0.7728143727179353
         ],
         "yaxis": "y8"
        },
        {
         "marker": {
          "color": "rgb(167.0, 189.33333333333331, 214.33333333333334)",
          "line": {
           "color": "black",
           "width": 0.5
          },
          "size": 8,
          "symbol": "circle"
         },
         "mode": "markers",
         "showlegend": false,
         "type": "scatter",
         "x": [
          2.003460439233315,
          2.0228989710051875,
          1.9593885950689833
         ],
         "xaxis": "x8",
         "y": [
          -0.03853833557086538,
          0.0009107691615076038,
          -0.08913801927138913
         ],
         "yaxis": "y8"
        },
        {
         "marker": {
          "color": "rgb(228.33333333333334, 180.0, 170.0)",
          "line": {
           "color": "black",
           "width": 0.5
          },
          "size": 8,
          "symbol": "circle"
         },
         "mode": "markers",
         "showlegend": false,
         "type": "scatter",
         "x": [
          2.3541879784205264,
          2.3244202539409566,
          2.3069448289154004
         ],
         "xaxis": "x8",
         "y": [
          -0.5449142696361674,
          -0.6046909982758699,
          -0.5955433239255441
         ],
         "yaxis": "y8"
        },
        {
         "marker": {
          "color": "rgb(222.66666666666666, 126.0, 106.0)",
          "line": {
           "color": "black",
           "width": 0.5
          },
          "size": 8,
          "symbol": "circle"
         },
         "mode": "markers",
         "showlegend": false,
         "type": "scatter",
         "x": [
          2.516493115533592,
          2.552952700184765,
          2.3350359945123964
         ],
         "xaxis": "x8",
         "y": [
          -0.5255970031260905,
          -0.5502479590203517,
          -0.5503040547477626
         ],
         "yaxis": "y8"
        },
        {
         "marker": {
          "color": "rgb(217.0, 72.0, 42.0)",
          "line": {
           "color": "black",
           "width": 0.5
          },
          "size": 8,
          "symbol": "circle"
         },
         "mode": "markers",
         "showlegend": false,
         "type": "scatter",
         "x": [
          2.3956866823194334,
          2.402509760070554,
          2.3261412316597063
         ],
         "xaxis": "x8",
         "y": [
          -0.582419847667496,
          -0.7144342498200071,
          -0.6293713320353531
         ],
         "yaxis": "y8"
        },
        {
         "marker": {
          "color": "rgb(54, 146, 68)",
          "line": {
           "color": "black",
           "width": 0.5
          },
          "size": 12,
          "symbol": "x"
         },
         "mode": "markers",
         "showlegend": false,
         "type": "scatter",
         "x": [
          -1.9613351855984575
         ],
         "xaxis": "x8",
         "y": [
          -1.329488729818281
         ],
         "yaxis": "y8"
        },
        {
         "marker": {
          "color": "rgb(33.0, 100.0, 175.0)",
          "line": {
           "color": "black",
           "width": 0.5
          },
          "size": 8,
          "symbol": "x"
         },
         "mode": "markers",
         "showlegend": false,
         "type": "scatter",
         "x": [
          -2.0386133550523167,
          -1.9016941698414784,
          -1.9610636843240443
         ],
         "xaxis": "x8",
         "y": [
          -0.7800991223465219,
          -0.8119624856790125,
          -0.7480544077688025
         ],
         "yaxis": "y8"
        },
        {
         "marker": {
          "color": "rgb(100.0, 144.66666666666666, 194.66666666666666)",
          "line": {
           "color": "black",
           "width": 0.5
          },
          "size": 8,
          "symbol": "x"
         },
         "mode": "markers",
         "showlegend": false,
         "type": "scatter",
         "x": [
          -1.0980992430279846,
          -1.1507262722132285,
          -1.0766314107665407
         ],
         "xaxis": "x8",
         "y": [
          -1.034286858957992,
          -1.0444308392418173,
          -1.0583445687751263
         ],
         "yaxis": "y8"
        },
        {
         "marker": {
          "color": "rgb(167.0, 189.33333333333331, 214.33333333333334)",
          "line": {
           "color": "black",
           "width": 0.5
          },
          "size": 8,
          "symbol": "x"
         },
         "mode": "markers",
         "showlegend": false,
         "type": "scatter",
         "x": [
          -0.14413268714479283,
          -0.1291075287128541,
          -0.21061144561274273
         ],
         "xaxis": "x8",
         "y": [
          -0.4530175480366294,
          -0.4379228468079163,
          -0.4166757942169375
         ],
         "yaxis": "y8"
        },
        {
         "marker": {
          "color": "rgb(228.33333333333334, 180.0, 170.0)",
          "line": {
           "color": "black",
           "width": 0.5
          },
          "size": 8,
          "symbol": "x"
         },
         "mode": "markers",
         "showlegend": false,
         "type": "scatter",
         "x": [
          0.2667628329875186,
          0.22570796893311765,
          0.26911879558556717
         ],
         "xaxis": "x8",
         "y": [
          -0.11453412292227837,
          -0.2080226974940316,
          -0.17473427779067813
         ],
         "yaxis": "y8"
        },
        {
         "marker": {
          "color": "rgb(222.66666666666666, 126.0, 106.0)",
          "line": {
           "color": "black",
           "width": 0.5
          },
          "size": 8,
          "symbol": "x"
         },
         "mode": "markers",
         "showlegend": false,
         "type": "scatter",
         "x": [
          0.30273324246383476,
          0.2806994626347979,
          0.4231395023953555
         ],
         "xaxis": "x8",
         "y": [
          -0.22779694141822,
          -0.3940907768280189,
          -0.370328598568993
         ],
         "yaxis": "y8"
        },
        {
         "marker": {
          "color": "rgb(217.0, 72.0, 42.0)",
          "line": {
           "color": "black",
           "width": 0.5
          },
          "size": 8,
          "symbol": "x"
         },
         "mode": "markers",
         "showlegend": false,
         "type": "scatter",
         "x": [
          0.42760304043774006,
          0.5527955373305947,
          0.5680317482625383
         ],
         "xaxis": "x8",
         "y": [
          -0.524520867322948,
          -0.4202503473445575,
          -0.4956267144506031
         ],
         "yaxis": "y8"
        },
        {
         "marker": {
          "color": "rgb(54, 146, 68)",
          "line": {
           "color": "black",
           "width": 0.5
          },
          "size": 12,
          "symbol": "diamond"
         },
         "mode": "markers",
         "showlegend": false,
         "type": "scatter",
         "x": [
          -1.8505564040596898
         ],
         "xaxis": "x8",
         "y": [
          -1.0020278329649326
         ],
         "yaxis": "y8"
        },
        {
         "marker": {
          "color": "rgb(33.0, 100.0, 175.0)",
          "line": {
           "color": "black",
           "width": 0.5
          },
          "size": 8,
          "symbol": "diamond"
         },
         "mode": "markers",
         "showlegend": false,
         "type": "scatter",
         "x": [
          -1.7520953251698022,
          -1.6743401500267714,
          -1.7295443395046028
         ],
         "xaxis": "x8",
         "y": [
          -0.7517243555575597,
          -0.5824405329159488,
          -0.6171369784888349
         ],
         "yaxis": "y8"
        },
        {
         "marker": {
          "color": "rgb(100.0, 144.66666666666666, 194.66666666666666)",
          "line": {
           "color": "black",
           "width": 0.5
          },
          "size": 8,
          "symbol": "diamond"
         },
         "mode": "markers",
         "showlegend": false,
         "type": "scatter",
         "x": [
          -0.8967817007106362,
          -0.9723147426474467,
          -1.080940963588972
         ],
         "xaxis": "x8",
         "y": [
          -0.7402788561704936,
          -0.9074214997150207,
          -0.8207648358688954
         ],
         "yaxis": "y8"
        },
        {
         "marker": {
          "color": "rgb(167.0, 189.33333333333331, 214.33333333333334)",
          "line": {
           "color": "black",
           "width": 0.5
          },
          "size": 8,
          "symbol": "diamond"
         },
         "mode": "markers",
         "showlegend": false,
         "type": "scatter",
         "x": [
          -0.25796737417225346,
          -0.22201417360211126,
          -0.007625374742388254
         ],
         "xaxis": "x8",
         "y": [
          -0.3831385276845208,
          -0.3758664168722782,
          -0.45766076559898017
         ],
         "yaxis": "y8"
        },
        {
         "marker": {
          "color": "rgb(228.33333333333334, 180.0, 170.0)",
          "line": {
           "color": "black",
           "width": 0.5
          },
          "size": 8,
          "symbol": "diamond"
         },
         "mode": "markers",
         "showlegend": false,
         "type": "scatter",
         "x": [
          0.0012166751574885382,
          0.3024853658431663,
          0.3292074365583328
         ],
         "xaxis": "x8",
         "y": [
          -0.14836274347460496,
          -0.11168879951940447,
          0.01875844994606958
         ],
         "yaxis": "y8"
        },
        {
         "marker": {
          "color": "rgb(222.66666666666666, 126.0, 106.0)",
          "line": {
           "color": "black",
           "width": 0.5
          },
          "size": 8,
          "symbol": "diamond"
         },
         "mode": "markers",
         "showlegend": false,
         "type": "scatter",
         "x": [
          0.5093779588570261,
          0.5930648762985972,
          0.5645175421841404
         ],
         "xaxis": "x8",
         "y": [
          -0.08415245455887825,
          -0.08313201846782911,
          -0.13510556865022239
         ],
         "yaxis": "y8"
        },
        {
         "marker": {
          "color": "rgb(217.0, 72.0, 42.0)",
          "line": {
           "color": "black",
           "width": 0.5
          },
          "size": 8,
          "symbol": "diamond"
         },
         "mode": "markers",
         "showlegend": false,
         "type": "scatter",
         "x": [
          0.613399155662397,
          0.6194668596841832,
          0.6815701808474504
         ],
         "xaxis": "x8",
         "y": [
          -0.29831853138147624,
          -0.24218085871625888,
          -0.23614139661586092
         ],
         "yaxis": "y8"
        },
        {
         "marker": {
          "color": "rgb(54, 146, 68)",
          "line": {
           "color": "black",
           "width": 0.5
          },
          "size": 12,
          "symbol": "square"
         },
         "mode": "markers",
         "showlegend": false,
         "type": "scatter",
         "x": [
          -1.3493581699652417
         ],
         "xaxis": "x8",
         "y": [
          -0.25081609705692054
         ],
         "yaxis": "y8"
        },
        {
         "marker": {
          "color": "rgb(33.0, 100.0, 175.0)",
          "line": {
           "color": "black",
           "width": 0.5
          },
          "size": 8,
          "symbol": "square"
         },
         "mode": "markers",
         "showlegend": false,
         "type": "scatter",
         "x": [
          -2.280210422139354,
          -2.240263358571105,
          -2.2201475009976237
         ],
         "xaxis": "x8",
         "y": [
          0.2337527034345187,
          0.17360788215801445,
          0.19358577851057718
         ],
         "yaxis": "y8"
        },
        {
         "marker": {
          "color": "rgb(100.0, 144.66666666666666, 194.66666666666666)",
          "line": {
           "color": "black",
           "width": 0.5
          },
          "size": 8,
          "symbol": "square"
         },
         "mode": "markers",
         "showlegend": false,
         "type": "scatter",
         "x": [
          -1.5439890474980789,
          -1.6455755495673299,
          -1.6494219615766585
         ],
         "xaxis": "x8",
         "y": [
          0.47236290280626564,
          0.5483301908335012,
          0.6405294928124228
         ],
         "yaxis": "y8"
        },
        {
         "marker": {
          "color": "rgb(167.0, 189.33333333333331, 214.33333333333334)",
          "line": {
           "color": "black",
           "width": 0.5
          },
          "size": 8,
          "symbol": "square"
         },
         "mode": "markers",
         "showlegend": false,
         "type": "scatter",
         "x": [
          -0.39952105611229216,
          -0.5155726464727439,
          -0.5560534258064268
         ],
         "xaxis": "x8",
         "y": [
          1.3328123302858883,
          1.3572417246795423,
          1.2941940865604407
         ],
         "yaxis": "y8"
        },
        {
         "marker": {
          "color": "rgb(228.33333333333334, 180.0, 170.0)",
          "line": {
           "color": "black",
           "width": 0.5
          },
          "size": 8,
          "symbol": "square"
         },
         "mode": "markers",
         "showlegend": false,
         "type": "scatter",
         "x": [
          0.29052077237215806,
          0.17409427707572114,
          0.33988943968997776
         ],
         "xaxis": "x8",
         "y": [
          1.3678727453984274,
          1.1210111210607898,
          1.4649476454954868
         ],
         "yaxis": "y8"
        },
        {
         "marker": {
          "color": "rgb(222.66666666666666, 126.0, 106.0)",
          "line": {
           "color": "black",
           "width": 0.5
          },
          "size": 8,
          "symbol": "square"
         },
         "mode": "markers",
         "showlegend": false,
         "type": "scatter",
         "x": [
          0.4488710481106819,
          0.5679025559996315,
          0.4779248681267955
         ],
         "xaxis": "x8",
         "y": [
          1.4749587280156728,
          1.4717148395773851,
          1.2989233323733562
         ],
         "yaxis": "y8"
        },
        {
         "marker": {
          "color": "rgb(217.0, 72.0, 42.0)",
          "line": {
           "color": "black",
           "width": 0.5
          },
          "size": 8,
          "symbol": "square"
         },
         "mode": "markers",
         "showlegend": false,
         "type": "scatter",
         "x": [
          0.6433323861730657,
          0.6122244511821106,
          0.789059360083508
         ],
         "xaxis": "x8",
         "y": [
          1.2575541809243258,
          1.1021622377559042,
          1.1923672682551807
         ],
         "yaxis": "y8"
        }
       ],
       "layout": {
        "height": 800,
        "legend": {
         "font": {
          "color": "black",
          "family": "Myriad Pro",
          "size": 12
         },
         "orientation": "h",
         "x": 0.1,
         "y": -0.15
        },
        "template": {
         "data": {
          "scatter": [
           {
            "type": "scatter"
           }
          ]
         }
        },
        "width": 800,
        "xaxis": {
         "anchor": "y",
         "domain": [
          0,
          0.3
         ],
         "linecolor": "black",
         "linewidth": 1,
         "mirror": true,
         "nticks": 8,
         "showgrid": true,
         "showline": true,
         "side": "bottom",
         "tickangle": 0,
         "tickcolor": "black",
         "tickfont": {
          "color": "black",
          "family": "Myriad Pro",
          "size": 16
         },
         "ticklen": 4,
         "ticks": "outside",
         "zeroline": true
        },
        "xaxis2": {
         "anchor": "y2",
         "domain": [
          0.35,
          0.6499999999999999
         ],
         "linecolor": "black",
         "linewidth": 1,
         "mirror": true,
         "nticks": 8,
         "showgrid": true,
         "showline": true,
         "side": "bottom",
         "tickangle": 0,
         "tickcolor": "black",
         "tickfont": {
          "color": "black",
          "family": "Myriad Pro",
          "size": 16
         },
         "ticklen": 4,
         "ticks": "outside",
         "zeroline": true
        },
        "xaxis3": {
         "anchor": "y3",
         "domain": [
          0.7,
          1
         ],
         "linecolor": "black",
         "linewidth": 1,
         "mirror": true,
         "nticks": 8,
         "showgrid": true,
         "showline": true,
         "side": "bottom",
         "tickangle": 0,
         "tickcolor": "black",
         "tickfont": {
          "color": "black",
          "family": "Myriad Pro",
          "size": 16
         },
         "ticklen": 4,
         "ticks": "outside",
         "zeroline": true
        },
        "xaxis4": {
         "anchor": "y4",
         "domain": [
          0,
          0.3
         ],
         "linecolor": "black",
         "linewidth": 1,
         "mirror": true,
         "nticks": 8,
         "showgrid": true,
         "showline": true,
         "side": "bottom",
         "tickangle": 0,
         "tickcolor": "black",
         "tickfont": {
          "color": "black",
          "family": "Myriad Pro",
          "size": 16
         },
         "ticklen": 4,
         "ticks": "outside",
         "zeroline": true
        },
        "xaxis5": {
         "anchor": "y5",
         "domain": [
          0.35,
          0.6499999999999999
         ],
         "linecolor": "black",
         "linewidth": 1,
         "mirror": true,
         "nticks": 8,
         "showgrid": true,
         "showline": true,
         "side": "bottom",
         "tickangle": 0,
         "tickcolor": "black",
         "tickfont": {
          "color": "black",
          "family": "Myriad Pro",
          "size": 16
         },
         "ticklen": 4,
         "ticks": "outside",
         "zeroline": true
        },
        "xaxis6": {
         "anchor": "y6",
         "domain": [
          0.7,
          1
         ],
         "linecolor": "black",
         "linewidth": 1,
         "mirror": true,
         "nticks": 8,
         "showgrid": true,
         "showline": true,
         "side": "bottom",
         "tickangle": 0,
         "tickcolor": "black",
         "tickfont": {
          "color": "black",
          "family": "Myriad Pro",
          "size": 16
         },
         "ticklen": 4,
         "ticks": "outside",
         "zeroline": true
        },
        "xaxis7": {
         "anchor": "y7",
         "domain": [
          0,
          0.3
         ],
         "linecolor": "black",
         "linewidth": 1,
         "mirror": true,
         "nticks": 8,
         "showgrid": true,
         "showline": true,
         "side": "bottom",
         "tickangle": 0,
         "tickcolor": "black",
         "tickfont": {
          "color": "black",
          "family": "Myriad Pro",
          "size": 16
         },
         "ticklen": 4,
         "ticks": "outside",
         "title": {
          "font": {
           "color": "black",
           "family": "Myriad Pro",
           "size": 16
          },
          "standoff": 0.5,
          "text": "Principal Component 1"
         },
         "zeroline": true
        },
        "xaxis8": {
         "anchor": "y8",
         "domain": [
          0.35,
          0.6499999999999999
         ],
         "linecolor": "black",
         "linewidth": 1,
         "mirror": true,
         "nticks": 8,
         "showgrid": true,
         "showline": true,
         "side": "bottom",
         "tickangle": 0,
         "tickcolor": "black",
         "tickfont": {
          "color": "black",
          "family": "Myriad Pro",
          "size": 16
         },
         "ticklen": 4,
         "ticks": "outside",
         "title": {
          "font": {
           "color": "black",
           "family": "Myriad Pro",
           "size": 16
          },
          "standoff": 0.5,
          "text": "Principal Component 2"
         },
         "zeroline": true
        },
        "xaxis9": {
         "anchor": "y9",
         "domain": [
          0.7,
          1
         ],
         "linecolor": "black",
         "linewidth": 1,
         "mirror": true,
         "nticks": 8,
         "showgrid": true,
         "showline": true,
         "side": "bottom",
         "tickangle": 0,
         "tickcolor": "black",
         "tickfont": {
          "color": "black",
          "family": "Myriad Pro",
          "size": 16
         },
         "ticklen": 4,
         "ticks": "outside",
         "title": {
          "font": {
           "color": "black",
           "family": "Myriad Pro",
           "size": 16
          },
          "standoff": 0.5,
          "text": "Principal Component 3"
         },
         "zeroline": true
        },
        "yaxis": {
         "anchor": "x",
         "domain": [
          0.7,
          1
         ],
         "linecolor": "black",
         "linewidth": 1,
         "mirror": true,
         "showgrid": true,
         "showline": true,
         "tickangle": 0,
         "tickcolor": "black",
         "tickfont": {
          "color": "black",
          "family": "Myriad Pro",
          "size": 16
         },
         "ticklen": 4,
         "ticks": "outside",
         "title": {
          "font": {
           "color": "black",
           "family": "Myriad Pro",
           "size": 16
          },
          "standoff": 0,
          "text": "Principal Component 1"
         },
         "zeroline": true
        },
        "yaxis2": {
         "anchor": "x2",
         "domain": [
          0.7,
          1
         ],
         "linecolor": "black",
         "linewidth": 1,
         "mirror": true,
         "showgrid": true,
         "showline": true,
         "tickangle": 0,
         "tickcolor": "black",
         "tickfont": {
          "color": "black",
          "family": "Myriad Pro",
          "size": 16
         },
         "ticklen": 4,
         "ticks": "outside",
         "zeroline": true
        },
        "yaxis3": {
         "anchor": "x3",
         "domain": [
          0.7,
          1
         ],
         "linecolor": "black",
         "linewidth": 1,
         "mirror": true,
         "showgrid": true,
         "showline": true,
         "tickangle": 0,
         "tickcolor": "black",
         "tickfont": {
          "color": "black",
          "family": "Myriad Pro",
          "size": 16
         },
         "ticklen": 4,
         "ticks": "outside",
         "zeroline": true
        },
        "yaxis4": {
         "anchor": "x4",
         "domain": [
          0.35,
          0.6499999999999999
         ],
         "linecolor": "black",
         "linewidth": 1,
         "mirror": true,
         "showgrid": true,
         "showline": true,
         "tickangle": 0,
         "tickcolor": "black",
         "tickfont": {
          "color": "black",
          "family": "Myriad Pro",
          "size": 16
         },
         "ticklen": 4,
         "ticks": "outside",
         "title": {
          "font": {
           "color": "black",
           "family": "Myriad Pro",
           "size": 16
          },
          "standoff": 0,
          "text": "Principal Component 2"
         },
         "zeroline": true
        },
        "yaxis5": {
         "anchor": "x5",
         "domain": [
          0.35,
          0.6499999999999999
         ],
         "linecolor": "black",
         "linewidth": 1,
         "mirror": true,
         "showgrid": true,
         "showline": true,
         "tickangle": 0,
         "tickcolor": "black",
         "tickfont": {
          "color": "black",
          "family": "Myriad Pro",
          "size": 16
         },
         "ticklen": 4,
         "ticks": "outside",
         "zeroline": true
        },
        "yaxis6": {
         "anchor": "x6",
         "domain": [
          0.35,
          0.6499999999999999
         ],
         "linecolor": "black",
         "linewidth": 1,
         "mirror": true,
         "showgrid": true,
         "showline": true,
         "tickangle": 0,
         "tickcolor": "black",
         "tickfont": {
          "color": "black",
          "family": "Myriad Pro",
          "size": 16
         },
         "ticklen": 4,
         "ticks": "outside",
         "zeroline": true
        },
        "yaxis7": {
         "anchor": "x7",
         "domain": [
          0,
          0.3
         ],
         "linecolor": "black",
         "linewidth": 1,
         "mirror": true,
         "showgrid": true,
         "showline": true,
         "tickangle": 0,
         "tickcolor": "black",
         "tickfont": {
          "color": "black",
          "family": "Myriad Pro",
          "size": 16
         },
         "ticklen": 4,
         "ticks": "outside",
         "title": {
          "font": {
           "color": "black",
           "family": "Myriad Pro",
           "size": 16
          },
          "standoff": 0,
          "text": "Principal Component 3"
         },
         "zeroline": true
        },
        "yaxis8": {
         "anchor": "x8",
         "domain": [
          0,
          0.3
         ],
         "linecolor": "black",
         "linewidth": 1,
         "mirror": true,
         "showgrid": true,
         "showline": true,
         "tickangle": 0,
         "tickcolor": "black",
         "tickfont": {
          "color": "black",
          "family": "Myriad Pro",
          "size": 16
         },
         "ticklen": 4,
         "ticks": "outside",
         "zeroline": true
        },
        "yaxis9": {
         "anchor": "x9",
         "domain": [
          0,
          0.3
         ],
         "linecolor": "black",
         "linewidth": 1,
         "mirror": true,
         "showgrid": true,
         "showline": true,
         "tickangle": 0,
         "tickcolor": "black",
         "tickfont": {
          "color": "black",
          "family": "Myriad Pro",
          "size": 16
         },
         "ticklen": 4,
         "ticks": "outside",
         "zeroline": true
        }
       }
      },
      "text/html": [
       "<div>                            <div id=\"b44d368e-aa7f-42ee-9777-17ea76ea1f70\" class=\"plotly-graph-div\" style=\"height:800px; width:800px;\"></div>            <script type=\"text/javascript\">                require([\"plotly\"], function(Plotly) {                    window.PLOTLYENV=window.PLOTLYENV || {};                                    if (document.getElementById(\"b44d368e-aa7f-42ee-9777-17ea76ea1f70\")) {                    Plotly.newPlot(                        \"b44d368e-aa7f-42ee-9777-17ea76ea1f70\",                        [{\"marker\": {\"color\": \"rgb(54, 146, 68)\", \"line\": {\"color\": \"black\", \"width\": 0.5}, \"size\": 12, \"symbol\": \"circle\"}, \"mode\": \"markers\", \"showlegend\": false, \"type\": \"scatter\", \"x\": [-1.0392109922137942], \"xaxis\": \"x2\", \"y\": [3.3925583848439], \"yaxis\": \"y2\"}, {\"marker\": {\"color\": \"rgb(33.0, 100.0, 175.0)\", \"line\": {\"color\": \"black\", \"width\": 0.5}, \"size\": 8, \"symbol\": \"circle\"}, \"mode\": \"markers\", \"showlegend\": false, \"type\": \"scatter\", \"x\": [-1.1080757272009907, -1.1312595285137415, -1.1052294571951582], \"xaxis\": \"x2\", \"y\": [4.5671471122856335, 4.47133928493017, 4.583003686180552], \"yaxis\": \"y2\"}, {\"marker\": {\"color\": \"rgb(100.0, 144.66666666666666, 194.66666666666666)\", \"line\": {\"color\": \"black\", \"width\": 0.5}, \"size\": 8, \"symbol\": \"circle\"}, \"mode\": \"markers\", \"showlegend\": false, \"type\": \"scatter\", \"x\": [0.44432218847968624, 0.5398936448329693, 0.5410306492346849], \"xaxis\": \"x2\", \"y\": [3.924470459126368, 3.999985986266941, 3.9967787859194313], \"yaxis\": \"y2\"}, {\"marker\": {\"color\": \"rgb(167.0, 189.33333333333331, 214.33333333333334)\", \"line\": {\"color\": \"black\", \"width\": 0.5}, \"size\": 8, \"symbol\": \"circle\"}, \"mode\": \"markers\", \"showlegend\": false, \"type\": \"scatter\", \"x\": [2.003460439233315, 2.0228989710051875, 1.9593885950689833], \"xaxis\": \"x2\", \"y\": [2.7409735496493948, 2.7218943607619397, 2.5994517775334147], \"yaxis\": \"y2\"}, {\"marker\": {\"color\": \"rgb(228.33333333333334, 180.0, 170.0)\", \"line\": {\"color\": \"black\", \"width\": 0.5}, \"size\": 8, \"symbol\": \"circle\"}, \"mode\": \"markers\", \"showlegend\": false, \"type\": \"scatter\", \"x\": [2.3541879784205264, 2.3244202539409566, 2.3069448289154004], \"xaxis\": \"x2\", \"y\": [1.931148588557489, 1.8927902374572678, 1.948967737957641], \"yaxis\": \"y2\"}, {\"marker\": {\"color\": \"rgb(222.66666666666666, 126.0, 106.0)\", \"line\": {\"color\": \"black\", \"width\": 0.5}, \"size\": 8, \"symbol\": \"circle\"}, \"mode\": \"markers\", \"showlegend\": false, \"type\": \"scatter\", \"x\": [2.516493115533592, 2.552952700184765, 2.3350359945123964], \"xaxis\": \"x2\", \"y\": [2.0213350300460493, 1.9814706897092529, 1.8430678480976368], \"yaxis\": \"y2\"}, {\"marker\": {\"color\": \"rgb(217.0, 72.0, 42.0)\", \"line\": {\"color\": \"black\", \"width\": 0.5}, \"size\": 8, \"symbol\": \"circle\"}, \"mode\": \"markers\", \"showlegend\": false, \"type\": \"scatter\", \"x\": [2.3956866823194334, 2.402509760070554, 2.3261412316597063], \"xaxis\": \"x2\", \"y\": [1.88886530881932, 1.789647227288464, 1.8637790429213574], \"yaxis\": \"y2\"}, {\"marker\": {\"color\": \"rgb(54, 146, 68)\", \"line\": {\"color\": \"black\", \"width\": 0.5}, \"size\": 12, \"symbol\": \"x\"}, \"mode\": \"markers\", \"showlegend\": false, \"type\": \"scatter\", \"x\": [-1.9613351855984575], \"xaxis\": \"x2\", \"y\": [-0.5920944367702766], \"yaxis\": \"y2\"}, {\"marker\": {\"color\": \"rgb(33.0, 100.0, 175.0)\", \"line\": {\"color\": \"black\", \"width\": 0.5}, \"size\": 8, \"symbol\": \"x\"}, \"mode\": \"markers\", \"showlegend\": false, \"type\": \"scatter\", \"x\": [-2.0386133550523167, -1.9016941698414784, -1.9610636843240443], \"xaxis\": \"x2\", \"y\": [0.7729686671084145, 0.7605568558245743, 0.8289080469654122], \"yaxis\": \"y2\"}, {\"marker\": {\"color\": \"rgb(100.0, 144.66666666666666, 194.66666666666666)\", \"line\": {\"color\": \"black\", \"width\": 0.5}, \"size\": 8, \"symbol\": \"x\"}, \"mode\": \"markers\", \"showlegend\": false, \"type\": \"scatter\", \"x\": [-1.0980992430279846, -1.1507262722132285, -1.0766314107665407], \"xaxis\": \"x2\", \"y\": [-0.1318974278371037, -0.145634149194224, -0.17172105012810418], \"yaxis\": \"y2\"}, {\"marker\": {\"color\": \"rgb(167.0, 189.33333333333331, 214.33333333333334)\", \"line\": {\"color\": \"black\", \"width\": 0.5}, \"size\": 8, \"symbol\": \"x\"}, \"mode\": \"markers\", \"showlegend\": false, \"type\": \"scatter\", \"x\": [-0.14413268714479283, -0.1291075287128541, -0.21061144561274273], \"xaxis\": \"x2\", \"y\": [-1.3262820156776036, -1.314059483300048, -1.2787962103533224], \"yaxis\": \"y2\"}, {\"marker\": {\"color\": \"rgb(228.33333333333334, 180.0, 170.0)\", \"line\": {\"color\": \"black\", \"width\": 0.5}, \"size\": 8, \"symbol\": \"x\"}, \"mode\": \"markers\", \"showlegend\": false, \"type\": \"scatter\", \"x\": [0.2667628329875186, 0.22570796893311765, 0.26911879558556717], \"xaxis\": \"x2\", \"y\": [-2.100605878554829, -2.167148388165432, -2.014804296026953], \"yaxis\": \"y2\"}, {\"marker\": {\"color\": \"rgb(222.66666666666666, 126.0, 106.0)\", \"line\": {\"color\": \"black\", \"width\": 0.5}, \"size\": 8, \"symbol\": \"x\"}, \"mode\": \"markers\", \"showlegend\": false, \"type\": \"scatter\", \"x\": [0.30273324246383476, 0.2806994626347979, 0.4231395023953555], \"xaxis\": \"x2\", \"y\": [-1.8048239152408272, -2.0227772660358085, -2.086190628040889], \"yaxis\": \"y2\"}, {\"marker\": {\"color\": \"rgb(217.0, 72.0, 42.0)\", \"line\": {\"color\": \"black\", \"width\": 0.5}, \"size\": 8, \"symbol\": \"x\"}, \"mode\": \"markers\", \"showlegend\": false, \"type\": \"scatter\", \"x\": [0.42760304043774006, 0.5527955373305947, 0.5680317482625383], \"xaxis\": \"x2\", \"y\": [-2.0545110267092417, -2.265942992753503, -2.224849969540069], \"yaxis\": \"y2\"}, {\"marker\": {\"color\": \"rgb(54, 146, 68)\", \"line\": {\"color\": \"black\", \"width\": 0.5}, \"size\": 12, \"symbol\": \"diamond\"}, \"mode\": \"markers\", \"showlegend\": false, \"type\": \"scatter\", \"x\": [-1.8505564040596898], \"xaxis\": \"x2\", \"y\": [-0.18352920483225368], \"yaxis\": \"y2\"}, {\"marker\": {\"color\": \"rgb(33.0, 100.0, 175.0)\", \"line\": {\"color\": \"black\", \"width\": 0.5}, \"size\": 8, \"symbol\": \"diamond\"}, \"mode\": \"markers\", \"showlegend\": false, \"type\": \"scatter\", \"x\": [-1.7520953251698022, -1.6743401500267714, -1.7295443395046028], \"xaxis\": \"x2\", \"y\": [0.9583659150006976, 1.1254557418478268, 1.0956548497477976], \"yaxis\": \"y2\"}, {\"marker\": {\"color\": \"rgb(100.0, 144.66666666666666, 194.66666666666666)\", \"line\": {\"color\": \"black\", \"width\": 0.5}, \"size\": 8, \"symbol\": \"diamond\"}, \"mode\": \"markers\", \"showlegend\": false, \"type\": \"scatter\", \"x\": [-0.8967817007106362, -0.9723147426474467, -1.080940963588972], \"xaxis\": \"x2\", \"y\": [0.3494883360635157, 0.15615747738832736, 0.2802429719534489], \"yaxis\": \"y2\"}, {\"marker\": {\"color\": \"rgb(167.0, 189.33333333333331, 214.33333333333334)\", \"line\": {\"color\": \"black\", \"width\": 0.5}, \"size\": 8, \"symbol\": \"diamond\"}, \"mode\": \"markers\", \"showlegend\": false, \"type\": \"scatter\", \"x\": [-0.25796737417225346, -0.22201417360211126, -0.007625374742388254], \"xaxis\": \"x2\", \"y\": [-0.9203705123237378, -0.8965892365785282, -1.0934011862488378], \"yaxis\": \"y2\"}, {\"marker\": {\"color\": \"rgb(228.33333333333334, 180.0, 170.0)\", \"line\": {\"color\": \"black\", \"width\": 0.5}, \"size\": 8, \"symbol\": \"diamond\"}, \"mode\": \"markers\", \"showlegend\": false, \"type\": \"scatter\", \"x\": [0.0012166751574885382, 0.3024853658431663, 0.3292074365583328], \"xaxis\": \"x2\", \"y\": [-1.7135859998603737, -1.908798233819545, -1.9479506823615123], \"yaxis\": \"y2\"}, {\"marker\": {\"color\": \"rgb(222.66666666666666, 126.0, 106.0)\", \"line\": {\"color\": \"black\", \"width\": 0.5}, \"size\": 8, \"symbol\": \"diamond\"}, \"mode\": \"markers\", \"showlegend\": false, \"type\": \"scatter\", \"x\": [0.5093779588570261, 0.5930648762985972, 0.5645175421841404], \"xaxis\": \"x2\", \"y\": [-2.166995493886043, -2.152557368859361, -2.1670282843198536], \"yaxis\": \"y2\"}, {\"marker\": {\"color\": \"rgb(217.0, 72.0, 42.0)\", \"line\": {\"color\": \"black\", \"width\": 0.5}, \"size\": 8, \"symbol\": \"diamond\"}, \"mode\": \"markers\", \"showlegend\": false, \"type\": \"scatter\", \"x\": [0.613399155662397, 0.6194668596841832, 0.6815701808474504], \"xaxis\": \"x2\", \"y\": [-2.0164822945941427, -2.1798129029352618, -2.208707614755592], \"yaxis\": \"y2\"}, {\"marker\": {\"color\": \"rgb(54, 146, 68)\", \"line\": {\"color\": \"black\", \"width\": 0.5}, \"size\": 12, \"symbol\": \"square\"}, \"mode\": \"markers\", \"showlegend\": false, \"type\": \"scatter\", \"x\": [-1.3493581699652417], \"xaxis\": \"x2\", \"y\": [0.6190700074729046], \"yaxis\": \"y2\"}, {\"marker\": {\"color\": \"rgb(33.0, 100.0, 175.0)\", \"line\": {\"color\": \"black\", \"width\": 0.5}, \"size\": 8, \"symbol\": \"square\"}, \"mode\": \"markers\", \"showlegend\": false, \"type\": \"scatter\", \"x\": [-2.280210422139354, -2.240263358571105, -2.2201475009976237], \"xaxis\": \"x2\", \"y\": [1.4517787782426228, 1.4392236637840092, 1.4363492450482989], \"yaxis\": \"y2\"}, {\"marker\": {\"color\": \"rgb(100.0, 144.66666666666666, 194.66666666666666)\", \"line\": {\"color\": \"black\", \"width\": 0.5}, \"size\": 8, \"symbol\": \"square\"}, \"mode\": \"markers\", \"showlegend\": false, \"type\": \"scatter\", \"x\": [-1.5439890474980789, -1.6455755495673299, -1.6494219615766585], \"xaxis\": \"x2\", \"y\": [0.4218432897802351, 0.4189823505549946, 0.5995441438254117], \"yaxis\": \"y2\"}, {\"marker\": {\"color\": \"rgb(167.0, 189.33333333333331, 214.33333333333334)\", \"line\": {\"color\": \"black\", \"width\": 0.5}, \"size\": 8, \"symbol\": \"square\"}, \"mode\": \"markers\", \"showlegend\": false, \"type\": \"scatter\", \"x\": [-0.39952105611229216, -0.5155726464727439, -0.5560534258064268], \"xaxis\": \"x2\", \"y\": [-1.0362954612303057, -0.9482194708495253, -0.8690133016496151], \"yaxis\": \"y2\"}, {\"marker\": {\"color\": \"rgb(228.33333333333334, 180.0, 170.0)\", \"line\": {\"color\": \"black\", \"width\": 0.5}, \"size\": 8, \"symbol\": \"square\"}, \"mode\": \"markers\", \"showlegend\": false, \"type\": \"scatter\", \"x\": [0.29052077237215806, 0.17409427707572114, 0.33988943968997776], \"xaxis\": \"x2\", \"y\": [-1.9282597787801627, -1.8201774486438254, -1.942780149210833], \"yaxis\": \"y2\"}, {\"marker\": {\"color\": \"rgb(222.66666666666666, 126.0, 106.0)\", \"line\": {\"color\": \"black\", \"width\": 0.5}, \"size\": 8, \"symbol\": \"square\"}, \"mode\": \"markers\", \"showlegend\": false, \"type\": \"scatter\", \"x\": [0.4488710481106819, 0.5679025559996315, 0.4779248681267955], \"xaxis\": \"x2\", \"y\": [-2.0762406335366608, -2.230753019262207, -2.106890596178071], \"yaxis\": \"y2\"}, {\"marker\": {\"color\": \"rgb(217.0, 72.0, 42.0)\", \"line\": {\"color\": \"black\", \"width\": 0.5}, \"size\": 8, \"symbol\": \"square\"}, \"mode\": \"markers\", \"showlegend\": false, \"type\": \"scatter\", \"x\": [0.6433323861730657, 0.6122244511821106, 0.789059360083508], \"xaxis\": \"x2\", \"y\": [-2.179550833870897, -2.174072747144571, -2.3030638489007687], \"yaxis\": \"y2\"}, {\"marker\": {\"color\": \"rgb(54, 146, 68)\", \"line\": {\"color\": \"black\", \"width\": 0.5}, \"size\": 12, \"symbol\": \"circle\"}, \"mode\": \"markers\", \"showlegend\": false, \"type\": \"scatter\", \"x\": [0.5827955539655392], \"xaxis\": \"x3\", \"y\": [3.3925583848439], \"yaxis\": \"y3\"}, {\"marker\": {\"color\": \"rgb(33.0, 100.0, 175.0)\", \"line\": {\"color\": \"black\", \"width\": 0.5}, \"size\": 8, \"symbol\": \"circle\"}, \"mode\": \"markers\", \"showlegend\": false, \"type\": \"scatter\", \"x\": [1.3137273701667571, 1.2685632398193596, 1.3731568563746621], \"xaxis\": \"x3\", \"y\": [4.5671471122856335, 4.47133928493017, 4.583003686180552], \"yaxis\": \"y3\"}, {\"marker\": {\"color\": \"rgb(100.0, 144.66666666666666, 194.66666666666666)\", \"line\": {\"color\": \"black\", \"width\": 0.5}, \"size\": 8, \"symbol\": \"circle\"}, \"mode\": \"markers\", \"showlegend\": false, \"type\": \"scatter\", \"x\": [0.6573465027885126, 0.7117447032871379, 0.7728143727179353], \"xaxis\": \"x3\", \"y\": [3.924470459126368, 3.999985986266941, 3.9967787859194313], \"yaxis\": \"y3\"}, {\"marker\": {\"color\": \"rgb(167.0, 189.33333333333331, 214.33333333333334)\", \"line\": {\"color\": \"black\", \"width\": 0.5}, \"size\": 8, \"symbol\": \"circle\"}, \"mode\": \"markers\", \"showlegend\": false, \"type\": \"scatter\", \"x\": [-0.03853833557086538, 0.0009107691615076038, -0.08913801927138913], \"xaxis\": \"x3\", \"y\": [2.7409735496493948, 2.7218943607619397, 2.5994517775334147], \"yaxis\": \"y3\"}, {\"marker\": {\"color\": \"rgb(228.33333333333334, 180.0, 170.0)\", \"line\": {\"color\": \"black\", \"width\": 0.5}, \"size\": 8, \"symbol\": \"circle\"}, \"mode\": \"markers\", \"showlegend\": false, \"type\": \"scatter\", \"x\": [-0.5449142696361674, -0.6046909982758699, -0.5955433239255441], \"xaxis\": \"x3\", \"y\": [1.931148588557489, 1.8927902374572678, 1.948967737957641], \"yaxis\": \"y3\"}, {\"marker\": {\"color\": \"rgb(222.66666666666666, 126.0, 106.0)\", \"line\": {\"color\": \"black\", \"width\": 0.5}, \"size\": 8, \"symbol\": \"circle\"}, \"mode\": \"markers\", \"showlegend\": false, \"type\": \"scatter\", \"x\": [-0.5255970031260905, -0.5502479590203517, -0.5503040547477626], \"xaxis\": \"x3\", \"y\": [2.0213350300460493, 1.9814706897092529, 1.8430678480976368], \"yaxis\": \"y3\"}, {\"marker\": {\"color\": \"rgb(217.0, 72.0, 42.0)\", \"line\": {\"color\": \"black\", \"width\": 0.5}, \"size\": 8, \"symbol\": \"circle\"}, \"mode\": \"markers\", \"showlegend\": false, \"type\": \"scatter\", \"x\": [-0.582419847667496, -0.7144342498200071, -0.6293713320353531], \"xaxis\": \"x3\", \"y\": [1.88886530881932, 1.789647227288464, 1.8637790429213574], \"yaxis\": \"y3\"}, {\"marker\": {\"color\": \"rgb(54, 146, 68)\", \"line\": {\"color\": \"black\", \"width\": 0.5}, \"size\": 12, \"symbol\": \"x\"}, \"mode\": \"markers\", \"showlegend\": false, \"type\": \"scatter\", \"x\": [-1.329488729818281], \"xaxis\": \"x3\", \"y\": [-0.5920944367702766], \"yaxis\": \"y3\"}, {\"marker\": {\"color\": \"rgb(33.0, 100.0, 175.0)\", \"line\": {\"color\": \"black\", \"width\": 0.5}, \"size\": 8, \"symbol\": \"x\"}, \"mode\": \"markers\", \"showlegend\": false, \"type\": \"scatter\", \"x\": [-0.7800991223465219, -0.8119624856790125, -0.7480544077688025], \"xaxis\": \"x3\", \"y\": [0.7729686671084145, 0.7605568558245743, 0.8289080469654122], \"yaxis\": \"y3\"}, {\"marker\": {\"color\": \"rgb(100.0, 144.66666666666666, 194.66666666666666)\", \"line\": {\"color\": \"black\", \"width\": 0.5}, \"size\": 8, \"symbol\": \"x\"}, \"mode\": \"markers\", \"showlegend\": false, \"type\": \"scatter\", \"x\": [-1.034286858957992, -1.0444308392418173, -1.0583445687751263], \"xaxis\": \"x3\", \"y\": [-0.1318974278371037, -0.145634149194224, -0.17172105012810418], \"yaxis\": \"y3\"}, {\"marker\": {\"color\": \"rgb(167.0, 189.33333333333331, 214.33333333333334)\", \"line\": {\"color\": \"black\", \"width\": 0.5}, \"size\": 8, \"symbol\": \"x\"}, \"mode\": \"markers\", \"showlegend\": false, \"type\": \"scatter\", \"x\": [-0.4530175480366294, -0.4379228468079163, -0.4166757942169375], \"xaxis\": \"x3\", \"y\": [-1.3262820156776036, -1.314059483300048, -1.2787962103533224], \"yaxis\": \"y3\"}, {\"marker\": {\"color\": \"rgb(228.33333333333334, 180.0, 170.0)\", \"line\": {\"color\": \"black\", \"width\": 0.5}, \"size\": 8, \"symbol\": \"x\"}, \"mode\": \"markers\", \"showlegend\": false, \"type\": \"scatter\", \"x\": [-0.11453412292227837, -0.2080226974940316, -0.17473427779067813], \"xaxis\": \"x3\", \"y\": [-2.100605878554829, -2.167148388165432, -2.014804296026953], \"yaxis\": \"y3\"}, {\"marker\": {\"color\": \"rgb(222.66666666666666, 126.0, 106.0)\", \"line\": {\"color\": \"black\", \"width\": 0.5}, \"size\": 8, \"symbol\": \"x\"}, \"mode\": \"markers\", \"showlegend\": false, \"type\": \"scatter\", \"x\": [-0.22779694141822, -0.3940907768280189, -0.370328598568993], \"xaxis\": \"x3\", \"y\": [-1.8048239152408272, -2.0227772660358085, -2.086190628040889], \"yaxis\": \"y3\"}, {\"marker\": {\"color\": \"rgb(217.0, 72.0, 42.0)\", \"line\": {\"color\": \"black\", \"width\": 0.5}, \"size\": 8, \"symbol\": \"x\"}, \"mode\": \"markers\", \"showlegend\": false, \"type\": \"scatter\", \"x\": [-0.524520867322948, -0.4202503473445575, -0.4956267144506031], \"xaxis\": \"x3\", \"y\": [-2.0545110267092417, -2.265942992753503, -2.224849969540069], \"yaxis\": \"y3\"}, {\"marker\": {\"color\": \"rgb(54, 146, 68)\", \"line\": {\"color\": \"black\", \"width\": 0.5}, \"size\": 12, \"symbol\": \"diamond\"}, \"mode\": \"markers\", \"showlegend\": false, \"type\": \"scatter\", \"x\": [-1.0020278329649326], \"xaxis\": \"x3\", \"y\": [-0.18352920483225368], \"yaxis\": \"y3\"}, {\"marker\": {\"color\": \"rgb(33.0, 100.0, 175.0)\", \"line\": {\"color\": \"black\", \"width\": 0.5}, \"size\": 8, \"symbol\": \"diamond\"}, \"mode\": \"markers\", \"showlegend\": false, \"type\": \"scatter\", \"x\": [-0.7517243555575597, -0.5824405329159488, -0.6171369784888349], \"xaxis\": \"x3\", \"y\": [0.9583659150006976, 1.1254557418478268, 1.0956548497477976], \"yaxis\": \"y3\"}, {\"marker\": {\"color\": \"rgb(100.0, 144.66666666666666, 194.66666666666666)\", \"line\": {\"color\": \"black\", \"width\": 0.5}, \"size\": 8, \"symbol\": \"diamond\"}, \"mode\": \"markers\", \"showlegend\": false, \"type\": \"scatter\", \"x\": [-0.7402788561704936, -0.9074214997150207, -0.8207648358688954], \"xaxis\": \"x3\", \"y\": [0.3494883360635157, 0.15615747738832736, 0.2802429719534489], \"yaxis\": \"y3\"}, {\"marker\": {\"color\": \"rgb(167.0, 189.33333333333331, 214.33333333333334)\", \"line\": {\"color\": \"black\", \"width\": 0.5}, \"size\": 8, \"symbol\": \"diamond\"}, \"mode\": \"markers\", \"showlegend\": false, \"type\": \"scatter\", \"x\": [-0.3831385276845208, -0.3758664168722782, -0.45766076559898017], \"xaxis\": \"x3\", \"y\": [-0.9203705123237378, -0.8965892365785282, -1.0934011862488378], \"yaxis\": \"y3\"}, {\"marker\": {\"color\": \"rgb(228.33333333333334, 180.0, 170.0)\", \"line\": {\"color\": \"black\", \"width\": 0.5}, \"size\": 8, \"symbol\": \"diamond\"}, \"mode\": \"markers\", \"showlegend\": false, \"type\": \"scatter\", \"x\": [-0.14836274347460496, -0.11168879951940447, 0.01875844994606958], \"xaxis\": \"x3\", \"y\": [-1.7135859998603737, -1.908798233819545, -1.9479506823615123], \"yaxis\": \"y3\"}, {\"marker\": {\"color\": \"rgb(222.66666666666666, 126.0, 106.0)\", \"line\": {\"color\": \"black\", \"width\": 0.5}, \"size\": 8, \"symbol\": \"diamond\"}, \"mode\": \"markers\", \"showlegend\": false, \"type\": \"scatter\", \"x\": [-0.08415245455887825, -0.08313201846782911, -0.13510556865022239], \"xaxis\": \"x3\", \"y\": [-2.166995493886043, -2.152557368859361, -2.1670282843198536], \"yaxis\": \"y3\"}, {\"marker\": {\"color\": \"rgb(217.0, 72.0, 42.0)\", \"line\": {\"color\": \"black\", \"width\": 0.5}, \"size\": 8, \"symbol\": \"diamond\"}, \"mode\": \"markers\", \"showlegend\": false, \"type\": \"scatter\", \"x\": [-0.29831853138147624, -0.24218085871625888, -0.23614139661586092], \"xaxis\": \"x3\", \"y\": [-2.0164822945941427, -2.1798129029352618, -2.208707614755592], \"yaxis\": \"y3\"}, {\"marker\": {\"color\": \"rgb(54, 146, 68)\", \"line\": {\"color\": \"black\", \"width\": 0.5}, \"size\": 12, \"symbol\": \"square\"}, \"mode\": \"markers\", \"showlegend\": false, \"type\": \"scatter\", \"x\": [-0.25081609705692054], \"xaxis\": \"x3\", \"y\": [0.6190700074729046], \"yaxis\": \"y3\"}, {\"marker\": {\"color\": \"rgb(33.0, 100.0, 175.0)\", \"line\": {\"color\": \"black\", \"width\": 0.5}, \"size\": 8, \"symbol\": \"square\"}, \"mode\": \"markers\", \"showlegend\": false, \"type\": \"scatter\", \"x\": [0.2337527034345187, 0.17360788215801445, 0.19358577851057718], \"xaxis\": \"x3\", \"y\": [1.4517787782426228, 1.4392236637840092, 1.4363492450482989], \"yaxis\": \"y3\"}, {\"marker\": {\"color\": \"rgb(100.0, 144.66666666666666, 194.66666666666666)\", \"line\": {\"color\": \"black\", \"width\": 0.5}, \"size\": 8, \"symbol\": \"square\"}, \"mode\": \"markers\", \"showlegend\": false, \"type\": \"scatter\", \"x\": [0.47236290280626564, 0.5483301908335012, 0.6405294928124228], \"xaxis\": \"x3\", \"y\": [0.4218432897802351, 0.4189823505549946, 0.5995441438254117], \"yaxis\": \"y3\"}, {\"marker\": {\"color\": \"rgb(167.0, 189.33333333333331, 214.33333333333334)\", \"line\": {\"color\": \"black\", \"width\": 0.5}, \"size\": 8, \"symbol\": \"square\"}, \"mode\": \"markers\", \"showlegend\": false, \"type\": \"scatter\", \"x\": [1.3328123302858883, 1.3572417246795423, 1.2941940865604407], \"xaxis\": \"x3\", \"y\": [-1.0362954612303057, -0.9482194708495253, -0.8690133016496151], \"yaxis\": \"y3\"}, {\"marker\": {\"color\": \"rgb(228.33333333333334, 180.0, 170.0)\", \"line\": {\"color\": \"black\", \"width\": 0.5}, \"size\": 8, \"symbol\": \"square\"}, \"mode\": \"markers\", \"showlegend\": false, \"type\": \"scatter\", \"x\": [1.3678727453984274, 1.1210111210607898, 1.4649476454954868], \"xaxis\": \"x3\", \"y\": [-1.9282597787801627, -1.8201774486438254, -1.942780149210833], \"yaxis\": \"y3\"}, {\"marker\": {\"color\": \"rgb(222.66666666666666, 126.0, 106.0)\", \"line\": {\"color\": \"black\", \"width\": 0.5}, \"size\": 8, \"symbol\": \"square\"}, \"mode\": \"markers\", \"showlegend\": false, \"type\": \"scatter\", \"x\": [1.4749587280156728, 1.4717148395773851, 1.2989233323733562], \"xaxis\": \"x3\", \"y\": [-2.0762406335366608, -2.230753019262207, -2.106890596178071], \"yaxis\": \"y3\"}, {\"marker\": {\"color\": \"rgb(217.0, 72.0, 42.0)\", \"line\": {\"color\": \"black\", \"width\": 0.5}, \"size\": 8, \"symbol\": \"square\"}, \"mode\": \"markers\", \"showlegend\": false, \"type\": \"scatter\", \"x\": [1.2575541809243258, 1.1021622377559042, 1.1923672682551807], \"xaxis\": \"x3\", \"y\": [-2.179550833870897, -2.174072747144571, -2.3030638489007687], \"yaxis\": \"y3\"}, {\"marker\": {\"color\": \"rgb(54, 146, 68)\", \"line\": {\"color\": \"black\", \"width\": 0.5}, \"size\": 12, \"symbol\": \"circle\"}, \"mode\": \"markers\", \"showlegend\": false, \"type\": \"scatter\", \"x\": [3.3925583848439], \"xaxis\": \"x4\", \"y\": [-1.0392109922137942], \"yaxis\": \"y4\"}, {\"marker\": {\"color\": \"rgb(33.0, 100.0, 175.0)\", \"line\": {\"color\": \"black\", \"width\": 0.5}, \"size\": 8, \"symbol\": \"circle\"}, \"mode\": \"markers\", \"showlegend\": false, \"type\": \"scatter\", \"x\": [4.5671471122856335, 4.47133928493017, 4.583003686180552], \"xaxis\": \"x4\", \"y\": [-1.1080757272009907, -1.1312595285137415, -1.1052294571951582], \"yaxis\": \"y4\"}, {\"marker\": {\"color\": \"rgb(100.0, 144.66666666666666, 194.66666666666666)\", \"line\": {\"color\": \"black\", \"width\": 0.5}, \"size\": 8, \"symbol\": \"circle\"}, \"mode\": \"markers\", \"showlegend\": false, \"type\": \"scatter\", \"x\": [3.924470459126368, 3.999985986266941, 3.9967787859194313], \"xaxis\": \"x4\", \"y\": [0.44432218847968624, 0.5398936448329693, 0.5410306492346849], \"yaxis\": \"y4\"}, {\"marker\": {\"color\": \"rgb(167.0, 189.33333333333331, 214.33333333333334)\", \"line\": {\"color\": \"black\", \"width\": 0.5}, \"size\": 8, \"symbol\": \"circle\"}, \"mode\": \"markers\", \"showlegend\": false, \"type\": \"scatter\", \"x\": [2.7409735496493948, 2.7218943607619397, 2.5994517775334147], \"xaxis\": \"x4\", \"y\": [2.003460439233315, 2.0228989710051875, 1.9593885950689833], \"yaxis\": \"y4\"}, {\"marker\": {\"color\": \"rgb(228.33333333333334, 180.0, 170.0)\", \"line\": {\"color\": \"black\", \"width\": 0.5}, \"size\": 8, \"symbol\": \"circle\"}, \"mode\": \"markers\", \"showlegend\": false, \"type\": \"scatter\", \"x\": [1.931148588557489, 1.8927902374572678, 1.948967737957641], \"xaxis\": \"x4\", \"y\": [2.3541879784205264, 2.3244202539409566, 2.3069448289154004], \"yaxis\": \"y4\"}, {\"marker\": {\"color\": \"rgb(222.66666666666666, 126.0, 106.0)\", \"line\": {\"color\": \"black\", \"width\": 0.5}, \"size\": 8, \"symbol\": \"circle\"}, \"mode\": \"markers\", \"showlegend\": false, \"type\": \"scatter\", \"x\": [2.0213350300460493, 1.9814706897092529, 1.8430678480976368], \"xaxis\": \"x4\", \"y\": [2.516493115533592, 2.552952700184765, 2.3350359945123964], \"yaxis\": \"y4\"}, {\"marker\": {\"color\": \"rgb(217.0, 72.0, 42.0)\", \"line\": {\"color\": \"black\", \"width\": 0.5}, \"size\": 8, \"symbol\": \"circle\"}, \"mode\": \"markers\", \"showlegend\": false, \"type\": \"scatter\", \"x\": [1.88886530881932, 1.789647227288464, 1.8637790429213574], \"xaxis\": \"x4\", \"y\": [2.3956866823194334, 2.402509760070554, 2.3261412316597063], \"yaxis\": \"y4\"}, {\"marker\": {\"color\": \"rgb(54, 146, 68)\", \"line\": {\"color\": \"black\", \"width\": 0.5}, \"size\": 12, \"symbol\": \"x\"}, \"mode\": \"markers\", \"showlegend\": false, \"type\": \"scatter\", \"x\": [-0.5920944367702766], \"xaxis\": \"x4\", \"y\": [-1.9613351855984575], \"yaxis\": \"y4\"}, {\"marker\": {\"color\": \"rgb(33.0, 100.0, 175.0)\", \"line\": {\"color\": \"black\", \"width\": 0.5}, \"size\": 8, \"symbol\": \"x\"}, \"mode\": \"markers\", \"showlegend\": false, \"type\": \"scatter\", \"x\": [0.7729686671084145, 0.7605568558245743, 0.8289080469654122], \"xaxis\": \"x4\", \"y\": [-2.0386133550523167, -1.9016941698414784, -1.9610636843240443], \"yaxis\": \"y4\"}, {\"marker\": {\"color\": \"rgb(100.0, 144.66666666666666, 194.66666666666666)\", \"line\": {\"color\": \"black\", \"width\": 0.5}, \"size\": 8, \"symbol\": \"x\"}, \"mode\": \"markers\", \"showlegend\": false, \"type\": \"scatter\", \"x\": [-0.1318974278371037, -0.145634149194224, -0.17172105012810418], \"xaxis\": \"x4\", \"y\": [-1.0980992430279846, -1.1507262722132285, -1.0766314107665407], \"yaxis\": \"y4\"}, {\"marker\": {\"color\": \"rgb(167.0, 189.33333333333331, 214.33333333333334)\", \"line\": {\"color\": \"black\", \"width\": 0.5}, \"size\": 8, \"symbol\": \"x\"}, \"mode\": \"markers\", \"showlegend\": false, \"type\": \"scatter\", \"x\": [-1.3262820156776036, -1.314059483300048, -1.2787962103533224], \"xaxis\": \"x4\", \"y\": [-0.14413268714479283, -0.1291075287128541, -0.21061144561274273], \"yaxis\": \"y4\"}, {\"marker\": {\"color\": \"rgb(228.33333333333334, 180.0, 170.0)\", \"line\": {\"color\": \"black\", \"width\": 0.5}, \"size\": 8, \"symbol\": \"x\"}, \"mode\": \"markers\", \"showlegend\": false, \"type\": \"scatter\", \"x\": [-2.100605878554829, -2.167148388165432, -2.014804296026953], \"xaxis\": \"x4\", \"y\": [0.2667628329875186, 0.22570796893311765, 0.26911879558556717], \"yaxis\": \"y4\"}, {\"marker\": {\"color\": \"rgb(222.66666666666666, 126.0, 106.0)\", \"line\": {\"color\": \"black\", \"width\": 0.5}, \"size\": 8, \"symbol\": \"x\"}, \"mode\": \"markers\", \"showlegend\": false, \"type\": \"scatter\", \"x\": [-1.8048239152408272, -2.0227772660358085, -2.086190628040889], \"xaxis\": \"x4\", \"y\": [0.30273324246383476, 0.2806994626347979, 0.4231395023953555], \"yaxis\": \"y4\"}, {\"marker\": {\"color\": \"rgb(217.0, 72.0, 42.0)\", \"line\": {\"color\": \"black\", \"width\": 0.5}, \"size\": 8, \"symbol\": \"x\"}, \"mode\": \"markers\", \"showlegend\": false, \"type\": \"scatter\", \"x\": [-2.0545110267092417, -2.265942992753503, -2.224849969540069], \"xaxis\": \"x4\", \"y\": [0.42760304043774006, 0.5527955373305947, 0.5680317482625383], \"yaxis\": \"y4\"}, {\"marker\": {\"color\": \"rgb(54, 146, 68)\", \"line\": {\"color\": \"black\", \"width\": 0.5}, \"size\": 12, \"symbol\": \"diamond\"}, \"mode\": \"markers\", \"showlegend\": false, \"type\": \"scatter\", \"x\": [-0.18352920483225368], \"xaxis\": \"x4\", \"y\": [-1.8505564040596898], \"yaxis\": \"y4\"}, {\"marker\": {\"color\": \"rgb(33.0, 100.0, 175.0)\", \"line\": {\"color\": \"black\", \"width\": 0.5}, \"size\": 8, \"symbol\": \"diamond\"}, \"mode\": \"markers\", \"showlegend\": false, \"type\": \"scatter\", \"x\": [0.9583659150006976, 1.1254557418478268, 1.0956548497477976], \"xaxis\": \"x4\", \"y\": [-1.7520953251698022, -1.6743401500267714, -1.7295443395046028], \"yaxis\": \"y4\"}, {\"marker\": {\"color\": \"rgb(100.0, 144.66666666666666, 194.66666666666666)\", \"line\": {\"color\": \"black\", \"width\": 0.5}, \"size\": 8, \"symbol\": \"diamond\"}, \"mode\": \"markers\", \"showlegend\": false, \"type\": \"scatter\", \"x\": [0.3494883360635157, 0.15615747738832736, 0.2802429719534489], \"xaxis\": \"x4\", \"y\": [-0.8967817007106362, -0.9723147426474467, -1.080940963588972], \"yaxis\": \"y4\"}, {\"marker\": {\"color\": \"rgb(167.0, 189.33333333333331, 214.33333333333334)\", \"line\": {\"color\": \"black\", \"width\": 0.5}, \"size\": 8, \"symbol\": \"diamond\"}, \"mode\": \"markers\", \"showlegend\": false, \"type\": \"scatter\", \"x\": [-0.9203705123237378, -0.8965892365785282, -1.0934011862488378], \"xaxis\": \"x4\", \"y\": [-0.25796737417225346, -0.22201417360211126, -0.007625374742388254], \"yaxis\": \"y4\"}, {\"marker\": {\"color\": \"rgb(228.33333333333334, 180.0, 170.0)\", \"line\": {\"color\": \"black\", \"width\": 0.5}, \"size\": 8, \"symbol\": \"diamond\"}, \"mode\": \"markers\", \"showlegend\": false, \"type\": \"scatter\", \"x\": [-1.7135859998603737, -1.908798233819545, -1.9479506823615123], \"xaxis\": \"x4\", \"y\": [0.0012166751574885382, 0.3024853658431663, 0.3292074365583328], \"yaxis\": \"y4\"}, {\"marker\": {\"color\": \"rgb(222.66666666666666, 126.0, 106.0)\", \"line\": {\"color\": \"black\", \"width\": 0.5}, \"size\": 8, \"symbol\": \"diamond\"}, \"mode\": \"markers\", \"showlegend\": false, \"type\": \"scatter\", \"x\": [-2.166995493886043, -2.152557368859361, -2.1670282843198536], \"xaxis\": \"x4\", \"y\": [0.5093779588570261, 0.5930648762985972, 0.5645175421841404], \"yaxis\": \"y4\"}, {\"marker\": {\"color\": \"rgb(217.0, 72.0, 42.0)\", \"line\": {\"color\": \"black\", \"width\": 0.5}, \"size\": 8, \"symbol\": \"diamond\"}, \"mode\": \"markers\", \"showlegend\": false, \"type\": \"scatter\", \"x\": [-2.0164822945941427, -2.1798129029352618, -2.208707614755592], \"xaxis\": \"x4\", \"y\": [0.613399155662397, 0.6194668596841832, 0.6815701808474504], \"yaxis\": \"y4\"}, {\"marker\": {\"color\": \"rgb(54, 146, 68)\", \"line\": {\"color\": \"black\", \"width\": 0.5}, \"size\": 12, \"symbol\": \"square\"}, \"mode\": \"markers\", \"showlegend\": false, \"type\": \"scatter\", \"x\": [0.6190700074729046], \"xaxis\": \"x4\", \"y\": [-1.3493581699652417], \"yaxis\": \"y4\"}, {\"marker\": {\"color\": \"rgb(33.0, 100.0, 175.0)\", \"line\": {\"color\": \"black\", \"width\": 0.5}, \"size\": 8, \"symbol\": \"square\"}, \"mode\": \"markers\", \"showlegend\": false, \"type\": \"scatter\", \"x\": [1.4517787782426228, 1.4392236637840092, 1.4363492450482989], \"xaxis\": \"x4\", \"y\": [-2.280210422139354, -2.240263358571105, -2.2201475009976237], \"yaxis\": \"y4\"}, {\"marker\": {\"color\": \"rgb(100.0, 144.66666666666666, 194.66666666666666)\", \"line\": {\"color\": \"black\", \"width\": 0.5}, \"size\": 8, \"symbol\": \"square\"}, \"mode\": \"markers\", \"showlegend\": false, \"type\": \"scatter\", \"x\": [0.4218432897802351, 0.4189823505549946, 0.5995441438254117], \"xaxis\": \"x4\", \"y\": [-1.5439890474980789, -1.6455755495673299, -1.6494219615766585], \"yaxis\": \"y4\"}, {\"marker\": {\"color\": \"rgb(167.0, 189.33333333333331, 214.33333333333334)\", \"line\": {\"color\": \"black\", \"width\": 0.5}, \"size\": 8, \"symbol\": \"square\"}, \"mode\": \"markers\", \"showlegend\": false, \"type\": \"scatter\", \"x\": [-1.0362954612303057, -0.9482194708495253, -0.8690133016496151], \"xaxis\": \"x4\", \"y\": [-0.39952105611229216, -0.5155726464727439, -0.5560534258064268], \"yaxis\": \"y4\"}, {\"marker\": {\"color\": \"rgb(228.33333333333334, 180.0, 170.0)\", \"line\": {\"color\": \"black\", \"width\": 0.5}, \"size\": 8, \"symbol\": \"square\"}, \"mode\": \"markers\", \"showlegend\": false, \"type\": \"scatter\", \"x\": [-1.9282597787801627, -1.8201774486438254, -1.942780149210833], \"xaxis\": \"x4\", \"y\": [0.29052077237215806, 0.17409427707572114, 0.33988943968997776], \"yaxis\": \"y4\"}, {\"marker\": {\"color\": \"rgb(222.66666666666666, 126.0, 106.0)\", \"line\": {\"color\": \"black\", \"width\": 0.5}, \"size\": 8, \"symbol\": \"square\"}, \"mode\": \"markers\", \"showlegend\": false, \"type\": \"scatter\", \"x\": [-2.0762406335366608, -2.230753019262207, -2.106890596178071], \"xaxis\": \"x4\", \"y\": [0.4488710481106819, 0.5679025559996315, 0.4779248681267955], \"yaxis\": \"y4\"}, {\"marker\": {\"color\": \"rgb(217.0, 72.0, 42.0)\", \"line\": {\"color\": \"black\", \"width\": 0.5}, \"size\": 8, \"symbol\": \"square\"}, \"mode\": \"markers\", \"showlegend\": false, \"type\": \"scatter\", \"x\": [-2.179550833870897, -2.174072747144571, -2.3030638489007687], \"xaxis\": \"x4\", \"y\": [0.6433323861730657, 0.6122244511821106, 0.789059360083508], \"yaxis\": \"y4\"}, {\"marker\": {\"color\": \"rgb(54, 146, 68)\", \"line\": {\"color\": \"black\", \"width\": 0.5}, \"size\": 12, \"symbol\": \"circle\"}, \"mode\": \"markers\", \"showlegend\": false, \"type\": \"scatter\", \"x\": [0.5827955539655392], \"xaxis\": \"x6\", \"y\": [-1.0392109922137942], \"yaxis\": \"y6\"}, {\"marker\": {\"color\": \"rgb(33.0, 100.0, 175.0)\", \"line\": {\"color\": \"black\", \"width\": 0.5}, \"size\": 8, \"symbol\": \"circle\"}, \"mode\": \"markers\", \"showlegend\": false, \"type\": \"scatter\", \"x\": [1.3137273701667571, 1.2685632398193596, 1.3731568563746621], \"xaxis\": \"x6\", \"y\": [-1.1080757272009907, -1.1312595285137415, -1.1052294571951582], \"yaxis\": \"y6\"}, {\"marker\": {\"color\": \"rgb(100.0, 144.66666666666666, 194.66666666666666)\", \"line\": {\"color\": \"black\", \"width\": 0.5}, \"size\": 8, \"symbol\": \"circle\"}, \"mode\": \"markers\", \"showlegend\": false, \"type\": \"scatter\", \"x\": [0.6573465027885126, 0.7117447032871379, 0.7728143727179353], \"xaxis\": \"x6\", \"y\": [0.44432218847968624, 0.5398936448329693, 0.5410306492346849], \"yaxis\": \"y6\"}, {\"marker\": {\"color\": \"rgb(167.0, 189.33333333333331, 214.33333333333334)\", \"line\": {\"color\": \"black\", \"width\": 0.5}, \"size\": 8, \"symbol\": \"circle\"}, \"mode\": \"markers\", \"showlegend\": false, \"type\": \"scatter\", \"x\": [-0.03853833557086538, 0.0009107691615076038, -0.08913801927138913], \"xaxis\": \"x6\", \"y\": [2.003460439233315, 2.0228989710051875, 1.9593885950689833], \"yaxis\": \"y6\"}, {\"marker\": {\"color\": \"rgb(228.33333333333334, 180.0, 170.0)\", \"line\": {\"color\": \"black\", \"width\": 0.5}, \"size\": 8, \"symbol\": \"circle\"}, \"mode\": \"markers\", \"showlegend\": false, \"type\": \"scatter\", \"x\": [-0.5449142696361674, -0.6046909982758699, -0.5955433239255441], \"xaxis\": \"x6\", \"y\": [2.3541879784205264, 2.3244202539409566, 2.3069448289154004], \"yaxis\": \"y6\"}, {\"marker\": {\"color\": \"rgb(222.66666666666666, 126.0, 106.0)\", \"line\": {\"color\": \"black\", \"width\": 0.5}, \"size\": 8, \"symbol\": \"circle\"}, \"mode\": \"markers\", \"showlegend\": false, \"type\": \"scatter\", \"x\": [-0.5255970031260905, -0.5502479590203517, -0.5503040547477626], \"xaxis\": \"x6\", \"y\": [2.516493115533592, 2.552952700184765, 2.3350359945123964], \"yaxis\": \"y6\"}, {\"marker\": {\"color\": \"rgb(217.0, 72.0, 42.0)\", \"line\": {\"color\": \"black\", \"width\": 0.5}, \"size\": 8, \"symbol\": \"circle\"}, \"mode\": \"markers\", \"showlegend\": false, \"type\": \"scatter\", \"x\": [-0.582419847667496, -0.7144342498200071, -0.6293713320353531], \"xaxis\": \"x6\", \"y\": [2.3956866823194334, 2.402509760070554, 2.3261412316597063], \"yaxis\": \"y6\"}, {\"marker\": {\"color\": \"rgb(54, 146, 68)\", \"line\": {\"color\": \"black\", \"width\": 0.5}, \"size\": 12, \"symbol\": \"x\"}, \"mode\": \"markers\", \"showlegend\": false, \"type\": \"scatter\", \"x\": [-1.329488729818281], \"xaxis\": \"x6\", \"y\": [-1.9613351855984575], \"yaxis\": \"y6\"}, {\"marker\": {\"color\": \"rgb(33.0, 100.0, 175.0)\", \"line\": {\"color\": \"black\", \"width\": 0.5}, \"size\": 8, \"symbol\": \"x\"}, \"mode\": \"markers\", \"showlegend\": false, \"type\": \"scatter\", \"x\": [-0.7800991223465219, -0.8119624856790125, -0.7480544077688025], \"xaxis\": \"x6\", \"y\": [-2.0386133550523167, -1.9016941698414784, -1.9610636843240443], \"yaxis\": \"y6\"}, {\"marker\": {\"color\": \"rgb(100.0, 144.66666666666666, 194.66666666666666)\", \"line\": {\"color\": \"black\", \"width\": 0.5}, \"size\": 8, \"symbol\": \"x\"}, \"mode\": \"markers\", \"showlegend\": false, \"type\": \"scatter\", \"x\": [-1.034286858957992, -1.0444308392418173, -1.0583445687751263], \"xaxis\": \"x6\", \"y\": [-1.0980992430279846, -1.1507262722132285, -1.0766314107665407], \"yaxis\": \"y6\"}, {\"marker\": {\"color\": \"rgb(167.0, 189.33333333333331, 214.33333333333334)\", \"line\": {\"color\": \"black\", \"width\": 0.5}, \"size\": 8, \"symbol\": \"x\"}, \"mode\": \"markers\", \"showlegend\": false, \"type\": \"scatter\", \"x\": [-0.4530175480366294, -0.4379228468079163, -0.4166757942169375], \"xaxis\": \"x6\", \"y\": [-0.14413268714479283, -0.1291075287128541, -0.21061144561274273], \"yaxis\": \"y6\"}, {\"marker\": {\"color\": \"rgb(228.33333333333334, 180.0, 170.0)\", \"line\": {\"color\": \"black\", \"width\": 0.5}, \"size\": 8, \"symbol\": \"x\"}, \"mode\": \"markers\", \"showlegend\": false, \"type\": \"scatter\", \"x\": [-0.11453412292227837, -0.2080226974940316, -0.17473427779067813], \"xaxis\": \"x6\", \"y\": [0.2667628329875186, 0.22570796893311765, 0.26911879558556717], \"yaxis\": \"y6\"}, {\"marker\": {\"color\": \"rgb(222.66666666666666, 126.0, 106.0)\", \"line\": {\"color\": \"black\", \"width\": 0.5}, \"size\": 8, \"symbol\": \"x\"}, \"mode\": \"markers\", \"showlegend\": false, \"type\": \"scatter\", \"x\": [-0.22779694141822, -0.3940907768280189, -0.370328598568993], \"xaxis\": \"x6\", \"y\": [0.30273324246383476, 0.2806994626347979, 0.4231395023953555], \"yaxis\": \"y6\"}, {\"marker\": {\"color\": \"rgb(217.0, 72.0, 42.0)\", \"line\": {\"color\": \"black\", \"width\": 0.5}, \"size\": 8, \"symbol\": \"x\"}, \"mode\": \"markers\", \"showlegend\": false, \"type\": \"scatter\", \"x\": [-0.524520867322948, -0.4202503473445575, -0.4956267144506031], \"xaxis\": \"x6\", \"y\": [0.42760304043774006, 0.5527955373305947, 0.5680317482625383], \"yaxis\": \"y6\"}, {\"marker\": {\"color\": \"rgb(54, 146, 68)\", \"line\": {\"color\": \"black\", \"width\": 0.5}, \"size\": 12, \"symbol\": \"diamond\"}, \"mode\": \"markers\", \"showlegend\": false, \"type\": \"scatter\", \"x\": [-1.0020278329649326], \"xaxis\": \"x6\", \"y\": [-1.8505564040596898], \"yaxis\": \"y6\"}, {\"marker\": {\"color\": \"rgb(33.0, 100.0, 175.0)\", \"line\": {\"color\": \"black\", \"width\": 0.5}, \"size\": 8, \"symbol\": \"diamond\"}, \"mode\": \"markers\", \"showlegend\": false, \"type\": \"scatter\", \"x\": [-0.7517243555575597, -0.5824405329159488, -0.6171369784888349], \"xaxis\": \"x6\", \"y\": [-1.7520953251698022, -1.6743401500267714, -1.7295443395046028], \"yaxis\": \"y6\"}, {\"marker\": {\"color\": \"rgb(100.0, 144.66666666666666, 194.66666666666666)\", \"line\": {\"color\": \"black\", \"width\": 0.5}, \"size\": 8, \"symbol\": \"diamond\"}, \"mode\": \"markers\", \"showlegend\": false, \"type\": \"scatter\", \"x\": [-0.7402788561704936, -0.9074214997150207, -0.8207648358688954], \"xaxis\": \"x6\", \"y\": [-0.8967817007106362, -0.9723147426474467, -1.080940963588972], \"yaxis\": \"y6\"}, {\"marker\": {\"color\": \"rgb(167.0, 189.33333333333331, 214.33333333333334)\", \"line\": {\"color\": \"black\", \"width\": 0.5}, \"size\": 8, \"symbol\": \"diamond\"}, \"mode\": \"markers\", \"showlegend\": false, \"type\": \"scatter\", \"x\": [-0.3831385276845208, -0.3758664168722782, -0.45766076559898017], \"xaxis\": \"x6\", \"y\": [-0.25796737417225346, -0.22201417360211126, -0.007625374742388254], \"yaxis\": \"y6\"}, {\"marker\": {\"color\": \"rgb(228.33333333333334, 180.0, 170.0)\", \"line\": {\"color\": \"black\", \"width\": 0.5}, \"size\": 8, \"symbol\": \"diamond\"}, \"mode\": \"markers\", \"showlegend\": false, \"type\": \"scatter\", \"x\": [-0.14836274347460496, -0.11168879951940447, 0.01875844994606958], \"xaxis\": \"x6\", \"y\": [0.0012166751574885382, 0.3024853658431663, 0.3292074365583328], \"yaxis\": \"y6\"}, {\"marker\": {\"color\": \"rgb(222.66666666666666, 126.0, 106.0)\", \"line\": {\"color\": \"black\", \"width\": 0.5}, \"size\": 8, \"symbol\": \"diamond\"}, \"mode\": \"markers\", \"showlegend\": false, \"type\": \"scatter\", \"x\": [-0.08415245455887825, -0.08313201846782911, -0.13510556865022239], \"xaxis\": \"x6\", \"y\": [0.5093779588570261, 0.5930648762985972, 0.5645175421841404], \"yaxis\": \"y6\"}, {\"marker\": {\"color\": \"rgb(217.0, 72.0, 42.0)\", \"line\": {\"color\": \"black\", \"width\": 0.5}, \"size\": 8, \"symbol\": \"diamond\"}, \"mode\": \"markers\", \"showlegend\": false, \"type\": \"scatter\", \"x\": [-0.29831853138147624, -0.24218085871625888, -0.23614139661586092], \"xaxis\": \"x6\", \"y\": [0.613399155662397, 0.6194668596841832, 0.6815701808474504], \"yaxis\": \"y6\"}, {\"marker\": {\"color\": \"rgb(54, 146, 68)\", \"line\": {\"color\": \"black\", \"width\": 0.5}, \"size\": 12, \"symbol\": \"square\"}, \"mode\": \"markers\", \"showlegend\": false, \"type\": \"scatter\", \"x\": [-0.25081609705692054], \"xaxis\": \"x6\", \"y\": [-1.3493581699652417], \"yaxis\": \"y6\"}, {\"marker\": {\"color\": \"rgb(33.0, 100.0, 175.0)\", \"line\": {\"color\": \"black\", \"width\": 0.5}, \"size\": 8, \"symbol\": \"square\"}, \"mode\": \"markers\", \"showlegend\": false, \"type\": \"scatter\", \"x\": [0.2337527034345187, 0.17360788215801445, 0.19358577851057718], \"xaxis\": \"x6\", \"y\": [-2.280210422139354, -2.240263358571105, -2.2201475009976237], \"yaxis\": \"y6\"}, {\"marker\": {\"color\": \"rgb(100.0, 144.66666666666666, 194.66666666666666)\", \"line\": {\"color\": \"black\", \"width\": 0.5}, \"size\": 8, \"symbol\": \"square\"}, \"mode\": \"markers\", \"showlegend\": false, \"type\": \"scatter\", \"x\": [0.47236290280626564, 0.5483301908335012, 0.6405294928124228], \"xaxis\": \"x6\", \"y\": [-1.5439890474980789, -1.6455755495673299, -1.6494219615766585], \"yaxis\": \"y6\"}, {\"marker\": {\"color\": \"rgb(167.0, 189.33333333333331, 214.33333333333334)\", \"line\": {\"color\": \"black\", \"width\": 0.5}, \"size\": 8, \"symbol\": \"square\"}, \"mode\": \"markers\", \"showlegend\": false, \"type\": \"scatter\", \"x\": [1.3328123302858883, 1.3572417246795423, 1.2941940865604407], \"xaxis\": \"x6\", \"y\": [-0.39952105611229216, -0.5155726464727439, -0.5560534258064268], \"yaxis\": \"y6\"}, {\"marker\": {\"color\": \"rgb(228.33333333333334, 180.0, 170.0)\", \"line\": {\"color\": \"black\", \"width\": 0.5}, \"size\": 8, \"symbol\": \"square\"}, \"mode\": \"markers\", \"showlegend\": false, \"type\": \"scatter\", \"x\": [1.3678727453984274, 1.1210111210607898, 1.4649476454954868], \"xaxis\": \"x6\", \"y\": [0.29052077237215806, 0.17409427707572114, 0.33988943968997776], \"yaxis\": \"y6\"}, {\"marker\": {\"color\": \"rgb(222.66666666666666, 126.0, 106.0)\", \"line\": {\"color\": \"black\", \"width\": 0.5}, \"size\": 8, \"symbol\": \"square\"}, \"mode\": \"markers\", \"showlegend\": false, \"type\": \"scatter\", \"x\": [1.4749587280156728, 1.4717148395773851, 1.2989233323733562], \"xaxis\": \"x6\", \"y\": [0.4488710481106819, 0.5679025559996315, 0.4779248681267955], \"yaxis\": \"y6\"}, {\"marker\": {\"color\": \"rgb(217.0, 72.0, 42.0)\", \"line\": {\"color\": \"black\", \"width\": 0.5}, \"size\": 8, \"symbol\": \"square\"}, \"mode\": \"markers\", \"showlegend\": false, \"type\": \"scatter\", \"x\": [1.2575541809243258, 1.1021622377559042, 1.1923672682551807], \"xaxis\": \"x6\", \"y\": [0.6433323861730657, 0.6122244511821106, 0.789059360083508], \"yaxis\": \"y6\"}, {\"marker\": {\"color\": \"rgb(54, 146, 68)\", \"line\": {\"color\": \"black\", \"width\": 0.5}, \"size\": 12, \"symbol\": \"circle\"}, \"mode\": \"markers\", \"showlegend\": false, \"type\": \"scatter\", \"x\": [3.3925583848439], \"xaxis\": \"x7\", \"y\": [0.5827955539655392], \"yaxis\": \"y7\"}, {\"marker\": {\"color\": \"rgb(33.0, 100.0, 175.0)\", \"line\": {\"color\": \"black\", \"width\": 0.5}, \"size\": 8, \"symbol\": \"circle\"}, \"mode\": \"markers\", \"showlegend\": false, \"type\": \"scatter\", \"x\": [4.5671471122856335, 4.47133928493017, 4.583003686180552], \"xaxis\": \"x7\", \"y\": [1.3137273701667571, 1.2685632398193596, 1.3731568563746621], \"yaxis\": \"y7\"}, {\"marker\": {\"color\": \"rgb(100.0, 144.66666666666666, 194.66666666666666)\", \"line\": {\"color\": \"black\", \"width\": 0.5}, \"size\": 8, \"symbol\": \"circle\"}, \"mode\": \"markers\", \"showlegend\": false, \"type\": \"scatter\", \"x\": [3.924470459126368, 3.999985986266941, 3.9967787859194313], \"xaxis\": \"x7\", \"y\": [0.6573465027885126, 0.7117447032871379, 0.7728143727179353], \"yaxis\": \"y7\"}, {\"marker\": {\"color\": \"rgb(167.0, 189.33333333333331, 214.33333333333334)\", \"line\": {\"color\": \"black\", \"width\": 0.5}, \"size\": 8, \"symbol\": \"circle\"}, \"mode\": \"markers\", \"showlegend\": false, \"type\": \"scatter\", \"x\": [2.7409735496493948, 2.7218943607619397, 2.5994517775334147], \"xaxis\": \"x7\", \"y\": [-0.03853833557086538, 0.0009107691615076038, -0.08913801927138913], \"yaxis\": \"y7\"}, {\"marker\": {\"color\": \"rgb(228.33333333333334, 180.0, 170.0)\", \"line\": {\"color\": \"black\", \"width\": 0.5}, \"size\": 8, \"symbol\": \"circle\"}, \"mode\": \"markers\", \"showlegend\": false, \"type\": \"scatter\", \"x\": [1.931148588557489, 1.8927902374572678, 1.948967737957641], \"xaxis\": \"x7\", \"y\": [-0.5449142696361674, -0.6046909982758699, -0.5955433239255441], \"yaxis\": \"y7\"}, {\"marker\": {\"color\": \"rgb(222.66666666666666, 126.0, 106.0)\", \"line\": {\"color\": \"black\", \"width\": 0.5}, \"size\": 8, \"symbol\": \"circle\"}, \"mode\": \"markers\", \"showlegend\": false, \"type\": \"scatter\", \"x\": [2.0213350300460493, 1.9814706897092529, 1.8430678480976368], \"xaxis\": \"x7\", \"y\": [-0.5255970031260905, -0.5502479590203517, -0.5503040547477626], \"yaxis\": \"y7\"}, {\"marker\": {\"color\": \"rgb(217.0, 72.0, 42.0)\", \"line\": {\"color\": \"black\", \"width\": 0.5}, \"size\": 8, \"symbol\": \"circle\"}, \"mode\": \"markers\", \"showlegend\": false, \"type\": \"scatter\", \"x\": [1.88886530881932, 1.789647227288464, 1.8637790429213574], \"xaxis\": \"x7\", \"y\": [-0.582419847667496, -0.7144342498200071, -0.6293713320353531], \"yaxis\": \"y7\"}, {\"marker\": {\"color\": \"rgb(54, 146, 68)\", \"line\": {\"color\": \"black\", \"width\": 0.5}, \"size\": 12, \"symbol\": \"x\"}, \"mode\": \"markers\", \"showlegend\": false, \"type\": \"scatter\", \"x\": [-0.5920944367702766], \"xaxis\": \"x7\", \"y\": [-1.329488729818281], \"yaxis\": \"y7\"}, {\"marker\": {\"color\": \"rgb(33.0, 100.0, 175.0)\", \"line\": {\"color\": \"black\", \"width\": 0.5}, \"size\": 8, \"symbol\": \"x\"}, \"mode\": \"markers\", \"showlegend\": false, \"type\": \"scatter\", \"x\": [0.7729686671084145, 0.7605568558245743, 0.8289080469654122], \"xaxis\": \"x7\", \"y\": [-0.7800991223465219, -0.8119624856790125, -0.7480544077688025], \"yaxis\": \"y7\"}, {\"marker\": {\"color\": \"rgb(100.0, 144.66666666666666, 194.66666666666666)\", \"line\": {\"color\": \"black\", \"width\": 0.5}, \"size\": 8, \"symbol\": \"x\"}, \"mode\": \"markers\", \"showlegend\": false, \"type\": \"scatter\", \"x\": [-0.1318974278371037, -0.145634149194224, -0.17172105012810418], \"xaxis\": \"x7\", \"y\": [-1.034286858957992, -1.0444308392418173, -1.0583445687751263], \"yaxis\": \"y7\"}, {\"marker\": {\"color\": \"rgb(167.0, 189.33333333333331, 214.33333333333334)\", \"line\": {\"color\": \"black\", \"width\": 0.5}, \"size\": 8, \"symbol\": \"x\"}, \"mode\": \"markers\", \"showlegend\": false, \"type\": \"scatter\", \"x\": [-1.3262820156776036, -1.314059483300048, -1.2787962103533224], \"xaxis\": \"x7\", \"y\": [-0.4530175480366294, -0.4379228468079163, -0.4166757942169375], \"yaxis\": \"y7\"}, {\"marker\": {\"color\": \"rgb(228.33333333333334, 180.0, 170.0)\", \"line\": {\"color\": \"black\", \"width\": 0.5}, \"size\": 8, \"symbol\": \"x\"}, \"mode\": \"markers\", \"showlegend\": false, \"type\": \"scatter\", \"x\": [-2.100605878554829, -2.167148388165432, -2.014804296026953], \"xaxis\": \"x7\", \"y\": [-0.11453412292227837, -0.2080226974940316, -0.17473427779067813], \"yaxis\": \"y7\"}, {\"marker\": {\"color\": \"rgb(222.66666666666666, 126.0, 106.0)\", \"line\": {\"color\": \"black\", \"width\": 0.5}, \"size\": 8, \"symbol\": \"x\"}, \"mode\": \"markers\", \"showlegend\": false, \"type\": \"scatter\", \"x\": [-1.8048239152408272, -2.0227772660358085, -2.086190628040889], \"xaxis\": \"x7\", \"y\": [-0.22779694141822, -0.3940907768280189, -0.370328598568993], \"yaxis\": \"y7\"}, {\"marker\": {\"color\": \"rgb(217.0, 72.0, 42.0)\", \"line\": {\"color\": \"black\", \"width\": 0.5}, \"size\": 8, \"symbol\": \"x\"}, \"mode\": \"markers\", \"showlegend\": false, \"type\": \"scatter\", \"x\": [-2.0545110267092417, -2.265942992753503, -2.224849969540069], \"xaxis\": \"x7\", \"y\": [-0.524520867322948, -0.4202503473445575, -0.4956267144506031], \"yaxis\": \"y7\"}, {\"marker\": {\"color\": \"rgb(54, 146, 68)\", \"line\": {\"color\": \"black\", \"width\": 0.5}, \"size\": 12, \"symbol\": \"diamond\"}, \"mode\": \"markers\", \"showlegend\": false, \"type\": \"scatter\", \"x\": [-0.18352920483225368], \"xaxis\": \"x7\", \"y\": [-1.0020278329649326], \"yaxis\": \"y7\"}, {\"marker\": {\"color\": \"rgb(33.0, 100.0, 175.0)\", \"line\": {\"color\": \"black\", \"width\": 0.5}, \"size\": 8, \"symbol\": \"diamond\"}, \"mode\": \"markers\", \"showlegend\": false, \"type\": \"scatter\", \"x\": [0.9583659150006976, 1.1254557418478268, 1.0956548497477976], \"xaxis\": \"x7\", \"y\": [-0.7517243555575597, -0.5824405329159488, -0.6171369784888349], \"yaxis\": \"y7\"}, {\"marker\": {\"color\": \"rgb(100.0, 144.66666666666666, 194.66666666666666)\", \"line\": {\"color\": \"black\", \"width\": 0.5}, \"size\": 8, \"symbol\": \"diamond\"}, \"mode\": \"markers\", \"showlegend\": false, \"type\": \"scatter\", \"x\": [0.3494883360635157, 0.15615747738832736, 0.2802429719534489], \"xaxis\": \"x7\", \"y\": [-0.7402788561704936, -0.9074214997150207, -0.8207648358688954], \"yaxis\": \"y7\"}, {\"marker\": {\"color\": \"rgb(167.0, 189.33333333333331, 214.33333333333334)\", \"line\": {\"color\": \"black\", \"width\": 0.5}, \"size\": 8, \"symbol\": \"diamond\"}, \"mode\": \"markers\", \"showlegend\": false, \"type\": \"scatter\", \"x\": [-0.9203705123237378, -0.8965892365785282, -1.0934011862488378], \"xaxis\": \"x7\", \"y\": [-0.3831385276845208, -0.3758664168722782, -0.45766076559898017], \"yaxis\": \"y7\"}, {\"marker\": {\"color\": \"rgb(228.33333333333334, 180.0, 170.0)\", \"line\": {\"color\": \"black\", \"width\": 0.5}, \"size\": 8, \"symbol\": \"diamond\"}, \"mode\": \"markers\", \"showlegend\": false, \"type\": \"scatter\", \"x\": [-1.7135859998603737, -1.908798233819545, -1.9479506823615123], \"xaxis\": \"x7\", \"y\": [-0.14836274347460496, -0.11168879951940447, 0.01875844994606958], \"yaxis\": \"y7\"}, {\"marker\": {\"color\": \"rgb(222.66666666666666, 126.0, 106.0)\", \"line\": {\"color\": \"black\", \"width\": 0.5}, \"size\": 8, \"symbol\": \"diamond\"}, \"mode\": \"markers\", \"showlegend\": false, \"type\": \"scatter\", \"x\": [-2.166995493886043, -2.152557368859361, -2.1670282843198536], \"xaxis\": \"x7\", \"y\": [-0.08415245455887825, -0.08313201846782911, -0.13510556865022239], \"yaxis\": \"y7\"}, {\"marker\": {\"color\": \"rgb(217.0, 72.0, 42.0)\", \"line\": {\"color\": \"black\", \"width\": 0.5}, \"size\": 8, \"symbol\": \"diamond\"}, \"mode\": \"markers\", \"showlegend\": false, \"type\": \"scatter\", \"x\": [-2.0164822945941427, -2.1798129029352618, -2.208707614755592], \"xaxis\": \"x7\", \"y\": [-0.29831853138147624, -0.24218085871625888, -0.23614139661586092], \"yaxis\": \"y7\"}, {\"marker\": {\"color\": \"rgb(54, 146, 68)\", \"line\": {\"color\": \"black\", \"width\": 0.5}, \"size\": 12, \"symbol\": \"square\"}, \"mode\": \"markers\", \"showlegend\": false, \"type\": \"scatter\", \"x\": [0.6190700074729046], \"xaxis\": \"x7\", \"y\": [-0.25081609705692054], \"yaxis\": \"y7\"}, {\"marker\": {\"color\": \"rgb(33.0, 100.0, 175.0)\", \"line\": {\"color\": \"black\", \"width\": 0.5}, \"size\": 8, \"symbol\": \"square\"}, \"mode\": \"markers\", \"showlegend\": false, \"type\": \"scatter\", \"x\": [1.4517787782426228, 1.4392236637840092, 1.4363492450482989], \"xaxis\": \"x7\", \"y\": [0.2337527034345187, 0.17360788215801445, 0.19358577851057718], \"yaxis\": \"y7\"}, {\"marker\": {\"color\": \"rgb(100.0, 144.66666666666666, 194.66666666666666)\", \"line\": {\"color\": \"black\", \"width\": 0.5}, \"size\": 8, \"symbol\": \"square\"}, \"mode\": \"markers\", \"showlegend\": false, \"type\": \"scatter\", \"x\": [0.4218432897802351, 0.4189823505549946, 0.5995441438254117], \"xaxis\": \"x7\", \"y\": [0.47236290280626564, 0.5483301908335012, 0.6405294928124228], \"yaxis\": \"y7\"}, {\"marker\": {\"color\": \"rgb(167.0, 189.33333333333331, 214.33333333333334)\", \"line\": {\"color\": \"black\", \"width\": 0.5}, \"size\": 8, \"symbol\": \"square\"}, \"mode\": \"markers\", \"showlegend\": false, \"type\": \"scatter\", \"x\": [-1.0362954612303057, -0.9482194708495253, -0.8690133016496151], \"xaxis\": \"x7\", \"y\": [1.3328123302858883, 1.3572417246795423, 1.2941940865604407], \"yaxis\": \"y7\"}, {\"marker\": {\"color\": \"rgb(228.33333333333334, 180.0, 170.0)\", \"line\": {\"color\": \"black\", \"width\": 0.5}, \"size\": 8, \"symbol\": \"square\"}, \"mode\": \"markers\", \"showlegend\": false, \"type\": \"scatter\", \"x\": [-1.9282597787801627, -1.8201774486438254, -1.942780149210833], \"xaxis\": \"x7\", \"y\": [1.3678727453984274, 1.1210111210607898, 1.4649476454954868], \"yaxis\": \"y7\"}, {\"marker\": {\"color\": \"rgb(222.66666666666666, 126.0, 106.0)\", \"line\": {\"color\": \"black\", \"width\": 0.5}, \"size\": 8, \"symbol\": \"square\"}, \"mode\": \"markers\", \"showlegend\": false, \"type\": \"scatter\", \"x\": [-2.0762406335366608, -2.230753019262207, -2.106890596178071], \"xaxis\": \"x7\", \"y\": [1.4749587280156728, 1.4717148395773851, 1.2989233323733562], \"yaxis\": \"y7\"}, {\"marker\": {\"color\": \"rgb(217.0, 72.0, 42.0)\", \"line\": {\"color\": \"black\", \"width\": 0.5}, \"size\": 8, \"symbol\": \"square\"}, \"mode\": \"markers\", \"showlegend\": false, \"type\": \"scatter\", \"x\": [-2.179550833870897, -2.174072747144571, -2.3030638489007687], \"xaxis\": \"x7\", \"y\": [1.2575541809243258, 1.1021622377559042, 1.1923672682551807], \"yaxis\": \"y7\"}, {\"marker\": {\"color\": \"rgb(54, 146, 68)\", \"line\": {\"color\": \"black\", \"width\": 0.5}, \"size\": 12, \"symbol\": \"circle\"}, \"mode\": \"markers\", \"showlegend\": false, \"type\": \"scatter\", \"x\": [-1.0392109922137942], \"xaxis\": \"x8\", \"y\": [0.5827955539655392], \"yaxis\": \"y8\"}, {\"marker\": {\"color\": \"rgb(33.0, 100.0, 175.0)\", \"line\": {\"color\": \"black\", \"width\": 0.5}, \"size\": 8, \"symbol\": \"circle\"}, \"mode\": \"markers\", \"showlegend\": false, \"type\": \"scatter\", \"x\": [-1.1080757272009907, -1.1312595285137415, -1.1052294571951582], \"xaxis\": \"x8\", \"y\": [1.3137273701667571, 1.2685632398193596, 1.3731568563746621], \"yaxis\": \"y8\"}, {\"marker\": {\"color\": \"rgb(100.0, 144.66666666666666, 194.66666666666666)\", \"line\": {\"color\": \"black\", \"width\": 0.5}, \"size\": 8, \"symbol\": \"circle\"}, \"mode\": \"markers\", \"showlegend\": false, \"type\": \"scatter\", \"x\": [0.44432218847968624, 0.5398936448329693, 0.5410306492346849], \"xaxis\": \"x8\", \"y\": [0.6573465027885126, 0.7117447032871379, 0.7728143727179353], \"yaxis\": \"y8\"}, {\"marker\": {\"color\": \"rgb(167.0, 189.33333333333331, 214.33333333333334)\", \"line\": {\"color\": \"black\", \"width\": 0.5}, \"size\": 8, \"symbol\": \"circle\"}, \"mode\": \"markers\", \"showlegend\": false, \"type\": \"scatter\", \"x\": [2.003460439233315, 2.0228989710051875, 1.9593885950689833], \"xaxis\": \"x8\", \"y\": [-0.03853833557086538, 0.0009107691615076038, -0.08913801927138913], \"yaxis\": \"y8\"}, {\"marker\": {\"color\": \"rgb(228.33333333333334, 180.0, 170.0)\", \"line\": {\"color\": \"black\", \"width\": 0.5}, \"size\": 8, \"symbol\": \"circle\"}, \"mode\": \"markers\", \"showlegend\": false, \"type\": \"scatter\", \"x\": [2.3541879784205264, 2.3244202539409566, 2.3069448289154004], \"xaxis\": \"x8\", \"y\": [-0.5449142696361674, -0.6046909982758699, -0.5955433239255441], \"yaxis\": \"y8\"}, {\"marker\": {\"color\": \"rgb(222.66666666666666, 126.0, 106.0)\", \"line\": {\"color\": \"black\", \"width\": 0.5}, \"size\": 8, \"symbol\": \"circle\"}, \"mode\": \"markers\", \"showlegend\": false, \"type\": \"scatter\", \"x\": [2.516493115533592, 2.552952700184765, 2.3350359945123964], \"xaxis\": \"x8\", \"y\": [-0.5255970031260905, -0.5502479590203517, -0.5503040547477626], \"yaxis\": \"y8\"}, {\"marker\": {\"color\": \"rgb(217.0, 72.0, 42.0)\", \"line\": {\"color\": \"black\", \"width\": 0.5}, \"size\": 8, \"symbol\": \"circle\"}, \"mode\": \"markers\", \"showlegend\": false, \"type\": \"scatter\", \"x\": [2.3956866823194334, 2.402509760070554, 2.3261412316597063], \"xaxis\": \"x8\", \"y\": [-0.582419847667496, -0.7144342498200071, -0.6293713320353531], \"yaxis\": \"y8\"}, {\"marker\": {\"color\": \"rgb(54, 146, 68)\", \"line\": {\"color\": \"black\", \"width\": 0.5}, \"size\": 12, \"symbol\": \"x\"}, \"mode\": \"markers\", \"showlegend\": false, \"type\": \"scatter\", \"x\": [-1.9613351855984575], \"xaxis\": \"x8\", \"y\": [-1.329488729818281], \"yaxis\": \"y8\"}, {\"marker\": {\"color\": \"rgb(33.0, 100.0, 175.0)\", \"line\": {\"color\": \"black\", \"width\": 0.5}, \"size\": 8, \"symbol\": \"x\"}, \"mode\": \"markers\", \"showlegend\": false, \"type\": \"scatter\", \"x\": [-2.0386133550523167, -1.9016941698414784, -1.9610636843240443], \"xaxis\": \"x8\", \"y\": [-0.7800991223465219, -0.8119624856790125, -0.7480544077688025], \"yaxis\": \"y8\"}, {\"marker\": {\"color\": \"rgb(100.0, 144.66666666666666, 194.66666666666666)\", \"line\": {\"color\": \"black\", \"width\": 0.5}, \"size\": 8, \"symbol\": \"x\"}, \"mode\": \"markers\", \"showlegend\": false, \"type\": \"scatter\", \"x\": [-1.0980992430279846, -1.1507262722132285, -1.0766314107665407], \"xaxis\": \"x8\", \"y\": [-1.034286858957992, -1.0444308392418173, -1.0583445687751263], \"yaxis\": \"y8\"}, {\"marker\": {\"color\": \"rgb(167.0, 189.33333333333331, 214.33333333333334)\", \"line\": {\"color\": \"black\", \"width\": 0.5}, \"size\": 8, \"symbol\": \"x\"}, \"mode\": \"markers\", \"showlegend\": false, \"type\": \"scatter\", \"x\": [-0.14413268714479283, -0.1291075287128541, -0.21061144561274273], \"xaxis\": \"x8\", \"y\": [-0.4530175480366294, -0.4379228468079163, -0.4166757942169375], \"yaxis\": \"y8\"}, {\"marker\": {\"color\": \"rgb(228.33333333333334, 180.0, 170.0)\", \"line\": {\"color\": \"black\", \"width\": 0.5}, \"size\": 8, \"symbol\": \"x\"}, \"mode\": \"markers\", \"showlegend\": false, \"type\": \"scatter\", \"x\": [0.2667628329875186, 0.22570796893311765, 0.26911879558556717], \"xaxis\": \"x8\", \"y\": [-0.11453412292227837, -0.2080226974940316, -0.17473427779067813], \"yaxis\": \"y8\"}, {\"marker\": {\"color\": \"rgb(222.66666666666666, 126.0, 106.0)\", \"line\": {\"color\": \"black\", \"width\": 0.5}, \"size\": 8, \"symbol\": \"x\"}, \"mode\": \"markers\", \"showlegend\": false, \"type\": \"scatter\", \"x\": [0.30273324246383476, 0.2806994626347979, 0.4231395023953555], \"xaxis\": \"x8\", \"y\": [-0.22779694141822, -0.3940907768280189, -0.370328598568993], \"yaxis\": \"y8\"}, {\"marker\": {\"color\": \"rgb(217.0, 72.0, 42.0)\", \"line\": {\"color\": \"black\", \"width\": 0.5}, \"size\": 8, \"symbol\": \"x\"}, \"mode\": \"markers\", \"showlegend\": false, \"type\": \"scatter\", \"x\": [0.42760304043774006, 0.5527955373305947, 0.5680317482625383], \"xaxis\": \"x8\", \"y\": [-0.524520867322948, -0.4202503473445575, -0.4956267144506031], \"yaxis\": \"y8\"}, {\"marker\": {\"color\": \"rgb(54, 146, 68)\", \"line\": {\"color\": \"black\", \"width\": 0.5}, \"size\": 12, \"symbol\": \"diamond\"}, \"mode\": \"markers\", \"showlegend\": false, \"type\": \"scatter\", \"x\": [-1.8505564040596898], \"xaxis\": \"x8\", \"y\": [-1.0020278329649326], \"yaxis\": \"y8\"}, {\"marker\": {\"color\": \"rgb(33.0, 100.0, 175.0)\", \"line\": {\"color\": \"black\", \"width\": 0.5}, \"size\": 8, \"symbol\": \"diamond\"}, \"mode\": \"markers\", \"showlegend\": false, \"type\": \"scatter\", \"x\": [-1.7520953251698022, -1.6743401500267714, -1.7295443395046028], \"xaxis\": \"x8\", \"y\": [-0.7517243555575597, -0.5824405329159488, -0.6171369784888349], \"yaxis\": \"y8\"}, {\"marker\": {\"color\": \"rgb(100.0, 144.66666666666666, 194.66666666666666)\", \"line\": {\"color\": \"black\", \"width\": 0.5}, \"size\": 8, \"symbol\": \"diamond\"}, \"mode\": \"markers\", \"showlegend\": false, \"type\": \"scatter\", \"x\": [-0.8967817007106362, -0.9723147426474467, -1.080940963588972], \"xaxis\": \"x8\", \"y\": [-0.7402788561704936, -0.9074214997150207, -0.8207648358688954], \"yaxis\": \"y8\"}, {\"marker\": {\"color\": \"rgb(167.0, 189.33333333333331, 214.33333333333334)\", \"line\": {\"color\": \"black\", \"width\": 0.5}, \"size\": 8, \"symbol\": \"diamond\"}, \"mode\": \"markers\", \"showlegend\": false, \"type\": \"scatter\", \"x\": [-0.25796737417225346, -0.22201417360211126, -0.007625374742388254], \"xaxis\": \"x8\", \"y\": [-0.3831385276845208, -0.3758664168722782, -0.45766076559898017], \"yaxis\": \"y8\"}, {\"marker\": {\"color\": \"rgb(228.33333333333334, 180.0, 170.0)\", \"line\": {\"color\": \"black\", \"width\": 0.5}, \"size\": 8, \"symbol\": \"diamond\"}, \"mode\": \"markers\", \"showlegend\": false, \"type\": \"scatter\", \"x\": [0.0012166751574885382, 0.3024853658431663, 0.3292074365583328], \"xaxis\": \"x8\", \"y\": [-0.14836274347460496, -0.11168879951940447, 0.01875844994606958], \"yaxis\": \"y8\"}, {\"marker\": {\"color\": \"rgb(222.66666666666666, 126.0, 106.0)\", \"line\": {\"color\": \"black\", \"width\": 0.5}, \"size\": 8, \"symbol\": \"diamond\"}, \"mode\": \"markers\", \"showlegend\": false, \"type\": \"scatter\", \"x\": [0.5093779588570261, 0.5930648762985972, 0.5645175421841404], \"xaxis\": \"x8\", \"y\": [-0.08415245455887825, -0.08313201846782911, -0.13510556865022239], \"yaxis\": \"y8\"}, {\"marker\": {\"color\": \"rgb(217.0, 72.0, 42.0)\", \"line\": {\"color\": \"black\", \"width\": 0.5}, \"size\": 8, \"symbol\": \"diamond\"}, \"mode\": \"markers\", \"showlegend\": false, \"type\": \"scatter\", \"x\": [0.613399155662397, 0.6194668596841832, 0.6815701808474504], \"xaxis\": \"x8\", \"y\": [-0.29831853138147624, -0.24218085871625888, -0.23614139661586092], \"yaxis\": \"y8\"}, {\"marker\": {\"color\": \"rgb(54, 146, 68)\", \"line\": {\"color\": \"black\", \"width\": 0.5}, \"size\": 12, \"symbol\": \"square\"}, \"mode\": \"markers\", \"showlegend\": false, \"type\": \"scatter\", \"x\": [-1.3493581699652417], \"xaxis\": \"x8\", \"y\": [-0.25081609705692054], \"yaxis\": \"y8\"}, {\"marker\": {\"color\": \"rgb(33.0, 100.0, 175.0)\", \"line\": {\"color\": \"black\", \"width\": 0.5}, \"size\": 8, \"symbol\": \"square\"}, \"mode\": \"markers\", \"showlegend\": false, \"type\": \"scatter\", \"x\": [-2.280210422139354, -2.240263358571105, -2.2201475009976237], \"xaxis\": \"x8\", \"y\": [0.2337527034345187, 0.17360788215801445, 0.19358577851057718], \"yaxis\": \"y8\"}, {\"marker\": {\"color\": \"rgb(100.0, 144.66666666666666, 194.66666666666666)\", \"line\": {\"color\": \"black\", \"width\": 0.5}, \"size\": 8, \"symbol\": \"square\"}, \"mode\": \"markers\", \"showlegend\": false, \"type\": \"scatter\", \"x\": [-1.5439890474980789, -1.6455755495673299, -1.6494219615766585], \"xaxis\": \"x8\", \"y\": [0.47236290280626564, 0.5483301908335012, 0.6405294928124228], \"yaxis\": \"y8\"}, {\"marker\": {\"color\": \"rgb(167.0, 189.33333333333331, 214.33333333333334)\", \"line\": {\"color\": \"black\", \"width\": 0.5}, \"size\": 8, \"symbol\": \"square\"}, \"mode\": \"markers\", \"showlegend\": false, \"type\": \"scatter\", \"x\": [-0.39952105611229216, -0.5155726464727439, -0.5560534258064268], \"xaxis\": \"x8\", \"y\": [1.3328123302858883, 1.3572417246795423, 1.2941940865604407], \"yaxis\": \"y8\"}, {\"marker\": {\"color\": \"rgb(228.33333333333334, 180.0, 170.0)\", \"line\": {\"color\": \"black\", \"width\": 0.5}, \"size\": 8, \"symbol\": \"square\"}, \"mode\": \"markers\", \"showlegend\": false, \"type\": \"scatter\", \"x\": [0.29052077237215806, 0.17409427707572114, 0.33988943968997776], \"xaxis\": \"x8\", \"y\": [1.3678727453984274, 1.1210111210607898, 1.4649476454954868], \"yaxis\": \"y8\"}, {\"marker\": {\"color\": \"rgb(222.66666666666666, 126.0, 106.0)\", \"line\": {\"color\": \"black\", \"width\": 0.5}, \"size\": 8, \"symbol\": \"square\"}, \"mode\": \"markers\", \"showlegend\": false, \"type\": \"scatter\", \"x\": [0.4488710481106819, 0.5679025559996315, 0.4779248681267955], \"xaxis\": \"x8\", \"y\": [1.4749587280156728, 1.4717148395773851, 1.2989233323733562], \"yaxis\": \"y8\"}, {\"marker\": {\"color\": \"rgb(217.0, 72.0, 42.0)\", \"line\": {\"color\": \"black\", \"width\": 0.5}, \"size\": 8, \"symbol\": \"square\"}, \"mode\": \"markers\", \"showlegend\": false, \"type\": \"scatter\", \"x\": [0.6433323861730657, 0.6122244511821106, 0.789059360083508], \"xaxis\": \"x8\", \"y\": [1.2575541809243258, 1.1021622377559042, 1.1923672682551807], \"yaxis\": \"y8\"}],                        {\"height\": 800, \"legend\": {\"font\": {\"color\": \"black\", \"family\": \"Myriad Pro\", \"size\": 12}, \"orientation\": \"h\", \"x\": 0.1, \"y\": -0.15}, \"template\": {\"data\": {\"scatter\": [{\"type\": \"scatter\"}]}}, \"width\": 800, \"xaxis\": {\"anchor\": \"y\", \"domain\": [0.0, 0.3], \"linecolor\": \"black\", \"linewidth\": 1, \"mirror\": true, \"nticks\": 8, \"showgrid\": true, \"showline\": true, \"side\": \"bottom\", \"tickangle\": 0, \"tickcolor\": \"black\", \"tickfont\": {\"color\": \"black\", \"family\": \"Myriad Pro\", \"size\": 16}, \"ticklen\": 4, \"ticks\": \"outside\", \"zeroline\": true}, \"xaxis2\": {\"anchor\": \"y2\", \"domain\": [0.35, 0.6499999999999999], \"linecolor\": \"black\", \"linewidth\": 1, \"mirror\": true, \"nticks\": 8, \"showgrid\": true, \"showline\": true, \"side\": \"bottom\", \"tickangle\": 0, \"tickcolor\": \"black\", \"tickfont\": {\"color\": \"black\", \"family\": \"Myriad Pro\", \"size\": 16}, \"ticklen\": 4, \"ticks\": \"outside\", \"zeroline\": true}, \"xaxis3\": {\"anchor\": \"y3\", \"domain\": [0.7, 1.0], \"linecolor\": \"black\", \"linewidth\": 1, \"mirror\": true, \"nticks\": 8, \"showgrid\": true, \"showline\": true, \"side\": \"bottom\", \"tickangle\": 0, \"tickcolor\": \"black\", \"tickfont\": {\"color\": \"black\", \"family\": \"Myriad Pro\", \"size\": 16}, \"ticklen\": 4, \"ticks\": \"outside\", \"zeroline\": true}, \"xaxis4\": {\"anchor\": \"y4\", \"domain\": [0.0, 0.3], \"linecolor\": \"black\", \"linewidth\": 1, \"mirror\": true, \"nticks\": 8, \"showgrid\": true, \"showline\": true, \"side\": \"bottom\", \"tickangle\": 0, \"tickcolor\": \"black\", \"tickfont\": {\"color\": \"black\", \"family\": \"Myriad Pro\", \"size\": 16}, \"ticklen\": 4, \"ticks\": \"outside\", \"zeroline\": true}, \"xaxis5\": {\"anchor\": \"y5\", \"domain\": [0.35, 0.6499999999999999], \"linecolor\": \"black\", \"linewidth\": 1, \"mirror\": true, \"nticks\": 8, \"showgrid\": true, \"showline\": true, \"side\": \"bottom\", \"tickangle\": 0, \"tickcolor\": \"black\", \"tickfont\": {\"color\": \"black\", \"family\": \"Myriad Pro\", \"size\": 16}, \"ticklen\": 4, \"ticks\": \"outside\", \"zeroline\": true}, \"xaxis6\": {\"anchor\": \"y6\", \"domain\": [0.7, 1.0], \"linecolor\": \"black\", \"linewidth\": 1, \"mirror\": true, \"nticks\": 8, \"showgrid\": true, \"showline\": true, \"side\": \"bottom\", \"tickangle\": 0, \"tickcolor\": \"black\", \"tickfont\": {\"color\": \"black\", \"family\": \"Myriad Pro\", \"size\": 16}, \"ticklen\": 4, \"ticks\": \"outside\", \"zeroline\": true}, \"xaxis7\": {\"anchor\": \"y7\", \"domain\": [0.0, 0.3], \"linecolor\": \"black\", \"linewidth\": 1, \"mirror\": true, \"nticks\": 8, \"showgrid\": true, \"showline\": true, \"side\": \"bottom\", \"tickangle\": 0, \"tickcolor\": \"black\", \"tickfont\": {\"color\": \"black\", \"family\": \"Myriad Pro\", \"size\": 16}, \"ticklen\": 4, \"ticks\": \"outside\", \"title\": {\"font\": {\"color\": \"black\", \"family\": \"Myriad Pro\", \"size\": 16}, \"standoff\": 0.5, \"text\": \"Principal Component 1\"}, \"zeroline\": true}, \"xaxis8\": {\"anchor\": \"y8\", \"domain\": [0.35, 0.6499999999999999], \"linecolor\": \"black\", \"linewidth\": 1, \"mirror\": true, \"nticks\": 8, \"showgrid\": true, \"showline\": true, \"side\": \"bottom\", \"tickangle\": 0, \"tickcolor\": \"black\", \"tickfont\": {\"color\": \"black\", \"family\": \"Myriad Pro\", \"size\": 16}, \"ticklen\": 4, \"ticks\": \"outside\", \"title\": {\"font\": {\"color\": \"black\", \"family\": \"Myriad Pro\", \"size\": 16}, \"standoff\": 0.5, \"text\": \"Principal Component 2\"}, \"zeroline\": true}, \"xaxis9\": {\"anchor\": \"y9\", \"domain\": [0.7, 1.0], \"linecolor\": \"black\", \"linewidth\": 1, \"mirror\": true, \"nticks\": 8, \"showgrid\": true, \"showline\": true, \"side\": \"bottom\", \"tickangle\": 0, \"tickcolor\": \"black\", \"tickfont\": {\"color\": \"black\", \"family\": \"Myriad Pro\", \"size\": 16}, \"ticklen\": 4, \"ticks\": \"outside\", \"title\": {\"font\": {\"color\": \"black\", \"family\": \"Myriad Pro\", \"size\": 16}, \"standoff\": 0.5, \"text\": \"Principal Component 3\"}, \"zeroline\": true}, \"yaxis\": {\"anchor\": \"x\", \"domain\": [0.7, 1.0], \"linecolor\": \"black\", \"linewidth\": 1, \"mirror\": true, \"showgrid\": true, \"showline\": true, \"tickangle\": 0, \"tickcolor\": \"black\", \"tickfont\": {\"color\": \"black\", \"family\": \"Myriad Pro\", \"size\": 16}, \"ticklen\": 4, \"ticks\": \"outside\", \"title\": {\"font\": {\"color\": \"black\", \"family\": \"Myriad Pro\", \"size\": 16}, \"standoff\": 0, \"text\": \"Principal Component 1\"}, \"zeroline\": true}, \"yaxis2\": {\"anchor\": \"x2\", \"domain\": [0.7, 1.0], \"linecolor\": \"black\", \"linewidth\": 1, \"mirror\": true, \"showgrid\": true, \"showline\": true, \"tickangle\": 0, \"tickcolor\": \"black\", \"tickfont\": {\"color\": \"black\", \"family\": \"Myriad Pro\", \"size\": 16}, \"ticklen\": 4, \"ticks\": \"outside\", \"zeroline\": true}, \"yaxis3\": {\"anchor\": \"x3\", \"domain\": [0.7, 1.0], \"linecolor\": \"black\", \"linewidth\": 1, \"mirror\": true, \"showgrid\": true, \"showline\": true, \"tickangle\": 0, \"tickcolor\": \"black\", \"tickfont\": {\"color\": \"black\", \"family\": \"Myriad Pro\", \"size\": 16}, \"ticklen\": 4, \"ticks\": \"outside\", \"zeroline\": true}, \"yaxis4\": {\"anchor\": \"x4\", \"domain\": [0.35, 0.6499999999999999], \"linecolor\": \"black\", \"linewidth\": 1, \"mirror\": true, \"showgrid\": true, \"showline\": true, \"tickangle\": 0, \"tickcolor\": \"black\", \"tickfont\": {\"color\": \"black\", \"family\": \"Myriad Pro\", \"size\": 16}, \"ticklen\": 4, \"ticks\": \"outside\", \"title\": {\"font\": {\"color\": \"black\", \"family\": \"Myriad Pro\", \"size\": 16}, \"standoff\": 0, \"text\": \"Principal Component 2\"}, \"zeroline\": true}, \"yaxis5\": {\"anchor\": \"x5\", \"domain\": [0.35, 0.6499999999999999], \"linecolor\": \"black\", \"linewidth\": 1, \"mirror\": true, \"showgrid\": true, \"showline\": true, \"tickangle\": 0, \"tickcolor\": \"black\", \"tickfont\": {\"color\": \"black\", \"family\": \"Myriad Pro\", \"size\": 16}, \"ticklen\": 4, \"ticks\": \"outside\", \"zeroline\": true}, \"yaxis6\": {\"anchor\": \"x6\", \"domain\": [0.35, 0.6499999999999999], \"linecolor\": \"black\", \"linewidth\": 1, \"mirror\": true, \"showgrid\": true, \"showline\": true, \"tickangle\": 0, \"tickcolor\": \"black\", \"tickfont\": {\"color\": \"black\", \"family\": \"Myriad Pro\", \"size\": 16}, \"ticklen\": 4, \"ticks\": \"outside\", \"zeroline\": true}, \"yaxis7\": {\"anchor\": \"x7\", \"domain\": [0.0, 0.3], \"linecolor\": \"black\", \"linewidth\": 1, \"mirror\": true, \"showgrid\": true, \"showline\": true, \"tickangle\": 0, \"tickcolor\": \"black\", \"tickfont\": {\"color\": \"black\", \"family\": \"Myriad Pro\", \"size\": 16}, \"ticklen\": 4, \"ticks\": \"outside\", \"title\": {\"font\": {\"color\": \"black\", \"family\": \"Myriad Pro\", \"size\": 16}, \"standoff\": 0, \"text\": \"Principal Component 3\"}, \"zeroline\": true}, \"yaxis8\": {\"anchor\": \"x8\", \"domain\": [0.0, 0.3], \"linecolor\": \"black\", \"linewidth\": 1, \"mirror\": true, \"showgrid\": true, \"showline\": true, \"tickangle\": 0, \"tickcolor\": \"black\", \"tickfont\": {\"color\": \"black\", \"family\": \"Myriad Pro\", \"size\": 16}, \"ticklen\": 4, \"ticks\": \"outside\", \"zeroline\": true}, \"yaxis9\": {\"anchor\": \"x9\", \"domain\": [0.0, 0.3], \"linecolor\": \"black\", \"linewidth\": 1, \"mirror\": true, \"showgrid\": true, \"showline\": true, \"tickangle\": 0, \"tickcolor\": \"black\", \"tickfont\": {\"color\": \"black\", \"family\": \"Myriad Pro\", \"size\": 16}, \"ticklen\": 4, \"ticks\": \"outside\", \"zeroline\": true}},                        {\"responsive\": true}                    ).then(function(){\n",
       "                            \n",
       "var gd = document.getElementById('b44d368e-aa7f-42ee-9777-17ea76ea1f70');\n",
       "var x = new MutationObserver(function (mutations, observer) {{\n",
       "        var display = window.getComputedStyle(gd).display;\n",
       "        if (!display || display === 'none') {{\n",
       "            console.log([gd, 'removed!']);\n",
       "            Plotly.purge(gd);\n",
       "            observer.disconnect();\n",
       "        }}\n",
       "}});\n",
       "\n",
       "// Listen for the removal of the full notebook cells\n",
       "var notebookContainer = gd.closest('#notebook-container');\n",
       "if (notebookContainer) {{\n",
       "    x.observe(notebookContainer, {childList: true});\n",
       "}}\n",
       "\n",
       "// Listen for the clearing of the current output cell\n",
       "var outputEl = gd.closest('.output');\n",
       "if (outputEl) {{\n",
       "    x.observe(outputEl, {childList: true});\n",
       "}}\n",
       "\n",
       "                        })                };                });            </script>        </div>"
      ]
     },
     "metadata": {},
     "output_type": "display_data"
    }
   ],
   "source": [
    "symbols = ['circle', 'x', 'diamond', 'square']\n",
    "\n",
    "colors = ['rgb'+str(color) for color in plotly.colors.n_colors((33,100,175), (234,234,234), 4)][:-1]\n",
    "colors = colors + ['rgb'+str(color) for color in plotly.colors.n_colors((234,234,234), (217,72,42), 4)][1:]\n",
    "fig = make_subplots(rows=3, cols=3, vertical_spacing=0.05, shared_xaxes=False, shared_yaxes=False, horizontal_spacing=0.05)\n",
    "\n",
    "for k in range(3):\n",
    "    for l in range(3):\n",
    "        if k!=l:\n",
    "            for i, strain in enumerate(strain_list):\n",
    "                for j,condition in enumerate(['reactor'] + condition_list):\n",
    "                    if condition!='reactor':\n",
    "                        fig.add_trace(go.Scatter(x=final_df[(final_df['strain']==strain) & (final_df['condition']==condition)]['PC'+str(l+1)],\n",
    "                                                     y=final_df[(final_df['strain']==strain) & (final_df['condition']==condition)]['PC'+str(k+1)],\n",
    "                                                     mode='markers', showlegend=False,\n",
    "                                                     marker=dict(symbol=symbols[i], size=8, color=colors[j-1],\n",
    "                                                                 line=dict(color='black', width=0.5))),\n",
    "                                     row=k+1, col=l+1)\n",
    "                    else:\n",
    "\n",
    "                        fig.add_trace(go.Scatter(x=final_df[(final_df['strain']==strain) & (final_df['condition']==condition)]['PC'+str(l+1)],\n",
    "                                                     y=final_df[(final_df['strain']==strain) & (final_df['condition']==condition)]['PC'+str(k+1)],\n",
    "                                                     mode='markers', showlegend=False,\n",
    "                                                     marker=dict(symbol=symbols[i], size=12, color='rgb(54, 146, 68)',\n",
    "                                                                 line=dict(color='black', width=0.5))),\n",
    "                                     row=k+1, col=l+1)\n",
    "        \n",
    "        if k==2:\n",
    "            fig.update_xaxes(title='Principal Component '+str(l+1), ticks='outside', ticklen=4, tickangle=0, nticks=8, title_standoff=0.5,\n",
    "\n",
    "                              titlefont=dict(family='Myriad Pro', size=16, color='black'),row=k+1, col=l+1)\n",
    "        if l==0:\n",
    "            fig.update_yaxes(title='Principal Component '+str(k+1), ticks='outside', ticklen=4, tickangle=0, title_standoff=0,\n",
    "                              titlefont=dict(family='Myriad Pro', size=16, color='black'),row=k+1, col=l+1)\n",
    "            \n",
    "        if k!=2:\n",
    "            fig.update_xaxes(ticks='')\n",
    "\n",
    "                        \n",
    "                        \n",
    "fig.update_layout(height=800, width=800, legend_x= 0.1, legend_y=-0.15, legend_font=dict(family='Myriad Pro', size=12, color='black'), legend_orientation='h')\n",
    "fig.update_xaxes(showline=True, linewidth=1, linecolor='black', mirror=True, side='bottom',\n",
    "                              ticks='outside', ticklen=4, tickangle=0, nticks=8,\n",
    "                              tickfont=dict(size=16, family='Myriad Pro', color='black'), tickcolor='black',\n",
    "                              showgrid=True,zeroline=True)\n",
    "fig.update_yaxes(showgrid=True, zeroline=True,\n",
    "                            tickfont=dict(family='Myriad Pro',size=16, color='black'), tickcolor='black', \n",
    "\n",
    "                              showline=True, linewidth=1, linecolor='black', mirror=True,\n",
    "                              ticks='outside', ticklen=4, tickangle=0)\n",
    "plot(fig)\n",
    "#pio.write_image(fig,\"Figures/si_fig_red_pca_scores.svg\",format='svg')\n"
   ]
  },
  {
   "cell_type": "markdown",
   "id": "crucial-prince",
   "metadata": {},
   "source": [
    "### Plot scores for first 2 PCs ###"
   ]
  },
  {
   "cell_type": "code",
   "execution_count": 18,
   "id": "extreme-columbus",
   "metadata": {
    "scrolled": false
   },
   "outputs": [
    {
     "data": {
      "application/vnd.plotly.v1+json": {
       "config": {
        "linkText": "Export to plot.ly",
        "plotlyServerURL": "https://plot.ly",
        "showLink": false
       },
       "data": [
        {
         "marker": {
          "color": "rgb(54, 146, 68)",
          "line": {
           "color": "black",
           "width": 0.5
          },
          "size": 12,
          "symbol": "circle"
         },
         "mode": "markers",
         "name": "WT",
         "type": "scatter",
         "x": [
          3.3925583848439
         ],
         "y": [
          -1.0392109922137942
         ]
        },
        {
         "marker": {
          "color": "rgb(33.0, 100.0, 175.0)",
          "line": {
           "color": "black",
           "width": 0.5
          },
          "size": 8,
          "symbol": "circle"
         },
         "mode": "markers",
         "showlegend": false,
         "type": "scatter",
         "x": [
          4.5671471122856335,
          4.47133928493017,
          4.583003686180552
         ],
         "y": [
          -1.1080757272009907,
          -1.1312595285137415,
          -1.1052294571951582
         ]
        },
        {
         "marker": {
          "color": "rgb(100.0, 144.66666666666666, 194.66666666666666)",
          "line": {
           "color": "black",
           "width": 0.5
          },
          "size": 8,
          "symbol": "circle"
         },
         "mode": "markers",
         "showlegend": false,
         "type": "scatter",
         "x": [
          3.924470459126368,
          3.999985986266941,
          3.9967787859194313
         ],
         "y": [
          0.44432218847968624,
          0.5398936448329693,
          0.5410306492346849
         ]
        },
        {
         "marker": {
          "color": "rgb(167.0, 189.33333333333331, 214.33333333333334)",
          "line": {
           "color": "black",
           "width": 0.5
          },
          "size": 8,
          "symbol": "circle"
         },
         "mode": "markers",
         "showlegend": false,
         "type": "scatter",
         "x": [
          2.7409735496493948,
          2.7218943607619397,
          2.5994517775334147
         ],
         "y": [
          2.003460439233315,
          2.0228989710051875,
          1.9593885950689833
         ]
        },
        {
         "marker": {
          "color": "rgb(228.33333333333334, 180.0, 170.0)",
          "line": {
           "color": "black",
           "width": 0.5
          },
          "size": 8,
          "symbol": "circle"
         },
         "mode": "markers",
         "showlegend": false,
         "type": "scatter",
         "x": [
          1.931148588557489,
          1.8927902374572678,
          1.948967737957641
         ],
         "y": [
          2.3541879784205264,
          2.3244202539409566,
          2.3069448289154004
         ]
        },
        {
         "marker": {
          "color": "rgb(222.66666666666666, 126.0, 106.0)",
          "line": {
           "color": "black",
           "width": 0.5
          },
          "size": 8,
          "symbol": "circle"
         },
         "mode": "markers",
         "showlegend": false,
         "type": "scatter",
         "x": [
          2.0213350300460493,
          1.9814706897092529,
          1.8430678480976368
         ],
         "y": [
          2.516493115533592,
          2.552952700184765,
          2.3350359945123964
         ]
        },
        {
         "marker": {
          "color": "rgb(217.0, 72.0, 42.0)",
          "line": {
           "color": "black",
           "width": 0.5
          },
          "size": 8,
          "symbol": "circle"
         },
         "mode": "markers",
         "showlegend": false,
         "type": "scatter",
         "x": [
          1.88886530881932,
          1.789647227288464,
          1.8637790429213574
         ],
         "y": [
          2.3956866823194334,
          2.402509760070554,
          2.3261412316597063
         ]
        },
        {
         "marker": {
          "color": "rgb(54, 146, 68)",
          "line": {
           "color": "black",
           "width": 0.5
          },
          "size": 12,
          "symbol": "x"
         },
         "mode": "markers",
         "name": "Δ(adh,pta)-D1",
         "type": "scatter",
         "x": [
          -0.5920944367702766
         ],
         "y": [
          -1.9613351855984575
         ]
        },
        {
         "marker": {
          "color": "rgb(33.0, 100.0, 175.0)",
          "line": {
           "color": "black",
           "width": 0.5
          },
          "size": 8,
          "symbol": "x"
         },
         "mode": "markers",
         "showlegend": false,
         "type": "scatter",
         "x": [
          0.7729686671084145,
          0.7605568558245743,
          0.8289080469654122
         ],
         "y": [
          -2.0386133550523167,
          -1.9016941698414784,
          -1.9610636843240443
         ]
        },
        {
         "marker": {
          "color": "rgb(100.0, 144.66666666666666, 194.66666666666666)",
          "line": {
           "color": "black",
           "width": 0.5
          },
          "size": 8,
          "symbol": "x"
         },
         "mode": "markers",
         "showlegend": false,
         "type": "scatter",
         "x": [
          -0.1318974278371037,
          -0.145634149194224,
          -0.17172105012810418
         ],
         "y": [
          -1.0980992430279846,
          -1.1507262722132285,
          -1.0766314107665407
         ]
        },
        {
         "marker": {
          "color": "rgb(167.0, 189.33333333333331, 214.33333333333334)",
          "line": {
           "color": "black",
           "width": 0.5
          },
          "size": 8,
          "symbol": "x"
         },
         "mode": "markers",
         "showlegend": false,
         "type": "scatter",
         "x": [
          -1.3262820156776036,
          -1.314059483300048,
          -1.2787962103533224
         ],
         "y": [
          -0.14413268714479283,
          -0.1291075287128541,
          -0.21061144561274273
         ]
        },
        {
         "marker": {
          "color": "rgb(228.33333333333334, 180.0, 170.0)",
          "line": {
           "color": "black",
           "width": 0.5
          },
          "size": 8,
          "symbol": "x"
         },
         "mode": "markers",
         "showlegend": false,
         "type": "scatter",
         "x": [
          -2.100605878554829,
          -2.167148388165432,
          -2.014804296026953
         ],
         "y": [
          0.2667628329875186,
          0.22570796893311765,
          0.26911879558556717
         ]
        },
        {
         "marker": {
          "color": "rgb(222.66666666666666, 126.0, 106.0)",
          "line": {
           "color": "black",
           "width": 0.5
          },
          "size": 8,
          "symbol": "x"
         },
         "mode": "markers",
         "showlegend": false,
         "type": "scatter",
         "x": [
          -1.8048239152408272,
          -2.0227772660358085,
          -2.086190628040889
         ],
         "y": [
          0.30273324246383476,
          0.2806994626347979,
          0.4231395023953555
         ]
        },
        {
         "marker": {
          "color": "rgb(217.0, 72.0, 42.0)",
          "line": {
           "color": "black",
           "width": 0.5
          },
          "size": 8,
          "symbol": "x"
         },
         "mode": "markers",
         "showlegend": false,
         "type": "scatter",
         "x": [
          -2.0545110267092417,
          -2.265942992753503,
          -2.224849969540069
         ],
         "y": [
          0.42760304043774006,
          0.5527955373305947,
          0.5680317482625383
         ]
        },
        {
         "marker": {
          "color": "rgb(54, 146, 68)",
          "line": {
           "color": "black",
           "width": 0.5
          },
          "size": 12,
          "symbol": "diamond"
         },
         "mode": "markers",
         "name": "Δ(adh,pta)-D28",
         "type": "scatter",
         "x": [
          -0.18352920483225368
         ],
         "y": [
          -1.8505564040596898
         ]
        },
        {
         "marker": {
          "color": "rgb(33.0, 100.0, 175.0)",
          "line": {
           "color": "black",
           "width": 0.5
          },
          "size": 8,
          "symbol": "diamond"
         },
         "mode": "markers",
         "showlegend": false,
         "type": "scatter",
         "x": [
          0.9583659150006976,
          1.1254557418478268,
          1.0956548497477976
         ],
         "y": [
          -1.7520953251698022,
          -1.6743401500267714,
          -1.7295443395046028
         ]
        },
        {
         "marker": {
          "color": "rgb(100.0, 144.66666666666666, 194.66666666666666)",
          "line": {
           "color": "black",
           "width": 0.5
          },
          "size": 8,
          "symbol": "diamond"
         },
         "mode": "markers",
         "showlegend": false,
         "type": "scatter",
         "x": [
          0.3494883360635157,
          0.15615747738832736,
          0.2802429719534489
         ],
         "y": [
          -0.8967817007106362,
          -0.9723147426474467,
          -1.080940963588972
         ]
        },
        {
         "marker": {
          "color": "rgb(167.0, 189.33333333333331, 214.33333333333334)",
          "line": {
           "color": "black",
           "width": 0.5
          },
          "size": 8,
          "symbol": "diamond"
         },
         "mode": "markers",
         "showlegend": false,
         "type": "scatter",
         "x": [
          -0.9203705123237378,
          -0.8965892365785282,
          -1.0934011862488378
         ],
         "y": [
          -0.25796737417225346,
          -0.22201417360211126,
          -0.007625374742388254
         ]
        },
        {
         "marker": {
          "color": "rgb(228.33333333333334, 180.0, 170.0)",
          "line": {
           "color": "black",
           "width": 0.5
          },
          "size": 8,
          "symbol": "diamond"
         },
         "mode": "markers",
         "showlegend": false,
         "type": "scatter",
         "x": [
          -1.7135859998603737,
          -1.908798233819545,
          -1.9479506823615123
         ],
         "y": [
          0.0012166751574885382,
          0.3024853658431663,
          0.3292074365583328
         ]
        },
        {
         "marker": {
          "color": "rgb(222.66666666666666, 126.0, 106.0)",
          "line": {
           "color": "black",
           "width": 0.5
          },
          "size": 8,
          "symbol": "diamond"
         },
         "mode": "markers",
         "showlegend": false,
         "type": "scatter",
         "x": [
          -2.166995493886043,
          -2.152557368859361,
          -2.1670282843198536
         ],
         "y": [
          0.5093779588570261,
          0.5930648762985972,
          0.5645175421841404
         ]
        },
        {
         "marker": {
          "color": "rgb(217.0, 72.0, 42.0)",
          "line": {
           "color": "black",
           "width": 0.5
          },
          "size": 8,
          "symbol": "diamond"
         },
         "mode": "markers",
         "showlegend": false,
         "type": "scatter",
         "x": [
          -2.0164822945941427,
          -2.1798129029352618,
          -2.208707614755592
         ],
         "y": [
          0.613399155662397,
          0.6194668596841832,
          0.6815701808474504
         ]
        },
        {
         "marker": {
          "color": "rgb(54, 146, 68)",
          "line": {
           "color": "black",
           "width": 0.5
          },
          "size": 12,
          "symbol": "square"
         },
         "mode": "markers",
         "name": "Δ(adh,pta)-D59",
         "type": "scatter",
         "x": [
          0.6190700074729046
         ],
         "y": [
          -1.3493581699652417
         ]
        },
        {
         "marker": {
          "color": "rgb(33.0, 100.0, 175.0)",
          "line": {
           "color": "black",
           "width": 0.5
          },
          "size": 8,
          "symbol": "square"
         },
         "mode": "markers",
         "showlegend": false,
         "type": "scatter",
         "x": [
          1.4517787782426228,
          1.4392236637840092,
          1.4363492450482989
         ],
         "y": [
          -2.280210422139354,
          -2.240263358571105,
          -2.2201475009976237
         ]
        },
        {
         "marker": {
          "color": "rgb(100.0, 144.66666666666666, 194.66666666666666)",
          "line": {
           "color": "black",
           "width": 0.5
          },
          "size": 8,
          "symbol": "square"
         },
         "mode": "markers",
         "showlegend": false,
         "type": "scatter",
         "x": [
          0.4218432897802351,
          0.4189823505549946,
          0.5995441438254117
         ],
         "y": [
          -1.5439890474980789,
          -1.6455755495673299,
          -1.6494219615766585
         ]
        },
        {
         "marker": {
          "color": "rgb(167.0, 189.33333333333331, 214.33333333333334)",
          "line": {
           "color": "black",
           "width": 0.5
          },
          "size": 8,
          "symbol": "square"
         },
         "mode": "markers",
         "showlegend": false,
         "type": "scatter",
         "x": [
          -1.0362954612303057,
          -0.9482194708495253,
          -0.8690133016496151
         ],
         "y": [
          -0.39952105611229216,
          -0.5155726464727439,
          -0.5560534258064268
         ]
        },
        {
         "marker": {
          "color": "rgb(228.33333333333334, 180.0, 170.0)",
          "line": {
           "color": "black",
           "width": 0.5
          },
          "size": 8,
          "symbol": "square"
         },
         "mode": "markers",
         "showlegend": false,
         "type": "scatter",
         "x": [
          -1.9282597787801627,
          -1.8201774486438254,
          -1.942780149210833
         ],
         "y": [
          0.29052077237215806,
          0.17409427707572114,
          0.33988943968997776
         ]
        },
        {
         "marker": {
          "color": "rgb(222.66666666666666, 126.0, 106.0)",
          "line": {
           "color": "black",
           "width": 0.5
          },
          "size": 8,
          "symbol": "square"
         },
         "mode": "markers",
         "showlegend": false,
         "type": "scatter",
         "x": [
          -2.0762406335366608,
          -2.230753019262207,
          -2.106890596178071
         ],
         "y": [
          0.4488710481106819,
          0.5679025559996315,
          0.4779248681267955
         ]
        },
        {
         "marker": {
          "color": "rgb(217.0, 72.0, 42.0)",
          "line": {
           "color": "black",
           "width": 0.5
          },
          "size": 8,
          "symbol": "square"
         },
         "mode": "markers",
         "showlegend": false,
         "type": "scatter",
         "x": [
          -2.179550833870897,
          -2.174072747144571,
          -2.3030638489007687
         ],
         "y": [
          0.6433323861730657,
          0.6122244511821106,
          0.789059360083508
         ]
        }
       ],
       "layout": {
        "height": 475,
        "legend": {
         "font": {
          "color": "black",
          "family": "Myriad Pro",
          "size": 12
         },
         "orientation": "h",
         "x": 0.1,
         "y": -0.15
        },
        "template": {
         "data": {
          "scatter": [
           {
            "type": "scatter"
           }
          ]
         }
        },
        "width": 430,
        "xaxis": {
         "linecolor": "black",
         "linewidth": 1,
         "mirror": true,
         "nticks": 8,
         "showgrid": true,
         "showline": true,
         "side": "bottom",
         "tickangle": 0,
         "tickcolor": "black",
         "tickfont": {
          "color": "black",
          "family": "Myriad Pro",
          "size": 16
         },
         "ticklen": 4,
         "ticks": "outside",
         "title": {
          "font": {
           "color": "black",
           "family": "Myriad Pro",
           "size": 16
          },
          "standoff": 0.5,
          "text": "Principal Component 1"
         },
         "zeroline": true
        },
        "yaxis": {
         "anchor": "x",
         "linecolor": "black",
         "linewidth": 1,
         "mirror": true,
         "showgrid": true,
         "showline": true,
         "side": "left",
         "tickangle": 0,
         "tickcolor": "black",
         "tickfont": {
          "color": "black",
          "family": "Myriad Pro",
          "size": 16
         },
         "ticklen": 4,
         "ticks": "outside",
         "title": {
          "font": {
           "color": "black",
           "family": "Myriad Pro",
           "size": 16
          },
          "text": "Principal Component 2"
         },
         "zeroline": true
        }
       }
      },
      "text/html": [
       "<div>                            <div id=\"7d59d9bb-dbe1-4f6c-9eed-6a47205f452d\" class=\"plotly-graph-div\" style=\"height:475px; width:430px;\"></div>            <script type=\"text/javascript\">                require([\"plotly\"], function(Plotly) {                    window.PLOTLYENV=window.PLOTLYENV || {};                                    if (document.getElementById(\"7d59d9bb-dbe1-4f6c-9eed-6a47205f452d\")) {                    Plotly.newPlot(                        \"7d59d9bb-dbe1-4f6c-9eed-6a47205f452d\",                        [{\"marker\": {\"color\": \"rgb(54, 146, 68)\", \"line\": {\"color\": \"black\", \"width\": 0.5}, \"size\": 12, \"symbol\": \"circle\"}, \"mode\": \"markers\", \"name\": \"WT\", \"type\": \"scatter\", \"x\": [3.3925583848439], \"y\": [-1.0392109922137942]}, {\"marker\": {\"color\": \"rgb(33.0, 100.0, 175.0)\", \"line\": {\"color\": \"black\", \"width\": 0.5}, \"size\": 8, \"symbol\": \"circle\"}, \"mode\": \"markers\", \"showlegend\": false, \"type\": \"scatter\", \"x\": [4.5671471122856335, 4.47133928493017, 4.583003686180552], \"y\": [-1.1080757272009907, -1.1312595285137415, -1.1052294571951582]}, {\"marker\": {\"color\": \"rgb(100.0, 144.66666666666666, 194.66666666666666)\", \"line\": {\"color\": \"black\", \"width\": 0.5}, \"size\": 8, \"symbol\": \"circle\"}, \"mode\": \"markers\", \"showlegend\": false, \"type\": \"scatter\", \"x\": [3.924470459126368, 3.999985986266941, 3.9967787859194313], \"y\": [0.44432218847968624, 0.5398936448329693, 0.5410306492346849]}, {\"marker\": {\"color\": \"rgb(167.0, 189.33333333333331, 214.33333333333334)\", \"line\": {\"color\": \"black\", \"width\": 0.5}, \"size\": 8, \"symbol\": \"circle\"}, \"mode\": \"markers\", \"showlegend\": false, \"type\": \"scatter\", \"x\": [2.7409735496493948, 2.7218943607619397, 2.5994517775334147], \"y\": [2.003460439233315, 2.0228989710051875, 1.9593885950689833]}, {\"marker\": {\"color\": \"rgb(228.33333333333334, 180.0, 170.0)\", \"line\": {\"color\": \"black\", \"width\": 0.5}, \"size\": 8, \"symbol\": \"circle\"}, \"mode\": \"markers\", \"showlegend\": false, \"type\": \"scatter\", \"x\": [1.931148588557489, 1.8927902374572678, 1.948967737957641], \"y\": [2.3541879784205264, 2.3244202539409566, 2.3069448289154004]}, {\"marker\": {\"color\": \"rgb(222.66666666666666, 126.0, 106.0)\", \"line\": {\"color\": \"black\", \"width\": 0.5}, \"size\": 8, \"symbol\": \"circle\"}, \"mode\": \"markers\", \"showlegend\": false, \"type\": \"scatter\", \"x\": [2.0213350300460493, 1.9814706897092529, 1.8430678480976368], \"y\": [2.516493115533592, 2.552952700184765, 2.3350359945123964]}, {\"marker\": {\"color\": \"rgb(217.0, 72.0, 42.0)\", \"line\": {\"color\": \"black\", \"width\": 0.5}, \"size\": 8, \"symbol\": \"circle\"}, \"mode\": \"markers\", \"showlegend\": false, \"type\": \"scatter\", \"x\": [1.88886530881932, 1.789647227288464, 1.8637790429213574], \"y\": [2.3956866823194334, 2.402509760070554, 2.3261412316597063]}, {\"marker\": {\"color\": \"rgb(54, 146, 68)\", \"line\": {\"color\": \"black\", \"width\": 0.5}, \"size\": 12, \"symbol\": \"x\"}, \"mode\": \"markers\", \"name\": \"\\u0394(adh,pta)-D1\", \"type\": \"scatter\", \"x\": [-0.5920944367702766], \"y\": [-1.9613351855984575]}, {\"marker\": {\"color\": \"rgb(33.0, 100.0, 175.0)\", \"line\": {\"color\": \"black\", \"width\": 0.5}, \"size\": 8, \"symbol\": \"x\"}, \"mode\": \"markers\", \"showlegend\": false, \"type\": \"scatter\", \"x\": [0.7729686671084145, 0.7605568558245743, 0.8289080469654122], \"y\": [-2.0386133550523167, -1.9016941698414784, -1.9610636843240443]}, {\"marker\": {\"color\": \"rgb(100.0, 144.66666666666666, 194.66666666666666)\", \"line\": {\"color\": \"black\", \"width\": 0.5}, \"size\": 8, \"symbol\": \"x\"}, \"mode\": \"markers\", \"showlegend\": false, \"type\": \"scatter\", \"x\": [-0.1318974278371037, -0.145634149194224, -0.17172105012810418], \"y\": [-1.0980992430279846, -1.1507262722132285, -1.0766314107665407]}, {\"marker\": {\"color\": \"rgb(167.0, 189.33333333333331, 214.33333333333334)\", \"line\": {\"color\": \"black\", \"width\": 0.5}, \"size\": 8, \"symbol\": \"x\"}, \"mode\": \"markers\", \"showlegend\": false, \"type\": \"scatter\", \"x\": [-1.3262820156776036, -1.314059483300048, -1.2787962103533224], \"y\": [-0.14413268714479283, -0.1291075287128541, -0.21061144561274273]}, {\"marker\": {\"color\": \"rgb(228.33333333333334, 180.0, 170.0)\", \"line\": {\"color\": \"black\", \"width\": 0.5}, \"size\": 8, \"symbol\": \"x\"}, \"mode\": \"markers\", \"showlegend\": false, \"type\": \"scatter\", \"x\": [-2.100605878554829, -2.167148388165432, -2.014804296026953], \"y\": [0.2667628329875186, 0.22570796893311765, 0.26911879558556717]}, {\"marker\": {\"color\": \"rgb(222.66666666666666, 126.0, 106.0)\", \"line\": {\"color\": \"black\", \"width\": 0.5}, \"size\": 8, \"symbol\": \"x\"}, \"mode\": \"markers\", \"showlegend\": false, \"type\": \"scatter\", \"x\": [-1.8048239152408272, -2.0227772660358085, -2.086190628040889], \"y\": [0.30273324246383476, 0.2806994626347979, 0.4231395023953555]}, {\"marker\": {\"color\": \"rgb(217.0, 72.0, 42.0)\", \"line\": {\"color\": \"black\", \"width\": 0.5}, \"size\": 8, \"symbol\": \"x\"}, \"mode\": \"markers\", \"showlegend\": false, \"type\": \"scatter\", \"x\": [-2.0545110267092417, -2.265942992753503, -2.224849969540069], \"y\": [0.42760304043774006, 0.5527955373305947, 0.5680317482625383]}, {\"marker\": {\"color\": \"rgb(54, 146, 68)\", \"line\": {\"color\": \"black\", \"width\": 0.5}, \"size\": 12, \"symbol\": \"diamond\"}, \"mode\": \"markers\", \"name\": \"\\u0394(adh,pta)-D28\", \"type\": \"scatter\", \"x\": [-0.18352920483225368], \"y\": [-1.8505564040596898]}, {\"marker\": {\"color\": \"rgb(33.0, 100.0, 175.0)\", \"line\": {\"color\": \"black\", \"width\": 0.5}, \"size\": 8, \"symbol\": \"diamond\"}, \"mode\": \"markers\", \"showlegend\": false, \"type\": \"scatter\", \"x\": [0.9583659150006976, 1.1254557418478268, 1.0956548497477976], \"y\": [-1.7520953251698022, -1.6743401500267714, -1.7295443395046028]}, {\"marker\": {\"color\": \"rgb(100.0, 144.66666666666666, 194.66666666666666)\", \"line\": {\"color\": \"black\", \"width\": 0.5}, \"size\": 8, \"symbol\": \"diamond\"}, \"mode\": \"markers\", \"showlegend\": false, \"type\": \"scatter\", \"x\": [0.3494883360635157, 0.15615747738832736, 0.2802429719534489], \"y\": [-0.8967817007106362, -0.9723147426474467, -1.080940963588972]}, {\"marker\": {\"color\": \"rgb(167.0, 189.33333333333331, 214.33333333333334)\", \"line\": {\"color\": \"black\", \"width\": 0.5}, \"size\": 8, \"symbol\": \"diamond\"}, \"mode\": \"markers\", \"showlegend\": false, \"type\": \"scatter\", \"x\": [-0.9203705123237378, -0.8965892365785282, -1.0934011862488378], \"y\": [-0.25796737417225346, -0.22201417360211126, -0.007625374742388254]}, {\"marker\": {\"color\": \"rgb(228.33333333333334, 180.0, 170.0)\", \"line\": {\"color\": \"black\", \"width\": 0.5}, \"size\": 8, \"symbol\": \"diamond\"}, \"mode\": \"markers\", \"showlegend\": false, \"type\": \"scatter\", \"x\": [-1.7135859998603737, -1.908798233819545, -1.9479506823615123], \"y\": [0.0012166751574885382, 0.3024853658431663, 0.3292074365583328]}, {\"marker\": {\"color\": \"rgb(222.66666666666666, 126.0, 106.0)\", \"line\": {\"color\": \"black\", \"width\": 0.5}, \"size\": 8, \"symbol\": \"diamond\"}, \"mode\": \"markers\", \"showlegend\": false, \"type\": \"scatter\", \"x\": [-2.166995493886043, -2.152557368859361, -2.1670282843198536], \"y\": [0.5093779588570261, 0.5930648762985972, 0.5645175421841404]}, {\"marker\": {\"color\": \"rgb(217.0, 72.0, 42.0)\", \"line\": {\"color\": \"black\", \"width\": 0.5}, \"size\": 8, \"symbol\": \"diamond\"}, \"mode\": \"markers\", \"showlegend\": false, \"type\": \"scatter\", \"x\": [-2.0164822945941427, -2.1798129029352618, -2.208707614755592], \"y\": [0.613399155662397, 0.6194668596841832, 0.6815701808474504]}, {\"marker\": {\"color\": \"rgb(54, 146, 68)\", \"line\": {\"color\": \"black\", \"width\": 0.5}, \"size\": 12, \"symbol\": \"square\"}, \"mode\": \"markers\", \"name\": \"\\u0394(adh,pta)-D59\", \"type\": \"scatter\", \"x\": [0.6190700074729046], \"y\": [-1.3493581699652417]}, {\"marker\": {\"color\": \"rgb(33.0, 100.0, 175.0)\", \"line\": {\"color\": \"black\", \"width\": 0.5}, \"size\": 8, \"symbol\": \"square\"}, \"mode\": \"markers\", \"showlegend\": false, \"type\": \"scatter\", \"x\": [1.4517787782426228, 1.4392236637840092, 1.4363492450482989], \"y\": [-2.280210422139354, -2.240263358571105, -2.2201475009976237]}, {\"marker\": {\"color\": \"rgb(100.0, 144.66666666666666, 194.66666666666666)\", \"line\": {\"color\": \"black\", \"width\": 0.5}, \"size\": 8, \"symbol\": \"square\"}, \"mode\": \"markers\", \"showlegend\": false, \"type\": \"scatter\", \"x\": [0.4218432897802351, 0.4189823505549946, 0.5995441438254117], \"y\": [-1.5439890474980789, -1.6455755495673299, -1.6494219615766585]}, {\"marker\": {\"color\": \"rgb(167.0, 189.33333333333331, 214.33333333333334)\", \"line\": {\"color\": \"black\", \"width\": 0.5}, \"size\": 8, \"symbol\": \"square\"}, \"mode\": \"markers\", \"showlegend\": false, \"type\": \"scatter\", \"x\": [-1.0362954612303057, -0.9482194708495253, -0.8690133016496151], \"y\": [-0.39952105611229216, -0.5155726464727439, -0.5560534258064268]}, {\"marker\": {\"color\": \"rgb(228.33333333333334, 180.0, 170.0)\", \"line\": {\"color\": \"black\", \"width\": 0.5}, \"size\": 8, \"symbol\": \"square\"}, \"mode\": \"markers\", \"showlegend\": false, \"type\": \"scatter\", \"x\": [-1.9282597787801627, -1.8201774486438254, -1.942780149210833], \"y\": [0.29052077237215806, 0.17409427707572114, 0.33988943968997776]}, {\"marker\": {\"color\": \"rgb(222.66666666666666, 126.0, 106.0)\", \"line\": {\"color\": \"black\", \"width\": 0.5}, \"size\": 8, \"symbol\": \"square\"}, \"mode\": \"markers\", \"showlegend\": false, \"type\": \"scatter\", \"x\": [-2.0762406335366608, -2.230753019262207, -2.106890596178071], \"y\": [0.4488710481106819, 0.5679025559996315, 0.4779248681267955]}, {\"marker\": {\"color\": \"rgb(217.0, 72.0, 42.0)\", \"line\": {\"color\": \"black\", \"width\": 0.5}, \"size\": 8, \"symbol\": \"square\"}, \"mode\": \"markers\", \"showlegend\": false, \"type\": \"scatter\", \"x\": [-2.179550833870897, -2.174072747144571, -2.3030638489007687], \"y\": [0.6433323861730657, 0.6122244511821106, 0.789059360083508]}],                        {\"height\": 475, \"legend\": {\"font\": {\"color\": \"black\", \"family\": \"Myriad Pro\", \"size\": 12}, \"orientation\": \"h\", \"x\": 0.1, \"y\": -0.15}, \"template\": {\"data\": {\"scatter\": [{\"type\": \"scatter\"}]}}, \"width\": 430, \"xaxis\": {\"linecolor\": \"black\", \"linewidth\": 1, \"mirror\": true, \"nticks\": 8, \"showgrid\": true, \"showline\": true, \"side\": \"bottom\", \"tickangle\": 0, \"tickcolor\": \"black\", \"tickfont\": {\"color\": \"black\", \"family\": \"Myriad Pro\", \"size\": 16}, \"ticklen\": 4, \"ticks\": \"outside\", \"title\": {\"font\": {\"color\": \"black\", \"family\": \"Myriad Pro\", \"size\": 16}, \"standoff\": 0.5, \"text\": \"Principal Component 1\"}, \"zeroline\": true}, \"yaxis\": {\"anchor\": \"x\", \"linecolor\": \"black\", \"linewidth\": 1, \"mirror\": true, \"showgrid\": true, \"showline\": true, \"side\": \"left\", \"tickangle\": 0, \"tickcolor\": \"black\", \"tickfont\": {\"color\": \"black\", \"family\": \"Myriad Pro\", \"size\": 16}, \"ticklen\": 4, \"ticks\": \"outside\", \"title\": {\"font\": {\"color\": \"black\", \"family\": \"Myriad Pro\", \"size\": 16}, \"text\": \"Principal Component 2\"}, \"zeroline\": true}},                        {\"responsive\": true}                    ).then(function(){\n",
       "                            \n",
       "var gd = document.getElementById('7d59d9bb-dbe1-4f6c-9eed-6a47205f452d');\n",
       "var x = new MutationObserver(function (mutations, observer) {{\n",
       "        var display = window.getComputedStyle(gd).display;\n",
       "        if (!display || display === 'none') {{\n",
       "            console.log([gd, 'removed!']);\n",
       "            Plotly.purge(gd);\n",
       "            observer.disconnect();\n",
       "        }}\n",
       "}});\n",
       "\n",
       "// Listen for the removal of the full notebook cells\n",
       "var notebookContainer = gd.closest('#notebook-container');\n",
       "if (notebookContainer) {{\n",
       "    x.observe(notebookContainer, {childList: true});\n",
       "}}\n",
       "\n",
       "// Listen for the clearing of the current output cell\n",
       "var outputEl = gd.closest('.output');\n",
       "if (outputEl) {{\n",
       "    x.observe(outputEl, {childList: true});\n",
       "}}\n",
       "\n",
       "                        })                };                });            </script>        </div>"
      ]
     },
     "metadata": {},
     "output_type": "display_data"
    }
   ],
   "source": [
    "final_df\n",
    "trace_list = []\n",
    "\n",
    "colors = ['rgb'+str(color) for color in plotly.colors.n_colors((33,100,175), (234,234,234), 4)][:-1]\n",
    "colors = colors + ['rgb'+str(color) for color in plotly.colors.n_colors((234,234,234), (217,72,42), 4)][1:]\n",
    "\n",
    "symbols = ['circle', 'x', 'diamond', 'square']\n",
    "for i, strain in enumerate(strain_list):\n",
    "    for j,condition in enumerate(['reactor'] + condition_list):\n",
    "        if condition!='reactor':\n",
    "            trace_list.append(go.Scatter(x=final_df[(final_df['strain']==strain) & (final_df['condition']==condition)]['PC1'],\n",
    "                                         y=final_df[(final_df['strain']==strain) & (final_df['condition']==condition)]['PC2'],\n",
    "                                         mode='markers', showlegend=False,\n",
    "                                         marker=dict(symbol=symbols[i], size=8, color=colors[j-1],\n",
    "                                                     line=dict(color='black', width=0.5))))\n",
    "        else:\n",
    "            trace_list.append(go.Scatter(x=final_df[(final_df['strain']==strain) & (final_df['condition']==condition)]['PC1'],\n",
    "                             y=final_df[(final_df['strain']==strain) & (final_df['condition']==condition)]['PC2'],\n",
    "                             mode='markers', name=strain,\n",
    "                             marker=dict(symbol=symbols[i], size=12, color='rgb(54, 146, 68)',\n",
    "                            line=dict(color='black', width=0.5))))\n",
    "            \n",
    "            \n",
    "            \n",
    "\n",
    "layout = go.Layout(height=475, width=430, legend_x= 0.1, legend_y=-0.15, legend_font=dict(family='Myriad Pro', size=12, color='black'), legend_orientation='h',\n",
    "                   xaxis=dict(title='Principal Component 1',\n",
    "                              title_standoff=0.5,\n",
    "                              titlefont=dict(family='Myriad Pro', size=16, color='black'),\n",
    "                              showline=True, linewidth=1, linecolor='black', mirror=True, side='bottom',\n",
    "                              ticks='outside', ticklen=4, tickangle=0, nticks=8,\n",
    "                              tickfont=dict(size=16, family='Myriad Pro', color='black'), tickcolor='black',\n",
    "                              showgrid=True,zeroline=True),\n",
    "                  \n",
    "                  yaxis=dict(title='Principal Component 2',\n",
    "                            titlefont=dict(family='Myriad Pro', size=16, color='black'),\n",
    "\n",
    "                              anchor='x', side='left', showgrid=True, zeroline=True,\n",
    "                            tickfont=dict(family='Myriad Pro',size=16, color='black'), tickcolor='black', \n",
    "\n",
    "                              showline=True, linewidth=1, linecolor='black', mirror=True,\n",
    "                              ticks='outside', ticklen=4, tickangle=0))\n",
    "\n",
    "\n",
    "\n",
    "fig = go.Figure(data=trace_list, layout=layout)     \n",
    "plot(fig)\n",
    "\n",
    "#pio.write_image(fig,\"Figures/si_fig_glc_pca_loadings.svg\",format='svg')\n"
   ]
  },
  {
   "cell_type": "markdown",
   "id": "figured-stylus",
   "metadata": {},
   "source": [
    "### Plot loadings of first 3 PCs ###"
   ]
  },
  {
   "cell_type": "code",
   "execution_count": 19,
   "id": "separated-happening",
   "metadata": {
    "scrolled": false
   },
   "outputs": [
    {
     "data": {
      "application/vnd.plotly.v1+json": {
       "config": {
        "linkText": "Export to plot.ly",
        "plotlyServerURL": "https://plot.ly",
        "showLink": false
       },
       "data": [
        {
         "line": {
          "color": "rgb(54, 146, 68)",
          "width": 1.5
         },
         "mode": "lines",
         "name": "acetate",
         "showlegend": false,
         "type": "scatter",
         "x": [
          0,
          0.513678788794795
         ],
         "xaxis": "x2",
         "y": [
          0,
          0.3522480710456875
         ],
         "yaxis": "y2"
        },
        {
         "line": {
          "color": "rgb(54, 146, 68)",
          "width": 1.5
         },
         "mode": "lines",
         "name": "formate",
         "showlegend": false,
         "type": "scatter",
         "x": [
          0,
          0.4806304929509565
         ],
         "xaxis": "x2",
         "y": [
          0,
          0.3677926882316487
         ],
         "yaxis": "y2"
        },
        {
         "line": {
          "color": "rgb(54, 146, 68)",
          "width": 1.5
         },
         "mode": "lines",
         "name": "lactate",
         "showlegend": false,
         "type": "scatter",
         "x": [
          0,
          0.27387722976291473
         ],
         "xaxis": "x2",
         "y": [
          0,
          -0.4326586915551488
         ],
         "yaxis": "y2"
        },
        {
         "line": {
          "color": "rgb(54, 146, 68)",
          "width": 1.5
         },
         "mode": "lines",
         "name": "pyruvate",
         "showlegend": false,
         "type": "scatter",
         "x": [
          0,
          0.39475855738201593
         ],
         "xaxis": "x2",
         "y": [
          0,
          -0.31987578939110795
         ],
         "yaxis": "y2"
        },
        {
         "line": {
          "color": "rgb(54, 146, 68)",
          "width": 1.5
         },
         "mode": "lines",
         "name": "succinate",
         "showlegend": false,
         "type": "scatter",
         "x": [
          0,
          0.22738632797558875
         ],
         "xaxis": "x2",
         "y": [
          0,
          -0.3875828058844716
         ],
         "yaxis": "y2"
        },
        {
         "line": {
          "color": "rgb(54, 146, 68)",
          "width": 1.5
         },
         "mode": "lines",
         "name": "growth_rate",
         "showlegend": false,
         "type": "scatter",
         "x": [
          0,
          0.26314894429245483
         ],
         "xaxis": "x2",
         "y": [
          0,
          0.42386390222908465
         ],
         "yaxis": "y2"
        },
        {
         "line": {
          "color": "rgb(54, 146, 68)",
          "width": 1.5
         },
         "mode": "lines",
         "name": "biomass_yield",
         "showlegend": false,
         "type": "scatter",
         "x": [
          0,
          -0.39157817424703323
         ],
         "xaxis": "x2",
         "y": [
          0,
          0.3482165014484317
         ],
         "yaxis": "y2"
        },
        {
         "line": {
          "color": "rgb(54, 146, 68)",
          "width": 1.5
         },
         "mode": "lines",
         "name": "acetate",
         "showlegend": false,
         "type": "scatter",
         "x": [
          0,
          -0.010761348411577797
         ],
         "xaxis": "x3",
         "y": [
          0,
          0.3522480710456875
         ],
         "yaxis": "y3"
        },
        {
         "line": {
          "color": "rgb(54, 146, 68)",
          "width": 1.5
         },
         "mode": "lines",
         "name": "formate",
         "showlegend": false,
         "type": "scatter",
         "x": [
          0,
          -0.0038475996673950443
         ],
         "xaxis": "x3",
         "y": [
          0,
          0.3677926882316487
         ],
         "yaxis": "y3"
        },
        {
         "line": {
          "color": "rgb(54, 146, 68)",
          "width": 1.5
         },
         "mode": "lines",
         "name": "lactate",
         "showlegend": false,
         "type": "scatter",
         "x": [
          0,
          0.3152262364966445
         ],
         "xaxis": "x3",
         "y": [
          0,
          -0.4326586915551488
         ],
         "yaxis": "y3"
        },
        {
         "line": {
          "color": "rgb(54, 146, 68)",
          "width": 1.5
         },
         "mode": "lines",
         "name": "pyruvate",
         "showlegend": false,
         "type": "scatter",
         "x": [
          0,
          -0.4989989095222802
         ],
         "xaxis": "x3",
         "y": [
          0,
          -0.31987578939110795
         ],
         "yaxis": "y3"
        },
        {
         "line": {
          "color": "rgb(54, 146, 68)",
          "width": 1.5
         },
         "mode": "lines",
         "name": "succinate",
         "showlegend": false,
         "type": "scatter",
         "x": [
          0,
          0.6738102820971612
         ],
         "xaxis": "x3",
         "y": [
          0,
          -0.3875828058844716
         ],
         "yaxis": "y3"
        },
        {
         "line": {
          "color": "rgb(54, 146, 68)",
          "width": 1.5
         },
         "mode": "lines",
         "name": "growth_rate",
         "showlegend": false,
         "type": "scatter",
         "x": [
          0,
          0.3220074388791472
         ],
         "xaxis": "x3",
         "y": [
          0,
          0.42386390222908465
         ],
         "yaxis": "y3"
        },
        {
         "line": {
          "color": "rgb(54, 146, 68)",
          "width": 1.5
         },
         "mode": "lines",
         "name": "biomass_yield",
         "showlegend": false,
         "type": "scatter",
         "x": [
          0,
          0.30625611916096795
         ],
         "xaxis": "x3",
         "y": [
          0,
          0.3482165014484317
         ],
         "yaxis": "y3"
        },
        {
         "line": {
          "color": "rgb(54, 146, 68)",
          "width": 1.5
         },
         "mode": "lines",
         "name": "acetate",
         "showlegend": false,
         "type": "scatter",
         "x": [
          0,
          0.3522480710456875
         ],
         "xaxis": "x4",
         "y": [
          0,
          0.513678788794795
         ],
         "yaxis": "y4"
        },
        {
         "line": {
          "color": "rgb(54, 146, 68)",
          "width": 1.5
         },
         "mode": "lines",
         "name": "formate",
         "showlegend": false,
         "type": "scatter",
         "x": [
          0,
          0.3677926882316487
         ],
         "xaxis": "x4",
         "y": [
          0,
          0.4806304929509565
         ],
         "yaxis": "y4"
        },
        {
         "line": {
          "color": "rgb(54, 146, 68)",
          "width": 1.5
         },
         "mode": "lines",
         "name": "lactate",
         "showlegend": false,
         "type": "scatter",
         "x": [
          0,
          -0.4326586915551488
         ],
         "xaxis": "x4",
         "y": [
          0,
          0.27387722976291473
         ],
         "yaxis": "y4"
        },
        {
         "line": {
          "color": "rgb(54, 146, 68)",
          "width": 1.5
         },
         "mode": "lines",
         "name": "pyruvate",
         "showlegend": false,
         "type": "scatter",
         "x": [
          0,
          -0.31987578939110795
         ],
         "xaxis": "x4",
         "y": [
          0,
          0.39475855738201593
         ],
         "yaxis": "y4"
        },
        {
         "line": {
          "color": "rgb(54, 146, 68)",
          "width": 1.5
         },
         "mode": "lines",
         "name": "succinate",
         "showlegend": false,
         "type": "scatter",
         "x": [
          0,
          -0.3875828058844716
         ],
         "xaxis": "x4",
         "y": [
          0,
          0.22738632797558875
         ],
         "yaxis": "y4"
        },
        {
         "line": {
          "color": "rgb(54, 146, 68)",
          "width": 1.5
         },
         "mode": "lines",
         "name": "growth_rate",
         "showlegend": false,
         "type": "scatter",
         "x": [
          0,
          0.42386390222908465
         ],
         "xaxis": "x4",
         "y": [
          0,
          0.26314894429245483
         ],
         "yaxis": "y4"
        },
        {
         "line": {
          "color": "rgb(54, 146, 68)",
          "width": 1.5
         },
         "mode": "lines",
         "name": "biomass_yield",
         "showlegend": false,
         "type": "scatter",
         "x": [
          0,
          0.3482165014484317
         ],
         "xaxis": "x4",
         "y": [
          0,
          -0.39157817424703323
         ],
         "yaxis": "y4"
        },
        {
         "line": {
          "color": "rgb(54, 146, 68)",
          "width": 1.5
         },
         "mode": "lines",
         "name": "acetate",
         "showlegend": false,
         "type": "scatter",
         "x": [
          0,
          -0.010761348411577797
         ],
         "xaxis": "x6",
         "y": [
          0,
          0.513678788794795
         ],
         "yaxis": "y6"
        },
        {
         "line": {
          "color": "rgb(54, 146, 68)",
          "width": 1.5
         },
         "mode": "lines",
         "name": "formate",
         "showlegend": false,
         "type": "scatter",
         "x": [
          0,
          -0.0038475996673950443
         ],
         "xaxis": "x6",
         "y": [
          0,
          0.4806304929509565
         ],
         "yaxis": "y6"
        },
        {
         "line": {
          "color": "rgb(54, 146, 68)",
          "width": 1.5
         },
         "mode": "lines",
         "name": "lactate",
         "showlegend": false,
         "type": "scatter",
         "x": [
          0,
          0.3152262364966445
         ],
         "xaxis": "x6",
         "y": [
          0,
          0.27387722976291473
         ],
         "yaxis": "y6"
        },
        {
         "line": {
          "color": "rgb(54, 146, 68)",
          "width": 1.5
         },
         "mode": "lines",
         "name": "pyruvate",
         "showlegend": false,
         "type": "scatter",
         "x": [
          0,
          -0.4989989095222802
         ],
         "xaxis": "x6",
         "y": [
          0,
          0.39475855738201593
         ],
         "yaxis": "y6"
        },
        {
         "line": {
          "color": "rgb(54, 146, 68)",
          "width": 1.5
         },
         "mode": "lines",
         "name": "succinate",
         "showlegend": false,
         "type": "scatter",
         "x": [
          0,
          0.6738102820971612
         ],
         "xaxis": "x6",
         "y": [
          0,
          0.22738632797558875
         ],
         "yaxis": "y6"
        },
        {
         "line": {
          "color": "rgb(54, 146, 68)",
          "width": 1.5
         },
         "mode": "lines",
         "name": "growth_rate",
         "showlegend": false,
         "type": "scatter",
         "x": [
          0,
          0.3220074388791472
         ],
         "xaxis": "x6",
         "y": [
          0,
          0.26314894429245483
         ],
         "yaxis": "y6"
        },
        {
         "line": {
          "color": "rgb(54, 146, 68)",
          "width": 1.5
         },
         "mode": "lines",
         "name": "biomass_yield",
         "showlegend": false,
         "type": "scatter",
         "x": [
          0,
          0.30625611916096795
         ],
         "xaxis": "x6",
         "y": [
          0,
          -0.39157817424703323
         ],
         "yaxis": "y6"
        },
        {
         "line": {
          "color": "rgb(54, 146, 68)",
          "width": 1.5
         },
         "mode": "lines",
         "name": "acetate",
         "showlegend": false,
         "type": "scatter",
         "x": [
          0,
          0.3522480710456875
         ],
         "xaxis": "x7",
         "y": [
          0,
          -0.010761348411577797
         ],
         "yaxis": "y7"
        },
        {
         "line": {
          "color": "rgb(54, 146, 68)",
          "width": 1.5
         },
         "mode": "lines",
         "name": "formate",
         "showlegend": false,
         "type": "scatter",
         "x": [
          0,
          0.3677926882316487
         ],
         "xaxis": "x7",
         "y": [
          0,
          -0.0038475996673950443
         ],
         "yaxis": "y7"
        },
        {
         "line": {
          "color": "rgb(54, 146, 68)",
          "width": 1.5
         },
         "mode": "lines",
         "name": "lactate",
         "showlegend": false,
         "type": "scatter",
         "x": [
          0,
          -0.4326586915551488
         ],
         "xaxis": "x7",
         "y": [
          0,
          0.3152262364966445
         ],
         "yaxis": "y7"
        },
        {
         "line": {
          "color": "rgb(54, 146, 68)",
          "width": 1.5
         },
         "mode": "lines",
         "name": "pyruvate",
         "showlegend": false,
         "type": "scatter",
         "x": [
          0,
          -0.31987578939110795
         ],
         "xaxis": "x7",
         "y": [
          0,
          -0.4989989095222802
         ],
         "yaxis": "y7"
        },
        {
         "line": {
          "color": "rgb(54, 146, 68)",
          "width": 1.5
         },
         "mode": "lines",
         "name": "succinate",
         "showlegend": false,
         "type": "scatter",
         "x": [
          0,
          -0.3875828058844716
         ],
         "xaxis": "x7",
         "y": [
          0,
          0.6738102820971612
         ],
         "yaxis": "y7"
        },
        {
         "line": {
          "color": "rgb(54, 146, 68)",
          "width": 1.5
         },
         "mode": "lines",
         "name": "growth_rate",
         "showlegend": false,
         "type": "scatter",
         "x": [
          0,
          0.42386390222908465
         ],
         "xaxis": "x7",
         "y": [
          0,
          0.3220074388791472
         ],
         "yaxis": "y7"
        },
        {
         "line": {
          "color": "rgb(54, 146, 68)",
          "width": 1.5
         },
         "mode": "lines",
         "name": "biomass_yield",
         "showlegend": false,
         "type": "scatter",
         "x": [
          0,
          0.3482165014484317
         ],
         "xaxis": "x7",
         "y": [
          0,
          0.30625611916096795
         ],
         "yaxis": "y7"
        },
        {
         "line": {
          "color": "rgb(54, 146, 68)",
          "width": 1.5
         },
         "mode": "lines",
         "name": "acetate",
         "showlegend": false,
         "type": "scatter",
         "x": [
          0,
          0.513678788794795
         ],
         "xaxis": "x8",
         "y": [
          0,
          -0.010761348411577797
         ],
         "yaxis": "y8"
        },
        {
         "line": {
          "color": "rgb(54, 146, 68)",
          "width": 1.5
         },
         "mode": "lines",
         "name": "formate",
         "showlegend": false,
         "type": "scatter",
         "x": [
          0,
          0.4806304929509565
         ],
         "xaxis": "x8",
         "y": [
          0,
          -0.0038475996673950443
         ],
         "yaxis": "y8"
        },
        {
         "line": {
          "color": "rgb(54, 146, 68)",
          "width": 1.5
         },
         "mode": "lines",
         "name": "lactate",
         "showlegend": false,
         "type": "scatter",
         "x": [
          0,
          0.27387722976291473
         ],
         "xaxis": "x8",
         "y": [
          0,
          0.3152262364966445
         ],
         "yaxis": "y8"
        },
        {
         "line": {
          "color": "rgb(54, 146, 68)",
          "width": 1.5
         },
         "mode": "lines",
         "name": "pyruvate",
         "showlegend": false,
         "type": "scatter",
         "x": [
          0,
          0.39475855738201593
         ],
         "xaxis": "x8",
         "y": [
          0,
          -0.4989989095222802
         ],
         "yaxis": "y8"
        },
        {
         "line": {
          "color": "rgb(54, 146, 68)",
          "width": 1.5
         },
         "mode": "lines",
         "name": "succinate",
         "showlegend": false,
         "type": "scatter",
         "x": [
          0,
          0.22738632797558875
         ],
         "xaxis": "x8",
         "y": [
          0,
          0.6738102820971612
         ],
         "yaxis": "y8"
        },
        {
         "line": {
          "color": "rgb(54, 146, 68)",
          "width": 1.5
         },
         "mode": "lines",
         "name": "growth_rate",
         "showlegend": false,
         "type": "scatter",
         "x": [
          0,
          0.26314894429245483
         ],
         "xaxis": "x8",
         "y": [
          0,
          0.3220074388791472
         ],
         "yaxis": "y8"
        },
        {
         "line": {
          "color": "rgb(54, 146, 68)",
          "width": 1.5
         },
         "mode": "lines",
         "name": "biomass_yield",
         "showlegend": false,
         "type": "scatter",
         "x": [
          0,
          -0.39157817424703323
         ],
         "xaxis": "x8",
         "y": [
          0,
          0.30625611916096795
         ],
         "yaxis": "y8"
        }
       ],
       "layout": {
        "height": 800,
        "legend": {
         "font": {
          "color": "black",
          "family": "Myriad Pro",
          "size": 12
         },
         "orientation": "h",
         "x": 0.1,
         "y": -0.15
        },
        "template": {
         "data": {
          "scatter": [
           {
            "type": "scatter"
           }
          ]
         }
        },
        "width": 800,
        "xaxis": {
         "anchor": "y",
         "domain": [
          0,
          0.2833333333333333
         ],
         "linecolor": "black",
         "linewidth": 1,
         "mirror": true,
         "nticks": 8,
         "showgrid": false,
         "showline": true,
         "side": "bottom",
         "tickangle": 0,
         "tickcolor": "black",
         "tickfont": {
          "color": "black",
          "family": "Myriad Pro",
          "size": 16
         },
         "ticklen": 4,
         "ticks": "outside",
         "zeroline": true
        },
        "xaxis2": {
         "anchor": "y2",
         "domain": [
          0.35833333333333334,
          0.6416666666666666
         ],
         "linecolor": "black",
         "linewidth": 1,
         "mirror": true,
         "nticks": 8,
         "showgrid": false,
         "showline": true,
         "side": "bottom",
         "tickangle": 0,
         "tickcolor": "black",
         "tickfont": {
          "color": "black",
          "family": "Myriad Pro",
          "size": 16
         },
         "ticklen": 4,
         "ticks": "outside",
         "zeroline": true
        },
        "xaxis3": {
         "anchor": "y3",
         "domain": [
          0.7166666666666667,
          1
         ],
         "linecolor": "black",
         "linewidth": 1,
         "mirror": true,
         "nticks": 8,
         "showgrid": false,
         "showline": true,
         "side": "bottom",
         "tickangle": 0,
         "tickcolor": "black",
         "tickfont": {
          "color": "black",
          "family": "Myriad Pro",
          "size": 16
         },
         "ticklen": 4,
         "ticks": "outside",
         "zeroline": true
        },
        "xaxis4": {
         "anchor": "y4",
         "domain": [
          0,
          0.2833333333333333
         ],
         "linecolor": "black",
         "linewidth": 1,
         "mirror": true,
         "nticks": 8,
         "showgrid": false,
         "showline": true,
         "side": "bottom",
         "tickangle": 0,
         "tickcolor": "black",
         "tickfont": {
          "color": "black",
          "family": "Myriad Pro",
          "size": 16
         },
         "ticklen": 4,
         "ticks": "outside",
         "zeroline": true
        },
        "xaxis5": {
         "anchor": "y5",
         "domain": [
          0.35833333333333334,
          0.6416666666666666
         ],
         "linecolor": "black",
         "linewidth": 1,
         "mirror": true,
         "nticks": 8,
         "showgrid": false,
         "showline": true,
         "side": "bottom",
         "tickangle": 0,
         "tickcolor": "black",
         "tickfont": {
          "color": "black",
          "family": "Myriad Pro",
          "size": 16
         },
         "ticklen": 4,
         "ticks": "outside",
         "zeroline": true
        },
        "xaxis6": {
         "anchor": "y6",
         "domain": [
          0.7166666666666667,
          1
         ],
         "linecolor": "black",
         "linewidth": 1,
         "mirror": true,
         "nticks": 8,
         "showgrid": false,
         "showline": true,
         "side": "bottom",
         "tickangle": 0,
         "tickcolor": "black",
         "tickfont": {
          "color": "black",
          "family": "Myriad Pro",
          "size": 16
         },
         "ticklen": 4,
         "ticks": "outside",
         "zeroline": true
        },
        "xaxis7": {
         "anchor": "y7",
         "domain": [
          0,
          0.2833333333333333
         ],
         "linecolor": "black",
         "linewidth": 1,
         "mirror": true,
         "nticks": 8,
         "showgrid": false,
         "showline": true,
         "side": "bottom",
         "tickangle": 0,
         "tickcolor": "black",
         "tickfont": {
          "color": "black",
          "family": "Myriad Pro",
          "size": 16
         },
         "ticklen": 4,
         "ticks": "outside",
         "title": {
          "font": {
           "color": "black",
           "family": "Myriad Pro",
           "size": 16
          },
          "standoff": 0.5,
          "text": "Principal Component 1"
         },
         "zeroline": true
        },
        "xaxis8": {
         "anchor": "y8",
         "domain": [
          0.35833333333333334,
          0.6416666666666666
         ],
         "linecolor": "black",
         "linewidth": 1,
         "mirror": true,
         "nticks": 8,
         "showgrid": false,
         "showline": true,
         "side": "bottom",
         "tickangle": 0,
         "tickcolor": "black",
         "tickfont": {
          "color": "black",
          "family": "Myriad Pro",
          "size": 16
         },
         "ticklen": 4,
         "ticks": "outside",
         "title": {
          "font": {
           "color": "black",
           "family": "Myriad Pro",
           "size": 16
          },
          "standoff": 0.5,
          "text": "Principal Component 2"
         },
         "zeroline": true
        },
        "xaxis9": {
         "anchor": "y9",
         "domain": [
          0.7166666666666667,
          1
         ],
         "linecolor": "black",
         "linewidth": 1,
         "mirror": true,
         "nticks": 8,
         "showgrid": false,
         "showline": true,
         "side": "bottom",
         "tickangle": 0,
         "tickcolor": "black",
         "tickfont": {
          "color": "black",
          "family": "Myriad Pro",
          "size": 16
         },
         "ticklen": 4,
         "ticks": "outside",
         "zeroline": true
        },
        "yaxis": {
         "anchor": "x",
         "domain": [
          0.7166666666666667,
          1
         ],
         "linecolor": "black",
         "linewidth": 1,
         "mirror": true,
         "showgrid": false,
         "showline": true,
         "tickangle": 0,
         "tickcolor": "black",
         "tickfont": {
          "color": "black",
          "family": "Myriad Pro",
          "size": 16
         },
         "ticklen": 4,
         "ticks": "outside",
         "zeroline": true
        },
        "yaxis2": {
         "anchor": "x2",
         "domain": [
          0.7166666666666667,
          1
         ],
         "linecolor": "black",
         "linewidth": 1,
         "mirror": true,
         "showgrid": false,
         "showline": true,
         "tickangle": 0,
         "tickcolor": "black",
         "tickfont": {
          "color": "black",
          "family": "Myriad Pro",
          "size": 16
         },
         "ticklen": 4,
         "ticks": "outside",
         "zeroline": true
        },
        "yaxis3": {
         "anchor": "x3",
         "domain": [
          0.7166666666666667,
          1
         ],
         "linecolor": "black",
         "linewidth": 1,
         "mirror": true,
         "showgrid": false,
         "showline": true,
         "tickangle": 0,
         "tickcolor": "black",
         "tickfont": {
          "color": "black",
          "family": "Myriad Pro",
          "size": 16
         },
         "ticklen": 4,
         "ticks": "outside",
         "zeroline": true
        },
        "yaxis4": {
         "anchor": "x4",
         "domain": [
          0.35833333333333334,
          0.6416666666666666
         ],
         "linecolor": "black",
         "linewidth": 1,
         "mirror": true,
         "showgrid": false,
         "showline": true,
         "tickangle": 0,
         "tickcolor": "black",
         "tickfont": {
          "color": "black",
          "family": "Myriad Pro",
          "size": 16
         },
         "ticklen": 4,
         "ticks": "outside",
         "title": {
          "font": {
           "color": "black",
           "family": "Myriad Pro",
           "size": 16
          },
          "standoff": 0,
          "text": "Principal Component 2"
         },
         "zeroline": true
        },
        "yaxis5": {
         "anchor": "x5",
         "domain": [
          0.35833333333333334,
          0.6416666666666666
         ],
         "linecolor": "black",
         "linewidth": 1,
         "mirror": true,
         "showgrid": false,
         "showline": true,
         "tickangle": 0,
         "tickcolor": "black",
         "tickfont": {
          "color": "black",
          "family": "Myriad Pro",
          "size": 16
         },
         "ticklen": 4,
         "ticks": "outside",
         "zeroline": true
        },
        "yaxis6": {
         "anchor": "x6",
         "domain": [
          0.35833333333333334,
          0.6416666666666666
         ],
         "linecolor": "black",
         "linewidth": 1,
         "mirror": true,
         "showgrid": false,
         "showline": true,
         "tickangle": 0,
         "tickcolor": "black",
         "tickfont": {
          "color": "black",
          "family": "Myriad Pro",
          "size": 16
         },
         "ticklen": 4,
         "ticks": "outside",
         "zeroline": true
        },
        "yaxis7": {
         "anchor": "x7",
         "domain": [
          0,
          0.2833333333333333
         ],
         "linecolor": "black",
         "linewidth": 1,
         "mirror": true,
         "showgrid": false,
         "showline": true,
         "tickangle": 0,
         "tickcolor": "black",
         "tickfont": {
          "color": "black",
          "family": "Myriad Pro",
          "size": 16
         },
         "ticklen": 4,
         "ticks": "outside",
         "title": {
          "font": {
           "color": "black",
           "family": "Myriad Pro",
           "size": 16
          },
          "standoff": 0,
          "text": "Principal Component 3"
         },
         "zeroline": true
        },
        "yaxis8": {
         "anchor": "x8",
         "domain": [
          0,
          0.2833333333333333
         ],
         "linecolor": "black",
         "linewidth": 1,
         "mirror": true,
         "showgrid": false,
         "showline": true,
         "tickangle": 0,
         "tickcolor": "black",
         "tickfont": {
          "color": "black",
          "family": "Myriad Pro",
          "size": 16
         },
         "ticklen": 4,
         "ticks": "outside",
         "zeroline": true
        },
        "yaxis9": {
         "anchor": "x9",
         "domain": [
          0,
          0.2833333333333333
         ],
         "linecolor": "black",
         "linewidth": 1,
         "mirror": true,
         "showgrid": false,
         "showline": true,
         "tickangle": 0,
         "tickcolor": "black",
         "tickfont": {
          "color": "black",
          "family": "Myriad Pro",
          "size": 16
         },
         "ticklen": 4,
         "ticks": "outside",
         "zeroline": true
        }
       }
      },
      "text/html": [
       "<div>                            <div id=\"93cb1aca-713b-4d32-9f47-46fb432c810d\" class=\"plotly-graph-div\" style=\"height:800px; width:800px;\"></div>            <script type=\"text/javascript\">                require([\"plotly\"], function(Plotly) {                    window.PLOTLYENV=window.PLOTLYENV || {};                                    if (document.getElementById(\"93cb1aca-713b-4d32-9f47-46fb432c810d\")) {                    Plotly.newPlot(                        \"93cb1aca-713b-4d32-9f47-46fb432c810d\",                        [{\"line\": {\"color\": \"rgb(54, 146, 68)\", \"width\": 1.5}, \"mode\": \"lines\", \"name\": \"acetate\", \"showlegend\": false, \"type\": \"scatter\", \"x\": [0, 0.513678788794795], \"xaxis\": \"x2\", \"y\": [0, 0.3522480710456875], \"yaxis\": \"y2\"}, {\"line\": {\"color\": \"rgb(54, 146, 68)\", \"width\": 1.5}, \"mode\": \"lines\", \"name\": \"formate\", \"showlegend\": false, \"type\": \"scatter\", \"x\": [0, 0.4806304929509565], \"xaxis\": \"x2\", \"y\": [0, 0.3677926882316487], \"yaxis\": \"y2\"}, {\"line\": {\"color\": \"rgb(54, 146, 68)\", \"width\": 1.5}, \"mode\": \"lines\", \"name\": \"lactate\", \"showlegend\": false, \"type\": \"scatter\", \"x\": [0, 0.27387722976291473], \"xaxis\": \"x2\", \"y\": [0, -0.4326586915551488], \"yaxis\": \"y2\"}, {\"line\": {\"color\": \"rgb(54, 146, 68)\", \"width\": 1.5}, \"mode\": \"lines\", \"name\": \"pyruvate\", \"showlegend\": false, \"type\": \"scatter\", \"x\": [0, 0.39475855738201593], \"xaxis\": \"x2\", \"y\": [0, -0.31987578939110795], \"yaxis\": \"y2\"}, {\"line\": {\"color\": \"rgb(54, 146, 68)\", \"width\": 1.5}, \"mode\": \"lines\", \"name\": \"succinate\", \"showlegend\": false, \"type\": \"scatter\", \"x\": [0, 0.22738632797558875], \"xaxis\": \"x2\", \"y\": [0, -0.3875828058844716], \"yaxis\": \"y2\"}, {\"line\": {\"color\": \"rgb(54, 146, 68)\", \"width\": 1.5}, \"mode\": \"lines\", \"name\": \"growth_rate\", \"showlegend\": false, \"type\": \"scatter\", \"x\": [0, 0.26314894429245483], \"xaxis\": \"x2\", \"y\": [0, 0.42386390222908465], \"yaxis\": \"y2\"}, {\"line\": {\"color\": \"rgb(54, 146, 68)\", \"width\": 1.5}, \"mode\": \"lines\", \"name\": \"biomass_yield\", \"showlegend\": false, \"type\": \"scatter\", \"x\": [0, -0.39157817424703323], \"xaxis\": \"x2\", \"y\": [0, 0.3482165014484317], \"yaxis\": \"y2\"}, {\"line\": {\"color\": \"rgb(54, 146, 68)\", \"width\": 1.5}, \"mode\": \"lines\", \"name\": \"acetate\", \"showlegend\": false, \"type\": \"scatter\", \"x\": [0, -0.010761348411577797], \"xaxis\": \"x3\", \"y\": [0, 0.3522480710456875], \"yaxis\": \"y3\"}, {\"line\": {\"color\": \"rgb(54, 146, 68)\", \"width\": 1.5}, \"mode\": \"lines\", \"name\": \"formate\", \"showlegend\": false, \"type\": \"scatter\", \"x\": [0, -0.0038475996673950443], \"xaxis\": \"x3\", \"y\": [0, 0.3677926882316487], \"yaxis\": \"y3\"}, {\"line\": {\"color\": \"rgb(54, 146, 68)\", \"width\": 1.5}, \"mode\": \"lines\", \"name\": \"lactate\", \"showlegend\": false, \"type\": \"scatter\", \"x\": [0, 0.3152262364966445], \"xaxis\": \"x3\", \"y\": [0, -0.4326586915551488], \"yaxis\": \"y3\"}, {\"line\": {\"color\": \"rgb(54, 146, 68)\", \"width\": 1.5}, \"mode\": \"lines\", \"name\": \"pyruvate\", \"showlegend\": false, \"type\": \"scatter\", \"x\": [0, -0.4989989095222802], \"xaxis\": \"x3\", \"y\": [0, -0.31987578939110795], \"yaxis\": \"y3\"}, {\"line\": {\"color\": \"rgb(54, 146, 68)\", \"width\": 1.5}, \"mode\": \"lines\", \"name\": \"succinate\", \"showlegend\": false, \"type\": \"scatter\", \"x\": [0, 0.6738102820971612], \"xaxis\": \"x3\", \"y\": [0, -0.3875828058844716], \"yaxis\": \"y3\"}, {\"line\": {\"color\": \"rgb(54, 146, 68)\", \"width\": 1.5}, \"mode\": \"lines\", \"name\": \"growth_rate\", \"showlegend\": false, \"type\": \"scatter\", \"x\": [0, 0.3220074388791472], \"xaxis\": \"x3\", \"y\": [0, 0.42386390222908465], \"yaxis\": \"y3\"}, {\"line\": {\"color\": \"rgb(54, 146, 68)\", \"width\": 1.5}, \"mode\": \"lines\", \"name\": \"biomass_yield\", \"showlegend\": false, \"type\": \"scatter\", \"x\": [0, 0.30625611916096795], \"xaxis\": \"x3\", \"y\": [0, 0.3482165014484317], \"yaxis\": \"y3\"}, {\"line\": {\"color\": \"rgb(54, 146, 68)\", \"width\": 1.5}, \"mode\": \"lines\", \"name\": \"acetate\", \"showlegend\": false, \"type\": \"scatter\", \"x\": [0, 0.3522480710456875], \"xaxis\": \"x4\", \"y\": [0, 0.513678788794795], \"yaxis\": \"y4\"}, {\"line\": {\"color\": \"rgb(54, 146, 68)\", \"width\": 1.5}, \"mode\": \"lines\", \"name\": \"formate\", \"showlegend\": false, \"type\": \"scatter\", \"x\": [0, 0.3677926882316487], \"xaxis\": \"x4\", \"y\": [0, 0.4806304929509565], \"yaxis\": \"y4\"}, {\"line\": {\"color\": \"rgb(54, 146, 68)\", \"width\": 1.5}, \"mode\": \"lines\", \"name\": \"lactate\", \"showlegend\": false, \"type\": \"scatter\", \"x\": [0, -0.4326586915551488], \"xaxis\": \"x4\", \"y\": [0, 0.27387722976291473], \"yaxis\": \"y4\"}, {\"line\": {\"color\": \"rgb(54, 146, 68)\", \"width\": 1.5}, \"mode\": \"lines\", \"name\": \"pyruvate\", \"showlegend\": false, \"type\": \"scatter\", \"x\": [0, -0.31987578939110795], \"xaxis\": \"x4\", \"y\": [0, 0.39475855738201593], \"yaxis\": \"y4\"}, {\"line\": {\"color\": \"rgb(54, 146, 68)\", \"width\": 1.5}, \"mode\": \"lines\", \"name\": \"succinate\", \"showlegend\": false, \"type\": \"scatter\", \"x\": [0, -0.3875828058844716], \"xaxis\": \"x4\", \"y\": [0, 0.22738632797558875], \"yaxis\": \"y4\"}, {\"line\": {\"color\": \"rgb(54, 146, 68)\", \"width\": 1.5}, \"mode\": \"lines\", \"name\": \"growth_rate\", \"showlegend\": false, \"type\": \"scatter\", \"x\": [0, 0.42386390222908465], \"xaxis\": \"x4\", \"y\": [0, 0.26314894429245483], \"yaxis\": \"y4\"}, {\"line\": {\"color\": \"rgb(54, 146, 68)\", \"width\": 1.5}, \"mode\": \"lines\", \"name\": \"biomass_yield\", \"showlegend\": false, \"type\": \"scatter\", \"x\": [0, 0.3482165014484317], \"xaxis\": \"x4\", \"y\": [0, -0.39157817424703323], \"yaxis\": \"y4\"}, {\"line\": {\"color\": \"rgb(54, 146, 68)\", \"width\": 1.5}, \"mode\": \"lines\", \"name\": \"acetate\", \"showlegend\": false, \"type\": \"scatter\", \"x\": [0, -0.010761348411577797], \"xaxis\": \"x6\", \"y\": [0, 0.513678788794795], \"yaxis\": \"y6\"}, {\"line\": {\"color\": \"rgb(54, 146, 68)\", \"width\": 1.5}, \"mode\": \"lines\", \"name\": \"formate\", \"showlegend\": false, \"type\": \"scatter\", \"x\": [0, -0.0038475996673950443], \"xaxis\": \"x6\", \"y\": [0, 0.4806304929509565], \"yaxis\": \"y6\"}, {\"line\": {\"color\": \"rgb(54, 146, 68)\", \"width\": 1.5}, \"mode\": \"lines\", \"name\": \"lactate\", \"showlegend\": false, \"type\": \"scatter\", \"x\": [0, 0.3152262364966445], \"xaxis\": \"x6\", \"y\": [0, 0.27387722976291473], \"yaxis\": \"y6\"}, {\"line\": {\"color\": \"rgb(54, 146, 68)\", \"width\": 1.5}, \"mode\": \"lines\", \"name\": \"pyruvate\", \"showlegend\": false, \"type\": \"scatter\", \"x\": [0, -0.4989989095222802], \"xaxis\": \"x6\", \"y\": [0, 0.39475855738201593], \"yaxis\": \"y6\"}, {\"line\": {\"color\": \"rgb(54, 146, 68)\", \"width\": 1.5}, \"mode\": \"lines\", \"name\": \"succinate\", \"showlegend\": false, \"type\": \"scatter\", \"x\": [0, 0.6738102820971612], \"xaxis\": \"x6\", \"y\": [0, 0.22738632797558875], \"yaxis\": \"y6\"}, {\"line\": {\"color\": \"rgb(54, 146, 68)\", \"width\": 1.5}, \"mode\": \"lines\", \"name\": \"growth_rate\", \"showlegend\": false, \"type\": \"scatter\", \"x\": [0, 0.3220074388791472], \"xaxis\": \"x6\", \"y\": [0, 0.26314894429245483], \"yaxis\": \"y6\"}, {\"line\": {\"color\": \"rgb(54, 146, 68)\", \"width\": 1.5}, \"mode\": \"lines\", \"name\": \"biomass_yield\", \"showlegend\": false, \"type\": \"scatter\", \"x\": [0, 0.30625611916096795], \"xaxis\": \"x6\", \"y\": [0, -0.39157817424703323], \"yaxis\": \"y6\"}, {\"line\": {\"color\": \"rgb(54, 146, 68)\", \"width\": 1.5}, \"mode\": \"lines\", \"name\": \"acetate\", \"showlegend\": false, \"type\": \"scatter\", \"x\": [0, 0.3522480710456875], \"xaxis\": \"x7\", \"y\": [0, -0.010761348411577797], \"yaxis\": \"y7\"}, {\"line\": {\"color\": \"rgb(54, 146, 68)\", \"width\": 1.5}, \"mode\": \"lines\", \"name\": \"formate\", \"showlegend\": false, \"type\": \"scatter\", \"x\": [0, 0.3677926882316487], \"xaxis\": \"x7\", \"y\": [0, -0.0038475996673950443], \"yaxis\": \"y7\"}, {\"line\": {\"color\": \"rgb(54, 146, 68)\", \"width\": 1.5}, \"mode\": \"lines\", \"name\": \"lactate\", \"showlegend\": false, \"type\": \"scatter\", \"x\": [0, -0.4326586915551488], \"xaxis\": \"x7\", \"y\": [0, 0.3152262364966445], \"yaxis\": \"y7\"}, {\"line\": {\"color\": \"rgb(54, 146, 68)\", \"width\": 1.5}, \"mode\": \"lines\", \"name\": \"pyruvate\", \"showlegend\": false, \"type\": \"scatter\", \"x\": [0, -0.31987578939110795], \"xaxis\": \"x7\", \"y\": [0, -0.4989989095222802], \"yaxis\": \"y7\"}, {\"line\": {\"color\": \"rgb(54, 146, 68)\", \"width\": 1.5}, \"mode\": \"lines\", \"name\": \"succinate\", \"showlegend\": false, \"type\": \"scatter\", \"x\": [0, -0.3875828058844716], \"xaxis\": \"x7\", \"y\": [0, 0.6738102820971612], \"yaxis\": \"y7\"}, {\"line\": {\"color\": \"rgb(54, 146, 68)\", \"width\": 1.5}, \"mode\": \"lines\", \"name\": \"growth_rate\", \"showlegend\": false, \"type\": \"scatter\", \"x\": [0, 0.42386390222908465], \"xaxis\": \"x7\", \"y\": [0, 0.3220074388791472], \"yaxis\": \"y7\"}, {\"line\": {\"color\": \"rgb(54, 146, 68)\", \"width\": 1.5}, \"mode\": \"lines\", \"name\": \"biomass_yield\", \"showlegend\": false, \"type\": \"scatter\", \"x\": [0, 0.3482165014484317], \"xaxis\": \"x7\", \"y\": [0, 0.30625611916096795], \"yaxis\": \"y7\"}, {\"line\": {\"color\": \"rgb(54, 146, 68)\", \"width\": 1.5}, \"mode\": \"lines\", \"name\": \"acetate\", \"showlegend\": false, \"type\": \"scatter\", \"x\": [0, 0.513678788794795], \"xaxis\": \"x8\", \"y\": [0, -0.010761348411577797], \"yaxis\": \"y8\"}, {\"line\": {\"color\": \"rgb(54, 146, 68)\", \"width\": 1.5}, \"mode\": \"lines\", \"name\": \"formate\", \"showlegend\": false, \"type\": \"scatter\", \"x\": [0, 0.4806304929509565], \"xaxis\": \"x8\", \"y\": [0, -0.0038475996673950443], \"yaxis\": \"y8\"}, {\"line\": {\"color\": \"rgb(54, 146, 68)\", \"width\": 1.5}, \"mode\": \"lines\", \"name\": \"lactate\", \"showlegend\": false, \"type\": \"scatter\", \"x\": [0, 0.27387722976291473], \"xaxis\": \"x8\", \"y\": [0, 0.3152262364966445], \"yaxis\": \"y8\"}, {\"line\": {\"color\": \"rgb(54, 146, 68)\", \"width\": 1.5}, \"mode\": \"lines\", \"name\": \"pyruvate\", \"showlegend\": false, \"type\": \"scatter\", \"x\": [0, 0.39475855738201593], \"xaxis\": \"x8\", \"y\": [0, -0.4989989095222802], \"yaxis\": \"y8\"}, {\"line\": {\"color\": \"rgb(54, 146, 68)\", \"width\": 1.5}, \"mode\": \"lines\", \"name\": \"succinate\", \"showlegend\": false, \"type\": \"scatter\", \"x\": [0, 0.22738632797558875], \"xaxis\": \"x8\", \"y\": [0, 0.6738102820971612], \"yaxis\": \"y8\"}, {\"line\": {\"color\": \"rgb(54, 146, 68)\", \"width\": 1.5}, \"mode\": \"lines\", \"name\": \"growth_rate\", \"showlegend\": false, \"type\": \"scatter\", \"x\": [0, 0.26314894429245483], \"xaxis\": \"x8\", \"y\": [0, 0.3220074388791472], \"yaxis\": \"y8\"}, {\"line\": {\"color\": \"rgb(54, 146, 68)\", \"width\": 1.5}, \"mode\": \"lines\", \"name\": \"biomass_yield\", \"showlegend\": false, \"type\": \"scatter\", \"x\": [0, -0.39157817424703323], \"xaxis\": \"x8\", \"y\": [0, 0.30625611916096795], \"yaxis\": \"y8\"}],                        {\"height\": 800, \"legend\": {\"font\": {\"color\": \"black\", \"family\": \"Myriad Pro\", \"size\": 12}, \"orientation\": \"h\", \"x\": 0.1, \"y\": -0.15}, \"template\": {\"data\": {\"scatter\": [{\"type\": \"scatter\"}]}}, \"width\": 800, \"xaxis\": {\"anchor\": \"y\", \"domain\": [0.0, 0.2833333333333333], \"linecolor\": \"black\", \"linewidth\": 1, \"mirror\": true, \"nticks\": 8, \"showgrid\": false, \"showline\": true, \"side\": \"bottom\", \"tickangle\": 0, \"tickcolor\": \"black\", \"tickfont\": {\"color\": \"black\", \"family\": \"Myriad Pro\", \"size\": 16}, \"ticklen\": 4, \"ticks\": \"outside\", \"zeroline\": true}, \"xaxis2\": {\"anchor\": \"y2\", \"domain\": [0.35833333333333334, 0.6416666666666666], \"linecolor\": \"black\", \"linewidth\": 1, \"mirror\": true, \"nticks\": 8, \"showgrid\": false, \"showline\": true, \"side\": \"bottom\", \"tickangle\": 0, \"tickcolor\": \"black\", \"tickfont\": {\"color\": \"black\", \"family\": \"Myriad Pro\", \"size\": 16}, \"ticklen\": 4, \"ticks\": \"outside\", \"zeroline\": true}, \"xaxis3\": {\"anchor\": \"y3\", \"domain\": [0.7166666666666667, 1.0], \"linecolor\": \"black\", \"linewidth\": 1, \"mirror\": true, \"nticks\": 8, \"showgrid\": false, \"showline\": true, \"side\": \"bottom\", \"tickangle\": 0, \"tickcolor\": \"black\", \"tickfont\": {\"color\": \"black\", \"family\": \"Myriad Pro\", \"size\": 16}, \"ticklen\": 4, \"ticks\": \"outside\", \"zeroline\": true}, \"xaxis4\": {\"anchor\": \"y4\", \"domain\": [0.0, 0.2833333333333333], \"linecolor\": \"black\", \"linewidth\": 1, \"mirror\": true, \"nticks\": 8, \"showgrid\": false, \"showline\": true, \"side\": \"bottom\", \"tickangle\": 0, \"tickcolor\": \"black\", \"tickfont\": {\"color\": \"black\", \"family\": \"Myriad Pro\", \"size\": 16}, \"ticklen\": 4, \"ticks\": \"outside\", \"zeroline\": true}, \"xaxis5\": {\"anchor\": \"y5\", \"domain\": [0.35833333333333334, 0.6416666666666666], \"linecolor\": \"black\", \"linewidth\": 1, \"mirror\": true, \"nticks\": 8, \"showgrid\": false, \"showline\": true, \"side\": \"bottom\", \"tickangle\": 0, \"tickcolor\": \"black\", \"tickfont\": {\"color\": \"black\", \"family\": \"Myriad Pro\", \"size\": 16}, \"ticklen\": 4, \"ticks\": \"outside\", \"zeroline\": true}, \"xaxis6\": {\"anchor\": \"y6\", \"domain\": [0.7166666666666667, 1.0], \"linecolor\": \"black\", \"linewidth\": 1, \"mirror\": true, \"nticks\": 8, \"showgrid\": false, \"showline\": true, \"side\": \"bottom\", \"tickangle\": 0, \"tickcolor\": \"black\", \"tickfont\": {\"color\": \"black\", \"family\": \"Myriad Pro\", \"size\": 16}, \"ticklen\": 4, \"ticks\": \"outside\", \"zeroline\": true}, \"xaxis7\": {\"anchor\": \"y7\", \"domain\": [0.0, 0.2833333333333333], \"linecolor\": \"black\", \"linewidth\": 1, \"mirror\": true, \"nticks\": 8, \"showgrid\": false, \"showline\": true, \"side\": \"bottom\", \"tickangle\": 0, \"tickcolor\": \"black\", \"tickfont\": {\"color\": \"black\", \"family\": \"Myriad Pro\", \"size\": 16}, \"ticklen\": 4, \"ticks\": \"outside\", \"title\": {\"font\": {\"color\": \"black\", \"family\": \"Myriad Pro\", \"size\": 16}, \"standoff\": 0.5, \"text\": \"Principal Component 1\"}, \"zeroline\": true}, \"xaxis8\": {\"anchor\": \"y8\", \"domain\": [0.35833333333333334, 0.6416666666666666], \"linecolor\": \"black\", \"linewidth\": 1, \"mirror\": true, \"nticks\": 8, \"showgrid\": false, \"showline\": true, \"side\": \"bottom\", \"tickangle\": 0, \"tickcolor\": \"black\", \"tickfont\": {\"color\": \"black\", \"family\": \"Myriad Pro\", \"size\": 16}, \"ticklen\": 4, \"ticks\": \"outside\", \"title\": {\"font\": {\"color\": \"black\", \"family\": \"Myriad Pro\", \"size\": 16}, \"standoff\": 0.5, \"text\": \"Principal Component 2\"}, \"zeroline\": true}, \"xaxis9\": {\"anchor\": \"y9\", \"domain\": [0.7166666666666667, 1.0], \"linecolor\": \"black\", \"linewidth\": 1, \"mirror\": true, \"nticks\": 8, \"showgrid\": false, \"showline\": true, \"side\": \"bottom\", \"tickangle\": 0, \"tickcolor\": \"black\", \"tickfont\": {\"color\": \"black\", \"family\": \"Myriad Pro\", \"size\": 16}, \"ticklen\": 4, \"ticks\": \"outside\", \"zeroline\": true}, \"yaxis\": {\"anchor\": \"x\", \"domain\": [0.7166666666666667, 1.0], \"linecolor\": \"black\", \"linewidth\": 1, \"mirror\": true, \"showgrid\": false, \"showline\": true, \"tickangle\": 0, \"tickcolor\": \"black\", \"tickfont\": {\"color\": \"black\", \"family\": \"Myriad Pro\", \"size\": 16}, \"ticklen\": 4, \"ticks\": \"outside\", \"zeroline\": true}, \"yaxis2\": {\"anchor\": \"x2\", \"domain\": [0.7166666666666667, 1.0], \"linecolor\": \"black\", \"linewidth\": 1, \"mirror\": true, \"showgrid\": false, \"showline\": true, \"tickangle\": 0, \"tickcolor\": \"black\", \"tickfont\": {\"color\": \"black\", \"family\": \"Myriad Pro\", \"size\": 16}, \"ticklen\": 4, \"ticks\": \"outside\", \"zeroline\": true}, \"yaxis3\": {\"anchor\": \"x3\", \"domain\": [0.7166666666666667, 1.0], \"linecolor\": \"black\", \"linewidth\": 1, \"mirror\": true, \"showgrid\": false, \"showline\": true, \"tickangle\": 0, \"tickcolor\": \"black\", \"tickfont\": {\"color\": \"black\", \"family\": \"Myriad Pro\", \"size\": 16}, \"ticklen\": 4, \"ticks\": \"outside\", \"zeroline\": true}, \"yaxis4\": {\"anchor\": \"x4\", \"domain\": [0.35833333333333334, 0.6416666666666666], \"linecolor\": \"black\", \"linewidth\": 1, \"mirror\": true, \"showgrid\": false, \"showline\": true, \"tickangle\": 0, \"tickcolor\": \"black\", \"tickfont\": {\"color\": \"black\", \"family\": \"Myriad Pro\", \"size\": 16}, \"ticklen\": 4, \"ticks\": \"outside\", \"title\": {\"font\": {\"color\": \"black\", \"family\": \"Myriad Pro\", \"size\": 16}, \"standoff\": 0, \"text\": \"Principal Component 2\"}, \"zeroline\": true}, \"yaxis5\": {\"anchor\": \"x5\", \"domain\": [0.35833333333333334, 0.6416666666666666], \"linecolor\": \"black\", \"linewidth\": 1, \"mirror\": true, \"showgrid\": false, \"showline\": true, \"tickangle\": 0, \"tickcolor\": \"black\", \"tickfont\": {\"color\": \"black\", \"family\": \"Myriad Pro\", \"size\": 16}, \"ticklen\": 4, \"ticks\": \"outside\", \"zeroline\": true}, \"yaxis6\": {\"anchor\": \"x6\", \"domain\": [0.35833333333333334, 0.6416666666666666], \"linecolor\": \"black\", \"linewidth\": 1, \"mirror\": true, \"showgrid\": false, \"showline\": true, \"tickangle\": 0, \"tickcolor\": \"black\", \"tickfont\": {\"color\": \"black\", \"family\": \"Myriad Pro\", \"size\": 16}, \"ticklen\": 4, \"ticks\": \"outside\", \"zeroline\": true}, \"yaxis7\": {\"anchor\": \"x7\", \"domain\": [0.0, 0.2833333333333333], \"linecolor\": \"black\", \"linewidth\": 1, \"mirror\": true, \"showgrid\": false, \"showline\": true, \"tickangle\": 0, \"tickcolor\": \"black\", \"tickfont\": {\"color\": \"black\", \"family\": \"Myriad Pro\", \"size\": 16}, \"ticklen\": 4, \"ticks\": \"outside\", \"title\": {\"font\": {\"color\": \"black\", \"family\": \"Myriad Pro\", \"size\": 16}, \"standoff\": 0, \"text\": \"Principal Component 3\"}, \"zeroline\": true}, \"yaxis8\": {\"anchor\": \"x8\", \"domain\": [0.0, 0.2833333333333333], \"linecolor\": \"black\", \"linewidth\": 1, \"mirror\": true, \"showgrid\": false, \"showline\": true, \"tickangle\": 0, \"tickcolor\": \"black\", \"tickfont\": {\"color\": \"black\", \"family\": \"Myriad Pro\", \"size\": 16}, \"ticklen\": 4, \"ticks\": \"outside\", \"zeroline\": true}, \"yaxis9\": {\"anchor\": \"x9\", \"domain\": [0.0, 0.2833333333333333], \"linecolor\": \"black\", \"linewidth\": 1, \"mirror\": true, \"showgrid\": false, \"showline\": true, \"tickangle\": 0, \"tickcolor\": \"black\", \"tickfont\": {\"color\": \"black\", \"family\": \"Myriad Pro\", \"size\": 16}, \"ticklen\": 4, \"ticks\": \"outside\", \"zeroline\": true}},                        {\"responsive\": true}                    ).then(function(){\n",
       "                            \n",
       "var gd = document.getElementById('93cb1aca-713b-4d32-9f47-46fb432c810d');\n",
       "var x = new MutationObserver(function (mutations, observer) {{\n",
       "        var display = window.getComputedStyle(gd).display;\n",
       "        if (!display || display === 'none') {{\n",
       "            console.log([gd, 'removed!']);\n",
       "            Plotly.purge(gd);\n",
       "            observer.disconnect();\n",
       "        }}\n",
       "}});\n",
       "\n",
       "// Listen for the removal of the full notebook cells\n",
       "var notebookContainer = gd.closest('#notebook-container');\n",
       "if (notebookContainer) {{\n",
       "    x.observe(notebookContainer, {childList: true});\n",
       "}}\n",
       "\n",
       "// Listen for the clearing of the current output cell\n",
       "var outputEl = gd.closest('.output');\n",
       "if (outputEl) {{\n",
       "    x.observe(outputEl, {childList: true});\n",
       "}}\n",
       "\n",
       "                        })                };                });            </script>        </div>"
      ]
     },
     "metadata": {},
     "output_type": "display_data"
    }
   ],
   "source": [
    "fig = make_subplots(rows=3, cols=3, vertical_spacing=0.075, shared_xaxes=False, shared_yaxes=False, horizontal_spacing=0.075)\n",
    "for k in range(3):\n",
    "    for l in range(3):\n",
    "        if k!=l:\n",
    "            for i, analyte in enumerate(features):\n",
    "                fig.add_trace(go.Scatter(x=[0]+[pca.components_[l,i]],\n",
    "                                             y=[0]+[pca.components_[k,i]],\n",
    "                                             mode='lines', showlegend=False,\n",
    "                                             line=dict(width=1.5, color='rgb(54, 146, 68)'),\n",
    "                                             name=analyte), row=k+1, col=l+1)\n",
    "                if k==2:\n",
    "                    fig.update_xaxes(title='Principal Component '+str(l+1), ticks='outside', ticklen=4, tickangle=0, nticks=8, title_standoff=0.5,\n",
    "\n",
    "                                      titlefont=dict(family='Myriad Pro', size=16, color='black'),row=k+1, col=l+1)\n",
    "                if l==0:\n",
    "                    fig.update_yaxes(title='Principal Component '+str(k+1), ticks='outside', ticklen=4, tickangle=0, title_standoff=0,\n",
    "                                      titlefont=dict(family='Myriad Pro', size=16, color='black'),row=k+1, col=l+1)\n",
    "\n",
    "                if k!=2:\n",
    "                    fig.update_xaxes(ticks='')\n",
    "\n",
    "                        \n",
    "                        \n",
    "fig.update_layout(height=800, width=800, legend_x= 0.1, legend_y=-0.15, legend_font=dict(family='Myriad Pro', size=12, color='black'), legend_orientation='h')\n",
    "fig.update_xaxes(showline=True, linewidth=1, linecolor='black', mirror=True, side='bottom',\n",
    "                              ticks='outside', ticklen=4, tickangle=0, nticks=8,\n",
    "                              tickfont=dict(size=16, family='Myriad Pro', color='black'), tickcolor='black',\n",
    "                              showgrid=False,zeroline=True)\n",
    "fig.update_yaxes(showgrid=False, zeroline=True,\n",
    "                            tickfont=dict(family='Myriad Pro',size=16, color='black'), tickcolor='black', \n",
    "\n",
    "                              showline=True, linewidth=1, linecolor='black', mirror=True,\n",
    "                              ticks='outside', ticklen=4, tickangle=0)\n",
    "plot(fig)\n",
    "#pio.write_image(fig,\"Figures/si_fig_glc_pca_loadings.svg\",format='svg')\n"
   ]
  },
  {
   "cell_type": "markdown",
   "id": "strange-norfolk",
   "metadata": {},
   "source": [
    "### Plot analyte data for all strains ###"
   ]
  },
  {
   "cell_type": "code",
   "execution_count": 20,
   "id": "composed-albania",
   "metadata": {
    "scrolled": false
   },
   "outputs": [
    {
     "name": "stdout",
     "output_type": "stream",
     "text": [
      "WT\n"
     ]
    },
    {
     "name": "stderr",
     "output_type": "stream",
     "text": [
      "C:\\Users\\User\\anaconda3\\envs\\impact\\lib\\site-packages\\ipykernel_launcher.py:75: RuntimeWarning:\n",
      "\n",
      "invalid value encountered in double_scalars\n",
      "\n"
     ]
    },
    {
     "data": {
      "application/vnd.plotly.v1+json": {
       "config": {
        "linkText": "Export to plot.ly",
        "plotlyServerURL": "https://plot.ly",
        "showLink": false
       },
       "data": [
        {
         "marker": {
          "color": "rgb(54, 146, 68)",
          "line": {
           "color": "rgb(54, 146, 68)",
           "width": 0
          }
         },
         "name": "Bioreactor",
         "type": "bar",
         "x": [
          "Acetate",
          "Formate",
          "Lactate"
         ],
         "y": [
          0.8060154879177284,
          1.3925461071228267,
          0.4919119156905717
         ]
        },
        {
         "marker": {
          "color": "rgb(54, 146, 68)",
          "line": {
           "color": "black",
           "width": 0
          }
         },
         "name": "Bioreactor",
         "showlegend": false,
         "type": "bar",
         "x": [
          "Biomass"
         ],
         "y": [
          0.10306875631951468
         ],
         "yaxis": "y2"
        },
        {
         "error_y": {
          "array": [
           0.07936855840668683,
           0.04267357656923217,
           0.001780659240257601,
           0.0018538350329724887
          ],
          "color": "black",
          "thickness": 1.5,
          "type": "data",
          "width": 3
         },
         "marker": {
          "color": "rgb(33.0, 100.0, 175.0)",
          "line": {
           "color": "rgb(54, 146, 68)",
           "width": 0
          }
         },
         "name": "1.5",
         "type": "bar",
         "x": [
          "Acetate",
          "Formate",
          "Lactate"
         ],
         "y": [
          2.062377419415308,
          2.223839201644462,
          0.04235263626600631
         ]
        },
        {
         "error_y": {
          "array": [
           0.0018538350329724887
          ],
          "color": "black",
          "thickness": 1.5,
          "type": "data",
          "width": 3
         },
         "marker": {
          "color": "rgb(33.0, 100.0, 175.0)",
          "line": {
           "color": "black",
           "width": 0
          }
         },
         "name": "1.5",
         "showlegend": false,
         "type": "bar",
         "x": [
          "Biomass"
         ],
         "y": [
          0.12653681603242514
         ],
         "yaxis": "y2"
        },
        {
         "error_y": {
          "array": [
           0.07939089585125393,
           0.08299021521618477,
           0.006802416317321578,
           0.003656449625330339
          ],
          "color": "black",
          "thickness": 1.5,
          "type": "data",
          "width": 3
         },
         "marker": {
          "color": "rgb(100.0, 144.66666666666666, 194.66666666666666)",
          "line": {
           "color": "rgb(54, 146, 68)",
           "width": 0
          }
         },
         "name": "3",
         "type": "bar",
         "x": [
          "Acetate",
          "Formate",
          "Lactate"
         ],
         "y": [
          1.5848502309235928,
          1.662614927149691,
          0.11505935877409029
         ]
        },
        {
         "error_y": {
          "array": [
           0.003656449625330339
          ],
          "color": "black",
          "thickness": 1.5,
          "type": "data",
          "width": 3
         },
         "marker": {
          "color": "rgb(100.0, 144.66666666666666, 194.66666666666666)",
          "line": {
           "color": "black",
           "width": 0
          }
         },
         "name": "3",
         "showlegend": false,
         "type": "bar",
         "x": [
          "Biomass"
         ],
         "y": [
          0.07722556679902652
         ],
         "yaxis": "y2"
        },
        {
         "error_y": {
          "array": [
           0.03920629020905885,
           0.04799684284723735,
           0.06339106000512008,
           0.0019432308199355383
          ],
          "color": "black",
          "thickness": 1.5,
          "type": "data",
          "width": 3
         },
         "marker": {
          "color": "rgb(167.0, 189.33333333333331, 214.33333333333334)",
          "line": {
           "color": "rgb(54, 146, 68)",
           "width": 0
          }
         },
         "name": "6",
         "type": "bar",
         "x": [
          "Acetate",
          "Formate",
          "Lactate"
         ],
         "y": [
          0.8543244360112493,
          1.0592595069538004,
          0.6468388905028115
         ]
        },
        {
         "error_y": {
          "array": [
           0.0019432308199355383
          ],
          "color": "black",
          "thickness": 1.5,
          "type": "data",
          "width": 3
         },
         "marker": {
          "color": "rgb(167.0, 189.33333333333331, 214.33333333333334)",
          "line": {
           "color": "black",
           "width": 0
          }
         },
         "name": "6",
         "showlegend": false,
         "type": "bar",
         "x": [
          "Biomass"
         ],
         "y": [
          0.042811502398003416
         ],
         "yaxis": "y2"
        },
        {
         "error_y": {
          "array": [
           0.0432707363796022,
           0.02535094192959471,
           0.029605669438819704,
           0.0012374965914344201
          ],
          "color": "black",
          "thickness": 1.5,
          "type": "data",
          "width": 3
         },
         "marker": {
          "color": "rgb(228.33333333333334, 180.0, 170.0)",
          "line": {
           "color": "rgb(54, 146, 68)",
           "width": 0
          }
         },
         "name": "9",
         "type": "bar",
         "x": [
          "Acetate",
          "Formate",
          "Lactate"
         ],
         "y": [
          0.6857645959211721,
          0.8207157968466301,
          0.7855231463598403
         ]
        },
        {
         "error_y": {
          "array": [
           0.0012374965914344201
          ],
          "color": "black",
          "thickness": 1.5,
          "type": "data",
          "width": 3
         },
         "marker": {
          "color": "rgb(228.33333333333334, 180.0, 170.0)",
          "line": {
           "color": "black",
           "width": 0
          }
         },
         "name": "9",
         "showlegend": false,
         "type": "bar",
         "x": [
          "Biomass"
         ],
         "y": [
          0.03501443218643197
         ],
         "yaxis": "y2"
        },
        {
         "error_y": {
          "array": [
           0.06032804983925682,
           0.06310269468569019,
           0.06477507466913479,
           0.0026920180293010542
          ],
          "color": "black",
          "thickness": 1.5,
          "type": "data",
          "width": 3
         },
         "marker": {
          "color": "rgb(222.66666666666666, 126.0, 106.0)",
          "line": {
           "color": "rgb(54, 146, 68)",
           "width": 0
          }
         },
         "name": "12",
         "type": "bar",
         "x": [
          "Acetate",
          "Formate",
          "Lactate"
         ],
         "y": [
          0.6566528338723255,
          0.7815522072804569,
          0.7888748154298689
         ]
        },
        {
         "error_y": {
          "array": [
           0.0026920180293010542
          ],
          "color": "black",
          "thickness": 1.5,
          "type": "data",
          "width": 3
         },
         "marker": {
          "color": "rgb(222.66666666666666, 126.0, 106.0)",
          "line": {
           "color": "black",
           "width": 0
          }
         },
         "name": "12",
         "showlegend": false,
         "type": "bar",
         "x": [
          "Biomass"
         ],
         "y": [
          0.034154456972551636
         ],
         "yaxis": "y2"
        },
        {
         "error_y": {
          "array": [
           0.05888148500001109,
           0.06927872035097629,
           0.07314291578345568,
           0.0031574290913716674
          ],
          "color": "black",
          "thickness": 1.5,
          "type": "data",
          "width": 3
         },
         "marker": {
          "color": "rgb(217.0, 72.0, 42.0)",
          "line": {
           "color": "rgb(54, 146, 68)",
           "width": 0
          }
         },
         "name": "18",
         "type": "bar",
         "x": [
          "Acetate",
          "Formate",
          "Lactate"
         ],
         "y": [
          0.6677341140828211,
          0.7783448679557265,
          0.8175716802460359
         ]
        },
        {
         "error_y": {
          "array": [
           0.0031574290913716674
          ],
          "color": "black",
          "thickness": 1.5,
          "type": "data",
          "width": 3
         },
         "marker": {
          "color": "rgb(217.0, 72.0, 42.0)",
          "line": {
           "color": "black",
           "width": 0
          }
         },
         "name": "18",
         "showlegend": false,
         "type": "bar",
         "x": [
          "Biomass"
         ],
         "y": [
          0.03572561424982006
         ],
         "yaxis": "y2"
        }
       ],
       "layout": {
        "bargap": 0.4,
        "bargroupgap": 0.1,
        "height": 400,
        "legend": {
         "font": {
          "color": "black",
          "family": "Myriad Pro",
          "size": 14
         },
         "orientation": "v",
         "x": 1.15,
         "y": 0
        },
        "template": {
         "data": {
          "scatter": [
           {
            "type": "scatter"
           }
          ]
         }
        },
        "width": 950,
        "xaxis": {
         "linecolor": "black",
         "linewidth": 1,
         "mirror": true,
         "nticks": 8,
         "showgrid": false,
         "showline": true,
         "side": "bottom",
         "tickangle": 0,
         "tickcolor": "black",
         "tickfont": {
          "color": "black",
          "family": "Myriad Pro",
          "size": 16
         },
         "ticklen": 4,
         "ticks": "",
         "title": {
          "font": {
           "color": "black",
           "family": "Myriad Pro",
           "size": 18
          },
          "text": "Product"
         },
         "type": "category",
         "zeroline": false
        },
        "yaxis": {
         "linecolor": "black",
         "linewidth": 1,
         "mirror": true,
         "range": [
          0,
          3
         ],
         "showgrid": true,
         "showline": true,
         "side": "left",
         "tickangle": 0,
         "tickcolor": "black",
         "tickfont": {
          "color": "black",
          "family": "Myriad Pro",
          "size": 16
         },
         "ticklen": 4,
         "ticks": "outside",
         "title": {
          "font": {
           "color": "black",
           "family": "Myriad Pro",
           "size": 18
          },
          "text": "Product Yield<br>(mmol Product/mmol Glucose)"
         },
         "zeroline": false
        },
        "yaxis2": {
         "anchor": "x",
         "linecolor": "black",
         "linewidth": 1,
         "mirror": true,
         "nticks": 6,
         "overlaying": "y",
         "range": [
          0,
          0.15
         ],
         "showgrid": true,
         "showline": true,
         "side": "right",
         "tickangle": 0,
         "tickcolor": "black",
         "tickfont": {
          "color": "black",
          "family": "Myriad Pro",
          "size": 16
         },
         "ticklen": 4,
         "ticks": "outside",
         "title": {
          "font": {
           "color": "black",
           "family": "Myriad Pro",
           "size": 18
          },
          "text": "Biomass Yield<br>(g Biomass/g Glucose)"
         },
         "zeroline": false
        }
       }
      },
      "text/html": [
       "<div>                            <div id=\"287b68a7-9ce9-4aa5-bb52-09d006b95460\" class=\"plotly-graph-div\" style=\"height:400px; width:950px;\"></div>            <script type=\"text/javascript\">                require([\"plotly\"], function(Plotly) {                    window.PLOTLYENV=window.PLOTLYENV || {};                                    if (document.getElementById(\"287b68a7-9ce9-4aa5-bb52-09d006b95460\")) {                    Plotly.newPlot(                        \"287b68a7-9ce9-4aa5-bb52-09d006b95460\",                        [{\"marker\": {\"color\": \"rgb(54, 146, 68)\", \"line\": {\"color\": \"rgb(54, 146, 68)\", \"width\": 0}}, \"name\": \"Bioreactor\", \"type\": \"bar\", \"x\": [\"Acetate\", \"Formate\", \"Lactate\"], \"y\": [0.8060154879177284, 1.3925461071228267, 0.4919119156905717]}, {\"marker\": {\"color\": \"rgb(54, 146, 68)\", \"line\": {\"color\": \"black\", \"width\": 0}}, \"name\": \"Bioreactor\", \"showlegend\": false, \"type\": \"bar\", \"x\": [\"Biomass\"], \"y\": [0.10306875631951468], \"yaxis\": \"y2\"}, {\"error_y\": {\"array\": [0.07936855840668683, 0.04267357656923217, 0.001780659240257601, 0.0018538350329724887], \"color\": \"black\", \"thickness\": 1.5, \"type\": \"data\", \"width\": 3}, \"marker\": {\"color\": \"rgb(33.0, 100.0, 175.0)\", \"line\": {\"color\": \"rgb(54, 146, 68)\", \"width\": 0}}, \"name\": \"1.5\", \"type\": \"bar\", \"x\": [\"Acetate\", \"Formate\", \"Lactate\"], \"y\": [2.062377419415308, 2.223839201644462, 0.04235263626600631]}, {\"error_y\": {\"array\": [0.0018538350329724887], \"color\": \"black\", \"thickness\": 1.5, \"type\": \"data\", \"width\": 3}, \"marker\": {\"color\": \"rgb(33.0, 100.0, 175.0)\", \"line\": {\"color\": \"black\", \"width\": 0}}, \"name\": \"1.5\", \"showlegend\": false, \"type\": \"bar\", \"x\": [\"Biomass\"], \"y\": [0.12653681603242514], \"yaxis\": \"y2\"}, {\"error_y\": {\"array\": [0.07939089585125393, 0.08299021521618477, 0.006802416317321578, 0.003656449625330339], \"color\": \"black\", \"thickness\": 1.5, \"type\": \"data\", \"width\": 3}, \"marker\": {\"color\": \"rgb(100.0, 144.66666666666666, 194.66666666666666)\", \"line\": {\"color\": \"rgb(54, 146, 68)\", \"width\": 0}}, \"name\": \"3\", \"type\": \"bar\", \"x\": [\"Acetate\", \"Formate\", \"Lactate\"], \"y\": [1.5848502309235928, 1.662614927149691, 0.11505935877409029]}, {\"error_y\": {\"array\": [0.003656449625330339], \"color\": \"black\", \"thickness\": 1.5, \"type\": \"data\", \"width\": 3}, \"marker\": {\"color\": \"rgb(100.0, 144.66666666666666, 194.66666666666666)\", \"line\": {\"color\": \"black\", \"width\": 0}}, \"name\": \"3\", \"showlegend\": false, \"type\": \"bar\", \"x\": [\"Biomass\"], \"y\": [0.07722556679902652], \"yaxis\": \"y2\"}, {\"error_y\": {\"array\": [0.03920629020905885, 0.04799684284723735, 0.06339106000512008, 0.0019432308199355383], \"color\": \"black\", \"thickness\": 1.5, \"type\": \"data\", \"width\": 3}, \"marker\": {\"color\": \"rgb(167.0, 189.33333333333331, 214.33333333333334)\", \"line\": {\"color\": \"rgb(54, 146, 68)\", \"width\": 0}}, \"name\": \"6\", \"type\": \"bar\", \"x\": [\"Acetate\", \"Formate\", \"Lactate\"], \"y\": [0.8543244360112493, 1.0592595069538004, 0.6468388905028115]}, {\"error_y\": {\"array\": [0.0019432308199355383], \"color\": \"black\", \"thickness\": 1.5, \"type\": \"data\", \"width\": 3}, \"marker\": {\"color\": \"rgb(167.0, 189.33333333333331, 214.33333333333334)\", \"line\": {\"color\": \"black\", \"width\": 0}}, \"name\": \"6\", \"showlegend\": false, \"type\": \"bar\", \"x\": [\"Biomass\"], \"y\": [0.042811502398003416], \"yaxis\": \"y2\"}, {\"error_y\": {\"array\": [0.0432707363796022, 0.02535094192959471, 0.029605669438819704, 0.0012374965914344201], \"color\": \"black\", \"thickness\": 1.5, \"type\": \"data\", \"width\": 3}, \"marker\": {\"color\": \"rgb(228.33333333333334, 180.0, 170.0)\", \"line\": {\"color\": \"rgb(54, 146, 68)\", \"width\": 0}}, \"name\": \"9\", \"type\": \"bar\", \"x\": [\"Acetate\", \"Formate\", \"Lactate\"], \"y\": [0.6857645959211721, 0.8207157968466301, 0.7855231463598403]}, {\"error_y\": {\"array\": [0.0012374965914344201], \"color\": \"black\", \"thickness\": 1.5, \"type\": \"data\", \"width\": 3}, \"marker\": {\"color\": \"rgb(228.33333333333334, 180.0, 170.0)\", \"line\": {\"color\": \"black\", \"width\": 0}}, \"name\": \"9\", \"showlegend\": false, \"type\": \"bar\", \"x\": [\"Biomass\"], \"y\": [0.03501443218643197], \"yaxis\": \"y2\"}, {\"error_y\": {\"array\": [0.06032804983925682, 0.06310269468569019, 0.06477507466913479, 0.0026920180293010542], \"color\": \"black\", \"thickness\": 1.5, \"type\": \"data\", \"width\": 3}, \"marker\": {\"color\": \"rgb(222.66666666666666, 126.0, 106.0)\", \"line\": {\"color\": \"rgb(54, 146, 68)\", \"width\": 0}}, \"name\": \"12\", \"type\": \"bar\", \"x\": [\"Acetate\", \"Formate\", \"Lactate\"], \"y\": [0.6566528338723255, 0.7815522072804569, 0.7888748154298689]}, {\"error_y\": {\"array\": [0.0026920180293010542], \"color\": \"black\", \"thickness\": 1.5, \"type\": \"data\", \"width\": 3}, \"marker\": {\"color\": \"rgb(222.66666666666666, 126.0, 106.0)\", \"line\": {\"color\": \"black\", \"width\": 0}}, \"name\": \"12\", \"showlegend\": false, \"type\": \"bar\", \"x\": [\"Biomass\"], \"y\": [0.034154456972551636], \"yaxis\": \"y2\"}, {\"error_y\": {\"array\": [0.05888148500001109, 0.06927872035097629, 0.07314291578345568, 0.0031574290913716674], \"color\": \"black\", \"thickness\": 1.5, \"type\": \"data\", \"width\": 3}, \"marker\": {\"color\": \"rgb(217.0, 72.0, 42.0)\", \"line\": {\"color\": \"rgb(54, 146, 68)\", \"width\": 0}}, \"name\": \"18\", \"type\": \"bar\", \"x\": [\"Acetate\", \"Formate\", \"Lactate\"], \"y\": [0.6677341140828211, 0.7783448679557265, 0.8175716802460359]}, {\"error_y\": {\"array\": [0.0031574290913716674], \"color\": \"black\", \"thickness\": 1.5, \"type\": \"data\", \"width\": 3}, \"marker\": {\"color\": \"rgb(217.0, 72.0, 42.0)\", \"line\": {\"color\": \"black\", \"width\": 0}}, \"name\": \"18\", \"showlegend\": false, \"type\": \"bar\", \"x\": [\"Biomass\"], \"y\": [0.03572561424982006], \"yaxis\": \"y2\"}],                        {\"bargap\": 0.4, \"bargroupgap\": 0.1, \"height\": 400, \"legend\": {\"font\": {\"color\": \"black\", \"family\": \"Myriad Pro\", \"size\": 14}, \"orientation\": \"v\", \"x\": 1.15, \"y\": 0}, \"template\": {\"data\": {\"scatter\": [{\"type\": \"scatter\"}]}}, \"width\": 950, \"xaxis\": {\"linecolor\": \"black\", \"linewidth\": 1, \"mirror\": true, \"nticks\": 8, \"showgrid\": false, \"showline\": true, \"side\": \"bottom\", \"tickangle\": 0, \"tickcolor\": \"black\", \"tickfont\": {\"color\": \"black\", \"family\": \"Myriad Pro\", \"size\": 16}, \"ticklen\": 4, \"ticks\": \"\", \"title\": {\"font\": {\"color\": \"black\", \"family\": \"Myriad Pro\", \"size\": 18}, \"text\": \"Product\"}, \"type\": \"category\", \"zeroline\": false}, \"yaxis\": {\"linecolor\": \"black\", \"linewidth\": 1, \"mirror\": true, \"range\": [0, 3], \"showgrid\": true, \"showline\": true, \"side\": \"left\", \"tickangle\": 0, \"tickcolor\": \"black\", \"tickfont\": {\"color\": \"black\", \"family\": \"Myriad Pro\", \"size\": 16}, \"ticklen\": 4, \"ticks\": \"outside\", \"title\": {\"font\": {\"color\": \"black\", \"family\": \"Myriad Pro\", \"size\": 18}, \"text\": \"Product Yield<br>(mmol Product/mmol Glucose)\"}, \"zeroline\": false}, \"yaxis2\": {\"anchor\": \"x\", \"linecolor\": \"black\", \"linewidth\": 1, \"mirror\": true, \"nticks\": 6, \"overlaying\": \"y\", \"range\": [0, 0.15], \"showgrid\": true, \"showline\": true, \"side\": \"right\", \"tickangle\": 0, \"tickcolor\": \"black\", \"tickfont\": {\"color\": \"black\", \"family\": \"Myriad Pro\", \"size\": 16}, \"ticklen\": 4, \"ticks\": \"outside\", \"title\": {\"font\": {\"color\": \"black\", \"family\": \"Myriad Pro\", \"size\": 18}, \"text\": \"Biomass Yield<br>(g Biomass/g Glucose)\"}, \"zeroline\": false}},                        {\"responsive\": true}                    ).then(function(){\n",
       "                            \n",
       "var gd = document.getElementById('287b68a7-9ce9-4aa5-bb52-09d006b95460');\n",
       "var x = new MutationObserver(function (mutations, observer) {{\n",
       "        var display = window.getComputedStyle(gd).display;\n",
       "        if (!display || display === 'none') {{\n",
       "            console.log([gd, 'removed!']);\n",
       "            Plotly.purge(gd);\n",
       "            observer.disconnect();\n",
       "        }}\n",
       "}});\n",
       "\n",
       "// Listen for the removal of the full notebook cells\n",
       "var notebookContainer = gd.closest('#notebook-container');\n",
       "if (notebookContainer) {{\n",
       "    x.observe(notebookContainer, {childList: true});\n",
       "}}\n",
       "\n",
       "// Listen for the clearing of the current output cell\n",
       "var outputEl = gd.closest('.output');\n",
       "if (outputEl) {{\n",
       "    x.observe(outputEl, {childList: true});\n",
       "}}\n",
       "\n",
       "                        })                };                });            </script>        </div>"
      ]
     },
     "metadata": {},
     "output_type": "display_data"
    },
    {
     "data": {
      "application/vnd.plotly.v1+json": {
       "config": {
        "linkText": "Export to plot.ly",
        "plotlyServerURL": "https://plot.ly",
        "showLink": false
       },
       "data": [
        {
         "marker": {
          "color": "rgb(54, 146, 68)",
          "line": {
           "color": "black",
           "width": 0
          }
         },
         "name": "Bioreactor",
         "showlegend": true,
         "type": "bar",
         "x": [
          "Pyruvate",
          "Succinate"
         ],
         "y": [
          0.041742328954125996,
          0.030297716512120546
         ]
        },
        {
         "error_y": {
          "array": [
           null,
           null
          ],
          "color": "black",
          "thickness": 1.5,
          "type": "data",
          "width": 3
         },
         "marker": {
          "color": "rgb(33.0, 100.0, 175.0)",
          "line": {
           "color": "black",
           "width": 0
          }
         },
         "name": "1.5",
         "showlegend": true,
         "type": "bar",
         "x": [
          "Pyruvate",
          "Succinate"
         ],
         "y": [
          0,
          0
         ]
        },
        {
         "error_y": {
          "array": [
           null,
           0.005681167834441147
          ],
          "color": "black",
          "thickness": 1.5,
          "type": "data",
          "width": 3
         },
         "marker": {
          "color": "rgb(100.0, 144.66666666666666, 194.66666666666666)",
          "line": {
           "color": "black",
           "width": 0
          }
         },
         "name": "3",
         "showlegend": true,
         "type": "bar",
         "x": [
          "Pyruvate",
          "Succinate"
         ],
         "y": [
          0,
          0.0466769763962513
         ]
        },
        {
         "error_y": {
          "array": [
           0.0074560237801328645,
           0.0023043276222728306
          ],
          "color": "black",
          "thickness": 1.5,
          "type": "data",
          "width": 3
         },
         "marker": {
          "color": "rgb(167.0, 189.33333333333331, 214.33333333333334)",
          "line": {
           "color": "black",
           "width": 0
          }
         },
         "name": "6",
         "showlegend": true,
         "type": "bar",
         "x": [
          "Pyruvate",
          "Succinate"
         ],
         "y": [
          0.15750132598420888,
          0.04499949981859183
         ]
        },
        {
         "error_y": {
          "array": [
           0.008386602473921827,
           0.0030637840434295763
          ],
          "color": "black",
          "thickness": 1.5,
          "type": "data",
          "width": 3
         },
         "marker": {
          "color": "rgb(228.33333333333334, 180.0, 170.0)",
          "line": {
           "color": "black",
           "width": 0
          }
         },
         "name": "9",
         "showlegend": true,
         "type": "bar",
         "x": [
          "Pyruvate",
          "Succinate"
         ],
         "y": [
          0.22212387196174513,
          0.03533760886222123
         ]
        },
        {
         "error_y": {
          "array": [
           0.02353716431276291,
           0.003395208514400925
          ],
          "color": "black",
          "thickness": 1.5,
          "type": "data",
          "width": 3
         },
         "marker": {
          "color": "rgb(222.66666666666666, 126.0, 106.0)",
          "line": {
           "color": "black",
           "width": 0
          }
         },
         "name": "12",
         "showlegend": true,
         "type": "bar",
         "x": [
          "Pyruvate",
          "Succinate"
         ],
         "y": [
          0.2507470314281738,
          0.0364515518700103
         ]
        },
        {
         "error_y": {
          "array": [
           0.027298242151850706,
           0.003260097463979206
          ],
          "color": "black",
          "thickness": 1.5,
          "type": "data",
          "width": 3
         },
         "marker": {
          "color": "rgb(217.0, 72.0, 42.0)",
          "line": {
           "color": "black",
           "width": 0
          }
         },
         "name": "18",
         "showlegend": true,
         "type": "bar",
         "x": [
          "Pyruvate",
          "Succinate"
         ],
         "y": [
          0.2710016168286836,
          0.03543458442676866
         ]
        }
       ],
       "layout": {
        "bargap": 0.4,
        "bargroupgap": 0.1,
        "height": 400,
        "legend": {
         "font": {
          "color": "black",
          "family": "Myriad Pro",
          "size": 14
         },
         "orientation": "v",
         "x": 1.05,
         "y": 0
        },
        "showlegend": false,
        "template": {
         "data": {
          "scatter": [
           {
            "type": "scatter"
           }
          ]
         }
        },
        "width": 475,
        "xaxis": {
         "linecolor": "black",
         "linewidth": 1,
         "mirror": true,
         "nticks": 8,
         "showgrid": false,
         "showline": true,
         "side": "bottom",
         "tickangle": 0,
         "tickcolor": "black",
         "tickfont": {
          "color": "black",
          "family": "Myriad Pro",
          "size": 16
         },
         "ticklen": 4,
         "ticks": "",
         "title": {
          "font": {
           "color": "black",
           "family": "Myriad Pro",
           "size": 18
          },
          "text": "Product"
         },
         "type": "category",
         "zeroline": false
        },
        "yaxis": {
         "linecolor": "black",
         "linewidth": 1,
         "mirror": true,
         "range": [
          0,
          0.5
         ],
         "showgrid": true,
         "showline": true,
         "side": "left",
         "tickangle": 0,
         "tickcolor": "black",
         "tickfont": {
          "color": "black",
          "family": "Myriad Pro",
          "size": 16
         },
         "ticklen": 4,
         "ticks": "outside",
         "title": {
          "font": {
           "color": "black",
           "family": "Myriad Pro",
           "size": 18
          },
          "text": "Product Yield<br>(mmol Product/mmol Glucose)"
         },
         "zeroline": false
        }
       }
      },
      "text/html": [
       "<div>                            <div id=\"409eaf10-c84e-469d-951b-1b672517838d\" class=\"plotly-graph-div\" style=\"height:400px; width:475px;\"></div>            <script type=\"text/javascript\">                require([\"plotly\"], function(Plotly) {                    window.PLOTLYENV=window.PLOTLYENV || {};                                    if (document.getElementById(\"409eaf10-c84e-469d-951b-1b672517838d\")) {                    Plotly.newPlot(                        \"409eaf10-c84e-469d-951b-1b672517838d\",                        [{\"marker\": {\"color\": \"rgb(54, 146, 68)\", \"line\": {\"color\": \"black\", \"width\": 0}}, \"name\": \"Bioreactor\", \"showlegend\": true, \"type\": \"bar\", \"x\": [\"Pyruvate\", \"Succinate\"], \"y\": [0.041742328954125996, 0.030297716512120546]}, {\"error_y\": {\"array\": [null, null], \"color\": \"black\", \"thickness\": 1.5, \"type\": \"data\", \"width\": 3}, \"marker\": {\"color\": \"rgb(33.0, 100.0, 175.0)\", \"line\": {\"color\": \"black\", \"width\": 0}}, \"name\": \"1.5\", \"showlegend\": true, \"type\": \"bar\", \"x\": [\"Pyruvate\", \"Succinate\"], \"y\": [0.0, 0.0]}, {\"error_y\": {\"array\": [null, 0.005681167834441147], \"color\": \"black\", \"thickness\": 1.5, \"type\": \"data\", \"width\": 3}, \"marker\": {\"color\": \"rgb(100.0, 144.66666666666666, 194.66666666666666)\", \"line\": {\"color\": \"black\", \"width\": 0}}, \"name\": \"3\", \"showlegend\": true, \"type\": \"bar\", \"x\": [\"Pyruvate\", \"Succinate\"], \"y\": [0.0, 0.0466769763962513]}, {\"error_y\": {\"array\": [0.0074560237801328645, 0.0023043276222728306], \"color\": \"black\", \"thickness\": 1.5, \"type\": \"data\", \"width\": 3}, \"marker\": {\"color\": \"rgb(167.0, 189.33333333333331, 214.33333333333334)\", \"line\": {\"color\": \"black\", \"width\": 0}}, \"name\": \"6\", \"showlegend\": true, \"type\": \"bar\", \"x\": [\"Pyruvate\", \"Succinate\"], \"y\": [0.15750132598420888, 0.04499949981859183]}, {\"error_y\": {\"array\": [0.008386602473921827, 0.0030637840434295763], \"color\": \"black\", \"thickness\": 1.5, \"type\": \"data\", \"width\": 3}, \"marker\": {\"color\": \"rgb(228.33333333333334, 180.0, 170.0)\", \"line\": {\"color\": \"black\", \"width\": 0}}, \"name\": \"9\", \"showlegend\": true, \"type\": \"bar\", \"x\": [\"Pyruvate\", \"Succinate\"], \"y\": [0.22212387196174513, 0.03533760886222123]}, {\"error_y\": {\"array\": [0.02353716431276291, 0.003395208514400925], \"color\": \"black\", \"thickness\": 1.5, \"type\": \"data\", \"width\": 3}, \"marker\": {\"color\": \"rgb(222.66666666666666, 126.0, 106.0)\", \"line\": {\"color\": \"black\", \"width\": 0}}, \"name\": \"12\", \"showlegend\": true, \"type\": \"bar\", \"x\": [\"Pyruvate\", \"Succinate\"], \"y\": [0.2507470314281738, 0.0364515518700103]}, {\"error_y\": {\"array\": [0.027298242151850706, 0.003260097463979206], \"color\": \"black\", \"thickness\": 1.5, \"type\": \"data\", \"width\": 3}, \"marker\": {\"color\": \"rgb(217.0, 72.0, 42.0)\", \"line\": {\"color\": \"black\", \"width\": 0}}, \"name\": \"18\", \"showlegend\": true, \"type\": \"bar\", \"x\": [\"Pyruvate\", \"Succinate\"], \"y\": [0.2710016168286836, 0.03543458442676866]}],                        {\"bargap\": 0.4, \"bargroupgap\": 0.1, \"height\": 400, \"legend\": {\"font\": {\"color\": \"black\", \"family\": \"Myriad Pro\", \"size\": 14}, \"orientation\": \"v\", \"x\": 1.05, \"y\": 0}, \"showlegend\": false, \"template\": {\"data\": {\"scatter\": [{\"type\": \"scatter\"}]}}, \"width\": 475, \"xaxis\": {\"linecolor\": \"black\", \"linewidth\": 1, \"mirror\": true, \"nticks\": 8, \"showgrid\": false, \"showline\": true, \"side\": \"bottom\", \"tickangle\": 0, \"tickcolor\": \"black\", \"tickfont\": {\"color\": \"black\", \"family\": \"Myriad Pro\", \"size\": 16}, \"ticklen\": 4, \"ticks\": \"\", \"title\": {\"font\": {\"color\": \"black\", \"family\": \"Myriad Pro\", \"size\": 18}, \"text\": \"Product\"}, \"type\": \"category\", \"zeroline\": false}, \"yaxis\": {\"linecolor\": \"black\", \"linewidth\": 1, \"mirror\": true, \"range\": [0, 0.5], \"showgrid\": true, \"showline\": true, \"side\": \"left\", \"tickangle\": 0, \"tickcolor\": \"black\", \"tickfont\": {\"color\": \"black\", \"family\": \"Myriad Pro\", \"size\": 16}, \"ticklen\": 4, \"ticks\": \"outside\", \"title\": {\"font\": {\"color\": \"black\", \"family\": \"Myriad Pro\", \"size\": 18}, \"text\": \"Product Yield<br>(mmol Product/mmol Glucose)\"}, \"zeroline\": false}},                        {\"responsive\": true}                    ).then(function(){\n",
       "                            \n",
       "var gd = document.getElementById('409eaf10-c84e-469d-951b-1b672517838d');\n",
       "var x = new MutationObserver(function (mutations, observer) {{\n",
       "        var display = window.getComputedStyle(gd).display;\n",
       "        if (!display || display === 'none') {{\n",
       "            console.log([gd, 'removed!']);\n",
       "            Plotly.purge(gd);\n",
       "            observer.disconnect();\n",
       "        }}\n",
       "}});\n",
       "\n",
       "// Listen for the removal of the full notebook cells\n",
       "var notebookContainer = gd.closest('#notebook-container');\n",
       "if (notebookContainer) {{\n",
       "    x.observe(notebookContainer, {childList: true});\n",
       "}}\n",
       "\n",
       "// Listen for the clearing of the current output cell\n",
       "var outputEl = gd.closest('.output');\n",
       "if (outputEl) {{\n",
       "    x.observe(outputEl, {childList: true});\n",
       "}}\n",
       "\n",
       "                        })                };                });            </script>        </div>"
      ]
     },
     "metadata": {},
     "output_type": "display_data"
    }
   ],
   "source": [
    "strain_list = ['WT']\n",
    "analyte_list = ['Acetate', 'Formate', 'Lactate', 'Biomass', 'Pyruvate', 'Succinate', 'Growth Rate']\n",
    "condition_list = ['RDM + 1.5 g/L glc', 'RDM + 3.0 g/L glc', 'RDM + 6.0 g/L glc', 'RDM + 9.0 g/L glc', 'RDM + 12.0 g/L glc', 'RDM + 18.0 g/L glc']\n",
    "condition_titles = ['1.5', '3', '6', '9', '12', '18']\n",
    "\n",
    "colors = ['rgb'+str(color) for color in plotly.colors.n_colors((33,100,175), (234,234,234), 4)][:-1]\n",
    "colors = colors + ['rgb'+str(color) for color in plotly.colors.n_colors((234,234,234), (217,72,42), 4)][1:]\n",
    "\n",
    "od_timepoint = 8\n",
    "hplc_timepoint = 8\n",
    "pts_per_hour = 6\n",
    "ranges= [[(0,3), (0,0.35), (0,0.15)]]\n",
    "\n",
    "for j,strain in enumerate(strain_list):\n",
    "    if strain=='WT':\n",
    "        \n",
    "        print(strain)\n",
    "        trace_list = []\n",
    "        rep = [rep for rep in reactor.replicate_trials if rep.trial_identifier.strain.name == strain][0]\n",
    "        x = [analyte for analyte in analyte_list]\n",
    "        y, yerrs = yield_calculator((rep,rep), od_timepoint=od_timepoint, hplc_timepoint=hplc_timepoint)\n",
    "        \n",
    "        trace_list.append(go.Bar(x=x[:-4],\n",
    "                         y=y[:-4],\n",
    "                         marker=dict(color='rgb(54, 146, 68)', line=dict(width=0, color='rgb(54, 146, 68)')),\n",
    "                         name='Bioreactor'))\n",
    "\n",
    "        trace_list.append(go.Bar(x=x[-4:-3],\n",
    "                         y=y[-4:-3],\n",
    "                         marker=dict(color='rgb(54, 146, 68)', line=dict(width=0, color='black')),showlegend=False,\n",
    "                         name='Bioreactor', yaxis='y2'))\n",
    "        \n",
    "        for i, condition in enumerate(condition_list):\n",
    "            od_rep = [rep for rep in glc_od.replicate_trials if str(rep.trial_identifier.media)==condition_list[i] and rep.trial_identifier.strain.name==strain][0]\n",
    "            hplc_rep = [rep for rep in glc_titers.replicate_trials if str(rep.trial_identifier.media)==condition_list[i] and rep.trial_identifier.strain.name==strain][0]\n",
    "            y, y_errs = yield_calculator((od_rep,hplc_rep), od_timepoint=-1, hplc_timepoint=-1)\n",
    "\n",
    "            trace_list.append(go.Bar(x=x[:-4],\n",
    "                                     y=y[:-4],\n",
    "                                     error_y=dict(type='data', array=y_errs[:-3], thickness=1.5, width=3, color='black'),\n",
    "                                     marker=dict(color=colors[i], line=dict(width=0, color='rgb(54, 146, 68)')),\n",
    "                                     name=condition_titles[i]))\n",
    "            trace_list.append(go.Bar(x=x[-4:-3],\n",
    "                 y=y[-4:-3],\n",
    "                 error_y=dict(type='data', array=y_errs[-4:-3], thickness=1.5, width=3, color='black'),\n",
    "                 marker=dict(color=colors[i], line=dict(width=0, color='black')),showlegend=False,\n",
    "                 yaxis='y2',\n",
    "                 name=condition_titles[i]))\n",
    "\n",
    "        layout = go.Layout(height=400, width=950, legend_x= 1.15, bargroupgap=0.1, bargap=0.4,\n",
    "                           legend_orientation='v',legend_y=-0, legend_font=dict(family='Myriad Pro', color='black', size=14),\n",
    "\n",
    "                           xaxis=dict(title='Product', type='category',\n",
    "                                      titlefont=dict(family='Myriad Pro', size=18, color='black'),\n",
    "                                      showline=True, linewidth=1, linecolor='black', mirror=True, side='bottom',\n",
    "                                      ticks='', ticklen=4, tickangle=0, nticks=8,\n",
    "                                      tickfont=dict(size=16, family='Myriad Pro', color='black'), tickcolor='black',\n",
    "                                      showgrid=False,zeroline=False),\n",
    "\n",
    "                           yaxis=dict(title='Product Yield<br>(mmol Product/mmol Glucose)',\n",
    "                                      titlefont=dict(family='Myriad Pro', size=18, color='black'),\n",
    "                                      showline=True, linewidth=1, linecolor='black', mirror=True, range=ranges[j][0],\n",
    "                                      ticks='outside', ticklen=4, tickangle=0, side='left',\n",
    "                                      tickfont=dict(family='Myriad Pro',size=16, color='black'), tickcolor='black', \n",
    "                                      showgrid=True,zeroline=False),\n",
    "                          \n",
    "                          yaxis2=dict(title='Biomass Yield<br>(g Biomass/g Glucose)',\n",
    "                                      titlefont=dict(family='Myriad Pro', size=18, color='black'),\n",
    "                                      showline=True, linewidth=1, linecolor='black', mirror=True, range=ranges[j][2],\n",
    "                                      ticks='outside', ticklen=4, tickangle=0, side='right', anchor='x', overlaying='y', nticks=6,\n",
    "                                      tickfont=dict(family='Myriad Pro',size=16, color='black'), tickcolor='black', \n",
    "                                      showgrid=True,zeroline=False))\n",
    "\n",
    "        if trace_list:\n",
    "            fig = go.Figure(data=trace_list, layout=layout)\n",
    "            plot(fig)#, image='svg')\n",
    "#             pio.write_image(fig,\"C:/Users/User/OneDrive - University of Toronto/Research/PhD_UofT/Research_Articles/Drafts/Bioreactor_Scale_Down_SLAS/tex_draft/Figures/fig_5.svg\",format='svg')\n",
    "            \n",
    "        trace_list = []\n",
    "        rep = [rep for rep in reactor.replicate_trials if rep.trial_identifier.strain.name == strain][0]\n",
    "        y, yerrs = yield_calculator((rep,rep), od_timepoint=od_timepoint, hplc_timepoint=hplc_timepoint)\n",
    "        \n",
    "        trace_list.append(go.Bar(x=x[-3:-1],\n",
    "                                 y=y[-3:-1],\n",
    "                                 marker=dict(color='rgb(54, 146, 68)', line=dict(width=0, color='black')),showlegend=True,\n",
    "                                 name='Bioreactor'))\n",
    "\n",
    "\n",
    "        for i, condition in enumerate(condition_list):\n",
    "            od_rep = [rep for rep in glc_od.replicate_trials if str(rep.trial_identifier.media)==condition_list[i] and rep.trial_identifier.strain.name==strain][0]\n",
    "            hplc_rep = [rep for rep in glc_titers.replicate_trials if str(rep.trial_identifier.media)==condition_list[i] and rep.trial_identifier.strain.name==strain][0]\n",
    "            y, y_errs = yield_calculator((od_rep,hplc_rep), od_timepoint=-1, hplc_timepoint=-1)\n",
    "\n",
    "            trace_list.append(go.Bar(x=x[-3:-1],\n",
    "                             y=y[-3:-1],\n",
    "                             error_y=dict(type='data', array=y_errs[-3:-1], thickness=1.5, width=3, color='black'),\n",
    "                             marker=dict(color=colors[i], line=dict(width=0, color='black')),showlegend=True,\n",
    "                             name=condition_titles[i]))\n",
    "            \n",
    "\n",
    "\n",
    "        layout = go.Layout(height=400, width=475, legend_x= 1.05, bargroupgap=0.1, bargap=0.4, showlegend=False,\n",
    "                           legend_orientation='v',legend_y=-0, legend_font=dict(family='Myriad Pro', color='black', size=14),\n",
    "\n",
    "                           xaxis=dict(title='Product', type='category',\n",
    "                                      titlefont=dict(family='Myriad Pro', size=18, color='black'),\n",
    "                                      showline=True, linewidth=1, linecolor='black', mirror=True, side='bottom',\n",
    "                                      ticks='', ticklen=4, tickangle=0, nticks=8,\n",
    "                                      tickfont=dict(size=16, family='Myriad Pro', color='black'), tickcolor='black',\n",
    "                                      showgrid=False,zeroline=False),\n",
    "\n",
    "                           yaxis=dict(title='Product Yield<br>(mmol Product/mmol Glucose)',\n",
    "                                      titlefont=dict(family='Myriad Pro', size=18, color='black'),\n",
    "                                      showline=True, linewidth=1, linecolor='black', mirror=True, range=(0,0.5),\n",
    "                                      ticks='outside', ticklen=4, tickangle=0, side='left',\n",
    "                                      tickfont=dict(family='Myriad Pro',size=16, color='black'), tickcolor='black', \n",
    "                                      showgrid=True,zeroline=False))\n",
    "\n",
    "\n",
    "        if trace_list:\n",
    "            fig = go.Figure(data=trace_list, layout=layout)\n",
    "            plot(fig)\n",
    "#             pio.write_image(fig,\"Figures/si_fig_6_\"+strain+\".svg\",format='svg')\n",
    "\n"
   ]
  },
  {
   "cell_type": "code",
   "execution_count": 21,
   "id": "collected-southwest",
   "metadata": {
    "scrolled": false
   },
   "outputs": [
    {
     "name": "stdout",
     "output_type": "stream",
     "text": [
      "Δ(adh,pta)-D1\n"
     ]
    },
    {
     "name": "stderr",
     "output_type": "stream",
     "text": [
      "C:\\Users\\User\\anaconda3\\envs\\impact\\lib\\site-packages\\ipykernel_launcher.py:75: RuntimeWarning:\n",
      "\n",
      "invalid value encountered in double_scalars\n",
      "\n"
     ]
    },
    {
     "data": {
      "application/vnd.plotly.v1+json": {
       "config": {
        "linkText": "Export to plot.ly",
        "plotlyServerURL": "https://plot.ly",
        "showLink": false
       },
       "data": [
        {
         "marker": {
          "color": "rgb(54, 146, 68)",
          "line": {
           "color": "rgb(54, 146, 68)",
           "width": 0
          }
         },
         "name": "Bioreactor",
         "type": "bar",
         "x": [
          "Acetate",
          "Formate",
          "Lactate",
          "Pyruvate",
          "Succinate"
         ],
         "y": [
          0.023084363146880827,
          0.05622689478272353,
          1.4697791812637304,
          0.09466701597908432,
          0.06834418713319285
         ]
        },
        {
         "marker": {
          "color": "rgb(54, 146, 68)",
          "line": {
           "color": "black",
           "width": 0
          }
         },
         "name": "Bioreactor",
         "showlegend": false,
         "type": "bar",
         "x": [
          "Biomass"
         ],
         "y": [
          0.022382474998299203
         ],
         "yaxis": "y2"
        },
        {
         "error_y": {
          "array": [
           0.0058072786084611685,
           null,
           0.024084700290501047,
           0.013512580206084104,
           null
          ],
          "color": "black",
          "thickness": 1.5,
          "type": "data",
          "width": 3
         },
         "marker": {
          "color": "rgb(33.0, 100.0, 175.0)",
          "line": {
           "color": "rgb(54, 146, 68)",
           "width": 0
          }
         },
         "name": "1.5",
         "type": "bar",
         "x": [
          "Acetate",
          "Formate",
          "Lactate",
          "Pyruvate",
          "Succinate"
         ],
         "y": [
          0.2502835196159365,
          0,
          1.2221164387761658,
          0.5404367588878625,
          0
         ]
        },
        {
         "error_y": {
          "array": [
           0.0020275539968390107
          ],
          "color": "black",
          "thickness": 1.5,
          "type": "data",
          "width": 3
         },
         "marker": {
          "color": "rgb(33.0, 100.0, 175.0)",
          "line": {
           "color": "black",
           "width": 0
          }
         },
         "name": "1.5",
         "showlegend": false,
         "type": "bar",
         "x": [
          "Biomass"
         ],
         "y": [
          0.06962958793064625
         ],
         "yaxis": "y2"
        },
        {
         "error_y": {
          "array": [
           0.011952163907975223,
           null,
           0.06558603946840307,
           0.029131984712208916,
           0.003529156564829563
          ],
          "color": "black",
          "thickness": 1.5,
          "type": "data",
          "width": 3
         },
         "marker": {
          "color": "rgb(100.0, 144.66666666666666, 194.66666666666666)",
          "line": {
           "color": "rgb(54, 146, 68)",
           "width": 0
          }
         },
         "name": "3",
         "type": "bar",
         "x": [
          "Acetate",
          "Formate",
          "Lactate",
          "Pyruvate",
          "Succinate"
         ],
         "y": [
          0.2008019223743304,
          0,
          1.2643096918261694,
          0.5009849891568988,
          0.06328632320223598
         ]
        },
        {
         "error_y": {
          "array": [
           0.0026348397284656267
          ],
          "color": "black",
          "thickness": 1.5,
          "type": "data",
          "width": 3
         },
         "marker": {
          "color": "rgb(100.0, 144.66666666666666, 194.66666666666666)",
          "line": {
           "color": "black",
           "width": 0
          }
         },
         "name": "3",
         "showlegend": false,
         "type": "bar",
         "x": [
          "Biomass"
         ],
         "y": [
          0.05477064742467586
         ],
         "yaxis": "y2"
        },
        {
         "error_y": {
          "array": [
           0.004645582039934923,
           null,
           0.0705880656879895,
           0.01809293802343186,
           0.00470891733379205
          ],
          "color": "black",
          "thickness": 1.5,
          "type": "data",
          "width": 3
         },
         "marker": {
          "color": "rgb(167.0, 189.33333333333331, 214.33333333333334)",
          "line": {
           "color": "rgb(54, 146, 68)",
           "width": 0
          }
         },
         "name": "6",
         "type": "bar",
         "x": [
          "Acetate",
          "Formate",
          "Lactate",
          "Pyruvate",
          "Succinate"
         ],
         "y": [
          0.10207768884049367,
          0,
          1.5605106058825757,
          0.32856721061120586,
          0.09851903974282959
         ]
        },
        {
         "error_y": {
          "array": [
           0.0020718007137240945
          ],
          "color": "black",
          "thickness": 1.5,
          "type": "data",
          "width": 3
         },
         "marker": {
          "color": "rgb(167.0, 189.33333333333331, 214.33333333333334)",
          "line": {
           "color": "black",
           "width": 0
          }
         },
         "name": "6",
         "showlegend": false,
         "type": "bar",
         "x": [
          "Biomass"
         ],
         "y": [
          0.04183839411449276
         ],
         "yaxis": "y2"
        },
        {
         "error_y": {
          "array": [
           0.0028197504790158476,
           null,
           0.04962830601130664,
           0.006235846740357794,
           0.0027423394015779964
          ],
          "color": "black",
          "thickness": 1.5,
          "type": "data",
          "width": 3
         },
         "marker": {
          "color": "rgb(228.33333333333334, 180.0, 170.0)",
          "line": {
           "color": "rgb(54, 146, 68)",
           "width": 0
          }
         },
         "name": "9",
         "type": "bar",
         "x": [
          "Acetate",
          "Formate",
          "Lactate",
          "Pyruvate",
          "Succinate"
         ],
         "y": [
          0.08521910008466804,
          0,
          1.6575806297892053,
          0.24405258272219427,
          0.09152200360249767
         ]
        },
        {
         "error_y": {
          "array": [
           0.0014403733100493883
          ],
          "color": "black",
          "thickness": 1.5,
          "type": "data",
          "width": 3
         },
         "marker": {
          "color": "rgb(228.33333333333334, 180.0, 170.0)",
          "line": {
           "color": "black",
           "width": 0
          }
         },
         "name": "9",
         "showlegend": false,
         "type": "bar",
         "x": [
          "Biomass"
         ],
         "y": [
          0.03226350275854624
         ],
         "yaxis": "y2"
        },
        {
         "error_y": {
          "array": [
           0.008476553299886284,
           null,
           0.11988818650181371,
           0.021967308486268634,
           0.004849614419526432
          ],
          "color": "black",
          "thickness": 1.5,
          "type": "data",
          "width": 3
         },
         "marker": {
          "color": "rgb(222.66666666666666, 126.0, 106.0)",
          "line": {
           "color": "rgb(54, 146, 68)",
           "width": 0
          }
         },
         "name": "12",
         "type": "bar",
         "x": [
          "Acetate",
          "Formate",
          "Lactate",
          "Pyruvate",
          "Succinate"
         ],
         "y": [
          0.07113739363331321,
          0,
          1.597788125033129,
          0.26132962683309185,
          0.08134171294694689
         ]
        },
        {
         "error_y": {
          "array": [
           0.001946065096320588
          ],
          "color": "black",
          "thickness": 1.5,
          "type": "data",
          "width": 3
         },
         "marker": {
          "color": "rgb(222.66666666666666, 126.0, 106.0)",
          "line": {
           "color": "black",
           "width": 0
          }
         },
         "name": "12",
         "showlegend": false,
         "type": "bar",
         "x": [
          "Biomass"
         ],
         "y": [
          0.03182950529713834
         ],
         "yaxis": "y2"
        },
        {
         "error_y": {
          "array": [
           0.00638196367332496,
           null,
           0.14967273033534076,
           0.031743541620861175,
           0.011047949907164754
          ],
          "color": "black",
          "thickness": 1.5,
          "type": "data",
          "width": 3
         },
         "marker": {
          "color": "rgb(217.0, 72.0, 42.0)",
          "line": {
           "color": "rgb(54, 146, 68)",
           "width": 0
          }
         },
         "name": "18",
         "type": "bar",
         "x": [
          "Acetate",
          "Formate",
          "Lactate",
          "Pyruvate",
          "Succinate"
         ],
         "y": [
          0.06826431812346644,
          0,
          1.6229511203731442,
          0.2861911565583585,
          0.08041498605937678
         ]
        },
        {
         "error_y": {
          "array": [
           0.002830754960215739
          ],
          "color": "black",
          "thickness": 1.5,
          "type": "data",
          "width": 3
         },
         "marker": {
          "color": "rgb(217.0, 72.0, 42.0)",
          "line": {
           "color": "black",
           "width": 0
          }
         },
         "name": "18",
         "showlegend": false,
         "type": "bar",
         "x": [
          "Biomass"
         ],
         "y": [
          0.030698568455035893
         ],
         "yaxis": "y2"
        }
       ],
       "layout": {
        "bargap": 0.4,
        "bargroupgap": 0.1,
        "height": 425,
        "legend": {
         "font": {
          "color": "black",
          "family": "Myriad Pro",
          "size": 14
         },
         "orientation": "h",
         "x": 0.2,
         "y": -0.2
        },
        "template": {
         "data": {
          "scatter": [
           {
            "type": "scatter"
           }
          ]
         }
        },
        "width": 1000,
        "xaxis": {
         "linecolor": "black",
         "linewidth": 1,
         "mirror": true,
         "nticks": 8,
         "showgrid": false,
         "showline": true,
         "side": "bottom",
         "tickangle": 0,
         "tickcolor": "black",
         "tickfont": {
          "color": "black",
          "family": "Myriad Pro",
          "size": 16
         },
         "ticklen": 4,
         "ticks": "outside",
         "title": {
          "font": {
           "color": "black",
           "family": "Myriad Pro",
           "size": 18
          },
          "standoff": 5,
          "text": "Product"
         },
         "zeroline": false
        },
        "yaxis": {
         "linecolor": "black",
         "linewidth": 1,
         "mirror": true,
         "range": [
          0,
          2.5
         ],
         "showgrid": true,
         "showline": true,
         "side": "left",
         "tickangle": 0,
         "tickcolor": "black",
         "tickfont": {
          "color": "black",
          "family": "Myriad Pro",
          "size": 16
         },
         "ticklen": 4,
         "ticks": "outside",
         "title": {
          "font": {
           "color": "black",
           "family": "Myriad Pro",
           "size": 18
          },
          "text": "Product Yield<br>(mmol Product/mmol Glucose)"
         },
         "zeroline": false
        },
        "yaxis2": {
         "anchor": "x",
         "linecolor": "black",
         "linewidth": 1,
         "mirror": true,
         "overlaying": "y",
         "range": [
          0,
          0.1
         ],
         "showgrid": true,
         "showline": true,
         "side": "right",
         "tickangle": 0,
         "tickcolor": "black",
         "tickfont": {
          "color": "black",
          "family": "Myriad Pro",
          "size": 16
         },
         "ticklen": 4,
         "ticks": "outside",
         "title": {
          "font": {
           "color": "black",
           "family": "Myriad Pro",
           "size": 18
          },
          "text": "Biomass Yield<br>(g Biomass/g Glucose)"
         },
         "zeroline": false
        }
       }
      },
      "text/html": [
       "<div>                            <div id=\"e164fce7-0778-4f9b-9e79-fc10b0acb871\" class=\"plotly-graph-div\" style=\"height:425px; width:1000px;\"></div>            <script type=\"text/javascript\">                require([\"plotly\"], function(Plotly) {                    window.PLOTLYENV=window.PLOTLYENV || {};                                    if (document.getElementById(\"e164fce7-0778-4f9b-9e79-fc10b0acb871\")) {                    Plotly.newPlot(                        \"e164fce7-0778-4f9b-9e79-fc10b0acb871\",                        [{\"marker\": {\"color\": \"rgb(54, 146, 68)\", \"line\": {\"color\": \"rgb(54, 146, 68)\", \"width\": 0}}, \"name\": \"Bioreactor\", \"type\": \"bar\", \"x\": [\"Acetate\", \"Formate\", \"Lactate\", \"Pyruvate\", \"Succinate\"], \"y\": [0.023084363146880827, 0.05622689478272353, 1.4697791812637304, 0.09466701597908432, 0.06834418713319285]}, {\"marker\": {\"color\": \"rgb(54, 146, 68)\", \"line\": {\"color\": \"black\", \"width\": 0}}, \"name\": \"Bioreactor\", \"showlegend\": false, \"type\": \"bar\", \"x\": [\"Biomass\"], \"y\": [0.022382474998299203], \"yaxis\": \"y2\"}, {\"error_y\": {\"array\": [0.0058072786084611685, null, 0.024084700290501047, 0.013512580206084104, null], \"color\": \"black\", \"thickness\": 1.5, \"type\": \"data\", \"width\": 3}, \"marker\": {\"color\": \"rgb(33.0, 100.0, 175.0)\", \"line\": {\"color\": \"rgb(54, 146, 68)\", \"width\": 0}}, \"name\": \"1.5\", \"type\": \"bar\", \"x\": [\"Acetate\", \"Formate\", \"Lactate\", \"Pyruvate\", \"Succinate\"], \"y\": [0.2502835196159365, 0.0, 1.2221164387761658, 0.5404367588878625, 0.0]}, {\"error_y\": {\"array\": [0.0020275539968390107], \"color\": \"black\", \"thickness\": 1.5, \"type\": \"data\", \"width\": 3}, \"marker\": {\"color\": \"rgb(33.0, 100.0, 175.0)\", \"line\": {\"color\": \"black\", \"width\": 0}}, \"name\": \"1.5\", \"showlegend\": false, \"type\": \"bar\", \"x\": [\"Biomass\"], \"y\": [0.06962958793064625], \"yaxis\": \"y2\"}, {\"error_y\": {\"array\": [0.011952163907975223, null, 0.06558603946840307, 0.029131984712208916, 0.003529156564829563], \"color\": \"black\", \"thickness\": 1.5, \"type\": \"data\", \"width\": 3}, \"marker\": {\"color\": \"rgb(100.0, 144.66666666666666, 194.66666666666666)\", \"line\": {\"color\": \"rgb(54, 146, 68)\", \"width\": 0}}, \"name\": \"3\", \"type\": \"bar\", \"x\": [\"Acetate\", \"Formate\", \"Lactate\", \"Pyruvate\", \"Succinate\"], \"y\": [0.2008019223743304, 0.0, 1.2643096918261694, 0.5009849891568988, 0.06328632320223598]}, {\"error_y\": {\"array\": [0.0026348397284656267], \"color\": \"black\", \"thickness\": 1.5, \"type\": \"data\", \"width\": 3}, \"marker\": {\"color\": \"rgb(100.0, 144.66666666666666, 194.66666666666666)\", \"line\": {\"color\": \"black\", \"width\": 0}}, \"name\": \"3\", \"showlegend\": false, \"type\": \"bar\", \"x\": [\"Biomass\"], \"y\": [0.05477064742467586], \"yaxis\": \"y2\"}, {\"error_y\": {\"array\": [0.004645582039934923, null, 0.0705880656879895, 0.01809293802343186, 0.00470891733379205], \"color\": \"black\", \"thickness\": 1.5, \"type\": \"data\", \"width\": 3}, \"marker\": {\"color\": \"rgb(167.0, 189.33333333333331, 214.33333333333334)\", \"line\": {\"color\": \"rgb(54, 146, 68)\", \"width\": 0}}, \"name\": \"6\", \"type\": \"bar\", \"x\": [\"Acetate\", \"Formate\", \"Lactate\", \"Pyruvate\", \"Succinate\"], \"y\": [0.10207768884049367, 0.0, 1.5605106058825757, 0.32856721061120586, 0.09851903974282959]}, {\"error_y\": {\"array\": [0.0020718007137240945], \"color\": \"black\", \"thickness\": 1.5, \"type\": \"data\", \"width\": 3}, \"marker\": {\"color\": \"rgb(167.0, 189.33333333333331, 214.33333333333334)\", \"line\": {\"color\": \"black\", \"width\": 0}}, \"name\": \"6\", \"showlegend\": false, \"type\": \"bar\", \"x\": [\"Biomass\"], \"y\": [0.04183839411449276], \"yaxis\": \"y2\"}, {\"error_y\": {\"array\": [0.0028197504790158476, null, 0.04962830601130664, 0.006235846740357794, 0.0027423394015779964], \"color\": \"black\", \"thickness\": 1.5, \"type\": \"data\", \"width\": 3}, \"marker\": {\"color\": \"rgb(228.33333333333334, 180.0, 170.0)\", \"line\": {\"color\": \"rgb(54, 146, 68)\", \"width\": 0}}, \"name\": \"9\", \"type\": \"bar\", \"x\": [\"Acetate\", \"Formate\", \"Lactate\", \"Pyruvate\", \"Succinate\"], \"y\": [0.08521910008466804, 0.0, 1.6575806297892053, 0.24405258272219427, 0.09152200360249767]}, {\"error_y\": {\"array\": [0.0014403733100493883], \"color\": \"black\", \"thickness\": 1.5, \"type\": \"data\", \"width\": 3}, \"marker\": {\"color\": \"rgb(228.33333333333334, 180.0, 170.0)\", \"line\": {\"color\": \"black\", \"width\": 0}}, \"name\": \"9\", \"showlegend\": false, \"type\": \"bar\", \"x\": [\"Biomass\"], \"y\": [0.03226350275854624], \"yaxis\": \"y2\"}, {\"error_y\": {\"array\": [0.008476553299886284, null, 0.11988818650181371, 0.021967308486268634, 0.004849614419526432], \"color\": \"black\", \"thickness\": 1.5, \"type\": \"data\", \"width\": 3}, \"marker\": {\"color\": \"rgb(222.66666666666666, 126.0, 106.0)\", \"line\": {\"color\": \"rgb(54, 146, 68)\", \"width\": 0}}, \"name\": \"12\", \"type\": \"bar\", \"x\": [\"Acetate\", \"Formate\", \"Lactate\", \"Pyruvate\", \"Succinate\"], \"y\": [0.07113739363331321, 0.0, 1.597788125033129, 0.26132962683309185, 0.08134171294694689]}, {\"error_y\": {\"array\": [0.001946065096320588], \"color\": \"black\", \"thickness\": 1.5, \"type\": \"data\", \"width\": 3}, \"marker\": {\"color\": \"rgb(222.66666666666666, 126.0, 106.0)\", \"line\": {\"color\": \"black\", \"width\": 0}}, \"name\": \"12\", \"showlegend\": false, \"type\": \"bar\", \"x\": [\"Biomass\"], \"y\": [0.03182950529713834], \"yaxis\": \"y2\"}, {\"error_y\": {\"array\": [0.00638196367332496, null, 0.14967273033534076, 0.031743541620861175, 0.011047949907164754], \"color\": \"black\", \"thickness\": 1.5, \"type\": \"data\", \"width\": 3}, \"marker\": {\"color\": \"rgb(217.0, 72.0, 42.0)\", \"line\": {\"color\": \"rgb(54, 146, 68)\", \"width\": 0}}, \"name\": \"18\", \"type\": \"bar\", \"x\": [\"Acetate\", \"Formate\", \"Lactate\", \"Pyruvate\", \"Succinate\"], \"y\": [0.06826431812346644, 0.0, 1.6229511203731442, 0.2861911565583585, 0.08041498605937678]}, {\"error_y\": {\"array\": [0.002830754960215739], \"color\": \"black\", \"thickness\": 1.5, \"type\": \"data\", \"width\": 3}, \"marker\": {\"color\": \"rgb(217.0, 72.0, 42.0)\", \"line\": {\"color\": \"black\", \"width\": 0}}, \"name\": \"18\", \"showlegend\": false, \"type\": \"bar\", \"x\": [\"Biomass\"], \"y\": [0.030698568455035893], \"yaxis\": \"y2\"}],                        {\"bargap\": 0.4, \"bargroupgap\": 0.1, \"height\": 425, \"legend\": {\"font\": {\"color\": \"black\", \"family\": \"Myriad Pro\", \"size\": 14}, \"orientation\": \"h\", \"x\": 0.2, \"y\": -0.2}, \"template\": {\"data\": {\"scatter\": [{\"type\": \"scatter\"}]}}, \"width\": 1000, \"xaxis\": {\"linecolor\": \"black\", \"linewidth\": 1, \"mirror\": true, \"nticks\": 8, \"showgrid\": false, \"showline\": true, \"side\": \"bottom\", \"tickangle\": 0, \"tickcolor\": \"black\", \"tickfont\": {\"color\": \"black\", \"family\": \"Myriad Pro\", \"size\": 16}, \"ticklen\": 4, \"ticks\": \"outside\", \"title\": {\"font\": {\"color\": \"black\", \"family\": \"Myriad Pro\", \"size\": 18}, \"standoff\": 5, \"text\": \"Product\"}, \"zeroline\": false}, \"yaxis\": {\"linecolor\": \"black\", \"linewidth\": 1, \"mirror\": true, \"range\": [0, 2.5], \"showgrid\": true, \"showline\": true, \"side\": \"left\", \"tickangle\": 0, \"tickcolor\": \"black\", \"tickfont\": {\"color\": \"black\", \"family\": \"Myriad Pro\", \"size\": 16}, \"ticklen\": 4, \"ticks\": \"outside\", \"title\": {\"font\": {\"color\": \"black\", \"family\": \"Myriad Pro\", \"size\": 18}, \"text\": \"Product Yield<br>(mmol Product/mmol Glucose)\"}, \"zeroline\": false}, \"yaxis2\": {\"anchor\": \"x\", \"linecolor\": \"black\", \"linewidth\": 1, \"mirror\": true, \"overlaying\": \"y\", \"range\": [0, 0.1], \"showgrid\": true, \"showline\": true, \"side\": \"right\", \"tickangle\": 0, \"tickcolor\": \"black\", \"tickfont\": {\"color\": \"black\", \"family\": \"Myriad Pro\", \"size\": 16}, \"ticklen\": 4, \"ticks\": \"outside\", \"title\": {\"font\": {\"color\": \"black\", \"family\": \"Myriad Pro\", \"size\": 18}, \"text\": \"Biomass Yield<br>(g Biomass/g Glucose)\"}, \"zeroline\": false}},                        {\"responsive\": true}                    ).then(function(){\n",
       "                            \n",
       "var gd = document.getElementById('e164fce7-0778-4f9b-9e79-fc10b0acb871');\n",
       "var x = new MutationObserver(function (mutations, observer) {{\n",
       "        var display = window.getComputedStyle(gd).display;\n",
       "        if (!display || display === 'none') {{\n",
       "            console.log([gd, 'removed!']);\n",
       "            Plotly.purge(gd);\n",
       "            observer.disconnect();\n",
       "        }}\n",
       "}});\n",
       "\n",
       "// Listen for the removal of the full notebook cells\n",
       "var notebookContainer = gd.closest('#notebook-container');\n",
       "if (notebookContainer) {{\n",
       "    x.observe(notebookContainer, {childList: true});\n",
       "}}\n",
       "\n",
       "// Listen for the clearing of the current output cell\n",
       "var outputEl = gd.closest('.output');\n",
       "if (outputEl) {{\n",
       "    x.observe(outputEl, {childList: true});\n",
       "}}\n",
       "\n",
       "                        })                };                });            </script>        </div>"
      ]
     },
     "metadata": {},
     "output_type": "display_data"
    },
    {
     "name": "stdout",
     "output_type": "stream",
     "text": [
      "Δ(adh,pta)-D28\n"
     ]
    },
    {
     "data": {
      "application/vnd.plotly.v1+json": {
       "config": {
        "linkText": "Export to plot.ly",
        "plotlyServerURL": "https://plot.ly",
        "showLink": false
       },
       "data": [
        {
         "marker": {
          "color": "rgb(54, 146, 68)",
          "line": {
           "color": "rgb(54, 146, 68)",
           "width": 0
          }
         },
         "name": "Bioreactor",
         "type": "bar",
         "x": [
          "Acetate",
          "Formate",
          "Lactate",
          "Pyruvate",
          "Succinate"
         ],
         "y": [
          0.04076278880994951,
          0.06546136816937519,
          1.5859815062058398,
          0.08388433316203511,
          0.06384610484559348
         ]
        },
        {
         "marker": {
          "color": "rgb(54, 146, 68)",
          "line": {
           "color": "black",
           "width": 0
          }
         },
         "name": "Bioreactor",
         "showlegend": false,
         "type": "bar",
         "x": [
          "Biomass"
         ],
         "y": [
          0.028287320116113887
         ],
         "yaxis": "y2"
        },
        {
         "error_y": {
          "array": [
           0.01739181685665093,
           null,
           0.055085593816136966,
           0.043172665060814554,
           null
          ],
          "color": "black",
          "thickness": 1.5,
          "type": "data",
          "width": 3
         },
         "marker": {
          "color": "rgb(33.0, 100.0, 175.0)",
          "line": {
           "color": "rgb(54, 146, 68)",
           "width": 0
          }
         },
         "name": "1.5",
         "type": "bar",
         "x": [
          "Acetate",
          "Formate",
          "Lactate",
          "Pyruvate",
          "Succinate"
         ],
         "y": [
          0.35979687117707243,
          0,
          1.1694033457891746,
          0.6173202753843394,
          0
         ]
        },
        {
         "error_y": {
          "array": [
           0.0012122030340639745
          ],
          "color": "black",
          "thickness": 1.5,
          "type": "data",
          "width": 3
         },
         "marker": {
          "color": "rgb(33.0, 100.0, 175.0)",
          "line": {
           "color": "black",
           "width": 0
          }
         },
         "name": "1.5",
         "showlegend": false,
         "type": "bar",
         "x": [
          "Biomass"
         ],
         "y": [
          0.07100878180589958
         ],
         "yaxis": "y2"
        },
        {
         "error_y": {
          "array": [
           0.028521414192890216,
           null,
           0.07481142172138378,
           0.03592038795369897,
           0.003864555759795425
          ],
          "color": "black",
          "thickness": 1.5,
          "type": "data",
          "width": 3
         },
         "marker": {
          "color": "rgb(100.0, 144.66666666666666, 194.66666666666666)",
          "line": {
           "color": "rgb(54, 146, 68)",
           "width": 0
          }
         },
         "name": "3",
         "type": "bar",
         "x": [
          "Acetate",
          "Formate",
          "Lactate",
          "Pyruvate",
          "Succinate"
         ],
         "y": [
          0.30547249341448873,
          0,
          1.111581633706926,
          0.4905592551373693,
          0.06409617610501006
         ]
        },
        {
         "error_y": {
          "array": [
           0.0029374435638019358
          ],
          "color": "black",
          "thickness": 1.5,
          "type": "data",
          "width": 3
         },
         "marker": {
          "color": "rgb(100.0, 144.66666666666666, 194.66666666666666)",
          "line": {
           "color": "black",
           "width": 0
          }
         },
         "name": "3",
         "showlegend": false,
         "type": "bar",
         "x": [
          "Biomass"
         ],
         "y": [
          0.05906522636380456
         ],
         "yaxis": "y2"
        },
        {
         "error_y": {
          "array": [
           0.006894612685798895,
           null,
           0.08404005482699717,
           0.0331315165388413,
           0.005643200234181881
          ],
          "color": "black",
          "thickness": 1.5,
          "type": "data",
          "width": 3
         },
         "marker": {
          "color": "rgb(167.0, 189.33333333333331, 214.33333333333334)",
          "line": {
           "color": "rgb(54, 146, 68)",
           "width": 0
          }
         },
         "name": "6",
         "type": "bar",
         "x": [
          "Acetate",
          "Formate",
          "Lactate",
          "Pyruvate",
          "Succinate"
         ],
         "y": [
          0.1417605528239433,
          0,
          1.3672515365668179,
          0.31812415972948754,
          0.09419874555872525
         ]
        },
        {
         "error_y": {
          "array": [
           0.0019786367661753794
          ],
          "color": "black",
          "thickness": 1.5,
          "type": "data",
          "width": 3
         },
         "marker": {
          "color": "rgb(167.0, 189.33333333333331, 214.33333333333334)",
          "line": {
           "color": "black",
           "width": 0
          }
         },
         "name": "6",
         "showlegend": false,
         "type": "bar",
         "x": [
          "Biomass"
         ],
         "y": [
          0.04364103116652718
         ],
         "yaxis": "y2"
        },
        {
         "error_y": {
          "array": [
           0.010362654341650658,
           0.001451658812876294,
           0.13650978069313874,
           0.014752120201841619,
           0.004701358220680108
          ],
          "color": "black",
          "thickness": 1.5,
          "type": "data",
          "width": 3
         },
         "marker": {
          "color": "rgb(228.33333333333334, 180.0, 170.0)",
          "line": {
           "color": "rgb(54, 146, 68)",
           "width": 0
          }
         },
         "name": "9",
         "type": "bar",
         "x": [
          "Acetate",
          "Formate",
          "Lactate",
          "Pyruvate",
          "Succinate"
         ],
         "y": [
          0.11611778013650859,
          0.02194600730133755,
          1.530208220236068,
          0.22298736120472137,
          0.09356117203925378
         ]
        },
        {
         "error_y": {
          "array": [
           0.0008548237851420311
          ],
          "color": "black",
          "thickness": 1.5,
          "type": "data",
          "width": 3
         },
         "marker": {
          "color": "rgb(228.33333333333334, 180.0, 170.0)",
          "line": {
           "color": "black",
           "width": 0
          }
         },
         "name": "9",
         "showlegend": false,
         "type": "bar",
         "x": [
          "Biomass"
         ],
         "y": [
          0.03335972384087077
         ],
         "yaxis": "y2"
        },
        {
         "error_y": {
          "array": [
           0.008287925249578292,
           0.0027729812895189226,
           0.13068908369219182,
           0.02115373596831419,
           0.008035664207970918
          ],
          "color": "black",
          "thickness": 1.5,
          "type": "data",
          "width": 3
         },
         "marker": {
          "color": "rgb(222.66666666666666, 126.0, 106.0)",
          "line": {
           "color": "rgb(54, 146, 68)",
           "width": 0
          }
         },
         "name": "12",
         "type": "bar",
         "x": [
          "Acetate",
          "Formate",
          "Lactate",
          "Pyruvate",
          "Succinate"
         ],
         "y": [
          0.1049477362758952,
          0.02979674319954508,
          1.6567987526255408,
          0.26607106784303997,
          0.1007553635883177
         ]
        },
        {
         "error_y": {
          "array": [
           0.0025775923991816834
          ],
          "color": "black",
          "thickness": 1.5,
          "type": "data",
          "width": 3
         },
         "marker": {
          "color": "rgb(222.66666666666666, 126.0, 106.0)",
          "line": {
           "color": "black",
           "width": 0
          }
         },
         "name": "12",
         "showlegend": false,
         "type": "bar",
         "x": [
          "Biomass"
         ],
         "y": [
          0.03252970401230984
         ],
         "yaxis": "y2"
        },
        {
         "error_y": {
          "array": [
           0.008213893469700848,
           0.002647940336054223,
           0.13070859490934347,
           0.021349258307937664,
           0.007648850584123952
          ],
          "color": "black",
          "thickness": 1.5,
          "type": "data",
          "width": 3
         },
         "marker": {
          "color": "rgb(217.0, 72.0, 42.0)",
          "line": {
           "color": "rgb(54, 146, 68)",
           "width": 0
          }
         },
         "name": "18",
         "type": "bar",
         "x": [
          "Acetate",
          "Formate",
          "Lactate",
          "Pyruvate",
          "Succinate"
         ],
         "y": [
          0.0993358434223854,
          0.03076474281312717,
          1.5525305820874937,
          0.2789860490386946,
          0.0955947556246284
         ]
        },
        {
         "error_y": {
          "array": [
           0.0024861667046838986
          ],
          "color": "black",
          "thickness": 1.5,
          "type": "data",
          "width": 3
         },
         "marker": {
          "color": "rgb(217.0, 72.0, 42.0)",
          "line": {
           "color": "black",
           "width": 0
          }
         },
         "name": "18",
         "showlegend": false,
         "type": "bar",
         "x": [
          "Biomass"
         ],
         "y": [
          0.03157291080360651
         ],
         "yaxis": "y2"
        }
       ],
       "layout": {
        "bargap": 0.4,
        "bargroupgap": 0.1,
        "height": 425,
        "legend": {
         "font": {
          "color": "black",
          "family": "Myriad Pro",
          "size": 14
         },
         "orientation": "h",
         "x": 0.2,
         "y": -0.2
        },
        "template": {
         "data": {
          "scatter": [
           {
            "type": "scatter"
           }
          ]
         }
        },
        "width": 1000,
        "xaxis": {
         "linecolor": "black",
         "linewidth": 1,
         "mirror": true,
         "nticks": 8,
         "showgrid": false,
         "showline": true,
         "side": "bottom",
         "tickangle": 0,
         "tickcolor": "black",
         "tickfont": {
          "color": "black",
          "family": "Myriad Pro",
          "size": 16
         },
         "ticklen": 4,
         "ticks": "outside",
         "title": {
          "font": {
           "color": "black",
           "family": "Myriad Pro",
           "size": 18
          },
          "standoff": 5,
          "text": "Product"
         },
         "zeroline": false
        },
        "yaxis": {
         "linecolor": "black",
         "linewidth": 1,
         "mirror": true,
         "range": [
          0,
          2.5
         ],
         "showgrid": true,
         "showline": true,
         "side": "left",
         "tickangle": 0,
         "tickcolor": "black",
         "tickfont": {
          "color": "black",
          "family": "Myriad Pro",
          "size": 16
         },
         "ticklen": 4,
         "ticks": "outside",
         "title": {
          "font": {
           "color": "black",
           "family": "Myriad Pro",
           "size": 18
          },
          "text": "Product Yield<br>(mmol Product/mmol Glucose)"
         },
         "zeroline": false
        },
        "yaxis2": {
         "anchor": "x",
         "linecolor": "black",
         "linewidth": 1,
         "mirror": true,
         "overlaying": "y",
         "range": [
          0,
          0.1
         ],
         "showgrid": true,
         "showline": true,
         "side": "right",
         "tickangle": 0,
         "tickcolor": "black",
         "tickfont": {
          "color": "black",
          "family": "Myriad Pro",
          "size": 16
         },
         "ticklen": 4,
         "ticks": "outside",
         "title": {
          "font": {
           "color": "black",
           "family": "Myriad Pro",
           "size": 18
          },
          "text": "Biomass Yield<br>(g Biomass/g Glucose)"
         },
         "zeroline": false
        }
       }
      },
      "text/html": [
       "<div>                            <div id=\"1ed14242-58a9-4d36-86db-e8e6981f5501\" class=\"plotly-graph-div\" style=\"height:425px; width:1000px;\"></div>            <script type=\"text/javascript\">                require([\"plotly\"], function(Plotly) {                    window.PLOTLYENV=window.PLOTLYENV || {};                                    if (document.getElementById(\"1ed14242-58a9-4d36-86db-e8e6981f5501\")) {                    Plotly.newPlot(                        \"1ed14242-58a9-4d36-86db-e8e6981f5501\",                        [{\"marker\": {\"color\": \"rgb(54, 146, 68)\", \"line\": {\"color\": \"rgb(54, 146, 68)\", \"width\": 0}}, \"name\": \"Bioreactor\", \"type\": \"bar\", \"x\": [\"Acetate\", \"Formate\", \"Lactate\", \"Pyruvate\", \"Succinate\"], \"y\": [0.04076278880994951, 0.06546136816937519, 1.5859815062058398, 0.08388433316203511, 0.06384610484559348]}, {\"marker\": {\"color\": \"rgb(54, 146, 68)\", \"line\": {\"color\": \"black\", \"width\": 0}}, \"name\": \"Bioreactor\", \"showlegend\": false, \"type\": \"bar\", \"x\": [\"Biomass\"], \"y\": [0.028287320116113887], \"yaxis\": \"y2\"}, {\"error_y\": {\"array\": [0.01739181685665093, null, 0.055085593816136966, 0.043172665060814554, null], \"color\": \"black\", \"thickness\": 1.5, \"type\": \"data\", \"width\": 3}, \"marker\": {\"color\": \"rgb(33.0, 100.0, 175.0)\", \"line\": {\"color\": \"rgb(54, 146, 68)\", \"width\": 0}}, \"name\": \"1.5\", \"type\": \"bar\", \"x\": [\"Acetate\", \"Formate\", \"Lactate\", \"Pyruvate\", \"Succinate\"], \"y\": [0.35979687117707243, 0.0, 1.1694033457891746, 0.6173202753843394, 0.0]}, {\"error_y\": {\"array\": [0.0012122030340639745], \"color\": \"black\", \"thickness\": 1.5, \"type\": \"data\", \"width\": 3}, \"marker\": {\"color\": \"rgb(33.0, 100.0, 175.0)\", \"line\": {\"color\": \"black\", \"width\": 0}}, \"name\": \"1.5\", \"showlegend\": false, \"type\": \"bar\", \"x\": [\"Biomass\"], \"y\": [0.07100878180589958], \"yaxis\": \"y2\"}, {\"error_y\": {\"array\": [0.028521414192890216, null, 0.07481142172138378, 0.03592038795369897, 0.003864555759795425], \"color\": \"black\", \"thickness\": 1.5, \"type\": \"data\", \"width\": 3}, \"marker\": {\"color\": \"rgb(100.0, 144.66666666666666, 194.66666666666666)\", \"line\": {\"color\": \"rgb(54, 146, 68)\", \"width\": 0}}, \"name\": \"3\", \"type\": \"bar\", \"x\": [\"Acetate\", \"Formate\", \"Lactate\", \"Pyruvate\", \"Succinate\"], \"y\": [0.30547249341448873, 0.0, 1.111581633706926, 0.4905592551373693, 0.06409617610501006]}, {\"error_y\": {\"array\": [0.0029374435638019358], \"color\": \"black\", \"thickness\": 1.5, \"type\": \"data\", \"width\": 3}, \"marker\": {\"color\": \"rgb(100.0, 144.66666666666666, 194.66666666666666)\", \"line\": {\"color\": \"black\", \"width\": 0}}, \"name\": \"3\", \"showlegend\": false, \"type\": \"bar\", \"x\": [\"Biomass\"], \"y\": [0.05906522636380456], \"yaxis\": \"y2\"}, {\"error_y\": {\"array\": [0.006894612685798895, null, 0.08404005482699717, 0.0331315165388413, 0.005643200234181881], \"color\": \"black\", \"thickness\": 1.5, \"type\": \"data\", \"width\": 3}, \"marker\": {\"color\": \"rgb(167.0, 189.33333333333331, 214.33333333333334)\", \"line\": {\"color\": \"rgb(54, 146, 68)\", \"width\": 0}}, \"name\": \"6\", \"type\": \"bar\", \"x\": [\"Acetate\", \"Formate\", \"Lactate\", \"Pyruvate\", \"Succinate\"], \"y\": [0.1417605528239433, 0.0, 1.3672515365668179, 0.31812415972948754, 0.09419874555872525]}, {\"error_y\": {\"array\": [0.0019786367661753794], \"color\": \"black\", \"thickness\": 1.5, \"type\": \"data\", \"width\": 3}, \"marker\": {\"color\": \"rgb(167.0, 189.33333333333331, 214.33333333333334)\", \"line\": {\"color\": \"black\", \"width\": 0}}, \"name\": \"6\", \"showlegend\": false, \"type\": \"bar\", \"x\": [\"Biomass\"], \"y\": [0.04364103116652718], \"yaxis\": \"y2\"}, {\"error_y\": {\"array\": [0.010362654341650658, 0.001451658812876294, 0.13650978069313874, 0.014752120201841619, 0.004701358220680108], \"color\": \"black\", \"thickness\": 1.5, \"type\": \"data\", \"width\": 3}, \"marker\": {\"color\": \"rgb(228.33333333333334, 180.0, 170.0)\", \"line\": {\"color\": \"rgb(54, 146, 68)\", \"width\": 0}}, \"name\": \"9\", \"type\": \"bar\", \"x\": [\"Acetate\", \"Formate\", \"Lactate\", \"Pyruvate\", \"Succinate\"], \"y\": [0.11611778013650859, 0.02194600730133755, 1.530208220236068, 0.22298736120472137, 0.09356117203925378]}, {\"error_y\": {\"array\": [0.0008548237851420311], \"color\": \"black\", \"thickness\": 1.5, \"type\": \"data\", \"width\": 3}, \"marker\": {\"color\": \"rgb(228.33333333333334, 180.0, 170.0)\", \"line\": {\"color\": \"black\", \"width\": 0}}, \"name\": \"9\", \"showlegend\": false, \"type\": \"bar\", \"x\": [\"Biomass\"], \"y\": [0.03335972384087077], \"yaxis\": \"y2\"}, {\"error_y\": {\"array\": [0.008287925249578292, 0.0027729812895189226, 0.13068908369219182, 0.02115373596831419, 0.008035664207970918], \"color\": \"black\", \"thickness\": 1.5, \"type\": \"data\", \"width\": 3}, \"marker\": {\"color\": \"rgb(222.66666666666666, 126.0, 106.0)\", \"line\": {\"color\": \"rgb(54, 146, 68)\", \"width\": 0}}, \"name\": \"12\", \"type\": \"bar\", \"x\": [\"Acetate\", \"Formate\", \"Lactate\", \"Pyruvate\", \"Succinate\"], \"y\": [0.1049477362758952, 0.02979674319954508, 1.6567987526255408, 0.26607106784303997, 0.1007553635883177]}, {\"error_y\": {\"array\": [0.0025775923991816834], \"color\": \"black\", \"thickness\": 1.5, \"type\": \"data\", \"width\": 3}, \"marker\": {\"color\": \"rgb(222.66666666666666, 126.0, 106.0)\", \"line\": {\"color\": \"black\", \"width\": 0}}, \"name\": \"12\", \"showlegend\": false, \"type\": \"bar\", \"x\": [\"Biomass\"], \"y\": [0.03252970401230984], \"yaxis\": \"y2\"}, {\"error_y\": {\"array\": [0.008213893469700848, 0.002647940336054223, 0.13070859490934347, 0.021349258307937664, 0.007648850584123952], \"color\": \"black\", \"thickness\": 1.5, \"type\": \"data\", \"width\": 3}, \"marker\": {\"color\": \"rgb(217.0, 72.0, 42.0)\", \"line\": {\"color\": \"rgb(54, 146, 68)\", \"width\": 0}}, \"name\": \"18\", \"type\": \"bar\", \"x\": [\"Acetate\", \"Formate\", \"Lactate\", \"Pyruvate\", \"Succinate\"], \"y\": [0.0993358434223854, 0.03076474281312717, 1.5525305820874937, 0.2789860490386946, 0.0955947556246284]}, {\"error_y\": {\"array\": [0.0024861667046838986], \"color\": \"black\", \"thickness\": 1.5, \"type\": \"data\", \"width\": 3}, \"marker\": {\"color\": \"rgb(217.0, 72.0, 42.0)\", \"line\": {\"color\": \"black\", \"width\": 0}}, \"name\": \"18\", \"showlegend\": false, \"type\": \"bar\", \"x\": [\"Biomass\"], \"y\": [0.03157291080360651], \"yaxis\": \"y2\"}],                        {\"bargap\": 0.4, \"bargroupgap\": 0.1, \"height\": 425, \"legend\": {\"font\": {\"color\": \"black\", \"family\": \"Myriad Pro\", \"size\": 14}, \"orientation\": \"h\", \"x\": 0.2, \"y\": -0.2}, \"template\": {\"data\": {\"scatter\": [{\"type\": \"scatter\"}]}}, \"width\": 1000, \"xaxis\": {\"linecolor\": \"black\", \"linewidth\": 1, \"mirror\": true, \"nticks\": 8, \"showgrid\": false, \"showline\": true, \"side\": \"bottom\", \"tickangle\": 0, \"tickcolor\": \"black\", \"tickfont\": {\"color\": \"black\", \"family\": \"Myriad Pro\", \"size\": 16}, \"ticklen\": 4, \"ticks\": \"outside\", \"title\": {\"font\": {\"color\": \"black\", \"family\": \"Myriad Pro\", \"size\": 18}, \"standoff\": 5, \"text\": \"Product\"}, \"zeroline\": false}, \"yaxis\": {\"linecolor\": \"black\", \"linewidth\": 1, \"mirror\": true, \"range\": [0, 2.5], \"showgrid\": true, \"showline\": true, \"side\": \"left\", \"tickangle\": 0, \"tickcolor\": \"black\", \"tickfont\": {\"color\": \"black\", \"family\": \"Myriad Pro\", \"size\": 16}, \"ticklen\": 4, \"ticks\": \"outside\", \"title\": {\"font\": {\"color\": \"black\", \"family\": \"Myriad Pro\", \"size\": 18}, \"text\": \"Product Yield<br>(mmol Product/mmol Glucose)\"}, \"zeroline\": false}, \"yaxis2\": {\"anchor\": \"x\", \"linecolor\": \"black\", \"linewidth\": 1, \"mirror\": true, \"overlaying\": \"y\", \"range\": [0, 0.1], \"showgrid\": true, \"showline\": true, \"side\": \"right\", \"tickangle\": 0, \"tickcolor\": \"black\", \"tickfont\": {\"color\": \"black\", \"family\": \"Myriad Pro\", \"size\": 16}, \"ticklen\": 4, \"ticks\": \"outside\", \"title\": {\"font\": {\"color\": \"black\", \"family\": \"Myriad Pro\", \"size\": 18}, \"text\": \"Biomass Yield<br>(g Biomass/g Glucose)\"}, \"zeroline\": false}},                        {\"responsive\": true}                    ).then(function(){\n",
       "                            \n",
       "var gd = document.getElementById('1ed14242-58a9-4d36-86db-e8e6981f5501');\n",
       "var x = new MutationObserver(function (mutations, observer) {{\n",
       "        var display = window.getComputedStyle(gd).display;\n",
       "        if (!display || display === 'none') {{\n",
       "            console.log([gd, 'removed!']);\n",
       "            Plotly.purge(gd);\n",
       "            observer.disconnect();\n",
       "        }}\n",
       "}});\n",
       "\n",
       "// Listen for the removal of the full notebook cells\n",
       "var notebookContainer = gd.closest('#notebook-container');\n",
       "if (notebookContainer) {{\n",
       "    x.observe(notebookContainer, {childList: true});\n",
       "}}\n",
       "\n",
       "// Listen for the clearing of the current output cell\n",
       "var outputEl = gd.closest('.output');\n",
       "if (outputEl) {{\n",
       "    x.observe(outputEl, {childList: true});\n",
       "}}\n",
       "\n",
       "                        })                };                });            </script>        </div>"
      ]
     },
     "metadata": {},
     "output_type": "display_data"
    },
    {
     "name": "stdout",
     "output_type": "stream",
     "text": [
      "Δ(adh,pta)-D59\n"
     ]
    },
    {
     "data": {
      "application/vnd.plotly.v1+json": {
       "config": {
        "linkText": "Export to plot.ly",
        "plotlyServerURL": "https://plot.ly",
        "showLink": false
       },
       "data": [
        {
         "marker": {
          "color": "rgb(54, 146, 68)",
          "line": {
           "color": "rgb(54, 146, 68)",
           "width": 0
          }
         },
         "name": "Bioreactor",
         "type": "bar",
         "x": [
          "Acetate",
          "Formate",
          "Lactate",
          "Pyruvate",
          "Succinate"
         ],
         "y": [
          0.037518394104790194,
          0.06117061103732149,
          1.6465656989667692,
          0.05467648476575785,
          0.09459001292832869
         ]
        },
        {
         "marker": {
          "color": "rgb(54, 146, 68)",
          "line": {
           "color": "black",
           "width": 0
          }
         },
         "name": "Bioreactor",
         "showlegend": false,
         "type": "bar",
         "x": [
          "Biomass"
         ],
         "y": [
          0.028843086354111286
         ],
         "yaxis": "y2"
        },
        {
         "error_y": {
          "array": [
           0.006638296060648617,
           0.003632619851863573,
           0.019173980898910904,
           0.010899891959967177,
           0.007241031228199023
          ],
          "color": "black",
          "thickness": 1.5,
          "type": "data",
          "width": 3
         },
         "marker": {
          "color": "rgb(33.0, 100.0, 175.0)",
          "line": {
           "color": "rgb(54, 146, 68)",
           "width": 0
          }
         },
         "name": "1.5",
         "type": "bar",
         "x": [
          "Acetate",
          "Formate",
          "Lactate",
          "Pyruvate",
          "Succinate"
         ],
         "y": [
          0.20067906633432417,
          0.11904173180077972,
          1.6067816011348042,
          0.06430257743341718,
          0.037085004122457875
         ]
        },
        {
         "error_y": {
          "array": [
           0.0014726351705406742
          ],
          "color": "black",
          "thickness": 1.5,
          "type": "data",
          "width": 3
         },
         "marker": {
          "color": "rgb(33.0, 100.0, 175.0)",
          "line": {
           "color": "black",
           "width": 0
          }
         },
         "name": "1.5",
         "showlegend": false,
         "type": "bar",
         "x": [
          "Biomass"
         ],
         "y": [
          0.07891240711551449
         ],
         "yaxis": "y2"
        },
        {
         "error_y": {
          "array": [
           0.0060469421088994455,
           null,
           0.10868938717103224,
           0.01965960749617315,
           0.006246645401590023
          ],
          "color": "black",
          "thickness": 1.5,
          "type": "data",
          "width": 3
         },
         "marker": {
          "color": "rgb(100.0, 144.66666666666666, 194.66666666666666)",
          "line": {
           "color": "rgb(54, 146, 68)",
           "width": 0
          }
         },
         "name": "3",
         "type": "bar",
         "x": [
          "Acetate",
          "Formate",
          "Lactate",
          "Pyruvate",
          "Succinate"
         ],
         "y": [
          0.12038852460066889,
          0,
          1.5177434729017885,
          0.08968880037892749,
          0.1321017330406841
         ]
        },
        {
         "error_y": {
          "array": [
           0.0034691137072630873
          ],
          "color": "black",
          "thickness": 1.5,
          "type": "data",
          "width": 3
         },
         "marker": {
          "color": "rgb(100.0, 144.66666666666666, 194.66666666666666)",
          "line": {
           "color": "black",
           "width": 0
          }
         },
         "name": "3",
         "showlegend": false,
         "type": "bar",
         "x": [
          "Biomass"
         ],
         "y": [
          0.06214508347209769
         ],
         "yaxis": "y2"
        },
        {
         "error_y": {
          "array": [
           0.003836357887265095,
           null,
           0.09085490888501105,
           0.014162731907256657,
           0.008854773992864651
          ],
          "color": "black",
          "thickness": 1.5,
          "type": "data",
          "width": 3
         },
         "marker": {
          "color": "rgb(167.0, 189.33333333333331, 214.33333333333334)",
          "line": {
           "color": "rgb(54, 146, 68)",
           "width": 0
          }
         },
         "name": "6",
         "type": "bar",
         "x": [
          "Acetate",
          "Formate",
          "Lactate",
          "Pyruvate",
          "Succinate"
         ],
         "y": [
          0.07881532029847148,
          0,
          1.59984149973231,
          0.11341132516630838,
          0.16753875304046062
         ]
        },
        {
         "error_y": {
          "array": [
           0.0019885819297393065
          ],
          "color": "black",
          "thickness": 1.5,
          "type": "data",
          "width": 3
         },
         "marker": {
          "color": "rgb(167.0, 189.33333333333331, 214.33333333333334)",
          "line": {
           "color": "black",
           "width": 0
          }
         },
         "name": "6",
         "showlegend": false,
         "type": "bar",
         "x": [
          "Biomass"
         ],
         "y": [
          0.04361772768503715
         ],
         "yaxis": "y2"
        },
        {
         "error_y": {
          "array": [
           0.012163221935603435,
           0.001971318221480522,
           0.045780802223337094,
           0.0041223164722794005,
           0.012892243414059402
          ],
          "color": "black",
          "thickness": 1.5,
          "type": "data",
          "width": 3
         },
         "marker": {
          "color": "rgb(228.33333333333334, 180.0, 170.0)",
          "line": {
           "color": "rgb(54, 146, 68)",
           "width": 0
          }
         },
         "name": "9",
         "type": "bar",
         "x": [
          "Acetate",
          "Formate",
          "Lactate",
          "Pyruvate",
          "Succinate"
         ],
         "y": [
          0.08885622605286939,
          0.025224616736665234,
          1.7138505250720717,
          0.14301513426538126,
          0.14330313469315853
         ]
        },
        {
         "error_y": {
          "array": [
           0.0008558062561514401
          ],
          "color": "black",
          "thickness": 1.5,
          "type": "data",
          "width": 3
         },
         "marker": {
          "color": "rgb(228.33333333333334, 180.0, 170.0)",
          "line": {
           "color": "black",
           "width": 0
          }
         },
         "name": "9",
         "showlegend": false,
         "type": "bar",
         "x": [
          "Biomass"
         ],
         "y": [
          0.03413372236263326
         ],
         "yaxis": "y2"
        },
        {
         "error_y": {
          "array": [
           0.009269431529823607,
           0.0039750075177459425,
           0.14102603289666246,
           0.017897184040294965,
           0.013150938909213702
          ],
          "color": "black",
          "thickness": 1.5,
          "type": "data",
          "width": 3
         },
         "marker": {
          "color": "rgb(222.66666666666666, 126.0, 106.0)",
          "line": {
           "color": "rgb(54, 146, 68)",
           "width": 0
          }
         },
         "name": "12",
         "type": "bar",
         "x": [
          "Acetate",
          "Formate",
          "Lactate",
          "Pyruvate",
          "Succinate"
         ],
         "y": [
          0.0933124826444155,
          0.03080509470714537,
          1.8822281699567676,
          0.17605014959101176,
          0.16046587786502664
         ]
        },
        {
         "error_y": {
          "array": [
           0.0025343255165127736
          ],
          "color": "black",
          "thickness": 1.5,
          "type": "data",
          "width": 3
         },
         "marker": {
          "color": "rgb(222.66666666666666, 126.0, 106.0)",
          "line": {
           "color": "black",
           "width": 0
          }
         },
         "name": "12",
         "showlegend": false,
         "type": "bar",
         "x": [
          "Biomass"
         ],
         "y": [
          0.03475056656981224
         ],
         "yaxis": "y2"
        },
        {
         "error_y": {
          "array": [
           0.010130560205632558,
           0.0036488056260803228,
           0.19687746730507577,
           0.022020525740445763,
           0.016892922739017102
          ],
          "color": "black",
          "thickness": 1.5,
          "type": "data",
          "width": 3
         },
         "marker": {
          "color": "rgb(217.0, 72.0, 42.0)",
          "line": {
           "color": "rgb(54, 146, 68)",
           "width": 0
          }
         },
         "name": "18",
         "type": "bar",
         "x": [
          "Acetate",
          "Formate",
          "Lactate",
          "Pyruvate",
          "Succinate"
         ],
         "y": [
          0.08172666140623476,
          0.030010397087699967,
          1.6195840380706472,
          0.1806698545040976,
          0.13877349292094324
         ]
        },
        {
         "error_y": {
          "array": [
           0.003655752159908005
          ],
          "color": "black",
          "thickness": 1.5,
          "type": "data",
          "width": 3
         },
         "marker": {
          "color": "rgb(217.0, 72.0, 42.0)",
          "line": {
           "color": "black",
           "width": 0
          }
         },
         "name": "18",
         "showlegend": false,
         "type": "bar",
         "x": [
          "Biomass"
         ],
         "y": [
          0.030675124225261807
         ],
         "yaxis": "y2"
        }
       ],
       "layout": {
        "bargap": 0.4,
        "bargroupgap": 0.1,
        "height": 425,
        "legend": {
         "font": {
          "color": "black",
          "family": "Myriad Pro",
          "size": 14
         },
         "orientation": "h",
         "x": 0.2,
         "y": -0.2
        },
        "template": {
         "data": {
          "scatter": [
           {
            "type": "scatter"
           }
          ]
         }
        },
        "width": 1000,
        "xaxis": {
         "linecolor": "black",
         "linewidth": 1,
         "mirror": true,
         "nticks": 8,
         "showgrid": false,
         "showline": true,
         "side": "bottom",
         "tickangle": 0,
         "tickcolor": "black",
         "tickfont": {
          "color": "black",
          "family": "Myriad Pro",
          "size": 16
         },
         "ticklen": 4,
         "ticks": "outside",
         "title": {
          "font": {
           "color": "black",
           "family": "Myriad Pro",
           "size": 18
          },
          "standoff": 5,
          "text": "Product"
         },
         "zeroline": false
        },
        "yaxis": {
         "linecolor": "black",
         "linewidth": 1,
         "mirror": true,
         "range": [
          0,
          2.5
         ],
         "showgrid": true,
         "showline": true,
         "side": "left",
         "tickangle": 0,
         "tickcolor": "black",
         "tickfont": {
          "color": "black",
          "family": "Myriad Pro",
          "size": 16
         },
         "ticklen": 4,
         "ticks": "outside",
         "title": {
          "font": {
           "color": "black",
           "family": "Myriad Pro",
           "size": 18
          },
          "text": "Product Yield<br>(mmol Product/mmol Glucose)"
         },
         "zeroline": false
        },
        "yaxis2": {
         "anchor": "x",
         "linecolor": "black",
         "linewidth": 1,
         "mirror": true,
         "overlaying": "y",
         "range": [
          0,
          0.1
         ],
         "showgrid": true,
         "showline": true,
         "side": "right",
         "tickangle": 0,
         "tickcolor": "black",
         "tickfont": {
          "color": "black",
          "family": "Myriad Pro",
          "size": 16
         },
         "ticklen": 4,
         "ticks": "outside",
         "title": {
          "font": {
           "color": "black",
           "family": "Myriad Pro",
           "size": 18
          },
          "text": "Biomass Yield<br>(g Biomass/g Glucose)"
         },
         "zeroline": false
        }
       }
      },
      "text/html": [
       "<div>                            <div id=\"8e71d44c-6279-433a-8c92-10f387933f25\" class=\"plotly-graph-div\" style=\"height:425px; width:1000px;\"></div>            <script type=\"text/javascript\">                require([\"plotly\"], function(Plotly) {                    window.PLOTLYENV=window.PLOTLYENV || {};                                    if (document.getElementById(\"8e71d44c-6279-433a-8c92-10f387933f25\")) {                    Plotly.newPlot(                        \"8e71d44c-6279-433a-8c92-10f387933f25\",                        [{\"marker\": {\"color\": \"rgb(54, 146, 68)\", \"line\": {\"color\": \"rgb(54, 146, 68)\", \"width\": 0}}, \"name\": \"Bioreactor\", \"type\": \"bar\", \"x\": [\"Acetate\", \"Formate\", \"Lactate\", \"Pyruvate\", \"Succinate\"], \"y\": [0.037518394104790194, 0.06117061103732149, 1.6465656989667692, 0.05467648476575785, 0.09459001292832869]}, {\"marker\": {\"color\": \"rgb(54, 146, 68)\", \"line\": {\"color\": \"black\", \"width\": 0}}, \"name\": \"Bioreactor\", \"showlegend\": false, \"type\": \"bar\", \"x\": [\"Biomass\"], \"y\": [0.028843086354111286], \"yaxis\": \"y2\"}, {\"error_y\": {\"array\": [0.006638296060648617, 0.003632619851863573, 0.019173980898910904, 0.010899891959967177, 0.007241031228199023], \"color\": \"black\", \"thickness\": 1.5, \"type\": \"data\", \"width\": 3}, \"marker\": {\"color\": \"rgb(33.0, 100.0, 175.0)\", \"line\": {\"color\": \"rgb(54, 146, 68)\", \"width\": 0}}, \"name\": \"1.5\", \"type\": \"bar\", \"x\": [\"Acetate\", \"Formate\", \"Lactate\", \"Pyruvate\", \"Succinate\"], \"y\": [0.20067906633432417, 0.11904173180077972, 1.6067816011348042, 0.06430257743341718, 0.037085004122457875]}, {\"error_y\": {\"array\": [0.0014726351705406742], \"color\": \"black\", \"thickness\": 1.5, \"type\": \"data\", \"width\": 3}, \"marker\": {\"color\": \"rgb(33.0, 100.0, 175.0)\", \"line\": {\"color\": \"black\", \"width\": 0}}, \"name\": \"1.5\", \"showlegend\": false, \"type\": \"bar\", \"x\": [\"Biomass\"], \"y\": [0.07891240711551449], \"yaxis\": \"y2\"}, {\"error_y\": {\"array\": [0.0060469421088994455, null, 0.10868938717103224, 0.01965960749617315, 0.006246645401590023], \"color\": \"black\", \"thickness\": 1.5, \"type\": \"data\", \"width\": 3}, \"marker\": {\"color\": \"rgb(100.0, 144.66666666666666, 194.66666666666666)\", \"line\": {\"color\": \"rgb(54, 146, 68)\", \"width\": 0}}, \"name\": \"3\", \"type\": \"bar\", \"x\": [\"Acetate\", \"Formate\", \"Lactate\", \"Pyruvate\", \"Succinate\"], \"y\": [0.12038852460066889, 0.0, 1.5177434729017885, 0.08968880037892749, 0.1321017330406841]}, {\"error_y\": {\"array\": [0.0034691137072630873], \"color\": \"black\", \"thickness\": 1.5, \"type\": \"data\", \"width\": 3}, \"marker\": {\"color\": \"rgb(100.0, 144.66666666666666, 194.66666666666666)\", \"line\": {\"color\": \"black\", \"width\": 0}}, \"name\": \"3\", \"showlegend\": false, \"type\": \"bar\", \"x\": [\"Biomass\"], \"y\": [0.06214508347209769], \"yaxis\": \"y2\"}, {\"error_y\": {\"array\": [0.003836357887265095, null, 0.09085490888501105, 0.014162731907256657, 0.008854773992864651], \"color\": \"black\", \"thickness\": 1.5, \"type\": \"data\", \"width\": 3}, \"marker\": {\"color\": \"rgb(167.0, 189.33333333333331, 214.33333333333334)\", \"line\": {\"color\": \"rgb(54, 146, 68)\", \"width\": 0}}, \"name\": \"6\", \"type\": \"bar\", \"x\": [\"Acetate\", \"Formate\", \"Lactate\", \"Pyruvate\", \"Succinate\"], \"y\": [0.07881532029847148, 0.0, 1.59984149973231, 0.11341132516630838, 0.16753875304046062]}, {\"error_y\": {\"array\": [0.0019885819297393065], \"color\": \"black\", \"thickness\": 1.5, \"type\": \"data\", \"width\": 3}, \"marker\": {\"color\": \"rgb(167.0, 189.33333333333331, 214.33333333333334)\", \"line\": {\"color\": \"black\", \"width\": 0}}, \"name\": \"6\", \"showlegend\": false, \"type\": \"bar\", \"x\": [\"Biomass\"], \"y\": [0.04361772768503715], \"yaxis\": \"y2\"}, {\"error_y\": {\"array\": [0.012163221935603435, 0.001971318221480522, 0.045780802223337094, 0.0041223164722794005, 0.012892243414059402], \"color\": \"black\", \"thickness\": 1.5, \"type\": \"data\", \"width\": 3}, \"marker\": {\"color\": \"rgb(228.33333333333334, 180.0, 170.0)\", \"line\": {\"color\": \"rgb(54, 146, 68)\", \"width\": 0}}, \"name\": \"9\", \"type\": \"bar\", \"x\": [\"Acetate\", \"Formate\", \"Lactate\", \"Pyruvate\", \"Succinate\"], \"y\": [0.08885622605286939, 0.025224616736665234, 1.7138505250720717, 0.14301513426538126, 0.14330313469315853]}, {\"error_y\": {\"array\": [0.0008558062561514401], \"color\": \"black\", \"thickness\": 1.5, \"type\": \"data\", \"width\": 3}, \"marker\": {\"color\": \"rgb(228.33333333333334, 180.0, 170.0)\", \"line\": {\"color\": \"black\", \"width\": 0}}, \"name\": \"9\", \"showlegend\": false, \"type\": \"bar\", \"x\": [\"Biomass\"], \"y\": [0.03413372236263326], \"yaxis\": \"y2\"}, {\"error_y\": {\"array\": [0.009269431529823607, 0.0039750075177459425, 0.14102603289666246, 0.017897184040294965, 0.013150938909213702], \"color\": \"black\", \"thickness\": 1.5, \"type\": \"data\", \"width\": 3}, \"marker\": {\"color\": \"rgb(222.66666666666666, 126.0, 106.0)\", \"line\": {\"color\": \"rgb(54, 146, 68)\", \"width\": 0}}, \"name\": \"12\", \"type\": \"bar\", \"x\": [\"Acetate\", \"Formate\", \"Lactate\", \"Pyruvate\", \"Succinate\"], \"y\": [0.0933124826444155, 0.03080509470714537, 1.8822281699567676, 0.17605014959101176, 0.16046587786502664]}, {\"error_y\": {\"array\": [0.0025343255165127736], \"color\": \"black\", \"thickness\": 1.5, \"type\": \"data\", \"width\": 3}, \"marker\": {\"color\": \"rgb(222.66666666666666, 126.0, 106.0)\", \"line\": {\"color\": \"black\", \"width\": 0}}, \"name\": \"12\", \"showlegend\": false, \"type\": \"bar\", \"x\": [\"Biomass\"], \"y\": [0.03475056656981224], \"yaxis\": \"y2\"}, {\"error_y\": {\"array\": [0.010130560205632558, 0.0036488056260803228, 0.19687746730507577, 0.022020525740445763, 0.016892922739017102], \"color\": \"black\", \"thickness\": 1.5, \"type\": \"data\", \"width\": 3}, \"marker\": {\"color\": \"rgb(217.0, 72.0, 42.0)\", \"line\": {\"color\": \"rgb(54, 146, 68)\", \"width\": 0}}, \"name\": \"18\", \"type\": \"bar\", \"x\": [\"Acetate\", \"Formate\", \"Lactate\", \"Pyruvate\", \"Succinate\"], \"y\": [0.08172666140623476, 0.030010397087699967, 1.6195840380706472, 0.1806698545040976, 0.13877349292094324]}, {\"error_y\": {\"array\": [0.003655752159908005], \"color\": \"black\", \"thickness\": 1.5, \"type\": \"data\", \"width\": 3}, \"marker\": {\"color\": \"rgb(217.0, 72.0, 42.0)\", \"line\": {\"color\": \"black\", \"width\": 0}}, \"name\": \"18\", \"showlegend\": false, \"type\": \"bar\", \"x\": [\"Biomass\"], \"y\": [0.030675124225261807], \"yaxis\": \"y2\"}],                        {\"bargap\": 0.4, \"bargroupgap\": 0.1, \"height\": 425, \"legend\": {\"font\": {\"color\": \"black\", \"family\": \"Myriad Pro\", \"size\": 14}, \"orientation\": \"h\", \"x\": 0.2, \"y\": -0.2}, \"template\": {\"data\": {\"scatter\": [{\"type\": \"scatter\"}]}}, \"width\": 1000, \"xaxis\": {\"linecolor\": \"black\", \"linewidth\": 1, \"mirror\": true, \"nticks\": 8, \"showgrid\": false, \"showline\": true, \"side\": \"bottom\", \"tickangle\": 0, \"tickcolor\": \"black\", \"tickfont\": {\"color\": \"black\", \"family\": \"Myriad Pro\", \"size\": 16}, \"ticklen\": 4, \"ticks\": \"outside\", \"title\": {\"font\": {\"color\": \"black\", \"family\": \"Myriad Pro\", \"size\": 18}, \"standoff\": 5, \"text\": \"Product\"}, \"zeroline\": false}, \"yaxis\": {\"linecolor\": \"black\", \"linewidth\": 1, \"mirror\": true, \"range\": [0, 2.5], \"showgrid\": true, \"showline\": true, \"side\": \"left\", \"tickangle\": 0, \"tickcolor\": \"black\", \"tickfont\": {\"color\": \"black\", \"family\": \"Myriad Pro\", \"size\": 16}, \"ticklen\": 4, \"ticks\": \"outside\", \"title\": {\"font\": {\"color\": \"black\", \"family\": \"Myriad Pro\", \"size\": 18}, \"text\": \"Product Yield<br>(mmol Product/mmol Glucose)\"}, \"zeroline\": false}, \"yaxis2\": {\"anchor\": \"x\", \"linecolor\": \"black\", \"linewidth\": 1, \"mirror\": true, \"overlaying\": \"y\", \"range\": [0, 0.1], \"showgrid\": true, \"showline\": true, \"side\": \"right\", \"tickangle\": 0, \"tickcolor\": \"black\", \"tickfont\": {\"color\": \"black\", \"family\": \"Myriad Pro\", \"size\": 16}, \"ticklen\": 4, \"ticks\": \"outside\", \"title\": {\"font\": {\"color\": \"black\", \"family\": \"Myriad Pro\", \"size\": 18}, \"text\": \"Biomass Yield<br>(g Biomass/g Glucose)\"}, \"zeroline\": false}},                        {\"responsive\": true}                    ).then(function(){\n",
       "                            \n",
       "var gd = document.getElementById('8e71d44c-6279-433a-8c92-10f387933f25');\n",
       "var x = new MutationObserver(function (mutations, observer) {{\n",
       "        var display = window.getComputedStyle(gd).display;\n",
       "        if (!display || display === 'none') {{\n",
       "            console.log([gd, 'removed!']);\n",
       "            Plotly.purge(gd);\n",
       "            observer.disconnect();\n",
       "        }}\n",
       "}});\n",
       "\n",
       "// Listen for the removal of the full notebook cells\n",
       "var notebookContainer = gd.closest('#notebook-container');\n",
       "if (notebookContainer) {{\n",
       "    x.observe(notebookContainer, {childList: true});\n",
       "}}\n",
       "\n",
       "// Listen for the clearing of the current output cell\n",
       "var outputEl = gd.closest('.output');\n",
       "if (outputEl) {{\n",
       "    x.observe(outputEl, {childList: true});\n",
       "}}\n",
       "\n",
       "                        })                };                });            </script>        </div>"
      ]
     },
     "metadata": {},
     "output_type": "display_data"
    }
   ],
   "source": [
    "strain_list = ['Δ(adh,pta)-D1', 'Δ(adh,pta)-D28', 'Δ(adh,pta)-D59']\n",
    "analyte_list = ['Acetate', 'Formate', 'Lactate', 'Pyruvate', 'Succinate', 'Biomass']\n",
    "condition_list = ['RDM + 1.5 g/L glc', 'RDM + 3.0 g/L glc', 'RDM + 6.0 g/L glc', 'RDM + 9.0 g/L glc', 'RDM + 12.0 g/L glc', 'RDM + 18.0 g/L glc']\n",
    "condition_titles = ['1.5', '3', '6', '9', '12', '18']\n",
    "\n",
    "colors = ['rgb'+str(color) for color in plotly.colors.n_colors((33,100,175), (234,234,234), 4)][:-1]\n",
    "colors = colors + ['rgb'+str(color) for color in plotly.colors.n_colors((234,234,234), (217,72,42), 4)][1:]\n",
    "\n",
    "od_timepoint = 8\n",
    "hplc_timepoint = 8\n",
    "pts_per_hour = 6\n",
    "ranges= [(0,2.5), (0,0.1)]\n",
    "\n",
    "for strain in strain_list:\n",
    "    print(strain)\n",
    "    trace_list = []\n",
    "    rep = [rep for rep in reactor.replicate_trials if rep.trial_identifier.strain.name == strain][0]\n",
    "    x = [analyte for analyte in analyte_list]\n",
    "    y, yerrs = yield_calculator((rep,rep), od_timepoint=od_timepoint, hplc_timepoint=hplc_timepoint)\n",
    "    \n",
    "    trace_list.append(go.Bar(x=x[:-1],\n",
    "                     y=y[:-1],\n",
    "                     marker=dict(color='rgb(54, 146, 68)', line=dict(width=0, color='rgb(54, 146, 68)')),\n",
    "                     name='Bioreactor'))\n",
    "    \n",
    "    trace_list.append(go.Bar(x=x[-1:],\n",
    "                             y=y[-1:],\n",
    "                             marker=dict(color='rgb(54, 146, 68)', line=dict(width=0, color='black')),showlegend=False,\n",
    "                             name='Bioreactor', yaxis='y2'))\n",
    "\n",
    "    for i, condition in enumerate(condition_list):\n",
    "        od_rep = [rep for rep in glc_od.replicate_trials if str(rep.trial_identifier.media)==condition_list[i] and rep.trial_identifier.strain.name==strain][0]\n",
    "        hplc_rep = [rep for rep in glc_titers.replicate_trials if str(rep.trial_identifier.media)==condition_list[i] and rep.trial_identifier.strain.name==strain][0]\n",
    "        y, y_errs = yield_calculator((od_rep,hplc_rep), od_timepoint=-1, hplc_timepoint=-1)\n",
    "\n",
    "        trace_list.append(go.Bar(x=x[:-1],\n",
    "                                 y=y[:-1],\n",
    "                                 error_y=dict(type='data', array=y_errs[:-1], thickness=1.5, width=3, color='black'),\n",
    "                                 marker=dict(color=colors[i], line=dict(width=0, color='rgb(54, 146, 68)')),\n",
    "                                 name=condition_titles[i]))\n",
    "\n",
    "        trace_list.append(go.Bar(x=x[-1:],\n",
    "                         y=y[-1:],\n",
    "                         error_y=dict(type='data', array=y_errs[-1:], thickness=1.5, width=3, color='black'),\n",
    "                         marker=dict(color=colors[i], line=dict(width=0, color='black')),showlegend=False,\n",
    "                         yaxis='y2',\n",
    "                         name=condition_titles[i]))\n",
    "\n",
    "\n",
    "\n",
    "    layout = go.Layout(height=425, width=1000, legend_x= 0.2, bargroupgap=0.1, bargap=0.4,\n",
    "                       legend_orientation='h',legend_y=-0.2, legend_font=dict(family='Myriad Pro', color='black', size=14),\n",
    "\n",
    "                       xaxis=dict(title='Product', title_standoff=5,\n",
    "                                  titlefont=dict(family='Myriad Pro', size=18, color='black'),\n",
    "                                  showline=True, linewidth=1, linecolor='black', mirror=True, side='bottom',\n",
    "                                  ticks='outside', ticklen=4, tickangle=0, nticks=8,\n",
    "                                  tickfont=dict(size=16, family='Myriad Pro', color='black'), tickcolor='black',\n",
    "                                  showgrid=False,zeroline=False),\n",
    "\n",
    "                       yaxis=dict(title='Product Yield<br>(mmol Product/mmol Glucose)',\n",
    "                                  titlefont=dict(family='Myriad Pro', size=18, color='black'),\n",
    "                                  showline=True, linewidth=1, linecolor='black', mirror=True, range=ranges[0],\n",
    "                                  ticks='outside', ticklen=4, tickangle=0, side='left',\n",
    "                                  tickfont=dict(family='Myriad Pro',size=16, color='black'), tickcolor='black', \n",
    "                                  showgrid=True,zeroline=False),\n",
    "                       \n",
    "                      yaxis2=dict(title='Biomass Yield<br>(g Biomass/g Glucose)',\n",
    "                                  titlefont=dict(family='Myriad Pro', size=18, color='black'),\n",
    "                                  showline=True, linewidth=1, linecolor='black', mirror=True, range=ranges[1],\n",
    "                                  ticks='outside', ticklen=4, tickangle=0, side='right', anchor='x', overlaying='y', \n",
    "                                  tickfont=dict(family='Myriad Pro',size=16, color='black'), tickcolor='black', \n",
    "                                  showgrid=True,zeroline=False))\n",
    "\n",
    "    if trace_list:\n",
    "        fig = go.Figure(data=trace_list, layout=layout)\n",
    "        plot(fig)\n",
    "#         pio.write_image(fig,\"Figures/si_fig_6_\"+strain+\".svg\",format='svg')"
   ]
  },
  {
   "cell_type": "markdown",
   "id": "soviet-ozone",
   "metadata": {},
   "source": [
    "### Plot growth rate and biomass yield comparisons for different strains at different glucose concentrations ###"
   ]
  },
  {
   "cell_type": "code",
   "execution_count": 22,
   "id": "anticipated-terry",
   "metadata": {},
   "outputs": [
    {
     "name": "stdout",
     "output_type": "stream",
     "text": [
      "Biomass\n"
     ]
    },
    {
     "data": {
      "application/vnd.plotly.v1+json": {
       "config": {
        "linkText": "Export to plot.ly",
        "plotlyServerURL": "https://plot.ly",
        "showLink": false
       },
       "data": [
        {
         "error_y": {
          "array": [
           null,
           0.0018538350329724887,
           0.003656449625330339,
           0.0019432308199355383,
           0.0012374965914344201,
           0.0026920180293010542,
           0.0031574290913716674
          ],
          "color": "black",
          "thickness": 1.5,
          "type": "data",
          "width": 3
         },
         "marker": {
          "color": "rgb(175, 127, 91)",
          "line": {
           "color": "rgb(175, 127, 91)",
           "width": 0
          }
         },
         "name": "WT",
         "type": "bar",
         "x": [
          "Bioreactor",
          "RDM + 1.5 g/L glc",
          "RDM + 3.0 g/L glc",
          "RDM + 6.0 g/L glc",
          "RDM + 9.0 g/L glc",
          "RDM + 12.0 g/L glc",
          "RDM + 18.0 g/L glc"
         ],
         "y": [
          0.10306875631951468,
          0.12653681603242514,
          0.07722556679902652,
          0.042811502398003416,
          0.03501443218643197,
          0.034154456972551636,
          0.03572561424982006
         ]
        },
        {
         "error_y": {
          "array": [
           null,
           0.0020275539968390107,
           0.0026348397284656267,
           0.0020718007137240945,
           0.0014403733100493883,
           0.001946065096320588,
           0.002830754960215739
          ],
          "color": "black",
          "thickness": 1.5,
          "type": "data",
          "width": 3
         },
         "marker": {
          "color": "rgb(217, 72, 42)",
          "line": {
           "color": "rgb(217, 72, 42)",
           "width": 0
          }
         },
         "name": "Δ(adh,pta)-D1",
         "type": "bar",
         "x": [
          "Bioreactor",
          "RDM + 1.5 g/L glc",
          "RDM + 3.0 g/L glc",
          "RDM + 6.0 g/L glc",
          "RDM + 9.0 g/L glc",
          "RDM + 12.0 g/L glc",
          "RDM + 18.0 g/L glc"
         ],
         "y": [
          0.022382474998299203,
          0.06962958793064625,
          0.05477064742467586,
          0.04183839411449276,
          0.03226350275854624,
          0.03182950529713834,
          0.030698568455035893
         ]
        },
        {
         "error_y": {
          "array": [
           null,
           0.0012122030340639745,
           0.0029374435638019358,
           0.0019786367661753794,
           0.0008548237851420311,
           0.0025775923991816834,
           0.0024861667046838986
          ],
          "color": "black",
          "thickness": 1.5,
          "type": "data",
          "width": 3
         },
         "marker": {
          "color": "rgb(33, 100, 175)",
          "line": {
           "color": "rgb(33, 100, 175)",
           "width": 0
          }
         },
         "name": "Δ(adh,pta)-D28",
         "type": "bar",
         "x": [
          "Bioreactor",
          "RDM + 1.5 g/L glc",
          "RDM + 3.0 g/L glc",
          "RDM + 6.0 g/L glc",
          "RDM + 9.0 g/L glc",
          "RDM + 12.0 g/L glc",
          "RDM + 18.0 g/L glc"
         ],
         "y": [
          0.028287320116113887,
          0.07100878180589958,
          0.05906522636380456,
          0.04364103116652718,
          0.03335972384087077,
          0.03252970401230984,
          0.03157291080360651
         ]
        },
        {
         "error_y": {
          "array": [
           null,
           0.0014726351705406742,
           0.0034691137072630873,
           0.0019885819297393065,
           0.0008558062561514401,
           0.0025343255165127736,
           0.003655752159908005
          ],
          "color": "black",
          "thickness": 1.5,
          "type": "data",
          "width": 3
         },
         "marker": {
          "color": "rgb(54, 146, 68)",
          "line": {
           "color": "rgb(54, 146, 68)",
           "width": 0
          }
         },
         "name": "Δ(adh,pta)-D59",
         "type": "bar",
         "x": [
          "Bioreactor",
          "RDM + 1.5 g/L glc",
          "RDM + 3.0 g/L glc",
          "RDM + 6.0 g/L glc",
          "RDM + 9.0 g/L glc",
          "RDM + 12.0 g/L glc",
          "RDM + 18.0 g/L glc"
         ],
         "y": [
          0.028843086354111286,
          0.07891240711551449,
          0.06214508347209769,
          0.04361772768503715,
          0.03413372236263326,
          0.03475056656981224,
          0.030675124225261807
         ]
        }
       ],
       "layout": {
        "bargap": 0.4,
        "bargroupgap": 0.1,
        "height": 425,
        "legend": {
         "font": {
          "color": "black",
          "family": "Myriad Pro",
          "size": 14
         },
         "orientation": "h",
         "x": 0.2,
         "y": -0.2
        },
        "template": {
         "data": {
          "scatter": [
           {
            "type": "scatter"
           }
          ]
         }
        },
        "width": 800,
        "xaxis": {
         "linecolor": "black",
         "linewidth": 1,
         "mirror": true,
         "nticks": 8,
         "showgrid": false,
         "showline": true,
         "side": "bottom",
         "tickangle": 0,
         "tickcolor": "black",
         "tickfont": {
          "color": "black",
          "family": "Myriad Pro",
          "size": 16
         },
         "ticklen": 4,
         "ticks": "outside",
         "title": {
          "font": {
           "color": "black",
           "family": "Myriad Pro",
           "size": 18
          },
          "standoff": 5,
          "text": "Product"
         },
         "zeroline": false
        },
        "yaxis": {
         "linecolor": "black",
         "linewidth": 1,
         "mirror": true,
         "showgrid": true,
         "showline": true,
         "side": "left",
         "tickangle": 0,
         "tickcolor": "black",
         "tickfont": {
          "color": "black",
          "family": "Myriad Pro",
          "size": 16
         },
         "ticklen": 4,
         "ticks": "outside",
         "title": {
          "font": {
           "color": "black",
           "family": "Myriad Pro",
           "size": 18
          },
          "text": "Product Yield<br>(mmol Product/mmol Glucose)"
         },
         "zeroline": false
        }
       }
      },
      "text/html": [
       "<div>                            <div id=\"dacee74b-709f-4751-a5bd-fbb181f53044\" class=\"plotly-graph-div\" style=\"height:425px; width:800px;\"></div>            <script type=\"text/javascript\">                require([\"plotly\"], function(Plotly) {                    window.PLOTLYENV=window.PLOTLYENV || {};                                    if (document.getElementById(\"dacee74b-709f-4751-a5bd-fbb181f53044\")) {                    Plotly.newPlot(                        \"dacee74b-709f-4751-a5bd-fbb181f53044\",                        [{\"error_y\": {\"array\": [null, 0.0018538350329724887, 0.003656449625330339, 0.0019432308199355383, 0.0012374965914344201, 0.0026920180293010542, 0.0031574290913716674], \"color\": \"black\", \"thickness\": 1.5, \"type\": \"data\", \"width\": 3}, \"marker\": {\"color\": \"rgb(175, 127, 91)\", \"line\": {\"color\": \"rgb(175, 127, 91)\", \"width\": 0}}, \"name\": \"WT\", \"type\": \"bar\", \"x\": [\"Bioreactor\", \"RDM + 1.5 g/L glc\", \"RDM + 3.0 g/L glc\", \"RDM + 6.0 g/L glc\", \"RDM + 9.0 g/L glc\", \"RDM + 12.0 g/L glc\", \"RDM + 18.0 g/L glc\"], \"y\": [0.10306875631951468, 0.12653681603242514, 0.07722556679902652, 0.042811502398003416, 0.03501443218643197, 0.034154456972551636, 0.03572561424982006]}, {\"error_y\": {\"array\": [null, 0.0020275539968390107, 0.0026348397284656267, 0.0020718007137240945, 0.0014403733100493883, 0.001946065096320588, 0.002830754960215739], \"color\": \"black\", \"thickness\": 1.5, \"type\": \"data\", \"width\": 3}, \"marker\": {\"color\": \"rgb(217, 72, 42)\", \"line\": {\"color\": \"rgb(217, 72, 42)\", \"width\": 0}}, \"name\": \"\\u0394(adh,pta)-D1\", \"type\": \"bar\", \"x\": [\"Bioreactor\", \"RDM + 1.5 g/L glc\", \"RDM + 3.0 g/L glc\", \"RDM + 6.0 g/L glc\", \"RDM + 9.0 g/L glc\", \"RDM + 12.0 g/L glc\", \"RDM + 18.0 g/L glc\"], \"y\": [0.022382474998299203, 0.06962958793064625, 0.05477064742467586, 0.04183839411449276, 0.03226350275854624, 0.03182950529713834, 0.030698568455035893]}, {\"error_y\": {\"array\": [null, 0.0012122030340639745, 0.0029374435638019358, 0.0019786367661753794, 0.0008548237851420311, 0.0025775923991816834, 0.0024861667046838986], \"color\": \"black\", \"thickness\": 1.5, \"type\": \"data\", \"width\": 3}, \"marker\": {\"color\": \"rgb(33, 100, 175)\", \"line\": {\"color\": \"rgb(33, 100, 175)\", \"width\": 0}}, \"name\": \"\\u0394(adh,pta)-D28\", \"type\": \"bar\", \"x\": [\"Bioreactor\", \"RDM + 1.5 g/L glc\", \"RDM + 3.0 g/L glc\", \"RDM + 6.0 g/L glc\", \"RDM + 9.0 g/L glc\", \"RDM + 12.0 g/L glc\", \"RDM + 18.0 g/L glc\"], \"y\": [0.028287320116113887, 0.07100878180589958, 0.05906522636380456, 0.04364103116652718, 0.03335972384087077, 0.03252970401230984, 0.03157291080360651]}, {\"error_y\": {\"array\": [null, 0.0014726351705406742, 0.0034691137072630873, 0.0019885819297393065, 0.0008558062561514401, 0.0025343255165127736, 0.003655752159908005], \"color\": \"black\", \"thickness\": 1.5, \"type\": \"data\", \"width\": 3}, \"marker\": {\"color\": \"rgb(54, 146, 68)\", \"line\": {\"color\": \"rgb(54, 146, 68)\", \"width\": 0}}, \"name\": \"\\u0394(adh,pta)-D59\", \"type\": \"bar\", \"x\": [\"Bioreactor\", \"RDM + 1.5 g/L glc\", \"RDM + 3.0 g/L glc\", \"RDM + 6.0 g/L glc\", \"RDM + 9.0 g/L glc\", \"RDM + 12.0 g/L glc\", \"RDM + 18.0 g/L glc\"], \"y\": [0.028843086354111286, 0.07891240711551449, 0.06214508347209769, 0.04361772768503715, 0.03413372236263326, 0.03475056656981224, 0.030675124225261807]}],                        {\"bargap\": 0.4, \"bargroupgap\": 0.1, \"height\": 425, \"legend\": {\"font\": {\"color\": \"black\", \"family\": \"Myriad Pro\", \"size\": 14}, \"orientation\": \"h\", \"x\": 0.2, \"y\": -0.2}, \"template\": {\"data\": {\"scatter\": [{\"type\": \"scatter\"}]}}, \"width\": 800, \"xaxis\": {\"linecolor\": \"black\", \"linewidth\": 1, \"mirror\": true, \"nticks\": 8, \"showgrid\": false, \"showline\": true, \"side\": \"bottom\", \"tickangle\": 0, \"tickcolor\": \"black\", \"tickfont\": {\"color\": \"black\", \"family\": \"Myriad Pro\", \"size\": 16}, \"ticklen\": 4, \"ticks\": \"outside\", \"title\": {\"font\": {\"color\": \"black\", \"family\": \"Myriad Pro\", \"size\": 18}, \"standoff\": 5, \"text\": \"Product\"}, \"zeroline\": false}, \"yaxis\": {\"linecolor\": \"black\", \"linewidth\": 1, \"mirror\": true, \"showgrid\": true, \"showline\": true, \"side\": \"left\", \"tickangle\": 0, \"tickcolor\": \"black\", \"tickfont\": {\"color\": \"black\", \"family\": \"Myriad Pro\", \"size\": 16}, \"ticklen\": 4, \"ticks\": \"outside\", \"title\": {\"font\": {\"color\": \"black\", \"family\": \"Myriad Pro\", \"size\": 18}, \"text\": \"Product Yield<br>(mmol Product/mmol Glucose)\"}, \"zeroline\": false}},                        {\"responsive\": true}                    ).then(function(){\n",
       "                            \n",
       "var gd = document.getElementById('dacee74b-709f-4751-a5bd-fbb181f53044');\n",
       "var x = new MutationObserver(function (mutations, observer) {{\n",
       "        var display = window.getComputedStyle(gd).display;\n",
       "        if (!display || display === 'none') {{\n",
       "            console.log([gd, 'removed!']);\n",
       "            Plotly.purge(gd);\n",
       "            observer.disconnect();\n",
       "        }}\n",
       "}});\n",
       "\n",
       "// Listen for the removal of the full notebook cells\n",
       "var notebookContainer = gd.closest('#notebook-container');\n",
       "if (notebookContainer) {{\n",
       "    x.observe(notebookContainer, {childList: true});\n",
       "}}\n",
       "\n",
       "// Listen for the clearing of the current output cell\n",
       "var outputEl = gd.closest('.output');\n",
       "if (outputEl) {{\n",
       "    x.observe(outputEl, {childList: true});\n",
       "}}\n",
       "\n",
       "                        })                };                });            </script>        </div>"
      ]
     },
     "metadata": {},
     "output_type": "display_data"
    },
    {
     "name": "stdout",
     "output_type": "stream",
     "text": [
      "Growth Rate\n"
     ]
    },
    {
     "data": {
      "application/vnd.plotly.v1+json": {
       "config": {
        "linkText": "Export to plot.ly",
        "plotlyServerURL": "https://plot.ly",
        "showLink": false
       },
       "data": [
        {
         "error_y": {
          "array": [
           null,
           0.017678861809377916,
           0.009281759601437248,
           0.014825783060944052,
           0.022126814848360307,
           0.011087393038059997,
           0.013184701223092421
          ],
          "color": "black",
          "thickness": 1.5,
          "type": "data",
          "width": 3
         },
         "marker": {
          "color": "rgb(175, 127, 91)",
          "line": {
           "color": "rgb(175, 127, 91)",
           "width": 0
          }
         },
         "name": "WT",
         "type": "bar",
         "x": [
          "Bioreactor",
          "RDM + 1.5 g/L glc",
          "RDM + 3.0 g/L glc",
          "RDM + 6.0 g/L glc",
          "RDM + 9.0 g/L glc",
          "RDM + 12.0 g/L glc",
          "RDM + 18.0 g/L glc"
         ],
         "y": [
          0.7109732389464621,
          0.9273765718545629,
          0.8371678022477403,
          0.7877538899598036,
          0.7452009187845564,
          0.8169789246628222,
          0.7987362152342907
         ]
        },
        {
         "error_y": {
          "array": [
           null,
           0.011453666041759236,
           0.004349251388912265,
           0.00375039584103249,
           0.015927656683473786,
           0.017845085445150795,
           0.0035508839727366455
          ],
          "color": "black",
          "thickness": 1.5,
          "type": "data",
          "width": 3
         },
         "marker": {
          "color": "rgb(217, 72, 42)",
          "line": {
           "color": "rgb(217, 72, 42)",
           "width": 0
          }
         },
         "name": "Δ(adh,pta)-D1",
         "type": "bar",
         "x": [
          "Bioreactor",
          "RDM + 1.5 g/L glc",
          "RDM + 3.0 g/L glc",
          "RDM + 6.0 g/L glc",
          "RDM + 9.0 g/L glc",
          "RDM + 12.0 g/L glc",
          "RDM + 18.0 g/L glc"
         ],
         "y": [
          0.2784112302710221,
          0.5280964644496767,
          0.4982078488507307,
          0.5117039886348054,
          0.4632731001381387,
          0.5037734675533058,
          0.4974292973176158
         ]
        },
        {
         "error_y": {
          "array": [
           null,
           0.020867433420583083,
           0.02033332580824276,
           0.005598010552350256,
           0.007700701221275943,
           0.008322379586987947,
           0.010940580400702888
          ],
          "color": "black",
          "thickness": 1.5,
          "type": "data",
          "width": 3
         },
         "marker": {
          "color": "rgb(33, 100, 175)",
          "line": {
           "color": "rgb(33, 100, 175)",
           "width": 0
          }
         },
         "name": "Δ(adh,pta)-D28",
         "type": "bar",
         "x": [
          "Bioreactor",
          "RDM + 1.5 g/L glc",
          "RDM + 3.0 g/L glc",
          "RDM + 6.0 g/L glc",
          "RDM + 9.0 g/L glc",
          "RDM + 12.0 g/L glc",
          "RDM + 18.0 g/L glc"
         ],
         "y": [
          0.3790976624510501,
          0.6129325366129093,
          0.5724183678736386,
          0.5477177356545259,
          0.46252701045321115,
          0.47909104169392597,
          0.49382391813933596
         ]
        },
        {
         "error_y": {
          "array": [
           null,
           0.0030543719309457608,
           0.01404450122073951,
           0.001989601485675476,
           0.0012509122716871648,
           0.001828080941553891,
           0.004596455258606998
          ],
          "color": "black",
          "thickness": 1.5,
          "type": "data",
          "width": 3
         },
         "marker": {
          "color": "rgb(54, 146, 68)",
          "line": {
           "color": "rgb(54, 146, 68)",
           "width": 0
          }
         },
         "name": "Δ(adh,pta)-D59",
         "type": "bar",
         "x": [
          "Bioreactor",
          "RDM + 1.5 g/L glc",
          "RDM + 3.0 g/L glc",
          "RDM + 6.0 g/L glc",
          "RDM + 9.0 g/L glc",
          "RDM + 12.0 g/L glc",
          "RDM + 18.0 g/L glc"
         ],
         "y": [
          0.6491690894069742,
          0.624703371942303,
          0.6001028138652936,
          0.5920281196203474,
          0.541688005454806,
          0.5451069655763184,
          0.5544941823592051
         ]
        }
       ],
       "layout": {
        "bargap": 0.4,
        "bargroupgap": 0.1,
        "height": 425,
        "legend": {
         "font": {
          "color": "black",
          "family": "Myriad Pro",
          "size": 14
         },
         "orientation": "h",
         "x": 0.2,
         "y": -0.2
        },
        "template": {
         "data": {
          "scatter": [
           {
            "type": "scatter"
           }
          ]
         }
        },
        "width": 800,
        "xaxis": {
         "linecolor": "black",
         "linewidth": 1,
         "mirror": true,
         "nticks": 8,
         "showgrid": false,
         "showline": true,
         "side": "bottom",
         "tickangle": 0,
         "tickcolor": "black",
         "tickfont": {
          "color": "black",
          "family": "Myriad Pro",
          "size": 16
         },
         "ticklen": 4,
         "ticks": "outside",
         "title": {
          "font": {
           "color": "black",
           "family": "Myriad Pro",
           "size": 18
          },
          "standoff": 5,
          "text": "Product"
         },
         "zeroline": false
        },
        "yaxis": {
         "linecolor": "black",
         "linewidth": 1,
         "mirror": true,
         "showgrid": true,
         "showline": true,
         "side": "left",
         "tickangle": 0,
         "tickcolor": "black",
         "tickfont": {
          "color": "black",
          "family": "Myriad Pro",
          "size": 16
         },
         "ticklen": 4,
         "ticks": "outside",
         "title": {
          "font": {
           "color": "black",
           "family": "Myriad Pro",
           "size": 18
          },
          "text": "Product Yield<br>(mmol Product/mmol Glucose)"
         },
         "zeroline": false
        }
       }
      },
      "text/html": [
       "<div>                            <div id=\"b011b699-1cb5-4163-9e59-59429b9aa4b6\" class=\"plotly-graph-div\" style=\"height:425px; width:800px;\"></div>            <script type=\"text/javascript\">                require([\"plotly\"], function(Plotly) {                    window.PLOTLYENV=window.PLOTLYENV || {};                                    if (document.getElementById(\"b011b699-1cb5-4163-9e59-59429b9aa4b6\")) {                    Plotly.newPlot(                        \"b011b699-1cb5-4163-9e59-59429b9aa4b6\",                        [{\"error_y\": {\"array\": [null, 0.017678861809377916, 0.009281759601437248, 0.014825783060944052, 0.022126814848360307, 0.011087393038059997, 0.013184701223092421], \"color\": \"black\", \"thickness\": 1.5, \"type\": \"data\", \"width\": 3}, \"marker\": {\"color\": \"rgb(175, 127, 91)\", \"line\": {\"color\": \"rgb(175, 127, 91)\", \"width\": 0}}, \"name\": \"WT\", \"type\": \"bar\", \"x\": [\"Bioreactor\", \"RDM + 1.5 g/L glc\", \"RDM + 3.0 g/L glc\", \"RDM + 6.0 g/L glc\", \"RDM + 9.0 g/L glc\", \"RDM + 12.0 g/L glc\", \"RDM + 18.0 g/L glc\"], \"y\": [0.7109732389464621, 0.9273765718545629, 0.8371678022477403, 0.7877538899598036, 0.7452009187845564, 0.8169789246628222, 0.7987362152342907]}, {\"error_y\": {\"array\": [null, 0.011453666041759236, 0.004349251388912265, 0.00375039584103249, 0.015927656683473786, 0.017845085445150795, 0.0035508839727366455], \"color\": \"black\", \"thickness\": 1.5, \"type\": \"data\", \"width\": 3}, \"marker\": {\"color\": \"rgb(217, 72, 42)\", \"line\": {\"color\": \"rgb(217, 72, 42)\", \"width\": 0}}, \"name\": \"\\u0394(adh,pta)-D1\", \"type\": \"bar\", \"x\": [\"Bioreactor\", \"RDM + 1.5 g/L glc\", \"RDM + 3.0 g/L glc\", \"RDM + 6.0 g/L glc\", \"RDM + 9.0 g/L glc\", \"RDM + 12.0 g/L glc\", \"RDM + 18.0 g/L glc\"], \"y\": [0.2784112302710221, 0.5280964644496767, 0.4982078488507307, 0.5117039886348054, 0.4632731001381387, 0.5037734675533058, 0.4974292973176158]}, {\"error_y\": {\"array\": [null, 0.020867433420583083, 0.02033332580824276, 0.005598010552350256, 0.007700701221275943, 0.008322379586987947, 0.010940580400702888], \"color\": \"black\", \"thickness\": 1.5, \"type\": \"data\", \"width\": 3}, \"marker\": {\"color\": \"rgb(33, 100, 175)\", \"line\": {\"color\": \"rgb(33, 100, 175)\", \"width\": 0}}, \"name\": \"\\u0394(adh,pta)-D28\", \"type\": \"bar\", \"x\": [\"Bioreactor\", \"RDM + 1.5 g/L glc\", \"RDM + 3.0 g/L glc\", \"RDM + 6.0 g/L glc\", \"RDM + 9.0 g/L glc\", \"RDM + 12.0 g/L glc\", \"RDM + 18.0 g/L glc\"], \"y\": [0.3790976624510501, 0.6129325366129093, 0.5724183678736386, 0.5477177356545259, 0.46252701045321115, 0.47909104169392597, 0.49382391813933596]}, {\"error_y\": {\"array\": [null, 0.0030543719309457608, 0.01404450122073951, 0.001989601485675476, 0.0012509122716871648, 0.001828080941553891, 0.004596455258606998], \"color\": \"black\", \"thickness\": 1.5, \"type\": \"data\", \"width\": 3}, \"marker\": {\"color\": \"rgb(54, 146, 68)\", \"line\": {\"color\": \"rgb(54, 146, 68)\", \"width\": 0}}, \"name\": \"\\u0394(adh,pta)-D59\", \"type\": \"bar\", \"x\": [\"Bioreactor\", \"RDM + 1.5 g/L glc\", \"RDM + 3.0 g/L glc\", \"RDM + 6.0 g/L glc\", \"RDM + 9.0 g/L glc\", \"RDM + 12.0 g/L glc\", \"RDM + 18.0 g/L glc\"], \"y\": [0.6491690894069742, 0.624703371942303, 0.6001028138652936, 0.5920281196203474, 0.541688005454806, 0.5451069655763184, 0.5544941823592051]}],                        {\"bargap\": 0.4, \"bargroupgap\": 0.1, \"height\": 425, \"legend\": {\"font\": {\"color\": \"black\", \"family\": \"Myriad Pro\", \"size\": 14}, \"orientation\": \"h\", \"x\": 0.2, \"y\": -0.2}, \"template\": {\"data\": {\"scatter\": [{\"type\": \"scatter\"}]}}, \"width\": 800, \"xaxis\": {\"linecolor\": \"black\", \"linewidth\": 1, \"mirror\": true, \"nticks\": 8, \"showgrid\": false, \"showline\": true, \"side\": \"bottom\", \"tickangle\": 0, \"tickcolor\": \"black\", \"tickfont\": {\"color\": \"black\", \"family\": \"Myriad Pro\", \"size\": 16}, \"ticklen\": 4, \"ticks\": \"outside\", \"title\": {\"font\": {\"color\": \"black\", \"family\": \"Myriad Pro\", \"size\": 18}, \"standoff\": 5, \"text\": \"Product\"}, \"zeroline\": false}, \"yaxis\": {\"linecolor\": \"black\", \"linewidth\": 1, \"mirror\": true, \"showgrid\": true, \"showline\": true, \"side\": \"left\", \"tickangle\": 0, \"tickcolor\": \"black\", \"tickfont\": {\"color\": \"black\", \"family\": \"Myriad Pro\", \"size\": 16}, \"ticklen\": 4, \"ticks\": \"outside\", \"title\": {\"font\": {\"color\": \"black\", \"family\": \"Myriad Pro\", \"size\": 18}, \"text\": \"Product Yield<br>(mmol Product/mmol Glucose)\"}, \"zeroline\": false}},                        {\"responsive\": true}                    ).then(function(){\n",
       "                            \n",
       "var gd = document.getElementById('b011b699-1cb5-4163-9e59-59429b9aa4b6');\n",
       "var x = new MutationObserver(function (mutations, observer) {{\n",
       "        var display = window.getComputedStyle(gd).display;\n",
       "        if (!display || display === 'none') {{\n",
       "            console.log([gd, 'removed!']);\n",
       "            Plotly.purge(gd);\n",
       "            observer.disconnect();\n",
       "        }}\n",
       "}});\n",
       "\n",
       "// Listen for the removal of the full notebook cells\n",
       "var notebookContainer = gd.closest('#notebook-container');\n",
       "if (notebookContainer) {{\n",
       "    x.observe(notebookContainer, {childList: true});\n",
       "}}\n",
       "\n",
       "// Listen for the clearing of the current output cell\n",
       "var outputEl = gd.closest('.output');\n",
       "if (outputEl) {{\n",
       "    x.observe(outputEl, {childList: true});\n",
       "}}\n",
       "\n",
       "                        })                };                });            </script>        </div>"
      ]
     },
     "metadata": {},
     "output_type": "display_data"
    }
   ],
   "source": [
    "strain_list = ['WT', 'Δ(adh,pta)-D1', 'Δ(adh,pta)-D28', 'Δ(adh,pta)-D59']\n",
    "analyte_list = ['Biomass', 'Growth Rate']\n",
    "condition_list = ['RDM + 1.5 g/L glc', 'RDM + 3.0 g/L glc', 'RDM + 6.0 g/L glc', 'RDM + 9.0 g/L glc', 'RDM + 12.0 g/L glc', 'RDM + 18.0 g/L glc']\n",
    "condition_titles = ['1.5', '3', '6', '9', '12', '18']\n",
    "colors = [ 'rgb(175, 127, 91)',\n",
    "          'rgb(217, 72, 42)',\n",
    "          'rgb(33, 100, 175)',\n",
    "          'rgb(54, 146, 68)']\n",
    "\n",
    "\n",
    "\n",
    "od_timepoint = 8\n",
    "hplc_timepoint = 8\n",
    "pts_per_hour = 6\n",
    "ranges= [[(0,0.15), (0,1)]]\n",
    "\n",
    "\n",
    "for i, analyte in enumerate(analyte_list):\n",
    "    print(analyte)\n",
    "    trace_list = []\n",
    "    for j, strain in enumerate(strain_list):\n",
    "        x = ['Bioreactor']+[condition for condition in condition_list]\n",
    "        y_reac = yield_calculator((rep,rep), od_timepoint=8, hplc_timepoint=8)[0]\n",
    "        y, yerrs = yield_calculator((rep,rep), od_timepoint=od_timepoint, hplc_timepoint=hplc_timepoint)\n",
    "        \n",
    "        reactor_rep = [rep for rep in reactor.replicate_trials if rep.trial_identifier.strain.name == strain][0]\n",
    "        od_reps = [[rep for rep in glc_od.replicate_trials if str(rep.trial_identifier.media)==condition and rep.trial_identifier.strain.name==strain][0] for condition in condition_list]\n",
    "        hplc_reps = [[rep for rep in glc_titers.replicate_trials if str(rep.trial_identifier.media)==condition and rep.trial_identifier.strain.name==strain][0] for condition in condition_list]\n",
    "        \n",
    "        y_reac = yield_calculator((reactor_rep,reactor_rep), 8, 8)[0][i]\n",
    "        y_plate = [yield_calculator((od_rep, hplc_rep), -1, -1)[0][i] for (od_rep, hplc_rep) in zip(od_reps, hplc_reps)]\n",
    "        y_plate_errs = [yield_calculator((od_rep, hplc_rep), -1, -1)[1][i] for (od_rep, hplc_rep) in zip(od_reps, hplc_reps)]\n",
    "        \n",
    "        y = [y_reac] + y_plate\n",
    "        y_errs = [np.nan] + y_plate_errs\n",
    "\n",
    "        trace_list.append(go.Bar(x=x[:],\n",
    "                                 y=y[:],\n",
    "                                 error_y=dict(type='data', array=y_errs[:], thickness=1.5, width=3, color='black'),\n",
    "                                 marker=dict(color=colors[j], line=dict(width=0, color=colors[j])),\n",
    "                                 name=strain))\n",
    "\n",
    "\n",
    "    layout = go.Layout(height=425, width=800, legend_x= 0.2, bargroupgap=0.1, bargap=0.4,\n",
    "                       legend_orientation='h',legend_y=-0.2, legend_font=dict(family='Myriad Pro', color='black', size=14),\n",
    "\n",
    "                       xaxis=dict(title='Product', title_standoff=5,\n",
    "                                  titlefont=dict(family='Myriad Pro', size=18, color='black'),\n",
    "                                  showline=True, linewidth=1, linecolor='black', mirror=True, side='bottom',\n",
    "                                  ticks='outside', ticklen=4, tickangle=0, nticks=8,\n",
    "                                  tickfont=dict(size=16, family='Myriad Pro', color='black'), tickcolor='black',\n",
    "                                  showgrid=False,zeroline=False),\n",
    "\n",
    "                       yaxis=dict(title='Product Yield<br>(mmol Product/mmol Glucose)',\n",
    "                                  titlefont=dict(family='Myriad Pro', size=18, color='black'),\n",
    "                                  showline=True, linewidth=1, linecolor='black', mirror=True,\n",
    "                                  ticks='outside', ticklen=4, tickangle=0, side='left',\n",
    "                                  tickfont=dict(family='Myriad Pro',size=16, color='black'), tickcolor='black', \n",
    "                                  showgrid=True,zeroline=False))\n",
    "    fig = go.Figure(data=trace_list, layout=layout)\n",
    "    plot(fig)\n",
    "    #pio.write_image(fig,\"Figures/si_fig_\"+analyte+\".svg\",format='svg')\n"
   ]
  },
  {
   "cell_type": "markdown",
   "id": "armed-theory",
   "metadata": {},
   "source": [
    "### Plot glucose consumed for different strains at different glucose concentrations ###"
   ]
  },
  {
   "cell_type": "code",
   "execution_count": 23,
   "id": "chief-heating",
   "metadata": {},
   "outputs": [
    {
     "data": {
      "application/vnd.plotly.v1+json": {
       "config": {
        "linkText": "Export to plot.ly",
        "plotlyServerURL": "https://plot.ly",
        "showLink": false
       },
       "data": [
        {
         "marker": {
          "color": "rgb(54, 146, 68)",
          "line": {
           "color": "rgb(54, 146, 68)",
           "width": 0
          }
         },
         "name": "Bioreactor",
         "type": "bar",
         "x": [
          "WT",
          "Δ(adh,pta)-D1",
          "Δ(adh,pta)-D28",
          "Δ(adh,pta)-D59"
         ],
         "y": [
          11.867999999999999,
          13.229099999999999,
          14.571900000000001,
          15.9865
         ]
        },
        {
         "error_y": {
          "array": [
           0.02115017730422133,
           0.02115017730422133,
           0.02115017730422133,
           0.02115017730422133
          ],
          "color": "black",
          "thickness": 1.5,
          "type": "data",
          "width": 3
         },
         "marker": {
          "color": "rgb(33.0, 100.0, 175.0)",
          "line": {
           "color": "rgb(54, 146, 68)",
           "width": 0
          }
         },
         "name": "1.5",
         "type": "bar",
         "x": [
          "WT",
          "Δ(adh,pta)-D1",
          "Δ(adh,pta)-D28",
          "Δ(adh,pta)-D59"
         ],
         "y": [
          1.7764,
          1.7764,
          1.7764,
          1.7764
         ]
        },
        {
         "error_y": {
          "array": [
           0.1661063213727881,
           0.1661063213727881,
           0.1661063213727881,
           0.1661063213727881
          ],
          "color": "black",
          "thickness": 1.5,
          "type": "data",
          "width": 3
         },
         "marker": {
          "color": "rgb(100.0, 144.66666666666666, 194.66666666666666)",
          "line": {
           "color": "rgb(54, 146, 68)",
           "width": 0
          }
         },
         "name": "3",
         "type": "bar",
         "x": [
          "WT",
          "Δ(adh,pta)-D1",
          "Δ(adh,pta)-D28",
          "Δ(adh,pta)-D59"
         ],
         "y": [
          3.51315,
          3.51315,
          3.51315,
          3.51315
         ]
        },
        {
         "error_y": {
          "array": [
           0.3005658718705993,
           0.3005658718705993,
           0.3005658718705993,
           0.3005658718705993
          ],
          "color": "black",
          "thickness": 1.5,
          "type": "data",
          "width": 3
         },
         "marker": {
          "color": "rgb(167.0, 189.33333333333331, 214.33333333333334)",
          "line": {
           "color": "rgb(54, 146, 68)",
           "width": 0
          }
         },
         "name": "6",
         "type": "bar",
         "x": [
          "WT",
          "Δ(adh,pta)-D1",
          "Δ(adh,pta)-D28",
          "Δ(adh,pta)-D59"
         ],
         "y": [
          6.651366666666667,
          6.651366666666667,
          6.651366666666667,
          6.651366666666667
         ]
        },
        {
         "error_y": {
          "array": [
           0.23679943517669141,
           0.2064303978746026,
           0.2064303978746026,
           0.2064303978746026
          ],
          "color": "black",
          "thickness": 1.5,
          "type": "data",
          "width": 3
         },
         "marker": {
          "color": "rgb(228.33333333333334, 180.0, 170.0)",
          "line": {
           "color": "rgb(54, 146, 68)",
           "width": 0
          }
         },
         "name": "9",
         "type": "bar",
         "x": [
          "WT",
          "Δ(adh,pta)-D1",
          "Δ(adh,pta)-D28",
          "Δ(adh,pta)-D59"
         ],
         "y": [
          8.000058333333333,
          9.031025,
          9.031025,
          9.031025
         ]
        },
        {
         "error_y": {
          "array": [
           0.6288073340327174,
           0.5446712800702216,
           0.7231435980034212,
           0.6383268324299088
          ],
          "color": "black",
          "thickness": 1.5,
          "type": "data",
          "width": 3
         },
         "marker": {
          "color": "rgb(222.66666666666666, 126.0, 106.0)",
          "line": {
           "color": "rgb(54, 146, 68)",
           "width": 0
          }
         },
         "name": "12",
         "type": "bar",
         "x": [
          "WT",
          "Δ(adh,pta)-D1",
          "Δ(adh,pta)-D28",
          "Δ(adh,pta)-D59"
         ],
         "y": [
          7.996833333333332,
          9.159033333333333,
          9.185066666666666,
          8.758849999999999
         ]
        },
        {
         "error_y": {
          "array": [
           0.6811225831914072,
           0.8639673296292331,
           0.7045060302557167,
           1.187558576800881
          ],
          "color": "black",
          "thickness": 1.5,
          "type": "data",
          "width": 3
         },
         "marker": {
          "color": "rgb(217.0, 72.0, 42.0)",
          "line": {
           "color": "rgb(54, 146, 68)",
           "width": 0
          }
         },
         "name": "18",
         "type": "bar",
         "x": [
          "WT",
          "Δ(adh,pta)-D1",
          "Δ(adh,pta)-D28",
          "Δ(adh,pta)-D59"
         ],
         "y": [
          7.734366666666666,
          9.416400000000001,
          9.4163,
          9.981866666666667
         ]
        }
       ],
       "layout": {
        "bargap": 0.4,
        "bargroupgap": 0.1,
        "height": 400,
        "legend": {
         "font": {
          "color": "black",
          "family": "Myriad Pro",
          "size": 14
         },
         "orientation": "h",
         "x": 0.1,
         "y": -0.2
        },
        "template": {
         "data": {
          "scatter": [
           {
            "type": "scatter"
           }
          ]
         }
        },
        "width": 750,
        "xaxis": {
         "linecolor": "black",
         "linewidth": 1,
         "mirror": true,
         "nticks": 8,
         "showgrid": false,
         "showline": true,
         "side": "bottom",
         "tickangle": 0,
         "tickcolor": "black",
         "tickfont": {
          "color": "black",
          "family": "Myriad Pro",
          "size": 16
         },
         "ticklen": 4,
         "ticks": "outside",
         "title": {
          "font": {
           "color": "black",
           "family": "Myriad Pro",
           "size": 18
          },
          "standoff": 5,
          "text": "Strain"
         },
         "zeroline": false
        },
        "yaxis": {
         "linecolor": "black",
         "linewidth": 1,
         "mirror": true,
         "range": [
          0,
          20
         ],
         "showgrid": true,
         "showline": true,
         "side": "left",
         "tickangle": 0,
         "tickcolor": "black",
         "tickfont": {
          "color": "black",
          "family": "Myriad Pro",
          "size": 16
         },
         "ticklen": 4,
         "ticks": "outside",
         "title": {
          "font": {
           "color": "black",
           "family": "Myriad Pro",
           "size": 18
          },
          "text": "Glucose Consumed<br>(g/L)"
         },
         "zeroline": false
        }
       }
      },
      "text/html": [
       "<div>                            <div id=\"e60c1a12-895e-4285-98d3-a9be91dac145\" class=\"plotly-graph-div\" style=\"height:400px; width:750px;\"></div>            <script type=\"text/javascript\">                require([\"plotly\"], function(Plotly) {                    window.PLOTLYENV=window.PLOTLYENV || {};                                    if (document.getElementById(\"e60c1a12-895e-4285-98d3-a9be91dac145\")) {                    Plotly.newPlot(                        \"e60c1a12-895e-4285-98d3-a9be91dac145\",                        [{\"marker\": {\"color\": \"rgb(54, 146, 68)\", \"line\": {\"color\": \"rgb(54, 146, 68)\", \"width\": 0}}, \"name\": \"Bioreactor\", \"type\": \"bar\", \"x\": [\"WT\", \"\\u0394(adh,pta)-D1\", \"\\u0394(adh,pta)-D28\", \"\\u0394(adh,pta)-D59\"], \"y\": [11.867999999999999, 13.229099999999999, 14.571900000000001, 15.9865]}, {\"error_y\": {\"array\": [0.02115017730422133, 0.02115017730422133, 0.02115017730422133, 0.02115017730422133], \"color\": \"black\", \"thickness\": 1.5, \"type\": \"data\", \"width\": 3}, \"marker\": {\"color\": \"rgb(33.0, 100.0, 175.0)\", \"line\": {\"color\": \"rgb(54, 146, 68)\", \"width\": 0}}, \"name\": \"1.5\", \"type\": \"bar\", \"x\": [\"WT\", \"\\u0394(adh,pta)-D1\", \"\\u0394(adh,pta)-D28\", \"\\u0394(adh,pta)-D59\"], \"y\": [1.7764, 1.7764, 1.7764, 1.7764]}, {\"error_y\": {\"array\": [0.1661063213727881, 0.1661063213727881, 0.1661063213727881, 0.1661063213727881], \"color\": \"black\", \"thickness\": 1.5, \"type\": \"data\", \"width\": 3}, \"marker\": {\"color\": \"rgb(100.0, 144.66666666666666, 194.66666666666666)\", \"line\": {\"color\": \"rgb(54, 146, 68)\", \"width\": 0}}, \"name\": \"3\", \"type\": \"bar\", \"x\": [\"WT\", \"\\u0394(adh,pta)-D1\", \"\\u0394(adh,pta)-D28\", \"\\u0394(adh,pta)-D59\"], \"y\": [3.51315, 3.51315, 3.51315, 3.51315]}, {\"error_y\": {\"array\": [0.3005658718705993, 0.3005658718705993, 0.3005658718705993, 0.3005658718705993], \"color\": \"black\", \"thickness\": 1.5, \"type\": \"data\", \"width\": 3}, \"marker\": {\"color\": \"rgb(167.0, 189.33333333333331, 214.33333333333334)\", \"line\": {\"color\": \"rgb(54, 146, 68)\", \"width\": 0}}, \"name\": \"6\", \"type\": \"bar\", \"x\": [\"WT\", \"\\u0394(adh,pta)-D1\", \"\\u0394(adh,pta)-D28\", \"\\u0394(adh,pta)-D59\"], \"y\": [6.651366666666667, 6.651366666666667, 6.651366666666667, 6.651366666666667]}, {\"error_y\": {\"array\": [0.23679943517669141, 0.2064303978746026, 0.2064303978746026, 0.2064303978746026], \"color\": \"black\", \"thickness\": 1.5, \"type\": \"data\", \"width\": 3}, \"marker\": {\"color\": \"rgb(228.33333333333334, 180.0, 170.0)\", \"line\": {\"color\": \"rgb(54, 146, 68)\", \"width\": 0}}, \"name\": \"9\", \"type\": \"bar\", \"x\": [\"WT\", \"\\u0394(adh,pta)-D1\", \"\\u0394(adh,pta)-D28\", \"\\u0394(adh,pta)-D59\"], \"y\": [8.000058333333333, 9.031025, 9.031025, 9.031025]}, {\"error_y\": {\"array\": [0.6288073340327174, 0.5446712800702216, 0.7231435980034212, 0.6383268324299088], \"color\": \"black\", \"thickness\": 1.5, \"type\": \"data\", \"width\": 3}, \"marker\": {\"color\": \"rgb(222.66666666666666, 126.0, 106.0)\", \"line\": {\"color\": \"rgb(54, 146, 68)\", \"width\": 0}}, \"name\": \"12\", \"type\": \"bar\", \"x\": [\"WT\", \"\\u0394(adh,pta)-D1\", \"\\u0394(adh,pta)-D28\", \"\\u0394(adh,pta)-D59\"], \"y\": [7.996833333333332, 9.159033333333333, 9.185066666666666, 8.758849999999999]}, {\"error_y\": {\"array\": [0.6811225831914072, 0.8639673296292331, 0.7045060302557167, 1.187558576800881], \"color\": \"black\", \"thickness\": 1.5, \"type\": \"data\", \"width\": 3}, \"marker\": {\"color\": \"rgb(217.0, 72.0, 42.0)\", \"line\": {\"color\": \"rgb(54, 146, 68)\", \"width\": 0}}, \"name\": \"18\", \"type\": \"bar\", \"x\": [\"WT\", \"\\u0394(adh,pta)-D1\", \"\\u0394(adh,pta)-D28\", \"\\u0394(adh,pta)-D59\"], \"y\": [7.734366666666666, 9.416400000000001, 9.4163, 9.981866666666667]}],                        {\"bargap\": 0.4, \"bargroupgap\": 0.1, \"height\": 400, \"legend\": {\"font\": {\"color\": \"black\", \"family\": \"Myriad Pro\", \"size\": 14}, \"orientation\": \"h\", \"x\": 0.1, \"y\": -0.2}, \"template\": {\"data\": {\"scatter\": [{\"type\": \"scatter\"}]}}, \"width\": 750, \"xaxis\": {\"linecolor\": \"black\", \"linewidth\": 1, \"mirror\": true, \"nticks\": 8, \"showgrid\": false, \"showline\": true, \"side\": \"bottom\", \"tickangle\": 0, \"tickcolor\": \"black\", \"tickfont\": {\"color\": \"black\", \"family\": \"Myriad Pro\", \"size\": 16}, \"ticklen\": 4, \"ticks\": \"outside\", \"title\": {\"font\": {\"color\": \"black\", \"family\": \"Myriad Pro\", \"size\": 18}, \"standoff\": 5, \"text\": \"Strain\"}, \"zeroline\": false}, \"yaxis\": {\"linecolor\": \"black\", \"linewidth\": 1, \"mirror\": true, \"range\": [0, 20], \"showgrid\": true, \"showline\": true, \"side\": \"left\", \"tickangle\": 0, \"tickcolor\": \"black\", \"tickfont\": {\"color\": \"black\", \"family\": \"Myriad Pro\", \"size\": 16}, \"ticklen\": 4, \"ticks\": \"outside\", \"title\": {\"font\": {\"color\": \"black\", \"family\": \"Myriad Pro\", \"size\": 18}, \"text\": \"Glucose Consumed<br>(g/L)\"}, \"zeroline\": false}},                        {\"responsive\": true}                    ).then(function(){\n",
       "                            \n",
       "var gd = document.getElementById('e60c1a12-895e-4285-98d3-a9be91dac145');\n",
       "var x = new MutationObserver(function (mutations, observer) {{\n",
       "        var display = window.getComputedStyle(gd).display;\n",
       "        if (!display || display === 'none') {{\n",
       "            console.log([gd, 'removed!']);\n",
       "            Plotly.purge(gd);\n",
       "            observer.disconnect();\n",
       "        }}\n",
       "}});\n",
       "\n",
       "// Listen for the removal of the full notebook cells\n",
       "var notebookContainer = gd.closest('#notebook-container');\n",
       "if (notebookContainer) {{\n",
       "    x.observe(notebookContainer, {childList: true});\n",
       "}}\n",
       "\n",
       "// Listen for the clearing of the current output cell\n",
       "var outputEl = gd.closest('.output');\n",
       "if (outputEl) {{\n",
       "    x.observe(outputEl, {childList: true});\n",
       "}}\n",
       "\n",
       "                        })                };                });            </script>        </div>"
      ]
     },
     "metadata": {},
     "output_type": "display_data"
    }
   ],
   "source": [
    "strain_list = ['WT','Δ(adh,pta)-D1', 'Δ(adh,pta)-D28', 'Δ(adh,pta)-D59']\n",
    "condition_list = ['RDM + 1.5 g/L glc', 'RDM + 3.0 g/L glc', 'RDM + 6.0 g/L glc', 'RDM + 9.0 g/L glc', 'RDM + 12.0 g/L glc', 'RDM + 18.0 g/L glc']\n",
    "condition_titles = ['1.5', '3', '6', '9', '12', '18']\n",
    "\n",
    "colors = ['rgb'+str(color) for color in plotly.colors.n_colors((33,100,175), (234,234,234), 4)][:-1]\n",
    "colors = colors + ['rgb'+str(color) for color in plotly.colors.n_colors((234,234,234), (217,72,42), 4)][1:]\n",
    "\n",
    "od_timepoint = 8\n",
    "hplc_timepoint = 8\n",
    "pts_per_hour = 6\n",
    "\n",
    "trace_list = []\n",
    "reps = [[rep for rep in reactor.replicate_trials if rep.trial_identifier.strain.name == strain][0] for strain in strain_list]\n",
    "x = [strain for strain in strain_list]\n",
    "y = [rep.avg.analyte_dict['Glucose'].pd_series[0] - rep.avg.analyte_dict['Glucose'].pd_series[:hplc_timepoint].iloc[-1]\n",
    "     for rep in reps]\n",
    "\n",
    "trace_list.append(go.Bar(x=x,\n",
    "                 y=y,\n",
    "                 marker=dict(color='rgb(54, 146, 68)', line=dict(width=0, color='rgb(54, 146, 68)')),\n",
    "                 name='Bioreactor'))\n",
    "\n",
    "for i, condition in enumerate(condition_list):\n",
    "    reps = [[rep for rep in glc_titers.replicate_trials if str(rep.trial_identifier.media)==condition_list[i] and rep.trial_identifier.strain.name==strain][0] for strain in strain_list]\n",
    "\n",
    "    y = [-rep.avg.analyte_dict['Glucose'].pd_series.iloc[-1] for rep in reps]\n",
    "    y_errs = [rep.std.analyte_dict['Glucose'].pd_series.iloc[-1] for rep in reps]\n",
    "         \n",
    "    trace_list.append(go.Bar(x=x,\n",
    "                             y=y,\n",
    "                             error_y=dict(type='data', array=y_errs, thickness=1.5, width=3, color='black'),\n",
    "                             marker=dict(color=colors[i], line=dict(width=0, color='rgb(54, 146, 68)')),\n",
    "                             name=condition_titles[i]))\n",
    "\n",
    "\n",
    "layout = go.Layout(height=400, width=750, legend_x= 0.1, bargroupgap=0.1, bargap=0.4,\n",
    "                   legend_orientation='h',legend_y=-0.2, legend_font=dict(family='Myriad Pro', color='black', size=14),\n",
    "\n",
    "                   xaxis=dict(title='Strain', title_standoff=5,\n",
    "                              titlefont=dict(family='Myriad Pro', size=18, color='black'),\n",
    "                              showline=True, linewidth=1, linecolor='black', mirror=True, side='bottom',\n",
    "                              ticks='outside', ticklen=4, tickangle=0, nticks=8,\n",
    "                              tickfont=dict(size=16, family='Myriad Pro', color='black'), tickcolor='black',\n",
    "                              showgrid=False,zeroline=False),\n",
    "\n",
    "                   yaxis=dict(title='Glucose Consumed<br>(g/L)',\n",
    "                              titlefont=dict(family='Myriad Pro', size=18, color='black'),\n",
    "                              showline=True, linewidth=1, linecolor='black', mirror=True, range=(0,20),\n",
    "                              ticks='outside', ticklen=4, tickangle=0, side='left',\n",
    "                              tickfont=dict(family='Myriad Pro',size=16, color='black'), tickcolor='black', \n",
    "                              showgrid=True,zeroline=False))\n",
    "\n",
    "if trace_list:\n",
    "    fig = go.Figure(data=trace_list, layout=layout)\n",
    "    plot(fig)\n",
    "    #pio.write_image(fig,\"Figures/si_fig_7.svg\",format='svg')"
   ]
  },
  {
   "cell_type": "code",
   "execution_count": null,
   "id": "reserved-twins",
   "metadata": {},
   "outputs": [],
   "source": []
  }
 ],
 "metadata": {
  "kernelspec": {
   "display_name": "Python [conda env:impact] *",
   "language": "python",
   "name": "conda-env-impact-py"
  },
  "language_info": {
   "codemirror_mode": {
    "name": "ipython",
    "version": 3
   },
   "file_extension": ".py",
   "mimetype": "text/x-python",
   "name": "python",
   "nbconvert_exporter": "python",
   "pygments_lexer": "ipython3",
   "version": "3.7.6"
  }
 },
 "nbformat": 4,
 "nbformat_minor": 5
}
