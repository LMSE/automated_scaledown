{
 "cells": [
  {
   "cell_type": "markdown",
   "id": "aging-waterproof",
   "metadata": {},
   "source": [
    "# Comparison of reducing agent tests with bioreactor test#\n",
    "\n",
    "### Notebook to generate Supplementary Figs. S5, S6###"
   ]
  },
  {
   "cell_type": "code",
   "execution_count": 26,
   "id": "under-hierarchy",
   "metadata": {},
   "outputs": [
    {
     "data": {
      "text/html": [
       "        <script type=\"text/javascript\">\n",
       "        window.PlotlyConfig = {MathJaxConfig: 'local'};\n",
       "        if (window.MathJax) {MathJax.Hub.Config({SVG: {font: \"STIX-Web\"}});}\n",
       "        if (typeof require !== 'undefined') {\n",
       "        require.undef(\"plotly\");\n",
       "        requirejs.config({\n",
       "            paths: {\n",
       "                'plotly': ['https://cdn.plot.ly/plotly-latest.min']\n",
       "            }\n",
       "        });\n",
       "        require(['plotly'], function(Plotly) {\n",
       "            window._Plotly = Plotly;\n",
       "        });\n",
       "        }\n",
       "        </script>\n",
       "        "
      ]
     },
     "metadata": {},
     "output_type": "display_data"
    }
   ],
   "source": [
    "#Import necessary modules\n",
    "\n",
    "import impact as                             impt\n",
    "import impact.plotting as                    implot\n",
    "from impact.parsers import Parser as parser\n",
    "import pandas as pd\n",
    "from openpyxl import load_workbook\n",
    "import numpy as np\n",
    "import sys\n",
    "from plotly import tools, subplots\n",
    "import plotly.graph_objs as go\n",
    "from sklearn.manifold import TSNE\n",
    "import pickle\n",
    "import plotly.io as pio\n",
    "from plotly.subplots import make_subplots\n",
    "from sklearn.decomposition import PCA\n",
    "from sklearn.preprocessing import StandardScaler\n",
    "\n",
    "pio.templates.default = \"none\"\n",
    "import plotly\n",
    "if 'ipykernel' in sys.modules:\n",
    "    from plotly.offline import init_notebook_mode\n",
    "    from plotly.offline import iplot as plot\n",
    "    from IPython.display import HTML\n",
    "    HTML(\"\"\"\n",
    "         <script>\n",
    "          var waitForPlotly = setInterval( function() {\n",
    "          if( typeof(window.Plotly) !== \"undefined\" ){\n",
    "          MathJax.Hub.Config({ SVG: { font: \"STIX-Web\" }, displayAlign: \"center\" });\n",
    "          MathJax.Hub.Queue([\"setRenderer\", MathJax.Hub, \"SVG\"]);\n",
    "          clearInterval(waitForPlotly);}}, 250 );\n",
    "        </script>\n",
    "        \"\"\"\n",
    "    )\n",
    "    init_notebook_mode(connected=True)"
   ]
  },
  {
   "cell_type": "code",
   "execution_count": 2,
   "id": "behavioral-mozambique",
   "metadata": {},
   "outputs": [],
   "source": [
    "impt.settings.perform_curve_fit = False\n",
    "impt.settings.fit_type = 'gompertz'\n",
    "impt.settings.outlier_cleaning_flag = False\n",
    "impt.settings.max_fraction_replicates_to_remove = 0.5\n",
    "impt.settings.std_deviation_cutoff=0.05\n",
    "impt.settings.verbose = False\n",
    "impt.settings.live_calculations = False\n",
    "impt.settings.use_filtered_data = True\n",
    "\n",
    "impt.settings.death_phase_hyperparameter = 4\n",
    "impt.settings.savgolFilterWindowSize = 9"
   ]
  },
  {
   "cell_type": "markdown",
   "id": "considerable-cardiff",
   "metadata": {},
   "source": [
    "### Load raw data ###"
   ]
  },
  {
   "cell_type": "code",
   "execution_count": 3,
   "id": "extreme-property",
   "metadata": {},
   "outputs": [
    {
     "name": "stdout",
     "output_type": "stream",
     "text": [
      "\n",
      "Importing data from ReducingAgentTest_02022021.xlsx...0.2s\n",
      "Parsing time point list...Parsed 8160 time points in 1.0s\n",
      "Parsing analyte list...Parsed 96 single trials in 462.3ms\n",
      "Parsing single trial list...Parsed 25 replicates in 0.1s\n",
      "Analyzing data...Ran analysis in 2.0s\n",
      "\n",
      "\n",
      "Importing data from ReducingAgentTest_Titers_02022021.xlsx...0.0s\n",
      "Parsed 552 timeCourseObjects in 0.247s...Number of lines skipped:  0\n",
      "Parsing time point list...Parsed 552 time points in 0.4s\n",
      "Parsing analyte list...Parsed 92 single trials in 2824.8ms\n",
      "Parsing single trial list...Parsed 24 replicates in 0.2s\n",
      "Analyzing data..."
     ]
    },
    {
     "name": "stderr",
     "output_type": "stream",
     "text": [
      "c:\\users\\user\\onedrive - university of toronto\\research\\phd_uoft\\python\\impact\\impact\\core\\features\\ProductYield.py:22: RuntimeWarning:\n",
      "\n",
      "invalid value encountered in true_divide\n",
      "\n"
     ]
    },
    {
     "name": "stdout",
     "output_type": "stream",
     "text": [
      "Ran analysis in 2.6s\n",
      "\n",
      "\n",
      "Importing data from Bioreactor_Data.xlsx...0.0s\n",
      "Parsed 189 timeCourseObjects in 0.077s...Number of lines skipped:  0\n",
      "Parsing time point list...Parsed 189 time points in 0.0s\n",
      "Parsing analyte list...Parsed 4 single trials in 47.8ms\n",
      "Parsing single trial list...Parsed 4 replicates in 0.0s\n",
      "Analyzing data...No blanks were indicated. Blank subtraction will not be done.Ran analysis in 0.2s\n",
      "\n"
     ]
    }
   ],
   "source": [
    "data_format='spectromax_OD'\n",
    "plate_type = '96 Wells'\n",
    "file_name = 'ReducingAgentTest_02022021.xlsx'\n",
    "red_od = parser.parse_raw_data(data_format=data_format,file_name=file_name,plate_type=plate_type)\n",
    "red_od.calculate()\n",
    "\n",
    "data_format='default_titers'\n",
    "plate_type = '96 Wells'\n",
    "file_name = 'ReducingAgentTest_Titers_02022021.xlsx'\n",
    "red_titers = parser.parse_raw_data(data_format=data_format,file_name=file_name,plate_type=plate_type,id_type='traverse')\n",
    "red_titers.calculate()\n",
    "\n",
    "data_format='default_titers'\n",
    "plate_type = None\n",
    "file_name = 'Bioreactor_Data.xlsx'\n",
    "reactor = parser.parse_raw_data(data_format=data_format,file_name=file_name,id_type='traverse')\n",
    "reactor.calculate()\n"
   ]
  },
  {
   "cell_type": "markdown",
   "id": "optical-democrat",
   "metadata": {},
   "source": [
    "### Write functions to extract required analytes (yields of acetate, formate, lactate, pyruvate, succinate, growth rate and biomass yield) ###"
   ]
  },
  {
   "cell_type": "code",
   "execution_count": 4,
   "id": "scientific-franchise",
   "metadata": {},
   "outputs": [],
   "source": [
    "def average_exponential_specific_productivity(replicate_trial):\n",
    "    growth_rates = []\n",
    "    for single_trial in replicate_trial.single_trials:\n",
    "        OD600 = single_trial.analyte_dict['OD600'].pd_series\n",
    "        growth_second_gradient = np.gradient(single_trial.analyte_dict['OD600'].specific_productivity.data)\n",
    "        end_index = 18+np.argmax(growth_second_gradient[18:]>=-0.005)\n",
    "        if single_trial.analyte_dict['OD600'].specific_productivity.data[end_index]<=0.05 or single_trial.analyte_dict['OD600'].specific_productivity.data[end_index]>=0.2:\n",
    "            end_index = 18+np.argmax(single_trial.analyte_dict['OD600'].specific_productivity.data[18:]<=0.05)\n",
    "        start_index = 3+np.argmax(single_trial.analyte_dict['OD600'].specific_productivity.data[3:])\n",
    "        growth_rates.append(np.average(single_trial.analyte_dict['OD600'].specific_productivity.data[start_index:end_index]))\n",
    "    return growth_rates\n",
    "\n",
    "\n",
    "def average_exponential_specific_productivity_singletrial(replicate_trial):\n",
    "    growth_rates = {}\n",
    "    for single_trial in replicate_trial.single_trials:\n",
    "        OD600 = single_trial.analyte_dict['OD600'].pd_series\n",
    "        growth_second_gradient = np.gradient(single_trial.analyte_dict['OD600'].specific_productivity.data)\n",
    "        end_index = 18+np.argmax(growth_second_gradient[18:]>=-0.005)\n",
    "        if single_trial.analyte_dict['OD600'].specific_productivity.data[end_index]<=0.05 or single_trial.analyte_dict['OD600'].specific_productivity.data[end_index]>=0.2:\n",
    "            end_index = 18+np.argmax(single_trial.analyte_dict['OD600'].specific_productivity.data[18:]<=0.05)\n",
    "        start_index = 3+np.argmax(single_trial.analyte_dict['OD600'].specific_productivity.data[3:])\n",
    "        growth_rate = np.average(single_trial.analyte_dict['OD600'].specific_productivity.data[start_index:end_index])\n",
    "        growth_rates[str(single_trial.trial_identifier.replicate_id)] = growth_rate\n",
    "    return growth_rates\n",
    "\n",
    "\n",
    "\n",
    "def end_point_biomass(replicate_trial):\n",
    "    end_point_od = []\n",
    "    for single_trial in replicate_trial.single_trials:\n",
    "        OD600 = single_trial.analyte_dict['OD600'].pd_series\n",
    "        growth_second_gradient = np.gradient(single_trial.analyte_dict['OD600'].specific_productivity.data)\n",
    "        end_index = 18+np.argmax(growth_second_gradient[18:]>=-0.005)\n",
    "        if single_trial.analyte_dict['OD600'].specific_productivity.data[end_index]<=0.05 or single_trial.analyte_dict['OD600'].specific_productivity.data[end_index]>=0.2:\n",
    "            end_index = 18+np.argmax(single_trial.analyte_dict['OD600'].specific_productivity.data[18:]<=0.05)\n",
    "        end_point_od.append(single_trial.analyte_dict['OD600'].pd_series.iloc[end_index] - \n",
    "                            single_trial.analyte_dict['OD600'].pd_series.iloc[0])\n",
    "    return end_point_od\n",
    "\n",
    "\n",
    "\n",
    "def end_point_biomass_singletrial(replicate_trial):\n",
    "    end_point_od = {}\n",
    "    for single_trial in replicate_trial.single_trials:\n",
    "        OD600 = single_trial.analyte_dict['OD600'].pd_series\n",
    "        growth_second_gradient = np.gradient(single_trial.analyte_dict['OD600'].specific_productivity.data)\n",
    "        end_index = 18+np.argmax(growth_second_gradient[18:]>=-0.005)\n",
    "        if single_trial.analyte_dict['OD600'].specific_productivity.data[end_index]<=0.05 or single_trial.analyte_dict['OD600'].specific_productivity.data[end_index]>=0.2:\n",
    "            end_index = 18+np.argmax(single_trial.analyte_dict['OD600'].specific_productivity.data[18:]<=0.05)\n",
    "        end_point_od[str(single_trial.trial_identifier.replicate_id)] = single_trial.analyte_dict['OD600'].pd_series.iloc[end_index] - single_trial.analyte_dict['OD600'].pd_series.iloc[0]\n",
    "    return end_point_od\n",
    "\n",
    "\n",
    "\n",
    "\n",
    "def yield_calculator(reps, hplc_timepoint=-1, od_timepoint=-1):\n",
    "    od_rep, hplc_rep = reps\n",
    "    y_vals = []\n",
    "    y_errs = []\n",
    "    mass_dict = {'Lactate':89.078,\n",
    "             'Acetate':59.052,\n",
    "             'Formate':45.025,\n",
    "             'Succinate':116.088,\n",
    "             'Pyruvate':87.06,\n",
    "             'Glucose':180.156}\n",
    "\n",
    "    for analyte in analyte_list:\n",
    "        \n",
    "        #For analytes\n",
    "        if analyte not in ['Growth Rate', 'Biomass']:\n",
    "            #For plate expt\n",
    "            if hplc_rep.blank:\n",
    "                y = -hplc_rep.avg.analyte_dict[analyte].pd_series.iloc[hplc_timepoint]/hplc_rep.avg.analyte_dict['Glucose'].pd_series.iloc[hplc_timepoint] * (mass_dict['Glucose']/mass_dict[analyte])\n",
    "                y_err =  y*np.sqrt((hplc_rep.std.analyte_dict[analyte].pd_series.iloc[hplc_timepoint]/hplc_rep.avg.analyte_dict[analyte].pd_series.iloc[hplc_timepoint])**2 + (hplc_rep.std.analyte_dict['Glucose'].pd_series.iloc[hplc_timepoint]/hplc_rep.avg.analyte_dict['Glucose'].pd_series.iloc[hplc_timepoint])**2)            #For bioreactor expt\n",
    "            else:\n",
    "                y = hplc_rep.avg.analyte_dict[analyte].pd_series[:hplc_timepoint].iloc[-1]/(hplc_rep.avg.analyte_dict['Glucose'].pd_series[0] - hplc_rep.avg.analyte_dict['Glucose'].pd_series[:hplc_timepoint].iloc[-1]) * (mass_dict['Glucose']/mass_dict[analyte])\n",
    "                y_err = 0\n",
    "        \n",
    "        #For growth rate\n",
    "        elif analyte=='Growth Rate':\n",
    "            #For plate expt\n",
    "            if od_rep.blank:\n",
    "                specific_prod = average_exponential_specific_productivity(od_rep) \n",
    "                y = np.average(specific_prod)\n",
    "                y_err = np.std(specific_prod)\n",
    "\n",
    "            #For bioreactor expt\n",
    "            else:\n",
    "                y = np.average(np.gradient(od_rep.avg.analyte_dict['OD600'].pd_series[:od_timepoint].values)/np.gradient(od_rep.avg.analyte_dict['OD600'].pd_series[:od_timepoint].index.values)/od_rep.avg.analyte_dict['OD600'].pd_series[:od_timepoint].values)\n",
    "                y_err = 0\n",
    "        \n",
    "                \n",
    "        #For biomass yield\n",
    "        elif analyte=='Biomass':\n",
    "            #For plate expt\n",
    "            if od_rep.blank:\n",
    "                end_point_ods = end_point_biomass(od_rep)\n",
    "                y = -np.average(end_point_ods)/hplc_rep.avg.analyte_dict['Glucose'].pd_series.iloc[od_timepoint] * (0.3) #0.3 g/L dry weight of cells in 1 unit of OD600\n",
    "                y_err = np.std(end_point_ods)\n",
    "                y_err = y*np.sqrt((y_err/np.average(end_point_ods))**2 + \n",
    "                                  (hplc_rep.std.analyte_dict['Glucose'].pd_series.iloc[od_timepoint]/hplc_rep.avg.analyte_dict['Glucose'].pd_series.iloc[od_timepoint])**2)\n",
    "            #For bioreactor expt\n",
    "            else:\n",
    "                y = (od_rep.avg.analyte_dict['OD600'].pd_series[:od_timepoint].iloc[-1] - od_rep.avg.analyte_dict['OD600'].pd_series.iloc[0])/(hplc_rep.avg.analyte_dict['Glucose'].pd_series[0] - hplc_rep.avg.analyte_dict['Glucose'].pd_series[:od_timepoint].iloc[-1]) * (0.3) #0.3 g/L dry weight of cells in 1 unit of OD600\n",
    "                y_err = 0\n",
    "        y_vals.append(y)\n",
    "        y_errs.append(y_err)        \n",
    "    return y_vals, y_errs\n"
   ]
  },
  {
   "cell_type": "markdown",
   "id": "hidden-programming",
   "metadata": {},
   "source": [
    "## Loading individual replicate data for all experimental conditions to perform PCA ##"
   ]
  },
  {
   "cell_type": "code",
   "execution_count": 17,
   "id": "literary-thesaurus",
   "metadata": {},
   "outputs": [],
   "source": [
    "strain_list = ['WT', 'Δ(adh,pta)-D1', 'Δ(adh,pta)-D28', 'Δ(adh,pta)-D59']\n",
    "condition_list = ['RDM + 7.0 a.u. pH', 'RDM + 1.0 mM Cysteine', 'RDM + 1.0 mM DTT', 'RDM + 8.0 mM Na2S', 'RDM + 8.0 a.u. pH']\n",
    "analyte_list = ['Acetate', 'Formate', 'Lactate', 'Pyruvate', 'Succinate', 'Biomass', 'Growth Rate', 'OD0', 'OD2', 'OD4', 'OD6', 'OD8']\n",
    "mass_dict = {'Lactate':89.078,\n",
    "         'Acetate':59.052,\n",
    "         'Formate':45.025,\n",
    "         'Succinate':116.088,\n",
    "         'Pyruvate':87.06,\n",
    "         'Glucose':180.156}\n",
    "st_df = pd.DataFrame()\n",
    "for strain in strain_list:\n",
    "    if strain.lower() != 'blank':\n",
    "        for condition in condition_list:\n",
    "            temp_df = pd.DataFrame()\n",
    "            od_rep = [rep for rep in red_od.replicate_trials if rep.trial_identifier.strain.name==strain and str(rep.trial_identifier.media)==condition][0]\n",
    "            hplc_rep = [rep for rep in red_titers.replicate_trials if rep.trial_identifier.strain.name==strain and str(rep.trial_identifier.media)==condition][0] \n",
    "            for analyte in ['Glucose']+analyte_list:\n",
    "                if analyte not in ['Biomass', 'Growth Rate', 'OD0', 'OD2', 'OD4', 'OD6', 'OD8']:\n",
    "                    temp_df = pd.concat([temp_df,hplc_rep.replicate_df[analyte].transpose().rename(columns={24:analyte.lower()})], axis=1)\n",
    "\n",
    "                elif analyte=='Growth Rate':\n",
    "                    temp_df = pd.concat([temp_df, pd.Series(average_exponential_specific_productivity_singletrial(od_rep))],axis=1).rename(columns={0:'growth_rate'})\n",
    "                    \n",
    "                elif analyte=='Biomass':\n",
    "                    temp_df = pd.concat([temp_df, pd.Series(end_point_biomass_singletrial(od_rep))*0.3],axis=1).rename(columns={0:'biomass'})\n",
    "                elif 'OD' in analyte:\n",
    "                    temp_df = pd.concat([temp_df, pd.DataFrame(od_rep.replicate_df['OD600'].transpose()[int(analyte.lstrip('OD'))]).rename(columns={int(analyte.lstrip('OD')):analyte.lower()})], axis=1)\n",
    "            temp_df.reset_index(level=0, inplace=True)\n",
    "            temp_df = temp_df.rename(columns={'index':'replicate'})\n",
    "            temp_df = temp_df.fillna(temp_df.mean())\n",
    "            temp_df['biomass_yield'] = -temp_df['biomass']/temp_df['glucose']\n",
    "            temp_df['acetate_yield'] = -temp_df['acetate']/temp_df['glucose']*mass_dict['Glucose']/mass_dict['Acetate']\n",
    "            temp_df['formate_yield'] = -temp_df['formate']/temp_df['glucose']*mass_dict['Glucose']/mass_dict['Formate']\n",
    "            temp_df['lactate_yield'] = -temp_df['lactate']/temp_df['glucose']*mass_dict['Glucose']/mass_dict['Lactate']\n",
    "            temp_df['pyruvate_yield'] = -temp_df['pyruvate']/temp_df['glucose']*mass_dict['Glucose']/mass_dict['Pyruvate']\n",
    "            temp_df['succinate_yield'] = -temp_df['succinate']/temp_df['glucose']*mass_dict['Glucose']/mass_dict['Succinate']\n",
    "            temp_df['strain'] = strain\n",
    "            temp_df['condition'] = condition\n",
    "            temp_df['starting_glucose'] = hplc_rep.blank.avg.analyte_dict['Glucose'].pd_series[24]\n",
    "            temp_df = temp_df.drop(columns=['biomass'])\n",
    "            temp_df = temp_df.sort_values(by=['strain', 'condition', 'replicate'])\n",
    "            st_df = pd.concat([st_df,temp_df], axis=0)\n",
    "\n",
    "analyte_list = ['Acetate', 'Formate', 'Lactate', 'Pyruvate', 'Succinate', 'Biomass', 'Growth Rate']\n",
    "for strain in strain_list:\n",
    "    temp_df = pd.DataFrame()\n",
    "    rep = [rep for rep in reactor.replicate_trials if rep.trial_identifier.strain.name==strain][0]\n",
    "    y,temp = yield_calculator([rep,rep],od_timepoint=8, hplc_timepoint=8)\n",
    "    entry = {analyte.lower()+'_yield': y[i] for i,analyte in enumerate(analyte_list)}\n",
    "    entry['growth_rate'] = entry.pop('growth rate_yield')\n",
    "    temp_df = temp_df.append(entry,ignore_index=True)\n",
    "    temp_df = temp_df.rename(columns={'biomass': 'biomass_yield'})\n",
    "    temp_df['strain'] = strain\n",
    "    temp_df['condition'] = 'reactor'\n",
    "    temp_df['replicate'] = '1'\n",
    "    for analyte in ['OD0', 'OD2', 'OD4', 'OD6', 'OD8']:\n",
    "        temp_df[analyte.lower()] = rep.replicate_df['OD600'].loc[int(analyte.lstrip('OD'))].values[0]\n",
    "        \n",
    "    temp_df['glucose'] = rep.avg.analyte_dict['Glucose'].pd_series.loc[8] - rep.avg.analyte_dict['Glucose'].pd_series.loc[0]\n",
    "    for analyte in ['acetate', 'lactate',  'formate', 'pyruvate', 'succinate']:\n",
    "            temp_df[analyte] = -temp_df[analyte+'_yield']*mass_dict[analyte.title()]/mass_dict['Glucose']*temp_df['glucose']\n",
    "    temp_df['starting_glucose'] = rep.avg.analyte_dict['Glucose'].pd_series.loc[0]\n",
    "\n",
    "    st_df = pd.concat([st_df,temp_df], axis=0)\n",
    "\n",
    "\n",
    "st_df = st_df.reset_index(level=0, drop=True)\n"
   ]
  },
  {
   "cell_type": "markdown",
   "id": "accompanied-worst",
   "metadata": {},
   "source": [
    "### PCA with 6 components on standard scaled phenotype data ###"
   ]
  },
  {
   "cell_type": "code",
   "execution_count": 20,
   "id": "instrumental-pricing",
   "metadata": {},
   "outputs": [],
   "source": [
    "features = ['acetate', 'formate', 'lactate', 'pyruvate', 'succinate', 'growth_rate', 'biomass_yield']\n",
    "\n",
    "pca = PCA(n_components=6)\n",
    "x = st_df[features].values\n",
    "y = st_df[['strain','condition']].values\n",
    "x = StandardScaler().fit_transform(x)\n",
    "pcs = pca.fit_transform(x)\n",
    "principal_df = pd.DataFrame(data=pcs[:,:4], columns = ['PC1', 'PC2','PC3','PC4'])\n",
    "\n",
    "final_df = st_df.copy(deep=True)\n",
    "final_df = final_df.drop(columns=features+['replicate','glucose','starting_glucose'])\n",
    "final_df = pd.concat([final_df,principal_df], axis=1)"
   ]
  },
  {
   "cell_type": "markdown",
   "id": "every-wholesale",
   "metadata": {},
   "source": [
    "### Plot cumulative variance represented by each component ###"
   ]
  },
  {
   "cell_type": "code",
   "execution_count": 30,
   "id": "central-senior",
   "metadata": {},
   "outputs": [
    {
     "data": {
      "application/vnd.plotly.v1+json": {
       "config": {
        "linkText": "Export to plot.ly",
        "plotlyServerURL": "https://plot.ly",
        "showLink": false
       },
       "data": [
        {
         "line": {
          "color": "rgb(33,100,175)",
          "width": 1.5
         },
         "mode": "lines+markers",
         "name": "biomass_yield",
         "type": "scatter",
         "x": [
          1,
          2,
          3,
          4,
          5,
          6
         ],
         "y": [
          0.6312711304766782,
          0.7766092279879834,
          0.9045642614390349,
          0.951841825012515,
          0.9847247490373312,
          0.9974003638124685
         ]
        }
       ],
       "layout": {
        "height": 425,
        "legend": {
         "font": {
          "color": "black",
          "family": "Myriad Pro",
          "size": 12
         },
         "orientation": "h",
         "x": 0.1,
         "y": -0.15
        },
        "template": {
         "data": {
          "scatter": [
           {
            "type": "scatter"
           }
          ]
         }
        },
        "width": 405,
        "xaxis": {
         "linecolor": "black",
         "linewidth": 1,
         "mirror": true,
         "nticks": 8,
         "showgrid": true,
         "showline": true,
         "side": "bottom",
         "tickangle": 0,
         "tickcolor": "black",
         "tickfont": {
          "color": "black",
          "family": "Myriad Pro",
          "size": 16
         },
         "ticklen": 4,
         "ticks": "outside",
         "title": {
          "font": {
           "color": "black",
           "family": "Myriad Pro",
           "size": 16
          },
          "standoff": 0.5,
          "text": "Number of Components"
         },
         "zeroline": true
        },
        "yaxis": {
         "anchor": "x",
         "linecolor": "black",
         "linewidth": 1,
         "mirror": true,
         "showgrid": true,
         "showline": true,
         "side": "left",
         "tickangle": 0,
         "tickcolor": "black",
         "tickfont": {
          "color": "black",
          "family": "Myriad Pro",
          "size": 16
         },
         "ticklen": 4,
         "ticks": "outside",
         "title": {
          "font": {
           "color": "black",
           "family": "Myriad Pro",
           "size": 16
          },
          "text": "Cumulative Variance Explained"
         },
         "zeroline": true
        }
       }
      },
      "text/html": [
       "<div>                            <div id=\"2d3481c6-c0a7-44cf-b15c-3cc94b0095b1\" class=\"plotly-graph-div\" style=\"height:425px; width:405px;\"></div>            <script type=\"text/javascript\">                require([\"plotly\"], function(Plotly) {                    window.PLOTLYENV=window.PLOTLYENV || {};                                    if (document.getElementById(\"2d3481c6-c0a7-44cf-b15c-3cc94b0095b1\")) {                    Plotly.newPlot(                        \"2d3481c6-c0a7-44cf-b15c-3cc94b0095b1\",                        [{\"line\": {\"color\": \"rgb(33,100,175)\", \"width\": 1.5}, \"mode\": \"lines+markers\", \"name\": \"biomass_yield\", \"type\": \"scatter\", \"x\": [1, 2, 3, 4, 5, 6], \"y\": [0.6312711304766782, 0.7766092279879834, 0.9045642614390349, 0.951841825012515, 0.9847247490373312, 0.9974003638124685]}],                        {\"height\": 425, \"legend\": {\"font\": {\"color\": \"black\", \"family\": \"Myriad Pro\", \"size\": 12}, \"orientation\": \"h\", \"x\": 0.1, \"y\": -0.15}, \"template\": {\"data\": {\"scatter\": [{\"type\": \"scatter\"}]}}, \"width\": 405, \"xaxis\": {\"linecolor\": \"black\", \"linewidth\": 1, \"mirror\": true, \"nticks\": 8, \"showgrid\": true, \"showline\": true, \"side\": \"bottom\", \"tickangle\": 0, \"tickcolor\": \"black\", \"tickfont\": {\"color\": \"black\", \"family\": \"Myriad Pro\", \"size\": 16}, \"ticklen\": 4, \"ticks\": \"outside\", \"title\": {\"font\": {\"color\": \"black\", \"family\": \"Myriad Pro\", \"size\": 16}, \"standoff\": 0.5, \"text\": \"Number of Components\"}, \"zeroline\": true}, \"yaxis\": {\"anchor\": \"x\", \"linecolor\": \"black\", \"linewidth\": 1, \"mirror\": true, \"showgrid\": true, \"showline\": true, \"side\": \"left\", \"tickangle\": 0, \"tickcolor\": \"black\", \"tickfont\": {\"color\": \"black\", \"family\": \"Myriad Pro\", \"size\": 16}, \"ticklen\": 4, \"ticks\": \"outside\", \"title\": {\"font\": {\"color\": \"black\", \"family\": \"Myriad Pro\", \"size\": 16}, \"text\": \"Cumulative Variance Explained\"}, \"zeroline\": true}},                        {\"responsive\": true}                    ).then(function(){\n",
       "                            \n",
       "var gd = document.getElementById('2d3481c6-c0a7-44cf-b15c-3cc94b0095b1');\n",
       "var x = new MutationObserver(function (mutations, observer) {{\n",
       "        var display = window.getComputedStyle(gd).display;\n",
       "        if (!display || display === 'none') {{\n",
       "            console.log([gd, 'removed!']);\n",
       "            Plotly.purge(gd);\n",
       "            observer.disconnect();\n",
       "        }}\n",
       "}});\n",
       "\n",
       "// Listen for the removal of the full notebook cells\n",
       "var notebookContainer = gd.closest('#notebook-container');\n",
       "if (notebookContainer) {{\n",
       "    x.observe(notebookContainer, {childList: true});\n",
       "}}\n",
       "\n",
       "// Listen for the clearing of the current output cell\n",
       "var outputEl = gd.closest('.output');\n",
       "if (outputEl) {{\n",
       "    x.observe(outputEl, {childList: true});\n",
       "}}\n",
       "\n",
       "                        })                };                });            </script>        </div>"
      ]
     },
     "metadata": {},
     "output_type": "display_data"
    }
   ],
   "source": [
    "trace_list = []\n",
    "\n",
    "trace_list.append(go.Scatter(x=np.arange(1,7),\n",
    "                             y=np.cumsum(pca.explained_variance_ratio_),\n",
    "                             mode='lines+markers',\n",
    "                             line=dict(width=1.5, color='rgb(33,100,175)'),\n",
    "                             name=analyte))\n",
    "\n",
    "\n",
    "layout = go.Layout(height=425, width=405, legend_x= 0.1, legend_y=-0.15, legend_font=dict(family='Myriad Pro', size=12, color='black'), legend_orientation='h',\n",
    "                   xaxis=dict(title='Number of Components',\n",
    "                              title_standoff=0.5,\n",
    "                              titlefont=dict(family='Myriad Pro', size=16, color='black'),\n",
    "                              showline=True, linewidth=1, linecolor='black', mirror=True, side='bottom',\n",
    "                              ticks='outside', ticklen=4, tickangle=0, nticks=8,\n",
    "                              tickfont=dict(size=16, family='Myriad Pro', color='black'), tickcolor='black',\n",
    "                              showgrid=True,zeroline=True),\n",
    "                  \n",
    "                  yaxis=dict(title='Cumulative Variance Explained',\n",
    "                            titlefont=dict(family='Myriad Pro', size=16, color='black'),\n",
    "\n",
    "                              anchor='x', side='left', showgrid=True, zeroline=True,\n",
    "                            tickfont=dict(family='Myriad Pro',size=16, color='black'), tickcolor='black', \n",
    "\n",
    "                              showline=True, linewidth=1, linecolor='black', mirror=True,\n",
    "                              ticks='outside', ticklen=4, tickangle=0))\n",
    "\n",
    "\n",
    "\n",
    "            \n",
    "fig = go.Figure(data = trace_list, layout=layout)\n",
    "plot(fig)\n",
    "#pio.write_image(fig,\"/Figures/si_fig_red_pca_variance.svg\",format='svg')\n"
   ]
  },
  {
   "cell_type": "markdown",
   "id": "hispanic-horror",
   "metadata": {},
   "source": [
    "### Plot scores of first 3 PCs ###"
   ]
  },
  {
   "cell_type": "code",
   "execution_count": 31,
   "id": "jewish-conditioning",
   "metadata": {},
   "outputs": [
    {
     "data": {
      "application/vnd.plotly.v1+json": {
       "config": {
        "linkText": "Export to plot.ly",
        "plotlyServerURL": "https://plot.ly",
        "showLink": false
       },
       "data": [
        {
         "marker": {
          "color": "rgb(54, 146, 68)",
          "line": {
           "color": "black",
           "width": 0.5
          },
          "size": 12,
          "symbol": "circle"
         },
         "mode": "markers",
         "showlegend": false,
         "type": "scatter",
         "x": [
          6.459276599919584
         ],
         "xaxis": "x2",
         "y": [
          6.6200409152916375
         ],
         "yaxis": "y2"
        },
        {
         "marker": {
          "color": "rgb(33, 100, 175)",
          "line": {
           "color": "black",
           "width": 0.5
          },
          "size": 8,
          "symbol": "circle"
         },
         "mode": "markers",
         "showlegend": false,
         "type": "scatter",
         "x": [
          -0.5589024658837971,
          -0.6495250496685181,
          -0.6992723681595722,
          -0.6939986114647589
         ],
         "xaxis": "x2",
         "y": [
          3.2618441658283985,
          3.1886077671184747,
          3.2353434668650696,
          3.305280413820071
         ],
         "yaxis": "y2"
        },
        {
         "marker": {
          "color": "rgb(217, 72, 42)",
          "line": {
           "color": "black",
           "width": 0.5
          },
          "size": 8,
          "symbol": "circle"
         },
         "mode": "markers",
         "showlegend": false,
         "type": "scatter",
         "x": [
          -0.758732534817709,
          -0.7914625929465486,
          -0.7156581173394435,
          -0.6977109463741233
         ],
         "xaxis": "x2",
         "y": [
          3.102099859385835,
          3.3743285021152873,
          3.3547361293127604,
          3.0898674581943206
         ],
         "yaxis": "y2"
        },
        {
         "marker": {
          "color": "rgb(146, 54, 132)",
          "line": {
           "color": "black",
           "width": 0.5
          },
          "size": 8,
          "symbol": "circle"
         },
         "mode": "markers",
         "showlegend": false,
         "type": "scatter",
         "x": [
          -1.260632800832311,
          -1.3744691758134904,
          -1.355919366155836,
          -1.3957912150016454
         ],
         "xaxis": "x2",
         "y": [
          2.487536661072873,
          2.628289942746422,
          2.496509959095717,
          2.640438844520288
         ],
         "yaxis": "y2"
        },
        {
         "marker": {
          "color": "rgb(175, 127, 91)",
          "line": {
           "color": "black",
           "width": 0.5
          },
          "size": 8,
          "symbol": "circle"
         },
         "mode": "markers",
         "showlegend": false,
         "type": "scatter",
         "x": [
          -0.6770262985123582,
          -0.6764016411460428,
          -0.6865866482541457,
          -0.6740666746360505
         ],
         "xaxis": "x2",
         "y": [
          3.4860106464704628,
          3.46641721792311,
          3.493891682329789,
          3.3864019146121875
         ],
         "yaxis": "y2"
        },
        {
         "marker": {
          "color": "rgb(166.0, 193, 223)",
          "line": {
           "color": "black",
           "width": 0.5
          },
          "size": 8,
          "symbol": "circle"
         },
         "mode": "markers",
         "showlegend": false,
         "type": "scatter",
         "x": [
          0.3917293398953827,
          0.28820295903809606,
          0.2807665436068332,
          0.3304612095710959
         ],
         "xaxis": "x2",
         "y": [
          4.314092592522468,
          4.326682173878195,
          4.292659862362463,
          4.35858994551263
         ],
         "yaxis": "y2"
        },
        {
         "marker": {
          "color": "rgb(54, 146, 68)",
          "line": {
           "color": "black",
           "width": 0.5
          },
          "size": 12,
          "symbol": "x"
         },
         "mode": "markers",
         "showlegend": false,
         "type": "scatter",
         "x": [
          -0.9235329728502314
         ],
         "xaxis": "x2",
         "y": [
          -2.5497096718505428
         ],
         "yaxis": "y2"
        },
        {
         "marker": {
          "color": "rgb(33, 100, 175)",
          "line": {
           "color": "black",
           "width": 0.5
          },
          "size": 8,
          "symbol": "x"
         },
         "mode": "markers",
         "showlegend": false,
         "type": "scatter",
         "x": [
          -0.16080226776773363,
          -0.30145506883614603,
          -0.2633856188996858,
          -0.26888466409349643
         ],
         "xaxis": "x2",
         "y": [
          -1.0338488327820008,
          -0.961535194412087,
          -0.9886626613181565,
          -0.9547767517016797
         ],
         "yaxis": "y2"
        },
        {
         "marker": {
          "color": "rgb(217, 72, 42)",
          "line": {
           "color": "black",
           "width": 0.5
          },
          "size": 8,
          "symbol": "x"
         },
         "mode": "markers",
         "showlegend": false,
         "type": "scatter",
         "x": [
          -0.44624279805146416,
          -0.41829545951127073,
          -0.4164089595787252,
          -0.3360395105114916
         ],
         "xaxis": "x2",
         "y": [
          -1.0109183517410736,
          -1.1022594412664795,
          -1.0388281078168065,
          -1.0986563664096816
         ],
         "yaxis": "y2"
        },
        {
         "marker": {
          "color": "rgb(146, 54, 132)",
          "line": {
           "color": "black",
           "width": 0.5
          },
          "size": 8,
          "symbol": "x"
         },
         "mode": "markers",
         "showlegend": false,
         "type": "scatter",
         "x": [
          -0.39812931982103866,
          -0.3320387387118134,
          -0.4008278065698602,
          -0.29203276179287446
         ],
         "xaxis": "x2",
         "y": [
          -1.1531812915634674,
          -1.0266793599515234,
          -0.9288574678724477,
          -1.0817713887803497
         ],
         "yaxis": "y2"
        },
        {
         "marker": {
          "color": "rgb(175, 127, 91)",
          "line": {
           "color": "black",
           "width": 0.5
          },
          "size": 8,
          "symbol": "x"
         },
         "mode": "markers",
         "showlegend": false,
         "type": "scatter",
         "x": [
          -0.7842091261865671,
          -0.7872003722912284,
          -0.7664857891562022,
          -0.7628937145381564
         ],
         "xaxis": "x2",
         "y": [
          -1.443298746880917,
          -1.3346442830352576,
          -1.3318346914000938,
          -1.3337860065465181
         ],
         "yaxis": "y2"
        },
        {
         "marker": {
          "color": "rgb(166.0, 193, 223)",
          "line": {
           "color": "black",
           "width": 0.5
          },
          "size": 8,
          "symbol": "x"
         },
         "mode": "markers",
         "showlegend": false,
         "type": "scatter",
         "x": [
          0.3318544712822926,
          0.2006043663725368,
          0.12338878778103377,
          0.04610714309139411
         ],
         "xaxis": "x2",
         "y": [
          -1.2332241603303606,
          -1.3241154465911917,
          -1.4260460089908018,
          -1.5468402368299659
         ],
         "yaxis": "y2"
        },
        {
         "marker": {
          "color": "rgb(54, 146, 68)",
          "line": {
           "color": "black",
           "width": 0.5
          },
          "size": 12,
          "symbol": "diamond"
         },
         "mode": "markers",
         "showlegend": false,
         "type": "scatter",
         "x": [
          -0.16993923807418318
         ],
         "xaxis": "x2",
         "y": [
          -2.4588888075409114
         ],
         "yaxis": "y2"
        },
        {
         "marker": {
          "color": "rgb(33, 100, 175)",
          "line": {
           "color": "black",
           "width": 0.5
          },
          "size": 8,
          "symbol": "diamond"
         },
         "mode": "markers",
         "showlegend": false,
         "type": "scatter",
         "x": [
          0.06868780992784954,
          -0.0920543416305427,
          -0.09545249900160376,
          -0.03726680820677038
         ],
         "xaxis": "x2",
         "y": [
          -0.859798073166329,
          -0.845645218303312,
          -0.849697551981576,
          -0.900143896079523
         ],
         "yaxis": "y2"
        },
        {
         "marker": {
          "color": "rgb(217, 72, 42)",
          "line": {
           "color": "black",
           "width": 0.5
          },
          "size": 8,
          "symbol": "diamond"
         },
         "mode": "markers",
         "showlegend": false,
         "type": "scatter",
         "x": [
          -0.36246445591998105,
          -0.3606243485804239,
          -0.40281390146880697,
          -0.4007064868505461
         ],
         "xaxis": "x2",
         "y": [
          -0.8062371516304787,
          -0.7289326535034567,
          -0.7856183420840096,
          -0.8296656323468137
         ],
         "yaxis": "y2"
        },
        {
         "marker": {
          "color": "rgb(146, 54, 132)",
          "line": {
           "color": "black",
           "width": 0.5
          },
          "size": 8,
          "symbol": "diamond"
         },
         "mode": "markers",
         "showlegend": false,
         "type": "scatter",
         "x": [
          -0.2155563201179656,
          -0.217399367992311,
          -0.18878913312564063,
          -0.2150189814840169
         ],
         "xaxis": "x2",
         "y": [
          -1.0589395726147972,
          -1.0679503279029299,
          -1.1407596671267417,
          -1.0765257660845542
         ],
         "yaxis": "y2"
        },
        {
         "marker": {
          "color": "rgb(175, 127, 91)",
          "line": {
           "color": "black",
           "width": 0.5
          },
          "size": 8,
          "symbol": "diamond"
         },
         "mode": "markers",
         "showlegend": false,
         "type": "scatter",
         "x": [
          -0.7050070136050032,
          -0.7687117926919639,
          -0.8008954136229072,
          -0.5735584239302144
         ],
         "xaxis": "x2",
         "y": [
          -1.2600639735356691,
          -1.3269961423880718,
          -1.2099202886933433,
          -1.376848901680363
         ],
         "yaxis": "y2"
        },
        {
         "marker": {
          "color": "rgb(166.0, 193, 223)",
          "line": {
           "color": "black",
           "width": 0.5
          },
          "size": 8,
          "symbol": "diamond"
         },
         "mode": "markers",
         "showlegend": false,
         "type": "scatter",
         "x": [
          0.23599747461571055,
          0.05615205730530667,
          0.12593034498602299,
          0.1416243826986637
         ],
         "xaxis": "x2",
         "y": [
          -1.3924786517393128,
          -1.1665781339071473,
          -1.337657244113286,
          -1.4240343693560782
         ],
         "yaxis": "y2"
        },
        {
         "marker": {
          "color": "rgb(54, 146, 68)",
          "line": {
           "color": "black",
           "width": 0.5
          },
          "size": 12,
          "symbol": "square"
         },
         "mode": "markers",
         "showlegend": false,
         "type": "scatter",
         "x": [
          0.8959436878709666
         ],
         "xaxis": "x2",
         "y": [
          -2.231662806961588
         ],
         "yaxis": "y2"
        },
        {
         "marker": {
          "color": "rgb(33, 100, 175)",
          "line": {
           "color": "black",
           "width": 0.5
          },
          "size": 8,
          "symbol": "square"
         },
         "mode": "markers",
         "showlegend": false,
         "type": "scatter",
         "x": [
          0.7625387153002563,
          0.6938866565937548,
          0.6168797209636326,
          0.7121317190622419
         ],
         "xaxis": "x2",
         "y": [
          -0.8994419224717745,
          -0.8415740555980106,
          -0.7741701841756858,
          -0.8125468848413496
         ],
         "yaxis": "y2"
        },
        {
         "marker": {
          "color": "rgb(217, 72, 42)",
          "line": {
           "color": "black",
           "width": 0.5
          },
          "size": 8,
          "symbol": "square"
         },
         "mode": "markers",
         "showlegend": false,
         "type": "scatter",
         "x": [
          0.29829405533171455,
          0.237097839974236,
          0.2825906183447671,
          0.3427735184923657
         ],
         "xaxis": "x2",
         "y": [
          -0.8702846266460127,
          -0.8436504317414742,
          -0.7626401038121654,
          -0.7673269287820278
         ],
         "yaxis": "y2"
        },
        {
         "marker": {
          "color": "rgb(146, 54, 132)",
          "line": {
           "color": "black",
           "width": 0.5
          },
          "size": 8,
          "symbol": "square"
         },
         "mode": "markers",
         "showlegend": false,
         "type": "scatter",
         "x": [
          0.5758104308116713,
          0.5393642072103697,
          0.6478442557046318,
          0.622590893406731
         ],
         "xaxis": "x2",
         "y": [
          -1.3632102122609362,
          -1.2914033557079236,
          -1.3131647840424148,
          -1.2566995959325309
         ],
         "yaxis": "y2"
        },
        {
         "marker": {
          "color": "rgb(175, 127, 91)",
          "line": {
           "color": "black",
           "width": 0.5
          },
          "size": 8,
          "symbol": "square"
         },
         "mode": "markers",
         "showlegend": false,
         "type": "scatter",
         "x": [
          0.7883376217710388,
          0.8314308009905617,
          0.7701731338539012,
          0.7740325451900522
         ],
         "xaxis": "x2",
         "y": [
          -1.2573560332609302,
          -1.1636048220761503,
          -1.196099507751983,
          -1.2164507753265958
         ],
         "yaxis": "y2"
        },
        {
         "marker": {
          "color": "rgb(166.0, 193, 223)",
          "line": {
           "color": "black",
           "width": 0.5
          },
          "size": 8,
          "symbol": "square"
         },
         "mode": "markers",
         "showlegend": false,
         "type": "scatter",
         "x": [
          1.9981876053646725,
          1.9753097686970984,
          1.9773722123813762,
          1.907906485069377
         ],
         "xaxis": "x2",
         "y": [
          -1.349918348879653,
          -1.340197152924074,
          -1.2754855846509652,
          -1.2759271692841025
         ],
         "yaxis": "y2"
        },
        {
         "marker": {
          "color": "rgb(54, 146, 68)",
          "line": {
           "color": "black",
           "width": 0.5
          },
          "size": 12,
          "symbol": "circle"
         },
         "mode": "markers",
         "showlegend": false,
         "type": "scatter",
         "x": [
          4.534623699248589
         ],
         "xaxis": "x3",
         "y": [
          6.6200409152916375
         ],
         "yaxis": "y3"
        },
        {
         "marker": {
          "color": "rgb(33, 100, 175)",
          "line": {
           "color": "black",
           "width": 0.5
          },
          "size": 8,
          "symbol": "circle"
         },
         "mode": "markers",
         "showlegend": false,
         "type": "scatter",
         "x": [
          -0.10440962313393606,
          -0.0296413156938284,
          -0.01621663550736761,
          -0.03590382602704629
         ],
         "xaxis": "x3",
         "y": [
          3.2618441658283985,
          3.1886077671184747,
          3.2353434668650696,
          3.305280413820071
         ],
         "yaxis": "y3"
        },
        {
         "marker": {
          "color": "rgb(217, 72, 42)",
          "line": {
           "color": "black",
           "width": 0.5
          },
          "size": 8,
          "symbol": "circle"
         },
         "mode": "markers",
         "showlegend": false,
         "type": "scatter",
         "x": [
          -0.22947785091143968,
          -0.32279946210038957,
          -0.2621868286928464,
          -0.20864087981761512
         ],
         "xaxis": "x3",
         "y": [
          3.102099859385835,
          3.3743285021152873,
          3.3547361293127604,
          3.0898674581943206
         ],
         "yaxis": "y3"
        },
        {
         "marker": {
          "color": "rgb(146, 54, 132)",
          "line": {
           "color": "black",
           "width": 0.5
          },
          "size": 8,
          "symbol": "circle"
         },
         "mode": "markers",
         "showlegend": false,
         "type": "scatter",
         "x": [
          0.008748313996239609,
          0.14537223628941756,
          0.1948773552225492,
          0.10274578972154141
         ],
         "xaxis": "x3",
         "y": [
          2.487536661072873,
          2.628289942746422,
          2.496509959095717,
          2.640438844520288
         ],
         "yaxis": "y3"
        },
        {
         "marker": {
          "color": "rgb(175, 127, 91)",
          "line": {
           "color": "black",
           "width": 0.5
          },
          "size": 8,
          "symbol": "circle"
         },
         "mode": "markers",
         "showlegend": false,
         "type": "scatter",
         "x": [
          -0.6598109557170759,
          -0.6324583602459521,
          -0.6181928450505989,
          -0.5182796622117326
         ],
         "xaxis": "x3",
         "y": [
          3.4860106464704628,
          3.46641721792311,
          3.493891682329789,
          3.3864019146121875
         ],
         "yaxis": "y3"
        },
        {
         "marker": {
          "color": "rgb(166.0, 193, 223)",
          "line": {
           "color": "black",
           "width": 0.5
          },
          "size": 8,
          "symbol": "circle"
         },
         "mode": "markers",
         "showlegend": false,
         "type": "scatter",
         "x": [
          -0.8372723374712424,
          -0.8637030070889193,
          -0.8816140641267072,
          -0.8794906758352423
         ],
         "xaxis": "x3",
         "y": [
          4.314092592522468,
          4.326682173878195,
          4.292659862362463,
          4.35858994551263
         ],
         "yaxis": "y3"
        },
        {
         "marker": {
          "color": "rgb(54, 146, 68)",
          "line": {
           "color": "black",
           "width": 0.5
          },
          "size": 12,
          "symbol": "x"
         },
         "mode": "markers",
         "showlegend": false,
         "type": "scatter",
         "x": [
          0.03034971162777037
         ],
         "xaxis": "x3",
         "y": [
          -2.5497096718505428
         ],
         "yaxis": "y3"
        },
        {
         "marker": {
          "color": "rgb(33, 100, 175)",
          "line": {
           "color": "black",
           "width": 0.5
          },
          "size": 8,
          "symbol": "x"
         },
         "mode": "markers",
         "showlegend": false,
         "type": "scatter",
         "x": [
          0.46785637112409095,
          0.43942576453002224,
          0.39796899525641394,
          0.40791122776747013
         ],
         "xaxis": "x3",
         "y": [
          -1.0338488327820008,
          -0.961535194412087,
          -0.9886626613181565,
          -0.9547767517016797
         ],
         "yaxis": "y3"
        },
        {
         "marker": {
          "color": "rgb(217, 72, 42)",
          "line": {
           "color": "black",
           "width": 0.5
          },
          "size": 8,
          "symbol": "x"
         },
         "mode": "markers",
         "showlegend": false,
         "type": "scatter",
         "x": [
          0.3560871383144661,
          0.4171372970223329,
          0.38146780675393815,
          0.3201276485603946
         ],
         "xaxis": "x3",
         "y": [
          -1.0109183517410736,
          -1.1022594412664795,
          -1.0388281078168065,
          -1.0986563664096816
         ],
         "yaxis": "y3"
        },
        {
         "marker": {
          "color": "rgb(146, 54, 132)",
          "line": {
           "color": "black",
           "width": 0.5
          },
          "size": 8,
          "symbol": "x"
         },
         "mode": "markers",
         "showlegend": false,
         "type": "scatter",
         "x": [
          0.17188756985728446,
          0.1382343222136298,
          0.14007746849432554,
          0.1262058028245816
         ],
         "xaxis": "x3",
         "y": [
          -1.1531812915634674,
          -1.0266793599515234,
          -0.9288574678724477,
          -1.0817713887803497
         ],
         "yaxis": "y3"
        },
        {
         "marker": {
          "color": "rgb(175, 127, 91)",
          "line": {
           "color": "black",
           "width": 0.5
          },
          "size": 8,
          "symbol": "x"
         },
         "mode": "markers",
         "showlegend": false,
         "type": "scatter",
         "x": [
          1.2149126065889861,
          1.1363730698750576,
          1.1400850335468533,
          1.1680427534507016
         ],
         "xaxis": "x3",
         "y": [
          -1.443298746880917,
          -1.3346442830352576,
          -1.3318346914000938,
          -1.3337860065465181
         ],
         "yaxis": "y3"
        },
        {
         "marker": {
          "color": "rgb(166.0, 193, 223)",
          "line": {
           "color": "black",
           "width": 0.5
          },
          "size": 8,
          "symbol": "x"
         },
         "mode": "markers",
         "showlegend": false,
         "type": "scatter",
         "x": [
          0.9909751444547292,
          1.0985834935935848,
          1.1729036752379514,
          1.1056761500603454
         ],
         "xaxis": "x3",
         "y": [
          -1.2332241603303606,
          -1.3241154465911917,
          -1.4260460089908018,
          -1.5468402368299659
         ],
         "yaxis": "y3"
        },
        {
         "marker": {
          "color": "rgb(54, 146, 68)",
          "line": {
           "color": "black",
           "width": 0.5
          },
          "size": 12,
          "symbol": "diamond"
         },
         "mode": "markers",
         "showlegend": false,
         "type": "scatter",
         "x": [
          0.07016216653281647
         ],
         "xaxis": "x3",
         "y": [
          -2.4588888075409114
         ],
         "yaxis": "y3"
        },
        {
         "marker": {
          "color": "rgb(33, 100, 175)",
          "line": {
           "color": "black",
           "width": 0.5
          },
          "size": 8,
          "symbol": "diamond"
         },
         "mode": "markers",
         "showlegend": false,
         "type": "scatter",
         "x": [
          0.09910865931270482,
          0.16925740028373323,
          0.1101031113334472,
          0.09340587851157423
         ],
         "xaxis": "x3",
         "y": [
          -0.859798073166329,
          -0.845645218303312,
          -0.849697551981576,
          -0.900143896079523
         ],
         "yaxis": "y3"
        },
        {
         "marker": {
          "color": "rgb(217, 72, 42)",
          "line": {
           "color": "black",
           "width": 0.5
          },
          "size": 8,
          "symbol": "diamond"
         },
         "mode": "markers",
         "showlegend": false,
         "type": "scatter",
         "x": [
          0.11247717807897935,
          0.12737581105658052,
          0.25595315631462817,
          0.2720460948871502
         ],
         "xaxis": "x3",
         "y": [
          -0.8062371516304787,
          -0.7289326535034567,
          -0.7856183420840096,
          -0.8296656323468137
         ],
         "yaxis": "y3"
        },
        {
         "marker": {
          "color": "rgb(146, 54, 132)",
          "line": {
           "color": "black",
           "width": 0.5
          },
          "size": 8,
          "symbol": "diamond"
         },
         "mode": "markers",
         "showlegend": false,
         "type": "scatter",
         "x": [
          -0.2760419045786936,
          -0.1940028285924614,
          -0.163668833192087,
          -0.05700538480720017
         ],
         "xaxis": "x3",
         "y": [
          -1.0589395726147972,
          -1.0679503279029299,
          -1.1407596671267417,
          -1.0765257660845542
         ],
         "yaxis": "y3"
        },
        {
         "marker": {
          "color": "rgb(175, 127, 91)",
          "line": {
           "color": "black",
           "width": 0.5
          },
          "size": 8,
          "symbol": "diamond"
         },
         "mode": "markers",
         "showlegend": false,
         "type": "scatter",
         "x": [
          1.2267675265699411,
          1.2608791994300372,
          1.3174407261809382,
          1.3941554771741658
         ],
         "xaxis": "x3",
         "y": [
          -1.2600639735356691,
          -1.3269961423880718,
          -1.2099202886933433,
          -1.376848901680363
         ],
         "yaxis": "y3"
        },
        {
         "marker": {
          "color": "rgb(166.0, 193, 223)",
          "line": {
           "color": "black",
           "width": 0.5
          },
          "size": 8,
          "symbol": "diamond"
         },
         "mode": "markers",
         "showlegend": false,
         "type": "scatter",
         "x": [
          1.2276687354103197,
          1.2121431647163632,
          1.2442979345952279,
          1.3013653335840205
         ],
         "xaxis": "x3",
         "y": [
          -1.3924786517393128,
          -1.1665781339071473,
          -1.337657244113286,
          -1.4240343693560782
         ],
         "yaxis": "y3"
        },
        {
         "marker": {
          "color": "rgb(54, 146, 68)",
          "line": {
           "color": "black",
           "width": 0.5
          },
          "size": 12,
          "symbol": "square"
         },
         "mode": "markers",
         "showlegend": false,
         "type": "scatter",
         "x": [
          -1.3419287944794918
         ],
         "xaxis": "x3",
         "y": [
          -2.231662806961588
         ],
         "yaxis": "y3"
        },
        {
         "marker": {
          "color": "rgb(33, 100, 175)",
          "line": {
           "color": "black",
           "width": 0.5
          },
          "size": 8,
          "symbol": "square"
         },
         "mode": "markers",
         "showlegend": false,
         "type": "scatter",
         "x": [
          -0.7084633305477105,
          -0.7590503107621221,
          -0.7894726778407886,
          -0.7748600671608987
         ],
         "xaxis": "x3",
         "y": [
          -0.8994419224717745,
          -0.8415740555980106,
          -0.7741701841756858,
          -0.8125468848413496
         ],
         "yaxis": "y3"
        },
        {
         "marker": {
          "color": "rgb(217, 72, 42)",
          "line": {
           "color": "black",
           "width": 0.5
          },
          "size": 8,
          "symbol": "square"
         },
         "mode": "markers",
         "showlegend": false,
         "type": "scatter",
         "x": [
          -0.601013268491649,
          -0.617807762567469,
          -0.5961287571469155,
          -0.6175314985553099
         ],
         "xaxis": "x3",
         "y": [
          -0.8702846266460127,
          -0.8436504317414742,
          -0.7626401038121654,
          -0.7673269287820278
         ],
         "yaxis": "y3"
        },
        {
         "marker": {
          "color": "rgb(146, 54, 132)",
          "line": {
           "color": "black",
           "width": 0.5
          },
          "size": 8,
          "symbol": "square"
         },
         "mode": "markers",
         "showlegend": false,
         "type": "scatter",
         "x": [
          -0.935045119911391,
          -0.8614544718290703,
          -0.9430522092737493,
          -0.9095681785971034
         ],
         "xaxis": "x3",
         "y": [
          -1.3632102122609362,
          -1.2914033557079236,
          -1.3131647840424148,
          -1.2566995959325309
         ],
         "yaxis": "y3"
        },
        {
         "marker": {
          "color": "rgb(175, 127, 91)",
          "line": {
           "color": "black",
           "width": 0.5
          },
          "size": 8,
          "symbol": "square"
         },
         "mode": "markers",
         "showlegend": false,
         "type": "scatter",
         "x": [
          -1.0664439747299663,
          -1.2174709331289817,
          -1.07595238665883,
          -1.0233332721911859
         ],
         "xaxis": "x3",
         "y": [
          -1.2573560332609302,
          -1.1636048220761503,
          -1.196099507751983,
          -1.2164507753265958
         ],
         "yaxis": "y3"
        },
        {
         "marker": {
          "color": "rgb(166.0, 193, 223)",
          "line": {
           "color": "black",
           "width": 0.5
          },
          "size": 8,
          "symbol": "square"
         },
         "mode": "markers",
         "showlegend": false,
         "type": "scatter",
         "x": [
          -1.6152947172916794,
          -1.72109940365511,
          -1.6620547545066127,
          -1.675420829477477
         ],
         "xaxis": "x3",
         "y": [
          -1.349918348879653,
          -1.340197152924074,
          -1.2754855846509652,
          -1.2759271692841025
         ],
         "yaxis": "y3"
        },
        {
         "marker": {
          "color": "rgb(54, 146, 68)",
          "line": {
           "color": "black",
           "width": 0.5
          },
          "size": 12,
          "symbol": "circle"
         },
         "mode": "markers",
         "showlegend": false,
         "type": "scatter",
         "x": [
          6.6200409152916375
         ],
         "xaxis": "x4",
         "y": [
          6.459276599919584
         ],
         "yaxis": "y4"
        },
        {
         "marker": {
          "color": "rgb(33, 100, 175)",
          "line": {
           "color": "black",
           "width": 0.5
          },
          "size": 8,
          "symbol": "circle"
         },
         "mode": "markers",
         "showlegend": false,
         "type": "scatter",
         "x": [
          3.2618441658283985,
          3.1886077671184747,
          3.2353434668650696,
          3.305280413820071
         ],
         "xaxis": "x4",
         "y": [
          -0.5589024658837971,
          -0.6495250496685181,
          -0.6992723681595722,
          -0.6939986114647589
         ],
         "yaxis": "y4"
        },
        {
         "marker": {
          "color": "rgb(217, 72, 42)",
          "line": {
           "color": "black",
           "width": 0.5
          },
          "size": 8,
          "symbol": "circle"
         },
         "mode": "markers",
         "showlegend": false,
         "type": "scatter",
         "x": [
          3.102099859385835,
          3.3743285021152873,
          3.3547361293127604,
          3.0898674581943206
         ],
         "xaxis": "x4",
         "y": [
          -0.758732534817709,
          -0.7914625929465486,
          -0.7156581173394435,
          -0.6977109463741233
         ],
         "yaxis": "y4"
        },
        {
         "marker": {
          "color": "rgb(146, 54, 132)",
          "line": {
           "color": "black",
           "width": 0.5
          },
          "size": 8,
          "symbol": "circle"
         },
         "mode": "markers",
         "showlegend": false,
         "type": "scatter",
         "x": [
          2.487536661072873,
          2.628289942746422,
          2.496509959095717,
          2.640438844520288
         ],
         "xaxis": "x4",
         "y": [
          -1.260632800832311,
          -1.3744691758134904,
          -1.355919366155836,
          -1.3957912150016454
         ],
         "yaxis": "y4"
        },
        {
         "marker": {
          "color": "rgb(175, 127, 91)",
          "line": {
           "color": "black",
           "width": 0.5
          },
          "size": 8,
          "symbol": "circle"
         },
         "mode": "markers",
         "showlegend": false,
         "type": "scatter",
         "x": [
          3.4860106464704628,
          3.46641721792311,
          3.493891682329789,
          3.3864019146121875
         ],
         "xaxis": "x4",
         "y": [
          -0.6770262985123582,
          -0.6764016411460428,
          -0.6865866482541457,
          -0.6740666746360505
         ],
         "yaxis": "y4"
        },
        {
         "marker": {
          "color": "rgb(166.0, 193, 223)",
          "line": {
           "color": "black",
           "width": 0.5
          },
          "size": 8,
          "symbol": "circle"
         },
         "mode": "markers",
         "showlegend": false,
         "type": "scatter",
         "x": [
          4.314092592522468,
          4.326682173878195,
          4.292659862362463,
          4.35858994551263
         ],
         "xaxis": "x4",
         "y": [
          0.3917293398953827,
          0.28820295903809606,
          0.2807665436068332,
          0.3304612095710959
         ],
         "yaxis": "y4"
        },
        {
         "marker": {
          "color": "rgb(54, 146, 68)",
          "line": {
           "color": "black",
           "width": 0.5
          },
          "size": 12,
          "symbol": "x"
         },
         "mode": "markers",
         "showlegend": false,
         "type": "scatter",
         "x": [
          -2.5497096718505428
         ],
         "xaxis": "x4",
         "y": [
          -0.9235329728502314
         ],
         "yaxis": "y4"
        },
        {
         "marker": {
          "color": "rgb(33, 100, 175)",
          "line": {
           "color": "black",
           "width": 0.5
          },
          "size": 8,
          "symbol": "x"
         },
         "mode": "markers",
         "showlegend": false,
         "type": "scatter",
         "x": [
          -1.0338488327820008,
          -0.961535194412087,
          -0.9886626613181565,
          -0.9547767517016797
         ],
         "xaxis": "x4",
         "y": [
          -0.16080226776773363,
          -0.30145506883614603,
          -0.2633856188996858,
          -0.26888466409349643
         ],
         "yaxis": "y4"
        },
        {
         "marker": {
          "color": "rgb(217, 72, 42)",
          "line": {
           "color": "black",
           "width": 0.5
          },
          "size": 8,
          "symbol": "x"
         },
         "mode": "markers",
         "showlegend": false,
         "type": "scatter",
         "x": [
          -1.0109183517410736,
          -1.1022594412664795,
          -1.0388281078168065,
          -1.0986563664096816
         ],
         "xaxis": "x4",
         "y": [
          -0.44624279805146416,
          -0.41829545951127073,
          -0.4164089595787252,
          -0.3360395105114916
         ],
         "yaxis": "y4"
        },
        {
         "marker": {
          "color": "rgb(146, 54, 132)",
          "line": {
           "color": "black",
           "width": 0.5
          },
          "size": 8,
          "symbol": "x"
         },
         "mode": "markers",
         "showlegend": false,
         "type": "scatter",
         "x": [
          -1.1531812915634674,
          -1.0266793599515234,
          -0.9288574678724477,
          -1.0817713887803497
         ],
         "xaxis": "x4",
         "y": [
          -0.39812931982103866,
          -0.3320387387118134,
          -0.4008278065698602,
          -0.29203276179287446
         ],
         "yaxis": "y4"
        },
        {
         "marker": {
          "color": "rgb(175, 127, 91)",
          "line": {
           "color": "black",
           "width": 0.5
          },
          "size": 8,
          "symbol": "x"
         },
         "mode": "markers",
         "showlegend": false,
         "type": "scatter",
         "x": [
          -1.443298746880917,
          -1.3346442830352576,
          -1.3318346914000938,
          -1.3337860065465181
         ],
         "xaxis": "x4",
         "y": [
          -0.7842091261865671,
          -0.7872003722912284,
          -0.7664857891562022,
          -0.7628937145381564
         ],
         "yaxis": "y4"
        },
        {
         "marker": {
          "color": "rgb(166.0, 193, 223)",
          "line": {
           "color": "black",
           "width": 0.5
          },
          "size": 8,
          "symbol": "x"
         },
         "mode": "markers",
         "showlegend": false,
         "type": "scatter",
         "x": [
          -1.2332241603303606,
          -1.3241154465911917,
          -1.4260460089908018,
          -1.5468402368299659
         ],
         "xaxis": "x4",
         "y": [
          0.3318544712822926,
          0.2006043663725368,
          0.12338878778103377,
          0.04610714309139411
         ],
         "yaxis": "y4"
        },
        {
         "marker": {
          "color": "rgb(54, 146, 68)",
          "line": {
           "color": "black",
           "width": 0.5
          },
          "size": 12,
          "symbol": "diamond"
         },
         "mode": "markers",
         "showlegend": false,
         "type": "scatter",
         "x": [
          -2.4588888075409114
         ],
         "xaxis": "x4",
         "y": [
          -0.16993923807418318
         ],
         "yaxis": "y4"
        },
        {
         "marker": {
          "color": "rgb(33, 100, 175)",
          "line": {
           "color": "black",
           "width": 0.5
          },
          "size": 8,
          "symbol": "diamond"
         },
         "mode": "markers",
         "showlegend": false,
         "type": "scatter",
         "x": [
          -0.859798073166329,
          -0.845645218303312,
          -0.849697551981576,
          -0.900143896079523
         ],
         "xaxis": "x4",
         "y": [
          0.06868780992784954,
          -0.0920543416305427,
          -0.09545249900160376,
          -0.03726680820677038
         ],
         "yaxis": "y4"
        },
        {
         "marker": {
          "color": "rgb(217, 72, 42)",
          "line": {
           "color": "black",
           "width": 0.5
          },
          "size": 8,
          "symbol": "diamond"
         },
         "mode": "markers",
         "showlegend": false,
         "type": "scatter",
         "x": [
          -0.8062371516304787,
          -0.7289326535034567,
          -0.7856183420840096,
          -0.8296656323468137
         ],
         "xaxis": "x4",
         "y": [
          -0.36246445591998105,
          -0.3606243485804239,
          -0.40281390146880697,
          -0.4007064868505461
         ],
         "yaxis": "y4"
        },
        {
         "marker": {
          "color": "rgb(146, 54, 132)",
          "line": {
           "color": "black",
           "width": 0.5
          },
          "size": 8,
          "symbol": "diamond"
         },
         "mode": "markers",
         "showlegend": false,
         "type": "scatter",
         "x": [
          -1.0589395726147972,
          -1.0679503279029299,
          -1.1407596671267417,
          -1.0765257660845542
         ],
         "xaxis": "x4",
         "y": [
          -0.2155563201179656,
          -0.217399367992311,
          -0.18878913312564063,
          -0.2150189814840169
         ],
         "yaxis": "y4"
        },
        {
         "marker": {
          "color": "rgb(175, 127, 91)",
          "line": {
           "color": "black",
           "width": 0.5
          },
          "size": 8,
          "symbol": "diamond"
         },
         "mode": "markers",
         "showlegend": false,
         "type": "scatter",
         "x": [
          -1.2600639735356691,
          -1.3269961423880718,
          -1.2099202886933433,
          -1.376848901680363
         ],
         "xaxis": "x4",
         "y": [
          -0.7050070136050032,
          -0.7687117926919639,
          -0.8008954136229072,
          -0.5735584239302144
         ],
         "yaxis": "y4"
        },
        {
         "marker": {
          "color": "rgb(166.0, 193, 223)",
          "line": {
           "color": "black",
           "width": 0.5
          },
          "size": 8,
          "symbol": "diamond"
         },
         "mode": "markers",
         "showlegend": false,
         "type": "scatter",
         "x": [
          -1.3924786517393128,
          -1.1665781339071473,
          -1.337657244113286,
          -1.4240343693560782
         ],
         "xaxis": "x4",
         "y": [
          0.23599747461571055,
          0.05615205730530667,
          0.12593034498602299,
          0.1416243826986637
         ],
         "yaxis": "y4"
        },
        {
         "marker": {
          "color": "rgb(54, 146, 68)",
          "line": {
           "color": "black",
           "width": 0.5
          },
          "size": 12,
          "symbol": "square"
         },
         "mode": "markers",
         "showlegend": false,
         "type": "scatter",
         "x": [
          -2.231662806961588
         ],
         "xaxis": "x4",
         "y": [
          0.8959436878709666
         ],
         "yaxis": "y4"
        },
        {
         "marker": {
          "color": "rgb(33, 100, 175)",
          "line": {
           "color": "black",
           "width": 0.5
          },
          "size": 8,
          "symbol": "square"
         },
         "mode": "markers",
         "showlegend": false,
         "type": "scatter",
         "x": [
          -0.8994419224717745,
          -0.8415740555980106,
          -0.7741701841756858,
          -0.8125468848413496
         ],
         "xaxis": "x4",
         "y": [
          0.7625387153002563,
          0.6938866565937548,
          0.6168797209636326,
          0.7121317190622419
         ],
         "yaxis": "y4"
        },
        {
         "marker": {
          "color": "rgb(217, 72, 42)",
          "line": {
           "color": "black",
           "width": 0.5
          },
          "size": 8,
          "symbol": "square"
         },
         "mode": "markers",
         "showlegend": false,
         "type": "scatter",
         "x": [
          -0.8702846266460127,
          -0.8436504317414742,
          -0.7626401038121654,
          -0.7673269287820278
         ],
         "xaxis": "x4",
         "y": [
          0.29829405533171455,
          0.237097839974236,
          0.2825906183447671,
          0.3427735184923657
         ],
         "yaxis": "y4"
        },
        {
         "marker": {
          "color": "rgb(146, 54, 132)",
          "line": {
           "color": "black",
           "width": 0.5
          },
          "size": 8,
          "symbol": "square"
         },
         "mode": "markers",
         "showlegend": false,
         "type": "scatter",
         "x": [
          -1.3632102122609362,
          -1.2914033557079236,
          -1.3131647840424148,
          -1.2566995959325309
         ],
         "xaxis": "x4",
         "y": [
          0.5758104308116713,
          0.5393642072103697,
          0.6478442557046318,
          0.622590893406731
         ],
         "yaxis": "y4"
        },
        {
         "marker": {
          "color": "rgb(175, 127, 91)",
          "line": {
           "color": "black",
           "width": 0.5
          },
          "size": 8,
          "symbol": "square"
         },
         "mode": "markers",
         "showlegend": false,
         "type": "scatter",
         "x": [
          -1.2573560332609302,
          -1.1636048220761503,
          -1.196099507751983,
          -1.2164507753265958
         ],
         "xaxis": "x4",
         "y": [
          0.7883376217710388,
          0.8314308009905617,
          0.7701731338539012,
          0.7740325451900522
         ],
         "yaxis": "y4"
        },
        {
         "marker": {
          "color": "rgb(166.0, 193, 223)",
          "line": {
           "color": "black",
           "width": 0.5
          },
          "size": 8,
          "symbol": "square"
         },
         "mode": "markers",
         "showlegend": false,
         "type": "scatter",
         "x": [
          -1.349918348879653,
          -1.340197152924074,
          -1.2754855846509652,
          -1.2759271692841025
         ],
         "xaxis": "x4",
         "y": [
          1.9981876053646725,
          1.9753097686970984,
          1.9773722123813762,
          1.907906485069377
         ],
         "yaxis": "y4"
        },
        {
         "marker": {
          "color": "rgb(54, 146, 68)",
          "line": {
           "color": "black",
           "width": 0.5
          },
          "size": 12,
          "symbol": "circle"
         },
         "mode": "markers",
         "showlegend": false,
         "type": "scatter",
         "x": [
          4.534623699248589
         ],
         "xaxis": "x6",
         "y": [
          6.459276599919584
         ],
         "yaxis": "y6"
        },
        {
         "marker": {
          "color": "rgb(33, 100, 175)",
          "line": {
           "color": "black",
           "width": 0.5
          },
          "size": 8,
          "symbol": "circle"
         },
         "mode": "markers",
         "showlegend": false,
         "type": "scatter",
         "x": [
          -0.10440962313393606,
          -0.0296413156938284,
          -0.01621663550736761,
          -0.03590382602704629
         ],
         "xaxis": "x6",
         "y": [
          -0.5589024658837971,
          -0.6495250496685181,
          -0.6992723681595722,
          -0.6939986114647589
         ],
         "yaxis": "y6"
        },
        {
         "marker": {
          "color": "rgb(217, 72, 42)",
          "line": {
           "color": "black",
           "width": 0.5
          },
          "size": 8,
          "symbol": "circle"
         },
         "mode": "markers",
         "showlegend": false,
         "type": "scatter",
         "x": [
          -0.22947785091143968,
          -0.32279946210038957,
          -0.2621868286928464,
          -0.20864087981761512
         ],
         "xaxis": "x6",
         "y": [
          -0.758732534817709,
          -0.7914625929465486,
          -0.7156581173394435,
          -0.6977109463741233
         ],
         "yaxis": "y6"
        },
        {
         "marker": {
          "color": "rgb(146, 54, 132)",
          "line": {
           "color": "black",
           "width": 0.5
          },
          "size": 8,
          "symbol": "circle"
         },
         "mode": "markers",
         "showlegend": false,
         "type": "scatter",
         "x": [
          0.008748313996239609,
          0.14537223628941756,
          0.1948773552225492,
          0.10274578972154141
         ],
         "xaxis": "x6",
         "y": [
          -1.260632800832311,
          -1.3744691758134904,
          -1.355919366155836,
          -1.3957912150016454
         ],
         "yaxis": "y6"
        },
        {
         "marker": {
          "color": "rgb(175, 127, 91)",
          "line": {
           "color": "black",
           "width": 0.5
          },
          "size": 8,
          "symbol": "circle"
         },
         "mode": "markers",
         "showlegend": false,
         "type": "scatter",
         "x": [
          -0.6598109557170759,
          -0.6324583602459521,
          -0.6181928450505989,
          -0.5182796622117326
         ],
         "xaxis": "x6",
         "y": [
          -0.6770262985123582,
          -0.6764016411460428,
          -0.6865866482541457,
          -0.6740666746360505
         ],
         "yaxis": "y6"
        },
        {
         "marker": {
          "color": "rgb(166.0, 193, 223)",
          "line": {
           "color": "black",
           "width": 0.5
          },
          "size": 8,
          "symbol": "circle"
         },
         "mode": "markers",
         "showlegend": false,
         "type": "scatter",
         "x": [
          -0.8372723374712424,
          -0.8637030070889193,
          -0.8816140641267072,
          -0.8794906758352423
         ],
         "xaxis": "x6",
         "y": [
          0.3917293398953827,
          0.28820295903809606,
          0.2807665436068332,
          0.3304612095710959
         ],
         "yaxis": "y6"
        },
        {
         "marker": {
          "color": "rgb(54, 146, 68)",
          "line": {
           "color": "black",
           "width": 0.5
          },
          "size": 12,
          "symbol": "x"
         },
         "mode": "markers",
         "showlegend": false,
         "type": "scatter",
         "x": [
          0.03034971162777037
         ],
         "xaxis": "x6",
         "y": [
          -0.9235329728502314
         ],
         "yaxis": "y6"
        },
        {
         "marker": {
          "color": "rgb(33, 100, 175)",
          "line": {
           "color": "black",
           "width": 0.5
          },
          "size": 8,
          "symbol": "x"
         },
         "mode": "markers",
         "showlegend": false,
         "type": "scatter",
         "x": [
          0.46785637112409095,
          0.43942576453002224,
          0.39796899525641394,
          0.40791122776747013
         ],
         "xaxis": "x6",
         "y": [
          -0.16080226776773363,
          -0.30145506883614603,
          -0.2633856188996858,
          -0.26888466409349643
         ],
         "yaxis": "y6"
        },
        {
         "marker": {
          "color": "rgb(217, 72, 42)",
          "line": {
           "color": "black",
           "width": 0.5
          },
          "size": 8,
          "symbol": "x"
         },
         "mode": "markers",
         "showlegend": false,
         "type": "scatter",
         "x": [
          0.3560871383144661,
          0.4171372970223329,
          0.38146780675393815,
          0.3201276485603946
         ],
         "xaxis": "x6",
         "y": [
          -0.44624279805146416,
          -0.41829545951127073,
          -0.4164089595787252,
          -0.3360395105114916
         ],
         "yaxis": "y6"
        },
        {
         "marker": {
          "color": "rgb(146, 54, 132)",
          "line": {
           "color": "black",
           "width": 0.5
          },
          "size": 8,
          "symbol": "x"
         },
         "mode": "markers",
         "showlegend": false,
         "type": "scatter",
         "x": [
          0.17188756985728446,
          0.1382343222136298,
          0.14007746849432554,
          0.1262058028245816
         ],
         "xaxis": "x6",
         "y": [
          -0.39812931982103866,
          -0.3320387387118134,
          -0.4008278065698602,
          -0.29203276179287446
         ],
         "yaxis": "y6"
        },
        {
         "marker": {
          "color": "rgb(175, 127, 91)",
          "line": {
           "color": "black",
           "width": 0.5
          },
          "size": 8,
          "symbol": "x"
         },
         "mode": "markers",
         "showlegend": false,
         "type": "scatter",
         "x": [
          1.2149126065889861,
          1.1363730698750576,
          1.1400850335468533,
          1.1680427534507016
         ],
         "xaxis": "x6",
         "y": [
          -0.7842091261865671,
          -0.7872003722912284,
          -0.7664857891562022,
          -0.7628937145381564
         ],
         "yaxis": "y6"
        },
        {
         "marker": {
          "color": "rgb(166.0, 193, 223)",
          "line": {
           "color": "black",
           "width": 0.5
          },
          "size": 8,
          "symbol": "x"
         },
         "mode": "markers",
         "showlegend": false,
         "type": "scatter",
         "x": [
          0.9909751444547292,
          1.0985834935935848,
          1.1729036752379514,
          1.1056761500603454
         ],
         "xaxis": "x6",
         "y": [
          0.3318544712822926,
          0.2006043663725368,
          0.12338878778103377,
          0.04610714309139411
         ],
         "yaxis": "y6"
        },
        {
         "marker": {
          "color": "rgb(54, 146, 68)",
          "line": {
           "color": "black",
           "width": 0.5
          },
          "size": 12,
          "symbol": "diamond"
         },
         "mode": "markers",
         "showlegend": false,
         "type": "scatter",
         "x": [
          0.07016216653281647
         ],
         "xaxis": "x6",
         "y": [
          -0.16993923807418318
         ],
         "yaxis": "y6"
        },
        {
         "marker": {
          "color": "rgb(33, 100, 175)",
          "line": {
           "color": "black",
           "width": 0.5
          },
          "size": 8,
          "symbol": "diamond"
         },
         "mode": "markers",
         "showlegend": false,
         "type": "scatter",
         "x": [
          0.09910865931270482,
          0.16925740028373323,
          0.1101031113334472,
          0.09340587851157423
         ],
         "xaxis": "x6",
         "y": [
          0.06868780992784954,
          -0.0920543416305427,
          -0.09545249900160376,
          -0.03726680820677038
         ],
         "yaxis": "y6"
        },
        {
         "marker": {
          "color": "rgb(217, 72, 42)",
          "line": {
           "color": "black",
           "width": 0.5
          },
          "size": 8,
          "symbol": "diamond"
         },
         "mode": "markers",
         "showlegend": false,
         "type": "scatter",
         "x": [
          0.11247717807897935,
          0.12737581105658052,
          0.25595315631462817,
          0.2720460948871502
         ],
         "xaxis": "x6",
         "y": [
          -0.36246445591998105,
          -0.3606243485804239,
          -0.40281390146880697,
          -0.4007064868505461
         ],
         "yaxis": "y6"
        },
        {
         "marker": {
          "color": "rgb(146, 54, 132)",
          "line": {
           "color": "black",
           "width": 0.5
          },
          "size": 8,
          "symbol": "diamond"
         },
         "mode": "markers",
         "showlegend": false,
         "type": "scatter",
         "x": [
          -0.2760419045786936,
          -0.1940028285924614,
          -0.163668833192087,
          -0.05700538480720017
         ],
         "xaxis": "x6",
         "y": [
          -0.2155563201179656,
          -0.217399367992311,
          -0.18878913312564063,
          -0.2150189814840169
         ],
         "yaxis": "y6"
        },
        {
         "marker": {
          "color": "rgb(175, 127, 91)",
          "line": {
           "color": "black",
           "width": 0.5
          },
          "size": 8,
          "symbol": "diamond"
         },
         "mode": "markers",
         "showlegend": false,
         "type": "scatter",
         "x": [
          1.2267675265699411,
          1.2608791994300372,
          1.3174407261809382,
          1.3941554771741658
         ],
         "xaxis": "x6",
         "y": [
          -0.7050070136050032,
          -0.7687117926919639,
          -0.8008954136229072,
          -0.5735584239302144
         ],
         "yaxis": "y6"
        },
        {
         "marker": {
          "color": "rgb(166.0, 193, 223)",
          "line": {
           "color": "black",
           "width": 0.5
          },
          "size": 8,
          "symbol": "diamond"
         },
         "mode": "markers",
         "showlegend": false,
         "type": "scatter",
         "x": [
          1.2276687354103197,
          1.2121431647163632,
          1.2442979345952279,
          1.3013653335840205
         ],
         "xaxis": "x6",
         "y": [
          0.23599747461571055,
          0.05615205730530667,
          0.12593034498602299,
          0.1416243826986637
         ],
         "yaxis": "y6"
        },
        {
         "marker": {
          "color": "rgb(54, 146, 68)",
          "line": {
           "color": "black",
           "width": 0.5
          },
          "size": 12,
          "symbol": "square"
         },
         "mode": "markers",
         "showlegend": false,
         "type": "scatter",
         "x": [
          -1.3419287944794918
         ],
         "xaxis": "x6",
         "y": [
          0.8959436878709666
         ],
         "yaxis": "y6"
        },
        {
         "marker": {
          "color": "rgb(33, 100, 175)",
          "line": {
           "color": "black",
           "width": 0.5
          },
          "size": 8,
          "symbol": "square"
         },
         "mode": "markers",
         "showlegend": false,
         "type": "scatter",
         "x": [
          -0.7084633305477105,
          -0.7590503107621221,
          -0.7894726778407886,
          -0.7748600671608987
         ],
         "xaxis": "x6",
         "y": [
          0.7625387153002563,
          0.6938866565937548,
          0.6168797209636326,
          0.7121317190622419
         ],
         "yaxis": "y6"
        },
        {
         "marker": {
          "color": "rgb(217, 72, 42)",
          "line": {
           "color": "black",
           "width": 0.5
          },
          "size": 8,
          "symbol": "square"
         },
         "mode": "markers",
         "showlegend": false,
         "type": "scatter",
         "x": [
          -0.601013268491649,
          -0.617807762567469,
          -0.5961287571469155,
          -0.6175314985553099
         ],
         "xaxis": "x6",
         "y": [
          0.29829405533171455,
          0.237097839974236,
          0.2825906183447671,
          0.3427735184923657
         ],
         "yaxis": "y6"
        },
        {
         "marker": {
          "color": "rgb(146, 54, 132)",
          "line": {
           "color": "black",
           "width": 0.5
          },
          "size": 8,
          "symbol": "square"
         },
         "mode": "markers",
         "showlegend": false,
         "type": "scatter",
         "x": [
          -0.935045119911391,
          -0.8614544718290703,
          -0.9430522092737493,
          -0.9095681785971034
         ],
         "xaxis": "x6",
         "y": [
          0.5758104308116713,
          0.5393642072103697,
          0.6478442557046318,
          0.622590893406731
         ],
         "yaxis": "y6"
        },
        {
         "marker": {
          "color": "rgb(175, 127, 91)",
          "line": {
           "color": "black",
           "width": 0.5
          },
          "size": 8,
          "symbol": "square"
         },
         "mode": "markers",
         "showlegend": false,
         "type": "scatter",
         "x": [
          -1.0664439747299663,
          -1.2174709331289817,
          -1.07595238665883,
          -1.0233332721911859
         ],
         "xaxis": "x6",
         "y": [
          0.7883376217710388,
          0.8314308009905617,
          0.7701731338539012,
          0.7740325451900522
         ],
         "yaxis": "y6"
        },
        {
         "marker": {
          "color": "rgb(166.0, 193, 223)",
          "line": {
           "color": "black",
           "width": 0.5
          },
          "size": 8,
          "symbol": "square"
         },
         "mode": "markers",
         "showlegend": false,
         "type": "scatter",
         "x": [
          -1.6152947172916794,
          -1.72109940365511,
          -1.6620547545066127,
          -1.675420829477477
         ],
         "xaxis": "x6",
         "y": [
          1.9981876053646725,
          1.9753097686970984,
          1.9773722123813762,
          1.907906485069377
         ],
         "yaxis": "y6"
        },
        {
         "marker": {
          "color": "rgb(54, 146, 68)",
          "line": {
           "color": "black",
           "width": 0.5
          },
          "size": 12,
          "symbol": "circle"
         },
         "mode": "markers",
         "showlegend": false,
         "type": "scatter",
         "x": [
          6.6200409152916375
         ],
         "xaxis": "x7",
         "y": [
          4.534623699248589
         ],
         "yaxis": "y7"
        },
        {
         "marker": {
          "color": "rgb(33, 100, 175)",
          "line": {
           "color": "black",
           "width": 0.5
          },
          "size": 8,
          "symbol": "circle"
         },
         "mode": "markers",
         "showlegend": false,
         "type": "scatter",
         "x": [
          3.2618441658283985,
          3.1886077671184747,
          3.2353434668650696,
          3.305280413820071
         ],
         "xaxis": "x7",
         "y": [
          -0.10440962313393606,
          -0.0296413156938284,
          -0.01621663550736761,
          -0.03590382602704629
         ],
         "yaxis": "y7"
        },
        {
         "marker": {
          "color": "rgb(217, 72, 42)",
          "line": {
           "color": "black",
           "width": 0.5
          },
          "size": 8,
          "symbol": "circle"
         },
         "mode": "markers",
         "showlegend": false,
         "type": "scatter",
         "x": [
          3.102099859385835,
          3.3743285021152873,
          3.3547361293127604,
          3.0898674581943206
         ],
         "xaxis": "x7",
         "y": [
          -0.22947785091143968,
          -0.32279946210038957,
          -0.2621868286928464,
          -0.20864087981761512
         ],
         "yaxis": "y7"
        },
        {
         "marker": {
          "color": "rgb(146, 54, 132)",
          "line": {
           "color": "black",
           "width": 0.5
          },
          "size": 8,
          "symbol": "circle"
         },
         "mode": "markers",
         "showlegend": false,
         "type": "scatter",
         "x": [
          2.487536661072873,
          2.628289942746422,
          2.496509959095717,
          2.640438844520288
         ],
         "xaxis": "x7",
         "y": [
          0.008748313996239609,
          0.14537223628941756,
          0.1948773552225492,
          0.10274578972154141
         ],
         "yaxis": "y7"
        },
        {
         "marker": {
          "color": "rgb(175, 127, 91)",
          "line": {
           "color": "black",
           "width": 0.5
          },
          "size": 8,
          "symbol": "circle"
         },
         "mode": "markers",
         "showlegend": false,
         "type": "scatter",
         "x": [
          3.4860106464704628,
          3.46641721792311,
          3.493891682329789,
          3.3864019146121875
         ],
         "xaxis": "x7",
         "y": [
          -0.6598109557170759,
          -0.6324583602459521,
          -0.6181928450505989,
          -0.5182796622117326
         ],
         "yaxis": "y7"
        },
        {
         "marker": {
          "color": "rgb(166.0, 193, 223)",
          "line": {
           "color": "black",
           "width": 0.5
          },
          "size": 8,
          "symbol": "circle"
         },
         "mode": "markers",
         "showlegend": false,
         "type": "scatter",
         "x": [
          4.314092592522468,
          4.326682173878195,
          4.292659862362463,
          4.35858994551263
         ],
         "xaxis": "x7",
         "y": [
          -0.8372723374712424,
          -0.8637030070889193,
          -0.8816140641267072,
          -0.8794906758352423
         ],
         "yaxis": "y7"
        },
        {
         "marker": {
          "color": "rgb(54, 146, 68)",
          "line": {
           "color": "black",
           "width": 0.5
          },
          "size": 12,
          "symbol": "x"
         },
         "mode": "markers",
         "showlegend": false,
         "type": "scatter",
         "x": [
          -2.5497096718505428
         ],
         "xaxis": "x7",
         "y": [
          0.03034971162777037
         ],
         "yaxis": "y7"
        },
        {
         "marker": {
          "color": "rgb(33, 100, 175)",
          "line": {
           "color": "black",
           "width": 0.5
          },
          "size": 8,
          "symbol": "x"
         },
         "mode": "markers",
         "showlegend": false,
         "type": "scatter",
         "x": [
          -1.0338488327820008,
          -0.961535194412087,
          -0.9886626613181565,
          -0.9547767517016797
         ],
         "xaxis": "x7",
         "y": [
          0.46785637112409095,
          0.43942576453002224,
          0.39796899525641394,
          0.40791122776747013
         ],
         "yaxis": "y7"
        },
        {
         "marker": {
          "color": "rgb(217, 72, 42)",
          "line": {
           "color": "black",
           "width": 0.5
          },
          "size": 8,
          "symbol": "x"
         },
         "mode": "markers",
         "showlegend": false,
         "type": "scatter",
         "x": [
          -1.0109183517410736,
          -1.1022594412664795,
          -1.0388281078168065,
          -1.0986563664096816
         ],
         "xaxis": "x7",
         "y": [
          0.3560871383144661,
          0.4171372970223329,
          0.38146780675393815,
          0.3201276485603946
         ],
         "yaxis": "y7"
        },
        {
         "marker": {
          "color": "rgb(146, 54, 132)",
          "line": {
           "color": "black",
           "width": 0.5
          },
          "size": 8,
          "symbol": "x"
         },
         "mode": "markers",
         "showlegend": false,
         "type": "scatter",
         "x": [
          -1.1531812915634674,
          -1.0266793599515234,
          -0.9288574678724477,
          -1.0817713887803497
         ],
         "xaxis": "x7",
         "y": [
          0.17188756985728446,
          0.1382343222136298,
          0.14007746849432554,
          0.1262058028245816
         ],
         "yaxis": "y7"
        },
        {
         "marker": {
          "color": "rgb(175, 127, 91)",
          "line": {
           "color": "black",
           "width": 0.5
          },
          "size": 8,
          "symbol": "x"
         },
         "mode": "markers",
         "showlegend": false,
         "type": "scatter",
         "x": [
          -1.443298746880917,
          -1.3346442830352576,
          -1.3318346914000938,
          -1.3337860065465181
         ],
         "xaxis": "x7",
         "y": [
          1.2149126065889861,
          1.1363730698750576,
          1.1400850335468533,
          1.1680427534507016
         ],
         "yaxis": "y7"
        },
        {
         "marker": {
          "color": "rgb(166.0, 193, 223)",
          "line": {
           "color": "black",
           "width": 0.5
          },
          "size": 8,
          "symbol": "x"
         },
         "mode": "markers",
         "showlegend": false,
         "type": "scatter",
         "x": [
          -1.2332241603303606,
          -1.3241154465911917,
          -1.4260460089908018,
          -1.5468402368299659
         ],
         "xaxis": "x7",
         "y": [
          0.9909751444547292,
          1.0985834935935848,
          1.1729036752379514,
          1.1056761500603454
         ],
         "yaxis": "y7"
        },
        {
         "marker": {
          "color": "rgb(54, 146, 68)",
          "line": {
           "color": "black",
           "width": 0.5
          },
          "size": 12,
          "symbol": "diamond"
         },
         "mode": "markers",
         "showlegend": false,
         "type": "scatter",
         "x": [
          -2.4588888075409114
         ],
         "xaxis": "x7",
         "y": [
          0.07016216653281647
         ],
         "yaxis": "y7"
        },
        {
         "marker": {
          "color": "rgb(33, 100, 175)",
          "line": {
           "color": "black",
           "width": 0.5
          },
          "size": 8,
          "symbol": "diamond"
         },
         "mode": "markers",
         "showlegend": false,
         "type": "scatter",
         "x": [
          -0.859798073166329,
          -0.845645218303312,
          -0.849697551981576,
          -0.900143896079523
         ],
         "xaxis": "x7",
         "y": [
          0.09910865931270482,
          0.16925740028373323,
          0.1101031113334472,
          0.09340587851157423
         ],
         "yaxis": "y7"
        },
        {
         "marker": {
          "color": "rgb(217, 72, 42)",
          "line": {
           "color": "black",
           "width": 0.5
          },
          "size": 8,
          "symbol": "diamond"
         },
         "mode": "markers",
         "showlegend": false,
         "type": "scatter",
         "x": [
          -0.8062371516304787,
          -0.7289326535034567,
          -0.7856183420840096,
          -0.8296656323468137
         ],
         "xaxis": "x7",
         "y": [
          0.11247717807897935,
          0.12737581105658052,
          0.25595315631462817,
          0.2720460948871502
         ],
         "yaxis": "y7"
        },
        {
         "marker": {
          "color": "rgb(146, 54, 132)",
          "line": {
           "color": "black",
           "width": 0.5
          },
          "size": 8,
          "symbol": "diamond"
         },
         "mode": "markers",
         "showlegend": false,
         "type": "scatter",
         "x": [
          -1.0589395726147972,
          -1.0679503279029299,
          -1.1407596671267417,
          -1.0765257660845542
         ],
         "xaxis": "x7",
         "y": [
          -0.2760419045786936,
          -0.1940028285924614,
          -0.163668833192087,
          -0.05700538480720017
         ],
         "yaxis": "y7"
        },
        {
         "marker": {
          "color": "rgb(175, 127, 91)",
          "line": {
           "color": "black",
           "width": 0.5
          },
          "size": 8,
          "symbol": "diamond"
         },
         "mode": "markers",
         "showlegend": false,
         "type": "scatter",
         "x": [
          -1.2600639735356691,
          -1.3269961423880718,
          -1.2099202886933433,
          -1.376848901680363
         ],
         "xaxis": "x7",
         "y": [
          1.2267675265699411,
          1.2608791994300372,
          1.3174407261809382,
          1.3941554771741658
         ],
         "yaxis": "y7"
        },
        {
         "marker": {
          "color": "rgb(166.0, 193, 223)",
          "line": {
           "color": "black",
           "width": 0.5
          },
          "size": 8,
          "symbol": "diamond"
         },
         "mode": "markers",
         "showlegend": false,
         "type": "scatter",
         "x": [
          -1.3924786517393128,
          -1.1665781339071473,
          -1.337657244113286,
          -1.4240343693560782
         ],
         "xaxis": "x7",
         "y": [
          1.2276687354103197,
          1.2121431647163632,
          1.2442979345952279,
          1.3013653335840205
         ],
         "yaxis": "y7"
        },
        {
         "marker": {
          "color": "rgb(54, 146, 68)",
          "line": {
           "color": "black",
           "width": 0.5
          },
          "size": 12,
          "symbol": "square"
         },
         "mode": "markers",
         "showlegend": false,
         "type": "scatter",
         "x": [
          -2.231662806961588
         ],
         "xaxis": "x7",
         "y": [
          -1.3419287944794918
         ],
         "yaxis": "y7"
        },
        {
         "marker": {
          "color": "rgb(33, 100, 175)",
          "line": {
           "color": "black",
           "width": 0.5
          },
          "size": 8,
          "symbol": "square"
         },
         "mode": "markers",
         "showlegend": false,
         "type": "scatter",
         "x": [
          -0.8994419224717745,
          -0.8415740555980106,
          -0.7741701841756858,
          -0.8125468848413496
         ],
         "xaxis": "x7",
         "y": [
          -0.7084633305477105,
          -0.7590503107621221,
          -0.7894726778407886,
          -0.7748600671608987
         ],
         "yaxis": "y7"
        },
        {
         "marker": {
          "color": "rgb(217, 72, 42)",
          "line": {
           "color": "black",
           "width": 0.5
          },
          "size": 8,
          "symbol": "square"
         },
         "mode": "markers",
         "showlegend": false,
         "type": "scatter",
         "x": [
          -0.8702846266460127,
          -0.8436504317414742,
          -0.7626401038121654,
          -0.7673269287820278
         ],
         "xaxis": "x7",
         "y": [
          -0.601013268491649,
          -0.617807762567469,
          -0.5961287571469155,
          -0.6175314985553099
         ],
         "yaxis": "y7"
        },
        {
         "marker": {
          "color": "rgb(146, 54, 132)",
          "line": {
           "color": "black",
           "width": 0.5
          },
          "size": 8,
          "symbol": "square"
         },
         "mode": "markers",
         "showlegend": false,
         "type": "scatter",
         "x": [
          -1.3632102122609362,
          -1.2914033557079236,
          -1.3131647840424148,
          -1.2566995959325309
         ],
         "xaxis": "x7",
         "y": [
          -0.935045119911391,
          -0.8614544718290703,
          -0.9430522092737493,
          -0.9095681785971034
         ],
         "yaxis": "y7"
        },
        {
         "marker": {
          "color": "rgb(175, 127, 91)",
          "line": {
           "color": "black",
           "width": 0.5
          },
          "size": 8,
          "symbol": "square"
         },
         "mode": "markers",
         "showlegend": false,
         "type": "scatter",
         "x": [
          -1.2573560332609302,
          -1.1636048220761503,
          -1.196099507751983,
          -1.2164507753265958
         ],
         "xaxis": "x7",
         "y": [
          -1.0664439747299663,
          -1.2174709331289817,
          -1.07595238665883,
          -1.0233332721911859
         ],
         "yaxis": "y7"
        },
        {
         "marker": {
          "color": "rgb(166.0, 193, 223)",
          "line": {
           "color": "black",
           "width": 0.5
          },
          "size": 8,
          "symbol": "square"
         },
         "mode": "markers",
         "showlegend": false,
         "type": "scatter",
         "x": [
          -1.349918348879653,
          -1.340197152924074,
          -1.2754855846509652,
          -1.2759271692841025
         ],
         "xaxis": "x7",
         "y": [
          -1.6152947172916794,
          -1.72109940365511,
          -1.6620547545066127,
          -1.675420829477477
         ],
         "yaxis": "y7"
        },
        {
         "marker": {
          "color": "rgb(54, 146, 68)",
          "line": {
           "color": "black",
           "width": 0.5
          },
          "size": 12,
          "symbol": "circle"
         },
         "mode": "markers",
         "showlegend": false,
         "type": "scatter",
         "x": [
          6.459276599919584
         ],
         "xaxis": "x8",
         "y": [
          4.534623699248589
         ],
         "yaxis": "y8"
        },
        {
         "marker": {
          "color": "rgb(33, 100, 175)",
          "line": {
           "color": "black",
           "width": 0.5
          },
          "size": 8,
          "symbol": "circle"
         },
         "mode": "markers",
         "showlegend": false,
         "type": "scatter",
         "x": [
          -0.5589024658837971,
          -0.6495250496685181,
          -0.6992723681595722,
          -0.6939986114647589
         ],
         "xaxis": "x8",
         "y": [
          -0.10440962313393606,
          -0.0296413156938284,
          -0.01621663550736761,
          -0.03590382602704629
         ],
         "yaxis": "y8"
        },
        {
         "marker": {
          "color": "rgb(217, 72, 42)",
          "line": {
           "color": "black",
           "width": 0.5
          },
          "size": 8,
          "symbol": "circle"
         },
         "mode": "markers",
         "showlegend": false,
         "type": "scatter",
         "x": [
          -0.758732534817709,
          -0.7914625929465486,
          -0.7156581173394435,
          -0.6977109463741233
         ],
         "xaxis": "x8",
         "y": [
          -0.22947785091143968,
          -0.32279946210038957,
          -0.2621868286928464,
          -0.20864087981761512
         ],
         "yaxis": "y8"
        },
        {
         "marker": {
          "color": "rgb(146, 54, 132)",
          "line": {
           "color": "black",
           "width": 0.5
          },
          "size": 8,
          "symbol": "circle"
         },
         "mode": "markers",
         "showlegend": false,
         "type": "scatter",
         "x": [
          -1.260632800832311,
          -1.3744691758134904,
          -1.355919366155836,
          -1.3957912150016454
         ],
         "xaxis": "x8",
         "y": [
          0.008748313996239609,
          0.14537223628941756,
          0.1948773552225492,
          0.10274578972154141
         ],
         "yaxis": "y8"
        },
        {
         "marker": {
          "color": "rgb(175, 127, 91)",
          "line": {
           "color": "black",
           "width": 0.5
          },
          "size": 8,
          "symbol": "circle"
         },
         "mode": "markers",
         "showlegend": false,
         "type": "scatter",
         "x": [
          -0.6770262985123582,
          -0.6764016411460428,
          -0.6865866482541457,
          -0.6740666746360505
         ],
         "xaxis": "x8",
         "y": [
          -0.6598109557170759,
          -0.6324583602459521,
          -0.6181928450505989,
          -0.5182796622117326
         ],
         "yaxis": "y8"
        },
        {
         "marker": {
          "color": "rgb(166.0, 193, 223)",
          "line": {
           "color": "black",
           "width": 0.5
          },
          "size": 8,
          "symbol": "circle"
         },
         "mode": "markers",
         "showlegend": false,
         "type": "scatter",
         "x": [
          0.3917293398953827,
          0.28820295903809606,
          0.2807665436068332,
          0.3304612095710959
         ],
         "xaxis": "x8",
         "y": [
          -0.8372723374712424,
          -0.8637030070889193,
          -0.8816140641267072,
          -0.8794906758352423
         ],
         "yaxis": "y8"
        },
        {
         "marker": {
          "color": "rgb(54, 146, 68)",
          "line": {
           "color": "black",
           "width": 0.5
          },
          "size": 12,
          "symbol": "x"
         },
         "mode": "markers",
         "showlegend": false,
         "type": "scatter",
         "x": [
          -0.9235329728502314
         ],
         "xaxis": "x8",
         "y": [
          0.03034971162777037
         ],
         "yaxis": "y8"
        },
        {
         "marker": {
          "color": "rgb(33, 100, 175)",
          "line": {
           "color": "black",
           "width": 0.5
          },
          "size": 8,
          "symbol": "x"
         },
         "mode": "markers",
         "showlegend": false,
         "type": "scatter",
         "x": [
          -0.16080226776773363,
          -0.30145506883614603,
          -0.2633856188996858,
          -0.26888466409349643
         ],
         "xaxis": "x8",
         "y": [
          0.46785637112409095,
          0.43942576453002224,
          0.39796899525641394,
          0.40791122776747013
         ],
         "yaxis": "y8"
        },
        {
         "marker": {
          "color": "rgb(217, 72, 42)",
          "line": {
           "color": "black",
           "width": 0.5
          },
          "size": 8,
          "symbol": "x"
         },
         "mode": "markers",
         "showlegend": false,
         "type": "scatter",
         "x": [
          -0.44624279805146416,
          -0.41829545951127073,
          -0.4164089595787252,
          -0.3360395105114916
         ],
         "xaxis": "x8",
         "y": [
          0.3560871383144661,
          0.4171372970223329,
          0.38146780675393815,
          0.3201276485603946
         ],
         "yaxis": "y8"
        },
        {
         "marker": {
          "color": "rgb(146, 54, 132)",
          "line": {
           "color": "black",
           "width": 0.5
          },
          "size": 8,
          "symbol": "x"
         },
         "mode": "markers",
         "showlegend": false,
         "type": "scatter",
         "x": [
          -0.39812931982103866,
          -0.3320387387118134,
          -0.4008278065698602,
          -0.29203276179287446
         ],
         "xaxis": "x8",
         "y": [
          0.17188756985728446,
          0.1382343222136298,
          0.14007746849432554,
          0.1262058028245816
         ],
         "yaxis": "y8"
        },
        {
         "marker": {
          "color": "rgb(175, 127, 91)",
          "line": {
           "color": "black",
           "width": 0.5
          },
          "size": 8,
          "symbol": "x"
         },
         "mode": "markers",
         "showlegend": false,
         "type": "scatter",
         "x": [
          -0.7842091261865671,
          -0.7872003722912284,
          -0.7664857891562022,
          -0.7628937145381564
         ],
         "xaxis": "x8",
         "y": [
          1.2149126065889861,
          1.1363730698750576,
          1.1400850335468533,
          1.1680427534507016
         ],
         "yaxis": "y8"
        },
        {
         "marker": {
          "color": "rgb(166.0, 193, 223)",
          "line": {
           "color": "black",
           "width": 0.5
          },
          "size": 8,
          "symbol": "x"
         },
         "mode": "markers",
         "showlegend": false,
         "type": "scatter",
         "x": [
          0.3318544712822926,
          0.2006043663725368,
          0.12338878778103377,
          0.04610714309139411
         ],
         "xaxis": "x8",
         "y": [
          0.9909751444547292,
          1.0985834935935848,
          1.1729036752379514,
          1.1056761500603454
         ],
         "yaxis": "y8"
        },
        {
         "marker": {
          "color": "rgb(54, 146, 68)",
          "line": {
           "color": "black",
           "width": 0.5
          },
          "size": 12,
          "symbol": "diamond"
         },
         "mode": "markers",
         "showlegend": false,
         "type": "scatter",
         "x": [
          -0.16993923807418318
         ],
         "xaxis": "x8",
         "y": [
          0.07016216653281647
         ],
         "yaxis": "y8"
        },
        {
         "marker": {
          "color": "rgb(33, 100, 175)",
          "line": {
           "color": "black",
           "width": 0.5
          },
          "size": 8,
          "symbol": "diamond"
         },
         "mode": "markers",
         "showlegend": false,
         "type": "scatter",
         "x": [
          0.06868780992784954,
          -0.0920543416305427,
          -0.09545249900160376,
          -0.03726680820677038
         ],
         "xaxis": "x8",
         "y": [
          0.09910865931270482,
          0.16925740028373323,
          0.1101031113334472,
          0.09340587851157423
         ],
         "yaxis": "y8"
        },
        {
         "marker": {
          "color": "rgb(217, 72, 42)",
          "line": {
           "color": "black",
           "width": 0.5
          },
          "size": 8,
          "symbol": "diamond"
         },
         "mode": "markers",
         "showlegend": false,
         "type": "scatter",
         "x": [
          -0.36246445591998105,
          -0.3606243485804239,
          -0.40281390146880697,
          -0.4007064868505461
         ],
         "xaxis": "x8",
         "y": [
          0.11247717807897935,
          0.12737581105658052,
          0.25595315631462817,
          0.2720460948871502
         ],
         "yaxis": "y8"
        },
        {
         "marker": {
          "color": "rgb(146, 54, 132)",
          "line": {
           "color": "black",
           "width": 0.5
          },
          "size": 8,
          "symbol": "diamond"
         },
         "mode": "markers",
         "showlegend": false,
         "type": "scatter",
         "x": [
          -0.2155563201179656,
          -0.217399367992311,
          -0.18878913312564063,
          -0.2150189814840169
         ],
         "xaxis": "x8",
         "y": [
          -0.2760419045786936,
          -0.1940028285924614,
          -0.163668833192087,
          -0.05700538480720017
         ],
         "yaxis": "y8"
        },
        {
         "marker": {
          "color": "rgb(175, 127, 91)",
          "line": {
           "color": "black",
           "width": 0.5
          },
          "size": 8,
          "symbol": "diamond"
         },
         "mode": "markers",
         "showlegend": false,
         "type": "scatter",
         "x": [
          -0.7050070136050032,
          -0.7687117926919639,
          -0.8008954136229072,
          -0.5735584239302144
         ],
         "xaxis": "x8",
         "y": [
          1.2267675265699411,
          1.2608791994300372,
          1.3174407261809382,
          1.3941554771741658
         ],
         "yaxis": "y8"
        },
        {
         "marker": {
          "color": "rgb(166.0, 193, 223)",
          "line": {
           "color": "black",
           "width": 0.5
          },
          "size": 8,
          "symbol": "diamond"
         },
         "mode": "markers",
         "showlegend": false,
         "type": "scatter",
         "x": [
          0.23599747461571055,
          0.05615205730530667,
          0.12593034498602299,
          0.1416243826986637
         ],
         "xaxis": "x8",
         "y": [
          1.2276687354103197,
          1.2121431647163632,
          1.2442979345952279,
          1.3013653335840205
         ],
         "yaxis": "y8"
        },
        {
         "marker": {
          "color": "rgb(54, 146, 68)",
          "line": {
           "color": "black",
           "width": 0.5
          },
          "size": 12,
          "symbol": "square"
         },
         "mode": "markers",
         "showlegend": false,
         "type": "scatter",
         "x": [
          0.8959436878709666
         ],
         "xaxis": "x8",
         "y": [
          -1.3419287944794918
         ],
         "yaxis": "y8"
        },
        {
         "marker": {
          "color": "rgb(33, 100, 175)",
          "line": {
           "color": "black",
           "width": 0.5
          },
          "size": 8,
          "symbol": "square"
         },
         "mode": "markers",
         "showlegend": false,
         "type": "scatter",
         "x": [
          0.7625387153002563,
          0.6938866565937548,
          0.6168797209636326,
          0.7121317190622419
         ],
         "xaxis": "x8",
         "y": [
          -0.7084633305477105,
          -0.7590503107621221,
          -0.7894726778407886,
          -0.7748600671608987
         ],
         "yaxis": "y8"
        },
        {
         "marker": {
          "color": "rgb(217, 72, 42)",
          "line": {
           "color": "black",
           "width": 0.5
          },
          "size": 8,
          "symbol": "square"
         },
         "mode": "markers",
         "showlegend": false,
         "type": "scatter",
         "x": [
          0.29829405533171455,
          0.237097839974236,
          0.2825906183447671,
          0.3427735184923657
         ],
         "xaxis": "x8",
         "y": [
          -0.601013268491649,
          -0.617807762567469,
          -0.5961287571469155,
          -0.6175314985553099
         ],
         "yaxis": "y8"
        },
        {
         "marker": {
          "color": "rgb(146, 54, 132)",
          "line": {
           "color": "black",
           "width": 0.5
          },
          "size": 8,
          "symbol": "square"
         },
         "mode": "markers",
         "showlegend": false,
         "type": "scatter",
         "x": [
          0.5758104308116713,
          0.5393642072103697,
          0.6478442557046318,
          0.622590893406731
         ],
         "xaxis": "x8",
         "y": [
          -0.935045119911391,
          -0.8614544718290703,
          -0.9430522092737493,
          -0.9095681785971034
         ],
         "yaxis": "y8"
        },
        {
         "marker": {
          "color": "rgb(175, 127, 91)",
          "line": {
           "color": "black",
           "width": 0.5
          },
          "size": 8,
          "symbol": "square"
         },
         "mode": "markers",
         "showlegend": false,
         "type": "scatter",
         "x": [
          0.7883376217710388,
          0.8314308009905617,
          0.7701731338539012,
          0.7740325451900522
         ],
         "xaxis": "x8",
         "y": [
          -1.0664439747299663,
          -1.2174709331289817,
          -1.07595238665883,
          -1.0233332721911859
         ],
         "yaxis": "y8"
        },
        {
         "marker": {
          "color": "rgb(166.0, 193, 223)",
          "line": {
           "color": "black",
           "width": 0.5
          },
          "size": 8,
          "symbol": "square"
         },
         "mode": "markers",
         "showlegend": false,
         "type": "scatter",
         "x": [
          1.9981876053646725,
          1.9753097686970984,
          1.9773722123813762,
          1.907906485069377
         ],
         "xaxis": "x8",
         "y": [
          -1.6152947172916794,
          -1.72109940365511,
          -1.6620547545066127,
          -1.675420829477477
         ],
         "yaxis": "y8"
        }
       ],
       "layout": {
        "height": 800,
        "legend": {
         "font": {
          "color": "black",
          "family": "Myriad Pro",
          "size": 12
         },
         "orientation": "h",
         "x": 0.1,
         "y": -0.15
        },
        "template": {
         "data": {
          "scatter": [
           {
            "type": "scatter"
           }
          ]
         }
        },
        "width": 800,
        "xaxis": {
         "anchor": "y",
         "domain": [
          0,
          0.3
         ],
         "linecolor": "black",
         "linewidth": 1,
         "mirror": true,
         "nticks": 8,
         "showgrid": true,
         "showline": true,
         "side": "bottom",
         "tickangle": 0,
         "tickcolor": "black",
         "tickfont": {
          "color": "black",
          "family": "Myriad Pro",
          "size": 16
         },
         "ticklen": 4,
         "ticks": "outside",
         "zeroline": true
        },
        "xaxis2": {
         "anchor": "y2",
         "domain": [
          0.35,
          0.6499999999999999
         ],
         "linecolor": "black",
         "linewidth": 1,
         "mirror": true,
         "nticks": 8,
         "showgrid": true,
         "showline": true,
         "side": "bottom",
         "tickangle": 0,
         "tickcolor": "black",
         "tickfont": {
          "color": "black",
          "family": "Myriad Pro",
          "size": 16
         },
         "ticklen": 4,
         "ticks": "outside",
         "zeroline": true
        },
        "xaxis3": {
         "anchor": "y3",
         "domain": [
          0.7,
          1
         ],
         "linecolor": "black",
         "linewidth": 1,
         "mirror": true,
         "nticks": 8,
         "showgrid": true,
         "showline": true,
         "side": "bottom",
         "tickangle": 0,
         "tickcolor": "black",
         "tickfont": {
          "color": "black",
          "family": "Myriad Pro",
          "size": 16
         },
         "ticklen": 4,
         "ticks": "outside",
         "zeroline": true
        },
        "xaxis4": {
         "anchor": "y4",
         "domain": [
          0,
          0.3
         ],
         "linecolor": "black",
         "linewidth": 1,
         "mirror": true,
         "nticks": 8,
         "showgrid": true,
         "showline": true,
         "side": "bottom",
         "tickangle": 0,
         "tickcolor": "black",
         "tickfont": {
          "color": "black",
          "family": "Myriad Pro",
          "size": 16
         },
         "ticklen": 4,
         "ticks": "outside",
         "zeroline": true
        },
        "xaxis5": {
         "anchor": "y5",
         "domain": [
          0.35,
          0.6499999999999999
         ],
         "linecolor": "black",
         "linewidth": 1,
         "mirror": true,
         "nticks": 8,
         "showgrid": true,
         "showline": true,
         "side": "bottom",
         "tickangle": 0,
         "tickcolor": "black",
         "tickfont": {
          "color": "black",
          "family": "Myriad Pro",
          "size": 16
         },
         "ticklen": 4,
         "ticks": "outside",
         "zeroline": true
        },
        "xaxis6": {
         "anchor": "y6",
         "domain": [
          0.7,
          1
         ],
         "linecolor": "black",
         "linewidth": 1,
         "mirror": true,
         "nticks": 8,
         "showgrid": true,
         "showline": true,
         "side": "bottom",
         "tickangle": 0,
         "tickcolor": "black",
         "tickfont": {
          "color": "black",
          "family": "Myriad Pro",
          "size": 16
         },
         "ticklen": 4,
         "ticks": "outside",
         "zeroline": true
        },
        "xaxis7": {
         "anchor": "y7",
         "domain": [
          0,
          0.3
         ],
         "linecolor": "black",
         "linewidth": 1,
         "mirror": true,
         "nticks": 8,
         "showgrid": true,
         "showline": true,
         "side": "bottom",
         "tickangle": 0,
         "tickcolor": "black",
         "tickfont": {
          "color": "black",
          "family": "Myriad Pro",
          "size": 16
         },
         "ticklen": 4,
         "ticks": "outside",
         "title": {
          "font": {
           "color": "black",
           "family": "Myriad Pro",
           "size": 16
          },
          "standoff": 0.5,
          "text": "Principal Component 1"
         },
         "zeroline": true
        },
        "xaxis8": {
         "anchor": "y8",
         "domain": [
          0.35,
          0.6499999999999999
         ],
         "linecolor": "black",
         "linewidth": 1,
         "mirror": true,
         "nticks": 8,
         "showgrid": true,
         "showline": true,
         "side": "bottom",
         "tickangle": 0,
         "tickcolor": "black",
         "tickfont": {
          "color": "black",
          "family": "Myriad Pro",
          "size": 16
         },
         "ticklen": 4,
         "ticks": "outside",
         "title": {
          "font": {
           "color": "black",
           "family": "Myriad Pro",
           "size": 16
          },
          "standoff": 0.5,
          "text": "Principal Component 2"
         },
         "zeroline": true
        },
        "xaxis9": {
         "anchor": "y9",
         "domain": [
          0.7,
          1
         ],
         "linecolor": "black",
         "linewidth": 1,
         "mirror": true,
         "nticks": 8,
         "showgrid": true,
         "showline": true,
         "side": "bottom",
         "tickangle": 0,
         "tickcolor": "black",
         "tickfont": {
          "color": "black",
          "family": "Myriad Pro",
          "size": 16
         },
         "ticklen": 4,
         "ticks": "outside",
         "title": {
          "font": {
           "color": "black",
           "family": "Myriad Pro",
           "size": 16
          },
          "standoff": 0.5,
          "text": "Principal Component 3"
         },
         "zeroline": true
        },
        "yaxis": {
         "anchor": "x",
         "domain": [
          0.7,
          1
         ],
         "linecolor": "black",
         "linewidth": 1,
         "mirror": true,
         "showgrid": true,
         "showline": true,
         "tickangle": 0,
         "tickcolor": "black",
         "tickfont": {
          "color": "black",
          "family": "Myriad Pro",
          "size": 16
         },
         "ticklen": 4,
         "ticks": "outside",
         "title": {
          "font": {
           "color": "black",
           "family": "Myriad Pro",
           "size": 16
          },
          "standoff": 0,
          "text": "Principal Component 1"
         },
         "zeroline": true
        },
        "yaxis2": {
         "anchor": "x2",
         "domain": [
          0.7,
          1
         ],
         "linecolor": "black",
         "linewidth": 1,
         "mirror": true,
         "showgrid": true,
         "showline": true,
         "tickangle": 0,
         "tickcolor": "black",
         "tickfont": {
          "color": "black",
          "family": "Myriad Pro",
          "size": 16
         },
         "ticklen": 4,
         "ticks": "outside",
         "zeroline": true
        },
        "yaxis3": {
         "anchor": "x3",
         "domain": [
          0.7,
          1
         ],
         "linecolor": "black",
         "linewidth": 1,
         "mirror": true,
         "showgrid": true,
         "showline": true,
         "tickangle": 0,
         "tickcolor": "black",
         "tickfont": {
          "color": "black",
          "family": "Myriad Pro",
          "size": 16
         },
         "ticklen": 4,
         "ticks": "outside",
         "zeroline": true
        },
        "yaxis4": {
         "anchor": "x4",
         "domain": [
          0.35,
          0.6499999999999999
         ],
         "linecolor": "black",
         "linewidth": 1,
         "mirror": true,
         "showgrid": true,
         "showline": true,
         "tickangle": 0,
         "tickcolor": "black",
         "tickfont": {
          "color": "black",
          "family": "Myriad Pro",
          "size": 16
         },
         "ticklen": 4,
         "ticks": "outside",
         "title": {
          "font": {
           "color": "black",
           "family": "Myriad Pro",
           "size": 16
          },
          "standoff": 0,
          "text": "Principal Component 2"
         },
         "zeroline": true
        },
        "yaxis5": {
         "anchor": "x5",
         "domain": [
          0.35,
          0.6499999999999999
         ],
         "linecolor": "black",
         "linewidth": 1,
         "mirror": true,
         "showgrid": true,
         "showline": true,
         "tickangle": 0,
         "tickcolor": "black",
         "tickfont": {
          "color": "black",
          "family": "Myriad Pro",
          "size": 16
         },
         "ticklen": 4,
         "ticks": "outside",
         "zeroline": true
        },
        "yaxis6": {
         "anchor": "x6",
         "domain": [
          0.35,
          0.6499999999999999
         ],
         "linecolor": "black",
         "linewidth": 1,
         "mirror": true,
         "showgrid": true,
         "showline": true,
         "tickangle": 0,
         "tickcolor": "black",
         "tickfont": {
          "color": "black",
          "family": "Myriad Pro",
          "size": 16
         },
         "ticklen": 4,
         "ticks": "outside",
         "zeroline": true
        },
        "yaxis7": {
         "anchor": "x7",
         "domain": [
          0,
          0.3
         ],
         "linecolor": "black",
         "linewidth": 1,
         "mirror": true,
         "showgrid": true,
         "showline": true,
         "tickangle": 0,
         "tickcolor": "black",
         "tickfont": {
          "color": "black",
          "family": "Myriad Pro",
          "size": 16
         },
         "ticklen": 4,
         "ticks": "outside",
         "title": {
          "font": {
           "color": "black",
           "family": "Myriad Pro",
           "size": 16
          },
          "standoff": 0,
          "text": "Principal Component 3"
         },
         "zeroline": true
        },
        "yaxis8": {
         "anchor": "x8",
         "domain": [
          0,
          0.3
         ],
         "linecolor": "black",
         "linewidth": 1,
         "mirror": true,
         "showgrid": true,
         "showline": true,
         "tickangle": 0,
         "tickcolor": "black",
         "tickfont": {
          "color": "black",
          "family": "Myriad Pro",
          "size": 16
         },
         "ticklen": 4,
         "ticks": "outside",
         "zeroline": true
        },
        "yaxis9": {
         "anchor": "x9",
         "domain": [
          0,
          0.3
         ],
         "linecolor": "black",
         "linewidth": 1,
         "mirror": true,
         "showgrid": true,
         "showline": true,
         "tickangle": 0,
         "tickcolor": "black",
         "tickfont": {
          "color": "black",
          "family": "Myriad Pro",
          "size": 16
         },
         "ticklen": 4,
         "ticks": "outside",
         "zeroline": true
        }
       }
      },
      "text/html": [
       "<div>                            <div id=\"8dcda495-83a6-499e-93c7-c7f79e3d9b76\" class=\"plotly-graph-div\" style=\"height:800px; width:800px;\"></div>            <script type=\"text/javascript\">                require([\"plotly\"], function(Plotly) {                    window.PLOTLYENV=window.PLOTLYENV || {};                                    if (document.getElementById(\"8dcda495-83a6-499e-93c7-c7f79e3d9b76\")) {                    Plotly.newPlot(                        \"8dcda495-83a6-499e-93c7-c7f79e3d9b76\",                        [{\"marker\": {\"color\": \"rgb(54, 146, 68)\", \"line\": {\"color\": \"black\", \"width\": 0.5}, \"size\": 12, \"symbol\": \"circle\"}, \"mode\": \"markers\", \"showlegend\": false, \"type\": \"scatter\", \"x\": [6.459276599919584], \"xaxis\": \"x2\", \"y\": [6.6200409152916375], \"yaxis\": \"y2\"}, {\"marker\": {\"color\": \"rgb(33, 100, 175)\", \"line\": {\"color\": \"black\", \"width\": 0.5}, \"size\": 8, \"symbol\": \"circle\"}, \"mode\": \"markers\", \"showlegend\": false, \"type\": \"scatter\", \"x\": [-0.5589024658837971, -0.6495250496685181, -0.6992723681595722, -0.6939986114647589], \"xaxis\": \"x2\", \"y\": [3.2618441658283985, 3.1886077671184747, 3.2353434668650696, 3.305280413820071], \"yaxis\": \"y2\"}, {\"marker\": {\"color\": \"rgb(217, 72, 42)\", \"line\": {\"color\": \"black\", \"width\": 0.5}, \"size\": 8, \"symbol\": \"circle\"}, \"mode\": \"markers\", \"showlegend\": false, \"type\": \"scatter\", \"x\": [-0.758732534817709, -0.7914625929465486, -0.7156581173394435, -0.6977109463741233], \"xaxis\": \"x2\", \"y\": [3.102099859385835, 3.3743285021152873, 3.3547361293127604, 3.0898674581943206], \"yaxis\": \"y2\"}, {\"marker\": {\"color\": \"rgb(146, 54, 132)\", \"line\": {\"color\": \"black\", \"width\": 0.5}, \"size\": 8, \"symbol\": \"circle\"}, \"mode\": \"markers\", \"showlegend\": false, \"type\": \"scatter\", \"x\": [-1.260632800832311, -1.3744691758134904, -1.355919366155836, -1.3957912150016454], \"xaxis\": \"x2\", \"y\": [2.487536661072873, 2.628289942746422, 2.496509959095717, 2.640438844520288], \"yaxis\": \"y2\"}, {\"marker\": {\"color\": \"rgb(175, 127, 91)\", \"line\": {\"color\": \"black\", \"width\": 0.5}, \"size\": 8, \"symbol\": \"circle\"}, \"mode\": \"markers\", \"showlegend\": false, \"type\": \"scatter\", \"x\": [-0.6770262985123582, -0.6764016411460428, -0.6865866482541457, -0.6740666746360505], \"xaxis\": \"x2\", \"y\": [3.4860106464704628, 3.46641721792311, 3.493891682329789, 3.3864019146121875], \"yaxis\": \"y2\"}, {\"marker\": {\"color\": \"rgb(166.0, 193, 223)\", \"line\": {\"color\": \"black\", \"width\": 0.5}, \"size\": 8, \"symbol\": \"circle\"}, \"mode\": \"markers\", \"showlegend\": false, \"type\": \"scatter\", \"x\": [0.3917293398953827, 0.28820295903809606, 0.2807665436068332, 0.3304612095710959], \"xaxis\": \"x2\", \"y\": [4.314092592522468, 4.326682173878195, 4.292659862362463, 4.35858994551263], \"yaxis\": \"y2\"}, {\"marker\": {\"color\": \"rgb(54, 146, 68)\", \"line\": {\"color\": \"black\", \"width\": 0.5}, \"size\": 12, \"symbol\": \"x\"}, \"mode\": \"markers\", \"showlegend\": false, \"type\": \"scatter\", \"x\": [-0.9235329728502314], \"xaxis\": \"x2\", \"y\": [-2.5497096718505428], \"yaxis\": \"y2\"}, {\"marker\": {\"color\": \"rgb(33, 100, 175)\", \"line\": {\"color\": \"black\", \"width\": 0.5}, \"size\": 8, \"symbol\": \"x\"}, \"mode\": \"markers\", \"showlegend\": false, \"type\": \"scatter\", \"x\": [-0.16080226776773363, -0.30145506883614603, -0.2633856188996858, -0.26888466409349643], \"xaxis\": \"x2\", \"y\": [-1.0338488327820008, -0.961535194412087, -0.9886626613181565, -0.9547767517016797], \"yaxis\": \"y2\"}, {\"marker\": {\"color\": \"rgb(217, 72, 42)\", \"line\": {\"color\": \"black\", \"width\": 0.5}, \"size\": 8, \"symbol\": \"x\"}, \"mode\": \"markers\", \"showlegend\": false, \"type\": \"scatter\", \"x\": [-0.44624279805146416, -0.41829545951127073, -0.4164089595787252, -0.3360395105114916], \"xaxis\": \"x2\", \"y\": [-1.0109183517410736, -1.1022594412664795, -1.0388281078168065, -1.0986563664096816], \"yaxis\": \"y2\"}, {\"marker\": {\"color\": \"rgb(146, 54, 132)\", \"line\": {\"color\": \"black\", \"width\": 0.5}, \"size\": 8, \"symbol\": \"x\"}, \"mode\": \"markers\", \"showlegend\": false, \"type\": \"scatter\", \"x\": [-0.39812931982103866, -0.3320387387118134, -0.4008278065698602, -0.29203276179287446], \"xaxis\": \"x2\", \"y\": [-1.1531812915634674, -1.0266793599515234, -0.9288574678724477, -1.0817713887803497], \"yaxis\": \"y2\"}, {\"marker\": {\"color\": \"rgb(175, 127, 91)\", \"line\": {\"color\": \"black\", \"width\": 0.5}, \"size\": 8, \"symbol\": \"x\"}, \"mode\": \"markers\", \"showlegend\": false, \"type\": \"scatter\", \"x\": [-0.7842091261865671, -0.7872003722912284, -0.7664857891562022, -0.7628937145381564], \"xaxis\": \"x2\", \"y\": [-1.443298746880917, -1.3346442830352576, -1.3318346914000938, -1.3337860065465181], \"yaxis\": \"y2\"}, {\"marker\": {\"color\": \"rgb(166.0, 193, 223)\", \"line\": {\"color\": \"black\", \"width\": 0.5}, \"size\": 8, \"symbol\": \"x\"}, \"mode\": \"markers\", \"showlegend\": false, \"type\": \"scatter\", \"x\": [0.3318544712822926, 0.2006043663725368, 0.12338878778103377, 0.04610714309139411], \"xaxis\": \"x2\", \"y\": [-1.2332241603303606, -1.3241154465911917, -1.4260460089908018, -1.5468402368299659], \"yaxis\": \"y2\"}, {\"marker\": {\"color\": \"rgb(54, 146, 68)\", \"line\": {\"color\": \"black\", \"width\": 0.5}, \"size\": 12, \"symbol\": \"diamond\"}, \"mode\": \"markers\", \"showlegend\": false, \"type\": \"scatter\", \"x\": [-0.16993923807418318], \"xaxis\": \"x2\", \"y\": [-2.4588888075409114], \"yaxis\": \"y2\"}, {\"marker\": {\"color\": \"rgb(33, 100, 175)\", \"line\": {\"color\": \"black\", \"width\": 0.5}, \"size\": 8, \"symbol\": \"diamond\"}, \"mode\": \"markers\", \"showlegend\": false, \"type\": \"scatter\", \"x\": [0.06868780992784954, -0.0920543416305427, -0.09545249900160376, -0.03726680820677038], \"xaxis\": \"x2\", \"y\": [-0.859798073166329, -0.845645218303312, -0.849697551981576, -0.900143896079523], \"yaxis\": \"y2\"}, {\"marker\": {\"color\": \"rgb(217, 72, 42)\", \"line\": {\"color\": \"black\", \"width\": 0.5}, \"size\": 8, \"symbol\": \"diamond\"}, \"mode\": \"markers\", \"showlegend\": false, \"type\": \"scatter\", \"x\": [-0.36246445591998105, -0.3606243485804239, -0.40281390146880697, -0.4007064868505461], \"xaxis\": \"x2\", \"y\": [-0.8062371516304787, -0.7289326535034567, -0.7856183420840096, -0.8296656323468137], \"yaxis\": \"y2\"}, {\"marker\": {\"color\": \"rgb(146, 54, 132)\", \"line\": {\"color\": \"black\", \"width\": 0.5}, \"size\": 8, \"symbol\": \"diamond\"}, \"mode\": \"markers\", \"showlegend\": false, \"type\": \"scatter\", \"x\": [-0.2155563201179656, -0.217399367992311, -0.18878913312564063, -0.2150189814840169], \"xaxis\": \"x2\", \"y\": [-1.0589395726147972, -1.0679503279029299, -1.1407596671267417, -1.0765257660845542], \"yaxis\": \"y2\"}, {\"marker\": {\"color\": \"rgb(175, 127, 91)\", \"line\": {\"color\": \"black\", \"width\": 0.5}, \"size\": 8, \"symbol\": \"diamond\"}, \"mode\": \"markers\", \"showlegend\": false, \"type\": \"scatter\", \"x\": [-0.7050070136050032, -0.7687117926919639, -0.8008954136229072, -0.5735584239302144], \"xaxis\": \"x2\", \"y\": [-1.2600639735356691, -1.3269961423880718, -1.2099202886933433, -1.376848901680363], \"yaxis\": \"y2\"}, {\"marker\": {\"color\": \"rgb(166.0, 193, 223)\", \"line\": {\"color\": \"black\", \"width\": 0.5}, \"size\": 8, \"symbol\": \"diamond\"}, \"mode\": \"markers\", \"showlegend\": false, \"type\": \"scatter\", \"x\": [0.23599747461571055, 0.05615205730530667, 0.12593034498602299, 0.1416243826986637], \"xaxis\": \"x2\", \"y\": [-1.3924786517393128, -1.1665781339071473, -1.337657244113286, -1.4240343693560782], \"yaxis\": \"y2\"}, {\"marker\": {\"color\": \"rgb(54, 146, 68)\", \"line\": {\"color\": \"black\", \"width\": 0.5}, \"size\": 12, \"symbol\": \"square\"}, \"mode\": \"markers\", \"showlegend\": false, \"type\": \"scatter\", \"x\": [0.8959436878709666], \"xaxis\": \"x2\", \"y\": [-2.231662806961588], \"yaxis\": \"y2\"}, {\"marker\": {\"color\": \"rgb(33, 100, 175)\", \"line\": {\"color\": \"black\", \"width\": 0.5}, \"size\": 8, \"symbol\": \"square\"}, \"mode\": \"markers\", \"showlegend\": false, \"type\": \"scatter\", \"x\": [0.7625387153002563, 0.6938866565937548, 0.6168797209636326, 0.7121317190622419], \"xaxis\": \"x2\", \"y\": [-0.8994419224717745, -0.8415740555980106, -0.7741701841756858, -0.8125468848413496], \"yaxis\": \"y2\"}, {\"marker\": {\"color\": \"rgb(217, 72, 42)\", \"line\": {\"color\": \"black\", \"width\": 0.5}, \"size\": 8, \"symbol\": \"square\"}, \"mode\": \"markers\", \"showlegend\": false, \"type\": \"scatter\", \"x\": [0.29829405533171455, 0.237097839974236, 0.2825906183447671, 0.3427735184923657], \"xaxis\": \"x2\", \"y\": [-0.8702846266460127, -0.8436504317414742, -0.7626401038121654, -0.7673269287820278], \"yaxis\": \"y2\"}, {\"marker\": {\"color\": \"rgb(146, 54, 132)\", \"line\": {\"color\": \"black\", \"width\": 0.5}, \"size\": 8, \"symbol\": \"square\"}, \"mode\": \"markers\", \"showlegend\": false, \"type\": \"scatter\", \"x\": [0.5758104308116713, 0.5393642072103697, 0.6478442557046318, 0.622590893406731], \"xaxis\": \"x2\", \"y\": [-1.3632102122609362, -1.2914033557079236, -1.3131647840424148, -1.2566995959325309], \"yaxis\": \"y2\"}, {\"marker\": {\"color\": \"rgb(175, 127, 91)\", \"line\": {\"color\": \"black\", \"width\": 0.5}, \"size\": 8, \"symbol\": \"square\"}, \"mode\": \"markers\", \"showlegend\": false, \"type\": \"scatter\", \"x\": [0.7883376217710388, 0.8314308009905617, 0.7701731338539012, 0.7740325451900522], \"xaxis\": \"x2\", \"y\": [-1.2573560332609302, -1.1636048220761503, -1.196099507751983, -1.2164507753265958], \"yaxis\": \"y2\"}, {\"marker\": {\"color\": \"rgb(166.0, 193, 223)\", \"line\": {\"color\": \"black\", \"width\": 0.5}, \"size\": 8, \"symbol\": \"square\"}, \"mode\": \"markers\", \"showlegend\": false, \"type\": \"scatter\", \"x\": [1.9981876053646725, 1.9753097686970984, 1.9773722123813762, 1.907906485069377], \"xaxis\": \"x2\", \"y\": [-1.349918348879653, -1.340197152924074, -1.2754855846509652, -1.2759271692841025], \"yaxis\": \"y2\"}, {\"marker\": {\"color\": \"rgb(54, 146, 68)\", \"line\": {\"color\": \"black\", \"width\": 0.5}, \"size\": 12, \"symbol\": \"circle\"}, \"mode\": \"markers\", \"showlegend\": false, \"type\": \"scatter\", \"x\": [4.534623699248589], \"xaxis\": \"x3\", \"y\": [6.6200409152916375], \"yaxis\": \"y3\"}, {\"marker\": {\"color\": \"rgb(33, 100, 175)\", \"line\": {\"color\": \"black\", \"width\": 0.5}, \"size\": 8, \"symbol\": \"circle\"}, \"mode\": \"markers\", \"showlegend\": false, \"type\": \"scatter\", \"x\": [-0.10440962313393606, -0.0296413156938284, -0.01621663550736761, -0.03590382602704629], \"xaxis\": \"x3\", \"y\": [3.2618441658283985, 3.1886077671184747, 3.2353434668650696, 3.305280413820071], \"yaxis\": \"y3\"}, {\"marker\": {\"color\": \"rgb(217, 72, 42)\", \"line\": {\"color\": \"black\", \"width\": 0.5}, \"size\": 8, \"symbol\": \"circle\"}, \"mode\": \"markers\", \"showlegend\": false, \"type\": \"scatter\", \"x\": [-0.22947785091143968, -0.32279946210038957, -0.2621868286928464, -0.20864087981761512], \"xaxis\": \"x3\", \"y\": [3.102099859385835, 3.3743285021152873, 3.3547361293127604, 3.0898674581943206], \"yaxis\": \"y3\"}, {\"marker\": {\"color\": \"rgb(146, 54, 132)\", \"line\": {\"color\": \"black\", \"width\": 0.5}, \"size\": 8, \"symbol\": \"circle\"}, \"mode\": \"markers\", \"showlegend\": false, \"type\": \"scatter\", \"x\": [0.008748313996239609, 0.14537223628941756, 0.1948773552225492, 0.10274578972154141], \"xaxis\": \"x3\", \"y\": [2.487536661072873, 2.628289942746422, 2.496509959095717, 2.640438844520288], \"yaxis\": \"y3\"}, {\"marker\": {\"color\": \"rgb(175, 127, 91)\", \"line\": {\"color\": \"black\", \"width\": 0.5}, \"size\": 8, \"symbol\": \"circle\"}, \"mode\": \"markers\", \"showlegend\": false, \"type\": \"scatter\", \"x\": [-0.6598109557170759, -0.6324583602459521, -0.6181928450505989, -0.5182796622117326], \"xaxis\": \"x3\", \"y\": [3.4860106464704628, 3.46641721792311, 3.493891682329789, 3.3864019146121875], \"yaxis\": \"y3\"}, {\"marker\": {\"color\": \"rgb(166.0, 193, 223)\", \"line\": {\"color\": \"black\", \"width\": 0.5}, \"size\": 8, \"symbol\": \"circle\"}, \"mode\": \"markers\", \"showlegend\": false, \"type\": \"scatter\", \"x\": [-0.8372723374712424, -0.8637030070889193, -0.8816140641267072, -0.8794906758352423], \"xaxis\": \"x3\", \"y\": [4.314092592522468, 4.326682173878195, 4.292659862362463, 4.35858994551263], \"yaxis\": \"y3\"}, {\"marker\": {\"color\": \"rgb(54, 146, 68)\", \"line\": {\"color\": \"black\", \"width\": 0.5}, \"size\": 12, \"symbol\": \"x\"}, \"mode\": \"markers\", \"showlegend\": false, \"type\": \"scatter\", \"x\": [0.03034971162777037], \"xaxis\": \"x3\", \"y\": [-2.5497096718505428], \"yaxis\": \"y3\"}, {\"marker\": {\"color\": \"rgb(33, 100, 175)\", \"line\": {\"color\": \"black\", \"width\": 0.5}, \"size\": 8, \"symbol\": \"x\"}, \"mode\": \"markers\", \"showlegend\": false, \"type\": \"scatter\", \"x\": [0.46785637112409095, 0.43942576453002224, 0.39796899525641394, 0.40791122776747013], \"xaxis\": \"x3\", \"y\": [-1.0338488327820008, -0.961535194412087, -0.9886626613181565, -0.9547767517016797], \"yaxis\": \"y3\"}, {\"marker\": {\"color\": \"rgb(217, 72, 42)\", \"line\": {\"color\": \"black\", \"width\": 0.5}, \"size\": 8, \"symbol\": \"x\"}, \"mode\": \"markers\", \"showlegend\": false, \"type\": \"scatter\", \"x\": [0.3560871383144661, 0.4171372970223329, 0.38146780675393815, 0.3201276485603946], \"xaxis\": \"x3\", \"y\": [-1.0109183517410736, -1.1022594412664795, -1.0388281078168065, -1.0986563664096816], \"yaxis\": \"y3\"}, {\"marker\": {\"color\": \"rgb(146, 54, 132)\", \"line\": {\"color\": \"black\", \"width\": 0.5}, \"size\": 8, \"symbol\": \"x\"}, \"mode\": \"markers\", \"showlegend\": false, \"type\": \"scatter\", \"x\": [0.17188756985728446, 0.1382343222136298, 0.14007746849432554, 0.1262058028245816], \"xaxis\": \"x3\", \"y\": [-1.1531812915634674, -1.0266793599515234, -0.9288574678724477, -1.0817713887803497], \"yaxis\": \"y3\"}, {\"marker\": {\"color\": \"rgb(175, 127, 91)\", \"line\": {\"color\": \"black\", \"width\": 0.5}, \"size\": 8, \"symbol\": \"x\"}, \"mode\": \"markers\", \"showlegend\": false, \"type\": \"scatter\", \"x\": [1.2149126065889861, 1.1363730698750576, 1.1400850335468533, 1.1680427534507016], \"xaxis\": \"x3\", \"y\": [-1.443298746880917, -1.3346442830352576, -1.3318346914000938, -1.3337860065465181], \"yaxis\": \"y3\"}, {\"marker\": {\"color\": \"rgb(166.0, 193, 223)\", \"line\": {\"color\": \"black\", \"width\": 0.5}, \"size\": 8, \"symbol\": \"x\"}, \"mode\": \"markers\", \"showlegend\": false, \"type\": \"scatter\", \"x\": [0.9909751444547292, 1.0985834935935848, 1.1729036752379514, 1.1056761500603454], \"xaxis\": \"x3\", \"y\": [-1.2332241603303606, -1.3241154465911917, -1.4260460089908018, -1.5468402368299659], \"yaxis\": \"y3\"}, {\"marker\": {\"color\": \"rgb(54, 146, 68)\", \"line\": {\"color\": \"black\", \"width\": 0.5}, \"size\": 12, \"symbol\": \"diamond\"}, \"mode\": \"markers\", \"showlegend\": false, \"type\": \"scatter\", \"x\": [0.07016216653281647], \"xaxis\": \"x3\", \"y\": [-2.4588888075409114], \"yaxis\": \"y3\"}, {\"marker\": {\"color\": \"rgb(33, 100, 175)\", \"line\": {\"color\": \"black\", \"width\": 0.5}, \"size\": 8, \"symbol\": \"diamond\"}, \"mode\": \"markers\", \"showlegend\": false, \"type\": \"scatter\", \"x\": [0.09910865931270482, 0.16925740028373323, 0.1101031113334472, 0.09340587851157423], \"xaxis\": \"x3\", \"y\": [-0.859798073166329, -0.845645218303312, -0.849697551981576, -0.900143896079523], \"yaxis\": \"y3\"}, {\"marker\": {\"color\": \"rgb(217, 72, 42)\", \"line\": {\"color\": \"black\", \"width\": 0.5}, \"size\": 8, \"symbol\": \"diamond\"}, \"mode\": \"markers\", \"showlegend\": false, \"type\": \"scatter\", \"x\": [0.11247717807897935, 0.12737581105658052, 0.25595315631462817, 0.2720460948871502], \"xaxis\": \"x3\", \"y\": [-0.8062371516304787, -0.7289326535034567, -0.7856183420840096, -0.8296656323468137], \"yaxis\": \"y3\"}, {\"marker\": {\"color\": \"rgb(146, 54, 132)\", \"line\": {\"color\": \"black\", \"width\": 0.5}, \"size\": 8, \"symbol\": \"diamond\"}, \"mode\": \"markers\", \"showlegend\": false, \"type\": \"scatter\", \"x\": [-0.2760419045786936, -0.1940028285924614, -0.163668833192087, -0.05700538480720017], \"xaxis\": \"x3\", \"y\": [-1.0589395726147972, -1.0679503279029299, -1.1407596671267417, -1.0765257660845542], \"yaxis\": \"y3\"}, {\"marker\": {\"color\": \"rgb(175, 127, 91)\", \"line\": {\"color\": \"black\", \"width\": 0.5}, \"size\": 8, \"symbol\": \"diamond\"}, \"mode\": \"markers\", \"showlegend\": false, \"type\": \"scatter\", \"x\": [1.2267675265699411, 1.2608791994300372, 1.3174407261809382, 1.3941554771741658], \"xaxis\": \"x3\", \"y\": [-1.2600639735356691, -1.3269961423880718, -1.2099202886933433, -1.376848901680363], \"yaxis\": \"y3\"}, {\"marker\": {\"color\": \"rgb(166.0, 193, 223)\", \"line\": {\"color\": \"black\", \"width\": 0.5}, \"size\": 8, \"symbol\": \"diamond\"}, \"mode\": \"markers\", \"showlegend\": false, \"type\": \"scatter\", \"x\": [1.2276687354103197, 1.2121431647163632, 1.2442979345952279, 1.3013653335840205], \"xaxis\": \"x3\", \"y\": [-1.3924786517393128, -1.1665781339071473, -1.337657244113286, -1.4240343693560782], \"yaxis\": \"y3\"}, {\"marker\": {\"color\": \"rgb(54, 146, 68)\", \"line\": {\"color\": \"black\", \"width\": 0.5}, \"size\": 12, \"symbol\": \"square\"}, \"mode\": \"markers\", \"showlegend\": false, \"type\": \"scatter\", \"x\": [-1.3419287944794918], \"xaxis\": \"x3\", \"y\": [-2.231662806961588], \"yaxis\": \"y3\"}, {\"marker\": {\"color\": \"rgb(33, 100, 175)\", \"line\": {\"color\": \"black\", \"width\": 0.5}, \"size\": 8, \"symbol\": \"square\"}, \"mode\": \"markers\", \"showlegend\": false, \"type\": \"scatter\", \"x\": [-0.7084633305477105, -0.7590503107621221, -0.7894726778407886, -0.7748600671608987], \"xaxis\": \"x3\", \"y\": [-0.8994419224717745, -0.8415740555980106, -0.7741701841756858, -0.8125468848413496], \"yaxis\": \"y3\"}, {\"marker\": {\"color\": \"rgb(217, 72, 42)\", \"line\": {\"color\": \"black\", \"width\": 0.5}, \"size\": 8, \"symbol\": \"square\"}, \"mode\": \"markers\", \"showlegend\": false, \"type\": \"scatter\", \"x\": [-0.601013268491649, -0.617807762567469, -0.5961287571469155, -0.6175314985553099], \"xaxis\": \"x3\", \"y\": [-0.8702846266460127, -0.8436504317414742, -0.7626401038121654, -0.7673269287820278], \"yaxis\": \"y3\"}, {\"marker\": {\"color\": \"rgb(146, 54, 132)\", \"line\": {\"color\": \"black\", \"width\": 0.5}, \"size\": 8, \"symbol\": \"square\"}, \"mode\": \"markers\", \"showlegend\": false, \"type\": \"scatter\", \"x\": [-0.935045119911391, -0.8614544718290703, -0.9430522092737493, -0.9095681785971034], \"xaxis\": \"x3\", \"y\": [-1.3632102122609362, -1.2914033557079236, -1.3131647840424148, -1.2566995959325309], \"yaxis\": \"y3\"}, {\"marker\": {\"color\": \"rgb(175, 127, 91)\", \"line\": {\"color\": \"black\", \"width\": 0.5}, \"size\": 8, \"symbol\": \"square\"}, \"mode\": \"markers\", \"showlegend\": false, \"type\": \"scatter\", \"x\": [-1.0664439747299663, -1.2174709331289817, -1.07595238665883, -1.0233332721911859], \"xaxis\": \"x3\", \"y\": [-1.2573560332609302, -1.1636048220761503, -1.196099507751983, -1.2164507753265958], \"yaxis\": \"y3\"}, {\"marker\": {\"color\": \"rgb(166.0, 193, 223)\", \"line\": {\"color\": \"black\", \"width\": 0.5}, \"size\": 8, \"symbol\": \"square\"}, \"mode\": \"markers\", \"showlegend\": false, \"type\": \"scatter\", \"x\": [-1.6152947172916794, -1.72109940365511, -1.6620547545066127, -1.675420829477477], \"xaxis\": \"x3\", \"y\": [-1.349918348879653, -1.340197152924074, -1.2754855846509652, -1.2759271692841025], \"yaxis\": \"y3\"}, {\"marker\": {\"color\": \"rgb(54, 146, 68)\", \"line\": {\"color\": \"black\", \"width\": 0.5}, \"size\": 12, \"symbol\": \"circle\"}, \"mode\": \"markers\", \"showlegend\": false, \"type\": \"scatter\", \"x\": [6.6200409152916375], \"xaxis\": \"x4\", \"y\": [6.459276599919584], \"yaxis\": \"y4\"}, {\"marker\": {\"color\": \"rgb(33, 100, 175)\", \"line\": {\"color\": \"black\", \"width\": 0.5}, \"size\": 8, \"symbol\": \"circle\"}, \"mode\": \"markers\", \"showlegend\": false, \"type\": \"scatter\", \"x\": [3.2618441658283985, 3.1886077671184747, 3.2353434668650696, 3.305280413820071], \"xaxis\": \"x4\", \"y\": [-0.5589024658837971, -0.6495250496685181, -0.6992723681595722, -0.6939986114647589], \"yaxis\": \"y4\"}, {\"marker\": {\"color\": \"rgb(217, 72, 42)\", \"line\": {\"color\": \"black\", \"width\": 0.5}, \"size\": 8, \"symbol\": \"circle\"}, \"mode\": \"markers\", \"showlegend\": false, \"type\": \"scatter\", \"x\": [3.102099859385835, 3.3743285021152873, 3.3547361293127604, 3.0898674581943206], \"xaxis\": \"x4\", \"y\": [-0.758732534817709, -0.7914625929465486, -0.7156581173394435, -0.6977109463741233], \"yaxis\": \"y4\"}, {\"marker\": {\"color\": \"rgb(146, 54, 132)\", \"line\": {\"color\": \"black\", \"width\": 0.5}, \"size\": 8, \"symbol\": \"circle\"}, \"mode\": \"markers\", \"showlegend\": false, \"type\": \"scatter\", \"x\": [2.487536661072873, 2.628289942746422, 2.496509959095717, 2.640438844520288], \"xaxis\": \"x4\", \"y\": [-1.260632800832311, -1.3744691758134904, -1.355919366155836, -1.3957912150016454], \"yaxis\": \"y4\"}, {\"marker\": {\"color\": \"rgb(175, 127, 91)\", \"line\": {\"color\": \"black\", \"width\": 0.5}, \"size\": 8, \"symbol\": \"circle\"}, \"mode\": \"markers\", \"showlegend\": false, \"type\": \"scatter\", \"x\": [3.4860106464704628, 3.46641721792311, 3.493891682329789, 3.3864019146121875], \"xaxis\": \"x4\", \"y\": [-0.6770262985123582, -0.6764016411460428, -0.6865866482541457, -0.6740666746360505], \"yaxis\": \"y4\"}, {\"marker\": {\"color\": \"rgb(166.0, 193, 223)\", \"line\": {\"color\": \"black\", \"width\": 0.5}, \"size\": 8, \"symbol\": \"circle\"}, \"mode\": \"markers\", \"showlegend\": false, \"type\": \"scatter\", \"x\": [4.314092592522468, 4.326682173878195, 4.292659862362463, 4.35858994551263], \"xaxis\": \"x4\", \"y\": [0.3917293398953827, 0.28820295903809606, 0.2807665436068332, 0.3304612095710959], \"yaxis\": \"y4\"}, {\"marker\": {\"color\": \"rgb(54, 146, 68)\", \"line\": {\"color\": \"black\", \"width\": 0.5}, \"size\": 12, \"symbol\": \"x\"}, \"mode\": \"markers\", \"showlegend\": false, \"type\": \"scatter\", \"x\": [-2.5497096718505428], \"xaxis\": \"x4\", \"y\": [-0.9235329728502314], \"yaxis\": \"y4\"}, {\"marker\": {\"color\": \"rgb(33, 100, 175)\", \"line\": {\"color\": \"black\", \"width\": 0.5}, \"size\": 8, \"symbol\": \"x\"}, \"mode\": \"markers\", \"showlegend\": false, \"type\": \"scatter\", \"x\": [-1.0338488327820008, -0.961535194412087, -0.9886626613181565, -0.9547767517016797], \"xaxis\": \"x4\", \"y\": [-0.16080226776773363, -0.30145506883614603, -0.2633856188996858, -0.26888466409349643], \"yaxis\": \"y4\"}, {\"marker\": {\"color\": \"rgb(217, 72, 42)\", \"line\": {\"color\": \"black\", \"width\": 0.5}, \"size\": 8, \"symbol\": \"x\"}, \"mode\": \"markers\", \"showlegend\": false, \"type\": \"scatter\", \"x\": [-1.0109183517410736, -1.1022594412664795, -1.0388281078168065, -1.0986563664096816], \"xaxis\": \"x4\", \"y\": [-0.44624279805146416, -0.41829545951127073, -0.4164089595787252, -0.3360395105114916], \"yaxis\": \"y4\"}, {\"marker\": {\"color\": \"rgb(146, 54, 132)\", \"line\": {\"color\": \"black\", \"width\": 0.5}, \"size\": 8, \"symbol\": \"x\"}, \"mode\": \"markers\", \"showlegend\": false, \"type\": \"scatter\", \"x\": [-1.1531812915634674, -1.0266793599515234, -0.9288574678724477, -1.0817713887803497], \"xaxis\": \"x4\", \"y\": [-0.39812931982103866, -0.3320387387118134, -0.4008278065698602, -0.29203276179287446], \"yaxis\": \"y4\"}, {\"marker\": {\"color\": \"rgb(175, 127, 91)\", \"line\": {\"color\": \"black\", \"width\": 0.5}, \"size\": 8, \"symbol\": \"x\"}, \"mode\": \"markers\", \"showlegend\": false, \"type\": \"scatter\", \"x\": [-1.443298746880917, -1.3346442830352576, -1.3318346914000938, -1.3337860065465181], \"xaxis\": \"x4\", \"y\": [-0.7842091261865671, -0.7872003722912284, -0.7664857891562022, -0.7628937145381564], \"yaxis\": \"y4\"}, {\"marker\": {\"color\": \"rgb(166.0, 193, 223)\", \"line\": {\"color\": \"black\", \"width\": 0.5}, \"size\": 8, \"symbol\": \"x\"}, \"mode\": \"markers\", \"showlegend\": false, \"type\": \"scatter\", \"x\": [-1.2332241603303606, -1.3241154465911917, -1.4260460089908018, -1.5468402368299659], \"xaxis\": \"x4\", \"y\": [0.3318544712822926, 0.2006043663725368, 0.12338878778103377, 0.04610714309139411], \"yaxis\": \"y4\"}, {\"marker\": {\"color\": \"rgb(54, 146, 68)\", \"line\": {\"color\": \"black\", \"width\": 0.5}, \"size\": 12, \"symbol\": \"diamond\"}, \"mode\": \"markers\", \"showlegend\": false, \"type\": \"scatter\", \"x\": [-2.4588888075409114], \"xaxis\": \"x4\", \"y\": [-0.16993923807418318], \"yaxis\": \"y4\"}, {\"marker\": {\"color\": \"rgb(33, 100, 175)\", \"line\": {\"color\": \"black\", \"width\": 0.5}, \"size\": 8, \"symbol\": \"diamond\"}, \"mode\": \"markers\", \"showlegend\": false, \"type\": \"scatter\", \"x\": [-0.859798073166329, -0.845645218303312, -0.849697551981576, -0.900143896079523], \"xaxis\": \"x4\", \"y\": [0.06868780992784954, -0.0920543416305427, -0.09545249900160376, -0.03726680820677038], \"yaxis\": \"y4\"}, {\"marker\": {\"color\": \"rgb(217, 72, 42)\", \"line\": {\"color\": \"black\", \"width\": 0.5}, \"size\": 8, \"symbol\": \"diamond\"}, \"mode\": \"markers\", \"showlegend\": false, \"type\": \"scatter\", \"x\": [-0.8062371516304787, -0.7289326535034567, -0.7856183420840096, -0.8296656323468137], \"xaxis\": \"x4\", \"y\": [-0.36246445591998105, -0.3606243485804239, -0.40281390146880697, -0.4007064868505461], \"yaxis\": \"y4\"}, {\"marker\": {\"color\": \"rgb(146, 54, 132)\", \"line\": {\"color\": \"black\", \"width\": 0.5}, \"size\": 8, \"symbol\": \"diamond\"}, \"mode\": \"markers\", \"showlegend\": false, \"type\": \"scatter\", \"x\": [-1.0589395726147972, -1.0679503279029299, -1.1407596671267417, -1.0765257660845542], \"xaxis\": \"x4\", \"y\": [-0.2155563201179656, -0.217399367992311, -0.18878913312564063, -0.2150189814840169], \"yaxis\": \"y4\"}, {\"marker\": {\"color\": \"rgb(175, 127, 91)\", \"line\": {\"color\": \"black\", \"width\": 0.5}, \"size\": 8, \"symbol\": \"diamond\"}, \"mode\": \"markers\", \"showlegend\": false, \"type\": \"scatter\", \"x\": [-1.2600639735356691, -1.3269961423880718, -1.2099202886933433, -1.376848901680363], \"xaxis\": \"x4\", \"y\": [-0.7050070136050032, -0.7687117926919639, -0.8008954136229072, -0.5735584239302144], \"yaxis\": \"y4\"}, {\"marker\": {\"color\": \"rgb(166.0, 193, 223)\", \"line\": {\"color\": \"black\", \"width\": 0.5}, \"size\": 8, \"symbol\": \"diamond\"}, \"mode\": \"markers\", \"showlegend\": false, \"type\": \"scatter\", \"x\": [-1.3924786517393128, -1.1665781339071473, -1.337657244113286, -1.4240343693560782], \"xaxis\": \"x4\", \"y\": [0.23599747461571055, 0.05615205730530667, 0.12593034498602299, 0.1416243826986637], \"yaxis\": \"y4\"}, {\"marker\": {\"color\": \"rgb(54, 146, 68)\", \"line\": {\"color\": \"black\", \"width\": 0.5}, \"size\": 12, \"symbol\": \"square\"}, \"mode\": \"markers\", \"showlegend\": false, \"type\": \"scatter\", \"x\": [-2.231662806961588], \"xaxis\": \"x4\", \"y\": [0.8959436878709666], \"yaxis\": \"y4\"}, {\"marker\": {\"color\": \"rgb(33, 100, 175)\", \"line\": {\"color\": \"black\", \"width\": 0.5}, \"size\": 8, \"symbol\": \"square\"}, \"mode\": \"markers\", \"showlegend\": false, \"type\": \"scatter\", \"x\": [-0.8994419224717745, -0.8415740555980106, -0.7741701841756858, -0.8125468848413496], \"xaxis\": \"x4\", \"y\": [0.7625387153002563, 0.6938866565937548, 0.6168797209636326, 0.7121317190622419], \"yaxis\": \"y4\"}, {\"marker\": {\"color\": \"rgb(217, 72, 42)\", \"line\": {\"color\": \"black\", \"width\": 0.5}, \"size\": 8, \"symbol\": \"square\"}, \"mode\": \"markers\", \"showlegend\": false, \"type\": \"scatter\", \"x\": [-0.8702846266460127, -0.8436504317414742, -0.7626401038121654, -0.7673269287820278], \"xaxis\": \"x4\", \"y\": [0.29829405533171455, 0.237097839974236, 0.2825906183447671, 0.3427735184923657], \"yaxis\": \"y4\"}, {\"marker\": {\"color\": \"rgb(146, 54, 132)\", \"line\": {\"color\": \"black\", \"width\": 0.5}, \"size\": 8, \"symbol\": \"square\"}, \"mode\": \"markers\", \"showlegend\": false, \"type\": \"scatter\", \"x\": [-1.3632102122609362, -1.2914033557079236, -1.3131647840424148, -1.2566995959325309], \"xaxis\": \"x4\", \"y\": [0.5758104308116713, 0.5393642072103697, 0.6478442557046318, 0.622590893406731], \"yaxis\": \"y4\"}, {\"marker\": {\"color\": \"rgb(175, 127, 91)\", \"line\": {\"color\": \"black\", \"width\": 0.5}, \"size\": 8, \"symbol\": \"square\"}, \"mode\": \"markers\", \"showlegend\": false, \"type\": \"scatter\", \"x\": [-1.2573560332609302, -1.1636048220761503, -1.196099507751983, -1.2164507753265958], \"xaxis\": \"x4\", \"y\": [0.7883376217710388, 0.8314308009905617, 0.7701731338539012, 0.7740325451900522], \"yaxis\": \"y4\"}, {\"marker\": {\"color\": \"rgb(166.0, 193, 223)\", \"line\": {\"color\": \"black\", \"width\": 0.5}, \"size\": 8, \"symbol\": \"square\"}, \"mode\": \"markers\", \"showlegend\": false, \"type\": \"scatter\", \"x\": [-1.349918348879653, -1.340197152924074, -1.2754855846509652, -1.2759271692841025], \"xaxis\": \"x4\", \"y\": [1.9981876053646725, 1.9753097686970984, 1.9773722123813762, 1.907906485069377], \"yaxis\": \"y4\"}, {\"marker\": {\"color\": \"rgb(54, 146, 68)\", \"line\": {\"color\": \"black\", \"width\": 0.5}, \"size\": 12, \"symbol\": \"circle\"}, \"mode\": \"markers\", \"showlegend\": false, \"type\": \"scatter\", \"x\": [4.534623699248589], \"xaxis\": \"x6\", \"y\": [6.459276599919584], \"yaxis\": \"y6\"}, {\"marker\": {\"color\": \"rgb(33, 100, 175)\", \"line\": {\"color\": \"black\", \"width\": 0.5}, \"size\": 8, \"symbol\": \"circle\"}, \"mode\": \"markers\", \"showlegend\": false, \"type\": \"scatter\", \"x\": [-0.10440962313393606, -0.0296413156938284, -0.01621663550736761, -0.03590382602704629], \"xaxis\": \"x6\", \"y\": [-0.5589024658837971, -0.6495250496685181, -0.6992723681595722, -0.6939986114647589], \"yaxis\": \"y6\"}, {\"marker\": {\"color\": \"rgb(217, 72, 42)\", \"line\": {\"color\": \"black\", \"width\": 0.5}, \"size\": 8, \"symbol\": \"circle\"}, \"mode\": \"markers\", \"showlegend\": false, \"type\": \"scatter\", \"x\": [-0.22947785091143968, -0.32279946210038957, -0.2621868286928464, -0.20864087981761512], \"xaxis\": \"x6\", \"y\": [-0.758732534817709, -0.7914625929465486, -0.7156581173394435, -0.6977109463741233], \"yaxis\": \"y6\"}, {\"marker\": {\"color\": \"rgb(146, 54, 132)\", \"line\": {\"color\": \"black\", \"width\": 0.5}, \"size\": 8, \"symbol\": \"circle\"}, \"mode\": \"markers\", \"showlegend\": false, \"type\": \"scatter\", \"x\": [0.008748313996239609, 0.14537223628941756, 0.1948773552225492, 0.10274578972154141], \"xaxis\": \"x6\", \"y\": [-1.260632800832311, -1.3744691758134904, -1.355919366155836, -1.3957912150016454], \"yaxis\": \"y6\"}, {\"marker\": {\"color\": \"rgb(175, 127, 91)\", \"line\": {\"color\": \"black\", \"width\": 0.5}, \"size\": 8, \"symbol\": \"circle\"}, \"mode\": \"markers\", \"showlegend\": false, \"type\": \"scatter\", \"x\": [-0.6598109557170759, -0.6324583602459521, -0.6181928450505989, -0.5182796622117326], \"xaxis\": \"x6\", \"y\": [-0.6770262985123582, -0.6764016411460428, -0.6865866482541457, -0.6740666746360505], \"yaxis\": \"y6\"}, {\"marker\": {\"color\": \"rgb(166.0, 193, 223)\", \"line\": {\"color\": \"black\", \"width\": 0.5}, \"size\": 8, \"symbol\": \"circle\"}, \"mode\": \"markers\", \"showlegend\": false, \"type\": \"scatter\", \"x\": [-0.8372723374712424, -0.8637030070889193, -0.8816140641267072, -0.8794906758352423], \"xaxis\": \"x6\", \"y\": [0.3917293398953827, 0.28820295903809606, 0.2807665436068332, 0.3304612095710959], \"yaxis\": \"y6\"}, {\"marker\": {\"color\": \"rgb(54, 146, 68)\", \"line\": {\"color\": \"black\", \"width\": 0.5}, \"size\": 12, \"symbol\": \"x\"}, \"mode\": \"markers\", \"showlegend\": false, \"type\": \"scatter\", \"x\": [0.03034971162777037], \"xaxis\": \"x6\", \"y\": [-0.9235329728502314], \"yaxis\": \"y6\"}, {\"marker\": {\"color\": \"rgb(33, 100, 175)\", \"line\": {\"color\": \"black\", \"width\": 0.5}, \"size\": 8, \"symbol\": \"x\"}, \"mode\": \"markers\", \"showlegend\": false, \"type\": \"scatter\", \"x\": [0.46785637112409095, 0.43942576453002224, 0.39796899525641394, 0.40791122776747013], \"xaxis\": \"x6\", \"y\": [-0.16080226776773363, -0.30145506883614603, -0.2633856188996858, -0.26888466409349643], \"yaxis\": \"y6\"}, {\"marker\": {\"color\": \"rgb(217, 72, 42)\", \"line\": {\"color\": \"black\", \"width\": 0.5}, \"size\": 8, \"symbol\": \"x\"}, \"mode\": \"markers\", \"showlegend\": false, \"type\": \"scatter\", \"x\": [0.3560871383144661, 0.4171372970223329, 0.38146780675393815, 0.3201276485603946], \"xaxis\": \"x6\", \"y\": [-0.44624279805146416, -0.41829545951127073, -0.4164089595787252, -0.3360395105114916], \"yaxis\": \"y6\"}, {\"marker\": {\"color\": \"rgb(146, 54, 132)\", \"line\": {\"color\": \"black\", \"width\": 0.5}, \"size\": 8, \"symbol\": \"x\"}, \"mode\": \"markers\", \"showlegend\": false, \"type\": \"scatter\", \"x\": [0.17188756985728446, 0.1382343222136298, 0.14007746849432554, 0.1262058028245816], \"xaxis\": \"x6\", \"y\": [-0.39812931982103866, -0.3320387387118134, -0.4008278065698602, -0.29203276179287446], \"yaxis\": \"y6\"}, {\"marker\": {\"color\": \"rgb(175, 127, 91)\", \"line\": {\"color\": \"black\", \"width\": 0.5}, \"size\": 8, \"symbol\": \"x\"}, \"mode\": \"markers\", \"showlegend\": false, \"type\": \"scatter\", \"x\": [1.2149126065889861, 1.1363730698750576, 1.1400850335468533, 1.1680427534507016], \"xaxis\": \"x6\", \"y\": [-0.7842091261865671, -0.7872003722912284, -0.7664857891562022, -0.7628937145381564], \"yaxis\": \"y6\"}, {\"marker\": {\"color\": \"rgb(166.0, 193, 223)\", \"line\": {\"color\": \"black\", \"width\": 0.5}, \"size\": 8, \"symbol\": \"x\"}, \"mode\": \"markers\", \"showlegend\": false, \"type\": \"scatter\", \"x\": [0.9909751444547292, 1.0985834935935848, 1.1729036752379514, 1.1056761500603454], \"xaxis\": \"x6\", \"y\": [0.3318544712822926, 0.2006043663725368, 0.12338878778103377, 0.04610714309139411], \"yaxis\": \"y6\"}, {\"marker\": {\"color\": \"rgb(54, 146, 68)\", \"line\": {\"color\": \"black\", \"width\": 0.5}, \"size\": 12, \"symbol\": \"diamond\"}, \"mode\": \"markers\", \"showlegend\": false, \"type\": \"scatter\", \"x\": [0.07016216653281647], \"xaxis\": \"x6\", \"y\": [-0.16993923807418318], \"yaxis\": \"y6\"}, {\"marker\": {\"color\": \"rgb(33, 100, 175)\", \"line\": {\"color\": \"black\", \"width\": 0.5}, \"size\": 8, \"symbol\": \"diamond\"}, \"mode\": \"markers\", \"showlegend\": false, \"type\": \"scatter\", \"x\": [0.09910865931270482, 0.16925740028373323, 0.1101031113334472, 0.09340587851157423], \"xaxis\": \"x6\", \"y\": [0.06868780992784954, -0.0920543416305427, -0.09545249900160376, -0.03726680820677038], \"yaxis\": \"y6\"}, {\"marker\": {\"color\": \"rgb(217, 72, 42)\", \"line\": {\"color\": \"black\", \"width\": 0.5}, \"size\": 8, \"symbol\": \"diamond\"}, \"mode\": \"markers\", \"showlegend\": false, \"type\": \"scatter\", \"x\": [0.11247717807897935, 0.12737581105658052, 0.25595315631462817, 0.2720460948871502], \"xaxis\": \"x6\", \"y\": [-0.36246445591998105, -0.3606243485804239, -0.40281390146880697, -0.4007064868505461], \"yaxis\": \"y6\"}, {\"marker\": {\"color\": \"rgb(146, 54, 132)\", \"line\": {\"color\": \"black\", \"width\": 0.5}, \"size\": 8, \"symbol\": \"diamond\"}, \"mode\": \"markers\", \"showlegend\": false, \"type\": \"scatter\", \"x\": [-0.2760419045786936, -0.1940028285924614, -0.163668833192087, -0.05700538480720017], \"xaxis\": \"x6\", \"y\": [-0.2155563201179656, -0.217399367992311, -0.18878913312564063, -0.2150189814840169], \"yaxis\": \"y6\"}, {\"marker\": {\"color\": \"rgb(175, 127, 91)\", \"line\": {\"color\": \"black\", \"width\": 0.5}, \"size\": 8, \"symbol\": \"diamond\"}, \"mode\": \"markers\", \"showlegend\": false, \"type\": \"scatter\", \"x\": [1.2267675265699411, 1.2608791994300372, 1.3174407261809382, 1.3941554771741658], \"xaxis\": \"x6\", \"y\": [-0.7050070136050032, -0.7687117926919639, -0.8008954136229072, -0.5735584239302144], \"yaxis\": \"y6\"}, {\"marker\": {\"color\": \"rgb(166.0, 193, 223)\", \"line\": {\"color\": \"black\", \"width\": 0.5}, \"size\": 8, \"symbol\": \"diamond\"}, \"mode\": \"markers\", \"showlegend\": false, \"type\": \"scatter\", \"x\": [1.2276687354103197, 1.2121431647163632, 1.2442979345952279, 1.3013653335840205], \"xaxis\": \"x6\", \"y\": [0.23599747461571055, 0.05615205730530667, 0.12593034498602299, 0.1416243826986637], \"yaxis\": \"y6\"}, {\"marker\": {\"color\": \"rgb(54, 146, 68)\", \"line\": {\"color\": \"black\", \"width\": 0.5}, \"size\": 12, \"symbol\": \"square\"}, \"mode\": \"markers\", \"showlegend\": false, \"type\": \"scatter\", \"x\": [-1.3419287944794918], \"xaxis\": \"x6\", \"y\": [0.8959436878709666], \"yaxis\": \"y6\"}, {\"marker\": {\"color\": \"rgb(33, 100, 175)\", \"line\": {\"color\": \"black\", \"width\": 0.5}, \"size\": 8, \"symbol\": \"square\"}, \"mode\": \"markers\", \"showlegend\": false, \"type\": \"scatter\", \"x\": [-0.7084633305477105, -0.7590503107621221, -0.7894726778407886, -0.7748600671608987], \"xaxis\": \"x6\", \"y\": [0.7625387153002563, 0.6938866565937548, 0.6168797209636326, 0.7121317190622419], \"yaxis\": \"y6\"}, {\"marker\": {\"color\": \"rgb(217, 72, 42)\", \"line\": {\"color\": \"black\", \"width\": 0.5}, \"size\": 8, \"symbol\": \"square\"}, \"mode\": \"markers\", \"showlegend\": false, \"type\": \"scatter\", \"x\": [-0.601013268491649, -0.617807762567469, -0.5961287571469155, -0.6175314985553099], \"xaxis\": \"x6\", \"y\": [0.29829405533171455, 0.237097839974236, 0.2825906183447671, 0.3427735184923657], \"yaxis\": \"y6\"}, {\"marker\": {\"color\": \"rgb(146, 54, 132)\", \"line\": {\"color\": \"black\", \"width\": 0.5}, \"size\": 8, \"symbol\": \"square\"}, \"mode\": \"markers\", \"showlegend\": false, \"type\": \"scatter\", \"x\": [-0.935045119911391, -0.8614544718290703, -0.9430522092737493, -0.9095681785971034], \"xaxis\": \"x6\", \"y\": [0.5758104308116713, 0.5393642072103697, 0.6478442557046318, 0.622590893406731], \"yaxis\": \"y6\"}, {\"marker\": {\"color\": \"rgb(175, 127, 91)\", \"line\": {\"color\": \"black\", \"width\": 0.5}, \"size\": 8, \"symbol\": \"square\"}, \"mode\": \"markers\", \"showlegend\": false, \"type\": \"scatter\", \"x\": [-1.0664439747299663, -1.2174709331289817, -1.07595238665883, -1.0233332721911859], \"xaxis\": \"x6\", \"y\": [0.7883376217710388, 0.8314308009905617, 0.7701731338539012, 0.7740325451900522], \"yaxis\": \"y6\"}, {\"marker\": {\"color\": \"rgb(166.0, 193, 223)\", \"line\": {\"color\": \"black\", \"width\": 0.5}, \"size\": 8, \"symbol\": \"square\"}, \"mode\": \"markers\", \"showlegend\": false, \"type\": \"scatter\", \"x\": [-1.6152947172916794, -1.72109940365511, -1.6620547545066127, -1.675420829477477], \"xaxis\": \"x6\", \"y\": [1.9981876053646725, 1.9753097686970984, 1.9773722123813762, 1.907906485069377], \"yaxis\": \"y6\"}, {\"marker\": {\"color\": \"rgb(54, 146, 68)\", \"line\": {\"color\": \"black\", \"width\": 0.5}, \"size\": 12, \"symbol\": \"circle\"}, \"mode\": \"markers\", \"showlegend\": false, \"type\": \"scatter\", \"x\": [6.6200409152916375], \"xaxis\": \"x7\", \"y\": [4.534623699248589], \"yaxis\": \"y7\"}, {\"marker\": {\"color\": \"rgb(33, 100, 175)\", \"line\": {\"color\": \"black\", \"width\": 0.5}, \"size\": 8, \"symbol\": \"circle\"}, \"mode\": \"markers\", \"showlegend\": false, \"type\": \"scatter\", \"x\": [3.2618441658283985, 3.1886077671184747, 3.2353434668650696, 3.305280413820071], \"xaxis\": \"x7\", \"y\": [-0.10440962313393606, -0.0296413156938284, -0.01621663550736761, -0.03590382602704629], \"yaxis\": \"y7\"}, {\"marker\": {\"color\": \"rgb(217, 72, 42)\", \"line\": {\"color\": \"black\", \"width\": 0.5}, \"size\": 8, \"symbol\": \"circle\"}, \"mode\": \"markers\", \"showlegend\": false, \"type\": \"scatter\", \"x\": [3.102099859385835, 3.3743285021152873, 3.3547361293127604, 3.0898674581943206], \"xaxis\": \"x7\", \"y\": [-0.22947785091143968, -0.32279946210038957, -0.2621868286928464, -0.20864087981761512], \"yaxis\": \"y7\"}, {\"marker\": {\"color\": \"rgb(146, 54, 132)\", \"line\": {\"color\": \"black\", \"width\": 0.5}, \"size\": 8, \"symbol\": \"circle\"}, \"mode\": \"markers\", \"showlegend\": false, \"type\": \"scatter\", \"x\": [2.487536661072873, 2.628289942746422, 2.496509959095717, 2.640438844520288], \"xaxis\": \"x7\", \"y\": [0.008748313996239609, 0.14537223628941756, 0.1948773552225492, 0.10274578972154141], \"yaxis\": \"y7\"}, {\"marker\": {\"color\": \"rgb(175, 127, 91)\", \"line\": {\"color\": \"black\", \"width\": 0.5}, \"size\": 8, \"symbol\": \"circle\"}, \"mode\": \"markers\", \"showlegend\": false, \"type\": \"scatter\", \"x\": [3.4860106464704628, 3.46641721792311, 3.493891682329789, 3.3864019146121875], \"xaxis\": \"x7\", \"y\": [-0.6598109557170759, -0.6324583602459521, -0.6181928450505989, -0.5182796622117326], \"yaxis\": \"y7\"}, {\"marker\": {\"color\": \"rgb(166.0, 193, 223)\", \"line\": {\"color\": \"black\", \"width\": 0.5}, \"size\": 8, \"symbol\": \"circle\"}, \"mode\": \"markers\", \"showlegend\": false, \"type\": \"scatter\", \"x\": [4.314092592522468, 4.326682173878195, 4.292659862362463, 4.35858994551263], \"xaxis\": \"x7\", \"y\": [-0.8372723374712424, -0.8637030070889193, -0.8816140641267072, -0.8794906758352423], \"yaxis\": \"y7\"}, {\"marker\": {\"color\": \"rgb(54, 146, 68)\", \"line\": {\"color\": \"black\", \"width\": 0.5}, \"size\": 12, \"symbol\": \"x\"}, \"mode\": \"markers\", \"showlegend\": false, \"type\": \"scatter\", \"x\": [-2.5497096718505428], \"xaxis\": \"x7\", \"y\": [0.03034971162777037], \"yaxis\": \"y7\"}, {\"marker\": {\"color\": \"rgb(33, 100, 175)\", \"line\": {\"color\": \"black\", \"width\": 0.5}, \"size\": 8, \"symbol\": \"x\"}, \"mode\": \"markers\", \"showlegend\": false, \"type\": \"scatter\", \"x\": [-1.0338488327820008, -0.961535194412087, -0.9886626613181565, -0.9547767517016797], \"xaxis\": \"x7\", \"y\": [0.46785637112409095, 0.43942576453002224, 0.39796899525641394, 0.40791122776747013], \"yaxis\": \"y7\"}, {\"marker\": {\"color\": \"rgb(217, 72, 42)\", \"line\": {\"color\": \"black\", \"width\": 0.5}, \"size\": 8, \"symbol\": \"x\"}, \"mode\": \"markers\", \"showlegend\": false, \"type\": \"scatter\", \"x\": [-1.0109183517410736, -1.1022594412664795, -1.0388281078168065, -1.0986563664096816], \"xaxis\": \"x7\", \"y\": [0.3560871383144661, 0.4171372970223329, 0.38146780675393815, 0.3201276485603946], \"yaxis\": \"y7\"}, {\"marker\": {\"color\": \"rgb(146, 54, 132)\", \"line\": {\"color\": \"black\", \"width\": 0.5}, \"size\": 8, \"symbol\": \"x\"}, \"mode\": \"markers\", \"showlegend\": false, \"type\": \"scatter\", \"x\": [-1.1531812915634674, -1.0266793599515234, -0.9288574678724477, -1.0817713887803497], \"xaxis\": \"x7\", \"y\": [0.17188756985728446, 0.1382343222136298, 0.14007746849432554, 0.1262058028245816], \"yaxis\": \"y7\"}, {\"marker\": {\"color\": \"rgb(175, 127, 91)\", \"line\": {\"color\": \"black\", \"width\": 0.5}, \"size\": 8, \"symbol\": \"x\"}, \"mode\": \"markers\", \"showlegend\": false, \"type\": \"scatter\", \"x\": [-1.443298746880917, -1.3346442830352576, -1.3318346914000938, -1.3337860065465181], \"xaxis\": \"x7\", \"y\": [1.2149126065889861, 1.1363730698750576, 1.1400850335468533, 1.1680427534507016], \"yaxis\": \"y7\"}, {\"marker\": {\"color\": \"rgb(166.0, 193, 223)\", \"line\": {\"color\": \"black\", \"width\": 0.5}, \"size\": 8, \"symbol\": \"x\"}, \"mode\": \"markers\", \"showlegend\": false, \"type\": \"scatter\", \"x\": [-1.2332241603303606, -1.3241154465911917, -1.4260460089908018, -1.5468402368299659], \"xaxis\": \"x7\", \"y\": [0.9909751444547292, 1.0985834935935848, 1.1729036752379514, 1.1056761500603454], \"yaxis\": \"y7\"}, {\"marker\": {\"color\": \"rgb(54, 146, 68)\", \"line\": {\"color\": \"black\", \"width\": 0.5}, \"size\": 12, \"symbol\": \"diamond\"}, \"mode\": \"markers\", \"showlegend\": false, \"type\": \"scatter\", \"x\": [-2.4588888075409114], \"xaxis\": \"x7\", \"y\": [0.07016216653281647], \"yaxis\": \"y7\"}, {\"marker\": {\"color\": \"rgb(33, 100, 175)\", \"line\": {\"color\": \"black\", \"width\": 0.5}, \"size\": 8, \"symbol\": \"diamond\"}, \"mode\": \"markers\", \"showlegend\": false, \"type\": \"scatter\", \"x\": [-0.859798073166329, -0.845645218303312, -0.849697551981576, -0.900143896079523], \"xaxis\": \"x7\", \"y\": [0.09910865931270482, 0.16925740028373323, 0.1101031113334472, 0.09340587851157423], \"yaxis\": \"y7\"}, {\"marker\": {\"color\": \"rgb(217, 72, 42)\", \"line\": {\"color\": \"black\", \"width\": 0.5}, \"size\": 8, \"symbol\": \"diamond\"}, \"mode\": \"markers\", \"showlegend\": false, \"type\": \"scatter\", \"x\": [-0.8062371516304787, -0.7289326535034567, -0.7856183420840096, -0.8296656323468137], \"xaxis\": \"x7\", \"y\": [0.11247717807897935, 0.12737581105658052, 0.25595315631462817, 0.2720460948871502], \"yaxis\": \"y7\"}, {\"marker\": {\"color\": \"rgb(146, 54, 132)\", \"line\": {\"color\": \"black\", \"width\": 0.5}, \"size\": 8, \"symbol\": \"diamond\"}, \"mode\": \"markers\", \"showlegend\": false, \"type\": \"scatter\", \"x\": [-1.0589395726147972, -1.0679503279029299, -1.1407596671267417, -1.0765257660845542], \"xaxis\": \"x7\", \"y\": [-0.2760419045786936, -0.1940028285924614, -0.163668833192087, -0.05700538480720017], \"yaxis\": \"y7\"}, {\"marker\": {\"color\": \"rgb(175, 127, 91)\", \"line\": {\"color\": \"black\", \"width\": 0.5}, \"size\": 8, \"symbol\": \"diamond\"}, \"mode\": \"markers\", \"showlegend\": false, \"type\": \"scatter\", \"x\": [-1.2600639735356691, -1.3269961423880718, -1.2099202886933433, -1.376848901680363], \"xaxis\": \"x7\", \"y\": [1.2267675265699411, 1.2608791994300372, 1.3174407261809382, 1.3941554771741658], \"yaxis\": \"y7\"}, {\"marker\": {\"color\": \"rgb(166.0, 193, 223)\", \"line\": {\"color\": \"black\", \"width\": 0.5}, \"size\": 8, \"symbol\": \"diamond\"}, \"mode\": \"markers\", \"showlegend\": false, \"type\": \"scatter\", \"x\": [-1.3924786517393128, -1.1665781339071473, -1.337657244113286, -1.4240343693560782], \"xaxis\": \"x7\", \"y\": [1.2276687354103197, 1.2121431647163632, 1.2442979345952279, 1.3013653335840205], \"yaxis\": \"y7\"}, {\"marker\": {\"color\": \"rgb(54, 146, 68)\", \"line\": {\"color\": \"black\", \"width\": 0.5}, \"size\": 12, \"symbol\": \"square\"}, \"mode\": \"markers\", \"showlegend\": false, \"type\": \"scatter\", \"x\": [-2.231662806961588], \"xaxis\": \"x7\", \"y\": [-1.3419287944794918], \"yaxis\": \"y7\"}, {\"marker\": {\"color\": \"rgb(33, 100, 175)\", \"line\": {\"color\": \"black\", \"width\": 0.5}, \"size\": 8, \"symbol\": \"square\"}, \"mode\": \"markers\", \"showlegend\": false, \"type\": \"scatter\", \"x\": [-0.8994419224717745, -0.8415740555980106, -0.7741701841756858, -0.8125468848413496], \"xaxis\": \"x7\", \"y\": [-0.7084633305477105, -0.7590503107621221, -0.7894726778407886, -0.7748600671608987], \"yaxis\": \"y7\"}, {\"marker\": {\"color\": \"rgb(217, 72, 42)\", \"line\": {\"color\": \"black\", \"width\": 0.5}, \"size\": 8, \"symbol\": \"square\"}, \"mode\": \"markers\", \"showlegend\": false, \"type\": \"scatter\", \"x\": [-0.8702846266460127, -0.8436504317414742, -0.7626401038121654, -0.7673269287820278], \"xaxis\": \"x7\", \"y\": [-0.601013268491649, -0.617807762567469, -0.5961287571469155, -0.6175314985553099], \"yaxis\": \"y7\"}, {\"marker\": {\"color\": \"rgb(146, 54, 132)\", \"line\": {\"color\": \"black\", \"width\": 0.5}, \"size\": 8, \"symbol\": \"square\"}, \"mode\": \"markers\", \"showlegend\": false, \"type\": \"scatter\", \"x\": [-1.3632102122609362, -1.2914033557079236, -1.3131647840424148, -1.2566995959325309], \"xaxis\": \"x7\", \"y\": [-0.935045119911391, -0.8614544718290703, -0.9430522092737493, -0.9095681785971034], \"yaxis\": \"y7\"}, {\"marker\": {\"color\": \"rgb(175, 127, 91)\", \"line\": {\"color\": \"black\", \"width\": 0.5}, \"size\": 8, \"symbol\": \"square\"}, \"mode\": \"markers\", \"showlegend\": false, \"type\": \"scatter\", \"x\": [-1.2573560332609302, -1.1636048220761503, -1.196099507751983, -1.2164507753265958], \"xaxis\": \"x7\", \"y\": [-1.0664439747299663, -1.2174709331289817, -1.07595238665883, -1.0233332721911859], \"yaxis\": \"y7\"}, {\"marker\": {\"color\": \"rgb(166.0, 193, 223)\", \"line\": {\"color\": \"black\", \"width\": 0.5}, \"size\": 8, \"symbol\": \"square\"}, \"mode\": \"markers\", \"showlegend\": false, \"type\": \"scatter\", \"x\": [-1.349918348879653, -1.340197152924074, -1.2754855846509652, -1.2759271692841025], \"xaxis\": \"x7\", \"y\": [-1.6152947172916794, -1.72109940365511, -1.6620547545066127, -1.675420829477477], \"yaxis\": \"y7\"}, {\"marker\": {\"color\": \"rgb(54, 146, 68)\", \"line\": {\"color\": \"black\", \"width\": 0.5}, \"size\": 12, \"symbol\": \"circle\"}, \"mode\": \"markers\", \"showlegend\": false, \"type\": \"scatter\", \"x\": [6.459276599919584], \"xaxis\": \"x8\", \"y\": [4.534623699248589], \"yaxis\": \"y8\"}, {\"marker\": {\"color\": \"rgb(33, 100, 175)\", \"line\": {\"color\": \"black\", \"width\": 0.5}, \"size\": 8, \"symbol\": \"circle\"}, \"mode\": \"markers\", \"showlegend\": false, \"type\": \"scatter\", \"x\": [-0.5589024658837971, -0.6495250496685181, -0.6992723681595722, -0.6939986114647589], \"xaxis\": \"x8\", \"y\": [-0.10440962313393606, -0.0296413156938284, -0.01621663550736761, -0.03590382602704629], \"yaxis\": \"y8\"}, {\"marker\": {\"color\": \"rgb(217, 72, 42)\", \"line\": {\"color\": \"black\", \"width\": 0.5}, \"size\": 8, \"symbol\": \"circle\"}, \"mode\": \"markers\", \"showlegend\": false, \"type\": \"scatter\", \"x\": [-0.758732534817709, -0.7914625929465486, -0.7156581173394435, -0.6977109463741233], \"xaxis\": \"x8\", \"y\": [-0.22947785091143968, -0.32279946210038957, -0.2621868286928464, -0.20864087981761512], \"yaxis\": \"y8\"}, {\"marker\": {\"color\": \"rgb(146, 54, 132)\", \"line\": {\"color\": \"black\", \"width\": 0.5}, \"size\": 8, \"symbol\": \"circle\"}, \"mode\": \"markers\", \"showlegend\": false, \"type\": \"scatter\", \"x\": [-1.260632800832311, -1.3744691758134904, -1.355919366155836, -1.3957912150016454], \"xaxis\": \"x8\", \"y\": [0.008748313996239609, 0.14537223628941756, 0.1948773552225492, 0.10274578972154141], \"yaxis\": \"y8\"}, {\"marker\": {\"color\": \"rgb(175, 127, 91)\", \"line\": {\"color\": \"black\", \"width\": 0.5}, \"size\": 8, \"symbol\": \"circle\"}, \"mode\": \"markers\", \"showlegend\": false, \"type\": \"scatter\", \"x\": [-0.6770262985123582, -0.6764016411460428, -0.6865866482541457, -0.6740666746360505], \"xaxis\": \"x8\", \"y\": [-0.6598109557170759, -0.6324583602459521, -0.6181928450505989, -0.5182796622117326], \"yaxis\": \"y8\"}, {\"marker\": {\"color\": \"rgb(166.0, 193, 223)\", \"line\": {\"color\": \"black\", \"width\": 0.5}, \"size\": 8, \"symbol\": \"circle\"}, \"mode\": \"markers\", \"showlegend\": false, \"type\": \"scatter\", \"x\": [0.3917293398953827, 0.28820295903809606, 0.2807665436068332, 0.3304612095710959], \"xaxis\": \"x8\", \"y\": [-0.8372723374712424, -0.8637030070889193, -0.8816140641267072, -0.8794906758352423], \"yaxis\": \"y8\"}, {\"marker\": {\"color\": \"rgb(54, 146, 68)\", \"line\": {\"color\": \"black\", \"width\": 0.5}, \"size\": 12, \"symbol\": \"x\"}, \"mode\": \"markers\", \"showlegend\": false, \"type\": \"scatter\", \"x\": [-0.9235329728502314], \"xaxis\": \"x8\", \"y\": [0.03034971162777037], \"yaxis\": \"y8\"}, {\"marker\": {\"color\": \"rgb(33, 100, 175)\", \"line\": {\"color\": \"black\", \"width\": 0.5}, \"size\": 8, \"symbol\": \"x\"}, \"mode\": \"markers\", \"showlegend\": false, \"type\": \"scatter\", \"x\": [-0.16080226776773363, -0.30145506883614603, -0.2633856188996858, -0.26888466409349643], \"xaxis\": \"x8\", \"y\": [0.46785637112409095, 0.43942576453002224, 0.39796899525641394, 0.40791122776747013], \"yaxis\": \"y8\"}, {\"marker\": {\"color\": \"rgb(217, 72, 42)\", \"line\": {\"color\": \"black\", \"width\": 0.5}, \"size\": 8, \"symbol\": \"x\"}, \"mode\": \"markers\", \"showlegend\": false, \"type\": \"scatter\", \"x\": [-0.44624279805146416, -0.41829545951127073, -0.4164089595787252, -0.3360395105114916], \"xaxis\": \"x8\", \"y\": [0.3560871383144661, 0.4171372970223329, 0.38146780675393815, 0.3201276485603946], \"yaxis\": \"y8\"}, {\"marker\": {\"color\": \"rgb(146, 54, 132)\", \"line\": {\"color\": \"black\", \"width\": 0.5}, \"size\": 8, \"symbol\": \"x\"}, \"mode\": \"markers\", \"showlegend\": false, \"type\": \"scatter\", \"x\": [-0.39812931982103866, -0.3320387387118134, -0.4008278065698602, -0.29203276179287446], \"xaxis\": \"x8\", \"y\": [0.17188756985728446, 0.1382343222136298, 0.14007746849432554, 0.1262058028245816], \"yaxis\": \"y8\"}, {\"marker\": {\"color\": \"rgb(175, 127, 91)\", \"line\": {\"color\": \"black\", \"width\": 0.5}, \"size\": 8, \"symbol\": \"x\"}, \"mode\": \"markers\", \"showlegend\": false, \"type\": \"scatter\", \"x\": [-0.7842091261865671, -0.7872003722912284, -0.7664857891562022, -0.7628937145381564], \"xaxis\": \"x8\", \"y\": [1.2149126065889861, 1.1363730698750576, 1.1400850335468533, 1.1680427534507016], \"yaxis\": \"y8\"}, {\"marker\": {\"color\": \"rgb(166.0, 193, 223)\", \"line\": {\"color\": \"black\", \"width\": 0.5}, \"size\": 8, \"symbol\": \"x\"}, \"mode\": \"markers\", \"showlegend\": false, \"type\": \"scatter\", \"x\": [0.3318544712822926, 0.2006043663725368, 0.12338878778103377, 0.04610714309139411], \"xaxis\": \"x8\", \"y\": [0.9909751444547292, 1.0985834935935848, 1.1729036752379514, 1.1056761500603454], \"yaxis\": \"y8\"}, {\"marker\": {\"color\": \"rgb(54, 146, 68)\", \"line\": {\"color\": \"black\", \"width\": 0.5}, \"size\": 12, \"symbol\": \"diamond\"}, \"mode\": \"markers\", \"showlegend\": false, \"type\": \"scatter\", \"x\": [-0.16993923807418318], \"xaxis\": \"x8\", \"y\": [0.07016216653281647], \"yaxis\": \"y8\"}, {\"marker\": {\"color\": \"rgb(33, 100, 175)\", \"line\": {\"color\": \"black\", \"width\": 0.5}, \"size\": 8, \"symbol\": \"diamond\"}, \"mode\": \"markers\", \"showlegend\": false, \"type\": \"scatter\", \"x\": [0.06868780992784954, -0.0920543416305427, -0.09545249900160376, -0.03726680820677038], \"xaxis\": \"x8\", \"y\": [0.09910865931270482, 0.16925740028373323, 0.1101031113334472, 0.09340587851157423], \"yaxis\": \"y8\"}, {\"marker\": {\"color\": \"rgb(217, 72, 42)\", \"line\": {\"color\": \"black\", \"width\": 0.5}, \"size\": 8, \"symbol\": \"diamond\"}, \"mode\": \"markers\", \"showlegend\": false, \"type\": \"scatter\", \"x\": [-0.36246445591998105, -0.3606243485804239, -0.40281390146880697, -0.4007064868505461], \"xaxis\": \"x8\", \"y\": [0.11247717807897935, 0.12737581105658052, 0.25595315631462817, 0.2720460948871502], \"yaxis\": \"y8\"}, {\"marker\": {\"color\": \"rgb(146, 54, 132)\", \"line\": {\"color\": \"black\", \"width\": 0.5}, \"size\": 8, \"symbol\": \"diamond\"}, \"mode\": \"markers\", \"showlegend\": false, \"type\": \"scatter\", \"x\": [-0.2155563201179656, -0.217399367992311, -0.18878913312564063, -0.2150189814840169], \"xaxis\": \"x8\", \"y\": [-0.2760419045786936, -0.1940028285924614, -0.163668833192087, -0.05700538480720017], \"yaxis\": \"y8\"}, {\"marker\": {\"color\": \"rgb(175, 127, 91)\", \"line\": {\"color\": \"black\", \"width\": 0.5}, \"size\": 8, \"symbol\": \"diamond\"}, \"mode\": \"markers\", \"showlegend\": false, \"type\": \"scatter\", \"x\": [-0.7050070136050032, -0.7687117926919639, -0.8008954136229072, -0.5735584239302144], \"xaxis\": \"x8\", \"y\": [1.2267675265699411, 1.2608791994300372, 1.3174407261809382, 1.3941554771741658], \"yaxis\": \"y8\"}, {\"marker\": {\"color\": \"rgb(166.0, 193, 223)\", \"line\": {\"color\": \"black\", \"width\": 0.5}, \"size\": 8, \"symbol\": \"diamond\"}, \"mode\": \"markers\", \"showlegend\": false, \"type\": \"scatter\", \"x\": [0.23599747461571055, 0.05615205730530667, 0.12593034498602299, 0.1416243826986637], \"xaxis\": \"x8\", \"y\": [1.2276687354103197, 1.2121431647163632, 1.2442979345952279, 1.3013653335840205], \"yaxis\": \"y8\"}, {\"marker\": {\"color\": \"rgb(54, 146, 68)\", \"line\": {\"color\": \"black\", \"width\": 0.5}, \"size\": 12, \"symbol\": \"square\"}, \"mode\": \"markers\", \"showlegend\": false, \"type\": \"scatter\", \"x\": [0.8959436878709666], \"xaxis\": \"x8\", \"y\": [-1.3419287944794918], \"yaxis\": \"y8\"}, {\"marker\": {\"color\": \"rgb(33, 100, 175)\", \"line\": {\"color\": \"black\", \"width\": 0.5}, \"size\": 8, \"symbol\": \"square\"}, \"mode\": \"markers\", \"showlegend\": false, \"type\": \"scatter\", \"x\": [0.7625387153002563, 0.6938866565937548, 0.6168797209636326, 0.7121317190622419], \"xaxis\": \"x8\", \"y\": [-0.7084633305477105, -0.7590503107621221, -0.7894726778407886, -0.7748600671608987], \"yaxis\": \"y8\"}, {\"marker\": {\"color\": \"rgb(217, 72, 42)\", \"line\": {\"color\": \"black\", \"width\": 0.5}, \"size\": 8, \"symbol\": \"square\"}, \"mode\": \"markers\", \"showlegend\": false, \"type\": \"scatter\", \"x\": [0.29829405533171455, 0.237097839974236, 0.2825906183447671, 0.3427735184923657], \"xaxis\": \"x8\", \"y\": [-0.601013268491649, -0.617807762567469, -0.5961287571469155, -0.6175314985553099], \"yaxis\": \"y8\"}, {\"marker\": {\"color\": \"rgb(146, 54, 132)\", \"line\": {\"color\": \"black\", \"width\": 0.5}, \"size\": 8, \"symbol\": \"square\"}, \"mode\": \"markers\", \"showlegend\": false, \"type\": \"scatter\", \"x\": [0.5758104308116713, 0.5393642072103697, 0.6478442557046318, 0.622590893406731], \"xaxis\": \"x8\", \"y\": [-0.935045119911391, -0.8614544718290703, -0.9430522092737493, -0.9095681785971034], \"yaxis\": \"y8\"}, {\"marker\": {\"color\": \"rgb(175, 127, 91)\", \"line\": {\"color\": \"black\", \"width\": 0.5}, \"size\": 8, \"symbol\": \"square\"}, \"mode\": \"markers\", \"showlegend\": false, \"type\": \"scatter\", \"x\": [0.7883376217710388, 0.8314308009905617, 0.7701731338539012, 0.7740325451900522], \"xaxis\": \"x8\", \"y\": [-1.0664439747299663, -1.2174709331289817, -1.07595238665883, -1.0233332721911859], \"yaxis\": \"y8\"}, {\"marker\": {\"color\": \"rgb(166.0, 193, 223)\", \"line\": {\"color\": \"black\", \"width\": 0.5}, \"size\": 8, \"symbol\": \"square\"}, \"mode\": \"markers\", \"showlegend\": false, \"type\": \"scatter\", \"x\": [1.9981876053646725, 1.9753097686970984, 1.9773722123813762, 1.907906485069377], \"xaxis\": \"x8\", \"y\": [-1.6152947172916794, -1.72109940365511, -1.6620547545066127, -1.675420829477477], \"yaxis\": \"y8\"}],                        {\"height\": 800, \"legend\": {\"font\": {\"color\": \"black\", \"family\": \"Myriad Pro\", \"size\": 12}, \"orientation\": \"h\", \"x\": 0.1, \"y\": -0.15}, \"template\": {\"data\": {\"scatter\": [{\"type\": \"scatter\"}]}}, \"width\": 800, \"xaxis\": {\"anchor\": \"y\", \"domain\": [0.0, 0.3], \"linecolor\": \"black\", \"linewidth\": 1, \"mirror\": true, \"nticks\": 8, \"showgrid\": true, \"showline\": true, \"side\": \"bottom\", \"tickangle\": 0, \"tickcolor\": \"black\", \"tickfont\": {\"color\": \"black\", \"family\": \"Myriad Pro\", \"size\": 16}, \"ticklen\": 4, \"ticks\": \"outside\", \"zeroline\": true}, \"xaxis2\": {\"anchor\": \"y2\", \"domain\": [0.35, 0.6499999999999999], \"linecolor\": \"black\", \"linewidth\": 1, \"mirror\": true, \"nticks\": 8, \"showgrid\": true, \"showline\": true, \"side\": \"bottom\", \"tickangle\": 0, \"tickcolor\": \"black\", \"tickfont\": {\"color\": \"black\", \"family\": \"Myriad Pro\", \"size\": 16}, \"ticklen\": 4, \"ticks\": \"outside\", \"zeroline\": true}, \"xaxis3\": {\"anchor\": \"y3\", \"domain\": [0.7, 1.0], \"linecolor\": \"black\", \"linewidth\": 1, \"mirror\": true, \"nticks\": 8, \"showgrid\": true, \"showline\": true, \"side\": \"bottom\", \"tickangle\": 0, \"tickcolor\": \"black\", \"tickfont\": {\"color\": \"black\", \"family\": \"Myriad Pro\", \"size\": 16}, \"ticklen\": 4, \"ticks\": \"outside\", \"zeroline\": true}, \"xaxis4\": {\"anchor\": \"y4\", \"domain\": [0.0, 0.3], \"linecolor\": \"black\", \"linewidth\": 1, \"mirror\": true, \"nticks\": 8, \"showgrid\": true, \"showline\": true, \"side\": \"bottom\", \"tickangle\": 0, \"tickcolor\": \"black\", \"tickfont\": {\"color\": \"black\", \"family\": \"Myriad Pro\", \"size\": 16}, \"ticklen\": 4, \"ticks\": \"outside\", \"zeroline\": true}, \"xaxis5\": {\"anchor\": \"y5\", \"domain\": [0.35, 0.6499999999999999], \"linecolor\": \"black\", \"linewidth\": 1, \"mirror\": true, \"nticks\": 8, \"showgrid\": true, \"showline\": true, \"side\": \"bottom\", \"tickangle\": 0, \"tickcolor\": \"black\", \"tickfont\": {\"color\": \"black\", \"family\": \"Myriad Pro\", \"size\": 16}, \"ticklen\": 4, \"ticks\": \"outside\", \"zeroline\": true}, \"xaxis6\": {\"anchor\": \"y6\", \"domain\": [0.7, 1.0], \"linecolor\": \"black\", \"linewidth\": 1, \"mirror\": true, \"nticks\": 8, \"showgrid\": true, \"showline\": true, \"side\": \"bottom\", \"tickangle\": 0, \"tickcolor\": \"black\", \"tickfont\": {\"color\": \"black\", \"family\": \"Myriad Pro\", \"size\": 16}, \"ticklen\": 4, \"ticks\": \"outside\", \"zeroline\": true}, \"xaxis7\": {\"anchor\": \"y7\", \"domain\": [0.0, 0.3], \"linecolor\": \"black\", \"linewidth\": 1, \"mirror\": true, \"nticks\": 8, \"showgrid\": true, \"showline\": true, \"side\": \"bottom\", \"tickangle\": 0, \"tickcolor\": \"black\", \"tickfont\": {\"color\": \"black\", \"family\": \"Myriad Pro\", \"size\": 16}, \"ticklen\": 4, \"ticks\": \"outside\", \"title\": {\"font\": {\"color\": \"black\", \"family\": \"Myriad Pro\", \"size\": 16}, \"standoff\": 0.5, \"text\": \"Principal Component 1\"}, \"zeroline\": true}, \"xaxis8\": {\"anchor\": \"y8\", \"domain\": [0.35, 0.6499999999999999], \"linecolor\": \"black\", \"linewidth\": 1, \"mirror\": true, \"nticks\": 8, \"showgrid\": true, \"showline\": true, \"side\": \"bottom\", \"tickangle\": 0, \"tickcolor\": \"black\", \"tickfont\": {\"color\": \"black\", \"family\": \"Myriad Pro\", \"size\": 16}, \"ticklen\": 4, \"ticks\": \"outside\", \"title\": {\"font\": {\"color\": \"black\", \"family\": \"Myriad Pro\", \"size\": 16}, \"standoff\": 0.5, \"text\": \"Principal Component 2\"}, \"zeroline\": true}, \"xaxis9\": {\"anchor\": \"y9\", \"domain\": [0.7, 1.0], \"linecolor\": \"black\", \"linewidth\": 1, \"mirror\": true, \"nticks\": 8, \"showgrid\": true, \"showline\": true, \"side\": \"bottom\", \"tickangle\": 0, \"tickcolor\": \"black\", \"tickfont\": {\"color\": \"black\", \"family\": \"Myriad Pro\", \"size\": 16}, \"ticklen\": 4, \"ticks\": \"outside\", \"title\": {\"font\": {\"color\": \"black\", \"family\": \"Myriad Pro\", \"size\": 16}, \"standoff\": 0.5, \"text\": \"Principal Component 3\"}, \"zeroline\": true}, \"yaxis\": {\"anchor\": \"x\", \"domain\": [0.7, 1.0], \"linecolor\": \"black\", \"linewidth\": 1, \"mirror\": true, \"showgrid\": true, \"showline\": true, \"tickangle\": 0, \"tickcolor\": \"black\", \"tickfont\": {\"color\": \"black\", \"family\": \"Myriad Pro\", \"size\": 16}, \"ticklen\": 4, \"ticks\": \"outside\", \"title\": {\"font\": {\"color\": \"black\", \"family\": \"Myriad Pro\", \"size\": 16}, \"standoff\": 0, \"text\": \"Principal Component 1\"}, \"zeroline\": true}, \"yaxis2\": {\"anchor\": \"x2\", \"domain\": [0.7, 1.0], \"linecolor\": \"black\", \"linewidth\": 1, \"mirror\": true, \"showgrid\": true, \"showline\": true, \"tickangle\": 0, \"tickcolor\": \"black\", \"tickfont\": {\"color\": \"black\", \"family\": \"Myriad Pro\", \"size\": 16}, \"ticklen\": 4, \"ticks\": \"outside\", \"zeroline\": true}, \"yaxis3\": {\"anchor\": \"x3\", \"domain\": [0.7, 1.0], \"linecolor\": \"black\", \"linewidth\": 1, \"mirror\": true, \"showgrid\": true, \"showline\": true, \"tickangle\": 0, \"tickcolor\": \"black\", \"tickfont\": {\"color\": \"black\", \"family\": \"Myriad Pro\", \"size\": 16}, \"ticklen\": 4, \"ticks\": \"outside\", \"zeroline\": true}, \"yaxis4\": {\"anchor\": \"x4\", \"domain\": [0.35, 0.6499999999999999], \"linecolor\": \"black\", \"linewidth\": 1, \"mirror\": true, \"showgrid\": true, \"showline\": true, \"tickangle\": 0, \"tickcolor\": \"black\", \"tickfont\": {\"color\": \"black\", \"family\": \"Myriad Pro\", \"size\": 16}, \"ticklen\": 4, \"ticks\": \"outside\", \"title\": {\"font\": {\"color\": \"black\", \"family\": \"Myriad Pro\", \"size\": 16}, \"standoff\": 0, \"text\": \"Principal Component 2\"}, \"zeroline\": true}, \"yaxis5\": {\"anchor\": \"x5\", \"domain\": [0.35, 0.6499999999999999], \"linecolor\": \"black\", \"linewidth\": 1, \"mirror\": true, \"showgrid\": true, \"showline\": true, \"tickangle\": 0, \"tickcolor\": \"black\", \"tickfont\": {\"color\": \"black\", \"family\": \"Myriad Pro\", \"size\": 16}, \"ticklen\": 4, \"ticks\": \"outside\", \"zeroline\": true}, \"yaxis6\": {\"anchor\": \"x6\", \"domain\": [0.35, 0.6499999999999999], \"linecolor\": \"black\", \"linewidth\": 1, \"mirror\": true, \"showgrid\": true, \"showline\": true, \"tickangle\": 0, \"tickcolor\": \"black\", \"tickfont\": {\"color\": \"black\", \"family\": \"Myriad Pro\", \"size\": 16}, \"ticklen\": 4, \"ticks\": \"outside\", \"zeroline\": true}, \"yaxis7\": {\"anchor\": \"x7\", \"domain\": [0.0, 0.3], \"linecolor\": \"black\", \"linewidth\": 1, \"mirror\": true, \"showgrid\": true, \"showline\": true, \"tickangle\": 0, \"tickcolor\": \"black\", \"tickfont\": {\"color\": \"black\", \"family\": \"Myriad Pro\", \"size\": 16}, \"ticklen\": 4, \"ticks\": \"outside\", \"title\": {\"font\": {\"color\": \"black\", \"family\": \"Myriad Pro\", \"size\": 16}, \"standoff\": 0, \"text\": \"Principal Component 3\"}, \"zeroline\": true}, \"yaxis8\": {\"anchor\": \"x8\", \"domain\": [0.0, 0.3], \"linecolor\": \"black\", \"linewidth\": 1, \"mirror\": true, \"showgrid\": true, \"showline\": true, \"tickangle\": 0, \"tickcolor\": \"black\", \"tickfont\": {\"color\": \"black\", \"family\": \"Myriad Pro\", \"size\": 16}, \"ticklen\": 4, \"ticks\": \"outside\", \"zeroline\": true}, \"yaxis9\": {\"anchor\": \"x9\", \"domain\": [0.0, 0.3], \"linecolor\": \"black\", \"linewidth\": 1, \"mirror\": true, \"showgrid\": true, \"showline\": true, \"tickangle\": 0, \"tickcolor\": \"black\", \"tickfont\": {\"color\": \"black\", \"family\": \"Myriad Pro\", \"size\": 16}, \"ticklen\": 4, \"ticks\": \"outside\", \"zeroline\": true}},                        {\"responsive\": true}                    ).then(function(){\n",
       "                            \n",
       "var gd = document.getElementById('8dcda495-83a6-499e-93c7-c7f79e3d9b76');\n",
       "var x = new MutationObserver(function (mutations, observer) {{\n",
       "        var display = window.getComputedStyle(gd).display;\n",
       "        if (!display || display === 'none') {{\n",
       "            console.log([gd, 'removed!']);\n",
       "            Plotly.purge(gd);\n",
       "            observer.disconnect();\n",
       "        }}\n",
       "}});\n",
       "\n",
       "// Listen for the removal of the full notebook cells\n",
       "var notebookContainer = gd.closest('#notebook-container');\n",
       "if (notebookContainer) {{\n",
       "    x.observe(notebookContainer, {childList: true});\n",
       "}}\n",
       "\n",
       "// Listen for the clearing of the current output cell\n",
       "var outputEl = gd.closest('.output');\n",
       "if (outputEl) {{\n",
       "    x.observe(outputEl, {childList: true});\n",
       "}}\n",
       "\n",
       "                        })                };                });            </script>        </div>"
      ]
     },
     "metadata": {},
     "output_type": "display_data"
    }
   ],
   "source": [
    "strain_list = ['WT', 'Δ(adh,pta)-D1', 'Δ(adh,pta)-D28', 'Δ(adh,pta)-D59']\n",
    "condition_list = ['RDM + 7.0 a.u. pH', 'RDM + 1.0 mM Cysteine', 'RDM + 1.0 mM DTT', 'RDM + 8.0 mM Na2S', 'RDM + 8.0 a.u. pH']\n",
    "analyte_list = ['Acetate', 'Formate', 'Lactate', 'Pyruvate', 'Succinate', 'Biomass', 'Growth Rate']\n",
    "\n",
    "symbols = ['circle', 'x', 'diamond', 'square']\n",
    "\n",
    "colors = ['rgb(33, 100, 175)',\n",
    "          'rgb(217, 72, 42)',\n",
    "          'rgb(146, 54, 132)',\n",
    "          'rgb(175, 127, 91)',\n",
    "         'rgb(166.0, 193, 223)']\n",
    "fig = make_subplots(rows=3, cols=3, vertical_spacing=0.05, shared_xaxes=False, shared_yaxes=False, horizontal_spacing=0.05)\n",
    "\n",
    "for k in range(3):\n",
    "    for l in range(3):\n",
    "        if k!=l:\n",
    "            for i, strain in enumerate(strain_list):\n",
    "                for j,condition in enumerate(['reactor'] + condition_list):\n",
    "                    if condition!='reactor':\n",
    "                        fig.add_trace(go.Scatter(x=final_df[(final_df['strain']==strain) & (final_df['condition']==condition)]['PC'+str(l+1)],\n",
    "                                                     y=final_df[(final_df['strain']==strain) & (final_df['condition']==condition)]['PC'+str(k+1)],\n",
    "                                                     mode='markers', showlegend=False,\n",
    "                                                     marker=dict(symbol=symbols[i], size=8, color=colors[j-1],\n",
    "                                                                 line=dict(color='black', width=0.5))),\n",
    "                                     row=k+1, col=l+1)\n",
    "                    else:\n",
    "\n",
    "                        fig.add_trace(go.Scatter(x=final_df[(final_df['strain']==strain) & (final_df['condition']==condition)]['PC'+str(l+1)],\n",
    "                                                     y=final_df[(final_df['strain']==strain) & (final_df['condition']==condition)]['PC'+str(k+1)],\n",
    "                                                     mode='markers', showlegend=False,\n",
    "                                                     marker=dict(symbol=symbols[i], size=12, color='rgb(54, 146, 68)',\n",
    "                                                                 line=dict(color='black', width=0.5))),\n",
    "                                     row=k+1, col=l+1)\n",
    "        \n",
    "        if k==2:\n",
    "            fig.update_xaxes(title='Principal Component '+str(l+1), ticks='outside', ticklen=4, tickangle=0, nticks=8, title_standoff=0.5,\n",
    "\n",
    "                              titlefont=dict(family='Myriad Pro', size=16, color='black'),row=k+1, col=l+1)\n",
    "        if l==0:\n",
    "            fig.update_yaxes(title='Principal Component '+str(k+1), ticks='outside', ticklen=4, tickangle=0, title_standoff=0,\n",
    "                              titlefont=dict(family='Myriad Pro', size=16, color='black'),row=k+1, col=l+1)\n",
    "            \n",
    "        if k!=2:\n",
    "            fig.update_xaxes(ticks='')\n",
    "\n",
    "                        \n",
    "                        \n",
    "fig.update_layout(height=800, width=800, legend_x= 0.1, legend_y=-0.15, legend_font=dict(family='Myriad Pro', size=12, color='black'), legend_orientation='h')\n",
    "fig.update_xaxes(showline=True, linewidth=1, linecolor='black', mirror=True, side='bottom',\n",
    "                              ticks='outside', ticklen=4, tickangle=0, nticks=8,\n",
    "                              tickfont=dict(size=16, family='Myriad Pro', color='black'), tickcolor='black',\n",
    "                              showgrid=True,zeroline=True)\n",
    "fig.update_yaxes(showgrid=True, zeroline=True,\n",
    "                            tickfont=dict(family='Myriad Pro',size=16, color='black'), tickcolor='black', \n",
    "\n",
    "                              showline=True, linewidth=1, linecolor='black', mirror=True,\n",
    "                              ticks='outside', ticklen=4, tickangle=0)\n",
    "plot(fig)\n",
    "#pio.write_image(fig,\"/Figures/si_fig_red_pca_scores.svg\",format='svg')\n"
   ]
  },
  {
   "cell_type": "markdown",
   "id": "intelligent-carol",
   "metadata": {},
   "source": [
    "### Plot loadings of first 3 PCs ###"
   ]
  },
  {
   "cell_type": "code",
   "execution_count": 32,
   "id": "instructional-float",
   "metadata": {},
   "outputs": [
    {
     "data": {
      "application/vnd.plotly.v1+json": {
       "config": {
        "linkText": "Export to plot.ly",
        "plotlyServerURL": "https://plot.ly",
        "showLink": false
       },
       "data": [
        {
         "line": {
          "color": "rgb(54, 146, 68)",
          "width": 1.5
         },
         "mode": "lines",
         "name": "acetate_yield",
         "showlegend": false,
         "type": "scatter",
         "x": [
          0,
          -0.11486302392162684
         ],
         "xaxis": "x2",
         "y": [
          0,
          0.4645576335564886
         ],
         "yaxis": "y2"
        },
        {
         "line": {
          "color": "rgb(54, 146, 68)",
          "width": 1.5
         },
         "mode": "lines",
         "name": "formate_yield",
         "showlegend": false,
         "type": "scatter",
         "x": [
          0,
          0.09438715575843049
         ],
         "xaxis": "x2",
         "y": [
          0,
          0.4597157883484879
         ],
         "yaxis": "y2"
        },
        {
         "line": {
          "color": "rgb(54, 146, 68)",
          "width": 1.5
         },
         "mode": "lines",
         "name": "lactate_yield",
         "showlegend": false,
         "type": "scatter",
         "x": [
          0,
          0.110672411301361
         ],
         "xaxis": "x2",
         "y": [
          0,
          -0.42587397711915315
         ],
         "yaxis": "y2"
        },
        {
         "line": {
          "color": "rgb(54, 146, 68)",
          "width": 1.5
         },
         "mode": "lines",
         "name": "pyruvate_yield",
         "showlegend": false,
         "type": "scatter",
         "x": [
          0,
          -0.2955515513496444
         ],
         "xaxis": "x2",
         "y": [
          0,
          -0.2714973121555613
         ],
         "yaxis": "y2"
        },
        {
         "line": {
          "color": "rgb(54, 146, 68)",
          "width": 1.5
         },
         "mode": "lines",
         "name": "succinate_yield",
         "showlegend": false,
         "type": "scatter",
         "x": [
          0,
          0.4779305402904787
         ],
         "xaxis": "x2",
         "y": [
          0,
          -0.3431144337173262
         ],
         "yaxis": "y2"
        },
        {
         "line": {
          "color": "rgb(54, 146, 68)",
          "width": 1.5
         },
         "mode": "lines",
         "name": "growth_rate",
         "showlegend": false,
         "type": "scatter",
         "x": [
          0,
          0.03648651043920055
         ],
         "xaxis": "x2",
         "y": [
          0,
          0.419208869403894
         ],
         "yaxis": "y2"
        },
        {
         "line": {
          "color": "rgb(54, 146, 68)",
          "width": 1.5
         },
         "mode": "lines",
         "name": "acetate_yield",
         "showlegend": false,
         "type": "scatter",
         "x": [
          0,
          0.01690260464179589
         ],
         "xaxis": "x3",
         "y": [
          0,
          0.4645576335564886
         ],
         "yaxis": "y3"
        },
        {
         "line": {
          "color": "rgb(54, 146, 68)",
          "width": 1.5
         },
         "mode": "lines",
         "name": "formate_yield",
         "showlegend": false,
         "type": "scatter",
         "x": [
          0,
          0.08943900722692442
         ],
         "xaxis": "x3",
         "y": [
          0,
          0.4597157883484879
         ],
         "yaxis": "y3"
        },
        {
         "line": {
          "color": "rgb(54, 146, 68)",
          "width": 1.5
         },
         "mode": "lines",
         "name": "lactate_yield",
         "showlegend": false,
         "type": "scatter",
         "x": [
          0,
          -0.10388494412394884
         ],
         "xaxis": "x3",
         "y": [
          0,
          -0.42587397711915315
         ],
         "yaxis": "y3"
        },
        {
         "line": {
          "color": "rgb(54, 146, 68)",
          "width": 1.5
         },
         "mode": "lines",
         "name": "pyruvate_yield",
         "showlegend": false,
         "type": "scatter",
         "x": [
          0,
          0.7581952465779619
         ],
         "xaxis": "x3",
         "y": [
          0,
          -0.2714973121555613
         ],
         "yaxis": "y3"
        },
        {
         "line": {
          "color": "rgb(54, 146, 68)",
          "width": 1.5
         },
         "mode": "lines",
         "name": "succinate_yield",
         "showlegend": false,
         "type": "scatter",
         "x": [
          0,
          -0.3445584591429053
         ],
         "xaxis": "x3",
         "y": [
          0,
          -0.3431144337173262
         ],
         "yaxis": "y3"
        },
        {
         "line": {
          "color": "rgb(54, 146, 68)",
          "width": 1.5
         },
         "mode": "lines",
         "name": "growth_rate",
         "showlegend": false,
         "type": "scatter",
         "x": [
          0,
          -0.19850107056792515
         ],
         "xaxis": "x3",
         "y": [
          0,
          0.419208869403894
         ],
         "yaxis": "y3"
        },
        {
         "line": {
          "color": "rgb(54, 146, 68)",
          "width": 1.5
         },
         "mode": "lines",
         "name": "acetate_yield",
         "showlegend": false,
         "type": "scatter",
         "x": [
          0,
          0.4645576335564886
         ],
         "xaxis": "x4",
         "y": [
          0,
          -0.11486302392162684
         ],
         "yaxis": "y4"
        },
        {
         "line": {
          "color": "rgb(54, 146, 68)",
          "width": 1.5
         },
         "mode": "lines",
         "name": "formate_yield",
         "showlegend": false,
         "type": "scatter",
         "x": [
          0,
          0.4597157883484879
         ],
         "xaxis": "x4",
         "y": [
          0,
          0.09438715575843049
         ],
         "yaxis": "y4"
        },
        {
         "line": {
          "color": "rgb(54, 146, 68)",
          "width": 1.5
         },
         "mode": "lines",
         "name": "lactate_yield",
         "showlegend": false,
         "type": "scatter",
         "x": [
          0,
          -0.42587397711915315
         ],
         "xaxis": "x4",
         "y": [
          0,
          0.110672411301361
         ],
         "yaxis": "y4"
        },
        {
         "line": {
          "color": "rgb(54, 146, 68)",
          "width": 1.5
         },
         "mode": "lines",
         "name": "pyruvate_yield",
         "showlegend": false,
         "type": "scatter",
         "x": [
          0,
          -0.2714973121555613
         ],
         "xaxis": "x4",
         "y": [
          0,
          -0.2955515513496444
         ],
         "yaxis": "y4"
        },
        {
         "line": {
          "color": "rgb(54, 146, 68)",
          "width": 1.5
         },
         "mode": "lines",
         "name": "succinate_yield",
         "showlegend": false,
         "type": "scatter",
         "x": [
          0,
          -0.3431144337173262
         ],
         "xaxis": "x4",
         "y": [
          0,
          0.4779305402904787
         ],
         "yaxis": "y4"
        },
        {
         "line": {
          "color": "rgb(54, 146, 68)",
          "width": 1.5
         },
         "mode": "lines",
         "name": "growth_rate",
         "showlegend": false,
         "type": "scatter",
         "x": [
          0,
          0.419208869403894
         ],
         "xaxis": "x4",
         "y": [
          0,
          0.03648651043920055
         ],
         "yaxis": "y4"
        },
        {
         "line": {
          "color": "rgb(54, 146, 68)",
          "width": 1.5
         },
         "mode": "lines",
         "name": "acetate_yield",
         "showlegend": false,
         "type": "scatter",
         "x": [
          0,
          0.01690260464179589
         ],
         "xaxis": "x6",
         "y": [
          0,
          -0.11486302392162684
         ],
         "yaxis": "y6"
        },
        {
         "line": {
          "color": "rgb(54, 146, 68)",
          "width": 1.5
         },
         "mode": "lines",
         "name": "formate_yield",
         "showlegend": false,
         "type": "scatter",
         "x": [
          0,
          0.08943900722692442
         ],
         "xaxis": "x6",
         "y": [
          0,
          0.09438715575843049
         ],
         "yaxis": "y6"
        },
        {
         "line": {
          "color": "rgb(54, 146, 68)",
          "width": 1.5
         },
         "mode": "lines",
         "name": "lactate_yield",
         "showlegend": false,
         "type": "scatter",
         "x": [
          0,
          -0.10388494412394884
         ],
         "xaxis": "x6",
         "y": [
          0,
          0.110672411301361
         ],
         "yaxis": "y6"
        },
        {
         "line": {
          "color": "rgb(54, 146, 68)",
          "width": 1.5
         },
         "mode": "lines",
         "name": "pyruvate_yield",
         "showlegend": false,
         "type": "scatter",
         "x": [
          0,
          0.7581952465779619
         ],
         "xaxis": "x6",
         "y": [
          0,
          -0.2955515513496444
         ],
         "yaxis": "y6"
        },
        {
         "line": {
          "color": "rgb(54, 146, 68)",
          "width": 1.5
         },
         "mode": "lines",
         "name": "succinate_yield",
         "showlegend": false,
         "type": "scatter",
         "x": [
          0,
          -0.3445584591429053
         ],
         "xaxis": "x6",
         "y": [
          0,
          0.4779305402904787
         ],
         "yaxis": "y6"
        },
        {
         "line": {
          "color": "rgb(54, 146, 68)",
          "width": 1.5
         },
         "mode": "lines",
         "name": "growth_rate",
         "showlegend": false,
         "type": "scatter",
         "x": [
          0,
          -0.19850107056792515
         ],
         "xaxis": "x6",
         "y": [
          0,
          0.03648651043920055
         ],
         "yaxis": "y6"
        },
        {
         "line": {
          "color": "rgb(54, 146, 68)",
          "width": 1.5
         },
         "mode": "lines",
         "name": "acetate_yield",
         "showlegend": false,
         "type": "scatter",
         "x": [
          0,
          0.4645576335564886
         ],
         "xaxis": "x7",
         "y": [
          0,
          0.01690260464179589
         ],
         "yaxis": "y7"
        },
        {
         "line": {
          "color": "rgb(54, 146, 68)",
          "width": 1.5
         },
         "mode": "lines",
         "name": "formate_yield",
         "showlegend": false,
         "type": "scatter",
         "x": [
          0,
          0.4597157883484879
         ],
         "xaxis": "x7",
         "y": [
          0,
          0.08943900722692442
         ],
         "yaxis": "y7"
        },
        {
         "line": {
          "color": "rgb(54, 146, 68)",
          "width": 1.5
         },
         "mode": "lines",
         "name": "lactate_yield",
         "showlegend": false,
         "type": "scatter",
         "x": [
          0,
          -0.42587397711915315
         ],
         "xaxis": "x7",
         "y": [
          0,
          -0.10388494412394884
         ],
         "yaxis": "y7"
        },
        {
         "line": {
          "color": "rgb(54, 146, 68)",
          "width": 1.5
         },
         "mode": "lines",
         "name": "pyruvate_yield",
         "showlegend": false,
         "type": "scatter",
         "x": [
          0,
          -0.2714973121555613
         ],
         "xaxis": "x7",
         "y": [
          0,
          0.7581952465779619
         ],
         "yaxis": "y7"
        },
        {
         "line": {
          "color": "rgb(54, 146, 68)",
          "width": 1.5
         },
         "mode": "lines",
         "name": "succinate_yield",
         "showlegend": false,
         "type": "scatter",
         "x": [
          0,
          -0.3431144337173262
         ],
         "xaxis": "x7",
         "y": [
          0,
          -0.3445584591429053
         ],
         "yaxis": "y7"
        },
        {
         "line": {
          "color": "rgb(54, 146, 68)",
          "width": 1.5
         },
         "mode": "lines",
         "name": "growth_rate",
         "showlegend": false,
         "type": "scatter",
         "x": [
          0,
          0.419208869403894
         ],
         "xaxis": "x7",
         "y": [
          0,
          -0.19850107056792515
         ],
         "yaxis": "y7"
        },
        {
         "line": {
          "color": "rgb(54, 146, 68)",
          "width": 1.5
         },
         "mode": "lines",
         "name": "acetate_yield",
         "showlegend": false,
         "type": "scatter",
         "x": [
          0,
          -0.11486302392162684
         ],
         "xaxis": "x8",
         "y": [
          0,
          0.01690260464179589
         ],
         "yaxis": "y8"
        },
        {
         "line": {
          "color": "rgb(54, 146, 68)",
          "width": 1.5
         },
         "mode": "lines",
         "name": "formate_yield",
         "showlegend": false,
         "type": "scatter",
         "x": [
          0,
          0.09438715575843049
         ],
         "xaxis": "x8",
         "y": [
          0,
          0.08943900722692442
         ],
         "yaxis": "y8"
        },
        {
         "line": {
          "color": "rgb(54, 146, 68)",
          "width": 1.5
         },
         "mode": "lines",
         "name": "lactate_yield",
         "showlegend": false,
         "type": "scatter",
         "x": [
          0,
          0.110672411301361
         ],
         "xaxis": "x8",
         "y": [
          0,
          -0.10388494412394884
         ],
         "yaxis": "y8"
        },
        {
         "line": {
          "color": "rgb(54, 146, 68)",
          "width": 1.5
         },
         "mode": "lines",
         "name": "pyruvate_yield",
         "showlegend": false,
         "type": "scatter",
         "x": [
          0,
          -0.2955515513496444
         ],
         "xaxis": "x8",
         "y": [
          0,
          0.7581952465779619
         ],
         "yaxis": "y8"
        },
        {
         "line": {
          "color": "rgb(54, 146, 68)",
          "width": 1.5
         },
         "mode": "lines",
         "name": "succinate_yield",
         "showlegend": false,
         "type": "scatter",
         "x": [
          0,
          0.4779305402904787
         ],
         "xaxis": "x8",
         "y": [
          0,
          -0.3445584591429053
         ],
         "yaxis": "y8"
        },
        {
         "line": {
          "color": "rgb(54, 146, 68)",
          "width": 1.5
         },
         "mode": "lines",
         "name": "growth_rate",
         "showlegend": false,
         "type": "scatter",
         "x": [
          0,
          0.03648651043920055
         ],
         "xaxis": "x8",
         "y": [
          0,
          -0.19850107056792515
         ],
         "yaxis": "y8"
        }
       ],
       "layout": {
        "height": 800,
        "legend": {
         "font": {
          "color": "black",
          "family": "Myriad Pro",
          "size": 12
         },
         "orientation": "h",
         "x": 0.1,
         "y": -0.15
        },
        "template": {
         "data": {
          "scatter": [
           {
            "type": "scatter"
           }
          ]
         }
        },
        "width": 800,
        "xaxis": {
         "anchor": "y",
         "domain": [
          0,
          0.2833333333333333
         ],
         "linecolor": "black",
         "linewidth": 1,
         "mirror": true,
         "nticks": 8,
         "showgrid": false,
         "showline": true,
         "side": "bottom",
         "tickangle": 0,
         "tickcolor": "black",
         "tickfont": {
          "color": "black",
          "family": "Myriad Pro",
          "size": 16
         },
         "ticklen": 4,
         "ticks": "outside",
         "zeroline": true
        },
        "xaxis2": {
         "anchor": "y2",
         "domain": [
          0.35833333333333334,
          0.6416666666666666
         ],
         "linecolor": "black",
         "linewidth": 1,
         "mirror": true,
         "nticks": 8,
         "showgrid": false,
         "showline": true,
         "side": "bottom",
         "tickangle": 0,
         "tickcolor": "black",
         "tickfont": {
          "color": "black",
          "family": "Myriad Pro",
          "size": 16
         },
         "ticklen": 4,
         "ticks": "outside",
         "zeroline": true
        },
        "xaxis3": {
         "anchor": "y3",
         "domain": [
          0.7166666666666667,
          1
         ],
         "linecolor": "black",
         "linewidth": 1,
         "mirror": true,
         "nticks": 8,
         "showgrid": false,
         "showline": true,
         "side": "bottom",
         "tickangle": 0,
         "tickcolor": "black",
         "tickfont": {
          "color": "black",
          "family": "Myriad Pro",
          "size": 16
         },
         "ticklen": 4,
         "ticks": "outside",
         "zeroline": true
        },
        "xaxis4": {
         "anchor": "y4",
         "domain": [
          0,
          0.2833333333333333
         ],
         "linecolor": "black",
         "linewidth": 1,
         "mirror": true,
         "nticks": 8,
         "showgrid": false,
         "showline": true,
         "side": "bottom",
         "tickangle": 0,
         "tickcolor": "black",
         "tickfont": {
          "color": "black",
          "family": "Myriad Pro",
          "size": 16
         },
         "ticklen": 4,
         "ticks": "outside",
         "zeroline": true
        },
        "xaxis5": {
         "anchor": "y5",
         "domain": [
          0.35833333333333334,
          0.6416666666666666
         ],
         "linecolor": "black",
         "linewidth": 1,
         "mirror": true,
         "nticks": 8,
         "showgrid": false,
         "showline": true,
         "side": "bottom",
         "tickangle": 0,
         "tickcolor": "black",
         "tickfont": {
          "color": "black",
          "family": "Myriad Pro",
          "size": 16
         },
         "ticklen": 4,
         "ticks": "outside",
         "zeroline": true
        },
        "xaxis6": {
         "anchor": "y6",
         "domain": [
          0.7166666666666667,
          1
         ],
         "linecolor": "black",
         "linewidth": 1,
         "mirror": true,
         "nticks": 8,
         "showgrid": false,
         "showline": true,
         "side": "bottom",
         "tickangle": 0,
         "tickcolor": "black",
         "tickfont": {
          "color": "black",
          "family": "Myriad Pro",
          "size": 16
         },
         "ticklen": 4,
         "ticks": "outside",
         "zeroline": true
        },
        "xaxis7": {
         "anchor": "y7",
         "domain": [
          0,
          0.2833333333333333
         ],
         "linecolor": "black",
         "linewidth": 1,
         "mirror": true,
         "nticks": 8,
         "showgrid": false,
         "showline": true,
         "side": "bottom",
         "tickangle": 0,
         "tickcolor": "black",
         "tickfont": {
          "color": "black",
          "family": "Myriad Pro",
          "size": 16
         },
         "ticklen": 4,
         "ticks": "outside",
         "title": {
          "text": "Principal Component 1"
         },
         "zeroline": true
        },
        "xaxis8": {
         "anchor": "y8",
         "domain": [
          0.35833333333333334,
          0.6416666666666666
         ],
         "linecolor": "black",
         "linewidth": 1,
         "mirror": true,
         "nticks": 8,
         "showgrid": false,
         "showline": true,
         "side": "bottom",
         "tickangle": 0,
         "tickcolor": "black",
         "tickfont": {
          "color": "black",
          "family": "Myriad Pro",
          "size": 16
         },
         "ticklen": 4,
         "ticks": "outside",
         "title": {
          "text": "Principal Component 2"
         },
         "zeroline": true
        },
        "xaxis9": {
         "anchor": "y9",
         "domain": [
          0.7166666666666667,
          1
         ],
         "linecolor": "black",
         "linewidth": 1,
         "mirror": true,
         "nticks": 8,
         "showgrid": false,
         "showline": true,
         "side": "bottom",
         "tickangle": 0,
         "tickcolor": "black",
         "tickfont": {
          "color": "black",
          "family": "Myriad Pro",
          "size": 16
         },
         "ticklen": 4,
         "ticks": "outside",
         "zeroline": true
        },
        "yaxis": {
         "anchor": "x",
         "domain": [
          0.7166666666666667,
          1
         ],
         "linecolor": "black",
         "linewidth": 1,
         "mirror": true,
         "showgrid": false,
         "showline": true,
         "tickangle": 0,
         "tickcolor": "black",
         "tickfont": {
          "color": "black",
          "family": "Myriad Pro",
          "size": 16
         },
         "ticklen": 4,
         "ticks": "outside",
         "zeroline": true
        },
        "yaxis2": {
         "anchor": "x2",
         "domain": [
          0.7166666666666667,
          1
         ],
         "linecolor": "black",
         "linewidth": 1,
         "mirror": true,
         "showgrid": false,
         "showline": true,
         "tickangle": 0,
         "tickcolor": "black",
         "tickfont": {
          "color": "black",
          "family": "Myriad Pro",
          "size": 16
         },
         "ticklen": 4,
         "ticks": "outside",
         "zeroline": true
        },
        "yaxis3": {
         "anchor": "x3",
         "domain": [
          0.7166666666666667,
          1
         ],
         "linecolor": "black",
         "linewidth": 1,
         "mirror": true,
         "showgrid": false,
         "showline": true,
         "tickangle": 0,
         "tickcolor": "black",
         "tickfont": {
          "color": "black",
          "family": "Myriad Pro",
          "size": 16
         },
         "ticklen": 4,
         "ticks": "outside",
         "zeroline": true
        },
        "yaxis4": {
         "anchor": "x4",
         "domain": [
          0.35833333333333334,
          0.6416666666666666
         ],
         "linecolor": "black",
         "linewidth": 1,
         "mirror": true,
         "showgrid": false,
         "showline": true,
         "tickangle": 0,
         "tickcolor": "black",
         "tickfont": {
          "color": "black",
          "family": "Myriad Pro",
          "size": 16
         },
         "ticklen": 4,
         "ticks": "outside",
         "title": {
          "text": "Principal Component 2"
         },
         "zeroline": true
        },
        "yaxis5": {
         "anchor": "x5",
         "domain": [
          0.35833333333333334,
          0.6416666666666666
         ],
         "linecolor": "black",
         "linewidth": 1,
         "mirror": true,
         "showgrid": false,
         "showline": true,
         "tickangle": 0,
         "tickcolor": "black",
         "tickfont": {
          "color": "black",
          "family": "Myriad Pro",
          "size": 16
         },
         "ticklen": 4,
         "ticks": "outside",
         "zeroline": true
        },
        "yaxis6": {
         "anchor": "x6",
         "domain": [
          0.35833333333333334,
          0.6416666666666666
         ],
         "linecolor": "black",
         "linewidth": 1,
         "mirror": true,
         "showgrid": false,
         "showline": true,
         "tickangle": 0,
         "tickcolor": "black",
         "tickfont": {
          "color": "black",
          "family": "Myriad Pro",
          "size": 16
         },
         "ticklen": 4,
         "ticks": "outside",
         "zeroline": true
        },
        "yaxis7": {
         "anchor": "x7",
         "domain": [
          0,
          0.2833333333333333
         ],
         "linecolor": "black",
         "linewidth": 1,
         "mirror": true,
         "showgrid": false,
         "showline": true,
         "tickangle": 0,
         "tickcolor": "black",
         "tickfont": {
          "color": "black",
          "family": "Myriad Pro",
          "size": 16
         },
         "ticklen": 4,
         "ticks": "outside",
         "title": {
          "text": "Principal Component 3"
         },
         "zeroline": true
        },
        "yaxis8": {
         "anchor": "x8",
         "domain": [
          0,
          0.2833333333333333
         ],
         "linecolor": "black",
         "linewidth": 1,
         "mirror": true,
         "showgrid": false,
         "showline": true,
         "tickangle": 0,
         "tickcolor": "black",
         "tickfont": {
          "color": "black",
          "family": "Myriad Pro",
          "size": 16
         },
         "ticklen": 4,
         "ticks": "outside",
         "zeroline": true
        },
        "yaxis9": {
         "anchor": "x9",
         "domain": [
          0,
          0.2833333333333333
         ],
         "linecolor": "black",
         "linewidth": 1,
         "mirror": true,
         "showgrid": false,
         "showline": true,
         "tickangle": 0,
         "tickcolor": "black",
         "tickfont": {
          "color": "black",
          "family": "Myriad Pro",
          "size": 16
         },
         "ticklen": 4,
         "ticks": "outside",
         "zeroline": true
        }
       }
      },
      "text/html": [
       "<div>                            <div id=\"8146d205-201e-4040-9eb5-65a285c67774\" class=\"plotly-graph-div\" style=\"height:800px; width:800px;\"></div>            <script type=\"text/javascript\">                require([\"plotly\"], function(Plotly) {                    window.PLOTLYENV=window.PLOTLYENV || {};                                    if (document.getElementById(\"8146d205-201e-4040-9eb5-65a285c67774\")) {                    Plotly.newPlot(                        \"8146d205-201e-4040-9eb5-65a285c67774\",                        [{\"line\": {\"color\": \"rgb(54, 146, 68)\", \"width\": 1.5}, \"mode\": \"lines\", \"name\": \"acetate_yield\", \"showlegend\": false, \"type\": \"scatter\", \"x\": [0, -0.11486302392162684], \"xaxis\": \"x2\", \"y\": [0, 0.4645576335564886], \"yaxis\": \"y2\"}, {\"line\": {\"color\": \"rgb(54, 146, 68)\", \"width\": 1.5}, \"mode\": \"lines\", \"name\": \"formate_yield\", \"showlegend\": false, \"type\": \"scatter\", \"x\": [0, 0.09438715575843049], \"xaxis\": \"x2\", \"y\": [0, 0.4597157883484879], \"yaxis\": \"y2\"}, {\"line\": {\"color\": \"rgb(54, 146, 68)\", \"width\": 1.5}, \"mode\": \"lines\", \"name\": \"lactate_yield\", \"showlegend\": false, \"type\": \"scatter\", \"x\": [0, 0.110672411301361], \"xaxis\": \"x2\", \"y\": [0, -0.42587397711915315], \"yaxis\": \"y2\"}, {\"line\": {\"color\": \"rgb(54, 146, 68)\", \"width\": 1.5}, \"mode\": \"lines\", \"name\": \"pyruvate_yield\", \"showlegend\": false, \"type\": \"scatter\", \"x\": [0, -0.2955515513496444], \"xaxis\": \"x2\", \"y\": [0, -0.2714973121555613], \"yaxis\": \"y2\"}, {\"line\": {\"color\": \"rgb(54, 146, 68)\", \"width\": 1.5}, \"mode\": \"lines\", \"name\": \"succinate_yield\", \"showlegend\": false, \"type\": \"scatter\", \"x\": [0, 0.4779305402904787], \"xaxis\": \"x2\", \"y\": [0, -0.3431144337173262], \"yaxis\": \"y2\"}, {\"line\": {\"color\": \"rgb(54, 146, 68)\", \"width\": 1.5}, \"mode\": \"lines\", \"name\": \"growth_rate\", \"showlegend\": false, \"type\": \"scatter\", \"x\": [0, 0.03648651043920055], \"xaxis\": \"x2\", \"y\": [0, 0.419208869403894], \"yaxis\": \"y2\"}, {\"line\": {\"color\": \"rgb(54, 146, 68)\", \"width\": 1.5}, \"mode\": \"lines\", \"name\": \"acetate_yield\", \"showlegend\": false, \"type\": \"scatter\", \"x\": [0, 0.01690260464179589], \"xaxis\": \"x3\", \"y\": [0, 0.4645576335564886], \"yaxis\": \"y3\"}, {\"line\": {\"color\": \"rgb(54, 146, 68)\", \"width\": 1.5}, \"mode\": \"lines\", \"name\": \"formate_yield\", \"showlegend\": false, \"type\": \"scatter\", \"x\": [0, 0.08943900722692442], \"xaxis\": \"x3\", \"y\": [0, 0.4597157883484879], \"yaxis\": \"y3\"}, {\"line\": {\"color\": \"rgb(54, 146, 68)\", \"width\": 1.5}, \"mode\": \"lines\", \"name\": \"lactate_yield\", \"showlegend\": false, \"type\": \"scatter\", \"x\": [0, -0.10388494412394884], \"xaxis\": \"x3\", \"y\": [0, -0.42587397711915315], \"yaxis\": \"y3\"}, {\"line\": {\"color\": \"rgb(54, 146, 68)\", \"width\": 1.5}, \"mode\": \"lines\", \"name\": \"pyruvate_yield\", \"showlegend\": false, \"type\": \"scatter\", \"x\": [0, 0.7581952465779619], \"xaxis\": \"x3\", \"y\": [0, -0.2714973121555613], \"yaxis\": \"y3\"}, {\"line\": {\"color\": \"rgb(54, 146, 68)\", \"width\": 1.5}, \"mode\": \"lines\", \"name\": \"succinate_yield\", \"showlegend\": false, \"type\": \"scatter\", \"x\": [0, -0.3445584591429053], \"xaxis\": \"x3\", \"y\": [0, -0.3431144337173262], \"yaxis\": \"y3\"}, {\"line\": {\"color\": \"rgb(54, 146, 68)\", \"width\": 1.5}, \"mode\": \"lines\", \"name\": \"growth_rate\", \"showlegend\": false, \"type\": \"scatter\", \"x\": [0, -0.19850107056792515], \"xaxis\": \"x3\", \"y\": [0, 0.419208869403894], \"yaxis\": \"y3\"}, {\"line\": {\"color\": \"rgb(54, 146, 68)\", \"width\": 1.5}, \"mode\": \"lines\", \"name\": \"acetate_yield\", \"showlegend\": false, \"type\": \"scatter\", \"x\": [0, 0.4645576335564886], \"xaxis\": \"x4\", \"y\": [0, -0.11486302392162684], \"yaxis\": \"y4\"}, {\"line\": {\"color\": \"rgb(54, 146, 68)\", \"width\": 1.5}, \"mode\": \"lines\", \"name\": \"formate_yield\", \"showlegend\": false, \"type\": \"scatter\", \"x\": [0, 0.4597157883484879], \"xaxis\": \"x4\", \"y\": [0, 0.09438715575843049], \"yaxis\": \"y4\"}, {\"line\": {\"color\": \"rgb(54, 146, 68)\", \"width\": 1.5}, \"mode\": \"lines\", \"name\": \"lactate_yield\", \"showlegend\": false, \"type\": \"scatter\", \"x\": [0, -0.42587397711915315], \"xaxis\": \"x4\", \"y\": [0, 0.110672411301361], \"yaxis\": \"y4\"}, {\"line\": {\"color\": \"rgb(54, 146, 68)\", \"width\": 1.5}, \"mode\": \"lines\", \"name\": \"pyruvate_yield\", \"showlegend\": false, \"type\": \"scatter\", \"x\": [0, -0.2714973121555613], \"xaxis\": \"x4\", \"y\": [0, -0.2955515513496444], \"yaxis\": \"y4\"}, {\"line\": {\"color\": \"rgb(54, 146, 68)\", \"width\": 1.5}, \"mode\": \"lines\", \"name\": \"succinate_yield\", \"showlegend\": false, \"type\": \"scatter\", \"x\": [0, -0.3431144337173262], \"xaxis\": \"x4\", \"y\": [0, 0.4779305402904787], \"yaxis\": \"y4\"}, {\"line\": {\"color\": \"rgb(54, 146, 68)\", \"width\": 1.5}, \"mode\": \"lines\", \"name\": \"growth_rate\", \"showlegend\": false, \"type\": \"scatter\", \"x\": [0, 0.419208869403894], \"xaxis\": \"x4\", \"y\": [0, 0.03648651043920055], \"yaxis\": \"y4\"}, {\"line\": {\"color\": \"rgb(54, 146, 68)\", \"width\": 1.5}, \"mode\": \"lines\", \"name\": \"acetate_yield\", \"showlegend\": false, \"type\": \"scatter\", \"x\": [0, 0.01690260464179589], \"xaxis\": \"x6\", \"y\": [0, -0.11486302392162684], \"yaxis\": \"y6\"}, {\"line\": {\"color\": \"rgb(54, 146, 68)\", \"width\": 1.5}, \"mode\": \"lines\", \"name\": \"formate_yield\", \"showlegend\": false, \"type\": \"scatter\", \"x\": [0, 0.08943900722692442], \"xaxis\": \"x6\", \"y\": [0, 0.09438715575843049], \"yaxis\": \"y6\"}, {\"line\": {\"color\": \"rgb(54, 146, 68)\", \"width\": 1.5}, \"mode\": \"lines\", \"name\": \"lactate_yield\", \"showlegend\": false, \"type\": \"scatter\", \"x\": [0, -0.10388494412394884], \"xaxis\": \"x6\", \"y\": [0, 0.110672411301361], \"yaxis\": \"y6\"}, {\"line\": {\"color\": \"rgb(54, 146, 68)\", \"width\": 1.5}, \"mode\": \"lines\", \"name\": \"pyruvate_yield\", \"showlegend\": false, \"type\": \"scatter\", \"x\": [0, 0.7581952465779619], \"xaxis\": \"x6\", \"y\": [0, -0.2955515513496444], \"yaxis\": \"y6\"}, {\"line\": {\"color\": \"rgb(54, 146, 68)\", \"width\": 1.5}, \"mode\": \"lines\", \"name\": \"succinate_yield\", \"showlegend\": false, \"type\": \"scatter\", \"x\": [0, -0.3445584591429053], \"xaxis\": \"x6\", \"y\": [0, 0.4779305402904787], \"yaxis\": \"y6\"}, {\"line\": {\"color\": \"rgb(54, 146, 68)\", \"width\": 1.5}, \"mode\": \"lines\", \"name\": \"growth_rate\", \"showlegend\": false, \"type\": \"scatter\", \"x\": [0, -0.19850107056792515], \"xaxis\": \"x6\", \"y\": [0, 0.03648651043920055], \"yaxis\": \"y6\"}, {\"line\": {\"color\": \"rgb(54, 146, 68)\", \"width\": 1.5}, \"mode\": \"lines\", \"name\": \"acetate_yield\", \"showlegend\": false, \"type\": \"scatter\", \"x\": [0, 0.4645576335564886], \"xaxis\": \"x7\", \"y\": [0, 0.01690260464179589], \"yaxis\": \"y7\"}, {\"line\": {\"color\": \"rgb(54, 146, 68)\", \"width\": 1.5}, \"mode\": \"lines\", \"name\": \"formate_yield\", \"showlegend\": false, \"type\": \"scatter\", \"x\": [0, 0.4597157883484879], \"xaxis\": \"x7\", \"y\": [0, 0.08943900722692442], \"yaxis\": \"y7\"}, {\"line\": {\"color\": \"rgb(54, 146, 68)\", \"width\": 1.5}, \"mode\": \"lines\", \"name\": \"lactate_yield\", \"showlegend\": false, \"type\": \"scatter\", \"x\": [0, -0.42587397711915315], \"xaxis\": \"x7\", \"y\": [0, -0.10388494412394884], \"yaxis\": \"y7\"}, {\"line\": {\"color\": \"rgb(54, 146, 68)\", \"width\": 1.5}, \"mode\": \"lines\", \"name\": \"pyruvate_yield\", \"showlegend\": false, \"type\": \"scatter\", \"x\": [0, -0.2714973121555613], \"xaxis\": \"x7\", \"y\": [0, 0.7581952465779619], \"yaxis\": \"y7\"}, {\"line\": {\"color\": \"rgb(54, 146, 68)\", \"width\": 1.5}, \"mode\": \"lines\", \"name\": \"succinate_yield\", \"showlegend\": false, \"type\": \"scatter\", \"x\": [0, -0.3431144337173262], \"xaxis\": \"x7\", \"y\": [0, -0.3445584591429053], \"yaxis\": \"y7\"}, {\"line\": {\"color\": \"rgb(54, 146, 68)\", \"width\": 1.5}, \"mode\": \"lines\", \"name\": \"growth_rate\", \"showlegend\": false, \"type\": \"scatter\", \"x\": [0, 0.419208869403894], \"xaxis\": \"x7\", \"y\": [0, -0.19850107056792515], \"yaxis\": \"y7\"}, {\"line\": {\"color\": \"rgb(54, 146, 68)\", \"width\": 1.5}, \"mode\": \"lines\", \"name\": \"acetate_yield\", \"showlegend\": false, \"type\": \"scatter\", \"x\": [0, -0.11486302392162684], \"xaxis\": \"x8\", \"y\": [0, 0.01690260464179589], \"yaxis\": \"y8\"}, {\"line\": {\"color\": \"rgb(54, 146, 68)\", \"width\": 1.5}, \"mode\": \"lines\", \"name\": \"formate_yield\", \"showlegend\": false, \"type\": \"scatter\", \"x\": [0, 0.09438715575843049], \"xaxis\": \"x8\", \"y\": [0, 0.08943900722692442], \"yaxis\": \"y8\"}, {\"line\": {\"color\": \"rgb(54, 146, 68)\", \"width\": 1.5}, \"mode\": \"lines\", \"name\": \"lactate_yield\", \"showlegend\": false, \"type\": \"scatter\", \"x\": [0, 0.110672411301361], \"xaxis\": \"x8\", \"y\": [0, -0.10388494412394884], \"yaxis\": \"y8\"}, {\"line\": {\"color\": \"rgb(54, 146, 68)\", \"width\": 1.5}, \"mode\": \"lines\", \"name\": \"pyruvate_yield\", \"showlegend\": false, \"type\": \"scatter\", \"x\": [0, -0.2955515513496444], \"xaxis\": \"x8\", \"y\": [0, 0.7581952465779619], \"yaxis\": \"y8\"}, {\"line\": {\"color\": \"rgb(54, 146, 68)\", \"width\": 1.5}, \"mode\": \"lines\", \"name\": \"succinate_yield\", \"showlegend\": false, \"type\": \"scatter\", \"x\": [0, 0.4779305402904787], \"xaxis\": \"x8\", \"y\": [0, -0.3445584591429053], \"yaxis\": \"y8\"}, {\"line\": {\"color\": \"rgb(54, 146, 68)\", \"width\": 1.5}, \"mode\": \"lines\", \"name\": \"growth_rate\", \"showlegend\": false, \"type\": \"scatter\", \"x\": [0, 0.03648651043920055], \"xaxis\": \"x8\", \"y\": [0, -0.19850107056792515], \"yaxis\": \"y8\"}],                        {\"height\": 800, \"legend\": {\"font\": {\"color\": \"black\", \"family\": \"Myriad Pro\", \"size\": 12}, \"orientation\": \"h\", \"x\": 0.1, \"y\": -0.15}, \"template\": {\"data\": {\"scatter\": [{\"type\": \"scatter\"}]}}, \"width\": 800, \"xaxis\": {\"anchor\": \"y\", \"domain\": [0.0, 0.2833333333333333], \"linecolor\": \"black\", \"linewidth\": 1, \"mirror\": true, \"nticks\": 8, \"showgrid\": false, \"showline\": true, \"side\": \"bottom\", \"tickangle\": 0, \"tickcolor\": \"black\", \"tickfont\": {\"color\": \"black\", \"family\": \"Myriad Pro\", \"size\": 16}, \"ticklen\": 4, \"ticks\": \"outside\", \"zeroline\": true}, \"xaxis2\": {\"anchor\": \"y2\", \"domain\": [0.35833333333333334, 0.6416666666666666], \"linecolor\": \"black\", \"linewidth\": 1, \"mirror\": true, \"nticks\": 8, \"showgrid\": false, \"showline\": true, \"side\": \"bottom\", \"tickangle\": 0, \"tickcolor\": \"black\", \"tickfont\": {\"color\": \"black\", \"family\": \"Myriad Pro\", \"size\": 16}, \"ticklen\": 4, \"ticks\": \"outside\", \"zeroline\": true}, \"xaxis3\": {\"anchor\": \"y3\", \"domain\": [0.7166666666666667, 1.0], \"linecolor\": \"black\", \"linewidth\": 1, \"mirror\": true, \"nticks\": 8, \"showgrid\": false, \"showline\": true, \"side\": \"bottom\", \"tickangle\": 0, \"tickcolor\": \"black\", \"tickfont\": {\"color\": \"black\", \"family\": \"Myriad Pro\", \"size\": 16}, \"ticklen\": 4, \"ticks\": \"outside\", \"zeroline\": true}, \"xaxis4\": {\"anchor\": \"y4\", \"domain\": [0.0, 0.2833333333333333], \"linecolor\": \"black\", \"linewidth\": 1, \"mirror\": true, \"nticks\": 8, \"showgrid\": false, \"showline\": true, \"side\": \"bottom\", \"tickangle\": 0, \"tickcolor\": \"black\", \"tickfont\": {\"color\": \"black\", \"family\": \"Myriad Pro\", \"size\": 16}, \"ticklen\": 4, \"ticks\": \"outside\", \"zeroline\": true}, \"xaxis5\": {\"anchor\": \"y5\", \"domain\": [0.35833333333333334, 0.6416666666666666], \"linecolor\": \"black\", \"linewidth\": 1, \"mirror\": true, \"nticks\": 8, \"showgrid\": false, \"showline\": true, \"side\": \"bottom\", \"tickangle\": 0, \"tickcolor\": \"black\", \"tickfont\": {\"color\": \"black\", \"family\": \"Myriad Pro\", \"size\": 16}, \"ticklen\": 4, \"ticks\": \"outside\", \"zeroline\": true}, \"xaxis6\": {\"anchor\": \"y6\", \"domain\": [0.7166666666666667, 1.0], \"linecolor\": \"black\", \"linewidth\": 1, \"mirror\": true, \"nticks\": 8, \"showgrid\": false, \"showline\": true, \"side\": \"bottom\", \"tickangle\": 0, \"tickcolor\": \"black\", \"tickfont\": {\"color\": \"black\", \"family\": \"Myriad Pro\", \"size\": 16}, \"ticklen\": 4, \"ticks\": \"outside\", \"zeroline\": true}, \"xaxis7\": {\"anchor\": \"y7\", \"domain\": [0.0, 0.2833333333333333], \"linecolor\": \"black\", \"linewidth\": 1, \"mirror\": true, \"nticks\": 8, \"showgrid\": false, \"showline\": true, \"side\": \"bottom\", \"tickangle\": 0, \"tickcolor\": \"black\", \"tickfont\": {\"color\": \"black\", \"family\": \"Myriad Pro\", \"size\": 16}, \"ticklen\": 4, \"ticks\": \"outside\", \"title\": {\"text\": \"Principal Component 1\"}, \"zeroline\": true}, \"xaxis8\": {\"anchor\": \"y8\", \"domain\": [0.35833333333333334, 0.6416666666666666], \"linecolor\": \"black\", \"linewidth\": 1, \"mirror\": true, \"nticks\": 8, \"showgrid\": false, \"showline\": true, \"side\": \"bottom\", \"tickangle\": 0, \"tickcolor\": \"black\", \"tickfont\": {\"color\": \"black\", \"family\": \"Myriad Pro\", \"size\": 16}, \"ticklen\": 4, \"ticks\": \"outside\", \"title\": {\"text\": \"Principal Component 2\"}, \"zeroline\": true}, \"xaxis9\": {\"anchor\": \"y9\", \"domain\": [0.7166666666666667, 1.0], \"linecolor\": \"black\", \"linewidth\": 1, \"mirror\": true, \"nticks\": 8, \"showgrid\": false, \"showline\": true, \"side\": \"bottom\", \"tickangle\": 0, \"tickcolor\": \"black\", \"tickfont\": {\"color\": \"black\", \"family\": \"Myriad Pro\", \"size\": 16}, \"ticklen\": 4, \"ticks\": \"outside\", \"zeroline\": true}, \"yaxis\": {\"anchor\": \"x\", \"domain\": [0.7166666666666667, 1.0], \"linecolor\": \"black\", \"linewidth\": 1, \"mirror\": true, \"showgrid\": false, \"showline\": true, \"tickangle\": 0, \"tickcolor\": \"black\", \"tickfont\": {\"color\": \"black\", \"family\": \"Myriad Pro\", \"size\": 16}, \"ticklen\": 4, \"ticks\": \"outside\", \"zeroline\": true}, \"yaxis2\": {\"anchor\": \"x2\", \"domain\": [0.7166666666666667, 1.0], \"linecolor\": \"black\", \"linewidth\": 1, \"mirror\": true, \"showgrid\": false, \"showline\": true, \"tickangle\": 0, \"tickcolor\": \"black\", \"tickfont\": {\"color\": \"black\", \"family\": \"Myriad Pro\", \"size\": 16}, \"ticklen\": 4, \"ticks\": \"outside\", \"zeroline\": true}, \"yaxis3\": {\"anchor\": \"x3\", \"domain\": [0.7166666666666667, 1.0], \"linecolor\": \"black\", \"linewidth\": 1, \"mirror\": true, \"showgrid\": false, \"showline\": true, \"tickangle\": 0, \"tickcolor\": \"black\", \"tickfont\": {\"color\": \"black\", \"family\": \"Myriad Pro\", \"size\": 16}, \"ticklen\": 4, \"ticks\": \"outside\", \"zeroline\": true}, \"yaxis4\": {\"anchor\": \"x4\", \"domain\": [0.35833333333333334, 0.6416666666666666], \"linecolor\": \"black\", \"linewidth\": 1, \"mirror\": true, \"showgrid\": false, \"showline\": true, \"tickangle\": 0, \"tickcolor\": \"black\", \"tickfont\": {\"color\": \"black\", \"family\": \"Myriad Pro\", \"size\": 16}, \"ticklen\": 4, \"ticks\": \"outside\", \"title\": {\"text\": \"Principal Component 2\"}, \"zeroline\": true}, \"yaxis5\": {\"anchor\": \"x5\", \"domain\": [0.35833333333333334, 0.6416666666666666], \"linecolor\": \"black\", \"linewidth\": 1, \"mirror\": true, \"showgrid\": false, \"showline\": true, \"tickangle\": 0, \"tickcolor\": \"black\", \"tickfont\": {\"color\": \"black\", \"family\": \"Myriad Pro\", \"size\": 16}, \"ticklen\": 4, \"ticks\": \"outside\", \"zeroline\": true}, \"yaxis6\": {\"anchor\": \"x6\", \"domain\": [0.35833333333333334, 0.6416666666666666], \"linecolor\": \"black\", \"linewidth\": 1, \"mirror\": true, \"showgrid\": false, \"showline\": true, \"tickangle\": 0, \"tickcolor\": \"black\", \"tickfont\": {\"color\": \"black\", \"family\": \"Myriad Pro\", \"size\": 16}, \"ticklen\": 4, \"ticks\": \"outside\", \"zeroline\": true}, \"yaxis7\": {\"anchor\": \"x7\", \"domain\": [0.0, 0.2833333333333333], \"linecolor\": \"black\", \"linewidth\": 1, \"mirror\": true, \"showgrid\": false, \"showline\": true, \"tickangle\": 0, \"tickcolor\": \"black\", \"tickfont\": {\"color\": \"black\", \"family\": \"Myriad Pro\", \"size\": 16}, \"ticklen\": 4, \"ticks\": \"outside\", \"title\": {\"text\": \"Principal Component 3\"}, \"zeroline\": true}, \"yaxis8\": {\"anchor\": \"x8\", \"domain\": [0.0, 0.2833333333333333], \"linecolor\": \"black\", \"linewidth\": 1, \"mirror\": true, \"showgrid\": false, \"showline\": true, \"tickangle\": 0, \"tickcolor\": \"black\", \"tickfont\": {\"color\": \"black\", \"family\": \"Myriad Pro\", \"size\": 16}, \"ticklen\": 4, \"ticks\": \"outside\", \"zeroline\": true}, \"yaxis9\": {\"anchor\": \"x9\", \"domain\": [0.0, 0.2833333333333333], \"linecolor\": \"black\", \"linewidth\": 1, \"mirror\": true, \"showgrid\": false, \"showline\": true, \"tickangle\": 0, \"tickcolor\": \"black\", \"tickfont\": {\"color\": \"black\", \"family\": \"Myriad Pro\", \"size\": 16}, \"ticklen\": 4, \"ticks\": \"outside\", \"zeroline\": true}},                        {\"responsive\": true}                    ).then(function(){\n",
       "                            \n",
       "var gd = document.getElementById('8146d205-201e-4040-9eb5-65a285c67774');\n",
       "var x = new MutationObserver(function (mutations, observer) {{\n",
       "        var display = window.getComputedStyle(gd).display;\n",
       "        if (!display || display === 'none') {{\n",
       "            console.log([gd, 'removed!']);\n",
       "            Plotly.purge(gd);\n",
       "            observer.disconnect();\n",
       "        }}\n",
       "}});\n",
       "\n",
       "// Listen for the removal of the full notebook cells\n",
       "var notebookContainer = gd.closest('#notebook-container');\n",
       "if (notebookContainer) {{\n",
       "    x.observe(notebookContainer, {childList: true});\n",
       "}}\n",
       "\n",
       "// Listen for the clearing of the current output cell\n",
       "var outputEl = gd.closest('.output');\n",
       "if (outputEl) {{\n",
       "    x.observe(outputEl, {childList: true});\n",
       "}}\n",
       "\n",
       "                        })                };                });            </script>        </div>"
      ]
     },
     "metadata": {},
     "output_type": "display_data"
    }
   ],
   "source": [
    "fig = make_subplots(rows=3, cols=3, vertical_spacing=0.075, shared_xaxes=False, shared_yaxes=False, horizontal_spacing=0.075)\n",
    "for k in range(3):\n",
    "    for l in range(3):\n",
    "        if k!=l:\n",
    "            for i, analyte in enumerate(features):\n",
    "                fig.add_trace(go.Scatter(x=[0]+[pca.components_[l,i]],\n",
    "                                             y=[0]+[pca.components_[k,i]],\n",
    "                                             mode='lines', showlegend=False,\n",
    "                                             line=dict(width=1.5, color='rgb(54, 146, 68)'),\n",
    "                                             name=analyte), row=k+1, col=l+1)\n",
    "                if k==2:\n",
    "                    fig.update_xaxes(title='Principal Component '+str(l+1), ticks='outside', ticklen=4, tickangle=0, nticks=8, title_standoff=0.5,\n",
    "\n",
    "                                      titlefont=dict(family='Myriad Pro', size=16, color='black'),row=k+1, col=l+1)\n",
    "                if l==0:\n",
    "                    fig.update_yaxes(title='Principal Component '+str(k+1), ticks='outside', ticklen=4, tickangle=0, title_standoff=0,\n",
    "                                      titlefont=dict(family='Myriad Pro', size=16, color='black'),row=k+1, col=l+1)\n",
    "\n",
    "                if k!=2:\n",
    "                    fig.update_xaxes(ticks='')\n",
    "\n",
    "                        \n",
    "                        \n",
    "fig.update_layout(height=800, width=800, legend_x= 0.1, legend_y=-0.15, legend_font=dict(family='Myriad Pro', size=12, color='black'), legend_orientation='h')\n",
    "fig.update_xaxes(showline=True, linewidth=1, linecolor='black', mirror=True, side='bottom',\n",
    "                              ticks='outside', ticklen=4, tickangle=0, nticks=8,\n",
    "                              tickfont=dict(size=16, family='Myriad Pro', color='black'), tickcolor='black',\n",
    "                              showgrid=False,zeroline=True)\n",
    "fig.update_yaxes(showgrid=False, zeroline=True,\n",
    "                            tickfont=dict(family='Myriad Pro',size=16, color='black'), tickcolor='black', \n",
    "\n",
    "                              showline=True, linewidth=1, linecolor='black', mirror=True,\n",
    "                              ticks='outside', ticklen=4, tickangle=0)\n",
    "            \n",
    "plot(fig)\n",
    "#pio.write_image(fig,\"Figures/si_fig_red_pca_loadings.svg\",format='svg')\n"
   ]
  },
  {
   "cell_type": "markdown",
   "id": "joined-corps",
   "metadata": {},
   "source": [
    "### Plotting function for tsne ###"
   ]
  },
  {
   "cell_type": "code",
   "execution_count": 33,
   "id": "liberal-chick",
   "metadata": {},
   "outputs": [],
   "source": [
    "layout = go.Layout(height=475, width=430, legend_x= 0.1, legend_y=-0.15, legend_font=dict(family='Myriad Pro', size=12, color='black'), legend_orientation='h',\n",
    "                   xaxis=dict(title='Component 1',\n",
    "                              title_standoff=0.5,\n",
    "                              titlefont=dict(family='Myriad Pro', size=16, color='black'),\n",
    "                              showline=True, linewidth=1, linecolor='black', mirror=True, side='bottom',\n",
    "                              ticks='outside', ticklen=4, tickangle=0, nticks=8,\n",
    "                              tickfont=dict(size=16, family='Myriad Pro', color='black'), tickcolor='black',\n",
    "                              showgrid=True,zeroline=True),\n",
    "                  \n",
    "                  yaxis=dict(title='Component 2',\n",
    "                            titlefont=dict(family='Myriad Pro', size=16, color='black'),\n",
    "\n",
    "                              anchor='x', side='left', showgrid=True, zeroline=True,\n",
    "                            tickfont=dict(family='Myriad Pro',size=16, color='black'), tickcolor='black', \n",
    "\n",
    "                              showline=True, linewidth=1, linecolor='black', mirror=True,\n",
    "                              ticks='outside', ticklen=4, tickangle=0))\n",
    "\n",
    "\n",
    "\n",
    "colors = ['rgb(33, 100, 175)',\n",
    "          'rgb(217, 72, 42)',\n",
    "          'rgb(146, 54, 132)',\n",
    "          'rgb(175, 127, 91)',\n",
    "         'rgb(166.0, 193, 223)']\n",
    "\n",
    "symbols = ['circle', 'x', 'diamond', 'square']\n",
    "\n",
    "def tsne_plot(features,perplexity=10,learning_rate=250):\n",
    "    perplexity = perplexity\n",
    "    learning_rate = learning_rate\n",
    "    \n",
    "    x = st_df[features].values\n",
    "    y = st_df[['strain','condition']].values\n",
    "    \n",
    "    x = StandardScaler().fit_transform(x)\n",
    "    \n",
    "    tsn = TSNE(perplexity=perplexity, learning_rate = learning_rate, init='pca', n_iter=20000, n_iter_without_progress=2500, verbose=0).fit_transform(x)\n",
    "    tsn_df = pd.DataFrame(data=tsn, columns = ['tsn1', 'tsn2'])\n",
    "    tsne_df = st_df.copy(deep=True)\n",
    "    tsne_df = pd.concat([tsne_df,tsn_df], axis=1)\n",
    "    print(\"TSNE\")\n",
    "    print(\"Learning Rate: \", learning_rate)\n",
    "    print(\"Perplexity: \",perplexity)\n",
    "    trace_list = []\n",
    "\n",
    "    for i, strain in enumerate(strain_list):\n",
    "        for j,condition in enumerate(['reactor'] + condition_list):\n",
    "            if condition!='reactor':\n",
    "                trace_list.append(go.Scatter(x=tsne_df[(tsne_df['strain']==strain) & (tsne_df['condition']==condition)]['tsn1'],\n",
    "                                             y=tsne_df[(tsne_df['strain']==strain) & (tsne_df['condition']==condition)]['tsn2'],\n",
    "                                             mode='markers', showlegend=False,\n",
    "                                             marker=dict(symbol=symbols[i], size=8, color=colors[j-1],\n",
    "                                                         line=dict(color='black', width=0.5))))\n",
    "            else:\n",
    "                trace_list.append(go.Scatter(x=tsne_df[(final_df['strain']==strain) & (tsne_df['condition']==condition)]['tsn1'],\n",
    "                                 y=tsne_df[(tsne_df['strain']==strain) & (tsne_df['condition']==condition)]['tsn2'],\n",
    "                                 mode='markers', name=strain,\n",
    "                                 marker=dict(symbol=symbols[i], size=12, color='rgb(54, 146, 68)',\n",
    "                                line=dict(color='black', width=0.5))))\n",
    "    fig = go.Figure(data=trace_list, layout=layout)     \n",
    "    plot(fig)\n",
    "    return fig\n"
   ]
  },
  {
   "cell_type": "code",
   "execution_count": 34,
   "id": "occasional-sitting",
   "metadata": {},
   "outputs": [
    {
     "name": "stdout",
     "output_type": "stream",
     "text": [
      "TSNE\n",
      "Learning Rate:  10\n",
      "Perplexity:  15\n"
     ]
    },
    {
     "data": {
      "application/vnd.plotly.v1+json": {
       "config": {
        "linkText": "Export to plot.ly",
        "plotlyServerURL": "https://plot.ly",
        "showLink": false
       },
       "data": [
        {
         "marker": {
          "color": "rgb(54, 146, 68)",
          "line": {
           "color": "black",
           "width": 0.5
          },
          "size": 12,
          "symbol": "circle"
         },
         "mode": "markers",
         "name": "WT",
         "type": "scatter",
         "x": [
          41.0040283203125
         ],
         "y": [
          -13.070484161376953
         ]
        },
        {
         "marker": {
          "color": "rgb(33, 100, 175)",
          "line": {
           "color": "black",
           "width": 0.5
          },
          "size": 8,
          "symbol": "circle"
         },
         "mode": "markers",
         "showlegend": false,
         "type": "scatter",
         "x": [
          44.120845794677734,
          44.481719970703125,
          44.360557556152344,
          44.33164596557617
         ],
         "y": [
          -11.784564971923828,
          -12.124873161315918,
          -12.253965377807617,
          -11.884001731872559
         ]
        },
        {
         "marker": {
          "color": "rgb(217, 72, 42)",
          "line": {
           "color": "black",
           "width": 0.5
          },
          "size": 8,
          "symbol": "circle"
         },
         "mode": "markers",
         "showlegend": false,
         "type": "scatter",
         "x": [
          43.88780975341797,
          43.686580657958984,
          43.6064338684082,
          43.88179397583008
         ],
         "y": [
          -12.63659381866455,
          -11.951993942260742,
          -12.299863815307617,
          -12.729717254638672
         ]
        },
        {
         "marker": {
          "color": "rgb(146, 54, 132)",
          "line": {
           "color": "black",
           "width": 0.5
          },
          "size": 8,
          "symbol": "circle"
         },
         "mode": "markers",
         "showlegend": false,
         "type": "scatter",
         "x": [
          44.6398811340332,
          44.832542419433594,
          44.81245040893555,
          44.848899841308594
         ],
         "y": [
          -13.446918487548828,
          -13.188599586486816,
          -13.633681297302246,
          -13.27515697479248
         ]
        },
        {
         "marker": {
          "color": "rgb(175, 127, 91)",
          "line": {
           "color": "black",
           "width": 0.5
          },
          "size": 8,
          "symbol": "circle"
         },
         "mode": "markers",
         "showlegend": false,
         "type": "scatter",
         "x": [
          43.042022705078125,
          43.002681732177734,
          42.986480712890625,
          43.14986801147461
         ],
         "y": [
          -13.180624008178711,
          -13.407827377319336,
          -13.420516967773438,
          -13.623929023742676
         ]
        },
        {
         "marker": {
          "color": "rgb(166.0, 193, 223)",
          "line": {
           "color": "black",
           "width": 0.5
          },
          "size": 8,
          "symbol": "circle"
         },
         "mode": "markers",
         "showlegend": false,
         "type": "scatter",
         "x": [
          41.536346435546875,
          41.47644805908203,
          41.46009063720703,
          41.45726776123047
         ],
         "y": [
          -12.262163162231445,
          -12.384672164916992,
          -12.334565162658691,
          -12.19046401977539
         ]
        },
        {
         "marker": {
          "color": "rgb(54, 146, 68)",
          "line": {
           "color": "black",
           "width": 0.5
          },
          "size": 12,
          "symbol": "x"
         },
         "mode": "markers",
         "name": "Δ(adh,pta)-D1",
         "type": "scatter",
         "x": [
          -12.439531326293945
         ],
         "y": [
          -22.37315559387207
         ]
        },
        {
         "marker": {
          "color": "rgb(33, 100, 175)",
          "line": {
           "color": "black",
           "width": 0.5
          },
          "size": 8,
          "symbol": "x"
         },
         "mode": "markers",
         "showlegend": false,
         "type": "scatter",
         "x": [
          -12.729018211364746,
          -12.416924476623535,
          -12.63478946685791,
          -12.176542282104492
         ],
         "y": [
          -26.2244815826416,
          -26.485565185546875,
          -26.117229461669922,
          -26.423845291137695
         ]
        },
        {
         "marker": {
          "color": "rgb(217, 72, 42)",
          "line": {
           "color": "black",
           "width": 0.5
          },
          "size": 8,
          "symbol": "x"
         },
         "mode": "markers",
         "showlegend": false,
         "type": "scatter",
         "x": [
          -11.156086921691895,
          -11.671103477478027,
          -11.30936336517334,
          -11.667269706726074
         ],
         "y": [
          -26.7354679107666,
          -26.88981056213379,
          -26.80228614807129,
          -26.39513397216797
         ]
        },
        {
         "marker": {
          "color": "rgb(146, 54, 132)",
          "line": {
           "color": "black",
           "width": 0.5
          },
          "size": 8,
          "symbol": "x"
         },
         "mode": "markers",
         "showlegend": false,
         "type": "scatter",
         "x": [
          -13.819666862487793,
          -13.974842071533203,
          -14.037240982055664,
          -13.850398063659668
         ],
         "y": [
          -23.413806915283203,
          -23.459148406982422,
          -23.58887481689453,
          -24.090848922729492
         ]
        },
        {
         "marker": {
          "color": "rgb(175, 127, 91)",
          "line": {
           "color": "black",
           "width": 0.5
          },
          "size": 8,
          "symbol": "x"
         },
         "mode": "markers",
         "showlegend": false,
         "type": "scatter",
         "x": [
          -7.787795543670654,
          -7.998759746551514,
          -8.006095886230469,
          -7.792802810668945
         ],
         "y": [
          -32.28373718261719,
          -32.4464225769043,
          -32.471046447753906,
          -32.4115104675293
         ]
        },
        {
         "marker": {
          "color": "rgb(166.0, 193, 223)",
          "line": {
           "color": "black",
           "width": 0.5
          },
          "size": 8,
          "symbol": "x"
         },
         "mode": "markers",
         "showlegend": false,
         "type": "scatter",
         "x": [
          -5.523987293243408,
          -5.6133952140808105,
          -5.4282660484313965,
          -5.244267463684082
         ],
         "y": [
          -33.58912658691406,
          -33.861846923828125,
          -33.98363494873047,
          -33.70755386352539
         ]
        },
        {
         "marker": {
          "color": "rgb(54, 146, 68)",
          "line": {
           "color": "black",
           "width": 0.5
          },
          "size": 12,
          "symbol": "diamond"
         },
         "mode": "markers",
         "name": "Δ(adh,pta)-D28",
         "type": "scatter",
         "x": [
          -12.34565258026123
         ],
         "y": [
          -22.378740310668945
         ]
        },
        {
         "marker": {
          "color": "rgb(33, 100, 175)",
          "line": {
           "color": "black",
           "width": 0.5
          },
          "size": 8,
          "symbol": "diamond"
         },
         "mode": "markers",
         "showlegend": false,
         "type": "scatter",
         "x": [
          -12.007182121276855,
          -11.929271697998047,
          -12.093236923217773,
          -12.102978706359863
         ],
         "y": [
          -24.971275329589844,
          -25.32891273498535,
          -25.1319580078125,
          -25.119768142700195
         ]
        },
        {
         "marker": {
          "color": "rgb(217, 72, 42)",
          "line": {
           "color": "black",
           "width": 0.5
          },
          "size": 8,
          "symbol": "diamond"
         },
         "mode": "markers",
         "showlegend": false,
         "type": "scatter",
         "x": [
          -10.521424293518066,
          -10.200017929077148,
          -10.493401527404785,
          -10.553049087524414
         ],
         "y": [
          -25.893863677978516,
          -26.02165985107422,
          -26.2454891204834,
          -26.437803268432617
         ]
        },
        {
         "marker": {
          "color": "rgb(146, 54, 132)",
          "line": {
           "color": "black",
           "width": 0.5
          },
          "size": 8,
          "symbol": "diamond"
         },
         "mode": "markers",
         "showlegend": false,
         "type": "scatter",
         "x": [
          -14.576159477233887,
          -14.534502029418945,
          -14.515888214111328,
          -14.476601600646973
         ],
         "y": [
          -22.75383758544922,
          -22.878803253173828,
          -23.04537010192871,
          -23.22661018371582
         ]
        },
        {
         "marker": {
          "color": "rgb(175, 127, 91)",
          "line": {
           "color": "black",
           "width": 0.5
          },
          "size": 8,
          "symbol": "diamond"
         },
         "mode": "markers",
         "showlegend": false,
         "type": "scatter",
         "x": [
          -7.584517955780029,
          -7.375024795532227,
          -7.6244072914123535,
          -7.1578521728515625
         ],
         "y": [
          -32.99824905395508,
          -32.783164978027344,
          -33.14885330200195,
          -32.9683837890625
         ]
        },
        {
         "marker": {
          "color": "rgb(166.0, 193, 223)",
          "line": {
           "color": "black",
           "width": 0.5
          },
          "size": 8,
          "symbol": "diamond"
         },
         "mode": "markers",
         "showlegend": false,
         "type": "scatter",
         "x": [
          -5.3572211265563965,
          -6.081472396850586,
          -5.690614223480225,
          -5.5290751457214355
         ],
         "y": [
          -34.1490364074707,
          -34.04739761352539,
          -34.49738693237305,
          -34.56217575073242
         ]
        },
        {
         "marker": {
          "color": "rgb(54, 146, 68)",
          "line": {
           "color": "black",
           "width": 0.5
          },
          "size": 12,
          "symbol": "square"
         },
         "mode": "markers",
         "name": "Δ(adh,pta)-D59",
         "type": "scatter",
         "x": [
          -10.199103355407715
         ],
         "y": [
          -14.381684303283691
         ]
        },
        {
         "marker": {
          "color": "rgb(33, 100, 175)",
          "line": {
           "color": "black",
           "width": 0.5
          },
          "size": 8,
          "symbol": "square"
         },
         "mode": "markers",
         "showlegend": false,
         "type": "scatter",
         "x": [
          -12.096001625061035,
          -12.054524421691895,
          -12.098197937011719,
          -12.013887405395508
         ],
         "y": [
          -13.50966739654541,
          -13.641463279724121,
          -13.998773574829102,
          -13.528773307800293
         ]
        },
        {
         "marker": {
          "color": "rgb(217, 72, 42)",
          "line": {
           "color": "black",
           "width": 0.5
          },
          "size": 8,
          "symbol": "square"
         },
         "mode": "markers",
         "showlegend": false,
         "type": "scatter",
         "x": [
          -11.392592430114746,
          -11.310439109802246,
          -11.235539436340332,
          -11.392395973205566
         ],
         "y": [
          -14.245079040527344,
          -14.336584091186523,
          -14.287943840026855,
          -14.281716346740723
         ]
        },
        {
         "marker": {
          "color": "rgb(146, 54, 132)",
          "line": {
           "color": "black",
           "width": 0.5
          },
          "size": 8,
          "symbol": "square"
         },
         "mode": "markers",
         "showlegend": false,
         "type": "scatter",
         "x": [
          -14.251317024230957,
          -14.259977340698242,
          -14.263602256774902,
          -14.273890495300293
         ],
         "y": [
          -15.573521614074707,
          -15.62923526763916,
          -15.562224388122559,
          -15.597841262817383
         ]
        },
        {
         "marker": {
          "color": "rgb(175, 127, 91)",
          "line": {
           "color": "black",
           "width": 0.5
          },
          "size": 8,
          "symbol": "square"
         },
         "mode": "markers",
         "showlegend": false,
         "type": "scatter",
         "x": [
          -12.978920936584473,
          -13.147254943847656,
          -12.884052276611328,
          -12.900629043579102
         ],
         "y": [
          -14.297561645507812,
          -14.211247444152832,
          -14.394020080566406,
          -14.511423110961914
         ]
        },
        {
         "marker": {
          "color": "rgb(166.0, 193, 223)",
          "line": {
           "color": "black",
           "width": 0.5
          },
          "size": 8,
          "symbol": "square"
         },
         "mode": "markers",
         "showlegend": false,
         "type": "scatter",
         "x": [
          -14.671293258666992,
          -14.679094314575195,
          -14.669947624206543,
          -14.67436695098877
         ],
         "y": [
          -12.487035751342773,
          -12.486193656921387,
          -12.49660873413086,
          -12.50556755065918
         ]
        }
       ],
       "layout": {
        "height": 475,
        "legend": {
         "font": {
          "color": "black",
          "family": "Myriad Pro",
          "size": 12
         },
         "orientation": "h",
         "x": 0.1,
         "y": -0.15
        },
        "template": {
         "data": {
          "scatter": [
           {
            "type": "scatter"
           }
          ]
         }
        },
        "width": 430,
        "xaxis": {
         "linecolor": "black",
         "linewidth": 1,
         "mirror": true,
         "nticks": 8,
         "showgrid": true,
         "showline": true,
         "side": "bottom",
         "tickangle": 0,
         "tickcolor": "black",
         "tickfont": {
          "color": "black",
          "family": "Myriad Pro",
          "size": 16
         },
         "ticklen": 4,
         "ticks": "outside",
         "title": {
          "font": {
           "color": "black",
           "family": "Myriad Pro",
           "size": 16
          },
          "standoff": 0.5,
          "text": "Component 1"
         },
         "zeroline": true
        },
        "yaxis": {
         "anchor": "x",
         "linecolor": "black",
         "linewidth": 1,
         "mirror": true,
         "showgrid": true,
         "showline": true,
         "side": "left",
         "tickangle": 0,
         "tickcolor": "black",
         "tickfont": {
          "color": "black",
          "family": "Myriad Pro",
          "size": 16
         },
         "ticklen": 4,
         "ticks": "outside",
         "title": {
          "font": {
           "color": "black",
           "family": "Myriad Pro",
           "size": 16
          },
          "text": "Component 2"
         },
         "zeroline": true
        }
       }
      },
      "text/html": [
       "<div>                            <div id=\"5d016307-1928-4a73-827b-654a4871779c\" class=\"plotly-graph-div\" style=\"height:475px; width:430px;\"></div>            <script type=\"text/javascript\">                require([\"plotly\"], function(Plotly) {                    window.PLOTLYENV=window.PLOTLYENV || {};                                    if (document.getElementById(\"5d016307-1928-4a73-827b-654a4871779c\")) {                    Plotly.newPlot(                        \"5d016307-1928-4a73-827b-654a4871779c\",                        [{\"marker\": {\"color\": \"rgb(54, 146, 68)\", \"line\": {\"color\": \"black\", \"width\": 0.5}, \"size\": 12, \"symbol\": \"circle\"}, \"mode\": \"markers\", \"name\": \"WT\", \"type\": \"scatter\", \"x\": [41.0040283203125], \"y\": [-13.070484161376953]}, {\"marker\": {\"color\": \"rgb(33, 100, 175)\", \"line\": {\"color\": \"black\", \"width\": 0.5}, \"size\": 8, \"symbol\": \"circle\"}, \"mode\": \"markers\", \"showlegend\": false, \"type\": \"scatter\", \"x\": [44.120845794677734, 44.481719970703125, 44.360557556152344, 44.33164596557617], \"y\": [-11.784564971923828, -12.124873161315918, -12.253965377807617, -11.884001731872559]}, {\"marker\": {\"color\": \"rgb(217, 72, 42)\", \"line\": {\"color\": \"black\", \"width\": 0.5}, \"size\": 8, \"symbol\": \"circle\"}, \"mode\": \"markers\", \"showlegend\": false, \"type\": \"scatter\", \"x\": [43.88780975341797, 43.686580657958984, 43.6064338684082, 43.88179397583008], \"y\": [-12.63659381866455, -11.951993942260742, -12.299863815307617, -12.729717254638672]}, {\"marker\": {\"color\": \"rgb(146, 54, 132)\", \"line\": {\"color\": \"black\", \"width\": 0.5}, \"size\": 8, \"symbol\": \"circle\"}, \"mode\": \"markers\", \"showlegend\": false, \"type\": \"scatter\", \"x\": [44.6398811340332, 44.832542419433594, 44.81245040893555, 44.848899841308594], \"y\": [-13.446918487548828, -13.188599586486816, -13.633681297302246, -13.27515697479248]}, {\"marker\": {\"color\": \"rgb(175, 127, 91)\", \"line\": {\"color\": \"black\", \"width\": 0.5}, \"size\": 8, \"symbol\": \"circle\"}, \"mode\": \"markers\", \"showlegend\": false, \"type\": \"scatter\", \"x\": [43.042022705078125, 43.002681732177734, 42.986480712890625, 43.14986801147461], \"y\": [-13.180624008178711, -13.407827377319336, -13.420516967773438, -13.623929023742676]}, {\"marker\": {\"color\": \"rgb(166.0, 193, 223)\", \"line\": {\"color\": \"black\", \"width\": 0.5}, \"size\": 8, \"symbol\": \"circle\"}, \"mode\": \"markers\", \"showlegend\": false, \"type\": \"scatter\", \"x\": [41.536346435546875, 41.47644805908203, 41.46009063720703, 41.45726776123047], \"y\": [-12.262163162231445, -12.384672164916992, -12.334565162658691, -12.19046401977539]}, {\"marker\": {\"color\": \"rgb(54, 146, 68)\", \"line\": {\"color\": \"black\", \"width\": 0.5}, \"size\": 12, \"symbol\": \"x\"}, \"mode\": \"markers\", \"name\": \"\\u0394(adh,pta)-D1\", \"type\": \"scatter\", \"x\": [-12.439531326293945], \"y\": [-22.37315559387207]}, {\"marker\": {\"color\": \"rgb(33, 100, 175)\", \"line\": {\"color\": \"black\", \"width\": 0.5}, \"size\": 8, \"symbol\": \"x\"}, \"mode\": \"markers\", \"showlegend\": false, \"type\": \"scatter\", \"x\": [-12.729018211364746, -12.416924476623535, -12.63478946685791, -12.176542282104492], \"y\": [-26.2244815826416, -26.485565185546875, -26.117229461669922, -26.423845291137695]}, {\"marker\": {\"color\": \"rgb(217, 72, 42)\", \"line\": {\"color\": \"black\", \"width\": 0.5}, \"size\": 8, \"symbol\": \"x\"}, \"mode\": \"markers\", \"showlegend\": false, \"type\": \"scatter\", \"x\": [-11.156086921691895, -11.671103477478027, -11.30936336517334, -11.667269706726074], \"y\": [-26.7354679107666, -26.88981056213379, -26.80228614807129, -26.39513397216797]}, {\"marker\": {\"color\": \"rgb(146, 54, 132)\", \"line\": {\"color\": \"black\", \"width\": 0.5}, \"size\": 8, \"symbol\": \"x\"}, \"mode\": \"markers\", \"showlegend\": false, \"type\": \"scatter\", \"x\": [-13.819666862487793, -13.974842071533203, -14.037240982055664, -13.850398063659668], \"y\": [-23.413806915283203, -23.459148406982422, -23.58887481689453, -24.090848922729492]}, {\"marker\": {\"color\": \"rgb(175, 127, 91)\", \"line\": {\"color\": \"black\", \"width\": 0.5}, \"size\": 8, \"symbol\": \"x\"}, \"mode\": \"markers\", \"showlegend\": false, \"type\": \"scatter\", \"x\": [-7.787795543670654, -7.998759746551514, -8.006095886230469, -7.792802810668945], \"y\": [-32.28373718261719, -32.4464225769043, -32.471046447753906, -32.4115104675293]}, {\"marker\": {\"color\": \"rgb(166.0, 193, 223)\", \"line\": {\"color\": \"black\", \"width\": 0.5}, \"size\": 8, \"symbol\": \"x\"}, \"mode\": \"markers\", \"showlegend\": false, \"type\": \"scatter\", \"x\": [-5.523987293243408, -5.6133952140808105, -5.4282660484313965, -5.244267463684082], \"y\": [-33.58912658691406, -33.861846923828125, -33.98363494873047, -33.70755386352539]}, {\"marker\": {\"color\": \"rgb(54, 146, 68)\", \"line\": {\"color\": \"black\", \"width\": 0.5}, \"size\": 12, \"symbol\": \"diamond\"}, \"mode\": \"markers\", \"name\": \"\\u0394(adh,pta)-D28\", \"type\": \"scatter\", \"x\": [-12.34565258026123], \"y\": [-22.378740310668945]}, {\"marker\": {\"color\": \"rgb(33, 100, 175)\", \"line\": {\"color\": \"black\", \"width\": 0.5}, \"size\": 8, \"symbol\": \"diamond\"}, \"mode\": \"markers\", \"showlegend\": false, \"type\": \"scatter\", \"x\": [-12.007182121276855, -11.929271697998047, -12.093236923217773, -12.102978706359863], \"y\": [-24.971275329589844, -25.32891273498535, -25.1319580078125, -25.119768142700195]}, {\"marker\": {\"color\": \"rgb(217, 72, 42)\", \"line\": {\"color\": \"black\", \"width\": 0.5}, \"size\": 8, \"symbol\": \"diamond\"}, \"mode\": \"markers\", \"showlegend\": false, \"type\": \"scatter\", \"x\": [-10.521424293518066, -10.200017929077148, -10.493401527404785, -10.553049087524414], \"y\": [-25.893863677978516, -26.02165985107422, -26.2454891204834, -26.437803268432617]}, {\"marker\": {\"color\": \"rgb(146, 54, 132)\", \"line\": {\"color\": \"black\", \"width\": 0.5}, \"size\": 8, \"symbol\": \"diamond\"}, \"mode\": \"markers\", \"showlegend\": false, \"type\": \"scatter\", \"x\": [-14.576159477233887, -14.534502029418945, -14.515888214111328, -14.476601600646973], \"y\": [-22.75383758544922, -22.878803253173828, -23.04537010192871, -23.22661018371582]}, {\"marker\": {\"color\": \"rgb(175, 127, 91)\", \"line\": {\"color\": \"black\", \"width\": 0.5}, \"size\": 8, \"symbol\": \"diamond\"}, \"mode\": \"markers\", \"showlegend\": false, \"type\": \"scatter\", \"x\": [-7.584517955780029, -7.375024795532227, -7.6244072914123535, -7.1578521728515625], \"y\": [-32.99824905395508, -32.783164978027344, -33.14885330200195, -32.9683837890625]}, {\"marker\": {\"color\": \"rgb(166.0, 193, 223)\", \"line\": {\"color\": \"black\", \"width\": 0.5}, \"size\": 8, \"symbol\": \"diamond\"}, \"mode\": \"markers\", \"showlegend\": false, \"type\": \"scatter\", \"x\": [-5.3572211265563965, -6.081472396850586, -5.690614223480225, -5.5290751457214355], \"y\": [-34.1490364074707, -34.04739761352539, -34.49738693237305, -34.56217575073242]}, {\"marker\": {\"color\": \"rgb(54, 146, 68)\", \"line\": {\"color\": \"black\", \"width\": 0.5}, \"size\": 12, \"symbol\": \"square\"}, \"mode\": \"markers\", \"name\": \"\\u0394(adh,pta)-D59\", \"type\": \"scatter\", \"x\": [-10.199103355407715], \"y\": [-14.381684303283691]}, {\"marker\": {\"color\": \"rgb(33, 100, 175)\", \"line\": {\"color\": \"black\", \"width\": 0.5}, \"size\": 8, \"symbol\": \"square\"}, \"mode\": \"markers\", \"showlegend\": false, \"type\": \"scatter\", \"x\": [-12.096001625061035, -12.054524421691895, -12.098197937011719, -12.013887405395508], \"y\": [-13.50966739654541, -13.641463279724121, -13.998773574829102, -13.528773307800293]}, {\"marker\": {\"color\": \"rgb(217, 72, 42)\", \"line\": {\"color\": \"black\", \"width\": 0.5}, \"size\": 8, \"symbol\": \"square\"}, \"mode\": \"markers\", \"showlegend\": false, \"type\": \"scatter\", \"x\": [-11.392592430114746, -11.310439109802246, -11.235539436340332, -11.392395973205566], \"y\": [-14.245079040527344, -14.336584091186523, -14.287943840026855, -14.281716346740723]}, {\"marker\": {\"color\": \"rgb(146, 54, 132)\", \"line\": {\"color\": \"black\", \"width\": 0.5}, \"size\": 8, \"symbol\": \"square\"}, \"mode\": \"markers\", \"showlegend\": false, \"type\": \"scatter\", \"x\": [-14.251317024230957, -14.259977340698242, -14.263602256774902, -14.273890495300293], \"y\": [-15.573521614074707, -15.62923526763916, -15.562224388122559, -15.597841262817383]}, {\"marker\": {\"color\": \"rgb(175, 127, 91)\", \"line\": {\"color\": \"black\", \"width\": 0.5}, \"size\": 8, \"symbol\": \"square\"}, \"mode\": \"markers\", \"showlegend\": false, \"type\": \"scatter\", \"x\": [-12.978920936584473, -13.147254943847656, -12.884052276611328, -12.900629043579102], \"y\": [-14.297561645507812, -14.211247444152832, -14.394020080566406, -14.511423110961914]}, {\"marker\": {\"color\": \"rgb(166.0, 193, 223)\", \"line\": {\"color\": \"black\", \"width\": 0.5}, \"size\": 8, \"symbol\": \"square\"}, \"mode\": \"markers\", \"showlegend\": false, \"type\": \"scatter\", \"x\": [-14.671293258666992, -14.679094314575195, -14.669947624206543, -14.67436695098877], \"y\": [-12.487035751342773, -12.486193656921387, -12.49660873413086, -12.50556755065918]}],                        {\"height\": 475, \"legend\": {\"font\": {\"color\": \"black\", \"family\": \"Myriad Pro\", \"size\": 12}, \"orientation\": \"h\", \"x\": 0.1, \"y\": -0.15}, \"template\": {\"data\": {\"scatter\": [{\"type\": \"scatter\"}]}}, \"width\": 430, \"xaxis\": {\"linecolor\": \"black\", \"linewidth\": 1, \"mirror\": true, \"nticks\": 8, \"showgrid\": true, \"showline\": true, \"side\": \"bottom\", \"tickangle\": 0, \"tickcolor\": \"black\", \"tickfont\": {\"color\": \"black\", \"family\": \"Myriad Pro\", \"size\": 16}, \"ticklen\": 4, \"ticks\": \"outside\", \"title\": {\"font\": {\"color\": \"black\", \"family\": \"Myriad Pro\", \"size\": 16}, \"standoff\": 0.5, \"text\": \"Component 1\"}, \"zeroline\": true}, \"yaxis\": {\"anchor\": \"x\", \"linecolor\": \"black\", \"linewidth\": 1, \"mirror\": true, \"showgrid\": true, \"showline\": true, \"side\": \"left\", \"tickangle\": 0, \"tickcolor\": \"black\", \"tickfont\": {\"color\": \"black\", \"family\": \"Myriad Pro\", \"size\": 16}, \"ticklen\": 4, \"ticks\": \"outside\", \"title\": {\"font\": {\"color\": \"black\", \"family\": \"Myriad Pro\", \"size\": 16}, \"text\": \"Component 2\"}, \"zeroline\": true}},                        {\"responsive\": true}                    ).then(function(){\n",
       "                            \n",
       "var gd = document.getElementById('5d016307-1928-4a73-827b-654a4871779c');\n",
       "var x = new MutationObserver(function (mutations, observer) {{\n",
       "        var display = window.getComputedStyle(gd).display;\n",
       "        if (!display || display === 'none') {{\n",
       "            console.log([gd, 'removed!']);\n",
       "            Plotly.purge(gd);\n",
       "            observer.disconnect();\n",
       "        }}\n",
       "}});\n",
       "\n",
       "// Listen for the removal of the full notebook cells\n",
       "var notebookContainer = gd.closest('#notebook-container');\n",
       "if (notebookContainer) {{\n",
       "    x.observe(notebookContainer, {childList: true});\n",
       "}}\n",
       "\n",
       "// Listen for the clearing of the current output cell\n",
       "var outputEl = gd.closest('.output');\n",
       "if (outputEl) {{\n",
       "    x.observe(outputEl, {childList: true});\n",
       "}}\n",
       "\n",
       "                        })                };                });            </script>        </div>"
      ]
     },
     "metadata": {},
     "output_type": "display_data"
    }
   ],
   "source": [
    "features = [ 'acetate_yield', \n",
    "             'formate_yield',\n",
    "             'lactate_yield',\n",
    "             'pyruvate_yield',\n",
    "             'succinate_yield',\n",
    "            'growth_rate']\n",
    "fig = tsne_plot(features,15,10)\n",
    "#pio.write_image(fig,\"/Figures/si_fig_red_tsne.svg\",format='svg')\n"
   ]
  },
  {
   "cell_type": "markdown",
   "id": "differential-brunswick",
   "metadata": {},
   "source": [
    "### Plot analyte data for all strains ###"
   ]
  },
  {
   "cell_type": "code",
   "execution_count": 65,
   "id": "third-cyprus",
   "metadata": {
    "scrolled": false
   },
   "outputs": [
    {
     "name": "stdout",
     "output_type": "stream",
     "text": [
      "WT\n"
     ]
    },
    {
     "name": "stderr",
     "output_type": "stream",
     "text": [
      "C:\\Users\\User\\anaconda3\\envs\\impact\\lib\\site-packages\\ipykernel_launcher.py:75: RuntimeWarning:\n",
      "\n",
      "invalid value encountered in double_scalars\n",
      "\n"
     ]
    },
    {
     "data": {
      "application/vnd.plotly.v1+json": {
       "config": {
        "linkText": "Export to plot.ly",
        "plotlyServerURL": "https://plot.ly",
        "showLink": false
       },
       "data": [
        {
         "marker": {
          "color": "rgb(54, 146, 68)",
          "line": {
           "color": "rgb(54, 146, 68)",
           "width": 0
          }
         },
         "name": "Bioreactor",
         "type": "bar",
         "x": [
          "Acetate",
          "Formate",
          "Lactate",
          "Pyruvate",
          "Succinate"
         ],
         "y": [
          0.8060154879177284,
          1.3925461071228267,
          0.4919119156905717,
          0.041742328954125996,
          0.030297716512120546
         ]
        },
        {
         "marker": {
          "color": "rgb(54, 146, 68)",
          "line": {
           "color": "black",
           "width": 0
          }
         },
         "name": "Bioreactor",
         "showlegend": false,
         "type": "bar",
         "x": [
          "Growth Rate"
         ],
         "y": [
          0.7109732389464621
         ],
         "yaxis": "y2"
        },
        {
         "error_y": {
          "array": [
           0.024752020379095192,
           0.027648939632702926,
           0.03351005686930139,
           0.0032752027046857703,
           0.0020485757348140485
          ],
          "color": "black",
          "thickness": 1.5,
          "type": "data",
          "width": 3
         },
         "marker": {
          "color": "rgb(33, 100, 175)",
          "line": {
           "color": "rgb(54, 146, 68)",
           "width": 0
          }
         },
         "name": "Base Media",
         "type": "bar",
         "width": 0.09,
         "x": [
          "Acetate",
          "Formate",
          "Lactate",
          "Pyruvate",
          "Succinate"
         ],
         "y": [
          0.7318828556268225,
          0.7450495741799906,
          0.9010885167379157,
          0.06990789295008934,
          0.04043833064591806
         ]
        },
        {
         "error_y": {
          "array": [
           0.008339708605207307
          ],
          "color": "black",
          "thickness": 1.5,
          "type": "data",
          "width": 3
         },
         "marker": {
          "color": "rgb(33, 100, 175)",
          "line": {
           "color": "black",
           "width": 0
          }
         },
         "name": "Base Media",
         "showlegend": false,
         "type": "bar",
         "width": 0.09,
         "x": [
          "Growth Rate"
         ],
         "y": [
          0.7690088331678319
         ],
         "yaxis": "y2"
        },
        {
         "error_y": {
          "array": [
           0.02344213081931534,
           0.00726847332323296,
           0.01764389060403206,
           0.0017946583290701515,
           0.0015506272432283465
          ],
          "color": "black",
          "thickness": 1.5,
          "type": "data",
          "width": 3
         },
         "marker": {
          "color": "rgb(217, 72, 42)",
          "line": {
           "color": "rgb(54, 146, 68)",
           "width": 0
          }
         },
         "name": "Cysteine",
         "type": "bar",
         "width": 0.09,
         "x": [
          "Acetate",
          "Formate",
          "Lactate",
          "Pyruvate",
          "Succinate"
         ],
         "y": [
          0.7315511872079731,
          0.6794110830836128,
          0.9055091405911073,
          0.04668264538226777,
          0.03107427726076773
         ]
        },
        {
         "error_y": {
          "array": [
           0.029391992467870626
          ],
          "color": "black",
          "thickness": 1.5,
          "type": "data",
          "width": 3
         },
         "marker": {
          "color": "rgb(217, 72, 42)",
          "line": {
           "color": "black",
           "width": 0
          }
         },
         "name": "Cysteine",
         "showlegend": false,
         "type": "bar",
         "width": 0.09,
         "x": [
          "Growth Rate"
         ],
         "y": [
          0.7343137335752479
         ],
         "yaxis": "y2"
        },
        {
         "error_y": {
          "array": [
           0.04845730246346386,
           0.032759199191086705,
           0.03709385614863844,
           0.005626008923006938,
           0.004592855019945912
          ],
          "color": "black",
          "thickness": 1.5,
          "type": "data",
          "width": 3
         },
         "marker": {
          "color": "rgb(146, 54, 132)",
          "line": {
           "color": "rgb(54, 146, 68)",
           "width": 0
          }
         },
         "name": "DTT",
         "type": "bar",
         "width": 0.09,
         "x": [
          "Acetate",
          "Formate",
          "Lactate",
          "Pyruvate",
          "Succinate"
         ],
         "y": [
          0.7118741499908553,
          0.6769023968440078,
          0.7873379123246989,
          0.09284340079958463,
          0.04820382830432783
         ]
        },
        {
         "error_y": {
          "array": [
           0.012632057841164718
          ],
          "color": "black",
          "thickness": 1.5,
          "type": "data",
          "width": 3
         },
         "marker": {
          "color": "rgb(146, 54, 132)",
          "line": {
           "color": "black",
           "width": 0
          }
         },
         "name": "DTT",
         "showlegend": false,
         "type": "bar",
         "width": 0.09,
         "x": [
          "Growth Rate"
         ],
         "y": [
          0.6295560413547718
         ],
         "yaxis": "y2"
        },
        {
         "error_y": {
          "array": [
           0.026978003709171028,
           0.021617405716528888,
           0.02848598661284533,
           0.0010354412440358935,
           0.002127579383910239
          ],
          "color": "black",
          "thickness": 1.5,
          "type": "data",
          "width": 3
         },
         "marker": {
          "color": "rgb(175, 127, 91)",
          "line": {
           "color": "rgb(54, 146, 68)",
           "width": 0
          }
         },
         "name": "Sulfide",
         "type": "bar",
         "width": 0.09,
         "x": [
          "Acetate",
          "Formate",
          "Lactate",
          "Pyruvate",
          "Succinate"
         ],
         "y": [
          0.786725239762278,
          0.6379965689092063,
          0.6762836323708626,
          0.013519863546178065,
          0.03740361611188376
         ]
        },
        {
         "error_y": {
          "array": [
           0.02038104064939233
          ],
          "color": "black",
          "thickness": 1.5,
          "type": "data",
          "width": 3
         },
         "marker": {
          "color": "rgb(175, 127, 91)",
          "line": {
           "color": "black",
           "width": 0
          }
         },
         "name": "Sulfide",
         "showlegend": false,
         "type": "bar",
         "width": 0.09,
         "x": [
          "Growth Rate"
         ],
         "y": [
          0.6598999155572698
         ],
         "yaxis": "y2"
        },
        {
         "error_y": {
          "array": [
           0.021726481477385807,
           0.014813752607947777,
           0.015627830723502524,
           null,
           0.00262962005108264
          ],
          "color": "black",
          "thickness": 1.5,
          "type": "data",
          "width": 3
         },
         "marker": {
          "color": "rgb(166.0, 193, 223)",
          "line": {
           "color": "rgb(54, 146, 68)",
           "width": 0
          }
         },
         "name": "pH 8",
         "type": "bar",
         "width": 0.09,
         "x": [
          "Acetate",
          "Formate",
          "Lactate",
          "Pyruvate",
          "Succinate"
         ],
         "y": [
          1.0275286443484137,
          0.9042483191108109,
          0.5774055952024608,
          0,
          0.08482419999844318
         ]
        },
        {
         "error_y": {
          "array": [
           0.008298107896001656
          ],
          "color": "black",
          "thickness": 1.5,
          "type": "data",
          "width": 3
         },
         "marker": {
          "color": "rgb(166.0, 193, 223)",
          "line": {
           "color": "black",
           "width": 0
          }
         },
         "name": "pH 8",
         "showlegend": false,
         "type": "bar",
         "width": 0.09,
         "x": [
          "Growth Rate"
         ],
         "y": [
          0.7596074416866798
         ],
         "yaxis": "y2"
        }
       ],
       "layout": {
        "bargap": 0.4,
        "bargroupgap": 0.1,
        "height": 400,
        "legend": {
         "font": {
          "color": "black",
          "family": "Myriad Pro",
          "size": 14
         },
         "orientation": "h",
         "x": 0.1,
         "y": -0.2
        },
        "template": {
         "data": {
          "scatter": [
           {
            "type": "scatter"
           }
          ]
         }
        },
        "width": 925,
        "xaxis": {
         "linecolor": "black",
         "linewidth": 1,
         "mirror": true,
         "nticks": 8,
         "showgrid": false,
         "showline": true,
         "side": "bottom",
         "tickangle": 0,
         "tickcolor": "black",
         "tickfont": {
          "color": "black",
          "family": "Myriad Pro",
          "size": 16
         },
         "ticklen": 4,
         "ticks": "outside",
         "title": {
          "font": {
           "color": "black",
           "family": "Myriad Pro",
           "size": 18
          },
          "standoff": 5,
          "text": "Product"
         },
         "zeroline": false
        },
        "yaxis": {
         "linecolor": "black",
         "linewidth": 1,
         "mirror": true,
         "nticks": 5,
         "range": [
          0,
          1.8
         ],
         "showgrid": true,
         "showline": true,
         "side": "left",
         "tickangle": 0,
         "tickcolor": "black",
         "tickfont": {
          "color": "black",
          "family": "Myriad Pro",
          "size": 16
         },
         "ticklen": 4,
         "ticks": "outside",
         "title": {
          "font": {
           "color": "black",
           "family": "Myriad Pro",
           "size": 18
          },
          "text": "Product Yield<br>(mmol Product/mmol Glucose)"
         },
         "zeroline": false
        },
        "yaxis2": {
         "anchor": "x",
         "dtick": 0.25,
         "linecolor": "black",
         "linewidth": 1,
         "mirror": true,
         "nticks": 4,
         "overlaying": "y",
         "range": [
          0,
          0.9
         ],
         "showgrid": true,
         "showline": true,
         "side": "right",
         "tickangle": 0,
         "tickcolor": "black",
         "tickfont": {
          "color": "black",
          "family": "Myriad Pro",
          "size": 16
         },
         "ticklen": 4,
         "ticks": "outside",
         "title": {
          "font": {
           "color": "black",
           "family": "Myriad Pro",
           "size": 18
          },
          "text": "Biomass Yield<br>(g Biomass/g Glucose)"
         },
         "zeroline": false
        }
       }
      },
      "text/html": [
       "<div>                            <div id=\"01756692-7724-41ef-8a9d-b143a41e8792\" class=\"plotly-graph-div\" style=\"height:400px; width:925px;\"></div>            <script type=\"text/javascript\">                require([\"plotly\"], function(Plotly) {                    window.PLOTLYENV=window.PLOTLYENV || {};                                    if (document.getElementById(\"01756692-7724-41ef-8a9d-b143a41e8792\")) {                    Plotly.newPlot(                        \"01756692-7724-41ef-8a9d-b143a41e8792\",                        [{\"marker\": {\"color\": \"rgb(54, 146, 68)\", \"line\": {\"color\": \"rgb(54, 146, 68)\", \"width\": 0}}, \"name\": \"Bioreactor\", \"type\": \"bar\", \"x\": [\"Acetate\", \"Formate\", \"Lactate\", \"Pyruvate\", \"Succinate\"], \"y\": [0.8060154879177284, 1.3925461071228267, 0.4919119156905717, 0.041742328954125996, 0.030297716512120546]}, {\"marker\": {\"color\": \"rgb(54, 146, 68)\", \"line\": {\"color\": \"black\", \"width\": 0}}, \"name\": \"Bioreactor\", \"showlegend\": false, \"type\": \"bar\", \"x\": [\"Growth Rate\"], \"y\": [0.7109732389464621], \"yaxis\": \"y2\"}, {\"error_y\": {\"array\": [0.024752020379095192, 0.027648939632702926, 0.03351005686930139, 0.0032752027046857703, 0.0020485757348140485], \"color\": \"black\", \"thickness\": 1.5, \"type\": \"data\", \"width\": 3}, \"marker\": {\"color\": \"rgb(33, 100, 175)\", \"line\": {\"color\": \"rgb(54, 146, 68)\", \"width\": 0}}, \"name\": \"Base Media\", \"type\": \"bar\", \"width\": 0.09, \"x\": [\"Acetate\", \"Formate\", \"Lactate\", \"Pyruvate\", \"Succinate\"], \"y\": [0.7318828556268225, 0.7450495741799906, 0.9010885167379157, 0.06990789295008934, 0.04043833064591806]}, {\"error_y\": {\"array\": [0.008339708605207307], \"color\": \"black\", \"thickness\": 1.5, \"type\": \"data\", \"width\": 3}, \"marker\": {\"color\": \"rgb(33, 100, 175)\", \"line\": {\"color\": \"black\", \"width\": 0}}, \"name\": \"Base Media\", \"showlegend\": false, \"type\": \"bar\", \"width\": 0.09, \"x\": [\"Growth Rate\"], \"y\": [0.7690088331678319], \"yaxis\": \"y2\"}, {\"error_y\": {\"array\": [0.02344213081931534, 0.00726847332323296, 0.01764389060403206, 0.0017946583290701515, 0.0015506272432283465], \"color\": \"black\", \"thickness\": 1.5, \"type\": \"data\", \"width\": 3}, \"marker\": {\"color\": \"rgb(217, 72, 42)\", \"line\": {\"color\": \"rgb(54, 146, 68)\", \"width\": 0}}, \"name\": \"Cysteine\", \"type\": \"bar\", \"width\": 0.09, \"x\": [\"Acetate\", \"Formate\", \"Lactate\", \"Pyruvate\", \"Succinate\"], \"y\": [0.7315511872079731, 0.6794110830836128, 0.9055091405911073, 0.04668264538226777, 0.03107427726076773]}, {\"error_y\": {\"array\": [0.029391992467870626], \"color\": \"black\", \"thickness\": 1.5, \"type\": \"data\", \"width\": 3}, \"marker\": {\"color\": \"rgb(217, 72, 42)\", \"line\": {\"color\": \"black\", \"width\": 0}}, \"name\": \"Cysteine\", \"showlegend\": false, \"type\": \"bar\", \"width\": 0.09, \"x\": [\"Growth Rate\"], \"y\": [0.7343137335752479], \"yaxis\": \"y2\"}, {\"error_y\": {\"array\": [0.04845730246346386, 0.032759199191086705, 0.03709385614863844, 0.005626008923006938, 0.004592855019945912], \"color\": \"black\", \"thickness\": 1.5, \"type\": \"data\", \"width\": 3}, \"marker\": {\"color\": \"rgb(146, 54, 132)\", \"line\": {\"color\": \"rgb(54, 146, 68)\", \"width\": 0}}, \"name\": \"DTT\", \"type\": \"bar\", \"width\": 0.09, \"x\": [\"Acetate\", \"Formate\", \"Lactate\", \"Pyruvate\", \"Succinate\"], \"y\": [0.7118741499908553, 0.6769023968440078, 0.7873379123246989, 0.09284340079958463, 0.04820382830432783]}, {\"error_y\": {\"array\": [0.012632057841164718], \"color\": \"black\", \"thickness\": 1.5, \"type\": \"data\", \"width\": 3}, \"marker\": {\"color\": \"rgb(146, 54, 132)\", \"line\": {\"color\": \"black\", \"width\": 0}}, \"name\": \"DTT\", \"showlegend\": false, \"type\": \"bar\", \"width\": 0.09, \"x\": [\"Growth Rate\"], \"y\": [0.6295560413547718], \"yaxis\": \"y2\"}, {\"error_y\": {\"array\": [0.026978003709171028, 0.021617405716528888, 0.02848598661284533, 0.0010354412440358935, 0.002127579383910239], \"color\": \"black\", \"thickness\": 1.5, \"type\": \"data\", \"width\": 3}, \"marker\": {\"color\": \"rgb(175, 127, 91)\", \"line\": {\"color\": \"rgb(54, 146, 68)\", \"width\": 0}}, \"name\": \"Sulfide\", \"type\": \"bar\", \"width\": 0.09, \"x\": [\"Acetate\", \"Formate\", \"Lactate\", \"Pyruvate\", \"Succinate\"], \"y\": [0.786725239762278, 0.6379965689092063, 0.6762836323708626, 0.013519863546178065, 0.03740361611188376]}, {\"error_y\": {\"array\": [0.02038104064939233], \"color\": \"black\", \"thickness\": 1.5, \"type\": \"data\", \"width\": 3}, \"marker\": {\"color\": \"rgb(175, 127, 91)\", \"line\": {\"color\": \"black\", \"width\": 0}}, \"name\": \"Sulfide\", \"showlegend\": false, \"type\": \"bar\", \"width\": 0.09, \"x\": [\"Growth Rate\"], \"y\": [0.6598999155572698], \"yaxis\": \"y2\"}, {\"error_y\": {\"array\": [0.021726481477385807, 0.014813752607947777, 0.015627830723502524, null, 0.00262962005108264], \"color\": \"black\", \"thickness\": 1.5, \"type\": \"data\", \"width\": 3}, \"marker\": {\"color\": \"rgb(166.0, 193, 223)\", \"line\": {\"color\": \"rgb(54, 146, 68)\", \"width\": 0}}, \"name\": \"pH 8\", \"type\": \"bar\", \"width\": 0.09, \"x\": [\"Acetate\", \"Formate\", \"Lactate\", \"Pyruvate\", \"Succinate\"], \"y\": [1.0275286443484137, 0.9042483191108109, 0.5774055952024608, 0.0, 0.08482419999844318]}, {\"error_y\": {\"array\": [0.008298107896001656], \"color\": \"black\", \"thickness\": 1.5, \"type\": \"data\", \"width\": 3}, \"marker\": {\"color\": \"rgb(166.0, 193, 223)\", \"line\": {\"color\": \"black\", \"width\": 0}}, \"name\": \"pH 8\", \"showlegend\": false, \"type\": \"bar\", \"width\": 0.09, \"x\": [\"Growth Rate\"], \"y\": [0.7596074416866798], \"yaxis\": \"y2\"}],                        {\"bargap\": 0.4, \"bargroupgap\": 0.1, \"height\": 400, \"legend\": {\"font\": {\"color\": \"black\", \"family\": \"Myriad Pro\", \"size\": 14}, \"orientation\": \"h\", \"x\": 0.1, \"y\": -0.2}, \"template\": {\"data\": {\"scatter\": [{\"type\": \"scatter\"}]}}, \"width\": 925, \"xaxis\": {\"linecolor\": \"black\", \"linewidth\": 1, \"mirror\": true, \"nticks\": 8, \"showgrid\": false, \"showline\": true, \"side\": \"bottom\", \"tickangle\": 0, \"tickcolor\": \"black\", \"tickfont\": {\"color\": \"black\", \"family\": \"Myriad Pro\", \"size\": 16}, \"ticklen\": 4, \"ticks\": \"outside\", \"title\": {\"font\": {\"color\": \"black\", \"family\": \"Myriad Pro\", \"size\": 18}, \"standoff\": 5, \"text\": \"Product\"}, \"zeroline\": false}, \"yaxis\": {\"linecolor\": \"black\", \"linewidth\": 1, \"mirror\": true, \"nticks\": 5, \"range\": [0, 1.8], \"showgrid\": true, \"showline\": true, \"side\": \"left\", \"tickangle\": 0, \"tickcolor\": \"black\", \"tickfont\": {\"color\": \"black\", \"family\": \"Myriad Pro\", \"size\": 16}, \"ticklen\": 4, \"ticks\": \"outside\", \"title\": {\"font\": {\"color\": \"black\", \"family\": \"Myriad Pro\", \"size\": 18}, \"text\": \"Product Yield<br>(mmol Product/mmol Glucose)\"}, \"zeroline\": false}, \"yaxis2\": {\"anchor\": \"x\", \"dtick\": 0.25, \"linecolor\": \"black\", \"linewidth\": 1, \"mirror\": true, \"nticks\": 4, \"overlaying\": \"y\", \"range\": [0, 0.9], \"showgrid\": true, \"showline\": true, \"side\": \"right\", \"tickangle\": 0, \"tickcolor\": \"black\", \"tickfont\": {\"color\": \"black\", \"family\": \"Myriad Pro\", \"size\": 16}, \"ticklen\": 4, \"ticks\": \"outside\", \"title\": {\"font\": {\"color\": \"black\", \"family\": \"Myriad Pro\", \"size\": 18}, \"text\": \"Biomass Yield<br>(g Biomass/g Glucose)\"}, \"zeroline\": false}},                        {\"responsive\": true}                    ).then(function(){\n",
       "                            \n",
       "var gd = document.getElementById('01756692-7724-41ef-8a9d-b143a41e8792');\n",
       "var x = new MutationObserver(function (mutations, observer) {{\n",
       "        var display = window.getComputedStyle(gd).display;\n",
       "        if (!display || display === 'none') {{\n",
       "            console.log([gd, 'removed!']);\n",
       "            Plotly.purge(gd);\n",
       "            observer.disconnect();\n",
       "        }}\n",
       "}});\n",
       "\n",
       "// Listen for the removal of the full notebook cells\n",
       "var notebookContainer = gd.closest('#notebook-container');\n",
       "if (notebookContainer) {{\n",
       "    x.observe(notebookContainer, {childList: true});\n",
       "}}\n",
       "\n",
       "// Listen for the clearing of the current output cell\n",
       "var outputEl = gd.closest('.output');\n",
       "if (outputEl) {{\n",
       "    x.observe(outputEl, {childList: true});\n",
       "}}\n",
       "\n",
       "                        })                };                });            </script>        </div>"
      ]
     },
     "metadata": {},
     "output_type": "display_data"
    },
    {
     "name": "stdout",
     "output_type": "stream",
     "text": [
      "Δ(adh,pta)-D1\n"
     ]
    },
    {
     "data": {
      "application/vnd.plotly.v1+json": {
       "config": {
        "linkText": "Export to plot.ly",
        "plotlyServerURL": "https://plot.ly",
        "showLink": false
       },
       "data": [
        {
         "marker": {
          "color": "rgb(54, 146, 68)",
          "line": {
           "color": "rgb(54, 146, 68)",
           "width": 0
          }
         },
         "name": "Bioreactor",
         "type": "bar",
         "x": [
          "Acetate",
          "Formate",
          "Lactate",
          "Pyruvate",
          "Succinate"
         ],
         "y": [
          0.023084363146880827,
          0.05622689478272353,
          1.4697791812637304,
          0.09466701597908432,
          0.06834418713319285
         ]
        },
        {
         "marker": {
          "color": "rgb(54, 146, 68)",
          "line": {
           "color": "black",
           "width": 0
          }
         },
         "name": "Bioreactor",
         "showlegend": false,
         "type": "bar",
         "x": [
          "Growth Rate"
         ],
         "y": [
          0.2784112302710221
         ],
         "yaxis": "y2"
        },
        {
         "error_y": {
          "array": [
           0.006747685660285795,
           0.0023949528480876328,
           0.03674064241634505,
           0.0035316864265399527,
           0.002937494696225089
          ],
          "color": "black",
          "thickness": 1.5,
          "type": "data",
          "width": 3
         },
         "marker": {
          "color": "rgb(33, 100, 175)",
          "line": {
           "color": "rgb(54, 146, 68)",
           "width": 0
          }
         },
         "name": "Base Media",
         "type": "bar",
         "width": 0.09,
         "x": [
          "Acetate",
          "Formate",
          "Lactate",
          "Pyruvate",
          "Succinate"
         ],
         "y": [
          0.27522137667732205,
          0.022412967986625783,
          1.592350504296168,
          0.12514721421747882,
          0.09329133485976347
         ]
        },
        {
         "error_y": {
          "array": [
           0.010398525872156835
          ],
          "color": "black",
          "thickness": 1.5,
          "type": "data",
          "width": 3
         },
         "marker": {
          "color": "rgb(33, 100, 175)",
          "line": {
           "color": "black",
           "width": 0
          }
         },
         "name": "Base Media",
         "showlegend": false,
         "type": "bar",
         "width": 0.09,
         "x": [
          "Growth Rate"
         ],
         "y": [
          0.40461376515862824
         ],
         "yaxis": "y2"
        },
        {
         "error_y": {
          "array": [
           0.005313476845669118,
           0.0024469080773927188,
           0.018648506491726485,
           0.002688797770429953,
           0.002419752637858355
          ],
          "color": "black",
          "thickness": 1.5,
          "type": "data",
          "width": 3
         },
         "marker": {
          "color": "rgb(217, 72, 42)",
          "line": {
           "color": "rgb(54, 146, 68)",
           "width": 0
          }
         },
         "name": "Cysteine",
         "type": "bar",
         "width": 0.09,
         "x": [
          "Acetate",
          "Formate",
          "Lactate",
          "Pyruvate",
          "Succinate"
         ],
         "y": [
          0.24674949981871266,
          0.014594525105797939,
          1.521471450063748,
          0.1313040315356757,
          0.09533189077724803
         ]
        },
        {
         "error_y": {
          "array": [
           0.008924080173673589
          ],
          "color": "black",
          "thickness": 1.5,
          "type": "data",
          "width": 3
         },
         "marker": {
          "color": "rgb(217, 72, 42)",
          "line": {
           "color": "black",
           "width": 0
          }
         },
         "name": "Cysteine",
         "showlegend": false,
         "type": "bar",
         "width": 0.09,
         "x": [
          "Growth Rate"
         ],
         "y": [
          0.4333485068641647
         ],
         "yaxis": "y2"
        },
        {
         "error_y": {
          "array": [
           0.03626152325230078,
           0.010678820375525326,
           0.06086841336395124,
           0.004111640317936121,
           0.00494031160626303
          ],
          "color": "black",
          "thickness": 1.5,
          "type": "data",
          "width": 3
         },
         "marker": {
          "color": "rgb(146, 54, 132)",
          "line": {
           "color": "rgb(54, 146, 68)",
           "width": 0
          }
         },
         "name": "DTT",
         "type": "bar",
         "width": 0.09,
         "x": [
          "Acetate",
          "Formate",
          "Lactate",
          "Pyruvate",
          "Succinate"
         ],
         "y": [
          0.27700718863122903,
          0.11770560779623515,
          1.427144132048489,
          0.10281534325355415,
          0.09269010498503456
         ]
        },
        {
         "error_y": {
          "array": [
           0.010324152564972312
          ],
          "color": "black",
          "thickness": 1.5,
          "type": "data",
          "width": 3
         },
         "marker": {
          "color": "rgb(146, 54, 132)",
          "line": {
           "color": "black",
           "width": 0
          }
         },
         "name": "DTT",
         "showlegend": false,
         "type": "bar",
         "width": 0.09,
         "x": [
          "Growth Rate"
         ],
         "y": [
          0.36755424630890055
         ],
         "yaxis": "y2"
        },
        {
         "error_y": {
          "array": [
           0.0068196486233691,
           null,
           0.045700662420007594,
           0.006563790138786298,
           0.003054425088258169
          ],
          "color": "black",
          "thickness": 1.5,
          "type": "data",
          "width": 3
         },
         "marker": {
          "color": "rgb(175, 127, 91)",
          "line": {
           "color": "rgb(54, 146, 68)",
           "width": 0
          }
         },
         "name": "Sulfide",
         "type": "bar",
         "width": 0.09,
         "x": [
          "Acetate",
          "Formate",
          "Lactate",
          "Pyruvate",
          "Succinate"
         ],
         "y": [
          0.18030291310617294,
          0,
          1.309049571728024,
          0.1815128346866368,
          0.08907639051012017
         ]
        },
        {
         "error_y": {
          "array": [
           0.008299373838662374
          ],
          "color": "black",
          "thickness": 1.5,
          "type": "data",
          "width": 3
         },
         "marker": {
          "color": "rgb(175, 127, 91)",
          "line": {
           "color": "black",
           "width": 0
          }
         },
         "name": "Sulfide",
         "showlegend": false,
         "type": "bar",
         "width": 0.09,
         "x": [
          "Growth Rate"
         ],
         "y": [
          0.4390158464258249
         ],
         "yaxis": "y2"
        },
        {
         "error_y": {
          "array": [
           0.012807885850615269,
           0.006128765044419871,
           0.02758032737169717,
           0.009247958838539563,
           0.0015932058818240934
          ],
          "color": "black",
          "thickness": 1.5,
          "type": "data",
          "width": 3
         },
         "marker": {
          "color": "rgb(166.0, 193, 223)",
          "line": {
           "color": "rgb(54, 146, 68)",
           "width": 0
          }
         },
         "name": "pH 8",
         "type": "bar",
         "width": 0.09,
         "x": [
          "Acetate",
          "Formate",
          "Lactate",
          "Pyruvate",
          "Succinate"
         ],
         "y": [
          0.20839201794219764,
          0.030343403491005318,
          1.425541654028629,
          0.19598343226824916,
          0.1379734360356074
         ]
        },
        {
         "error_y": {
          "array": [
           0.012167164345484927
          ],
          "color": "black",
          "thickness": 1.5,
          "type": "data",
          "width": 3
         },
         "marker": {
          "color": "rgb(166.0, 193, 223)",
          "line": {
           "color": "black",
           "width": 0
          }
         },
         "name": "pH 8",
         "showlegend": false,
         "type": "bar",
         "width": 0.09,
         "x": [
          "Growth Rate"
         ],
         "y": [
          0.4596607028614441
         ],
         "yaxis": "y2"
        }
       ],
       "layout": {
        "bargap": 0.4,
        "bargroupgap": 0.1,
        "height": 400,
        "legend": {
         "font": {
          "color": "black",
          "family": "Myriad Pro",
          "size": 14
         },
         "orientation": "h",
         "x": 0.1,
         "y": -0.2
        },
        "template": {
         "data": {
          "scatter": [
           {
            "type": "scatter"
           }
          ]
         }
        },
        "width": 925,
        "xaxis": {
         "linecolor": "black",
         "linewidth": 1,
         "mirror": true,
         "nticks": 8,
         "showgrid": false,
         "showline": true,
         "side": "bottom",
         "tickangle": 0,
         "tickcolor": "black",
         "tickfont": {
          "color": "black",
          "family": "Myriad Pro",
          "size": 16
         },
         "ticklen": 4,
         "ticks": "outside",
         "title": {
          "font": {
           "color": "black",
           "family": "Myriad Pro",
           "size": 18
          },
          "standoff": 5,
          "text": "Product"
         },
         "zeroline": false
        },
        "yaxis": {
         "linecolor": "black",
         "linewidth": 1,
         "mirror": true,
         "nticks": 5,
         "range": [
          0,
          1.8
         ],
         "showgrid": true,
         "showline": true,
         "side": "left",
         "tickangle": 0,
         "tickcolor": "black",
         "tickfont": {
          "color": "black",
          "family": "Myriad Pro",
          "size": 16
         },
         "ticklen": 4,
         "ticks": "outside",
         "title": {
          "font": {
           "color": "black",
           "family": "Myriad Pro",
           "size": 18
          },
          "text": "Product Yield<br>(mmol Product/mmol Glucose)"
         },
         "zeroline": false
        },
        "yaxis2": {
         "anchor": "x",
         "dtick": 0.25,
         "linecolor": "black",
         "linewidth": 1,
         "mirror": true,
         "nticks": 4,
         "overlaying": "y",
         "range": [
          0,
          0.9
         ],
         "showgrid": true,
         "showline": true,
         "side": "right",
         "tickangle": 0,
         "tickcolor": "black",
         "tickfont": {
          "color": "black",
          "family": "Myriad Pro",
          "size": 16
         },
         "ticklen": 4,
         "ticks": "outside",
         "title": {
          "font": {
           "color": "black",
           "family": "Myriad Pro",
           "size": 18
          },
          "text": "Biomass Yield<br>(g Biomass/g Glucose)"
         },
         "zeroline": false
        }
       }
      },
      "text/html": [
       "<div>                            <div id=\"4af64842-571b-4baf-92e7-ef1cf1016e75\" class=\"plotly-graph-div\" style=\"height:400px; width:925px;\"></div>            <script type=\"text/javascript\">                require([\"plotly\"], function(Plotly) {                    window.PLOTLYENV=window.PLOTLYENV || {};                                    if (document.getElementById(\"4af64842-571b-4baf-92e7-ef1cf1016e75\")) {                    Plotly.newPlot(                        \"4af64842-571b-4baf-92e7-ef1cf1016e75\",                        [{\"marker\": {\"color\": \"rgb(54, 146, 68)\", \"line\": {\"color\": \"rgb(54, 146, 68)\", \"width\": 0}}, \"name\": \"Bioreactor\", \"type\": \"bar\", \"x\": [\"Acetate\", \"Formate\", \"Lactate\", \"Pyruvate\", \"Succinate\"], \"y\": [0.023084363146880827, 0.05622689478272353, 1.4697791812637304, 0.09466701597908432, 0.06834418713319285]}, {\"marker\": {\"color\": \"rgb(54, 146, 68)\", \"line\": {\"color\": \"black\", \"width\": 0}}, \"name\": \"Bioreactor\", \"showlegend\": false, \"type\": \"bar\", \"x\": [\"Growth Rate\"], \"y\": [0.2784112302710221], \"yaxis\": \"y2\"}, {\"error_y\": {\"array\": [0.006747685660285795, 0.0023949528480876328, 0.03674064241634505, 0.0035316864265399527, 0.002937494696225089], \"color\": \"black\", \"thickness\": 1.5, \"type\": \"data\", \"width\": 3}, \"marker\": {\"color\": \"rgb(33, 100, 175)\", \"line\": {\"color\": \"rgb(54, 146, 68)\", \"width\": 0}}, \"name\": \"Base Media\", \"type\": \"bar\", \"width\": 0.09, \"x\": [\"Acetate\", \"Formate\", \"Lactate\", \"Pyruvate\", \"Succinate\"], \"y\": [0.27522137667732205, 0.022412967986625783, 1.592350504296168, 0.12514721421747882, 0.09329133485976347]}, {\"error_y\": {\"array\": [0.010398525872156835], \"color\": \"black\", \"thickness\": 1.5, \"type\": \"data\", \"width\": 3}, \"marker\": {\"color\": \"rgb(33, 100, 175)\", \"line\": {\"color\": \"black\", \"width\": 0}}, \"name\": \"Base Media\", \"showlegend\": false, \"type\": \"bar\", \"width\": 0.09, \"x\": [\"Growth Rate\"], \"y\": [0.40461376515862824], \"yaxis\": \"y2\"}, {\"error_y\": {\"array\": [0.005313476845669118, 0.0024469080773927188, 0.018648506491726485, 0.002688797770429953, 0.002419752637858355], \"color\": \"black\", \"thickness\": 1.5, \"type\": \"data\", \"width\": 3}, \"marker\": {\"color\": \"rgb(217, 72, 42)\", \"line\": {\"color\": \"rgb(54, 146, 68)\", \"width\": 0}}, \"name\": \"Cysteine\", \"type\": \"bar\", \"width\": 0.09, \"x\": [\"Acetate\", \"Formate\", \"Lactate\", \"Pyruvate\", \"Succinate\"], \"y\": [0.24674949981871266, 0.014594525105797939, 1.521471450063748, 0.1313040315356757, 0.09533189077724803]}, {\"error_y\": {\"array\": [0.008924080173673589], \"color\": \"black\", \"thickness\": 1.5, \"type\": \"data\", \"width\": 3}, \"marker\": {\"color\": \"rgb(217, 72, 42)\", \"line\": {\"color\": \"black\", \"width\": 0}}, \"name\": \"Cysteine\", \"showlegend\": false, \"type\": \"bar\", \"width\": 0.09, \"x\": [\"Growth Rate\"], \"y\": [0.4333485068641647], \"yaxis\": \"y2\"}, {\"error_y\": {\"array\": [0.03626152325230078, 0.010678820375525326, 0.06086841336395124, 0.004111640317936121, 0.00494031160626303], \"color\": \"black\", \"thickness\": 1.5, \"type\": \"data\", \"width\": 3}, \"marker\": {\"color\": \"rgb(146, 54, 132)\", \"line\": {\"color\": \"rgb(54, 146, 68)\", \"width\": 0}}, \"name\": \"DTT\", \"type\": \"bar\", \"width\": 0.09, \"x\": [\"Acetate\", \"Formate\", \"Lactate\", \"Pyruvate\", \"Succinate\"], \"y\": [0.27700718863122903, 0.11770560779623515, 1.427144132048489, 0.10281534325355415, 0.09269010498503456]}, {\"error_y\": {\"array\": [0.010324152564972312], \"color\": \"black\", \"thickness\": 1.5, \"type\": \"data\", \"width\": 3}, \"marker\": {\"color\": \"rgb(146, 54, 132)\", \"line\": {\"color\": \"black\", \"width\": 0}}, \"name\": \"DTT\", \"showlegend\": false, \"type\": \"bar\", \"width\": 0.09, \"x\": [\"Growth Rate\"], \"y\": [0.36755424630890055], \"yaxis\": \"y2\"}, {\"error_y\": {\"array\": [0.0068196486233691, null, 0.045700662420007594, 0.006563790138786298, 0.003054425088258169], \"color\": \"black\", \"thickness\": 1.5, \"type\": \"data\", \"width\": 3}, \"marker\": {\"color\": \"rgb(175, 127, 91)\", \"line\": {\"color\": \"rgb(54, 146, 68)\", \"width\": 0}}, \"name\": \"Sulfide\", \"type\": \"bar\", \"width\": 0.09, \"x\": [\"Acetate\", \"Formate\", \"Lactate\", \"Pyruvate\", \"Succinate\"], \"y\": [0.18030291310617294, 0.0, 1.309049571728024, 0.1815128346866368, 0.08907639051012017]}, {\"error_y\": {\"array\": [0.008299373838662374], \"color\": \"black\", \"thickness\": 1.5, \"type\": \"data\", \"width\": 3}, \"marker\": {\"color\": \"rgb(175, 127, 91)\", \"line\": {\"color\": \"black\", \"width\": 0}}, \"name\": \"Sulfide\", \"showlegend\": false, \"type\": \"bar\", \"width\": 0.09, \"x\": [\"Growth Rate\"], \"y\": [0.4390158464258249], \"yaxis\": \"y2\"}, {\"error_y\": {\"array\": [0.012807885850615269, 0.006128765044419871, 0.02758032737169717, 0.009247958838539563, 0.0015932058818240934], \"color\": \"black\", \"thickness\": 1.5, \"type\": \"data\", \"width\": 3}, \"marker\": {\"color\": \"rgb(166.0, 193, 223)\", \"line\": {\"color\": \"rgb(54, 146, 68)\", \"width\": 0}}, \"name\": \"pH 8\", \"type\": \"bar\", \"width\": 0.09, \"x\": [\"Acetate\", \"Formate\", \"Lactate\", \"Pyruvate\", \"Succinate\"], \"y\": [0.20839201794219764, 0.030343403491005318, 1.425541654028629, 0.19598343226824916, 0.1379734360356074]}, {\"error_y\": {\"array\": [0.012167164345484927], \"color\": \"black\", \"thickness\": 1.5, \"type\": \"data\", \"width\": 3}, \"marker\": {\"color\": \"rgb(166.0, 193, 223)\", \"line\": {\"color\": \"black\", \"width\": 0}}, \"name\": \"pH 8\", \"showlegend\": false, \"type\": \"bar\", \"width\": 0.09, \"x\": [\"Growth Rate\"], \"y\": [0.4596607028614441], \"yaxis\": \"y2\"}],                        {\"bargap\": 0.4, \"bargroupgap\": 0.1, \"height\": 400, \"legend\": {\"font\": {\"color\": \"black\", \"family\": \"Myriad Pro\", \"size\": 14}, \"orientation\": \"h\", \"x\": 0.1, \"y\": -0.2}, \"template\": {\"data\": {\"scatter\": [{\"type\": \"scatter\"}]}}, \"width\": 925, \"xaxis\": {\"linecolor\": \"black\", \"linewidth\": 1, \"mirror\": true, \"nticks\": 8, \"showgrid\": false, \"showline\": true, \"side\": \"bottom\", \"tickangle\": 0, \"tickcolor\": \"black\", \"tickfont\": {\"color\": \"black\", \"family\": \"Myriad Pro\", \"size\": 16}, \"ticklen\": 4, \"ticks\": \"outside\", \"title\": {\"font\": {\"color\": \"black\", \"family\": \"Myriad Pro\", \"size\": 18}, \"standoff\": 5, \"text\": \"Product\"}, \"zeroline\": false}, \"yaxis\": {\"linecolor\": \"black\", \"linewidth\": 1, \"mirror\": true, \"nticks\": 5, \"range\": [0, 1.8], \"showgrid\": true, \"showline\": true, \"side\": \"left\", \"tickangle\": 0, \"tickcolor\": \"black\", \"tickfont\": {\"color\": \"black\", \"family\": \"Myriad Pro\", \"size\": 16}, \"ticklen\": 4, \"ticks\": \"outside\", \"title\": {\"font\": {\"color\": \"black\", \"family\": \"Myriad Pro\", \"size\": 18}, \"text\": \"Product Yield<br>(mmol Product/mmol Glucose)\"}, \"zeroline\": false}, \"yaxis2\": {\"anchor\": \"x\", \"dtick\": 0.25, \"linecolor\": \"black\", \"linewidth\": 1, \"mirror\": true, \"nticks\": 4, \"overlaying\": \"y\", \"range\": [0, 0.9], \"showgrid\": true, \"showline\": true, \"side\": \"right\", \"tickangle\": 0, \"tickcolor\": \"black\", \"tickfont\": {\"color\": \"black\", \"family\": \"Myriad Pro\", \"size\": 16}, \"ticklen\": 4, \"ticks\": \"outside\", \"title\": {\"font\": {\"color\": \"black\", \"family\": \"Myriad Pro\", \"size\": 18}, \"text\": \"Biomass Yield<br>(g Biomass/g Glucose)\"}, \"zeroline\": false}},                        {\"responsive\": true}                    ).then(function(){\n",
       "                            \n",
       "var gd = document.getElementById('4af64842-571b-4baf-92e7-ef1cf1016e75');\n",
       "var x = new MutationObserver(function (mutations, observer) {{\n",
       "        var display = window.getComputedStyle(gd).display;\n",
       "        if (!display || display === 'none') {{\n",
       "            console.log([gd, 'removed!']);\n",
       "            Plotly.purge(gd);\n",
       "            observer.disconnect();\n",
       "        }}\n",
       "}});\n",
       "\n",
       "// Listen for the removal of the full notebook cells\n",
       "var notebookContainer = gd.closest('#notebook-container');\n",
       "if (notebookContainer) {{\n",
       "    x.observe(notebookContainer, {childList: true});\n",
       "}}\n",
       "\n",
       "// Listen for the clearing of the current output cell\n",
       "var outputEl = gd.closest('.output');\n",
       "if (outputEl) {{\n",
       "    x.observe(outputEl, {childList: true});\n",
       "}}\n",
       "\n",
       "                        })                };                });            </script>        </div>"
      ]
     },
     "metadata": {},
     "output_type": "display_data"
    },
    {
     "name": "stdout",
     "output_type": "stream",
     "text": [
      "Δ(adh,pta)-D28\n"
     ]
    },
    {
     "data": {
      "application/vnd.plotly.v1+json": {
       "config": {
        "linkText": "Export to plot.ly",
        "plotlyServerURL": "https://plot.ly",
        "showLink": false
       },
       "data": [
        {
         "marker": {
          "color": "rgb(54, 146, 68)",
          "line": {
           "color": "rgb(54, 146, 68)",
           "width": 0
          }
         },
         "name": "Bioreactor",
         "type": "bar",
         "x": [
          "Acetate",
          "Formate",
          "Lactate",
          "Pyruvate",
          "Succinate"
         ],
         "y": [
          0.04076278880994951,
          0.06546136816937519,
          1.5859815062058398,
          0.08388433316203511,
          0.06384610484559348
         ]
        },
        {
         "marker": {
          "color": "rgb(54, 146, 68)",
          "line": {
           "color": "black",
           "width": 0
          }
         },
         "name": "Bioreactor",
         "showlegend": false,
         "type": "bar",
         "x": [
          "Growth Rate"
         ],
         "y": [
          0.3790976624510501
         ],
         "yaxis": "y2"
        },
        {
         "error_y": {
          "array": [
           0.008024955834064167,
           0.0039237742692455205,
           0.037298373152884506,
           0.0039124662368706115,
           0.00342098217701379
          ],
          "color": "black",
          "thickness": 1.5,
          "type": "data",
          "width": 3
         },
         "marker": {
          "color": "rgb(33, 100, 175)",
          "line": {
           "color": "rgb(54, 146, 68)",
           "width": 0
          }
         },
         "name": "Base Media",
         "type": "bar",
         "width": 0.09,
         "x": [
          "Acetate",
          "Formate",
          "Lactate",
          "Pyruvate",
          "Succinate"
         ],
         "y": [
          0.2771423380627602,
          0.020853330798262043,
          1.5661317137308077,
          0.10516833321696906,
          0.10193349488146007
         ]
        },
        {
         "error_y": {
          "array": [
           0.0016899663557151175
          ],
          "color": "black",
          "thickness": 1.5,
          "type": "data",
          "width": 3
         },
         "marker": {
          "color": "rgb(33, 100, 175)",
          "line": {
           "color": "black",
           "width": 0
          }
         },
         "name": "Base Media",
         "showlegend": false,
         "type": "bar",
         "width": 0.09,
         "x": [
          "Growth Rate"
         ],
         "y": [
          0.4240532663876983
         ],
         "yaxis": "y2"
        },
        {
         "error_y": {
          "array": [
           0.00597891359484233,
           null,
           0.01857742355445236,
           0.0048877100823915606,
           0.0021189779522014676
          ],
          "color": "black",
          "thickness": 1.5,
          "type": "data",
          "width": 3
         },
         "marker": {
          "color": "rgb(217, 72, 42)",
          "line": {
           "color": "rgb(54, 146, 68)",
           "width": 0
          }
         },
         "name": "Cysteine",
         "type": "bar",
         "width": 0.09,
         "x": [
          "Acetate",
          "Formate",
          "Lactate",
          "Pyruvate",
          "Succinate"
         ],
         "y": [
          0.2647080596297636,
          0,
          1.4781947560291475,
          0.11815315590057872,
          0.0915097263917733
         ]
        },
        {
         "error_y": {
          "array": [
           0.008401260771642972
          ],
          "color": "black",
          "thickness": 1.5,
          "type": "data",
          "width": 3
         },
         "marker": {
          "color": "rgb(217, 72, 42)",
          "line": {
           "color": "black",
           "width": 0
          }
         },
         "name": "Cysteine",
         "showlegend": false,
         "type": "bar",
         "width": 0.09,
         "x": [
          "Growth Rate"
         ],
         "y": [
          0.47066643593869295
         ],
         "yaxis": "y2"
        },
        {
         "error_y": {
          "array": [
           0.0165698004990357,
           0.006942970320546833,
           0.05064525222083052,
           0.006184672164126385,
           0.0037820765418408713
          ],
          "color": "black",
          "thickness": 1.5,
          "type": "data",
          "width": 3
         },
         "marker": {
          "color": "rgb(146, 54, 132)",
          "line": {
           "color": "rgb(54, 146, 68)",
           "width": 0
          }
         },
         "name": "DTT",
         "type": "bar",
         "width": 0.09,
         "x": [
          "Acetate",
          "Formate",
          "Lactate",
          "Pyruvate",
          "Succinate"
         ],
         "y": [
          0.2360329044298991,
          0.08303167305573993,
          1.3709549541821717,
          0.08922614707380593,
          0.10291101170133923
         ]
        },
        {
         "error_y": {
          "array": [
           0.002272839265116495
          ],
          "color": "black",
          "thickness": 1.5,
          "type": "data",
          "width": 3
         },
         "marker": {
          "color": "rgb(146, 54, 132)",
          "line": {
           "color": "black",
           "width": 0
          }
         },
         "name": "DTT",
         "showlegend": false,
         "type": "bar",
         "width": 0.09,
         "x": [
          "Growth Rate"
         ],
         "y": [
          0.3818421558632966
         ],
         "yaxis": "y2"
        },
        {
         "error_y": {
          "array": [
           0.009991807289833753,
           null,
           0.05496336930688567,
           0.007734987198187729,
           0.00411590626575149
          ],
          "color": "black",
          "thickness": 1.5,
          "type": "data",
          "width": 3
         },
         "marker": {
          "color": "rgb(175, 127, 91)",
          "line": {
           "color": "rgb(54, 146, 68)",
           "width": 0
          }
         },
         "name": "Sulfide",
         "type": "bar",
         "width": 0.09,
         "x": [
          "Acetate",
          "Formate",
          "Lactate",
          "Pyruvate",
          "Succinate"
         ],
         "y": [
          0.22406625229055846,
          0,
          1.2486494726158026,
          0.19540907538648136,
          0.0989630379224759
         ]
        },
        {
         "error_y": {
          "array": [
           0.004082729122918352
          ],
          "color": "black",
          "thickness": 1.5,
          "type": "data",
          "width": 3
         },
         "marker": {
          "color": "rgb(175, 127, 91)",
          "line": {
           "color": "black",
           "width": 0
          }
         },
         "name": "Sulfide",
         "showlegend": false,
         "type": "bar",
         "width": 0.09,
         "x": [
          "Growth Rate"
         ],
         "y": [
          0.45529358538461706
         ],
         "yaxis": "y2"
        },
        {
         "error_y": {
          "array": [
           0.005422844103376041,
           0.0019786505201268706,
           0.042772735311573946,
           0.008645102702994366,
           0.0058367985312364435
          ],
          "color": "black",
          "thickness": 1.5,
          "type": "data",
          "width": 3
         },
         "marker": {
          "color": "rgb(166.0, 193, 223)",
          "line": {
           "color": "rgb(54, 146, 68)",
           "width": 0
          }
         },
         "name": "pH 8",
         "type": "bar",
         "width": 0.09,
         "x": [
          "Acetate",
          "Formate",
          "Lactate",
          "Pyruvate",
          "Succinate"
         ],
         "y": [
          0.2304488475885379,
          0.031354140984569664,
          1.364171134773246,
          0.21249054375134047,
          0.143461672365532
         ]
        },
        {
         "error_y": {
          "array": [
           0.014840321323396905
          ],
          "color": "black",
          "thickness": 1.5,
          "type": "data",
          "width": 3
         },
         "marker": {
          "color": "rgb(166.0, 193, 223)",
          "line": {
           "color": "black",
           "width": 0
          }
         },
         "name": "pH 8",
         "showlegend": false,
         "type": "bar",
         "width": 0.09,
         "x": [
          "Growth Rate"
         ],
         "y": [
          0.4778507908231767
         ],
         "yaxis": "y2"
        }
       ],
       "layout": {
        "bargap": 0.4,
        "bargroupgap": 0.1,
        "height": 400,
        "legend": {
         "font": {
          "color": "black",
          "family": "Myriad Pro",
          "size": 14
         },
         "orientation": "h",
         "x": 0.1,
         "y": -0.2
        },
        "template": {
         "data": {
          "scatter": [
           {
            "type": "scatter"
           }
          ]
         }
        },
        "width": 925,
        "xaxis": {
         "linecolor": "black",
         "linewidth": 1,
         "mirror": true,
         "nticks": 8,
         "showgrid": false,
         "showline": true,
         "side": "bottom",
         "tickangle": 0,
         "tickcolor": "black",
         "tickfont": {
          "color": "black",
          "family": "Myriad Pro",
          "size": 16
         },
         "ticklen": 4,
         "ticks": "outside",
         "title": {
          "font": {
           "color": "black",
           "family": "Myriad Pro",
           "size": 18
          },
          "standoff": 5,
          "text": "Product"
         },
         "zeroline": false
        },
        "yaxis": {
         "linecolor": "black",
         "linewidth": 1,
         "mirror": true,
         "nticks": 5,
         "range": [
          0,
          1.8
         ],
         "showgrid": true,
         "showline": true,
         "side": "left",
         "tickangle": 0,
         "tickcolor": "black",
         "tickfont": {
          "color": "black",
          "family": "Myriad Pro",
          "size": 16
         },
         "ticklen": 4,
         "ticks": "outside",
         "title": {
          "font": {
           "color": "black",
           "family": "Myriad Pro",
           "size": 18
          },
          "text": "Product Yield<br>(mmol Product/mmol Glucose)"
         },
         "zeroline": false
        },
        "yaxis2": {
         "anchor": "x",
         "dtick": 0.25,
         "linecolor": "black",
         "linewidth": 1,
         "mirror": true,
         "nticks": 4,
         "overlaying": "y",
         "range": [
          0,
          0.9
         ],
         "showgrid": true,
         "showline": true,
         "side": "right",
         "tickangle": 0,
         "tickcolor": "black",
         "tickfont": {
          "color": "black",
          "family": "Myriad Pro",
          "size": 16
         },
         "ticklen": 4,
         "ticks": "outside",
         "title": {
          "font": {
           "color": "black",
           "family": "Myriad Pro",
           "size": 18
          },
          "text": "Biomass Yield<br>(g Biomass/g Glucose)"
         },
         "zeroline": false
        }
       }
      },
      "text/html": [
       "<div>                            <div id=\"f085cb1c-5f88-40a3-b33b-dcb3036826a3\" class=\"plotly-graph-div\" style=\"height:400px; width:925px;\"></div>            <script type=\"text/javascript\">                require([\"plotly\"], function(Plotly) {                    window.PLOTLYENV=window.PLOTLYENV || {};                                    if (document.getElementById(\"f085cb1c-5f88-40a3-b33b-dcb3036826a3\")) {                    Plotly.newPlot(                        \"f085cb1c-5f88-40a3-b33b-dcb3036826a3\",                        [{\"marker\": {\"color\": \"rgb(54, 146, 68)\", \"line\": {\"color\": \"rgb(54, 146, 68)\", \"width\": 0}}, \"name\": \"Bioreactor\", \"type\": \"bar\", \"x\": [\"Acetate\", \"Formate\", \"Lactate\", \"Pyruvate\", \"Succinate\"], \"y\": [0.04076278880994951, 0.06546136816937519, 1.5859815062058398, 0.08388433316203511, 0.06384610484559348]}, {\"marker\": {\"color\": \"rgb(54, 146, 68)\", \"line\": {\"color\": \"black\", \"width\": 0}}, \"name\": \"Bioreactor\", \"showlegend\": false, \"type\": \"bar\", \"x\": [\"Growth Rate\"], \"y\": [0.3790976624510501], \"yaxis\": \"y2\"}, {\"error_y\": {\"array\": [0.008024955834064167, 0.0039237742692455205, 0.037298373152884506, 0.0039124662368706115, 0.00342098217701379], \"color\": \"black\", \"thickness\": 1.5, \"type\": \"data\", \"width\": 3}, \"marker\": {\"color\": \"rgb(33, 100, 175)\", \"line\": {\"color\": \"rgb(54, 146, 68)\", \"width\": 0}}, \"name\": \"Base Media\", \"type\": \"bar\", \"width\": 0.09, \"x\": [\"Acetate\", \"Formate\", \"Lactate\", \"Pyruvate\", \"Succinate\"], \"y\": [0.2771423380627602, 0.020853330798262043, 1.5661317137308077, 0.10516833321696906, 0.10193349488146007]}, {\"error_y\": {\"array\": [0.0016899663557151175], \"color\": \"black\", \"thickness\": 1.5, \"type\": \"data\", \"width\": 3}, \"marker\": {\"color\": \"rgb(33, 100, 175)\", \"line\": {\"color\": \"black\", \"width\": 0}}, \"name\": \"Base Media\", \"showlegend\": false, \"type\": \"bar\", \"width\": 0.09, \"x\": [\"Growth Rate\"], \"y\": [0.4240532663876983], \"yaxis\": \"y2\"}, {\"error_y\": {\"array\": [0.00597891359484233, null, 0.01857742355445236, 0.0048877100823915606, 0.0021189779522014676], \"color\": \"black\", \"thickness\": 1.5, \"type\": \"data\", \"width\": 3}, \"marker\": {\"color\": \"rgb(217, 72, 42)\", \"line\": {\"color\": \"rgb(54, 146, 68)\", \"width\": 0}}, \"name\": \"Cysteine\", \"type\": \"bar\", \"width\": 0.09, \"x\": [\"Acetate\", \"Formate\", \"Lactate\", \"Pyruvate\", \"Succinate\"], \"y\": [0.2647080596297636, 0.0, 1.4781947560291475, 0.11815315590057872, 0.0915097263917733]}, {\"error_y\": {\"array\": [0.008401260771642972], \"color\": \"black\", \"thickness\": 1.5, \"type\": \"data\", \"width\": 3}, \"marker\": {\"color\": \"rgb(217, 72, 42)\", \"line\": {\"color\": \"black\", \"width\": 0}}, \"name\": \"Cysteine\", \"showlegend\": false, \"type\": \"bar\", \"width\": 0.09, \"x\": [\"Growth Rate\"], \"y\": [0.47066643593869295], \"yaxis\": \"y2\"}, {\"error_y\": {\"array\": [0.0165698004990357, 0.006942970320546833, 0.05064525222083052, 0.006184672164126385, 0.0037820765418408713], \"color\": \"black\", \"thickness\": 1.5, \"type\": \"data\", \"width\": 3}, \"marker\": {\"color\": \"rgb(146, 54, 132)\", \"line\": {\"color\": \"rgb(54, 146, 68)\", \"width\": 0}}, \"name\": \"DTT\", \"type\": \"bar\", \"width\": 0.09, \"x\": [\"Acetate\", \"Formate\", \"Lactate\", \"Pyruvate\", \"Succinate\"], \"y\": [0.2360329044298991, 0.08303167305573993, 1.3709549541821717, 0.08922614707380593, 0.10291101170133923]}, {\"error_y\": {\"array\": [0.002272839265116495], \"color\": \"black\", \"thickness\": 1.5, \"type\": \"data\", \"width\": 3}, \"marker\": {\"color\": \"rgb(146, 54, 132)\", \"line\": {\"color\": \"black\", \"width\": 0}}, \"name\": \"DTT\", \"showlegend\": false, \"type\": \"bar\", \"width\": 0.09, \"x\": [\"Growth Rate\"], \"y\": [0.3818421558632966], \"yaxis\": \"y2\"}, {\"error_y\": {\"array\": [0.009991807289833753, null, 0.05496336930688567, 0.007734987198187729, 0.00411590626575149], \"color\": \"black\", \"thickness\": 1.5, \"type\": \"data\", \"width\": 3}, \"marker\": {\"color\": \"rgb(175, 127, 91)\", \"line\": {\"color\": \"rgb(54, 146, 68)\", \"width\": 0}}, \"name\": \"Sulfide\", \"type\": \"bar\", \"width\": 0.09, \"x\": [\"Acetate\", \"Formate\", \"Lactate\", \"Pyruvate\", \"Succinate\"], \"y\": [0.22406625229055846, 0.0, 1.2486494726158026, 0.19540907538648136, 0.0989630379224759]}, {\"error_y\": {\"array\": [0.004082729122918352], \"color\": \"black\", \"thickness\": 1.5, \"type\": \"data\", \"width\": 3}, \"marker\": {\"color\": \"rgb(175, 127, 91)\", \"line\": {\"color\": \"black\", \"width\": 0}}, \"name\": \"Sulfide\", \"showlegend\": false, \"type\": \"bar\", \"width\": 0.09, \"x\": [\"Growth Rate\"], \"y\": [0.45529358538461706], \"yaxis\": \"y2\"}, {\"error_y\": {\"array\": [0.005422844103376041, 0.0019786505201268706, 0.042772735311573946, 0.008645102702994366, 0.0058367985312364435], \"color\": \"black\", \"thickness\": 1.5, \"type\": \"data\", \"width\": 3}, \"marker\": {\"color\": \"rgb(166.0, 193, 223)\", \"line\": {\"color\": \"rgb(54, 146, 68)\", \"width\": 0}}, \"name\": \"pH 8\", \"type\": \"bar\", \"width\": 0.09, \"x\": [\"Acetate\", \"Formate\", \"Lactate\", \"Pyruvate\", \"Succinate\"], \"y\": [0.2304488475885379, 0.031354140984569664, 1.364171134773246, 0.21249054375134047, 0.143461672365532]}, {\"error_y\": {\"array\": [0.014840321323396905], \"color\": \"black\", \"thickness\": 1.5, \"type\": \"data\", \"width\": 3}, \"marker\": {\"color\": \"rgb(166.0, 193, 223)\", \"line\": {\"color\": \"black\", \"width\": 0}}, \"name\": \"pH 8\", \"showlegend\": false, \"type\": \"bar\", \"width\": 0.09, \"x\": [\"Growth Rate\"], \"y\": [0.4778507908231767], \"yaxis\": \"y2\"}],                        {\"bargap\": 0.4, \"bargroupgap\": 0.1, \"height\": 400, \"legend\": {\"font\": {\"color\": \"black\", \"family\": \"Myriad Pro\", \"size\": 14}, \"orientation\": \"h\", \"x\": 0.1, \"y\": -0.2}, \"template\": {\"data\": {\"scatter\": [{\"type\": \"scatter\"}]}}, \"width\": 925, \"xaxis\": {\"linecolor\": \"black\", \"linewidth\": 1, \"mirror\": true, \"nticks\": 8, \"showgrid\": false, \"showline\": true, \"side\": \"bottom\", \"tickangle\": 0, \"tickcolor\": \"black\", \"tickfont\": {\"color\": \"black\", \"family\": \"Myriad Pro\", \"size\": 16}, \"ticklen\": 4, \"ticks\": \"outside\", \"title\": {\"font\": {\"color\": \"black\", \"family\": \"Myriad Pro\", \"size\": 18}, \"standoff\": 5, \"text\": \"Product\"}, \"zeroline\": false}, \"yaxis\": {\"linecolor\": \"black\", \"linewidth\": 1, \"mirror\": true, \"nticks\": 5, \"range\": [0, 1.8], \"showgrid\": true, \"showline\": true, \"side\": \"left\", \"tickangle\": 0, \"tickcolor\": \"black\", \"tickfont\": {\"color\": \"black\", \"family\": \"Myriad Pro\", \"size\": 16}, \"ticklen\": 4, \"ticks\": \"outside\", \"title\": {\"font\": {\"color\": \"black\", \"family\": \"Myriad Pro\", \"size\": 18}, \"text\": \"Product Yield<br>(mmol Product/mmol Glucose)\"}, \"zeroline\": false}, \"yaxis2\": {\"anchor\": \"x\", \"dtick\": 0.25, \"linecolor\": \"black\", \"linewidth\": 1, \"mirror\": true, \"nticks\": 4, \"overlaying\": \"y\", \"range\": [0, 0.9], \"showgrid\": true, \"showline\": true, \"side\": \"right\", \"tickangle\": 0, \"tickcolor\": \"black\", \"tickfont\": {\"color\": \"black\", \"family\": \"Myriad Pro\", \"size\": 16}, \"ticklen\": 4, \"ticks\": \"outside\", \"title\": {\"font\": {\"color\": \"black\", \"family\": \"Myriad Pro\", \"size\": 18}, \"text\": \"Biomass Yield<br>(g Biomass/g Glucose)\"}, \"zeroline\": false}},                        {\"responsive\": true}                    ).then(function(){\n",
       "                            \n",
       "var gd = document.getElementById('f085cb1c-5f88-40a3-b33b-dcb3036826a3');\n",
       "var x = new MutationObserver(function (mutations, observer) {{\n",
       "        var display = window.getComputedStyle(gd).display;\n",
       "        if (!display || display === 'none') {{\n",
       "            console.log([gd, 'removed!']);\n",
       "            Plotly.purge(gd);\n",
       "            observer.disconnect();\n",
       "        }}\n",
       "}});\n",
       "\n",
       "// Listen for the removal of the full notebook cells\n",
       "var notebookContainer = gd.closest('#notebook-container');\n",
       "if (notebookContainer) {{\n",
       "    x.observe(notebookContainer, {childList: true});\n",
       "}}\n",
       "\n",
       "// Listen for the clearing of the current output cell\n",
       "var outputEl = gd.closest('.output');\n",
       "if (outputEl) {{\n",
       "    x.observe(outputEl, {childList: true});\n",
       "}}\n",
       "\n",
       "                        })                };                });            </script>        </div>"
      ]
     },
     "metadata": {},
     "output_type": "display_data"
    },
    {
     "name": "stdout",
     "output_type": "stream",
     "text": [
      "Δ(adh,pta)-D59\n"
     ]
    },
    {
     "data": {
      "application/vnd.plotly.v1+json": {
       "config": {
        "linkText": "Export to plot.ly",
        "plotlyServerURL": "https://plot.ly",
        "showLink": false
       },
       "data": [
        {
         "marker": {
          "color": "rgb(54, 146, 68)",
          "line": {
           "color": "rgb(54, 146, 68)",
           "width": 0
          }
         },
         "name": "Bioreactor",
         "type": "bar",
         "x": [
          "Acetate",
          "Formate",
          "Lactate",
          "Pyruvate",
          "Succinate"
         ],
         "y": [
          0.037518394104790194,
          0.06117061103732149,
          1.6465656989667692,
          0.05467648476575785,
          0.09459001292832869
         ]
        },
        {
         "marker": {
          "color": "rgb(54, 146, 68)",
          "line": {
           "color": "black",
           "width": 0
          }
         },
         "name": "Bioreactor",
         "showlegend": false,
         "type": "bar",
         "x": [
          "Growth Rate"
         ],
         "y": [
          0.6491690894069742
         ],
         "yaxis": "y2"
        },
        {
         "error_y": {
          "array": [
           0.010055577812201991,
           null,
           0.04606934418749512,
           0.0019307535223053113,
           0.0035589842786864123
          ],
          "color": "black",
          "thickness": 1.5,
          "type": "data",
          "width": 3
         },
         "marker": {
          "color": "rgb(33, 100, 175)",
          "line": {
           "color": "rgb(54, 146, 68)",
           "width": 0
          }
         },
         "name": "Base Media",
         "type": "bar",
         "width": 0.09,
         "x": [
          "Acetate",
          "Formate",
          "Lactate",
          "Pyruvate",
          "Succinate"
         ],
         "y": [
          0.2101581650770269,
          0,
          1.5919590967835229,
          0.06755704622899643,
          0.14273311965349317
         ]
        },
        {
         "error_y": {
          "array": [
           0.005570150181104914
          ],
          "color": "black",
          "thickness": 1.5,
          "type": "data",
          "width": 3
         },
         "marker": {
          "color": "rgb(33, 100, 175)",
          "line": {
           "color": "black",
           "width": 0
          }
         },
         "name": "Base Media",
         "showlegend": false,
         "type": "bar",
         "width": 0.09,
         "x": [
          "Growth Rate"
         ],
         "y": [
          0.5210387789293274
         ],
         "yaxis": "y2"
        },
        {
         "error_y": {
          "array": [
           0.009760702583870472,
           null,
           0.016994294753690513,
           0.0018720965752448205,
           0.0025604268579858367
          ],
          "color": "black",
          "thickness": 1.5,
          "type": "data",
          "width": 3
         },
         "marker": {
          "color": "rgb(217, 72, 42)",
          "line": {
           "color": "rgb(54, 146, 68)",
           "width": 0
          }
         },
         "name": "Cysteine",
         "type": "bar",
         "width": 0.09,
         "x": [
          "Acetate",
          "Formate",
          "Lactate",
          "Pyruvate",
          "Succinate"
         ],
         "y": [
          0.1960826917538325,
          0,
          1.5194021301032175,
          0.07910459113073719,
          0.12326278126010948
         ]
        },
        {
         "error_y": {
          "array": [
           0.004449866354067931
          ],
          "color": "black",
          "thickness": 1.5,
          "type": "data",
          "width": 3
         },
         "marker": {
          "color": "rgb(217, 72, 42)",
          "line": {
           "color": "black",
           "width": 0
          }
         },
         "name": "Cysteine",
         "showlegend": false,
         "type": "bar",
         "width": 0.09,
         "x": [
          "Growth Rate"
         ],
         "y": [
          0.5299035266692743
         ],
         "yaxis": "y2"
        },
        {
         "error_y": {
          "array": [
           0.023638667395630295,
           0.004702548865372604,
           0.04688253495824056,
           0.00219654233540681,
           0.006310663077481304
          ],
          "color": "black",
          "thickness": 1.5,
          "type": "data",
          "width": 3
         },
         "marker": {
          "color": "rgb(146, 54, 132)",
          "line": {
           "color": "rgb(54, 146, 68)",
           "width": 0
          }
         },
         "name": "DTT",
         "type": "bar",
         "width": 0.09,
         "x": [
          "Acetate",
          "Formate",
          "Lactate",
          "Pyruvate",
          "Succinate"
         ],
         "y": [
          0.22465764876602312,
          0.06388009352494994,
          1.3667779139118095,
          0.06495477299328627,
          0.15154574042590657
         ]
        },
        {
         "error_y": {
          "array": [
           0.0018502987678856284
          ],
          "color": "black",
          "thickness": 1.5,
          "type": "data",
          "width": 3
         },
         "marker": {
          "color": "rgb(146, 54, 132)",
          "line": {
           "color": "black",
           "width": 0
          }
         },
         "name": "DTT",
         "showlegend": false,
         "type": "bar",
         "width": 0.09,
         "x": [
          "Growth Rate"
         ],
         "y": [
          0.41171561887460517
         ],
         "yaxis": "y2"
        },
        {
         "error_y": {
          "array": [
           0.00820171683816481,
           null,
           0.04792822599247139,
           0.005612373524215769,
           0.005049624745513984
          ],
          "color": "black",
          "thickness": 1.5,
          "type": "data",
          "width": 3
         },
         "marker": {
          "color": "rgb(175, 127, 91)",
          "line": {
           "color": "rgb(54, 146, 68)",
           "width": 0
          }
         },
         "name": "Sulfide",
         "type": "bar",
         "width": 0.09,
         "x": [
          "Acetate",
          "Formate",
          "Lactate",
          "Pyruvate",
          "Succinate"
         ],
         "y": [
          0.11324147326490147,
          0,
          1.4154745560440363,
          0.056560572000329545,
          0.14600074997262066
         ]
        },
        {
         "error_y": {
          "array": [
           0.004800133666619498
          ],
          "color": "black",
          "thickness": 1.5,
          "type": "data",
          "width": 3
         },
         "marker": {
          "color": "rgb(175, 127, 91)",
          "line": {
           "color": "black",
           "width": 0
          }
         },
         "name": "Sulfide",
         "showlegend": false,
         "type": "bar",
         "width": 0.09,
         "x": [
          "Growth Rate"
         ],
         "y": [
          0.5144662249126772
         ],
         "yaxis": "y2"
        },
        {
         "error_y": {
          "array": [
           0.007243126015893762,
           0.0020453013277240096,
           0.01996570911960256,
           0.0029765013810502854,
           0.0011353516674997017
          ],
          "color": "black",
          "thickness": 1.5,
          "type": "data",
          "width": 3
         },
         "marker": {
          "color": "rgb(166.0, 193, 223)",
          "line": {
           "color": "rgb(54, 146, 68)",
           "width": 0
          }
         },
         "name": "pH 8",
         "type": "bar",
         "width": 0.09,
         "x": [
          "Acetate",
          "Formate",
          "Lactate",
          "Pyruvate",
          "Succinate"
         ],
         "y": [
          0.1254781320226522,
          0.031513731115132455,
          1.5862117384829824,
          0.024645117444255373,
          0.21220080077446693
         ]
        },
        {
         "error_y": {
          "array": [
           0.0033679376988791044
          ],
          "color": "black",
          "thickness": 1.5,
          "type": "data",
          "width": 3
         },
         "marker": {
          "color": "rgb(166.0, 193, 223)",
          "line": {
           "color": "black",
           "width": 0
          }
         },
         "name": "pH 8",
         "showlegend": false,
         "type": "bar",
         "width": 0.09,
         "x": [
          "Growth Rate"
         ],
         "y": [
          0.5142771158410124
         ],
         "yaxis": "y2"
        }
       ],
       "layout": {
        "bargap": 0.4,
        "bargroupgap": 0.1,
        "height": 400,
        "legend": {
         "font": {
          "color": "black",
          "family": "Myriad Pro",
          "size": 14
         },
         "orientation": "h",
         "x": 0.1,
         "y": -0.2
        },
        "template": {
         "data": {
          "scatter": [
           {
            "type": "scatter"
           }
          ]
         }
        },
        "width": 925,
        "xaxis": {
         "linecolor": "black",
         "linewidth": 1,
         "mirror": true,
         "nticks": 8,
         "showgrid": false,
         "showline": true,
         "side": "bottom",
         "tickangle": 0,
         "tickcolor": "black",
         "tickfont": {
          "color": "black",
          "family": "Myriad Pro",
          "size": 16
         },
         "ticklen": 4,
         "ticks": "outside",
         "title": {
          "font": {
           "color": "black",
           "family": "Myriad Pro",
           "size": 18
          },
          "standoff": 5,
          "text": "Product"
         },
         "zeroline": false
        },
        "yaxis": {
         "linecolor": "black",
         "linewidth": 1,
         "mirror": true,
         "nticks": 5,
         "range": [
          0,
          1.8
         ],
         "showgrid": true,
         "showline": true,
         "side": "left",
         "tickangle": 0,
         "tickcolor": "black",
         "tickfont": {
          "color": "black",
          "family": "Myriad Pro",
          "size": 16
         },
         "ticklen": 4,
         "ticks": "outside",
         "title": {
          "font": {
           "color": "black",
           "family": "Myriad Pro",
           "size": 18
          },
          "text": "Product Yield<br>(mmol Product/mmol Glucose)"
         },
         "zeroline": false
        },
        "yaxis2": {
         "anchor": "x",
         "dtick": 0.25,
         "linecolor": "black",
         "linewidth": 1,
         "mirror": true,
         "nticks": 4,
         "overlaying": "y",
         "range": [
          0,
          0.9
         ],
         "showgrid": true,
         "showline": true,
         "side": "right",
         "tickangle": 0,
         "tickcolor": "black",
         "tickfont": {
          "color": "black",
          "family": "Myriad Pro",
          "size": 16
         },
         "ticklen": 4,
         "ticks": "outside",
         "title": {
          "font": {
           "color": "black",
           "family": "Myriad Pro",
           "size": 18
          },
          "text": "Biomass Yield<br>(g Biomass/g Glucose)"
         },
         "zeroline": false
        }
       }
      },
      "text/html": [
       "<div>                            <div id=\"fd6365ab-9c6f-46ea-8ea3-eb66d5425b16\" class=\"plotly-graph-div\" style=\"height:400px; width:925px;\"></div>            <script type=\"text/javascript\">                require([\"plotly\"], function(Plotly) {                    window.PLOTLYENV=window.PLOTLYENV || {};                                    if (document.getElementById(\"fd6365ab-9c6f-46ea-8ea3-eb66d5425b16\")) {                    Plotly.newPlot(                        \"fd6365ab-9c6f-46ea-8ea3-eb66d5425b16\",                        [{\"marker\": {\"color\": \"rgb(54, 146, 68)\", \"line\": {\"color\": \"rgb(54, 146, 68)\", \"width\": 0}}, \"name\": \"Bioreactor\", \"type\": \"bar\", \"x\": [\"Acetate\", \"Formate\", \"Lactate\", \"Pyruvate\", \"Succinate\"], \"y\": [0.037518394104790194, 0.06117061103732149, 1.6465656989667692, 0.05467648476575785, 0.09459001292832869]}, {\"marker\": {\"color\": \"rgb(54, 146, 68)\", \"line\": {\"color\": \"black\", \"width\": 0}}, \"name\": \"Bioreactor\", \"showlegend\": false, \"type\": \"bar\", \"x\": [\"Growth Rate\"], \"y\": [0.6491690894069742], \"yaxis\": \"y2\"}, {\"error_y\": {\"array\": [0.010055577812201991, null, 0.04606934418749512, 0.0019307535223053113, 0.0035589842786864123], \"color\": \"black\", \"thickness\": 1.5, \"type\": \"data\", \"width\": 3}, \"marker\": {\"color\": \"rgb(33, 100, 175)\", \"line\": {\"color\": \"rgb(54, 146, 68)\", \"width\": 0}}, \"name\": \"Base Media\", \"type\": \"bar\", \"width\": 0.09, \"x\": [\"Acetate\", \"Formate\", \"Lactate\", \"Pyruvate\", \"Succinate\"], \"y\": [0.2101581650770269, 0.0, 1.5919590967835229, 0.06755704622899643, 0.14273311965349317]}, {\"error_y\": {\"array\": [0.005570150181104914], \"color\": \"black\", \"thickness\": 1.5, \"type\": \"data\", \"width\": 3}, \"marker\": {\"color\": \"rgb(33, 100, 175)\", \"line\": {\"color\": \"black\", \"width\": 0}}, \"name\": \"Base Media\", \"showlegend\": false, \"type\": \"bar\", \"width\": 0.09, \"x\": [\"Growth Rate\"], \"y\": [0.5210387789293274], \"yaxis\": \"y2\"}, {\"error_y\": {\"array\": [0.009760702583870472, null, 0.016994294753690513, 0.0018720965752448205, 0.0025604268579858367], \"color\": \"black\", \"thickness\": 1.5, \"type\": \"data\", \"width\": 3}, \"marker\": {\"color\": \"rgb(217, 72, 42)\", \"line\": {\"color\": \"rgb(54, 146, 68)\", \"width\": 0}}, \"name\": \"Cysteine\", \"type\": \"bar\", \"width\": 0.09, \"x\": [\"Acetate\", \"Formate\", \"Lactate\", \"Pyruvate\", \"Succinate\"], \"y\": [0.1960826917538325, 0.0, 1.5194021301032175, 0.07910459113073719, 0.12326278126010948]}, {\"error_y\": {\"array\": [0.004449866354067931], \"color\": \"black\", \"thickness\": 1.5, \"type\": \"data\", \"width\": 3}, \"marker\": {\"color\": \"rgb(217, 72, 42)\", \"line\": {\"color\": \"black\", \"width\": 0}}, \"name\": \"Cysteine\", \"showlegend\": false, \"type\": \"bar\", \"width\": 0.09, \"x\": [\"Growth Rate\"], \"y\": [0.5299035266692743], \"yaxis\": \"y2\"}, {\"error_y\": {\"array\": [0.023638667395630295, 0.004702548865372604, 0.04688253495824056, 0.00219654233540681, 0.006310663077481304], \"color\": \"black\", \"thickness\": 1.5, \"type\": \"data\", \"width\": 3}, \"marker\": {\"color\": \"rgb(146, 54, 132)\", \"line\": {\"color\": \"rgb(54, 146, 68)\", \"width\": 0}}, \"name\": \"DTT\", \"type\": \"bar\", \"width\": 0.09, \"x\": [\"Acetate\", \"Formate\", \"Lactate\", \"Pyruvate\", \"Succinate\"], \"y\": [0.22465764876602312, 0.06388009352494994, 1.3667779139118095, 0.06495477299328627, 0.15154574042590657]}, {\"error_y\": {\"array\": [0.0018502987678856284], \"color\": \"black\", \"thickness\": 1.5, \"type\": \"data\", \"width\": 3}, \"marker\": {\"color\": \"rgb(146, 54, 132)\", \"line\": {\"color\": \"black\", \"width\": 0}}, \"name\": \"DTT\", \"showlegend\": false, \"type\": \"bar\", \"width\": 0.09, \"x\": [\"Growth Rate\"], \"y\": [0.41171561887460517], \"yaxis\": \"y2\"}, {\"error_y\": {\"array\": [0.00820171683816481, null, 0.04792822599247139, 0.005612373524215769, 0.005049624745513984], \"color\": \"black\", \"thickness\": 1.5, \"type\": \"data\", \"width\": 3}, \"marker\": {\"color\": \"rgb(175, 127, 91)\", \"line\": {\"color\": \"rgb(54, 146, 68)\", \"width\": 0}}, \"name\": \"Sulfide\", \"type\": \"bar\", \"width\": 0.09, \"x\": [\"Acetate\", \"Formate\", \"Lactate\", \"Pyruvate\", \"Succinate\"], \"y\": [0.11324147326490147, 0.0, 1.4154745560440363, 0.056560572000329545, 0.14600074997262066]}, {\"error_y\": {\"array\": [0.004800133666619498], \"color\": \"black\", \"thickness\": 1.5, \"type\": \"data\", \"width\": 3}, \"marker\": {\"color\": \"rgb(175, 127, 91)\", \"line\": {\"color\": \"black\", \"width\": 0}}, \"name\": \"Sulfide\", \"showlegend\": false, \"type\": \"bar\", \"width\": 0.09, \"x\": [\"Growth Rate\"], \"y\": [0.5144662249126772], \"yaxis\": \"y2\"}, {\"error_y\": {\"array\": [0.007243126015893762, 0.0020453013277240096, 0.01996570911960256, 0.0029765013810502854, 0.0011353516674997017], \"color\": \"black\", \"thickness\": 1.5, \"type\": \"data\", \"width\": 3}, \"marker\": {\"color\": \"rgb(166.0, 193, 223)\", \"line\": {\"color\": \"rgb(54, 146, 68)\", \"width\": 0}}, \"name\": \"pH 8\", \"type\": \"bar\", \"width\": 0.09, \"x\": [\"Acetate\", \"Formate\", \"Lactate\", \"Pyruvate\", \"Succinate\"], \"y\": [0.1254781320226522, 0.031513731115132455, 1.5862117384829824, 0.024645117444255373, 0.21220080077446693]}, {\"error_y\": {\"array\": [0.0033679376988791044], \"color\": \"black\", \"thickness\": 1.5, \"type\": \"data\", \"width\": 3}, \"marker\": {\"color\": \"rgb(166.0, 193, 223)\", \"line\": {\"color\": \"black\", \"width\": 0}}, \"name\": \"pH 8\", \"showlegend\": false, \"type\": \"bar\", \"width\": 0.09, \"x\": [\"Growth Rate\"], \"y\": [0.5142771158410124], \"yaxis\": \"y2\"}],                        {\"bargap\": 0.4, \"bargroupgap\": 0.1, \"height\": 400, \"legend\": {\"font\": {\"color\": \"black\", \"family\": \"Myriad Pro\", \"size\": 14}, \"orientation\": \"h\", \"x\": 0.1, \"y\": -0.2}, \"template\": {\"data\": {\"scatter\": [{\"type\": \"scatter\"}]}}, \"width\": 925, \"xaxis\": {\"linecolor\": \"black\", \"linewidth\": 1, \"mirror\": true, \"nticks\": 8, \"showgrid\": false, \"showline\": true, \"side\": \"bottom\", \"tickangle\": 0, \"tickcolor\": \"black\", \"tickfont\": {\"color\": \"black\", \"family\": \"Myriad Pro\", \"size\": 16}, \"ticklen\": 4, \"ticks\": \"outside\", \"title\": {\"font\": {\"color\": \"black\", \"family\": \"Myriad Pro\", \"size\": 18}, \"standoff\": 5, \"text\": \"Product\"}, \"zeroline\": false}, \"yaxis\": {\"linecolor\": \"black\", \"linewidth\": 1, \"mirror\": true, \"nticks\": 5, \"range\": [0, 1.8], \"showgrid\": true, \"showline\": true, \"side\": \"left\", \"tickangle\": 0, \"tickcolor\": \"black\", \"tickfont\": {\"color\": \"black\", \"family\": \"Myriad Pro\", \"size\": 16}, \"ticklen\": 4, \"ticks\": \"outside\", \"title\": {\"font\": {\"color\": \"black\", \"family\": \"Myriad Pro\", \"size\": 18}, \"text\": \"Product Yield<br>(mmol Product/mmol Glucose)\"}, \"zeroline\": false}, \"yaxis2\": {\"anchor\": \"x\", \"dtick\": 0.25, \"linecolor\": \"black\", \"linewidth\": 1, \"mirror\": true, \"nticks\": 4, \"overlaying\": \"y\", \"range\": [0, 0.9], \"showgrid\": true, \"showline\": true, \"side\": \"right\", \"tickangle\": 0, \"tickcolor\": \"black\", \"tickfont\": {\"color\": \"black\", \"family\": \"Myriad Pro\", \"size\": 16}, \"ticklen\": 4, \"ticks\": \"outside\", \"title\": {\"font\": {\"color\": \"black\", \"family\": \"Myriad Pro\", \"size\": 18}, \"text\": \"Biomass Yield<br>(g Biomass/g Glucose)\"}, \"zeroline\": false}},                        {\"responsive\": true}                    ).then(function(){\n",
       "                            \n",
       "var gd = document.getElementById('fd6365ab-9c6f-46ea-8ea3-eb66d5425b16');\n",
       "var x = new MutationObserver(function (mutations, observer) {{\n",
       "        var display = window.getComputedStyle(gd).display;\n",
       "        if (!display || display === 'none') {{\n",
       "            console.log([gd, 'removed!']);\n",
       "            Plotly.purge(gd);\n",
       "            observer.disconnect();\n",
       "        }}\n",
       "}});\n",
       "\n",
       "// Listen for the removal of the full notebook cells\n",
       "var notebookContainer = gd.closest('#notebook-container');\n",
       "if (notebookContainer) {{\n",
       "    x.observe(notebookContainer, {childList: true});\n",
       "}}\n",
       "\n",
       "// Listen for the clearing of the current output cell\n",
       "var outputEl = gd.closest('.output');\n",
       "if (outputEl) {{\n",
       "    x.observe(outputEl, {childList: true});\n",
       "}}\n",
       "\n",
       "                        })                };                });            </script>        </div>"
      ]
     },
     "metadata": {},
     "output_type": "display_data"
    }
   ],
   "source": [
    "strain_list = ['WT','Δ(adh,pta)-D1', 'Δ(adh,pta)-D28', 'Δ(adh,pta)-D59']\n",
    "analyte_list = ['Acetate', 'Formate', 'Lactate', 'Pyruvate', 'Succinate', 'Growth Rate']\n",
    "condition_list = ['RDM + 7.0 a.u. pH', 'RDM + 1.0 mM Cysteine', 'RDM + 1.0 mM DTT', 'RDM + 8.0 mM Na2S', 'RDM + 8.0 a.u. pH']\n",
    "condition_titles = ['Base Media', 'Cysteine', 'DTT', 'Sulfide', 'pH 8']\n",
    "\n",
    "colors = ['rgb(33, 100, 175)',\n",
    "          'rgb(217, 72, 42)',\n",
    "          'rgb(146, 54, 132)',\n",
    "          'rgb(175, 127, 91)',\n",
    "         'rgb(166.0, 193, 223)']\n",
    "\n",
    "od_timepoint = 8\n",
    "hplc_timepoint = 8\n",
    "\n",
    "ranges= [(0,2), (0,0.04)]\n",
    "\n",
    "for strain in strain_list:\n",
    "    print(strain)\n",
    "    trace_list = []\n",
    "    rep = [rep for rep in reactor.replicate_trials if rep.trial_identifier.strain.name == strain][0]\n",
    "    x = [analyte for analyte in analyte_list]\n",
    "    y, yerrs = yield_calculator((rep,rep), od_timepoint=od_timepoint, hplc_timepoint=hplc_timepoint)\n",
    "    \n",
    "    trace_list.append(go.Bar(x=x[:-1],\n",
    "                     y=y[:-1],\n",
    "                     marker=dict(color='rgb(54, 146, 68)', line=dict(width=0, color='rgb(54, 146, 68)')),\n",
    "                     name='Bioreactor'))\n",
    "    \n",
    "    trace_list.append(go.Bar(x=x[-1:],\n",
    "                             y=y[-1:],\n",
    "                             marker=dict(color='rgb(54, 146, 68)', line=dict(width=0, color='black')),showlegend=False,\n",
    "                             name='Bioreactor', yaxis='y2'))\n",
    "\n",
    "    for i, condition in enumerate(condition_list):\n",
    "        od_rep = [rep for rep in red_od.replicate_trials if str(rep.trial_identifier.media)==condition_list[i] and rep.trial_identifier.strain.name==strain][0]\n",
    "        hplc_rep = [rep for rep in red_titers.replicate_trials if str(rep.trial_identifier.media)==condition_list[i] and rep.trial_identifier.strain.name==strain][0]\n",
    "        y, y_errs = yield_calculator((od_rep,hplc_rep), od_timepoint=-1, hplc_timepoint=-1)\n",
    "\n",
    "\n",
    "        trace_list.append(go.Bar(x=x[:-1],\n",
    "                                 y=y[:-1],\n",
    "                                 error_y=dict(type='data', array=y_errs[:-1], thickness=1.5, width=3, color='black'),\n",
    "                                 marker=dict(color=colors[i], line=dict(width=0, color='rgb(54, 146, 68)')), width=0.09,\n",
    "                                 name=condition_titles[i]))\n",
    "\n",
    "        trace_list.append(go.Bar(x=x[-1:],\n",
    "                         y=y[-1:],\n",
    "                         error_y=dict(type='data', array=y_errs[-1:], thickness=1.5, width=3, color='black'),\n",
    "                         marker=dict(color=colors[i], line=dict(width=0, color='black')),showlegend=False, width=0.09,\n",
    "                         yaxis='y2',\n",
    "                         name=condition_titles[i]))\n",
    "\n",
    "\n",
    "\n",
    "    layout = go.Layout(height=400, width=925, legend_x= 0.1, bargroupgap=0.1, bargap=0.4,\n",
    "                       legend_orientation='h',legend_y=-0.2, legend_font=dict(family='Myriad Pro', color='black', size=14),\n",
    "\n",
    "                       xaxis=dict(title='Product', title_standoff=5,\n",
    "                                  titlefont=dict(family='Myriad Pro', size=18, color='black'),\n",
    "                                  showline=True, linewidth=1, linecolor='black', mirror=True, side='bottom',\n",
    "                                  ticks='outside', ticklen=4, tickangle=0, nticks=8,\n",
    "                                  tickfont=dict(size=16, family='Myriad Pro', color='black'), tickcolor='black',\n",
    "                                  showgrid=False,zeroline=False),\n",
    "\n",
    "                       yaxis=dict(title='Product Yield<br>(mmol Product/mmol Glucose)',\n",
    "                                  titlefont=dict(family='Myriad Pro', size=18, color='black'),\n",
    "                                  showline=True, linewidth=1, linecolor='black', mirror=True, range=(0,1.8),\n",
    "                                  ticks='outside', ticklen=4, tickangle=0, side='left', nticks=5,\n",
    "                                  tickfont=dict(family='Myriad Pro',size=16, color='black'), tickcolor='black', \n",
    "                                  showgrid=True,zeroline=False),\n",
    "                       \n",
    "                      yaxis2=dict(title='Biomass Yield<br>(g Biomass/g Glucose)',\n",
    "                                  titlefont=dict(family='Myriad Pro', size=18, color='black'),\n",
    "                                  showline=True, linewidth=1, linecolor='black', mirror=True, range=(0,0.9),nticks=4,dtick=0.25,\n",
    "                                  ticks='outside', ticklen=4, tickangle=0, side='right', anchor='x', overlaying='y', \n",
    "                                  tickfont=dict(family='Myriad Pro',size=16, color='black'), tickcolor='black', \n",
    "                                  showgrid=True,zeroline=False))\n",
    "\n",
    "    if trace_list:\n",
    "        fig = go.Figure(data=trace_list, layout=layout)\n",
    "        plot(fig)#, image='svg')\n",
    "        #pio.write_image(fig,\"Figures/si_fig_5_\"+strain+\".svg\",format='svg')\n"
   ]
  },
  {
   "cell_type": "code",
   "execution_count": null,
   "id": "latter-ferry",
   "metadata": {},
   "outputs": [],
   "source": []
  }
 ],
 "metadata": {
  "kernelspec": {
   "display_name": "Python [conda env:impact] *",
   "language": "python",
   "name": "conda-env-impact-py"
  },
  "language_info": {
   "codemirror_mode": {
    "name": "ipython",
    "version": 3
   },
   "file_extension": ".py",
   "mimetype": "text/x-python",
   "name": "python",
   "nbconvert_exporter": "python",
   "pygments_lexer": "ipython3",
   "version": "3.7.6"
  }
 },
 "nbformat": 4,
 "nbformat_minor": 5
}
