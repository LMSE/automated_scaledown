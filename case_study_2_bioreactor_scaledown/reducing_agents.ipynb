{
 "cells": [
  {
   "cell_type": "markdown",
   "id": "aging-waterproof",
   "metadata": {},
   "source": [
    "# Comparison of reducing agent tests with bioreactor test#\n",
    "\n",
    "### Notebook to generate Supplementary Figs. S5, S6###"
   ]
  },
  {
   "cell_type": "code",
   "execution_count": 1,
   "id": "under-hierarchy",
   "metadata": {},
   "outputs": [
    {
     "name": "stderr",
     "output_type": "stream",
     "text": [
      "C:\\Users\\User\\anaconda3\\envs\\impact\\lib\\site-packages\\IPython\\html.py:14: ShimWarning: The `IPython.html` package has been deprecated since IPython 4.0. You should import from `notebook` instead. `IPython.html.widgets` has moved to `ipywidgets`.\n",
      "  \"`IPython.html.widgets` has moved to `ipywidgets`.\", ShimWarning)\n"
     ]
    },
    {
     "name": "stdout",
     "output_type": "stream",
     "text": [
      "Could not import pyexcel\n",
      "No module named 'pyexcel_xlsx'\n"
     ]
    },
    {
     "data": {
      "text/html": [
       "        <script type=\"text/javascript\">\n",
       "        window.PlotlyConfig = {MathJaxConfig: 'local'};\n",
       "        if (window.MathJax) {MathJax.Hub.Config({SVG: {font: \"STIX-Web\"}});}\n",
       "        if (typeof require !== 'undefined') {\n",
       "        require.undef(\"plotly\");\n",
       "        requirejs.config({\n",
       "            paths: {\n",
       "                'plotly': ['https://cdn.plot.ly/plotly-latest.min']\n",
       "            }\n",
       "        });\n",
       "        require(['plotly'], function(Plotly) {\n",
       "            window._Plotly = Plotly;\n",
       "        });\n",
       "        }\n",
       "        </script>\n",
       "        "
      ]
     },
     "metadata": {},
     "output_type": "display_data"
    },
    {
     "data": {
      "text/html": [
       "        <script type=\"text/javascript\">\n",
       "        window.PlotlyConfig = {MathJaxConfig: 'local'};\n",
       "        if (window.MathJax) {MathJax.Hub.Config({SVG: {font: \"STIX-Web\"}});}\n",
       "        if (typeof require !== 'undefined') {\n",
       "        require.undef(\"plotly\");\n",
       "        requirejs.config({\n",
       "            paths: {\n",
       "                'plotly': ['https://cdn.plot.ly/plotly-latest.min']\n",
       "            }\n",
       "        });\n",
       "        require(['plotly'], function(Plotly) {\n",
       "            window._Plotly = Plotly;\n",
       "        });\n",
       "        }\n",
       "        </script>\n",
       "        "
      ]
     },
     "metadata": {},
     "output_type": "display_data"
    }
   ],
   "source": [
    "#Import necessary modules\n",
    "\n",
    "import impact as                             impt\n",
    "import impact.plotting as                    implot\n",
    "from impact.parsers import Parser as parser\n",
    "import pandas as pd\n",
    "from openpyxl import load_workbook\n",
    "import numpy as np\n",
    "import sys\n",
    "from plotly import tools, subplots\n",
    "import plotly.graph_objs as go\n",
    "import pickle\n",
    "import plotly.io as pio\n",
    "from plotly.subplots import make_subplots\n",
    "from sklearn.decomposition import PCA\n",
    "from sklearn.preprocessing import StandardScaler\n",
    "\n",
    "pio.templates.default = \"none\"\n",
    "import plotly\n",
    "if 'ipykernel' in sys.modules:\n",
    "    from plotly.offline import init_notebook_mode\n",
    "    from plotly.offline import iplot as plot\n",
    "    from IPython.display import HTML\n",
    "    HTML(\"\"\"\n",
    "         <script>\n",
    "          var waitForPlotly = setInterval( function() {\n",
    "          if( typeof(window.Plotly) !== \"undefined\" ){\n",
    "          MathJax.Hub.Config({ SVG: { font: \"STIX-Web\" }, displayAlign: \"center\" });\n",
    "          MathJax.Hub.Queue([\"setRenderer\", MathJax.Hub, \"SVG\"]);\n",
    "          clearInterval(waitForPlotly);}}, 250 );\n",
    "        </script>\n",
    "        \"\"\"\n",
    "    )\n",
    "    init_notebook_mode(connected=True)"
   ]
  },
  {
   "cell_type": "code",
   "execution_count": 2,
   "id": "behavioral-mozambique",
   "metadata": {},
   "outputs": [],
   "source": [
    "impt.settings.perform_curve_fit = False\n",
    "impt.settings.fit_type = 'gompertz'\n",
    "impt.settings.outlier_cleaning_flag = False\n",
    "impt.settings.max_fraction_replicates_to_remove = 0.5\n",
    "impt.settings.std_deviation_cutoff=0.05\n",
    "impt.settings.verbose = False\n",
    "impt.settings.live_calculations = False\n",
    "impt.settings.use_filtered_data = True\n",
    "\n",
    "impt.settings.death_phase_hyperparameter = 4\n",
    "impt.settings.savgolFilterWindowSize = 9"
   ]
  },
  {
   "cell_type": "markdown",
   "id": "considerable-cardiff",
   "metadata": {},
   "source": [
    "### Load raw data ###"
   ]
  },
  {
   "cell_type": "code",
   "execution_count": 3,
   "id": "extreme-property",
   "metadata": {},
   "outputs": [
    {
     "name": "stdout",
     "output_type": "stream",
     "text": [
      "\n",
      "Importing data from ReducingAgentTest_02022021.xlsx...0.3s\n",
      "Parsing time point list...Parsed 8160 time points in 2.0s\n",
      "Parsing analyte list...Parsed 96 single trials in 482.0ms\n",
      "Parsing single trial list...Parsed 25 replicates in 0.1s\n",
      "Analyzing data...Ran analysis in 2.4s\n",
      "\n",
      "\n",
      "Importing data from ReducingAgentTest_Titers_02022021.xlsx...0.0s\n",
      "Parsed 552 timeCourseObjects in 0.321s...Number of lines skipped:  0\n",
      "Parsing time point list...Parsed 552 time points in 0.4s\n",
      "Parsing analyte list...Parsed 92 single trials in 2665.6ms\n",
      "Parsing single trial list...Parsed 24 replicates in 0.2s\n",
      "Analyzing data..."
     ]
    },
    {
     "name": "stderr",
     "output_type": "stream",
     "text": [
      "c:\\users\\user\\onedrive - university of toronto\\research\\phd_uoft\\python\\impact\\impact\\core\\features\\ProductYield.py:22: RuntimeWarning:\n",
      "\n",
      "invalid value encountered in true_divide\n",
      "\n"
     ]
    },
    {
     "name": "stdout",
     "output_type": "stream",
     "text": [
      "Ran analysis in 2.2s\n",
      "\n",
      "\n",
      "Importing data from Bioreactor_Data.xlsx...0.0s\n",
      "Parsed 189 timeCourseObjects in 0.097s...Number of lines skipped:  0\n",
      "Parsing time point list...Parsed 189 time points in 0.0s\n",
      "Parsing analyte list...Parsed 4 single trials in 58.8ms\n",
      "Parsing single trial list...Parsed 4 replicates in 0.0s\n",
      "Analyzing data...No blanks were indicated. Blank subtraction will not be done.Ran analysis in 0.2s\n",
      "\n"
     ]
    }
   ],
   "source": [
    "data_format='spectromax_OD'\n",
    "plate_type = '96 Wells'\n",
    "file_name = 'ReducingAgentTest_02022021.xlsx'\n",
    "red_od = parser.parse_raw_data(data_format=data_format,file_name=file_name,plate_type=plate_type)\n",
    "red_od.calculate()\n",
    "\n",
    "data_format='default_titers'\n",
    "plate_type = '96 Wells'\n",
    "file_name = 'ReducingAgentTest_Titers_02022021.xlsx'\n",
    "red_titers = parser.parse_raw_data(data_format=data_format,file_name=file_name,plate_type=plate_type,id_type='traverse')\n",
    "red_titers.calculate()\n",
    "\n",
    "data_format='default_titers'\n",
    "plate_type = None\n",
    "file_name = 'Bioreactor_Data.xlsx'\n",
    "reactor = parser.parse_raw_data(data_format=data_format,file_name=file_name,id_type='traverse')\n",
    "reactor.calculate()\n"
   ]
  },
  {
   "cell_type": "markdown",
   "id": "optical-democrat",
   "metadata": {},
   "source": [
    "### Write functions to extract required analytes (yields of acetate, formate, lactate, pyruvate, succinate, growth rate and biomass yield) ###"
   ]
  },
  {
   "cell_type": "code",
   "execution_count": 4,
   "id": "scientific-franchise",
   "metadata": {},
   "outputs": [],
   "source": [
    "def average_exponential_specific_productivity(replicate_trial):\n",
    "    growth_rates = []\n",
    "    for single_trial in replicate_trial.single_trials:\n",
    "        OD600 = single_trial.analyte_dict['OD600'].pd_series\n",
    "        growth_second_gradient = np.gradient(single_trial.analyte_dict['OD600'].specific_productivity.data)\n",
    "        end_index = 18+np.argmax(growth_second_gradient[18:]>=-0.005)\n",
    "        if single_trial.analyte_dict['OD600'].specific_productivity.data[end_index]<=0.05 or single_trial.analyte_dict['OD600'].specific_productivity.data[end_index]>=0.2:\n",
    "            end_index = 18+np.argmax(single_trial.analyte_dict['OD600'].specific_productivity.data[18:]<=0.05)\n",
    "        start_index = 3+np.argmax(single_trial.analyte_dict['OD600'].specific_productivity.data[3:])\n",
    "        growth_rates.append(np.average(single_trial.analyte_dict['OD600'].specific_productivity.data[start_index:end_index]))\n",
    "    return growth_rates\n",
    "\n",
    "\n",
    "def average_exponential_specific_productivity_singletrial(replicate_trial):\n",
    "    growth_rates = {}\n",
    "    for single_trial in replicate_trial.single_trials:\n",
    "        OD600 = single_trial.analyte_dict['OD600'].pd_series\n",
    "        growth_second_gradient = np.gradient(single_trial.analyte_dict['OD600'].specific_productivity.data)\n",
    "        end_index = 18+np.argmax(growth_second_gradient[18:]>=-0.005)\n",
    "        if single_trial.analyte_dict['OD600'].specific_productivity.data[end_index]<=0.05 or single_trial.analyte_dict['OD600'].specific_productivity.data[end_index]>=0.2:\n",
    "            end_index = 18+np.argmax(single_trial.analyte_dict['OD600'].specific_productivity.data[18:]<=0.05)\n",
    "        start_index = 3+np.argmax(single_trial.analyte_dict['OD600'].specific_productivity.data[3:])\n",
    "        growth_rate = np.average(single_trial.analyte_dict['OD600'].specific_productivity.data[start_index:end_index])\n",
    "        growth_rates[str(single_trial.trial_identifier.replicate_id)] = growth_rate\n",
    "    return growth_rates\n",
    "\n",
    "\n",
    "\n",
    "def end_point_biomass(replicate_trial):\n",
    "    end_point_od = []\n",
    "    for single_trial in replicate_trial.single_trials:\n",
    "        OD600 = single_trial.analyte_dict['OD600'].pd_series\n",
    "        growth_second_gradient = np.gradient(single_trial.analyte_dict['OD600'].specific_productivity.data)\n",
    "        end_index = 18+np.argmax(growth_second_gradient[18:]>=-0.005)\n",
    "        if single_trial.analyte_dict['OD600'].specific_productivity.data[end_index]<=0.05 or single_trial.analyte_dict['OD600'].specific_productivity.data[end_index]>=0.2:\n",
    "            end_index = 18+np.argmax(single_trial.analyte_dict['OD600'].specific_productivity.data[18:]<=0.05)\n",
    "        end_point_od.append(single_trial.analyte_dict['OD600'].pd_series.iloc[end_index] - \n",
    "                            single_trial.analyte_dict['OD600'].pd_series.iloc[0])\n",
    "    return end_point_od\n",
    "\n",
    "\n",
    "\n",
    "def end_point_biomass_singletrial(replicate_trial):\n",
    "    end_point_od = {}\n",
    "    for single_trial in replicate_trial.single_trials:\n",
    "        OD600 = single_trial.analyte_dict['OD600'].pd_series\n",
    "        growth_second_gradient = np.gradient(single_trial.analyte_dict['OD600'].specific_productivity.data)\n",
    "        end_index = 18+np.argmax(growth_second_gradient[18:]>=-0.005)\n",
    "        if single_trial.analyte_dict['OD600'].specific_productivity.data[end_index]<=0.05 or single_trial.analyte_dict['OD600'].specific_productivity.data[end_index]>=0.2:\n",
    "            end_index = 18+np.argmax(single_trial.analyte_dict['OD600'].specific_productivity.data[18:]<=0.05)\n",
    "        end_point_od[str(single_trial.trial_identifier.replicate_id)] = single_trial.analyte_dict['OD600'].pd_series.iloc[end_index] - single_trial.analyte_dict['OD600'].pd_series.iloc[0]\n",
    "    return end_point_od\n",
    "\n",
    "\n",
    "\n",
    "\n",
    "def yield_calculator(reps, hplc_timepoint=-1, od_timepoint=-1):\n",
    "    od_rep, hplc_rep = reps\n",
    "    y_vals = []\n",
    "    y_errs = []\n",
    "    mass_dict = {'Lactate':89.078,\n",
    "             'Acetate':59.052,\n",
    "             'Formate':45.025,\n",
    "             'Succinate':116.088,\n",
    "             'Pyruvate':87.06,\n",
    "             'Glucose':180.156}\n",
    "\n",
    "    for analyte in analyte_list:\n",
    "        \n",
    "        #For analytes\n",
    "        if analyte not in ['Growth Rate', 'Biomass']:\n",
    "            #For plate expt\n",
    "            if hplc_rep.blank:\n",
    "                y = -hplc_rep.avg.analyte_dict[analyte].pd_series.iloc[hplc_timepoint]/hplc_rep.avg.analyte_dict['Glucose'].pd_series.iloc[hplc_timepoint] * (mass_dict['Glucose']/mass_dict[analyte])\n",
    "                y_err =  y*np.sqrt((hplc_rep.std.analyte_dict[analyte].pd_series.iloc[hplc_timepoint]/hplc_rep.avg.analyte_dict[analyte].pd_series.iloc[hplc_timepoint])**2 + (hplc_rep.std.analyte_dict['Glucose'].pd_series.iloc[hplc_timepoint]/hplc_rep.avg.analyte_dict['Glucose'].pd_series.iloc[hplc_timepoint])**2)            #For bioreactor expt\n",
    "            else:\n",
    "                y = hplc_rep.avg.analyte_dict[analyte].pd_series[:hplc_timepoint].iloc[-1]/(hplc_rep.avg.analyte_dict['Glucose'].pd_series[0] - hplc_rep.avg.analyte_dict['Glucose'].pd_series[:hplc_timepoint].iloc[-1]) * (mass_dict['Glucose']/mass_dict[analyte])\n",
    "                y_err = 0\n",
    "        \n",
    "        #For growth rate\n",
    "        elif analyte=='Growth Rate':\n",
    "            #For plate expt\n",
    "            if od_rep.blank:\n",
    "                specific_prod = average_exponential_specific_productivity(od_rep) \n",
    "                y = np.average(specific_prod)\n",
    "                y_err = np.std(specific_prod)\n",
    "\n",
    "            #For bioreactor expt\n",
    "            else:\n",
    "                y = np.average(np.gradient(od_rep.avg.analyte_dict['OD600'].pd_series[:od_timepoint].values)/np.gradient(od_rep.avg.analyte_dict['OD600'].pd_series[:od_timepoint].index.values)/od_rep.avg.analyte_dict['OD600'].pd_series[:od_timepoint].values)\n",
    "                y_err = 0\n",
    "        \n",
    "                \n",
    "        #For biomass yield\n",
    "        elif analyte=='Biomass':\n",
    "            #For plate expt\n",
    "            if od_rep.blank:\n",
    "                end_point_ods = end_point_biomass(od_rep)\n",
    "                y = -np.average(end_point_ods)/hplc_rep.avg.analyte_dict['Glucose'].pd_series.iloc[od_timepoint] * (0.3) #0.3 g/L dry weight of cells in 1 unit of OD600\n",
    "                y_err = np.std(end_point_ods)\n",
    "                y_err = y*np.sqrt((y_err/np.average(end_point_ods))**2 + \n",
    "                                  (hplc_rep.std.analyte_dict['Glucose'].pd_series.iloc[od_timepoint]/hplc_rep.avg.analyte_dict['Glucose'].pd_series.iloc[od_timepoint])**2)\n",
    "            #For bioreactor expt\n",
    "            else:\n",
    "                y = (od_rep.avg.analyte_dict['OD600'].pd_series[:od_timepoint].iloc[-1] - od_rep.avg.analyte_dict['OD600'].pd_series.iloc[0])/(hplc_rep.avg.analyte_dict['Glucose'].pd_series[0] - hplc_rep.avg.analyte_dict['Glucose'].pd_series[:od_timepoint].iloc[-1]) * (0.3) #0.3 g/L dry weight of cells in 1 unit of OD600\n",
    "                y_err = 0\n",
    "        y_vals.append(y)\n",
    "        y_errs.append(y_err)        \n",
    "    return y_vals, y_errs\n"
   ]
  },
  {
   "cell_type": "markdown",
   "id": "hidden-programming",
   "metadata": {},
   "source": [
    "## Loading individual replicate data for all experimental conditions to perform PCA ##"
   ]
  },
  {
   "cell_type": "code",
   "execution_count": 5,
   "id": "literary-thesaurus",
   "metadata": {},
   "outputs": [],
   "source": [
    "strain_list = ['WT', 'Δ(adh,pta)-D1', 'Δ(adh,pta)-D28', 'Δ(adh,pta)-D59']\n",
    "condition_list = ['RDM + 7.0 a.u. pH', 'RDM + 1.0 mM Cysteine', 'RDM + 1.0 mM DTT', 'RDM + 8.0 mM Na2S', 'RDM + 8.0 a.u. pH']\n",
    "analyte_list = ['Acetate', 'Formate', 'Lactate', 'Pyruvate', 'Succinate', 'Biomass', 'Growth Rate']\n",
    "\n",
    "st_df = pd.DataFrame()\n",
    "for strain in strain_list:\n",
    "    if strain.lower() != 'blank':\n",
    "        for condition in condition_list:\n",
    "            temp_df = pd.DataFrame()\n",
    "            od_rep = [rep for rep in red_od.replicate_trials if rep.trial_identifier.strain.name==strain and str(rep.trial_identifier.media)==condition][0]\n",
    "            hplc_rep = [rep for rep in red_titers.replicate_trials if rep.trial_identifier.strain.name==strain and str(rep.trial_identifier.media)==condition][0] \n",
    "            for analyte in ['Glucose']+analyte_list:\n",
    "                if analyte not in ['Biomass', 'Growth Rate']:\n",
    "                    temp_df = pd.concat([temp_df,hplc_rep.replicate_df[analyte].transpose().rename(columns={24.0:analyte.lower()})], axis=1)\n",
    "\n",
    "                elif analyte=='Growth Rate':\n",
    "                    temp_df = pd.concat([temp_df, pd.Series(average_exponential_specific_productivity_singletrial(od_rep))],axis=1).rename(columns={0:'growth_rate'})\n",
    "                    \n",
    "                elif analyte=='Biomass':\n",
    "                    temp_df = pd.concat([temp_df, pd.Series(end_point_biomass_singletrial(od_rep))*0.3],axis=1).rename(columns={0:'biomass'})\n",
    "            temp_df.reset_index(level=0, inplace=True)\n",
    "            temp_df = temp_df.rename(columns={'index':'replicate'})\n",
    "            temp_df = temp_df.fillna(temp_df.mean())\n",
    "            temp_df['biomass_yield'] = -temp_df['biomass']/temp_df['glucose']\n",
    "            temp_df['strain'] = strain\n",
    "            temp_df['condition'] = condition\n",
    "            temp_df['starting_glucose'] = hplc_rep.blank.avg.analyte_dict['Glucose'].pd_series[24.0]\n",
    "            temp_df = temp_df.drop(columns=['biomass'])\n",
    "            temp_df = temp_df.sort_values(by=['strain', 'condition', 'replicate'])\n",
    "            st_df = pd.concat([st_df,temp_df], axis=0)\n",
    "            \n",
    "\n",
    "for strain in strain_list:\n",
    "    temp_df = pd.DataFrame()\n",
    "    rep = [rep for rep in reactor.replicate_trials if rep.trial_identifier.strain.name==strain][0]\n",
    "    y,temp = yield_calculator([rep,rep],od_timepoint=8, hplc_timepoint=8)\n",
    "    entry = {analyte.lower(): y[i] for i,analyte in enumerate(analyte_list)}\n",
    "    temp_df = temp_df.append(entry,ignore_index=True)\n",
    "    temp_df = temp_df.rename(columns={'growth rate':'growth_rate', 'biomass': 'biomass_yield'})\n",
    "    temp_df['strain'] = strain\n",
    "    temp_df['condition'] = 'reactor'\n",
    "    temp_df['replicate'] = '1'\n",
    "    temp_df['glucose'] = rep.avg.analyte_dict['Glucose'].pd_series.loc[8] - rep.avg.analyte_dict['Glucose'].pd_series.loc[0]\n",
    "    temp_df['starting_glucose'] = rep.avg.analyte_dict['Glucose'].pd_series.loc[0]\n",
    "\n",
    "    st_df = pd.concat([st_df,temp_df], axis=0)\n",
    "\n",
    "\n",
    "st_df = st_df.reset_index(level=0, drop=True)\n"
   ]
  },
  {
   "cell_type": "markdown",
   "id": "accompanied-worst",
   "metadata": {},
   "source": [
    "### PCA with 6 components on standard scaled phenotype data ###"
   ]
  },
  {
   "cell_type": "code",
   "execution_count": 6,
   "id": "instrumental-pricing",
   "metadata": {},
   "outputs": [],
   "source": [
    "features = ['acetate', 'formate', 'lactate', 'pyruvate', 'succinate', 'growth_rate', 'biomass_yield']\n",
    "\n",
    "pca = PCA(n_components=6)\n",
    "x = st_df[features].values\n",
    "y = st_df[['strain','condition']].values\n",
    "x = StandardScaler().fit_transform(x)\n",
    "pcs = pca.fit_transform(x)\n",
    "principal_df = pd.DataFrame(data=pcs[:,:4], columns = ['PC1', 'PC2','PC3','PC4'])\n",
    "\n",
    "final_df = st_df.copy(deep=True)\n",
    "final_df = final_df.drop(columns=features+['replicate','glucose','starting_glucose'])\n",
    "final_df = pd.concat([final_df,principal_df], axis=1)"
   ]
  },
  {
   "cell_type": "markdown",
   "id": "every-wholesale",
   "metadata": {},
   "source": [
    "### Plot cumulative variance represented by each component ###"
   ]
  },
  {
   "cell_type": "code",
   "execution_count": 7,
   "id": "central-senior",
   "metadata": {},
   "outputs": [
    {
     "data": {
      "application/vnd.plotly.v1+json": {
       "config": {
        "linkText": "Export to plot.ly",
        "plotlyServerURL": "https://plot.ly",
        "showLink": false
       },
       "data": [
        {
         "line": {
          "color": "rgb(33,100,175)",
          "width": 1.5
         },
         "mode": "lines+markers",
         "name": "Growth Rate",
         "type": "scatter",
         "x": [
          1,
          2,
          3,
          4,
          5,
          6
         ],
         "y": [
          0.5946730387270885,
          0.7475054358147764,
          0.8644257253581921,
          0.9492842684115279,
          0.9755412538877692,
          0.9974264107506553
         ]
        }
       ],
       "layout": {
        "height": 425,
        "legend": {
         "font": {
          "color": "black",
          "family": "Myriad Pro",
          "size": 12
         },
         "orientation": "h",
         "x": 0.1,
         "y": -0.15
        },
        "template": {
         "data": {
          "scatter": [
           {
            "type": "scatter"
           }
          ]
         }
        },
        "width": 405,
        "xaxis": {
         "linecolor": "black",
         "linewidth": 1,
         "mirror": true,
         "nticks": 8,
         "showgrid": true,
         "showline": true,
         "side": "bottom",
         "tickangle": 0,
         "tickcolor": "black",
         "tickfont": {
          "color": "black",
          "family": "Myriad Pro",
          "size": 16
         },
         "ticklen": 4,
         "ticks": "outside",
         "title": {
          "font": {
           "color": "black",
           "family": "Myriad Pro",
           "size": 16
          },
          "standoff": 0.5,
          "text": "Number of Components"
         },
         "zeroline": true
        },
        "yaxis": {
         "anchor": "x",
         "linecolor": "black",
         "linewidth": 1,
         "mirror": true,
         "showgrid": true,
         "showline": true,
         "side": "left",
         "tickangle": 0,
         "tickcolor": "black",
         "tickfont": {
          "color": "black",
          "family": "Myriad Pro",
          "size": 16
         },
         "ticklen": 4,
         "ticks": "outside",
         "title": {
          "font": {
           "color": "black",
           "family": "Myriad Pro",
           "size": 16
          },
          "text": "Cumulative Variance Explained"
         },
         "zeroline": true
        }
       }
      },
      "text/html": [
       "<div>                            <div id=\"8ad4b74c-3554-4715-aa46-e127c89957c6\" class=\"plotly-graph-div\" style=\"height:425px; width:405px;\"></div>            <script type=\"text/javascript\">                require([\"plotly\"], function(Plotly) {                    window.PLOTLYENV=window.PLOTLYENV || {};                                    if (document.getElementById(\"8ad4b74c-3554-4715-aa46-e127c89957c6\")) {                    Plotly.newPlot(                        \"8ad4b74c-3554-4715-aa46-e127c89957c6\",                        [{\"line\": {\"color\": \"rgb(33,100,175)\", \"width\": 1.5}, \"mode\": \"lines+markers\", \"name\": \"Growth Rate\", \"type\": \"scatter\", \"x\": [1, 2, 3, 4, 5, 6], \"y\": [0.5946730387270885, 0.7475054358147764, 0.8644257253581921, 0.9492842684115279, 0.9755412538877692, 0.9974264107506553]}],                        {\"height\": 425, \"legend\": {\"font\": {\"color\": \"black\", \"family\": \"Myriad Pro\", \"size\": 12}, \"orientation\": \"h\", \"x\": 0.1, \"y\": -0.15}, \"template\": {\"data\": {\"scatter\": [{\"type\": \"scatter\"}]}}, \"width\": 405, \"xaxis\": {\"linecolor\": \"black\", \"linewidth\": 1, \"mirror\": true, \"nticks\": 8, \"showgrid\": true, \"showline\": true, \"side\": \"bottom\", \"tickangle\": 0, \"tickcolor\": \"black\", \"tickfont\": {\"color\": \"black\", \"family\": \"Myriad Pro\", \"size\": 16}, \"ticklen\": 4, \"ticks\": \"outside\", \"title\": {\"font\": {\"color\": \"black\", \"family\": \"Myriad Pro\", \"size\": 16}, \"standoff\": 0.5, \"text\": \"Number of Components\"}, \"zeroline\": true}, \"yaxis\": {\"anchor\": \"x\", \"linecolor\": \"black\", \"linewidth\": 1, \"mirror\": true, \"showgrid\": true, \"showline\": true, \"side\": \"left\", \"tickangle\": 0, \"tickcolor\": \"black\", \"tickfont\": {\"color\": \"black\", \"family\": \"Myriad Pro\", \"size\": 16}, \"ticklen\": 4, \"ticks\": \"outside\", \"title\": {\"font\": {\"color\": \"black\", \"family\": \"Myriad Pro\", \"size\": 16}, \"text\": \"Cumulative Variance Explained\"}, \"zeroline\": true}},                        {\"responsive\": true}                    ).then(function(){\n",
       "                            \n",
       "var gd = document.getElementById('8ad4b74c-3554-4715-aa46-e127c89957c6');\n",
       "var x = new MutationObserver(function (mutations, observer) {{\n",
       "        var display = window.getComputedStyle(gd).display;\n",
       "        if (!display || display === 'none') {{\n",
       "            console.log([gd, 'removed!']);\n",
       "            Plotly.purge(gd);\n",
       "            observer.disconnect();\n",
       "        }}\n",
       "}});\n",
       "\n",
       "// Listen for the removal of the full notebook cells\n",
       "var notebookContainer = gd.closest('#notebook-container');\n",
       "if (notebookContainer) {{\n",
       "    x.observe(notebookContainer, {childList: true});\n",
       "}}\n",
       "\n",
       "// Listen for the clearing of the current output cell\n",
       "var outputEl = gd.closest('.output');\n",
       "if (outputEl) {{\n",
       "    x.observe(outputEl, {childList: true});\n",
       "}}\n",
       "\n",
       "                        })                };                });            </script>        </div>"
      ]
     },
     "metadata": {},
     "output_type": "display_data"
    }
   ],
   "source": [
    "trace_list = []\n",
    "\n",
    "trace_list.append(go.Scatter(x=np.arange(1,7),\n",
    "                             y=np.cumsum(pca.explained_variance_ratio_),\n",
    "                             mode='lines+markers',\n",
    "                             line=dict(width=1.5, color='rgb(33,100,175)'),\n",
    "                             name=analyte))\n",
    "\n",
    "\n",
    "layout = go.Layout(height=425, width=405, legend_x= 0.1, legend_y=-0.15, legend_font=dict(family='Myriad Pro', size=12, color='black'), legend_orientation='h',\n",
    "                   xaxis=dict(title='Number of Components',\n",
    "                              title_standoff=0.5,\n",
    "                              titlefont=dict(family='Myriad Pro', size=16, color='black'),\n",
    "                              showline=True, linewidth=1, linecolor='black', mirror=True, side='bottom',\n",
    "                              ticks='outside', ticklen=4, tickangle=0, nticks=8,\n",
    "                              tickfont=dict(size=16, family='Myriad Pro', color='black'), tickcolor='black',\n",
    "                              showgrid=True,zeroline=True),\n",
    "                  \n",
    "                  yaxis=dict(title='Cumulative Variance Explained',\n",
    "                            titlefont=dict(family='Myriad Pro', size=16, color='black'),\n",
    "\n",
    "                              anchor='x', side='left', showgrid=True, zeroline=True,\n",
    "                            tickfont=dict(family='Myriad Pro',size=16, color='black'), tickcolor='black', \n",
    "\n",
    "                              showline=True, linewidth=1, linecolor='black', mirror=True,\n",
    "                              ticks='outside', ticklen=4, tickangle=0))\n",
    "\n",
    "\n",
    "\n",
    "            \n",
    "fig = go.Figure(data = trace_list, layout=layout)\n",
    "plot(fig)\n",
    "#pio.write_image(fig,\"Figures/si_fig_red_pca_variance.svg\",format='svg')\n"
   ]
  },
  {
   "cell_type": "markdown",
   "id": "hispanic-horror",
   "metadata": {},
   "source": [
    "### Plot scores of first 3 PCs ###"
   ]
  },
  {
   "cell_type": "code",
   "execution_count": 8,
   "id": "jewish-conditioning",
   "metadata": {},
   "outputs": [
    {
     "data": {
      "application/vnd.plotly.v1+json": {
       "config": {
        "linkText": "Export to plot.ly",
        "plotlyServerURL": "https://plot.ly",
        "showLink": false
       },
       "data": [
        {
         "marker": {
          "color": "rgb(54, 146, 68)",
          "line": {
           "color": "black",
           "width": 0.5
          },
          "size": 12,
          "symbol": "circle"
         },
         "mode": "markers",
         "showlegend": false,
         "type": "scatter",
         "x": [
          8.416464071926855
         ],
         "xaxis": "x2",
         "y": [
          4.2703512861826765
         ],
         "yaxis": "y2"
        },
        {
         "marker": {
          "color": "rgb(33, 100, 175)",
          "line": {
           "color": "black",
           "width": 0.5
          },
          "size": 8,
          "symbol": "circle"
         },
         "mode": "markers",
         "showlegend": false,
         "type": "scatter",
         "x": [
          -0.3824847069006511,
          -0.4210878791831721,
          -0.43652064738776725,
          -0.5203734527836535
         ],
         "xaxis": "x2",
         "y": [
          3.24687528935492,
          3.1742368391116247,
          3.2161203008408,
          3.297862307252109
         ],
         "yaxis": "y2"
        },
        {
         "marker": {
          "color": "rgb(217, 72, 42)",
          "line": {
           "color": "black",
           "width": 0.5
          },
          "size": 8,
          "symbol": "circle"
         },
         "mode": "markers",
         "showlegend": false,
         "type": "scatter",
         "x": [
          -0.6016012266442115,
          -0.5897675363360623,
          -0.5554004639244072,
          -0.5489160786004234
         ],
         "xaxis": "x2",
         "y": [
          3.0843943708728636,
          3.364746488327563,
          3.3330863583343002,
          3.0683930086766535
         ],
         "yaxis": "y2"
        },
        {
         "marker": {
          "color": "rgb(146, 54, 132)",
          "line": {
           "color": "black",
           "width": 0.5
          },
          "size": 8,
          "symbol": "circle"
         },
         "mode": "markers",
         "showlegend": false,
         "type": "scatter",
         "x": [
          -1.2326819539272076,
          -1.2775215479420585,
          -1.3186833143442402,
          -1.4573122883134575
         ],
         "xaxis": "x2",
         "y": [
          2.5087738992505697,
          2.644812078113189,
          2.5075959753000943,
          2.6656213271810865
         ],
         "yaxis": "y2"
        },
        {
         "marker": {
          "color": "rgb(175, 127, 91)",
          "line": {
           "color": "black",
           "width": 0.5
          },
          "size": 8,
          "symbol": "circle"
         },
         "mode": "markers",
         "showlegend": false,
         "type": "scatter",
         "x": [
          -0.32183321165158507,
          -0.3159354650246948,
          -0.3144656946268456,
          -0.2889431919807998
         ],
         "xaxis": "x2",
         "y": [
          3.5122708297378105,
          3.4911031003595046,
          3.516928692640329,
          3.402754958954992
         ],
         "yaxis": "y2"
        },
        {
         "marker": {
          "color": "rgb(166.0, 193, 223)",
          "line": {
           "color": "black",
           "width": 0.5
          },
          "size": 8,
          "symbol": "circle"
         },
         "mode": "markers",
         "showlegend": false,
         "type": "scatter",
         "x": [
          0.026038643750224133,
          -0.11034926929576659,
          -0.16134566223090457,
          -0.12565666412478466
         ],
         "xaxis": "x2",
         "y": [
          4.308029176110424,
          4.329930637774318,
          4.298911025043553,
          4.361785479832931
         ],
         "yaxis": "y2"
        },
        {
         "marker": {
          "color": "rgb(54, 146, 68)",
          "line": {
           "color": "black",
           "width": 0.5
          },
          "size": 12,
          "symbol": "x"
         },
         "mode": "markers",
         "showlegend": false,
         "type": "scatter",
         "x": [
          -0.4503216474458601
         ],
         "xaxis": "x2",
         "y": [
          0.3356453436117262
         ],
         "yaxis": "y2"
        },
        {
         "marker": {
          "color": "rgb(33, 100, 175)",
          "line": {
           "color": "black",
           "width": 0.5
          },
          "size": 8,
          "symbol": "x"
         },
         "mode": "markers",
         "showlegend": false,
         "type": "scatter",
         "x": [
          -0.06014379470682033,
          -0.1590367624273094,
          -0.15765082970787556,
          -0.16435827550595558
         ],
         "xaxis": "x2",
         "y": [
          -1.200662294235045,
          -1.1211914382067711,
          -1.1477484585856832,
          -1.1111681376948885
         ],
         "yaxis": "y2"
        },
        {
         "marker": {
          "color": "rgb(217, 72, 42)",
          "line": {
           "color": "black",
           "width": 0.5
          },
          "size": 8,
          "symbol": "x"
         },
         "mode": "markers",
         "showlegend": false,
         "type": "scatter",
         "x": [
          -0.34298264313244065,
          -0.3149441068500843,
          -0.330239694116104,
          -0.3007457336546264
         ],
         "xaxis": "x2",
         "y": [
          -1.152093389866138,
          -1.2475528016103135,
          -1.1817769506441662,
          -1.2418945328153546
         ],
         "yaxis": "y2"
        },
        {
         "marker": {
          "color": "rgb(146, 54, 132)",
          "line": {
           "color": "black",
           "width": 0.5
          },
          "size": 8,
          "symbol": "x"
         },
         "mode": "markers",
         "showlegend": false,
         "type": "scatter",
         "x": [
          -0.5453572833472937,
          -0.47645322484316344,
          -0.5241160863149315,
          -0.5667568282426501
         ],
         "xaxis": "x2",
         "y": [
          -1.2684172236642435,
          -1.1398516218490935,
          -1.044633226881385,
          -1.206959065007897
         ],
         "yaxis": "y2"
        },
        {
         "marker": {
          "color": "rgb(175, 127, 91)",
          "line": {
           "color": "black",
           "width": 0.5
          },
          "size": 8,
          "symbol": "x"
         },
         "mode": "markers",
         "showlegend": false,
         "type": "scatter",
         "x": [
          -0.0982269232206828,
          -0.08731269637009159,
          -0.06846955979275211,
          -0.07007441539639779
         ],
         "xaxis": "x2",
         "y": [
          -1.5586952964552696,
          -1.4466299610367093,
          -1.4450920754294658,
          -1.4476198312918338
         ],
         "yaxis": "y2"
        },
        {
         "marker": {
          "color": "rgb(166.0, 193, 223)",
          "line": {
           "color": "black",
           "width": 0.5
          },
          "size": 8,
          "symbol": "x"
         },
         "mode": "markers",
         "showlegend": false,
         "type": "scatter",
         "x": [
          0.38400341211804856,
          0.2649131333508012,
          0.1897087279108549,
          0.10389673152654669
         ],
         "xaxis": "x2",
         "y": [
          -1.4084851424507712,
          -1.4936038297194127,
          -1.5927172474465237,
          -1.711976922932068
         ],
         "yaxis": "y2"
        },
        {
         "marker": {
          "color": "rgb(54, 146, 68)",
          "line": {
           "color": "black",
           "width": 0.5
          },
          "size": 12,
          "symbol": "diamond"
         },
         "mode": "markers",
         "showlegend": false,
         "type": "scatter",
         "x": [
          0.2488460453133756
         ],
         "xaxis": "x2",
         "y": [
          0.7469064309736004
         ],
         "yaxis": "y2"
        },
        {
         "marker": {
          "color": "rgb(33, 100, 175)",
          "line": {
           "color": "black",
           "width": 0.5
          },
          "size": 8,
          "symbol": "diamond"
         },
         "mode": "markers",
         "showlegend": false,
         "type": "scatter",
         "x": [
          0.0762372436744645,
          -0.04666051071477941,
          -0.05722730726051445,
          -0.051358217700350185
         ],
         "xaxis": "x2",
         "y": [
          -1.0189232264866463,
          -1.000995193797187,
          -1.0018550795142411,
          -1.0514502747081285
         ],
         "yaxis": "y2"
        },
        {
         "marker": {
          "color": "rgb(217, 72, 42)",
          "line": {
           "color": "black",
           "width": 0.5
          },
          "size": 8,
          "symbol": "diamond"
         },
         "mode": "markers",
         "showlegend": false,
         "type": "scatter",
         "x": [
          -0.2783385927058724,
          -0.23820390882078415,
          -0.25642880139774904,
          -0.2775140877055973
         ],
         "xaxis": "x2",
         "y": [
          -0.9459180852796545,
          -0.8691361381803101,
          -0.9319557577722652,
          -0.9743867726876877
         ],
         "yaxis": "y2"
        },
        {
         "marker": {
          "color": "rgb(146, 54, 132)",
          "line": {
           "color": "black",
           "width": 0.5
          },
          "size": 8,
          "symbol": "diamond"
         },
         "mode": "markers",
         "showlegend": false,
         "type": "scatter",
         "x": [
          -0.41540377207894524,
          -0.42129809723137895,
          -0.44256518500568437,
          -0.4198876028837609
         ],
         "xaxis": "x2",
         "y": [
          -1.164050543723825,
          -1.1761724043073158,
          -1.2476865871922256,
          -1.1923843027991465
         ],
         "yaxis": "y2"
        },
        {
         "marker": {
          "color": "rgb(175, 127, 91)",
          "line": {
           "color": "black",
           "width": 0.5
          },
          "size": 8,
          "symbol": "diamond"
         },
         "mode": "markers",
         "showlegend": false,
         "type": "scatter",
         "x": [
          -0.032724515410478175,
          -0.12223135019142761,
          -0.09249732224232882,
          0.07918377101702363
         ],
         "xaxis": "x2",
         "y": [
          -1.374956375672494,
          -1.4421478371390737,
          -1.3254585591534815,
          -1.5032263770213607
         ],
         "yaxis": "y2"
        },
        {
         "marker": {
          "color": "rgb(166.0, 193, 223)",
          "line": {
           "color": "black",
           "width": 0.5
          },
          "size": 8,
          "symbol": "diamond"
         },
         "mode": "markers",
         "showlegend": false,
         "type": "scatter",
         "x": [
          0.28834158541602617,
          0.23425421020716003,
          0.1866478706139751,
          0.18443065819189047
         ],
         "xaxis": "x2",
         "y": [
          -1.5697260161705917,
          -1.3338749622186425,
          -1.5043556816079044,
          -1.5922094765675832
         ],
         "yaxis": "y2"
        },
        {
         "marker": {
          "color": "rgb(54, 146, 68)",
          "line": {
           "color": "black",
           "width": 0.5
          },
          "size": 12,
          "symbol": "square"
         },
         "mode": "markers",
         "showlegend": false,
         "type": "scatter",
         "x": [
          0.46928661656394477
         ],
         "xaxis": "x2",
         "y": [
          1.6498929127101565
         ],
         "yaxis": "y2"
        },
        {
         "marker": {
          "color": "rgb(33, 100, 175)",
          "line": {
           "color": "black",
           "width": 0.5
          },
          "size": 8,
          "symbol": "square"
         },
         "mode": "markers",
         "showlegend": false,
         "type": "scatter",
         "x": [
          0.41218900090124844,
          0.3538015716890598,
          0.3155551741922495,
          0.3519166929072901
         ],
         "xaxis": "x2",
         "y": [
          -1.0357018585674795,
          -0.971972341678189,
          -0.8993214850233164,
          -0.9441434546414833
         ],
         "yaxis": "y2"
        },
        {
         "marker": {
          "color": "rgb(217, 72, 42)",
          "line": {
           "color": "black",
           "width": 0.5
          },
          "size": 8,
          "symbol": "square"
         },
         "mode": "markers",
         "showlegend": false,
         "type": "scatter",
         "x": [
          0.0681818581590779,
          0.03434843505603532,
          0.08849732736823351,
          0.11967439238854176
         ],
         "xaxis": "x2",
         "y": [
          -0.9894295275008335,
          -0.961068901787321,
          -0.8847744261142441,
          -0.8902985361957357
         ],
         "yaxis": "y2"
        },
        {
         "marker": {
          "color": "rgb(146, 54, 132)",
          "line": {
           "color": "black",
           "width": 0.5
          },
          "size": 8,
          "symbol": "square"
         },
         "mode": "markers",
         "showlegend": false,
         "type": "scatter",
         "x": [
          -0.11102827228616065,
          -0.09616387050424105,
          -0.10140597937209508,
          -0.08569955853374987
         ],
         "xaxis": "x2",
         "y": [
          -1.4521138231908846,
          -1.3868989434666459,
          -1.4071448295291098,
          -1.3556487894728988
         ],
         "yaxis": "y2"
        },
        {
         "marker": {
          "color": "rgb(175, 127, 91)",
          "line": {
           "color": "black",
           "width": 0.5
          },
          "size": 8,
          "symbol": "square"
         },
         "mode": "markers",
         "showlegend": false,
         "type": "scatter",
         "x": [
          0.6287361032927451,
          0.6572431754365174,
          0.6258570601996976,
          0.6354529141824521
         ],
         "xaxis": "x2",
         "y": [
          -1.3214148376525934,
          -1.2248033986403246,
          -1.2606706925805637,
          -1.2851363388960304
         ],
         "yaxis": "y2"
        },
        {
         "marker": {
          "color": "rgb(166.0, 193, 223)",
          "line": {
           "color": "black",
           "width": 0.5
          },
          "size": 8,
          "symbol": "square"
         },
         "mode": "markers",
         "showlegend": false,
         "type": "scatter",
         "x": [
          0.9875476840698861,
          0.9340797832178782,
          0.9763114639347678,
          0.9030623537667594
         ],
         "xaxis": "x2",
         "y": [
          -1.4618851889753388,
          -1.447052002552236,
          -1.3855927670098007,
          -1.3823168732499695
         ],
         "yaxis": "y2"
        },
        {
         "marker": {
          "color": "rgb(54, 146, 68)",
          "line": {
           "color": "black",
           "width": 0.5
          },
          "size": 12,
          "symbol": "circle"
         },
         "mode": "markers",
         "showlegend": false,
         "type": "scatter",
         "x": [
          -1.870255523033803
         ],
         "xaxis": "x3",
         "y": [
          4.2703512861826765
         ],
         "yaxis": "y3"
        },
        {
         "marker": {
          "color": "rgb(33, 100, 175)",
          "line": {
           "color": "black",
           "width": 0.5
          },
          "size": 8,
          "symbol": "circle"
         },
         "mode": "markers",
         "showlegend": false,
         "type": "scatter",
         "x": [
          -0.09101248211638543,
          -0.2052340601013772,
          -0.24903540276966424,
          -0.1818206394777378
         ],
         "xaxis": "x3",
         "y": [
          3.24687528935492,
          3.1742368391116247,
          3.2161203008408,
          3.297862307252109
         ],
         "yaxis": "y3"
        },
        {
         "marker": {
          "color": "rgb(217, 72, 42)",
          "line": {
           "color": "black",
           "width": 0.5
          },
          "size": 8,
          "symbol": "circle"
         },
         "mode": "markers",
         "showlegend": false,
         "type": "scatter",
         "x": [
          -0.08839876263751681,
          -0.02833133868615707,
          -0.03796138740500365,
          -0.08277816367705444
         ],
         "xaxis": "x3",
         "y": [
          3.0843943708728636,
          3.364746488327563,
          3.3330863583343002,
          3.0683930086766535
         ],
         "yaxis": "y3"
        },
        {
         "marker": {
          "color": "rgb(146, 54, 132)",
          "line": {
           "color": "black",
           "width": 0.5
          },
          "size": 8,
          "symbol": "circle"
         },
         "mode": "markers",
         "showlegend": false,
         "type": "scatter",
         "x": [
          -0.3825032887815774,
          -0.5417804429169171,
          -0.5509966189913942,
          -0.437068577685074
         ],
         "xaxis": "x3",
         "y": [
          2.5087738992505697,
          2.644812078113189,
          2.5075959753000943,
          2.6656213271810865
         ],
         "yaxis": "y3"
        },
        {
         "marker": {
          "color": "rgb(175, 127, 91)",
          "line": {
           "color": "black",
           "width": 0.5
          },
          "size": 8,
          "symbol": "circle"
         },
         "mode": "markers",
         "showlegend": false,
         "type": "scatter",
         "x": [
          0.24477032497336199,
          0.21112311406509157,
          0.1926401156244551,
          0.11069376546552137
         ],
         "xaxis": "x3",
         "y": [
          3.5122708297378105,
          3.4911031003595046,
          3.516928692640329,
          3.402754958954992
         ],
         "yaxis": "y3"
        },
        {
         "marker": {
          "color": "rgb(166.0, 193, 223)",
          "line": {
           "color": "black",
           "width": 0.5
          },
          "size": 8,
          "symbol": "circle"
         },
         "mode": "markers",
         "showlegend": false,
         "type": "scatter",
         "x": [
          0.9670910326287077,
          0.9654594723710361,
          0.9900069569009758,
          1.0146106191079072
         ],
         "xaxis": "x3",
         "y": [
          4.308029176110424,
          4.329930637774318,
          4.298911025043553,
          4.361785479832931
         ],
         "yaxis": "y3"
        },
        {
         "marker": {
          "color": "rgb(54, 146, 68)",
          "line": {
           "color": "black",
           "width": 0.5
          },
          "size": 12,
          "symbol": "x"
         },
         "mode": "markers",
         "showlegend": false,
         "type": "scatter",
         "x": [
          -1.2400863163494071
         ],
         "xaxis": "x3",
         "y": [
          0.3356453436117262
         ],
         "yaxis": "y3"
        },
        {
         "marker": {
          "color": "rgb(33, 100, 175)",
          "line": {
           "color": "black",
           "width": 0.5
          },
          "size": 8,
          "symbol": "x"
         },
         "mode": "markers",
         "showlegend": false,
         "type": "scatter",
         "x": [
          -0.4425179754079885,
          -0.48275793164982816,
          -0.4296630223681925,
          -0.4263490184499278
         ],
         "xaxis": "x3",
         "y": [
          -1.200662294235045,
          -1.1211914382067711,
          -1.1477484585856832,
          -1.1111681376948885
         ],
         "yaxis": "y3"
        },
        {
         "marker": {
          "color": "rgb(217, 72, 42)",
          "line": {
           "color": "black",
           "width": 0.5
          },
          "size": 8,
          "symbol": "x"
         },
         "mode": "markers",
         "showlegend": false,
         "type": "scatter",
         "x": [
          -0.4367569302005862,
          -0.4786180663882526,
          -0.43569511893042223,
          -0.35055862780470465
         ],
         "xaxis": "x3",
         "y": [
          -1.152093389866138,
          -1.2475528016103135,
          -1.1817769506441662,
          -1.2418945328153546
         ],
         "yaxis": "y3"
        },
        {
         "marker": {
          "color": "rgb(146, 54, 132)",
          "line": {
           "color": "black",
           "width": 0.5
          },
          "size": 8,
          "symbol": "x"
         },
         "mode": "markers",
         "showlegend": false,
         "type": "scatter",
         "x": [
          -0.22153206044502233,
          -0.16986209867273294,
          -0.200551358978605,
          -0.0727242098702631
         ],
         "xaxis": "x3",
         "y": [
          -1.2684172236642435,
          -1.1398516218490935,
          -1.044633226881385,
          -1.206959065007897
         ],
         "yaxis": "y3"
        },
        {
         "marker": {
          "color": "rgb(175, 127, 91)",
          "line": {
           "color": "black",
           "width": 0.5
          },
          "size": 8,
          "symbol": "x"
         },
         "mode": "markers",
         "showlegend": false,
         "type": "scatter",
         "x": [
          -1.2948706323496129,
          -1.2438814956944961,
          -1.2408771857212353,
          -1.249151213955304
         ],
         "xaxis": "x3",
         "y": [
          -1.5586952964552696,
          -1.4466299610367093,
          -1.4450920754294658,
          -1.4476198312918338
         ],
         "yaxis": "y3"
        },
        {
         "marker": {
          "color": "rgb(166.0, 193, 223)",
          "line": {
           "color": "black",
           "width": 0.5
          },
          "size": 8,
          "symbol": "x"
         },
         "mode": "markers",
         "showlegend": false,
         "type": "scatter",
         "x": [
          -0.5825016624364814,
          -0.6998813906209211,
          -0.7811142707652061,
          -0.7643779088086358
         ],
         "xaxis": "x3",
         "y": [
          -1.4084851424507712,
          -1.4936038297194127,
          -1.5927172474465237,
          -1.711976922932068
         ],
         "yaxis": "y3"
        },
        {
         "marker": {
          "color": "rgb(54, 146, 68)",
          "line": {
           "color": "black",
           "width": 0.5
          },
          "size": 12,
          "symbol": "diamond"
         },
         "mode": "markers",
         "showlegend": false,
         "type": "scatter",
         "x": [
          -1.1520674068366579
         ],
         "xaxis": "x3",
         "y": [
          0.7469064309736004
         ],
         "yaxis": "y3"
        },
        {
         "marker": {
          "color": "rgb(33, 100, 175)",
          "line": {
           "color": "black",
           "width": 0.5
          },
          "size": 8,
          "symbol": "diamond"
         },
         "mode": "markers",
         "showlegend": false,
         "type": "scatter",
         "x": [
          -0.06166173720607047,
          -0.17905351697431685,
          -0.13928060046107,
          -0.08198574786413307
         ],
         "xaxis": "x3",
         "y": [
          -1.0189232264866463,
          -1.000995193797187,
          -1.0018550795142411,
          -1.0514502747081285
         ],
         "yaxis": "y3"
        },
        {
         "marker": {
          "color": "rgb(217, 72, 42)",
          "line": {
           "color": "black",
           "width": 0.5
          },
          "size": 8,
          "symbol": "diamond"
         },
         "mode": "markers",
         "showlegend": false,
         "type": "scatter",
         "x": [
          -0.2235488648408224,
          -0.24711907859605708,
          -0.367208315476585,
          -0.36594550278755555
         ],
         "xaxis": "x3",
         "y": [
          -0.9459180852796545,
          -0.8691361381803101,
          -0.9319557577722652,
          -0.9743867726876877
         ],
         "yaxis": "y3"
        },
        {
         "marker": {
          "color": "rgb(146, 54, 132)",
          "line": {
           "color": "black",
           "width": 0.5
          },
          "size": 8,
          "symbol": "diamond"
         },
         "mode": "markers",
         "showlegend": false,
         "type": "scatter",
         "x": [
          0.17578533697457835,
          0.12334013022805973,
          0.13895865422078812,
          0.033173749210069735
         ],
         "xaxis": "x3",
         "y": [
          -1.164050543723825,
          -1.1761724043073158,
          -1.2476865871922256,
          -1.1923843027991465
         ],
         "yaxis": "y3"
        },
        {
         "marker": {
          "color": "rgb(175, 127, 91)",
          "line": {
           "color": "black",
           "width": 0.5
          },
          "size": 8,
          "symbol": "diamond"
         },
         "mode": "markers",
         "showlegend": false,
         "type": "scatter",
         "x": [
          -1.2538338700049836,
          -1.287843607682113,
          -1.3637737474644347,
          -1.3069859791918017
         ],
         "xaxis": "x3",
         "y": [
          -1.374956375672494,
          -1.4421478371390737,
          -1.3254585591534815,
          -1.5032263770213607
         ],
         "yaxis": "y3"
        },
        {
         "marker": {
          "color": "rgb(166.0, 193, 223)",
          "line": {
           "color": "black",
           "width": 0.5
          },
          "size": 8,
          "symbol": "diamond"
         },
         "mode": "markers",
         "showlegend": false,
         "type": "scatter",
         "x": [
          -0.7763071559490667,
          -0.8776862230116855,
          -0.8075659277182821,
          -0.8375971997327919
         ],
         "xaxis": "x3",
         "y": [
          -1.5697260161705917,
          -1.3338749622186425,
          -1.5043556816079044,
          -1.5922094765675832
         ],
         "yaxis": "y3"
        },
        {
         "marker": {
          "color": "rgb(54, 146, 68)",
          "line": {
           "color": "black",
           "width": 0.5
          },
          "size": 12,
          "symbol": "square"
         },
         "mode": "markers",
         "showlegend": false,
         "type": "scatter",
         "x": [
          -0.6094915745993829
         ],
         "xaxis": "x3",
         "y": [
          1.6498929127101565
         ],
         "yaxis": "y3"
        },
        {
         "marker": {
          "color": "rgb(33, 100, 175)",
          "line": {
           "color": "black",
           "width": 0.5
          },
          "size": 8,
          "symbol": "square"
         },
         "mode": "markers",
         "showlegend": false,
         "type": "scatter",
         "x": [
          0.9194045102439935,
          0.9302345261780358,
          0.9057026485642127,
          0.9602888745167825
         ],
         "xaxis": "x3",
         "y": [
          -1.0357018585674795,
          -0.971972341678189,
          -0.8993214850233164,
          -0.9441434546414833
         ],
         "yaxis": "y3"
        },
        {
         "marker": {
          "color": "rgb(217, 72, 42)",
          "line": {
           "color": "black",
           "width": 0.5
          },
          "size": 8,
          "symbol": "square"
         },
         "mode": "markers",
         "showlegend": false,
         "type": "scatter",
         "x": [
          0.6456460475228925,
          0.6210430771175495,
          0.6224788329486083,
          0.6707840836419121
         ],
         "xaxis": "x3",
         "y": [
          -0.9894295275008335,
          -0.961068901787321,
          -0.8847744261142441,
          -0.8902985361957357
         ],
         "yaxis": "y3"
        },
        {
         "marker": {
          "color": "rgb(146, 54, 132)",
          "line": {
           "color": "black",
           "width": 0.5
          },
          "size": 8,
          "symbol": "square"
         },
         "mode": "markers",
         "showlegend": false,
         "type": "scatter",
         "x": [
          1.1281646547527697,
          1.042312204918838,
          1.1933380006536662,
          1.1429764268972056
         ],
         "xaxis": "x3",
         "y": [
          -1.4521138231908846,
          -1.3868989434666459,
          -1.4071448295291098,
          -1.3556487894728988
         ],
         "yaxis": "y3"
        },
        {
         "marker": {
          "color": "rgb(175, 127, 91)",
          "line": {
           "color": "black",
           "width": 0.5
          },
          "size": 8,
          "symbol": "square"
         },
         "mode": "markers",
         "showlegend": false,
         "type": "scatter",
         "x": [
          1.202856507232236,
          1.325317117968094,
          1.1976573824131806,
          1.156968517571089
         ],
         "xaxis": "x3",
         "y": [
          -1.3214148376525934,
          -1.2248033986403246,
          -1.2606706925805637,
          -1.2851363388960304
         ],
         "yaxis": "y3"
        },
        {
         "marker": {
          "color": "rgb(166.0, 193, 223)",
          "line": {
           "color": "black",
           "width": 0.5
          },
          "size": 8,
          "symbol": "square"
         },
         "mode": "markers",
         "showlegend": false,
         "type": "scatter",
         "x": [
          2.2498712171367545,
          2.3258555257527567,
          2.268246125991112,
          2.2536616867530563
         ],
         "xaxis": "x3",
         "y": [
          -1.4618851889753388,
          -1.447052002552236,
          -1.3855927670098007,
          -1.3823168732499695
         ],
         "yaxis": "y3"
        },
        {
         "marker": {
          "color": "rgb(54, 146, 68)",
          "line": {
           "color": "black",
           "width": 0.5
          },
          "size": 12,
          "symbol": "circle"
         },
         "mode": "markers",
         "showlegend": false,
         "type": "scatter",
         "x": [
          4.2703512861826765
         ],
         "xaxis": "x4",
         "y": [
          8.416464071926855
         ],
         "yaxis": "y4"
        },
        {
         "marker": {
          "color": "rgb(33, 100, 175)",
          "line": {
           "color": "black",
           "width": 0.5
          },
          "size": 8,
          "symbol": "circle"
         },
         "mode": "markers",
         "showlegend": false,
         "type": "scatter",
         "x": [
          3.24687528935492,
          3.1742368391116247,
          3.2161203008408,
          3.297862307252109
         ],
         "xaxis": "x4",
         "y": [
          -0.3824847069006511,
          -0.4210878791831721,
          -0.43652064738776725,
          -0.5203734527836535
         ],
         "yaxis": "y4"
        },
        {
         "marker": {
          "color": "rgb(217, 72, 42)",
          "line": {
           "color": "black",
           "width": 0.5
          },
          "size": 8,
          "symbol": "circle"
         },
         "mode": "markers",
         "showlegend": false,
         "type": "scatter",
         "x": [
          3.0843943708728636,
          3.364746488327563,
          3.3330863583343002,
          3.0683930086766535
         ],
         "xaxis": "x4",
         "y": [
          -0.6016012266442115,
          -0.5897675363360623,
          -0.5554004639244072,
          -0.5489160786004234
         ],
         "yaxis": "y4"
        },
        {
         "marker": {
          "color": "rgb(146, 54, 132)",
          "line": {
           "color": "black",
           "width": 0.5
          },
          "size": 8,
          "symbol": "circle"
         },
         "mode": "markers",
         "showlegend": false,
         "type": "scatter",
         "x": [
          2.5087738992505697,
          2.644812078113189,
          2.5075959753000943,
          2.6656213271810865
         ],
         "xaxis": "x4",
         "y": [
          -1.2326819539272076,
          -1.2775215479420585,
          -1.3186833143442402,
          -1.4573122883134575
         ],
         "yaxis": "y4"
        },
        {
         "marker": {
          "color": "rgb(175, 127, 91)",
          "line": {
           "color": "black",
           "width": 0.5
          },
          "size": 8,
          "symbol": "circle"
         },
         "mode": "markers",
         "showlegend": false,
         "type": "scatter",
         "x": [
          3.5122708297378105,
          3.4911031003595046,
          3.516928692640329,
          3.402754958954992
         ],
         "xaxis": "x4",
         "y": [
          -0.32183321165158507,
          -0.3159354650246948,
          -0.3144656946268456,
          -0.2889431919807998
         ],
         "yaxis": "y4"
        },
        {
         "marker": {
          "color": "rgb(166.0, 193, 223)",
          "line": {
           "color": "black",
           "width": 0.5
          },
          "size": 8,
          "symbol": "circle"
         },
         "mode": "markers",
         "showlegend": false,
         "type": "scatter",
         "x": [
          4.308029176110424,
          4.329930637774318,
          4.298911025043553,
          4.361785479832931
         ],
         "xaxis": "x4",
         "y": [
          0.026038643750224133,
          -0.11034926929576659,
          -0.16134566223090457,
          -0.12565666412478466
         ],
         "yaxis": "y4"
        },
        {
         "marker": {
          "color": "rgb(54, 146, 68)",
          "line": {
           "color": "black",
           "width": 0.5
          },
          "size": 12,
          "symbol": "x"
         },
         "mode": "markers",
         "showlegend": false,
         "type": "scatter",
         "x": [
          0.3356453436117262
         ],
         "xaxis": "x4",
         "y": [
          -0.4503216474458601
         ],
         "yaxis": "y4"
        },
        {
         "marker": {
          "color": "rgb(33, 100, 175)",
          "line": {
           "color": "black",
           "width": 0.5
          },
          "size": 8,
          "symbol": "x"
         },
         "mode": "markers",
         "showlegend": false,
         "type": "scatter",
         "x": [
          -1.200662294235045,
          -1.1211914382067711,
          -1.1477484585856832,
          -1.1111681376948885
         ],
         "xaxis": "x4",
         "y": [
          -0.06014379470682033,
          -0.1590367624273094,
          -0.15765082970787556,
          -0.16435827550595558
         ],
         "yaxis": "y4"
        },
        {
         "marker": {
          "color": "rgb(217, 72, 42)",
          "line": {
           "color": "black",
           "width": 0.5
          },
          "size": 8,
          "symbol": "x"
         },
         "mode": "markers",
         "showlegend": false,
         "type": "scatter",
         "x": [
          -1.152093389866138,
          -1.2475528016103135,
          -1.1817769506441662,
          -1.2418945328153546
         ],
         "xaxis": "x4",
         "y": [
          -0.34298264313244065,
          -0.3149441068500843,
          -0.330239694116104,
          -0.3007457336546264
         ],
         "yaxis": "y4"
        },
        {
         "marker": {
          "color": "rgb(146, 54, 132)",
          "line": {
           "color": "black",
           "width": 0.5
          },
          "size": 8,
          "symbol": "x"
         },
         "mode": "markers",
         "showlegend": false,
         "type": "scatter",
         "x": [
          -1.2684172236642435,
          -1.1398516218490935,
          -1.044633226881385,
          -1.206959065007897
         ],
         "xaxis": "x4",
         "y": [
          -0.5453572833472937,
          -0.47645322484316344,
          -0.5241160863149315,
          -0.5667568282426501
         ],
         "yaxis": "y4"
        },
        {
         "marker": {
          "color": "rgb(175, 127, 91)",
          "line": {
           "color": "black",
           "width": 0.5
          },
          "size": 8,
          "symbol": "x"
         },
         "mode": "markers",
         "showlegend": false,
         "type": "scatter",
         "x": [
          -1.5586952964552696,
          -1.4466299610367093,
          -1.4450920754294658,
          -1.4476198312918338
         ],
         "xaxis": "x4",
         "y": [
          -0.0982269232206828,
          -0.08731269637009159,
          -0.06846955979275211,
          -0.07007441539639779
         ],
         "yaxis": "y4"
        },
        {
         "marker": {
          "color": "rgb(166.0, 193, 223)",
          "line": {
           "color": "black",
           "width": 0.5
          },
          "size": 8,
          "symbol": "x"
         },
         "mode": "markers",
         "showlegend": false,
         "type": "scatter",
         "x": [
          -1.4084851424507712,
          -1.4936038297194127,
          -1.5927172474465237,
          -1.711976922932068
         ],
         "xaxis": "x4",
         "y": [
          0.38400341211804856,
          0.2649131333508012,
          0.1897087279108549,
          0.10389673152654669
         ],
         "yaxis": "y4"
        },
        {
         "marker": {
          "color": "rgb(54, 146, 68)",
          "line": {
           "color": "black",
           "width": 0.5
          },
          "size": 12,
          "symbol": "diamond"
         },
         "mode": "markers",
         "showlegend": false,
         "type": "scatter",
         "x": [
          0.7469064309736004
         ],
         "xaxis": "x4",
         "y": [
          0.2488460453133756
         ],
         "yaxis": "y4"
        },
        {
         "marker": {
          "color": "rgb(33, 100, 175)",
          "line": {
           "color": "black",
           "width": 0.5
          },
          "size": 8,
          "symbol": "diamond"
         },
         "mode": "markers",
         "showlegend": false,
         "type": "scatter",
         "x": [
          -1.0189232264866463,
          -1.000995193797187,
          -1.0018550795142411,
          -1.0514502747081285
         ],
         "xaxis": "x4",
         "y": [
          0.0762372436744645,
          -0.04666051071477941,
          -0.05722730726051445,
          -0.051358217700350185
         ],
         "yaxis": "y4"
        },
        {
         "marker": {
          "color": "rgb(217, 72, 42)",
          "line": {
           "color": "black",
           "width": 0.5
          },
          "size": 8,
          "symbol": "diamond"
         },
         "mode": "markers",
         "showlegend": false,
         "type": "scatter",
         "x": [
          -0.9459180852796545,
          -0.8691361381803101,
          -0.9319557577722652,
          -0.9743867726876877
         ],
         "xaxis": "x4",
         "y": [
          -0.2783385927058724,
          -0.23820390882078415,
          -0.25642880139774904,
          -0.2775140877055973
         ],
         "yaxis": "y4"
        },
        {
         "marker": {
          "color": "rgb(146, 54, 132)",
          "line": {
           "color": "black",
           "width": 0.5
          },
          "size": 8,
          "symbol": "diamond"
         },
         "mode": "markers",
         "showlegend": false,
         "type": "scatter",
         "x": [
          -1.164050543723825,
          -1.1761724043073158,
          -1.2476865871922256,
          -1.1923843027991465
         ],
         "xaxis": "x4",
         "y": [
          -0.41540377207894524,
          -0.42129809723137895,
          -0.44256518500568437,
          -0.4198876028837609
         ],
         "yaxis": "y4"
        },
        {
         "marker": {
          "color": "rgb(175, 127, 91)",
          "line": {
           "color": "black",
           "width": 0.5
          },
          "size": 8,
          "symbol": "diamond"
         },
         "mode": "markers",
         "showlegend": false,
         "type": "scatter",
         "x": [
          -1.374956375672494,
          -1.4421478371390737,
          -1.3254585591534815,
          -1.5032263770213607
         ],
         "xaxis": "x4",
         "y": [
          -0.032724515410478175,
          -0.12223135019142761,
          -0.09249732224232882,
          0.07918377101702363
         ],
         "yaxis": "y4"
        },
        {
         "marker": {
          "color": "rgb(166.0, 193, 223)",
          "line": {
           "color": "black",
           "width": 0.5
          },
          "size": 8,
          "symbol": "diamond"
         },
         "mode": "markers",
         "showlegend": false,
         "type": "scatter",
         "x": [
          -1.5697260161705917,
          -1.3338749622186425,
          -1.5043556816079044,
          -1.5922094765675832
         ],
         "xaxis": "x4",
         "y": [
          0.28834158541602617,
          0.23425421020716003,
          0.1866478706139751,
          0.18443065819189047
         ],
         "yaxis": "y4"
        },
        {
         "marker": {
          "color": "rgb(54, 146, 68)",
          "line": {
           "color": "black",
           "width": 0.5
          },
          "size": 12,
          "symbol": "square"
         },
         "mode": "markers",
         "showlegend": false,
         "type": "scatter",
         "x": [
          1.6498929127101565
         ],
         "xaxis": "x4",
         "y": [
          0.46928661656394477
         ],
         "yaxis": "y4"
        },
        {
         "marker": {
          "color": "rgb(33, 100, 175)",
          "line": {
           "color": "black",
           "width": 0.5
          },
          "size": 8,
          "symbol": "square"
         },
         "mode": "markers",
         "showlegend": false,
         "type": "scatter",
         "x": [
          -1.0357018585674795,
          -0.971972341678189,
          -0.8993214850233164,
          -0.9441434546414833
         ],
         "xaxis": "x4",
         "y": [
          0.41218900090124844,
          0.3538015716890598,
          0.3155551741922495,
          0.3519166929072901
         ],
         "yaxis": "y4"
        },
        {
         "marker": {
          "color": "rgb(217, 72, 42)",
          "line": {
           "color": "black",
           "width": 0.5
          },
          "size": 8,
          "symbol": "square"
         },
         "mode": "markers",
         "showlegend": false,
         "type": "scatter",
         "x": [
          -0.9894295275008335,
          -0.961068901787321,
          -0.8847744261142441,
          -0.8902985361957357
         ],
         "xaxis": "x4",
         "y": [
          0.0681818581590779,
          0.03434843505603532,
          0.08849732736823351,
          0.11967439238854176
         ],
         "yaxis": "y4"
        },
        {
         "marker": {
          "color": "rgb(146, 54, 132)",
          "line": {
           "color": "black",
           "width": 0.5
          },
          "size": 8,
          "symbol": "square"
         },
         "mode": "markers",
         "showlegend": false,
         "type": "scatter",
         "x": [
          -1.4521138231908846,
          -1.3868989434666459,
          -1.4071448295291098,
          -1.3556487894728988
         ],
         "xaxis": "x4",
         "y": [
          -0.11102827228616065,
          -0.09616387050424105,
          -0.10140597937209508,
          -0.08569955853374987
         ],
         "yaxis": "y4"
        },
        {
         "marker": {
          "color": "rgb(175, 127, 91)",
          "line": {
           "color": "black",
           "width": 0.5
          },
          "size": 8,
          "symbol": "square"
         },
         "mode": "markers",
         "showlegend": false,
         "type": "scatter",
         "x": [
          -1.3214148376525934,
          -1.2248033986403246,
          -1.2606706925805637,
          -1.2851363388960304
         ],
         "xaxis": "x4",
         "y": [
          0.6287361032927451,
          0.6572431754365174,
          0.6258570601996976,
          0.6354529141824521
         ],
         "yaxis": "y4"
        },
        {
         "marker": {
          "color": "rgb(166.0, 193, 223)",
          "line": {
           "color": "black",
           "width": 0.5
          },
          "size": 8,
          "symbol": "square"
         },
         "mode": "markers",
         "showlegend": false,
         "type": "scatter",
         "x": [
          -1.4618851889753388,
          -1.447052002552236,
          -1.3855927670098007,
          -1.3823168732499695
         ],
         "xaxis": "x4",
         "y": [
          0.9875476840698861,
          0.9340797832178782,
          0.9763114639347678,
          0.9030623537667594
         ],
         "yaxis": "y4"
        },
        {
         "marker": {
          "color": "rgb(54, 146, 68)",
          "line": {
           "color": "black",
           "width": 0.5
          },
          "size": 12,
          "symbol": "circle"
         },
         "mode": "markers",
         "showlegend": false,
         "type": "scatter",
         "x": [
          -1.870255523033803
         ],
         "xaxis": "x6",
         "y": [
          8.416464071926855
         ],
         "yaxis": "y6"
        },
        {
         "marker": {
          "color": "rgb(33, 100, 175)",
          "line": {
           "color": "black",
           "width": 0.5
          },
          "size": 8,
          "symbol": "circle"
         },
         "mode": "markers",
         "showlegend": false,
         "type": "scatter",
         "x": [
          -0.09101248211638543,
          -0.2052340601013772,
          -0.24903540276966424,
          -0.1818206394777378
         ],
         "xaxis": "x6",
         "y": [
          -0.3824847069006511,
          -0.4210878791831721,
          -0.43652064738776725,
          -0.5203734527836535
         ],
         "yaxis": "y6"
        },
        {
         "marker": {
          "color": "rgb(217, 72, 42)",
          "line": {
           "color": "black",
           "width": 0.5
          },
          "size": 8,
          "symbol": "circle"
         },
         "mode": "markers",
         "showlegend": false,
         "type": "scatter",
         "x": [
          -0.08839876263751681,
          -0.02833133868615707,
          -0.03796138740500365,
          -0.08277816367705444
         ],
         "xaxis": "x6",
         "y": [
          -0.6016012266442115,
          -0.5897675363360623,
          -0.5554004639244072,
          -0.5489160786004234
         ],
         "yaxis": "y6"
        },
        {
         "marker": {
          "color": "rgb(146, 54, 132)",
          "line": {
           "color": "black",
           "width": 0.5
          },
          "size": 8,
          "symbol": "circle"
         },
         "mode": "markers",
         "showlegend": false,
         "type": "scatter",
         "x": [
          -0.3825032887815774,
          -0.5417804429169171,
          -0.5509966189913942,
          -0.437068577685074
         ],
         "xaxis": "x6",
         "y": [
          -1.2326819539272076,
          -1.2775215479420585,
          -1.3186833143442402,
          -1.4573122883134575
         ],
         "yaxis": "y6"
        },
        {
         "marker": {
          "color": "rgb(175, 127, 91)",
          "line": {
           "color": "black",
           "width": 0.5
          },
          "size": 8,
          "symbol": "circle"
         },
         "mode": "markers",
         "showlegend": false,
         "type": "scatter",
         "x": [
          0.24477032497336199,
          0.21112311406509157,
          0.1926401156244551,
          0.11069376546552137
         ],
         "xaxis": "x6",
         "y": [
          -0.32183321165158507,
          -0.3159354650246948,
          -0.3144656946268456,
          -0.2889431919807998
         ],
         "yaxis": "y6"
        },
        {
         "marker": {
          "color": "rgb(166.0, 193, 223)",
          "line": {
           "color": "black",
           "width": 0.5
          },
          "size": 8,
          "symbol": "circle"
         },
         "mode": "markers",
         "showlegend": false,
         "type": "scatter",
         "x": [
          0.9670910326287077,
          0.9654594723710361,
          0.9900069569009758,
          1.0146106191079072
         ],
         "xaxis": "x6",
         "y": [
          0.026038643750224133,
          -0.11034926929576659,
          -0.16134566223090457,
          -0.12565666412478466
         ],
         "yaxis": "y6"
        },
        {
         "marker": {
          "color": "rgb(54, 146, 68)",
          "line": {
           "color": "black",
           "width": 0.5
          },
          "size": 12,
          "symbol": "x"
         },
         "mode": "markers",
         "showlegend": false,
         "type": "scatter",
         "x": [
          -1.2400863163494071
         ],
         "xaxis": "x6",
         "y": [
          -0.4503216474458601
         ],
         "yaxis": "y6"
        },
        {
         "marker": {
          "color": "rgb(33, 100, 175)",
          "line": {
           "color": "black",
           "width": 0.5
          },
          "size": 8,
          "symbol": "x"
         },
         "mode": "markers",
         "showlegend": false,
         "type": "scatter",
         "x": [
          -0.4425179754079885,
          -0.48275793164982816,
          -0.4296630223681925,
          -0.4263490184499278
         ],
         "xaxis": "x6",
         "y": [
          -0.06014379470682033,
          -0.1590367624273094,
          -0.15765082970787556,
          -0.16435827550595558
         ],
         "yaxis": "y6"
        },
        {
         "marker": {
          "color": "rgb(217, 72, 42)",
          "line": {
           "color": "black",
           "width": 0.5
          },
          "size": 8,
          "symbol": "x"
         },
         "mode": "markers",
         "showlegend": false,
         "type": "scatter",
         "x": [
          -0.4367569302005862,
          -0.4786180663882526,
          -0.43569511893042223,
          -0.35055862780470465
         ],
         "xaxis": "x6",
         "y": [
          -0.34298264313244065,
          -0.3149441068500843,
          -0.330239694116104,
          -0.3007457336546264
         ],
         "yaxis": "y6"
        },
        {
         "marker": {
          "color": "rgb(146, 54, 132)",
          "line": {
           "color": "black",
           "width": 0.5
          },
          "size": 8,
          "symbol": "x"
         },
         "mode": "markers",
         "showlegend": false,
         "type": "scatter",
         "x": [
          -0.22153206044502233,
          -0.16986209867273294,
          -0.200551358978605,
          -0.0727242098702631
         ],
         "xaxis": "x6",
         "y": [
          -0.5453572833472937,
          -0.47645322484316344,
          -0.5241160863149315,
          -0.5667568282426501
         ],
         "yaxis": "y6"
        },
        {
         "marker": {
          "color": "rgb(175, 127, 91)",
          "line": {
           "color": "black",
           "width": 0.5
          },
          "size": 8,
          "symbol": "x"
         },
         "mode": "markers",
         "showlegend": false,
         "type": "scatter",
         "x": [
          -1.2948706323496129,
          -1.2438814956944961,
          -1.2408771857212353,
          -1.249151213955304
         ],
         "xaxis": "x6",
         "y": [
          -0.0982269232206828,
          -0.08731269637009159,
          -0.06846955979275211,
          -0.07007441539639779
         ],
         "yaxis": "y6"
        },
        {
         "marker": {
          "color": "rgb(166.0, 193, 223)",
          "line": {
           "color": "black",
           "width": 0.5
          },
          "size": 8,
          "symbol": "x"
         },
         "mode": "markers",
         "showlegend": false,
         "type": "scatter",
         "x": [
          -0.5825016624364814,
          -0.6998813906209211,
          -0.7811142707652061,
          -0.7643779088086358
         ],
         "xaxis": "x6",
         "y": [
          0.38400341211804856,
          0.2649131333508012,
          0.1897087279108549,
          0.10389673152654669
         ],
         "yaxis": "y6"
        },
        {
         "marker": {
          "color": "rgb(54, 146, 68)",
          "line": {
           "color": "black",
           "width": 0.5
          },
          "size": 12,
          "symbol": "diamond"
         },
         "mode": "markers",
         "showlegend": false,
         "type": "scatter",
         "x": [
          -1.1520674068366579
         ],
         "xaxis": "x6",
         "y": [
          0.2488460453133756
         ],
         "yaxis": "y6"
        },
        {
         "marker": {
          "color": "rgb(33, 100, 175)",
          "line": {
           "color": "black",
           "width": 0.5
          },
          "size": 8,
          "symbol": "diamond"
         },
         "mode": "markers",
         "showlegend": false,
         "type": "scatter",
         "x": [
          -0.06166173720607047,
          -0.17905351697431685,
          -0.13928060046107,
          -0.08198574786413307
         ],
         "xaxis": "x6",
         "y": [
          0.0762372436744645,
          -0.04666051071477941,
          -0.05722730726051445,
          -0.051358217700350185
         ],
         "yaxis": "y6"
        },
        {
         "marker": {
          "color": "rgb(217, 72, 42)",
          "line": {
           "color": "black",
           "width": 0.5
          },
          "size": 8,
          "symbol": "diamond"
         },
         "mode": "markers",
         "showlegend": false,
         "type": "scatter",
         "x": [
          -0.2235488648408224,
          -0.24711907859605708,
          -0.367208315476585,
          -0.36594550278755555
         ],
         "xaxis": "x6",
         "y": [
          -0.2783385927058724,
          -0.23820390882078415,
          -0.25642880139774904,
          -0.2775140877055973
         ],
         "yaxis": "y6"
        },
        {
         "marker": {
          "color": "rgb(146, 54, 132)",
          "line": {
           "color": "black",
           "width": 0.5
          },
          "size": 8,
          "symbol": "diamond"
         },
         "mode": "markers",
         "showlegend": false,
         "type": "scatter",
         "x": [
          0.17578533697457835,
          0.12334013022805973,
          0.13895865422078812,
          0.033173749210069735
         ],
         "xaxis": "x6",
         "y": [
          -0.41540377207894524,
          -0.42129809723137895,
          -0.44256518500568437,
          -0.4198876028837609
         ],
         "yaxis": "y6"
        },
        {
         "marker": {
          "color": "rgb(175, 127, 91)",
          "line": {
           "color": "black",
           "width": 0.5
          },
          "size": 8,
          "symbol": "diamond"
         },
         "mode": "markers",
         "showlegend": false,
         "type": "scatter",
         "x": [
          -1.2538338700049836,
          -1.287843607682113,
          -1.3637737474644347,
          -1.3069859791918017
         ],
         "xaxis": "x6",
         "y": [
          -0.032724515410478175,
          -0.12223135019142761,
          -0.09249732224232882,
          0.07918377101702363
         ],
         "yaxis": "y6"
        },
        {
         "marker": {
          "color": "rgb(166.0, 193, 223)",
          "line": {
           "color": "black",
           "width": 0.5
          },
          "size": 8,
          "symbol": "diamond"
         },
         "mode": "markers",
         "showlegend": false,
         "type": "scatter",
         "x": [
          -0.7763071559490667,
          -0.8776862230116855,
          -0.8075659277182821,
          -0.8375971997327919
         ],
         "xaxis": "x6",
         "y": [
          0.28834158541602617,
          0.23425421020716003,
          0.1866478706139751,
          0.18443065819189047
         ],
         "yaxis": "y6"
        },
        {
         "marker": {
          "color": "rgb(54, 146, 68)",
          "line": {
           "color": "black",
           "width": 0.5
          },
          "size": 12,
          "symbol": "square"
         },
         "mode": "markers",
         "showlegend": false,
         "type": "scatter",
         "x": [
          -0.6094915745993829
         ],
         "xaxis": "x6",
         "y": [
          0.46928661656394477
         ],
         "yaxis": "y6"
        },
        {
         "marker": {
          "color": "rgb(33, 100, 175)",
          "line": {
           "color": "black",
           "width": 0.5
          },
          "size": 8,
          "symbol": "square"
         },
         "mode": "markers",
         "showlegend": false,
         "type": "scatter",
         "x": [
          0.9194045102439935,
          0.9302345261780358,
          0.9057026485642127,
          0.9602888745167825
         ],
         "xaxis": "x6",
         "y": [
          0.41218900090124844,
          0.3538015716890598,
          0.3155551741922495,
          0.3519166929072901
         ],
         "yaxis": "y6"
        },
        {
         "marker": {
          "color": "rgb(217, 72, 42)",
          "line": {
           "color": "black",
           "width": 0.5
          },
          "size": 8,
          "symbol": "square"
         },
         "mode": "markers",
         "showlegend": false,
         "type": "scatter",
         "x": [
          0.6456460475228925,
          0.6210430771175495,
          0.6224788329486083,
          0.6707840836419121
         ],
         "xaxis": "x6",
         "y": [
          0.0681818581590779,
          0.03434843505603532,
          0.08849732736823351,
          0.11967439238854176
         ],
         "yaxis": "y6"
        },
        {
         "marker": {
          "color": "rgb(146, 54, 132)",
          "line": {
           "color": "black",
           "width": 0.5
          },
          "size": 8,
          "symbol": "square"
         },
         "mode": "markers",
         "showlegend": false,
         "type": "scatter",
         "x": [
          1.1281646547527697,
          1.042312204918838,
          1.1933380006536662,
          1.1429764268972056
         ],
         "xaxis": "x6",
         "y": [
          -0.11102827228616065,
          -0.09616387050424105,
          -0.10140597937209508,
          -0.08569955853374987
         ],
         "yaxis": "y6"
        },
        {
         "marker": {
          "color": "rgb(175, 127, 91)",
          "line": {
           "color": "black",
           "width": 0.5
          },
          "size": 8,
          "symbol": "square"
         },
         "mode": "markers",
         "showlegend": false,
         "type": "scatter",
         "x": [
          1.202856507232236,
          1.325317117968094,
          1.1976573824131806,
          1.156968517571089
         ],
         "xaxis": "x6",
         "y": [
          0.6287361032927451,
          0.6572431754365174,
          0.6258570601996976,
          0.6354529141824521
         ],
         "yaxis": "y6"
        },
        {
         "marker": {
          "color": "rgb(166.0, 193, 223)",
          "line": {
           "color": "black",
           "width": 0.5
          },
          "size": 8,
          "symbol": "square"
         },
         "mode": "markers",
         "showlegend": false,
         "type": "scatter",
         "x": [
          2.2498712171367545,
          2.3258555257527567,
          2.268246125991112,
          2.2536616867530563
         ],
         "xaxis": "x6",
         "y": [
          0.9875476840698861,
          0.9340797832178782,
          0.9763114639347678,
          0.9030623537667594
         ],
         "yaxis": "y6"
        },
        {
         "marker": {
          "color": "rgb(54, 146, 68)",
          "line": {
           "color": "black",
           "width": 0.5
          },
          "size": 12,
          "symbol": "circle"
         },
         "mode": "markers",
         "showlegend": false,
         "type": "scatter",
         "x": [
          4.2703512861826765
         ],
         "xaxis": "x7",
         "y": [
          -1.870255523033803
         ],
         "yaxis": "y7"
        },
        {
         "marker": {
          "color": "rgb(33, 100, 175)",
          "line": {
           "color": "black",
           "width": 0.5
          },
          "size": 8,
          "symbol": "circle"
         },
         "mode": "markers",
         "showlegend": false,
         "type": "scatter",
         "x": [
          3.24687528935492,
          3.1742368391116247,
          3.2161203008408,
          3.297862307252109
         ],
         "xaxis": "x7",
         "y": [
          -0.09101248211638543,
          -0.2052340601013772,
          -0.24903540276966424,
          -0.1818206394777378
         ],
         "yaxis": "y7"
        },
        {
         "marker": {
          "color": "rgb(217, 72, 42)",
          "line": {
           "color": "black",
           "width": 0.5
          },
          "size": 8,
          "symbol": "circle"
         },
         "mode": "markers",
         "showlegend": false,
         "type": "scatter",
         "x": [
          3.0843943708728636,
          3.364746488327563,
          3.3330863583343002,
          3.0683930086766535
         ],
         "xaxis": "x7",
         "y": [
          -0.08839876263751681,
          -0.02833133868615707,
          -0.03796138740500365,
          -0.08277816367705444
         ],
         "yaxis": "y7"
        },
        {
         "marker": {
          "color": "rgb(146, 54, 132)",
          "line": {
           "color": "black",
           "width": 0.5
          },
          "size": 8,
          "symbol": "circle"
         },
         "mode": "markers",
         "showlegend": false,
         "type": "scatter",
         "x": [
          2.5087738992505697,
          2.644812078113189,
          2.5075959753000943,
          2.6656213271810865
         ],
         "xaxis": "x7",
         "y": [
          -0.3825032887815774,
          -0.5417804429169171,
          -0.5509966189913942,
          -0.437068577685074
         ],
         "yaxis": "y7"
        },
        {
         "marker": {
          "color": "rgb(175, 127, 91)",
          "line": {
           "color": "black",
           "width": 0.5
          },
          "size": 8,
          "symbol": "circle"
         },
         "mode": "markers",
         "showlegend": false,
         "type": "scatter",
         "x": [
          3.5122708297378105,
          3.4911031003595046,
          3.516928692640329,
          3.402754958954992
         ],
         "xaxis": "x7",
         "y": [
          0.24477032497336199,
          0.21112311406509157,
          0.1926401156244551,
          0.11069376546552137
         ],
         "yaxis": "y7"
        },
        {
         "marker": {
          "color": "rgb(166.0, 193, 223)",
          "line": {
           "color": "black",
           "width": 0.5
          },
          "size": 8,
          "symbol": "circle"
         },
         "mode": "markers",
         "showlegend": false,
         "type": "scatter",
         "x": [
          4.308029176110424,
          4.329930637774318,
          4.298911025043553,
          4.361785479832931
         ],
         "xaxis": "x7",
         "y": [
          0.9670910326287077,
          0.9654594723710361,
          0.9900069569009758,
          1.0146106191079072
         ],
         "yaxis": "y7"
        },
        {
         "marker": {
          "color": "rgb(54, 146, 68)",
          "line": {
           "color": "black",
           "width": 0.5
          },
          "size": 12,
          "symbol": "x"
         },
         "mode": "markers",
         "showlegend": false,
         "type": "scatter",
         "x": [
          0.3356453436117262
         ],
         "xaxis": "x7",
         "y": [
          -1.2400863163494071
         ],
         "yaxis": "y7"
        },
        {
         "marker": {
          "color": "rgb(33, 100, 175)",
          "line": {
           "color": "black",
           "width": 0.5
          },
          "size": 8,
          "symbol": "x"
         },
         "mode": "markers",
         "showlegend": false,
         "type": "scatter",
         "x": [
          -1.200662294235045,
          -1.1211914382067711,
          -1.1477484585856832,
          -1.1111681376948885
         ],
         "xaxis": "x7",
         "y": [
          -0.4425179754079885,
          -0.48275793164982816,
          -0.4296630223681925,
          -0.4263490184499278
         ],
         "yaxis": "y7"
        },
        {
         "marker": {
          "color": "rgb(217, 72, 42)",
          "line": {
           "color": "black",
           "width": 0.5
          },
          "size": 8,
          "symbol": "x"
         },
         "mode": "markers",
         "showlegend": false,
         "type": "scatter",
         "x": [
          -1.152093389866138,
          -1.2475528016103135,
          -1.1817769506441662,
          -1.2418945328153546
         ],
         "xaxis": "x7",
         "y": [
          -0.4367569302005862,
          -0.4786180663882526,
          -0.43569511893042223,
          -0.35055862780470465
         ],
         "yaxis": "y7"
        },
        {
         "marker": {
          "color": "rgb(146, 54, 132)",
          "line": {
           "color": "black",
           "width": 0.5
          },
          "size": 8,
          "symbol": "x"
         },
         "mode": "markers",
         "showlegend": false,
         "type": "scatter",
         "x": [
          -1.2684172236642435,
          -1.1398516218490935,
          -1.044633226881385,
          -1.206959065007897
         ],
         "xaxis": "x7",
         "y": [
          -0.22153206044502233,
          -0.16986209867273294,
          -0.200551358978605,
          -0.0727242098702631
         ],
         "yaxis": "y7"
        },
        {
         "marker": {
          "color": "rgb(175, 127, 91)",
          "line": {
           "color": "black",
           "width": 0.5
          },
          "size": 8,
          "symbol": "x"
         },
         "mode": "markers",
         "showlegend": false,
         "type": "scatter",
         "x": [
          -1.5586952964552696,
          -1.4466299610367093,
          -1.4450920754294658,
          -1.4476198312918338
         ],
         "xaxis": "x7",
         "y": [
          -1.2948706323496129,
          -1.2438814956944961,
          -1.2408771857212353,
          -1.249151213955304
         ],
         "yaxis": "y7"
        },
        {
         "marker": {
          "color": "rgb(166.0, 193, 223)",
          "line": {
           "color": "black",
           "width": 0.5
          },
          "size": 8,
          "symbol": "x"
         },
         "mode": "markers",
         "showlegend": false,
         "type": "scatter",
         "x": [
          -1.4084851424507712,
          -1.4936038297194127,
          -1.5927172474465237,
          -1.711976922932068
         ],
         "xaxis": "x7",
         "y": [
          -0.5825016624364814,
          -0.6998813906209211,
          -0.7811142707652061,
          -0.7643779088086358
         ],
         "yaxis": "y7"
        },
        {
         "marker": {
          "color": "rgb(54, 146, 68)",
          "line": {
           "color": "black",
           "width": 0.5
          },
          "size": 12,
          "symbol": "diamond"
         },
         "mode": "markers",
         "showlegend": false,
         "type": "scatter",
         "x": [
          0.7469064309736004
         ],
         "xaxis": "x7",
         "y": [
          -1.1520674068366579
         ],
         "yaxis": "y7"
        },
        {
         "marker": {
          "color": "rgb(33, 100, 175)",
          "line": {
           "color": "black",
           "width": 0.5
          },
          "size": 8,
          "symbol": "diamond"
         },
         "mode": "markers",
         "showlegend": false,
         "type": "scatter",
         "x": [
          -1.0189232264866463,
          -1.000995193797187,
          -1.0018550795142411,
          -1.0514502747081285
         ],
         "xaxis": "x7",
         "y": [
          -0.06166173720607047,
          -0.17905351697431685,
          -0.13928060046107,
          -0.08198574786413307
         ],
         "yaxis": "y7"
        },
        {
         "marker": {
          "color": "rgb(217, 72, 42)",
          "line": {
           "color": "black",
           "width": 0.5
          },
          "size": 8,
          "symbol": "diamond"
         },
         "mode": "markers",
         "showlegend": false,
         "type": "scatter",
         "x": [
          -0.9459180852796545,
          -0.8691361381803101,
          -0.9319557577722652,
          -0.9743867726876877
         ],
         "xaxis": "x7",
         "y": [
          -0.2235488648408224,
          -0.24711907859605708,
          -0.367208315476585,
          -0.36594550278755555
         ],
         "yaxis": "y7"
        },
        {
         "marker": {
          "color": "rgb(146, 54, 132)",
          "line": {
           "color": "black",
           "width": 0.5
          },
          "size": 8,
          "symbol": "diamond"
         },
         "mode": "markers",
         "showlegend": false,
         "type": "scatter",
         "x": [
          -1.164050543723825,
          -1.1761724043073158,
          -1.2476865871922256,
          -1.1923843027991465
         ],
         "xaxis": "x7",
         "y": [
          0.17578533697457835,
          0.12334013022805973,
          0.13895865422078812,
          0.033173749210069735
         ],
         "yaxis": "y7"
        },
        {
         "marker": {
          "color": "rgb(175, 127, 91)",
          "line": {
           "color": "black",
           "width": 0.5
          },
          "size": 8,
          "symbol": "diamond"
         },
         "mode": "markers",
         "showlegend": false,
         "type": "scatter",
         "x": [
          -1.374956375672494,
          -1.4421478371390737,
          -1.3254585591534815,
          -1.5032263770213607
         ],
         "xaxis": "x7",
         "y": [
          -1.2538338700049836,
          -1.287843607682113,
          -1.3637737474644347,
          -1.3069859791918017
         ],
         "yaxis": "y7"
        },
        {
         "marker": {
          "color": "rgb(166.0, 193, 223)",
          "line": {
           "color": "black",
           "width": 0.5
          },
          "size": 8,
          "symbol": "diamond"
         },
         "mode": "markers",
         "showlegend": false,
         "type": "scatter",
         "x": [
          -1.5697260161705917,
          -1.3338749622186425,
          -1.5043556816079044,
          -1.5922094765675832
         ],
         "xaxis": "x7",
         "y": [
          -0.7763071559490667,
          -0.8776862230116855,
          -0.8075659277182821,
          -0.8375971997327919
         ],
         "yaxis": "y7"
        },
        {
         "marker": {
          "color": "rgb(54, 146, 68)",
          "line": {
           "color": "black",
           "width": 0.5
          },
          "size": 12,
          "symbol": "square"
         },
         "mode": "markers",
         "showlegend": false,
         "type": "scatter",
         "x": [
          1.6498929127101565
         ],
         "xaxis": "x7",
         "y": [
          -0.6094915745993829
         ],
         "yaxis": "y7"
        },
        {
         "marker": {
          "color": "rgb(33, 100, 175)",
          "line": {
           "color": "black",
           "width": 0.5
          },
          "size": 8,
          "symbol": "square"
         },
         "mode": "markers",
         "showlegend": false,
         "type": "scatter",
         "x": [
          -1.0357018585674795,
          -0.971972341678189,
          -0.8993214850233164,
          -0.9441434546414833
         ],
         "xaxis": "x7",
         "y": [
          0.9194045102439935,
          0.9302345261780358,
          0.9057026485642127,
          0.9602888745167825
         ],
         "yaxis": "y7"
        },
        {
         "marker": {
          "color": "rgb(217, 72, 42)",
          "line": {
           "color": "black",
           "width": 0.5
          },
          "size": 8,
          "symbol": "square"
         },
         "mode": "markers",
         "showlegend": false,
         "type": "scatter",
         "x": [
          -0.9894295275008335,
          -0.961068901787321,
          -0.8847744261142441,
          -0.8902985361957357
         ],
         "xaxis": "x7",
         "y": [
          0.6456460475228925,
          0.6210430771175495,
          0.6224788329486083,
          0.6707840836419121
         ],
         "yaxis": "y7"
        },
        {
         "marker": {
          "color": "rgb(146, 54, 132)",
          "line": {
           "color": "black",
           "width": 0.5
          },
          "size": 8,
          "symbol": "square"
         },
         "mode": "markers",
         "showlegend": false,
         "type": "scatter",
         "x": [
          -1.4521138231908846,
          -1.3868989434666459,
          -1.4071448295291098,
          -1.3556487894728988
         ],
         "xaxis": "x7",
         "y": [
          1.1281646547527697,
          1.042312204918838,
          1.1933380006536662,
          1.1429764268972056
         ],
         "yaxis": "y7"
        },
        {
         "marker": {
          "color": "rgb(175, 127, 91)",
          "line": {
           "color": "black",
           "width": 0.5
          },
          "size": 8,
          "symbol": "square"
         },
         "mode": "markers",
         "showlegend": false,
         "type": "scatter",
         "x": [
          -1.3214148376525934,
          -1.2248033986403246,
          -1.2606706925805637,
          -1.2851363388960304
         ],
         "xaxis": "x7",
         "y": [
          1.202856507232236,
          1.325317117968094,
          1.1976573824131806,
          1.156968517571089
         ],
         "yaxis": "y7"
        },
        {
         "marker": {
          "color": "rgb(166.0, 193, 223)",
          "line": {
           "color": "black",
           "width": 0.5
          },
          "size": 8,
          "symbol": "square"
         },
         "mode": "markers",
         "showlegend": false,
         "type": "scatter",
         "x": [
          -1.4618851889753388,
          -1.447052002552236,
          -1.3855927670098007,
          -1.3823168732499695
         ],
         "xaxis": "x7",
         "y": [
          2.2498712171367545,
          2.3258555257527567,
          2.268246125991112,
          2.2536616867530563
         ],
         "yaxis": "y7"
        },
        {
         "marker": {
          "color": "rgb(54, 146, 68)",
          "line": {
           "color": "black",
           "width": 0.5
          },
          "size": 12,
          "symbol": "circle"
         },
         "mode": "markers",
         "showlegend": false,
         "type": "scatter",
         "x": [
          8.416464071926855
         ],
         "xaxis": "x8",
         "y": [
          -1.870255523033803
         ],
         "yaxis": "y8"
        },
        {
         "marker": {
          "color": "rgb(33, 100, 175)",
          "line": {
           "color": "black",
           "width": 0.5
          },
          "size": 8,
          "symbol": "circle"
         },
         "mode": "markers",
         "showlegend": false,
         "type": "scatter",
         "x": [
          -0.3824847069006511,
          -0.4210878791831721,
          -0.43652064738776725,
          -0.5203734527836535
         ],
         "xaxis": "x8",
         "y": [
          -0.09101248211638543,
          -0.2052340601013772,
          -0.24903540276966424,
          -0.1818206394777378
         ],
         "yaxis": "y8"
        },
        {
         "marker": {
          "color": "rgb(217, 72, 42)",
          "line": {
           "color": "black",
           "width": 0.5
          },
          "size": 8,
          "symbol": "circle"
         },
         "mode": "markers",
         "showlegend": false,
         "type": "scatter",
         "x": [
          -0.6016012266442115,
          -0.5897675363360623,
          -0.5554004639244072,
          -0.5489160786004234
         ],
         "xaxis": "x8",
         "y": [
          -0.08839876263751681,
          -0.02833133868615707,
          -0.03796138740500365,
          -0.08277816367705444
         ],
         "yaxis": "y8"
        },
        {
         "marker": {
          "color": "rgb(146, 54, 132)",
          "line": {
           "color": "black",
           "width": 0.5
          },
          "size": 8,
          "symbol": "circle"
         },
         "mode": "markers",
         "showlegend": false,
         "type": "scatter",
         "x": [
          -1.2326819539272076,
          -1.2775215479420585,
          -1.3186833143442402,
          -1.4573122883134575
         ],
         "xaxis": "x8",
         "y": [
          -0.3825032887815774,
          -0.5417804429169171,
          -0.5509966189913942,
          -0.437068577685074
         ],
         "yaxis": "y8"
        },
        {
         "marker": {
          "color": "rgb(175, 127, 91)",
          "line": {
           "color": "black",
           "width": 0.5
          },
          "size": 8,
          "symbol": "circle"
         },
         "mode": "markers",
         "showlegend": false,
         "type": "scatter",
         "x": [
          -0.32183321165158507,
          -0.3159354650246948,
          -0.3144656946268456,
          -0.2889431919807998
         ],
         "xaxis": "x8",
         "y": [
          0.24477032497336199,
          0.21112311406509157,
          0.1926401156244551,
          0.11069376546552137
         ],
         "yaxis": "y8"
        },
        {
         "marker": {
          "color": "rgb(166.0, 193, 223)",
          "line": {
           "color": "black",
           "width": 0.5
          },
          "size": 8,
          "symbol": "circle"
         },
         "mode": "markers",
         "showlegend": false,
         "type": "scatter",
         "x": [
          0.026038643750224133,
          -0.11034926929576659,
          -0.16134566223090457,
          -0.12565666412478466
         ],
         "xaxis": "x8",
         "y": [
          0.9670910326287077,
          0.9654594723710361,
          0.9900069569009758,
          1.0146106191079072
         ],
         "yaxis": "y8"
        },
        {
         "marker": {
          "color": "rgb(54, 146, 68)",
          "line": {
           "color": "black",
           "width": 0.5
          },
          "size": 12,
          "symbol": "x"
         },
         "mode": "markers",
         "showlegend": false,
         "type": "scatter",
         "x": [
          -0.4503216474458601
         ],
         "xaxis": "x8",
         "y": [
          -1.2400863163494071
         ],
         "yaxis": "y8"
        },
        {
         "marker": {
          "color": "rgb(33, 100, 175)",
          "line": {
           "color": "black",
           "width": 0.5
          },
          "size": 8,
          "symbol": "x"
         },
         "mode": "markers",
         "showlegend": false,
         "type": "scatter",
         "x": [
          -0.06014379470682033,
          -0.1590367624273094,
          -0.15765082970787556,
          -0.16435827550595558
         ],
         "xaxis": "x8",
         "y": [
          -0.4425179754079885,
          -0.48275793164982816,
          -0.4296630223681925,
          -0.4263490184499278
         ],
         "yaxis": "y8"
        },
        {
         "marker": {
          "color": "rgb(217, 72, 42)",
          "line": {
           "color": "black",
           "width": 0.5
          },
          "size": 8,
          "symbol": "x"
         },
         "mode": "markers",
         "showlegend": false,
         "type": "scatter",
         "x": [
          -0.34298264313244065,
          -0.3149441068500843,
          -0.330239694116104,
          -0.3007457336546264
         ],
         "xaxis": "x8",
         "y": [
          -0.4367569302005862,
          -0.4786180663882526,
          -0.43569511893042223,
          -0.35055862780470465
         ],
         "yaxis": "y8"
        },
        {
         "marker": {
          "color": "rgb(146, 54, 132)",
          "line": {
           "color": "black",
           "width": 0.5
          },
          "size": 8,
          "symbol": "x"
         },
         "mode": "markers",
         "showlegend": false,
         "type": "scatter",
         "x": [
          -0.5453572833472937,
          -0.47645322484316344,
          -0.5241160863149315,
          -0.5667568282426501
         ],
         "xaxis": "x8",
         "y": [
          -0.22153206044502233,
          -0.16986209867273294,
          -0.200551358978605,
          -0.0727242098702631
         ],
         "yaxis": "y8"
        },
        {
         "marker": {
          "color": "rgb(175, 127, 91)",
          "line": {
           "color": "black",
           "width": 0.5
          },
          "size": 8,
          "symbol": "x"
         },
         "mode": "markers",
         "showlegend": false,
         "type": "scatter",
         "x": [
          -0.0982269232206828,
          -0.08731269637009159,
          -0.06846955979275211,
          -0.07007441539639779
         ],
         "xaxis": "x8",
         "y": [
          -1.2948706323496129,
          -1.2438814956944961,
          -1.2408771857212353,
          -1.249151213955304
         ],
         "yaxis": "y8"
        },
        {
         "marker": {
          "color": "rgb(166.0, 193, 223)",
          "line": {
           "color": "black",
           "width": 0.5
          },
          "size": 8,
          "symbol": "x"
         },
         "mode": "markers",
         "showlegend": false,
         "type": "scatter",
         "x": [
          0.38400341211804856,
          0.2649131333508012,
          0.1897087279108549,
          0.10389673152654669
         ],
         "xaxis": "x8",
         "y": [
          -0.5825016624364814,
          -0.6998813906209211,
          -0.7811142707652061,
          -0.7643779088086358
         ],
         "yaxis": "y8"
        },
        {
         "marker": {
          "color": "rgb(54, 146, 68)",
          "line": {
           "color": "black",
           "width": 0.5
          },
          "size": 12,
          "symbol": "diamond"
         },
         "mode": "markers",
         "showlegend": false,
         "type": "scatter",
         "x": [
          0.2488460453133756
         ],
         "xaxis": "x8",
         "y": [
          -1.1520674068366579
         ],
         "yaxis": "y8"
        },
        {
         "marker": {
          "color": "rgb(33, 100, 175)",
          "line": {
           "color": "black",
           "width": 0.5
          },
          "size": 8,
          "symbol": "diamond"
         },
         "mode": "markers",
         "showlegend": false,
         "type": "scatter",
         "x": [
          0.0762372436744645,
          -0.04666051071477941,
          -0.05722730726051445,
          -0.051358217700350185
         ],
         "xaxis": "x8",
         "y": [
          -0.06166173720607047,
          -0.17905351697431685,
          -0.13928060046107,
          -0.08198574786413307
         ],
         "yaxis": "y8"
        },
        {
         "marker": {
          "color": "rgb(217, 72, 42)",
          "line": {
           "color": "black",
           "width": 0.5
          },
          "size": 8,
          "symbol": "diamond"
         },
         "mode": "markers",
         "showlegend": false,
         "type": "scatter",
         "x": [
          -0.2783385927058724,
          -0.23820390882078415,
          -0.25642880139774904,
          -0.2775140877055973
         ],
         "xaxis": "x8",
         "y": [
          -0.2235488648408224,
          -0.24711907859605708,
          -0.367208315476585,
          -0.36594550278755555
         ],
         "yaxis": "y8"
        },
        {
         "marker": {
          "color": "rgb(146, 54, 132)",
          "line": {
           "color": "black",
           "width": 0.5
          },
          "size": 8,
          "symbol": "diamond"
         },
         "mode": "markers",
         "showlegend": false,
         "type": "scatter",
         "x": [
          -0.41540377207894524,
          -0.42129809723137895,
          -0.44256518500568437,
          -0.4198876028837609
         ],
         "xaxis": "x8",
         "y": [
          0.17578533697457835,
          0.12334013022805973,
          0.13895865422078812,
          0.033173749210069735
         ],
         "yaxis": "y8"
        },
        {
         "marker": {
          "color": "rgb(175, 127, 91)",
          "line": {
           "color": "black",
           "width": 0.5
          },
          "size": 8,
          "symbol": "diamond"
         },
         "mode": "markers",
         "showlegend": false,
         "type": "scatter",
         "x": [
          -0.032724515410478175,
          -0.12223135019142761,
          -0.09249732224232882,
          0.07918377101702363
         ],
         "xaxis": "x8",
         "y": [
          -1.2538338700049836,
          -1.287843607682113,
          -1.3637737474644347,
          -1.3069859791918017
         ],
         "yaxis": "y8"
        },
        {
         "marker": {
          "color": "rgb(166.0, 193, 223)",
          "line": {
           "color": "black",
           "width": 0.5
          },
          "size": 8,
          "symbol": "diamond"
         },
         "mode": "markers",
         "showlegend": false,
         "type": "scatter",
         "x": [
          0.28834158541602617,
          0.23425421020716003,
          0.1866478706139751,
          0.18443065819189047
         ],
         "xaxis": "x8",
         "y": [
          -0.7763071559490667,
          -0.8776862230116855,
          -0.8075659277182821,
          -0.8375971997327919
         ],
         "yaxis": "y8"
        },
        {
         "marker": {
          "color": "rgb(54, 146, 68)",
          "line": {
           "color": "black",
           "width": 0.5
          },
          "size": 12,
          "symbol": "square"
         },
         "mode": "markers",
         "showlegend": false,
         "type": "scatter",
         "x": [
          0.46928661656394477
         ],
         "xaxis": "x8",
         "y": [
          -0.6094915745993829
         ],
         "yaxis": "y8"
        },
        {
         "marker": {
          "color": "rgb(33, 100, 175)",
          "line": {
           "color": "black",
           "width": 0.5
          },
          "size": 8,
          "symbol": "square"
         },
         "mode": "markers",
         "showlegend": false,
         "type": "scatter",
         "x": [
          0.41218900090124844,
          0.3538015716890598,
          0.3155551741922495,
          0.3519166929072901
         ],
         "xaxis": "x8",
         "y": [
          0.9194045102439935,
          0.9302345261780358,
          0.9057026485642127,
          0.9602888745167825
         ],
         "yaxis": "y8"
        },
        {
         "marker": {
          "color": "rgb(217, 72, 42)",
          "line": {
           "color": "black",
           "width": 0.5
          },
          "size": 8,
          "symbol": "square"
         },
         "mode": "markers",
         "showlegend": false,
         "type": "scatter",
         "x": [
          0.0681818581590779,
          0.03434843505603532,
          0.08849732736823351,
          0.11967439238854176
         ],
         "xaxis": "x8",
         "y": [
          0.6456460475228925,
          0.6210430771175495,
          0.6224788329486083,
          0.6707840836419121
         ],
         "yaxis": "y8"
        },
        {
         "marker": {
          "color": "rgb(146, 54, 132)",
          "line": {
           "color": "black",
           "width": 0.5
          },
          "size": 8,
          "symbol": "square"
         },
         "mode": "markers",
         "showlegend": false,
         "type": "scatter",
         "x": [
          -0.11102827228616065,
          -0.09616387050424105,
          -0.10140597937209508,
          -0.08569955853374987
         ],
         "xaxis": "x8",
         "y": [
          1.1281646547527697,
          1.042312204918838,
          1.1933380006536662,
          1.1429764268972056
         ],
         "yaxis": "y8"
        },
        {
         "marker": {
          "color": "rgb(175, 127, 91)",
          "line": {
           "color": "black",
           "width": 0.5
          },
          "size": 8,
          "symbol": "square"
         },
         "mode": "markers",
         "showlegend": false,
         "type": "scatter",
         "x": [
          0.6287361032927451,
          0.6572431754365174,
          0.6258570601996976,
          0.6354529141824521
         ],
         "xaxis": "x8",
         "y": [
          1.202856507232236,
          1.325317117968094,
          1.1976573824131806,
          1.156968517571089
         ],
         "yaxis": "y8"
        },
        {
         "marker": {
          "color": "rgb(166.0, 193, 223)",
          "line": {
           "color": "black",
           "width": 0.5
          },
          "size": 8,
          "symbol": "square"
         },
         "mode": "markers",
         "showlegend": false,
         "type": "scatter",
         "x": [
          0.9875476840698861,
          0.9340797832178782,
          0.9763114639347678,
          0.9030623537667594
         ],
         "xaxis": "x8",
         "y": [
          2.2498712171367545,
          2.3258555257527567,
          2.268246125991112,
          2.2536616867530563
         ],
         "yaxis": "y8"
        }
       ],
       "layout": {
        "height": 800,
        "legend": {
         "font": {
          "color": "black",
          "family": "Myriad Pro",
          "size": 12
         },
         "orientation": "h",
         "x": 0.1,
         "y": -0.15
        },
        "template": {
         "data": {
          "scatter": [
           {
            "type": "scatter"
           }
          ]
         }
        },
        "width": 800,
        "xaxis": {
         "anchor": "y",
         "domain": [
          0,
          0.3
         ],
         "linecolor": "black",
         "linewidth": 1,
         "mirror": true,
         "nticks": 8,
         "showgrid": true,
         "showline": true,
         "side": "bottom",
         "tickangle": 0,
         "tickcolor": "black",
         "tickfont": {
          "color": "black",
          "family": "Myriad Pro",
          "size": 16
         },
         "ticklen": 4,
         "ticks": "outside",
         "zeroline": true
        },
        "xaxis2": {
         "anchor": "y2",
         "domain": [
          0.35,
          0.6499999999999999
         ],
         "linecolor": "black",
         "linewidth": 1,
         "mirror": true,
         "nticks": 8,
         "showgrid": true,
         "showline": true,
         "side": "bottom",
         "tickangle": 0,
         "tickcolor": "black",
         "tickfont": {
          "color": "black",
          "family": "Myriad Pro",
          "size": 16
         },
         "ticklen": 4,
         "ticks": "outside",
         "zeroline": true
        },
        "xaxis3": {
         "anchor": "y3",
         "domain": [
          0.7,
          1
         ],
         "linecolor": "black",
         "linewidth": 1,
         "mirror": true,
         "nticks": 8,
         "showgrid": true,
         "showline": true,
         "side": "bottom",
         "tickangle": 0,
         "tickcolor": "black",
         "tickfont": {
          "color": "black",
          "family": "Myriad Pro",
          "size": 16
         },
         "ticklen": 4,
         "ticks": "outside",
         "zeroline": true
        },
        "xaxis4": {
         "anchor": "y4",
         "domain": [
          0,
          0.3
         ],
         "linecolor": "black",
         "linewidth": 1,
         "mirror": true,
         "nticks": 8,
         "showgrid": true,
         "showline": true,
         "side": "bottom",
         "tickangle": 0,
         "tickcolor": "black",
         "tickfont": {
          "color": "black",
          "family": "Myriad Pro",
          "size": 16
         },
         "ticklen": 4,
         "ticks": "outside",
         "zeroline": true
        },
        "xaxis5": {
         "anchor": "y5",
         "domain": [
          0.35,
          0.6499999999999999
         ],
         "linecolor": "black",
         "linewidth": 1,
         "mirror": true,
         "nticks": 8,
         "showgrid": true,
         "showline": true,
         "side": "bottom",
         "tickangle": 0,
         "tickcolor": "black",
         "tickfont": {
          "color": "black",
          "family": "Myriad Pro",
          "size": 16
         },
         "ticklen": 4,
         "ticks": "outside",
         "zeroline": true
        },
        "xaxis6": {
         "anchor": "y6",
         "domain": [
          0.7,
          1
         ],
         "linecolor": "black",
         "linewidth": 1,
         "mirror": true,
         "nticks": 8,
         "showgrid": true,
         "showline": true,
         "side": "bottom",
         "tickangle": 0,
         "tickcolor": "black",
         "tickfont": {
          "color": "black",
          "family": "Myriad Pro",
          "size": 16
         },
         "ticklen": 4,
         "ticks": "outside",
         "zeroline": true
        },
        "xaxis7": {
         "anchor": "y7",
         "domain": [
          0,
          0.3
         ],
         "linecolor": "black",
         "linewidth": 1,
         "mirror": true,
         "nticks": 8,
         "showgrid": true,
         "showline": true,
         "side": "bottom",
         "tickangle": 0,
         "tickcolor": "black",
         "tickfont": {
          "color": "black",
          "family": "Myriad Pro",
          "size": 16
         },
         "ticklen": 4,
         "ticks": "outside",
         "title": {
          "font": {
           "color": "black",
           "family": "Myriad Pro",
           "size": 16
          },
          "standoff": 0.5,
          "text": "Principal Component 1"
         },
         "zeroline": true
        },
        "xaxis8": {
         "anchor": "y8",
         "domain": [
          0.35,
          0.6499999999999999
         ],
         "linecolor": "black",
         "linewidth": 1,
         "mirror": true,
         "nticks": 8,
         "showgrid": true,
         "showline": true,
         "side": "bottom",
         "tickangle": 0,
         "tickcolor": "black",
         "tickfont": {
          "color": "black",
          "family": "Myriad Pro",
          "size": 16
         },
         "ticklen": 4,
         "ticks": "outside",
         "title": {
          "font": {
           "color": "black",
           "family": "Myriad Pro",
           "size": 16
          },
          "standoff": 0.5,
          "text": "Principal Component 2"
         },
         "zeroline": true
        },
        "xaxis9": {
         "anchor": "y9",
         "domain": [
          0.7,
          1
         ],
         "linecolor": "black",
         "linewidth": 1,
         "mirror": true,
         "nticks": 8,
         "showgrid": true,
         "showline": true,
         "side": "bottom",
         "tickangle": 0,
         "tickcolor": "black",
         "tickfont": {
          "color": "black",
          "family": "Myriad Pro",
          "size": 16
         },
         "ticklen": 4,
         "ticks": "outside",
         "title": {
          "font": {
           "color": "black",
           "family": "Myriad Pro",
           "size": 16
          },
          "standoff": 0.5,
          "text": "Principal Component 3"
         },
         "zeroline": true
        },
        "yaxis": {
         "anchor": "x",
         "domain": [
          0.7,
          1
         ],
         "linecolor": "black",
         "linewidth": 1,
         "mirror": true,
         "showgrid": true,
         "showline": true,
         "tickangle": 0,
         "tickcolor": "black",
         "tickfont": {
          "color": "black",
          "family": "Myriad Pro",
          "size": 16
         },
         "ticklen": 4,
         "ticks": "outside",
         "title": {
          "font": {
           "color": "black",
           "family": "Myriad Pro",
           "size": 16
          },
          "standoff": 0,
          "text": "Principal Component 1"
         },
         "zeroline": true
        },
        "yaxis2": {
         "anchor": "x2",
         "domain": [
          0.7,
          1
         ],
         "linecolor": "black",
         "linewidth": 1,
         "mirror": true,
         "showgrid": true,
         "showline": true,
         "tickangle": 0,
         "tickcolor": "black",
         "tickfont": {
          "color": "black",
          "family": "Myriad Pro",
          "size": 16
         },
         "ticklen": 4,
         "ticks": "outside",
         "zeroline": true
        },
        "yaxis3": {
         "anchor": "x3",
         "domain": [
          0.7,
          1
         ],
         "linecolor": "black",
         "linewidth": 1,
         "mirror": true,
         "showgrid": true,
         "showline": true,
         "tickangle": 0,
         "tickcolor": "black",
         "tickfont": {
          "color": "black",
          "family": "Myriad Pro",
          "size": 16
         },
         "ticklen": 4,
         "ticks": "outside",
         "zeroline": true
        },
        "yaxis4": {
         "anchor": "x4",
         "domain": [
          0.35,
          0.6499999999999999
         ],
         "linecolor": "black",
         "linewidth": 1,
         "mirror": true,
         "showgrid": true,
         "showline": true,
         "tickangle": 0,
         "tickcolor": "black",
         "tickfont": {
          "color": "black",
          "family": "Myriad Pro",
          "size": 16
         },
         "ticklen": 4,
         "ticks": "outside",
         "title": {
          "font": {
           "color": "black",
           "family": "Myriad Pro",
           "size": 16
          },
          "standoff": 0,
          "text": "Principal Component 2"
         },
         "zeroline": true
        },
        "yaxis5": {
         "anchor": "x5",
         "domain": [
          0.35,
          0.6499999999999999
         ],
         "linecolor": "black",
         "linewidth": 1,
         "mirror": true,
         "showgrid": true,
         "showline": true,
         "tickangle": 0,
         "tickcolor": "black",
         "tickfont": {
          "color": "black",
          "family": "Myriad Pro",
          "size": 16
         },
         "ticklen": 4,
         "ticks": "outside",
         "zeroline": true
        },
        "yaxis6": {
         "anchor": "x6",
         "domain": [
          0.35,
          0.6499999999999999
         ],
         "linecolor": "black",
         "linewidth": 1,
         "mirror": true,
         "showgrid": true,
         "showline": true,
         "tickangle": 0,
         "tickcolor": "black",
         "tickfont": {
          "color": "black",
          "family": "Myriad Pro",
          "size": 16
         },
         "ticklen": 4,
         "ticks": "outside",
         "zeroline": true
        },
        "yaxis7": {
         "anchor": "x7",
         "domain": [
          0,
          0.3
         ],
         "linecolor": "black",
         "linewidth": 1,
         "mirror": true,
         "showgrid": true,
         "showline": true,
         "tickangle": 0,
         "tickcolor": "black",
         "tickfont": {
          "color": "black",
          "family": "Myriad Pro",
          "size": 16
         },
         "ticklen": 4,
         "ticks": "outside",
         "title": {
          "font": {
           "color": "black",
           "family": "Myriad Pro",
           "size": 16
          },
          "standoff": 0,
          "text": "Principal Component 3"
         },
         "zeroline": true
        },
        "yaxis8": {
         "anchor": "x8",
         "domain": [
          0,
          0.3
         ],
         "linecolor": "black",
         "linewidth": 1,
         "mirror": true,
         "showgrid": true,
         "showline": true,
         "tickangle": 0,
         "tickcolor": "black",
         "tickfont": {
          "color": "black",
          "family": "Myriad Pro",
          "size": 16
         },
         "ticklen": 4,
         "ticks": "outside",
         "zeroline": true
        },
        "yaxis9": {
         "anchor": "x9",
         "domain": [
          0,
          0.3
         ],
         "linecolor": "black",
         "linewidth": 1,
         "mirror": true,
         "showgrid": true,
         "showline": true,
         "tickangle": 0,
         "tickcolor": "black",
         "tickfont": {
          "color": "black",
          "family": "Myriad Pro",
          "size": 16
         },
         "ticklen": 4,
         "ticks": "outside",
         "zeroline": true
        }
       }
      },
      "text/html": [
       "<div>                            <div id=\"e34d2509-b1b0-458c-971d-bd817ffc9ef2\" class=\"plotly-graph-div\" style=\"height:800px; width:800px;\"></div>            <script type=\"text/javascript\">                require([\"plotly\"], function(Plotly) {                    window.PLOTLYENV=window.PLOTLYENV || {};                                    if (document.getElementById(\"e34d2509-b1b0-458c-971d-bd817ffc9ef2\")) {                    Plotly.newPlot(                        \"e34d2509-b1b0-458c-971d-bd817ffc9ef2\",                        [{\"marker\": {\"color\": \"rgb(54, 146, 68)\", \"line\": {\"color\": \"black\", \"width\": 0.5}, \"size\": 12, \"symbol\": \"circle\"}, \"mode\": \"markers\", \"showlegend\": false, \"type\": \"scatter\", \"x\": [8.416464071926855], \"xaxis\": \"x2\", \"y\": [4.2703512861826765], \"yaxis\": \"y2\"}, {\"marker\": {\"color\": \"rgb(33, 100, 175)\", \"line\": {\"color\": \"black\", \"width\": 0.5}, \"size\": 8, \"symbol\": \"circle\"}, \"mode\": \"markers\", \"showlegend\": false, \"type\": \"scatter\", \"x\": [-0.3824847069006511, -0.4210878791831721, -0.43652064738776725, -0.5203734527836535], \"xaxis\": \"x2\", \"y\": [3.24687528935492, 3.1742368391116247, 3.2161203008408, 3.297862307252109], \"yaxis\": \"y2\"}, {\"marker\": {\"color\": \"rgb(217, 72, 42)\", \"line\": {\"color\": \"black\", \"width\": 0.5}, \"size\": 8, \"symbol\": \"circle\"}, \"mode\": \"markers\", \"showlegend\": false, \"type\": \"scatter\", \"x\": [-0.6016012266442115, -0.5897675363360623, -0.5554004639244072, -0.5489160786004234], \"xaxis\": \"x2\", \"y\": [3.0843943708728636, 3.364746488327563, 3.3330863583343002, 3.0683930086766535], \"yaxis\": \"y2\"}, {\"marker\": {\"color\": \"rgb(146, 54, 132)\", \"line\": {\"color\": \"black\", \"width\": 0.5}, \"size\": 8, \"symbol\": \"circle\"}, \"mode\": \"markers\", \"showlegend\": false, \"type\": \"scatter\", \"x\": [-1.2326819539272076, -1.2775215479420585, -1.3186833143442402, -1.4573122883134575], \"xaxis\": \"x2\", \"y\": [2.5087738992505697, 2.644812078113189, 2.5075959753000943, 2.6656213271810865], \"yaxis\": \"y2\"}, {\"marker\": {\"color\": \"rgb(175, 127, 91)\", \"line\": {\"color\": \"black\", \"width\": 0.5}, \"size\": 8, \"symbol\": \"circle\"}, \"mode\": \"markers\", \"showlegend\": false, \"type\": \"scatter\", \"x\": [-0.32183321165158507, -0.3159354650246948, -0.3144656946268456, -0.2889431919807998], \"xaxis\": \"x2\", \"y\": [3.5122708297378105, 3.4911031003595046, 3.516928692640329, 3.402754958954992], \"yaxis\": \"y2\"}, {\"marker\": {\"color\": \"rgb(166.0, 193, 223)\", \"line\": {\"color\": \"black\", \"width\": 0.5}, \"size\": 8, \"symbol\": \"circle\"}, \"mode\": \"markers\", \"showlegend\": false, \"type\": \"scatter\", \"x\": [0.026038643750224133, -0.11034926929576659, -0.16134566223090457, -0.12565666412478466], \"xaxis\": \"x2\", \"y\": [4.308029176110424, 4.329930637774318, 4.298911025043553, 4.361785479832931], \"yaxis\": \"y2\"}, {\"marker\": {\"color\": \"rgb(54, 146, 68)\", \"line\": {\"color\": \"black\", \"width\": 0.5}, \"size\": 12, \"symbol\": \"x\"}, \"mode\": \"markers\", \"showlegend\": false, \"type\": \"scatter\", \"x\": [-0.4503216474458601], \"xaxis\": \"x2\", \"y\": [0.3356453436117262], \"yaxis\": \"y2\"}, {\"marker\": {\"color\": \"rgb(33, 100, 175)\", \"line\": {\"color\": \"black\", \"width\": 0.5}, \"size\": 8, \"symbol\": \"x\"}, \"mode\": \"markers\", \"showlegend\": false, \"type\": \"scatter\", \"x\": [-0.06014379470682033, -0.1590367624273094, -0.15765082970787556, -0.16435827550595558], \"xaxis\": \"x2\", \"y\": [-1.200662294235045, -1.1211914382067711, -1.1477484585856832, -1.1111681376948885], \"yaxis\": \"y2\"}, {\"marker\": {\"color\": \"rgb(217, 72, 42)\", \"line\": {\"color\": \"black\", \"width\": 0.5}, \"size\": 8, \"symbol\": \"x\"}, \"mode\": \"markers\", \"showlegend\": false, \"type\": \"scatter\", \"x\": [-0.34298264313244065, -0.3149441068500843, -0.330239694116104, -0.3007457336546264], \"xaxis\": \"x2\", \"y\": [-1.152093389866138, -1.2475528016103135, -1.1817769506441662, -1.2418945328153546], \"yaxis\": \"y2\"}, {\"marker\": {\"color\": \"rgb(146, 54, 132)\", \"line\": {\"color\": \"black\", \"width\": 0.5}, \"size\": 8, \"symbol\": \"x\"}, \"mode\": \"markers\", \"showlegend\": false, \"type\": \"scatter\", \"x\": [-0.5453572833472937, -0.47645322484316344, -0.5241160863149315, -0.5667568282426501], \"xaxis\": \"x2\", \"y\": [-1.2684172236642435, -1.1398516218490935, -1.044633226881385, -1.206959065007897], \"yaxis\": \"y2\"}, {\"marker\": {\"color\": \"rgb(175, 127, 91)\", \"line\": {\"color\": \"black\", \"width\": 0.5}, \"size\": 8, \"symbol\": \"x\"}, \"mode\": \"markers\", \"showlegend\": false, \"type\": \"scatter\", \"x\": [-0.0982269232206828, -0.08731269637009159, -0.06846955979275211, -0.07007441539639779], \"xaxis\": \"x2\", \"y\": [-1.5586952964552696, -1.4466299610367093, -1.4450920754294658, -1.4476198312918338], \"yaxis\": \"y2\"}, {\"marker\": {\"color\": \"rgb(166.0, 193, 223)\", \"line\": {\"color\": \"black\", \"width\": 0.5}, \"size\": 8, \"symbol\": \"x\"}, \"mode\": \"markers\", \"showlegend\": false, \"type\": \"scatter\", \"x\": [0.38400341211804856, 0.2649131333508012, 0.1897087279108549, 0.10389673152654669], \"xaxis\": \"x2\", \"y\": [-1.4084851424507712, -1.4936038297194127, -1.5927172474465237, -1.711976922932068], \"yaxis\": \"y2\"}, {\"marker\": {\"color\": \"rgb(54, 146, 68)\", \"line\": {\"color\": \"black\", \"width\": 0.5}, \"size\": 12, \"symbol\": \"diamond\"}, \"mode\": \"markers\", \"showlegend\": false, \"type\": \"scatter\", \"x\": [0.2488460453133756], \"xaxis\": \"x2\", \"y\": [0.7469064309736004], \"yaxis\": \"y2\"}, {\"marker\": {\"color\": \"rgb(33, 100, 175)\", \"line\": {\"color\": \"black\", \"width\": 0.5}, \"size\": 8, \"symbol\": \"diamond\"}, \"mode\": \"markers\", \"showlegend\": false, \"type\": \"scatter\", \"x\": [0.0762372436744645, -0.04666051071477941, -0.05722730726051445, -0.051358217700350185], \"xaxis\": \"x2\", \"y\": [-1.0189232264866463, -1.000995193797187, -1.0018550795142411, -1.0514502747081285], \"yaxis\": \"y2\"}, {\"marker\": {\"color\": \"rgb(217, 72, 42)\", \"line\": {\"color\": \"black\", \"width\": 0.5}, \"size\": 8, \"symbol\": \"diamond\"}, \"mode\": \"markers\", \"showlegend\": false, \"type\": \"scatter\", \"x\": [-0.2783385927058724, -0.23820390882078415, -0.25642880139774904, -0.2775140877055973], \"xaxis\": \"x2\", \"y\": [-0.9459180852796545, -0.8691361381803101, -0.9319557577722652, -0.9743867726876877], \"yaxis\": \"y2\"}, {\"marker\": {\"color\": \"rgb(146, 54, 132)\", \"line\": {\"color\": \"black\", \"width\": 0.5}, \"size\": 8, \"symbol\": \"diamond\"}, \"mode\": \"markers\", \"showlegend\": false, \"type\": \"scatter\", \"x\": [-0.41540377207894524, -0.42129809723137895, -0.44256518500568437, -0.4198876028837609], \"xaxis\": \"x2\", \"y\": [-1.164050543723825, -1.1761724043073158, -1.2476865871922256, -1.1923843027991465], \"yaxis\": \"y2\"}, {\"marker\": {\"color\": \"rgb(175, 127, 91)\", \"line\": {\"color\": \"black\", \"width\": 0.5}, \"size\": 8, \"symbol\": \"diamond\"}, \"mode\": \"markers\", \"showlegend\": false, \"type\": \"scatter\", \"x\": [-0.032724515410478175, -0.12223135019142761, -0.09249732224232882, 0.07918377101702363], \"xaxis\": \"x2\", \"y\": [-1.374956375672494, -1.4421478371390737, -1.3254585591534815, -1.5032263770213607], \"yaxis\": \"y2\"}, {\"marker\": {\"color\": \"rgb(166.0, 193, 223)\", \"line\": {\"color\": \"black\", \"width\": 0.5}, \"size\": 8, \"symbol\": \"diamond\"}, \"mode\": \"markers\", \"showlegend\": false, \"type\": \"scatter\", \"x\": [0.28834158541602617, 0.23425421020716003, 0.1866478706139751, 0.18443065819189047], \"xaxis\": \"x2\", \"y\": [-1.5697260161705917, -1.3338749622186425, -1.5043556816079044, -1.5922094765675832], \"yaxis\": \"y2\"}, {\"marker\": {\"color\": \"rgb(54, 146, 68)\", \"line\": {\"color\": \"black\", \"width\": 0.5}, \"size\": 12, \"symbol\": \"square\"}, \"mode\": \"markers\", \"showlegend\": false, \"type\": \"scatter\", \"x\": [0.46928661656394477], \"xaxis\": \"x2\", \"y\": [1.6498929127101565], \"yaxis\": \"y2\"}, {\"marker\": {\"color\": \"rgb(33, 100, 175)\", \"line\": {\"color\": \"black\", \"width\": 0.5}, \"size\": 8, \"symbol\": \"square\"}, \"mode\": \"markers\", \"showlegend\": false, \"type\": \"scatter\", \"x\": [0.41218900090124844, 0.3538015716890598, 0.3155551741922495, 0.3519166929072901], \"xaxis\": \"x2\", \"y\": [-1.0357018585674795, -0.971972341678189, -0.8993214850233164, -0.9441434546414833], \"yaxis\": \"y2\"}, {\"marker\": {\"color\": \"rgb(217, 72, 42)\", \"line\": {\"color\": \"black\", \"width\": 0.5}, \"size\": 8, \"symbol\": \"square\"}, \"mode\": \"markers\", \"showlegend\": false, \"type\": \"scatter\", \"x\": [0.0681818581590779, 0.03434843505603532, 0.08849732736823351, 0.11967439238854176], \"xaxis\": \"x2\", \"y\": [-0.9894295275008335, -0.961068901787321, -0.8847744261142441, -0.8902985361957357], \"yaxis\": \"y2\"}, {\"marker\": {\"color\": \"rgb(146, 54, 132)\", \"line\": {\"color\": \"black\", \"width\": 0.5}, \"size\": 8, \"symbol\": \"square\"}, \"mode\": \"markers\", \"showlegend\": false, \"type\": \"scatter\", \"x\": [-0.11102827228616065, -0.09616387050424105, -0.10140597937209508, -0.08569955853374987], \"xaxis\": \"x2\", \"y\": [-1.4521138231908846, -1.3868989434666459, -1.4071448295291098, -1.3556487894728988], \"yaxis\": \"y2\"}, {\"marker\": {\"color\": \"rgb(175, 127, 91)\", \"line\": {\"color\": \"black\", \"width\": 0.5}, \"size\": 8, \"symbol\": \"square\"}, \"mode\": \"markers\", \"showlegend\": false, \"type\": \"scatter\", \"x\": [0.6287361032927451, 0.6572431754365174, 0.6258570601996976, 0.6354529141824521], \"xaxis\": \"x2\", \"y\": [-1.3214148376525934, -1.2248033986403246, -1.2606706925805637, -1.2851363388960304], \"yaxis\": \"y2\"}, {\"marker\": {\"color\": \"rgb(166.0, 193, 223)\", \"line\": {\"color\": \"black\", \"width\": 0.5}, \"size\": 8, \"symbol\": \"square\"}, \"mode\": \"markers\", \"showlegend\": false, \"type\": \"scatter\", \"x\": [0.9875476840698861, 0.9340797832178782, 0.9763114639347678, 0.9030623537667594], \"xaxis\": \"x2\", \"y\": [-1.4618851889753388, -1.447052002552236, -1.3855927670098007, -1.3823168732499695], \"yaxis\": \"y2\"}, {\"marker\": {\"color\": \"rgb(54, 146, 68)\", \"line\": {\"color\": \"black\", \"width\": 0.5}, \"size\": 12, \"symbol\": \"circle\"}, \"mode\": \"markers\", \"showlegend\": false, \"type\": \"scatter\", \"x\": [-1.870255523033803], \"xaxis\": \"x3\", \"y\": [4.2703512861826765], \"yaxis\": \"y3\"}, {\"marker\": {\"color\": \"rgb(33, 100, 175)\", \"line\": {\"color\": \"black\", \"width\": 0.5}, \"size\": 8, \"symbol\": \"circle\"}, \"mode\": \"markers\", \"showlegend\": false, \"type\": \"scatter\", \"x\": [-0.09101248211638543, -0.2052340601013772, -0.24903540276966424, -0.1818206394777378], \"xaxis\": \"x3\", \"y\": [3.24687528935492, 3.1742368391116247, 3.2161203008408, 3.297862307252109], \"yaxis\": \"y3\"}, {\"marker\": {\"color\": \"rgb(217, 72, 42)\", \"line\": {\"color\": \"black\", \"width\": 0.5}, \"size\": 8, \"symbol\": \"circle\"}, \"mode\": \"markers\", \"showlegend\": false, \"type\": \"scatter\", \"x\": [-0.08839876263751681, -0.02833133868615707, -0.03796138740500365, -0.08277816367705444], \"xaxis\": \"x3\", \"y\": [3.0843943708728636, 3.364746488327563, 3.3330863583343002, 3.0683930086766535], \"yaxis\": \"y3\"}, {\"marker\": {\"color\": \"rgb(146, 54, 132)\", \"line\": {\"color\": \"black\", \"width\": 0.5}, \"size\": 8, \"symbol\": \"circle\"}, \"mode\": \"markers\", \"showlegend\": false, \"type\": \"scatter\", \"x\": [-0.3825032887815774, -0.5417804429169171, -0.5509966189913942, -0.437068577685074], \"xaxis\": \"x3\", \"y\": [2.5087738992505697, 2.644812078113189, 2.5075959753000943, 2.6656213271810865], \"yaxis\": \"y3\"}, {\"marker\": {\"color\": \"rgb(175, 127, 91)\", \"line\": {\"color\": \"black\", \"width\": 0.5}, \"size\": 8, \"symbol\": \"circle\"}, \"mode\": \"markers\", \"showlegend\": false, \"type\": \"scatter\", \"x\": [0.24477032497336199, 0.21112311406509157, 0.1926401156244551, 0.11069376546552137], \"xaxis\": \"x3\", \"y\": [3.5122708297378105, 3.4911031003595046, 3.516928692640329, 3.402754958954992], \"yaxis\": \"y3\"}, {\"marker\": {\"color\": \"rgb(166.0, 193, 223)\", \"line\": {\"color\": \"black\", \"width\": 0.5}, \"size\": 8, \"symbol\": \"circle\"}, \"mode\": \"markers\", \"showlegend\": false, \"type\": \"scatter\", \"x\": [0.9670910326287077, 0.9654594723710361, 0.9900069569009758, 1.0146106191079072], \"xaxis\": \"x3\", \"y\": [4.308029176110424, 4.329930637774318, 4.298911025043553, 4.361785479832931], \"yaxis\": \"y3\"}, {\"marker\": {\"color\": \"rgb(54, 146, 68)\", \"line\": {\"color\": \"black\", \"width\": 0.5}, \"size\": 12, \"symbol\": \"x\"}, \"mode\": \"markers\", \"showlegend\": false, \"type\": \"scatter\", \"x\": [-1.2400863163494071], \"xaxis\": \"x3\", \"y\": [0.3356453436117262], \"yaxis\": \"y3\"}, {\"marker\": {\"color\": \"rgb(33, 100, 175)\", \"line\": {\"color\": \"black\", \"width\": 0.5}, \"size\": 8, \"symbol\": \"x\"}, \"mode\": \"markers\", \"showlegend\": false, \"type\": \"scatter\", \"x\": [-0.4425179754079885, -0.48275793164982816, -0.4296630223681925, -0.4263490184499278], \"xaxis\": \"x3\", \"y\": [-1.200662294235045, -1.1211914382067711, -1.1477484585856832, -1.1111681376948885], \"yaxis\": \"y3\"}, {\"marker\": {\"color\": \"rgb(217, 72, 42)\", \"line\": {\"color\": \"black\", \"width\": 0.5}, \"size\": 8, \"symbol\": \"x\"}, \"mode\": \"markers\", \"showlegend\": false, \"type\": \"scatter\", \"x\": [-0.4367569302005862, -0.4786180663882526, -0.43569511893042223, -0.35055862780470465], \"xaxis\": \"x3\", \"y\": [-1.152093389866138, -1.2475528016103135, -1.1817769506441662, -1.2418945328153546], \"yaxis\": \"y3\"}, {\"marker\": {\"color\": \"rgb(146, 54, 132)\", \"line\": {\"color\": \"black\", \"width\": 0.5}, \"size\": 8, \"symbol\": \"x\"}, \"mode\": \"markers\", \"showlegend\": false, \"type\": \"scatter\", \"x\": [-0.22153206044502233, -0.16986209867273294, -0.200551358978605, -0.0727242098702631], \"xaxis\": \"x3\", \"y\": [-1.2684172236642435, -1.1398516218490935, -1.044633226881385, -1.206959065007897], \"yaxis\": \"y3\"}, {\"marker\": {\"color\": \"rgb(175, 127, 91)\", \"line\": {\"color\": \"black\", \"width\": 0.5}, \"size\": 8, \"symbol\": \"x\"}, \"mode\": \"markers\", \"showlegend\": false, \"type\": \"scatter\", \"x\": [-1.2948706323496129, -1.2438814956944961, -1.2408771857212353, -1.249151213955304], \"xaxis\": \"x3\", \"y\": [-1.5586952964552696, -1.4466299610367093, -1.4450920754294658, -1.4476198312918338], \"yaxis\": \"y3\"}, {\"marker\": {\"color\": \"rgb(166.0, 193, 223)\", \"line\": {\"color\": \"black\", \"width\": 0.5}, \"size\": 8, \"symbol\": \"x\"}, \"mode\": \"markers\", \"showlegend\": false, \"type\": \"scatter\", \"x\": [-0.5825016624364814, -0.6998813906209211, -0.7811142707652061, -0.7643779088086358], \"xaxis\": \"x3\", \"y\": [-1.4084851424507712, -1.4936038297194127, -1.5927172474465237, -1.711976922932068], \"yaxis\": \"y3\"}, {\"marker\": {\"color\": \"rgb(54, 146, 68)\", \"line\": {\"color\": \"black\", \"width\": 0.5}, \"size\": 12, \"symbol\": \"diamond\"}, \"mode\": \"markers\", \"showlegend\": false, \"type\": \"scatter\", \"x\": [-1.1520674068366579], \"xaxis\": \"x3\", \"y\": [0.7469064309736004], \"yaxis\": \"y3\"}, {\"marker\": {\"color\": \"rgb(33, 100, 175)\", \"line\": {\"color\": \"black\", \"width\": 0.5}, \"size\": 8, \"symbol\": \"diamond\"}, \"mode\": \"markers\", \"showlegend\": false, \"type\": \"scatter\", \"x\": [-0.06166173720607047, -0.17905351697431685, -0.13928060046107, -0.08198574786413307], \"xaxis\": \"x3\", \"y\": [-1.0189232264866463, -1.000995193797187, -1.0018550795142411, -1.0514502747081285], \"yaxis\": \"y3\"}, {\"marker\": {\"color\": \"rgb(217, 72, 42)\", \"line\": {\"color\": \"black\", \"width\": 0.5}, \"size\": 8, \"symbol\": \"diamond\"}, \"mode\": \"markers\", \"showlegend\": false, \"type\": \"scatter\", \"x\": [-0.2235488648408224, -0.24711907859605708, -0.367208315476585, -0.36594550278755555], \"xaxis\": \"x3\", \"y\": [-0.9459180852796545, -0.8691361381803101, -0.9319557577722652, -0.9743867726876877], \"yaxis\": \"y3\"}, {\"marker\": {\"color\": \"rgb(146, 54, 132)\", \"line\": {\"color\": \"black\", \"width\": 0.5}, \"size\": 8, \"symbol\": \"diamond\"}, \"mode\": \"markers\", \"showlegend\": false, \"type\": \"scatter\", \"x\": [0.17578533697457835, 0.12334013022805973, 0.13895865422078812, 0.033173749210069735], \"xaxis\": \"x3\", \"y\": [-1.164050543723825, -1.1761724043073158, -1.2476865871922256, -1.1923843027991465], \"yaxis\": \"y3\"}, {\"marker\": {\"color\": \"rgb(175, 127, 91)\", \"line\": {\"color\": \"black\", \"width\": 0.5}, \"size\": 8, \"symbol\": \"diamond\"}, \"mode\": \"markers\", \"showlegend\": false, \"type\": \"scatter\", \"x\": [-1.2538338700049836, -1.287843607682113, -1.3637737474644347, -1.3069859791918017], \"xaxis\": \"x3\", \"y\": [-1.374956375672494, -1.4421478371390737, -1.3254585591534815, -1.5032263770213607], \"yaxis\": \"y3\"}, {\"marker\": {\"color\": \"rgb(166.0, 193, 223)\", \"line\": {\"color\": \"black\", \"width\": 0.5}, \"size\": 8, \"symbol\": \"diamond\"}, \"mode\": \"markers\", \"showlegend\": false, \"type\": \"scatter\", \"x\": [-0.7763071559490667, -0.8776862230116855, -0.8075659277182821, -0.8375971997327919], \"xaxis\": \"x3\", \"y\": [-1.5697260161705917, -1.3338749622186425, -1.5043556816079044, -1.5922094765675832], \"yaxis\": \"y3\"}, {\"marker\": {\"color\": \"rgb(54, 146, 68)\", \"line\": {\"color\": \"black\", \"width\": 0.5}, \"size\": 12, \"symbol\": \"square\"}, \"mode\": \"markers\", \"showlegend\": false, \"type\": \"scatter\", \"x\": [-0.6094915745993829], \"xaxis\": \"x3\", \"y\": [1.6498929127101565], \"yaxis\": \"y3\"}, {\"marker\": {\"color\": \"rgb(33, 100, 175)\", \"line\": {\"color\": \"black\", \"width\": 0.5}, \"size\": 8, \"symbol\": \"square\"}, \"mode\": \"markers\", \"showlegend\": false, \"type\": \"scatter\", \"x\": [0.9194045102439935, 0.9302345261780358, 0.9057026485642127, 0.9602888745167825], \"xaxis\": \"x3\", \"y\": [-1.0357018585674795, -0.971972341678189, -0.8993214850233164, -0.9441434546414833], \"yaxis\": \"y3\"}, {\"marker\": {\"color\": \"rgb(217, 72, 42)\", \"line\": {\"color\": \"black\", \"width\": 0.5}, \"size\": 8, \"symbol\": \"square\"}, \"mode\": \"markers\", \"showlegend\": false, \"type\": \"scatter\", \"x\": [0.6456460475228925, 0.6210430771175495, 0.6224788329486083, 0.6707840836419121], \"xaxis\": \"x3\", \"y\": [-0.9894295275008335, -0.961068901787321, -0.8847744261142441, -0.8902985361957357], \"yaxis\": \"y3\"}, {\"marker\": {\"color\": \"rgb(146, 54, 132)\", \"line\": {\"color\": \"black\", \"width\": 0.5}, \"size\": 8, \"symbol\": \"square\"}, \"mode\": \"markers\", \"showlegend\": false, \"type\": \"scatter\", \"x\": [1.1281646547527697, 1.042312204918838, 1.1933380006536662, 1.1429764268972056], \"xaxis\": \"x3\", \"y\": [-1.4521138231908846, -1.3868989434666459, -1.4071448295291098, -1.3556487894728988], \"yaxis\": \"y3\"}, {\"marker\": {\"color\": \"rgb(175, 127, 91)\", \"line\": {\"color\": \"black\", \"width\": 0.5}, \"size\": 8, \"symbol\": \"square\"}, \"mode\": \"markers\", \"showlegend\": false, \"type\": \"scatter\", \"x\": [1.202856507232236, 1.325317117968094, 1.1976573824131806, 1.156968517571089], \"xaxis\": \"x3\", \"y\": [-1.3214148376525934, -1.2248033986403246, -1.2606706925805637, -1.2851363388960304], \"yaxis\": \"y3\"}, {\"marker\": {\"color\": \"rgb(166.0, 193, 223)\", \"line\": {\"color\": \"black\", \"width\": 0.5}, \"size\": 8, \"symbol\": \"square\"}, \"mode\": \"markers\", \"showlegend\": false, \"type\": \"scatter\", \"x\": [2.2498712171367545, 2.3258555257527567, 2.268246125991112, 2.2536616867530563], \"xaxis\": \"x3\", \"y\": [-1.4618851889753388, -1.447052002552236, -1.3855927670098007, -1.3823168732499695], \"yaxis\": \"y3\"}, {\"marker\": {\"color\": \"rgb(54, 146, 68)\", \"line\": {\"color\": \"black\", \"width\": 0.5}, \"size\": 12, \"symbol\": \"circle\"}, \"mode\": \"markers\", \"showlegend\": false, \"type\": \"scatter\", \"x\": [4.2703512861826765], \"xaxis\": \"x4\", \"y\": [8.416464071926855], \"yaxis\": \"y4\"}, {\"marker\": {\"color\": \"rgb(33, 100, 175)\", \"line\": {\"color\": \"black\", \"width\": 0.5}, \"size\": 8, \"symbol\": \"circle\"}, \"mode\": \"markers\", \"showlegend\": false, \"type\": \"scatter\", \"x\": [3.24687528935492, 3.1742368391116247, 3.2161203008408, 3.297862307252109], \"xaxis\": \"x4\", \"y\": [-0.3824847069006511, -0.4210878791831721, -0.43652064738776725, -0.5203734527836535], \"yaxis\": \"y4\"}, {\"marker\": {\"color\": \"rgb(217, 72, 42)\", \"line\": {\"color\": \"black\", \"width\": 0.5}, \"size\": 8, \"symbol\": \"circle\"}, \"mode\": \"markers\", \"showlegend\": false, \"type\": \"scatter\", \"x\": [3.0843943708728636, 3.364746488327563, 3.3330863583343002, 3.0683930086766535], \"xaxis\": \"x4\", \"y\": [-0.6016012266442115, -0.5897675363360623, -0.5554004639244072, -0.5489160786004234], \"yaxis\": \"y4\"}, {\"marker\": {\"color\": \"rgb(146, 54, 132)\", \"line\": {\"color\": \"black\", \"width\": 0.5}, \"size\": 8, \"symbol\": \"circle\"}, \"mode\": \"markers\", \"showlegend\": false, \"type\": \"scatter\", \"x\": [2.5087738992505697, 2.644812078113189, 2.5075959753000943, 2.6656213271810865], \"xaxis\": \"x4\", \"y\": [-1.2326819539272076, -1.2775215479420585, -1.3186833143442402, -1.4573122883134575], \"yaxis\": \"y4\"}, {\"marker\": {\"color\": \"rgb(175, 127, 91)\", \"line\": {\"color\": \"black\", \"width\": 0.5}, \"size\": 8, \"symbol\": \"circle\"}, \"mode\": \"markers\", \"showlegend\": false, \"type\": \"scatter\", \"x\": [3.5122708297378105, 3.4911031003595046, 3.516928692640329, 3.402754958954992], \"xaxis\": \"x4\", \"y\": [-0.32183321165158507, -0.3159354650246948, -0.3144656946268456, -0.2889431919807998], \"yaxis\": \"y4\"}, {\"marker\": {\"color\": \"rgb(166.0, 193, 223)\", \"line\": {\"color\": \"black\", \"width\": 0.5}, \"size\": 8, \"symbol\": \"circle\"}, \"mode\": \"markers\", \"showlegend\": false, \"type\": \"scatter\", \"x\": [4.308029176110424, 4.329930637774318, 4.298911025043553, 4.361785479832931], \"xaxis\": \"x4\", \"y\": [0.026038643750224133, -0.11034926929576659, -0.16134566223090457, -0.12565666412478466], \"yaxis\": \"y4\"}, {\"marker\": {\"color\": \"rgb(54, 146, 68)\", \"line\": {\"color\": \"black\", \"width\": 0.5}, \"size\": 12, \"symbol\": \"x\"}, \"mode\": \"markers\", \"showlegend\": false, \"type\": \"scatter\", \"x\": [0.3356453436117262], \"xaxis\": \"x4\", \"y\": [-0.4503216474458601], \"yaxis\": \"y4\"}, {\"marker\": {\"color\": \"rgb(33, 100, 175)\", \"line\": {\"color\": \"black\", \"width\": 0.5}, \"size\": 8, \"symbol\": \"x\"}, \"mode\": \"markers\", \"showlegend\": false, \"type\": \"scatter\", \"x\": [-1.200662294235045, -1.1211914382067711, -1.1477484585856832, -1.1111681376948885], \"xaxis\": \"x4\", \"y\": [-0.06014379470682033, -0.1590367624273094, -0.15765082970787556, -0.16435827550595558], \"yaxis\": \"y4\"}, {\"marker\": {\"color\": \"rgb(217, 72, 42)\", \"line\": {\"color\": \"black\", \"width\": 0.5}, \"size\": 8, \"symbol\": \"x\"}, \"mode\": \"markers\", \"showlegend\": false, \"type\": \"scatter\", \"x\": [-1.152093389866138, -1.2475528016103135, -1.1817769506441662, -1.2418945328153546], \"xaxis\": \"x4\", \"y\": [-0.34298264313244065, -0.3149441068500843, -0.330239694116104, -0.3007457336546264], \"yaxis\": \"y4\"}, {\"marker\": {\"color\": \"rgb(146, 54, 132)\", \"line\": {\"color\": \"black\", \"width\": 0.5}, \"size\": 8, \"symbol\": \"x\"}, \"mode\": \"markers\", \"showlegend\": false, \"type\": \"scatter\", \"x\": [-1.2684172236642435, -1.1398516218490935, -1.044633226881385, -1.206959065007897], \"xaxis\": \"x4\", \"y\": [-0.5453572833472937, -0.47645322484316344, -0.5241160863149315, -0.5667568282426501], \"yaxis\": \"y4\"}, {\"marker\": {\"color\": \"rgb(175, 127, 91)\", \"line\": {\"color\": \"black\", \"width\": 0.5}, \"size\": 8, \"symbol\": \"x\"}, \"mode\": \"markers\", \"showlegend\": false, \"type\": \"scatter\", \"x\": [-1.5586952964552696, -1.4466299610367093, -1.4450920754294658, -1.4476198312918338], \"xaxis\": \"x4\", \"y\": [-0.0982269232206828, -0.08731269637009159, -0.06846955979275211, -0.07007441539639779], \"yaxis\": \"y4\"}, {\"marker\": {\"color\": \"rgb(166.0, 193, 223)\", \"line\": {\"color\": \"black\", \"width\": 0.5}, \"size\": 8, \"symbol\": \"x\"}, \"mode\": \"markers\", \"showlegend\": false, \"type\": \"scatter\", \"x\": [-1.4084851424507712, -1.4936038297194127, -1.5927172474465237, -1.711976922932068], \"xaxis\": \"x4\", \"y\": [0.38400341211804856, 0.2649131333508012, 0.1897087279108549, 0.10389673152654669], \"yaxis\": \"y4\"}, {\"marker\": {\"color\": \"rgb(54, 146, 68)\", \"line\": {\"color\": \"black\", \"width\": 0.5}, \"size\": 12, \"symbol\": \"diamond\"}, \"mode\": \"markers\", \"showlegend\": false, \"type\": \"scatter\", \"x\": [0.7469064309736004], \"xaxis\": \"x4\", \"y\": [0.2488460453133756], \"yaxis\": \"y4\"}, {\"marker\": {\"color\": \"rgb(33, 100, 175)\", \"line\": {\"color\": \"black\", \"width\": 0.5}, \"size\": 8, \"symbol\": \"diamond\"}, \"mode\": \"markers\", \"showlegend\": false, \"type\": \"scatter\", \"x\": [-1.0189232264866463, -1.000995193797187, -1.0018550795142411, -1.0514502747081285], \"xaxis\": \"x4\", \"y\": [0.0762372436744645, -0.04666051071477941, -0.05722730726051445, -0.051358217700350185], \"yaxis\": \"y4\"}, {\"marker\": {\"color\": \"rgb(217, 72, 42)\", \"line\": {\"color\": \"black\", \"width\": 0.5}, \"size\": 8, \"symbol\": \"diamond\"}, \"mode\": \"markers\", \"showlegend\": false, \"type\": \"scatter\", \"x\": [-0.9459180852796545, -0.8691361381803101, -0.9319557577722652, -0.9743867726876877], \"xaxis\": \"x4\", \"y\": [-0.2783385927058724, -0.23820390882078415, -0.25642880139774904, -0.2775140877055973], \"yaxis\": \"y4\"}, {\"marker\": {\"color\": \"rgb(146, 54, 132)\", \"line\": {\"color\": \"black\", \"width\": 0.5}, \"size\": 8, \"symbol\": \"diamond\"}, \"mode\": \"markers\", \"showlegend\": false, \"type\": \"scatter\", \"x\": [-1.164050543723825, -1.1761724043073158, -1.2476865871922256, -1.1923843027991465], \"xaxis\": \"x4\", \"y\": [-0.41540377207894524, -0.42129809723137895, -0.44256518500568437, -0.4198876028837609], \"yaxis\": \"y4\"}, {\"marker\": {\"color\": \"rgb(175, 127, 91)\", \"line\": {\"color\": \"black\", \"width\": 0.5}, \"size\": 8, \"symbol\": \"diamond\"}, \"mode\": \"markers\", \"showlegend\": false, \"type\": \"scatter\", \"x\": [-1.374956375672494, -1.4421478371390737, -1.3254585591534815, -1.5032263770213607], \"xaxis\": \"x4\", \"y\": [-0.032724515410478175, -0.12223135019142761, -0.09249732224232882, 0.07918377101702363], \"yaxis\": \"y4\"}, {\"marker\": {\"color\": \"rgb(166.0, 193, 223)\", \"line\": {\"color\": \"black\", \"width\": 0.5}, \"size\": 8, \"symbol\": \"diamond\"}, \"mode\": \"markers\", \"showlegend\": false, \"type\": \"scatter\", \"x\": [-1.5697260161705917, -1.3338749622186425, -1.5043556816079044, -1.5922094765675832], \"xaxis\": \"x4\", \"y\": [0.28834158541602617, 0.23425421020716003, 0.1866478706139751, 0.18443065819189047], \"yaxis\": \"y4\"}, {\"marker\": {\"color\": \"rgb(54, 146, 68)\", \"line\": {\"color\": \"black\", \"width\": 0.5}, \"size\": 12, \"symbol\": \"square\"}, \"mode\": \"markers\", \"showlegend\": false, \"type\": \"scatter\", \"x\": [1.6498929127101565], \"xaxis\": \"x4\", \"y\": [0.46928661656394477], \"yaxis\": \"y4\"}, {\"marker\": {\"color\": \"rgb(33, 100, 175)\", \"line\": {\"color\": \"black\", \"width\": 0.5}, \"size\": 8, \"symbol\": \"square\"}, \"mode\": \"markers\", \"showlegend\": false, \"type\": \"scatter\", \"x\": [-1.0357018585674795, -0.971972341678189, -0.8993214850233164, -0.9441434546414833], \"xaxis\": \"x4\", \"y\": [0.41218900090124844, 0.3538015716890598, 0.3155551741922495, 0.3519166929072901], \"yaxis\": \"y4\"}, {\"marker\": {\"color\": \"rgb(217, 72, 42)\", \"line\": {\"color\": \"black\", \"width\": 0.5}, \"size\": 8, \"symbol\": \"square\"}, \"mode\": \"markers\", \"showlegend\": false, \"type\": \"scatter\", \"x\": [-0.9894295275008335, -0.961068901787321, -0.8847744261142441, -0.8902985361957357], \"xaxis\": \"x4\", \"y\": [0.0681818581590779, 0.03434843505603532, 0.08849732736823351, 0.11967439238854176], \"yaxis\": \"y4\"}, {\"marker\": {\"color\": \"rgb(146, 54, 132)\", \"line\": {\"color\": \"black\", \"width\": 0.5}, \"size\": 8, \"symbol\": \"square\"}, \"mode\": \"markers\", \"showlegend\": false, \"type\": \"scatter\", \"x\": [-1.4521138231908846, -1.3868989434666459, -1.4071448295291098, -1.3556487894728988], \"xaxis\": \"x4\", \"y\": [-0.11102827228616065, -0.09616387050424105, -0.10140597937209508, -0.08569955853374987], \"yaxis\": \"y4\"}, {\"marker\": {\"color\": \"rgb(175, 127, 91)\", \"line\": {\"color\": \"black\", \"width\": 0.5}, \"size\": 8, \"symbol\": \"square\"}, \"mode\": \"markers\", \"showlegend\": false, \"type\": \"scatter\", \"x\": [-1.3214148376525934, -1.2248033986403246, -1.2606706925805637, -1.2851363388960304], \"xaxis\": \"x4\", \"y\": [0.6287361032927451, 0.6572431754365174, 0.6258570601996976, 0.6354529141824521], \"yaxis\": \"y4\"}, {\"marker\": {\"color\": \"rgb(166.0, 193, 223)\", \"line\": {\"color\": \"black\", \"width\": 0.5}, \"size\": 8, \"symbol\": \"square\"}, \"mode\": \"markers\", \"showlegend\": false, \"type\": \"scatter\", \"x\": [-1.4618851889753388, -1.447052002552236, -1.3855927670098007, -1.3823168732499695], \"xaxis\": \"x4\", \"y\": [0.9875476840698861, 0.9340797832178782, 0.9763114639347678, 0.9030623537667594], \"yaxis\": \"y4\"}, {\"marker\": {\"color\": \"rgb(54, 146, 68)\", \"line\": {\"color\": \"black\", \"width\": 0.5}, \"size\": 12, \"symbol\": \"circle\"}, \"mode\": \"markers\", \"showlegend\": false, \"type\": \"scatter\", \"x\": [-1.870255523033803], \"xaxis\": \"x6\", \"y\": [8.416464071926855], \"yaxis\": \"y6\"}, {\"marker\": {\"color\": \"rgb(33, 100, 175)\", \"line\": {\"color\": \"black\", \"width\": 0.5}, \"size\": 8, \"symbol\": \"circle\"}, \"mode\": \"markers\", \"showlegend\": false, \"type\": \"scatter\", \"x\": [-0.09101248211638543, -0.2052340601013772, -0.24903540276966424, -0.1818206394777378], \"xaxis\": \"x6\", \"y\": [-0.3824847069006511, -0.4210878791831721, -0.43652064738776725, -0.5203734527836535], \"yaxis\": \"y6\"}, {\"marker\": {\"color\": \"rgb(217, 72, 42)\", \"line\": {\"color\": \"black\", \"width\": 0.5}, \"size\": 8, \"symbol\": \"circle\"}, \"mode\": \"markers\", \"showlegend\": false, \"type\": \"scatter\", \"x\": [-0.08839876263751681, -0.02833133868615707, -0.03796138740500365, -0.08277816367705444], \"xaxis\": \"x6\", \"y\": [-0.6016012266442115, -0.5897675363360623, -0.5554004639244072, -0.5489160786004234], \"yaxis\": \"y6\"}, {\"marker\": {\"color\": \"rgb(146, 54, 132)\", \"line\": {\"color\": \"black\", \"width\": 0.5}, \"size\": 8, \"symbol\": \"circle\"}, \"mode\": \"markers\", \"showlegend\": false, \"type\": \"scatter\", \"x\": [-0.3825032887815774, -0.5417804429169171, -0.5509966189913942, -0.437068577685074], \"xaxis\": \"x6\", \"y\": [-1.2326819539272076, -1.2775215479420585, -1.3186833143442402, -1.4573122883134575], \"yaxis\": \"y6\"}, {\"marker\": {\"color\": \"rgb(175, 127, 91)\", \"line\": {\"color\": \"black\", \"width\": 0.5}, \"size\": 8, \"symbol\": \"circle\"}, \"mode\": \"markers\", \"showlegend\": false, \"type\": \"scatter\", \"x\": [0.24477032497336199, 0.21112311406509157, 0.1926401156244551, 0.11069376546552137], \"xaxis\": \"x6\", \"y\": [-0.32183321165158507, -0.3159354650246948, -0.3144656946268456, -0.2889431919807998], \"yaxis\": \"y6\"}, {\"marker\": {\"color\": \"rgb(166.0, 193, 223)\", \"line\": {\"color\": \"black\", \"width\": 0.5}, \"size\": 8, \"symbol\": \"circle\"}, \"mode\": \"markers\", \"showlegend\": false, \"type\": \"scatter\", \"x\": [0.9670910326287077, 0.9654594723710361, 0.9900069569009758, 1.0146106191079072], \"xaxis\": \"x6\", \"y\": [0.026038643750224133, -0.11034926929576659, -0.16134566223090457, -0.12565666412478466], \"yaxis\": \"y6\"}, {\"marker\": {\"color\": \"rgb(54, 146, 68)\", \"line\": {\"color\": \"black\", \"width\": 0.5}, \"size\": 12, \"symbol\": \"x\"}, \"mode\": \"markers\", \"showlegend\": false, \"type\": \"scatter\", \"x\": [-1.2400863163494071], \"xaxis\": \"x6\", \"y\": [-0.4503216474458601], \"yaxis\": \"y6\"}, {\"marker\": {\"color\": \"rgb(33, 100, 175)\", \"line\": {\"color\": \"black\", \"width\": 0.5}, \"size\": 8, \"symbol\": \"x\"}, \"mode\": \"markers\", \"showlegend\": false, \"type\": \"scatter\", \"x\": [-0.4425179754079885, -0.48275793164982816, -0.4296630223681925, -0.4263490184499278], \"xaxis\": \"x6\", \"y\": [-0.06014379470682033, -0.1590367624273094, -0.15765082970787556, -0.16435827550595558], \"yaxis\": \"y6\"}, {\"marker\": {\"color\": \"rgb(217, 72, 42)\", \"line\": {\"color\": \"black\", \"width\": 0.5}, \"size\": 8, \"symbol\": \"x\"}, \"mode\": \"markers\", \"showlegend\": false, \"type\": \"scatter\", \"x\": [-0.4367569302005862, -0.4786180663882526, -0.43569511893042223, -0.35055862780470465], \"xaxis\": \"x6\", \"y\": [-0.34298264313244065, -0.3149441068500843, -0.330239694116104, -0.3007457336546264], \"yaxis\": \"y6\"}, {\"marker\": {\"color\": \"rgb(146, 54, 132)\", \"line\": {\"color\": \"black\", \"width\": 0.5}, \"size\": 8, \"symbol\": \"x\"}, \"mode\": \"markers\", \"showlegend\": false, \"type\": \"scatter\", \"x\": [-0.22153206044502233, -0.16986209867273294, -0.200551358978605, -0.0727242098702631], \"xaxis\": \"x6\", \"y\": [-0.5453572833472937, -0.47645322484316344, -0.5241160863149315, -0.5667568282426501], \"yaxis\": \"y6\"}, {\"marker\": {\"color\": \"rgb(175, 127, 91)\", \"line\": {\"color\": \"black\", \"width\": 0.5}, \"size\": 8, \"symbol\": \"x\"}, \"mode\": \"markers\", \"showlegend\": false, \"type\": \"scatter\", \"x\": [-1.2948706323496129, -1.2438814956944961, -1.2408771857212353, -1.249151213955304], \"xaxis\": \"x6\", \"y\": [-0.0982269232206828, -0.08731269637009159, -0.06846955979275211, -0.07007441539639779], \"yaxis\": \"y6\"}, {\"marker\": {\"color\": \"rgb(166.0, 193, 223)\", \"line\": {\"color\": \"black\", \"width\": 0.5}, \"size\": 8, \"symbol\": \"x\"}, \"mode\": \"markers\", \"showlegend\": false, \"type\": \"scatter\", \"x\": [-0.5825016624364814, -0.6998813906209211, -0.7811142707652061, -0.7643779088086358], \"xaxis\": \"x6\", \"y\": [0.38400341211804856, 0.2649131333508012, 0.1897087279108549, 0.10389673152654669], \"yaxis\": \"y6\"}, {\"marker\": {\"color\": \"rgb(54, 146, 68)\", \"line\": {\"color\": \"black\", \"width\": 0.5}, \"size\": 12, \"symbol\": \"diamond\"}, \"mode\": \"markers\", \"showlegend\": false, \"type\": \"scatter\", \"x\": [-1.1520674068366579], \"xaxis\": \"x6\", \"y\": [0.2488460453133756], \"yaxis\": \"y6\"}, {\"marker\": {\"color\": \"rgb(33, 100, 175)\", \"line\": {\"color\": \"black\", \"width\": 0.5}, \"size\": 8, \"symbol\": \"diamond\"}, \"mode\": \"markers\", \"showlegend\": false, \"type\": \"scatter\", \"x\": [-0.06166173720607047, -0.17905351697431685, -0.13928060046107, -0.08198574786413307], \"xaxis\": \"x6\", \"y\": [0.0762372436744645, -0.04666051071477941, -0.05722730726051445, -0.051358217700350185], \"yaxis\": \"y6\"}, {\"marker\": {\"color\": \"rgb(217, 72, 42)\", \"line\": {\"color\": \"black\", \"width\": 0.5}, \"size\": 8, \"symbol\": \"diamond\"}, \"mode\": \"markers\", \"showlegend\": false, \"type\": \"scatter\", \"x\": [-0.2235488648408224, -0.24711907859605708, -0.367208315476585, -0.36594550278755555], \"xaxis\": \"x6\", \"y\": [-0.2783385927058724, -0.23820390882078415, -0.25642880139774904, -0.2775140877055973], \"yaxis\": \"y6\"}, {\"marker\": {\"color\": \"rgb(146, 54, 132)\", \"line\": {\"color\": \"black\", \"width\": 0.5}, \"size\": 8, \"symbol\": \"diamond\"}, \"mode\": \"markers\", \"showlegend\": false, \"type\": \"scatter\", \"x\": [0.17578533697457835, 0.12334013022805973, 0.13895865422078812, 0.033173749210069735], \"xaxis\": \"x6\", \"y\": [-0.41540377207894524, -0.42129809723137895, -0.44256518500568437, -0.4198876028837609], \"yaxis\": \"y6\"}, {\"marker\": {\"color\": \"rgb(175, 127, 91)\", \"line\": {\"color\": \"black\", \"width\": 0.5}, \"size\": 8, \"symbol\": \"diamond\"}, \"mode\": \"markers\", \"showlegend\": false, \"type\": \"scatter\", \"x\": [-1.2538338700049836, -1.287843607682113, -1.3637737474644347, -1.3069859791918017], \"xaxis\": \"x6\", \"y\": [-0.032724515410478175, -0.12223135019142761, -0.09249732224232882, 0.07918377101702363], \"yaxis\": \"y6\"}, {\"marker\": {\"color\": \"rgb(166.0, 193, 223)\", \"line\": {\"color\": \"black\", \"width\": 0.5}, \"size\": 8, \"symbol\": \"diamond\"}, \"mode\": \"markers\", \"showlegend\": false, \"type\": \"scatter\", \"x\": [-0.7763071559490667, -0.8776862230116855, -0.8075659277182821, -0.8375971997327919], \"xaxis\": \"x6\", \"y\": [0.28834158541602617, 0.23425421020716003, 0.1866478706139751, 0.18443065819189047], \"yaxis\": \"y6\"}, {\"marker\": {\"color\": \"rgb(54, 146, 68)\", \"line\": {\"color\": \"black\", \"width\": 0.5}, \"size\": 12, \"symbol\": \"square\"}, \"mode\": \"markers\", \"showlegend\": false, \"type\": \"scatter\", \"x\": [-0.6094915745993829], \"xaxis\": \"x6\", \"y\": [0.46928661656394477], \"yaxis\": \"y6\"}, {\"marker\": {\"color\": \"rgb(33, 100, 175)\", \"line\": {\"color\": \"black\", \"width\": 0.5}, \"size\": 8, \"symbol\": \"square\"}, \"mode\": \"markers\", \"showlegend\": false, \"type\": \"scatter\", \"x\": [0.9194045102439935, 0.9302345261780358, 0.9057026485642127, 0.9602888745167825], \"xaxis\": \"x6\", \"y\": [0.41218900090124844, 0.3538015716890598, 0.3155551741922495, 0.3519166929072901], \"yaxis\": \"y6\"}, {\"marker\": {\"color\": \"rgb(217, 72, 42)\", \"line\": {\"color\": \"black\", \"width\": 0.5}, \"size\": 8, \"symbol\": \"square\"}, \"mode\": \"markers\", \"showlegend\": false, \"type\": \"scatter\", \"x\": [0.6456460475228925, 0.6210430771175495, 0.6224788329486083, 0.6707840836419121], \"xaxis\": \"x6\", \"y\": [0.0681818581590779, 0.03434843505603532, 0.08849732736823351, 0.11967439238854176], \"yaxis\": \"y6\"}, {\"marker\": {\"color\": \"rgb(146, 54, 132)\", \"line\": {\"color\": \"black\", \"width\": 0.5}, \"size\": 8, \"symbol\": \"square\"}, \"mode\": \"markers\", \"showlegend\": false, \"type\": \"scatter\", \"x\": [1.1281646547527697, 1.042312204918838, 1.1933380006536662, 1.1429764268972056], \"xaxis\": \"x6\", \"y\": [-0.11102827228616065, -0.09616387050424105, -0.10140597937209508, -0.08569955853374987], \"yaxis\": \"y6\"}, {\"marker\": {\"color\": \"rgb(175, 127, 91)\", \"line\": {\"color\": \"black\", \"width\": 0.5}, \"size\": 8, \"symbol\": \"square\"}, \"mode\": \"markers\", \"showlegend\": false, \"type\": \"scatter\", \"x\": [1.202856507232236, 1.325317117968094, 1.1976573824131806, 1.156968517571089], \"xaxis\": \"x6\", \"y\": [0.6287361032927451, 0.6572431754365174, 0.6258570601996976, 0.6354529141824521], \"yaxis\": \"y6\"}, {\"marker\": {\"color\": \"rgb(166.0, 193, 223)\", \"line\": {\"color\": \"black\", \"width\": 0.5}, \"size\": 8, \"symbol\": \"square\"}, \"mode\": \"markers\", \"showlegend\": false, \"type\": \"scatter\", \"x\": [2.2498712171367545, 2.3258555257527567, 2.268246125991112, 2.2536616867530563], \"xaxis\": \"x6\", \"y\": [0.9875476840698861, 0.9340797832178782, 0.9763114639347678, 0.9030623537667594], \"yaxis\": \"y6\"}, {\"marker\": {\"color\": \"rgb(54, 146, 68)\", \"line\": {\"color\": \"black\", \"width\": 0.5}, \"size\": 12, \"symbol\": \"circle\"}, \"mode\": \"markers\", \"showlegend\": false, \"type\": \"scatter\", \"x\": [4.2703512861826765], \"xaxis\": \"x7\", \"y\": [-1.870255523033803], \"yaxis\": \"y7\"}, {\"marker\": {\"color\": \"rgb(33, 100, 175)\", \"line\": {\"color\": \"black\", \"width\": 0.5}, \"size\": 8, \"symbol\": \"circle\"}, \"mode\": \"markers\", \"showlegend\": false, \"type\": \"scatter\", \"x\": [3.24687528935492, 3.1742368391116247, 3.2161203008408, 3.297862307252109], \"xaxis\": \"x7\", \"y\": [-0.09101248211638543, -0.2052340601013772, -0.24903540276966424, -0.1818206394777378], \"yaxis\": \"y7\"}, {\"marker\": {\"color\": \"rgb(217, 72, 42)\", \"line\": {\"color\": \"black\", \"width\": 0.5}, \"size\": 8, \"symbol\": \"circle\"}, \"mode\": \"markers\", \"showlegend\": false, \"type\": \"scatter\", \"x\": [3.0843943708728636, 3.364746488327563, 3.3330863583343002, 3.0683930086766535], \"xaxis\": \"x7\", \"y\": [-0.08839876263751681, -0.02833133868615707, -0.03796138740500365, -0.08277816367705444], \"yaxis\": \"y7\"}, {\"marker\": {\"color\": \"rgb(146, 54, 132)\", \"line\": {\"color\": \"black\", \"width\": 0.5}, \"size\": 8, \"symbol\": \"circle\"}, \"mode\": \"markers\", \"showlegend\": false, \"type\": \"scatter\", \"x\": [2.5087738992505697, 2.644812078113189, 2.5075959753000943, 2.6656213271810865], \"xaxis\": \"x7\", \"y\": [-0.3825032887815774, -0.5417804429169171, -0.5509966189913942, -0.437068577685074], \"yaxis\": \"y7\"}, {\"marker\": {\"color\": \"rgb(175, 127, 91)\", \"line\": {\"color\": \"black\", \"width\": 0.5}, \"size\": 8, \"symbol\": \"circle\"}, \"mode\": \"markers\", \"showlegend\": false, \"type\": \"scatter\", \"x\": [3.5122708297378105, 3.4911031003595046, 3.516928692640329, 3.402754958954992], \"xaxis\": \"x7\", \"y\": [0.24477032497336199, 0.21112311406509157, 0.1926401156244551, 0.11069376546552137], \"yaxis\": \"y7\"}, {\"marker\": {\"color\": \"rgb(166.0, 193, 223)\", \"line\": {\"color\": \"black\", \"width\": 0.5}, \"size\": 8, \"symbol\": \"circle\"}, \"mode\": \"markers\", \"showlegend\": false, \"type\": \"scatter\", \"x\": [4.308029176110424, 4.329930637774318, 4.298911025043553, 4.361785479832931], \"xaxis\": \"x7\", \"y\": [0.9670910326287077, 0.9654594723710361, 0.9900069569009758, 1.0146106191079072], \"yaxis\": \"y7\"}, {\"marker\": {\"color\": \"rgb(54, 146, 68)\", \"line\": {\"color\": \"black\", \"width\": 0.5}, \"size\": 12, \"symbol\": \"x\"}, \"mode\": \"markers\", \"showlegend\": false, \"type\": \"scatter\", \"x\": [0.3356453436117262], \"xaxis\": \"x7\", \"y\": [-1.2400863163494071], \"yaxis\": \"y7\"}, {\"marker\": {\"color\": \"rgb(33, 100, 175)\", \"line\": {\"color\": \"black\", \"width\": 0.5}, \"size\": 8, \"symbol\": \"x\"}, \"mode\": \"markers\", \"showlegend\": false, \"type\": \"scatter\", \"x\": [-1.200662294235045, -1.1211914382067711, -1.1477484585856832, -1.1111681376948885], \"xaxis\": \"x7\", \"y\": [-0.4425179754079885, -0.48275793164982816, -0.4296630223681925, -0.4263490184499278], \"yaxis\": \"y7\"}, {\"marker\": {\"color\": \"rgb(217, 72, 42)\", \"line\": {\"color\": \"black\", \"width\": 0.5}, \"size\": 8, \"symbol\": \"x\"}, \"mode\": \"markers\", \"showlegend\": false, \"type\": \"scatter\", \"x\": [-1.152093389866138, -1.2475528016103135, -1.1817769506441662, -1.2418945328153546], \"xaxis\": \"x7\", \"y\": [-0.4367569302005862, -0.4786180663882526, -0.43569511893042223, -0.35055862780470465], \"yaxis\": \"y7\"}, {\"marker\": {\"color\": \"rgb(146, 54, 132)\", \"line\": {\"color\": \"black\", \"width\": 0.5}, \"size\": 8, \"symbol\": \"x\"}, \"mode\": \"markers\", \"showlegend\": false, \"type\": \"scatter\", \"x\": [-1.2684172236642435, -1.1398516218490935, -1.044633226881385, -1.206959065007897], \"xaxis\": \"x7\", \"y\": [-0.22153206044502233, -0.16986209867273294, -0.200551358978605, -0.0727242098702631], \"yaxis\": \"y7\"}, {\"marker\": {\"color\": \"rgb(175, 127, 91)\", \"line\": {\"color\": \"black\", \"width\": 0.5}, \"size\": 8, \"symbol\": \"x\"}, \"mode\": \"markers\", \"showlegend\": false, \"type\": \"scatter\", \"x\": [-1.5586952964552696, -1.4466299610367093, -1.4450920754294658, -1.4476198312918338], \"xaxis\": \"x7\", \"y\": [-1.2948706323496129, -1.2438814956944961, -1.2408771857212353, -1.249151213955304], \"yaxis\": \"y7\"}, {\"marker\": {\"color\": \"rgb(166.0, 193, 223)\", \"line\": {\"color\": \"black\", \"width\": 0.5}, \"size\": 8, \"symbol\": \"x\"}, \"mode\": \"markers\", \"showlegend\": false, \"type\": \"scatter\", \"x\": [-1.4084851424507712, -1.4936038297194127, -1.5927172474465237, -1.711976922932068], \"xaxis\": \"x7\", \"y\": [-0.5825016624364814, -0.6998813906209211, -0.7811142707652061, -0.7643779088086358], \"yaxis\": \"y7\"}, {\"marker\": {\"color\": \"rgb(54, 146, 68)\", \"line\": {\"color\": \"black\", \"width\": 0.5}, \"size\": 12, \"symbol\": \"diamond\"}, \"mode\": \"markers\", \"showlegend\": false, \"type\": \"scatter\", \"x\": [0.7469064309736004], \"xaxis\": \"x7\", \"y\": [-1.1520674068366579], \"yaxis\": \"y7\"}, {\"marker\": {\"color\": \"rgb(33, 100, 175)\", \"line\": {\"color\": \"black\", \"width\": 0.5}, \"size\": 8, \"symbol\": \"diamond\"}, \"mode\": \"markers\", \"showlegend\": false, \"type\": \"scatter\", \"x\": [-1.0189232264866463, -1.000995193797187, -1.0018550795142411, -1.0514502747081285], \"xaxis\": \"x7\", \"y\": [-0.06166173720607047, -0.17905351697431685, -0.13928060046107, -0.08198574786413307], \"yaxis\": \"y7\"}, {\"marker\": {\"color\": \"rgb(217, 72, 42)\", \"line\": {\"color\": \"black\", \"width\": 0.5}, \"size\": 8, \"symbol\": \"diamond\"}, \"mode\": \"markers\", \"showlegend\": false, \"type\": \"scatter\", \"x\": [-0.9459180852796545, -0.8691361381803101, -0.9319557577722652, -0.9743867726876877], \"xaxis\": \"x7\", \"y\": [-0.2235488648408224, -0.24711907859605708, -0.367208315476585, -0.36594550278755555], \"yaxis\": \"y7\"}, {\"marker\": {\"color\": \"rgb(146, 54, 132)\", \"line\": {\"color\": \"black\", \"width\": 0.5}, \"size\": 8, \"symbol\": \"diamond\"}, \"mode\": \"markers\", \"showlegend\": false, \"type\": \"scatter\", \"x\": [-1.164050543723825, -1.1761724043073158, -1.2476865871922256, -1.1923843027991465], \"xaxis\": \"x7\", \"y\": [0.17578533697457835, 0.12334013022805973, 0.13895865422078812, 0.033173749210069735], \"yaxis\": \"y7\"}, {\"marker\": {\"color\": \"rgb(175, 127, 91)\", \"line\": {\"color\": \"black\", \"width\": 0.5}, \"size\": 8, \"symbol\": \"diamond\"}, \"mode\": \"markers\", \"showlegend\": false, \"type\": \"scatter\", \"x\": [-1.374956375672494, -1.4421478371390737, -1.3254585591534815, -1.5032263770213607], \"xaxis\": \"x7\", \"y\": [-1.2538338700049836, -1.287843607682113, -1.3637737474644347, -1.3069859791918017], \"yaxis\": \"y7\"}, {\"marker\": {\"color\": \"rgb(166.0, 193, 223)\", \"line\": {\"color\": \"black\", \"width\": 0.5}, \"size\": 8, \"symbol\": \"diamond\"}, \"mode\": \"markers\", \"showlegend\": false, \"type\": \"scatter\", \"x\": [-1.5697260161705917, -1.3338749622186425, -1.5043556816079044, -1.5922094765675832], \"xaxis\": \"x7\", \"y\": [-0.7763071559490667, -0.8776862230116855, -0.8075659277182821, -0.8375971997327919], \"yaxis\": \"y7\"}, {\"marker\": {\"color\": \"rgb(54, 146, 68)\", \"line\": {\"color\": \"black\", \"width\": 0.5}, \"size\": 12, \"symbol\": \"square\"}, \"mode\": \"markers\", \"showlegend\": false, \"type\": \"scatter\", \"x\": [1.6498929127101565], \"xaxis\": \"x7\", \"y\": [-0.6094915745993829], \"yaxis\": \"y7\"}, {\"marker\": {\"color\": \"rgb(33, 100, 175)\", \"line\": {\"color\": \"black\", \"width\": 0.5}, \"size\": 8, \"symbol\": \"square\"}, \"mode\": \"markers\", \"showlegend\": false, \"type\": \"scatter\", \"x\": [-1.0357018585674795, -0.971972341678189, -0.8993214850233164, -0.9441434546414833], \"xaxis\": \"x7\", \"y\": [0.9194045102439935, 0.9302345261780358, 0.9057026485642127, 0.9602888745167825], \"yaxis\": \"y7\"}, {\"marker\": {\"color\": \"rgb(217, 72, 42)\", \"line\": {\"color\": \"black\", \"width\": 0.5}, \"size\": 8, \"symbol\": \"square\"}, \"mode\": \"markers\", \"showlegend\": false, \"type\": \"scatter\", \"x\": [-0.9894295275008335, -0.961068901787321, -0.8847744261142441, -0.8902985361957357], \"xaxis\": \"x7\", \"y\": [0.6456460475228925, 0.6210430771175495, 0.6224788329486083, 0.6707840836419121], \"yaxis\": \"y7\"}, {\"marker\": {\"color\": \"rgb(146, 54, 132)\", \"line\": {\"color\": \"black\", \"width\": 0.5}, \"size\": 8, \"symbol\": \"square\"}, \"mode\": \"markers\", \"showlegend\": false, \"type\": \"scatter\", \"x\": [-1.4521138231908846, -1.3868989434666459, -1.4071448295291098, -1.3556487894728988], \"xaxis\": \"x7\", \"y\": [1.1281646547527697, 1.042312204918838, 1.1933380006536662, 1.1429764268972056], \"yaxis\": \"y7\"}, {\"marker\": {\"color\": \"rgb(175, 127, 91)\", \"line\": {\"color\": \"black\", \"width\": 0.5}, \"size\": 8, \"symbol\": \"square\"}, \"mode\": \"markers\", \"showlegend\": false, \"type\": \"scatter\", \"x\": [-1.3214148376525934, -1.2248033986403246, -1.2606706925805637, -1.2851363388960304], \"xaxis\": \"x7\", \"y\": [1.202856507232236, 1.325317117968094, 1.1976573824131806, 1.156968517571089], \"yaxis\": \"y7\"}, {\"marker\": {\"color\": \"rgb(166.0, 193, 223)\", \"line\": {\"color\": \"black\", \"width\": 0.5}, \"size\": 8, \"symbol\": \"square\"}, \"mode\": \"markers\", \"showlegend\": false, \"type\": \"scatter\", \"x\": [-1.4618851889753388, -1.447052002552236, -1.3855927670098007, -1.3823168732499695], \"xaxis\": \"x7\", \"y\": [2.2498712171367545, 2.3258555257527567, 2.268246125991112, 2.2536616867530563], \"yaxis\": \"y7\"}, {\"marker\": {\"color\": \"rgb(54, 146, 68)\", \"line\": {\"color\": \"black\", \"width\": 0.5}, \"size\": 12, \"symbol\": \"circle\"}, \"mode\": \"markers\", \"showlegend\": false, \"type\": \"scatter\", \"x\": [8.416464071926855], \"xaxis\": \"x8\", \"y\": [-1.870255523033803], \"yaxis\": \"y8\"}, {\"marker\": {\"color\": \"rgb(33, 100, 175)\", \"line\": {\"color\": \"black\", \"width\": 0.5}, \"size\": 8, \"symbol\": \"circle\"}, \"mode\": \"markers\", \"showlegend\": false, \"type\": \"scatter\", \"x\": [-0.3824847069006511, -0.4210878791831721, -0.43652064738776725, -0.5203734527836535], \"xaxis\": \"x8\", \"y\": [-0.09101248211638543, -0.2052340601013772, -0.24903540276966424, -0.1818206394777378], \"yaxis\": \"y8\"}, {\"marker\": {\"color\": \"rgb(217, 72, 42)\", \"line\": {\"color\": \"black\", \"width\": 0.5}, \"size\": 8, \"symbol\": \"circle\"}, \"mode\": \"markers\", \"showlegend\": false, \"type\": \"scatter\", \"x\": [-0.6016012266442115, -0.5897675363360623, -0.5554004639244072, -0.5489160786004234], \"xaxis\": \"x8\", \"y\": [-0.08839876263751681, -0.02833133868615707, -0.03796138740500365, -0.08277816367705444], \"yaxis\": \"y8\"}, {\"marker\": {\"color\": \"rgb(146, 54, 132)\", \"line\": {\"color\": \"black\", \"width\": 0.5}, \"size\": 8, \"symbol\": \"circle\"}, \"mode\": \"markers\", \"showlegend\": false, \"type\": \"scatter\", \"x\": [-1.2326819539272076, -1.2775215479420585, -1.3186833143442402, -1.4573122883134575], \"xaxis\": \"x8\", \"y\": [-0.3825032887815774, -0.5417804429169171, -0.5509966189913942, -0.437068577685074], \"yaxis\": \"y8\"}, {\"marker\": {\"color\": \"rgb(175, 127, 91)\", \"line\": {\"color\": \"black\", \"width\": 0.5}, \"size\": 8, \"symbol\": \"circle\"}, \"mode\": \"markers\", \"showlegend\": false, \"type\": \"scatter\", \"x\": [-0.32183321165158507, -0.3159354650246948, -0.3144656946268456, -0.2889431919807998], \"xaxis\": \"x8\", \"y\": [0.24477032497336199, 0.21112311406509157, 0.1926401156244551, 0.11069376546552137], \"yaxis\": \"y8\"}, {\"marker\": {\"color\": \"rgb(166.0, 193, 223)\", \"line\": {\"color\": \"black\", \"width\": 0.5}, \"size\": 8, \"symbol\": \"circle\"}, \"mode\": \"markers\", \"showlegend\": false, \"type\": \"scatter\", \"x\": [0.026038643750224133, -0.11034926929576659, -0.16134566223090457, -0.12565666412478466], \"xaxis\": \"x8\", \"y\": [0.9670910326287077, 0.9654594723710361, 0.9900069569009758, 1.0146106191079072], \"yaxis\": \"y8\"}, {\"marker\": {\"color\": \"rgb(54, 146, 68)\", \"line\": {\"color\": \"black\", \"width\": 0.5}, \"size\": 12, \"symbol\": \"x\"}, \"mode\": \"markers\", \"showlegend\": false, \"type\": \"scatter\", \"x\": [-0.4503216474458601], \"xaxis\": \"x8\", \"y\": [-1.2400863163494071], \"yaxis\": \"y8\"}, {\"marker\": {\"color\": \"rgb(33, 100, 175)\", \"line\": {\"color\": \"black\", \"width\": 0.5}, \"size\": 8, \"symbol\": \"x\"}, \"mode\": \"markers\", \"showlegend\": false, \"type\": \"scatter\", \"x\": [-0.06014379470682033, -0.1590367624273094, -0.15765082970787556, -0.16435827550595558], \"xaxis\": \"x8\", \"y\": [-0.4425179754079885, -0.48275793164982816, -0.4296630223681925, -0.4263490184499278], \"yaxis\": \"y8\"}, {\"marker\": {\"color\": \"rgb(217, 72, 42)\", \"line\": {\"color\": \"black\", \"width\": 0.5}, \"size\": 8, \"symbol\": \"x\"}, \"mode\": \"markers\", \"showlegend\": false, \"type\": \"scatter\", \"x\": [-0.34298264313244065, -0.3149441068500843, -0.330239694116104, -0.3007457336546264], \"xaxis\": \"x8\", \"y\": [-0.4367569302005862, -0.4786180663882526, -0.43569511893042223, -0.35055862780470465], \"yaxis\": \"y8\"}, {\"marker\": {\"color\": \"rgb(146, 54, 132)\", \"line\": {\"color\": \"black\", \"width\": 0.5}, \"size\": 8, \"symbol\": \"x\"}, \"mode\": \"markers\", \"showlegend\": false, \"type\": \"scatter\", \"x\": [-0.5453572833472937, -0.47645322484316344, -0.5241160863149315, -0.5667568282426501], \"xaxis\": \"x8\", \"y\": [-0.22153206044502233, -0.16986209867273294, -0.200551358978605, -0.0727242098702631], \"yaxis\": \"y8\"}, {\"marker\": {\"color\": \"rgb(175, 127, 91)\", \"line\": {\"color\": \"black\", \"width\": 0.5}, \"size\": 8, \"symbol\": \"x\"}, \"mode\": \"markers\", \"showlegend\": false, \"type\": \"scatter\", \"x\": [-0.0982269232206828, -0.08731269637009159, -0.06846955979275211, -0.07007441539639779], \"xaxis\": \"x8\", \"y\": [-1.2948706323496129, -1.2438814956944961, -1.2408771857212353, -1.249151213955304], \"yaxis\": \"y8\"}, {\"marker\": {\"color\": \"rgb(166.0, 193, 223)\", \"line\": {\"color\": \"black\", \"width\": 0.5}, \"size\": 8, \"symbol\": \"x\"}, \"mode\": \"markers\", \"showlegend\": false, \"type\": \"scatter\", \"x\": [0.38400341211804856, 0.2649131333508012, 0.1897087279108549, 0.10389673152654669], \"xaxis\": \"x8\", \"y\": [-0.5825016624364814, -0.6998813906209211, -0.7811142707652061, -0.7643779088086358], \"yaxis\": \"y8\"}, {\"marker\": {\"color\": \"rgb(54, 146, 68)\", \"line\": {\"color\": \"black\", \"width\": 0.5}, \"size\": 12, \"symbol\": \"diamond\"}, \"mode\": \"markers\", \"showlegend\": false, \"type\": \"scatter\", \"x\": [0.2488460453133756], \"xaxis\": \"x8\", \"y\": [-1.1520674068366579], \"yaxis\": \"y8\"}, {\"marker\": {\"color\": \"rgb(33, 100, 175)\", \"line\": {\"color\": \"black\", \"width\": 0.5}, \"size\": 8, \"symbol\": \"diamond\"}, \"mode\": \"markers\", \"showlegend\": false, \"type\": \"scatter\", \"x\": [0.0762372436744645, -0.04666051071477941, -0.05722730726051445, -0.051358217700350185], \"xaxis\": \"x8\", \"y\": [-0.06166173720607047, -0.17905351697431685, -0.13928060046107, -0.08198574786413307], \"yaxis\": \"y8\"}, {\"marker\": {\"color\": \"rgb(217, 72, 42)\", \"line\": {\"color\": \"black\", \"width\": 0.5}, \"size\": 8, \"symbol\": \"diamond\"}, \"mode\": \"markers\", \"showlegend\": false, \"type\": \"scatter\", \"x\": [-0.2783385927058724, -0.23820390882078415, -0.25642880139774904, -0.2775140877055973], \"xaxis\": \"x8\", \"y\": [-0.2235488648408224, -0.24711907859605708, -0.367208315476585, -0.36594550278755555], \"yaxis\": \"y8\"}, {\"marker\": {\"color\": \"rgb(146, 54, 132)\", \"line\": {\"color\": \"black\", \"width\": 0.5}, \"size\": 8, \"symbol\": \"diamond\"}, \"mode\": \"markers\", \"showlegend\": false, \"type\": \"scatter\", \"x\": [-0.41540377207894524, -0.42129809723137895, -0.44256518500568437, -0.4198876028837609], \"xaxis\": \"x8\", \"y\": [0.17578533697457835, 0.12334013022805973, 0.13895865422078812, 0.033173749210069735], \"yaxis\": \"y8\"}, {\"marker\": {\"color\": \"rgb(175, 127, 91)\", \"line\": {\"color\": \"black\", \"width\": 0.5}, \"size\": 8, \"symbol\": \"diamond\"}, \"mode\": \"markers\", \"showlegend\": false, \"type\": \"scatter\", \"x\": [-0.032724515410478175, -0.12223135019142761, -0.09249732224232882, 0.07918377101702363], \"xaxis\": \"x8\", \"y\": [-1.2538338700049836, -1.287843607682113, -1.3637737474644347, -1.3069859791918017], \"yaxis\": \"y8\"}, {\"marker\": {\"color\": \"rgb(166.0, 193, 223)\", \"line\": {\"color\": \"black\", \"width\": 0.5}, \"size\": 8, \"symbol\": \"diamond\"}, \"mode\": \"markers\", \"showlegend\": false, \"type\": \"scatter\", \"x\": [0.28834158541602617, 0.23425421020716003, 0.1866478706139751, 0.18443065819189047], \"xaxis\": \"x8\", \"y\": [-0.7763071559490667, -0.8776862230116855, -0.8075659277182821, -0.8375971997327919], \"yaxis\": \"y8\"}, {\"marker\": {\"color\": \"rgb(54, 146, 68)\", \"line\": {\"color\": \"black\", \"width\": 0.5}, \"size\": 12, \"symbol\": \"square\"}, \"mode\": \"markers\", \"showlegend\": false, \"type\": \"scatter\", \"x\": [0.46928661656394477], \"xaxis\": \"x8\", \"y\": [-0.6094915745993829], \"yaxis\": \"y8\"}, {\"marker\": {\"color\": \"rgb(33, 100, 175)\", \"line\": {\"color\": \"black\", \"width\": 0.5}, \"size\": 8, \"symbol\": \"square\"}, \"mode\": \"markers\", \"showlegend\": false, \"type\": \"scatter\", \"x\": [0.41218900090124844, 0.3538015716890598, 0.3155551741922495, 0.3519166929072901], \"xaxis\": \"x8\", \"y\": [0.9194045102439935, 0.9302345261780358, 0.9057026485642127, 0.9602888745167825], \"yaxis\": \"y8\"}, {\"marker\": {\"color\": \"rgb(217, 72, 42)\", \"line\": {\"color\": \"black\", \"width\": 0.5}, \"size\": 8, \"symbol\": \"square\"}, \"mode\": \"markers\", \"showlegend\": false, \"type\": \"scatter\", \"x\": [0.0681818581590779, 0.03434843505603532, 0.08849732736823351, 0.11967439238854176], \"xaxis\": \"x8\", \"y\": [0.6456460475228925, 0.6210430771175495, 0.6224788329486083, 0.6707840836419121], \"yaxis\": \"y8\"}, {\"marker\": {\"color\": \"rgb(146, 54, 132)\", \"line\": {\"color\": \"black\", \"width\": 0.5}, \"size\": 8, \"symbol\": \"square\"}, \"mode\": \"markers\", \"showlegend\": false, \"type\": \"scatter\", \"x\": [-0.11102827228616065, -0.09616387050424105, -0.10140597937209508, -0.08569955853374987], \"xaxis\": \"x8\", \"y\": [1.1281646547527697, 1.042312204918838, 1.1933380006536662, 1.1429764268972056], \"yaxis\": \"y8\"}, {\"marker\": {\"color\": \"rgb(175, 127, 91)\", \"line\": {\"color\": \"black\", \"width\": 0.5}, \"size\": 8, \"symbol\": \"square\"}, \"mode\": \"markers\", \"showlegend\": false, \"type\": \"scatter\", \"x\": [0.6287361032927451, 0.6572431754365174, 0.6258570601996976, 0.6354529141824521], \"xaxis\": \"x8\", \"y\": [1.202856507232236, 1.325317117968094, 1.1976573824131806, 1.156968517571089], \"yaxis\": \"y8\"}, {\"marker\": {\"color\": \"rgb(166.0, 193, 223)\", \"line\": {\"color\": \"black\", \"width\": 0.5}, \"size\": 8, \"symbol\": \"square\"}, \"mode\": \"markers\", \"showlegend\": false, \"type\": \"scatter\", \"x\": [0.9875476840698861, 0.9340797832178782, 0.9763114639347678, 0.9030623537667594], \"xaxis\": \"x8\", \"y\": [2.2498712171367545, 2.3258555257527567, 2.268246125991112, 2.2536616867530563], \"yaxis\": \"y8\"}],                        {\"height\": 800, \"legend\": {\"font\": {\"color\": \"black\", \"family\": \"Myriad Pro\", \"size\": 12}, \"orientation\": \"h\", \"x\": 0.1, \"y\": -0.15}, \"template\": {\"data\": {\"scatter\": [{\"type\": \"scatter\"}]}}, \"width\": 800, \"xaxis\": {\"anchor\": \"y\", \"domain\": [0.0, 0.3], \"linecolor\": \"black\", \"linewidth\": 1, \"mirror\": true, \"nticks\": 8, \"showgrid\": true, \"showline\": true, \"side\": \"bottom\", \"tickangle\": 0, \"tickcolor\": \"black\", \"tickfont\": {\"color\": \"black\", \"family\": \"Myriad Pro\", \"size\": 16}, \"ticklen\": 4, \"ticks\": \"outside\", \"zeroline\": true}, \"xaxis2\": {\"anchor\": \"y2\", \"domain\": [0.35, 0.6499999999999999], \"linecolor\": \"black\", \"linewidth\": 1, \"mirror\": true, \"nticks\": 8, \"showgrid\": true, \"showline\": true, \"side\": \"bottom\", \"tickangle\": 0, \"tickcolor\": \"black\", \"tickfont\": {\"color\": \"black\", \"family\": \"Myriad Pro\", \"size\": 16}, \"ticklen\": 4, \"ticks\": \"outside\", \"zeroline\": true}, \"xaxis3\": {\"anchor\": \"y3\", \"domain\": [0.7, 1.0], \"linecolor\": \"black\", \"linewidth\": 1, \"mirror\": true, \"nticks\": 8, \"showgrid\": true, \"showline\": true, \"side\": \"bottom\", \"tickangle\": 0, \"tickcolor\": \"black\", \"tickfont\": {\"color\": \"black\", \"family\": \"Myriad Pro\", \"size\": 16}, \"ticklen\": 4, \"ticks\": \"outside\", \"zeroline\": true}, \"xaxis4\": {\"anchor\": \"y4\", \"domain\": [0.0, 0.3], \"linecolor\": \"black\", \"linewidth\": 1, \"mirror\": true, \"nticks\": 8, \"showgrid\": true, \"showline\": true, \"side\": \"bottom\", \"tickangle\": 0, \"tickcolor\": \"black\", \"tickfont\": {\"color\": \"black\", \"family\": \"Myriad Pro\", \"size\": 16}, \"ticklen\": 4, \"ticks\": \"outside\", \"zeroline\": true}, \"xaxis5\": {\"anchor\": \"y5\", \"domain\": [0.35, 0.6499999999999999], \"linecolor\": \"black\", \"linewidth\": 1, \"mirror\": true, \"nticks\": 8, \"showgrid\": true, \"showline\": true, \"side\": \"bottom\", \"tickangle\": 0, \"tickcolor\": \"black\", \"tickfont\": {\"color\": \"black\", \"family\": \"Myriad Pro\", \"size\": 16}, \"ticklen\": 4, \"ticks\": \"outside\", \"zeroline\": true}, \"xaxis6\": {\"anchor\": \"y6\", \"domain\": [0.7, 1.0], \"linecolor\": \"black\", \"linewidth\": 1, \"mirror\": true, \"nticks\": 8, \"showgrid\": true, \"showline\": true, \"side\": \"bottom\", \"tickangle\": 0, \"tickcolor\": \"black\", \"tickfont\": {\"color\": \"black\", \"family\": \"Myriad Pro\", \"size\": 16}, \"ticklen\": 4, \"ticks\": \"outside\", \"zeroline\": true}, \"xaxis7\": {\"anchor\": \"y7\", \"domain\": [0.0, 0.3], \"linecolor\": \"black\", \"linewidth\": 1, \"mirror\": true, \"nticks\": 8, \"showgrid\": true, \"showline\": true, \"side\": \"bottom\", \"tickangle\": 0, \"tickcolor\": \"black\", \"tickfont\": {\"color\": \"black\", \"family\": \"Myriad Pro\", \"size\": 16}, \"ticklen\": 4, \"ticks\": \"outside\", \"title\": {\"font\": {\"color\": \"black\", \"family\": \"Myriad Pro\", \"size\": 16}, \"standoff\": 0.5, \"text\": \"Principal Component 1\"}, \"zeroline\": true}, \"xaxis8\": {\"anchor\": \"y8\", \"domain\": [0.35, 0.6499999999999999], \"linecolor\": \"black\", \"linewidth\": 1, \"mirror\": true, \"nticks\": 8, \"showgrid\": true, \"showline\": true, \"side\": \"bottom\", \"tickangle\": 0, \"tickcolor\": \"black\", \"tickfont\": {\"color\": \"black\", \"family\": \"Myriad Pro\", \"size\": 16}, \"ticklen\": 4, \"ticks\": \"outside\", \"title\": {\"font\": {\"color\": \"black\", \"family\": \"Myriad Pro\", \"size\": 16}, \"standoff\": 0.5, \"text\": \"Principal Component 2\"}, \"zeroline\": true}, \"xaxis9\": {\"anchor\": \"y9\", \"domain\": [0.7, 1.0], \"linecolor\": \"black\", \"linewidth\": 1, \"mirror\": true, \"nticks\": 8, \"showgrid\": true, \"showline\": true, \"side\": \"bottom\", \"tickangle\": 0, \"tickcolor\": \"black\", \"tickfont\": {\"color\": \"black\", \"family\": \"Myriad Pro\", \"size\": 16}, \"ticklen\": 4, \"ticks\": \"outside\", \"title\": {\"font\": {\"color\": \"black\", \"family\": \"Myriad Pro\", \"size\": 16}, \"standoff\": 0.5, \"text\": \"Principal Component 3\"}, \"zeroline\": true}, \"yaxis\": {\"anchor\": \"x\", \"domain\": [0.7, 1.0], \"linecolor\": \"black\", \"linewidth\": 1, \"mirror\": true, \"showgrid\": true, \"showline\": true, \"tickangle\": 0, \"tickcolor\": \"black\", \"tickfont\": {\"color\": \"black\", \"family\": \"Myriad Pro\", \"size\": 16}, \"ticklen\": 4, \"ticks\": \"outside\", \"title\": {\"font\": {\"color\": \"black\", \"family\": \"Myriad Pro\", \"size\": 16}, \"standoff\": 0, \"text\": \"Principal Component 1\"}, \"zeroline\": true}, \"yaxis2\": {\"anchor\": \"x2\", \"domain\": [0.7, 1.0], \"linecolor\": \"black\", \"linewidth\": 1, \"mirror\": true, \"showgrid\": true, \"showline\": true, \"tickangle\": 0, \"tickcolor\": \"black\", \"tickfont\": {\"color\": \"black\", \"family\": \"Myriad Pro\", \"size\": 16}, \"ticklen\": 4, \"ticks\": \"outside\", \"zeroline\": true}, \"yaxis3\": {\"anchor\": \"x3\", \"domain\": [0.7, 1.0], \"linecolor\": \"black\", \"linewidth\": 1, \"mirror\": true, \"showgrid\": true, \"showline\": true, \"tickangle\": 0, \"tickcolor\": \"black\", \"tickfont\": {\"color\": \"black\", \"family\": \"Myriad Pro\", \"size\": 16}, \"ticklen\": 4, \"ticks\": \"outside\", \"zeroline\": true}, \"yaxis4\": {\"anchor\": \"x4\", \"domain\": [0.35, 0.6499999999999999], \"linecolor\": \"black\", \"linewidth\": 1, \"mirror\": true, \"showgrid\": true, \"showline\": true, \"tickangle\": 0, \"tickcolor\": \"black\", \"tickfont\": {\"color\": \"black\", \"family\": \"Myriad Pro\", \"size\": 16}, \"ticklen\": 4, \"ticks\": \"outside\", \"title\": {\"font\": {\"color\": \"black\", \"family\": \"Myriad Pro\", \"size\": 16}, \"standoff\": 0, \"text\": \"Principal Component 2\"}, \"zeroline\": true}, \"yaxis5\": {\"anchor\": \"x5\", \"domain\": [0.35, 0.6499999999999999], \"linecolor\": \"black\", \"linewidth\": 1, \"mirror\": true, \"showgrid\": true, \"showline\": true, \"tickangle\": 0, \"tickcolor\": \"black\", \"tickfont\": {\"color\": \"black\", \"family\": \"Myriad Pro\", \"size\": 16}, \"ticklen\": 4, \"ticks\": \"outside\", \"zeroline\": true}, \"yaxis6\": {\"anchor\": \"x6\", \"domain\": [0.35, 0.6499999999999999], \"linecolor\": \"black\", \"linewidth\": 1, \"mirror\": true, \"showgrid\": true, \"showline\": true, \"tickangle\": 0, \"tickcolor\": \"black\", \"tickfont\": {\"color\": \"black\", \"family\": \"Myriad Pro\", \"size\": 16}, \"ticklen\": 4, \"ticks\": \"outside\", \"zeroline\": true}, \"yaxis7\": {\"anchor\": \"x7\", \"domain\": [0.0, 0.3], \"linecolor\": \"black\", \"linewidth\": 1, \"mirror\": true, \"showgrid\": true, \"showline\": true, \"tickangle\": 0, \"tickcolor\": \"black\", \"tickfont\": {\"color\": \"black\", \"family\": \"Myriad Pro\", \"size\": 16}, \"ticklen\": 4, \"ticks\": \"outside\", \"title\": {\"font\": {\"color\": \"black\", \"family\": \"Myriad Pro\", \"size\": 16}, \"standoff\": 0, \"text\": \"Principal Component 3\"}, \"zeroline\": true}, \"yaxis8\": {\"anchor\": \"x8\", \"domain\": [0.0, 0.3], \"linecolor\": \"black\", \"linewidth\": 1, \"mirror\": true, \"showgrid\": true, \"showline\": true, \"tickangle\": 0, \"tickcolor\": \"black\", \"tickfont\": {\"color\": \"black\", \"family\": \"Myriad Pro\", \"size\": 16}, \"ticklen\": 4, \"ticks\": \"outside\", \"zeroline\": true}, \"yaxis9\": {\"anchor\": \"x9\", \"domain\": [0.0, 0.3], \"linecolor\": \"black\", \"linewidth\": 1, \"mirror\": true, \"showgrid\": true, \"showline\": true, \"tickangle\": 0, \"tickcolor\": \"black\", \"tickfont\": {\"color\": \"black\", \"family\": \"Myriad Pro\", \"size\": 16}, \"ticklen\": 4, \"ticks\": \"outside\", \"zeroline\": true}},                        {\"responsive\": true}                    ).then(function(){\n",
       "                            \n",
       "var gd = document.getElementById('e34d2509-b1b0-458c-971d-bd817ffc9ef2');\n",
       "var x = new MutationObserver(function (mutations, observer) {{\n",
       "        var display = window.getComputedStyle(gd).display;\n",
       "        if (!display || display === 'none') {{\n",
       "            console.log([gd, 'removed!']);\n",
       "            Plotly.purge(gd);\n",
       "            observer.disconnect();\n",
       "        }}\n",
       "}});\n",
       "\n",
       "// Listen for the removal of the full notebook cells\n",
       "var notebookContainer = gd.closest('#notebook-container');\n",
       "if (notebookContainer) {{\n",
       "    x.observe(notebookContainer, {childList: true});\n",
       "}}\n",
       "\n",
       "// Listen for the clearing of the current output cell\n",
       "var outputEl = gd.closest('.output');\n",
       "if (outputEl) {{\n",
       "    x.observe(outputEl, {childList: true});\n",
       "}}\n",
       "\n",
       "                        })                };                });            </script>        </div>"
      ]
     },
     "metadata": {},
     "output_type": "display_data"
    }
   ],
   "source": [
    "strain_list = ['WT', 'Δ(adh,pta)-D1', 'Δ(adh,pta)-D28', 'Δ(adh,pta)-D59']\n",
    "condition_list = ['RDM + 7.0 a.u. pH', 'RDM + 1.0 mM Cysteine', 'RDM + 1.0 mM DTT', 'RDM + 8.0 mM Na2S', 'RDM + 8.0 a.u. pH']\n",
    "analyte_list = ['Acetate', 'Formate', 'Lactate', 'Pyruvate', 'Succinate', 'Biomass', 'Growth Rate']\n",
    "\n",
    "symbols = ['circle', 'x', 'diamond', 'square']\n",
    "\n",
    "colors = ['rgb(33, 100, 175)',\n",
    "          'rgb(217, 72, 42)',\n",
    "          'rgb(146, 54, 132)',\n",
    "          'rgb(175, 127, 91)',\n",
    "         'rgb(166.0, 193, 223)']\n",
    "fig = make_subplots(rows=3, cols=3, vertical_spacing=0.05, shared_xaxes=False, shared_yaxes=False, horizontal_spacing=0.05)\n",
    "\n",
    "for k in range(3):\n",
    "    for l in range(3):\n",
    "        if k!=l:\n",
    "            for i, strain in enumerate(strain_list):\n",
    "                for j,condition in enumerate(['reactor'] + condition_list):\n",
    "                    if condition!='reactor':\n",
    "                        fig.add_trace(go.Scatter(x=final_df[(final_df['strain']==strain) & (final_df['condition']==condition)]['PC'+str(l+1)],\n",
    "                                                     y=final_df[(final_df['strain']==strain) & (final_df['condition']==condition)]['PC'+str(k+1)],\n",
    "                                                     mode='markers', showlegend=False,\n",
    "                                                     marker=dict(symbol=symbols[i], size=8, color=colors[j-1],\n",
    "                                                                 line=dict(color='black', width=0.5))),\n",
    "                                     row=k+1, col=l+1)\n",
    "                    else:\n",
    "\n",
    "                        fig.add_trace(go.Scatter(x=final_df[(final_df['strain']==strain) & (final_df['condition']==condition)]['PC'+str(l+1)],\n",
    "                                                     y=final_df[(final_df['strain']==strain) & (final_df['condition']==condition)]['PC'+str(k+1)],\n",
    "                                                     mode='markers', showlegend=False,\n",
    "                                                     marker=dict(symbol=symbols[i], size=12, color='rgb(54, 146, 68)',\n",
    "                                                                 line=dict(color='black', width=0.5))),\n",
    "                                     row=k+1, col=l+1)\n",
    "        \n",
    "        if k==2:\n",
    "            fig.update_xaxes(title='Principal Component '+str(l+1), ticks='outside', ticklen=4, tickangle=0, nticks=8, title_standoff=0.5,\n",
    "\n",
    "                              titlefont=dict(family='Myriad Pro', size=16, color='black'),row=k+1, col=l+1)\n",
    "        if l==0:\n",
    "            fig.update_yaxes(title='Principal Component '+str(k+1), ticks='outside', ticklen=4, tickangle=0, title_standoff=0,\n",
    "                              titlefont=dict(family='Myriad Pro', size=16, color='black'),row=k+1, col=l+1)\n",
    "            \n",
    "        if k!=2:\n",
    "            fig.update_xaxes(ticks='')\n",
    "\n",
    "                        \n",
    "                        \n",
    "fig.update_layout(height=800, width=800, legend_x= 0.1, legend_y=-0.15, legend_font=dict(family='Myriad Pro', size=12, color='black'), legend_orientation='h')\n",
    "fig.update_xaxes(showline=True, linewidth=1, linecolor='black', mirror=True, side='bottom',\n",
    "                              ticks='outside', ticklen=4, tickangle=0, nticks=8,\n",
    "                              tickfont=dict(size=16, family='Myriad Pro', color='black'), tickcolor='black',\n",
    "                              showgrid=True,zeroline=True)\n",
    "fig.update_yaxes(showgrid=True, zeroline=True,\n",
    "                            tickfont=dict(family='Myriad Pro',size=16, color='black'), tickcolor='black', \n",
    "\n",
    "                              showline=True, linewidth=1, linecolor='black', mirror=True,\n",
    "                              ticks='outside', ticklen=4, tickangle=0)\n",
    "plot(fig)\n",
    "#pio.write_image(fig,\"Figures/si_fig_red_pca_scores.svg\",format='svg')\n"
   ]
  },
  {
   "cell_type": "markdown",
   "id": "intelligent-carol",
   "metadata": {},
   "source": [
    "### Plot loadings of first 3 PCs ###"
   ]
  },
  {
   "cell_type": "code",
   "execution_count": 9,
   "id": "instructional-float",
   "metadata": {},
   "outputs": [
    {
     "data": {
      "application/vnd.plotly.v1+json": {
       "config": {
        "linkText": "Export to plot.ly",
        "plotlyServerURL": "https://plot.ly",
        "showLink": false
       },
       "data": [
        {
         "line": {
          "color": "rgb(54, 146, 68)",
          "width": 1.5
         },
         "mode": "lines",
         "name": "acetate",
         "showlegend": false,
         "type": "scatter",
         "x": [
          0,
          -0.2805068878265949
         ],
         "xaxis": "x2",
         "y": [
          0,
          0.432777435218166
         ],
         "yaxis": "y2"
        },
        {
         "line": {
          "color": "rgb(54, 146, 68)",
          "width": 1.5
         },
         "mode": "lines",
         "name": "formate",
         "showlegend": false,
         "type": "scatter",
         "x": [
          0,
          -0.11659451542405246
         ],
         "xaxis": "x2",
         "y": [
          0,
          0.47045423355320226
         ],
         "yaxis": "y2"
        },
        {
         "line": {
          "color": "rgb(54, 146, 68)",
          "width": 1.5
         },
         "mode": "lines",
         "name": "lactate",
         "showlegend": false,
         "type": "scatter",
         "x": [
          0,
          -0.13866723009767745
         ],
         "xaxis": "x2",
         "y": [
          0,
          -0.429576265642312
         ],
         "yaxis": "y2"
        },
        {
         "line": {
          "color": "rgb(54, 146, 68)",
          "width": 1.5
         },
         "mode": "lines",
         "name": "pyruvate",
         "showlegend": false,
         "type": "scatter",
         "x": [
          0,
          -0.1518693818306909
         ],
         "xaxis": "x2",
         "y": [
          0,
          -0.29461196360015474
         ],
         "yaxis": "y2"
        },
        {
         "line": {
          "color": "rgb(54, 146, 68)",
          "width": 1.5
         },
         "mode": "lines",
         "name": "succinate",
         "showlegend": false,
         "type": "scatter",
         "x": [
          0,
          0.1039962206747028
         ],
         "xaxis": "x2",
         "y": [
          0,
          -0.3546176425130596
         ],
         "yaxis": "y2"
        },
        {
         "line": {
          "color": "rgb(54, 146, 68)",
          "width": 1.5
         },
         "mode": "lines",
         "name": "growth_rate",
         "showlegend": false,
         "type": "scatter",
         "x": [
          0,
          0.06312151559776266
         ],
         "xaxis": "x2",
         "y": [
          0,
          0.43182248100007353
         ],
         "yaxis": "y2"
        },
        {
         "line": {
          "color": "rgb(54, 146, 68)",
          "width": 1.5
         },
         "mode": "lines",
         "name": "biomass_yield",
         "showlegend": false,
         "type": "scatter",
         "x": [
          0,
          0.9222955900188895
         ],
         "xaxis": "x2",
         "y": [
          0,
          0.08843190102979669
         ],
         "yaxis": "y2"
        },
        {
         "line": {
          "color": "rgb(54, 146, 68)",
          "width": 1.5
         },
         "mode": "lines",
         "name": "acetate",
         "showlegend": false,
         "type": "scatter",
         "x": [
          0,
          0.058262345297890095
         ],
         "xaxis": "x3",
         "y": [
          0,
          0.432777435218166
         ],
         "yaxis": "y3"
        },
        {
         "line": {
          "color": "rgb(54, 146, 68)",
          "width": 1.5
         },
         "mode": "lines",
         "name": "formate",
         "showlegend": false,
         "type": "scatter",
         "x": [
          0,
          0.05184232484951832
         ],
         "xaxis": "x3",
         "y": [
          0,
          0.47045423355320226
         ],
         "yaxis": "y3"
        },
        {
         "line": {
          "color": "rgb(54, 146, 68)",
          "width": 1.5
         },
         "mode": "lines",
         "name": "lactate",
         "showlegend": false,
         "type": "scatter",
         "x": [
          0,
          0.24561151877740672
         ],
         "xaxis": "x3",
         "y": [
          0,
          -0.429576265642312
         ],
         "yaxis": "y3"
        },
        {
         "line": {
          "color": "rgb(54, 146, 68)",
          "width": 1.5
         },
         "mode": "lines",
         "name": "pyruvate",
         "showlegend": false,
         "type": "scatter",
         "x": [
          0,
          -0.7003955207125834
         ],
         "xaxis": "x3",
         "y": [
          0,
          -0.29461196360015474
         ],
         "yaxis": "y3"
        },
        {
         "line": {
          "color": "rgb(54, 146, 68)",
          "width": 1.5
         },
         "mode": "lines",
         "name": "succinate",
         "showlegend": false,
         "type": "scatter",
         "x": [
          0,
          0.622618972708821
         ],
         "xaxis": "x3",
         "y": [
          0,
          -0.3546176425130596
         ],
         "yaxis": "y3"
        },
        {
         "line": {
          "color": "rgb(54, 146, 68)",
          "width": 1.5
         },
         "mode": "lines",
         "name": "growth_rate",
         "showlegend": false,
         "type": "scatter",
         "x": [
          0,
          0.19105771716879816
         ],
         "xaxis": "x3",
         "y": [
          0,
          0.43182248100007353
         ],
         "yaxis": "y3"
        },
        {
         "line": {
          "color": "rgb(54, 146, 68)",
          "width": 1.5
         },
         "mode": "lines",
         "name": "biomass_yield",
         "showlegend": false,
         "type": "scatter",
         "x": [
          0,
          -0.1374100884849874
         ],
         "xaxis": "x3",
         "y": [
          0,
          0.08843190102979669
         ],
         "yaxis": "y3"
        },
        {
         "line": {
          "color": "rgb(54, 146, 68)",
          "width": 1.5
         },
         "mode": "lines",
         "name": "acetate",
         "showlegend": false,
         "type": "scatter",
         "x": [
          0,
          0.432777435218166
         ],
         "xaxis": "x4",
         "y": [
          0,
          -0.2805068878265949
         ],
         "yaxis": "y4"
        },
        {
         "line": {
          "color": "rgb(54, 146, 68)",
          "width": 1.5
         },
         "mode": "lines",
         "name": "formate",
         "showlegend": false,
         "type": "scatter",
         "x": [
          0,
          0.47045423355320226
         ],
         "xaxis": "x4",
         "y": [
          0,
          -0.11659451542405246
         ],
         "yaxis": "y4"
        },
        {
         "line": {
          "color": "rgb(54, 146, 68)",
          "width": 1.5
         },
         "mode": "lines",
         "name": "lactate",
         "showlegend": false,
         "type": "scatter",
         "x": [
          0,
          -0.429576265642312
         ],
         "xaxis": "x4",
         "y": [
          0,
          -0.13866723009767745
         ],
         "yaxis": "y4"
        },
        {
         "line": {
          "color": "rgb(54, 146, 68)",
          "width": 1.5
         },
         "mode": "lines",
         "name": "pyruvate",
         "showlegend": false,
         "type": "scatter",
         "x": [
          0,
          -0.29461196360015474
         ],
         "xaxis": "x4",
         "y": [
          0,
          -0.1518693818306909
         ],
         "yaxis": "y4"
        },
        {
         "line": {
          "color": "rgb(54, 146, 68)",
          "width": 1.5
         },
         "mode": "lines",
         "name": "succinate",
         "showlegend": false,
         "type": "scatter",
         "x": [
          0,
          -0.3546176425130596
         ],
         "xaxis": "x4",
         "y": [
          0,
          0.1039962206747028
         ],
         "yaxis": "y4"
        },
        {
         "line": {
          "color": "rgb(54, 146, 68)",
          "width": 1.5
         },
         "mode": "lines",
         "name": "growth_rate",
         "showlegend": false,
         "type": "scatter",
         "x": [
          0,
          0.43182248100007353
         ],
         "xaxis": "x4",
         "y": [
          0,
          0.06312151559776266
         ],
         "yaxis": "y4"
        },
        {
         "line": {
          "color": "rgb(54, 146, 68)",
          "width": 1.5
         },
         "mode": "lines",
         "name": "biomass_yield",
         "showlegend": false,
         "type": "scatter",
         "x": [
          0,
          0.08843190102979669
         ],
         "xaxis": "x4",
         "y": [
          0,
          0.9222955900188895
         ],
         "yaxis": "y4"
        },
        {
         "line": {
          "color": "rgb(54, 146, 68)",
          "width": 1.5
         },
         "mode": "lines",
         "name": "acetate",
         "showlegend": false,
         "type": "scatter",
         "x": [
          0,
          0.058262345297890095
         ],
         "xaxis": "x6",
         "y": [
          0,
          -0.2805068878265949
         ],
         "yaxis": "y6"
        },
        {
         "line": {
          "color": "rgb(54, 146, 68)",
          "width": 1.5
         },
         "mode": "lines",
         "name": "formate",
         "showlegend": false,
         "type": "scatter",
         "x": [
          0,
          0.05184232484951832
         ],
         "xaxis": "x6",
         "y": [
          0,
          -0.11659451542405246
         ],
         "yaxis": "y6"
        },
        {
         "line": {
          "color": "rgb(54, 146, 68)",
          "width": 1.5
         },
         "mode": "lines",
         "name": "lactate",
         "showlegend": false,
         "type": "scatter",
         "x": [
          0,
          0.24561151877740672
         ],
         "xaxis": "x6",
         "y": [
          0,
          -0.13866723009767745
         ],
         "yaxis": "y6"
        },
        {
         "line": {
          "color": "rgb(54, 146, 68)",
          "width": 1.5
         },
         "mode": "lines",
         "name": "pyruvate",
         "showlegend": false,
         "type": "scatter",
         "x": [
          0,
          -0.7003955207125834
         ],
         "xaxis": "x6",
         "y": [
          0,
          -0.1518693818306909
         ],
         "yaxis": "y6"
        },
        {
         "line": {
          "color": "rgb(54, 146, 68)",
          "width": 1.5
         },
         "mode": "lines",
         "name": "succinate",
         "showlegend": false,
         "type": "scatter",
         "x": [
          0,
          0.622618972708821
         ],
         "xaxis": "x6",
         "y": [
          0,
          0.1039962206747028
         ],
         "yaxis": "y6"
        },
        {
         "line": {
          "color": "rgb(54, 146, 68)",
          "width": 1.5
         },
         "mode": "lines",
         "name": "growth_rate",
         "showlegend": false,
         "type": "scatter",
         "x": [
          0,
          0.19105771716879816
         ],
         "xaxis": "x6",
         "y": [
          0,
          0.06312151559776266
         ],
         "yaxis": "y6"
        },
        {
         "line": {
          "color": "rgb(54, 146, 68)",
          "width": 1.5
         },
         "mode": "lines",
         "name": "biomass_yield",
         "showlegend": false,
         "type": "scatter",
         "x": [
          0,
          -0.1374100884849874
         ],
         "xaxis": "x6",
         "y": [
          0,
          0.9222955900188895
         ],
         "yaxis": "y6"
        },
        {
         "line": {
          "color": "rgb(54, 146, 68)",
          "width": 1.5
         },
         "mode": "lines",
         "name": "acetate",
         "showlegend": false,
         "type": "scatter",
         "x": [
          0,
          0.432777435218166
         ],
         "xaxis": "x7",
         "y": [
          0,
          0.058262345297890095
         ],
         "yaxis": "y7"
        },
        {
         "line": {
          "color": "rgb(54, 146, 68)",
          "width": 1.5
         },
         "mode": "lines",
         "name": "formate",
         "showlegend": false,
         "type": "scatter",
         "x": [
          0,
          0.47045423355320226
         ],
         "xaxis": "x7",
         "y": [
          0,
          0.05184232484951832
         ],
         "yaxis": "y7"
        },
        {
         "line": {
          "color": "rgb(54, 146, 68)",
          "width": 1.5
         },
         "mode": "lines",
         "name": "lactate",
         "showlegend": false,
         "type": "scatter",
         "x": [
          0,
          -0.429576265642312
         ],
         "xaxis": "x7",
         "y": [
          0,
          0.24561151877740672
         ],
         "yaxis": "y7"
        },
        {
         "line": {
          "color": "rgb(54, 146, 68)",
          "width": 1.5
         },
         "mode": "lines",
         "name": "pyruvate",
         "showlegend": false,
         "type": "scatter",
         "x": [
          0,
          -0.29461196360015474
         ],
         "xaxis": "x7",
         "y": [
          0,
          -0.7003955207125834
         ],
         "yaxis": "y7"
        },
        {
         "line": {
          "color": "rgb(54, 146, 68)",
          "width": 1.5
         },
         "mode": "lines",
         "name": "succinate",
         "showlegend": false,
         "type": "scatter",
         "x": [
          0,
          -0.3546176425130596
         ],
         "xaxis": "x7",
         "y": [
          0,
          0.622618972708821
         ],
         "yaxis": "y7"
        },
        {
         "line": {
          "color": "rgb(54, 146, 68)",
          "width": 1.5
         },
         "mode": "lines",
         "name": "growth_rate",
         "showlegend": false,
         "type": "scatter",
         "x": [
          0,
          0.43182248100007353
         ],
         "xaxis": "x7",
         "y": [
          0,
          0.19105771716879816
         ],
         "yaxis": "y7"
        },
        {
         "line": {
          "color": "rgb(54, 146, 68)",
          "width": 1.5
         },
         "mode": "lines",
         "name": "biomass_yield",
         "showlegend": false,
         "type": "scatter",
         "x": [
          0,
          0.08843190102979669
         ],
         "xaxis": "x7",
         "y": [
          0,
          -0.1374100884849874
         ],
         "yaxis": "y7"
        },
        {
         "line": {
          "color": "rgb(54, 146, 68)",
          "width": 1.5
         },
         "mode": "lines",
         "name": "acetate",
         "showlegend": false,
         "type": "scatter",
         "x": [
          0,
          -0.2805068878265949
         ],
         "xaxis": "x8",
         "y": [
          0,
          0.058262345297890095
         ],
         "yaxis": "y8"
        },
        {
         "line": {
          "color": "rgb(54, 146, 68)",
          "width": 1.5
         },
         "mode": "lines",
         "name": "formate",
         "showlegend": false,
         "type": "scatter",
         "x": [
          0,
          -0.11659451542405246
         ],
         "xaxis": "x8",
         "y": [
          0,
          0.05184232484951832
         ],
         "yaxis": "y8"
        },
        {
         "line": {
          "color": "rgb(54, 146, 68)",
          "width": 1.5
         },
         "mode": "lines",
         "name": "lactate",
         "showlegend": false,
         "type": "scatter",
         "x": [
          0,
          -0.13866723009767745
         ],
         "xaxis": "x8",
         "y": [
          0,
          0.24561151877740672
         ],
         "yaxis": "y8"
        },
        {
         "line": {
          "color": "rgb(54, 146, 68)",
          "width": 1.5
         },
         "mode": "lines",
         "name": "pyruvate",
         "showlegend": false,
         "type": "scatter",
         "x": [
          0,
          -0.1518693818306909
         ],
         "xaxis": "x8",
         "y": [
          0,
          -0.7003955207125834
         ],
         "yaxis": "y8"
        },
        {
         "line": {
          "color": "rgb(54, 146, 68)",
          "width": 1.5
         },
         "mode": "lines",
         "name": "succinate",
         "showlegend": false,
         "type": "scatter",
         "x": [
          0,
          0.1039962206747028
         ],
         "xaxis": "x8",
         "y": [
          0,
          0.622618972708821
         ],
         "yaxis": "y8"
        },
        {
         "line": {
          "color": "rgb(54, 146, 68)",
          "width": 1.5
         },
         "mode": "lines",
         "name": "growth_rate",
         "showlegend": false,
         "type": "scatter",
         "x": [
          0,
          0.06312151559776266
         ],
         "xaxis": "x8",
         "y": [
          0,
          0.19105771716879816
         ],
         "yaxis": "y8"
        },
        {
         "line": {
          "color": "rgb(54, 146, 68)",
          "width": 1.5
         },
         "mode": "lines",
         "name": "biomass_yield",
         "showlegend": false,
         "type": "scatter",
         "x": [
          0,
          0.9222955900188895
         ],
         "xaxis": "x8",
         "y": [
          0,
          -0.1374100884849874
         ],
         "yaxis": "y8"
        }
       ],
       "layout": {
        "height": 800,
        "legend": {
         "font": {
          "color": "black",
          "family": "Myriad Pro",
          "size": 12
         },
         "orientation": "h",
         "x": 0.1,
         "y": -0.15
        },
        "template": {
         "data": {
          "scatter": [
           {
            "type": "scatter"
           }
          ]
         }
        },
        "width": 800,
        "xaxis": {
         "anchor": "y",
         "domain": [
          0,
          0.2833333333333333
         ],
         "linecolor": "black",
         "linewidth": 1,
         "mirror": true,
         "nticks": 8,
         "showgrid": false,
         "showline": true,
         "side": "bottom",
         "tickangle": 0,
         "tickcolor": "black",
         "tickfont": {
          "color": "black",
          "family": "Myriad Pro",
          "size": 16
         },
         "ticklen": 4,
         "ticks": "outside",
         "zeroline": true
        },
        "xaxis2": {
         "anchor": "y2",
         "domain": [
          0.35833333333333334,
          0.6416666666666666
         ],
         "linecolor": "black",
         "linewidth": 1,
         "mirror": true,
         "nticks": 8,
         "showgrid": false,
         "showline": true,
         "side": "bottom",
         "tickangle": 0,
         "tickcolor": "black",
         "tickfont": {
          "color": "black",
          "family": "Myriad Pro",
          "size": 16
         },
         "ticklen": 4,
         "ticks": "outside",
         "zeroline": true
        },
        "xaxis3": {
         "anchor": "y3",
         "domain": [
          0.7166666666666667,
          1
         ],
         "linecolor": "black",
         "linewidth": 1,
         "mirror": true,
         "nticks": 8,
         "showgrid": false,
         "showline": true,
         "side": "bottom",
         "tickangle": 0,
         "tickcolor": "black",
         "tickfont": {
          "color": "black",
          "family": "Myriad Pro",
          "size": 16
         },
         "ticklen": 4,
         "ticks": "outside",
         "zeroline": true
        },
        "xaxis4": {
         "anchor": "y4",
         "domain": [
          0,
          0.2833333333333333
         ],
         "linecolor": "black",
         "linewidth": 1,
         "mirror": true,
         "nticks": 8,
         "showgrid": false,
         "showline": true,
         "side": "bottom",
         "tickangle": 0,
         "tickcolor": "black",
         "tickfont": {
          "color": "black",
          "family": "Myriad Pro",
          "size": 16
         },
         "ticklen": 4,
         "ticks": "outside",
         "zeroline": true
        },
        "xaxis5": {
         "anchor": "y5",
         "domain": [
          0.35833333333333334,
          0.6416666666666666
         ],
         "linecolor": "black",
         "linewidth": 1,
         "mirror": true,
         "nticks": 8,
         "showgrid": false,
         "showline": true,
         "side": "bottom",
         "tickangle": 0,
         "tickcolor": "black",
         "tickfont": {
          "color": "black",
          "family": "Myriad Pro",
          "size": 16
         },
         "ticklen": 4,
         "ticks": "outside",
         "zeroline": true
        },
        "xaxis6": {
         "anchor": "y6",
         "domain": [
          0.7166666666666667,
          1
         ],
         "linecolor": "black",
         "linewidth": 1,
         "mirror": true,
         "nticks": 8,
         "showgrid": false,
         "showline": true,
         "side": "bottom",
         "tickangle": 0,
         "tickcolor": "black",
         "tickfont": {
          "color": "black",
          "family": "Myriad Pro",
          "size": 16
         },
         "ticklen": 4,
         "ticks": "outside",
         "zeroline": true
        },
        "xaxis7": {
         "anchor": "y7",
         "domain": [
          0,
          0.2833333333333333
         ],
         "linecolor": "black",
         "linewidth": 1,
         "mirror": true,
         "nticks": 8,
         "showgrid": false,
         "showline": true,
         "side": "bottom",
         "tickangle": 0,
         "tickcolor": "black",
         "tickfont": {
          "color": "black",
          "family": "Myriad Pro",
          "size": 16
         },
         "ticklen": 4,
         "ticks": "outside",
         "title": {
          "font": {
           "color": "black",
           "family": "Myriad Pro",
           "size": 16
          },
          "standoff": 0.5,
          "text": "Principal Component 1"
         },
         "zeroline": true
        },
        "xaxis8": {
         "anchor": "y8",
         "domain": [
          0.35833333333333334,
          0.6416666666666666
         ],
         "linecolor": "black",
         "linewidth": 1,
         "mirror": true,
         "nticks": 8,
         "showgrid": false,
         "showline": true,
         "side": "bottom",
         "tickangle": 0,
         "tickcolor": "black",
         "tickfont": {
          "color": "black",
          "family": "Myriad Pro",
          "size": 16
         },
         "ticklen": 4,
         "ticks": "outside",
         "title": {
          "font": {
           "color": "black",
           "family": "Myriad Pro",
           "size": 16
          },
          "standoff": 0.5,
          "text": "Principal Component 2"
         },
         "zeroline": true
        },
        "xaxis9": {
         "anchor": "y9",
         "domain": [
          0.7166666666666667,
          1
         ],
         "linecolor": "black",
         "linewidth": 1,
         "mirror": true,
         "nticks": 8,
         "showgrid": false,
         "showline": true,
         "side": "bottom",
         "tickangle": 0,
         "tickcolor": "black",
         "tickfont": {
          "color": "black",
          "family": "Myriad Pro",
          "size": 16
         },
         "ticklen": 4,
         "ticks": "outside",
         "zeroline": true
        },
        "yaxis": {
         "anchor": "x",
         "domain": [
          0.7166666666666667,
          1
         ],
         "linecolor": "black",
         "linewidth": 1,
         "mirror": true,
         "showgrid": false,
         "showline": true,
         "tickangle": 0,
         "tickcolor": "black",
         "tickfont": {
          "color": "black",
          "family": "Myriad Pro",
          "size": 16
         },
         "ticklen": 4,
         "ticks": "outside",
         "zeroline": true
        },
        "yaxis2": {
         "anchor": "x2",
         "domain": [
          0.7166666666666667,
          1
         ],
         "linecolor": "black",
         "linewidth": 1,
         "mirror": true,
         "showgrid": false,
         "showline": true,
         "tickangle": 0,
         "tickcolor": "black",
         "tickfont": {
          "color": "black",
          "family": "Myriad Pro",
          "size": 16
         },
         "ticklen": 4,
         "ticks": "outside",
         "zeroline": true
        },
        "yaxis3": {
         "anchor": "x3",
         "domain": [
          0.7166666666666667,
          1
         ],
         "linecolor": "black",
         "linewidth": 1,
         "mirror": true,
         "showgrid": false,
         "showline": true,
         "tickangle": 0,
         "tickcolor": "black",
         "tickfont": {
          "color": "black",
          "family": "Myriad Pro",
          "size": 16
         },
         "ticklen": 4,
         "ticks": "outside",
         "zeroline": true
        },
        "yaxis4": {
         "anchor": "x4",
         "domain": [
          0.35833333333333334,
          0.6416666666666666
         ],
         "linecolor": "black",
         "linewidth": 1,
         "mirror": true,
         "showgrid": false,
         "showline": true,
         "tickangle": 0,
         "tickcolor": "black",
         "tickfont": {
          "color": "black",
          "family": "Myriad Pro",
          "size": 16
         },
         "ticklen": 4,
         "ticks": "outside",
         "title": {
          "font": {
           "color": "black",
           "family": "Myriad Pro",
           "size": 16
          },
          "standoff": 0,
          "text": "Principal Component 2"
         },
         "zeroline": true
        },
        "yaxis5": {
         "anchor": "x5",
         "domain": [
          0.35833333333333334,
          0.6416666666666666
         ],
         "linecolor": "black",
         "linewidth": 1,
         "mirror": true,
         "showgrid": false,
         "showline": true,
         "tickangle": 0,
         "tickcolor": "black",
         "tickfont": {
          "color": "black",
          "family": "Myriad Pro",
          "size": 16
         },
         "ticklen": 4,
         "ticks": "outside",
         "zeroline": true
        },
        "yaxis6": {
         "anchor": "x6",
         "domain": [
          0.35833333333333334,
          0.6416666666666666
         ],
         "linecolor": "black",
         "linewidth": 1,
         "mirror": true,
         "showgrid": false,
         "showline": true,
         "tickangle": 0,
         "tickcolor": "black",
         "tickfont": {
          "color": "black",
          "family": "Myriad Pro",
          "size": 16
         },
         "ticklen": 4,
         "ticks": "outside",
         "zeroline": true
        },
        "yaxis7": {
         "anchor": "x7",
         "domain": [
          0,
          0.2833333333333333
         ],
         "linecolor": "black",
         "linewidth": 1,
         "mirror": true,
         "showgrid": false,
         "showline": true,
         "tickangle": 0,
         "tickcolor": "black",
         "tickfont": {
          "color": "black",
          "family": "Myriad Pro",
          "size": 16
         },
         "ticklen": 4,
         "ticks": "outside",
         "title": {
          "font": {
           "color": "black",
           "family": "Myriad Pro",
           "size": 16
          },
          "standoff": 0,
          "text": "Principal Component 3"
         },
         "zeroline": true
        },
        "yaxis8": {
         "anchor": "x8",
         "domain": [
          0,
          0.2833333333333333
         ],
         "linecolor": "black",
         "linewidth": 1,
         "mirror": true,
         "showgrid": false,
         "showline": true,
         "tickangle": 0,
         "tickcolor": "black",
         "tickfont": {
          "color": "black",
          "family": "Myriad Pro",
          "size": 16
         },
         "ticklen": 4,
         "ticks": "outside",
         "zeroline": true
        },
        "yaxis9": {
         "anchor": "x9",
         "domain": [
          0,
          0.2833333333333333
         ],
         "linecolor": "black",
         "linewidth": 1,
         "mirror": true,
         "showgrid": false,
         "showline": true,
         "tickangle": 0,
         "tickcolor": "black",
         "tickfont": {
          "color": "black",
          "family": "Myriad Pro",
          "size": 16
         },
         "ticklen": 4,
         "ticks": "outside",
         "zeroline": true
        }
       }
      },
      "text/html": [
       "<div>                            <div id=\"20b0d189-7d03-4946-9e07-f1793bb809d6\" class=\"plotly-graph-div\" style=\"height:800px; width:800px;\"></div>            <script type=\"text/javascript\">                require([\"plotly\"], function(Plotly) {                    window.PLOTLYENV=window.PLOTLYENV || {};                                    if (document.getElementById(\"20b0d189-7d03-4946-9e07-f1793bb809d6\")) {                    Plotly.newPlot(                        \"20b0d189-7d03-4946-9e07-f1793bb809d6\",                        [{\"line\": {\"color\": \"rgb(54, 146, 68)\", \"width\": 1.5}, \"mode\": \"lines\", \"name\": \"acetate\", \"showlegend\": false, \"type\": \"scatter\", \"x\": [0, -0.2805068878265949], \"xaxis\": \"x2\", \"y\": [0, 0.432777435218166], \"yaxis\": \"y2\"}, {\"line\": {\"color\": \"rgb(54, 146, 68)\", \"width\": 1.5}, \"mode\": \"lines\", \"name\": \"formate\", \"showlegend\": false, \"type\": \"scatter\", \"x\": [0, -0.11659451542405246], \"xaxis\": \"x2\", \"y\": [0, 0.47045423355320226], \"yaxis\": \"y2\"}, {\"line\": {\"color\": \"rgb(54, 146, 68)\", \"width\": 1.5}, \"mode\": \"lines\", \"name\": \"lactate\", \"showlegend\": false, \"type\": \"scatter\", \"x\": [0, -0.13866723009767745], \"xaxis\": \"x2\", \"y\": [0, -0.429576265642312], \"yaxis\": \"y2\"}, {\"line\": {\"color\": \"rgb(54, 146, 68)\", \"width\": 1.5}, \"mode\": \"lines\", \"name\": \"pyruvate\", \"showlegend\": false, \"type\": \"scatter\", \"x\": [0, -0.1518693818306909], \"xaxis\": \"x2\", \"y\": [0, -0.29461196360015474], \"yaxis\": \"y2\"}, {\"line\": {\"color\": \"rgb(54, 146, 68)\", \"width\": 1.5}, \"mode\": \"lines\", \"name\": \"succinate\", \"showlegend\": false, \"type\": \"scatter\", \"x\": [0, 0.1039962206747028], \"xaxis\": \"x2\", \"y\": [0, -0.3546176425130596], \"yaxis\": \"y2\"}, {\"line\": {\"color\": \"rgb(54, 146, 68)\", \"width\": 1.5}, \"mode\": \"lines\", \"name\": \"growth_rate\", \"showlegend\": false, \"type\": \"scatter\", \"x\": [0, 0.06312151559776266], \"xaxis\": \"x2\", \"y\": [0, 0.43182248100007353], \"yaxis\": \"y2\"}, {\"line\": {\"color\": \"rgb(54, 146, 68)\", \"width\": 1.5}, \"mode\": \"lines\", \"name\": \"biomass_yield\", \"showlegend\": false, \"type\": \"scatter\", \"x\": [0, 0.9222955900188895], \"xaxis\": \"x2\", \"y\": [0, 0.08843190102979669], \"yaxis\": \"y2\"}, {\"line\": {\"color\": \"rgb(54, 146, 68)\", \"width\": 1.5}, \"mode\": \"lines\", \"name\": \"acetate\", \"showlegend\": false, \"type\": \"scatter\", \"x\": [0, 0.058262345297890095], \"xaxis\": \"x3\", \"y\": [0, 0.432777435218166], \"yaxis\": \"y3\"}, {\"line\": {\"color\": \"rgb(54, 146, 68)\", \"width\": 1.5}, \"mode\": \"lines\", \"name\": \"formate\", \"showlegend\": false, \"type\": \"scatter\", \"x\": [0, 0.05184232484951832], \"xaxis\": \"x3\", \"y\": [0, 0.47045423355320226], \"yaxis\": \"y3\"}, {\"line\": {\"color\": \"rgb(54, 146, 68)\", \"width\": 1.5}, \"mode\": \"lines\", \"name\": \"lactate\", \"showlegend\": false, \"type\": \"scatter\", \"x\": [0, 0.24561151877740672], \"xaxis\": \"x3\", \"y\": [0, -0.429576265642312], \"yaxis\": \"y3\"}, {\"line\": {\"color\": \"rgb(54, 146, 68)\", \"width\": 1.5}, \"mode\": \"lines\", \"name\": \"pyruvate\", \"showlegend\": false, \"type\": \"scatter\", \"x\": [0, -0.7003955207125834], \"xaxis\": \"x3\", \"y\": [0, -0.29461196360015474], \"yaxis\": \"y3\"}, {\"line\": {\"color\": \"rgb(54, 146, 68)\", \"width\": 1.5}, \"mode\": \"lines\", \"name\": \"succinate\", \"showlegend\": false, \"type\": \"scatter\", \"x\": [0, 0.622618972708821], \"xaxis\": \"x3\", \"y\": [0, -0.3546176425130596], \"yaxis\": \"y3\"}, {\"line\": {\"color\": \"rgb(54, 146, 68)\", \"width\": 1.5}, \"mode\": \"lines\", \"name\": \"growth_rate\", \"showlegend\": false, \"type\": \"scatter\", \"x\": [0, 0.19105771716879816], \"xaxis\": \"x3\", \"y\": [0, 0.43182248100007353], \"yaxis\": \"y3\"}, {\"line\": {\"color\": \"rgb(54, 146, 68)\", \"width\": 1.5}, \"mode\": \"lines\", \"name\": \"biomass_yield\", \"showlegend\": false, \"type\": \"scatter\", \"x\": [0, -0.1374100884849874], \"xaxis\": \"x3\", \"y\": [0, 0.08843190102979669], \"yaxis\": \"y3\"}, {\"line\": {\"color\": \"rgb(54, 146, 68)\", \"width\": 1.5}, \"mode\": \"lines\", \"name\": \"acetate\", \"showlegend\": false, \"type\": \"scatter\", \"x\": [0, 0.432777435218166], \"xaxis\": \"x4\", \"y\": [0, -0.2805068878265949], \"yaxis\": \"y4\"}, {\"line\": {\"color\": \"rgb(54, 146, 68)\", \"width\": 1.5}, \"mode\": \"lines\", \"name\": \"formate\", \"showlegend\": false, \"type\": \"scatter\", \"x\": [0, 0.47045423355320226], \"xaxis\": \"x4\", \"y\": [0, -0.11659451542405246], \"yaxis\": \"y4\"}, {\"line\": {\"color\": \"rgb(54, 146, 68)\", \"width\": 1.5}, \"mode\": \"lines\", \"name\": \"lactate\", \"showlegend\": false, \"type\": \"scatter\", \"x\": [0, -0.429576265642312], \"xaxis\": \"x4\", \"y\": [0, -0.13866723009767745], \"yaxis\": \"y4\"}, {\"line\": {\"color\": \"rgb(54, 146, 68)\", \"width\": 1.5}, \"mode\": \"lines\", \"name\": \"pyruvate\", \"showlegend\": false, \"type\": \"scatter\", \"x\": [0, -0.29461196360015474], \"xaxis\": \"x4\", \"y\": [0, -0.1518693818306909], \"yaxis\": \"y4\"}, {\"line\": {\"color\": \"rgb(54, 146, 68)\", \"width\": 1.5}, \"mode\": \"lines\", \"name\": \"succinate\", \"showlegend\": false, \"type\": \"scatter\", \"x\": [0, -0.3546176425130596], \"xaxis\": \"x4\", \"y\": [0, 0.1039962206747028], \"yaxis\": \"y4\"}, {\"line\": {\"color\": \"rgb(54, 146, 68)\", \"width\": 1.5}, \"mode\": \"lines\", \"name\": \"growth_rate\", \"showlegend\": false, \"type\": \"scatter\", \"x\": [0, 0.43182248100007353], \"xaxis\": \"x4\", \"y\": [0, 0.06312151559776266], \"yaxis\": \"y4\"}, {\"line\": {\"color\": \"rgb(54, 146, 68)\", \"width\": 1.5}, \"mode\": \"lines\", \"name\": \"biomass_yield\", \"showlegend\": false, \"type\": \"scatter\", \"x\": [0, 0.08843190102979669], \"xaxis\": \"x4\", \"y\": [0, 0.9222955900188895], \"yaxis\": \"y4\"}, {\"line\": {\"color\": \"rgb(54, 146, 68)\", \"width\": 1.5}, \"mode\": \"lines\", \"name\": \"acetate\", \"showlegend\": false, \"type\": \"scatter\", \"x\": [0, 0.058262345297890095], \"xaxis\": \"x6\", \"y\": [0, -0.2805068878265949], \"yaxis\": \"y6\"}, {\"line\": {\"color\": \"rgb(54, 146, 68)\", \"width\": 1.5}, \"mode\": \"lines\", \"name\": \"formate\", \"showlegend\": false, \"type\": \"scatter\", \"x\": [0, 0.05184232484951832], \"xaxis\": \"x6\", \"y\": [0, -0.11659451542405246], \"yaxis\": \"y6\"}, {\"line\": {\"color\": \"rgb(54, 146, 68)\", \"width\": 1.5}, \"mode\": \"lines\", \"name\": \"lactate\", \"showlegend\": false, \"type\": \"scatter\", \"x\": [0, 0.24561151877740672], \"xaxis\": \"x6\", \"y\": [0, -0.13866723009767745], \"yaxis\": \"y6\"}, {\"line\": {\"color\": \"rgb(54, 146, 68)\", \"width\": 1.5}, \"mode\": \"lines\", \"name\": \"pyruvate\", \"showlegend\": false, \"type\": \"scatter\", \"x\": [0, -0.7003955207125834], \"xaxis\": \"x6\", \"y\": [0, -0.1518693818306909], \"yaxis\": \"y6\"}, {\"line\": {\"color\": \"rgb(54, 146, 68)\", \"width\": 1.5}, \"mode\": \"lines\", \"name\": \"succinate\", \"showlegend\": false, \"type\": \"scatter\", \"x\": [0, 0.622618972708821], \"xaxis\": \"x6\", \"y\": [0, 0.1039962206747028], \"yaxis\": \"y6\"}, {\"line\": {\"color\": \"rgb(54, 146, 68)\", \"width\": 1.5}, \"mode\": \"lines\", \"name\": \"growth_rate\", \"showlegend\": false, \"type\": \"scatter\", \"x\": [0, 0.19105771716879816], \"xaxis\": \"x6\", \"y\": [0, 0.06312151559776266], \"yaxis\": \"y6\"}, {\"line\": {\"color\": \"rgb(54, 146, 68)\", \"width\": 1.5}, \"mode\": \"lines\", \"name\": \"biomass_yield\", \"showlegend\": false, \"type\": \"scatter\", \"x\": [0, -0.1374100884849874], \"xaxis\": \"x6\", \"y\": [0, 0.9222955900188895], \"yaxis\": \"y6\"}, {\"line\": {\"color\": \"rgb(54, 146, 68)\", \"width\": 1.5}, \"mode\": \"lines\", \"name\": \"acetate\", \"showlegend\": false, \"type\": \"scatter\", \"x\": [0, 0.432777435218166], \"xaxis\": \"x7\", \"y\": [0, 0.058262345297890095], \"yaxis\": \"y7\"}, {\"line\": {\"color\": \"rgb(54, 146, 68)\", \"width\": 1.5}, \"mode\": \"lines\", \"name\": \"formate\", \"showlegend\": false, \"type\": \"scatter\", \"x\": [0, 0.47045423355320226], \"xaxis\": \"x7\", \"y\": [0, 0.05184232484951832], \"yaxis\": \"y7\"}, {\"line\": {\"color\": \"rgb(54, 146, 68)\", \"width\": 1.5}, \"mode\": \"lines\", \"name\": \"lactate\", \"showlegend\": false, \"type\": \"scatter\", \"x\": [0, -0.429576265642312], \"xaxis\": \"x7\", \"y\": [0, 0.24561151877740672], \"yaxis\": \"y7\"}, {\"line\": {\"color\": \"rgb(54, 146, 68)\", \"width\": 1.5}, \"mode\": \"lines\", \"name\": \"pyruvate\", \"showlegend\": false, \"type\": \"scatter\", \"x\": [0, -0.29461196360015474], \"xaxis\": \"x7\", \"y\": [0, -0.7003955207125834], \"yaxis\": \"y7\"}, {\"line\": {\"color\": \"rgb(54, 146, 68)\", \"width\": 1.5}, \"mode\": \"lines\", \"name\": \"succinate\", \"showlegend\": false, \"type\": \"scatter\", \"x\": [0, -0.3546176425130596], \"xaxis\": \"x7\", \"y\": [0, 0.622618972708821], \"yaxis\": \"y7\"}, {\"line\": {\"color\": \"rgb(54, 146, 68)\", \"width\": 1.5}, \"mode\": \"lines\", \"name\": \"growth_rate\", \"showlegend\": false, \"type\": \"scatter\", \"x\": [0, 0.43182248100007353], \"xaxis\": \"x7\", \"y\": [0, 0.19105771716879816], \"yaxis\": \"y7\"}, {\"line\": {\"color\": \"rgb(54, 146, 68)\", \"width\": 1.5}, \"mode\": \"lines\", \"name\": \"biomass_yield\", \"showlegend\": false, \"type\": \"scatter\", \"x\": [0, 0.08843190102979669], \"xaxis\": \"x7\", \"y\": [0, -0.1374100884849874], \"yaxis\": \"y7\"}, {\"line\": {\"color\": \"rgb(54, 146, 68)\", \"width\": 1.5}, \"mode\": \"lines\", \"name\": \"acetate\", \"showlegend\": false, \"type\": \"scatter\", \"x\": [0, -0.2805068878265949], \"xaxis\": \"x8\", \"y\": [0, 0.058262345297890095], \"yaxis\": \"y8\"}, {\"line\": {\"color\": \"rgb(54, 146, 68)\", \"width\": 1.5}, \"mode\": \"lines\", \"name\": \"formate\", \"showlegend\": false, \"type\": \"scatter\", \"x\": [0, -0.11659451542405246], \"xaxis\": \"x8\", \"y\": [0, 0.05184232484951832], \"yaxis\": \"y8\"}, {\"line\": {\"color\": \"rgb(54, 146, 68)\", \"width\": 1.5}, \"mode\": \"lines\", \"name\": \"lactate\", \"showlegend\": false, \"type\": \"scatter\", \"x\": [0, -0.13866723009767745], \"xaxis\": \"x8\", \"y\": [0, 0.24561151877740672], \"yaxis\": \"y8\"}, {\"line\": {\"color\": \"rgb(54, 146, 68)\", \"width\": 1.5}, \"mode\": \"lines\", \"name\": \"pyruvate\", \"showlegend\": false, \"type\": \"scatter\", \"x\": [0, -0.1518693818306909], \"xaxis\": \"x8\", \"y\": [0, -0.7003955207125834], \"yaxis\": \"y8\"}, {\"line\": {\"color\": \"rgb(54, 146, 68)\", \"width\": 1.5}, \"mode\": \"lines\", \"name\": \"succinate\", \"showlegend\": false, \"type\": \"scatter\", \"x\": [0, 0.1039962206747028], \"xaxis\": \"x8\", \"y\": [0, 0.622618972708821], \"yaxis\": \"y8\"}, {\"line\": {\"color\": \"rgb(54, 146, 68)\", \"width\": 1.5}, \"mode\": \"lines\", \"name\": \"growth_rate\", \"showlegend\": false, \"type\": \"scatter\", \"x\": [0, 0.06312151559776266], \"xaxis\": \"x8\", \"y\": [0, 0.19105771716879816], \"yaxis\": \"y8\"}, {\"line\": {\"color\": \"rgb(54, 146, 68)\", \"width\": 1.5}, \"mode\": \"lines\", \"name\": \"biomass_yield\", \"showlegend\": false, \"type\": \"scatter\", \"x\": [0, 0.9222955900188895], \"xaxis\": \"x8\", \"y\": [0, -0.1374100884849874], \"yaxis\": \"y8\"}],                        {\"height\": 800, \"legend\": {\"font\": {\"color\": \"black\", \"family\": \"Myriad Pro\", \"size\": 12}, \"orientation\": \"h\", \"x\": 0.1, \"y\": -0.15}, \"template\": {\"data\": {\"scatter\": [{\"type\": \"scatter\"}]}}, \"width\": 800, \"xaxis\": {\"anchor\": \"y\", \"domain\": [0.0, 0.2833333333333333], \"linecolor\": \"black\", \"linewidth\": 1, \"mirror\": true, \"nticks\": 8, \"showgrid\": false, \"showline\": true, \"side\": \"bottom\", \"tickangle\": 0, \"tickcolor\": \"black\", \"tickfont\": {\"color\": \"black\", \"family\": \"Myriad Pro\", \"size\": 16}, \"ticklen\": 4, \"ticks\": \"outside\", \"zeroline\": true}, \"xaxis2\": {\"anchor\": \"y2\", \"domain\": [0.35833333333333334, 0.6416666666666666], \"linecolor\": \"black\", \"linewidth\": 1, \"mirror\": true, \"nticks\": 8, \"showgrid\": false, \"showline\": true, \"side\": \"bottom\", \"tickangle\": 0, \"tickcolor\": \"black\", \"tickfont\": {\"color\": \"black\", \"family\": \"Myriad Pro\", \"size\": 16}, \"ticklen\": 4, \"ticks\": \"outside\", \"zeroline\": true}, \"xaxis3\": {\"anchor\": \"y3\", \"domain\": [0.7166666666666667, 1.0], \"linecolor\": \"black\", \"linewidth\": 1, \"mirror\": true, \"nticks\": 8, \"showgrid\": false, \"showline\": true, \"side\": \"bottom\", \"tickangle\": 0, \"tickcolor\": \"black\", \"tickfont\": {\"color\": \"black\", \"family\": \"Myriad Pro\", \"size\": 16}, \"ticklen\": 4, \"ticks\": \"outside\", \"zeroline\": true}, \"xaxis4\": {\"anchor\": \"y4\", \"domain\": [0.0, 0.2833333333333333], \"linecolor\": \"black\", \"linewidth\": 1, \"mirror\": true, \"nticks\": 8, \"showgrid\": false, \"showline\": true, \"side\": \"bottom\", \"tickangle\": 0, \"tickcolor\": \"black\", \"tickfont\": {\"color\": \"black\", \"family\": \"Myriad Pro\", \"size\": 16}, \"ticklen\": 4, \"ticks\": \"outside\", \"zeroline\": true}, \"xaxis5\": {\"anchor\": \"y5\", \"domain\": [0.35833333333333334, 0.6416666666666666], \"linecolor\": \"black\", \"linewidth\": 1, \"mirror\": true, \"nticks\": 8, \"showgrid\": false, \"showline\": true, \"side\": \"bottom\", \"tickangle\": 0, \"tickcolor\": \"black\", \"tickfont\": {\"color\": \"black\", \"family\": \"Myriad Pro\", \"size\": 16}, \"ticklen\": 4, \"ticks\": \"outside\", \"zeroline\": true}, \"xaxis6\": {\"anchor\": \"y6\", \"domain\": [0.7166666666666667, 1.0], \"linecolor\": \"black\", \"linewidth\": 1, \"mirror\": true, \"nticks\": 8, \"showgrid\": false, \"showline\": true, \"side\": \"bottom\", \"tickangle\": 0, \"tickcolor\": \"black\", \"tickfont\": {\"color\": \"black\", \"family\": \"Myriad Pro\", \"size\": 16}, \"ticklen\": 4, \"ticks\": \"outside\", \"zeroline\": true}, \"xaxis7\": {\"anchor\": \"y7\", \"domain\": [0.0, 0.2833333333333333], \"linecolor\": \"black\", \"linewidth\": 1, \"mirror\": true, \"nticks\": 8, \"showgrid\": false, \"showline\": true, \"side\": \"bottom\", \"tickangle\": 0, \"tickcolor\": \"black\", \"tickfont\": {\"color\": \"black\", \"family\": \"Myriad Pro\", \"size\": 16}, \"ticklen\": 4, \"ticks\": \"outside\", \"title\": {\"font\": {\"color\": \"black\", \"family\": \"Myriad Pro\", \"size\": 16}, \"standoff\": 0.5, \"text\": \"Principal Component 1\"}, \"zeroline\": true}, \"xaxis8\": {\"anchor\": \"y8\", \"domain\": [0.35833333333333334, 0.6416666666666666], \"linecolor\": \"black\", \"linewidth\": 1, \"mirror\": true, \"nticks\": 8, \"showgrid\": false, \"showline\": true, \"side\": \"bottom\", \"tickangle\": 0, \"tickcolor\": \"black\", \"tickfont\": {\"color\": \"black\", \"family\": \"Myriad Pro\", \"size\": 16}, \"ticklen\": 4, \"ticks\": \"outside\", \"title\": {\"font\": {\"color\": \"black\", \"family\": \"Myriad Pro\", \"size\": 16}, \"standoff\": 0.5, \"text\": \"Principal Component 2\"}, \"zeroline\": true}, \"xaxis9\": {\"anchor\": \"y9\", \"domain\": [0.7166666666666667, 1.0], \"linecolor\": \"black\", \"linewidth\": 1, \"mirror\": true, \"nticks\": 8, \"showgrid\": false, \"showline\": true, \"side\": \"bottom\", \"tickangle\": 0, \"tickcolor\": \"black\", \"tickfont\": {\"color\": \"black\", \"family\": \"Myriad Pro\", \"size\": 16}, \"ticklen\": 4, \"ticks\": \"outside\", \"zeroline\": true}, \"yaxis\": {\"anchor\": \"x\", \"domain\": [0.7166666666666667, 1.0], \"linecolor\": \"black\", \"linewidth\": 1, \"mirror\": true, \"showgrid\": false, \"showline\": true, \"tickangle\": 0, \"tickcolor\": \"black\", \"tickfont\": {\"color\": \"black\", \"family\": \"Myriad Pro\", \"size\": 16}, \"ticklen\": 4, \"ticks\": \"outside\", \"zeroline\": true}, \"yaxis2\": {\"anchor\": \"x2\", \"domain\": [0.7166666666666667, 1.0], \"linecolor\": \"black\", \"linewidth\": 1, \"mirror\": true, \"showgrid\": false, \"showline\": true, \"tickangle\": 0, \"tickcolor\": \"black\", \"tickfont\": {\"color\": \"black\", \"family\": \"Myriad Pro\", \"size\": 16}, \"ticklen\": 4, \"ticks\": \"outside\", \"zeroline\": true}, \"yaxis3\": {\"anchor\": \"x3\", \"domain\": [0.7166666666666667, 1.0], \"linecolor\": \"black\", \"linewidth\": 1, \"mirror\": true, \"showgrid\": false, \"showline\": true, \"tickangle\": 0, \"tickcolor\": \"black\", \"tickfont\": {\"color\": \"black\", \"family\": \"Myriad Pro\", \"size\": 16}, \"ticklen\": 4, \"ticks\": \"outside\", \"zeroline\": true}, \"yaxis4\": {\"anchor\": \"x4\", \"domain\": [0.35833333333333334, 0.6416666666666666], \"linecolor\": \"black\", \"linewidth\": 1, \"mirror\": true, \"showgrid\": false, \"showline\": true, \"tickangle\": 0, \"tickcolor\": \"black\", \"tickfont\": {\"color\": \"black\", \"family\": \"Myriad Pro\", \"size\": 16}, \"ticklen\": 4, \"ticks\": \"outside\", \"title\": {\"font\": {\"color\": \"black\", \"family\": \"Myriad Pro\", \"size\": 16}, \"standoff\": 0, \"text\": \"Principal Component 2\"}, \"zeroline\": true}, \"yaxis5\": {\"anchor\": \"x5\", \"domain\": [0.35833333333333334, 0.6416666666666666], \"linecolor\": \"black\", \"linewidth\": 1, \"mirror\": true, \"showgrid\": false, \"showline\": true, \"tickangle\": 0, \"tickcolor\": \"black\", \"tickfont\": {\"color\": \"black\", \"family\": \"Myriad Pro\", \"size\": 16}, \"ticklen\": 4, \"ticks\": \"outside\", \"zeroline\": true}, \"yaxis6\": {\"anchor\": \"x6\", \"domain\": [0.35833333333333334, 0.6416666666666666], \"linecolor\": \"black\", \"linewidth\": 1, \"mirror\": true, \"showgrid\": false, \"showline\": true, \"tickangle\": 0, \"tickcolor\": \"black\", \"tickfont\": {\"color\": \"black\", \"family\": \"Myriad Pro\", \"size\": 16}, \"ticklen\": 4, \"ticks\": \"outside\", \"zeroline\": true}, \"yaxis7\": {\"anchor\": \"x7\", \"domain\": [0.0, 0.2833333333333333], \"linecolor\": \"black\", \"linewidth\": 1, \"mirror\": true, \"showgrid\": false, \"showline\": true, \"tickangle\": 0, \"tickcolor\": \"black\", \"tickfont\": {\"color\": \"black\", \"family\": \"Myriad Pro\", \"size\": 16}, \"ticklen\": 4, \"ticks\": \"outside\", \"title\": {\"font\": {\"color\": \"black\", \"family\": \"Myriad Pro\", \"size\": 16}, \"standoff\": 0, \"text\": \"Principal Component 3\"}, \"zeroline\": true}, \"yaxis8\": {\"anchor\": \"x8\", \"domain\": [0.0, 0.2833333333333333], \"linecolor\": \"black\", \"linewidth\": 1, \"mirror\": true, \"showgrid\": false, \"showline\": true, \"tickangle\": 0, \"tickcolor\": \"black\", \"tickfont\": {\"color\": \"black\", \"family\": \"Myriad Pro\", \"size\": 16}, \"ticklen\": 4, \"ticks\": \"outside\", \"zeroline\": true}, \"yaxis9\": {\"anchor\": \"x9\", \"domain\": [0.0, 0.2833333333333333], \"linecolor\": \"black\", \"linewidth\": 1, \"mirror\": true, \"showgrid\": false, \"showline\": true, \"tickangle\": 0, \"tickcolor\": \"black\", \"tickfont\": {\"color\": \"black\", \"family\": \"Myriad Pro\", \"size\": 16}, \"ticklen\": 4, \"ticks\": \"outside\", \"zeroline\": true}},                        {\"responsive\": true}                    ).then(function(){\n",
       "                            \n",
       "var gd = document.getElementById('20b0d189-7d03-4946-9e07-f1793bb809d6');\n",
       "var x = new MutationObserver(function (mutations, observer) {{\n",
       "        var display = window.getComputedStyle(gd).display;\n",
       "        if (!display || display === 'none') {{\n",
       "            console.log([gd, 'removed!']);\n",
       "            Plotly.purge(gd);\n",
       "            observer.disconnect();\n",
       "        }}\n",
       "}});\n",
       "\n",
       "// Listen for the removal of the full notebook cells\n",
       "var notebookContainer = gd.closest('#notebook-container');\n",
       "if (notebookContainer) {{\n",
       "    x.observe(notebookContainer, {childList: true});\n",
       "}}\n",
       "\n",
       "// Listen for the clearing of the current output cell\n",
       "var outputEl = gd.closest('.output');\n",
       "if (outputEl) {{\n",
       "    x.observe(outputEl, {childList: true});\n",
       "}}\n",
       "\n",
       "                        })                };                });            </script>        </div>"
      ]
     },
     "metadata": {},
     "output_type": "display_data"
    }
   ],
   "source": [
    "fig = make_subplots(rows=3, cols=3, vertical_spacing=0.075, shared_xaxes=False, shared_yaxes=False, horizontal_spacing=0.075)\n",
    "for k in range(3):\n",
    "    for l in range(3):\n",
    "        if k!=l:\n",
    "            for i, analyte in enumerate(features):\n",
    "                fig.add_trace(go.Scatter(x=[0]+[pca.components_[l,i]],\n",
    "                                             y=[0]+[pca.components_[k,i]],\n",
    "                                             mode='lines', showlegend=False,\n",
    "                                             line=dict(width=1.5, color='rgb(54, 146, 68)'),\n",
    "                                             name=analyte), row=k+1, col=l+1)\n",
    "                if k==2:\n",
    "                    fig.update_xaxes(title='Principal Component '+str(l+1), ticks='outside', ticklen=4, tickangle=0, nticks=8, title_standoff=0.5,\n",
    "\n",
    "                                      titlefont=dict(family='Myriad Pro', size=16, color='black'),row=k+1, col=l+1)\n",
    "                if l==0:\n",
    "                    fig.update_yaxes(title='Principal Component '+str(k+1), ticks='outside', ticklen=4, tickangle=0, title_standoff=0,\n",
    "                                      titlefont=dict(family='Myriad Pro', size=16, color='black'),row=k+1, col=l+1)\n",
    "\n",
    "                if k!=2:\n",
    "                    fig.update_xaxes(ticks='')\n",
    "\n",
    "                        \n",
    "                        \n",
    "fig.update_layout(height=800, width=800, legend_x= 0.1, legend_y=-0.15, legend_font=dict(family='Myriad Pro', size=12, color='black'), legend_orientation='h')\n",
    "fig.update_xaxes(showline=True, linewidth=1, linecolor='black', mirror=True, side='bottom',\n",
    "                              ticks='outside', ticklen=4, tickangle=0, nticks=8,\n",
    "                              tickfont=dict(size=16, family='Myriad Pro', color='black'), tickcolor='black',\n",
    "                              showgrid=False,zeroline=True)\n",
    "fig.update_yaxes(showgrid=False, zeroline=True,\n",
    "                            tickfont=dict(family='Myriad Pro',size=16, color='black'), tickcolor='black', \n",
    "\n",
    "                              showline=True, linewidth=1, linecolor='black', mirror=True,\n",
    "                              ticks='outside', ticklen=4, tickangle=0)\n",
    "            \n",
    "plot(fig)\n",
    "#pio.write_image(fig,\"Figures/si_fig_red_pca_loadings.svg\",format='svg')\n"
   ]
  },
  {
   "cell_type": "markdown",
   "id": "differential-brunswick",
   "metadata": {},
   "source": [
    "### Plot analyte data for all strains ###"
   ]
  },
  {
   "cell_type": "code",
   "execution_count": 10,
   "id": "third-cyprus",
   "metadata": {
    "scrolled": false
   },
   "outputs": [
    {
     "name": "stdout",
     "output_type": "stream",
     "text": [
      "WT\n"
     ]
    },
    {
     "name": "stderr",
     "output_type": "stream",
     "text": [
      "C:\\Users\\User\\anaconda3\\envs\\impact\\lib\\site-packages\\ipykernel_launcher.py:75: RuntimeWarning:\n",
      "\n",
      "invalid value encountered in double_scalars\n",
      "\n"
     ]
    },
    {
     "data": {
      "application/vnd.plotly.v1+json": {
       "config": {
        "linkText": "Export to plot.ly",
        "plotlyServerURL": "https://plot.ly",
        "showLink": false
       },
       "data": [
        {
         "marker": {
          "color": "rgb(54, 146, 68)",
          "line": {
           "color": "rgb(54, 146, 68)",
           "width": 0
          }
         },
         "name": "Bioreactor",
         "type": "bar",
         "x": [
          "Acetate",
          "Formate",
          "Lactate",
          "Pyruvate",
          "Succinate"
         ],
         "y": [
          0.8060154879177284,
          1.3925461071228267,
          0.4919119156905717,
          0.041742328954125996,
          0.030297716512120546
         ]
        },
        {
         "marker": {
          "color": "rgb(54, 146, 68)",
          "line": {
           "color": "black",
           "width": 0
          }
         },
         "name": "Bioreactor",
         "showlegend": false,
         "type": "bar",
         "x": [
          "Biomass"
         ],
         "y": [
          0.10306875631951468
         ],
         "yaxis": "y2"
        },
        {
         "error_y": {
          "array": [
           0.024752020379095192,
           0.027648939632702926,
           0.03351005686930139,
           0.00327520270468577,
           0.0020485757348140485
          ],
          "color": "black",
          "thickness": 1.5,
          "type": "data",
          "width": 3
         },
         "marker": {
          "color": "rgb(33, 100, 175)",
          "line": {
           "color": "rgb(54, 146, 68)",
           "width": 0
          }
         },
         "name": "Base Media",
         "type": "bar",
         "width": 0.09,
         "x": [
          "Acetate",
          "Formate",
          "Lactate",
          "Pyruvate",
          "Succinate"
         ],
         "y": [
          0.7318828556268225,
          0.7450495741799906,
          0.9010885167379157,
          0.06990789295008934,
          0.04043833064591806
         ]
        },
        {
         "error_y": {
          "array": [
           0.0007594103210593468
          ],
          "color": "black",
          "thickness": 1.5,
          "type": "data",
          "width": 3
         },
         "marker": {
          "color": "rgb(33, 100, 175)",
          "line": {
           "color": "black",
           "width": 0
          }
         },
         "name": "Base Media",
         "showlegend": false,
         "type": "bar",
         "width": 0.09,
         "x": [
          "Biomass"
         ],
         "y": [
          0.031326503477524255
         ],
         "yaxis": "y2"
        },
        {
         "error_y": {
          "array": [
           0.02344213081931534,
           0.007268473323232961,
           0.01764389060403206,
           0.001794658329070151,
           0.0015506272432283463
          ],
          "color": "black",
          "thickness": 1.5,
          "type": "data",
          "width": 3
         },
         "marker": {
          "color": "rgb(217, 72, 42)",
          "line": {
           "color": "rgb(54, 146, 68)",
           "width": 0
          }
         },
         "name": "Cysteine",
         "type": "bar",
         "width": 0.09,
         "x": [
          "Acetate",
          "Formate",
          "Lactate",
          "Pyruvate",
          "Succinate"
         ],
         "y": [
          0.7315511872079731,
          0.6794110830836129,
          0.9055091405911073,
          0.046682645382267775,
          0.03107427726076773
         ]
        },
        {
         "error_y": {
          "array": [
           0.0004592832876290694
          ],
          "color": "black",
          "thickness": 1.5,
          "type": "data",
          "width": 3
         },
         "marker": {
          "color": "rgb(217, 72, 42)",
          "line": {
           "color": "black",
           "width": 0
          }
         },
         "name": "Cysteine",
         "showlegend": false,
         "type": "bar",
         "width": 0.09,
         "x": [
          "Biomass"
         ],
         "y": [
          0.03041540071700265
         ],
         "yaxis": "y2"
        },
        {
         "error_y": {
          "array": [
           0.048457302463463865,
           0.03275919919108671,
           0.03709385614863845,
           0.005626008923006939,
           0.004592855019945913
          ],
          "color": "black",
          "thickness": 1.5,
          "type": "data",
          "width": 3
         },
         "marker": {
          "color": "rgb(146, 54, 132)",
          "line": {
           "color": "rgb(54, 146, 68)",
           "width": 0
          }
         },
         "name": "DTT",
         "type": "bar",
         "width": 0.09,
         "x": [
          "Acetate",
          "Formate",
          "Lactate",
          "Pyruvate",
          "Succinate"
         ],
         "y": [
          0.7118741499908554,
          0.6769023968440079,
          0.787337912324699,
          0.09284340079958464,
          0.04820382830432784
         ]
        },
        {
         "error_y": {
          "array": [
           0.0009551807908339042
          ],
          "color": "black",
          "thickness": 1.5,
          "type": "data",
          "width": 3
         },
         "marker": {
          "color": "rgb(146, 54, 132)",
          "line": {
           "color": "black",
           "width": 0
          }
         },
         "name": "DTT",
         "showlegend": false,
         "type": "bar",
         "width": 0.09,
         "x": [
          "Biomass"
         ],
         "y": [
          0.025070410106699807
         ],
         "yaxis": "y2"
        },
        {
         "error_y": {
          "array": [
           0.006091547916643845,
           0.0032276613620915305,
           0.019110687618722224,
           0.0010339939485219986,
           0.0019081281518960706
          ],
          "color": "black",
          "thickness": 1.5,
          "type": "data",
          "width": 3
         },
         "marker": {
          "color": "rgb(175, 127, 91)",
          "line": {
           "color": "rgb(54, 146, 68)",
           "width": 0
          }
         },
         "name": "Sulfide",
         "type": "bar",
         "width": 0.09,
         "x": [
          "Acetate",
          "Formate",
          "Lactate",
          "Pyruvate",
          "Succinate"
         ],
         "y": [
          0.8741042901368532,
          0.7088568025917672,
          0.7513962874552352,
          0.015021471449613123,
          0.041557915848624304
         ]
        },
        {
         "error_y": {
          "array": [
           0.0002626618585484219
          ],
          "color": "black",
          "thickness": 1.5,
          "type": "data",
          "width": 3
         },
         "marker": {
          "color": "rgb(175, 127, 91)",
          "line": {
           "color": "black",
           "width": 0
          }
         },
         "name": "Sulfide",
         "showlegend": false,
         "type": "bar",
         "width": 0.09,
         "x": [
          "Biomass"
         ],
         "y": [
          0.03288708519463943
         ],
         "yaxis": "y2"
        },
        {
         "error_y": {
          "array": [
           0.021726481477385807,
           0.014813752607947777,
           0.015627830723502524,
           null,
           0.00262962005108264
          ],
          "color": "black",
          "thickness": 1.5,
          "type": "data",
          "width": 3
         },
         "marker": {
          "color": "rgb(166.0, 193, 223)",
          "line": {
           "color": "rgb(54, 146, 68)",
           "width": 0
          }
         },
         "name": "pH 8",
         "type": "bar",
         "width": 0.09,
         "x": [
          "Acetate",
          "Formate",
          "Lactate",
          "Pyruvate",
          "Succinate"
         ],
         "y": [
          1.0275286443484137,
          0.9042483191108109,
          0.5774055952024608,
          0,
          0.08482419999844318
         ]
        },
        {
         "error_y": {
          "array": [
           0.00045326155945102494
          ],
          "color": "black",
          "thickness": 1.5,
          "type": "data",
          "width": 3
         },
         "marker": {
          "color": "rgb(166.0, 193, 223)",
          "line": {
           "color": "black",
           "width": 0
          }
         },
         "name": "pH 8",
         "showlegend": false,
         "type": "bar",
         "width": 0.09,
         "x": [
          "Biomass"
         ],
         "y": [
          0.03474234205488193
         ],
         "yaxis": "y2"
        }
       ],
       "layout": {
        "bargap": 0.4,
        "bargroupgap": 0.1,
        "height": 400,
        "legend": {
         "font": {
          "color": "black",
          "family": "Myriad Pro",
          "size": 14
         },
         "orientation": "h",
         "x": 0.1,
         "y": -0.2
        },
        "template": {
         "data": {
          "scatter": [
           {
            "type": "scatter"
           }
          ]
         }
        },
        "width": 925,
        "xaxis": {
         "linecolor": "black",
         "linewidth": 1,
         "mirror": true,
         "nticks": 8,
         "showgrid": false,
         "showline": true,
         "side": "bottom",
         "tickangle": 0,
         "tickcolor": "black",
         "tickfont": {
          "color": "black",
          "family": "Myriad Pro",
          "size": 16
         },
         "ticklen": 4,
         "ticks": "outside",
         "title": {
          "font": {
           "color": "black",
           "family": "Myriad Pro",
           "size": 18
          },
          "standoff": 5,
          "text": "Product"
         },
         "zeroline": false
        },
        "yaxis": {
         "linecolor": "black",
         "linewidth": 1,
         "mirror": true,
         "range": [
          0,
          1.8
         ],
         "showgrid": true,
         "showline": true,
         "side": "left",
         "tickangle": 0,
         "tickcolor": "black",
         "tickfont": {
          "color": "black",
          "family": "Myriad Pro",
          "size": 16
         },
         "ticklen": 4,
         "ticks": "outside",
         "title": {
          "font": {
           "color": "black",
           "family": "Myriad Pro",
           "size": 18
          },
          "text": "Product Yield<br>(mmol Product/mmol Glucose)"
         },
         "zeroline": false
        },
        "yaxis2": {
         "anchor": "x",
         "linecolor": "black",
         "linewidth": 1,
         "mirror": true,
         "overlaying": "y",
         "range": [
          0,
          0.18
         ],
         "showgrid": true,
         "showline": true,
         "side": "right",
         "tickangle": 0,
         "tickcolor": "black",
         "tickfont": {
          "color": "black",
          "family": "Myriad Pro",
          "size": 16
         },
         "ticklen": 4,
         "ticks": "outside",
         "title": {
          "font": {
           "color": "black",
           "family": "Myriad Pro",
           "size": 18
          },
          "text": "Biomass Yield<br>(g Biomass/g Glucose)"
         },
         "zeroline": false
        }
       }
      },
      "text/html": [
       "<div>                            <div id=\"3908ee5a-66f3-437a-92e9-a41a78249bcd\" class=\"plotly-graph-div\" style=\"height:400px; width:925px;\"></div>            <script type=\"text/javascript\">                require([\"plotly\"], function(Plotly) {                    window.PLOTLYENV=window.PLOTLYENV || {};                                    if (document.getElementById(\"3908ee5a-66f3-437a-92e9-a41a78249bcd\")) {                    Plotly.newPlot(                        \"3908ee5a-66f3-437a-92e9-a41a78249bcd\",                        [{\"marker\": {\"color\": \"rgb(54, 146, 68)\", \"line\": {\"color\": \"rgb(54, 146, 68)\", \"width\": 0}}, \"name\": \"Bioreactor\", \"type\": \"bar\", \"x\": [\"Acetate\", \"Formate\", \"Lactate\", \"Pyruvate\", \"Succinate\"], \"y\": [0.8060154879177284, 1.3925461071228267, 0.4919119156905717, 0.041742328954125996, 0.030297716512120546]}, {\"marker\": {\"color\": \"rgb(54, 146, 68)\", \"line\": {\"color\": \"black\", \"width\": 0}}, \"name\": \"Bioreactor\", \"showlegend\": false, \"type\": \"bar\", \"x\": [\"Biomass\"], \"y\": [0.10306875631951468], \"yaxis\": \"y2\"}, {\"error_y\": {\"array\": [0.024752020379095192, 0.027648939632702926, 0.03351005686930139, 0.00327520270468577, 0.0020485757348140485], \"color\": \"black\", \"thickness\": 1.5, \"type\": \"data\", \"width\": 3}, \"marker\": {\"color\": \"rgb(33, 100, 175)\", \"line\": {\"color\": \"rgb(54, 146, 68)\", \"width\": 0}}, \"name\": \"Base Media\", \"type\": \"bar\", \"width\": 0.09, \"x\": [\"Acetate\", \"Formate\", \"Lactate\", \"Pyruvate\", \"Succinate\"], \"y\": [0.7318828556268225, 0.7450495741799906, 0.9010885167379157, 0.06990789295008934, 0.04043833064591806]}, {\"error_y\": {\"array\": [0.0007594103210593468], \"color\": \"black\", \"thickness\": 1.5, \"type\": \"data\", \"width\": 3}, \"marker\": {\"color\": \"rgb(33, 100, 175)\", \"line\": {\"color\": \"black\", \"width\": 0}}, \"name\": \"Base Media\", \"showlegend\": false, \"type\": \"bar\", \"width\": 0.09, \"x\": [\"Biomass\"], \"y\": [0.031326503477524255], \"yaxis\": \"y2\"}, {\"error_y\": {\"array\": [0.02344213081931534, 0.007268473323232961, 0.01764389060403206, 0.001794658329070151, 0.0015506272432283463], \"color\": \"black\", \"thickness\": 1.5, \"type\": \"data\", \"width\": 3}, \"marker\": {\"color\": \"rgb(217, 72, 42)\", \"line\": {\"color\": \"rgb(54, 146, 68)\", \"width\": 0}}, \"name\": \"Cysteine\", \"type\": \"bar\", \"width\": 0.09, \"x\": [\"Acetate\", \"Formate\", \"Lactate\", \"Pyruvate\", \"Succinate\"], \"y\": [0.7315511872079731, 0.6794110830836129, 0.9055091405911073, 0.046682645382267775, 0.03107427726076773]}, {\"error_y\": {\"array\": [0.0004592832876290694], \"color\": \"black\", \"thickness\": 1.5, \"type\": \"data\", \"width\": 3}, \"marker\": {\"color\": \"rgb(217, 72, 42)\", \"line\": {\"color\": \"black\", \"width\": 0}}, \"name\": \"Cysteine\", \"showlegend\": false, \"type\": \"bar\", \"width\": 0.09, \"x\": [\"Biomass\"], \"y\": [0.03041540071700265], \"yaxis\": \"y2\"}, {\"error_y\": {\"array\": [0.048457302463463865, 0.03275919919108671, 0.03709385614863845, 0.005626008923006939, 0.004592855019945913], \"color\": \"black\", \"thickness\": 1.5, \"type\": \"data\", \"width\": 3}, \"marker\": {\"color\": \"rgb(146, 54, 132)\", \"line\": {\"color\": \"rgb(54, 146, 68)\", \"width\": 0}}, \"name\": \"DTT\", \"type\": \"bar\", \"width\": 0.09, \"x\": [\"Acetate\", \"Formate\", \"Lactate\", \"Pyruvate\", \"Succinate\"], \"y\": [0.7118741499908554, 0.6769023968440079, 0.787337912324699, 0.09284340079958464, 0.04820382830432784]}, {\"error_y\": {\"array\": [0.0009551807908339042], \"color\": \"black\", \"thickness\": 1.5, \"type\": \"data\", \"width\": 3}, \"marker\": {\"color\": \"rgb(146, 54, 132)\", \"line\": {\"color\": \"black\", \"width\": 0}}, \"name\": \"DTT\", \"showlegend\": false, \"type\": \"bar\", \"width\": 0.09, \"x\": [\"Biomass\"], \"y\": [0.025070410106699807], \"yaxis\": \"y2\"}, {\"error_y\": {\"array\": [0.006091547916643845, 0.0032276613620915305, 0.019110687618722224, 0.0010339939485219986, 0.0019081281518960706], \"color\": \"black\", \"thickness\": 1.5, \"type\": \"data\", \"width\": 3}, \"marker\": {\"color\": \"rgb(175, 127, 91)\", \"line\": {\"color\": \"rgb(54, 146, 68)\", \"width\": 0}}, \"name\": \"Sulfide\", \"type\": \"bar\", \"width\": 0.09, \"x\": [\"Acetate\", \"Formate\", \"Lactate\", \"Pyruvate\", \"Succinate\"], \"y\": [0.8741042901368532, 0.7088568025917672, 0.7513962874552352, 0.015021471449613123, 0.041557915848624304]}, {\"error_y\": {\"array\": [0.0002626618585484219], \"color\": \"black\", \"thickness\": 1.5, \"type\": \"data\", \"width\": 3}, \"marker\": {\"color\": \"rgb(175, 127, 91)\", \"line\": {\"color\": \"black\", \"width\": 0}}, \"name\": \"Sulfide\", \"showlegend\": false, \"type\": \"bar\", \"width\": 0.09, \"x\": [\"Biomass\"], \"y\": [0.03288708519463943], \"yaxis\": \"y2\"}, {\"error_y\": {\"array\": [0.021726481477385807, 0.014813752607947777, 0.015627830723502524, null, 0.00262962005108264], \"color\": \"black\", \"thickness\": 1.5, \"type\": \"data\", \"width\": 3}, \"marker\": {\"color\": \"rgb(166.0, 193, 223)\", \"line\": {\"color\": \"rgb(54, 146, 68)\", \"width\": 0}}, \"name\": \"pH 8\", \"type\": \"bar\", \"width\": 0.09, \"x\": [\"Acetate\", \"Formate\", \"Lactate\", \"Pyruvate\", \"Succinate\"], \"y\": [1.0275286443484137, 0.9042483191108109, 0.5774055952024608, 0.0, 0.08482419999844318]}, {\"error_y\": {\"array\": [0.00045326155945102494], \"color\": \"black\", \"thickness\": 1.5, \"type\": \"data\", \"width\": 3}, \"marker\": {\"color\": \"rgb(166.0, 193, 223)\", \"line\": {\"color\": \"black\", \"width\": 0}}, \"name\": \"pH 8\", \"showlegend\": false, \"type\": \"bar\", \"width\": 0.09, \"x\": [\"Biomass\"], \"y\": [0.03474234205488193], \"yaxis\": \"y2\"}],                        {\"bargap\": 0.4, \"bargroupgap\": 0.1, \"height\": 400, \"legend\": {\"font\": {\"color\": \"black\", \"family\": \"Myriad Pro\", \"size\": 14}, \"orientation\": \"h\", \"x\": 0.1, \"y\": -0.2}, \"template\": {\"data\": {\"scatter\": [{\"type\": \"scatter\"}]}}, \"width\": 925, \"xaxis\": {\"linecolor\": \"black\", \"linewidth\": 1, \"mirror\": true, \"nticks\": 8, \"showgrid\": false, \"showline\": true, \"side\": \"bottom\", \"tickangle\": 0, \"tickcolor\": \"black\", \"tickfont\": {\"color\": \"black\", \"family\": \"Myriad Pro\", \"size\": 16}, \"ticklen\": 4, \"ticks\": \"outside\", \"title\": {\"font\": {\"color\": \"black\", \"family\": \"Myriad Pro\", \"size\": 18}, \"standoff\": 5, \"text\": \"Product\"}, \"zeroline\": false}, \"yaxis\": {\"linecolor\": \"black\", \"linewidth\": 1, \"mirror\": true, \"range\": [0, 1.8], \"showgrid\": true, \"showline\": true, \"side\": \"left\", \"tickangle\": 0, \"tickcolor\": \"black\", \"tickfont\": {\"color\": \"black\", \"family\": \"Myriad Pro\", \"size\": 16}, \"ticklen\": 4, \"ticks\": \"outside\", \"title\": {\"font\": {\"color\": \"black\", \"family\": \"Myriad Pro\", \"size\": 18}, \"text\": \"Product Yield<br>(mmol Product/mmol Glucose)\"}, \"zeroline\": false}, \"yaxis2\": {\"anchor\": \"x\", \"linecolor\": \"black\", \"linewidth\": 1, \"mirror\": true, \"overlaying\": \"y\", \"range\": [0, 0.18], \"showgrid\": true, \"showline\": true, \"side\": \"right\", \"tickangle\": 0, \"tickcolor\": \"black\", \"tickfont\": {\"color\": \"black\", \"family\": \"Myriad Pro\", \"size\": 16}, \"ticklen\": 4, \"ticks\": \"outside\", \"title\": {\"font\": {\"color\": \"black\", \"family\": \"Myriad Pro\", \"size\": 18}, \"text\": \"Biomass Yield<br>(g Biomass/g Glucose)\"}, \"zeroline\": false}},                        {\"responsive\": true}                    ).then(function(){\n",
       "                            \n",
       "var gd = document.getElementById('3908ee5a-66f3-437a-92e9-a41a78249bcd');\n",
       "var x = new MutationObserver(function (mutations, observer) {{\n",
       "        var display = window.getComputedStyle(gd).display;\n",
       "        if (!display || display === 'none') {{\n",
       "            console.log([gd, 'removed!']);\n",
       "            Plotly.purge(gd);\n",
       "            observer.disconnect();\n",
       "        }}\n",
       "}});\n",
       "\n",
       "// Listen for the removal of the full notebook cells\n",
       "var notebookContainer = gd.closest('#notebook-container');\n",
       "if (notebookContainer) {{\n",
       "    x.observe(notebookContainer, {childList: true});\n",
       "}}\n",
       "\n",
       "// Listen for the clearing of the current output cell\n",
       "var outputEl = gd.closest('.output');\n",
       "if (outputEl) {{\n",
       "    x.observe(outputEl, {childList: true});\n",
       "}}\n",
       "\n",
       "                        })                };                });            </script>        </div>"
      ]
     },
     "metadata": {},
     "output_type": "display_data"
    },
    {
     "name": "stdout",
     "output_type": "stream",
     "text": [
      "Δ(adh,pta)-D1\n"
     ]
    },
    {
     "data": {
      "application/vnd.plotly.v1+json": {
       "config": {
        "linkText": "Export to plot.ly",
        "plotlyServerURL": "https://plot.ly",
        "showLink": false
       },
       "data": [
        {
         "marker": {
          "color": "rgb(54, 146, 68)",
          "line": {
           "color": "rgb(54, 146, 68)",
           "width": 0
          }
         },
         "name": "Bioreactor",
         "type": "bar",
         "x": [
          "Acetate",
          "Formate",
          "Lactate",
          "Pyruvate",
          "Succinate"
         ],
         "y": [
          0.023084363146880827,
          0.05622689478272353,
          1.4697791812637304,
          0.09466701597908432,
          0.06834418713319285
         ]
        },
        {
         "marker": {
          "color": "rgb(54, 146, 68)",
          "line": {
           "color": "black",
           "width": 0
          }
         },
         "name": "Bioreactor",
         "showlegend": false,
         "type": "bar",
         "x": [
          "Biomass"
         ],
         "y": [
          0.022382474998299203
         ],
         "yaxis": "y2"
        },
        {
         "error_y": {
          "array": [
           0.006747685660285793,
           0.0023949528480876328,
           0.036740642416345046,
           0.0035316864265399527,
           0.0029374946962250894
          ],
          "color": "black",
          "thickness": 1.5,
          "type": "data",
          "width": 3
         },
         "marker": {
          "color": "rgb(33, 100, 175)",
          "line": {
           "color": "rgb(54, 146, 68)",
           "width": 0
          }
         },
         "name": "Base Media",
         "type": "bar",
         "width": 0.09,
         "x": [
          "Acetate",
          "Formate",
          "Lactate",
          "Pyruvate",
          "Succinate"
         ],
         "y": [
          0.275221376677322,
          0.022412967986625783,
          1.5923505042961679,
          0.12514721421747882,
          0.09329133485976347
         ]
        },
        {
         "error_y": {
          "array": [
           0.0008207426256023313
          ],
          "color": "black",
          "thickness": 1.5,
          "type": "data",
          "width": 3
         },
         "marker": {
          "color": "rgb(33, 100, 175)",
          "line": {
           "color": "black",
           "width": 0
          }
         },
         "name": "Base Media",
         "showlegend": false,
         "type": "bar",
         "width": 0.09,
         "x": [
          "Biomass"
         ],
         "y": [
          0.03161699367071356
         ],
         "yaxis": "y2"
        },
        {
         "error_y": {
          "array": [
           0.005313476845669118,
           0.0024469080773927188,
           0.018648506491726478,
           0.002688797770429953,
           0.0024197526378583554
          ],
          "color": "black",
          "thickness": 1.5,
          "type": "data",
          "width": 3
         },
         "marker": {
          "color": "rgb(217, 72, 42)",
          "line": {
           "color": "rgb(54, 146, 68)",
           "width": 0
          }
         },
         "name": "Cysteine",
         "type": "bar",
         "width": 0.09,
         "x": [
          "Acetate",
          "Formate",
          "Lactate",
          "Pyruvate",
          "Succinate"
         ],
         "y": [
          0.24674949981871264,
          0.014594525105797939,
          1.5214714500637478,
          0.1313040315356757,
          0.09533189077724803
         ]
        },
        {
         "error_y": {
          "array": [
           0.0003367932232857885
          ],
          "color": "black",
          "thickness": 1.5,
          "type": "data",
          "width": 3
         },
         "marker": {
          "color": "rgb(217, 72, 42)",
          "line": {
           "color": "black",
           "width": 0
          }
         },
         "name": "Cysteine",
         "showlegend": false,
         "type": "bar",
         "width": 0.09,
         "x": [
          "Biomass"
         ],
         "y": [
          0.029779041340904294
         ],
         "yaxis": "y2"
        },
        {
         "error_y": {
          "array": [
           0.036261523252300795,
           0.010678820375525328,
           0.06086841336395123,
           0.00411164031793612,
           0.00494031160626303
          ],
          "color": "black",
          "thickness": 1.5,
          "type": "data",
          "width": 3
         },
         "marker": {
          "color": "rgb(146, 54, 132)",
          "line": {
           "color": "rgb(54, 146, 68)",
           "width": 0
          }
         },
         "name": "DTT",
         "type": "bar",
         "width": 0.09,
         "x": [
          "Acetate",
          "Formate",
          "Lactate",
          "Pyruvate",
          "Succinate"
         ],
         "y": [
          0.27700718863122903,
          0.11770560779623518,
          1.427144132048489,
          0.10281534325355415,
          0.09269010498503456
         ]
        },
        {
         "error_y": {
          "array": [
           0.000987988053190126
          ],
          "color": "black",
          "thickness": 1.5,
          "type": "data",
          "width": 3
         },
         "marker": {
          "color": "rgb(146, 54, 132)",
          "line": {
           "color": "black",
           "width": 0
          }
         },
         "name": "DTT",
         "showlegend": false,
         "type": "bar",
         "width": 0.09,
         "x": [
          "Biomass"
         ],
         "y": [
          0.028704798372621763
         ],
         "yaxis": "y2"
        },
        {
         "error_y": {
          "array": [
           0.003488584418897361,
           null,
           0.013909383283647308,
           0.0027081062687398885,
           0.0006889470450465567
          ],
          "color": "black",
          "thickness": 1.5,
          "type": "data",
          "width": 3
         },
         "marker": {
          "color": "rgb(175, 127, 91)",
          "line": {
           "color": "rgb(54, 146, 68)",
           "width": 0
          }
         },
         "name": "Sulfide",
         "type": "bar",
         "width": 0.09,
         "x": [
          "Acetate",
          "Formate",
          "Lactate",
          "Pyruvate",
          "Succinate"
         ],
         "y": [
          0.20032857966766204,
          0,
          1.4544415112384457,
          0.20167288335942132,
          0.09896981965181266
         ]
        },
        {
         "error_y": {
          "array": [
           9.335613969013708e-05
          ],
          "color": "black",
          "thickness": 1.5,
          "type": "data",
          "width": 3
         },
         "marker": {
          "color": "rgb(175, 127, 91)",
          "line": {
           "color": "black",
           "width": 0
          }
         },
         "name": "Sulfide",
         "showlegend": false,
         "type": "bar",
         "width": 0.09,
         "x": [
          "Biomass"
         ],
         "y": [
          0.032464103382259094
         ],
         "yaxis": "y2"
        },
        {
         "error_y": {
          "array": [
           0.012807885850615267,
           0.006128765044419871,
           0.02758032737169717,
           0.009247958838539563,
           0.0015932058818240934
          ],
          "color": "black",
          "thickness": 1.5,
          "type": "data",
          "width": 3
         },
         "marker": {
          "color": "rgb(166.0, 193, 223)",
          "line": {
           "color": "rgb(54, 146, 68)",
           "width": 0
          }
         },
         "name": "pH 8",
         "type": "bar",
         "width": 0.09,
         "x": [
          "Acetate",
          "Formate",
          "Lactate",
          "Pyruvate",
          "Succinate"
         ],
         "y": [
          0.20839201794219764,
          0.030343403491005318,
          1.4255416540286292,
          0.19598343226824916,
          0.1379734360356074
         ]
        },
        {
         "error_y": {
          "array": [
           0.0007620505604631799
          ],
          "color": "black",
          "thickness": 1.5,
          "type": "data",
          "width": 3
         },
         "marker": {
          "color": "rgb(166.0, 193, 223)",
          "line": {
           "color": "black",
           "width": 0
          }
         },
         "name": "pH 8",
         "showlegend": false,
         "type": "bar",
         "width": 0.09,
         "x": [
          "Biomass"
         ],
         "y": [
          0.03441448627951499
         ],
         "yaxis": "y2"
        }
       ],
       "layout": {
        "bargap": 0.4,
        "bargroupgap": 0.1,
        "height": 400,
        "legend": {
         "font": {
          "color": "black",
          "family": "Myriad Pro",
          "size": 14
         },
         "orientation": "h",
         "x": 0.1,
         "y": -0.2
        },
        "template": {
         "data": {
          "scatter": [
           {
            "type": "scatter"
           }
          ]
         }
        },
        "width": 925,
        "xaxis": {
         "linecolor": "black",
         "linewidth": 1,
         "mirror": true,
         "nticks": 8,
         "showgrid": false,
         "showline": true,
         "side": "bottom",
         "tickangle": 0,
         "tickcolor": "black",
         "tickfont": {
          "color": "black",
          "family": "Myriad Pro",
          "size": 16
         },
         "ticklen": 4,
         "ticks": "outside",
         "title": {
          "font": {
           "color": "black",
           "family": "Myriad Pro",
           "size": 18
          },
          "standoff": 5,
          "text": "Product"
         },
         "zeroline": false
        },
        "yaxis": {
         "linecolor": "black",
         "linewidth": 1,
         "mirror": true,
         "range": [
          0,
          1.8
         ],
         "showgrid": true,
         "showline": true,
         "side": "left",
         "tickangle": 0,
         "tickcolor": "black",
         "tickfont": {
          "color": "black",
          "family": "Myriad Pro",
          "size": 16
         },
         "ticklen": 4,
         "ticks": "outside",
         "title": {
          "font": {
           "color": "black",
           "family": "Myriad Pro",
           "size": 18
          },
          "text": "Product Yield<br>(mmol Product/mmol Glucose)"
         },
         "zeroline": false
        },
        "yaxis2": {
         "anchor": "x",
         "linecolor": "black",
         "linewidth": 1,
         "mirror": true,
         "overlaying": "y",
         "range": [
          0,
          0.18
         ],
         "showgrid": true,
         "showline": true,
         "side": "right",
         "tickangle": 0,
         "tickcolor": "black",
         "tickfont": {
          "color": "black",
          "family": "Myriad Pro",
          "size": 16
         },
         "ticklen": 4,
         "ticks": "outside",
         "title": {
          "font": {
           "color": "black",
           "family": "Myriad Pro",
           "size": 18
          },
          "text": "Biomass Yield<br>(g Biomass/g Glucose)"
         },
         "zeroline": false
        }
       }
      },
      "text/html": [
       "<div>                            <div id=\"d963cb0b-5982-49c5-9ad1-71b83a8b452a\" class=\"plotly-graph-div\" style=\"height:400px; width:925px;\"></div>            <script type=\"text/javascript\">                require([\"plotly\"], function(Plotly) {                    window.PLOTLYENV=window.PLOTLYENV || {};                                    if (document.getElementById(\"d963cb0b-5982-49c5-9ad1-71b83a8b452a\")) {                    Plotly.newPlot(                        \"d963cb0b-5982-49c5-9ad1-71b83a8b452a\",                        [{\"marker\": {\"color\": \"rgb(54, 146, 68)\", \"line\": {\"color\": \"rgb(54, 146, 68)\", \"width\": 0}}, \"name\": \"Bioreactor\", \"type\": \"bar\", \"x\": [\"Acetate\", \"Formate\", \"Lactate\", \"Pyruvate\", \"Succinate\"], \"y\": [0.023084363146880827, 0.05622689478272353, 1.4697791812637304, 0.09466701597908432, 0.06834418713319285]}, {\"marker\": {\"color\": \"rgb(54, 146, 68)\", \"line\": {\"color\": \"black\", \"width\": 0}}, \"name\": \"Bioreactor\", \"showlegend\": false, \"type\": \"bar\", \"x\": [\"Biomass\"], \"y\": [0.022382474998299203], \"yaxis\": \"y2\"}, {\"error_y\": {\"array\": [0.006747685660285793, 0.0023949528480876328, 0.036740642416345046, 0.0035316864265399527, 0.0029374946962250894], \"color\": \"black\", \"thickness\": 1.5, \"type\": \"data\", \"width\": 3}, \"marker\": {\"color\": \"rgb(33, 100, 175)\", \"line\": {\"color\": \"rgb(54, 146, 68)\", \"width\": 0}}, \"name\": \"Base Media\", \"type\": \"bar\", \"width\": 0.09, \"x\": [\"Acetate\", \"Formate\", \"Lactate\", \"Pyruvate\", \"Succinate\"], \"y\": [0.275221376677322, 0.022412967986625783, 1.5923505042961679, 0.12514721421747882, 0.09329133485976347]}, {\"error_y\": {\"array\": [0.0008207426256023313], \"color\": \"black\", \"thickness\": 1.5, \"type\": \"data\", \"width\": 3}, \"marker\": {\"color\": \"rgb(33, 100, 175)\", \"line\": {\"color\": \"black\", \"width\": 0}}, \"name\": \"Base Media\", \"showlegend\": false, \"type\": \"bar\", \"width\": 0.09, \"x\": [\"Biomass\"], \"y\": [0.03161699367071356], \"yaxis\": \"y2\"}, {\"error_y\": {\"array\": [0.005313476845669118, 0.0024469080773927188, 0.018648506491726478, 0.002688797770429953, 0.0024197526378583554], \"color\": \"black\", \"thickness\": 1.5, \"type\": \"data\", \"width\": 3}, \"marker\": {\"color\": \"rgb(217, 72, 42)\", \"line\": {\"color\": \"rgb(54, 146, 68)\", \"width\": 0}}, \"name\": \"Cysteine\", \"type\": \"bar\", \"width\": 0.09, \"x\": [\"Acetate\", \"Formate\", \"Lactate\", \"Pyruvate\", \"Succinate\"], \"y\": [0.24674949981871264, 0.014594525105797939, 1.5214714500637478, 0.1313040315356757, 0.09533189077724803]}, {\"error_y\": {\"array\": [0.0003367932232857885], \"color\": \"black\", \"thickness\": 1.5, \"type\": \"data\", \"width\": 3}, \"marker\": {\"color\": \"rgb(217, 72, 42)\", \"line\": {\"color\": \"black\", \"width\": 0}}, \"name\": \"Cysteine\", \"showlegend\": false, \"type\": \"bar\", \"width\": 0.09, \"x\": [\"Biomass\"], \"y\": [0.029779041340904294], \"yaxis\": \"y2\"}, {\"error_y\": {\"array\": [0.036261523252300795, 0.010678820375525328, 0.06086841336395123, 0.00411164031793612, 0.00494031160626303], \"color\": \"black\", \"thickness\": 1.5, \"type\": \"data\", \"width\": 3}, \"marker\": {\"color\": \"rgb(146, 54, 132)\", \"line\": {\"color\": \"rgb(54, 146, 68)\", \"width\": 0}}, \"name\": \"DTT\", \"type\": \"bar\", \"width\": 0.09, \"x\": [\"Acetate\", \"Formate\", \"Lactate\", \"Pyruvate\", \"Succinate\"], \"y\": [0.27700718863122903, 0.11770560779623518, 1.427144132048489, 0.10281534325355415, 0.09269010498503456]}, {\"error_y\": {\"array\": [0.000987988053190126], \"color\": \"black\", \"thickness\": 1.5, \"type\": \"data\", \"width\": 3}, \"marker\": {\"color\": \"rgb(146, 54, 132)\", \"line\": {\"color\": \"black\", \"width\": 0}}, \"name\": \"DTT\", \"showlegend\": false, \"type\": \"bar\", \"width\": 0.09, \"x\": [\"Biomass\"], \"y\": [0.028704798372621763], \"yaxis\": \"y2\"}, {\"error_y\": {\"array\": [0.003488584418897361, null, 0.013909383283647308, 0.0027081062687398885, 0.0006889470450465567], \"color\": \"black\", \"thickness\": 1.5, \"type\": \"data\", \"width\": 3}, \"marker\": {\"color\": \"rgb(175, 127, 91)\", \"line\": {\"color\": \"rgb(54, 146, 68)\", \"width\": 0}}, \"name\": \"Sulfide\", \"type\": \"bar\", \"width\": 0.09, \"x\": [\"Acetate\", \"Formate\", \"Lactate\", \"Pyruvate\", \"Succinate\"], \"y\": [0.20032857966766204, 0.0, 1.4544415112384457, 0.20167288335942132, 0.09896981965181266]}, {\"error_y\": {\"array\": [9.335613969013708e-05], \"color\": \"black\", \"thickness\": 1.5, \"type\": \"data\", \"width\": 3}, \"marker\": {\"color\": \"rgb(175, 127, 91)\", \"line\": {\"color\": \"black\", \"width\": 0}}, \"name\": \"Sulfide\", \"showlegend\": false, \"type\": \"bar\", \"width\": 0.09, \"x\": [\"Biomass\"], \"y\": [0.032464103382259094], \"yaxis\": \"y2\"}, {\"error_y\": {\"array\": [0.012807885850615267, 0.006128765044419871, 0.02758032737169717, 0.009247958838539563, 0.0015932058818240934], \"color\": \"black\", \"thickness\": 1.5, \"type\": \"data\", \"width\": 3}, \"marker\": {\"color\": \"rgb(166.0, 193, 223)\", \"line\": {\"color\": \"rgb(54, 146, 68)\", \"width\": 0}}, \"name\": \"pH 8\", \"type\": \"bar\", \"width\": 0.09, \"x\": [\"Acetate\", \"Formate\", \"Lactate\", \"Pyruvate\", \"Succinate\"], \"y\": [0.20839201794219764, 0.030343403491005318, 1.4255416540286292, 0.19598343226824916, 0.1379734360356074]}, {\"error_y\": {\"array\": [0.0007620505604631799], \"color\": \"black\", \"thickness\": 1.5, \"type\": \"data\", \"width\": 3}, \"marker\": {\"color\": \"rgb(166.0, 193, 223)\", \"line\": {\"color\": \"black\", \"width\": 0}}, \"name\": \"pH 8\", \"showlegend\": false, \"type\": \"bar\", \"width\": 0.09, \"x\": [\"Biomass\"], \"y\": [0.03441448627951499], \"yaxis\": \"y2\"}],                        {\"bargap\": 0.4, \"bargroupgap\": 0.1, \"height\": 400, \"legend\": {\"font\": {\"color\": \"black\", \"family\": \"Myriad Pro\", \"size\": 14}, \"orientation\": \"h\", \"x\": 0.1, \"y\": -0.2}, \"template\": {\"data\": {\"scatter\": [{\"type\": \"scatter\"}]}}, \"width\": 925, \"xaxis\": {\"linecolor\": \"black\", \"linewidth\": 1, \"mirror\": true, \"nticks\": 8, \"showgrid\": false, \"showline\": true, \"side\": \"bottom\", \"tickangle\": 0, \"tickcolor\": \"black\", \"tickfont\": {\"color\": \"black\", \"family\": \"Myriad Pro\", \"size\": 16}, \"ticklen\": 4, \"ticks\": \"outside\", \"title\": {\"font\": {\"color\": \"black\", \"family\": \"Myriad Pro\", \"size\": 18}, \"standoff\": 5, \"text\": \"Product\"}, \"zeroline\": false}, \"yaxis\": {\"linecolor\": \"black\", \"linewidth\": 1, \"mirror\": true, \"range\": [0, 1.8], \"showgrid\": true, \"showline\": true, \"side\": \"left\", \"tickangle\": 0, \"tickcolor\": \"black\", \"tickfont\": {\"color\": \"black\", \"family\": \"Myriad Pro\", \"size\": 16}, \"ticklen\": 4, \"ticks\": \"outside\", \"title\": {\"font\": {\"color\": \"black\", \"family\": \"Myriad Pro\", \"size\": 18}, \"text\": \"Product Yield<br>(mmol Product/mmol Glucose)\"}, \"zeroline\": false}, \"yaxis2\": {\"anchor\": \"x\", \"linecolor\": \"black\", \"linewidth\": 1, \"mirror\": true, \"overlaying\": \"y\", \"range\": [0, 0.18], \"showgrid\": true, \"showline\": true, \"side\": \"right\", \"tickangle\": 0, \"tickcolor\": \"black\", \"tickfont\": {\"color\": \"black\", \"family\": \"Myriad Pro\", \"size\": 16}, \"ticklen\": 4, \"ticks\": \"outside\", \"title\": {\"font\": {\"color\": \"black\", \"family\": \"Myriad Pro\", \"size\": 18}, \"text\": \"Biomass Yield<br>(g Biomass/g Glucose)\"}, \"zeroline\": false}},                        {\"responsive\": true}                    ).then(function(){\n",
       "                            \n",
       "var gd = document.getElementById('d963cb0b-5982-49c5-9ad1-71b83a8b452a');\n",
       "var x = new MutationObserver(function (mutations, observer) {{\n",
       "        var display = window.getComputedStyle(gd).display;\n",
       "        if (!display || display === 'none') {{\n",
       "            console.log([gd, 'removed!']);\n",
       "            Plotly.purge(gd);\n",
       "            observer.disconnect();\n",
       "        }}\n",
       "}});\n",
       "\n",
       "// Listen for the removal of the full notebook cells\n",
       "var notebookContainer = gd.closest('#notebook-container');\n",
       "if (notebookContainer) {{\n",
       "    x.observe(notebookContainer, {childList: true});\n",
       "}}\n",
       "\n",
       "// Listen for the clearing of the current output cell\n",
       "var outputEl = gd.closest('.output');\n",
       "if (outputEl) {{\n",
       "    x.observe(outputEl, {childList: true});\n",
       "}}\n",
       "\n",
       "                        })                };                });            </script>        </div>"
      ]
     },
     "metadata": {},
     "output_type": "display_data"
    },
    {
     "name": "stdout",
     "output_type": "stream",
     "text": [
      "Δ(adh,pta)-D28\n"
     ]
    },
    {
     "data": {
      "application/vnd.plotly.v1+json": {
       "config": {
        "linkText": "Export to plot.ly",
        "plotlyServerURL": "https://plot.ly",
        "showLink": false
       },
       "data": [
        {
         "marker": {
          "color": "rgb(54, 146, 68)",
          "line": {
           "color": "rgb(54, 146, 68)",
           "width": 0
          }
         },
         "name": "Bioreactor",
         "type": "bar",
         "x": [
          "Acetate",
          "Formate",
          "Lactate",
          "Pyruvate",
          "Succinate"
         ],
         "y": [
          0.04076278880994951,
          0.06546136816937519,
          1.5859815062058398,
          0.08388433316203511,
          0.06384610484559348
         ]
        },
        {
         "marker": {
          "color": "rgb(54, 146, 68)",
          "line": {
           "color": "black",
           "width": 0
          }
         },
         "name": "Bioreactor",
         "showlegend": false,
         "type": "bar",
         "x": [
          "Biomass"
         ],
         "y": [
          0.028287320116113887
         ],
         "yaxis": "y2"
        },
        {
         "error_y": {
          "array": [
           0.008024955834064167,
           0.0039237742692455205,
           0.03729837315288451,
           0.0039124662368706115,
           0.00342098217701379
          ],
          "color": "black",
          "thickness": 1.5,
          "type": "data",
          "width": 3
         },
         "marker": {
          "color": "rgb(33, 100, 175)",
          "line": {
           "color": "rgb(54, 146, 68)",
           "width": 0
          }
         },
         "name": "Base Media",
         "type": "bar",
         "width": 0.09,
         "x": [
          "Acetate",
          "Formate",
          "Lactate",
          "Pyruvate",
          "Succinate"
         ],
         "y": [
          0.2771423380627602,
          0.020853330798262047,
          1.566131713730808,
          0.10516833321696906,
          0.10193349488146007
         ]
        },
        {
         "error_y": {
          "array": [
           0.0008316319433293861
          ],
          "color": "black",
          "thickness": 1.5,
          "type": "data",
          "width": 3
         },
         "marker": {
          "color": "rgb(33, 100, 175)",
          "line": {
           "color": "black",
           "width": 0
          }
         },
         "name": "Base Media",
         "showlegend": false,
         "type": "bar",
         "width": 0.09,
         "x": [
          "Biomass"
         ],
         "y": [
          0.03191792098477373
         ],
         "yaxis": "y2"
        },
        {
         "error_y": {
          "array": [
           0.005978913594842329,
           null,
           0.01857742355445236,
           0.0048877100823915606,
           0.0021189779522014676
          ],
          "color": "black",
          "thickness": 1.5,
          "type": "data",
          "width": 3
         },
         "marker": {
          "color": "rgb(217, 72, 42)",
          "line": {
           "color": "rgb(54, 146, 68)",
           "width": 0
          }
         },
         "name": "Cysteine",
         "type": "bar",
         "width": 0.09,
         "x": [
          "Acetate",
          "Formate",
          "Lactate",
          "Pyruvate",
          "Succinate"
         ],
         "y": [
          0.2647080596297636,
          0,
          1.4781947560291475,
          0.11815315590057869,
          0.0915097263917733
         ]
        },
        {
         "error_y": {
          "array": [
           0.0003396066476931859
          ],
          "color": "black",
          "thickness": 1.5,
          "type": "data",
          "width": 3
         },
         "marker": {
          "color": "rgb(217, 72, 42)",
          "line": {
           "color": "black",
           "width": 0
          }
         },
         "name": "Cysteine",
         "showlegend": false,
         "type": "bar",
         "width": 0.09,
         "x": [
          "Biomass"
         ],
         "y": [
          0.029913186444119874
         ],
         "yaxis": "y2"
        },
        {
         "error_y": {
          "array": [
           0.0165698004990357,
           0.006942970320546832,
           0.05064525222083051,
           0.006184672164126385,
           0.0037820765418408704
          ],
          "color": "black",
          "thickness": 1.5,
          "type": "data",
          "width": 3
         },
         "marker": {
          "color": "rgb(146, 54, 132)",
          "line": {
           "color": "rgb(54, 146, 68)",
           "width": 0
          }
         },
         "name": "DTT",
         "type": "bar",
         "width": 0.09,
         "x": [
          "Acetate",
          "Formate",
          "Lactate",
          "Pyruvate",
          "Succinate"
         ],
         "y": [
          0.23603290442989908,
          0.08303167305573993,
          1.3709549541821717,
          0.08922614707380594,
          0.10291101170133923
         ]
        },
        {
         "error_y": {
          "array": [
           0.000987701447861045
          ],
          "color": "black",
          "thickness": 1.5,
          "type": "data",
          "width": 3
         },
         "marker": {
          "color": "rgb(146, 54, 132)",
          "line": {
           "color": "black",
           "width": 0
          }
         },
         "name": "DTT",
         "showlegend": false,
         "type": "bar",
         "width": 0.09,
         "x": [
          "Biomass"
         ],
         "y": [
          0.02827904750508556
         ],
         "yaxis": "y2"
        },
        {
         "error_y": {
          "array": [
           0.007305819743774548,
           null,
           0.039490621786053656,
           0.004551683771307908,
           0.002698737019032858
          ],
          "color": "black",
          "thickness": 1.5,
          "type": "data",
          "width": 3
         },
         "marker": {
          "color": "rgb(175, 127, 91)",
          "line": {
           "color": "rgb(54, 146, 68)",
           "width": 0
          }
         },
         "name": "Sulfide",
         "type": "bar",
         "width": 0.09,
         "x": [
          "Acetate",
          "Formate",
          "Lactate",
          "Pyruvate",
          "Succinate"
         ],
         "y": [
          0.24895257264308082,
          0,
          1.387332966742483,
          0.2171125349666061,
          0.1099545452986241
         ]
        },
        {
         "error_y": {
          "array": [
           0.0007469654927328297
          ],
          "color": "black",
          "thickness": 1.5,
          "type": "data",
          "width": 3
         },
         "marker": {
          "color": "rgb(175, 127, 91)",
          "line": {
           "color": "black",
           "width": 0
          }
         },
         "name": "Sulfide",
         "showlegend": false,
         "type": "bar",
         "width": 0.09,
         "x": [
          "Biomass"
         ],
         "y": [
          0.03308970165922144
         ],
         "yaxis": "y2"
        },
        {
         "error_y": {
          "array": [
           0.005422844103376041,
           0.0019786505201268706,
           0.042772735311573946,
           0.008645102702994366,
           0.0058367985312364435
          ],
          "color": "black",
          "thickness": 1.5,
          "type": "data",
          "width": 3
         },
         "marker": {
          "color": "rgb(166.0, 193, 223)",
          "line": {
           "color": "rgb(54, 146, 68)",
           "width": 0
          }
         },
         "name": "pH 8",
         "type": "bar",
         "width": 0.09,
         "x": [
          "Acetate",
          "Formate",
          "Lactate",
          "Pyruvate",
          "Succinate"
         ],
         "y": [
          0.2304488475885379,
          0.031354140984569664,
          1.364171134773246,
          0.21249054375134047,
          0.14346167236553198
         ]
        },
        {
         "error_y": {
          "array": [
           0.0003725081069502339
          ],
          "color": "black",
          "thickness": 1.5,
          "type": "data",
          "width": 3
         },
         "marker": {
          "color": "rgb(166.0, 193, 223)",
          "line": {
           "color": "black",
           "width": 0
          }
         },
         "name": "pH 8",
         "showlegend": false,
         "type": "bar",
         "width": 0.09,
         "x": [
          "Biomass"
         ],
         "y": [
          0.03447910019144862
         ],
         "yaxis": "y2"
        }
       ],
       "layout": {
        "bargap": 0.4,
        "bargroupgap": 0.1,
        "height": 400,
        "legend": {
         "font": {
          "color": "black",
          "family": "Myriad Pro",
          "size": 14
         },
         "orientation": "h",
         "x": 0.1,
         "y": -0.2
        },
        "template": {
         "data": {
          "scatter": [
           {
            "type": "scatter"
           }
          ]
         }
        },
        "width": 925,
        "xaxis": {
         "linecolor": "black",
         "linewidth": 1,
         "mirror": true,
         "nticks": 8,
         "showgrid": false,
         "showline": true,
         "side": "bottom",
         "tickangle": 0,
         "tickcolor": "black",
         "tickfont": {
          "color": "black",
          "family": "Myriad Pro",
          "size": 16
         },
         "ticklen": 4,
         "ticks": "outside",
         "title": {
          "font": {
           "color": "black",
           "family": "Myriad Pro",
           "size": 18
          },
          "standoff": 5,
          "text": "Product"
         },
         "zeroline": false
        },
        "yaxis": {
         "linecolor": "black",
         "linewidth": 1,
         "mirror": true,
         "range": [
          0,
          1.8
         ],
         "showgrid": true,
         "showline": true,
         "side": "left",
         "tickangle": 0,
         "tickcolor": "black",
         "tickfont": {
          "color": "black",
          "family": "Myriad Pro",
          "size": 16
         },
         "ticklen": 4,
         "ticks": "outside",
         "title": {
          "font": {
           "color": "black",
           "family": "Myriad Pro",
           "size": 18
          },
          "text": "Product Yield<br>(mmol Product/mmol Glucose)"
         },
         "zeroline": false
        },
        "yaxis2": {
         "anchor": "x",
         "linecolor": "black",
         "linewidth": 1,
         "mirror": true,
         "overlaying": "y",
         "range": [
          0,
          0.18
         ],
         "showgrid": true,
         "showline": true,
         "side": "right",
         "tickangle": 0,
         "tickcolor": "black",
         "tickfont": {
          "color": "black",
          "family": "Myriad Pro",
          "size": 16
         },
         "ticklen": 4,
         "ticks": "outside",
         "title": {
          "font": {
           "color": "black",
           "family": "Myriad Pro",
           "size": 18
          },
          "text": "Biomass Yield<br>(g Biomass/g Glucose)"
         },
         "zeroline": false
        }
       }
      },
      "text/html": [
       "<div>                            <div id=\"9c9f4bfe-931b-4a02-845a-482736084d12\" class=\"plotly-graph-div\" style=\"height:400px; width:925px;\"></div>            <script type=\"text/javascript\">                require([\"plotly\"], function(Plotly) {                    window.PLOTLYENV=window.PLOTLYENV || {};                                    if (document.getElementById(\"9c9f4bfe-931b-4a02-845a-482736084d12\")) {                    Plotly.newPlot(                        \"9c9f4bfe-931b-4a02-845a-482736084d12\",                        [{\"marker\": {\"color\": \"rgb(54, 146, 68)\", \"line\": {\"color\": \"rgb(54, 146, 68)\", \"width\": 0}}, \"name\": \"Bioreactor\", \"type\": \"bar\", \"x\": [\"Acetate\", \"Formate\", \"Lactate\", \"Pyruvate\", \"Succinate\"], \"y\": [0.04076278880994951, 0.06546136816937519, 1.5859815062058398, 0.08388433316203511, 0.06384610484559348]}, {\"marker\": {\"color\": \"rgb(54, 146, 68)\", \"line\": {\"color\": \"black\", \"width\": 0}}, \"name\": \"Bioreactor\", \"showlegend\": false, \"type\": \"bar\", \"x\": [\"Biomass\"], \"y\": [0.028287320116113887], \"yaxis\": \"y2\"}, {\"error_y\": {\"array\": [0.008024955834064167, 0.0039237742692455205, 0.03729837315288451, 0.0039124662368706115, 0.00342098217701379], \"color\": \"black\", \"thickness\": 1.5, \"type\": \"data\", \"width\": 3}, \"marker\": {\"color\": \"rgb(33, 100, 175)\", \"line\": {\"color\": \"rgb(54, 146, 68)\", \"width\": 0}}, \"name\": \"Base Media\", \"type\": \"bar\", \"width\": 0.09, \"x\": [\"Acetate\", \"Formate\", \"Lactate\", \"Pyruvate\", \"Succinate\"], \"y\": [0.2771423380627602, 0.020853330798262047, 1.566131713730808, 0.10516833321696906, 0.10193349488146007]}, {\"error_y\": {\"array\": [0.0008316319433293861], \"color\": \"black\", \"thickness\": 1.5, \"type\": \"data\", \"width\": 3}, \"marker\": {\"color\": \"rgb(33, 100, 175)\", \"line\": {\"color\": \"black\", \"width\": 0}}, \"name\": \"Base Media\", \"showlegend\": false, \"type\": \"bar\", \"width\": 0.09, \"x\": [\"Biomass\"], \"y\": [0.03191792098477373], \"yaxis\": \"y2\"}, {\"error_y\": {\"array\": [0.005978913594842329, null, 0.01857742355445236, 0.0048877100823915606, 0.0021189779522014676], \"color\": \"black\", \"thickness\": 1.5, \"type\": \"data\", \"width\": 3}, \"marker\": {\"color\": \"rgb(217, 72, 42)\", \"line\": {\"color\": \"rgb(54, 146, 68)\", \"width\": 0}}, \"name\": \"Cysteine\", \"type\": \"bar\", \"width\": 0.09, \"x\": [\"Acetate\", \"Formate\", \"Lactate\", \"Pyruvate\", \"Succinate\"], \"y\": [0.2647080596297636, 0.0, 1.4781947560291475, 0.11815315590057869, 0.0915097263917733]}, {\"error_y\": {\"array\": [0.0003396066476931859], \"color\": \"black\", \"thickness\": 1.5, \"type\": \"data\", \"width\": 3}, \"marker\": {\"color\": \"rgb(217, 72, 42)\", \"line\": {\"color\": \"black\", \"width\": 0}}, \"name\": \"Cysteine\", \"showlegend\": false, \"type\": \"bar\", \"width\": 0.09, \"x\": [\"Biomass\"], \"y\": [0.029913186444119874], \"yaxis\": \"y2\"}, {\"error_y\": {\"array\": [0.0165698004990357, 0.006942970320546832, 0.05064525222083051, 0.006184672164126385, 0.0037820765418408704], \"color\": \"black\", \"thickness\": 1.5, \"type\": \"data\", \"width\": 3}, \"marker\": {\"color\": \"rgb(146, 54, 132)\", \"line\": {\"color\": \"rgb(54, 146, 68)\", \"width\": 0}}, \"name\": \"DTT\", \"type\": \"bar\", \"width\": 0.09, \"x\": [\"Acetate\", \"Formate\", \"Lactate\", \"Pyruvate\", \"Succinate\"], \"y\": [0.23603290442989908, 0.08303167305573993, 1.3709549541821717, 0.08922614707380594, 0.10291101170133923]}, {\"error_y\": {\"array\": [0.000987701447861045], \"color\": \"black\", \"thickness\": 1.5, \"type\": \"data\", \"width\": 3}, \"marker\": {\"color\": \"rgb(146, 54, 132)\", \"line\": {\"color\": \"black\", \"width\": 0}}, \"name\": \"DTT\", \"showlegend\": false, \"type\": \"bar\", \"width\": 0.09, \"x\": [\"Biomass\"], \"y\": [0.02827904750508556], \"yaxis\": \"y2\"}, {\"error_y\": {\"array\": [0.007305819743774548, null, 0.039490621786053656, 0.004551683771307908, 0.002698737019032858], \"color\": \"black\", \"thickness\": 1.5, \"type\": \"data\", \"width\": 3}, \"marker\": {\"color\": \"rgb(175, 127, 91)\", \"line\": {\"color\": \"rgb(54, 146, 68)\", \"width\": 0}}, \"name\": \"Sulfide\", \"type\": \"bar\", \"width\": 0.09, \"x\": [\"Acetate\", \"Formate\", \"Lactate\", \"Pyruvate\", \"Succinate\"], \"y\": [0.24895257264308082, 0.0, 1.387332966742483, 0.2171125349666061, 0.1099545452986241]}, {\"error_y\": {\"array\": [0.0007469654927328297], \"color\": \"black\", \"thickness\": 1.5, \"type\": \"data\", \"width\": 3}, \"marker\": {\"color\": \"rgb(175, 127, 91)\", \"line\": {\"color\": \"black\", \"width\": 0}}, \"name\": \"Sulfide\", \"showlegend\": false, \"type\": \"bar\", \"width\": 0.09, \"x\": [\"Biomass\"], \"y\": [0.03308970165922144], \"yaxis\": \"y2\"}, {\"error_y\": {\"array\": [0.005422844103376041, 0.0019786505201268706, 0.042772735311573946, 0.008645102702994366, 0.0058367985312364435], \"color\": \"black\", \"thickness\": 1.5, \"type\": \"data\", \"width\": 3}, \"marker\": {\"color\": \"rgb(166.0, 193, 223)\", \"line\": {\"color\": \"rgb(54, 146, 68)\", \"width\": 0}}, \"name\": \"pH 8\", \"type\": \"bar\", \"width\": 0.09, \"x\": [\"Acetate\", \"Formate\", \"Lactate\", \"Pyruvate\", \"Succinate\"], \"y\": [0.2304488475885379, 0.031354140984569664, 1.364171134773246, 0.21249054375134047, 0.14346167236553198]}, {\"error_y\": {\"array\": [0.0003725081069502339], \"color\": \"black\", \"thickness\": 1.5, \"type\": \"data\", \"width\": 3}, \"marker\": {\"color\": \"rgb(166.0, 193, 223)\", \"line\": {\"color\": \"black\", \"width\": 0}}, \"name\": \"pH 8\", \"showlegend\": false, \"type\": \"bar\", \"width\": 0.09, \"x\": [\"Biomass\"], \"y\": [0.03447910019144862], \"yaxis\": \"y2\"}],                        {\"bargap\": 0.4, \"bargroupgap\": 0.1, \"height\": 400, \"legend\": {\"font\": {\"color\": \"black\", \"family\": \"Myriad Pro\", \"size\": 14}, \"orientation\": \"h\", \"x\": 0.1, \"y\": -0.2}, \"template\": {\"data\": {\"scatter\": [{\"type\": \"scatter\"}]}}, \"width\": 925, \"xaxis\": {\"linecolor\": \"black\", \"linewidth\": 1, \"mirror\": true, \"nticks\": 8, \"showgrid\": false, \"showline\": true, \"side\": \"bottom\", \"tickangle\": 0, \"tickcolor\": \"black\", \"tickfont\": {\"color\": \"black\", \"family\": \"Myriad Pro\", \"size\": 16}, \"ticklen\": 4, \"ticks\": \"outside\", \"title\": {\"font\": {\"color\": \"black\", \"family\": \"Myriad Pro\", \"size\": 18}, \"standoff\": 5, \"text\": \"Product\"}, \"zeroline\": false}, \"yaxis\": {\"linecolor\": \"black\", \"linewidth\": 1, \"mirror\": true, \"range\": [0, 1.8], \"showgrid\": true, \"showline\": true, \"side\": \"left\", \"tickangle\": 0, \"tickcolor\": \"black\", \"tickfont\": {\"color\": \"black\", \"family\": \"Myriad Pro\", \"size\": 16}, \"ticklen\": 4, \"ticks\": \"outside\", \"title\": {\"font\": {\"color\": \"black\", \"family\": \"Myriad Pro\", \"size\": 18}, \"text\": \"Product Yield<br>(mmol Product/mmol Glucose)\"}, \"zeroline\": false}, \"yaxis2\": {\"anchor\": \"x\", \"linecolor\": \"black\", \"linewidth\": 1, \"mirror\": true, \"overlaying\": \"y\", \"range\": [0, 0.18], \"showgrid\": true, \"showline\": true, \"side\": \"right\", \"tickangle\": 0, \"tickcolor\": \"black\", \"tickfont\": {\"color\": \"black\", \"family\": \"Myriad Pro\", \"size\": 16}, \"ticklen\": 4, \"ticks\": \"outside\", \"title\": {\"font\": {\"color\": \"black\", \"family\": \"Myriad Pro\", \"size\": 18}, \"text\": \"Biomass Yield<br>(g Biomass/g Glucose)\"}, \"zeroline\": false}},                        {\"responsive\": true}                    ).then(function(){\n",
       "                            \n",
       "var gd = document.getElementById('9c9f4bfe-931b-4a02-845a-482736084d12');\n",
       "var x = new MutationObserver(function (mutations, observer) {{\n",
       "        var display = window.getComputedStyle(gd).display;\n",
       "        if (!display || display === 'none') {{\n",
       "            console.log([gd, 'removed!']);\n",
       "            Plotly.purge(gd);\n",
       "            observer.disconnect();\n",
       "        }}\n",
       "}});\n",
       "\n",
       "// Listen for the removal of the full notebook cells\n",
       "var notebookContainer = gd.closest('#notebook-container');\n",
       "if (notebookContainer) {{\n",
       "    x.observe(notebookContainer, {childList: true});\n",
       "}}\n",
       "\n",
       "// Listen for the clearing of the current output cell\n",
       "var outputEl = gd.closest('.output');\n",
       "if (outputEl) {{\n",
       "    x.observe(outputEl, {childList: true});\n",
       "}}\n",
       "\n",
       "                        })                };                });            </script>        </div>"
      ]
     },
     "metadata": {},
     "output_type": "display_data"
    },
    {
     "name": "stdout",
     "output_type": "stream",
     "text": [
      "Δ(adh,pta)-D59\n"
     ]
    },
    {
     "data": {
      "application/vnd.plotly.v1+json": {
       "config": {
        "linkText": "Export to plot.ly",
        "plotlyServerURL": "https://plot.ly",
        "showLink": false
       },
       "data": [
        {
         "marker": {
          "color": "rgb(54, 146, 68)",
          "line": {
           "color": "rgb(54, 146, 68)",
           "width": 0
          }
         },
         "name": "Bioreactor",
         "type": "bar",
         "x": [
          "Acetate",
          "Formate",
          "Lactate",
          "Pyruvate",
          "Succinate"
         ],
         "y": [
          0.037518394104790194,
          0.06117061103732149,
          1.6465656989667692,
          0.05467648476575785,
          0.09459001292832869
         ]
        },
        {
         "marker": {
          "color": "rgb(54, 146, 68)",
          "line": {
           "color": "black",
           "width": 0
          }
         },
         "name": "Bioreactor",
         "showlegend": false,
         "type": "bar",
         "x": [
          "Biomass"
         ],
         "y": [
          0.028843086354111286
         ],
         "yaxis": "y2"
        },
        {
         "error_y": {
          "array": [
           0.010055577812201993,
           null,
           0.04606934418749512,
           0.0019307535223053113,
           0.0035589842786864123
          ],
          "color": "black",
          "thickness": 1.5,
          "type": "data",
          "width": 3
         },
         "marker": {
          "color": "rgb(33, 100, 175)",
          "line": {
           "color": "rgb(54, 146, 68)",
           "width": 0
          }
         },
         "name": "Base Media",
         "type": "bar",
         "width": 0.09,
         "x": [
          "Acetate",
          "Formate",
          "Lactate",
          "Pyruvate",
          "Succinate"
         ],
         "y": [
          0.21015816507702686,
          0,
          1.5919590967835229,
          0.06755704622899643,
          0.14273311965349317
         ]
        },
        {
         "error_y": {
          "array": [
           0.0008427951545922474
          ],
          "color": "black",
          "thickness": 1.5,
          "type": "data",
          "width": 3
         },
         "marker": {
          "color": "rgb(33, 100, 175)",
          "line": {
           "color": "black",
           "width": 0
          }
         },
         "name": "Base Media",
         "showlegend": false,
         "type": "bar",
         "width": 0.09,
         "x": [
          "Biomass"
         ],
         "y": [
          0.032732387302175724
         ],
         "yaxis": "y2"
        },
        {
         "error_y": {
          "array": [
           0.009760702583870472,
           null,
           0.016994294753690513,
           0.0018720965752448211,
           0.0025604268579858367
          ],
          "color": "black",
          "thickness": 1.5,
          "type": "data",
          "width": 3
         },
         "marker": {
          "color": "rgb(217, 72, 42)",
          "line": {
           "color": "rgb(54, 146, 68)",
           "width": 0
          }
         },
         "name": "Cysteine",
         "type": "bar",
         "width": 0.09,
         "x": [
          "Acetate",
          "Formate",
          "Lactate",
          "Pyruvate",
          "Succinate"
         ],
         "y": [
          0.1960826917538325,
          0,
          1.5194021301032175,
          0.07910459113073719,
          0.12326278126010948
         ]
        },
        {
         "error_y": {
          "array": [
           0.00042972426465365016
          ],
          "color": "black",
          "thickness": 1.5,
          "type": "data",
          "width": 3
         },
         "marker": {
          "color": "rgb(217, 72, 42)",
          "line": {
           "color": "black",
           "width": 0
          }
         },
         "name": "Cysteine",
         "showlegend": false,
         "type": "bar",
         "width": 0.09,
         "x": [
          "Biomass"
         ],
         "y": [
          0.030709660790577426
         ],
         "yaxis": "y2"
        },
        {
         "error_y": {
          "array": [
           0.023638667395630295,
           0.004702548865372605,
           0.04688253495824056,
           0.002196542335406809,
           0.006310663077481303
          ],
          "color": "black",
          "thickness": 1.5,
          "type": "data",
          "width": 3
         },
         "marker": {
          "color": "rgb(146, 54, 132)",
          "line": {
           "color": "rgb(54, 146, 68)",
           "width": 0
          }
         },
         "name": "DTT",
         "type": "bar",
         "width": 0.09,
         "x": [
          "Acetate",
          "Formate",
          "Lactate",
          "Pyruvate",
          "Succinate"
         ],
         "y": [
          0.22465764876602312,
          0.06388009352494996,
          1.3667779139118097,
          0.06495477299328627,
          0.15154574042590657
         ]
        },
        {
         "error_y": {
          "array": [
           0.0010108885744386804
          ],
          "color": "black",
          "thickness": 1.5,
          "type": "data",
          "width": 3
         },
         "marker": {
          "color": "rgb(146, 54, 132)",
          "line": {
           "color": "black",
           "width": 0
          }
         },
         "name": "DTT",
         "showlegend": false,
         "type": "bar",
         "width": 0.09,
         "x": [
          "Biomass"
         ],
         "y": [
          0.029250448725619244
         ],
         "yaxis": "y2"
        },
        {
         "error_y": {
          "array": [
           0.008074293874891692,
           null,
           0.006885645018838057,
           0.005867890399837248,
           0.0013461923468785118
          ],
          "color": "black",
          "thickness": 1.5,
          "type": "data",
          "width": 3
         },
         "marker": {
          "color": "rgb(175, 127, 91)",
          "line": {
           "color": "rgb(54, 146, 68)",
           "width": 0
          }
         },
         "name": "Sulfide",
         "type": "bar",
         "width": 0.09,
         "x": [
          "Acetate",
          "Formate",
          "Lactate",
          "Pyruvate",
          "Succinate"
         ],
         "y": [
          0.12581884068213964,
          0,
          1.5726867773957682,
          0.06284257341612874,
          0.16221658523734186
         ]
        },
        {
         "error_y": {
          "array": [
           0.00012935525328464212
          ],
          "color": "black",
          "thickness": 1.5,
          "type": "data",
          "width": 3
         },
         "marker": {
          "color": "rgb(175, 127, 91)",
          "line": {
           "color": "black",
           "width": 0
          }
         },
         "name": "Sulfide",
         "showlegend": false,
         "type": "bar",
         "width": 0.09,
         "x": [
          "Biomass"
         ],
         "y": [
          0.03407606094447989
         ],
         "yaxis": "y2"
        },
        {
         "error_y": {
          "array": [
           0.00724312601589376,
           0.0020453013277240096,
           0.01996570911960256,
           0.002976501381050286,
           0.0011353516674997017
          ],
          "color": "black",
          "thickness": 1.5,
          "type": "data",
          "width": 3
         },
         "marker": {
          "color": "rgb(166.0, 193, 223)",
          "line": {
           "color": "rgb(54, 146, 68)",
           "width": 0
          }
         },
         "name": "pH 8",
         "type": "bar",
         "width": 0.09,
         "x": [
          "Acetate",
          "Formate",
          "Lactate",
          "Pyruvate",
          "Succinate"
         ],
         "y": [
          0.12547813202265223,
          0.03151373111513245,
          1.5862117384829826,
          0.024645117444255377,
          0.21220080077446693
         ]
        },
        {
         "error_y": {
          "array": [
           0.0002907456085082324
          ],
          "color": "black",
          "thickness": 1.5,
          "type": "data",
          "width": 3
         },
         "marker": {
          "color": "rgb(166.0, 193, 223)",
          "line": {
           "color": "black",
           "width": 0
          }
         },
         "name": "pH 8",
         "showlegend": false,
         "type": "bar",
         "width": 0.09,
         "x": [
          "Biomass"
         ],
         "y": [
          0.03525366943203573
         ],
         "yaxis": "y2"
        }
       ],
       "layout": {
        "bargap": 0.4,
        "bargroupgap": 0.1,
        "height": 400,
        "legend": {
         "font": {
          "color": "black",
          "family": "Myriad Pro",
          "size": 14
         },
         "orientation": "h",
         "x": 0.1,
         "y": -0.2
        },
        "template": {
         "data": {
          "scatter": [
           {
            "type": "scatter"
           }
          ]
         }
        },
        "width": 925,
        "xaxis": {
         "linecolor": "black",
         "linewidth": 1,
         "mirror": true,
         "nticks": 8,
         "showgrid": false,
         "showline": true,
         "side": "bottom",
         "tickangle": 0,
         "tickcolor": "black",
         "tickfont": {
          "color": "black",
          "family": "Myriad Pro",
          "size": 16
         },
         "ticklen": 4,
         "ticks": "outside",
         "title": {
          "font": {
           "color": "black",
           "family": "Myriad Pro",
           "size": 18
          },
          "standoff": 5,
          "text": "Product"
         },
         "zeroline": false
        },
        "yaxis": {
         "linecolor": "black",
         "linewidth": 1,
         "mirror": true,
         "range": [
          0,
          1.8
         ],
         "showgrid": true,
         "showline": true,
         "side": "left",
         "tickangle": 0,
         "tickcolor": "black",
         "tickfont": {
          "color": "black",
          "family": "Myriad Pro",
          "size": 16
         },
         "ticklen": 4,
         "ticks": "outside",
         "title": {
          "font": {
           "color": "black",
           "family": "Myriad Pro",
           "size": 18
          },
          "text": "Product Yield<br>(mmol Product/mmol Glucose)"
         },
         "zeroline": false
        },
        "yaxis2": {
         "anchor": "x",
         "linecolor": "black",
         "linewidth": 1,
         "mirror": true,
         "overlaying": "y",
         "range": [
          0,
          0.18
         ],
         "showgrid": true,
         "showline": true,
         "side": "right",
         "tickangle": 0,
         "tickcolor": "black",
         "tickfont": {
          "color": "black",
          "family": "Myriad Pro",
          "size": 16
         },
         "ticklen": 4,
         "ticks": "outside",
         "title": {
          "font": {
           "color": "black",
           "family": "Myriad Pro",
           "size": 18
          },
          "text": "Biomass Yield<br>(g Biomass/g Glucose)"
         },
         "zeroline": false
        }
       }
      },
      "text/html": [
       "<div>                            <div id=\"f946bc59-7a4b-4808-95cc-da2b07a3cf53\" class=\"plotly-graph-div\" style=\"height:400px; width:925px;\"></div>            <script type=\"text/javascript\">                require([\"plotly\"], function(Plotly) {                    window.PLOTLYENV=window.PLOTLYENV || {};                                    if (document.getElementById(\"f946bc59-7a4b-4808-95cc-da2b07a3cf53\")) {                    Plotly.newPlot(                        \"f946bc59-7a4b-4808-95cc-da2b07a3cf53\",                        [{\"marker\": {\"color\": \"rgb(54, 146, 68)\", \"line\": {\"color\": \"rgb(54, 146, 68)\", \"width\": 0}}, \"name\": \"Bioreactor\", \"type\": \"bar\", \"x\": [\"Acetate\", \"Formate\", \"Lactate\", \"Pyruvate\", \"Succinate\"], \"y\": [0.037518394104790194, 0.06117061103732149, 1.6465656989667692, 0.05467648476575785, 0.09459001292832869]}, {\"marker\": {\"color\": \"rgb(54, 146, 68)\", \"line\": {\"color\": \"black\", \"width\": 0}}, \"name\": \"Bioreactor\", \"showlegend\": false, \"type\": \"bar\", \"x\": [\"Biomass\"], \"y\": [0.028843086354111286], \"yaxis\": \"y2\"}, {\"error_y\": {\"array\": [0.010055577812201993, null, 0.04606934418749512, 0.0019307535223053113, 0.0035589842786864123], \"color\": \"black\", \"thickness\": 1.5, \"type\": \"data\", \"width\": 3}, \"marker\": {\"color\": \"rgb(33, 100, 175)\", \"line\": {\"color\": \"rgb(54, 146, 68)\", \"width\": 0}}, \"name\": \"Base Media\", \"type\": \"bar\", \"width\": 0.09, \"x\": [\"Acetate\", \"Formate\", \"Lactate\", \"Pyruvate\", \"Succinate\"], \"y\": [0.21015816507702686, 0.0, 1.5919590967835229, 0.06755704622899643, 0.14273311965349317]}, {\"error_y\": {\"array\": [0.0008427951545922474], \"color\": \"black\", \"thickness\": 1.5, \"type\": \"data\", \"width\": 3}, \"marker\": {\"color\": \"rgb(33, 100, 175)\", \"line\": {\"color\": \"black\", \"width\": 0}}, \"name\": \"Base Media\", \"showlegend\": false, \"type\": \"bar\", \"width\": 0.09, \"x\": [\"Biomass\"], \"y\": [0.032732387302175724], \"yaxis\": \"y2\"}, {\"error_y\": {\"array\": [0.009760702583870472, null, 0.016994294753690513, 0.0018720965752448211, 0.0025604268579858367], \"color\": \"black\", \"thickness\": 1.5, \"type\": \"data\", \"width\": 3}, \"marker\": {\"color\": \"rgb(217, 72, 42)\", \"line\": {\"color\": \"rgb(54, 146, 68)\", \"width\": 0}}, \"name\": \"Cysteine\", \"type\": \"bar\", \"width\": 0.09, \"x\": [\"Acetate\", \"Formate\", \"Lactate\", \"Pyruvate\", \"Succinate\"], \"y\": [0.1960826917538325, 0.0, 1.5194021301032175, 0.07910459113073719, 0.12326278126010948]}, {\"error_y\": {\"array\": [0.00042972426465365016], \"color\": \"black\", \"thickness\": 1.5, \"type\": \"data\", \"width\": 3}, \"marker\": {\"color\": \"rgb(217, 72, 42)\", \"line\": {\"color\": \"black\", \"width\": 0}}, \"name\": \"Cysteine\", \"showlegend\": false, \"type\": \"bar\", \"width\": 0.09, \"x\": [\"Biomass\"], \"y\": [0.030709660790577426], \"yaxis\": \"y2\"}, {\"error_y\": {\"array\": [0.023638667395630295, 0.004702548865372605, 0.04688253495824056, 0.002196542335406809, 0.006310663077481303], \"color\": \"black\", \"thickness\": 1.5, \"type\": \"data\", \"width\": 3}, \"marker\": {\"color\": \"rgb(146, 54, 132)\", \"line\": {\"color\": \"rgb(54, 146, 68)\", \"width\": 0}}, \"name\": \"DTT\", \"type\": \"bar\", \"width\": 0.09, \"x\": [\"Acetate\", \"Formate\", \"Lactate\", \"Pyruvate\", \"Succinate\"], \"y\": [0.22465764876602312, 0.06388009352494996, 1.3667779139118097, 0.06495477299328627, 0.15154574042590657]}, {\"error_y\": {\"array\": [0.0010108885744386804], \"color\": \"black\", \"thickness\": 1.5, \"type\": \"data\", \"width\": 3}, \"marker\": {\"color\": \"rgb(146, 54, 132)\", \"line\": {\"color\": \"black\", \"width\": 0}}, \"name\": \"DTT\", \"showlegend\": false, \"type\": \"bar\", \"width\": 0.09, \"x\": [\"Biomass\"], \"y\": [0.029250448725619244], \"yaxis\": \"y2\"}, {\"error_y\": {\"array\": [0.008074293874891692, null, 0.006885645018838057, 0.005867890399837248, 0.0013461923468785118], \"color\": \"black\", \"thickness\": 1.5, \"type\": \"data\", \"width\": 3}, \"marker\": {\"color\": \"rgb(175, 127, 91)\", \"line\": {\"color\": \"rgb(54, 146, 68)\", \"width\": 0}}, \"name\": \"Sulfide\", \"type\": \"bar\", \"width\": 0.09, \"x\": [\"Acetate\", \"Formate\", \"Lactate\", \"Pyruvate\", \"Succinate\"], \"y\": [0.12581884068213964, 0.0, 1.5726867773957682, 0.06284257341612874, 0.16221658523734186]}, {\"error_y\": {\"array\": [0.00012935525328464212], \"color\": \"black\", \"thickness\": 1.5, \"type\": \"data\", \"width\": 3}, \"marker\": {\"color\": \"rgb(175, 127, 91)\", \"line\": {\"color\": \"black\", \"width\": 0}}, \"name\": \"Sulfide\", \"showlegend\": false, \"type\": \"bar\", \"width\": 0.09, \"x\": [\"Biomass\"], \"y\": [0.03407606094447989], \"yaxis\": \"y2\"}, {\"error_y\": {\"array\": [0.00724312601589376, 0.0020453013277240096, 0.01996570911960256, 0.002976501381050286, 0.0011353516674997017], \"color\": \"black\", \"thickness\": 1.5, \"type\": \"data\", \"width\": 3}, \"marker\": {\"color\": \"rgb(166.0, 193, 223)\", \"line\": {\"color\": \"rgb(54, 146, 68)\", \"width\": 0}}, \"name\": \"pH 8\", \"type\": \"bar\", \"width\": 0.09, \"x\": [\"Acetate\", \"Formate\", \"Lactate\", \"Pyruvate\", \"Succinate\"], \"y\": [0.12547813202265223, 0.03151373111513245, 1.5862117384829826, 0.024645117444255377, 0.21220080077446693]}, {\"error_y\": {\"array\": [0.0002907456085082324], \"color\": \"black\", \"thickness\": 1.5, \"type\": \"data\", \"width\": 3}, \"marker\": {\"color\": \"rgb(166.0, 193, 223)\", \"line\": {\"color\": \"black\", \"width\": 0}}, \"name\": \"pH 8\", \"showlegend\": false, \"type\": \"bar\", \"width\": 0.09, \"x\": [\"Biomass\"], \"y\": [0.03525366943203573], \"yaxis\": \"y2\"}],                        {\"bargap\": 0.4, \"bargroupgap\": 0.1, \"height\": 400, \"legend\": {\"font\": {\"color\": \"black\", \"family\": \"Myriad Pro\", \"size\": 14}, \"orientation\": \"h\", \"x\": 0.1, \"y\": -0.2}, \"template\": {\"data\": {\"scatter\": [{\"type\": \"scatter\"}]}}, \"width\": 925, \"xaxis\": {\"linecolor\": \"black\", \"linewidth\": 1, \"mirror\": true, \"nticks\": 8, \"showgrid\": false, \"showline\": true, \"side\": \"bottom\", \"tickangle\": 0, \"tickcolor\": \"black\", \"tickfont\": {\"color\": \"black\", \"family\": \"Myriad Pro\", \"size\": 16}, \"ticklen\": 4, \"ticks\": \"outside\", \"title\": {\"font\": {\"color\": \"black\", \"family\": \"Myriad Pro\", \"size\": 18}, \"standoff\": 5, \"text\": \"Product\"}, \"zeroline\": false}, \"yaxis\": {\"linecolor\": \"black\", \"linewidth\": 1, \"mirror\": true, \"range\": [0, 1.8], \"showgrid\": true, \"showline\": true, \"side\": \"left\", \"tickangle\": 0, \"tickcolor\": \"black\", \"tickfont\": {\"color\": \"black\", \"family\": \"Myriad Pro\", \"size\": 16}, \"ticklen\": 4, \"ticks\": \"outside\", \"title\": {\"font\": {\"color\": \"black\", \"family\": \"Myriad Pro\", \"size\": 18}, \"text\": \"Product Yield<br>(mmol Product/mmol Glucose)\"}, \"zeroline\": false}, \"yaxis2\": {\"anchor\": \"x\", \"linecolor\": \"black\", \"linewidth\": 1, \"mirror\": true, \"overlaying\": \"y\", \"range\": [0, 0.18], \"showgrid\": true, \"showline\": true, \"side\": \"right\", \"tickangle\": 0, \"tickcolor\": \"black\", \"tickfont\": {\"color\": \"black\", \"family\": \"Myriad Pro\", \"size\": 16}, \"ticklen\": 4, \"ticks\": \"outside\", \"title\": {\"font\": {\"color\": \"black\", \"family\": \"Myriad Pro\", \"size\": 18}, \"text\": \"Biomass Yield<br>(g Biomass/g Glucose)\"}, \"zeroline\": false}},                        {\"responsive\": true}                    ).then(function(){\n",
       "                            \n",
       "var gd = document.getElementById('f946bc59-7a4b-4808-95cc-da2b07a3cf53');\n",
       "var x = new MutationObserver(function (mutations, observer) {{\n",
       "        var display = window.getComputedStyle(gd).display;\n",
       "        if (!display || display === 'none') {{\n",
       "            console.log([gd, 'removed!']);\n",
       "            Plotly.purge(gd);\n",
       "            observer.disconnect();\n",
       "        }}\n",
       "}});\n",
       "\n",
       "// Listen for the removal of the full notebook cells\n",
       "var notebookContainer = gd.closest('#notebook-container');\n",
       "if (notebookContainer) {{\n",
       "    x.observe(notebookContainer, {childList: true});\n",
       "}}\n",
       "\n",
       "// Listen for the clearing of the current output cell\n",
       "var outputEl = gd.closest('.output');\n",
       "if (outputEl) {{\n",
       "    x.observe(outputEl, {childList: true});\n",
       "}}\n",
       "\n",
       "                        })                };                });            </script>        </div>"
      ]
     },
     "metadata": {},
     "output_type": "display_data"
    }
   ],
   "source": [
    "strain_list = ['WT','Δ(adh,pta)-D1', 'Δ(adh,pta)-D28', 'Δ(adh,pta)-D59']\n",
    "analyte_list = ['Acetate', 'Formate', 'Lactate', 'Pyruvate', 'Succinate', 'Biomass']\n",
    "condition_list = ['RDM + 7.0 a.u. pH', 'RDM + 1.0 mM Cysteine', 'RDM + 1.0 mM DTT', 'RDM + 8.0 mM Na2S', 'RDM + 8.0 a.u. pH']\n",
    "condition_titles = ['Base Media', 'Cysteine', 'DTT', 'Sulfide', 'pH 8']\n",
    "\n",
    "colors = ['rgb(33, 100, 175)',\n",
    "          'rgb(217, 72, 42)',\n",
    "          'rgb(146, 54, 132)',\n",
    "          'rgb(175, 127, 91)',\n",
    "         'rgb(166.0, 193, 223)']\n",
    "\n",
    "od_timepoint = 8\n",
    "hplc_timepoint = 8\n",
    "\n",
    "ranges= [(0,2), (0,0.04)]\n",
    "\n",
    "for strain in strain_list:\n",
    "    print(strain)\n",
    "    trace_list = []\n",
    "    rep = [rep for rep in reactor.replicate_trials if rep.trial_identifier.strain.name == strain][0]\n",
    "    x = [analyte for analyte in analyte_list]\n",
    "    y, yerrs = yield_calculator((rep,rep), od_timepoint=od_timepoint, hplc_timepoint=hplc_timepoint)\n",
    "    \n",
    "    trace_list.append(go.Bar(x=x[:-1],\n",
    "                     y=y[:-1],\n",
    "                     marker=dict(color='rgb(54, 146, 68)', line=dict(width=0, color='rgb(54, 146, 68)')),\n",
    "                     name='Bioreactor'))\n",
    "    \n",
    "    trace_list.append(go.Bar(x=x[-1:],\n",
    "                             y=y[-1:],\n",
    "                             marker=dict(color='rgb(54, 146, 68)', line=dict(width=0, color='black')),showlegend=False,\n",
    "                             name='Bioreactor', yaxis='y2'))\n",
    "\n",
    "    for i, condition in enumerate(condition_list):\n",
    "        od_rep = [rep for rep in red_od.replicate_trials if str(rep.trial_identifier.media)==condition_list[i] and rep.trial_identifier.strain.name==strain][0]\n",
    "        hplc_rep = [rep for rep in red_titers.replicate_trials if str(rep.trial_identifier.media)==condition_list[i] and rep.trial_identifier.strain.name==strain][0]\n",
    "        y, y_errs = yield_calculator((od_rep,hplc_rep), od_timepoint=-1, hplc_timepoint=-1)\n",
    "\n",
    "\n",
    "        trace_list.append(go.Bar(x=x[:-1],\n",
    "                                 y=y[:-1],\n",
    "                                 error_y=dict(type='data', array=y_errs[:-1], thickness=1.5, width=3, color='black'),\n",
    "                                 marker=dict(color=colors[i], line=dict(width=0, color='rgb(54, 146, 68)')), width=0.09,\n",
    "                                 name=condition_titles[i]))\n",
    "\n",
    "        trace_list.append(go.Bar(x=x[-1:],\n",
    "                         y=y[-1:],\n",
    "                         error_y=dict(type='data', array=y_errs[-1:], thickness=1.5, width=3, color='black'),\n",
    "                         marker=dict(color=colors[i], line=dict(width=0, color='black')),showlegend=False, width=0.09,\n",
    "                         yaxis='y2',\n",
    "                         name=condition_titles[i]))\n",
    "\n",
    "\n",
    "\n",
    "    layout = go.Layout(height=400, width=925, legend_x= 0.1, bargroupgap=0.1, bargap=0.4,\n",
    "                       legend_orientation='h',legend_y=-0.2, legend_font=dict(family='Myriad Pro', color='black', size=14),\n",
    "\n",
    "                       xaxis=dict(title='Product', title_standoff=5,\n",
    "                                  titlefont=dict(family='Myriad Pro', size=18, color='black'),\n",
    "                                  showline=True, linewidth=1, linecolor='black', mirror=True, side='bottom',\n",
    "                                  ticks='outside', ticklen=4, tickangle=0, nticks=8,\n",
    "                                  tickfont=dict(size=16, family='Myriad Pro', color='black'), tickcolor='black',\n",
    "                                  showgrid=False,zeroline=False),\n",
    "\n",
    "                       yaxis=dict(title='Product Yield<br>(mmol Product/mmol Glucose)',\n",
    "                                  titlefont=dict(family='Myriad Pro', size=18, color='black'),\n",
    "                                  showline=True, linewidth=1, linecolor='black', mirror=True, range=(0,1.8),\n",
    "                                  ticks='outside', ticklen=4, tickangle=0, side='left',\n",
    "                                  tickfont=dict(family='Myriad Pro',size=16, color='black'), tickcolor='black', \n",
    "                                  showgrid=True,zeroline=False),\n",
    "                       \n",
    "                      yaxis2=dict(title='Biomass Yield<br>(g Biomass/g Glucose)',\n",
    "                                  titlefont=dict(family='Myriad Pro', size=18, color='black'),\n",
    "                                  showline=True, linewidth=1, linecolor='black', mirror=True, range=(0,.18),\n",
    "                                  ticks='outside', ticklen=4, tickangle=0, side='right', anchor='x', overlaying='y', \n",
    "                                  tickfont=dict(family='Myriad Pro',size=16, color='black'), tickcolor='black', \n",
    "                                  showgrid=True,zeroline=False))\n",
    "\n",
    "    if trace_list:\n",
    "        fig = go.Figure(data=trace_list, layout=layout)\n",
    "        plot(fig)#, image='svg')\n",
    "        #pio.write_image(fig,\"Figures/si_fig_5_\"+strain+\".svg\",format='svg')\n"
   ]
  }
 ],
 "metadata": {
  "kernelspec": {
   "display_name": "Python [conda env:impact] *",
   "language": "python",
   "name": "conda-env-impact-py"
  },
  "language_info": {
   "codemirror_mode": {
    "name": "ipython",
    "version": 3
   },
   "file_extension": ".py",
   "mimetype": "text/x-python",
   "name": "python",
   "nbconvert_exporter": "python",
   "pygments_lexer": "ipython3",
   "version": "3.7.6"
  }
 },
 "nbformat": 4,
 "nbformat_minor": 5
}
